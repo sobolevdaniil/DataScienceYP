{
 "cells": [
  {
   "cell_type": "markdown",
   "metadata": {},
   "source": [
    "# Рекомендация тарифов"
   ]
  },
  {
   "cell_type": "markdown",
   "metadata": {},
   "source": [
    "В вашем распоряжении данные о поведении клиентов, которые уже перешли на эти тарифы (из проекта курса «Статистический анализ данных»). Нужно построить модель для задачи классификации, которая выберет подходящий тариф. Предобработка данных не понадобится — вы её уже сделали.\n",
    "\n",
    "Постройте модель с максимально большим значением *accuracy*. Чтобы сдать проект успешно, нужно довести долю правильных ответов по крайней мере до 0.75. Проверьте *accuracy* на тестовой выборке самостоятельно."
   ]
  },
  {
   "cell_type": "markdown",
   "metadata": {},
   "source": [
    "## Импорт необходимых библиотек"
   ]
  },
  {
   "cell_type": "code",
   "execution_count": 1,
   "metadata": {},
   "outputs": [],
   "source": [
    "import pandas as pd\n",
    "from sklearn.model_selection import train_test_split\n",
    "\n",
    "from sklearn.tree import DecisionTreeClassifier\n",
    "from sklearn.linear_model import LogisticRegression\n",
    "from sklearn.ensemble import RandomForestClassifier\n",
    "\n",
    "from sklearn.metrics import accuracy_score\n",
    "from sklearn.metrics import roc_curve, auc\n",
    "from sklearn.metrics import roc_auc_score\n",
    "\n",
    "from matplotlib import pyplot as plt\n",
    "from sklearn.dummy import DummyClassifier"
   ]
  },
  {
   "cell_type": "markdown",
   "metadata": {},
   "source": [
    "## Изучение датасета"
   ]
  },
  {
   "cell_type": "code",
   "execution_count": 2,
   "metadata": {
    "scrolled": false
   },
   "outputs": [
    {
     "data": {
      "text/html": [
       "<div>\n",
       "<style scoped>\n",
       "    .dataframe tbody tr th:only-of-type {\n",
       "        vertical-align: middle;\n",
       "    }\n",
       "\n",
       "    .dataframe tbody tr th {\n",
       "        vertical-align: top;\n",
       "    }\n",
       "\n",
       "    .dataframe thead th {\n",
       "        text-align: right;\n",
       "    }\n",
       "</style>\n",
       "<table border=\"1\" class=\"dataframe\">\n",
       "  <thead>\n",
       "    <tr style=\"text-align: right;\">\n",
       "      <th></th>\n",
       "      <th>calls</th>\n",
       "      <th>minutes</th>\n",
       "      <th>messages</th>\n",
       "      <th>mb_used</th>\n",
       "      <th>is_ultra</th>\n",
       "    </tr>\n",
       "  </thead>\n",
       "  <tbody>\n",
       "    <tr>\n",
       "      <th>975</th>\n",
       "      <td>11.0</td>\n",
       "      <td>106.75</td>\n",
       "      <td>31.0</td>\n",
       "      <td>17631.06</td>\n",
       "      <td>0</td>\n",
       "    </tr>\n",
       "    <tr>\n",
       "      <th>611</th>\n",
       "      <td>99.0</td>\n",
       "      <td>690.04</td>\n",
       "      <td>62.0</td>\n",
       "      <td>19128.75</td>\n",
       "      <td>0</td>\n",
       "    </tr>\n",
       "    <tr>\n",
       "      <th>2952</th>\n",
       "      <td>28.0</td>\n",
       "      <td>202.91</td>\n",
       "      <td>37.0</td>\n",
       "      <td>7723.30</td>\n",
       "      <td>0</td>\n",
       "    </tr>\n",
       "    <tr>\n",
       "      <th>1030</th>\n",
       "      <td>85.0</td>\n",
       "      <td>621.93</td>\n",
       "      <td>46.0</td>\n",
       "      <td>16743.65</td>\n",
       "      <td>1</td>\n",
       "    </tr>\n",
       "    <tr>\n",
       "      <th>375</th>\n",
       "      <td>81.0</td>\n",
       "      <td>533.34</td>\n",
       "      <td>0.0</td>\n",
       "      <td>8609.95</td>\n",
       "      <td>0</td>\n",
       "    </tr>\n",
       "  </tbody>\n",
       "</table>\n",
       "</div>"
      ],
      "text/plain": [
       "      calls  minutes  messages   mb_used  is_ultra\n",
       "975    11.0   106.75      31.0  17631.06         0\n",
       "611    99.0   690.04      62.0  19128.75         0\n",
       "2952   28.0   202.91      37.0   7723.30         0\n",
       "1030   85.0   621.93      46.0  16743.65         1\n",
       "375    81.0   533.34       0.0   8609.95         0"
      ]
     },
     "execution_count": 2,
     "metadata": {},
     "output_type": "execute_result"
    }
   ],
   "source": [
    "data = pd.read_csv('/Users/daniilsobolev/Desktop/ml projects/Введение в ML/users_behavior.csv')\n",
    "data.sample(5)"
   ]
  },
  {
   "cell_type": "code",
   "execution_count": 3,
   "metadata": {
    "scrolled": true
   },
   "outputs": [
    {
     "name": "stdout",
     "output_type": "stream",
     "text": [
      "<class 'pandas.core.frame.DataFrame'>\n",
      "RangeIndex: 3214 entries, 0 to 3213\n",
      "Data columns (total 5 columns):\n",
      " #   Column    Non-Null Count  Dtype  \n",
      "---  ------    --------------  -----  \n",
      " 0   calls     3214 non-null   float64\n",
      " 1   minutes   3214 non-null   float64\n",
      " 2   messages  3214 non-null   float64\n",
      " 3   mb_used   3214 non-null   float64\n",
      " 4   is_ultra  3214 non-null   int64  \n",
      "dtypes: float64(4), int64(1)\n",
      "memory usage: 125.7 KB\n"
     ]
    }
   ],
   "source": [
    "data.info()"
   ]
  },
  {
   "cell_type": "markdown",
   "metadata": {},
   "source": [
    "### Вывод"
   ]
  },
  {
   "cell_type": "markdown",
   "metadata": {},
   "source": [
    "В данных 5 колонок (5 признаков): <br>\n",
    "\n",
    "**calls minutes messages mb_used** - признаки по которым будем обучать модели;<br>\n",
    "**is_ultra** - целевой признак.<br>\n",
    "\n",
    "Целевой признак категориальный, значит решаем задачу классификации, а так как категорий всего две, значит будет идти речь о бинарной классификации.\n",
    "\n",
    "Данные без пропусков, предобрабатывать нет необходимости."
   ]
  },
  {
   "cell_type": "markdown",
   "metadata": {},
   "source": [
    "## Разбивка данных на выборки"
   ]
  },
  {
   "cell_type": "markdown",
   "metadata": {},
   "source": [
    "### Разбивка данных на обучающую, валидационную и тестовую выборки"
   ]
  },
  {
   "cell_type": "markdown",
   "metadata": {},
   "source": [
    "Обучающую выборку обучно берут в размере не менее 60% от данных, а тестовая и валидационная обычно берутся равными, поэтому разделим следующим образом:\n",
    "\n",
    "Обучающая -60% <br>\n",
    "Тестовая - 20% <br>\n",
    "Валидационная - 20% <br>"
   ]
  },
  {
   "cell_type": "code",
   "execution_count": 4,
   "metadata": {},
   "outputs": [],
   "source": [
    "data_train, data_valid = train_test_split(data, test_size=0.40, random_state=12345)\n",
    "data_valid, data_test = train_test_split(data_valid, test_size=0.50, random_state=12345)"
   ]
  },
  {
   "cell_type": "code",
   "execution_count": 5,
   "metadata": {
    "scrolled": false
   },
   "outputs": [
    {
     "name": "stdout",
     "output_type": "stream",
     "text": [
      "Размер обучающей выборки: (1928, 5)\n",
      "Размер валидационной выборки: (643, 5)\n",
      "Размер тестовой выборки: (643, 5)\n"
     ]
    }
   ],
   "source": [
    "print('Размер обучающей выборки:', data_train.shape)\n",
    "print('Размер валидационной выборки:', data_valid.shape)\n",
    "print('Размер тестовой выборки:', data_test.shape)"
   ]
  },
  {
   "cell_type": "markdown",
   "metadata": {},
   "source": [
    "### Отделяем целевой признак от остальных"
   ]
  },
  {
   "cell_type": "code",
   "execution_count": 6,
   "metadata": {},
   "outputs": [],
   "source": [
    "data_train_target = data_train['is_ultra']\n",
    "data_train_features = data_train.drop(['is_ultra'], axis=1)"
   ]
  },
  {
   "cell_type": "code",
   "execution_count": 7,
   "metadata": {},
   "outputs": [],
   "source": [
    "data_valid_target = data_valid['is_ultra']\n",
    "data_valid_features = data_valid.drop(['is_ultra'], axis=1)"
   ]
  },
  {
   "cell_type": "code",
   "execution_count": 8,
   "metadata": {},
   "outputs": [],
   "source": [
    "data_test_target = data_test['is_ultra']\n",
    "data_test_features = data_test.drop(['is_ultra'], axis=1)"
   ]
  },
  {
   "cell_type": "markdown",
   "metadata": {},
   "source": [
    "## Исследование модели"
   ]
  },
  {
   "cell_type": "markdown",
   "metadata": {},
   "source": [
    "### Классификация деревом решений"
   ]
  },
  {
   "cell_type": "code",
   "execution_count": 9,
   "metadata": {
    "scrolled": true
   },
   "outputs": [
    {
     "name": "stdout",
     "output_type": "stream",
     "text": [
      "Лучший результат: 0.7853810264385692\n",
      "Соответствует дереву с максимальной глубиной: 3\n"
     ]
    }
   ],
   "source": [
    "best_accuracy_DecisionTree = 0\n",
    "best_model_DecisionTree = None\n",
    "max_depth_best = 0\n",
    "for depth in range (1,7):\n",
    "    model = DecisionTreeClassifier(random_state=12345, max_depth=depth)\n",
    "    model.fit(data_train_features, data_train_target)\n",
    "    answers = model.predict(data_valid_features)\n",
    "    accuracy = accuracy_score(data_valid_target, answers)\n",
    "    if accuracy > best_accuracy_DecisionTree:\n",
    "        best_accuracy_DecisionTree = accuracy\n",
    "        best_model_DecisionTree = model\n",
    "        max_depth_best = depth\n",
    "        \n",
    "print('Лучший результат:', best_accuracy_DecisionTree)\n",
    "print('Соответствует дереву с максимальной глубиной:', max_depth_best)"
   ]
  },
  {
   "cell_type": "markdown",
   "metadata": {},
   "source": [
    "#### Попробуем изменить гиперпарамтры: criterion, min_samples_split, min_samples_leaf"
   ]
  },
  {
   "cell_type": "markdown",
   "metadata": {},
   "source": [
    "**criterion** - критерий разделения <br>\n",
    "**min_samples_split** - минимальное число объектов в узле дерева, достаточное для дальнейшего разделения<br>\n",
    "**min_samples_leaf** - минимальное число объектов в листьях дерева - нижних узлах с ответами<br>\n",
    "\n",
    "Максимальную глубину примем равную трём (max_depth_best)"
   ]
  },
  {
   "cell_type": "markdown",
   "metadata": {},
   "source": [
    "P.S. эти параметры упоминались в тренажере, но не пояснялись на практике"
   ]
  },
  {
   "cell_type": "code",
   "execution_count": 10,
   "metadata": {},
   "outputs": [
    {
     "name": "stdout",
     "output_type": "stream",
     "text": [
      "Модель не улучшилась изменяя параметр criterion\n"
     ]
    }
   ],
   "source": [
    "model = DecisionTreeClassifier(criterion='entropy', random_state=12345, max_depth=max_depth_best) #default - \"gini\"\n",
    "model.fit(data_train_features, data_train_target)\n",
    "answers = model.predict(data_valid_features)\n",
    "accuracy = accuracy_score(data_valid_target, answers)\n",
    "    \n",
    "if accuracy == best_accuracy_DecisionTree:\n",
    "    print('Модель не улучшилась изменяя параметр criterion')"
   ]
  },
  {
   "cell_type": "code",
   "execution_count": 11,
   "metadata": {},
   "outputs": [
    {
     "name": "stdout",
     "output_type": "stream",
     "text": [
      "Модель не улучшилась переберая параметр min_samples_split\n"
     ]
    }
   ],
   "source": [
    "min_samples_split_best = 2 #2-default\n",
    "best_model_DecisionTree_1 = None\n",
    "for min_samples_split in range (2,7):\n",
    "    model = DecisionTreeClassifier(random_state=12345, min_samples_split=min_samples_split, max_depth=max_depth_best)\n",
    "    model.fit(data_train_features, data_train_target)\n",
    "    answers = model.predict(data_valid_features)\n",
    "    accuracy = accuracy_score(data_valid_target, answers)\n",
    "    if accuracy > best_accuracy_DecisionTree:\n",
    "        best_accuracy_DecisionTree = accuracy\n",
    "        best_model_DecisionTree_1 = model\n",
    "        min_samples_split_best = min_samples_split\n",
    "        \n",
    "if min_samples_split_best == 2:\n",
    "    print('Модель не улучшилась переберая параметр min_samples_split')"
   ]
  },
  {
   "cell_type": "code",
   "execution_count": 12,
   "metadata": {},
   "outputs": [
    {
     "name": "stdout",
     "output_type": "stream",
     "text": [
      "Модель не улучшилась переберая параметр min_samples_leaf\n"
     ]
    }
   ],
   "source": [
    "min_samples_leaf_best = 1 #1-default\n",
    "for min_samples_leaf in range (1, 5):\n",
    "    model = DecisionTreeClassifier(random_state=12345, min_samples_leaf=min_samples_leaf, max_depth=max_depth_best)\n",
    "    model.fit(data_train_features, data_train_target)\n",
    "    answers = model.predict(data_valid_features)\n",
    "    accuracy = accuracy_score(data_valid_target, answers)\n",
    "    if accuracy > best_accuracy_DecisionTree:\n",
    "        best_accuracy_DecisionTree = accuracy\n",
    "        best_model_DecisionTree_1 = model\n",
    "        min_samples_leaf_best = min_samples_split\n",
    "\n",
    "if min_samples_leaf_best == 1:\n",
    "    print('Модель не улучшилась переберая параметр min_samples_leaf')"
   ]
  },
  {
   "cell_type": "markdown",
   "metadata": {},
   "source": [
    "### Классификация логистической регрессией"
   ]
  },
  {
   "cell_type": "code",
   "execution_count": 13,
   "metadata": {},
   "outputs": [
    {
     "name": "stdout",
     "output_type": "stream",
     "text": [
      "Результат: 0.7107309486780715\n"
     ]
    }
   ],
   "source": [
    "model_LogisticRegression = LogisticRegression(random_state=12345)\n",
    "model_LogisticRegression.fit(data_train_features, data_train_target)\n",
    "answers = model_LogisticRegression.predict(data_valid_features)\n",
    "accuracy = accuracy_score(data_valid_target, answers)\n",
    "\n",
    "print('Результат:', accuracy)"
   ]
  },
  {
   "cell_type": "markdown",
   "metadata": {},
   "source": [
    "### Классификация случайным лесом"
   ]
  },
  {
   "cell_type": "code",
   "execution_count": 14,
   "metadata": {
    "scrolled": true
   },
   "outputs": [
    {
     "name": "stdout",
     "output_type": "stream",
     "text": [
      "Лучший результат: 0.7822706065318819\n",
      "Соответствует параметру n_estimators равному: 8\n"
     ]
    }
   ],
   "source": [
    "best_accuracy_RandomForest = 0\n",
    "best_model_RandomForest = None\n",
    "est_best = 0\n",
    "for est in range(1,10):\n",
    "    model = RandomForestClassifier(random_state=12345, n_estimators=est)\n",
    "    model.fit(data_train_features, data_train_target)\n",
    "    answers = model.predict(data_valid_features)\n",
    "    accuracy = accuracy_score(data_valid_target, answers)\n",
    "    \n",
    "    if accuracy > best_accuracy_RandomForest:\n",
    "        best_accuracy_RandomForest = accuracy\n",
    "        best_model_RandomForest = model\n",
    "        est_best = est\n",
    "        \n",
    "print('Лучший результат:', best_accuracy_RandomForest)\n",
    "print('Соответствует параметру n_estimators равному:', est_best)"
   ]
  },
  {
   "cell_type": "markdown",
   "metadata": {},
   "source": [
    "### Вывод"
   ]
  },
  {
   "cell_type": "markdown",
   "metadata": {},
   "source": [
    "Просмотрены три способа классификации <br>\n",
    "\n",
    "Лучший результат на валидационной выборке у классификации **деревом решений**: 0.7853810264385692 (max_depth=3) <br>\n",
    "Затем у классификации **случайным лесом**: 0.7822706065318819 (n_estimators=8)  <br>\n",
    "И хуже всех справилась **логистическая регрессия**: 0.7107309486780715 <br>"
   ]
  },
  {
   "cell_type": "markdown",
   "metadata": {},
   "source": [
    "## Проверка модель на тестовой выборке"
   ]
  },
  {
   "cell_type": "code",
   "execution_count": 15,
   "metadata": {
    "scrolled": true
   },
   "outputs": [
    {
     "name": "stdout",
     "output_type": "stream",
     "text": [
      "Точность дерева решений: 0.7791601866251944\n"
     ]
    }
   ],
   "source": [
    "answers_DecisionTree = best_model_DecisionTree.predict(data_test_features)\n",
    "accuracy_DecisionTree = accuracy_score(data_test_target, answers_DecisionTree)\n",
    "\n",
    "print('Точность дерева решений:', accuracy_DecisionTree)"
   ]
  },
  {
   "cell_type": "markdown",
   "metadata": {},
   "source": [
    "### Вывод"
   ]
  },
  {
   "cell_type": "markdown",
   "metadata": {},
   "source": [
    "Модель прошла проверку на тестовой выборке, точность получилась около 78%, что нас удовлетворяет "
   ]
  },
  {
   "cell_type": "markdown",
   "metadata": {},
   "source": [
    "## (бонус) Проверка модели на адекватность"
   ]
  },
  {
   "cell_type": "code",
   "execution_count": 16,
   "metadata": {},
   "outputs": [
    {
     "name": "stdout",
     "output_type": "stream",
     "text": [
      "0.6842923794712286\n"
     ]
    }
   ],
   "source": [
    "dummy = DummyClassifier(strategy='most_frequent').fit(data_train_features, data_train_target)\n",
    "dummy_pred = dummy.predict(data_test_features)\n",
    "accuracy = accuracy_score(data_test_target, dummy_pred)\n",
    "print(accuracy)"
   ]
  },
  {
   "cell_type": "markdown",
   "metadata": {},
   "source": [
    "Не очень понял задания, к примеру, можно сказать, что если бы мы ответы заполнили рандомными данными, то точность была бы близкой к 0.5, поэтому наш результат внушает доверие.<br>\n",
    "\n",
    "Но чтобы не оставлять этот пункт пустым, рассмотрю метрику roc-auc для двоичной классификации.<br>\n",
    "\n",
    "Вычитал, что площадь под кривой ROC – хорошая метрика для оценки модели классификации\n",
    "\n",
    "\n",
    "Немного из обозначений: <br>\n",
    "True Positive Rate (TPR) показывает, какой процент среди всех positive верно предсказан моделью.<br>\n",
    "TPR = TP / (TP + FN).\n",
    "\n",
    "False Positive Rate (FPR): какой процент среди всех negative неверно предсказан моделью.<br>\n",
    "FPR = FP / (FP + TN).\n",
    "\n",
    "Кривая ROC создается определенным образом, по-сложному, поэтому описывать здесь не буду.\n",
    "\n",
    "Синяя пунктирная линия показывает кривую TPR и FPR при случайном определении positive или negative для каждого случая. Для этой диагональной линии площадь под кривой (AUC) составляет 0.5.\n",
    "\n",
    "Чем больше охватываемая область, тем лучше модели машинного обучения различают классы. То есть, чем больше площадь фигуры ограниченной оранжевой и пунктирной линиями - тем лучше модель. Только это с учетом того, что оранжевая находится сверху пунктирной."
   ]
  },
  {
   "cell_type": "code",
   "execution_count": 17,
   "metadata": {
    "scrolled": false
   },
   "outputs": [],
   "source": [
    "def plot_ROC_AUC(answers, model):\n",
    "    answers = model.predict_proba(data_test_features)\n",
    "    answers = answers[:, 1]\n",
    "    \n",
    "    lr_auc = roc_auc_score(data_test_target, answers)\n",
    "    print('LogisticRegression: ROC AUC=%.3f' % (lr_auc))\n",
    "    \n",
    "    fpr, tpr, treshold = roc_curve(data_test_target, answers)\n",
    "    roc_auc = auc(fpr, tpr)\n",
    "    \n",
    "    plt.plot(fpr, tpr, color='darkorange',\n",
    "         label='ROC кривая (area = %0.2f)' % roc_auc)\n",
    "    plt.plot([0, 1], [0, 1], color='navy', linestyle='--')\n",
    "    plt.xlim([0.0, 1.0])\n",
    "    plt.ylim([0.0, 1.05])\n",
    "    plt.xlabel('False Positive Rate')\n",
    "    plt.ylabel('True Positive Rate')\n",
    "    plt.title('ROC-кривая')\n",
    "    plt.legend(loc=\"lower right\")\n",
    "    plt.show()"
   ]
  },
  {
   "cell_type": "code",
   "execution_count": 18,
   "metadata": {},
   "outputs": [
    {
     "name": "stdout",
     "output_type": "stream",
     "text": [
      "LogisticRegression: ROC AUC=0.699\n"
     ]
    },
    {
     "data": {
      "image/png": "[encoded data removed]",
      "text/plain": [
       "<Figure size 432x288 with 1 Axes>"
      ]
     },
     "metadata": {
      "needs_background": "light"
     },
     "output_type": "display_data"
    }
   ],
   "source": [
    "plot_ROC_AUC(answers_DecisionTree, best_model_DecisionTree)"
   ]
  },
  {
   "cell_type": "code",
   "execution_count": 19,
   "metadata": {
    "scrolled": true
   },
   "outputs": [
    {
     "name": "stdout",
     "output_type": "stream",
     "text": [
      "LogisticRegression: ROC AUC=0.445\n"
     ]
    },
    {
     "data": {
      "image/png": "[encoded data removed]",
      "text/plain": [
       "<Figure size 432x288 with 1 Axes>"
      ]
     },
     "metadata": {
      "needs_background": "light"
     },
     "output_type": "display_data"
    }
   ],
   "source": [
    "answers_LogisticRegression = model_LogisticRegression.predict(data_test_features)\n",
    "\n",
    "plot_ROC_AUC(answers_LogisticRegression, model_LogisticRegression)"
   ]
  },
  {
   "cell_type": "code",
   "execution_count": 20,
   "metadata": {},
   "outputs": [
    {
     "name": "stdout",
     "output_type": "stream",
     "text": [
      "LogisticRegression: ROC AUC=0.796\n"
     ]
    },
    {
     "data": {
      "image/png": "[encoded data removed]",
      "text/plain": [
       "<Figure size 432x288 with 1 Axes>"
      ]
     },
     "metadata": {
      "needs_background": "light"
     },
     "output_type": "display_data"
    }
   ],
   "source": [
    "answers_RandomForest = best_model_RandomForest.predict(data_test_features)\n",
    "\n",
    "plot_ROC_AUC(answers_RandomForest, best_model_RandomForest)"
   ]
  }
 ],
 "metadata": {
  "ExecuteTimeLog": [
   {
    "duration": 587,
    "start_time": "2022-05-07T13:53:38.226Z"
   },
   {
    "duration": 24,
    "start_time": "2022-05-07T13:53:52.098Z"
   },
   {
    "duration": 13,
    "start_time": "2022-05-07T13:53:57.019Z"
   },
   {
    "duration": 14,
    "start_time": "2022-05-07T13:53:59.909Z"
   },
   {
    "duration": 16,
    "start_time": "2022-05-07T13:54:18.953Z"
   },
   {
    "duration": 16,
    "start_time": "2022-05-07T13:54:43.596Z"
   },
   {
    "duration": 1052,
    "start_time": "2022-05-07T13:56:37.247Z"
   },
   {
    "duration": 9,
    "start_time": "2022-05-07T14:25:33.506Z"
   },
   {
    "duration": 563,
    "start_time": "2022-05-07T14:25:42.737Z"
   },
   {
    "duration": 25,
    "start_time": "2022-05-07T14:25:43.303Z"
   },
   {
    "duration": 15,
    "start_time": "2022-05-07T14:25:43.330Z"
   },
   {
    "duration": 1371,
    "start_time": "2022-05-07T14:25:43.351Z"
   },
   {
    "duration": 16,
    "start_time": "2022-05-07T14:26:00.818Z"
   },
   {
    "duration": 16,
    "start_time": "2022-05-07T14:26:10.378Z"
   },
   {
    "duration": 8,
    "start_time": "2022-05-07T14:26:29.571Z"
   },
   {
    "duration": 6,
    "start_time": "2022-05-07T14:26:35.382Z"
   },
   {
    "duration": 5,
    "start_time": "2022-05-07T14:26:53.037Z"
   },
   {
    "duration": 526,
    "start_time": "2022-05-07T14:27:05.153Z"
   },
   {
    "duration": 27,
    "start_time": "2022-05-07T14:27:05.682Z"
   },
   {
    "duration": 18,
    "start_time": "2022-05-07T14:27:05.712Z"
   },
   {
    "duration": 1015,
    "start_time": "2022-05-07T14:27:05.732Z"
   },
   {
    "duration": 7,
    "start_time": "2022-05-07T14:27:06.749Z"
   },
   {
    "duration": 6,
    "start_time": "2022-05-07T14:28:08.516Z"
   },
   {
    "duration": 149,
    "start_time": "2022-05-07T14:30:34.897Z"
   },
   {
    "duration": 56,
    "start_time": "2022-05-07T14:31:18.008Z"
   },
   {
    "duration": 6,
    "start_time": "2022-05-07T14:35:21.216Z"
   },
   {
    "duration": 6,
    "start_time": "2022-05-07T14:35:21.575Z"
   },
   {
    "duration": 5,
    "start_time": "2022-05-07T14:35:21.930Z"
   },
   {
    "duration": 74,
    "start_time": "2022-05-07T14:41:11.449Z"
   },
   {
    "duration": 66,
    "start_time": "2022-05-07T14:41:31.580Z"
   },
   {
    "duration": 63,
    "start_time": "2022-05-07T14:41:49.186Z"
   },
   {
    "duration": 136,
    "start_time": "2022-05-07T14:41:56.423Z"
   },
   {
    "duration": 71,
    "start_time": "2022-05-07T14:42:20.348Z"
   },
   {
    "duration": 62,
    "start_time": "2022-05-07T14:42:42.581Z"
   },
   {
    "duration": 68,
    "start_time": "2022-05-07T14:42:46.966Z"
   },
   {
    "duration": 92,
    "start_time": "2022-05-07T14:43:17.080Z"
   },
   {
    "duration": 71,
    "start_time": "2022-05-07T14:43:28.306Z"
   },
   {
    "duration": 64,
    "start_time": "2022-05-07T14:44:38.276Z"
   },
   {
    "duration": 73,
    "start_time": "2022-05-07T14:44:45.108Z"
   },
   {
    "duration": 19,
    "start_time": "2022-05-07T14:45:06.076Z"
   },
   {
    "duration": 11,
    "start_time": "2022-05-07T14:45:18.477Z"
   },
   {
    "duration": 14,
    "start_time": "2022-05-07T14:45:44.949Z"
   },
   {
    "duration": 12,
    "start_time": "2022-05-07T14:45:58.263Z"
   },
   {
    "duration": 4,
    "start_time": "2022-05-07T14:46:06.419Z"
   },
   {
    "duration": 386,
    "start_time": "2022-05-07T14:46:55.594Z"
   },
   {
    "duration": 611,
    "start_time": "2022-05-07T14:47:41.453Z"
   },
   {
    "duration": 14,
    "start_time": "2022-05-07T14:48:34.966Z"
   },
   {
    "duration": 58,
    "start_time": "2022-05-07T14:50:34.377Z"
   },
   {
    "duration": 328,
    "start_time": "2022-05-07T14:50:35.833Z"
   },
   {
    "duration": 60,
    "start_time": "2022-05-07T14:51:38.870Z"
   },
   {
    "duration": 61,
    "start_time": "2022-05-07T14:52:47.870Z"
   },
   {
    "duration": 58,
    "start_time": "2022-05-07T14:52:55.365Z"
   },
   {
    "duration": 72,
    "start_time": "2022-05-07T14:53:01.608Z"
   },
   {
    "duration": 66,
    "start_time": "2022-05-07T14:53:06.865Z"
   },
   {
    "duration": 121,
    "start_time": "2022-05-07T14:53:33.503Z"
   },
   {
    "duration": 66,
    "start_time": "2022-05-07T14:53:53.507Z"
   },
   {
    "duration": 72,
    "start_time": "2022-05-07T14:54:04.717Z"
   },
   {
    "duration": 67,
    "start_time": "2022-05-07T14:54:12.399Z"
   },
   {
    "duration": 385,
    "start_time": "2022-05-07T14:54:17.248Z"
   },
   {
    "duration": 34735,
    "start_time": "2022-05-07T14:54:21.480Z"
   },
   {
    "duration": 382,
    "start_time": "2022-05-07T14:55:03.833Z"
   },
   {
    "duration": 370,
    "start_time": "2022-05-07T14:55:45.029Z"
   },
   {
    "duration": 69,
    "start_time": "2022-05-07T14:56:38.928Z"
   },
   {
    "duration": 216,
    "start_time": "2022-05-07T14:57:05.339Z"
   },
   {
    "duration": 16,
    "start_time": "2022-05-07T14:59:28.271Z"
   },
   {
    "duration": 18,
    "start_time": "2022-05-07T15:13:01.420Z"
   },
   {
    "duration": 19,
    "start_time": "2022-05-07T15:14:08.670Z"
   },
   {
    "duration": 568,
    "start_time": "2022-05-07T15:14:24.432Z"
   },
   {
    "duration": 26,
    "start_time": "2022-05-07T15:14:25.002Z"
   },
   {
    "duration": 30,
    "start_time": "2022-05-07T15:14:25.030Z"
   },
   {
    "duration": 1004,
    "start_time": "2022-05-07T15:14:25.065Z"
   },
   {
    "duration": 6,
    "start_time": "2022-05-07T15:14:26.071Z"
   },
   {
    "duration": 8,
    "start_time": "2022-05-07T15:14:26.079Z"
   },
   {
    "duration": 8,
    "start_time": "2022-05-07T15:14:26.089Z"
   },
   {
    "duration": 7,
    "start_time": "2022-05-07T15:14:26.099Z"
   },
   {
    "duration": 145,
    "start_time": "2022-05-07T15:14:26.108Z"
   },
   {
    "duration": 302,
    "start_time": "2022-05-07T15:14:26.258Z"
   },
   {
    "duration": 556,
    "start_time": "2022-05-07T15:14:26.563Z"
   },
   {
    "duration": 17,
    "start_time": "2022-05-07T15:14:27.121Z"
   },
   {
    "duration": 560,
    "start_time": "2022-05-07T15:21:32.169Z"
   },
   {
    "duration": 33,
    "start_time": "2022-05-07T15:21:32.732Z"
   },
   {
    "duration": 31,
    "start_time": "2022-05-07T15:21:32.769Z"
   },
   {
    "duration": 1246,
    "start_time": "2022-05-07T15:21:32.803Z"
   },
   {
    "duration": 8,
    "start_time": "2022-05-07T15:21:34.054Z"
   },
   {
    "duration": 23,
    "start_time": "2022-05-07T15:21:34.065Z"
   },
   {
    "duration": 6,
    "start_time": "2022-05-07T15:21:34.090Z"
   },
   {
    "duration": 9,
    "start_time": "2022-05-07T15:21:34.098Z"
   },
   {
    "duration": 148,
    "start_time": "2022-05-07T15:21:34.109Z"
   },
   {
    "duration": 496,
    "start_time": "2022-05-07T15:21:34.260Z"
   },
   {
    "duration": 503,
    "start_time": "2022-05-07T15:21:34.759Z"
   },
   {
    "duration": 22,
    "start_time": "2022-05-07T15:21:35.268Z"
   },
   {
    "duration": 116,
    "start_time": "2022-05-07T15:28:12.619Z"
   },
   {
    "duration": 25,
    "start_time": "2022-05-07T15:28:26.997Z"
   },
   {
    "duration": 38,
    "start_time": "2022-05-07T15:28:40.649Z"
   },
   {
    "duration": 33,
    "start_time": "2022-05-07T15:28:50.837Z"
   },
   {
    "duration": 671,
    "start_time": "2022-05-07T15:28:58.785Z"
   },
   {
    "duration": 38,
    "start_time": "2022-05-07T15:28:59.462Z"
   },
   {
    "duration": 22,
    "start_time": "2022-05-07T15:28:59.503Z"
   },
   {
    "duration": 1104,
    "start_time": "2022-05-07T15:28:59.529Z"
   },
   {
    "duration": 6,
    "start_time": "2022-05-07T15:29:00.636Z"
   },
   {
    "duration": 12,
    "start_time": "2022-05-07T15:29:00.652Z"
   },
   {
    "duration": 10,
    "start_time": "2022-05-07T15:29:00.670Z"
   },
   {
    "duration": 14,
    "start_time": "2022-05-07T15:29:00.683Z"
   },
   {
    "duration": 158,
    "start_time": "2022-05-07T15:29:00.700Z"
   },
   {
    "duration": 38,
    "start_time": "2022-05-07T15:29:00.866Z"
   },
   {
    "duration": 655,
    "start_time": "2022-05-07T15:29:00.907Z"
   },
   {
    "duration": 564,
    "start_time": "2022-05-07T15:29:01.566Z"
   },
   {
    "duration": 28,
    "start_time": "2022-05-07T15:29:02.133Z"
   },
   {
    "duration": 117,
    "start_time": "2022-05-07T15:31:45.684Z"
   },
   {
    "duration": 180,
    "start_time": "2022-05-07T15:31:53.722Z"
   },
   {
    "duration": 49,
    "start_time": "2022-05-07T15:32:04.872Z"
   },
   {
    "duration": 46,
    "start_time": "2022-05-07T15:32:14.866Z"
   },
   {
    "duration": 49,
    "start_time": "2022-05-07T15:32:39.572Z"
   },
   {
    "duration": 49,
    "start_time": "2022-05-07T15:33:50.498Z"
   },
   {
    "duration": 50,
    "start_time": "2022-05-07T15:34:30.691Z"
   },
   {
    "duration": 26,
    "start_time": "2022-05-07T15:34:52.366Z"
   },
   {
    "duration": 52,
    "start_time": "2022-05-07T15:34:54.840Z"
   },
   {
    "duration": 58,
    "start_time": "2022-05-07T15:35:37.224Z"
   },
   {
    "duration": 49,
    "start_time": "2022-05-07T15:35:48.694Z"
   },
   {
    "duration": 57,
    "start_time": "2022-05-07T15:35:56.019Z"
   },
   {
    "duration": 235,
    "start_time": "2022-05-07T15:36:11.315Z"
   },
   {
    "duration": 386,
    "start_time": "2022-05-07T15:36:21.029Z"
   },
   {
    "duration": 50,
    "start_time": "2022-05-07T15:36:28.234Z"
   },
   {
    "duration": 41,
    "start_time": "2022-05-07T15:36:58.078Z"
   },
   {
    "duration": 72,
    "start_time": "2022-05-07T15:37:30.515Z"
   },
   {
    "duration": 58,
    "start_time": "2022-05-07T15:37:46.428Z"
   },
   {
    "duration": 54,
    "start_time": "2022-05-07T15:37:55.920Z"
   },
   {
    "duration": 17,
    "start_time": "2022-05-07T15:38:32.894Z"
   },
   {
    "duration": 17,
    "start_time": "2022-05-07T15:39:01.416Z"
   },
   {
    "duration": 17,
    "start_time": "2022-05-07T15:39:08.217Z"
   },
   {
    "duration": 50,
    "start_time": "2022-05-07T15:39:08.672Z"
   },
   {
    "duration": 38,
    "start_time": "2022-05-07T15:39:09.100Z"
   },
   {
    "duration": 94,
    "start_time": "2022-05-07T15:39:35.712Z"
   },
   {
    "duration": 572,
    "start_time": "2022-05-07T15:48:42.133Z"
   },
   {
    "duration": 34,
    "start_time": "2022-05-07T15:48:42.709Z"
   },
   {
    "duration": 26,
    "start_time": "2022-05-07T15:48:42.746Z"
   },
   {
    "duration": 1236,
    "start_time": "2022-05-07T15:48:42.774Z"
   },
   {
    "duration": 6,
    "start_time": "2022-05-07T15:48:44.014Z"
   },
   {
    "duration": 10,
    "start_time": "2022-05-07T15:48:44.022Z"
   },
   {
    "duration": 19,
    "start_time": "2022-05-07T15:48:44.034Z"
   },
   {
    "duration": 17,
    "start_time": "2022-05-07T15:48:44.058Z"
   },
   {
    "duration": 124,
    "start_time": "2022-05-07T15:48:44.078Z"
   },
   {
    "duration": 19,
    "start_time": "2022-05-07T15:48:44.205Z"
   },
   {
    "duration": 71,
    "start_time": "2022-05-07T15:48:44.227Z"
   },
   {
    "duration": 65,
    "start_time": "2022-05-07T15:48:44.301Z"
   },
   {
    "duration": 297,
    "start_time": "2022-05-07T15:48:44.369Z"
   },
   {
    "duration": 599,
    "start_time": "2022-05-07T15:48:44.671Z"
   },
   {
    "duration": 16,
    "start_time": "2022-05-07T15:48:45.273Z"
   },
   {
    "duration": 16,
    "start_time": "2022-05-07T15:50:23.168Z"
   },
   {
    "duration": 187,
    "start_time": "2022-05-07T15:56:42.510Z"
   },
   {
    "duration": 4,
    "start_time": "2022-05-07T16:01:12.906Z"
   },
   {
    "duration": 781,
    "start_time": "2022-05-07T16:03:58.673Z"
   },
   {
    "duration": 267,
    "start_time": "2022-05-07T16:04:36.390Z"
   },
   {
    "duration": 225,
    "start_time": "2022-05-07T16:11:34.727Z"
   },
   {
    "duration": 218,
    "start_time": "2022-05-07T16:23:07.769Z"
   },
   {
    "duration": 211,
    "start_time": "2022-05-07T16:23:22.755Z"
   },
   {
    "duration": 31,
    "start_time": "2022-05-07T16:23:58.628Z"
   },
   {
    "duration": 253,
    "start_time": "2022-05-07T16:24:06.742Z"
   },
   {
    "duration": 571,
    "start_time": "2022-05-07T16:26:29.272Z"
   },
   {
    "duration": 30,
    "start_time": "2022-05-07T16:26:29.846Z"
   },
   {
    "duration": 16,
    "start_time": "2022-05-07T16:26:29.879Z"
   },
   {
    "duration": 1082,
    "start_time": "2022-05-07T16:26:29.898Z"
   },
   {
    "duration": 5,
    "start_time": "2022-05-07T16:26:30.984Z"
   },
   {
    "duration": 44,
    "start_time": "2022-05-07T16:26:30.991Z"
   },
   {
    "duration": 16,
    "start_time": "2022-05-07T16:26:31.038Z"
   },
   {
    "duration": 26,
    "start_time": "2022-05-07T16:26:31.057Z"
   },
   {
    "duration": 174,
    "start_time": "2022-05-07T16:26:31.086Z"
   },
   {
    "duration": 18,
    "start_time": "2022-05-07T16:26:31.263Z"
   },
   {
    "duration": 83,
    "start_time": "2022-05-07T16:26:31.283Z"
   },
   {
    "duration": 45,
    "start_time": "2022-05-07T16:26:31.369Z"
   },
   {
    "duration": 954,
    "start_time": "2022-05-07T16:26:31.416Z"
   },
   {
    "duration": 503,
    "start_time": "2022-05-07T16:26:32.379Z"
   },
   {
    "duration": 19,
    "start_time": "2022-05-07T16:26:32.885Z"
   },
   {
    "duration": 661,
    "start_time": "2022-05-07T16:26:32.907Z"
   },
   {
    "duration": 354,
    "start_time": "2022-05-07T16:26:33.571Z"
   },
   {
    "duration": 357,
    "start_time": "2022-05-07T16:26:33.928Z"
   },
   {
    "duration": 9,
    "start_time": "2022-05-07T16:31:22.393Z"
   },
   {
    "duration": 210,
    "start_time": "2022-05-07T16:31:48.697Z"
   },
   {
    "duration": 8,
    "start_time": "2022-05-07T16:31:59.849Z"
   },
   {
    "duration": 283,
    "start_time": "2022-05-07T16:32:30.064Z"
   },
   {
    "duration": 217,
    "start_time": "2022-05-07T16:32:45.508Z"
   },
   {
    "duration": 559,
    "start_time": "2022-05-07T16:35:42.052Z"
   },
   {
    "duration": 32,
    "start_time": "2022-05-07T16:35:42.613Z"
   },
   {
    "duration": 18,
    "start_time": "2022-05-07T16:35:42.648Z"
   },
   {
    "duration": 1250,
    "start_time": "2022-05-07T16:35:42.669Z"
   },
   {
    "duration": 7,
    "start_time": "2022-05-07T16:35:43.924Z"
   },
   {
    "duration": 19,
    "start_time": "2022-05-07T16:35:43.933Z"
   },
   {
    "duration": 10,
    "start_time": "2022-05-07T16:35:43.954Z"
   },
   {
    "duration": 8,
    "start_time": "2022-05-07T16:35:43.967Z"
   },
   {
    "duration": 178,
    "start_time": "2022-05-07T16:35:43.978Z"
   },
   {
    "duration": 20,
    "start_time": "2022-05-07T16:35:44.158Z"
   },
   {
    "duration": 97,
    "start_time": "2022-05-07T16:35:44.181Z"
   },
   {
    "duration": 49,
    "start_time": "2022-05-07T16:35:44.281Z"
   },
   {
    "duration": 526,
    "start_time": "2022-05-07T16:35:44.332Z"
   },
   {
    "duration": 488,
    "start_time": "2022-05-07T16:35:44.867Z"
   },
   {
    "duration": 19,
    "start_time": "2022-05-07T16:35:45.357Z"
   },
   {
    "duration": 391,
    "start_time": "2022-05-07T16:35:45.379Z"
   },
   {
    "duration": 355,
    "start_time": "2022-05-07T16:35:45.773Z"
   },
   {
    "duration": 293,
    "start_time": "2022-05-07T16:35:46.130Z"
   },
   {
    "duration": 226,
    "start_time": "2022-05-07T16:35:46.426Z"
   },
   {
    "duration": 1514,
    "start_time": "2022-05-08T05:51:53.363Z"
   },
   {
    "duration": 95,
    "start_time": "2022-05-08T05:56:48.072Z"
   },
   {
    "duration": 1370,
    "start_time": "2022-05-08T05:56:54.538Z"
   },
   {
    "duration": 38,
    "start_time": "2022-05-08T05:56:55.910Z"
   },
   {
    "duration": 10,
    "start_time": "2022-05-08T05:56:55.949Z"
   },
   {
    "duration": 8,
    "start_time": "2022-05-08T05:56:55.961Z"
   },
   {
    "duration": 5,
    "start_time": "2022-05-08T05:56:55.970Z"
   },
   {
    "duration": 6,
    "start_time": "2022-05-08T05:56:55.976Z"
   },
   {
    "duration": 6,
    "start_time": "2022-05-08T05:56:55.983Z"
   },
   {
    "duration": 8,
    "start_time": "2022-05-08T05:56:55.990Z"
   },
   {
    "duration": 36,
    "start_time": "2022-05-08T05:56:55.999Z"
   },
   {
    "duration": 9,
    "start_time": "2022-05-08T05:56:56.037Z"
   },
   {
    "duration": 26,
    "start_time": "2022-05-08T05:56:56.047Z"
   },
   {
    "duration": 34,
    "start_time": "2022-05-08T05:56:56.074Z"
   },
   {
    "duration": 18,
    "start_time": "2022-05-08T05:56:56.110Z"
   },
   {
    "duration": 200,
    "start_time": "2022-05-08T05:56:56.130Z"
   },
   {
    "duration": 11,
    "start_time": "2022-05-08T05:56:56.331Z"
   },
   {
    "duration": 5,
    "start_time": "2022-05-08T05:56:56.343Z"
   },
   {
    "duration": 139,
    "start_time": "2022-05-08T05:56:56.349Z"
   },
   {
    "duration": 118,
    "start_time": "2022-05-08T05:56:56.489Z"
   },
   {
    "duration": 113,
    "start_time": "2022-05-08T05:56:56.608Z"
   },
   {
    "duration": 1457,
    "start_time": "2022-05-08T05:57:41.119Z"
   },
   {
    "duration": 28,
    "start_time": "2022-05-08T05:57:42.577Z"
   },
   {
    "duration": 10,
    "start_time": "2022-05-08T05:57:42.606Z"
   },
   {
    "duration": 7,
    "start_time": "2022-05-08T05:57:42.618Z"
   },
   {
    "duration": 4,
    "start_time": "2022-05-08T05:57:42.627Z"
   },
   {
    "duration": 4,
    "start_time": "2022-05-08T05:57:42.632Z"
   },
   {
    "duration": 5,
    "start_time": "2022-05-08T05:57:42.638Z"
   },
   {
    "duration": 6,
    "start_time": "2022-05-08T05:57:42.644Z"
   },
   {
    "duration": 59,
    "start_time": "2022-05-08T05:57:42.652Z"
   },
   {
    "duration": 10,
    "start_time": "2022-05-08T05:57:42.713Z"
   },
   {
    "duration": 29,
    "start_time": "2022-05-08T05:57:42.724Z"
   },
   {
    "duration": 45,
    "start_time": "2022-05-08T05:57:42.755Z"
   },
   {
    "duration": 17,
    "start_time": "2022-05-08T05:57:42.802Z"
   },
   {
    "duration": 230,
    "start_time": "2022-05-08T05:57:42.820Z"
   },
   {
    "duration": 10,
    "start_time": "2022-05-08T05:57:43.052Z"
   },
   {
    "duration": 5,
    "start_time": "2022-05-08T05:57:43.063Z"
   },
   {
    "duration": 135,
    "start_time": "2022-05-08T05:57:43.069Z"
   },
   {
    "duration": 116,
    "start_time": "2022-05-08T05:57:43.206Z"
   },
   {
    "duration": 119,
    "start_time": "2022-05-08T05:57:43.323Z"
   },
   {
    "duration": 5,
    "start_time": "2022-05-08T05:58:05.348Z"
   },
   {
    "duration": 1455,
    "start_time": "2022-05-08T05:58:10.969Z"
   },
   {
    "duration": 36,
    "start_time": "2022-05-08T05:58:12.426Z"
   },
   {
    "duration": 10,
    "start_time": "2022-05-08T05:58:12.464Z"
   },
   {
    "duration": 5,
    "start_time": "2022-05-08T05:58:12.476Z"
   },
   {
    "duration": 5,
    "start_time": "2022-05-08T05:58:12.483Z"
   },
   {
    "duration": 4,
    "start_time": "2022-05-08T05:58:12.500Z"
   },
   {
    "duration": 7,
    "start_time": "2022-05-08T05:58:12.506Z"
   },
   {
    "duration": 5,
    "start_time": "2022-05-08T05:58:12.515Z"
   },
   {
    "duration": 37,
    "start_time": "2022-05-08T05:58:12.521Z"
   },
   {
    "duration": 9,
    "start_time": "2022-05-08T05:58:12.561Z"
   },
   {
    "duration": 52,
    "start_time": "2022-05-08T05:58:12.571Z"
   },
   {
    "duration": 23,
    "start_time": "2022-05-08T05:58:12.625Z"
   },
   {
    "duration": 157,
    "start_time": "2022-05-08T05:58:12.649Z"
   },
   {
    "duration": 319,
    "start_time": "2022-05-08T05:58:12.808Z"
   },
   {
    "duration": 12,
    "start_time": "2022-05-08T05:58:13.129Z"
   },
   {
    "duration": 8,
    "start_time": "2022-05-08T05:58:13.142Z"
   },
   {
    "duration": 133,
    "start_time": "2022-05-08T05:58:13.151Z"
   },
   {
    "duration": 117,
    "start_time": "2022-05-08T05:58:13.285Z"
   },
   {
    "duration": 121,
    "start_time": "2022-05-08T05:58:13.403Z"
   },
   {
    "duration": 6,
    "start_time": "2022-05-08T05:58:46.380Z"
   },
   {
    "duration": 1385,
    "start_time": "2022-05-08T05:58:52.841Z"
   },
   {
    "duration": 28,
    "start_time": "2022-05-08T05:58:54.227Z"
   },
   {
    "duration": 11,
    "start_time": "2022-05-08T05:58:54.256Z"
   },
   {
    "duration": 5,
    "start_time": "2022-05-08T05:58:54.268Z"
   },
   {
    "duration": 5,
    "start_time": "2022-05-08T05:58:54.275Z"
   },
   {
    "duration": 8,
    "start_time": "2022-05-08T05:58:54.281Z"
   },
   {
    "duration": 10,
    "start_time": "2022-05-08T05:58:54.290Z"
   },
   {
    "duration": 7,
    "start_time": "2022-05-08T05:58:54.301Z"
   },
   {
    "duration": 34,
    "start_time": "2022-05-08T05:58:54.310Z"
   },
   {
    "duration": 9,
    "start_time": "2022-05-08T05:58:54.346Z"
   },
   {
    "duration": 48,
    "start_time": "2022-05-08T05:58:54.356Z"
   },
   {
    "duration": 23,
    "start_time": "2022-05-08T05:58:54.405Z"
   },
   {
    "duration": 19,
    "start_time": "2022-05-08T05:58:54.430Z"
   },
   {
    "duration": 216,
    "start_time": "2022-05-08T05:58:54.451Z"
   },
   {
    "duration": 12,
    "start_time": "2022-05-08T05:58:54.669Z"
   },
   {
    "duration": 5,
    "start_time": "2022-05-08T05:58:54.699Z"
   },
   {
    "duration": 134,
    "start_time": "2022-05-08T05:58:54.705Z"
   },
   {
    "duration": 115,
    "start_time": "2022-05-08T05:58:54.840Z"
   },
   {
    "duration": 112,
    "start_time": "2022-05-08T05:58:54.956Z"
   },
   {
    "duration": 7,
    "start_time": "2022-05-08T06:11:18.667Z"
   },
   {
    "duration": 2674,
    "start_time": "2022-05-08T06:14:43.590Z"
   },
   {
    "duration": 9,
    "start_time": "2022-05-08T06:14:48.002Z"
   },
   {
    "duration": 4,
    "start_time": "2022-05-08T06:14:50.800Z"
   },
   {
    "duration": 9,
    "start_time": "2022-05-08T06:14:56.127Z"
   },
   {
    "duration": 8,
    "start_time": "2022-05-08T06:14:58.363Z"
   },
   {
    "duration": 12,
    "start_time": "2022-05-08T06:15:03.000Z"
   },
   {
    "duration": 5,
    "start_time": "2022-05-08T06:15:47.556Z"
   },
   {
    "duration": 10,
    "start_time": "2022-05-08T06:16:16.964Z"
   },
   {
    "duration": 5,
    "start_time": "2022-05-08T06:16:19.070Z"
   },
   {
    "duration": 6,
    "start_time": "2022-05-08T06:16:24.752Z"
   },
   {
    "duration": 4,
    "start_time": "2022-05-08T06:17:31.566Z"
   },
   {
    "duration": 9,
    "start_time": "2022-05-08T06:21:45.668Z"
   },
   {
    "duration": 4,
    "start_time": "2022-05-08T06:21:52.795Z"
   },
   {
    "duration": 5,
    "start_time": "2022-05-08T06:22:28.637Z"
   },
   {
    "duration": 5,
    "start_time": "2022-05-08T06:22:34.867Z"
   },
   {
    "duration": 5,
    "start_time": "2022-05-08T06:22:40.821Z"
   },
   {
    "duration": 1458,
    "start_time": "2022-05-08T06:26:49.263Z"
   },
   {
    "duration": 39,
    "start_time": "2022-05-08T06:26:50.723Z"
   },
   {
    "duration": 10,
    "start_time": "2022-05-08T06:26:50.764Z"
   },
   {
    "duration": 11,
    "start_time": "2022-05-08T06:26:50.776Z"
   },
   {
    "duration": 5,
    "start_time": "2022-05-08T06:26:50.789Z"
   },
   {
    "duration": 5,
    "start_time": "2022-05-08T06:26:50.795Z"
   },
   {
    "duration": 6,
    "start_time": "2022-05-08T06:26:50.801Z"
   },
   {
    "duration": 8,
    "start_time": "2022-05-08T06:26:50.808Z"
   },
   {
    "duration": 37,
    "start_time": "2022-05-08T06:26:50.817Z"
   },
   {
    "duration": 9,
    "start_time": "2022-05-08T06:26:50.857Z"
   },
   {
    "duration": 38,
    "start_time": "2022-05-08T06:26:50.867Z"
   },
   {
    "duration": 21,
    "start_time": "2022-05-08T06:26:50.907Z"
   },
   {
    "duration": 20,
    "start_time": "2022-05-08T06:26:50.929Z"
   },
   {
    "duration": 220,
    "start_time": "2022-05-08T06:26:50.951Z"
   },
   {
    "duration": 7,
    "start_time": "2022-05-08T06:26:51.172Z"
   },
   {
    "duration": 21,
    "start_time": "2022-05-08T06:26:51.180Z"
   },
   {
    "duration": 4,
    "start_time": "2022-05-08T06:26:51.202Z"
   },
   {
    "duration": 128,
    "start_time": "2022-05-08T06:26:51.207Z"
   },
   {
    "duration": 101,
    "start_time": "2022-05-08T06:26:51.336Z"
   },
   {
    "duration": 0,
    "start_time": "2022-05-08T06:26:51.438Z"
   },
   {
    "duration": 9,
    "start_time": "2022-05-08T06:27:56.698Z"
   },
   {
    "duration": 118,
    "start_time": "2022-05-08T06:28:02.588Z"
   },
   {
    "duration": 9,
    "start_time": "2022-05-08T06:28:05.879Z"
   },
   {
    "duration": 121,
    "start_time": "2022-05-08T06:28:55.985Z"
   },
   {
    "duration": 1578,
    "start_time": "2022-05-08T06:29:05.857Z"
   },
   {
    "duration": 28,
    "start_time": "2022-05-08T06:29:07.437Z"
   },
   {
    "duration": 10,
    "start_time": "2022-05-08T06:29:07.467Z"
   },
   {
    "duration": 8,
    "start_time": "2022-05-08T06:29:07.479Z"
   },
   {
    "duration": 13,
    "start_time": "2022-05-08T06:29:07.488Z"
   },
   {
    "duration": 4,
    "start_time": "2022-05-08T06:29:07.502Z"
   },
   {
    "duration": 6,
    "start_time": "2022-05-08T06:29:07.507Z"
   },
   {
    "duration": 5,
    "start_time": "2022-05-08T06:29:07.514Z"
   },
   {
    "duration": 36,
    "start_time": "2022-05-08T06:29:07.521Z"
   },
   {
    "duration": 10,
    "start_time": "2022-05-08T06:29:07.560Z"
   },
   {
    "duration": 29,
    "start_time": "2022-05-08T06:29:07.600Z"
   },
   {
    "duration": 25,
    "start_time": "2022-05-08T06:29:07.630Z"
   },
   {
    "duration": 45,
    "start_time": "2022-05-08T06:29:07.656Z"
   },
   {
    "duration": 283,
    "start_time": "2022-05-08T06:29:07.703Z"
   },
   {
    "duration": 12,
    "start_time": "2022-05-08T06:29:07.989Z"
   },
   {
    "duration": 7,
    "start_time": "2022-05-08T06:29:08.004Z"
   },
   {
    "duration": 9,
    "start_time": "2022-05-08T06:29:08.013Z"
   },
   {
    "duration": 250,
    "start_time": "2022-05-08T06:29:08.024Z"
   },
   {
    "duration": 224,
    "start_time": "2022-05-08T06:29:08.276Z"
   },
   {
    "duration": 222,
    "start_time": "2022-05-08T06:29:08.503Z"
   }
  ],
  "kernelspec": {
   "display_name": "Python 3 (ipykernel)",
   "language": "python",
   "name": "python3"
  },
  "language_info": {
   "codemirror_mode": {
    "name": "ipython",
    "version": 3
   },
   "file_extension": ".py",
   "mimetype": "text/x-python",
   "name": "python",
   "nbconvert_exporter": "python",
   "pygments_lexer": "ipython3",
   "version": "3.9.7"
  },
  "toc": {
   "base_numbering": 1,
   "nav_menu": {},
   "number_sections": true,
   "sideBar": true,
   "skip_h1_title": true,
   "title_cell": "Table of Contents",
   "title_sidebar": "Contents",
   "toc_cell": false,
   "toc_position": {
    "height": "calc(100% - 180px)",
    "left": "10px",
    "top": "150px",
    "width": "366.396px"
   },
   "toc_section_display": true,
   "toc_window_display": true
  }
 },
 "nbformat": 4,
 "nbformat_minor": 2
}
