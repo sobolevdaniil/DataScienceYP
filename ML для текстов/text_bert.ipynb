{
 "cells": [
  {
   "cell_type": "markdown",
   "metadata": {
    "toc": true
   },
   "source": [
    "<h1>Содержание<span class=\"tocSkip\"></span></h1>\n",
    "<div class=\"toc\"><ul class=\"toc-item\"><li><span><a href=\"#Импорт-библиотек\" data-toc-modified-id=\"Импорт-библиотек-1\"><span class=\"toc-item-num\">1&nbsp;&nbsp;</span>Импорт библиотек</a></span></li><li><span><a href=\"#Подготовка\" data-toc-modified-id=\"Подготовка-2\"><span class=\"toc-item-num\">2&nbsp;&nbsp;</span>Подготовка</a></span></li><li><span><a href=\"#Обучение\" data-toc-modified-id=\"Обучение-3\"><span class=\"toc-item-num\">3&nbsp;&nbsp;</span>Обучение</a></span><ul class=\"toc-item\"><li><span><a href=\"#LogisticRegression\" data-toc-modified-id=\"LogisticRegression-3.1\"><span class=\"toc-item-num\">3.1&nbsp;&nbsp;</span>LogisticRegression</a></span></li><li><span><a href=\"#BERT\" data-toc-modified-id=\"BERT-3.2\"><span class=\"toc-item-num\">3.2&nbsp;&nbsp;</span>BERT</a></span></li></ul></li><li><span><a href=\"#Константная-модель\" data-toc-modified-id=\"Константная-модель-4\"><span class=\"toc-item-num\">4&nbsp;&nbsp;</span>Константная модель</a></span><ul class=\"toc-item\"><li><span><a href=\"#Проверка-лучшей-модели\" data-toc-modified-id=\"Проверка-лучшей-модели-4.1\"><span class=\"toc-item-num\">4.1&nbsp;&nbsp;</span>Проверка лучшей модели</a></span></li></ul></li><li><span><a href=\"#Выводы\" data-toc-modified-id=\"Выводы-5\"><span class=\"toc-item-num\">5&nbsp;&nbsp;</span>Выводы</a></span></li></ul></div>"
   ]
  },
  {
   "cell_type": "markdown",
   "metadata": {},
   "source": [
    "# Проект для «Викишоп»"
   ]
  },
  {
   "cell_type": "markdown",
   "metadata": {},
   "source": [
    "Интернет-магазин «Викишоп» запускает новый сервис. Теперь пользователи могут редактировать и дополнять описания товаров, как в вики-сообществах. То есть клиенты предлагают свои правки и комментируют изменения других. Магазину нужен инструмент, который будет искать токсичные комментарии и отправлять их на модерацию. \n",
    "\n",
    "Обучим модель классифицировать комментарии на позитивные и негативные. В нашем распоряжении набор данных с разметкой о токсичности правок.\n",
    "\n",
    "Построим модель со значением метрики качества *F1* не меньше 0.75. \n",
    "\n",
    "**План по выполнению проекта**\n",
    "\n",
    "1. Загрузка и подготовка данных.\n",
    "2. Обучение разных моделей. \n",
    "3. Вывод.\n",
    "\n",
    "**Описание данных**\n",
    "\n",
    "Данные находятся в файле `toxic_comments.csv`. Столбец *text* в нём содержит текст комментария, а *toxic* — целевой признак."
   ]
  },
  {
   "cell_type": "markdown",
   "metadata": {},
   "source": [
    "## Импорт библиотек"
   ]
  },
  {
   "cell_type": "code",
   "execution_count": 3,
   "metadata": {},
   "outputs": [
    {
     "name": "stderr",
     "output_type": "stream",
     "text": [
      "[nltk_data] Downloading package punkt to /home/jovyan/nltk_data...\n",
      "[nltk_data]   Package punkt is already up-to-date!\n",
      "[nltk_data] Downloading package wordnet to /home/jovyan/nltk_data...\n",
      "[nltk_data]   Package wordnet is already up-to-date!\n",
      "[nltk_data] Downloading package averaged_perceptron_tagger to\n",
      "[nltk_data]     /home/jovyan/nltk_data...\n",
      "[nltk_data]   Unzipping taggers/averaged_perceptron_tagger.zip.\n"
     ]
    }
   ],
   "source": [
    "import pandas as pd\n",
    "import numpy as np\n",
    "import re\n",
    "import torch\n",
    "import transformers\n",
    "\n",
    "import nltk\n",
    "nltk.download('punkt')\n",
    "nltk.download('wordnet')\n",
    "nltk.download('averaged_perceptron_tagger')\n",
    "from nltk.stem import WordNetLemmatizer \n",
    "from nltk.corpus import stopwords as nltk_stopwords\n",
    "from nltk.corpus import wordnet\n",
    "\n",
    "from sklearn.feature_extraction.text import TfidfVectorizer\n",
    "from sklearn.linear_model import LogisticRegression\n",
    "from sklearn.model_selection import GridSearchCV\n",
    "from sklearn.metrics import f1_score\n",
    "from sklearn.model_selection import train_test_split\n",
    "from sklearn.utils import shuffle\n",
    "from sklearn.dummy import DummyClassifier\n",
    "from sklearn.model_selection import cross_val_score\n",
    "\n",
    "from tqdm import notebook\n",
    "from tqdm import tqdm\n",
    "\n",
    "import warnings\n",
    "warnings.filterwarnings('ignore')"
   ]
  },
  {
   "cell_type": "markdown",
   "metadata": {},
   "source": [
    "## Подготовка"
   ]
  },
  {
   "cell_type": "code",
   "execution_count": 4,
   "metadata": {
    "scrolled": false
   },
   "outputs": [
    {
     "data": {
      "text/html": [
       "<div>\n",
       "<style scoped>\n",
       "    .dataframe tbody tr th:only-of-type {\n",
       "        vertical-align: middle;\n",
       "    }\n",
       "\n",
       "    .dataframe tbody tr th {\n",
       "        vertical-align: top;\n",
       "    }\n",
       "\n",
       "    .dataframe thead th {\n",
       "        text-align: right;\n",
       "    }\n",
       "</style>\n",
       "<table border=\"1\" class=\"dataframe\">\n",
       "  <thead>\n",
       "    <tr style=\"text-align: right;\">\n",
       "      <th></th>\n",
       "      <th>Unnamed: 0</th>\n",
       "      <th>text</th>\n",
       "      <th>toxic</th>\n",
       "    </tr>\n",
       "  </thead>\n",
       "  <tbody>\n",
       "    <tr>\n",
       "      <th>129660</th>\n",
       "      <td>129793</td>\n",
       "      <td>\"Thank you for experimenting with  Wikipedia. ...</td>\n",
       "      <td>0</td>\n",
       "    </tr>\n",
       "    <tr>\n",
       "      <th>73497</th>\n",
       "      <td>73569</td>\n",
       "      <td>ou leftist Wikipedia scum are an insignificant...</td>\n",
       "      <td>1</td>\n",
       "    </tr>\n",
       "    <tr>\n",
       "      <th>74835</th>\n",
       "      <td>74911</td>\n",
       "      <td>REDIRECT Talk:1968–69 Mexican Primera División...</td>\n",
       "      <td>0</td>\n",
       "    </tr>\n",
       "    <tr>\n",
       "      <th>58152</th>\n",
       "      <td>58216</td>\n",
       "      <td>Sorry Caden. I thank you for what you did on t...</td>\n",
       "      <td>0</td>\n",
       "    </tr>\n",
       "    <tr>\n",
       "      <th>130768</th>\n",
       "      <td>130904</td>\n",
       "      <td>are you even remotely bothered about your GA n...</td>\n",
       "      <td>0</td>\n",
       "    </tr>\n",
       "  </tbody>\n",
       "</table>\n",
       "</div>"
      ],
      "text/plain": [
       "        Unnamed: 0                                               text  toxic\n",
       "129660      129793  \"Thank you for experimenting with  Wikipedia. ...      0\n",
       "73497        73569  ou leftist Wikipedia scum are an insignificant...      1\n",
       "74835        74911  REDIRECT Talk:1968–69 Mexican Primera División...      0\n",
       "58152        58216  Sorry Caden. I thank you for what you did on t...      0\n",
       "130768      130904  are you even remotely bothered about your GA n...      0"
      ]
     },
     "execution_count": 4,
     "metadata": {},
     "output_type": "execute_result"
    }
   ],
   "source": [
    "data = pd.read_csv('https://code.s3.yandex.net/datasets/toxic_comments.csv')\n",
    "data.sample(5)"
   ]
  },
  {
   "cell_type": "code",
   "execution_count": 5,
   "metadata": {
    "scrolled": true
   },
   "outputs": [
    {
     "name": "stdout",
     "output_type": "stream",
     "text": [
      "<class 'pandas.core.frame.DataFrame'>\n",
      "RangeIndex: 159292 entries, 0 to 159291\n",
      "Data columns (total 3 columns):\n",
      " #   Column      Non-Null Count   Dtype \n",
      "---  ------      --------------   ----- \n",
      " 0   Unnamed: 0  159292 non-null  int64 \n",
      " 1   text        159292 non-null  object\n",
      " 2   toxic       159292 non-null  int64 \n",
      "dtypes: int64(2), object(1)\n",
      "memory usage: 3.6+ MB\n"
     ]
    }
   ],
   "source": [
    "data.info()"
   ]
  },
  {
   "cell_type": "markdown",
   "metadata": {},
   "source": [
    "<font color='blue'><b>Комментарий ревьюера: </b></font> ✔️\\\n",
    "<font color='green'>Данные загружены корректно, первичный осмотр проведен.</font>"
   ]
  },
  {
   "cell_type": "code",
   "execution_count": 6,
   "metadata": {},
   "outputs": [],
   "source": [
    "#столбец неинформативный, удалим его\n",
    "del data['Unnamed: 0']"
   ]
  },
  {
   "cell_type": "code",
   "execution_count": 7,
   "metadata": {},
   "outputs": [],
   "source": [
    "#для удобства приведём текст в нижнийц регистр\n",
    "data['text'] = data['text'].str.lower()"
   ]
  },
  {
   "cell_type": "code",
   "execution_count": 8,
   "metadata": {},
   "outputs": [
    {
     "data": {
      "text/plain": [
       "45"
      ]
     },
     "execution_count": 8,
     "metadata": {},
     "output_type": "execute_result"
    }
   ],
   "source": [
    "#проверим наличие дубликатов\n",
    "data.duplicated().sum()"
   ]
  },
  {
   "cell_type": "code",
   "execution_count": 9,
   "metadata": {
    "scrolled": true
   },
   "outputs": [
    {
     "data": {
      "text/plain": [
       "0"
      ]
     },
     "execution_count": 9,
     "metadata": {},
     "output_type": "execute_result"
    }
   ],
   "source": [
    "#удалим дубликаты\n",
    "data = data.drop_duplicates()\n",
    "data.duplicated().sum()"
   ]
  },
  {
   "cell_type": "code",
   "execution_count": 10,
   "metadata": {},
   "outputs": [
    {
     "data": {
      "text/plain": [
       "text     0\n",
       "toxic    0\n",
       "dtype: int64"
      ]
     },
     "execution_count": 10,
     "metadata": {},
     "output_type": "execute_result"
    }
   ],
   "source": [
    "#проверим наличие пропусков\n",
    "data.isna().sum()"
   ]
  },
  {
   "cell_type": "code",
   "execution_count": 11,
   "metadata": {
    "scrolled": true
   },
   "outputs": [
    {
     "data": {
      "text/plain": [
       "0    143076\n",
       "1     16171\n",
       "Name: toxic, dtype: int64"
      ]
     },
     "execution_count": 11,
     "metadata": {},
     "output_type": "execute_result"
    }
   ],
   "source": [
    "#посотрим на баланс классов\n",
    "data['toxic'].value_counts()"
   ]
  },
  {
   "cell_type": "code",
   "execution_count": 12,
   "metadata": {},
   "outputs": [],
   "source": [
    "#напишем функцию для токенизации и лемматизации текста\n",
    "\n",
    "def clear(text):\n",
    "    tokenized = nltk.word_tokenize(text)\n",
    "    joined = ' '.join(tokenized)\n",
    "    clear_text = re.sub(r\"[^a-zA-Z' ]\", ' ', joined)\n",
    "    output = ' '.join(clear_text.split())\n",
    "    return output\n",
    "\n",
    "#лемматизация\n",
    "def lemmatize(text):\n",
    "    lemmatizer = WordNetLemmatizer()\n",
    "    word_list = nltk.word_tokenize(text)\n",
    "    lemmatized_output = ' '.join([lemmatizer.lemmatize(w, get_wordnet_pos(w)) for w in word_list])\n",
    "    \n",
    "    return lemmatized_output\n",
    "\n",
    "def get_wordnet_pos(word):\n",
    "    \"\"\"Map POS tag to first character lemmatize() accepts\"\"\"\n",
    "    tag = nltk.pos_tag([word])[0][1][0].upper()\n",
    "    tag_dict = {\"J\": wordnet.ADJ,\n",
    "                \"N\": wordnet.NOUN,\n",
    "                \"V\": wordnet.VERB,\n",
    "                \"R\": wordnet.ADV}\n",
    "    return tag_dict.get(tag, wordnet.NOUN)"
   ]
  },
  {
   "cell_type": "code",
   "execution_count": 13,
   "metadata": {
    "scrolled": true
   },
   "outputs": [
    {
     "name": "stderr",
     "output_type": "stream",
     "text": [
      "100%|██████████| 159247/159247 [01:50<00:00, 1442.55it/s]\n"
     ]
    }
   ],
   "source": [
    "tqdm.pandas() \n",
    "data['token_text'] = data['text'].progress_apply(clear)"
   ]
  },
  {
   "cell_type": "code",
   "execution_count": 14,
   "metadata": {
    "scrolled": true
   },
   "outputs": [],
   "source": [
    "# tqdm.pandas() \n",
    "# data['lemm_text'] = data['token_text'].progress_apply(lemmatize)"
   ]
  },
  {
   "cell_type": "code",
   "execution_count": 15,
   "metadata": {
    "scrolled": false
   },
   "outputs": [
    {
     "data": {
      "text/html": [
       "<div>\n",
       "<style scoped>\n",
       "    .dataframe tbody tr th:only-of-type {\n",
       "        vertical-align: middle;\n",
       "    }\n",
       "\n",
       "    .dataframe tbody tr th {\n",
       "        vertical-align: top;\n",
       "    }\n",
       "\n",
       "    .dataframe thead th {\n",
       "        text-align: right;\n",
       "    }\n",
       "</style>\n",
       "<table border=\"1\" class=\"dataframe\">\n",
       "  <thead>\n",
       "    <tr style=\"text-align: right;\">\n",
       "      <th></th>\n",
       "      <th>text</th>\n",
       "      <th>toxic</th>\n",
       "      <th>token_text</th>\n",
       "    </tr>\n",
       "  </thead>\n",
       "  <tbody>\n",
       "    <tr>\n",
       "      <th>56889</th>\n",
       "      <td>quick questions \\nhello. is your name now or h...</td>\n",
       "      <td>0</td>\n",
       "      <td>quick questions hello is your name now or has ...</td>\n",
       "    </tr>\n",
       "    <tr>\n",
       "      <th>32297</th>\n",
       "      <td>the anti-hal turner rhetoric has surpassed mad...</td>\n",
       "      <td>0</td>\n",
       "      <td>the anti hal turner rhetoric has surpassed mad...</td>\n",
       "    </tr>\n",
       "    <tr>\n",
       "      <th>39320</th>\n",
       "      <td>jumping the homeless\\ncould cartman jumping th...</td>\n",
       "      <td>0</td>\n",
       "      <td>jumping the homeless could cartman jumping the...</td>\n",
       "    </tr>\n",
       "    <tr>\n",
       "      <th>9008</th>\n",
       "      <td>good edit \\n\\nhi rw - good edit to fr. i thoug...</td>\n",
       "      <td>0</td>\n",
       "      <td>good edit hi rw good edit to fr i thought that...</td>\n",
       "    </tr>\n",
       "    <tr>\n",
       "      <th>91274</th>\n",
       "      <td>the whole article is only from the liberal bib...</td>\n",
       "      <td>0</td>\n",
       "      <td>the whole article is only from the liberal bib...</td>\n",
       "    </tr>\n",
       "  </tbody>\n",
       "</table>\n",
       "</div>"
      ],
      "text/plain": [
       "                                                    text  toxic  \\\n",
       "56889  quick questions \\nhello. is your name now or h...      0   \n",
       "32297  the anti-hal turner rhetoric has surpassed mad...      0   \n",
       "39320  jumping the homeless\\ncould cartman jumping th...      0   \n",
       "9008   good edit \\n\\nhi rw - good edit to fr. i thoug...      0   \n",
       "91274  the whole article is only from the liberal bib...      0   \n",
       "\n",
       "                                              token_text  \n",
       "56889  quick questions hello is your name now or has ...  \n",
       "32297  the anti hal turner rhetoric has surpassed mad...  \n",
       "39320  jumping the homeless could cartman jumping the...  \n",
       "9008   good edit hi rw good edit to fr i thought that...  \n",
       "91274  the whole article is only from the liberal bib...  "
      ]
     },
     "execution_count": 15,
     "metadata": {},
     "output_type": "execute_result"
    }
   ],
   "source": [
    "data.sample(5)"
   ]
  },
  {
   "cell_type": "markdown",
   "metadata": {},
   "source": [
    "**Вывод:**\n",
    "\n",
    "Данные были предобработаны:\n",
    "\n",
    "- Удален неинформативный столбец\n",
    "- Очищены от дубликатов\n",
    "- Столбец text приведен в нижний регистр, токенизирован (разбит на токены: отдельные фразы, слова, символы) и лемматизирован\n",
    "\n",
    "Также был замечен сильный дисбаланс классов(отличие примерно в 8 раз), поэтому впоследствии попробуем применить техники добаланса."
   ]
  },
  {
   "cell_type": "markdown",
   "metadata": {},
   "source": [
    "## Обучение"
   ]
  },
  {
   "cell_type": "markdown",
   "metadata": {},
   "source": [
    "### LogisticRegression"
   ]
  },
  {
   "cell_type": "code",
   "execution_count": 73,
   "metadata": {},
   "outputs": [],
   "source": [
    "# выделим обучающие и целевой признаки\n",
    "target = data['toxic']\n",
    "features = data['lemm_text'].values"
   ]
  },
  {
   "cell_type": "code",
   "execution_count": 16,
   "metadata": {},
   "outputs": [],
   "source": [
    "# выделим обучающие и целевой признаки\n",
    "target = data['toxic']\n",
    "features = data['token_text'].values"
   ]
  },
  {
   "cell_type": "code",
   "execution_count": 17,
   "metadata": {},
   "outputs": [],
   "source": [
    "#разобъём датасет на обучающий и тестовый в соотношении 65:35\n",
    "features_train, features_test, target_train, target_test = train_test_split (\n",
    "    features, \n",
    "    target, \n",
    "    test_size=0.35, \n",
    "    random_state=12345\n",
    ")"
   ]
  },
  {
   "cell_type": "code",
   "execution_count": 18,
   "metadata": {},
   "outputs": [
    {
     "name": "stderr",
     "output_type": "stream",
     "text": [
      "[nltk_data] Downloading package stopwords to /home/jovyan/nltk_data...\n",
      "[nltk_data]   Package stopwords is already up-to-date!\n"
     ]
    }
   ],
   "source": [
    "nltk.download('stopwords')\n",
    "stopwords = set(nltk_stopwords.words('english'))\n",
    "\n",
    "count_tf_idf = TfidfVectorizer(stop_words=stopwords) \n",
    "features_train = count_tf_idf.fit_transform(features_train) \n",
    "features_test =  count_tf_idf.transform(features_test)"
   ]
  },
  {
   "cell_type": "raw",
   "metadata": {},
   "source": [
    "LR = LogisticRegression()\n",
    "\n",
    "grid = {\"C\":np.logspace(-3,3,7), \"penalty\":[\"l1\",\"l2\"], 'class_weight': ['balanced', 'none']}\n",
    "\n",
    "grid = GridSearchCV(LR, grid, cv=10, verbose = 10)\n",
    "grid.fit(features_train,target_train)\n",
    "\n",
    "grid.best_params_"
   ]
  },
  {
   "cell_type": "code",
   "execution_count": 17,
   "metadata": {},
   "outputs": [],
   "source": [
    "LR = LogisticRegression(random_state=12345, solver='liblinear', penalty='l1', C=3)"
   ]
  },
  {
   "cell_type": "code",
   "execution_count": 18,
   "metadata": {},
   "outputs": [
    {
     "name": "stdout",
     "output_type": "stream",
     "text": [
      "0.7732735165115742\n"
     ]
    }
   ],
   "source": [
    "scores = cross_val_score (\n",
    "    LR, \n",
    "    features_train, \n",
    "    target_train, \n",
    "    cv=10,\n",
    "    scoring='f1'\n",
    ")\n",
    "\n",
    "final_score = sum(scores) / len(scores)\n",
    "print(final_score)"
   ]
  },
  {
   "cell_type": "code",
   "execution_count": 19,
   "metadata": {
    "scrolled": true
   },
   "outputs": [],
   "source": [
    "# добалансировка добавлением параметра class_weight='balanced'\n",
    "LR = LogisticRegression(class_weight='balanced', random_state=12345, solver='liblinear', penalty='l1', C=4)"
   ]
  },
  {
   "cell_type": "code",
   "execution_count": 20,
   "metadata": {},
   "outputs": [
    {
     "name": "stdout",
     "output_type": "stream",
     "text": [
      "0.7543286282003089\n"
     ]
    }
   ],
   "source": [
    "scores = cross_val_score (\n",
    "    LR, \n",
    "    features_train, \n",
    "    target_train, \n",
    "    cv=10,\n",
    "    scoring='f1'\n",
    ")\n",
    "\n",
    "final_score = sum(scores) / len(scores)\n",
    "print(final_score)"
   ]
  },
  {
   "cell_type": "markdown",
   "metadata": {},
   "source": [
    "Значение f1_score удовлетворяет поставленному условию. Значение получилось больше 75 даже без добалансировки."
   ]
  },
  {
   "cell_type": "markdown",
   "metadata": {},
   "source": [
    "### BERT"
   ]
  },
  {
   "cell_type": "markdown",
   "metadata": {},
   "source": [
    "Посмотрим на нейронную сеть от Google - Bert.\n",
    "\n",
    "Мощности компьютера не хватит на обработку целого датасета, возьмем выборку из 1000 элементов."
   ]
  },
  {
   "cell_type": "code",
   "execution_count": 37,
   "metadata": {},
   "outputs": [],
   "source": [
    "data_bert = data.sample(1000).reset_index(drop=True)"
   ]
  },
  {
   "cell_type": "code",
   "execution_count": 38,
   "metadata": {
    "scrolled": true
   },
   "outputs": [],
   "source": [
    "#загрузим необходимое\n",
    "configuration = transformers.DistilBertConfig()\n",
    "model = transformers.DistilBertModel(configuration)\n",
    "pretrained_weights = 'distilbert-base-uncased'\n",
    "tokenizer_class = transformers.DistilBertTokenizer\n",
    "\n",
    "tokenizer = tokenizer_class.from_pretrained(pretrained_weights)"
   ]
  },
  {
   "cell_type": "code",
   "execution_count": 39,
   "metadata": {
    "scrolled": true
   },
   "outputs": [],
   "source": [
    "tokenized = data_bert['text'].apply(\n",
    "    lambda x: tokenizer.encode(x, add_special_tokens=True, max_length=512, truncation=True))"
   ]
  },
  {
   "cell_type": "code",
   "execution_count": 40,
   "metadata": {},
   "outputs": [],
   "source": [
    "padded = np.array([i + [0]*(512 - len(i)) for i in tokenized.values])\n",
    "\n",
    "attention_mask = np.where(padded != 0, 1, 0)"
   ]
  },
  {
   "cell_type": "code",
   "execution_count": 41,
   "metadata": {},
   "outputs": [
    {
     "data": {
      "text/plain": [
       "512"
      ]
     },
     "execution_count": 41,
     "metadata": {},
     "output_type": "execute_result"
    }
   ],
   "source": [
    "len(padded[0])"
   ]
  },
  {
   "cell_type": "code",
   "execution_count": 42,
   "metadata": {},
   "outputs": [
    {
     "data": {
      "text/plain": [
       "((1000, 512), (1000, 512))"
      ]
     },
     "execution_count": 42,
     "metadata": {},
     "output_type": "execute_result"
    }
   ],
   "source": [
    "padded.shape, attention_mask.shape"
   ]
  },
  {
   "cell_type": "code",
   "execution_count": 43,
   "metadata": {},
   "outputs": [
    {
     "data": {
      "application/vnd.jupyter.widget-view+json": {
       "model_id": "484bfc156b9e4e48988fc0a67fc85871",
       "version_major": 2,
       "version_minor": 0
      },
      "text/plain": [
       "  0%|          | 0/10 [00:00<?, ?it/s]"
      ]
     },
     "metadata": {},
     "output_type": "display_data"
    }
   ],
   "source": [
    "batch_size = 100\n",
    "embeddings = []\n",
    "for i in notebook.tqdm(range(padded.shape[0] // batch_size)):\n",
    "        batch = torch.LongTensor(padded[batch_size*i:batch_size*(i+1)]) \n",
    "        attention_mask_batch = torch.LongTensor(attention_mask[batch_size*i:batch_size*(i+1)])\n",
    "        \n",
    "        with torch.no_grad():\n",
    "            batch_embeddings = model(batch, attention_mask=attention_mask_batch)\n",
    "        \n",
    "        embeddings.append(batch_embeddings[0][:,0,:].numpy())"
   ]
  },
  {
   "cell_type": "code",
   "execution_count": 44,
   "metadata": {},
   "outputs": [],
   "source": [
    "features = np.concatenate(embeddings)\n",
    "target = data_bert['toxic']"
   ]
  },
  {
   "cell_type": "code",
   "execution_count": 45,
   "metadata": {},
   "outputs": [],
   "source": [
    "features_train_bert, features_test_bert, target_train_bert, target_test_bert = train_test_split(\n",
    "    features,\n",
    "    target,\n",
    "    test_size = 0.5,\n",
    "    random_state = 12345\n",
    ")"
   ]
  },
  {
   "cell_type": "code",
   "execution_count": 56,
   "metadata": {},
   "outputs": [
    {
     "data": {
      "text/plain": [
       "{'C': 0.001, 'penalty': 'l2'}"
      ]
     },
     "execution_count": 56,
     "metadata": {},
     "output_type": "execute_result"
    }
   ],
   "source": [
    "LR = LogisticRegression()\n",
    "\n",
    "grid = {\"C\":np.logspace(-3,3,7), \"penalty\":[\"l1\",\"l2\"]}\n",
    "\n",
    "grid = GridSearchCV(logreg, grid, cv=10)\n",
    "grid.fit(features_train_bert,target_train_bert)\n",
    "\n",
    "grid.best_params_"
   ]
  },
  {
   "cell_type": "code",
   "execution_count": 64,
   "metadata": {
    "scrolled": false
   },
   "outputs": [
    {
     "name": "stdout",
     "output_type": "stream",
     "text": [
      "0.05357142857142858\n"
     ]
    }
   ],
   "source": [
    "LR = LogisticRegression()\n",
    "\n",
    "scores = cross_val_score (\n",
    "    LR, \n",
    "    features_train_bert, \n",
    "    target_train_bert, \n",
    "    cv=10,\n",
    "    scoring='f1'\n",
    ")\n",
    "\n",
    "final_score = sum(scores) / len(scores)\n",
    "print(final_score)"
   ]
  },
  {
   "cell_type": "markdown",
   "metadata": {},
   "source": [
    "Значение метрики получилось намного меньше порога, но нужно учитывать, что мы использовали данные не с всего датасета, а также ограничивались максимальной длиной в 512 уникальных значений.\n",
    "\n",
    "Эти ограничения могли сильно исказить результат."
   ]
  },
  {
   "cell_type": "markdown",
   "metadata": {},
   "source": [
    "## Константная модель"
   ]
  },
  {
   "cell_type": "markdown",
   "metadata": {},
   "source": [
    "В целом, нам надо предсказывать токсичные комментарии, тогда если у нас будет модель предсказывающая только их, то её f1_score будет равен:"
   ]
  },
  {
   "cell_type": "code",
   "execution_count": 68,
   "metadata": {
    "scrolled": true
   },
   "outputs": [],
   "source": [
    "dummy_1 = DummyClassifier(random_state=12345, strategy='constant', constant=1)"
   ]
  },
  {
   "cell_type": "code",
   "execution_count": 69,
   "metadata": {
    "scrolled": true
   },
   "outputs": [
    {
     "data": {
      "text/plain": [
       "0.1812041116005874"
      ]
     },
     "execution_count": 69,
     "metadata": {},
     "output_type": "execute_result"
    }
   ],
   "source": [
    "dummy_1.fit(features_train, target_train)\n",
    "predictions = dummy_1.predict(features_test)\n",
    "\n",
    "f1_score(terget_test, predictions)"
   ]
  },
  {
   "cell_type": "markdown",
   "metadata": {},
   "source": [
    "Что в разы меньше скора полученного с нашей модели."
   ]
  },
  {
   "cell_type": "markdown",
   "metadata": {},
   "source": [
    "### Проверка лучшей модели"
   ]
  },
  {
   "cell_type": "code",
   "execution_count": 78,
   "metadata": {},
   "outputs": [
    {
     "name": "stdout",
     "output_type": "stream",
     "text": [
      "Значение f1_score: 0.7770083102493075\n"
     ]
    }
   ],
   "source": [
    "LR = LogisticRegression(random_state=12345, solver='liblinear', penalty='l1', C=3).fit(features_train, target_train)\n",
    "\n",
    "print('Значение f1_score:',f1_score(terget_test, LR.predict(features_test)))"
   ]
  },
  {
   "cell_type": "markdown",
   "metadata": {},
   "source": [
    "## Выводы"
   ]
  },
  {
   "cell_type": "markdown",
   "metadata": {},
   "source": [
    "Необходимо было создать инструмент, который будет искать токсичные комментарии.\n",
    "\n",
    "Для начала был загружены и подготовлены данные:\n",
    "\n",
    "- убрали неинформативные столбцы\n",
    "- удалили дубликаты \n",
    "- написали функции для токенизации и лемматизации текста\n",
    "также на этаппе подготовки был замечен сильный дисбаланс классов\n",
    "\n",
    "Далее была обучена логистическая регрессия на всех данных, <br>\n",
    "получили значение метрики **f1_score: 0.7817056121429997**\n",
    "\n",
    "Далее протестировали модель - нейрнонную сеть Bert,<br>\n",
    "Так как модель ресурсозатратная, обучение происходила на небольшой выборке данных,<br>\n",
    "А также пришлось сократить уникальные значения текстов до 512 значений,<br>\n",
    "Что скорее всего сильно исказило результаты, <br>\n",
    "получено значение **f1_score: 0.1411764705882353**\n",
    "\n",
    "Лучшая модель - логистическая регрессия, результат в разы лучше, чем результат константной модели.\n",
    "\n",
    "Результат на тестовой выборке: **0.7770083102493075**"
   ]
  }
 ],
 "metadata": {
  "ExecuteTimeLog": [
   {
    "duration": 390,
    "start_time": "2022-09-12T16:51:52.829Z"
   },
   {
    "duration": 2180,
    "start_time": "2022-09-12T16:52:13.096Z"
   },
   {
    "duration": 16,
    "start_time": "2022-09-12T16:52:17.989Z"
   },
   {
    "duration": 24,
    "start_time": "2022-09-12T16:52:40.627Z"
   },
   {
    "duration": 23,
    "start_time": "2022-09-12T16:53:06.106Z"
   },
   {
    "duration": 3,
    "start_time": "2022-09-12T16:53:14.643Z"
   },
   {
    "duration": 8,
    "start_time": "2022-09-12T16:53:19.853Z"
   },
   {
    "duration": 5,
    "start_time": "2022-09-12T16:53:39.620Z"
   },
   {
    "duration": 4,
    "start_time": "2022-09-12T16:53:44.765Z"
   },
   {
    "duration": 4,
    "start_time": "2022-09-12T16:53:50.553Z"
   },
   {
    "duration": 6,
    "start_time": "2022-09-12T16:53:54.084Z"
   },
   {
    "duration": 4,
    "start_time": "2022-09-12T16:54:13.168Z"
   },
   {
    "duration": 6,
    "start_time": "2022-09-12T16:54:22.410Z"
   },
   {
    "duration": 22,
    "start_time": "2022-09-12T16:55:15.926Z"
   },
   {
    "duration": 18,
    "start_time": "2022-09-12T16:55:22.924Z"
   },
   {
    "duration": 220,
    "start_time": "2022-09-12T16:55:59.360Z"
   },
   {
    "duration": 203,
    "start_time": "2022-09-12T16:56:04.807Z"
   },
   {
    "duration": 861,
    "start_time": "2022-09-12T17:05:02.965Z"
   },
   {
    "duration": 33,
    "start_time": "2022-09-12T17:07:15.140Z"
   },
   {
    "duration": 3073,
    "start_time": "2022-09-12T17:07:27.783Z"
   },
   {
    "duration": 18,
    "start_time": "2022-09-12T17:07:43.403Z"
   },
   {
    "duration": 140,
    "start_time": "2022-09-12T17:08:01.064Z"
   },
   {
    "duration": 778,
    "start_time": "2022-09-12T17:08:20.662Z"
   },
   {
    "duration": 3,
    "start_time": "2022-09-12T17:10:01.522Z"
   },
   {
    "duration": 3,
    "start_time": "2022-09-12T17:10:12.074Z"
   },
   {
    "duration": 16,
    "start_time": "2022-09-12T17:10:30.210Z"
   },
   {
    "duration": 3,
    "start_time": "2022-09-12T17:10:48.453Z"
   },
   {
    "duration": 4,
    "start_time": "2022-09-12T17:10:50.052Z"
   },
   {
    "duration": 7,
    "start_time": "2022-09-12T17:10:57.538Z"
   },
   {
    "duration": 45,
    "start_time": "2022-09-12T17:10:57.546Z"
   },
   {
    "duration": 1320,
    "start_time": "2022-09-12T17:11:05.360Z"
   },
   {
    "duration": 4,
    "start_time": "2022-09-12T17:11:06.682Z"
   },
   {
    "duration": 64,
    "start_time": "2022-09-12T17:11:06.931Z"
   },
   {
    "duration": 232,
    "start_time": "2022-09-12T17:11:11.066Z"
   },
   {
    "duration": 2306,
    "start_time": "2022-09-12T17:11:11.436Z"
   },
   {
    "duration": 20,
    "start_time": "2022-09-12T17:11:13.744Z"
   },
   {
    "duration": 28,
    "start_time": "2022-09-12T17:11:13.766Z"
   },
   {
    "duration": 4,
    "start_time": "2022-09-12T17:11:13.796Z"
   },
   {
    "duration": 12,
    "start_time": "2022-09-12T17:11:13.801Z"
   },
   {
    "duration": 24,
    "start_time": "2022-09-12T17:11:13.815Z"
   },
   {
    "duration": 271,
    "start_time": "2022-09-12T17:11:13.841Z"
   },
   {
    "duration": 3,
    "start_time": "2022-09-12T17:11:14.113Z"
   },
   {
    "duration": 8,
    "start_time": "2022-09-12T17:11:14.117Z"
   },
   {
    "duration": 1762,
    "start_time": "2022-09-12T17:11:14.127Z"
   },
   {
    "duration": 5,
    "start_time": "2022-09-12T17:11:15.890Z"
   },
   {
    "duration": 7,
    "start_time": "2022-09-12T17:11:15.896Z"
   },
   {
    "duration": 4,
    "start_time": "2022-09-12T17:11:15.909Z"
   },
   {
    "duration": 917,
    "start_time": "2022-09-12T17:11:15.915Z"
   },
   {
    "duration": 2,
    "start_time": "2022-09-12T17:12:27.577Z"
   },
   {
    "duration": 725,
    "start_time": "2022-09-12T17:12:28.561Z"
   },
   {
    "duration": 3,
    "start_time": "2022-09-12T17:13:30.795Z"
   },
   {
    "duration": 125,
    "start_time": "2022-09-12T17:14:42.066Z"
   },
   {
    "duration": 21,
    "start_time": "2022-09-12T17:14:44.721Z"
   },
   {
    "duration": 104291,
    "start_time": "2022-09-12T17:15:33.933Z"
   },
   {
    "duration": 51,
    "start_time": "2022-09-12T17:17:22.745Z"
   },
   {
    "duration": 3,
    "start_time": "2022-09-12T17:17:24.013Z"
   },
   {
    "duration": 2,
    "start_time": "2022-09-12T17:17:24.452Z"
   },
   {
    "duration": 13,
    "start_time": "2022-09-12T17:17:34.695Z"
   },
   {
    "duration": 26,
    "start_time": "2022-09-12T17:17:46.441Z"
   },
   {
    "duration": 754,
    "start_time": "2022-09-12T17:18:03.580Z"
   },
   {
    "duration": 1038475,
    "start_time": "2022-09-12T17:18:38.010Z"
   },
   {
    "duration": 11,
    "start_time": "2022-09-12T17:36:12.029Z"
   },
   {
    "duration": 824,
    "start_time": "2022-09-12T17:36:18.627Z"
   },
   {
    "duration": 3,
    "start_time": "2022-09-12T17:37:03.142Z"
   },
   {
    "duration": 3,
    "start_time": "2022-09-12T17:39:27.600Z"
   },
   {
    "duration": 818,
    "start_time": "2022-09-12T17:39:31.004Z"
   },
   {
    "duration": 4,
    "start_time": "2022-09-12T17:42:59.612Z"
   },
   {
    "duration": 8,
    "start_time": "2022-09-12T17:43:38.478Z"
   },
   {
    "duration": 214,
    "start_time": "2022-09-12T17:43:47.240Z"
   },
   {
    "duration": 22,
    "start_time": "2022-09-12T17:43:59.519Z"
   },
   {
    "duration": 22,
    "start_time": "2022-09-12T17:44:34.385Z"
   },
   {
    "duration": 217,
    "start_time": "2022-09-12T17:44:59.354Z"
   },
   {
    "duration": 399,
    "start_time": "2022-09-12T17:45:47.017Z"
   },
   {
    "duration": 408,
    "start_time": "2022-09-12T17:46:26.862Z"
   },
   {
    "duration": 417,
    "start_time": "2022-09-12T17:46:31.800Z"
   },
   {
    "duration": 12,
    "start_time": "2022-09-12T17:46:43.874Z"
   },
   {
    "duration": 28,
    "start_time": "2022-09-12T17:46:45.954Z"
   },
   {
    "duration": 8,
    "start_time": "2022-09-12T17:46:53.546Z"
   },
   {
    "duration": 770,
    "start_time": "2022-09-12T17:47:05.132Z"
   },
   {
    "duration": 12,
    "start_time": "2022-09-12T17:47:08.085Z"
   },
   {
    "duration": 802,
    "start_time": "2022-09-12T17:47:12.616Z"
   },
   {
    "duration": 17,
    "start_time": "2022-09-12T17:47:13.420Z"
   },
   {
    "duration": 5,
    "start_time": "2022-09-12T17:47:13.439Z"
   },
   {
    "duration": 219,
    "start_time": "2022-09-12T17:47:13.608Z"
   },
   {
    "duration": 17,
    "start_time": "2022-09-12T17:47:13.831Z"
   },
   {
    "duration": 226,
    "start_time": "2022-09-12T17:47:14.060Z"
   },
   {
    "duration": 403,
    "start_time": "2022-09-12T17:47:14.288Z"
   },
   {
    "duration": 9,
    "start_time": "2022-09-12T17:47:15.427Z"
   },
   {
    "duration": 24,
    "start_time": "2022-09-12T17:47:33.363Z"
   },
   {
    "duration": 21,
    "start_time": "2022-09-12T17:47:37.592Z"
   },
   {
    "duration": 22,
    "start_time": "2022-09-12T17:47:50.949Z"
   },
   {
    "duration": 6,
    "start_time": "2022-09-12T17:47:58.996Z"
   },
   {
    "duration": 6,
    "start_time": "2022-09-12T17:48:09.364Z"
   },
   {
    "duration": 3,
    "start_time": "2022-09-12T17:49:10.760Z"
   },
   {
    "duration": 3,
    "start_time": "2022-09-12T17:52:01.105Z"
   },
   {
    "duration": 8,
    "start_time": "2022-09-12T17:52:09.894Z"
   },
   {
    "duration": 41,
    "start_time": "2022-09-12T17:52:42.726Z"
   },
   {
    "duration": 12,
    "start_time": "2022-09-12T17:52:43.244Z"
   },
   {
    "duration": 9,
    "start_time": "2022-09-12T17:52:49.511Z"
   },
   {
    "duration": 208,
    "start_time": "2022-09-12T17:52:55.365Z"
   },
   {
    "duration": 3,
    "start_time": "2022-09-12T17:53:06.757Z"
   },
   {
    "duration": 3,
    "start_time": "2022-09-12T17:53:07.758Z"
   },
   {
    "duration": 90476,
    "start_time": "2022-09-12T17:53:08.013Z"
   },
   {
    "duration": 11,
    "start_time": "2022-09-12T17:54:49.605Z"
   },
   {
    "duration": 4,
    "start_time": "2022-09-12T17:56:15.871Z"
   },
   {
    "duration": 3862,
    "start_time": "2022-09-12T17:57:50.867Z"
   },
   {
    "duration": 37077,
    "start_time": "2022-09-12T17:58:38.973Z"
   },
   {
    "duration": 4,
    "start_time": "2022-09-12T17:59:17.707Z"
   },
   {
    "duration": 2,
    "start_time": "2022-09-12T17:59:18.463Z"
   },
   {
    "duration": 89999,
    "start_time": "2022-09-12T17:59:19.451Z"
   },
   {
    "duration": 34237,
    "start_time": "2022-09-12T18:00:49.452Z"
   },
   {
    "duration": 4,
    "start_time": "2022-09-12T18:03:17.515Z"
   },
   {
    "duration": 2,
    "start_time": "2022-09-12T18:03:19.371Z"
   },
   {
    "duration": 1332,
    "start_time": "2022-09-12T18:08:21.585Z"
   },
   {
    "duration": 858,
    "start_time": "2022-09-12T18:08:22.919Z"
   },
   {
    "duration": 23,
    "start_time": "2022-09-12T18:08:23.778Z"
   },
   {
    "duration": 5,
    "start_time": "2022-09-12T18:08:23.808Z"
   },
   {
    "duration": 258,
    "start_time": "2022-09-12T18:08:23.815Z"
   },
   {
    "duration": 229,
    "start_time": "2022-09-12T18:08:24.075Z"
   },
   {
    "duration": 404,
    "start_time": "2022-09-12T18:08:24.305Z"
   },
   {
    "duration": 21,
    "start_time": "2022-09-12T18:08:24.711Z"
   },
   {
    "duration": 8,
    "start_time": "2022-09-12T18:08:24.734Z"
   },
   {
    "duration": 4,
    "start_time": "2022-09-12T18:08:24.744Z"
   },
   {
    "duration": 89576,
    "start_time": "2022-09-12T18:08:24.749Z"
   },
   {
    "duration": 36,
    "start_time": "2022-09-12T18:10:28.148Z"
   },
   {
    "duration": 1283,
    "start_time": "2022-09-13T07:16:15.655Z"
   },
   {
    "duration": 2271,
    "start_time": "2022-09-13T07:16:16.940Z"
   },
   {
    "duration": 31,
    "start_time": "2022-09-13T07:16:19.213Z"
   },
   {
    "duration": 3,
    "start_time": "2022-09-13T07:16:19.245Z"
   },
   {
    "duration": 285,
    "start_time": "2022-09-13T07:16:19.250Z"
   },
   {
    "duration": 203,
    "start_time": "2022-09-13T07:16:19.536Z"
   },
   {
    "duration": 367,
    "start_time": "2022-09-13T07:16:19.740Z"
   },
   {
    "duration": 26,
    "start_time": "2022-09-13T07:16:20.109Z"
   },
   {
    "duration": 6,
    "start_time": "2022-09-13T07:16:20.136Z"
   },
   {
    "duration": 5,
    "start_time": "2022-09-13T07:16:20.144Z"
   },
   {
    "duration": 85433,
    "start_time": "2022-09-13T07:16:20.647Z"
   },
   {
    "duration": 46,
    "start_time": "2022-09-13T07:17:46.082Z"
   },
   {
    "duration": 118,
    "start_time": "2022-09-13T07:17:46.130Z"
   },
   {
    "duration": 10509,
    "start_time": "2022-09-13T07:40:54.970Z"
   },
   {
    "duration": 2,
    "start_time": "2022-09-13T07:41:06.725Z"
   },
   {
    "duration": 52713,
    "start_time": "2022-09-13T07:41:09.011Z"
   },
   {
    "duration": 378,
    "start_time": "2022-09-13T07:42:04.234Z"
   },
   {
    "duration": 4,
    "start_time": "2022-09-13T07:50:33.693Z"
   },
   {
    "duration": 1231,
    "start_time": "2022-09-13T07:53:42.942Z"
   },
   {
    "duration": 2213,
    "start_time": "2022-09-13T07:53:44.175Z"
   },
   {
    "duration": 29,
    "start_time": "2022-09-13T07:53:46.389Z"
   },
   {
    "duration": 3,
    "start_time": "2022-09-13T07:53:46.420Z"
   },
   {
    "duration": 285,
    "start_time": "2022-09-13T07:53:46.424Z"
   },
   {
    "duration": 203,
    "start_time": "2022-09-13T07:53:46.711Z"
   },
   {
    "duration": 366,
    "start_time": "2022-09-13T07:53:46.915Z"
   },
   {
    "duration": 24,
    "start_time": "2022-09-13T07:53:47.282Z"
   },
   {
    "duration": 17,
    "start_time": "2022-09-13T07:53:47.308Z"
   },
   {
    "duration": 4,
    "start_time": "2022-09-13T07:53:47.327Z"
   },
   {
    "duration": 86112,
    "start_time": "2022-09-13T07:53:47.332Z"
   },
   {
    "duration": 36,
    "start_time": "2022-09-13T07:55:13.446Z"
   },
   {
    "duration": 10454,
    "start_time": "2022-09-13T07:55:13.484Z"
   },
   {
    "duration": 40,
    "start_time": "2022-09-13T07:55:23.940Z"
   },
   {
    "duration": 33744,
    "start_time": "2022-09-13T07:55:23.982Z"
   },
   {
    "duration": 102,
    "start_time": "2022-09-13T07:55:57.728Z"
   },
   {
    "duration": 3,
    "start_time": "2022-09-13T07:57:00.104Z"
   },
   {
    "duration": 21,
    "start_time": "2022-09-13T07:57:12.476Z"
   },
   {
    "duration": 23,
    "start_time": "2022-09-13T07:57:16.768Z"
   },
   {
    "duration": 33562,
    "start_time": "2022-09-13T07:59:03.268Z"
   },
   {
    "duration": 45497,
    "start_time": "2022-09-13T08:00:24.932Z"
   },
   {
    "duration": 45094,
    "start_time": "2022-09-13T08:04:54.438Z"
   },
   {
    "duration": 3,
    "start_time": "2022-09-13T08:05:39.534Z"
   },
   {
    "duration": 132,
    "start_time": "2022-09-13T08:06:03.584Z"
   },
   {
    "duration": 10,
    "start_time": "2022-09-13T08:09:26.620Z"
   },
   {
    "duration": 50,
    "start_time": "2022-09-13T08:09:32.110Z"
   },
   {
    "duration": 54,
    "start_time": "2022-09-13T08:09:47.044Z"
   },
   {
    "duration": 48,
    "start_time": "2022-09-13T08:09:50.335Z"
   },
   {
    "duration": 4,
    "start_time": "2022-09-13T08:09:57.828Z"
   },
   {
    "duration": 37,
    "start_time": "2022-09-13T08:10:14.426Z"
   },
   {
    "duration": 8516,
    "start_time": "2022-09-13T08:10:33.114Z"
   },
   {
    "duration": 6381,
    "start_time": "2022-09-13T08:10:45.229Z"
   },
   {
    "duration": 46,
    "start_time": "2022-09-13T08:10:53.825Z"
   },
   {
    "duration": 34488,
    "start_time": "2022-09-13T08:10:59.456Z"
   },
   {
    "duration": 46694,
    "start_time": "2022-09-13T08:11:33.946Z"
   },
   {
    "duration": 34,
    "start_time": "2022-09-13T08:12:25.116Z"
   },
   {
    "duration": 3,
    "start_time": "2022-09-13T08:17:24.406Z"
   },
   {
    "duration": 3,
    "start_time": "2022-09-13T08:17:25.843Z"
   },
   {
    "duration": 27,
    "start_time": "2022-09-13T08:17:29.524Z"
   },
   {
    "duration": 28,
    "start_time": "2022-09-13T08:17:30.793Z"
   },
   {
    "duration": 5,
    "start_time": "2022-09-13T08:17:50.777Z"
   },
   {
    "duration": 44,
    "start_time": "2022-09-13T08:17:53.859Z"
   },
   {
    "duration": 6300,
    "start_time": "2022-09-13T08:17:58.364Z"
   },
   {
    "duration": 18,
    "start_time": "2022-09-13T08:18:07.851Z"
   },
   {
    "duration": 4061,
    "start_time": "2022-09-13T08:19:48.633Z"
   },
   {
    "duration": 0,
    "start_time": "2022-09-13T08:20:36.436Z"
   },
   {
    "duration": 0,
    "start_time": "2022-09-13T08:20:36.437Z"
   },
   {
    "duration": 31205,
    "start_time": "2022-09-13T08:20:40.117Z"
   },
   {
    "duration": 0,
    "start_time": "2022-09-13T08:21:11.324Z"
   },
   {
    "duration": 0,
    "start_time": "2022-09-13T08:21:11.326Z"
   },
   {
    "duration": 10668,
    "start_time": "2022-09-13T08:22:18.266Z"
   },
   {
    "duration": 51,
    "start_time": "2022-09-13T08:22:28.937Z"
   },
   {
    "duration": 44,
    "start_time": "2022-09-13T08:22:28.991Z"
   },
   {
    "duration": 0,
    "start_time": "2022-09-13T08:22:29.037Z"
   },
   {
    "duration": 0,
    "start_time": "2022-09-13T08:22:29.038Z"
   },
   {
    "duration": 34688,
    "start_time": "2022-09-13T08:22:57.543Z"
   },
   {
    "duration": 46509,
    "start_time": "2022-09-13T08:23:32.233Z"
   },
   {
    "duration": 4,
    "start_time": "2022-09-13T08:24:28.474Z"
   },
   {
    "duration": 31,
    "start_time": "2022-09-13T08:24:40.608Z"
   },
   {
    "duration": 50,
    "start_time": "2022-09-13T08:25:33.954Z"
   },
   {
    "duration": 1299,
    "start_time": "2022-09-13T08:25:40.568Z"
   },
   {
    "duration": 2237,
    "start_time": "2022-09-13T08:25:41.869Z"
   },
   {
    "duration": 25,
    "start_time": "2022-09-13T08:25:44.108Z"
   },
   {
    "duration": 11,
    "start_time": "2022-09-13T08:25:44.134Z"
   },
   {
    "duration": 265,
    "start_time": "2022-09-13T08:25:44.147Z"
   },
   {
    "duration": 196,
    "start_time": "2022-09-13T08:25:44.414Z"
   },
   {
    "duration": 359,
    "start_time": "2022-09-13T08:25:44.612Z"
   },
   {
    "duration": 23,
    "start_time": "2022-09-13T08:25:44.973Z"
   },
   {
    "duration": 6,
    "start_time": "2022-09-13T08:25:44.997Z"
   },
   {
    "duration": 18,
    "start_time": "2022-09-13T08:25:45.005Z"
   },
   {
    "duration": 85418,
    "start_time": "2022-09-13T08:25:45.025Z"
   },
   {
    "duration": 37,
    "start_time": "2022-09-13T08:27:10.445Z"
   },
   {
    "duration": 10504,
    "start_time": "2022-09-13T08:27:10.484Z"
   },
   {
    "duration": 46,
    "start_time": "2022-09-13T08:27:20.991Z"
   },
   {
    "duration": 35493,
    "start_time": "2022-09-13T08:27:21.038Z"
   },
   {
    "duration": 48398,
    "start_time": "2022-09-13T08:27:56.533Z"
   },
   {
    "duration": 4,
    "start_time": "2022-09-13T08:28:44.932Z"
   },
   {
    "duration": 45,
    "start_time": "2022-09-13T10:57:20.302Z"
   },
   {
    "duration": 1278,
    "start_time": "2022-09-13T10:57:25.817Z"
   },
   {
    "duration": 3349,
    "start_time": "2022-09-13T10:57:27.097Z"
   },
   {
    "duration": 38,
    "start_time": "2022-09-13T10:57:30.448Z"
   },
   {
    "duration": 18,
    "start_time": "2022-09-13T10:57:30.489Z"
   },
   {
    "duration": 383,
    "start_time": "2022-09-13T10:57:30.508Z"
   },
   {
    "duration": 202,
    "start_time": "2022-09-13T10:57:30.893Z"
   },
   {
    "duration": 375,
    "start_time": "2022-09-13T10:57:31.096Z"
   },
   {
    "duration": 28,
    "start_time": "2022-09-13T10:57:31.473Z"
   },
   {
    "duration": 9,
    "start_time": "2022-09-13T10:57:31.503Z"
   },
   {
    "duration": 6,
    "start_time": "2022-09-13T10:57:31.514Z"
   },
   {
    "duration": 87822,
    "start_time": "2022-09-13T10:57:31.522Z"
   },
   {
    "duration": 54,
    "start_time": "2022-09-13T10:58:59.346Z"
   },
   {
    "duration": 14649,
    "start_time": "2022-09-13T10:58:59.402Z"
   },
   {
    "duration": 49,
    "start_time": "2022-09-13T10:59:14.053Z"
   },
   {
    "duration": 7014,
    "start_time": "2022-09-13T10:59:14.104Z"
   },
   {
    "duration": 10598,
    "start_time": "2022-09-13T10:59:21.120Z"
   },
   {
    "duration": 4,
    "start_time": "2022-09-13T10:59:31.720Z"
   },
   {
    "duration": 82,
    "start_time": "2022-09-13T11:02:55.236Z"
   },
   {
    "duration": 120,
    "start_time": "2022-09-13T11:03:45.330Z"
   },
   {
    "duration": 9,
    "start_time": "2022-09-13T11:04:05.010Z"
   },
   {
    "duration": 326034,
    "start_time": "2022-09-13T11:04:18.871Z"
   },
   {
    "duration": 0,
    "start_time": "2022-09-13T11:09:44.907Z"
   },
   {
    "duration": 5587,
    "start_time": "2022-09-13T11:09:47.516Z"
   },
   {
    "duration": 0,
    "start_time": "2022-09-13T11:09:53.105Z"
   },
   {
    "duration": 7340,
    "start_time": "2022-09-13T11:10:01.969Z"
   },
   {
    "duration": 1250,
    "start_time": "2022-09-13T11:10:14.375Z"
   },
   {
    "duration": 11,
    "start_time": "2022-09-13T11:10:22.852Z"
   },
   {
    "duration": 12,
    "start_time": "2022-09-13T11:10:32.003Z"
   },
   {
    "duration": 17,
    "start_time": "2022-09-13T11:10:43.471Z"
   },
   {
    "duration": 7153,
    "start_time": "2022-09-13T11:10:53.149Z"
   },
   {
    "duration": 0,
    "start_time": "2022-09-13T11:16:03.000Z"
   },
   {
    "duration": 0,
    "start_time": "2022-09-13T11:16:03.005Z"
   },
   {
    "duration": 0,
    "start_time": "2022-09-13T11:16:03.005Z"
   },
   {
    "duration": 8,
    "start_time": "2022-09-13T11:16:04.294Z"
   },
   {
    "duration": 8,
    "start_time": "2022-09-13T11:17:01.167Z"
   },
   {
    "duration": 8,
    "start_time": "2022-09-13T11:17:03.265Z"
   },
   {
    "duration": 8,
    "start_time": "2022-09-13T11:17:06.324Z"
   },
   {
    "duration": 4,
    "start_time": "2022-09-13T11:17:12.269Z"
   },
   {
    "duration": 8,
    "start_time": "2022-09-13T11:17:16.915Z"
   },
   {
    "duration": 8,
    "start_time": "2022-09-13T11:17:22.020Z"
   },
   {
    "duration": 18,
    "start_time": "2022-09-13T11:17:26.672Z"
   },
   {
    "duration": 19,
    "start_time": "2022-09-13T11:17:30.969Z"
   },
   {
    "duration": 0,
    "start_time": "2022-09-13T11:20:40.394Z"
   },
   {
    "duration": 0,
    "start_time": "2022-09-13T11:20:40.396Z"
   },
   {
    "duration": 1136,
    "start_time": "2022-09-13T11:20:41.274Z"
   },
   {
    "duration": 102,
    "start_time": "2022-09-13T11:20:45.798Z"
   },
   {
    "duration": 1580,
    "start_time": "2022-09-13T11:20:49.691Z"
   },
   {
    "duration": 15,
    "start_time": "2022-09-13T11:21:37.687Z"
   },
   {
    "duration": 9,
    "start_time": "2022-09-13T11:21:59.000Z"
   },
   {
    "duration": 8,
    "start_time": "2022-09-13T11:22:09.562Z"
   },
   {
    "duration": 22,
    "start_time": "2022-09-13T11:22:11.970Z"
   },
   {
    "duration": 101,
    "start_time": "2022-09-13T11:22:24.539Z"
   },
   {
    "duration": 16,
    "start_time": "2022-09-13T11:22:27.892Z"
   },
   {
    "duration": 236409,
    "start_time": "2022-09-13T11:22:42.970Z"
   },
   {
    "duration": 0,
    "start_time": "2022-09-13T11:26:39.401Z"
   },
   {
    "duration": 0,
    "start_time": "2022-09-13T11:26:39.402Z"
   },
   {
    "duration": 1195,
    "start_time": "2022-09-13T11:27:01.932Z"
   },
   {
    "duration": 888,
    "start_time": "2022-09-13T11:27:09.516Z"
   },
   {
    "duration": 1170,
    "start_time": "2022-09-13T11:27:17.997Z"
   },
   {
    "duration": 251,
    "start_time": "2022-09-13T11:27:23.869Z"
   },
   {
    "duration": 1316,
    "start_time": "2022-09-13T11:27:28.620Z"
   },
   {
    "duration": 2972,
    "start_time": "2022-09-13T11:27:33.088Z"
   },
   {
    "duration": 1464,
    "start_time": "2022-09-13T11:27:39.969Z"
   },
   {
    "duration": 1637,
    "start_time": "2022-09-13T11:27:44.577Z"
   },
   {
    "duration": 1802,
    "start_time": "2022-09-13T11:27:49.715Z"
   },
   {
    "duration": 1454,
    "start_time": "2022-09-13T11:27:54.495Z"
   },
   {
    "duration": 1393,
    "start_time": "2022-09-13T11:27:59.969Z"
   },
   {
    "duration": 1444,
    "start_time": "2022-09-13T11:28:04.045Z"
   },
   {
    "duration": 10195,
    "start_time": "2022-09-13T11:28:13.212Z"
   },
   {
    "duration": 1562,
    "start_time": "2022-09-13T11:28:31.301Z"
   },
   {
    "duration": 1905,
    "start_time": "2022-09-13T11:28:38.435Z"
   },
   {
    "duration": 2599,
    "start_time": "2022-09-13T11:28:42.292Z"
   },
   {
    "duration": 2925,
    "start_time": "2022-09-13T11:28:47.736Z"
   },
   {
    "duration": 3019,
    "start_time": "2022-09-13T11:28:53.388Z"
   },
   {
    "duration": 2276,
    "start_time": "2022-09-13T11:29:01.589Z"
   },
   {
    "duration": 2600,
    "start_time": "2022-09-13T11:29:06.513Z"
   },
   {
    "duration": 2967,
    "start_time": "2022-09-13T11:29:12.099Z"
   },
   {
    "duration": 1377,
    "start_time": "2022-09-15T07:34:40.771Z"
   },
   {
    "duration": 2493,
    "start_time": "2022-09-15T07:34:42.150Z"
   },
   {
    "duration": 31,
    "start_time": "2022-09-15T07:34:44.644Z"
   },
   {
    "duration": 3,
    "start_time": "2022-09-15T07:34:44.677Z"
   },
   {
    "duration": 283,
    "start_time": "2022-09-15T07:34:44.681Z"
   },
   {
    "duration": 207,
    "start_time": "2022-09-15T07:34:44.966Z"
   },
   {
    "duration": 426,
    "start_time": "2022-09-15T07:34:45.176Z"
   },
   {
    "duration": 25,
    "start_time": "2022-09-15T07:34:45.603Z"
   },
   {
    "duration": 11,
    "start_time": "2022-09-15T07:34:45.630Z"
   },
   {
    "duration": 3,
    "start_time": "2022-09-15T07:34:45.644Z"
   },
   {
    "duration": 99877,
    "start_time": "2022-09-15T07:34:45.649Z"
   },
   {
    "duration": 37,
    "start_time": "2022-09-15T07:36:25.527Z"
   },
   {
    "duration": 11429,
    "start_time": "2022-09-15T07:36:25.566Z"
   },
   {
    "duration": 50,
    "start_time": "2022-09-15T07:36:36.997Z"
   },
   {
    "duration": 1646,
    "start_time": "2022-09-15T07:36:37.049Z"
   },
   {
    "duration": 3097,
    "start_time": "2022-09-15T07:36:38.697Z"
   },
   {
    "duration": 1353,
    "start_time": "2022-09-15T07:36:41.796Z"
   },
   {
    "duration": 3,
    "start_time": "2022-09-15T07:38:51.889Z"
   },
   {
    "duration": 7,
    "start_time": "2022-09-15T07:38:52.304Z"
   },
   {
    "duration": 2421,
    "start_time": "2022-09-15T07:38:53.519Z"
   },
   {
    "duration": 20,
    "start_time": "2022-09-15T07:39:21.051Z"
   },
   {
    "duration": 72921,
    "start_time": "2022-09-15T07:39:27.615Z"
   },
   {
    "duration": 0,
    "start_time": "2022-09-15T07:40:40.538Z"
   },
   {
    "duration": 0,
    "start_time": "2022-09-15T07:40:40.540Z"
   },
   {
    "duration": 0,
    "start_time": "2022-09-15T07:40:40.541Z"
   },
   {
    "duration": 0,
    "start_time": "2022-09-15T07:40:40.544Z"
   },
   {
    "duration": 0,
    "start_time": "2022-09-15T07:40:40.545Z"
   },
   {
    "duration": 0,
    "start_time": "2022-09-15T07:40:40.547Z"
   },
   {
    "duration": 8,
    "start_time": "2022-09-15T07:40:46.471Z"
   },
   {
    "duration": 216728,
    "start_time": "2022-09-15T07:40:48.274Z"
   },
   {
    "duration": 174,
    "start_time": "2022-09-15T07:50:47.960Z"
   },
   {
    "duration": 11535,
    "start_time": "2022-09-15T07:51:00.155Z"
   },
   {
    "duration": 0,
    "start_time": "2022-09-15T07:51:11.692Z"
   },
   {
    "duration": 9,
    "start_time": "2022-09-15T07:51:12.836Z"
   },
   {
    "duration": 7,
    "start_time": "2022-09-15T07:51:13.240Z"
   },
   {
    "duration": 4,
    "start_time": "2022-09-15T07:51:22.032Z"
   },
   {
    "duration": 8,
    "start_time": "2022-09-15T07:51:30.264Z"
   },
   {
    "duration": 190,
    "start_time": "2022-09-15T07:51:30.802Z"
   },
   {
    "duration": 5,
    "start_time": "2022-09-15T07:51:31.335Z"
   },
   {
    "duration": 4,
    "start_time": "2022-09-15T07:51:32.260Z"
   },
   {
    "duration": 17724,
    "start_time": "2022-09-15T07:51:39.205Z"
   },
   {
    "duration": 24,
    "start_time": "2022-09-15T07:51:59.675Z"
   },
   {
    "duration": 90,
    "start_time": "2022-09-15T07:52:07.602Z"
   },
   {
    "duration": 9,
    "start_time": "2022-09-15T07:52:19.709Z"
   },
   {
    "duration": 205,
    "start_time": "2022-09-15T07:52:20.436Z"
   },
   {
    "duration": 171,
    "start_time": "2022-09-15T07:52:21.224Z"
   },
   {
    "duration": 14,
    "start_time": "2022-09-15T07:52:21.930Z"
   },
   {
    "duration": 2203,
    "start_time": "2022-09-15T07:52:22.652Z"
   },
   {
    "duration": 74,
    "start_time": "2022-09-15T07:52:26.646Z"
   },
   {
    "duration": 45,
    "start_time": "2022-09-15T07:55:43.061Z"
   },
   {
    "duration": 5,
    "start_time": "2022-09-15T07:56:59.427Z"
   },
   {
    "duration": 2,
    "start_time": "2022-09-15T07:58:18.055Z"
   },
   {
    "duration": 10,
    "start_time": "2022-09-15T07:58:18.725Z"
   },
   {
    "duration": 196,
    "start_time": "2022-09-15T07:58:19.244Z"
   },
   {
    "duration": 132,
    "start_time": "2022-09-15T07:58:19.669Z"
   },
   {
    "duration": 12,
    "start_time": "2022-09-15T07:58:20.317Z"
   },
   {
    "duration": 2046,
    "start_time": "2022-09-15T07:58:23.389Z"
   },
   {
    "duration": 51,
    "start_time": "2022-09-15T07:58:26.490Z"
   },
   {
    "duration": 203,
    "start_time": "2022-09-15T08:01:47.778Z"
   },
   {
    "duration": 6215,
    "start_time": "2022-09-15T08:01:56.678Z"
   },
   {
    "duration": 10401,
    "start_time": "2022-09-15T08:02:02.895Z"
   },
   {
    "duration": 204,
    "start_time": "2022-09-15T08:02:13.378Z"
   },
   {
    "duration": 5,
    "start_time": "2022-09-15T08:02:13.584Z"
   },
   {
    "duration": 2002,
    "start_time": "2022-09-15T08:02:13.592Z"
   },
   {
    "duration": 1080,
    "start_time": "2022-09-15T08:02:15.598Z"
   },
   {
    "duration": 2596,
    "start_time": "2022-09-15T08:02:16.681Z"
   },
   {
    "duration": 198,
    "start_time": "2022-09-15T08:02:19.279Z"
   },
   {
    "duration": 8,
    "start_time": "2022-09-15T08:02:19.480Z"
   },
   {
    "duration": 90,
    "start_time": "2022-09-15T08:02:19.489Z"
   },
   {
    "duration": 185810,
    "start_time": "2022-09-15T08:02:19.582Z"
   },
   {
    "duration": 45,
    "start_time": "2022-09-15T08:05:25.394Z"
   },
   {
    "duration": 1426,
    "start_time": "2022-09-15T08:06:54.444Z"
   },
   {
    "duration": 2339,
    "start_time": "2022-09-15T08:06:58.266Z"
   },
   {
    "duration": 32,
    "start_time": "2022-09-15T08:07:01.026Z"
   },
   {
    "duration": 4,
    "start_time": "2022-09-15T08:07:01.815Z"
   },
   {
    "duration": 261,
    "start_time": "2022-09-15T08:07:02.867Z"
   },
   {
    "duration": 195,
    "start_time": "2022-09-15T08:07:03.475Z"
   },
   {
    "duration": 363,
    "start_time": "2022-09-15T08:07:04.095Z"
   },
   {
    "duration": 24,
    "start_time": "2022-09-15T08:07:04.804Z"
   },
   {
    "duration": 3188,
    "start_time": "2022-09-16T15:27:26.208Z"
   },
   {
    "duration": 5,
    "start_time": "2022-09-16T15:27:42.591Z"
   },
   {
    "duration": 4,
    "start_time": "2022-09-16T15:49:36.469Z"
   },
   {
    "duration": 5,
    "start_time": "2022-09-16T15:49:42.072Z"
   },
   {
    "duration": 2136,
    "start_time": "2022-09-16T15:49:44.147Z"
   },
   {
    "duration": 32,
    "start_time": "2022-09-16T15:49:47.346Z"
   },
   {
    "duration": 3,
    "start_time": "2022-09-16T15:49:49.305Z"
   },
   {
    "duration": 276,
    "start_time": "2022-09-16T15:49:49.852Z"
   },
   {
    "duration": 208,
    "start_time": "2022-09-16T15:49:50.235Z"
   },
   {
    "duration": 374,
    "start_time": "2022-09-16T15:49:51.842Z"
   },
   {
    "duration": 26,
    "start_time": "2022-09-16T15:49:52.543Z"
   },
   {
    "duration": 5,
    "start_time": "2022-09-16T15:49:53.279Z"
   },
   {
    "duration": 5,
    "start_time": "2022-09-16T15:49:56.872Z"
   },
   {
    "duration": 85086,
    "start_time": "2022-09-16T15:49:59.343Z"
   },
   {
    "duration": 414,
    "start_time": "2022-09-16T15:51:25.440Z"
   },
   {
    "duration": 3,
    "start_time": "2022-09-16T15:52:02.233Z"
   },
   {
    "duration": 277,
    "start_time": "2022-09-16T15:52:03.968Z"
   },
   {
    "duration": 221,
    "start_time": "2022-09-16T15:52:33.843Z"
   },
   {
    "duration": 4,
    "start_time": "2022-09-16T15:52:46.598Z"
   },
   {
    "duration": 41341,
    "start_time": "2022-09-16T15:52:50.461Z"
   },
   {
    "duration": 52,
    "start_time": "2022-09-16T15:53:33.245Z"
   },
   {
    "duration": 3,
    "start_time": "2022-09-16T15:54:16.933Z"
   },
   {
    "duration": 74177,
    "start_time": "2022-09-16T15:54:19.084Z"
   },
   {
    "duration": 9,
    "start_time": "2022-09-16T15:55:33.263Z"
   },
   {
    "duration": 11,
    "start_time": "2022-09-16T15:56:06.962Z"
   },
   {
    "duration": 4,
    "start_time": "2022-09-16T15:58:18.684Z"
   },
   {
    "duration": 4,
    "start_time": "2022-09-16T15:58:50.247Z"
   },
   {
    "duration": 258,
    "start_time": "2022-09-16T15:58:53.372Z"
   },
   {
    "duration": 341,
    "start_time": "2022-09-16T15:59:33.381Z"
   },
   {
    "duration": 422,
    "start_time": "2022-09-16T15:59:34.804Z"
   },
   {
    "duration": 211,
    "start_time": "2022-09-16T15:59:56.700Z"
   },
   {
    "duration": 2,
    "start_time": "2022-09-16T16:00:00.608Z"
   },
   {
    "duration": 1036311,
    "start_time": "2022-09-16T16:00:02.506Z"
   },
   {
    "duration": 9,
    "start_time": "2022-09-16T16:17:18.819Z"
   },
   {
    "duration": 3,
    "start_time": "2022-09-16T16:28:10.083Z"
   },
   {
    "duration": 20,
    "start_time": "2022-09-16T16:28:10.699Z"
   },
   {
    "duration": 6209,
    "start_time": "2022-09-16T16:28:11.516Z"
   },
   {
    "duration": 1356,
    "start_time": "2022-09-16T16:28:25.286Z"
   },
   {
    "duration": 2714,
    "start_time": "2022-09-16T16:28:26.644Z"
   },
   {
    "duration": 2909,
    "start_time": "2022-09-17T15:53:39.766Z"
   },
   {
    "duration": 2181,
    "start_time": "2022-09-17T15:53:44.166Z"
   },
   {
    "duration": 27,
    "start_time": "2022-09-17T15:53:46.354Z"
   },
   {
    "duration": 3,
    "start_time": "2022-09-17T15:53:46.383Z"
   },
   {
    "duration": 318,
    "start_time": "2022-09-17T15:53:47.861Z"
   },
   {
    "duration": 268,
    "start_time": "2022-09-17T15:53:48.185Z"
   },
   {
    "duration": 507,
    "start_time": "2022-09-17T15:53:48.682Z"
   },
   {
    "duration": 53,
    "start_time": "2022-09-17T15:53:49.191Z"
   },
   {
    "duration": 10,
    "start_time": "2022-09-17T15:53:49.606Z"
   },
   {
    "duration": 8,
    "start_time": "2022-09-17T15:53:51.270Z"
   },
   {
    "duration": 3,
    "start_time": "2022-09-17T15:53:59.579Z"
   },
   {
    "duration": 118335,
    "start_time": "2022-09-17T15:54:01.242Z"
   },
   {
    "duration": 4,
    "start_time": "2022-09-17T15:55:59.579Z"
   },
   {
    "duration": 22,
    "start_time": "2022-09-17T15:55:59.584Z"
   },
   {
    "duration": 533,
    "start_time": "2022-09-17T15:56:53.862Z"
   },
   {
    "duration": 1422661,
    "start_time": "2022-09-17T15:57:05.302Z"
   },
   {
    "duration": 62,
    "start_time": "2022-09-17T16:20:47.965Z"
   },
   {
    "duration": 4,
    "start_time": "2022-09-17T16:27:39.294Z"
   },
   {
    "duration": 14,
    "start_time": "2022-09-17T16:27:59.285Z"
   },
   {
    "duration": 6446,
    "start_time": "2022-09-17T16:28:00.566Z"
   },
   {
    "duration": 2,
    "start_time": "2022-09-17T16:28:32.020Z"
   },
   {
    "duration": 171,
    "start_time": "2022-09-17T16:28:33.108Z"
   },
   {
    "duration": 15,
    "start_time": "2022-09-17T16:32:11.460Z"
   },
   {
    "duration": 22,
    "start_time": "2022-09-17T16:32:17.020Z"
   },
   {
    "duration": 10209,
    "start_time": "2022-09-17T16:33:05.086Z"
   },
   {
    "duration": 10269,
    "start_time": "2022-09-17T16:34:06.304Z"
   },
   {
    "duration": 3,
    "start_time": "2022-09-17T16:34:31.909Z"
   },
   {
    "duration": 22094,
    "start_time": "2022-09-17T16:34:32.388Z"
   },
   {
    "duration": 7,
    "start_time": "2022-09-17T16:48:28.199Z"
   },
   {
    "duration": 9823,
    "start_time": "2022-09-17T16:48:28.766Z"
   },
   {
    "duration": 2,
    "start_time": "2022-09-17T16:48:40.538Z"
   },
   {
    "duration": 546,
    "start_time": "2022-09-17T16:48:42.389Z"
   },
   {
    "duration": 1587,
    "start_time": "2022-09-17T16:49:02.097Z"
   },
   {
    "duration": 23,
    "start_time": "2022-09-17T16:49:07.130Z"
   },
   {
    "duration": 3,
    "start_time": "2022-09-17T16:58:25.882Z"
   },
   {
    "duration": 90,
    "start_time": "2022-09-17T16:58:27.641Z"
   },
   {
    "duration": 4,
    "start_time": "2022-09-17T16:58:31.080Z"
   },
   {
    "duration": 6,
    "start_time": "2022-09-17T16:58:32.305Z"
   },
   {
    "duration": 281,
    "start_time": "2022-09-17T16:58:37.393Z"
   },
   {
    "duration": 3730,
    "start_time": "2022-09-17T16:59:28.542Z"
   },
   {
    "duration": 8,
    "start_time": "2022-09-17T16:59:39.477Z"
   },
   {
    "duration": 4994,
    "start_time": "2022-09-17T16:59:40.171Z"
   },
   {
    "duration": 3310,
    "start_time": "2022-09-17T17:00:33.133Z"
   },
   {
    "duration": 1375,
    "start_time": "2022-09-17T17:02:54.480Z"
   },
   {
    "duration": 90,
    "start_time": "2022-09-17T17:02:59.704Z"
   },
   {
    "duration": 4,
    "start_time": "2022-09-17T17:03:01.103Z"
   },
   {
    "duration": 4,
    "start_time": "2022-09-17T17:03:01.600Z"
   },
   {
    "duration": 270,
    "start_time": "2022-09-17T17:03:03.060Z"
   },
   {
    "duration": 3,
    "start_time": "2022-09-17T17:03:32.065Z"
   },
   {
    "duration": 60,
    "start_time": "2022-09-17T17:03:33.300Z"
   },
   {
    "duration": 5,
    "start_time": "2022-09-17T17:03:33.933Z"
   },
   {
    "duration": 3,
    "start_time": "2022-09-17T17:03:35.299Z"
   },
   {
    "duration": 44,
    "start_time": "2022-09-18T08:54:37.221Z"
   },
   {
    "duration": 186,
    "start_time": "2022-09-18T08:54:57.845Z"
   },
   {
    "duration": 9092,
    "start_time": "2022-09-18T08:57:28.202Z"
   },
   {
    "duration": 2207,
    "start_time": "2022-09-18T08:57:37.297Z"
   },
   {
    "duration": 37,
    "start_time": "2022-09-18T08:57:39.507Z"
   },
   {
    "duration": 4,
    "start_time": "2022-09-18T08:57:39.545Z"
   },
   {
    "duration": 367,
    "start_time": "2022-09-18T08:57:39.551Z"
   },
   {
    "duration": 234,
    "start_time": "2022-09-18T08:57:39.920Z"
   },
   {
    "duration": 447,
    "start_time": "2022-09-18T08:57:40.155Z"
   },
   {
    "duration": 27,
    "start_time": "2022-09-18T08:57:40.605Z"
   },
   {
    "duration": 14,
    "start_time": "2022-09-18T08:57:40.633Z"
   },
   {
    "duration": 6,
    "start_time": "2022-09-18T08:57:40.649Z"
   },
   {
    "duration": 110430,
    "start_time": "2022-09-18T08:57:40.657Z"
   },
   {
    "duration": 3,
    "start_time": "2022-09-18T08:59:31.091Z"
   },
   {
    "duration": 59,
    "start_time": "2022-09-18T08:59:31.095Z"
   },
   {
    "duration": 7,
    "start_time": "2022-09-18T09:00:15.975Z"
   },
   {
    "duration": 23,
    "start_time": "2022-09-18T09:00:17.032Z"
   },
   {
    "duration": 7954,
    "start_time": "2022-09-18T09:00:19.066Z"
   },
   {
    "duration": 150,
    "start_time": "2022-09-18T09:00:55.155Z"
   },
   {
    "duration": 747100,
    "start_time": "2022-09-18T09:01:31.417Z"
   },
   {
    "duration": 282596,
    "start_time": "2022-09-18T09:14:34.695Z"
   },
   {
    "duration": 22078,
    "start_time": "2022-09-18T09:19:26.330Z"
   },
   {
    "duration": 60882,
    "start_time": "2022-09-18T09:20:02.719Z"
   }
  ],
  "kernelspec": {
   "display_name": "Python 3 (ipykernel)",
   "language": "python",
   "name": "python3"
  },
  "language_info": {
   "codemirror_mode": {
    "name": "ipython",
    "version": 3
   },
   "file_extension": ".py",
   "mimetype": "text/x-python",
   "name": "python",
   "nbconvert_exporter": "python",
   "pygments_lexer": "ipython3",
   "version": "3.9.7"
  },
  "toc": {
   "base_numbering": 1,
   "nav_menu": {},
   "number_sections": true,
   "sideBar": true,
   "skip_h1_title": true,
   "title_cell": "Содержание",
   "title_sidebar": "Contents",
   "toc_cell": true,
   "toc_position": {
    "height": "calc(100% - 180px)",
    "left": "10px",
    "top": "150px",
    "width": "302.391px"
   },
   "toc_section_display": true,
   "toc_window_display": true
  }
 },
 "nbformat": 4,
 "nbformat_minor": 2
}
