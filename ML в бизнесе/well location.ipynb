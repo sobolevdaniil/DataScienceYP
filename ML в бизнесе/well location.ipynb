{
 "cells": [
  {
   "cell_type": "markdown",
   "metadata": {},
   "source": [
    "# Выбор локации для скважины"
   ]
  },
  {
   "cell_type": "markdown",
   "metadata": {},
   "source": [
    "Допустим, вы работаете в добывающей компании «ГлавРосГосНефть». Нужно решить, где бурить новую скважину.\n",
    "\n",
    "Вам предоставлены пробы нефти в трёх регионах: в каждом 10 000 месторождений, где измерили качество нефти и объём её запасов. Постройте модель машинного обучения, которая поможет определить регион, где добыча принесёт наибольшую прибыль. Проанализируйте возможную прибыль и риски техникой *Bootstrap.*\n",
    "\n",
    "Шаги для выбора локации:\n",
    "\n",
    "- В избранном регионе ищут месторождения, для каждого определяют значения признаков;\n",
    "- Строят модель и оценивают объём запасов;\n",
    "- Выбирают месторождения с самым высокими оценками значений. Количество месторождений зависит от бюджета компании и стоимости разработки одной скважины;\n",
    "- Прибыль равна суммарной прибыли отобранных месторождений."
   ]
  },
  {
   "cell_type": "markdown",
   "metadata": {},
   "source": [
    "## Загрузка библиотек"
   ]
  },
  {
   "cell_type": "code",
   "execution_count": 1,
   "metadata": {},
   "outputs": [],
   "source": [
    "import pandas as pd\n",
    "import numpy as np\n",
    "from sklearn.model_selection import train_test_split\n",
    "from sklearn.preprocessing import StandardScaler\n",
    "from sklearn.linear_model import LinearRegression\n",
    "from sklearn.metrics import mean_squared_error\n",
    "from sklearn.metrics import mean_absolute_error\n",
    "pd.options.mode.chained_assignment = None"
   ]
  },
  {
   "cell_type": "markdown",
   "metadata": {},
   "source": [
    "## Загрузка и подготовка данных"
   ]
  },
  {
   "cell_type": "code",
   "execution_count": 2,
   "metadata": {},
   "outputs": [],
   "source": [
    "data_0 = pd.read_csv('/Users/daniilsobolev/Desktop/ml projects/ML в бизнесе/geo_data_0.csv')\n",
    "data_1 = pd.read_csv('/Users/daniilsobolev/Desktop/ml projects/ML в бизнесе/geo_data_1.csv')\n",
    "data_2 = pd.read_csv('/Users/daniilsobolev/Desktop/ml projects/ML в бизнесе/geo_data_2.csv')"
   ]
  },
  {
   "cell_type": "code",
   "execution_count": 3,
   "metadata": {
    "scrolled": false
   },
   "outputs": [
    {
     "data": {
      "text/html": [
       "<div>\n",
       "<style scoped>\n",
       "    .dataframe tbody tr th:only-of-type {\n",
       "        vertical-align: middle;\n",
       "    }\n",
       "\n",
       "    .dataframe tbody tr th {\n",
       "        vertical-align: top;\n",
       "    }\n",
       "\n",
       "    .dataframe thead th {\n",
       "        text-align: right;\n",
       "    }\n",
       "</style>\n",
       "<table border=\"1\" class=\"dataframe\">\n",
       "  <thead>\n",
       "    <tr style=\"text-align: right;\">\n",
       "      <th></th>\n",
       "      <th>id</th>\n",
       "      <th>f0</th>\n",
       "      <th>f1</th>\n",
       "      <th>f2</th>\n",
       "      <th>product</th>\n",
       "    </tr>\n",
       "  </thead>\n",
       "  <tbody>\n",
       "    <tr>\n",
       "      <th>39031</th>\n",
       "      <td>p4fp3</td>\n",
       "      <td>0.692938</td>\n",
       "      <td>0.733696</td>\n",
       "      <td>0.819374</td>\n",
       "      <td>54.727979</td>\n",
       "    </tr>\n",
       "    <tr>\n",
       "      <th>50199</th>\n",
       "      <td>tiI5f</td>\n",
       "      <td>0.373257</td>\n",
       "      <td>1.019321</td>\n",
       "      <td>5.816986</td>\n",
       "      <td>145.022819</td>\n",
       "    </tr>\n",
       "    <tr>\n",
       "      <th>31279</th>\n",
       "      <td>mRbA5</td>\n",
       "      <td>1.576501</td>\n",
       "      <td>-0.517157</td>\n",
       "      <td>6.568617</td>\n",
       "      <td>133.555725</td>\n",
       "    </tr>\n",
       "  </tbody>\n",
       "</table>\n",
       "</div>"
      ],
      "text/plain": [
       "          id        f0        f1        f2     product\n",
       "39031  p4fp3  0.692938  0.733696  0.819374   54.727979\n",
       "50199  tiI5f  0.373257  1.019321  5.816986  145.022819\n",
       "31279  mRbA5  1.576501 -0.517157  6.568617  133.555725"
      ]
     },
     "metadata": {},
     "output_type": "display_data"
    }
   ],
   "source": [
    "display(data_0.sample(3))"
   ]
  },
  {
   "cell_type": "code",
   "execution_count": 4,
   "metadata": {},
   "outputs": [
    {
     "name": "stdout",
     "output_type": "stream",
     "text": [
      "<class 'pandas.core.frame.DataFrame'>\n",
      "RangeIndex: 100000 entries, 0 to 99999\n",
      "Data columns (total 5 columns):\n",
      " #   Column   Non-Null Count   Dtype  \n",
      "---  ------   --------------   -----  \n",
      " 0   id       100000 non-null  object \n",
      " 1   f0       100000 non-null  float64\n",
      " 2   f1       100000 non-null  float64\n",
      " 3   f2       100000 non-null  float64\n",
      " 4   product  100000 non-null  float64\n",
      "dtypes: float64(4), object(1)\n",
      "memory usage: 3.8+ MB\n"
     ]
    }
   ],
   "source": [
    "data_0.info()"
   ]
  },
  {
   "cell_type": "code",
   "execution_count": 5,
   "metadata": {
    "scrolled": true
   },
   "outputs": [
    {
     "data": {
      "text/html": [
       "<div>\n",
       "<style scoped>\n",
       "    .dataframe tbody tr th:only-of-type {\n",
       "        vertical-align: middle;\n",
       "    }\n",
       "\n",
       "    .dataframe tbody tr th {\n",
       "        vertical-align: top;\n",
       "    }\n",
       "\n",
       "    .dataframe thead th {\n",
       "        text-align: right;\n",
       "    }\n",
       "</style>\n",
       "<table border=\"1\" class=\"dataframe\">\n",
       "  <thead>\n",
       "    <tr style=\"text-align: right;\">\n",
       "      <th></th>\n",
       "      <th>id</th>\n",
       "      <th>f0</th>\n",
       "      <th>f1</th>\n",
       "      <th>f2</th>\n",
       "      <th>product</th>\n",
       "    </tr>\n",
       "  </thead>\n",
       "  <tbody>\n",
       "    <tr>\n",
       "      <th>83646</th>\n",
       "      <td>cyz0A</td>\n",
       "      <td>17.422562</td>\n",
       "      <td>1.922911</td>\n",
       "      <td>3.994248</td>\n",
       "      <td>107.813044</td>\n",
       "    </tr>\n",
       "    <tr>\n",
       "      <th>44609</th>\n",
       "      <td>1vgZ3</td>\n",
       "      <td>-8.182322</td>\n",
       "      <td>-1.950629</td>\n",
       "      <td>1.005105</td>\n",
       "      <td>30.132364</td>\n",
       "    </tr>\n",
       "    <tr>\n",
       "      <th>83689</th>\n",
       "      <td>YPmJB</td>\n",
       "      <td>-9.794835</td>\n",
       "      <td>-13.504305</td>\n",
       "      <td>0.997823</td>\n",
       "      <td>30.132364</td>\n",
       "    </tr>\n",
       "  </tbody>\n",
       "</table>\n",
       "</div>"
      ],
      "text/plain": [
       "          id         f0         f1        f2     product\n",
       "83646  cyz0A  17.422562   1.922911  3.994248  107.813044\n",
       "44609  1vgZ3  -8.182322  -1.950629  1.005105   30.132364\n",
       "83689  YPmJB  -9.794835 -13.504305  0.997823   30.132364"
      ]
     },
     "metadata": {},
     "output_type": "display_data"
    }
   ],
   "source": [
    "display(data_1.sample(3))"
   ]
  },
  {
   "cell_type": "code",
   "execution_count": 6,
   "metadata": {},
   "outputs": [
    {
     "name": "stdout",
     "output_type": "stream",
     "text": [
      "<class 'pandas.core.frame.DataFrame'>\n",
      "RangeIndex: 100000 entries, 0 to 99999\n",
      "Data columns (total 5 columns):\n",
      " #   Column   Non-Null Count   Dtype  \n",
      "---  ------   --------------   -----  \n",
      " 0   id       100000 non-null  object \n",
      " 1   f0       100000 non-null  float64\n",
      " 2   f1       100000 non-null  float64\n",
      " 3   f2       100000 non-null  float64\n",
      " 4   product  100000 non-null  float64\n",
      "dtypes: float64(4), object(1)\n",
      "memory usage: 3.8+ MB\n"
     ]
    }
   ],
   "source": [
    "data_1.info()"
   ]
  },
  {
   "cell_type": "code",
   "execution_count": 7,
   "metadata": {
    "scrolled": true
   },
   "outputs": [
    {
     "data": {
      "text/html": [
       "<div>\n",
       "<style scoped>\n",
       "    .dataframe tbody tr th:only-of-type {\n",
       "        vertical-align: middle;\n",
       "    }\n",
       "\n",
       "    .dataframe tbody tr th {\n",
       "        vertical-align: top;\n",
       "    }\n",
       "\n",
       "    .dataframe thead th {\n",
       "        text-align: right;\n",
       "    }\n",
       "</style>\n",
       "<table border=\"1\" class=\"dataframe\">\n",
       "  <thead>\n",
       "    <tr style=\"text-align: right;\">\n",
       "      <th></th>\n",
       "      <th>id</th>\n",
       "      <th>f0</th>\n",
       "      <th>f1</th>\n",
       "      <th>f2</th>\n",
       "      <th>product</th>\n",
       "    </tr>\n",
       "  </thead>\n",
       "  <tbody>\n",
       "    <tr>\n",
       "      <th>91396</th>\n",
       "      <td>jkfzV</td>\n",
       "      <td>-1.673600</td>\n",
       "      <td>1.610521</td>\n",
       "      <td>-0.639270</td>\n",
       "      <td>107.124538</td>\n",
       "    </tr>\n",
       "    <tr>\n",
       "      <th>63243</th>\n",
       "      <td>U9hLI</td>\n",
       "      <td>0.819895</td>\n",
       "      <td>2.714162</td>\n",
       "      <td>3.364924</td>\n",
       "      <td>165.718428</td>\n",
       "    </tr>\n",
       "    <tr>\n",
       "      <th>71152</th>\n",
       "      <td>9oZiR</td>\n",
       "      <td>-0.133357</td>\n",
       "      <td>0.823229</td>\n",
       "      <td>6.216855</td>\n",
       "      <td>35.716360</td>\n",
       "    </tr>\n",
       "  </tbody>\n",
       "</table>\n",
       "</div>"
      ],
      "text/plain": [
       "          id        f0        f1        f2     product\n",
       "91396  jkfzV -1.673600  1.610521 -0.639270  107.124538\n",
       "63243  U9hLI  0.819895  2.714162  3.364924  165.718428\n",
       "71152  9oZiR -0.133357  0.823229  6.216855   35.716360"
      ]
     },
     "metadata": {},
     "output_type": "display_data"
    }
   ],
   "source": [
    "display(data_2.sample(3))"
   ]
  },
  {
   "cell_type": "code",
   "execution_count": 8,
   "metadata": {
    "scrolled": true
   },
   "outputs": [
    {
     "name": "stdout",
     "output_type": "stream",
     "text": [
      "<class 'pandas.core.frame.DataFrame'>\n",
      "RangeIndex: 100000 entries, 0 to 99999\n",
      "Data columns (total 5 columns):\n",
      " #   Column   Non-Null Count   Dtype  \n",
      "---  ------   --------------   -----  \n",
      " 0   id       100000 non-null  object \n",
      " 1   f0       100000 non-null  float64\n",
      " 2   f1       100000 non-null  float64\n",
      " 3   f2       100000 non-null  float64\n",
      " 4   product  100000 non-null  float64\n",
      "dtypes: float64(4), object(1)\n",
      "memory usage: 3.8+ MB\n"
     ]
    }
   ],
   "source": [
    "data_2.info()"
   ]
  },
  {
   "cell_type": "code",
   "execution_count": 9,
   "metadata": {},
   "outputs": [
    {
     "name": "stdout",
     "output_type": "stream",
     "text": [
      "0\n",
      "0\n",
      "0\n"
     ]
    }
   ],
   "source": [
    "print(data_0.duplicated().sum())\n",
    "print(data_1.duplicated().sum())\n",
    "print(data_2.duplicated().sum())"
   ]
  },
  {
   "cell_type": "markdown",
   "metadata": {},
   "source": [
    "### Вывод:"
   ]
  },
  {
   "cell_type": "markdown",
   "metadata": {},
   "source": [
    "В каждой таблице четыре признака, один из которых целевой - product. \n",
    "\n",
    "Целевой признак - количественный, следовательно, решаем задачу регрессии.\n",
    "\n",
    "Данные без пропусков, без дубликатов."
   ]
  },
  {
   "cell_type": "markdown",
   "metadata": {},
   "source": [
    "## Подготвка данных к обучению"
   ]
  },
  {
   "cell_type": "markdown",
   "metadata": {},
   "source": [
    "В каждом наборе данных у нас есть лишний столбец - id, удалим его.\n",
    "\n",
    "Отделим целевой признак в отдельную таблицу. \n",
    "\n",
    "Разделим данные на тестовую и валидационную выборки в соотношении 3:1.\n",
    "\n",
    "После проведем масштабирование - стандартизацию признаков."
   ]
  },
  {
   "cell_type": "markdown",
   "metadata": {},
   "source": [
    "### DATA 0"
   ]
  },
  {
   "cell_type": "code",
   "execution_count": 10,
   "metadata": {},
   "outputs": [],
   "source": [
    "data_0 = data_0.drop(['id'], axis=1)"
   ]
  },
  {
   "cell_type": "code",
   "execution_count": 11,
   "metadata": {},
   "outputs": [],
   "source": [
    "features_0 = data_0.drop(['product'], axis=1)\n",
    "target_0 = data_0['product']"
   ]
  },
  {
   "cell_type": "code",
   "execution_count": 12,
   "metadata": {},
   "outputs": [],
   "source": [
    "features_train_0, features_valid_0, target_train_0, target_valid_0 = train_test_split(features_0, target_0, \n",
    "                                                                              test_size=0.25, \n",
    "                                                                              random_state=12345)"
   ]
  },
  {
   "cell_type": "code",
   "execution_count": 13,
   "metadata": {},
   "outputs": [],
   "source": [
    "numeric = ['f0', 'f1', 'f2']\n",
    "\n",
    "scaler = StandardScaler()\n",
    "scaler.fit(features_train_0[numeric])\n",
    "\n",
    "features_train_0[numeric] = pd.DataFrame(scaler.transform(features_train_0[numeric]), \n",
    "                                       features_train_0[numeric].index, \n",
    "                                       features_train_0[numeric].columns)\n",
    "\n",
    "features_valid_0[numeric] = pd.DataFrame(scaler.transform(features_valid_0[numeric]), \n",
    "                                       features_valid_0[numeric].index, \n",
    "                                       features_valid_0[numeric].columns)"
   ]
  },
  {
   "cell_type": "markdown",
   "metadata": {},
   "source": [
    "### DATA 1"
   ]
  },
  {
   "cell_type": "code",
   "execution_count": 14,
   "metadata": {},
   "outputs": [],
   "source": [
    "data_1 = data_1.drop(['id'], axis=1)"
   ]
  },
  {
   "cell_type": "code",
   "execution_count": 15,
   "metadata": {},
   "outputs": [],
   "source": [
    "features_1 = data_1.drop(['product'], axis=1)\n",
    "target_1 = data_1['product']"
   ]
  },
  {
   "cell_type": "code",
   "execution_count": 16,
   "metadata": {},
   "outputs": [],
   "source": [
    "features_train_1, features_valid_1, target_train_1, target_valid_1 = train_test_split(features_1, target_1, \n",
    "                                                                              test_size=0.25, \n",
    "                                                                              random_state=12345)"
   ]
  },
  {
   "cell_type": "code",
   "execution_count": 17,
   "metadata": {
    "scrolled": true
   },
   "outputs": [],
   "source": [
    "scaler = StandardScaler()\n",
    "scaler.fit(features_train_0[numeric])\n",
    "\n",
    "features_train_1[numeric] = pd.DataFrame(scaler.transform(features_train_1[numeric]), \n",
    "                                       features_train_1[numeric].index, \n",
    "                                       features_train_1[numeric].columns)\n",
    "\n",
    "features_valid_1[numeric] = pd.DataFrame(scaler.transform(features_valid_1[numeric]), \n",
    "                                       features_valid_1[numeric].index, \n",
    "                                       features_valid_1[numeric].columns)"
   ]
  },
  {
   "cell_type": "markdown",
   "metadata": {},
   "source": [
    "### DATA 2"
   ]
  },
  {
   "cell_type": "code",
   "execution_count": 18,
   "metadata": {},
   "outputs": [],
   "source": [
    "data_2 = data_2.drop(['id'], axis=1)"
   ]
  },
  {
   "cell_type": "code",
   "execution_count": 19,
   "metadata": {},
   "outputs": [],
   "source": [
    "features_2 = data_2.drop(['product'], axis=1)\n",
    "target_2 = data_2['product']"
   ]
  },
  {
   "cell_type": "code",
   "execution_count": 20,
   "metadata": {},
   "outputs": [],
   "source": [
    "features_train_2, features_valid_2, target_train_2, target_valid_2 = train_test_split(features_2, target_2, \n",
    "                                                                              test_size=0.25, \n",
    "                                                                              random_state=12345)"
   ]
  },
  {
   "cell_type": "code",
   "execution_count": 21,
   "metadata": {
    "scrolled": true
   },
   "outputs": [],
   "source": [
    "scaler = StandardScaler()\n",
    "scaler.fit(features_train_0[numeric])\n",
    "\n",
    "features_train_2[numeric] = pd.DataFrame(scaler.transform(features_train_2[numeric]), \n",
    "                                       features_train_2[numeric].index, \n",
    "                                       features_train_2[numeric].columns)\n",
    "\n",
    "features_valid_2[numeric] = pd.DataFrame(scaler.transform(features_valid_2[numeric]), \n",
    "                                       features_valid_2[numeric].index, \n",
    "                                       features_valid_2[numeric].columns)"
   ]
  },
  {
   "cell_type": "markdown",
   "metadata": {},
   "source": [
    "## Обучение и проверка модели"
   ]
  },
  {
   "cell_type": "markdown",
   "metadata": {},
   "source": [
    "### DATA 0"
   ]
  },
  {
   "cell_type": "code",
   "execution_count": 22,
   "metadata": {
    "scrolled": true
   },
   "outputs": [
    {
     "name": "stdout",
     "output_type": "stream",
     "text": [
      "RMSE: 37.5794217150813\n",
      "MAE: 30.919600777151313\n",
      "Среднее значение предсказаний: 92.59256778438035\n",
      "Среднее значение ответов: 92.07859674082941\n"
     ]
    }
   ],
   "source": [
    "model = LinearRegression()\n",
    "model.fit(features_train_0, target_train_0)\n",
    "\n",
    "prediction_0 = model.predict(features_valid_0)\n",
    "mse = mean_squared_error(target_valid_0, prediction_0)\n",
    "print('RMSE:', mse ** 0.5)\n",
    "print('MAE:', mean_absolute_error(target_valid_0, prediction_0))\n",
    "\n",
    "print('Среднее значение предсказаний:', prediction_0.mean())\n",
    "print('Среднее значение ответов:', target_valid_0.mean())"
   ]
  },
  {
   "cell_type": "markdown",
   "metadata": {},
   "source": [
    "### DATA 1"
   ]
  },
  {
   "cell_type": "code",
   "execution_count": 23,
   "metadata": {
    "scrolled": true
   },
   "outputs": [
    {
     "name": "stdout",
     "output_type": "stream",
     "text": [
      "RMSE: 0.893099286775617\n",
      "MAE: 0.7187662442124758\n",
      "Среднее значение предсказаний: 68.728546895446\n",
      "Среднее значение ответов: 68.72313602437494\n"
     ]
    }
   ],
   "source": [
    "model = LinearRegression()\n",
    "model.fit(features_train_1, target_train_1)\n",
    "\n",
    "prediction_1 = model.predict(features_valid_1)\n",
    "mse = mean_squared_error(target_valid_1, prediction_1)\n",
    "print('RMSE:', mse ** 0.5)\n",
    "print('MAE:', mean_absolute_error(target_valid_1, prediction_1))\n",
    "\n",
    "print('Среднее значение предсказаний:', prediction_1.mean())\n",
    "print('Среднее значение ответов:', target_valid_1.mean())"
   ]
  },
  {
   "cell_type": "markdown",
   "metadata": {},
   "source": [
    "### DATA 2"
   ]
  },
  {
   "cell_type": "code",
   "execution_count": 24,
   "metadata": {
    "scrolled": false
   },
   "outputs": [
    {
     "name": "stdout",
     "output_type": "stream",
     "text": [
      "RMSE: 40.02970873393434\n",
      "MAE: 32.792652105481814\n",
      "Среднее значение предсказаний: 94.96504596800489\n",
      "Среднее значение ответов: 94.88423280885489\n"
     ]
    }
   ],
   "source": [
    "model = LinearRegression()\n",
    "model.fit(features_train_2, target_train_2)\n",
    "\n",
    "prediction_2 = model.predict(features_valid_2)\n",
    "mse = mean_squared_error(target_valid_2, prediction_2)\n",
    "print('RMSE:', mse ** 0.5)\n",
    "print('MAE:', mean_absolute_error(target_valid_2, prediction_2))\n",
    "\n",
    "print('Среднее значение предсказаний:', prediction_2.mean())\n",
    "print('Среднее значение ответов:', target_valid_2.mean())"
   ]
  },
  {
   "cell_type": "markdown",
   "metadata": {},
   "source": [
    "### Вывод:"
   ]
  },
  {
   "cell_type": "markdown",
   "metadata": {},
   "source": [
    "В каждом датасете среднее значение предсказаний слабо отличается от среднего значения ответов. Но среднеквадртаичное отклонение в нулевом и во втором, достигает отметки в районе 35-40. \n",
    "\n",
    "А в первом в районе около 1. То есть в этом случае модель лучше предсказывает."
   ]
  },
  {
   "cell_type": "markdown",
   "metadata": {},
   "source": [
    "## Расчёт прибыли и рисков"
   ]
  },
  {
   "cell_type": "markdown",
   "metadata": {},
   "source": [
    "### Достаточный объём сырья для безубыточной разработки:"
   ]
  },
  {
   "cell_type": "code",
   "execution_count": 25,
   "metadata": {
    "scrolled": true
   },
   "outputs": [
    {
     "name": "stdout",
     "output_type": "stream",
     "text": [
      "Достаточный объём сырья для одной скважины: 111.11111111111111\n"
     ]
    }
   ],
   "source": [
    "BUDGET = 10000000000 #10 млрд\n",
    "ONE_BURREL = 450000 #450 тыс\n",
    "COUNT = 200 # количество скважин\n",
    "\n",
    "volume = BUDGET / ONE_BURREL / COUNT\n",
    "print('Достаточный объём сырья для одной скважины:', volume)"
   ]
  },
  {
   "cell_type": "code",
   "execution_count": 26,
   "metadata": {
    "scrolled": true
   },
   "outputs": [
    {
     "name": "stdout",
     "output_type": "stream",
     "text": [
      "Средний объём в нулевом регионе: 92.59256778438035\n",
      "Средний объём в первом регионе: 68.728546895446\n",
      "Средний объём во втором регионе: 94.96504596800489\n"
     ]
    }
   ],
   "source": [
    "print('Средний объём в нулевом регионе:', prediction_0.mean())\n",
    "print('Средний объём в первом регионе:', prediction_1.mean())\n",
    "print('Средний объём во втором регионе:', prediction_2.mean())"
   ]
  },
  {
   "cell_type": "markdown",
   "metadata": {},
   "source": [
    "#### Вывод"
   ]
  },
  {
   "cell_type": "markdown",
   "metadata": {},
   "source": [
    "Средний объём сырья в одной скважине в каждом из регионов меньше, чем объём необходимый для безубыточной разработки новых скважин. Следовательно, не стоит разрабатывать все скважины в регионе, будем отбирать их по лучшим предсказаниям."
   ]
  },
  {
   "cell_type": "markdown",
   "metadata": {},
   "source": [
    "### Функция для подсчета прибыли:"
   ]
  },
  {
   "cell_type": "code",
   "execution_count": 27,
   "metadata": {},
   "outputs": [],
   "source": [
    "def revenue(target, probabilities, count):\n",
    "    probs_sorted = probabilities.sort_values(ascending=False)\n",
    "    selected = target[probs_sorted.index][:count]\n",
    "    return 450 * selected.sum() - 10000000"
   ]
  },
  {
   "cell_type": "markdown",
   "metadata": {},
   "source": [
    "### DATA 0"
   ]
  },
  {
   "cell_type": "code",
   "execution_count": 28,
   "metadata": {},
   "outputs": [],
   "source": [
    "target = target_valid_0\n",
    "probabilities = pd.Series(prediction_0, index=target.index)"
   ]
  },
  {
   "cell_type": "code",
   "execution_count": 29,
   "metadata": {},
   "outputs": [],
   "source": [
    "state = np.random.RandomState(12345)\n",
    "values = []\n",
    "count = 0\n",
    "\n",
    "for i in range(1000):\n",
    "    target_subsample = target.sample(n=500, replace=True, random_state=state)\n",
    "    probs_subsample = probabilities[target_subsample.index]\n",
    "    \n",
    "    values.append(revenue(target_subsample, probs_subsample, 200))\n",
    "    \n",
    "    if revenue(target_subsample, probs_subsample, 200) < 0:\n",
    "        count += 1"
   ]
  },
  {
   "cell_type": "code",
   "execution_count": 30,
   "metadata": {},
   "outputs": [
    {
     "name": "stdout",
     "output_type": "stream",
     "text": [
      "Риск уйти в убыток: 6.0 %\n",
      "Средняя прибыль: 425938 тыс.\n",
      "2.5% нижний квантиль: -102090 тыс.\n",
      "2.5% верхний квантиль: 947976 тыс.\n"
     ]
    }
   ],
   "source": [
    "values = pd.Series(values)\n",
    "lower = values.quantile(0.025)\n",
    "upper = values.quantile(0.975)\n",
    "\n",
    "print('Риск уйти в убыток:', count/1000 * 100, '%')\n",
    "\n",
    "mean = values.mean()\n",
    "print(\"Средняя прибыль:\", int(mean), 'тыс.')\n",
    "print(\"2.5% нижний квантиль:\", int(lower), 'тыс.')\n",
    "print(\"2.5% верхний квантиль:\", int(upper), 'тыс.')"
   ]
  },
  {
   "cell_type": "markdown",
   "metadata": {},
   "source": [
    "### DATA 1"
   ]
  },
  {
   "cell_type": "code",
   "execution_count": 31,
   "metadata": {},
   "outputs": [],
   "source": [
    "target = target_valid_1\n",
    "probabilities = pd.Series(prediction_1, index=target.index)"
   ]
  },
  {
   "cell_type": "code",
   "execution_count": 32,
   "metadata": {},
   "outputs": [],
   "source": [
    "state = np.random.RandomState(12345)\n",
    "values = []\n",
    "count = 0\n",
    "\n",
    "for i in range(1000):\n",
    "    target_subsample = target.sample(n=500, replace=True, random_state=state)\n",
    "    probs_subsample = probabilities[target_subsample.index]\n",
    "    \n",
    "    values.append(revenue(target_subsample, probs_subsample, 200))\n",
    "    \n",
    "    if revenue(target_subsample, probs_subsample, 200) < 0:\n",
    "        count += 1"
   ]
  },
  {
   "cell_type": "code",
   "execution_count": 33,
   "metadata": {},
   "outputs": [
    {
     "name": "stdout",
     "output_type": "stream",
     "text": [
      "Риск уйти в убыток: 1.0 %\n",
      "Средняя прибыль: 515222 тыс.\n",
      "2.5% нижний квантиль: 68873 тыс.\n",
      "2.5% верхний квантиль: 931547 тыс.\n"
     ]
    }
   ],
   "source": [
    "values = pd.Series(values)\n",
    "lower = values.quantile(0.025)\n",
    "upper = values.quantile(0.975)\n",
    "\n",
    "print('Риск уйти в убыток:', count/1000 * 100, '%')\n",
    "\n",
    "mean = values.mean()\n",
    "print(\"Средняя прибыль:\", int(mean), 'тыс.')\n",
    "print(\"2.5% нижний квантиль:\", int(lower), 'тыс.')\n",
    "print(\"2.5% верхний квантиль:\", int(upper), 'тыс.')"
   ]
  },
  {
   "cell_type": "markdown",
   "metadata": {},
   "source": [
    "### DATA 2"
   ]
  },
  {
   "cell_type": "code",
   "execution_count": 34,
   "metadata": {},
   "outputs": [],
   "source": [
    "target = target_valid_2\n",
    "probabilities = pd.Series(prediction_2, index=target.index)"
   ]
  },
  {
   "cell_type": "code",
   "execution_count": 35,
   "metadata": {},
   "outputs": [],
   "source": [
    "state = np.random.RandomState(12345)\n",
    "values = []\n",
    "count = 0\n",
    "\n",
    "for i in range(1000):\n",
    "    target_subsample = target.sample(n=500, replace=True, random_state=state)\n",
    "    probs_subsample = probabilities[target_subsample.index]\n",
    "    \n",
    "    values.append(revenue(target_subsample, probs_subsample, 200))\n",
    "    \n",
    "    if revenue(target_subsample, probs_subsample, 200) < 0:\n",
    "        count += 1"
   ]
  },
  {
   "cell_type": "code",
   "execution_count": 36,
   "metadata": {
    "scrolled": true
   },
   "outputs": [
    {
     "name": "stdout",
     "output_type": "stream",
     "text": [
      "Риск уйти в убыток: 6.4 %\n",
      "Средняя прибыль: 435008 тыс.\n",
      "2.5% нижний квантиль: -128880 тыс.\n",
      "2.5% верхний квантиль: 969706 тыс.\n"
     ]
    }
   ],
   "source": [
    "values = pd.Series(values)\n",
    "lower = values.quantile(0.025)\n",
    "upper = values.quantile(0.975)\n",
    "\n",
    "print('Риск уйти в убыток:', count/1000 * 100, '%')\n",
    "\n",
    "mean = values.mean()\n",
    "print(\"Средняя прибыль:\", int(mean), 'тыс.')\n",
    "print(\"2.5% нижний квантиль:\", int(lower), 'тыс.')\n",
    "print(\"2.5% верхний квантиль:\", int(upper), 'тыс.')"
   ]
  },
  {
   "cell_type": "markdown",
   "metadata": {},
   "source": [
    "### Вывод:"
   ]
  },
  {
   "cell_type": "markdown",
   "metadata": {},
   "source": [
    "Безубыточная работа с вероятностью убытков меньше 2.5% только в первом регионе(data 1). Поэтому для разработки скважин следует выбрать именно его."
   ]
  },
  {
   "cell_type": "markdown",
   "metadata": {},
   "source": [
    "## Общий вывод"
   ]
  },
  {
   "cell_type": "markdown",
   "metadata": {},
   "source": [
    "В ходе проекта были изучены три датасета - пробы нефти в трёх регионах. Также была построена модель для определния региона, где добыча принесет наибольшую прибыль. А также проанализированы риски и прибыль каждого региона.<br>\n",
    "\n",
    "В первую очередь данные были подготовлены к обучению: \n",
    "- были удалены лишние признаки, \n",
    "- данные разделены на целевой и другие признаки, \n",
    "- данные разделены на обучающую и валидациаонную выборки в соотношении 3:1,\n",
    "- масштабированы путем стандартизации данных\n",
    "\n",
    "Далее рассматривался алгоритм линейной регрессии, так как он лучше предсказывает в подобных ситуциях:\n",
    "- были обучены модели,\n",
    "- сделаны предсказания, \n",
    "- рассчитаны средний запас предсказанного сырья и метрика RMSE\n",
    "Было получено, что на нулевом и втором датасетах модель плохо предсказывала, так как была большая метрика RMSE (-40), а на первом маленькая (-1), но средние значения показаний, наоборот, на первом датасете были меньше (-70), на других (-95).\n",
    "\n",
    "\n",
    "Был рассчитан достаточный объём сырья для каждой скважины, были сделаны выводы, если будут исследоваться все скважины в регионе, но нефтедобывающая компания уйдет в убыток. \n",
    "\n",
    "В заключении были рассчитаны риски уйти в убыток для каждого региона. Требования компании были в том, чтобы вероятность убытков была меньше 2,5%, таким требованиям удовлетворял только первый регион (вероятность уйти в убыток - 1%). Средняя прибыль в этом регионе может составить 515 222 тыс. рублей.\n"
   ]
  }
 ],
 "metadata": {
  "ExecuteTimeLog": [
   {
    "duration": 86,
    "start_time": "2022-06-08T11:14:41.516Z"
   },
   {
    "duration": 405,
    "start_time": "2022-06-08T11:14:44.357Z"
   },
   {
    "duration": 862,
    "start_time": "2022-06-08T11:14:45.980Z"
   },
   {
    "duration": 22,
    "start_time": "2022-06-08T11:15:04.514Z"
   },
   {
    "duration": 24,
    "start_time": "2022-06-08T11:16:13.071Z"
   },
   {
    "duration": 13,
    "start_time": "2022-06-08T11:16:25.711Z"
   },
   {
    "duration": 12,
    "start_time": "2022-06-08T11:16:34.905Z"
   },
   {
    "duration": 15,
    "start_time": "2022-06-08T11:16:42.267Z"
   },
   {
    "duration": 11,
    "start_time": "2022-06-08T11:16:46.522Z"
   },
   {
    "duration": 10,
    "start_time": "2022-06-08T11:16:49.110Z"
   },
   {
    "duration": 11,
    "start_time": "2022-06-08T11:16:52.265Z"
   },
   {
    "duration": 19,
    "start_time": "2022-06-08T11:17:31.227Z"
   },
   {
    "duration": 16,
    "start_time": "2022-06-08T11:17:42.722Z"
   },
   {
    "duration": 15,
    "start_time": "2022-06-08T11:17:45.025Z"
   },
   {
    "duration": 14,
    "start_time": "2022-06-08T11:17:49.877Z"
   },
   {
    "duration": 8,
    "start_time": "2022-06-08T11:26:39.548Z"
   },
   {
    "duration": 37,
    "start_time": "2022-06-08T11:26:54.345Z"
   },
   {
    "duration": 383,
    "start_time": "2022-06-08T11:27:14.566Z"
   },
   {
    "duration": 387,
    "start_time": "2022-06-08T11:27:14.951Z"
   },
   {
    "duration": 19,
    "start_time": "2022-06-08T11:27:15.340Z"
   },
   {
    "duration": 15,
    "start_time": "2022-06-08T11:27:15.362Z"
   },
   {
    "duration": 11,
    "start_time": "2022-06-08T11:27:15.378Z"
   },
   {
    "duration": 41,
    "start_time": "2022-06-08T11:27:15.390Z"
   },
   {
    "duration": 12,
    "start_time": "2022-06-08T11:27:15.433Z"
   },
   {
    "duration": 15,
    "start_time": "2022-06-08T11:27:15.447Z"
   },
   {
    "duration": 18,
    "start_time": "2022-06-08T11:27:15.463Z"
   },
   {
    "duration": 10,
    "start_time": "2022-06-08T11:28:54.035Z"
   },
   {
    "duration": 9,
    "start_time": "2022-06-08T11:40:22.772Z"
   },
   {
    "duration": 5,
    "start_time": "2022-06-08T11:40:35.925Z"
   },
   {
    "duration": 26,
    "start_time": "2022-06-08T11:41:58.510Z"
   },
   {
    "duration": 3,
    "start_time": "2022-06-08T11:43:04.796Z"
   },
   {
    "duration": 363,
    "start_time": "2022-06-08T11:43:06.060Z"
   },
   {
    "duration": 10,
    "start_time": "2022-06-08T11:43:06.426Z"
   },
   {
    "duration": 14,
    "start_time": "2022-06-08T11:43:06.716Z"
   },
   {
    "duration": 11,
    "start_time": "2022-06-08T11:43:06.916Z"
   },
   {
    "duration": 14,
    "start_time": "2022-06-08T11:43:07.089Z"
   },
   {
    "duration": 12,
    "start_time": "2022-06-08T11:43:07.267Z"
   },
   {
    "duration": 15,
    "start_time": "2022-06-08T11:43:07.427Z"
   },
   {
    "duration": 12,
    "start_time": "2022-06-08T11:43:08.106Z"
   },
   {
    "duration": 10,
    "start_time": "2022-06-08T11:43:08.375Z"
   },
   {
    "duration": 23,
    "start_time": "2022-06-08T11:43:08.902Z"
   },
   {
    "duration": 22,
    "start_time": "2022-06-08T11:43:09.468Z"
   },
   {
    "duration": 8,
    "start_time": "2022-06-08T11:43:18.977Z"
   },
   {
    "duration": 6,
    "start_time": "2022-06-08T11:43:37.379Z"
   },
   {
    "duration": 21,
    "start_time": "2022-06-08T11:45:23.132Z"
   },
   {
    "duration": 23,
    "start_time": "2022-06-08T11:45:23.707Z"
   },
   {
    "duration": 826,
    "start_time": "2022-06-08T11:47:58.262Z"
   },
   {
    "duration": 360,
    "start_time": "2022-06-08T11:47:59.090Z"
   },
   {
    "duration": 17,
    "start_time": "2022-06-08T11:47:59.452Z"
   },
   {
    "duration": 29,
    "start_time": "2022-06-08T11:47:59.472Z"
   },
   {
    "duration": 15,
    "start_time": "2022-06-08T11:47:59.504Z"
   },
   {
    "duration": 38,
    "start_time": "2022-06-08T11:47:59.521Z"
   },
   {
    "duration": 22,
    "start_time": "2022-06-08T11:47:59.561Z"
   },
   {
    "duration": 25,
    "start_time": "2022-06-08T11:47:59.584Z"
   },
   {
    "duration": 21,
    "start_time": "2022-06-08T11:47:59.611Z"
   },
   {
    "duration": 18,
    "start_time": "2022-06-08T11:47:59.635Z"
   },
   {
    "duration": 33,
    "start_time": "2022-06-08T11:47:59.654Z"
   },
   {
    "duration": 39,
    "start_time": "2022-06-08T11:47:59.688Z"
   },
   {
    "duration": 6,
    "start_time": "2022-06-08T11:47:59.728Z"
   },
   {
    "duration": 26,
    "start_time": "2022-06-08T11:47:59.736Z"
   },
   {
    "duration": 27,
    "start_time": "2022-06-08T11:47:59.763Z"
   },
   {
    "duration": 28,
    "start_time": "2022-06-08T11:47:59.791Z"
   },
   {
    "duration": 18,
    "start_time": "2022-06-08T11:47:59.820Z"
   },
   {
    "duration": 15,
    "start_time": "2022-06-08T11:47:59.840Z"
   },
   {
    "duration": 36,
    "start_time": "2022-06-08T11:47:59.857Z"
   },
   {
    "duration": 35,
    "start_time": "2022-06-08T11:47:59.895Z"
   },
   {
    "duration": 104,
    "start_time": "2022-06-08T12:40:36.314Z"
   },
   {
    "duration": 113,
    "start_time": "2022-06-08T12:40:39.338Z"
   },
   {
    "duration": 16,
    "start_time": "2022-06-08T12:40:41.863Z"
   },
   {
    "duration": 22,
    "start_time": "2022-06-08T12:41:23.928Z"
   },
   {
    "duration": 20,
    "start_time": "2022-06-08T12:41:39.458Z"
   },
   {
    "duration": 154,
    "start_time": "2022-06-08T12:42:04.074Z"
   },
   {
    "duration": 3,
    "start_time": "2022-06-08T12:45:14.023Z"
   },
   {
    "duration": 164,
    "start_time": "2022-06-08T12:45:41.694Z"
   },
   {
    "duration": 72,
    "start_time": "2022-06-08T12:47:09.562Z"
   },
   {
    "duration": 3,
    "start_time": "2022-06-08T12:47:13.301Z"
   },
   {
    "duration": 18,
    "start_time": "2022-06-08T12:47:15.666Z"
   },
   {
    "duration": 13,
    "start_time": "2022-06-08T12:47:24.091Z"
   },
   {
    "duration": 15,
    "start_time": "2022-06-08T12:47:33.143Z"
   },
   {
    "duration": 57,
    "start_time": "2022-06-10T10:12:04.683Z"
   },
   {
    "duration": 1162,
    "start_time": "2022-06-10T10:12:10.862Z"
   },
   {
    "duration": 1491,
    "start_time": "2022-06-10T10:12:12.026Z"
   },
   {
    "duration": 19,
    "start_time": "2022-06-10T10:12:13.519Z"
   },
   {
    "duration": 15,
    "start_time": "2022-06-10T10:12:13.540Z"
   },
   {
    "duration": 22,
    "start_time": "2022-06-10T10:12:13.564Z"
   },
   {
    "duration": 40,
    "start_time": "2022-06-10T10:12:13.593Z"
   },
   {
    "duration": 11,
    "start_time": "2022-06-10T10:12:13.635Z"
   },
   {
    "duration": 33,
    "start_time": "2022-06-10T10:12:13.649Z"
   },
   {
    "duration": 13,
    "start_time": "2022-06-10T10:12:13.684Z"
   },
   {
    "duration": 20,
    "start_time": "2022-06-10T10:12:13.699Z"
   },
   {
    "duration": 21,
    "start_time": "2022-06-10T10:12:13.721Z"
   },
   {
    "duration": 38,
    "start_time": "2022-06-10T10:12:13.743Z"
   },
   {
    "duration": 13,
    "start_time": "2022-06-10T10:12:13.789Z"
   },
   {
    "duration": 20,
    "start_time": "2022-06-10T10:12:13.805Z"
   },
   {
    "duration": 16,
    "start_time": "2022-06-10T10:12:13.826Z"
   },
   {
    "duration": 26,
    "start_time": "2022-06-10T10:12:13.843Z"
   },
   {
    "duration": 32,
    "start_time": "2022-06-10T10:12:13.870Z"
   },
   {
    "duration": 19,
    "start_time": "2022-06-10T10:12:13.906Z"
   },
   {
    "duration": 18,
    "start_time": "2022-06-10T10:12:13.927Z"
   },
   {
    "duration": 47,
    "start_time": "2022-06-10T10:12:13.947Z"
   },
   {
    "duration": 65,
    "start_time": "2022-06-10T10:12:14.000Z"
   },
   {
    "duration": 33,
    "start_time": "2022-06-10T10:12:26.077Z"
   },
   {
    "duration": 15,
    "start_time": "2022-06-10T10:12:36.601Z"
   },
   {
    "duration": 32,
    "start_time": "2022-06-10T10:13:24.652Z"
   },
   {
    "duration": 32,
    "start_time": "2022-06-10T10:13:33.240Z"
   },
   {
    "duration": 18,
    "start_time": "2022-06-10T10:13:38.207Z"
   },
   {
    "duration": 5,
    "start_time": "2022-06-10T10:17:25.516Z"
   },
   {
    "duration": 516,
    "start_time": "2022-06-10T10:17:26.516Z"
   },
   {
    "duration": 12,
    "start_time": "2022-06-10T10:17:27.034Z"
   },
   {
    "duration": 35,
    "start_time": "2022-06-10T10:17:27.690Z"
   },
   {
    "duration": 12,
    "start_time": "2022-06-10T10:17:28.411Z"
   },
   {
    "duration": 16,
    "start_time": "2022-06-10T10:17:29.423Z"
   },
   {
    "duration": 16,
    "start_time": "2022-06-10T10:17:29.894Z"
   },
   {
    "duration": 25,
    "start_time": "2022-06-10T10:17:30.341Z"
   },
   {
    "duration": 151,
    "start_time": "2022-06-10T10:17:53.963Z"
   },
   {
    "duration": 10,
    "start_time": "2022-06-10T10:18:08.018Z"
   },
   {
    "duration": 13,
    "start_time": "2022-06-10T10:18:11.599Z"
   },
   {
    "duration": 23,
    "start_time": "2022-06-10T10:18:14.852Z"
   },
   {
    "duration": 13,
    "start_time": "2022-06-10T10:18:19.003Z"
   },
   {
    "duration": 9,
    "start_time": "2022-06-10T10:18:21.801Z"
   },
   {
    "duration": 62,
    "start_time": "2022-06-10T10:19:45.641Z"
   },
   {
    "duration": 40,
    "start_time": "2022-06-10T10:19:50.289Z"
   },
   {
    "duration": 53,
    "start_time": "2022-06-10T10:19:52.169Z"
   },
   {
    "duration": 140,
    "start_time": "2022-06-10T10:20:05.225Z"
   },
   {
    "duration": 6,
    "start_time": "2022-06-10T10:25:55.582Z"
   },
   {
    "duration": 497,
    "start_time": "2022-06-10T10:25:56.253Z"
   },
   {
    "duration": 17,
    "start_time": "2022-06-10T10:25:56.752Z"
   },
   {
    "duration": 48,
    "start_time": "2022-06-10T10:26:17.659Z"
   },
   {
    "duration": 45,
    "start_time": "2022-06-10T10:26:24.750Z"
   },
   {
    "duration": 48,
    "start_time": "2022-06-10T10:26:32.692Z"
   },
   {
    "duration": 16,
    "start_time": "2022-06-10T10:26:34.604Z"
   },
   {
    "duration": 31,
    "start_time": "2022-06-10T10:26:49.096Z"
   },
   {
    "duration": 17,
    "start_time": "2022-06-10T10:26:55.098Z"
   },
   {
    "duration": 41,
    "start_time": "2022-06-10T10:27:26.135Z"
   },
   {
    "duration": 3,
    "start_time": "2022-06-10T10:31:49.228Z"
   },
   {
    "duration": 1199,
    "start_time": "2022-06-10T10:31:54.505Z"
   },
   {
    "duration": 447,
    "start_time": "2022-06-10T10:31:55.708Z"
   },
   {
    "duration": 48,
    "start_time": "2022-06-10T10:31:56.157Z"
   },
   {
    "duration": 47,
    "start_time": "2022-06-10T10:31:56.209Z"
   },
   {
    "duration": 36,
    "start_time": "2022-06-10T10:31:56.260Z"
   },
   {
    "duration": 53,
    "start_time": "2022-06-10T10:31:56.299Z"
   },
   {
    "duration": 32,
    "start_time": "2022-06-10T10:31:56.354Z"
   },
   {
    "duration": 37,
    "start_time": "2022-06-10T10:31:56.391Z"
   },
   {
    "duration": 198,
    "start_time": "2022-06-10T10:31:56.429Z"
   },
   {
    "duration": 10,
    "start_time": "2022-06-10T10:31:56.630Z"
   },
   {
    "duration": 18,
    "start_time": "2022-06-10T10:31:56.642Z"
   },
   {
    "duration": 77,
    "start_time": "2022-06-10T10:31:56.662Z"
   },
   {
    "duration": 54,
    "start_time": "2022-06-10T10:31:56.742Z"
   },
   {
    "duration": 22,
    "start_time": "2022-06-10T10:31:56.801Z"
   },
   {
    "duration": 10,
    "start_time": "2022-06-10T10:31:56.825Z"
   },
   {
    "duration": 30,
    "start_time": "2022-06-10T10:31:56.837Z"
   },
   {
    "duration": 40,
    "start_time": "2022-06-10T10:31:56.873Z"
   },
   {
    "duration": 24,
    "start_time": "2022-06-10T10:31:56.916Z"
   },
   {
    "duration": 12,
    "start_time": "2022-06-10T10:31:56.942Z"
   },
   {
    "duration": 77,
    "start_time": "2022-06-10T10:31:56.957Z"
   },
   {
    "duration": 41,
    "start_time": "2022-06-10T10:31:57.037Z"
   },
   {
    "duration": 178,
    "start_time": "2022-06-10T10:31:57.080Z"
   },
   {
    "duration": 128,
    "start_time": "2022-06-10T10:31:57.293Z"
   },
   {
    "duration": 97,
    "start_time": "2022-06-10T10:31:57.423Z"
   },
   {
    "duration": 43,
    "start_time": "2022-06-10T10:35:12.935Z"
   },
   {
    "duration": 35,
    "start_time": "2022-06-10T10:35:34.827Z"
   },
   {
    "duration": 15,
    "start_time": "2022-06-10T10:35:36.144Z"
   },
   {
    "duration": 34,
    "start_time": "2022-06-10T10:35:37.505Z"
   },
   {
    "duration": 1095,
    "start_time": "2022-06-10T10:35:58.933Z"
   },
   {
    "duration": 488,
    "start_time": "2022-06-10T10:36:00.030Z"
   },
   {
    "duration": 20,
    "start_time": "2022-06-10T10:36:00.522Z"
   },
   {
    "duration": 85,
    "start_time": "2022-06-10T10:36:00.544Z"
   },
   {
    "duration": 19,
    "start_time": "2022-06-10T10:36:00.631Z"
   },
   {
    "duration": 85,
    "start_time": "2022-06-10T10:36:00.652Z"
   },
   {
    "duration": 34,
    "start_time": "2022-06-10T10:36:00.740Z"
   },
   {
    "duration": 103,
    "start_time": "2022-06-10T10:36:00.781Z"
   },
   {
    "duration": 224,
    "start_time": "2022-06-10T10:36:00.886Z"
   },
   {
    "duration": 8,
    "start_time": "2022-06-10T10:36:01.121Z"
   },
   {
    "duration": 81,
    "start_time": "2022-06-10T10:36:01.131Z"
   },
   {
    "duration": 60,
    "start_time": "2022-06-10T10:36:01.214Z"
   },
   {
    "duration": 65,
    "start_time": "2022-06-10T10:36:01.276Z"
   },
   {
    "duration": 13,
    "start_time": "2022-06-10T10:36:01.343Z"
   },
   {
    "duration": 69,
    "start_time": "2022-06-10T10:36:01.358Z"
   },
   {
    "duration": 50,
    "start_time": "2022-06-10T10:36:01.429Z"
   },
   {
    "duration": 94,
    "start_time": "2022-06-10T10:36:01.481Z"
   },
   {
    "duration": 128,
    "start_time": "2022-06-10T10:36:01.579Z"
   },
   {
    "duration": 24,
    "start_time": "2022-06-10T10:36:01.711Z"
   },
   {
    "duration": 109,
    "start_time": "2022-06-10T10:36:01.738Z"
   },
   {
    "duration": 45,
    "start_time": "2022-06-10T10:36:01.850Z"
   },
   {
    "duration": 297,
    "start_time": "2022-06-10T10:36:01.897Z"
   },
   {
    "duration": 81,
    "start_time": "2022-06-10T10:36:02.204Z"
   },
   {
    "duration": 143,
    "start_time": "2022-06-10T10:36:02.304Z"
   },
   {
    "duration": 1175,
    "start_time": "2022-06-10T10:36:33.240Z"
   },
   {
    "duration": 525,
    "start_time": "2022-06-10T10:36:34.422Z"
   },
   {
    "duration": 47,
    "start_time": "2022-06-10T10:36:34.949Z"
   },
   {
    "duration": 46,
    "start_time": "2022-06-10T10:36:35.001Z"
   },
   {
    "duration": 25,
    "start_time": "2022-06-10T10:36:35.049Z"
   },
   {
    "duration": 53,
    "start_time": "2022-06-10T10:36:35.081Z"
   },
   {
    "duration": 11,
    "start_time": "2022-06-10T10:36:35.136Z"
   },
   {
    "duration": 28,
    "start_time": "2022-06-10T10:36:35.149Z"
   },
   {
    "duration": 223,
    "start_time": "2022-06-10T10:36:35.180Z"
   },
   {
    "duration": 12,
    "start_time": "2022-06-10T10:36:35.406Z"
   },
   {
    "duration": 27,
    "start_time": "2022-06-10T10:36:35.420Z"
   },
   {
    "duration": 99,
    "start_time": "2022-06-10T10:36:35.450Z"
   },
   {
    "duration": 26,
    "start_time": "2022-06-10T10:36:35.551Z"
   },
   {
    "duration": 61,
    "start_time": "2022-06-10T10:36:35.583Z"
   },
   {
    "duration": 9,
    "start_time": "2022-06-10T10:36:35.645Z"
   },
   {
    "duration": 81,
    "start_time": "2022-06-10T10:36:35.656Z"
   },
   {
    "duration": 31,
    "start_time": "2022-06-10T10:36:35.739Z"
   },
   {
    "duration": 51,
    "start_time": "2022-06-10T10:36:35.781Z"
   },
   {
    "duration": 9,
    "start_time": "2022-06-10T10:36:35.835Z"
   },
   {
    "duration": 73,
    "start_time": "2022-06-10T10:36:35.846Z"
   },
   {
    "duration": 21,
    "start_time": "2022-06-10T10:36:35.922Z"
   },
   {
    "duration": 23,
    "start_time": "2022-06-10T10:36:35.945Z"
   },
   {
    "duration": 104,
    "start_time": "2022-06-10T10:36:36.060Z"
   },
   {
    "duration": 39,
    "start_time": "2022-06-10T10:36:36.166Z"
   },
   {
    "duration": 1194,
    "start_time": "2022-06-10T10:38:41.286Z"
   },
   {
    "duration": 562,
    "start_time": "2022-06-10T10:38:42.492Z"
   },
   {
    "duration": 31,
    "start_time": "2022-06-10T10:38:43.057Z"
   },
   {
    "duration": 71,
    "start_time": "2022-06-10T10:38:43.090Z"
   },
   {
    "duration": 17,
    "start_time": "2022-06-10T10:38:43.171Z"
   },
   {
    "duration": 42,
    "start_time": "2022-06-10T10:38:43.198Z"
   },
   {
    "duration": 32,
    "start_time": "2022-06-10T10:38:43.242Z"
   },
   {
    "duration": 72,
    "start_time": "2022-06-10T10:38:43.276Z"
   },
   {
    "duration": 188,
    "start_time": "2022-06-10T10:38:43.350Z"
   },
   {
    "duration": 27,
    "start_time": "2022-06-10T10:38:43.540Z"
   },
   {
    "duration": 52,
    "start_time": "2022-06-10T10:38:43.569Z"
   },
   {
    "duration": 16,
    "start_time": "2022-06-10T10:38:43.623Z"
   },
   {
    "duration": 33,
    "start_time": "2022-06-10T10:38:43.641Z"
   },
   {
    "duration": 16,
    "start_time": "2022-06-10T10:38:43.688Z"
   },
   {
    "duration": 14,
    "start_time": "2022-06-10T10:38:43.710Z"
   },
   {
    "duration": 22,
    "start_time": "2022-06-10T10:38:43.726Z"
   },
   {
    "duration": 52,
    "start_time": "2022-06-10T10:38:43.750Z"
   },
   {
    "duration": 28,
    "start_time": "2022-06-10T10:38:43.804Z"
   },
   {
    "duration": 10,
    "start_time": "2022-06-10T10:38:43.835Z"
   },
   {
    "duration": 21,
    "start_time": "2022-06-10T10:38:43.847Z"
   },
   {
    "duration": 39,
    "start_time": "2022-06-10T10:38:43.870Z"
   },
   {
    "duration": 76,
    "start_time": "2022-06-10T10:38:43.912Z"
   },
   {
    "duration": 121,
    "start_time": "2022-06-10T10:38:43.992Z"
   },
   {
    "duration": 125,
    "start_time": "2022-06-10T10:38:44.176Z"
   },
   {
    "duration": 1280,
    "start_time": "2022-06-10T10:42:24.349Z"
   },
   {
    "duration": 1589,
    "start_time": "2022-06-10T10:42:40.549Z"
   },
   {
    "duration": 640,
    "start_time": "2022-06-10T10:42:42.151Z"
   },
   {
    "duration": 34,
    "start_time": "2022-06-10T10:42:42.793Z"
   },
   {
    "duration": 46,
    "start_time": "2022-06-10T10:42:42.832Z"
   },
   {
    "duration": 40,
    "start_time": "2022-06-10T10:42:42.882Z"
   },
   {
    "duration": 69,
    "start_time": "2022-06-10T10:42:42.925Z"
   },
   {
    "duration": 74,
    "start_time": "2022-06-10T10:42:43.010Z"
   },
   {
    "duration": 97,
    "start_time": "2022-06-10T10:42:43.096Z"
   },
   {
    "duration": 242,
    "start_time": "2022-06-10T10:42:43.207Z"
   },
   {
    "duration": 139,
    "start_time": "2022-06-10T10:42:43.456Z"
   },
   {
    "duration": 19,
    "start_time": "2022-06-10T10:42:43.597Z"
   },
   {
    "duration": 24,
    "start_time": "2022-06-10T10:42:43.619Z"
   },
   {
    "duration": 29,
    "start_time": "2022-06-10T10:42:43.646Z"
   },
   {
    "duration": 50,
    "start_time": "2022-06-10T10:42:43.681Z"
   },
   {
    "duration": 41,
    "start_time": "2022-06-10T10:42:43.735Z"
   },
   {
    "duration": 53,
    "start_time": "2022-06-10T10:42:43.782Z"
   },
   {
    "duration": 18,
    "start_time": "2022-06-10T10:42:43.838Z"
   },
   {
    "duration": 60,
    "start_time": "2022-06-10T10:42:43.858Z"
   },
   {
    "duration": 17,
    "start_time": "2022-06-10T10:42:43.920Z"
   },
   {
    "duration": 13,
    "start_time": "2022-06-10T10:42:43.939Z"
   },
   {
    "duration": 79,
    "start_time": "2022-06-10T10:42:43.955Z"
   },
   {
    "duration": 40,
    "start_time": "2022-06-10T10:42:44.037Z"
   },
   {
    "duration": 110,
    "start_time": "2022-06-10T10:42:44.079Z"
   },
   {
    "duration": 218,
    "start_time": "2022-06-10T10:42:44.204Z"
   },
   {
    "duration": 82,
    "start_time": "2022-06-10T10:42:44.462Z"
   },
   {
    "duration": 40,
    "start_time": "2022-06-10T10:44:02.056Z"
   },
   {
    "duration": 38,
    "start_time": "2022-06-10T10:44:03.692Z"
   },
   {
    "duration": 62,
    "start_time": "2022-06-10T10:44:05.107Z"
   },
   {
    "duration": 20,
    "start_time": "2022-06-10T10:44:14.012Z"
   },
   {
    "duration": 45,
    "start_time": "2022-06-10T10:44:19.979Z"
   },
   {
    "duration": 57,
    "start_time": "2022-06-10T10:44:22.833Z"
   },
   {
    "duration": 45,
    "start_time": "2022-06-10T10:44:26.824Z"
   },
   {
    "duration": 42,
    "start_time": "2022-06-10T10:44:30.852Z"
   },
   {
    "duration": 398,
    "start_time": "2022-06-10T10:48:05.335Z"
   },
   {
    "duration": 4,
    "start_time": "2022-06-10T10:48:08.925Z"
   },
   {
    "duration": 29,
    "start_time": "2022-06-10T10:48:11.947Z"
   },
   {
    "duration": 29,
    "start_time": "2022-06-10T10:48:27.619Z"
   },
   {
    "duration": 92,
    "start_time": "2022-06-10T10:48:29.185Z"
   },
   {
    "duration": 45,
    "start_time": "2022-06-10T10:49:16.557Z"
   },
   {
    "duration": 17,
    "start_time": "2022-06-10T10:49:18.039Z"
   },
   {
    "duration": 45,
    "start_time": "2022-06-10T10:49:19.148Z"
   },
   {
    "duration": 4,
    "start_time": "2022-06-10T10:57:02.515Z"
   },
   {
    "duration": 5,
    "start_time": "2022-06-10T11:01:12.158Z"
   },
   {
    "duration": 1624,
    "start_time": "2022-06-10T11:01:19.918Z"
   },
   {
    "duration": 667,
    "start_time": "2022-06-10T11:01:21.544Z"
   },
   {
    "duration": 26,
    "start_time": "2022-06-10T11:01:22.214Z"
   },
   {
    "duration": 29,
    "start_time": "2022-06-10T11:01:22.241Z"
   },
   {
    "duration": 16,
    "start_time": "2022-06-10T11:01:22.273Z"
   },
   {
    "duration": 35,
    "start_time": "2022-06-10T11:01:22.291Z"
   },
   {
    "duration": 10,
    "start_time": "2022-06-10T11:01:22.328Z"
   },
   {
    "duration": 37,
    "start_time": "2022-06-10T11:01:22.342Z"
   },
   {
    "duration": 197,
    "start_time": "2022-06-10T11:01:22.380Z"
   },
   {
    "duration": 59,
    "start_time": "2022-06-10T11:01:22.583Z"
   },
   {
    "duration": 28,
    "start_time": "2022-06-10T11:01:22.645Z"
   },
   {
    "duration": 36,
    "start_time": "2022-06-10T11:01:22.675Z"
   },
   {
    "duration": 23,
    "start_time": "2022-06-10T11:01:22.713Z"
   },
   {
    "duration": 26,
    "start_time": "2022-06-10T11:01:22.738Z"
   },
   {
    "duration": 8,
    "start_time": "2022-06-10T11:01:22.765Z"
   },
   {
    "duration": 56,
    "start_time": "2022-06-10T11:01:22.775Z"
   },
   {
    "duration": 22,
    "start_time": "2022-06-10T11:01:22.833Z"
   },
   {
    "duration": 28,
    "start_time": "2022-06-10T11:01:22.857Z"
   },
   {
    "duration": 34,
    "start_time": "2022-06-10T11:01:22.887Z"
   },
   {
    "duration": 25,
    "start_time": "2022-06-10T11:01:22.923Z"
   },
   {
    "duration": 20,
    "start_time": "2022-06-10T11:01:22.950Z"
   },
   {
    "duration": 74,
    "start_time": "2022-06-10T11:01:22.972Z"
   },
   {
    "duration": 363,
    "start_time": "2022-06-10T11:01:23.049Z"
   },
   {
    "duration": 0,
    "start_time": "2022-06-10T11:01:23.413Z"
   },
   {
    "duration": 0,
    "start_time": "2022-06-10T11:01:23.415Z"
   },
   {
    "duration": 0,
    "start_time": "2022-06-10T11:01:23.416Z"
   },
   {
    "duration": 0,
    "start_time": "2022-06-10T11:01:23.417Z"
   },
   {
    "duration": 1399,
    "start_time": "2022-06-10T11:01:45.732Z"
   },
   {
    "duration": 560,
    "start_time": "2022-06-10T11:01:47.134Z"
   },
   {
    "duration": 35,
    "start_time": "2022-06-10T11:01:47.697Z"
   },
   {
    "duration": 107,
    "start_time": "2022-06-10T11:01:47.734Z"
   },
   {
    "duration": 18,
    "start_time": "2022-06-10T11:01:47.845Z"
   },
   {
    "duration": 90,
    "start_time": "2022-06-10T11:01:47.865Z"
   },
   {
    "duration": 89,
    "start_time": "2022-06-10T11:01:47.957Z"
   },
   {
    "duration": 77,
    "start_time": "2022-06-10T11:01:48.049Z"
   },
   {
    "duration": 189,
    "start_time": "2022-06-10T11:01:48.128Z"
   },
   {
    "duration": 68,
    "start_time": "2022-06-10T11:01:48.320Z"
   },
   {
    "duration": 11,
    "start_time": "2022-06-10T11:01:48.390Z"
   },
   {
    "duration": 33,
    "start_time": "2022-06-10T11:01:48.404Z"
   },
   {
    "duration": 23,
    "start_time": "2022-06-10T11:01:48.439Z"
   },
   {
    "duration": 29,
    "start_time": "2022-06-10T11:01:48.464Z"
   },
   {
    "duration": 60,
    "start_time": "2022-06-10T11:01:48.496Z"
   },
   {
    "duration": 56,
    "start_time": "2022-06-10T11:01:48.562Z"
   },
   {
    "duration": 23,
    "start_time": "2022-06-10T11:01:48.621Z"
   },
   {
    "duration": 27,
    "start_time": "2022-06-10T11:01:48.646Z"
   },
   {
    "duration": 57,
    "start_time": "2022-06-10T11:01:48.675Z"
   },
   {
    "duration": 13,
    "start_time": "2022-06-10T11:01:48.735Z"
   },
   {
    "duration": 84,
    "start_time": "2022-06-10T11:01:48.750Z"
   },
   {
    "duration": 34,
    "start_time": "2022-06-10T11:01:48.837Z"
   },
   {
    "duration": 100,
    "start_time": "2022-06-10T11:01:48.873Z"
   },
   {
    "duration": 187,
    "start_time": "2022-06-10T11:01:48.975Z"
   },
   {
    "duration": 87,
    "start_time": "2022-06-10T11:01:49.183Z"
   },
   {
    "duration": 85,
    "start_time": "2022-06-10T11:01:49.283Z"
   },
   {
    "duration": 52,
    "start_time": "2022-06-10T11:01:49.371Z"
   },
   {
    "duration": 4,
    "start_time": "2022-06-10T11:06:54.962Z"
   },
   {
    "duration": 7,
    "start_time": "2022-06-10T11:07:35.275Z"
   },
   {
    "duration": 132,
    "start_time": "2022-06-10T11:09:33.742Z"
   },
   {
    "duration": 26,
    "start_time": "2022-06-10T11:09:41.489Z"
   },
   {
    "duration": 8,
    "start_time": "2022-06-10T11:09:52.782Z"
   },
   {
    "duration": 12,
    "start_time": "2022-06-10T11:11:06.910Z"
   },
   {
    "duration": 1166,
    "start_time": "2022-06-10T11:11:22.936Z"
   },
   {
    "duration": 533,
    "start_time": "2022-06-10T11:11:24.105Z"
   },
   {
    "duration": 47,
    "start_time": "2022-06-10T11:11:24.640Z"
   },
   {
    "duration": 43,
    "start_time": "2022-06-10T11:11:24.691Z"
   },
   {
    "duration": 16,
    "start_time": "2022-06-10T11:11:24.736Z"
   },
   {
    "duration": 69,
    "start_time": "2022-06-10T11:11:24.755Z"
   },
   {
    "duration": 17,
    "start_time": "2022-06-10T11:11:24.826Z"
   },
   {
    "duration": 18,
    "start_time": "2022-06-10T11:11:24.846Z"
   },
   {
    "duration": 172,
    "start_time": "2022-06-10T11:11:24.866Z"
   },
   {
    "duration": 69,
    "start_time": "2022-06-10T11:11:25.041Z"
   },
   {
    "duration": 9,
    "start_time": "2022-06-10T11:11:25.112Z"
   },
   {
    "duration": 36,
    "start_time": "2022-06-10T11:11:25.123Z"
   },
   {
    "duration": 22,
    "start_time": "2022-06-10T11:11:25.161Z"
   },
   {
    "duration": 42,
    "start_time": "2022-06-10T11:11:25.185Z"
   },
   {
    "duration": 9,
    "start_time": "2022-06-10T11:11:25.229Z"
   },
   {
    "duration": 26,
    "start_time": "2022-06-10T11:11:25.240Z"
   },
   {
    "duration": 32,
    "start_time": "2022-06-10T11:11:25.268Z"
   },
   {
    "duration": 22,
    "start_time": "2022-06-10T11:11:25.302Z"
   },
   {
    "duration": 8,
    "start_time": "2022-06-10T11:11:25.326Z"
   },
   {
    "duration": 23,
    "start_time": "2022-06-10T11:11:25.336Z"
   },
   {
    "duration": 33,
    "start_time": "2022-06-10T11:11:25.362Z"
   },
   {
    "duration": 22,
    "start_time": "2022-06-10T11:11:25.398Z"
   },
   {
    "duration": 83,
    "start_time": "2022-06-10T11:11:25.423Z"
   },
   {
    "duration": 32,
    "start_time": "2022-06-10T11:11:25.560Z"
   },
   {
    "duration": 187,
    "start_time": "2022-06-10T11:11:25.594Z"
   },
   {
    "duration": 176,
    "start_time": "2022-06-10T11:11:25.789Z"
   },
   {
    "duration": 20,
    "start_time": "2022-06-10T11:11:25.967Z"
   },
   {
    "duration": 5,
    "start_time": "2022-06-10T11:11:25.992Z"
   },
   {
    "duration": 126,
    "start_time": "2022-06-10T11:11:25.999Z"
   },
   {
    "duration": 8,
    "start_time": "2022-06-10T11:11:55.439Z"
   },
   {
    "duration": 1246,
    "start_time": "2022-06-10T11:12:18.845Z"
   },
   {
    "duration": 434,
    "start_time": "2022-06-10T11:12:20.093Z"
   },
   {
    "duration": 36,
    "start_time": "2022-06-10T11:12:20.529Z"
   },
   {
    "duration": 36,
    "start_time": "2022-06-10T11:12:20.568Z"
   },
   {
    "duration": 46,
    "start_time": "2022-06-10T11:12:20.608Z"
   },
   {
    "duration": 42,
    "start_time": "2022-06-10T11:12:20.656Z"
   },
   {
    "duration": 52,
    "start_time": "2022-06-10T11:12:20.700Z"
   },
   {
    "duration": 67,
    "start_time": "2022-06-10T11:12:20.755Z"
   },
   {
    "duration": 178,
    "start_time": "2022-06-10T11:12:20.825Z"
   },
   {
    "duration": 73,
    "start_time": "2022-06-10T11:12:21.006Z"
   },
   {
    "duration": 11,
    "start_time": "2022-06-10T11:12:21.081Z"
   },
   {
    "duration": 38,
    "start_time": "2022-06-10T11:12:21.093Z"
   },
   {
    "duration": 42,
    "start_time": "2022-06-10T11:12:21.133Z"
   },
   {
    "duration": 43,
    "start_time": "2022-06-10T11:12:21.178Z"
   },
   {
    "duration": 8,
    "start_time": "2022-06-10T11:12:21.223Z"
   },
   {
    "duration": 23,
    "start_time": "2022-06-10T11:12:21.233Z"
   },
   {
    "duration": 65,
    "start_time": "2022-06-10T11:12:21.258Z"
   },
   {
    "duration": 88,
    "start_time": "2022-06-10T11:12:21.326Z"
   },
   {
    "duration": 29,
    "start_time": "2022-06-10T11:12:21.416Z"
   },
   {
    "duration": 45,
    "start_time": "2022-06-10T11:12:21.447Z"
   },
   {
    "duration": 43,
    "start_time": "2022-06-10T11:12:21.495Z"
   },
   {
    "duration": 53,
    "start_time": "2022-06-10T11:12:21.540Z"
   },
   {
    "duration": 27,
    "start_time": "2022-06-10T11:12:21.595Z"
   },
   {
    "duration": 169,
    "start_time": "2022-06-10T11:12:21.624Z"
   },
   {
    "duration": 205,
    "start_time": "2022-06-10T11:12:21.795Z"
   },
   {
    "duration": 5,
    "start_time": "2022-06-10T11:12:22.060Z"
   },
   {
    "duration": 20,
    "start_time": "2022-06-10T11:12:22.068Z"
   },
   {
    "duration": 17,
    "start_time": "2022-06-10T11:12:22.090Z"
   },
   {
    "duration": 138,
    "start_time": "2022-06-10T11:12:22.109Z"
   },
   {
    "duration": 9,
    "start_time": "2022-06-10T11:13:29.680Z"
   },
   {
    "duration": 7,
    "start_time": "2022-06-10T11:13:39.422Z"
   },
   {
    "duration": 5,
    "start_time": "2022-06-10T11:14:10.009Z"
   },
   {
    "duration": 7,
    "start_time": "2022-06-10T11:14:10.682Z"
   },
   {
    "duration": 8,
    "start_time": "2022-06-10T11:14:11.562Z"
   },
   {
    "duration": 1443,
    "start_time": "2022-06-10T11:14:21.971Z"
   },
   {
    "duration": 534,
    "start_time": "2022-06-10T11:14:23.417Z"
   },
   {
    "duration": 35,
    "start_time": "2022-06-10T11:14:23.954Z"
   },
   {
    "duration": 21,
    "start_time": "2022-06-10T11:14:23.992Z"
   },
   {
    "duration": 47,
    "start_time": "2022-06-10T11:14:24.016Z"
   },
   {
    "duration": 26,
    "start_time": "2022-06-10T11:14:24.066Z"
   },
   {
    "duration": 16,
    "start_time": "2022-06-10T11:14:24.095Z"
   },
   {
    "duration": 59,
    "start_time": "2022-06-10T11:14:24.114Z"
   },
   {
    "duration": 266,
    "start_time": "2022-06-10T11:14:24.176Z"
   },
   {
    "duration": 93,
    "start_time": "2022-06-10T11:14:24.446Z"
   },
   {
    "duration": 12,
    "start_time": "2022-06-10T11:14:24.558Z"
   },
   {
    "duration": 28,
    "start_time": "2022-06-10T11:14:24.572Z"
   },
   {
    "duration": 27,
    "start_time": "2022-06-10T11:14:24.603Z"
   },
   {
    "duration": 31,
    "start_time": "2022-06-10T11:14:24.633Z"
   },
   {
    "duration": 8,
    "start_time": "2022-06-10T11:14:24.666Z"
   },
   {
    "duration": 26,
    "start_time": "2022-06-10T11:14:24.676Z"
   },
   {
    "duration": 30,
    "start_time": "2022-06-10T11:14:24.705Z"
   },
   {
    "duration": 70,
    "start_time": "2022-06-10T11:14:24.738Z"
   },
   {
    "duration": 15,
    "start_time": "2022-06-10T11:14:24.811Z"
   },
   {
    "duration": 25,
    "start_time": "2022-06-10T11:14:24.829Z"
   },
   {
    "duration": 41,
    "start_time": "2022-06-10T11:14:24.856Z"
   },
   {
    "duration": 33,
    "start_time": "2022-06-10T11:14:24.900Z"
   },
   {
    "duration": 224,
    "start_time": "2022-06-10T11:14:24.935Z"
   },
   {
    "duration": 120,
    "start_time": "2022-06-10T11:14:25.161Z"
   },
   {
    "duration": 103,
    "start_time": "2022-06-10T11:14:25.360Z"
   },
   {
    "duration": 100,
    "start_time": "2022-06-10T11:14:25.466Z"
   },
   {
    "duration": 8,
    "start_time": "2022-06-10T11:14:25.568Z"
   },
   {
    "duration": 18,
    "start_time": "2022-06-10T11:14:25.580Z"
   },
   {
    "duration": 2220,
    "start_time": "2022-06-10T11:14:25.601Z"
   },
   {
    "duration": 20,
    "start_time": "2022-06-10T11:14:38.958Z"
   },
   {
    "duration": 11,
    "start_time": "2022-06-10T11:15:17.239Z"
   },
   {
    "duration": 5,
    "start_time": "2022-06-10T11:17:46.193Z"
   },
   {
    "duration": 2178,
    "start_time": "2022-06-10T11:17:46.642Z"
   },
   {
    "duration": 10,
    "start_time": "2022-06-10T11:17:49.586Z"
   },
   {
    "duration": 7,
    "start_time": "2022-06-10T11:18:02.290Z"
   },
   {
    "duration": 7,
    "start_time": "2022-06-10T11:18:09.587Z"
   },
   {
    "duration": 4,
    "start_time": "2022-06-10T11:18:41.807Z"
   },
   {
    "duration": 1511,
    "start_time": "2022-06-10T11:18:42.280Z"
   },
   {
    "duration": 7,
    "start_time": "2022-06-10T11:18:43.793Z"
   },
   {
    "duration": 9,
    "start_time": "2022-06-10T11:19:36.558Z"
   },
   {
    "duration": 6,
    "start_time": "2022-06-10T11:19:44.981Z"
   },
   {
    "duration": 7,
    "start_time": "2022-06-10T11:19:50.136Z"
   },
   {
    "duration": 6,
    "start_time": "2022-06-10T11:19:58.774Z"
   },
   {
    "duration": 5,
    "start_time": "2022-06-10T11:34:13.633Z"
   },
   {
    "duration": 21,
    "start_time": "2022-06-10T11:35:12.975Z"
   },
   {
    "duration": 7,
    "start_time": "2022-06-10T11:35:52.520Z"
   },
   {
    "duration": 14,
    "start_time": "2022-06-10T11:35:59.076Z"
   },
   {
    "duration": 8,
    "start_time": "2022-06-10T11:36:28.624Z"
   },
   {
    "duration": 4,
    "start_time": "2022-06-10T11:36:29.581Z"
   },
   {
    "duration": 1572,
    "start_time": "2022-06-10T11:36:30.056Z"
   },
   {
    "duration": 8,
    "start_time": "2022-06-10T11:36:31.632Z"
   },
   {
    "duration": 7,
    "start_time": "2022-06-10T11:36:44.177Z"
   },
   {
    "duration": 9,
    "start_time": "2022-06-10T11:37:14.827Z"
   },
   {
    "duration": 4,
    "start_time": "2022-06-10T11:37:22.657Z"
   },
   {
    "duration": 1816,
    "start_time": "2022-06-10T11:37:22.977Z"
   },
   {
    "duration": 10,
    "start_time": "2022-06-10T11:37:24.807Z"
   },
   {
    "duration": 4,
    "start_time": "2022-06-10T11:37:29.200Z"
   },
   {
    "duration": 1720,
    "start_time": "2022-06-10T11:37:29.589Z"
   },
   {
    "duration": 6,
    "start_time": "2022-06-10T11:37:31.311Z"
   },
   {
    "duration": 9,
    "start_time": "2022-06-11T10:06:31.241Z"
   },
   {
    "duration": 3,
    "start_time": "2022-06-11T10:08:37.547Z"
   },
   {
    "duration": 49,
    "start_time": "2022-06-11T10:09:38.696Z"
   },
   {
    "duration": 1057,
    "start_time": "2022-06-11T10:09:44.546Z"
   },
   {
    "duration": 835,
    "start_time": "2022-06-11T10:09:45.605Z"
   },
   {
    "duration": 16,
    "start_time": "2022-06-11T10:09:46.442Z"
   },
   {
    "duration": 14,
    "start_time": "2022-06-11T10:09:46.460Z"
   },
   {
    "duration": 11,
    "start_time": "2022-06-11T10:09:46.476Z"
   },
   {
    "duration": 12,
    "start_time": "2022-06-11T10:09:46.489Z"
   },
   {
    "duration": 24,
    "start_time": "2022-06-11T10:09:46.503Z"
   },
   {
    "duration": 16,
    "start_time": "2022-06-11T10:09:46.533Z"
   },
   {
    "duration": 139,
    "start_time": "2022-06-11T10:09:46.551Z"
   },
   {
    "duration": 71,
    "start_time": "2022-06-11T10:09:46.694Z"
   },
   {
    "duration": 8,
    "start_time": "2022-06-11T10:09:46.766Z"
   },
   {
    "duration": 10,
    "start_time": "2022-06-11T10:09:46.775Z"
   },
   {
    "duration": 13,
    "start_time": "2022-06-11T10:09:46.786Z"
   },
   {
    "duration": 31,
    "start_time": "2022-06-11T10:09:46.801Z"
   },
   {
    "duration": 7,
    "start_time": "2022-06-11T10:09:46.833Z"
   },
   {
    "duration": 9,
    "start_time": "2022-06-11T10:09:46.843Z"
   },
   {
    "duration": 14,
    "start_time": "2022-06-11T10:09:46.854Z"
   },
   {
    "duration": 18,
    "start_time": "2022-06-11T10:09:46.870Z"
   },
   {
    "duration": 6,
    "start_time": "2022-06-11T10:09:46.890Z"
   },
   {
    "duration": 35,
    "start_time": "2022-06-11T10:09:46.897Z"
   },
   {
    "duration": 35,
    "start_time": "2022-06-11T10:09:46.934Z"
   },
   {
    "duration": 24,
    "start_time": "2022-06-11T10:09:46.971Z"
   },
   {
    "duration": 36,
    "start_time": "2022-06-11T10:09:46.997Z"
   },
   {
    "duration": 106,
    "start_time": "2022-06-11T10:09:47.035Z"
   },
   {
    "duration": 203,
    "start_time": "2022-06-11T10:09:47.144Z"
   },
   {
    "duration": 196,
    "start_time": "2022-06-11T10:09:47.349Z"
   },
   {
    "duration": 13,
    "start_time": "2022-06-11T10:09:47.546Z"
   },
   {
    "duration": 5,
    "start_time": "2022-06-11T10:09:47.563Z"
   },
   {
    "duration": 13,
    "start_time": "2022-06-11T10:09:47.569Z"
   },
   {
    "duration": 1432,
    "start_time": "2022-06-11T10:09:47.584Z"
   },
   {
    "duration": 120,
    "start_time": "2022-06-11T10:09:49.018Z"
   },
   {
    "duration": 0,
    "start_time": "2022-06-11T10:09:49.140Z"
   },
   {
    "duration": 0,
    "start_time": "2022-06-11T10:09:49.142Z"
   },
   {
    "duration": 0,
    "start_time": "2022-06-11T10:09:49.143Z"
   },
   {
    "duration": 0,
    "start_time": "2022-06-11T10:09:49.144Z"
   },
   {
    "duration": 0,
    "start_time": "2022-06-11T10:09:49.145Z"
   },
   {
    "duration": 0,
    "start_time": "2022-06-11T10:09:49.147Z"
   },
   {
    "duration": 5,
    "start_time": "2022-06-11T10:10:21.145Z"
   },
   {
    "duration": 6,
    "start_time": "2022-06-11T10:11:41.635Z"
   },
   {
    "duration": 4,
    "start_time": "2022-06-11T10:12:25.386Z"
   },
   {
    "duration": 5,
    "start_time": "2022-06-11T10:13:46.048Z"
   },
   {
    "duration": 5,
    "start_time": "2022-06-11T10:13:55.086Z"
   },
   {
    "duration": 5,
    "start_time": "2022-06-11T10:14:14.038Z"
   },
   {
    "duration": 3,
    "start_time": "2022-06-11T10:18:39.395Z"
   },
   {
    "duration": 3,
    "start_time": "2022-06-11T10:18:42.262Z"
   },
   {
    "duration": 1362,
    "start_time": "2022-06-11T10:18:42.646Z"
   },
   {
    "duration": 13,
    "start_time": "2022-06-11T10:18:44.588Z"
   },
   {
    "duration": 7,
    "start_time": "2022-06-11T10:18:54.236Z"
   },
   {
    "duration": 4,
    "start_time": "2022-06-11T10:20:32.187Z"
   },
   {
    "duration": 3,
    "start_time": "2022-06-11T10:20:33.774Z"
   },
   {
    "duration": 1270,
    "start_time": "2022-06-11T10:20:34.144Z"
   },
   {
    "duration": 16,
    "start_time": "2022-06-11T10:20:35.416Z"
   },
   {
    "duration": 5,
    "start_time": "2022-06-11T10:22:01.296Z"
   },
   {
    "duration": 3,
    "start_time": "2022-06-11T10:22:25.271Z"
   },
   {
    "duration": 1308,
    "start_time": "2022-06-11T10:22:25.731Z"
   },
   {
    "duration": 9,
    "start_time": "2022-06-11T10:22:27.044Z"
   },
   {
    "duration": 3,
    "start_time": "2022-06-11T10:22:29.350Z"
   },
   {
    "duration": 1314,
    "start_time": "2022-06-11T10:22:29.806Z"
   },
   {
    "duration": 18,
    "start_time": "2022-06-11T10:22:31.122Z"
   },
   {
    "duration": 4,
    "start_time": "2022-06-11T10:22:52.995Z"
   },
   {
    "duration": 4,
    "start_time": "2022-06-11T10:22:54.366Z"
   },
   {
    "duration": 1248,
    "start_time": "2022-06-11T10:22:54.690Z"
   },
   {
    "duration": 6,
    "start_time": "2022-06-11T10:22:55.942Z"
   },
   {
    "duration": 6,
    "start_time": "2022-06-11T10:23:34.190Z"
   },
   {
    "duration": 5,
    "start_time": "2022-06-11T10:23:56.896Z"
   },
   {
    "duration": 6,
    "start_time": "2022-06-11T10:24:04.194Z"
   },
   {
    "duration": 6,
    "start_time": "2022-06-11T10:24:16.768Z"
   },
   {
    "duration": 3,
    "start_time": "2022-06-11T10:24:17.895Z"
   },
   {
    "duration": 1434,
    "start_time": "2022-06-11T10:24:18.065Z"
   },
   {
    "duration": 5,
    "start_time": "2022-06-11T10:24:19.501Z"
   },
   {
    "duration": 16,
    "start_time": "2022-06-11T10:24:19.507Z"
   },
   {
    "duration": 1389,
    "start_time": "2022-06-11T10:24:19.530Z"
   },
   {
    "duration": 11,
    "start_time": "2022-06-11T10:24:20.921Z"
   },
   {
    "duration": 7,
    "start_time": "2022-06-11T10:28:50.849Z"
   },
   {
    "duration": 8,
    "start_time": "2022-06-11T10:29:09.593Z"
   },
   {
    "duration": 7,
    "start_time": "2022-06-11T10:29:11.596Z"
   },
   {
    "duration": 8,
    "start_time": "2022-06-11T10:29:22.723Z"
   },
   {
    "duration": 1334,
    "start_time": "2022-06-11T10:29:23.007Z"
   },
   {
    "duration": 8,
    "start_time": "2022-06-11T10:29:24.343Z"
   },
   {
    "duration": 4,
    "start_time": "2022-06-11T10:29:28.216Z"
   },
   {
    "duration": 1322,
    "start_time": "2022-06-11T10:29:28.451Z"
   },
   {
    "duration": 8,
    "start_time": "2022-06-11T10:29:29.774Z"
   },
   {
    "duration": 17,
    "start_time": "2022-06-11T10:35:02.128Z"
   },
   {
    "duration": 2,
    "start_time": "2022-06-11T10:35:35.155Z"
   },
   {
    "duration": 1329,
    "start_time": "2022-06-11T10:35:35.453Z"
   },
   {
    "duration": 9,
    "start_time": "2022-06-11T10:35:36.784Z"
   },
   {
    "duration": 3,
    "start_time": "2022-06-11T10:36:12.407Z"
   },
   {
    "duration": 1378,
    "start_time": "2022-06-11T10:36:12.676Z"
   },
   {
    "duration": 7,
    "start_time": "2022-06-11T10:36:14.056Z"
   },
   {
    "duration": 2456,
    "start_time": "2022-06-11T10:40:16.712Z"
   },
   {
    "duration": 8,
    "start_time": "2022-06-11T10:40:20.054Z"
   },
   {
    "duration": 4,
    "start_time": "2022-06-11T10:41:11.373Z"
   },
   {
    "duration": 2321,
    "start_time": "2022-06-11T10:41:11.667Z"
   },
   {
    "duration": 11,
    "start_time": "2022-06-11T10:41:13.991Z"
   },
   {
    "duration": 3,
    "start_time": "2022-06-11T10:41:16.107Z"
   },
   {
    "duration": 2319,
    "start_time": "2022-06-11T10:41:16.459Z"
   },
   {
    "duration": 7,
    "start_time": "2022-06-11T10:41:18.781Z"
   },
   {
    "duration": 3,
    "start_time": "2022-06-11T10:41:21.353Z"
   },
   {
    "duration": 2269,
    "start_time": "2022-06-11T10:41:21.704Z"
   },
   {
    "duration": 8,
    "start_time": "2022-06-11T10:41:23.975Z"
   },
   {
    "duration": 49,
    "start_time": "2022-06-11T18:10:08.348Z"
   },
   {
    "duration": 1139,
    "start_time": "2022-06-11T18:10:13.871Z"
   },
   {
    "duration": 1033,
    "start_time": "2022-06-11T18:10:15.015Z"
   },
   {
    "duration": 39,
    "start_time": "2022-06-11T18:10:16.050Z"
   },
   {
    "duration": 51,
    "start_time": "2022-06-11T18:10:16.092Z"
   },
   {
    "duration": 17,
    "start_time": "2022-06-11T18:10:16.145Z"
   },
   {
    "duration": 36,
    "start_time": "2022-06-11T18:10:16.164Z"
   },
   {
    "duration": 17,
    "start_time": "2022-06-11T18:10:16.205Z"
   },
   {
    "duration": 32,
    "start_time": "2022-06-11T18:10:16.224Z"
   },
   {
    "duration": 199,
    "start_time": "2022-06-11T18:10:16.258Z"
   },
   {
    "duration": 69,
    "start_time": "2022-06-11T18:10:16.461Z"
   },
   {
    "duration": 8,
    "start_time": "2022-06-11T18:10:16.532Z"
   },
   {
    "duration": 8,
    "start_time": "2022-06-11T18:10:16.542Z"
   },
   {
    "duration": 16,
    "start_time": "2022-06-11T18:10:16.552Z"
   },
   {
    "duration": 38,
    "start_time": "2022-06-11T18:10:16.569Z"
   },
   {
    "duration": 22,
    "start_time": "2022-06-11T18:10:16.613Z"
   },
   {
    "duration": 9,
    "start_time": "2022-06-11T18:10:16.639Z"
   },
   {
    "duration": 15,
    "start_time": "2022-06-11T18:10:16.649Z"
   },
   {
    "duration": 21,
    "start_time": "2022-06-11T18:10:16.666Z"
   },
   {
    "duration": 18,
    "start_time": "2022-06-11T18:10:16.688Z"
   },
   {
    "duration": 10,
    "start_time": "2022-06-11T18:10:16.707Z"
   },
   {
    "duration": 15,
    "start_time": "2022-06-11T18:10:16.718Z"
   },
   {
    "duration": 27,
    "start_time": "2022-06-11T18:10:16.735Z"
   },
   {
    "duration": 47,
    "start_time": "2022-06-11T18:10:16.765Z"
   },
   {
    "duration": 98,
    "start_time": "2022-06-11T18:10:16.815Z"
   },
   {
    "duration": 213,
    "start_time": "2022-06-11T18:10:16.916Z"
   },
   {
    "duration": 172,
    "start_time": "2022-06-11T18:10:17.131Z"
   },
   {
    "duration": 16,
    "start_time": "2022-06-11T18:10:17.304Z"
   },
   {
    "duration": 4,
    "start_time": "2022-06-11T18:10:17.323Z"
   },
   {
    "duration": 6,
    "start_time": "2022-06-11T18:10:17.328Z"
   },
   {
    "duration": 2353,
    "start_time": "2022-06-11T18:10:17.336Z"
   },
   {
    "duration": 17,
    "start_time": "2022-06-11T18:10:19.691Z"
   },
   {
    "duration": 5,
    "start_time": "2022-06-11T18:10:19.711Z"
   },
   {
    "duration": 2286,
    "start_time": "2022-06-11T18:10:19.717Z"
   },
   {
    "duration": 7,
    "start_time": "2022-06-11T18:10:22.008Z"
   },
   {
    "duration": 7,
    "start_time": "2022-06-11T18:10:22.016Z"
   },
   {
    "duration": 2311,
    "start_time": "2022-06-11T18:10:22.025Z"
   },
   {
    "duration": 7,
    "start_time": "2022-06-11T18:10:24.339Z"
   }
  ],
  "kernelspec": {
   "display_name": "Python 3 (ipykernel)",
   "language": "python",
   "name": "python3"
  },
  "language_info": {
   "codemirror_mode": {
    "name": "ipython",
    "version": 3
   },
   "file_extension": ".py",
   "mimetype": "text/x-python",
   "name": "python",
   "nbconvert_exporter": "python",
   "pygments_lexer": "ipython3",
   "version": "3.9.7"
  },
  "toc": {
   "base_numbering": 1,
   "nav_menu": {},
   "number_sections": true,
   "sideBar": true,
   "skip_h1_title": true,
   "title_cell": "Table of Contents",
   "title_sidebar": "Contents",
   "toc_cell": false,
   "toc_position": {
    "height": "calc(100% - 180px)",
    "left": "10px",
    "top": "150px",
    "width": "414.598px"
   },
   "toc_section_display": true,
   "toc_window_display": false
  }
 },
 "nbformat": 4,
 "nbformat_minor": 2
}
