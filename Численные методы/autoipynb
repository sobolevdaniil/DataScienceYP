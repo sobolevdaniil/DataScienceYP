{
 "cells": [
  {
   "cell_type": "markdown",
   "metadata": {},
   "source": [
    "# Определение стоимости автомобилей"
   ]
  },
  {
   "cell_type": "markdown",
   "metadata": {},
   "source": [
    "Сервис по продаже автомобилей с пробегом «Не бит, не крашен» разрабатывает приложение для привлечения новых клиентов. В нём можно быстро узнать рыночную стоимость своего автомобиля. В вашем распоряжении исторические данные: технические характеристики, комплектации и цены автомобилей. Вам нужно построить модель для определения стоимости. \n",
    "\n",
    "Заказчику важны:\n",
    "\n",
    "- качество предсказания;\n",
    "- скорость предсказания;\n",
    "- время обучения."
   ]
  },
  {
   "cell_type": "markdown",
   "metadata": {},
   "source": [
    "## Импорт библиотек"
   ]
  },
  {
   "cell_type": "code",
   "execution_count": 1,
   "metadata": {},
   "outputs": [],
   "source": [
    "import pandas as pd\n",
    "import numpy as np\n",
    "import seaborn as sns\n",
    "import matplotlib.pyplot as plt\n",
    "import time\n",
    "import lightgbm as lgbm\n",
    "\n",
    "from sklearn.model_selection import train_test_split\n",
    "from catboost import CatBoostRegressor\n",
    "from sklearn.linear_model import LinearRegression\n",
    "from sklearn.metrics import mean_squared_error\n",
    "from sklearn.linear_model import LinearRegression\n",
    "from sklearn.preprocessing import StandardScaler"
   ]
  },
  {
   "cell_type": "markdown",
   "metadata": {},
   "source": [
    "## Первичный осмотр"
   ]
  },
  {
   "cell_type": "code",
   "execution_count": 2,
   "metadata": {
    "scrolled": false
   },
   "outputs": [
    {
     "data": {
      "text/html": [
       "<div>\n",
       "<style scoped>\n",
       "    .dataframe tbody tr th:only-of-type {\n",
       "        vertical-align: middle;\n",
       "    }\n",
       "\n",
       "    .dataframe tbody tr th {\n",
       "        vertical-align: top;\n",
       "    }\n",
       "\n",
       "    .dataframe thead th {\n",
       "        text-align: right;\n",
       "    }\n",
       "</style>\n",
       "<table border=\"1\" class=\"dataframe\">\n",
       "  <thead>\n",
       "    <tr style=\"text-align: right;\">\n",
       "      <th></th>\n",
       "      <th>DateCrawled</th>\n",
       "      <th>Price</th>\n",
       "      <th>VehicleType</th>\n",
       "      <th>RegistrationYear</th>\n",
       "      <th>Gearbox</th>\n",
       "      <th>Power</th>\n",
       "      <th>Model</th>\n",
       "      <th>Kilometer</th>\n",
       "      <th>RegistrationMonth</th>\n",
       "      <th>FuelType</th>\n",
       "      <th>Brand</th>\n",
       "      <th>Repaired</th>\n",
       "      <th>DateCreated</th>\n",
       "      <th>NumberOfPictures</th>\n",
       "      <th>PostalCode</th>\n",
       "      <th>LastSeen</th>\n",
       "    </tr>\n",
       "  </thead>\n",
       "  <tbody>\n",
       "    <tr>\n",
       "      <th>0</th>\n",
       "      <td>2016-03-24 11:52:17</td>\n",
       "      <td>480</td>\n",
       "      <td>NaN</td>\n",
       "      <td>1993</td>\n",
       "      <td>manual</td>\n",
       "      <td>0</td>\n",
       "      <td>golf</td>\n",
       "      <td>150000</td>\n",
       "      <td>0</td>\n",
       "      <td>petrol</td>\n",
       "      <td>volkswagen</td>\n",
       "      <td>NaN</td>\n",
       "      <td>2016-03-24 00:00:00</td>\n",
       "      <td>0</td>\n",
       "      <td>70435</td>\n",
       "      <td>2016-04-07 03:16:57</td>\n",
       "    </tr>\n",
       "    <tr>\n",
       "      <th>1</th>\n",
       "      <td>2016-03-24 10:58:45</td>\n",
       "      <td>18300</td>\n",
       "      <td>coupe</td>\n",
       "      <td>2011</td>\n",
       "      <td>manual</td>\n",
       "      <td>190</td>\n",
       "      <td>NaN</td>\n",
       "      <td>125000</td>\n",
       "      <td>5</td>\n",
       "      <td>gasoline</td>\n",
       "      <td>audi</td>\n",
       "      <td>yes</td>\n",
       "      <td>2016-03-24 00:00:00</td>\n",
       "      <td>0</td>\n",
       "      <td>66954</td>\n",
       "      <td>2016-04-07 01:46:50</td>\n",
       "    </tr>\n",
       "    <tr>\n",
       "      <th>2</th>\n",
       "      <td>2016-03-14 12:52:21</td>\n",
       "      <td>9800</td>\n",
       "      <td>suv</td>\n",
       "      <td>2004</td>\n",
       "      <td>auto</td>\n",
       "      <td>163</td>\n",
       "      <td>grand</td>\n",
       "      <td>125000</td>\n",
       "      <td>8</td>\n",
       "      <td>gasoline</td>\n",
       "      <td>jeep</td>\n",
       "      <td>NaN</td>\n",
       "      <td>2016-03-14 00:00:00</td>\n",
       "      <td>0</td>\n",
       "      <td>90480</td>\n",
       "      <td>2016-04-05 12:47:46</td>\n",
       "    </tr>\n",
       "    <tr>\n",
       "      <th>3</th>\n",
       "      <td>2016-03-17 16:54:04</td>\n",
       "      <td>1500</td>\n",
       "      <td>small</td>\n",
       "      <td>2001</td>\n",
       "      <td>manual</td>\n",
       "      <td>75</td>\n",
       "      <td>golf</td>\n",
       "      <td>150000</td>\n",
       "      <td>6</td>\n",
       "      <td>petrol</td>\n",
       "      <td>volkswagen</td>\n",
       "      <td>no</td>\n",
       "      <td>2016-03-17 00:00:00</td>\n",
       "      <td>0</td>\n",
       "      <td>91074</td>\n",
       "      <td>2016-03-17 17:40:17</td>\n",
       "    </tr>\n",
       "    <tr>\n",
       "      <th>4</th>\n",
       "      <td>2016-03-31 17:25:20</td>\n",
       "      <td>3600</td>\n",
       "      <td>small</td>\n",
       "      <td>2008</td>\n",
       "      <td>manual</td>\n",
       "      <td>69</td>\n",
       "      <td>fabia</td>\n",
       "      <td>90000</td>\n",
       "      <td>7</td>\n",
       "      <td>gasoline</td>\n",
       "      <td>skoda</td>\n",
       "      <td>no</td>\n",
       "      <td>2016-03-31 00:00:00</td>\n",
       "      <td>0</td>\n",
       "      <td>60437</td>\n",
       "      <td>2016-04-06 10:17:21</td>\n",
       "    </tr>\n",
       "  </tbody>\n",
       "</table>\n",
       "</div>"
      ],
      "text/plain": [
       "           DateCrawled  Price VehicleType  RegistrationYear Gearbox  Power  \\\n",
       "0  2016-03-24 11:52:17    480         NaN              1993  manual      0   \n",
       "1  2016-03-24 10:58:45  18300       coupe              2011  manual    190   \n",
       "2  2016-03-14 12:52:21   9800         suv              2004    auto    163   \n",
       "3  2016-03-17 16:54:04   1500       small              2001  manual     75   \n",
       "4  2016-03-31 17:25:20   3600       small              2008  manual     69   \n",
       "\n",
       "   Model  Kilometer  RegistrationMonth  FuelType       Brand Repaired  \\\n",
       "0   golf     150000                  0    petrol  volkswagen      NaN   \n",
       "1    NaN     125000                  5  gasoline        audi      yes   \n",
       "2  grand     125000                  8  gasoline        jeep      NaN   \n",
       "3   golf     150000                  6    petrol  volkswagen       no   \n",
       "4  fabia      90000                  7  gasoline       skoda       no   \n",
       "\n",
       "           DateCreated  NumberOfPictures  PostalCode             LastSeen  \n",
       "0  2016-03-24 00:00:00                 0       70435  2016-04-07 03:16:57  \n",
       "1  2016-03-24 00:00:00                 0       66954  2016-04-07 01:46:50  \n",
       "2  2016-03-14 00:00:00                 0       90480  2016-04-05 12:47:46  \n",
       "3  2016-03-17 00:00:00                 0       91074  2016-03-17 17:40:17  \n",
       "4  2016-03-31 00:00:00                 0       60437  2016-04-06 10:17:21  "
      ]
     },
     "execution_count": 2,
     "metadata": {},
     "output_type": "execute_result"
    }
   ],
   "source": [
    "data = pd.read_csv('/Users/daniilsobolev/Desktop/ml projects/Численные методы/autos.csv')\n",
    "data.head()"
   ]
  },
  {
   "cell_type": "code",
   "execution_count": 3,
   "metadata": {},
   "outputs": [
    {
     "data": {
      "text/plain": [
       "(354369, 16)"
      ]
     },
     "execution_count": 3,
     "metadata": {},
     "output_type": "execute_result"
    }
   ],
   "source": [
    "data.shape"
   ]
  },
  {
   "cell_type": "code",
   "execution_count": 4,
   "metadata": {
    "scrolled": false
   },
   "outputs": [
    {
     "data": {
      "text/html": [
       "<div>\n",
       "<style scoped>\n",
       "    .dataframe tbody tr th:only-of-type {\n",
       "        vertical-align: middle;\n",
       "    }\n",
       "\n",
       "    .dataframe tbody tr th {\n",
       "        vertical-align: top;\n",
       "    }\n",
       "\n",
       "    .dataframe thead th {\n",
       "        text-align: right;\n",
       "    }\n",
       "</style>\n",
       "<table border=\"1\" class=\"dataframe\">\n",
       "  <thead>\n",
       "    <tr style=\"text-align: right;\">\n",
       "      <th></th>\n",
       "      <th>count</th>\n",
       "      <th>mean</th>\n",
       "      <th>std</th>\n",
       "      <th>min</th>\n",
       "      <th>25%</th>\n",
       "      <th>50%</th>\n",
       "      <th>75%</th>\n",
       "      <th>max</th>\n",
       "    </tr>\n",
       "  </thead>\n",
       "  <tbody>\n",
       "    <tr>\n",
       "      <th>Price</th>\n",
       "      <td>354369.0</td>\n",
       "      <td>4416.656776</td>\n",
       "      <td>4514.158514</td>\n",
       "      <td>0.0</td>\n",
       "      <td>1050.0</td>\n",
       "      <td>2700.0</td>\n",
       "      <td>6400.0</td>\n",
       "      <td>20000.0</td>\n",
       "    </tr>\n",
       "    <tr>\n",
       "      <th>RegistrationYear</th>\n",
       "      <td>354369.0</td>\n",
       "      <td>2004.234448</td>\n",
       "      <td>90.227958</td>\n",
       "      <td>1000.0</td>\n",
       "      <td>1999.0</td>\n",
       "      <td>2003.0</td>\n",
       "      <td>2008.0</td>\n",
       "      <td>9999.0</td>\n",
       "    </tr>\n",
       "    <tr>\n",
       "      <th>Power</th>\n",
       "      <td>354369.0</td>\n",
       "      <td>110.094337</td>\n",
       "      <td>189.850405</td>\n",
       "      <td>0.0</td>\n",
       "      <td>69.0</td>\n",
       "      <td>105.0</td>\n",
       "      <td>143.0</td>\n",
       "      <td>20000.0</td>\n",
       "    </tr>\n",
       "    <tr>\n",
       "      <th>Kilometer</th>\n",
       "      <td>354369.0</td>\n",
       "      <td>128211.172535</td>\n",
       "      <td>37905.341530</td>\n",
       "      <td>5000.0</td>\n",
       "      <td>125000.0</td>\n",
       "      <td>150000.0</td>\n",
       "      <td>150000.0</td>\n",
       "      <td>150000.0</td>\n",
       "    </tr>\n",
       "    <tr>\n",
       "      <th>RegistrationMonth</th>\n",
       "      <td>354369.0</td>\n",
       "      <td>5.714645</td>\n",
       "      <td>3.726421</td>\n",
       "      <td>0.0</td>\n",
       "      <td>3.0</td>\n",
       "      <td>6.0</td>\n",
       "      <td>9.0</td>\n",
       "      <td>12.0</td>\n",
       "    </tr>\n",
       "    <tr>\n",
       "      <th>NumberOfPictures</th>\n",
       "      <td>354369.0</td>\n",
       "      <td>0.000000</td>\n",
       "      <td>0.000000</td>\n",
       "      <td>0.0</td>\n",
       "      <td>0.0</td>\n",
       "      <td>0.0</td>\n",
       "      <td>0.0</td>\n",
       "      <td>0.0</td>\n",
       "    </tr>\n",
       "    <tr>\n",
       "      <th>PostalCode</th>\n",
       "      <td>354369.0</td>\n",
       "      <td>50508.689087</td>\n",
       "      <td>25783.096248</td>\n",
       "      <td>1067.0</td>\n",
       "      <td>30165.0</td>\n",
       "      <td>49413.0</td>\n",
       "      <td>71083.0</td>\n",
       "      <td>99998.0</td>\n",
       "    </tr>\n",
       "  </tbody>\n",
       "</table>\n",
       "</div>"
      ],
      "text/plain": [
       "                      count           mean           std     min       25%  \\\n",
       "Price              354369.0    4416.656776   4514.158514     0.0    1050.0   \n",
       "RegistrationYear   354369.0    2004.234448     90.227958  1000.0    1999.0   \n",
       "Power              354369.0     110.094337    189.850405     0.0      69.0   \n",
       "Kilometer          354369.0  128211.172535  37905.341530  5000.0  125000.0   \n",
       "RegistrationMonth  354369.0       5.714645      3.726421     0.0       3.0   \n",
       "NumberOfPictures   354369.0       0.000000      0.000000     0.0       0.0   \n",
       "PostalCode         354369.0   50508.689087  25783.096248  1067.0   30165.0   \n",
       "\n",
       "                        50%       75%       max  \n",
       "Price                2700.0    6400.0   20000.0  \n",
       "RegistrationYear     2003.0    2008.0    9999.0  \n",
       "Power                 105.0     143.0   20000.0  \n",
       "Kilometer          150000.0  150000.0  150000.0  \n",
       "RegistrationMonth       6.0       9.0      12.0  \n",
       "NumberOfPictures        0.0       0.0       0.0  \n",
       "PostalCode          49413.0   71083.0   99998.0  "
      ]
     },
     "execution_count": 4,
     "metadata": {},
     "output_type": "execute_result"
    }
   ],
   "source": [
    "data.describe().T"
   ]
  },
  {
   "cell_type": "markdown",
   "metadata": {},
   "source": [
    "**Описание данных**\n",
    "\n",
    "Признаки<br>\n",
    "\n",
    "- DateCrawled — дата скачивания анкеты из базы<br>\n",
    "- VehicleType — тип автомобильного кузова<br>\n",
    "- RegistrationYear — год регистрации автомобиля<br>\n",
    "- Gearbox — тип коробки передач<br>\n",
    "- Power — мощность (л. с.)<br>\n",
    "- Model — модель автомобиля<br>\n",
    "- Kilometer — пробег (км)<br>\n",
    "- RegistrationMonth — месяц регистрации автомобиля<br>\n",
    "- FuelType — тип топлива<br>\n",
    "- Brand — марка автомобиля<br>\n",
    "- Repaired — была машина в ремонте или нет<br>\n",
    "- DateCreated — дата создания анкеты<br>\n",
    "- NumberOfPictures — количество фотографий автомобиля<br>\n",
    "- PostalCode — почтовый индекс владельца анкеты (пользователя)<br>\n",
    "- LastSeen — дата последней активности пользователя<br>\n",
    "\n",
    "Целевой признак<br>\n",
    "- Price — цена (евро)<br>"
   ]
  },
  {
   "cell_type": "markdown",
   "metadata": {},
   "source": [
    "**Процент пропусков**"
   ]
  },
  {
   "cell_type": "code",
   "execution_count": 5,
   "metadata": {
    "scrolled": true
   },
   "outputs": [
    {
     "data": {
      "text/plain": [
       "Repaired       20.079070\n",
       "VehicleType    10.579368\n",
       "FuelType        9.282697\n",
       "Gearbox         5.596709\n",
       "Model           5.560588\n",
       "DateCrawled     0.000000\n",
       "dtype: float64"
      ]
     },
     "execution_count": 5,
     "metadata": {},
     "output_type": "execute_result"
    }
   ],
   "source": [
    "data.isna().mean().sort_values(ascending=False).head(6) * 100"
   ]
  },
  {
   "cell_type": "markdown",
   "metadata": {},
   "source": [
    "Пропуски невозможно заполнить значениями, поэтому пометим их как 'unknown'"
   ]
  },
  {
   "cell_type": "code",
   "execution_count": 6,
   "metadata": {},
   "outputs": [],
   "source": [
    "data['Model'] = data['Model'].fillna('unknown')\n",
    "data['FuelType'] = data['FuelType'].fillna('unknown')\n",
    "data['VehicleType'] = data['VehicleType'].fillna('unknown')\n",
    "data['Gearbox'] = data['Gearbox'].fillna('unknown')\n",
    "data['Repaired'] = data['Repaired'].fillna('unknown')"
   ]
  },
  {
   "cell_type": "code",
   "execution_count": 7,
   "metadata": {},
   "outputs": [
    {
     "data": {
      "text/plain": [
       "DateCrawled          0.0\n",
       "Price                0.0\n",
       "VehicleType          0.0\n",
       "RegistrationYear     0.0\n",
       "Gearbox              0.0\n",
       "Power                0.0\n",
       "Model                0.0\n",
       "Kilometer            0.0\n",
       "RegistrationMonth    0.0\n",
       "FuelType             0.0\n",
       "Brand                0.0\n",
       "Repaired             0.0\n",
       "DateCreated          0.0\n",
       "NumberOfPictures     0.0\n",
       "PostalCode           0.0\n",
       "LastSeen             0.0\n",
       "dtype: float64"
      ]
     },
     "execution_count": 7,
     "metadata": {},
     "output_type": "execute_result"
    }
   ],
   "source": [
    "data.isna().mean()"
   ]
  },
  {
   "cell_type": "code",
   "execution_count": 8,
   "metadata": {
    "scrolled": true
   },
   "outputs": [
    {
     "data": {
      "text/plain": [
       "<AxesSubplot:>"
      ]
     },
     "execution_count": 8,
     "metadata": {},
     "output_type": "execute_result"
    },
    {
     "data": {
      "image/png": "[encoded data removed]",
      "text/plain": [
       "<Figure size 432x288 with 2 Axes>"
      ]
     },
     "metadata": {
      "needs_background": "light"
     },
     "output_type": "display_data"
    }
   ],
   "source": [
    "sns.heatmap(data.corr(), annot=True, vmin=-1, vmax=1, center= 0)"
   ]
  },
  {
   "cell_type": "markdown",
   "metadata": {},
   "source": [
    "Посмотрим на крайнее выложенное объявление:"
   ]
  },
  {
   "cell_type": "code",
   "execution_count": 9,
   "metadata": {
    "scrolled": true
   },
   "outputs": [
    {
     "data": {
      "text/plain": [
       "'2016-04-07 00:00:00'"
      ]
     },
     "execution_count": 9,
     "metadata": {},
     "output_type": "execute_result"
    }
   ],
   "source": [
    "data['DateCreated'].max()"
   ]
  },
  {
   "cell_type": "markdown",
   "metadata": {},
   "source": [
    "Уберём те объявления, в которых указан год и месяц регистрации позже 2016-04"
   ]
  },
  {
   "cell_type": "code",
   "execution_count": 10,
   "metadata": {},
   "outputs": [],
   "source": [
    "data = data[(data['RegistrationYear'] < 2016) | ((data['RegistrationYear'] == 2016) & (data['RegistrationMonth'] < 5))]"
   ]
  },
  {
   "cell_type": "markdown",
   "metadata": {},
   "source": [
    "В данных присутствуют признаки, которые не важны для нас, но они могут немного исказить результаты, удалим столбцы: <br>\n",
    "    - LastSeen<br>\n",
    "    - DateCrawled<br>\n",
    "    - PostalCode<br>\n",
    "    - NumberOfPictures (они отсутствуют у всех)<br>\n",
    "    - RegistrationMonth<br>\n",
    "    - DateCreated<br>\n",
    "   \n",
    "Названия остальных столбцов переведем в змеиный регистр."
   ]
  },
  {
   "cell_type": "code",
   "execution_count": 11,
   "metadata": {},
   "outputs": [],
   "source": [
    "data = data.drop(columns = ['LastSeen', \n",
    "                     'DateCrawled',\n",
    "                     'PostalCode',\n",
    "                     'NumberOfPictures',\n",
    "                     'RegistrationMonth',\n",
    "                     'DateCreated'], axis = 1)\n",
    "\n",
    "data.rename(columns = {'VehicleType' : 'vehicle_type', \n",
    "                     'Gearbox' : 'gearbox', \n",
    "                     'RegistrationYear' : 'registration_year', \n",
    "                     'Power' : 'power', \n",
    "                     'Model' : 'model', \n",
    "                     'Kilometer' : 'kilometer', \n",
    "                     'FuelType' : 'fuel_type',\n",
    "                     'Brand' : 'brand',\n",
    "                     'Repaired' : 'not_repaired',\n",
    "                     'Price' : 'price'}, \n",
    "          inplace = True)"
   ]
  },
  {
   "cell_type": "code",
   "execution_count": 12,
   "metadata": {
    "scrolled": true
   },
   "outputs": [
    {
     "name": "stdout",
     "output_type": "stream",
     "text": [
      "<class 'pandas.core.frame.DataFrame'>\n",
      "Int64Index: 335149 entries, 0 to 354368\n",
      "Data columns (total 10 columns):\n",
      " #   Column             Non-Null Count   Dtype \n",
      "---  ------             --------------   ----- \n",
      " 0   price              335149 non-null  int64 \n",
      " 1   vehicle_type       335149 non-null  object\n",
      " 2   registration_year  335149 non-null  int64 \n",
      " 3   gearbox            335149 non-null  object\n",
      " 4   power              335149 non-null  int64 \n",
      " 5   model              335149 non-null  object\n",
      " 6   kilometer          335149 non-null  int64 \n",
      " 7   fuel_type          335149 non-null  object\n",
      " 8   brand              335149 non-null  object\n",
      " 9   not_repaired       335149 non-null  object\n",
      "dtypes: int64(4), object(6)\n",
      "memory usage: 28.1+ MB\n"
     ]
    }
   ],
   "source": [
    "data.info()"
   ]
  },
  {
   "cell_type": "markdown",
   "metadata": {},
   "source": [
    "## Работа с аномалиями"
   ]
  },
  {
   "cell_type": "code",
   "execution_count": 13,
   "metadata": {
    "scrolled": true
   },
   "outputs": [
    {
     "data": {
      "text/html": [
       "<div>\n",
       "<style scoped>\n",
       "    .dataframe tbody tr th:only-of-type {\n",
       "        vertical-align: middle;\n",
       "    }\n",
       "\n",
       "    .dataframe tbody tr th {\n",
       "        vertical-align: top;\n",
       "    }\n",
       "\n",
       "    .dataframe thead th {\n",
       "        text-align: right;\n",
       "    }\n",
       "</style>\n",
       "<table border=\"1\" class=\"dataframe\">\n",
       "  <thead>\n",
       "    <tr style=\"text-align: right;\">\n",
       "      <th></th>\n",
       "      <th>count</th>\n",
       "      <th>mean</th>\n",
       "      <th>std</th>\n",
       "      <th>min</th>\n",
       "      <th>25%</th>\n",
       "      <th>50%</th>\n",
       "      <th>75%</th>\n",
       "      <th>max</th>\n",
       "    </tr>\n",
       "  </thead>\n",
       "  <tbody>\n",
       "    <tr>\n",
       "      <th>price</th>\n",
       "      <td>335149.0</td>\n",
       "      <td>4500.118655</td>\n",
       "      <td>4557.056863</td>\n",
       "      <td>0.0</td>\n",
       "      <td>1100.0</td>\n",
       "      <td>2800.0</td>\n",
       "      <td>6500.0</td>\n",
       "      <td>20000.0</td>\n",
       "    </tr>\n",
       "    <tr>\n",
       "      <th>registration_year</th>\n",
       "      <td>335149.0</td>\n",
       "      <td>2002.131467</td>\n",
       "      <td>13.949278</td>\n",
       "      <td>1000.0</td>\n",
       "      <td>1999.0</td>\n",
       "      <td>2003.0</td>\n",
       "      <td>2007.0</td>\n",
       "      <td>2016.0</td>\n",
       "    </tr>\n",
       "    <tr>\n",
       "      <th>power</th>\n",
       "      <td>335149.0</td>\n",
       "      <td>111.331169</td>\n",
       "      <td>183.694278</td>\n",
       "      <td>0.0</td>\n",
       "      <td>69.0</td>\n",
       "      <td>105.0</td>\n",
       "      <td>143.0</td>\n",
       "      <td>20000.0</td>\n",
       "    </tr>\n",
       "    <tr>\n",
       "      <th>kilometer</th>\n",
       "      <td>335149.0</td>\n",
       "      <td>127962.771782</td>\n",
       "      <td>37985.339253</td>\n",
       "      <td>5000.0</td>\n",
       "      <td>125000.0</td>\n",
       "      <td>150000.0</td>\n",
       "      <td>150000.0</td>\n",
       "      <td>150000.0</td>\n",
       "    </tr>\n",
       "  </tbody>\n",
       "</table>\n",
       "</div>"
      ],
      "text/plain": [
       "                      count           mean           std     min       25%  \\\n",
       "price              335149.0    4500.118655   4557.056863     0.0    1100.0   \n",
       "registration_year  335149.0    2002.131467     13.949278  1000.0    1999.0   \n",
       "power              335149.0     111.331169    183.694278     0.0      69.0   \n",
       "kilometer          335149.0  127962.771782  37985.339253  5000.0  125000.0   \n",
       "\n",
       "                        50%       75%       max  \n",
       "price                2800.0    6500.0   20000.0  \n",
       "registration_year    2003.0    2007.0    2016.0  \n",
       "power                 105.0     143.0   20000.0  \n",
       "kilometer          150000.0  150000.0  150000.0  "
      ]
     },
     "execution_count": 13,
     "metadata": {},
     "output_type": "execute_result"
    }
   ],
   "source": [
    "data.describe().T"
   ]
  },
  {
   "cell_type": "markdown",
   "metadata": {},
   "source": [
    "Можно увидеть несколько аномальных величин:\n",
    "- Год регистрации - максимальное и минимальное значение\n",
    "- Мощность двигателя - максимальное и минимальное значение\n",
    "- Цена - минимальное значение"
   ]
  },
  {
   "cell_type": "markdown",
   "metadata": {},
   "source": [
    "**Год регистрации**"
   ]
  },
  {
   "cell_type": "code",
   "execution_count": 14,
   "metadata": {
    "scrolled": true
   },
   "outputs": [
    {
     "name": "stdout",
     "output_type": "stream",
     "text": [
      "99% значений столбца с годом регистрации лежит в промежутке от 1971.0 до 2016.0\n"
     ]
    }
   ],
   "source": [
    "print('99% значений столбца с годом регистрации лежит в промежутке от', \n",
    "      data['registration_year'].quantile(q=0.005), \n",
    "      'до', data['registration_year'].quantile(q=0.995))"
   ]
  },
  {
   "cell_type": "markdown",
   "metadata": {},
   "source": [
    "Удалим выбросы, не входящие в этот промежуток, также учитывая, чтоо последнее объявление было загружено в 2016 году"
   ]
  },
  {
   "cell_type": "code",
   "execution_count": 15,
   "metadata": {},
   "outputs": [],
   "source": [
    "data['registration_year'] = data[data['registration_year'] >= 1971]['registration_year']\n",
    "data['registration_year'] = data[data['registration_year'] <= 2016]['registration_year']"
   ]
  },
  {
   "cell_type": "code",
   "execution_count": 16,
   "metadata": {
    "scrolled": false
   },
   "outputs": [
    {
     "data": {
      "image/png": "[encoded data removed]",
      "text/plain": [
       "<Figure size 720x720 with 1 Axes>"
      ]
     },
     "metadata": {
      "needs_background": "light"
     },
     "output_type": "display_data"
    }
   ],
   "source": [
    "data['registration_year'].hist(bins=50, figsize=(10,10))\n",
    "plt.show()"
   ]
  },
  {
   "cell_type": "markdown",
   "metadata": {},
   "source": [
    "**Мощность двигателя**"
   ]
  },
  {
   "cell_type": "code",
   "execution_count": 17,
   "metadata": {},
   "outputs": [],
   "source": [
    "data['power'] = data[data['power'] < data['power'].quantile(q=0.995)]['power']"
   ]
  },
  {
   "cell_type": "code",
   "execution_count": 18,
   "metadata": {
    "scrolled": true
   },
   "outputs": [
    {
     "data": {
      "image/png": "[encoded data removed]",
      "text/plain": [
       "<Figure size 720x720 with 1 Axes>"
      ]
     },
     "metadata": {
      "needs_background": "light"
     },
     "output_type": "display_data"
    }
   ],
   "source": [
    "data['power'].hist(bins=50, figsize=(10,10))\n",
    "plt.show()"
   ]
  },
  {
   "cell_type": "markdown",
   "metadata": {},
   "source": [
    "Очень много значений равны нулю, возможно они появились из-за того, что продавец не знал мощность автомобиля, пропускал колонку и она автозаполнялась нулём. Уберем их, чтобы они не исказили результаты."
   ]
  },
  {
   "cell_type": "code",
   "execution_count": 19,
   "metadata": {},
   "outputs": [],
   "source": [
    "data['power'] = data[data['power'] != 0]['power']"
   ]
  },
  {
   "cell_type": "markdown",
   "metadata": {},
   "source": [
    "**Цена**"
   ]
  },
  {
   "cell_type": "code",
   "execution_count": 20,
   "metadata": {
    "scrolled": false
   },
   "outputs": [
    {
     "data": {
      "image/png": "[encoded data removed]",
      "text/plain": [
       "<Figure size 720x720 with 1 Axes>"
      ]
     },
     "metadata": {
      "needs_background": "light"
     },
     "output_type": "display_data"
    }
   ],
   "source": [
    "data['price'].hist(bins=50, figsize=(10,10))\n",
    "plt.show()"
   ]
  },
  {
   "cell_type": "markdown",
   "metadata": {},
   "source": [
    "Странно, что цена так распределена. Возможно, продавцы не писали действительную стоимость во время подачи объявления, вохможно, кто-то отдавал почти за даром автомобили, которые уже не пригодны к передвижения (на запчасти, на металлолом).<br>\n",
    "\n",
    "Думаю, что такие данные могут исказить результат, уберем небольшую часть из них."
   ]
  },
  {
   "cell_type": "code",
   "execution_count": 21,
   "metadata": {},
   "outputs": [],
   "source": [
    "data['price'] = data[data['price'] > data['price'].quantile(q=0.1)]['price']"
   ]
  },
  {
   "cell_type": "markdown",
   "metadata": {},
   "source": [
    "Тут я в замешательстве, так как очень малые цены составляют около 50% данных. Что делать?\n",
    "\n",
    "(я поэксперементировал, получил ,что значение метрики наивысшее, если убрать примерно 10%)"
   ]
  },
  {
   "cell_type": "markdown",
   "metadata": {},
   "source": [
    "**Проверка**"
   ]
  },
  {
   "cell_type": "code",
   "execution_count": 22,
   "metadata": {},
   "outputs": [],
   "source": [
    "data = data.dropna(axis='index', how='any', subset=['price', 'power', 'registration_year'])"
   ]
  },
  {
   "cell_type": "code",
   "execution_count": 23,
   "metadata": {
    "scrolled": true
   },
   "outputs": [
    {
     "data": {
      "image/png": "[encoded data removed]",
      "text/plain": [
       "<Figure size 720x720 with 4 Axes>"
      ]
     },
     "metadata": {
      "needs_background": "light"
     },
     "output_type": "display_data"
    }
   ],
   "source": [
    "data.hist(bins=50, figsize=(10,10))\n",
    "plt.show()"
   ]
  },
  {
   "cell_type": "code",
   "execution_count": 24,
   "metadata": {},
   "outputs": [],
   "source": [
    "data.drop_duplicates(inplace=True)"
   ]
  },
  {
   "cell_type": "code",
   "execution_count": 25,
   "metadata": {},
   "outputs": [],
   "source": [
    "data['price'] = data['price'].astype(int)\n",
    "data['registration_year'] = data['registration_year'].astype(int)\n",
    "data['power'] = data['power'].astype(int)"
   ]
  },
  {
   "cell_type": "code",
   "execution_count": 26,
   "metadata": {
    "scrolled": true
   },
   "outputs": [
    {
     "name": "stdout",
     "output_type": "stream",
     "text": [
      "<class 'pandas.core.frame.DataFrame'>\n",
      "Int64Index: 237255 entries, 1 to 354368\n",
      "Data columns (total 10 columns):\n",
      " #   Column             Non-Null Count   Dtype \n",
      "---  ------             --------------   ----- \n",
      " 0   price              237255 non-null  int64 \n",
      " 1   vehicle_type       237255 non-null  object\n",
      " 2   registration_year  237255 non-null  int64 \n",
      " 3   gearbox            237255 non-null  object\n",
      " 4   power              237255 non-null  int64 \n",
      " 5   model              237255 non-null  object\n",
      " 6   kilometer          237255 non-null  int64 \n",
      " 7   fuel_type          237255 non-null  object\n",
      " 8   brand              237255 non-null  object\n",
      " 9   not_repaired       237255 non-null  object\n",
      "dtypes: int64(4), object(6)\n",
      "memory usage: 19.9+ MB\n"
     ]
    }
   ],
   "source": [
    "data.info()"
   ]
  },
  {
   "cell_type": "markdown",
   "metadata": {},
   "source": [
    "**Вывод:**\n",
    "\n",
    "При просмотре данных были выявлены пропуски в категориальных переменных, пропуски заменены на unknown.\n",
    "\n",
    "Выявлены признаки, которые не помогут корректному обучению моделей, они были удалены.\n",
    "\n",
    "Также выявлены аномалии и дубликаты, от которых мы избавились.\n",
    "\n",
    "Далее<br>\n",
    "Произведем обучение моделей библеотеками: Catboost, LightGBM, LinearRegression.<br>\n",
    "\n",
    "Проверим качество моделей метрикой RMSE,<br>\n",
    "Проверим время обучения, <br>\n",
    "Проверим время предсказания.<br>"
   ]
  },
  {
   "cell_type": "markdown",
   "metadata": {},
   "source": [
    "## Обучение моделей"
   ]
  },
  {
   "cell_type": "code",
   "execution_count": 27,
   "metadata": {},
   "outputs": [],
   "source": [
    "features, target = data.drop(['price'], axis=1), data['price']"
   ]
  },
  {
   "cell_type": "code",
   "execution_count": 28,
   "metadata": {},
   "outputs": [
    {
     "data": {
      "text/plain": [
       "(237255, 9)"
      ]
     },
     "execution_count": 28,
     "metadata": {},
     "output_type": "execute_result"
    }
   ],
   "source": [
    "features.shape"
   ]
  },
  {
   "cell_type": "code",
   "execution_count": 29,
   "metadata": {},
   "outputs": [
    {
     "data": {
      "text/plain": [
       "(237255,)"
      ]
     },
     "execution_count": 29,
     "metadata": {},
     "output_type": "execute_result"
    }
   ],
   "source": [
    "target.shape"
   ]
  },
  {
   "cell_type": "code",
   "execution_count": 30,
   "metadata": {},
   "outputs": [],
   "source": [
    "features_train, features_test, target_train, target_test = train_test_split (\n",
    "    features, \n",
    "    target, \n",
    "    test_size = 0.25,\n",
    "    random_state = 12345\n",
    ")\n",
    "\n",
    "features_valid, features_test, target_valid, target_test = train_test_split (\n",
    "    features_test, \n",
    "    target_test, \n",
    "    test_size = 0.5,\n",
    "    random_state = 12345\n",
    ")"
   ]
  },
  {
   "cell_type": "markdown",
   "metadata": {},
   "source": [
    "### CatBoost"
   ]
  },
  {
   "cell_type": "code",
   "execution_count": 31,
   "metadata": {},
   "outputs": [],
   "source": [
    "info = ['CatBoost']"
   ]
  },
  {
   "cell_type": "code",
   "execution_count": 32,
   "metadata": {},
   "outputs": [],
   "source": [
    "cat_features = list(features_train.select_dtypes(include=['object']).columns)"
   ]
  },
  {
   "cell_type": "code",
   "execution_count": 33,
   "metadata": {
    "scrolled": true
   },
   "outputs": [
    {
     "name": "stdout",
     "output_type": "stream",
     "text": [
      "0:\tlearn: 4305.7761920\ttotal: 108ms\tremaining: 15.1s\n",
      "29:\tlearn: 1957.7013563\ttotal: 923ms\tremaining: 3.38s\n",
      "58:\tlearn: 1796.3975716\ttotal: 1.48s\tremaining: 2.03s\n",
      "87:\tlearn: 1737.2631661\ttotal: 1.94s\tremaining: 1.15s\n",
      "116:\tlearn: 1697.0258205\ttotal: 2.46s\tremaining: 484ms\n",
      "139:\tlearn: 1675.3134825\ttotal: 2.83s\tremaining: 0us\n",
      "0:\tlearn: 4009.9988909\ttotal: 42.2ms\tremaining: 5.86s\n",
      "29:\tlearn: 1789.2587041\ttotal: 759ms\tremaining: 2.78s\n",
      "58:\tlearn: 1703.8141690\ttotal: 1.21s\tremaining: 1.66s\n",
      "87:\tlearn: 1654.8388801\ttotal: 1.66s\tremaining: 979ms\n",
      "116:\tlearn: 1628.7121529\ttotal: 2.11s\tremaining: 416ms\n",
      "139:\tlearn: 1613.1620607\ttotal: 2.5s\tremaining: 0us\n",
      "0:\tlearn: 3729.5644418\ttotal: 25.3ms\tremaining: 3.51s\n",
      "29:\tlearn: 1746.7812405\ttotal: 594ms\tremaining: 2.18s\n",
      "58:\tlearn: 1662.1990375\ttotal: 1.08s\tremaining: 1.49s\n",
      "87:\tlearn: 1626.7190130\ttotal: 1.58s\tremaining: 937ms\n",
      "116:\tlearn: 1598.5473833\ttotal: 2.09s\tremaining: 411ms\n",
      "139:\tlearn: 1584.1977190\ttotal: 2.55s\tremaining: 0us\n",
      "0:\tlearn: 3468.1967257\ttotal: 26ms\tremaining: 3.62s\n",
      "29:\tlearn: 1723.1515557\ttotal: 574ms\tremaining: 2.1s\n",
      "58:\tlearn: 1645.2643544\ttotal: 1.05s\tremaining: 1.45s\n",
      "87:\tlearn: 1610.4261092\ttotal: 1.54s\tremaining: 910ms\n",
      "116:\tlearn: 1582.6311836\ttotal: 2.03s\tremaining: 400ms\n",
      "139:\tlearn: 1568.7451992\ttotal: 2.44s\tremaining: 0us\n",
      "0:\tlearn: 3230.5268255\ttotal: 23.4ms\tremaining: 3.25s\n",
      "29:\tlearn: 1705.5930311\ttotal: 595ms\tremaining: 2.18s\n",
      "58:\tlearn: 1629.6920467\ttotal: 1.07s\tremaining: 1.48s\n",
      "87:\tlearn: 1592.6142947\ttotal: 1.54s\tremaining: 913ms\n",
      "116:\tlearn: 1570.5016947\ttotal: 2.07s\tremaining: 407ms\n",
      "139:\tlearn: 1554.3027014\ttotal: 2.5s\tremaining: 0us\n",
      "0:\tlearn: 3022.1508408\ttotal: 23.6ms\tremaining: 3.28s\n",
      "29:\tlearn: 1695.9406947\ttotal: 595ms\tremaining: 2.18s\n",
      "58:\tlearn: 1620.1647272\ttotal: 1.1s\tremaining: 1.52s\n",
      "87:\tlearn: 1584.2428316\ttotal: 1.59s\tremaining: 940ms\n",
      "116:\tlearn: 1561.1275534\ttotal: 2.08s\tremaining: 409ms\n",
      "139:\tlearn: 1549.3166470\ttotal: 2.46s\tremaining: 0us\n",
      "0:\tlearn: 2849.5027581\ttotal: 23.6ms\tremaining: 3.28s\n",
      "29:\tlearn: 1682.2112744\ttotal: 558ms\tremaining: 2.05s\n",
      "58:\tlearn: 1614.8196746\ttotal: 1.02s\tremaining: 1.4s\n",
      "87:\tlearn: 1579.0552824\ttotal: 1.5s\tremaining: 884ms\n",
      "116:\tlearn: 1556.3314616\ttotal: 1.97s\tremaining: 387ms\n",
      "139:\tlearn: 1540.5640425\ttotal: 2.35s\tremaining: 0us\n",
      "0:\tlearn: 2719.3957329\ttotal: 23.9ms\tremaining: 3.32s\n",
      "29:\tlearn: 1686.3859980\ttotal: 589ms\tremaining: 2.16s\n",
      "58:\tlearn: 1611.1774449\ttotal: 1.14s\tremaining: 1.56s\n",
      "87:\tlearn: 1577.3088812\ttotal: 1.67s\tremaining: 987ms\n",
      "116:\tlearn: 1552.3564539\ttotal: 2.17s\tremaining: 426ms\n",
      "139:\tlearn: 1534.2360184\ttotal: 2.56s\tremaining: 0us\n",
      "0:\tlearn: 2638.1315585\ttotal: 22.7ms\tremaining: 3.16s\n",
      "29:\tlearn: 1681.6357912\ttotal: 533ms\tremaining: 1.95s\n",
      "58:\tlearn: 1615.3436297\ttotal: 1.01s\tremaining: 1.39s\n",
      "87:\tlearn: 1580.6315326\ttotal: 1.56s\tremaining: 924ms\n",
      "116:\tlearn: 1553.5958216\ttotal: 2.06s\tremaining: 406ms\n",
      "139:\tlearn: 1536.3920781\ttotal: 2.45s\tremaining: 0us\n",
      "0:\tlearn: 2610.2759150\ttotal: 25.2ms\tremaining: 3.51s\n",
      "29:\tlearn: 1686.3748268\ttotal: 596ms\tremaining: 2.18s\n",
      "58:\tlearn: 1610.1225208\ttotal: 1.15s\tremaining: 1.58s\n",
      "87:\tlearn: 1574.3893972\ttotal: 1.66s\tremaining: 982ms\n",
      "116:\tlearn: 1545.8151689\ttotal: 2.17s\tremaining: 427ms\n",
      "139:\tlearn: 1531.2929466\ttotal: 2.56s\tremaining: 0us\n"
     ]
    }
   ],
   "source": [
    "mse = 2500\n",
    "best_rate, best_verb = 0.1, 1\n",
    "\n",
    "for rate in np.arange(0.1,1.1, 0.1):\n",
    "    for verb in range(1,31, 2):\n",
    "        model = CatBoostRegressor (\n",
    "    iterations=140, \n",
    "    learning_rate=rate, \n",
    "    verbose=verb, \n",
    "    cat_features=cat_features, \n",
    "    random_seed=12345\n",
    "    )\n",
    "    model.fit(features_train, target_train)\n",
    "    predictions = model.predict(features_valid)\n",
    "    \n",
    "    if (mean_squared_error(target_valid, predictions) ** 0.5) < mse:\n",
    "        best_rate = rate\n",
    "        best_verb = verb\n",
    "        mse = mean_squared_error(target_valid, predictions) ** 0.5"
   ]
  },
  {
   "cell_type": "code",
   "execution_count": 34,
   "metadata": {},
   "outputs": [
    {
     "data": {
      "text/plain": [
       "(0.5, 29)"
      ]
     },
     "execution_count": 34,
     "metadata": {},
     "output_type": "execute_result"
    }
   ],
   "source": [
    "best_rate, best_verb"
   ]
  },
  {
   "cell_type": "code",
   "execution_count": 35,
   "metadata": {
    "scrolled": false
   },
   "outputs": [
    {
     "name": "stdout",
     "output_type": "stream",
     "text": [
      "0:\tlearn: 3230.5268255\ttotal: 19.8ms\tremaining: 2.75s\n",
      "29:\tlearn: 1705.5930311\ttotal: 531ms\tremaining: 1.95s\n",
      "58:\tlearn: 1629.6920467\ttotal: 1.01s\tremaining: 1.39s\n",
      "87:\tlearn: 1592.6142947\ttotal: 1.49s\tremaining: 880ms\n",
      "116:\tlearn: 1570.5016947\ttotal: 1.97s\tremaining: 386ms\n",
      "139:\tlearn: 1554.3027014\ttotal: 2.35s\tremaining: 0us\n"
     ]
    }
   ],
   "source": [
    "start = time.time()\n",
    "\n",
    "model = CatBoostRegressor (\n",
    "    iterations=140, \n",
    "    learning_rate=best_rate, \n",
    "    verbose=best_verb, \n",
    "    cat_features=cat_features, \n",
    "    random_seed=12345\n",
    ")\n",
    "model.fit(features_train, target_train)\n",
    "\n",
    "end = time.time()\n",
    "info.append(end - start)"
   ]
  },
  {
   "cell_type": "code",
   "execution_count": 36,
   "metadata": {},
   "outputs": [],
   "source": [
    "start = time.time()\n",
    "\n",
    "predictions = model.predict(features_valid)\n",
    "\n",
    "end = time.time()\n",
    "\n",
    "info.append(end - start)\n",
    "info.append(mean_squared_error(target_valid, predictions) ** 0.5)"
   ]
  },
  {
   "cell_type": "code",
   "execution_count": 37,
   "metadata": {},
   "outputs": [],
   "source": [
    "info_data = []\n",
    "info_data.append(info)"
   ]
  },
  {
   "cell_type": "code",
   "execution_count": 38,
   "metadata": {},
   "outputs": [
    {
     "data": {
      "text/plain": [
       "[['CatBoost', 2.5934600830078125, 0.036726951599121094, 1630.9043429529122]]"
      ]
     },
     "execution_count": 38,
     "metadata": {},
     "output_type": "execute_result"
    }
   ],
   "source": [
    "info_data"
   ]
  },
  {
   "cell_type": "markdown",
   "metadata": {},
   "source": [
    "### LightGBM"
   ]
  },
  {
   "cell_type": "code",
   "execution_count": 39,
   "metadata": {},
   "outputs": [],
   "source": [
    "info = ['LightGBM']"
   ]
  },
  {
   "cell_type": "code",
   "execution_count": 40,
   "metadata": {},
   "outputs": [],
   "source": [
    "features_train_lgbm = features_train.copy()\n",
    "features_train_lgbm[cat_features] = features_train_lgbm[cat_features].astype('category')"
   ]
  },
  {
   "cell_type": "code",
   "execution_count": 41,
   "metadata": {},
   "outputs": [],
   "source": [
    "train_data = lgbm.Dataset (\n",
    "    features_train_lgbm, \n",
    "    label = target_train, \n",
    "    feature_name = list(features_train.columns),\n",
    "    categorical_feature = cat_features\n",
    ")"
   ]
  },
  {
   "cell_type": "code",
   "execution_count": 42,
   "metadata": {
    "scrolled": true
   },
   "outputs": [
    {
     "name": "stderr",
     "output_type": "stream",
     "text": [
      "/Users/daniilsobolev/opt/anaconda3/lib/python3.9/site-packages/lightgbm/engine.py:177: UserWarning: Found `n_estimators` in params. Will use it instead of argument\n",
      "  _log_warning(f\"Found `{alias}` in params. Will use it instead of argument\")\n",
      "/Users/daniilsobolev/opt/anaconda3/lib/python3.9/site-packages/lightgbm/basic.py:2065: UserWarning: Using categorical_feature in Dataset.\n",
      "  _log_warning('Using categorical_feature in Dataset.')\n"
     ]
    },
    {
     "name": "stdout",
     "output_type": "stream",
     "text": [
      "[LightGBM] [Warning] Auto-choosing row-wise multi-threading, the overhead of testing was 0.005405 seconds.\n",
      "You can set `force_row_wise=true` to remove the overhead.\n",
      "And if memory is not enough, you can set `force_col_wise=true`.\n",
      "[LightGBM] [Info] Total Bins 560\n",
      "[LightGBM] [Info] Number of data points in the train set: 177941, number of used features: 9\n",
      "[LightGBM] [Info] Start training from score 5207.294929\n"
     ]
    }
   ],
   "source": [
    "start = time.time()\n",
    "\n",
    "lgbm_model = lgbm.train (\n",
    "    params = { 'learning_rate' : 0.25,\n",
    "               'n_estimators' : 40,\n",
    "               'objective' : 'root_mean_squared_error',\n",
    "               'random_state' : 12345 \n",
    "             },\n",
    "    train_set = train_data\n",
    ")\n",
    "\n",
    "end = time.time()"
   ]
  },
  {
   "cell_type": "code",
   "execution_count": 43,
   "metadata": {},
   "outputs": [],
   "source": [
    "info.append(end-start)"
   ]
  },
  {
   "cell_type": "code",
   "execution_count": 44,
   "metadata": {},
   "outputs": [],
   "source": [
    "features_valid_lgbm = features_valid.copy()\n",
    "features_valid_lgbm[cat_features] = features_valid_lgbm[cat_features].astype('category')"
   ]
  },
  {
   "cell_type": "code",
   "execution_count": 45,
   "metadata": {},
   "outputs": [],
   "source": [
    "start = time.time()\n",
    "\n",
    "predictions = lgbm_model.predict(features_valid_lgbm)\n",
    "\n",
    "end = time.time()\n",
    "\n",
    "info.append(end-start)\n",
    "info.append(mean_squared_error(target_valid, predictions) ** 0.5)"
   ]
  },
  {
   "cell_type": "code",
   "execution_count": 46,
   "metadata": {},
   "outputs": [],
   "source": [
    "info_data.append(info)"
   ]
  },
  {
   "cell_type": "markdown",
   "metadata": {},
   "source": [
    "### LinearRegression"
   ]
  },
  {
   "cell_type": "markdown",
   "metadata": {},
   "source": [
    "Для того, чтобы обучить линейную регрессию, необходимо преобразовать категориальные переменные. Преобразуем их техникой OHE, а также масштабируем количественные признаки."
   ]
  },
  {
   "cell_type": "code",
   "execution_count": 47,
   "metadata": {},
   "outputs": [],
   "source": [
    "data_ohe = pd.get_dummies(data, drop_first=True)\n",
    "\n",
    "target_lr = data_ohe['price']\n",
    "features_lr = data_ohe.drop('price', axis=1)\n",
    "\n",
    "features_train_lr, features_valid_lr, target_train_lr, target_valid_lr = train_test_split (\n",
    "    features_lr, \n",
    "    target_lr, \n",
    "    test_size = 0.25,\n",
    "    random_state = 12345\n",
    ")\n",
    "\n",
    "features_test_lr, features_valid_lr, target_test_lr, target_valid_lr = train_test_split (\n",
    "    features_valid_lr, \n",
    "    target_valid_lr, \n",
    "    test_size = 0.5,\n",
    "    random_state = 12345\n",
    ")"
   ]
  },
  {
   "cell_type": "code",
   "execution_count": 48,
   "metadata": {
    "scrolled": true
   },
   "outputs": [
    {
     "name": "stderr",
     "output_type": "stream",
     "text": [
      "/Users/daniilsobolev/opt/anaconda3/lib/python3.9/site-packages/pandas/core/frame.py:3191: SettingWithCopyWarning: \n",
      "A value is trying to be set on a copy of a slice from a DataFrame.\n",
      "Try using .loc[row_indexer,col_indexer] = value instead\n",
      "\n",
      "See the caveats in the documentation: https://pandas.pydata.org/pandas-docs/stable/user_guide/indexing.html#returning-a-view-versus-a-copy\n",
      "  self[k1] = value[k2]\n"
     ]
    }
   ],
   "source": [
    "numeric = ['registration_year', 'power', 'kilometer']\n",
    "\n",
    "scaler = StandardScaler()\n",
    "scaler.fit(features_train_lr[numeric])\n",
    "\n",
    "features_train_lr[numeric] = pd.DataFrame(scaler.transform(features_train_lr[numeric]), \n",
    "                                       features_train_lr[numeric].index, \n",
    "                                       features_train_lr[numeric].columns)\n",
    "\n",
    "features_test_lr[numeric] = pd.DataFrame(scaler.transform(features_test_lr[numeric]), \n",
    "                                       features_test_lr[numeric].index, \n",
    "                                       features_test_lr[numeric].columns)\n",
    "\n",
    "features_valid_lr[numeric] = pd.DataFrame(scaler.transform(features_valid_lr[numeric]), \n",
    "                                       features_valid_lr[numeric].index, \n",
    "                                       features_valid_lr[numeric].columns)"
   ]
  },
  {
   "cell_type": "code",
   "execution_count": 49,
   "metadata": {},
   "outputs": [],
   "source": [
    "info = ['LinearRegression']"
   ]
  },
  {
   "cell_type": "code",
   "execution_count": 50,
   "metadata": {},
   "outputs": [],
   "source": [
    "start = time.time()\n",
    "\n",
    "model = LinearRegression()\n",
    "model.fit(features_train_lr, target_train_lr)\n",
    "\n",
    "end = time.time()"
   ]
  },
  {
   "cell_type": "code",
   "execution_count": 51,
   "metadata": {},
   "outputs": [],
   "source": [
    "info.append(end - start)"
   ]
  },
  {
   "cell_type": "code",
   "execution_count": 52,
   "metadata": {},
   "outputs": [],
   "source": [
    "start = time.time()\n",
    "\n",
    "predictions = model.predict(features_valid_lr)\n",
    "\n",
    "end = time.time()\n",
    "\n",
    "info.append(end - start)\n",
    "info.append(mean_squared_error(target_valid_lr, predictions) ** 0.5)"
   ]
  },
  {
   "cell_type": "code",
   "execution_count": 53,
   "metadata": {},
   "outputs": [],
   "source": [
    "info_data.append(info)"
   ]
  },
  {
   "cell_type": "markdown",
   "metadata": {},
   "source": [
    "## Анализ моделей"
   ]
  },
  {
   "cell_type": "code",
   "execution_count": 54,
   "metadata": {},
   "outputs": [],
   "source": [
    "data_models = pd.DataFrame(info_data, columns=['model', 'train_time', 'pred_time', 'rmse_valid'])"
   ]
  },
  {
   "cell_type": "code",
   "execution_count": 55,
   "metadata": {
    "scrolled": false
   },
   "outputs": [
    {
     "data": {
      "text/html": [
       "<div>\n",
       "<style scoped>\n",
       "    .dataframe tbody tr th:only-of-type {\n",
       "        vertical-align: middle;\n",
       "    }\n",
       "\n",
       "    .dataframe tbody tr th {\n",
       "        vertical-align: top;\n",
       "    }\n",
       "\n",
       "    .dataframe thead th {\n",
       "        text-align: right;\n",
       "    }\n",
       "</style>\n",
       "<table border=\"1\" class=\"dataframe\">\n",
       "  <thead>\n",
       "    <tr style=\"text-align: right;\">\n",
       "      <th></th>\n",
       "      <th>model</th>\n",
       "      <th>train_time</th>\n",
       "      <th>pred_time</th>\n",
       "      <th>rmse_valid</th>\n",
       "    </tr>\n",
       "  </thead>\n",
       "  <tbody>\n",
       "    <tr>\n",
       "      <th>0</th>\n",
       "      <td>CatBoost</td>\n",
       "      <td>2.593460</td>\n",
       "      <td>0.036727</td>\n",
       "      <td>1630.904343</td>\n",
       "    </tr>\n",
       "    <tr>\n",
       "      <th>1</th>\n",
       "      <td>LightGBM</td>\n",
       "      <td>0.322637</td>\n",
       "      <td>0.040296</td>\n",
       "      <td>1613.860207</td>\n",
       "    </tr>\n",
       "    <tr>\n",
       "      <th>2</th>\n",
       "      <td>LinearRegression</td>\n",
       "      <td>3.190737</td>\n",
       "      <td>0.049097</td>\n",
       "      <td>2532.528014</td>\n",
       "    </tr>\n",
       "  </tbody>\n",
       "</table>\n",
       "</div>"
      ],
      "text/plain": [
       "              model  train_time  pred_time   rmse_valid\n",
       "0          CatBoost    2.593460   0.036727  1630.904343\n",
       "1          LightGBM    0.322637   0.040296  1613.860207\n",
       "2  LinearRegression    3.190737   0.049097  2532.528014"
      ]
     },
     "execution_count": 55,
     "metadata": {},
     "output_type": "execute_result"
    }
   ],
   "source": [
    "data_models"
   ]
  },
  {
   "cell_type": "markdown",
   "metadata": {},
   "source": [
    "Из таблицы видно, что однозначно лучшая модель по времени обучения и метрике - это LightGBM. Лучшая по времени предсказания - CatBoost\n",
    "\n",
    "Так как нам важны три параметра вкупе, то отдадим препочтение LightGBM."
   ]
  },
  {
   "cell_type": "markdown",
   "metadata": {},
   "source": [
    "### Проверка лучшей модели на тестовой выборке"
   ]
  },
  {
   "cell_type": "code",
   "execution_count": 56,
   "metadata": {},
   "outputs": [],
   "source": [
    "info = ['LightGBM']"
   ]
  },
  {
   "cell_type": "code",
   "execution_count": 57,
   "metadata": {},
   "outputs": [],
   "source": [
    "features_train_lgbm = features_train.copy()\n",
    "features_train_lgbm[cat_features] = features_train_lgbm[cat_features].astype('category')"
   ]
  },
  {
   "cell_type": "code",
   "execution_count": 58,
   "metadata": {},
   "outputs": [],
   "source": [
    "train_data = lgbm.Dataset (\n",
    "    features_train_lgbm, \n",
    "    label = target_train, \n",
    "    feature_name = list(features_train.columns),\n",
    "    categorical_feature = cat_features\n",
    ")"
   ]
  },
  {
   "cell_type": "code",
   "execution_count": 59,
   "metadata": {
    "scrolled": true
   },
   "outputs": [
    {
     "name": "stderr",
     "output_type": "stream",
     "text": [
      "/Users/daniilsobolev/opt/anaconda3/lib/python3.9/site-packages/lightgbm/engine.py:177: UserWarning: Found `n_estimators` in params. Will use it instead of argument\n",
      "  _log_warning(f\"Found `{alias}` in params. Will use it instead of argument\")\n",
      "/Users/daniilsobolev/opt/anaconda3/lib/python3.9/site-packages/lightgbm/basic.py:2065: UserWarning: Using categorical_feature in Dataset.\n",
      "  _log_warning('Using categorical_feature in Dataset.')\n"
     ]
    },
    {
     "name": "stdout",
     "output_type": "stream",
     "text": [
      "[LightGBM] [Warning] Auto-choosing row-wise multi-threading, the overhead of testing was 0.004000 seconds.\n",
      "You can set `force_row_wise=true` to remove the overhead.\n",
      "And if memory is not enough, you can set `force_col_wise=true`.\n",
      "[LightGBM] [Info] Total Bins 560\n",
      "[LightGBM] [Info] Number of data points in the train set: 177941, number of used features: 9\n",
      "[LightGBM] [Info] Start training from score 5207.294929\n"
     ]
    }
   ],
   "source": [
    "start = time.time()\n",
    "\n",
    "lgbm_model = lgbm.train (\n",
    "    params = { 'learning_rate' : 0.25,\n",
    "               'n_estimators' : 40,\n",
    "               'objective' : 'root_mean_squared_error',\n",
    "               'random_state' : 12345 \n",
    "             },\n",
    "    train_set = train_data\n",
    ")\n",
    "\n",
    "end = time.time()\n",
    "info.append(end-start)"
   ]
  },
  {
   "cell_type": "code",
   "execution_count": 60,
   "metadata": {},
   "outputs": [],
   "source": [
    "features_test_lgbm = features_test.copy()\n",
    "features_test_lgbm[cat_features] = features_test_lgbm[cat_features].astype('category')"
   ]
  },
  {
   "cell_type": "code",
   "execution_count": 61,
   "metadata": {},
   "outputs": [],
   "source": [
    "start = time.time()\n",
    "\n",
    "predictions = lgbm_model.predict(features_test_lgbm)\n",
    "\n",
    "end = time.time()\n",
    "\n",
    "info.append(end-start)\n",
    "info.append(mean_squared_error(target_test, predictions) ** 0.5)"
   ]
  },
  {
   "cell_type": "code",
   "execution_count": 62,
   "metadata": {},
   "outputs": [
    {
     "data": {
      "text/plain": [
       "['LightGBM', 0.26684069633483887, 0.03339076042175293, 1608.9768251773705]"
      ]
     },
     "execution_count": 62,
     "metadata": {},
     "output_type": "execute_result"
    }
   ],
   "source": [
    "info"
   ]
  },
  {
   "cell_type": "markdown",
   "metadata": {},
   "source": [
    "### Проверка модели на адекватность"
   ]
  },
  {
   "cell_type": "code",
   "execution_count": 63,
   "metadata": {
    "scrolled": true
   },
   "outputs": [
    {
     "name": "stdout",
     "output_type": "stream",
     "text": [
      "RMSE константсной модели: 4645.216304882125\n"
     ]
    }
   ],
   "source": [
    "pred_const = pd.Series(target_train.mean(), index=target_test.index)\n",
    "rmse_const = mean_squared_error(target_test, pred_const) ** 0.5\n",
    "\n",
    "print('RMSE константсной модели:', rmse_const)"
   ]
  },
  {
   "cell_type": "markdown",
   "metadata": {},
   "source": [
    "Константная модель много хуже рассмотренной, что говорит об адекватности модели."
   ]
  },
  {
   "cell_type": "markdown",
   "metadata": {},
   "source": [
    "## Вывод"
   ]
  },
  {
   "cell_type": "markdown",
   "metadata": {},
   "source": [
    "В данном проекте была задача построить модель, которая умеет определять рыночную стоимость автомобиля по его техническим характеристикам, комплектации и другим признакам.\n",
    "\n",
    "Нам предостовлялся датасет с данными с признаками и ценами машин.<br>\n",
    "Было замечено, что в данных присутствую признаки, которые не важны для нас, поэтому, чтобы не исказть результаты, они были удалены.<br>\n",
    "Далее были обнаружены пропуски в категориальных признаках, было принято решение заполнить их на 'unknown'.<br>\n",
    "Также были выявлены аномалии в данных, которые впоследствии были устранены.<br>\n",
    "\n",
    "Далее нам необходимо было найти такую модель, чтобы она была в купе хороша по трем параметрам:\n",
    "- качество предсказания;\n",
    "- время обучения;\n",
    "- время предсказания модели.\n",
    "\n",
    "В проекте рассматривалось три модели: CatBoost, LightGBM, LinearReression.<br>\n",
    "Лучшая модель по времени обучения - CatBoost, <br>\n",
    "Лучшая модель по времени предсказания - LinearRegression,<br>\n",
    "Лучшая модель по метрике rmse - LightGBM.<br>\n",
    "\n",
    "Все модели по метрике оказались в разы лучше константной.\n",
    "\n",
    "Так как заказчику необходимо было предоставить модель с метрикой rmse не больше, чем 2500, то наилучшая модель - LightGBM:<br>\n",
    "- время предсказания: 0.1768631935119629<br>\n",
    "- время обучения: 2.1329758167266846<br>\n",
    "- качество предсказания: 1608.9768251773705 (rmse)<br>"
   ]
  }
 ],
 "metadata": {
  "ExecuteTimeLog": [
   {
    "duration": 393,
    "start_time": "2022-08-28T09:36:34.268Z"
   },
   {
    "duration": 2859,
    "start_time": "2022-08-28T09:37:24.299Z"
   },
   {
    "duration": 745,
    "start_time": "2022-08-28T09:37:31.946Z"
   },
   {
    "duration": 689,
    "start_time": "2022-08-28T09:37:37.721Z"
   },
   {
    "duration": 134,
    "start_time": "2022-08-28T09:38:46.006Z"
   },
   {
    "duration": 4,
    "start_time": "2022-08-28T09:38:57.764Z"
   },
   {
    "duration": 110,
    "start_time": "2022-08-28T09:39:36.916Z"
   },
   {
    "duration": 92,
    "start_time": "2022-08-28T09:39:41.543Z"
   },
   {
    "duration": 98,
    "start_time": "2022-08-28T09:39:50.943Z"
   },
   {
    "duration": 99,
    "start_time": "2022-08-28T09:39:58.607Z"
   },
   {
    "duration": 169,
    "start_time": "2022-08-28T09:40:15.856Z"
   },
   {
    "duration": 105,
    "start_time": "2022-08-28T09:40:18.038Z"
   },
   {
    "duration": 109,
    "start_time": "2022-08-28T09:40:22.214Z"
   },
   {
    "duration": 127,
    "start_time": "2022-08-28T09:40:33.604Z"
   },
   {
    "duration": 95,
    "start_time": "2022-08-28T09:40:43.084Z"
   },
   {
    "duration": 99,
    "start_time": "2022-08-28T09:40:46.367Z"
   },
   {
    "duration": 8,
    "start_time": "2022-08-28T09:40:56.884Z"
   },
   {
    "duration": 877,
    "start_time": "2022-08-28T09:41:12.410Z"
   },
   {
    "duration": 636,
    "start_time": "2022-08-28T09:41:16.396Z"
   },
   {
    "duration": 8,
    "start_time": "2022-08-28T09:45:13.646Z"
   },
   {
    "duration": 5,
    "start_time": "2022-08-28T09:45:20.072Z"
   },
   {
    "duration": 5,
    "start_time": "2022-08-28T09:45:22.586Z"
   },
   {
    "duration": 39,
    "start_time": "2022-08-28T09:45:48.433Z"
   },
   {
    "duration": 6,
    "start_time": "2022-08-28T09:46:07.621Z"
   },
   {
    "duration": 124,
    "start_time": "2022-08-28T09:46:19.495Z"
   },
   {
    "duration": 506,
    "start_time": "2022-08-28T09:46:26.275Z"
   },
   {
    "duration": 21,
    "start_time": "2022-08-28T09:48:38.917Z"
   },
   {
    "duration": 4,
    "start_time": "2022-08-28T09:51:51.419Z"
   },
   {
    "duration": 9,
    "start_time": "2022-08-28T09:54:25.701Z"
   },
   {
    "duration": 4,
    "start_time": "2022-08-28T09:54:32.542Z"
   },
   {
    "duration": 7,
    "start_time": "2022-08-28T09:54:41.799Z"
   },
   {
    "duration": 98,
    "start_time": "2022-08-28T09:54:47.641Z"
   },
   {
    "duration": 94,
    "start_time": "2022-08-28T09:56:09.062Z"
   },
   {
    "duration": 94,
    "start_time": "2022-08-28T09:56:16.813Z"
   },
   {
    "duration": 18,
    "start_time": "2022-08-28T09:57:12.928Z"
   },
   {
    "duration": 20,
    "start_time": "2022-08-28T09:58:03.698Z"
   },
   {
    "duration": 105,
    "start_time": "2022-08-28T09:58:13.304Z"
   },
   {
    "duration": 90,
    "start_time": "2022-08-28T09:58:20.119Z"
   },
   {
    "duration": 16,
    "start_time": "2022-08-28T09:58:28.642Z"
   },
   {
    "duration": 111,
    "start_time": "2022-08-28T09:58:33.004Z"
   },
   {
    "duration": 17,
    "start_time": "2022-08-28T09:58:59.186Z"
   },
   {
    "duration": 20,
    "start_time": "2022-08-28T10:00:24.568Z"
   },
   {
    "duration": 15,
    "start_time": "2022-08-28T10:00:49.465Z"
   },
   {
    "duration": 17,
    "start_time": "2022-08-28T10:01:09.145Z"
   },
   {
    "duration": 20,
    "start_time": "2022-08-28T10:01:12.042Z"
   },
   {
    "duration": 92,
    "start_time": "2022-08-28T10:01:26.589Z"
   },
   {
    "duration": 17,
    "start_time": "2022-08-28T10:01:45.470Z"
   },
   {
    "duration": 17,
    "start_time": "2022-08-28T10:02:15.971Z"
   },
   {
    "duration": 90,
    "start_time": "2022-08-28T10:02:22.381Z"
   },
   {
    "duration": 18,
    "start_time": "2022-08-28T10:02:45.440Z"
   },
   {
    "duration": 19,
    "start_time": "2022-08-28T10:03:22.041Z"
   },
   {
    "duration": 1077,
    "start_time": "2022-08-28T10:04:30.755Z"
   },
   {
    "duration": 773,
    "start_time": "2022-08-28T10:04:31.834Z"
   },
   {
    "duration": 4,
    "start_time": "2022-08-28T10:04:32.608Z"
   },
   {
    "duration": 127,
    "start_time": "2022-08-28T10:04:32.614Z"
   },
   {
    "duration": 114,
    "start_time": "2022-08-28T10:04:32.743Z"
   },
   {
    "duration": 5,
    "start_time": "2022-08-28T10:04:32.859Z"
   },
   {
    "duration": 10,
    "start_time": "2022-08-28T10:04:32.866Z"
   },
   {
    "duration": 28,
    "start_time": "2022-08-28T10:04:32.878Z"
   },
   {
    "duration": 78,
    "start_time": "2022-08-28T10:04:32.908Z"
   },
   {
    "duration": 557,
    "start_time": "2022-08-28T10:04:32.988Z"
   },
   {
    "duration": 96,
    "start_time": "2022-08-28T10:05:43.847Z"
   },
   {
    "duration": 81,
    "start_time": "2022-08-28T10:28:07.076Z"
   },
   {
    "duration": 26,
    "start_time": "2022-08-28T10:40:46.927Z"
   },
   {
    "duration": 31,
    "start_time": "2022-08-28T10:41:36.245Z"
   },
   {
    "duration": 21,
    "start_time": "2022-08-28T10:41:41.566Z"
   },
   {
    "duration": 45,
    "start_time": "2022-08-28T10:43:24.327Z"
   },
   {
    "duration": 1196,
    "start_time": "2022-08-28T10:43:30.594Z"
   },
   {
    "duration": 2966,
    "start_time": "2022-08-28T10:43:31.792Z"
   },
   {
    "duration": 5,
    "start_time": "2022-08-28T10:43:34.760Z"
   },
   {
    "duration": 161,
    "start_time": "2022-08-28T10:43:34.767Z"
   },
   {
    "duration": 142,
    "start_time": "2022-08-28T10:43:34.932Z"
   },
   {
    "duration": 8,
    "start_time": "2022-08-28T10:43:35.077Z"
   },
   {
    "duration": 11,
    "start_time": "2022-08-28T10:43:35.107Z"
   },
   {
    "duration": 5,
    "start_time": "2022-08-28T10:43:35.121Z"
   },
   {
    "duration": 127,
    "start_time": "2022-08-28T10:43:35.128Z"
   },
   {
    "duration": 115,
    "start_time": "2022-08-28T10:43:35.256Z"
   },
   {
    "duration": 565,
    "start_time": "2022-08-28T10:43:35.372Z"
   },
   {
    "duration": 113,
    "start_time": "2022-08-28T10:43:35.938Z"
   },
   {
    "duration": 38,
    "start_time": "2022-08-28T10:43:36.057Z"
   },
   {
    "duration": 43,
    "start_time": "2022-08-28T10:43:36.098Z"
   },
   {
    "duration": 66,
    "start_time": "2022-08-28T10:45:37.976Z"
   },
   {
    "duration": 20,
    "start_time": "2022-08-28T10:45:39.560Z"
   },
   {
    "duration": 44,
    "start_time": "2022-08-28T10:46:14.900Z"
   },
   {
    "duration": 1090,
    "start_time": "2022-08-28T10:46:33.347Z"
   },
   {
    "duration": 2943,
    "start_time": "2022-08-28T10:46:34.438Z"
   },
   {
    "duration": 5,
    "start_time": "2022-08-28T10:46:37.383Z"
   },
   {
    "duration": 119,
    "start_time": "2022-08-28T10:46:37.389Z"
   },
   {
    "duration": 107,
    "start_time": "2022-08-28T10:46:37.510Z"
   },
   {
    "duration": 5,
    "start_time": "2022-08-28T10:46:37.618Z"
   },
   {
    "duration": 9,
    "start_time": "2022-08-28T10:46:37.625Z"
   },
   {
    "duration": 4,
    "start_time": "2022-08-28T10:46:37.635Z"
   },
   {
    "duration": 109,
    "start_time": "2022-08-28T10:46:37.641Z"
   },
   {
    "duration": 102,
    "start_time": "2022-08-28T10:46:37.753Z"
   },
   {
    "duration": 574,
    "start_time": "2022-08-28T10:46:37.856Z"
   },
   {
    "duration": 97,
    "start_time": "2022-08-28T10:46:38.431Z"
   },
   {
    "duration": 28,
    "start_time": "2022-08-28T10:46:38.529Z"
   },
   {
    "duration": 49,
    "start_time": "2022-08-28T10:46:38.558Z"
   },
   {
    "duration": 23,
    "start_time": "2022-08-28T10:47:40.777Z"
   },
   {
    "duration": 20,
    "start_time": "2022-08-28T10:47:41.627Z"
   },
   {
    "duration": 100,
    "start_time": "2022-08-28T10:49:40.044Z"
   },
   {
    "duration": 222,
    "start_time": "2022-08-28T10:50:26.184Z"
   },
   {
    "duration": 3172,
    "start_time": "2022-08-28T10:50:31.127Z"
   },
   {
    "duration": 24,
    "start_time": "2022-08-28T10:50:35.798Z"
   },
   {
    "duration": 23,
    "start_time": "2022-08-28T10:50:45.767Z"
   },
   {
    "duration": 53,
    "start_time": "2022-08-28T10:52:21.778Z"
   },
   {
    "duration": 111,
    "start_time": "2022-08-28T10:52:27.506Z"
   },
   {
    "duration": 1382,
    "start_time": "2022-08-28T10:52:50.606Z"
   },
   {
    "duration": 84,
    "start_time": "2022-08-28T10:53:04.572Z"
   },
   {
    "duration": 99,
    "start_time": "2022-08-28T10:53:21.374Z"
   },
   {
    "duration": 19,
    "start_time": "2022-08-28T10:54:02.273Z"
   },
   {
    "duration": 88,
    "start_time": "2022-08-28T10:54:03.693Z"
   },
   {
    "duration": 1260,
    "start_time": "2022-08-28T10:54:13.702Z"
   },
   {
    "duration": 753,
    "start_time": "2022-08-28T10:54:14.964Z"
   },
   {
    "duration": 4,
    "start_time": "2022-08-28T10:54:15.719Z"
   },
   {
    "duration": 135,
    "start_time": "2022-08-28T10:54:15.724Z"
   },
   {
    "duration": 112,
    "start_time": "2022-08-28T10:54:15.861Z"
   },
   {
    "duration": 5,
    "start_time": "2022-08-28T10:54:15.975Z"
   },
   {
    "duration": 34,
    "start_time": "2022-08-28T10:54:15.982Z"
   },
   {
    "duration": 5,
    "start_time": "2022-08-28T10:54:16.018Z"
   },
   {
    "duration": 141,
    "start_time": "2022-08-28T10:54:16.024Z"
   },
   {
    "duration": 140,
    "start_time": "2022-08-28T10:54:16.167Z"
   },
   {
    "duration": 572,
    "start_time": "2022-08-28T10:54:16.309Z"
   },
   {
    "duration": 87,
    "start_time": "2022-08-28T10:54:16.882Z"
   },
   {
    "duration": 171,
    "start_time": "2022-08-28T10:54:16.970Z"
   },
   {
    "duration": 80,
    "start_time": "2022-08-28T10:54:17.143Z"
   },
   {
    "duration": 8,
    "start_time": "2022-08-28T10:54:17.225Z"
   },
   {
    "duration": 1341,
    "start_time": "2022-08-28T10:54:40.031Z"
   },
   {
    "duration": 741,
    "start_time": "2022-08-28T10:54:41.373Z"
   },
   {
    "duration": 5,
    "start_time": "2022-08-28T10:54:42.116Z"
   },
   {
    "duration": 138,
    "start_time": "2022-08-28T10:54:42.123Z"
   },
   {
    "duration": 99,
    "start_time": "2022-08-28T10:54:42.263Z"
   },
   {
    "duration": 6,
    "start_time": "2022-08-28T10:54:42.363Z"
   },
   {
    "duration": 62,
    "start_time": "2022-08-28T10:54:42.370Z"
   },
   {
    "duration": 4,
    "start_time": "2022-08-28T10:54:42.434Z"
   },
   {
    "duration": 98,
    "start_time": "2022-08-28T10:54:42.439Z"
   },
   {
    "duration": 85,
    "start_time": "2022-08-28T10:54:42.539Z"
   },
   {
    "duration": 545,
    "start_time": "2022-08-28T10:54:42.626Z"
   },
   {
    "duration": 85,
    "start_time": "2022-08-28T10:54:43.172Z"
   },
   {
    "duration": 154,
    "start_time": "2022-08-28T10:54:43.259Z"
   },
   {
    "duration": 71,
    "start_time": "2022-08-28T10:54:43.416Z"
   },
   {
    "duration": 82,
    "start_time": "2022-08-28T10:56:20.687Z"
   },
   {
    "duration": 73,
    "start_time": "2022-08-28T10:56:22.228Z"
   },
   {
    "duration": 85,
    "start_time": "2022-08-28T10:56:43.627Z"
   },
   {
    "duration": 84,
    "start_time": "2022-08-28T10:57:10.592Z"
   },
   {
    "duration": 71,
    "start_time": "2022-08-28T10:57:11.673Z"
   },
   {
    "duration": 1132,
    "start_time": "2022-08-28T10:57:26.527Z"
   },
   {
    "duration": 589,
    "start_time": "2022-08-28T10:57:33.976Z"
   },
   {
    "duration": 1430,
    "start_time": "2022-08-28T11:09:35.916Z"
   },
   {
    "duration": 1226,
    "start_time": "2022-08-28T11:09:41.443Z"
   },
   {
    "duration": 763,
    "start_time": "2022-08-28T11:09:42.670Z"
   },
   {
    "duration": 4,
    "start_time": "2022-08-28T11:09:43.435Z"
   },
   {
    "duration": 118,
    "start_time": "2022-08-28T11:09:43.440Z"
   },
   {
    "duration": 95,
    "start_time": "2022-08-28T11:09:43.560Z"
   },
   {
    "duration": 7,
    "start_time": "2022-08-28T11:09:43.657Z"
   },
   {
    "duration": 66,
    "start_time": "2022-08-28T11:09:43.665Z"
   },
   {
    "duration": 4,
    "start_time": "2022-08-28T11:09:43.732Z"
   },
   {
    "duration": 82,
    "start_time": "2022-08-28T11:09:43.737Z"
   },
   {
    "duration": 77,
    "start_time": "2022-08-28T11:09:43.822Z"
   },
   {
    "duration": 520,
    "start_time": "2022-08-28T11:09:43.906Z"
   },
   {
    "duration": 87,
    "start_time": "2022-08-28T11:09:44.428Z"
   },
   {
    "duration": 68,
    "start_time": "2022-08-28T11:09:44.517Z"
   },
   {
    "duration": 157,
    "start_time": "2022-08-28T11:09:44.587Z"
   },
   {
    "duration": 89,
    "start_time": "2022-08-28T11:09:44.746Z"
   },
   {
    "duration": 86,
    "start_time": "2022-08-28T11:09:44.837Z"
   },
   {
    "duration": 68,
    "start_time": "2022-08-28T11:09:44.924Z"
   },
   {
    "duration": 600,
    "start_time": "2022-08-28T11:09:44.994Z"
   },
   {
    "duration": 1223,
    "start_time": "2022-08-28T11:11:02.068Z"
   },
   {
    "duration": 738,
    "start_time": "2022-08-28T11:11:03.293Z"
   },
   {
    "duration": 4,
    "start_time": "2022-08-28T11:11:04.033Z"
   },
   {
    "duration": 125,
    "start_time": "2022-08-28T11:11:04.038Z"
   },
   {
    "duration": 101,
    "start_time": "2022-08-28T11:11:04.166Z"
   },
   {
    "duration": 7,
    "start_time": "2022-08-28T11:11:04.269Z"
   },
   {
    "duration": 66,
    "start_time": "2022-08-28T11:11:04.277Z"
   },
   {
    "duration": 5,
    "start_time": "2022-08-28T11:11:04.344Z"
   },
   {
    "duration": 86,
    "start_time": "2022-08-28T11:11:04.350Z"
   },
   {
    "duration": 82,
    "start_time": "2022-08-28T11:11:04.438Z"
   },
   {
    "duration": 549,
    "start_time": "2022-08-28T11:11:04.522Z"
   },
   {
    "duration": 92,
    "start_time": "2022-08-28T11:11:05.073Z"
   },
   {
    "duration": 79,
    "start_time": "2022-08-28T11:11:05.166Z"
   },
   {
    "duration": 84,
    "start_time": "2022-08-28T11:11:05.247Z"
   },
   {
    "duration": 15,
    "start_time": "2022-08-28T11:11:05.333Z"
   },
   {
    "duration": 73,
    "start_time": "2022-08-28T11:11:05.349Z"
   },
   {
    "duration": 84,
    "start_time": "2022-08-28T11:11:05.424Z"
   },
   {
    "duration": 437,
    "start_time": "2022-08-28T11:11:05.510Z"
   },
   {
    "duration": 5,
    "start_time": "2022-08-28T11:14:56.391Z"
   },
   {
    "duration": 7,
    "start_time": "2022-08-28T11:15:08.797Z"
   },
   {
    "duration": 727,
    "start_time": "2022-08-28T11:17:06.779Z"
   },
   {
    "duration": 12,
    "start_time": "2022-08-28T11:19:03.232Z"
   },
   {
    "duration": 10,
    "start_time": "2022-08-28T11:19:17.514Z"
   },
   {
    "duration": 10,
    "start_time": "2022-08-28T11:19:54.595Z"
   },
   {
    "duration": 10,
    "start_time": "2022-08-28T11:20:16.261Z"
   },
   {
    "duration": 7,
    "start_time": "2022-08-28T11:22:39.975Z"
   },
   {
    "duration": 69,
    "start_time": "2022-08-28T11:22:47.040Z"
   },
   {
    "duration": 1494,
    "start_time": "2022-08-28T11:23:57.836Z"
   },
   {
    "duration": 1352,
    "start_time": "2022-08-28T11:24:05.298Z"
   },
   {
    "duration": 724,
    "start_time": "2022-08-28T11:24:06.652Z"
   },
   {
    "duration": 4,
    "start_time": "2022-08-28T11:24:07.378Z"
   },
   {
    "duration": 117,
    "start_time": "2022-08-28T11:24:07.385Z"
   },
   {
    "duration": 103,
    "start_time": "2022-08-28T11:24:07.506Z"
   },
   {
    "duration": 6,
    "start_time": "2022-08-28T11:24:07.611Z"
   },
   {
    "duration": 41,
    "start_time": "2022-08-28T11:24:07.619Z"
   },
   {
    "duration": 5,
    "start_time": "2022-08-28T11:24:07.662Z"
   },
   {
    "duration": 117,
    "start_time": "2022-08-28T11:24:07.668Z"
   },
   {
    "duration": 101,
    "start_time": "2022-08-28T11:24:07.788Z"
   },
   {
    "duration": 513,
    "start_time": "2022-08-28T11:24:07.891Z"
   },
   {
    "duration": 82,
    "start_time": "2022-08-28T11:24:08.406Z"
   },
   {
    "duration": 80,
    "start_time": "2022-08-28T11:24:08.490Z"
   },
   {
    "duration": 89,
    "start_time": "2022-08-28T11:24:08.571Z"
   },
   {
    "duration": 16,
    "start_time": "2022-08-28T11:24:08.661Z"
   },
   {
    "duration": 79,
    "start_time": "2022-08-28T11:24:08.679Z"
   },
   {
    "duration": 9,
    "start_time": "2022-08-28T11:24:08.760Z"
   },
   {
    "duration": 83,
    "start_time": "2022-08-28T11:24:08.771Z"
   },
   {
    "duration": 743,
    "start_time": "2022-08-28T11:24:08.856Z"
   },
   {
    "duration": 12,
    "start_time": "2022-08-28T11:24:09.600Z"
   },
   {
    "duration": 8,
    "start_time": "2022-08-28T11:24:09.614Z"
   },
   {
    "duration": 8,
    "start_time": "2022-08-28T11:24:09.624Z"
   },
   {
    "duration": 9,
    "start_time": "2022-08-28T11:24:09.634Z"
   },
   {
    "duration": 12,
    "start_time": "2022-08-28T11:24:09.645Z"
   },
   {
    "duration": 128,
    "start_time": "2022-08-28T11:24:09.658Z"
   },
   {
    "duration": 19,
    "start_time": "2022-08-28T11:26:42.147Z"
   },
   {
    "duration": 21,
    "start_time": "2022-08-28T11:26:56.598Z"
   },
   {
    "duration": 26342,
    "start_time": "2022-08-28T11:27:47.852Z"
   },
   {
    "duration": 1212,
    "start_time": "2022-08-28T11:28:16.986Z"
   },
   {
    "duration": 3,
    "start_time": "2022-08-28T11:31:09.887Z"
   },
   {
    "duration": 743,
    "start_time": "2022-08-28T11:31:10.771Z"
   },
   {
    "duration": 9,
    "start_time": "2022-08-28T11:31:30.362Z"
   },
   {
    "duration": 415,
    "start_time": "2022-08-28T11:31:32.869Z"
   },
   {
    "duration": 365,
    "start_time": "2022-08-28T11:31:52.741Z"
   },
   {
    "duration": 3,
    "start_time": "2022-08-28T11:31:53.730Z"
   },
   {
    "duration": 98,
    "start_time": "2022-08-28T11:31:54.309Z"
   },
   {
    "duration": 94,
    "start_time": "2022-08-28T11:31:54.586Z"
   },
   {
    "duration": 5,
    "start_time": "2022-08-28T11:31:54.834Z"
   },
   {
    "duration": 16,
    "start_time": "2022-08-28T11:31:55.047Z"
   },
   {
    "duration": 4,
    "start_time": "2022-08-28T11:31:55.247Z"
   },
   {
    "duration": 69,
    "start_time": "2022-08-28T11:31:55.439Z"
   },
   {
    "duration": 87,
    "start_time": "2022-08-28T11:31:55.644Z"
   },
   {
    "duration": 573,
    "start_time": "2022-08-28T11:31:55.843Z"
   },
   {
    "duration": 74,
    "start_time": "2022-08-28T11:31:56.418Z"
   },
   {
    "duration": 75,
    "start_time": "2022-08-28T11:31:56.505Z"
   },
   {
    "duration": 70,
    "start_time": "2022-08-28T11:31:56.581Z"
   },
   {
    "duration": 15,
    "start_time": "2022-08-28T11:31:56.653Z"
   },
   {
    "duration": 53,
    "start_time": "2022-08-28T11:31:56.852Z"
   },
   {
    "duration": 8,
    "start_time": "2022-08-28T11:31:57.038Z"
   },
   {
    "duration": 65,
    "start_time": "2022-08-28T11:31:57.240Z"
   },
   {
    "duration": 800,
    "start_time": "2022-08-28T11:31:57.439Z"
   },
   {
    "duration": 9,
    "start_time": "2022-08-28T11:31:58.242Z"
   },
   {
    "duration": 8,
    "start_time": "2022-08-28T11:31:58.252Z"
   },
   {
    "duration": 9,
    "start_time": "2022-08-28T11:31:58.262Z"
   },
   {
    "duration": 34,
    "start_time": "2022-08-28T11:31:58.273Z"
   },
   {
    "duration": 12,
    "start_time": "2022-08-28T11:31:58.463Z"
   },
   {
    "duration": 66,
    "start_time": "2022-08-28T11:31:58.734Z"
   },
   {
    "duration": 22,
    "start_time": "2022-08-28T11:31:59.337Z"
   },
   {
    "duration": 141,
    "start_time": "2022-08-28T11:32:03.833Z"
   },
   {
    "duration": 1243,
    "start_time": "2022-08-28T11:32:46.609Z"
   },
   {
    "duration": 1288,
    "start_time": "2022-08-28T11:32:54.204Z"
   },
   {
    "duration": 795,
    "start_time": "2022-08-28T11:32:55.494Z"
   },
   {
    "duration": 448,
    "start_time": "2022-08-28T11:32:56.290Z"
   },
   {
    "duration": 4,
    "start_time": "2022-08-28T11:32:56.740Z"
   },
   {
    "duration": 111,
    "start_time": "2022-08-28T11:32:56.745Z"
   },
   {
    "duration": 102,
    "start_time": "2022-08-28T11:32:56.858Z"
   },
   {
    "duration": 5,
    "start_time": "2022-08-28T11:32:56.962Z"
   },
   {
    "duration": 56,
    "start_time": "2022-08-28T11:32:56.968Z"
   },
   {
    "duration": 4,
    "start_time": "2022-08-28T11:32:57.025Z"
   },
   {
    "duration": 99,
    "start_time": "2022-08-28T11:32:57.031Z"
   },
   {
    "duration": 83,
    "start_time": "2022-08-28T11:32:57.132Z"
   },
   {
    "duration": 559,
    "start_time": "2022-08-28T11:32:57.216Z"
   },
   {
    "duration": 90,
    "start_time": "2022-08-28T11:32:57.776Z"
   },
   {
    "duration": 77,
    "start_time": "2022-08-28T11:32:57.867Z"
   },
   {
    "duration": 83,
    "start_time": "2022-08-28T11:32:57.946Z"
   },
   {
    "duration": 16,
    "start_time": "2022-08-28T11:32:58.031Z"
   },
   {
    "duration": 72,
    "start_time": "2022-08-28T11:32:58.048Z"
   },
   {
    "duration": 7,
    "start_time": "2022-08-28T11:32:58.121Z"
   },
   {
    "duration": 80,
    "start_time": "2022-08-28T11:32:58.130Z"
   },
   {
    "duration": 780,
    "start_time": "2022-08-28T11:32:58.211Z"
   },
   {
    "duration": 18,
    "start_time": "2022-08-28T11:32:58.992Z"
   },
   {
    "duration": 9,
    "start_time": "2022-08-28T11:32:59.012Z"
   },
   {
    "duration": 10,
    "start_time": "2022-08-28T11:32:59.022Z"
   },
   {
    "duration": 9,
    "start_time": "2022-08-28T11:32:59.033Z"
   },
   {
    "duration": 12,
    "start_time": "2022-08-28T11:32:59.044Z"
   },
   {
    "duration": 5,
    "start_time": "2022-08-28T11:32:59.058Z"
   },
   {
    "duration": 69,
    "start_time": "2022-08-28T11:32:59.108Z"
   },
   {
    "duration": 33,
    "start_time": "2022-08-28T11:32:59.180Z"
   },
   {
    "duration": 179,
    "start_time": "2022-08-28T11:32:59.215Z"
   },
   {
    "duration": 29,
    "start_time": "2022-08-28T11:33:11.862Z"
   },
   {
    "duration": 30,
    "start_time": "2022-08-28T11:33:33.837Z"
   },
   {
    "duration": 371,
    "start_time": "2022-08-28T11:34:32.788Z"
   },
   {
    "duration": 3,
    "start_time": "2022-08-28T11:35:08.772Z"
   },
   {
    "duration": 236,
    "start_time": "2022-08-28T11:35:12.754Z"
   },
   {
    "duration": 307,
    "start_time": "2022-08-28T11:35:25.948Z"
   },
   {
    "duration": 186,
    "start_time": "2022-08-28T11:36:05.880Z"
   },
   {
    "duration": 180,
    "start_time": "2022-08-28T11:36:13.434Z"
   },
   {
    "duration": 742,
    "start_time": "2022-08-28T11:36:37.341Z"
   },
   {
    "duration": 150,
    "start_time": "2022-08-28T11:37:24.889Z"
   },
   {
    "duration": 760,
    "start_time": "2022-08-28T11:38:27.175Z"
   },
   {
    "duration": 760,
    "start_time": "2022-08-28T11:38:33.159Z"
   },
   {
    "duration": 254,
    "start_time": "2022-08-28T11:38:39.177Z"
   },
   {
    "duration": 198,
    "start_time": "2022-08-28T11:40:02.048Z"
   },
   {
    "duration": 299,
    "start_time": "2022-08-28T11:40:08.784Z"
   },
   {
    "duration": 8,
    "start_time": "2022-08-28T11:40:23.587Z"
   },
   {
    "duration": 8,
    "start_time": "2022-08-28T11:40:33.135Z"
   },
   {
    "duration": 8,
    "start_time": "2022-08-28T11:40:40.117Z"
   },
   {
    "duration": 7,
    "start_time": "2022-08-28T11:41:02.654Z"
   },
   {
    "duration": 9,
    "start_time": "2022-08-28T11:41:16.736Z"
   },
   {
    "duration": 8,
    "start_time": "2022-08-28T11:41:21.755Z"
   },
   {
    "duration": 9,
    "start_time": "2022-08-28T11:41:33.201Z"
   },
   {
    "duration": 7,
    "start_time": "2022-08-28T11:41:43.577Z"
   },
   {
    "duration": 7,
    "start_time": "2022-08-28T11:42:13.352Z"
   },
   {
    "duration": 6,
    "start_time": "2022-08-28T11:42:44.506Z"
   },
   {
    "duration": 14,
    "start_time": "2022-08-28T11:42:56.984Z"
   },
   {
    "duration": 10,
    "start_time": "2022-08-28T11:47:32.240Z"
   },
   {
    "duration": 9,
    "start_time": "2022-08-28T11:47:43.219Z"
   },
   {
    "duration": 9,
    "start_time": "2022-08-28T11:47:52.337Z"
   },
   {
    "duration": 9,
    "start_time": "2022-08-28T11:47:53.990Z"
   },
   {
    "duration": 10,
    "start_time": "2022-08-28T11:49:27.135Z"
   },
   {
    "duration": 165,
    "start_time": "2022-08-28T11:49:57.844Z"
   },
   {
    "duration": 258,
    "start_time": "2022-08-28T11:50:09.572Z"
   },
   {
    "duration": 374,
    "start_time": "2022-08-28T11:50:27.277Z"
   },
   {
    "duration": 177,
    "start_time": "2022-08-28T11:50:30.371Z"
   },
   {
    "duration": 203,
    "start_time": "2022-08-28T11:50:36.764Z"
   },
   {
    "duration": 4,
    "start_time": "2022-08-28T11:50:50.374Z"
   },
   {
    "duration": 74,
    "start_time": "2022-08-28T11:51:12.438Z"
   },
   {
    "duration": 218,
    "start_time": "2022-08-28T11:51:21.900Z"
   },
   {
    "duration": 3,
    "start_time": "2022-08-28T11:51:23.900Z"
   },
   {
    "duration": 1280,
    "start_time": "2022-08-28T11:51:29.866Z"
   },
   {
    "duration": 783,
    "start_time": "2022-08-28T11:51:31.148Z"
   },
   {
    "duration": 458,
    "start_time": "2022-08-28T11:51:31.932Z"
   },
   {
    "duration": 4,
    "start_time": "2022-08-28T11:51:32.392Z"
   },
   {
    "duration": 124,
    "start_time": "2022-08-28T11:51:32.397Z"
   },
   {
    "duration": 110,
    "start_time": "2022-08-28T11:51:32.523Z"
   },
   {
    "duration": 6,
    "start_time": "2022-08-28T11:51:32.634Z"
   },
   {
    "duration": 66,
    "start_time": "2022-08-28T11:51:32.641Z"
   },
   {
    "duration": 4,
    "start_time": "2022-08-28T11:51:32.709Z"
   },
   {
    "duration": 93,
    "start_time": "2022-08-28T11:51:32.715Z"
   },
   {
    "duration": 106,
    "start_time": "2022-08-28T11:51:32.811Z"
   },
   {
    "duration": 602,
    "start_time": "2022-08-28T11:51:32.920Z"
   },
   {
    "duration": 99,
    "start_time": "2022-08-28T11:51:33.524Z"
   },
   {
    "duration": 88,
    "start_time": "2022-08-28T11:51:33.624Z"
   },
   {
    "duration": 81,
    "start_time": "2022-08-28T11:51:33.713Z"
   },
   {
    "duration": 23,
    "start_time": "2022-08-28T11:51:33.795Z"
   },
   {
    "duration": 67,
    "start_time": "2022-08-28T11:51:33.820Z"
   },
   {
    "duration": 20,
    "start_time": "2022-08-28T11:51:33.889Z"
   },
   {
    "duration": 69,
    "start_time": "2022-08-28T11:51:33.910Z"
   },
   {
    "duration": 789,
    "start_time": "2022-08-28T11:51:33.981Z"
   },
   {
    "duration": 11,
    "start_time": "2022-08-28T11:51:34.772Z"
   },
   {
    "duration": 25,
    "start_time": "2022-08-28T11:51:34.784Z"
   },
   {
    "duration": 10,
    "start_time": "2022-08-28T11:51:34.811Z"
   },
   {
    "duration": 10,
    "start_time": "2022-08-28T11:51:34.823Z"
   },
   {
    "duration": 15,
    "start_time": "2022-08-28T11:51:34.834Z"
   },
   {
    "duration": 82,
    "start_time": "2022-08-28T11:51:34.851Z"
   },
   {
    "duration": 11,
    "start_time": "2022-08-28T11:51:34.935Z"
   },
   {
    "duration": 10,
    "start_time": "2022-08-28T11:51:34.950Z"
   },
   {
    "duration": 248,
    "start_time": "2022-08-28T11:51:34.963Z"
   },
   {
    "duration": 411,
    "start_time": "2022-08-28T11:51:35.213Z"
   },
   {
    "duration": 5,
    "start_time": "2022-08-28T11:51:35.625Z"
   },
   {
    "duration": 98,
    "start_time": "2022-08-28T11:51:35.632Z"
   },
   {
    "duration": 21,
    "start_time": "2022-08-28T11:51:35.732Z"
   },
   {
    "duration": 175,
    "start_time": "2022-08-28T11:51:35.754Z"
   },
   {
    "duration": 237,
    "start_time": "2022-08-28T11:51:55.142Z"
   },
   {
    "duration": 230,
    "start_time": "2022-08-28T11:52:32.518Z"
   },
   {
    "duration": 310,
    "start_time": "2022-08-28T11:52:33.301Z"
   },
   {
    "duration": 214,
    "start_time": "2022-08-28T11:52:37.839Z"
   },
   {
    "duration": 234,
    "start_time": "2022-08-28T11:52:40.299Z"
   },
   {
    "duration": 193,
    "start_time": "2022-08-28T11:52:41.220Z"
   },
   {
    "duration": 1295,
    "start_time": "2022-08-28T11:52:47.615Z"
   },
   {
    "duration": 750,
    "start_time": "2022-08-28T11:52:48.912Z"
   },
   {
    "duration": 445,
    "start_time": "2022-08-28T11:52:49.663Z"
   },
   {
    "duration": 4,
    "start_time": "2022-08-28T11:52:50.110Z"
   },
   {
    "duration": 117,
    "start_time": "2022-08-28T11:52:50.116Z"
   },
   {
    "duration": 113,
    "start_time": "2022-08-28T11:52:50.234Z"
   },
   {
    "duration": 5,
    "start_time": "2022-08-28T11:52:50.349Z"
   },
   {
    "duration": 60,
    "start_time": "2022-08-28T11:52:50.355Z"
   },
   {
    "duration": 4,
    "start_time": "2022-08-28T11:52:50.417Z"
   },
   {
    "duration": 109,
    "start_time": "2022-08-28T11:52:50.423Z"
   },
   {
    "duration": 88,
    "start_time": "2022-08-28T11:52:50.533Z"
   },
   {
    "duration": 585,
    "start_time": "2022-08-28T11:52:50.623Z"
   },
   {
    "duration": 84,
    "start_time": "2022-08-28T11:52:51.209Z"
   },
   {
    "duration": 72,
    "start_time": "2022-08-28T11:52:51.305Z"
   },
   {
    "duration": 96,
    "start_time": "2022-08-28T11:52:51.378Z"
   },
   {
    "duration": 17,
    "start_time": "2022-08-28T11:52:51.475Z"
   },
   {
    "duration": 73,
    "start_time": "2022-08-28T11:52:51.493Z"
   },
   {
    "duration": 8,
    "start_time": "2022-08-28T11:52:51.567Z"
   },
   {
    "duration": 96,
    "start_time": "2022-08-28T11:52:51.576Z"
   },
   {
    "duration": 835,
    "start_time": "2022-08-28T11:52:51.674Z"
   },
   {
    "duration": 13,
    "start_time": "2022-08-28T11:52:52.511Z"
   },
   {
    "duration": 9,
    "start_time": "2022-08-28T11:52:52.526Z"
   },
   {
    "duration": 10,
    "start_time": "2022-08-28T11:52:52.537Z"
   },
   {
    "duration": 10,
    "start_time": "2022-08-28T11:52:52.548Z"
   },
   {
    "duration": 50,
    "start_time": "2022-08-28T11:52:52.560Z"
   },
   {
    "duration": 31,
    "start_time": "2022-08-28T11:52:52.612Z"
   },
   {
    "duration": 10,
    "start_time": "2022-08-28T11:52:52.645Z"
   },
   {
    "duration": 11,
    "start_time": "2022-08-28T11:52:52.658Z"
   },
   {
    "duration": 420,
    "start_time": "2022-08-28T11:52:52.670Z"
   },
   {
    "duration": 257,
    "start_time": "2022-08-28T11:52:53.091Z"
   },
   {
    "duration": 4,
    "start_time": "2022-08-28T11:52:53.349Z"
   },
   {
    "duration": 86,
    "start_time": "2022-08-28T11:52:53.355Z"
   },
   {
    "duration": 20,
    "start_time": "2022-08-28T11:52:53.443Z"
   },
   {
    "duration": 169,
    "start_time": "2022-08-28T11:52:53.464Z"
   },
   {
    "duration": 230,
    "start_time": "2022-08-28T11:53:06.377Z"
   },
   {
    "duration": 1234,
    "start_time": "2022-08-28T11:53:44.632Z"
   },
   {
    "duration": 821,
    "start_time": "2022-08-28T11:53:45.868Z"
   },
   {
    "duration": 402,
    "start_time": "2022-08-28T11:53:46.691Z"
   },
   {
    "duration": 3,
    "start_time": "2022-08-28T11:53:47.095Z"
   },
   {
    "duration": 113,
    "start_time": "2022-08-28T11:53:47.099Z"
   },
   {
    "duration": 100,
    "start_time": "2022-08-28T11:53:47.213Z"
   },
   {
    "duration": 5,
    "start_time": "2022-08-28T11:53:47.314Z"
   },
   {
    "duration": 43,
    "start_time": "2022-08-28T11:53:47.320Z"
   },
   {
    "duration": 3,
    "start_time": "2022-08-28T11:53:47.365Z"
   },
   {
    "duration": 98,
    "start_time": "2022-08-28T11:53:47.370Z"
   },
   {
    "duration": 89,
    "start_time": "2022-08-28T11:53:47.470Z"
   },
   {
    "duration": 527,
    "start_time": "2022-08-28T11:53:47.560Z"
   },
   {
    "duration": 82,
    "start_time": "2022-08-28T11:53:48.088Z"
   },
   {
    "duration": 84,
    "start_time": "2022-08-28T11:53:48.171Z"
   },
   {
    "duration": 88,
    "start_time": "2022-08-28T11:53:48.256Z"
   },
   {
    "duration": 16,
    "start_time": "2022-08-28T11:53:48.346Z"
   },
   {
    "duration": 63,
    "start_time": "2022-08-28T11:53:48.363Z"
   },
   {
    "duration": 7,
    "start_time": "2022-08-28T11:53:48.428Z"
   },
   {
    "duration": 82,
    "start_time": "2022-08-28T11:53:48.436Z"
   },
   {
    "duration": 715,
    "start_time": "2022-08-28T11:53:48.520Z"
   },
   {
    "duration": 10,
    "start_time": "2022-08-28T11:53:49.237Z"
   },
   {
    "duration": 7,
    "start_time": "2022-08-28T11:53:49.249Z"
   },
   {
    "duration": 7,
    "start_time": "2022-08-28T11:53:49.258Z"
   },
   {
    "duration": 7,
    "start_time": "2022-08-28T11:53:49.267Z"
   },
   {
    "duration": 11,
    "start_time": "2022-08-28T11:53:49.306Z"
   },
   {
    "duration": 26,
    "start_time": "2022-08-28T11:53:49.319Z"
   },
   {
    "duration": 9,
    "start_time": "2022-08-28T11:53:49.346Z"
   },
   {
    "duration": 8,
    "start_time": "2022-08-28T11:53:49.359Z"
   },
   {
    "duration": 207,
    "start_time": "2022-08-28T11:53:49.368Z"
   },
   {
    "duration": 296,
    "start_time": "2022-08-28T11:53:49.576Z"
   },
   {
    "duration": 223,
    "start_time": "2022-08-28T11:53:49.873Z"
   },
   {
    "duration": 251,
    "start_time": "2022-08-28T11:53:50.098Z"
   },
   {
    "duration": 5,
    "start_time": "2022-08-28T11:53:50.350Z"
   },
   {
    "duration": 108,
    "start_time": "2022-08-28T11:53:50.356Z"
   },
   {
    "duration": 33,
    "start_time": "2022-08-28T11:53:50.465Z"
   },
   {
    "duration": 158,
    "start_time": "2022-08-28T11:53:50.506Z"
   },
   {
    "duration": 27,
    "start_time": "2022-08-28T11:54:33.239Z"
   },
   {
    "duration": 27,
    "start_time": "2022-08-28T11:55:00.209Z"
   },
   {
    "duration": 45,
    "start_time": "2022-08-28T11:55:28.781Z"
   },
   {
    "duration": 327,
    "start_time": "2022-08-28T11:55:29.794Z"
   },
   {
    "duration": 1291,
    "start_time": "2022-08-28T11:55:41.691Z"
   },
   {
    "duration": 761,
    "start_time": "2022-08-28T11:55:42.984Z"
   },
   {
    "duration": 473,
    "start_time": "2022-08-28T11:55:43.746Z"
   },
   {
    "duration": 3,
    "start_time": "2022-08-28T11:55:44.221Z"
   },
   {
    "duration": 120,
    "start_time": "2022-08-28T11:55:44.225Z"
   },
   {
    "duration": 116,
    "start_time": "2022-08-28T11:55:44.347Z"
   },
   {
    "duration": 7,
    "start_time": "2022-08-28T11:55:44.465Z"
   },
   {
    "duration": 57,
    "start_time": "2022-08-28T11:55:44.474Z"
   },
   {
    "duration": 3,
    "start_time": "2022-08-28T11:55:44.533Z"
   },
   {
    "duration": 97,
    "start_time": "2022-08-28T11:55:44.539Z"
   },
   {
    "duration": 86,
    "start_time": "2022-08-28T11:55:44.638Z"
   },
   {
    "duration": 557,
    "start_time": "2022-08-28T11:55:44.725Z"
   },
   {
    "duration": 84,
    "start_time": "2022-08-28T11:55:45.284Z"
   },
   {
    "duration": 86,
    "start_time": "2022-08-28T11:55:45.369Z"
   },
   {
    "duration": 86,
    "start_time": "2022-08-28T11:55:45.456Z"
   },
   {
    "duration": 16,
    "start_time": "2022-08-28T11:55:45.544Z"
   },
   {
    "duration": 72,
    "start_time": "2022-08-28T11:55:45.561Z"
   },
   {
    "duration": 7,
    "start_time": "2022-08-28T11:55:45.635Z"
   },
   {
    "duration": 82,
    "start_time": "2022-08-28T11:55:45.644Z"
   },
   {
    "duration": 873,
    "start_time": "2022-08-28T11:55:45.728Z"
   },
   {
    "duration": 21,
    "start_time": "2022-08-28T11:55:46.602Z"
   },
   {
    "duration": 9,
    "start_time": "2022-08-28T11:55:46.625Z"
   },
   {
    "duration": 9,
    "start_time": "2022-08-28T11:55:46.636Z"
   },
   {
    "duration": 9,
    "start_time": "2022-08-28T11:55:46.646Z"
   },
   {
    "duration": 12,
    "start_time": "2022-08-28T11:55:46.657Z"
   },
   {
    "duration": 59,
    "start_time": "2022-08-28T11:55:46.670Z"
   },
   {
    "duration": 9,
    "start_time": "2022-08-28T11:55:46.731Z"
   },
   {
    "duration": 12,
    "start_time": "2022-08-28T11:55:46.742Z"
   },
   {
    "duration": 77,
    "start_time": "2022-08-28T11:55:46.755Z"
   },
   {
    "duration": 211,
    "start_time": "2022-08-28T11:55:46.834Z"
   },
   {
    "duration": 40,
    "start_time": "2022-08-28T11:55:47.046Z"
   },
   {
    "duration": 227,
    "start_time": "2022-08-28T11:55:47.087Z"
   },
   {
    "duration": 10,
    "start_time": "2022-08-28T11:55:47.316Z"
   },
   {
    "duration": 5,
    "start_time": "2022-08-28T11:55:47.328Z"
   },
   {
    "duration": 80,
    "start_time": "2022-08-28T11:55:47.334Z"
   },
   {
    "duration": 20,
    "start_time": "2022-08-28T11:55:47.415Z"
   },
   {
    "duration": 159,
    "start_time": "2022-08-28T11:55:47.437Z"
   },
   {
    "duration": 3,
    "start_time": "2022-08-28T12:04:30.306Z"
   },
   {
    "duration": 714,
    "start_time": "2022-08-28T12:04:31.486Z"
   },
   {
    "duration": 4,
    "start_time": "2022-08-28T12:04:32.223Z"
   },
   {
    "duration": 102,
    "start_time": "2022-08-28T12:04:32.896Z"
   },
   {
    "duration": 83,
    "start_time": "2022-08-28T12:04:34.448Z"
   },
   {
    "duration": 72,
    "start_time": "2022-08-28T12:04:50.890Z"
   },
   {
    "duration": 28,
    "start_time": "2022-08-28T12:07:58.665Z"
   },
   {
    "duration": 16,
    "start_time": "2022-08-28T12:08:33.904Z"
   },
   {
    "duration": 96,
    "start_time": "2022-08-28T12:10:43.650Z"
   },
   {
    "duration": 2,
    "start_time": "2022-08-28T12:10:53.942Z"
   },
   {
    "duration": 664,
    "start_time": "2022-08-28T12:10:54.889Z"
   },
   {
    "duration": 4,
    "start_time": "2022-08-28T12:10:56.045Z"
   },
   {
    "duration": 172,
    "start_time": "2022-08-28T12:10:56.513Z"
   },
   {
    "duration": 80,
    "start_time": "2022-08-28T12:10:57.121Z"
   },
   {
    "duration": 15,
    "start_time": "2022-08-28T12:11:00.042Z"
   },
   {
    "duration": 76,
    "start_time": "2022-08-28T12:11:06.802Z"
   },
   {
    "duration": 1265,
    "start_time": "2022-08-28T12:12:59.782Z"
   },
   {
    "duration": 67,
    "start_time": "2022-08-28T12:14:24.540Z"
   },
   {
    "duration": 61,
    "start_time": "2022-08-28T12:14:26.416Z"
   },
   {
    "duration": 3,
    "start_time": "2022-08-28T12:14:29.408Z"
   },
   {
    "duration": 768,
    "start_time": "2022-08-28T12:14:30.746Z"
   },
   {
    "duration": 5,
    "start_time": "2022-08-28T12:14:32.086Z"
   },
   {
    "duration": 89,
    "start_time": "2022-08-28T12:14:32.914Z"
   },
   {
    "duration": 103,
    "start_time": "2022-08-28T12:14:34.698Z"
   },
   {
    "duration": 19,
    "start_time": "2022-08-28T12:14:41.847Z"
   },
   {
    "duration": 81,
    "start_time": "2022-08-28T12:14:42.900Z"
   },
   {
    "duration": 71,
    "start_time": "2022-08-28T12:14:46.641Z"
   },
   {
    "duration": 63,
    "start_time": "2022-08-28T12:14:53.323Z"
   },
   {
    "duration": 70,
    "start_time": "2022-08-28T12:15:00.496Z"
   },
   {
    "duration": 69,
    "start_time": "2022-08-28T12:15:02.512Z"
   },
   {
    "duration": 350,
    "start_time": "2022-08-28T12:15:29.383Z"
   },
   {
    "duration": 52,
    "start_time": "2022-08-28T12:17:42.939Z"
   },
   {
    "duration": 1264,
    "start_time": "2022-08-28T12:21:06.984Z"
   },
   {
    "duration": 14,
    "start_time": "2022-08-28T12:21:35.347Z"
   },
   {
    "duration": 75,
    "start_time": "2022-08-28T12:22:07.034Z"
   },
   {
    "duration": 1350,
    "start_time": "2022-08-28T12:22:25.538Z"
   },
   {
    "duration": 67,
    "start_time": "2022-08-28T12:22:43.887Z"
   },
   {
    "duration": 1266,
    "start_time": "2022-08-28T12:22:45.506Z"
   },
   {
    "duration": 187,
    "start_time": "2022-08-28T12:22:50.133Z"
   },
   {
    "duration": 12,
    "start_time": "2022-08-28T12:23:52.247Z"
   },
   {
    "duration": 11,
    "start_time": "2022-08-28T12:24:00.485Z"
   },
   {
    "duration": 12,
    "start_time": "2022-08-28T12:24:04.163Z"
   },
   {
    "duration": 209,
    "start_time": "2022-08-28T12:24:25.735Z"
   },
   {
    "duration": 44,
    "start_time": "2022-08-28T12:25:17.733Z"
   },
   {
    "duration": 211,
    "start_time": "2022-08-28T12:25:19.433Z"
   },
   {
    "duration": 44,
    "start_time": "2022-08-28T12:26:21.386Z"
   },
   {
    "duration": 203,
    "start_time": "2022-08-28T12:26:22.004Z"
   },
   {
    "duration": 33,
    "start_time": "2022-08-28T12:31:17.027Z"
   },
   {
    "duration": 173,
    "start_time": "2022-08-28T12:31:18.413Z"
   },
   {
    "duration": 4,
    "start_time": "2022-08-28T12:31:29.923Z"
   },
   {
    "duration": 64,
    "start_time": "2022-08-28T12:31:36.272Z"
   },
   {
    "duration": 206,
    "start_time": "2022-08-28T12:33:16.362Z"
   },
   {
    "duration": 38,
    "start_time": "2022-08-28T12:43:42.432Z"
   },
   {
    "duration": 291,
    "start_time": "2022-08-28T12:43:44.288Z"
   },
   {
    "duration": 41,
    "start_time": "2022-08-28T12:43:49.843Z"
   },
   {
    "duration": 206,
    "start_time": "2022-08-28T12:43:51.171Z"
   },
   {
    "duration": 34,
    "start_time": "2022-08-28T12:43:56.846Z"
   },
   {
    "duration": 184,
    "start_time": "2022-08-28T12:43:57.939Z"
   },
   {
    "duration": 35,
    "start_time": "2022-08-28T12:44:02.901Z"
   },
   {
    "duration": 214,
    "start_time": "2022-08-28T12:44:03.900Z"
   },
   {
    "duration": 1087,
    "start_time": "2022-08-28T12:44:15.599Z"
   },
   {
    "duration": 758,
    "start_time": "2022-08-28T12:44:16.688Z"
   },
   {
    "duration": 4,
    "start_time": "2022-08-28T12:44:17.447Z"
   },
   {
    "duration": 107,
    "start_time": "2022-08-28T12:44:17.452Z"
   },
   {
    "duration": 24,
    "start_time": "2022-08-28T12:44:17.562Z"
   },
   {
    "duration": 82,
    "start_time": "2022-08-28T12:44:17.588Z"
   },
   {
    "duration": 72,
    "start_time": "2022-08-28T12:44:17.671Z"
   },
   {
    "duration": 84,
    "start_time": "2022-08-28T12:44:17.744Z"
   },
   {
    "duration": 60,
    "start_time": "2022-08-28T12:44:17.829Z"
   },
   {
    "duration": 348,
    "start_time": "2022-08-28T12:44:17.890Z"
   },
   {
    "duration": 53,
    "start_time": "2022-08-28T12:44:18.239Z"
   },
   {
    "duration": 23,
    "start_time": "2022-08-28T12:44:18.293Z"
   },
   {
    "duration": 90,
    "start_time": "2022-08-28T12:44:18.318Z"
   },
   {
    "duration": 179,
    "start_time": "2022-08-28T12:44:18.410Z"
   },
   {
    "duration": 54,
    "start_time": "2022-08-28T12:44:18.591Z"
   },
   {
    "duration": 221,
    "start_time": "2022-08-28T12:44:18.647Z"
   },
   {
    "duration": 54,
    "start_time": "2022-08-28T12:44:18.869Z"
   },
   {
    "duration": 209,
    "start_time": "2022-08-28T12:44:18.925Z"
   },
   {
    "duration": 40,
    "start_time": "2022-08-28T12:44:19.136Z"
   },
   {
    "duration": 178,
    "start_time": "2022-08-28T12:44:24.604Z"
   },
   {
    "duration": 1113,
    "start_time": "2022-08-28T12:44:35.259Z"
   },
   {
    "duration": 794,
    "start_time": "2022-08-28T12:44:36.374Z"
   },
   {
    "duration": 4,
    "start_time": "2022-08-28T12:44:37.170Z"
   },
   {
    "duration": 106,
    "start_time": "2022-08-28T12:44:37.175Z"
   },
   {
    "duration": 29,
    "start_time": "2022-08-28T12:44:37.283Z"
   },
   {
    "duration": 73,
    "start_time": "2022-08-28T12:44:37.314Z"
   },
   {
    "duration": 78,
    "start_time": "2022-08-28T12:44:37.388Z"
   },
   {
    "duration": 86,
    "start_time": "2022-08-28T12:44:37.468Z"
   },
   {
    "duration": 66,
    "start_time": "2022-08-28T12:44:37.556Z"
   },
   {
    "duration": 394,
    "start_time": "2022-08-28T12:44:37.623Z"
   },
   {
    "duration": 60,
    "start_time": "2022-08-28T12:44:38.019Z"
   },
   {
    "duration": 33,
    "start_time": "2022-08-28T12:44:38.081Z"
   },
   {
    "duration": 96,
    "start_time": "2022-08-28T12:44:38.116Z"
   },
   {
    "duration": 205,
    "start_time": "2022-08-28T12:44:38.215Z"
   },
   {
    "duration": 48,
    "start_time": "2022-08-28T12:44:38.422Z"
   },
   {
    "duration": 226,
    "start_time": "2022-08-28T12:44:38.472Z"
   },
   {
    "duration": 41,
    "start_time": "2022-08-28T12:44:38.705Z"
   },
   {
    "duration": 214,
    "start_time": "2022-08-28T12:44:38.748Z"
   },
   {
    "duration": 52,
    "start_time": "2022-08-28T12:44:38.964Z"
   },
   {
    "duration": 187,
    "start_time": "2022-08-28T12:44:41.126Z"
   },
   {
    "duration": 1103,
    "start_time": "2022-08-28T12:44:54.910Z"
   },
   {
    "duration": 883,
    "start_time": "2022-08-28T12:44:56.015Z"
   },
   {
    "duration": 4,
    "start_time": "2022-08-28T12:44:56.905Z"
   },
   {
    "duration": 96,
    "start_time": "2022-08-28T12:44:56.911Z"
   },
   {
    "duration": 25,
    "start_time": "2022-08-28T12:44:57.009Z"
   },
   {
    "duration": 86,
    "start_time": "2022-08-28T12:44:57.036Z"
   },
   {
    "duration": 65,
    "start_time": "2022-08-28T12:44:57.124Z"
   },
   {
    "duration": 76,
    "start_time": "2022-08-28T12:44:57.205Z"
   },
   {
    "duration": 69,
    "start_time": "2022-08-28T12:44:57.282Z"
   },
   {
    "duration": 369,
    "start_time": "2022-08-28T12:44:57.353Z"
   },
   {
    "duration": 53,
    "start_time": "2022-08-28T12:44:57.724Z"
   },
   {
    "duration": 27,
    "start_time": "2022-08-28T12:44:57.779Z"
   },
   {
    "duration": 80,
    "start_time": "2022-08-28T12:44:57.807Z"
   },
   {
    "duration": 200,
    "start_time": "2022-08-28T12:44:57.889Z"
   },
   {
    "duration": 57,
    "start_time": "2022-08-28T12:44:58.091Z"
   },
   {
    "duration": 192,
    "start_time": "2022-08-28T12:44:58.150Z"
   },
   {
    "duration": 39,
    "start_time": "2022-08-28T12:44:58.343Z"
   },
   {
    "duration": 209,
    "start_time": "2022-08-28T12:44:58.384Z"
   },
   {
    "duration": 50,
    "start_time": "2022-08-28T12:44:58.595Z"
   },
   {
    "duration": 176,
    "start_time": "2022-08-28T12:45:06.976Z"
   },
   {
    "duration": 1038,
    "start_time": "2022-08-28T12:45:17.450Z"
   },
   {
    "duration": 737,
    "start_time": "2022-08-28T12:45:18.490Z"
   },
   {
    "duration": 4,
    "start_time": "2022-08-28T12:45:19.228Z"
   },
   {
    "duration": 94,
    "start_time": "2022-08-28T12:45:19.233Z"
   },
   {
    "duration": 19,
    "start_time": "2022-08-28T12:45:19.329Z"
   },
   {
    "duration": 87,
    "start_time": "2022-08-28T12:45:19.349Z"
   },
   {
    "duration": 72,
    "start_time": "2022-08-28T12:45:19.438Z"
   },
   {
    "duration": 70,
    "start_time": "2022-08-28T12:45:19.512Z"
   },
   {
    "duration": 73,
    "start_time": "2022-08-28T12:45:19.583Z"
   },
   {
    "duration": 383,
    "start_time": "2022-08-28T12:45:19.658Z"
   },
   {
    "duration": 73,
    "start_time": "2022-08-28T12:45:20.043Z"
   },
   {
    "duration": 14,
    "start_time": "2022-08-28T12:45:20.117Z"
   },
   {
    "duration": 97,
    "start_time": "2022-08-28T12:45:20.133Z"
   },
   {
    "duration": 194,
    "start_time": "2022-08-28T12:45:20.232Z"
   },
   {
    "duration": 51,
    "start_time": "2022-08-28T12:45:20.427Z"
   },
   {
    "duration": 199,
    "start_time": "2022-08-28T12:45:20.480Z"
   },
   {
    "duration": 46,
    "start_time": "2022-08-28T12:45:20.681Z"
   },
   {
    "duration": 204,
    "start_time": "2022-08-28T12:45:20.729Z"
   },
   {
    "duration": 41,
    "start_time": "2022-08-28T12:45:20.935Z"
   },
   {
    "duration": 206,
    "start_time": "2022-08-28T12:45:20.978Z"
   },
   {
    "duration": 182,
    "start_time": "2022-08-28T12:45:38.985Z"
   },
   {
    "duration": 1093,
    "start_time": "2022-08-28T12:45:44.683Z"
   },
   {
    "duration": 816,
    "start_time": "2022-08-28T12:45:45.777Z"
   },
   {
    "duration": 4,
    "start_time": "2022-08-28T12:45:46.595Z"
   },
   {
    "duration": 106,
    "start_time": "2022-08-28T12:45:46.606Z"
   },
   {
    "duration": 25,
    "start_time": "2022-08-28T12:45:46.714Z"
   },
   {
    "duration": 78,
    "start_time": "2022-08-28T12:45:46.741Z"
   },
   {
    "duration": 69,
    "start_time": "2022-08-28T12:45:46.821Z"
   },
   {
    "duration": 77,
    "start_time": "2022-08-28T12:45:46.891Z"
   },
   {
    "duration": 68,
    "start_time": "2022-08-28T12:45:46.970Z"
   },
   {
    "duration": 384,
    "start_time": "2022-08-28T12:45:47.041Z"
   },
   {
    "duration": 55,
    "start_time": "2022-08-28T12:45:47.427Z"
   },
   {
    "duration": 32,
    "start_time": "2022-08-28T12:45:47.483Z"
   },
   {
    "duration": 73,
    "start_time": "2022-08-28T12:45:47.517Z"
   },
   {
    "duration": 208,
    "start_time": "2022-08-28T12:45:47.592Z"
   },
   {
    "duration": 46,
    "start_time": "2022-08-28T12:45:47.801Z"
   },
   {
    "duration": 221,
    "start_time": "2022-08-28T12:45:47.848Z"
   },
   {
    "duration": 46,
    "start_time": "2022-08-28T12:45:48.070Z"
   },
   {
    "duration": 202,
    "start_time": "2022-08-28T12:45:48.118Z"
   },
   {
    "duration": 42,
    "start_time": "2022-08-28T12:45:48.321Z"
   },
   {
    "duration": 210,
    "start_time": "2022-08-28T12:45:48.365Z"
   },
   {
    "duration": 1053,
    "start_time": "2022-08-28T12:45:57.991Z"
   },
   {
    "duration": 729,
    "start_time": "2022-08-28T12:45:59.046Z"
   },
   {
    "duration": 3,
    "start_time": "2022-08-28T12:45:59.777Z"
   },
   {
    "duration": 103,
    "start_time": "2022-08-28T12:45:59.783Z"
   },
   {
    "duration": 30,
    "start_time": "2022-08-28T12:45:59.888Z"
   },
   {
    "duration": 86,
    "start_time": "2022-08-28T12:45:59.920Z"
   },
   {
    "duration": 66,
    "start_time": "2022-08-28T12:46:00.007Z"
   },
   {
    "duration": 85,
    "start_time": "2022-08-28T12:46:00.075Z"
   },
   {
    "duration": 64,
    "start_time": "2022-08-28T12:46:00.161Z"
   },
   {
    "duration": 344,
    "start_time": "2022-08-28T12:46:00.227Z"
   },
   {
    "duration": 60,
    "start_time": "2022-08-28T12:46:00.573Z"
   },
   {
    "duration": 13,
    "start_time": "2022-08-28T12:46:00.636Z"
   },
   {
    "duration": 99,
    "start_time": "2022-08-28T12:46:00.651Z"
   },
   {
    "duration": 192,
    "start_time": "2022-08-28T12:46:00.752Z"
   },
   {
    "duration": 66,
    "start_time": "2022-08-28T12:46:00.946Z"
   },
   {
    "duration": 213,
    "start_time": "2022-08-28T12:46:01.013Z"
   },
   {
    "duration": 47,
    "start_time": "2022-08-28T12:46:01.228Z"
   },
   {
    "duration": 213,
    "start_time": "2022-08-28T12:46:01.276Z"
   },
   {
    "duration": 51,
    "start_time": "2022-08-28T12:46:01.490Z"
   },
   {
    "duration": 235,
    "start_time": "2022-08-28T12:46:01.542Z"
   },
   {
    "duration": 1081,
    "start_time": "2022-08-28T12:46:11.611Z"
   },
   {
    "duration": 730,
    "start_time": "2022-08-28T12:46:12.693Z"
   },
   {
    "duration": 3,
    "start_time": "2022-08-28T12:46:13.424Z"
   },
   {
    "duration": 98,
    "start_time": "2022-08-28T12:46:13.429Z"
   },
   {
    "duration": 26,
    "start_time": "2022-08-28T12:46:13.529Z"
   },
   {
    "duration": 82,
    "start_time": "2022-08-28T12:46:13.557Z"
   },
   {
    "duration": 80,
    "start_time": "2022-08-28T12:46:13.641Z"
   },
   {
    "duration": 67,
    "start_time": "2022-08-28T12:46:13.723Z"
   },
   {
    "duration": 69,
    "start_time": "2022-08-28T12:46:13.792Z"
   },
   {
    "duration": 370,
    "start_time": "2022-08-28T12:46:13.863Z"
   },
   {
    "duration": 52,
    "start_time": "2022-08-28T12:46:14.234Z"
   },
   {
    "duration": 27,
    "start_time": "2022-08-28T12:46:14.287Z"
   },
   {
    "duration": 74,
    "start_time": "2022-08-28T12:46:14.315Z"
   },
   {
    "duration": 185,
    "start_time": "2022-08-28T12:46:14.390Z"
   },
   {
    "duration": 52,
    "start_time": "2022-08-28T12:46:14.576Z"
   },
   {
    "duration": 201,
    "start_time": "2022-08-28T12:46:14.629Z"
   },
   {
    "duration": 37,
    "start_time": "2022-08-28T12:46:14.831Z"
   },
   {
    "duration": 206,
    "start_time": "2022-08-28T12:46:14.870Z"
   },
   {
    "duration": 44,
    "start_time": "2022-08-28T12:46:15.078Z"
   },
   {
    "duration": 202,
    "start_time": "2022-08-28T12:46:15.124Z"
   },
   {
    "duration": 1034,
    "start_time": "2022-08-28T12:46:27.679Z"
   },
   {
    "duration": 719,
    "start_time": "2022-08-28T12:46:28.715Z"
   },
   {
    "duration": 4,
    "start_time": "2022-08-28T12:46:29.435Z"
   },
   {
    "duration": 104,
    "start_time": "2022-08-28T12:46:29.440Z"
   },
   {
    "duration": 24,
    "start_time": "2022-08-28T12:46:29.545Z"
   },
   {
    "duration": 85,
    "start_time": "2022-08-28T12:46:29.571Z"
   },
   {
    "duration": 74,
    "start_time": "2022-08-28T12:46:29.658Z"
   },
   {
    "duration": 97,
    "start_time": "2022-08-28T12:46:29.734Z"
   },
   {
    "duration": 62,
    "start_time": "2022-08-28T12:46:29.833Z"
   },
   {
    "duration": 348,
    "start_time": "2022-08-28T12:46:29.897Z"
   },
   {
    "duration": 67,
    "start_time": "2022-08-28T12:46:30.247Z"
   },
   {
    "duration": 14,
    "start_time": "2022-08-28T12:46:30.315Z"
   },
   {
    "duration": 108,
    "start_time": "2022-08-28T12:46:30.331Z"
   },
   {
    "duration": 206,
    "start_time": "2022-08-28T12:46:30.441Z"
   },
   {
    "duration": 50,
    "start_time": "2022-08-28T12:46:30.649Z"
   },
   {
    "duration": 282,
    "start_time": "2022-08-28T12:46:30.705Z"
   },
   {
    "duration": 53,
    "start_time": "2022-08-28T12:46:30.989Z"
   },
   {
    "duration": 222,
    "start_time": "2022-08-28T12:46:31.044Z"
   },
   {
    "duration": 54,
    "start_time": "2022-08-28T12:46:31.267Z"
   },
   {
    "duration": 218,
    "start_time": "2022-08-28T12:46:31.322Z"
   },
   {
    "duration": 1011,
    "start_time": "2022-08-28T12:46:47.869Z"
   },
   {
    "duration": 736,
    "start_time": "2022-08-28T12:46:48.881Z"
   },
   {
    "duration": 4,
    "start_time": "2022-08-28T12:46:49.618Z"
   },
   {
    "duration": 95,
    "start_time": "2022-08-28T12:46:49.624Z"
   },
   {
    "duration": 21,
    "start_time": "2022-08-28T12:46:49.722Z"
   },
   {
    "duration": 93,
    "start_time": "2022-08-28T12:46:49.745Z"
   },
   {
    "duration": 70,
    "start_time": "2022-08-28T12:46:49.840Z"
   },
   {
    "duration": 95,
    "start_time": "2022-08-28T12:46:49.911Z"
   },
   {
    "duration": 68,
    "start_time": "2022-08-28T12:46:50.008Z"
   },
   {
    "duration": 369,
    "start_time": "2022-08-28T12:46:50.077Z"
   },
   {
    "duration": 69,
    "start_time": "2022-08-28T12:46:50.447Z"
   },
   {
    "duration": 13,
    "start_time": "2022-08-28T12:46:50.518Z"
   },
   {
    "duration": 105,
    "start_time": "2022-08-28T12:46:50.533Z"
   },
   {
    "duration": 214,
    "start_time": "2022-08-28T12:46:50.640Z"
   },
   {
    "duration": 65,
    "start_time": "2022-08-28T12:46:50.856Z"
   },
   {
    "duration": 219,
    "start_time": "2022-08-28T12:46:50.923Z"
   },
   {
    "duration": 40,
    "start_time": "2022-08-28T12:46:51.144Z"
   },
   {
    "duration": 238,
    "start_time": "2022-08-28T12:46:51.186Z"
   },
   {
    "duration": 42,
    "start_time": "2022-08-28T12:46:51.426Z"
   },
   {
    "duration": 237,
    "start_time": "2022-08-28T12:46:51.470Z"
   },
   {
    "duration": 1053,
    "start_time": "2022-08-28T12:47:04.449Z"
   },
   {
    "duration": 766,
    "start_time": "2022-08-28T12:47:05.504Z"
   },
   {
    "duration": 4,
    "start_time": "2022-08-28T12:47:06.271Z"
   },
   {
    "duration": 97,
    "start_time": "2022-08-28T12:47:06.276Z"
   },
   {
    "duration": 32,
    "start_time": "2022-08-28T12:47:06.374Z"
   },
   {
    "duration": 70,
    "start_time": "2022-08-28T12:47:06.407Z"
   },
   {
    "duration": 80,
    "start_time": "2022-08-28T12:47:06.479Z"
   },
   {
    "duration": 86,
    "start_time": "2022-08-28T12:47:06.561Z"
   },
   {
    "duration": 62,
    "start_time": "2022-08-28T12:47:06.648Z"
   },
   {
    "duration": 324,
    "start_time": "2022-08-28T12:47:06.712Z"
   },
   {
    "duration": 51,
    "start_time": "2022-08-28T12:47:07.037Z"
   },
   {
    "duration": 28,
    "start_time": "2022-08-28T12:47:07.089Z"
   },
   {
    "duration": 74,
    "start_time": "2022-08-28T12:47:07.118Z"
   },
   {
    "duration": 186,
    "start_time": "2022-08-28T12:47:07.194Z"
   },
   {
    "duration": 56,
    "start_time": "2022-08-28T12:47:07.381Z"
   },
   {
    "duration": 193,
    "start_time": "2022-08-28T12:47:07.439Z"
   },
   {
    "duration": 39,
    "start_time": "2022-08-28T12:47:07.633Z"
   },
   {
    "duration": 211,
    "start_time": "2022-08-28T12:47:07.674Z"
   },
   {
    "duration": 49,
    "start_time": "2022-08-28T12:47:07.887Z"
   },
   {
    "duration": 211,
    "start_time": "2022-08-28T12:47:07.938Z"
   },
   {
    "duration": 704,
    "start_time": "2022-08-28T12:49:43.071Z"
   },
   {
    "duration": 776,
    "start_time": "2022-08-28T12:54:06.135Z"
   },
   {
    "duration": 37,
    "start_time": "2022-08-28T12:54:13.770Z"
   },
   {
    "duration": 4,
    "start_time": "2022-08-28T12:54:34.647Z"
   },
   {
    "duration": 37,
    "start_time": "2022-08-28T12:54:38.832Z"
   },
   {
    "duration": 65,
    "start_time": "2022-08-28T12:54:54.696Z"
   },
   {
    "duration": 1090,
    "start_time": "2022-08-28T12:55:03.585Z"
   },
   {
    "duration": 726,
    "start_time": "2022-08-28T12:55:04.676Z"
   },
   {
    "duration": 4,
    "start_time": "2022-08-28T12:55:05.403Z"
   },
   {
    "duration": 107,
    "start_time": "2022-08-28T12:55:05.409Z"
   },
   {
    "duration": 21,
    "start_time": "2022-08-28T12:55:05.518Z"
   },
   {
    "duration": 83,
    "start_time": "2022-08-28T12:55:05.541Z"
   },
   {
    "duration": 64,
    "start_time": "2022-08-28T12:55:05.626Z"
   },
   {
    "duration": 84,
    "start_time": "2022-08-28T12:55:05.691Z"
   },
   {
    "duration": 70,
    "start_time": "2022-08-28T12:55:05.777Z"
   },
   {
    "duration": 411,
    "start_time": "2022-08-28T12:55:05.849Z"
   },
   {
    "duration": 62,
    "start_time": "2022-08-28T12:55:06.263Z"
   },
   {
    "duration": 11,
    "start_time": "2022-08-28T12:55:06.327Z"
   },
   {
    "duration": 90,
    "start_time": "2022-08-28T12:55:06.340Z"
   },
   {
    "duration": 210,
    "start_time": "2022-08-28T12:55:06.432Z"
   },
   {
    "duration": 48,
    "start_time": "2022-08-28T12:55:06.643Z"
   },
   {
    "duration": 202,
    "start_time": "2022-08-28T12:55:06.692Z"
   },
   {
    "duration": 46,
    "start_time": "2022-08-28T12:55:06.896Z"
   },
   {
    "duration": 206,
    "start_time": "2022-08-28T12:55:06.944Z"
   },
   {
    "duration": 40,
    "start_time": "2022-08-28T12:55:07.152Z"
   },
   {
    "duration": 706,
    "start_time": "2022-08-28T12:55:07.205Z"
   },
   {
    "duration": 66,
    "start_time": "2022-08-28T12:55:07.913Z"
   },
   {
    "duration": 743,
    "start_time": "2022-08-28T12:55:07.980Z"
   },
   {
    "duration": 38,
    "start_time": "2022-08-28T12:55:08.724Z"
   },
   {
    "duration": 27,
    "start_time": "2022-08-28T12:57:45.086Z"
   },
   {
    "duration": 39,
    "start_time": "2022-08-28T12:57:49.767Z"
   },
   {
    "duration": 56,
    "start_time": "2022-08-28T12:57:56.440Z"
   },
   {
    "duration": 73,
    "start_time": "2022-08-28T12:58:00.503Z"
   },
   {
    "duration": 28,
    "start_time": "2022-08-28T13:00:08.489Z"
   },
   {
    "duration": 57,
    "start_time": "2022-08-28T13:00:09.343Z"
   },
   {
    "duration": 59,
    "start_time": "2022-08-28T13:00:17.734Z"
   },
   {
    "duration": 556,
    "start_time": "2022-08-28T13:00:18.940Z"
   },
   {
    "duration": 20,
    "start_time": "2022-08-28T13:00:39.991Z"
   },
   {
    "duration": 1056,
    "start_time": "2022-08-28T13:01:42.333Z"
   },
   {
    "duration": 737,
    "start_time": "2022-08-28T13:01:43.391Z"
   },
   {
    "duration": 4,
    "start_time": "2022-08-28T13:01:44.130Z"
   },
   {
    "duration": 109,
    "start_time": "2022-08-28T13:01:44.137Z"
   },
   {
    "duration": 36,
    "start_time": "2022-08-28T13:01:44.248Z"
   },
   {
    "duration": 77,
    "start_time": "2022-08-28T13:01:44.286Z"
   },
   {
    "duration": 65,
    "start_time": "2022-08-28T13:01:44.365Z"
   },
   {
    "duration": 86,
    "start_time": "2022-08-28T13:01:44.431Z"
   },
   {
    "duration": 63,
    "start_time": "2022-08-28T13:01:44.519Z"
   },
   {
    "duration": 364,
    "start_time": "2022-08-28T13:01:44.585Z"
   },
   {
    "duration": 60,
    "start_time": "2022-08-28T13:01:44.950Z"
   },
   {
    "duration": 12,
    "start_time": "2022-08-28T13:01:45.012Z"
   },
   {
    "duration": 96,
    "start_time": "2022-08-28T13:01:45.026Z"
   },
   {
    "duration": 203,
    "start_time": "2022-08-28T13:01:45.123Z"
   },
   {
    "duration": 47,
    "start_time": "2022-08-28T13:01:45.327Z"
   },
   {
    "duration": 217,
    "start_time": "2022-08-28T13:01:45.376Z"
   },
   {
    "duration": 45,
    "start_time": "2022-08-28T13:01:45.595Z"
   },
   {
    "duration": 213,
    "start_time": "2022-08-28T13:01:45.642Z"
   },
   {
    "duration": 58,
    "start_time": "2022-08-28T13:01:45.857Z"
   },
   {
    "duration": 31,
    "start_time": "2022-08-28T13:01:45.917Z"
   },
   {
    "duration": 837,
    "start_time": "2022-08-28T13:01:45.950Z"
   },
   {
    "duration": 65,
    "start_time": "2022-08-28T13:01:46.789Z"
   },
   {
    "duration": 601,
    "start_time": "2022-08-28T13:01:46.856Z"
   },
   {
    "duration": 1062,
    "start_time": "2022-08-28T13:02:19.629Z"
   },
   {
    "duration": 726,
    "start_time": "2022-08-28T13:02:20.693Z"
   },
   {
    "duration": 4,
    "start_time": "2022-08-28T13:02:21.421Z"
   },
   {
    "duration": 102,
    "start_time": "2022-08-28T13:02:21.427Z"
   },
   {
    "duration": 22,
    "start_time": "2022-08-28T13:02:21.531Z"
   },
   {
    "duration": 80,
    "start_time": "2022-08-28T13:02:21.554Z"
   },
   {
    "duration": 74,
    "start_time": "2022-08-28T13:02:21.636Z"
   },
   {
    "duration": 68,
    "start_time": "2022-08-28T13:02:21.712Z"
   },
   {
    "duration": 75,
    "start_time": "2022-08-28T13:02:21.782Z"
   },
   {
    "duration": 369,
    "start_time": "2022-08-28T13:02:21.858Z"
   },
   {
    "duration": 51,
    "start_time": "2022-08-28T13:02:22.229Z"
   },
   {
    "duration": 30,
    "start_time": "2022-08-28T13:02:22.281Z"
   },
   {
    "duration": 75,
    "start_time": "2022-08-28T13:02:22.312Z"
   },
   {
    "duration": 195,
    "start_time": "2022-08-28T13:02:22.389Z"
   },
   {
    "duration": 58,
    "start_time": "2022-08-28T13:02:22.586Z"
   },
   {
    "duration": 210,
    "start_time": "2022-08-28T13:02:22.646Z"
   },
   {
    "duration": 51,
    "start_time": "2022-08-28T13:02:22.857Z"
   },
   {
    "duration": 203,
    "start_time": "2022-08-28T13:02:22.910Z"
   },
   {
    "duration": 42,
    "start_time": "2022-08-28T13:02:23.115Z"
   },
   {
    "duration": 2,
    "start_time": "2022-08-28T13:02:23.158Z"
   },
   {
    "duration": 710,
    "start_time": "2022-08-28T13:02:23.162Z"
   },
   {
    "duration": 75,
    "start_time": "2022-08-28T13:02:23.874Z"
   },
   {
    "duration": 767,
    "start_time": "2022-08-28T13:02:23.950Z"
   },
   {
    "duration": 28,
    "start_time": "2022-08-28T13:02:30.444Z"
   },
   {
    "duration": 697,
    "start_time": "2022-08-28T13:02:31.542Z"
   },
   {
    "duration": 63,
    "start_time": "2022-08-28T13:02:33.329Z"
   },
   {
    "duration": 1366,
    "start_time": "2022-09-01T06:49:34.679Z"
   },
   {
    "duration": 1106,
    "start_time": "2022-09-01T06:49:36.047Z"
   },
   {
    "duration": 8,
    "start_time": "2022-09-01T06:49:37.155Z"
   },
   {
    "duration": 115,
    "start_time": "2022-09-01T06:49:37.167Z"
   },
   {
    "duration": 25,
    "start_time": "2022-09-01T06:49:37.284Z"
   },
   {
    "duration": 110,
    "start_time": "2022-09-01T06:49:37.311Z"
   },
   {
    "duration": 82,
    "start_time": "2022-09-01T06:49:37.423Z"
   },
   {
    "duration": 100,
    "start_time": "2022-09-01T06:49:37.507Z"
   },
   {
    "duration": 76,
    "start_time": "2022-09-01T06:49:37.609Z"
   },
   {
    "duration": 436,
    "start_time": "2022-09-01T06:49:37.688Z"
   },
   {
    "duration": 61,
    "start_time": "2022-09-01T06:49:38.126Z"
   },
   {
    "duration": 13,
    "start_time": "2022-09-01T06:49:38.189Z"
   },
   {
    "duration": 101,
    "start_time": "2022-09-01T06:49:38.204Z"
   },
   {
    "duration": 216,
    "start_time": "2022-09-01T06:49:38.307Z"
   },
   {
    "duration": 57,
    "start_time": "2022-09-01T06:49:38.525Z"
   },
   {
    "duration": 219,
    "start_time": "2022-09-01T06:49:38.583Z"
   },
   {
    "duration": 35,
    "start_time": "2022-09-01T06:49:38.804Z"
   },
   {
    "duration": 231,
    "start_time": "2022-09-01T06:49:38.841Z"
   },
   {
    "duration": 43,
    "start_time": "2022-09-01T06:49:39.075Z"
   },
   {
    "duration": 44,
    "start_time": "2022-09-01T06:49:39.119Z"
   },
   {
    "duration": 776,
    "start_time": "2022-09-01T06:49:39.169Z"
   },
   {
    "duration": 75,
    "start_time": "2022-09-01T06:49:39.946Z"
   },
   {
    "duration": 592,
    "start_time": "2022-09-01T06:49:40.023Z"
   },
   {
    "duration": 72,
    "start_time": "2022-09-01T06:52:51.341Z"
   },
   {
    "duration": 84,
    "start_time": "2022-09-01T06:52:55.670Z"
   },
   {
    "duration": 61,
    "start_time": "2022-09-01T06:53:01.975Z"
   },
   {
    "duration": 138,
    "start_time": "2022-09-01T06:53:38.813Z"
   },
   {
    "duration": 54,
    "start_time": "2022-09-01T06:53:46.908Z"
   },
   {
    "duration": 12,
    "start_time": "2022-09-01T07:00:12.120Z"
   },
   {
    "duration": 4,
    "start_time": "2022-09-01T07:00:21.126Z"
   },
   {
    "duration": 6,
    "start_time": "2022-09-01T07:00:27.649Z"
   },
   {
    "duration": 243,
    "start_time": "2022-09-01T07:01:26.469Z"
   },
   {
    "duration": 60,
    "start_time": "2022-09-01T07:03:34.209Z"
   },
   {
    "duration": 11,
    "start_time": "2022-09-01T07:07:37.849Z"
   },
   {
    "duration": 62,
    "start_time": "2022-09-01T07:07:39.428Z"
   },
   {
    "duration": 9,
    "start_time": "2022-09-01T07:07:57.196Z"
   },
   {
    "duration": 56,
    "start_time": "2022-09-01T07:07:57.793Z"
   },
   {
    "duration": 12,
    "start_time": "2022-09-01T07:09:32.234Z"
   },
   {
    "duration": 21,
    "start_time": "2022-09-01T07:09:37.752Z"
   },
   {
    "duration": 111,
    "start_time": "2022-09-01T07:09:44.382Z"
   },
   {
    "duration": 14,
    "start_time": "2022-09-01T07:09:58.089Z"
   },
   {
    "duration": 5,
    "start_time": "2022-09-01T07:09:58.895Z"
   },
   {
    "duration": 11,
    "start_time": "2022-09-01T07:10:07.243Z"
   },
   {
    "duration": 4,
    "start_time": "2022-09-01T07:10:08.096Z"
   },
   {
    "duration": 9,
    "start_time": "2022-09-01T07:11:08.398Z"
   },
   {
    "duration": 18,
    "start_time": "2022-09-01T07:11:32.234Z"
   },
   {
    "duration": 9064,
    "start_time": "2022-09-01T07:11:36.654Z"
   },
   {
    "duration": 8016,
    "start_time": "2022-09-01T07:11:59.031Z"
   },
   {
    "duration": 8262,
    "start_time": "2022-09-01T07:12:30.221Z"
   },
   {
    "duration": 4,
    "start_time": "2022-09-01T07:13:39.382Z"
   },
   {
    "duration": 94,
    "start_time": "2022-09-01T07:13:44.818Z"
   },
   {
    "duration": 94,
    "start_time": "2022-09-01T07:14:52.828Z"
   },
   {
    "duration": 80,
    "start_time": "2022-09-01T07:15:49.848Z"
   },
   {
    "duration": 3,
    "start_time": "2022-09-01T07:16:11.836Z"
   },
   {
    "duration": 92,
    "start_time": "2022-09-01T07:16:14.942Z"
   },
   {
    "duration": 95,
    "start_time": "2022-09-01T07:16:25.946Z"
   },
   {
    "duration": 92,
    "start_time": "2022-09-01T07:16:44.515Z"
   },
   {
    "duration": 91,
    "start_time": "2022-09-01T07:16:48.293Z"
   },
   {
    "duration": 3847,
    "start_time": "2022-09-01T07:17:06.727Z"
   },
   {
    "duration": 0,
    "start_time": "2022-09-01T07:17:10.576Z"
   },
   {
    "duration": 0,
    "start_time": "2022-09-01T07:17:10.577Z"
   },
   {
    "duration": 10,
    "start_time": "2022-09-01T07:17:14.111Z"
   },
   {
    "duration": 4,
    "start_time": "2022-09-01T07:17:14.477Z"
   },
   {
    "duration": 8411,
    "start_time": "2022-09-01T07:17:15.108Z"
   },
   {
    "duration": 94,
    "start_time": "2022-09-01T07:17:24.718Z"
   },
   {
    "duration": 4,
    "start_time": "2022-09-01T07:17:25.817Z"
   },
   {
    "duration": 11930,
    "start_time": "2022-09-01T07:18:03.939Z"
   },
   {
    "duration": 113,
    "start_time": "2022-09-01T07:18:17.110Z"
   },
   {
    "duration": 3,
    "start_time": "2022-09-01T07:18:17.878Z"
   },
   {
    "duration": 41695,
    "start_time": "2022-09-01T07:18:25.379Z"
   },
   {
    "duration": 195,
    "start_time": "2022-09-01T07:19:07.076Z"
   },
   {
    "duration": 3,
    "start_time": "2022-09-01T07:19:07.273Z"
   },
   {
    "duration": 41770,
    "start_time": "2022-09-01T07:20:18.443Z"
   },
   {
    "duration": 4,
    "start_time": "2022-09-01T07:21:00.214Z"
   },
   {
    "duration": 199,
    "start_time": "2022-09-01T07:21:00.221Z"
   },
   {
    "duration": 3,
    "start_time": "2022-09-01T07:21:00.422Z"
   },
   {
    "duration": 1409,
    "start_time": "2022-09-01T07:21:31.427Z"
   },
   {
    "duration": 807,
    "start_time": "2022-09-01T07:21:32.838Z"
   },
   {
    "duration": 5,
    "start_time": "2022-09-01T07:21:33.646Z"
   },
   {
    "duration": 147,
    "start_time": "2022-09-01T07:21:33.653Z"
   },
   {
    "duration": 25,
    "start_time": "2022-09-01T07:21:33.801Z"
   },
   {
    "duration": 79,
    "start_time": "2022-09-01T07:21:33.828Z"
   },
   {
    "duration": 76,
    "start_time": "2022-09-01T07:21:33.909Z"
   },
   {
    "duration": 82,
    "start_time": "2022-09-01T07:21:33.987Z"
   },
   {
    "duration": 65,
    "start_time": "2022-09-01T07:21:34.071Z"
   },
   {
    "duration": 366,
    "start_time": "2022-09-01T07:21:34.138Z"
   },
   {
    "duration": 70,
    "start_time": "2022-09-01T07:21:34.506Z"
   },
   {
    "duration": 14,
    "start_time": "2022-09-01T07:21:34.577Z"
   },
   {
    "duration": 88,
    "start_time": "2022-09-01T07:21:34.592Z"
   },
   {
    "duration": 217,
    "start_time": "2022-09-01T07:21:34.682Z"
   },
   {
    "duration": 62,
    "start_time": "2022-09-01T07:21:34.901Z"
   },
   {
    "duration": 230,
    "start_time": "2022-09-01T07:21:34.965Z"
   },
   {
    "duration": 62,
    "start_time": "2022-09-01T07:21:35.199Z"
   },
   {
    "duration": 352,
    "start_time": "2022-09-01T07:21:35.263Z"
   },
   {
    "duration": 63,
    "start_time": "2022-09-01T07:21:35.617Z"
   },
   {
    "duration": 41,
    "start_time": "2022-09-01T07:21:35.682Z"
   },
   {
    "duration": 707,
    "start_time": "2022-09-01T07:21:35.725Z"
   },
   {
    "duration": 144,
    "start_time": "2022-09-01T07:21:36.433Z"
   },
   {
    "duration": 10,
    "start_time": "2022-09-01T07:21:36.579Z"
   },
   {
    "duration": 51,
    "start_time": "2022-09-01T07:21:36.591Z"
   },
   {
    "duration": 36,
    "start_time": "2022-09-01T07:21:36.657Z"
   },
   {
    "duration": 7,
    "start_time": "2022-09-01T07:21:36.694Z"
   },
   {
    "duration": 10,
    "start_time": "2022-09-01T07:21:36.703Z"
   },
   {
    "duration": 58,
    "start_time": "2022-09-01T07:21:36.716Z"
   },
   {
    "duration": 12,
    "start_time": "2022-09-01T07:21:36.776Z"
   },
   {
    "duration": 4,
    "start_time": "2022-09-01T07:21:36.789Z"
   },
   {
    "duration": 37242,
    "start_time": "2022-09-01T07:21:36.795Z"
   },
   {
    "duration": 4,
    "start_time": "2022-09-01T07:22:14.039Z"
   },
   {
    "duration": 171,
    "start_time": "2022-09-01T07:22:14.044Z"
   },
   {
    "duration": 4,
    "start_time": "2022-09-01T07:22:14.217Z"
   },
   {
    "duration": 1494,
    "start_time": "2022-09-01T07:22:33.287Z"
   },
   {
    "duration": 912,
    "start_time": "2022-09-01T07:22:34.783Z"
   },
   {
    "duration": 5,
    "start_time": "2022-09-01T07:22:35.697Z"
   },
   {
    "duration": 168,
    "start_time": "2022-09-01T07:22:35.704Z"
   },
   {
    "duration": 26,
    "start_time": "2022-09-01T07:22:35.875Z"
   },
   {
    "duration": 105,
    "start_time": "2022-09-01T07:22:35.903Z"
   },
   {
    "duration": 82,
    "start_time": "2022-09-01T07:22:36.010Z"
   },
   {
    "duration": 92,
    "start_time": "2022-09-01T07:22:36.094Z"
   },
   {
    "duration": 73,
    "start_time": "2022-09-01T07:22:36.187Z"
   },
   {
    "duration": 371,
    "start_time": "2022-09-01T07:22:36.261Z"
   },
   {
    "duration": 66,
    "start_time": "2022-09-01T07:22:36.634Z"
   },
   {
    "duration": 14,
    "start_time": "2022-09-01T07:22:36.701Z"
   },
   {
    "duration": 112,
    "start_time": "2022-09-01T07:22:36.717Z"
   },
   {
    "duration": 238,
    "start_time": "2022-09-01T07:22:36.832Z"
   },
   {
    "duration": 53,
    "start_time": "2022-09-01T07:22:37.072Z"
   },
   {
    "duration": 256,
    "start_time": "2022-09-01T07:22:37.128Z"
   },
   {
    "duration": 43,
    "start_time": "2022-09-01T07:22:37.386Z"
   },
   {
    "duration": 308,
    "start_time": "2022-09-01T07:22:37.430Z"
   },
   {
    "duration": 50,
    "start_time": "2022-09-01T07:22:37.740Z"
   },
   {
    "duration": 27,
    "start_time": "2022-09-01T07:22:37.792Z"
   },
   {
    "duration": 735,
    "start_time": "2022-09-01T07:22:37.821Z"
   },
   {
    "duration": 131,
    "start_time": "2022-09-01T07:22:38.558Z"
   },
   {
    "duration": 8,
    "start_time": "2022-09-01T07:22:38.691Z"
   },
   {
    "duration": 58,
    "start_time": "2022-09-01T07:22:38.701Z"
   },
   {
    "duration": 15,
    "start_time": "2022-09-01T07:22:38.762Z"
   },
   {
    "duration": 5,
    "start_time": "2022-09-01T07:22:38.778Z"
   },
   {
    "duration": 8,
    "start_time": "2022-09-01T07:22:38.784Z"
   },
   {
    "duration": 68,
    "start_time": "2022-09-01T07:22:38.794Z"
   },
   {
    "duration": 12,
    "start_time": "2022-09-01T07:22:38.864Z"
   },
   {
    "duration": 7,
    "start_time": "2022-09-01T07:22:38.877Z"
   },
   {
    "duration": 29922,
    "start_time": "2022-09-01T07:22:38.885Z"
   },
   {
    "duration": 4,
    "start_time": "2022-09-01T07:23:08.809Z"
   },
   {
    "duration": 167,
    "start_time": "2022-09-01T07:23:08.814Z"
   },
   {
    "duration": 4,
    "start_time": "2022-09-01T07:23:08.983Z"
   },
   {
    "duration": 1455,
    "start_time": "2022-09-01T07:23:25.189Z"
   },
   {
    "duration": 780,
    "start_time": "2022-09-01T07:23:26.646Z"
   },
   {
    "duration": 6,
    "start_time": "2022-09-01T07:23:27.427Z"
   },
   {
    "duration": 107,
    "start_time": "2022-09-01T07:23:27.436Z"
   },
   {
    "duration": 30,
    "start_time": "2022-09-01T07:23:27.545Z"
   },
   {
    "duration": 85,
    "start_time": "2022-09-01T07:23:27.577Z"
   },
   {
    "duration": 67,
    "start_time": "2022-09-01T07:23:27.664Z"
   },
   {
    "duration": 90,
    "start_time": "2022-09-01T07:23:27.733Z"
   },
   {
    "duration": 70,
    "start_time": "2022-09-01T07:23:27.825Z"
   },
   {
    "duration": 393,
    "start_time": "2022-09-01T07:23:27.898Z"
   },
   {
    "duration": 65,
    "start_time": "2022-09-01T07:23:28.293Z"
   },
   {
    "duration": 15,
    "start_time": "2022-09-01T07:23:28.360Z"
   },
   {
    "duration": 96,
    "start_time": "2022-09-01T07:23:28.377Z"
   },
   {
    "duration": 213,
    "start_time": "2022-09-01T07:23:28.475Z"
   },
   {
    "duration": 54,
    "start_time": "2022-09-01T07:23:28.690Z"
   },
   {
    "duration": 230,
    "start_time": "2022-09-01T07:23:28.745Z"
   },
   {
    "duration": 40,
    "start_time": "2022-09-01T07:23:28.976Z"
   },
   {
    "duration": 319,
    "start_time": "2022-09-01T07:23:29.018Z"
   },
   {
    "duration": 54,
    "start_time": "2022-09-01T07:23:29.339Z"
   },
   {
    "duration": 28,
    "start_time": "2022-09-01T07:23:29.395Z"
   },
   {
    "duration": 711,
    "start_time": "2022-09-01T07:23:29.425Z"
   },
   {
    "duration": 143,
    "start_time": "2022-09-01T07:23:30.137Z"
   },
   {
    "duration": 11,
    "start_time": "2022-09-01T07:23:30.282Z"
   },
   {
    "duration": 63,
    "start_time": "2022-09-01T07:23:30.294Z"
   },
   {
    "duration": 23,
    "start_time": "2022-09-01T07:23:30.359Z"
   },
   {
    "duration": 4,
    "start_time": "2022-09-01T07:23:30.384Z"
   },
   {
    "duration": 22,
    "start_time": "2022-09-01T07:23:30.390Z"
   },
   {
    "duration": 85,
    "start_time": "2022-09-01T07:23:30.415Z"
   },
   {
    "duration": 14,
    "start_time": "2022-09-01T07:23:30.502Z"
   },
   {
    "duration": 49,
    "start_time": "2022-09-01T07:23:30.518Z"
   },
   {
    "duration": 35073,
    "start_time": "2022-09-01T07:23:30.569Z"
   },
   {
    "duration": 4,
    "start_time": "2022-09-01T07:24:05.644Z"
   },
   {
    "duration": 204,
    "start_time": "2022-09-01T07:24:05.649Z"
   },
   {
    "duration": 4,
    "start_time": "2022-09-01T07:24:05.855Z"
   },
   {
    "duration": 1577,
    "start_time": "2022-09-01T07:24:16.729Z"
   },
   {
    "duration": 807,
    "start_time": "2022-09-01T07:24:18.308Z"
   },
   {
    "duration": 4,
    "start_time": "2022-09-01T07:24:19.116Z"
   },
   {
    "duration": 147,
    "start_time": "2022-09-01T07:24:19.122Z"
   },
   {
    "duration": 24,
    "start_time": "2022-09-01T07:24:19.271Z"
   },
   {
    "duration": 82,
    "start_time": "2022-09-01T07:24:19.296Z"
   },
   {
    "duration": 77,
    "start_time": "2022-09-01T07:24:19.380Z"
   },
   {
    "duration": 77,
    "start_time": "2022-09-01T07:24:19.459Z"
   },
   {
    "duration": 71,
    "start_time": "2022-09-01T07:24:19.537Z"
   },
   {
    "duration": 394,
    "start_time": "2022-09-01T07:24:19.611Z"
   },
   {
    "duration": 72,
    "start_time": "2022-09-01T07:24:20.007Z"
   },
   {
    "duration": 15,
    "start_time": "2022-09-01T07:24:20.080Z"
   },
   {
    "duration": 109,
    "start_time": "2022-09-01T07:24:20.096Z"
   },
   {
    "duration": 203,
    "start_time": "2022-09-01T07:24:20.207Z"
   },
   {
    "duration": 56,
    "start_time": "2022-09-01T07:24:20.412Z"
   },
   {
    "duration": 228,
    "start_time": "2022-09-01T07:24:20.470Z"
   },
   {
    "duration": 41,
    "start_time": "2022-09-01T07:24:20.700Z"
   },
   {
    "duration": 307,
    "start_time": "2022-09-01T07:24:20.743Z"
   },
   {
    "duration": 41,
    "start_time": "2022-09-01T07:24:21.052Z"
   },
   {
    "duration": 33,
    "start_time": "2022-09-01T07:24:21.094Z"
   },
   {
    "duration": 725,
    "start_time": "2022-09-01T07:24:21.129Z"
   },
   {
    "duration": 146,
    "start_time": "2022-09-01T07:24:21.856Z"
   },
   {
    "duration": 8,
    "start_time": "2022-09-01T07:24:22.004Z"
   },
   {
    "duration": 65,
    "start_time": "2022-09-01T07:24:22.014Z"
   },
   {
    "duration": 15,
    "start_time": "2022-09-01T07:24:22.080Z"
   },
   {
    "duration": 4,
    "start_time": "2022-09-01T07:24:22.097Z"
   },
   {
    "duration": 25,
    "start_time": "2022-09-01T07:24:22.103Z"
   },
   {
    "duration": 53,
    "start_time": "2022-09-01T07:24:22.131Z"
   },
   {
    "duration": 13,
    "start_time": "2022-09-01T07:24:22.186Z"
   },
   {
    "duration": 3,
    "start_time": "2022-09-01T07:24:22.201Z"
   },
   {
    "duration": 37202,
    "start_time": "2022-09-01T07:24:22.206Z"
   },
   {
    "duration": 4,
    "start_time": "2022-09-01T07:24:59.409Z"
   },
   {
    "duration": 178,
    "start_time": "2022-09-01T07:24:59.414Z"
   },
   {
    "duration": 4,
    "start_time": "2022-09-01T07:24:59.594Z"
   },
   {
    "duration": 61,
    "start_time": "2022-09-01T07:32:43.029Z"
   },
   {
    "duration": 68,
    "start_time": "2022-09-01T07:32:57.396Z"
   },
   {
    "duration": 54,
    "start_time": "2022-09-01T07:33:03.304Z"
   },
   {
    "duration": 137,
    "start_time": "2022-09-01T07:34:01.430Z"
   },
   {
    "duration": 24,
    "start_time": "2022-09-01T07:34:06.549Z"
   },
   {
    "duration": 12,
    "start_time": "2022-09-01T07:34:09.171Z"
   },
   {
    "duration": 3,
    "start_time": "2022-09-01T07:35:04.347Z"
   },
   {
    "duration": 3,
    "start_time": "2022-09-01T07:35:11.159Z"
   },
   {
    "duration": 10,
    "start_time": "2022-09-01T07:36:43.973Z"
   },
   {
    "duration": 73,
    "start_time": "2022-09-01T07:36:52.236Z"
   },
   {
    "duration": 3,
    "start_time": "2022-09-01T07:36:52.845Z"
   },
   {
    "duration": 6,
    "start_time": "2022-09-01T07:36:53.265Z"
   },
   {
    "duration": 5,
    "start_time": "2022-09-01T07:37:44.151Z"
   },
   {
    "duration": 14,
    "start_time": "2022-09-01T07:37:57.904Z"
   },
   {
    "duration": 3,
    "start_time": "2022-09-01T07:38:08.389Z"
   },
   {
    "duration": 933,
    "start_time": "2022-09-01T07:38:11.255Z"
   },
   {
    "duration": 753,
    "start_time": "2022-09-01T07:38:12.253Z"
   },
   {
    "duration": 350,
    "start_time": "2022-09-01T07:38:13.008Z"
   },
   {
    "duration": 935,
    "start_time": "2022-09-01T07:38:13.559Z"
   },
   {
    "duration": 0,
    "start_time": "2022-09-01T07:44:47.984Z"
   },
   {
    "duration": 1,
    "start_time": "2022-09-01T07:44:47.984Z"
   },
   {
    "duration": 0,
    "start_time": "2022-09-01T07:44:47.986Z"
   },
   {
    "duration": 38061,
    "start_time": "2022-09-01T07:44:49.491Z"
   },
   {
    "duration": 506,
    "start_time": "2022-09-01T07:45:27.554Z"
   },
   {
    "duration": 164,
    "start_time": "2022-09-01T07:46:32.864Z"
   },
   {
    "duration": 3,
    "start_time": "2022-09-01T07:46:33.683Z"
   },
   {
    "duration": 10,
    "start_time": "2022-09-01T07:47:36.379Z"
   },
   {
    "duration": 9,
    "start_time": "2022-09-01T07:47:46.857Z"
   },
   {
    "duration": 8,
    "start_time": "2022-09-01T07:49:02.905Z"
   },
   {
    "duration": 19,
    "start_time": "2022-09-01T07:50:19.584Z"
   },
   {
    "duration": 88,
    "start_time": "2022-09-01T07:50:27.900Z"
   },
   {
    "duration": 20,
    "start_time": "2022-09-01T07:50:38.153Z"
   },
   {
    "duration": 8,
    "start_time": "2022-09-01T07:51:48.722Z"
   },
   {
    "duration": 104,
    "start_time": "2022-09-01T07:51:49.317Z"
   },
   {
    "duration": 10,
    "start_time": "2022-09-01T07:52:36.760Z"
   },
   {
    "duration": 4,
    "start_time": "2022-09-01T07:52:49.293Z"
   },
   {
    "duration": 6,
    "start_time": "2022-09-01T07:52:53.903Z"
   },
   {
    "duration": 88,
    "start_time": "2022-09-01T07:52:54.419Z"
   },
   {
    "duration": 3,
    "start_time": "2022-09-01T07:52:55.098Z"
   },
   {
    "duration": 8,
    "start_time": "2022-09-01T07:53:24.564Z"
   },
   {
    "duration": 9,
    "start_time": "2022-09-01T07:53:42.568Z"
   },
   {
    "duration": 10,
    "start_time": "2022-09-01T07:53:47.262Z"
   },
   {
    "duration": 5687,
    "start_time": "2022-09-01T07:54:28.276Z"
   },
   {
    "duration": 10,
    "start_time": "2022-09-01T07:54:51.295Z"
   },
   {
    "duration": 11,
    "start_time": "2022-09-01T07:55:13.640Z"
   },
   {
    "duration": 7,
    "start_time": "2022-09-01T07:55:18.030Z"
   },
   {
    "duration": 87,
    "start_time": "2022-09-01T07:55:18.530Z"
   },
   {
    "duration": 2,
    "start_time": "2022-09-01T07:55:19.057Z"
   },
   {
    "duration": 3336,
    "start_time": "2022-09-01T07:55:19.638Z"
   },
   {
    "duration": 6,
    "start_time": "2022-09-01T07:55:26.659Z"
   },
   {
    "duration": 94,
    "start_time": "2022-09-01T07:55:27.172Z"
   },
   {
    "duration": 3,
    "start_time": "2022-09-01T07:55:27.713Z"
   },
   {
    "duration": 9,
    "start_time": "2022-09-01T07:55:28.240Z"
   },
   {
    "duration": 7,
    "start_time": "2022-09-01T07:55:38.781Z"
   },
   {
    "duration": 87,
    "start_time": "2022-09-01T07:55:39.143Z"
   },
   {
    "duration": 2,
    "start_time": "2022-09-01T07:55:39.564Z"
   },
   {
    "duration": 3372,
    "start_time": "2022-09-01T07:55:39.992Z"
   },
   {
    "duration": 10,
    "start_time": "2022-09-01T07:56:10.230Z"
   },
   {
    "duration": 4,
    "start_time": "2022-09-01T07:56:22.362Z"
   },
   {
    "duration": 34,
    "start_time": "2022-09-01T07:56:22.834Z"
   },
   {
    "duration": 395,
    "start_time": "2022-09-01T07:57:25.573Z"
   },
   {
    "duration": 4,
    "start_time": "2022-09-01T07:57:47.767Z"
   },
   {
    "duration": 4,
    "start_time": "2022-09-01T07:57:53.049Z"
   },
   {
    "duration": 21,
    "start_time": "2022-09-01T09:49:17.750Z"
   },
   {
    "duration": 106,
    "start_time": "2022-09-01T09:49:30.976Z"
   },
   {
    "duration": 3,
    "start_time": "2022-09-01T09:49:31.598Z"
   },
   {
    "duration": 141586,
    "start_time": "2022-09-01T09:49:32.193Z"
   },
   {
    "duration": 0,
    "start_time": "2022-09-01T09:51:53.781Z"
   },
   {
    "duration": 0,
    "start_time": "2022-09-01T09:51:53.782Z"
   },
   {
    "duration": 100,
    "start_time": "2022-09-01T09:51:58.475Z"
   },
   {
    "duration": 4,
    "start_time": "2022-09-01T09:51:58.893Z"
   },
   {
    "duration": 25470,
    "start_time": "2022-09-01T09:51:59.399Z"
   },
   {
    "duration": 0,
    "start_time": "2022-09-01T09:52:24.872Z"
   },
   {
    "duration": 0,
    "start_time": "2022-09-01T09:52:24.874Z"
   },
   {
    "duration": 92,
    "start_time": "2022-09-01T09:52:34.585Z"
   },
   {
    "duration": 4,
    "start_time": "2022-09-01T09:52:35.310Z"
   },
   {
    "duration": 0,
    "start_time": "2022-09-01T09:53:25.981Z"
   },
   {
    "duration": 0,
    "start_time": "2022-09-01T09:53:25.984Z"
   },
   {
    "duration": 0,
    "start_time": "2022-09-01T09:53:25.985Z"
   },
   {
    "duration": 103,
    "start_time": "2022-09-01T09:53:27.032Z"
   },
   {
    "duration": 3,
    "start_time": "2022-09-01T09:53:27.704Z"
   },
   {
    "duration": 12,
    "start_time": "2022-09-01T09:53:28.332Z"
   },
   {
    "duration": 1449,
    "start_time": "2022-09-01T09:54:16.351Z"
   },
   {
    "duration": 852,
    "start_time": "2022-09-01T09:54:17.802Z"
   },
   {
    "duration": 14,
    "start_time": "2022-09-01T09:54:18.656Z"
   },
   {
    "duration": 112,
    "start_time": "2022-09-01T09:54:18.673Z"
   },
   {
    "duration": 29,
    "start_time": "2022-09-01T09:54:18.787Z"
   },
   {
    "duration": 101,
    "start_time": "2022-09-01T09:54:18.818Z"
   },
   {
    "duration": 78,
    "start_time": "2022-09-01T09:54:18.921Z"
   },
   {
    "duration": 87,
    "start_time": "2022-09-01T09:54:19.001Z"
   },
   {
    "duration": 77,
    "start_time": "2022-09-01T09:54:19.090Z"
   },
   {
    "duration": 357,
    "start_time": "2022-09-01T09:54:19.172Z"
   },
   {
    "duration": 65,
    "start_time": "2022-09-01T09:54:19.530Z"
   },
   {
    "duration": 12,
    "start_time": "2022-09-01T09:54:19.597Z"
   },
   {
    "duration": 96,
    "start_time": "2022-09-01T09:54:19.611Z"
   },
   {
    "duration": 208,
    "start_time": "2022-09-01T09:54:19.709Z"
   },
   {
    "duration": 52,
    "start_time": "2022-09-01T09:54:19.919Z"
   },
   {
    "duration": 216,
    "start_time": "2022-09-01T09:54:19.973Z"
   },
   {
    "duration": 40,
    "start_time": "2022-09-01T09:54:20.190Z"
   },
   {
    "duration": 290,
    "start_time": "2022-09-01T09:54:20.232Z"
   },
   {
    "duration": 50,
    "start_time": "2022-09-01T09:54:20.523Z"
   },
   {
    "duration": 29,
    "start_time": "2022-09-01T09:54:20.574Z"
   },
   {
    "duration": 712,
    "start_time": "2022-09-01T09:54:20.605Z"
   },
   {
    "duration": 153,
    "start_time": "2022-09-01T09:54:21.319Z"
   },
   {
    "duration": 9,
    "start_time": "2022-09-01T09:54:21.474Z"
   },
   {
    "duration": 55,
    "start_time": "2022-09-01T09:54:21.484Z"
   },
   {
    "duration": 34,
    "start_time": "2022-09-01T09:54:21.541Z"
   },
   {
    "duration": 4,
    "start_time": "2022-09-01T09:54:21.576Z"
   },
   {
    "duration": 9,
    "start_time": "2022-09-01T09:54:21.581Z"
   },
   {
    "duration": 47,
    "start_time": "2022-09-01T09:54:21.592Z"
   },
   {
    "duration": 33,
    "start_time": "2022-09-01T09:54:21.640Z"
   },
   {
    "duration": 6,
    "start_time": "2022-09-01T09:54:21.675Z"
   },
   {
    "duration": 37565,
    "start_time": "2022-09-01T09:54:21.683Z"
   },
   {
    "duration": 548,
    "start_time": "2022-09-01T09:54:59.251Z"
   },
   {
    "duration": 199,
    "start_time": "2022-09-01T09:54:59.801Z"
   },
   {
    "duration": 4,
    "start_time": "2022-09-01T09:55:00.002Z"
   },
   {
    "duration": 144,
    "start_time": "2022-09-01T09:55:00.008Z"
   },
   {
    "duration": 13,
    "start_time": "2022-09-01T09:55:00.154Z"
   },
   {
    "duration": 42893,
    "start_time": "2022-09-01T09:55:00.170Z"
   },
   {
    "duration": 39,
    "start_time": "2022-09-01T09:55:43.066Z"
   },
   {
    "duration": 554,
    "start_time": "2022-09-01T09:55:43.107Z"
   },
   {
    "duration": 11,
    "start_time": "2022-09-01T09:56:18.583Z"
   },
   {
    "duration": 4,
    "start_time": "2022-09-01T09:56:19.033Z"
   },
   {
    "duration": 7362,
    "start_time": "2022-09-01T09:56:19.542Z"
   },
   {
    "duration": 218,
    "start_time": "2022-09-01T09:56:26.906Z"
   },
   {
    "duration": 89,
    "start_time": "2022-09-01T09:56:27.126Z"
   },
   {
    "duration": 3,
    "start_time": "2022-09-01T09:56:27.217Z"
   },
   {
    "duration": 10,
    "start_time": "2022-09-01T09:56:40.483Z"
   },
   {
    "duration": 3,
    "start_time": "2022-09-01T09:56:40.915Z"
   },
   {
    "duration": 7147,
    "start_time": "2022-09-01T09:56:41.451Z"
   },
   {
    "duration": 221,
    "start_time": "2022-09-01T09:56:48.600Z"
   },
   {
    "duration": 89,
    "start_time": "2022-09-01T09:56:48.822Z"
   },
   {
    "duration": 3,
    "start_time": "2022-09-01T09:56:48.913Z"
   },
   {
    "duration": 10,
    "start_time": "2022-09-01T09:56:56.174Z"
   },
   {
    "duration": 4,
    "start_time": "2022-09-01T09:56:56.579Z"
   },
   {
    "duration": 7464,
    "start_time": "2022-09-01T09:56:56.978Z"
   },
   {
    "duration": 238,
    "start_time": "2022-09-01T09:57:04.445Z"
   },
   {
    "duration": 87,
    "start_time": "2022-09-01T09:57:04.685Z"
   },
   {
    "duration": 4,
    "start_time": "2022-09-01T09:57:04.774Z"
   },
   {
    "duration": 10,
    "start_time": "2022-09-01T09:57:12.397Z"
   },
   {
    "duration": 3,
    "start_time": "2022-09-01T09:57:12.693Z"
   },
   {
    "duration": 7778,
    "start_time": "2022-09-01T09:57:13.049Z"
   },
   {
    "duration": 232,
    "start_time": "2022-09-01T09:57:20.829Z"
   },
   {
    "duration": 80,
    "start_time": "2022-09-01T09:57:21.062Z"
   },
   {
    "duration": 14,
    "start_time": "2022-09-01T09:57:21.144Z"
   },
   {
    "duration": 91,
    "start_time": "2022-09-01T09:57:36.184Z"
   },
   {
    "duration": 4,
    "start_time": "2022-09-01T09:57:36.566Z"
   },
   {
    "duration": 3697,
    "start_time": "2022-09-01T09:57:36.977Z"
   },
   {
    "duration": 36,
    "start_time": "2022-09-01T09:57:40.759Z"
   },
   {
    "duration": 372,
    "start_time": "2022-09-01T09:57:40.796Z"
   },
   {
    "duration": 3,
    "start_time": "2022-09-01T10:01:16.531Z"
   },
   {
    "duration": 3,
    "start_time": "2022-09-01T10:03:34.711Z"
   },
   {
    "duration": 11,
    "start_time": "2022-09-01T10:03:35.209Z"
   },
   {
    "duration": 3,
    "start_time": "2022-09-01T10:03:35.794Z"
   },
   {
    "duration": 7698,
    "start_time": "2022-09-01T10:03:36.387Z"
   },
   {
    "duration": 223,
    "start_time": "2022-09-01T10:03:46.801Z"
   },
   {
    "duration": 82,
    "start_time": "2022-09-01T10:03:48.457Z"
   },
   {
    "duration": 3,
    "start_time": "2022-09-01T10:03:48.973Z"
   },
   {
    "duration": 4,
    "start_time": "2022-09-01T10:03:53.943Z"
   },
   {
    "duration": 3,
    "start_time": "2022-09-01T10:05:36.039Z"
   },
   {
    "duration": 3,
    "start_time": "2022-09-01T10:05:55.215Z"
   },
   {
    "duration": 111,
    "start_time": "2022-09-01T10:05:58.357Z"
   },
   {
    "duration": 4,
    "start_time": "2022-09-01T10:06:03.187Z"
   },
   {
    "duration": 35461,
    "start_time": "2022-09-01T10:08:45.608Z"
   },
   {
    "duration": 1093,
    "start_time": "2022-09-01T10:09:21.071Z"
   },
   {
    "duration": 37,
    "start_time": "2022-09-01T10:09:22.166Z"
   },
   {
    "duration": 376,
    "start_time": "2022-09-01T10:09:22.205Z"
   },
   {
    "duration": 403,
    "start_time": "2022-09-01T10:11:04.157Z"
   },
   {
    "duration": 120,
    "start_time": "2022-09-01T10:11:10.318Z"
   },
   {
    "duration": 5,
    "start_time": "2022-09-01T10:11:13.907Z"
   },
   {
    "duration": 3,
    "start_time": "2022-09-01T10:11:27.543Z"
   },
   {
    "duration": 4,
    "start_time": "2022-09-01T10:11:53.256Z"
   },
   {
    "duration": 22,
    "start_time": "2022-09-01T10:12:51.270Z"
   },
   {
    "duration": 53,
    "start_time": "2022-09-01T11:44:13.417Z"
   },
   {
    "duration": 3,
    "start_time": "2022-09-01T11:46:49.232Z"
   },
   {
    "duration": 17,
    "start_time": "2022-09-01T11:46:53.354Z"
   },
   {
    "duration": 31,
    "start_time": "2022-09-01T11:47:40.207Z"
   },
   {
    "duration": 19,
    "start_time": "2022-09-01T11:47:46.893Z"
   },
   {
    "duration": 638,
    "start_time": "2022-09-01T11:49:35.762Z"
   },
   {
    "duration": 29,
    "start_time": "2022-09-01T11:49:42.133Z"
   },
   {
    "duration": 348,
    "start_time": "2022-09-01T11:50:04.333Z"
   },
   {
    "duration": 417,
    "start_time": "2022-09-01T11:50:15.831Z"
   },
   {
    "duration": 26,
    "start_time": "2022-09-01T11:50:19.611Z"
   },
   {
    "duration": 3,
    "start_time": "2022-09-01T11:52:32.786Z"
   },
   {
    "duration": 31379,
    "start_time": "2022-09-01T11:55:27.515Z"
   },
   {
    "duration": 119,
    "start_time": "2022-09-01T11:57:10.274Z"
   },
   {
    "duration": 5,
    "start_time": "2022-09-01T11:58:10.452Z"
   },
   {
    "duration": 4,
    "start_time": "2022-09-01T11:58:17.924Z"
   },
   {
    "duration": 28,
    "start_time": "2022-09-01T11:59:10.010Z"
   },
   {
    "duration": 119,
    "start_time": "2022-09-01T11:59:11.037Z"
   },
   {
    "duration": 4,
    "start_time": "2022-09-01T11:59:11.789Z"
   },
   {
    "duration": 4,
    "start_time": "2022-09-01T11:59:12.369Z"
   },
   {
    "duration": 1449,
    "start_time": "2022-09-01T11:59:37.720Z"
   },
   {
    "duration": 768,
    "start_time": "2022-09-01T11:59:39.170Z"
   },
   {
    "duration": 4,
    "start_time": "2022-09-01T11:59:39.940Z"
   },
   {
    "duration": 98,
    "start_time": "2022-09-01T11:59:39.956Z"
   },
   {
    "duration": 26,
    "start_time": "2022-09-01T11:59:40.057Z"
   },
   {
    "duration": 81,
    "start_time": "2022-09-01T11:59:40.085Z"
   },
   {
    "duration": 74,
    "start_time": "2022-09-01T11:59:40.168Z"
   },
   {
    "duration": 82,
    "start_time": "2022-09-01T11:59:40.257Z"
   },
   {
    "duration": 78,
    "start_time": "2022-09-01T11:59:40.340Z"
   },
   {
    "duration": 384,
    "start_time": "2022-09-01T11:59:40.421Z"
   },
   {
    "duration": 66,
    "start_time": "2022-09-01T11:59:40.806Z"
   },
   {
    "duration": 14,
    "start_time": "2022-09-01T11:59:40.874Z"
   },
   {
    "duration": 95,
    "start_time": "2022-09-01T11:59:40.890Z"
   },
   {
    "duration": 209,
    "start_time": "2022-09-01T11:59:40.987Z"
   },
   {
    "duration": 62,
    "start_time": "2022-09-01T11:59:41.197Z"
   },
   {
    "duration": 219,
    "start_time": "2022-09-01T11:59:41.262Z"
   },
   {
    "duration": 44,
    "start_time": "2022-09-01T11:59:41.483Z"
   },
   {
    "duration": 321,
    "start_time": "2022-09-01T11:59:41.529Z"
   },
   {
    "duration": 45,
    "start_time": "2022-09-01T11:59:41.851Z"
   },
   {
    "duration": 30,
    "start_time": "2022-09-01T11:59:41.898Z"
   },
   {
    "duration": 721,
    "start_time": "2022-09-01T11:59:41.930Z"
   },
   {
    "duration": 138,
    "start_time": "2022-09-01T11:59:42.657Z"
   },
   {
    "duration": 11,
    "start_time": "2022-09-01T11:59:42.797Z"
   },
   {
    "duration": 62,
    "start_time": "2022-09-01T11:59:42.810Z"
   },
   {
    "duration": 22,
    "start_time": "2022-09-01T11:59:42.874Z"
   },
   {
    "duration": 3,
    "start_time": "2022-09-01T11:59:42.898Z"
   },
   {
    "duration": 6,
    "start_time": "2022-09-01T11:59:42.903Z"
   },
   {
    "duration": 78,
    "start_time": "2022-09-01T11:59:42.912Z"
   },
   {
    "duration": 2,
    "start_time": "2022-09-01T11:59:42.992Z"
   },
   {
    "duration": 16,
    "start_time": "2022-09-01T11:59:42.996Z"
   },
   {
    "duration": 7,
    "start_time": "2022-09-01T11:59:43.014Z"
   },
   {
    "duration": 7905,
    "start_time": "2022-09-01T11:59:43.023Z"
   },
   {
    "duration": 239,
    "start_time": "2022-09-01T11:59:50.930Z"
   },
   {
    "duration": 95,
    "start_time": "2022-09-01T11:59:51.172Z"
   },
   {
    "duration": 5,
    "start_time": "2022-09-01T11:59:51.269Z"
   },
   {
    "duration": 7,
    "start_time": "2022-09-01T11:59:51.275Z"
   },
   {
    "duration": 10,
    "start_time": "2022-09-01T11:59:51.284Z"
   },
   {
    "duration": 106,
    "start_time": "2022-09-01T11:59:51.296Z"
   },
   {
    "duration": 3,
    "start_time": "2022-09-01T11:59:51.404Z"
   },
   {
    "duration": 51348,
    "start_time": "2022-09-01T11:59:51.409Z"
   },
   {
    "duration": 1122,
    "start_time": "2022-09-01T12:00:42.761Z"
   },
   {
    "duration": 37,
    "start_time": "2022-09-01T12:00:43.885Z"
   },
   {
    "duration": 447,
    "start_time": "2022-09-01T12:00:43.923Z"
   },
   {
    "duration": 3,
    "start_time": "2022-09-01T12:00:44.373Z"
   },
   {
    "duration": 43,
    "start_time": "2022-09-01T12:00:44.377Z"
   },
   {
    "duration": 490,
    "start_time": "2022-09-01T12:00:44.422Z"
   },
   {
    "duration": 4,
    "start_time": "2022-09-01T12:00:44.914Z"
   },
   {
    "duration": 8,
    "start_time": "2022-09-01T12:00:44.920Z"
   },
   {
    "duration": 5,
    "start_time": "2022-09-01T12:00:44.930Z"
   },
   {
    "duration": 20725,
    "start_time": "2022-09-01T12:00:44.936Z"
   },
   {
    "duration": 221,
    "start_time": "2022-09-01T12:01:05.669Z"
   },
   {
    "duration": 852,
    "start_time": "2022-09-01T12:02:44.429Z"
   },
   {
    "duration": 30,
    "start_time": "2022-09-01T12:02:46.781Z"
   },
   {
    "duration": 4,
    "start_time": "2022-09-01T12:02:48.596Z"
   },
   {
    "duration": 4,
    "start_time": "2022-09-01T12:02:49.243Z"
   },
   {
    "duration": 3,
    "start_time": "2022-09-01T12:02:52.990Z"
   },
   {
    "duration": 20768,
    "start_time": "2022-09-01T12:02:53.600Z"
   },
   {
    "duration": 186,
    "start_time": "2022-09-01T12:03:14.371Z"
   },
   {
    "duration": 3,
    "start_time": "2022-09-01T12:09:50.850Z"
   },
   {
    "duration": 19705,
    "start_time": "2022-09-01T12:09:51.162Z"
   },
   {
    "duration": 308,
    "start_time": "2022-09-01T12:10:10.957Z"
   },
   {
    "duration": 288,
    "start_time": "2022-09-01T12:10:11.270Z"
   },
   {
    "duration": 8,
    "start_time": "2022-09-01T12:10:11.562Z"
   },
   {
    "duration": 3,
    "start_time": "2022-09-01T12:10:18.116Z"
   },
   {
    "duration": 3,
    "start_time": "2022-09-01T12:11:18.692Z"
   },
   {
    "duration": 9,
    "start_time": "2022-09-01T12:11:22.605Z"
   },
   {
    "duration": 4,
    "start_time": "2022-09-01T12:13:27.201Z"
   },
   {
    "duration": 12,
    "start_time": "2022-09-01T12:13:27.756Z"
   },
   {
    "duration": 13,
    "start_time": "2022-09-01T12:14:46.297Z"
   },
   {
    "duration": 3,
    "start_time": "2022-09-01T12:14:50.482Z"
   },
   {
    "duration": 48,
    "start_time": "2022-09-01T12:14:50.826Z"
   },
   {
    "duration": 3,
    "start_time": "2022-09-01T12:14:51.379Z"
   },
   {
    "duration": 1491,
    "start_time": "2022-09-01T12:14:56.978Z"
   },
   {
    "duration": 842,
    "start_time": "2022-09-01T12:14:58.473Z"
   },
   {
    "duration": 3,
    "start_time": "2022-09-01T12:14:59.317Z"
   },
   {
    "duration": 150,
    "start_time": "2022-09-01T12:14:59.322Z"
   },
   {
    "duration": 23,
    "start_time": "2022-09-01T12:14:59.473Z"
   },
   {
    "duration": 91,
    "start_time": "2022-09-01T12:14:59.498Z"
   },
   {
    "duration": 83,
    "start_time": "2022-09-01T12:14:59.591Z"
   },
   {
    "duration": 93,
    "start_time": "2022-09-01T12:14:59.675Z"
   },
   {
    "duration": 67,
    "start_time": "2022-09-01T12:14:59.770Z"
   },
   {
    "duration": 379,
    "start_time": "2022-09-01T12:14:59.841Z"
   },
   {
    "duration": 79,
    "start_time": "2022-09-01T12:15:00.222Z"
   },
   {
    "duration": 16,
    "start_time": "2022-09-01T12:15:00.303Z"
   },
   {
    "duration": 122,
    "start_time": "2022-09-01T12:15:00.321Z"
   },
   {
    "duration": 232,
    "start_time": "2022-09-01T12:15:00.445Z"
   },
   {
    "duration": 52,
    "start_time": "2022-09-01T12:15:00.679Z"
   },
   {
    "duration": 251,
    "start_time": "2022-09-01T12:15:00.733Z"
   },
   {
    "duration": 42,
    "start_time": "2022-09-01T12:15:00.985Z"
   },
   {
    "duration": 323,
    "start_time": "2022-09-01T12:15:01.028Z"
   },
   {
    "duration": 47,
    "start_time": "2022-09-01T12:15:01.357Z"
   },
   {
    "duration": 82,
    "start_time": "2022-09-01T12:15:01.406Z"
   },
   {
    "duration": 709,
    "start_time": "2022-09-01T12:15:01.489Z"
   },
   {
    "duration": 163,
    "start_time": "2022-09-01T12:15:02.200Z"
   },
   {
    "duration": 11,
    "start_time": "2022-09-01T12:15:02.369Z"
   },
   {
    "duration": 140,
    "start_time": "2022-09-01T12:15:02.381Z"
   },
   {
    "duration": 100,
    "start_time": "2022-09-01T12:15:02.522Z"
   },
   {
    "duration": 17,
    "start_time": "2022-09-01T12:15:02.624Z"
   },
   {
    "duration": 39,
    "start_time": "2022-09-01T12:15:02.643Z"
   },
   {
    "duration": 60,
    "start_time": "2022-09-01T12:15:02.686Z"
   },
   {
    "duration": 3,
    "start_time": "2022-09-01T12:15:02.747Z"
   },
   {
    "duration": 67,
    "start_time": "2022-09-01T12:15:02.751Z"
   },
   {
    "duration": 9,
    "start_time": "2022-09-01T12:15:02.820Z"
   },
   {
    "duration": 8445,
    "start_time": "2022-09-01T12:15:02.830Z"
   },
   {
    "duration": 242,
    "start_time": "2022-09-01T12:15:11.277Z"
   },
   {
    "duration": 89,
    "start_time": "2022-09-01T12:15:11.521Z"
   },
   {
    "duration": 3,
    "start_time": "2022-09-01T12:15:11.612Z"
   },
   {
    "duration": 21,
    "start_time": "2022-09-01T12:15:11.616Z"
   },
   {
    "duration": 7,
    "start_time": "2022-09-01T12:15:11.638Z"
   },
   {
    "duration": 101,
    "start_time": "2022-09-01T12:15:11.646Z"
   },
   {
    "duration": 3,
    "start_time": "2022-09-01T12:15:11.749Z"
   },
   {
    "duration": 37009,
    "start_time": "2022-09-01T12:15:11.753Z"
   },
   {
    "duration": 1304,
    "start_time": "2022-09-01T12:15:48.773Z"
   },
   {
    "duration": 36,
    "start_time": "2022-09-01T12:15:50.078Z"
   },
   {
    "duration": 468,
    "start_time": "2022-09-01T12:15:50.115Z"
   },
   {
    "duration": 3,
    "start_time": "2022-09-01T12:15:50.584Z"
   },
   {
    "duration": 875,
    "start_time": "2022-09-01T12:15:50.588Z"
   },
   {
    "duration": 30,
    "start_time": "2022-09-01T12:15:51.473Z"
   },
   {
    "duration": 3,
    "start_time": "2022-09-01T12:15:51.505Z"
   },
   {
    "duration": 34968,
    "start_time": "2022-09-01T12:15:51.509Z"
   },
   {
    "duration": 388,
    "start_time": "2022-09-01T12:16:26.479Z"
   },
   {
    "duration": 197,
    "start_time": "2022-09-01T12:16:26.869Z"
   },
   {
    "duration": 3,
    "start_time": "2022-09-01T12:16:27.068Z"
   },
   {
    "duration": 111,
    "start_time": "2022-09-01T12:16:27.073Z"
   },
   {
    "duration": 74,
    "start_time": "2022-09-01T12:16:27.185Z"
   },
   {
    "duration": 117,
    "start_time": "2022-09-01T12:20:07.397Z"
   },
   {
    "duration": 6,
    "start_time": "2022-09-01T12:20:22.998Z"
   },
   {
    "duration": 8,
    "start_time": "2022-09-01T12:21:12.164Z"
   },
   {
    "duration": 6,
    "start_time": "2022-09-01T12:21:21.967Z"
   },
   {
    "duration": 6,
    "start_time": "2022-09-01T12:21:25.120Z"
   },
   {
    "duration": 6,
    "start_time": "2022-09-01T12:21:47.981Z"
   },
   {
    "duration": 4,
    "start_time": "2022-09-01T12:21:55.094Z"
   },
   {
    "duration": 9,
    "start_time": "2022-09-01T12:21:55.621Z"
   },
   {
    "duration": 389,
    "start_time": "2022-09-01T12:23:17.646Z"
   },
   {
    "duration": 879,
    "start_time": "2022-09-01T12:23:48.174Z"
   },
   {
    "duration": 338,
    "start_time": "2022-09-01T12:23:52.345Z"
   },
   {
    "duration": 395,
    "start_time": "2022-09-01T12:23:56.772Z"
   },
   {
    "duration": 412,
    "start_time": "2022-09-01T12:24:01.315Z"
   },
   {
    "duration": 606,
    "start_time": "2022-09-01T12:24:07.333Z"
   },
   {
    "duration": 1422,
    "start_time": "2022-09-01T12:44:09.067Z"
   },
   {
    "duration": 772,
    "start_time": "2022-09-01T12:44:10.491Z"
   },
   {
    "duration": 4,
    "start_time": "2022-09-01T12:44:11.265Z"
   },
   {
    "duration": 141,
    "start_time": "2022-09-01T12:44:11.271Z"
   },
   {
    "duration": 25,
    "start_time": "2022-09-01T12:44:11.414Z"
   },
   {
    "duration": 84,
    "start_time": "2022-09-01T12:44:11.441Z"
   },
   {
    "duration": 74,
    "start_time": "2022-09-01T12:44:11.527Z"
   },
   {
    "duration": 83,
    "start_time": "2022-09-01T12:44:11.602Z"
   },
   {
    "duration": 77,
    "start_time": "2022-09-01T12:44:11.686Z"
   },
   {
    "duration": 345,
    "start_time": "2022-09-01T12:44:11.766Z"
   },
   {
    "duration": 60,
    "start_time": "2022-09-01T12:44:12.113Z"
   },
   {
    "duration": 13,
    "start_time": "2022-09-01T12:44:12.175Z"
   },
   {
    "duration": 100,
    "start_time": "2022-09-01T12:44:12.189Z"
   },
   {
    "duration": 200,
    "start_time": "2022-09-01T12:44:12.291Z"
   },
   {
    "duration": 48,
    "start_time": "2022-09-01T12:44:12.493Z"
   },
   {
    "duration": 229,
    "start_time": "2022-09-01T12:44:12.542Z"
   },
   {
    "duration": 43,
    "start_time": "2022-09-01T12:44:12.773Z"
   },
   {
    "duration": 310,
    "start_time": "2022-09-01T12:44:12.818Z"
   },
   {
    "duration": 51,
    "start_time": "2022-09-01T12:44:13.130Z"
   },
   {
    "duration": 29,
    "start_time": "2022-09-01T12:44:13.183Z"
   },
   {
    "duration": 701,
    "start_time": "2022-09-01T12:44:13.214Z"
   },
   {
    "duration": 135,
    "start_time": "2022-09-01T12:44:13.917Z"
   },
   {
    "duration": 9,
    "start_time": "2022-09-01T12:44:14.058Z"
   },
   {
    "duration": 53,
    "start_time": "2022-09-01T12:44:14.068Z"
   },
   {
    "duration": 41,
    "start_time": "2022-09-01T12:44:14.122Z"
   },
   {
    "duration": 4,
    "start_time": "2022-09-01T12:44:14.165Z"
   },
   {
    "duration": 7,
    "start_time": "2022-09-01T12:44:14.170Z"
   },
   {
    "duration": 48,
    "start_time": "2022-09-01T12:44:14.181Z"
   },
   {
    "duration": 26,
    "start_time": "2022-09-01T12:44:14.231Z"
   },
   {
    "duration": 14,
    "start_time": "2022-09-01T12:44:14.259Z"
   },
   {
    "duration": 4,
    "start_time": "2022-09-01T12:44:14.275Z"
   },
   {
    "duration": 7666,
    "start_time": "2022-09-01T12:44:14.280Z"
   },
   {
    "duration": 242,
    "start_time": "2022-09-01T12:44:21.947Z"
   },
   {
    "duration": 86,
    "start_time": "2022-09-01T12:44:22.191Z"
   },
   {
    "duration": 7,
    "start_time": "2022-09-01T12:44:22.278Z"
   },
   {
    "duration": 12,
    "start_time": "2022-09-01T12:44:22.287Z"
   },
   {
    "duration": 7,
    "start_time": "2022-09-01T12:44:22.300Z"
   },
   {
    "duration": 103,
    "start_time": "2022-09-01T12:44:22.308Z"
   },
   {
    "duration": 2,
    "start_time": "2022-09-01T12:44:22.413Z"
   },
   {
    "duration": 17659,
    "start_time": "2022-09-01T12:44:22.417Z"
   },
   {
    "duration": 1385,
    "start_time": "2022-09-01T12:44:40.078Z"
   },
   {
    "duration": 39,
    "start_time": "2022-09-01T12:44:41.466Z"
   },
   {
    "duration": 461,
    "start_time": "2022-09-01T12:44:41.507Z"
   },
   {
    "duration": 3,
    "start_time": "2022-09-01T12:44:41.971Z"
   },
   {
    "duration": 894,
    "start_time": "2022-09-01T12:44:41.975Z"
   },
   {
    "duration": 31,
    "start_time": "2022-09-01T12:44:42.872Z"
   },
   {
    "duration": 21,
    "start_time": "2022-09-01T12:44:42.904Z"
   },
   {
    "duration": 37540,
    "start_time": "2022-09-01T12:44:42.927Z"
   },
   {
    "duration": 401,
    "start_time": "2022-09-01T12:45:20.469Z"
   },
   {
    "duration": 191,
    "start_time": "2022-09-01T12:45:20.872Z"
   },
   {
    "duration": 5,
    "start_time": "2022-09-01T12:45:21.065Z"
   },
   {
    "duration": 110,
    "start_time": "2022-09-01T12:45:21.073Z"
   },
   {
    "duration": 12,
    "start_time": "2022-09-01T12:45:21.185Z"
   },
   {
    "duration": 7,
    "start_time": "2022-09-01T12:45:21.260Z"
   },
   {
    "duration": 1547,
    "start_time": "2022-09-01T12:48:58.355Z"
   },
   {
    "duration": 974,
    "start_time": "2022-09-01T12:48:59.905Z"
   },
   {
    "duration": 6,
    "start_time": "2022-09-01T12:49:00.881Z"
   },
   {
    "duration": 120,
    "start_time": "2022-09-01T12:49:00.889Z"
   },
   {
    "duration": 25,
    "start_time": "2022-09-01T12:49:01.011Z"
   },
   {
    "duration": 112,
    "start_time": "2022-09-01T12:49:01.038Z"
   },
   {
    "duration": 118,
    "start_time": "2022-09-01T12:49:01.152Z"
   },
   {
    "duration": 118,
    "start_time": "2022-09-01T12:49:01.273Z"
   },
   {
    "duration": 86,
    "start_time": "2022-09-01T12:49:01.393Z"
   },
   {
    "duration": 436,
    "start_time": "2022-09-01T12:49:01.482Z"
   },
   {
    "duration": 81,
    "start_time": "2022-09-01T12:49:01.920Z"
   },
   {
    "duration": 16,
    "start_time": "2022-09-01T12:49:02.003Z"
   },
   {
    "duration": 114,
    "start_time": "2022-09-01T12:49:02.021Z"
   },
   {
    "duration": 249,
    "start_time": "2022-09-01T12:49:02.137Z"
   },
   {
    "duration": 53,
    "start_time": "2022-09-01T12:49:02.389Z"
   },
   {
    "duration": 266,
    "start_time": "2022-09-01T12:49:02.443Z"
   },
   {
    "duration": 50,
    "start_time": "2022-09-01T12:49:02.711Z"
   },
   {
    "duration": 361,
    "start_time": "2022-09-01T12:49:02.763Z"
   },
   {
    "duration": 61,
    "start_time": "2022-09-01T12:49:03.126Z"
   },
   {
    "duration": 39,
    "start_time": "2022-09-01T12:49:03.189Z"
   },
   {
    "duration": 851,
    "start_time": "2022-09-01T12:49:03.230Z"
   },
   {
    "duration": 192,
    "start_time": "2022-09-01T12:49:04.083Z"
   },
   {
    "duration": 10,
    "start_time": "2022-09-01T12:49:04.278Z"
   },
   {
    "duration": 61,
    "start_time": "2022-09-01T12:49:04.290Z"
   },
   {
    "duration": 26,
    "start_time": "2022-09-01T12:49:04.361Z"
   },
   {
    "duration": 16,
    "start_time": "2022-09-01T12:49:04.390Z"
   },
   {
    "duration": 15,
    "start_time": "2022-09-01T12:49:04.408Z"
   },
   {
    "duration": 93,
    "start_time": "2022-09-01T12:49:04.427Z"
   },
   {
    "duration": 3,
    "start_time": "2022-09-01T12:49:04.522Z"
   },
   {
    "duration": 38,
    "start_time": "2022-09-01T12:49:04.527Z"
   },
   {
    "duration": 31,
    "start_time": "2022-09-01T12:49:04.567Z"
   },
   {
    "duration": 9034,
    "start_time": "2022-09-01T12:49:04.600Z"
   },
   {
    "duration": 282,
    "start_time": "2022-09-01T12:49:13.636Z"
   },
   {
    "duration": 117,
    "start_time": "2022-09-01T12:49:13.920Z"
   },
   {
    "duration": 4,
    "start_time": "2022-09-01T12:49:14.039Z"
   },
   {
    "duration": 6,
    "start_time": "2022-09-01T12:49:14.044Z"
   },
   {
    "duration": 9,
    "start_time": "2022-09-01T12:49:14.057Z"
   },
   {
    "duration": 119,
    "start_time": "2022-09-01T12:49:14.071Z"
   },
   {
    "duration": 4,
    "start_time": "2022-09-01T12:49:14.192Z"
   },
   {
    "duration": 179877,
    "start_time": "2022-09-01T12:49:14.198Z"
   },
   {
    "duration": 0,
    "start_time": "2022-09-01T12:52:14.078Z"
   },
   {
    "duration": 0,
    "start_time": "2022-09-01T12:52:14.079Z"
   },
   {
    "duration": 0,
    "start_time": "2022-09-01T12:52:14.080Z"
   },
   {
    "duration": 0,
    "start_time": "2022-09-01T12:52:14.082Z"
   },
   {
    "duration": 0,
    "start_time": "2022-09-01T12:52:14.084Z"
   },
   {
    "duration": 0,
    "start_time": "2022-09-01T12:52:14.085Z"
   },
   {
    "duration": 0,
    "start_time": "2022-09-01T12:52:14.086Z"
   },
   {
    "duration": 0,
    "start_time": "2022-09-01T12:52:14.088Z"
   },
   {
    "duration": 0,
    "start_time": "2022-09-01T12:52:14.089Z"
   },
   {
    "duration": 0,
    "start_time": "2022-09-01T12:52:14.090Z"
   },
   {
    "duration": 0,
    "start_time": "2022-09-01T12:52:14.092Z"
   },
   {
    "duration": 0,
    "start_time": "2022-09-01T12:52:14.093Z"
   },
   {
    "duration": 0,
    "start_time": "2022-09-01T12:52:14.094Z"
   },
   {
    "duration": 0,
    "start_time": "2022-09-01T12:52:14.096Z"
   },
   {
    "duration": 1329,
    "start_time": "2022-09-01T12:52:20.180Z"
   },
   {
    "duration": 0,
    "start_time": "2022-09-01T12:52:21.513Z"
   },
   {
    "duration": 0,
    "start_time": "2022-09-01T12:52:21.514Z"
   },
   {
    "duration": 0,
    "start_time": "2022-09-01T12:52:21.515Z"
   },
   {
    "duration": 0,
    "start_time": "2022-09-01T12:52:21.516Z"
   },
   {
    "duration": 0,
    "start_time": "2022-09-01T12:52:21.517Z"
   },
   {
    "duration": 0,
    "start_time": "2022-09-01T12:52:21.518Z"
   },
   {
    "duration": 0,
    "start_time": "2022-09-01T12:52:21.519Z"
   },
   {
    "duration": 0,
    "start_time": "2022-09-01T12:52:21.520Z"
   },
   {
    "duration": 0,
    "start_time": "2022-09-01T12:52:21.521Z"
   },
   {
    "duration": 0,
    "start_time": "2022-09-01T12:52:21.522Z"
   },
   {
    "duration": 0,
    "start_time": "2022-09-01T12:52:21.523Z"
   },
   {
    "duration": 0,
    "start_time": "2022-09-01T12:52:21.524Z"
   },
   {
    "duration": 0,
    "start_time": "2022-09-01T12:52:21.525Z"
   },
   {
    "duration": 0,
    "start_time": "2022-09-01T12:52:21.526Z"
   },
   {
    "duration": 0,
    "start_time": "2022-09-01T12:52:21.528Z"
   },
   {
    "duration": 0,
    "start_time": "2022-09-01T12:52:21.529Z"
   },
   {
    "duration": 0,
    "start_time": "2022-09-01T12:52:21.530Z"
   },
   {
    "duration": 0,
    "start_time": "2022-09-01T12:52:21.532Z"
   },
   {
    "duration": 1,
    "start_time": "2022-09-01T12:52:21.557Z"
   },
   {
    "duration": 0,
    "start_time": "2022-09-01T12:52:21.559Z"
   },
   {
    "duration": 0,
    "start_time": "2022-09-01T12:52:21.560Z"
   },
   {
    "duration": 0,
    "start_time": "2022-09-01T12:52:21.562Z"
   },
   {
    "duration": 0,
    "start_time": "2022-09-01T12:52:21.564Z"
   },
   {
    "duration": 0,
    "start_time": "2022-09-01T12:52:21.565Z"
   },
   {
    "duration": 0,
    "start_time": "2022-09-01T12:52:21.567Z"
   },
   {
    "duration": 0,
    "start_time": "2022-09-01T12:52:21.568Z"
   },
   {
    "duration": 0,
    "start_time": "2022-09-01T12:52:21.569Z"
   },
   {
    "duration": 0,
    "start_time": "2022-09-01T12:52:21.571Z"
   },
   {
    "duration": 0,
    "start_time": "2022-09-01T12:52:21.572Z"
   },
   {
    "duration": 0,
    "start_time": "2022-09-01T12:52:21.573Z"
   },
   {
    "duration": 0,
    "start_time": "2022-09-01T12:52:21.575Z"
   },
   {
    "duration": 0,
    "start_time": "2022-09-01T12:52:21.576Z"
   },
   {
    "duration": 0,
    "start_time": "2022-09-01T12:52:21.577Z"
   },
   {
    "duration": 0,
    "start_time": "2022-09-01T12:52:21.578Z"
   },
   {
    "duration": 0,
    "start_time": "2022-09-01T12:52:21.580Z"
   },
   {
    "duration": 0,
    "start_time": "2022-09-01T12:52:21.581Z"
   },
   {
    "duration": 0,
    "start_time": "2022-09-01T12:52:21.582Z"
   },
   {
    "duration": 0,
    "start_time": "2022-09-01T12:52:21.584Z"
   },
   {
    "duration": 0,
    "start_time": "2022-09-01T12:52:21.585Z"
   },
   {
    "duration": 0,
    "start_time": "2022-09-01T12:52:21.586Z"
   },
   {
    "duration": 0,
    "start_time": "2022-09-01T12:52:21.588Z"
   },
   {
    "duration": 0,
    "start_time": "2022-09-01T12:52:21.589Z"
   },
   {
    "duration": 0,
    "start_time": "2022-09-01T12:52:21.590Z"
   },
   {
    "duration": 0,
    "start_time": "2022-09-01T12:52:21.592Z"
   },
   {
    "duration": 0,
    "start_time": "2022-09-01T12:52:21.593Z"
   },
   {
    "duration": 0,
    "start_time": "2022-09-01T12:52:21.594Z"
   },
   {
    "duration": 0,
    "start_time": "2022-09-01T12:52:21.596Z"
   },
   {
    "duration": 0,
    "start_time": "2022-09-01T12:52:21.597Z"
   },
   {
    "duration": 0,
    "start_time": "2022-09-01T12:52:21.598Z"
   },
   {
    "duration": 0,
    "start_time": "2022-09-01T12:52:21.658Z"
   },
   {
    "duration": 0,
    "start_time": "2022-09-01T12:52:21.660Z"
   },
   {
    "duration": 0,
    "start_time": "2022-09-01T12:52:21.662Z"
   },
   {
    "duration": 0,
    "start_time": "2022-09-01T12:52:21.663Z"
   },
   {
    "duration": 1396,
    "start_time": "2022-09-01T12:52:43.118Z"
   },
   {
    "duration": 836,
    "start_time": "2022-09-01T12:52:44.516Z"
   },
   {
    "duration": 5,
    "start_time": "2022-09-01T12:52:45.356Z"
   },
   {
    "duration": 176,
    "start_time": "2022-09-01T12:52:45.365Z"
   },
   {
    "duration": 37,
    "start_time": "2022-09-01T12:52:45.543Z"
   },
   {
    "duration": 110,
    "start_time": "2022-09-01T12:52:45.582Z"
   },
   {
    "duration": 81,
    "start_time": "2022-09-01T12:52:45.694Z"
   },
   {
    "duration": 111,
    "start_time": "2022-09-01T12:52:45.777Z"
   },
   {
    "duration": 74,
    "start_time": "2022-09-01T12:52:45.890Z"
   },
   {
    "duration": 377,
    "start_time": "2022-09-01T12:52:45.967Z"
   },
   {
    "duration": 70,
    "start_time": "2022-09-01T12:52:46.345Z"
   },
   {
    "duration": 16,
    "start_time": "2022-09-01T12:52:46.417Z"
   },
   {
    "duration": 118,
    "start_time": "2022-09-01T12:52:46.434Z"
   },
   {
    "duration": 207,
    "start_time": "2022-09-01T12:52:46.558Z"
   },
   {
    "duration": 52,
    "start_time": "2022-09-01T12:52:46.767Z"
   },
   {
    "duration": 231,
    "start_time": "2022-09-01T12:52:46.821Z"
   },
   {
    "duration": 44,
    "start_time": "2022-09-01T12:52:47.057Z"
   },
   {
    "duration": 372,
    "start_time": "2022-09-01T12:52:47.103Z"
   },
   {
    "duration": 41,
    "start_time": "2022-09-01T12:52:47.477Z"
   },
   {
    "duration": 50,
    "start_time": "2022-09-01T12:52:47.520Z"
   },
   {
    "duration": 675,
    "start_time": "2022-09-01T12:52:47.571Z"
   },
   {
    "duration": 155,
    "start_time": "2022-09-01T12:52:48.248Z"
   },
   {
    "duration": 9,
    "start_time": "2022-09-01T12:52:48.404Z"
   },
   {
    "duration": 66,
    "start_time": "2022-09-01T12:52:48.415Z"
   },
   {
    "duration": 15,
    "start_time": "2022-09-01T12:52:48.483Z"
   },
   {
    "duration": 4,
    "start_time": "2022-09-01T12:52:48.500Z"
   },
   {
    "duration": 8,
    "start_time": "2022-09-01T12:52:48.505Z"
   },
   {
    "duration": 65,
    "start_time": "2022-09-01T12:52:48.516Z"
   },
   {
    "duration": 3,
    "start_time": "2022-09-01T12:52:48.583Z"
   },
   {
    "duration": 16,
    "start_time": "2022-09-01T12:52:48.587Z"
   },
   {
    "duration": 3,
    "start_time": "2022-09-01T12:52:48.605Z"
   },
   {
    "duration": 7543,
    "start_time": "2022-09-01T12:52:48.610Z"
   },
   {
    "duration": 227,
    "start_time": "2022-09-01T12:52:56.154Z"
   },
   {
    "duration": 83,
    "start_time": "2022-09-01T12:52:56.383Z"
   },
   {
    "duration": 4,
    "start_time": "2022-09-01T12:52:56.467Z"
   },
   {
    "duration": 11,
    "start_time": "2022-09-01T12:52:56.473Z"
   },
   {
    "duration": 5,
    "start_time": "2022-09-01T12:52:56.486Z"
   },
   {
    "duration": 121,
    "start_time": "2022-09-01T12:52:56.492Z"
   },
   {
    "duration": 3,
    "start_time": "2022-09-01T12:52:56.615Z"
   },
   {
    "duration": 1508,
    "start_time": "2022-09-01T12:57:04.156Z"
   },
   {
    "duration": 884,
    "start_time": "2022-09-01T12:57:05.666Z"
   },
   {
    "duration": 9,
    "start_time": "2022-09-01T12:57:06.552Z"
   },
   {
    "duration": 101,
    "start_time": "2022-09-01T12:57:06.563Z"
   },
   {
    "duration": 27,
    "start_time": "2022-09-01T12:57:06.666Z"
   },
   {
    "duration": 89,
    "start_time": "2022-09-01T12:57:06.695Z"
   },
   {
    "duration": 84,
    "start_time": "2022-09-01T12:57:06.786Z"
   },
   {
    "duration": 93,
    "start_time": "2022-09-01T12:57:06.872Z"
   },
   {
    "duration": 69,
    "start_time": "2022-09-01T12:57:06.967Z"
   },
   {
    "duration": 390,
    "start_time": "2022-09-01T12:57:07.038Z"
   },
   {
    "duration": 66,
    "start_time": "2022-09-01T12:57:07.430Z"
   },
   {
    "duration": 14,
    "start_time": "2022-09-01T12:57:07.498Z"
   },
   {
    "duration": 93,
    "start_time": "2022-09-01T12:57:07.514Z"
   },
   {
    "duration": 212,
    "start_time": "2022-09-01T12:57:07.609Z"
   },
   {
    "duration": 63,
    "start_time": "2022-09-01T12:57:07.823Z"
   },
   {
    "duration": 232,
    "start_time": "2022-09-01T12:57:07.888Z"
   },
   {
    "duration": 51,
    "start_time": "2022-09-01T12:57:08.122Z"
   },
   {
    "duration": 322,
    "start_time": "2022-09-01T12:57:08.175Z"
   },
   {
    "duration": 43,
    "start_time": "2022-09-01T12:57:08.499Z"
   },
   {
    "duration": 41,
    "start_time": "2022-09-01T12:57:08.544Z"
   },
   {
    "duration": 756,
    "start_time": "2022-09-01T12:57:08.587Z"
   },
   {
    "duration": 151,
    "start_time": "2022-09-01T12:57:09.345Z"
   },
   {
    "duration": 11,
    "start_time": "2022-09-01T12:57:09.498Z"
   },
   {
    "duration": 66,
    "start_time": "2022-09-01T12:57:09.512Z"
   },
   {
    "duration": 24,
    "start_time": "2022-09-01T12:57:09.580Z"
   },
   {
    "duration": 5,
    "start_time": "2022-09-01T12:57:09.605Z"
   },
   {
    "duration": 7,
    "start_time": "2022-09-01T12:57:09.611Z"
   },
   {
    "duration": 80,
    "start_time": "2022-09-01T12:57:09.622Z"
   },
   {
    "duration": 3,
    "start_time": "2022-09-01T12:57:09.704Z"
   },
   {
    "duration": 26,
    "start_time": "2022-09-01T12:57:09.709Z"
   },
   {
    "duration": 7,
    "start_time": "2022-09-01T12:57:09.737Z"
   },
   {
    "duration": 7860,
    "start_time": "2022-09-01T12:57:09.745Z"
   },
   {
    "duration": 239,
    "start_time": "2022-09-01T12:57:17.607Z"
   },
   {
    "duration": 82,
    "start_time": "2022-09-01T12:57:17.848Z"
   },
   {
    "duration": 4,
    "start_time": "2022-09-01T12:57:17.932Z"
   },
   {
    "duration": 20,
    "start_time": "2022-09-01T12:57:17.938Z"
   },
   {
    "duration": 8,
    "start_time": "2022-09-01T12:57:17.960Z"
   },
   {
    "duration": 110,
    "start_time": "2022-09-01T12:57:17.970Z"
   },
   {
    "duration": 4,
    "start_time": "2022-09-01T12:57:18.081Z"
   },
   {
    "duration": 348982,
    "start_time": "2022-09-01T12:57:18.086Z"
   },
   {
    "duration": 1420,
    "start_time": "2022-09-01T13:03:07.070Z"
   },
   {
    "duration": 91,
    "start_time": "2022-09-01T13:03:08.492Z"
   },
   {
    "duration": 491,
    "start_time": "2022-09-01T13:03:08.585Z"
   },
   {
    "duration": 3,
    "start_time": "2022-09-01T13:03:09.078Z"
   },
   {
    "duration": 913,
    "start_time": "2022-09-01T13:03:09.083Z"
   },
   {
    "duration": 33,
    "start_time": "2022-09-01T13:03:09.998Z"
   },
   {
    "duration": 3,
    "start_time": "2022-09-01T13:03:10.032Z"
   },
   {
    "duration": 24221,
    "start_time": "2022-09-01T13:03:10.037Z"
   },
   {
    "duration": 397,
    "start_time": "2022-09-01T13:03:34.260Z"
   },
   {
    "duration": 201,
    "start_time": "2022-09-01T13:03:34.660Z"
   },
   {
    "duration": 3,
    "start_time": "2022-09-01T13:03:34.864Z"
   },
   {
    "duration": 7,
    "start_time": "2022-09-01T13:03:34.957Z"
   },
   {
    "duration": 12,
    "start_time": "2022-09-01T13:03:34.965Z"
   },
   {
    "duration": 10,
    "start_time": "2022-09-01T13:03:34.978Z"
   },
   {
    "duration": 1993,
    "start_time": "2022-09-01T15:57:09.783Z"
   },
   {
    "duration": 1725,
    "start_time": "2022-09-01T15:57:13.689Z"
   },
   {
    "duration": 4,
    "start_time": "2022-09-01T15:57:15.548Z"
   },
   {
    "duration": 124,
    "start_time": "2022-09-01T15:57:16.137Z"
   },
   {
    "duration": 33,
    "start_time": "2022-09-01T15:57:32.811Z"
   },
   {
    "duration": 54,
    "start_time": "2022-09-01T15:59:49.159Z"
   },
   {
    "duration": 29,
    "start_time": "2022-09-01T16:02:26.863Z"
   },
   {
    "duration": 4,
    "start_time": "2022-09-01T16:02:33.582Z"
   },
   {
    "duration": 1068,
    "start_time": "2022-09-01T16:02:34.796Z"
   },
   {
    "duration": 7,
    "start_time": "2022-09-01T16:02:35.867Z"
   },
   {
    "duration": 140,
    "start_time": "2022-09-01T16:02:35.884Z"
   },
   {
    "duration": 37,
    "start_time": "2022-09-01T16:02:39.033Z"
   },
   {
    "duration": 26,
    "start_time": "2022-09-01T16:02:39.722Z"
   },
   {
    "duration": 444,
    "start_time": "2022-09-01T16:02:49.717Z"
   },
   {
    "duration": 36,
    "start_time": "2022-09-01T16:03:15.361Z"
   },
   {
    "duration": 95,
    "start_time": "2022-09-01T16:04:14.259Z"
   },
   {
    "duration": 17,
    "start_time": "2022-09-01T16:04:21.671Z"
   },
   {
    "duration": 13,
    "start_time": "2022-09-01T16:04:26.710Z"
   },
   {
    "duration": 4,
    "start_time": "2022-09-01T16:04:56.581Z"
   },
   {
    "duration": 40,
    "start_time": "2022-09-01T16:05:02.189Z"
   },
   {
    "duration": 51,
    "start_time": "2022-09-02T04:08:30.657Z"
   },
   {
    "duration": 1601,
    "start_time": "2022-09-02T04:09:52.144Z"
   },
   {
    "duration": 3285,
    "start_time": "2022-09-02T04:09:54.865Z"
   },
   {
    "duration": 4,
    "start_time": "2022-09-02T04:09:58.151Z"
   },
   {
    "duration": 108,
    "start_time": "2022-09-02T04:09:58.816Z"
   },
   {
    "duration": 27,
    "start_time": "2022-09-02T04:10:02.160Z"
   },
   {
    "duration": 32,
    "start_time": "2022-09-02T04:10:02.668Z"
   },
   {
    "duration": 130,
    "start_time": "2022-09-02T04:10:06.141Z"
   },
   {
    "duration": 103,
    "start_time": "2022-09-02T04:10:12.732Z"
   },
   {
    "duration": 127,
    "start_time": "2022-09-02T04:10:14.661Z"
   },
   {
    "duration": 683,
    "start_time": "2022-09-02T04:10:16.200Z"
   },
   {
    "duration": 30,
    "start_time": "2022-09-02T04:10:26.937Z"
   },
   {
    "duration": 96,
    "start_time": "2022-09-02T04:10:29.519Z"
   },
   {
    "duration": 1287,
    "start_time": "2022-09-02T04:11:42.750Z"
   },
   {
    "duration": 1216,
    "start_time": "2022-09-02T04:12:04.459Z"
   },
   {
    "duration": 901,
    "start_time": "2022-09-02T04:12:09.402Z"
   },
   {
    "duration": 5,
    "start_time": "2022-09-02T04:12:10.305Z"
   },
   {
    "duration": 98,
    "start_time": "2022-09-02T04:12:10.403Z"
   },
   {
    "duration": 24,
    "start_time": "2022-09-02T04:12:12.240Z"
   },
   {
    "duration": 25,
    "start_time": "2022-09-02T04:12:41.595Z"
   },
   {
    "duration": 14,
    "start_time": "2022-09-02T04:14:29.667Z"
   },
   {
    "duration": 34,
    "start_time": "2022-09-02T04:14:36.661Z"
   },
   {
    "duration": 26,
    "start_time": "2022-09-02T04:14:40.898Z"
   },
   {
    "duration": 30,
    "start_time": "2022-09-02T04:17:09.662Z"
   },
   {
    "duration": 21,
    "start_time": "2022-09-02T04:17:14.160Z"
   },
   {
    "duration": 155,
    "start_time": "2022-09-02T04:19:45.021Z"
   },
   {
    "duration": 41,
    "start_time": "2022-09-02T04:19:54.862Z"
   },
   {
    "duration": 5,
    "start_time": "2022-09-02T04:20:14.231Z"
   },
   {
    "duration": 4,
    "start_time": "2022-09-02T04:20:30.142Z"
   },
   {
    "duration": 947,
    "start_time": "2022-09-02T04:20:31.651Z"
   },
   {
    "duration": 4,
    "start_time": "2022-09-02T04:20:32.600Z"
   },
   {
    "duration": 97,
    "start_time": "2022-09-02T04:20:33.055Z"
   },
   {
    "duration": 131,
    "start_time": "2022-09-02T04:20:34.685Z"
   },
   {
    "duration": 95,
    "start_time": "2022-09-02T04:20:36.202Z"
   },
   {
    "duration": 145,
    "start_time": "2022-09-02T04:20:36.796Z"
   },
   {
    "duration": 631,
    "start_time": "2022-09-02T04:20:37.414Z"
   },
   {
    "duration": 37,
    "start_time": "2022-09-02T04:20:39.409Z"
   },
   {
    "duration": 44,
    "start_time": "2022-09-02T04:20:40.761Z"
   },
   {
    "duration": 27,
    "start_time": "2022-09-02T04:21:25.496Z"
   },
   {
    "duration": 96,
    "start_time": "2022-09-02T04:21:25.525Z"
   },
   {
    "duration": 61,
    "start_time": "2022-09-02T04:22:13.383Z"
   },
   {
    "duration": 16,
    "start_time": "2022-09-02T04:22:14.990Z"
   },
   {
    "duration": 83,
    "start_time": "2022-09-02T04:22:16.971Z"
   },
   {
    "duration": 285,
    "start_time": "2022-09-02T04:22:55.445Z"
   },
   {
    "duration": 49,
    "start_time": "2022-09-02T04:22:57.294Z"
   },
   {
    "duration": 238,
    "start_time": "2022-09-02T04:22:58.021Z"
   },
   {
    "duration": 42,
    "start_time": "2022-09-02T04:22:59.190Z"
   },
   {
    "duration": 230,
    "start_time": "2022-09-02T04:23:00.256Z"
   },
   {
    "duration": 41,
    "start_time": "2022-09-02T04:23:01.560Z"
   },
   {
    "duration": 31,
    "start_time": "2022-09-02T04:23:05.192Z"
   },
   {
    "duration": 729,
    "start_time": "2022-09-02T04:23:05.649Z"
   },
   {
    "duration": 141,
    "start_time": "2022-09-02T04:23:15.606Z"
   },
   {
    "duration": 9,
    "start_time": "2022-09-02T04:23:18.471Z"
   },
   {
    "duration": 63,
    "start_time": "2022-09-02T04:23:19.103Z"
   },
   {
    "duration": 15,
    "start_time": "2022-09-02T04:23:24.974Z"
   },
   {
    "duration": 4,
    "start_time": "2022-09-02T04:23:26.006Z"
   },
   {
    "duration": 4,
    "start_time": "2022-09-02T04:23:26.464Z"
   },
   {
    "duration": 54,
    "start_time": "2022-09-02T04:24:05.856Z"
   },
   {
    "duration": 12,
    "start_time": "2022-09-02T04:37:44.886Z"
   },
   {
    "duration": 14,
    "start_time": "2022-09-02T04:39:16.878Z"
   },
   {
    "duration": 1590,
    "start_time": "2022-09-03T15:32:25.123Z"
   },
   {
    "duration": 1157,
    "start_time": "2022-09-03T15:32:29.091Z"
   },
   {
    "duration": 4,
    "start_time": "2022-09-03T15:32:30.250Z"
   },
   {
    "duration": 124,
    "start_time": "2022-09-03T15:32:30.256Z"
   },
   {
    "duration": 99,
    "start_time": "2022-09-03T15:32:30.741Z"
   },
   {
    "duration": 81,
    "start_time": "2022-09-03T15:32:31.347Z"
   },
   {
    "duration": 97,
    "start_time": "2022-09-03T15:32:31.537Z"
   },
   {
    "duration": 619,
    "start_time": "2022-09-03T15:32:31.752Z"
   },
   {
    "duration": 23,
    "start_time": "2022-09-03T15:32:32.374Z"
   },
   {
    "duration": 54,
    "start_time": "2022-09-03T15:32:32.773Z"
   },
   {
    "duration": 35,
    "start_time": "2022-09-03T15:32:33.412Z"
   },
   {
    "duration": 64,
    "start_time": "2022-09-03T15:32:33.637Z"
   },
   {
    "duration": 64,
    "start_time": "2022-09-03T15:32:34.131Z"
   },
   {
    "duration": 15,
    "start_time": "2022-09-03T15:32:34.985Z"
   },
   {
    "duration": 81,
    "start_time": "2022-09-03T15:32:35.650Z"
   },
   {
    "duration": 206,
    "start_time": "2022-09-03T15:32:36.495Z"
   },
   {
    "duration": 47,
    "start_time": "2022-09-03T15:32:37.311Z"
   },
   {
    "duration": 202,
    "start_time": "2022-09-03T15:32:37.667Z"
   },
   {
    "duration": 40,
    "start_time": "2022-09-03T15:32:38.451Z"
   },
   {
    "duration": 304,
    "start_time": "2022-09-03T15:32:38.905Z"
   },
   {
    "duration": 44,
    "start_time": "2022-09-03T15:32:39.814Z"
   },
   {
    "duration": 34,
    "start_time": "2022-09-03T15:32:41.508Z"
   },
   {
    "duration": 737,
    "start_time": "2022-09-03T15:32:42.164Z"
   },
   {
    "duration": 152,
    "start_time": "2022-09-03T15:32:42.903Z"
   },
   {
    "duration": 10,
    "start_time": "2022-09-03T15:32:43.133Z"
   },
   {
    "duration": 52,
    "start_time": "2022-09-03T15:32:43.743Z"
   },
   {
    "duration": 16,
    "start_time": "2022-09-03T15:32:47.875Z"
   },
   {
    "duration": 4,
    "start_time": "2022-09-03T15:32:48.180Z"
   },
   {
    "duration": 3,
    "start_time": "2022-09-03T15:32:48.856Z"
   },
   {
    "duration": 57,
    "start_time": "2022-09-03T15:32:49.432Z"
   },
   {
    "duration": 3,
    "start_time": "2022-09-03T15:32:51.748Z"
   },
   {
    "duration": 14,
    "start_time": "2022-09-03T15:32:53.116Z"
   },
   {
    "duration": 7332,
    "start_time": "2022-09-03T15:32:53.831Z"
   },
   {
    "duration": 44,
    "start_time": "2022-09-03T15:33:11.321Z"
   },
   {
    "duration": 3,
    "start_time": "2022-09-03T15:33:16.678Z"
   },
   {
    "duration": 5,
    "start_time": "2022-09-03T15:33:22.121Z"
   },
   {
    "duration": 111,
    "start_time": "2022-09-03T15:35:21.782Z"
   },
   {
    "duration": 11,
    "start_time": "2022-09-03T15:35:56.462Z"
   },
   {
    "duration": 5,
    "start_time": "2022-09-03T15:36:06.093Z"
   },
   {
    "duration": 576,
    "start_time": "2022-09-03T15:41:29.151Z"
   },
   {
    "duration": 3,
    "start_time": "2022-09-03T15:41:32.710Z"
   },
   {
    "duration": 15,
    "start_time": "2022-09-03T15:41:33.361Z"
   },
   {
    "duration": 718,
    "start_time": "2022-09-03T15:41:34.135Z"
   },
   {
    "duration": 17,
    "start_time": "2022-09-03T15:41:37.513Z"
   },
   {
    "duration": 5,
    "start_time": "2022-09-03T15:41:38.313Z"
   },
   {
    "duration": 5,
    "start_time": "2022-09-03T15:41:39.087Z"
   },
   {
    "duration": 90,
    "start_time": "2022-09-03T15:41:39.759Z"
   },
   {
    "duration": 4,
    "start_time": "2022-09-03T15:41:41.940Z"
   },
   {
    "duration": 20,
    "start_time": "2022-09-03T15:41:42.361Z"
   },
   {
    "duration": 589,
    "start_time": "2022-09-03T15:41:42.953Z"
   },
   {
    "duration": 73584,
    "start_time": "2022-09-03T15:42:00.433Z"
   },
   {
    "duration": 5,
    "start_time": "2022-09-03T15:43:52.184Z"
   },
   {
    "duration": 89093,
    "start_time": "2022-09-03T15:44:12.876Z"
   },
   {
    "duration": 4,
    "start_time": "2022-09-03T15:46:39.865Z"
   },
   {
    "duration": 9897,
    "start_time": "2022-09-03T15:47:21.832Z"
   },
   {
    "duration": 103417,
    "start_time": "2022-09-03T15:47:42.833Z"
   },
   {
    "duration": 4,
    "start_time": "2022-09-03T15:49:26.252Z"
   },
   {
    "duration": 10304,
    "start_time": "2022-09-03T15:49:31.771Z"
   },
   {
    "duration": 58,
    "start_time": "2022-09-03T15:51:14.204Z"
   },
   {
    "duration": 3,
    "start_time": "2022-09-03T15:51:16.751Z"
   },
   {
    "duration": 5,
    "start_time": "2022-09-03T15:51:22.308Z"
   },
   {
    "duration": 3,
    "start_time": "2022-09-03T15:52:21.074Z"
   },
   {
    "duration": 11082,
    "start_time": "2022-09-03T15:52:24.133Z"
   },
   {
    "duration": 49,
    "start_time": "2022-09-03T15:52:35.217Z"
   },
   {
    "duration": 3,
    "start_time": "2022-09-03T15:52:35.267Z"
   },
   {
    "duration": 9,
    "start_time": "2022-09-03T15:52:35.272Z"
   },
   {
    "duration": 3,
    "start_time": "2022-09-03T15:53:43.055Z"
   },
   {
    "duration": 137,
    "start_time": "2022-09-03T15:53:44.117Z"
   },
   {
    "duration": 4,
    "start_time": "2022-09-03T15:53:45.226Z"
   },
   {
    "duration": 44,
    "start_time": "2022-09-03T15:54:09.828Z"
   },
   {
    "duration": 98377,
    "start_time": "2022-09-03T15:56:30.414Z"
   },
   {
    "duration": 3,
    "start_time": "2022-09-03T15:58:10.446Z"
   },
   {
    "duration": 108,
    "start_time": "2022-09-03T15:58:10.857Z"
   },
   {
    "duration": 3,
    "start_time": "2022-09-03T15:58:11.227Z"
   },
   {
    "duration": 40,
    "start_time": "2022-09-03T15:58:11.822Z"
   },
   {
    "duration": 47,
    "start_time": "2022-09-03T15:59:22.564Z"
   },
   {
    "duration": 58,
    "start_time": "2022-09-03T15:59:28.130Z"
   },
   {
    "duration": 50,
    "start_time": "2022-09-03T16:01:42.072Z"
   },
   {
    "duration": 38335,
    "start_time": "2022-09-03T16:01:50.859Z"
   },
   {
    "duration": 5,
    "start_time": "2022-09-03T16:02:35.693Z"
   },
   {
    "duration": 25,
    "start_time": "2022-09-03T16:02:46.920Z"
   },
   {
    "duration": 43,
    "start_time": "2022-09-03T16:02:52.662Z"
   },
   {
    "duration": 4,
    "start_time": "2022-09-03T16:02:53.374Z"
   },
   {
    "duration": 5,
    "start_time": "2022-09-03T16:02:57.021Z"
   },
   {
    "duration": 13,
    "start_time": "2022-09-03T16:03:42.651Z"
   },
   {
    "duration": 2,
    "start_time": "2022-09-03T16:03:45.406Z"
   },
   {
    "duration": 118,
    "start_time": "2022-09-03T16:03:45.758Z"
   },
   {
    "duration": 5,
    "start_time": "2022-09-03T16:03:46.226Z"
   },
   {
    "duration": 370441,
    "start_time": "2022-09-03T16:03:46.746Z"
   },
   {
    "duration": 3,
    "start_time": "2022-09-03T16:09:57.189Z"
   },
   {
    "duration": 26,
    "start_time": "2022-09-03T16:09:57.193Z"
   },
   {
    "duration": 283,
    "start_time": "2022-09-03T16:09:57.221Z"
   },
   {
    "duration": 3,
    "start_time": "2022-09-03T16:09:57.506Z"
   },
   {
    "duration": 7,
    "start_time": "2022-09-03T16:09:57.510Z"
   },
   {
    "duration": 963,
    "start_time": "2022-09-03T16:13:59.839Z"
   },
   {
    "duration": 33,
    "start_time": "2022-09-03T16:14:02.632Z"
   },
   {
    "duration": 3,
    "start_time": "2022-09-03T16:14:04.416Z"
   },
   {
    "duration": 20395,
    "start_time": "2022-09-03T16:14:05.299Z"
   },
   {
    "duration": 308,
    "start_time": "2022-09-03T16:14:25.786Z"
   },
   {
    "duration": 200,
    "start_time": "2022-09-03T16:14:26.185Z"
   },
   {
    "duration": 3,
    "start_time": "2022-09-03T16:14:26.387Z"
   },
   {
    "duration": 4,
    "start_time": "2022-09-03T16:14:29.805Z"
   },
   {
    "duration": 9,
    "start_time": "2022-09-03T16:14:30.461Z"
   },
   {
    "duration": 3,
    "start_time": "2022-09-03T16:14:56.544Z"
   },
   {
    "duration": 19109,
    "start_time": "2022-09-03T16:14:57.182Z"
   },
   {
    "duration": 3,
    "start_time": "2022-09-03T16:15:16.293Z"
   },
   {
    "duration": 194,
    "start_time": "2022-09-03T16:15:16.298Z"
   },
   {
    "duration": 92,
    "start_time": "2022-09-03T16:15:16.494Z"
   },
   {
    "duration": 68,
    "start_time": "2022-09-03T16:15:16.623Z"
   },
   {
    "duration": 0,
    "start_time": "2022-09-03T16:15:16.693Z"
   },
   {
    "duration": 13,
    "start_time": "2022-09-03T16:15:20.555Z"
   },
   {
    "duration": 19,
    "start_time": "2022-09-03T16:15:33.967Z"
   },
   {
    "duration": 1331,
    "start_time": "2022-09-03T16:16:57.537Z"
   },
   {
    "duration": 870,
    "start_time": "2022-09-03T16:16:58.870Z"
   },
   {
    "duration": 4,
    "start_time": "2022-09-03T16:16:59.742Z"
   },
   {
    "duration": 114,
    "start_time": "2022-09-03T16:16:59.747Z"
   },
   {
    "duration": 112,
    "start_time": "2022-09-03T16:16:59.863Z"
   },
   {
    "duration": 86,
    "start_time": "2022-09-03T16:16:59.977Z"
   },
   {
    "duration": 142,
    "start_time": "2022-09-03T16:17:00.065Z"
   },
   {
    "duration": 656,
    "start_time": "2022-09-03T16:17:00.209Z"
   },
   {
    "duration": 24,
    "start_time": "2022-09-03T16:17:00.867Z"
   },
   {
    "duration": 69,
    "start_time": "2022-09-03T16:17:00.893Z"
   },
   {
    "duration": 38,
    "start_time": "2022-09-03T16:17:00.964Z"
   },
   {
    "duration": 70,
    "start_time": "2022-09-03T16:17:01.004Z"
   },
   {
    "duration": 72,
    "start_time": "2022-09-03T16:17:01.075Z"
   },
   {
    "duration": 34,
    "start_time": "2022-09-03T16:17:01.151Z"
   },
   {
    "duration": 98,
    "start_time": "2022-09-03T16:17:01.187Z"
   },
   {
    "duration": 207,
    "start_time": "2022-09-03T16:17:01.287Z"
   },
   {
    "duration": 48,
    "start_time": "2022-09-03T16:17:01.496Z"
   },
   {
    "duration": 244,
    "start_time": "2022-09-03T16:17:01.546Z"
   },
   {
    "duration": 45,
    "start_time": "2022-09-03T16:17:01.792Z"
   },
   {
    "duration": 329,
    "start_time": "2022-09-03T16:17:01.839Z"
   },
   {
    "duration": 52,
    "start_time": "2022-09-03T16:17:02.170Z"
   },
   {
    "duration": 31,
    "start_time": "2022-09-03T16:17:02.224Z"
   },
   {
    "duration": 757,
    "start_time": "2022-09-03T16:17:02.257Z"
   },
   {
    "duration": 137,
    "start_time": "2022-09-03T16:17:03.016Z"
   },
   {
    "duration": 10,
    "start_time": "2022-09-03T16:17:03.154Z"
   },
   {
    "duration": 67,
    "start_time": "2022-09-03T16:17:03.165Z"
   },
   {
    "duration": 17,
    "start_time": "2022-09-03T16:17:03.233Z"
   },
   {
    "duration": 4,
    "start_time": "2022-09-03T16:17:03.252Z"
   },
   {
    "duration": 31,
    "start_time": "2022-09-03T16:17:03.258Z"
   },
   {
    "duration": 61,
    "start_time": "2022-09-03T16:17:03.292Z"
   },
   {
    "duration": 3,
    "start_time": "2022-09-03T16:17:03.354Z"
   },
   {
    "duration": 27,
    "start_time": "2022-09-03T16:17:03.359Z"
   },
   {
    "duration": 100953,
    "start_time": "2022-09-03T16:17:03.388Z"
   },
   {
    "duration": 4,
    "start_time": "2022-09-03T16:18:44.343Z"
   },
   {
    "duration": 10117,
    "start_time": "2022-09-03T16:18:44.348Z"
   },
   {
    "duration": 56,
    "start_time": "2022-09-03T16:18:54.467Z"
   },
   {
    "duration": 3,
    "start_time": "2022-09-03T16:18:54.525Z"
   },
   {
    "duration": 22,
    "start_time": "2022-09-03T16:18:54.530Z"
   },
   {
    "duration": 21,
    "start_time": "2022-09-03T16:18:54.555Z"
   },
   {
    "duration": 146,
    "start_time": "2022-09-03T16:18:54.578Z"
   },
   {
    "duration": 4,
    "start_time": "2022-09-03T16:18:54.728Z"
   },
   {
    "duration": 139164,
    "start_time": "2022-09-03T16:18:54.734Z"
   },
   {
    "duration": 3,
    "start_time": "2022-09-03T16:21:13.900Z"
   },
   {
    "duration": 83,
    "start_time": "2022-09-03T16:21:13.905Z"
   },
   {
    "duration": 194,
    "start_time": "2022-09-03T16:21:13.991Z"
   },
   {
    "duration": 4,
    "start_time": "2022-09-03T16:21:14.187Z"
   },
   {
    "duration": 1073,
    "start_time": "2022-09-03T16:21:14.192Z"
   },
   {
    "duration": 42,
    "start_time": "2022-09-03T16:21:15.267Z"
   },
   {
    "duration": 3,
    "start_time": "2022-09-03T16:21:15.312Z"
   },
   {
    "duration": 18174,
    "start_time": "2022-09-03T16:21:15.318Z"
   },
   {
    "duration": 3,
    "start_time": "2022-09-03T16:21:33.494Z"
   },
   {
    "duration": 294,
    "start_time": "2022-09-03T16:21:33.500Z"
   },
   {
    "duration": 10,
    "start_time": "2022-09-03T16:21:33.806Z"
   },
   {
    "duration": 11,
    "start_time": "2022-09-03T16:21:33.818Z"
   },
   {
    "duration": 12,
    "start_time": "2022-09-03T16:21:33.887Z"
   },
   {
    "duration": 22,
    "start_time": "2022-09-03T16:21:33.900Z"
   },
   {
    "duration": 1013,
    "start_time": "2022-09-03T16:28:14.237Z"
   },
   {
    "duration": 35,
    "start_time": "2022-09-03T16:28:18.462Z"
   },
   {
    "duration": 3,
    "start_time": "2022-09-03T16:28:20.389Z"
   },
   {
    "duration": 19219,
    "start_time": "2022-09-03T16:28:20.968Z"
   },
   {
    "duration": 5,
    "start_time": "2022-09-03T16:28:40.190Z"
   },
   {
    "duration": 264,
    "start_time": "2022-09-03T16:28:40.197Z"
   },
   {
    "duration": 0,
    "start_time": "2022-09-03T16:28:40.463Z"
   },
   {
    "duration": 0,
    "start_time": "2022-09-03T16:28:40.465Z"
   },
   {
    "duration": 0,
    "start_time": "2022-09-03T16:28:40.466Z"
   },
   {
    "duration": 18856,
    "start_time": "2022-09-03T16:29:17.934Z"
   },
   {
    "duration": 3,
    "start_time": "2022-09-03T16:29:36.795Z"
   },
   {
    "duration": 191,
    "start_time": "2022-09-03T16:29:36.800Z"
   },
   {
    "duration": 4,
    "start_time": "2022-09-03T16:29:36.995Z"
   },
   {
    "duration": 16,
    "start_time": "2022-09-03T16:29:37.086Z"
   },
   {
    "duration": 0,
    "start_time": "2022-09-03T16:29:37.104Z"
   },
   {
    "duration": 1632,
    "start_time": "2022-09-03T16:31:33.640Z"
   },
   {
    "duration": 954,
    "start_time": "2022-09-03T16:31:35.274Z"
   },
   {
    "duration": 5,
    "start_time": "2022-09-03T16:31:36.230Z"
   },
   {
    "duration": 117,
    "start_time": "2022-09-03T16:31:36.236Z"
   },
   {
    "duration": 110,
    "start_time": "2022-09-03T16:31:36.356Z"
   },
   {
    "duration": 93,
    "start_time": "2022-09-03T16:31:36.468Z"
   },
   {
    "duration": 125,
    "start_time": "2022-09-03T16:31:36.562Z"
   },
   {
    "duration": 633,
    "start_time": "2022-09-03T16:31:36.690Z"
   },
   {
    "duration": 22,
    "start_time": "2022-09-03T16:31:37.325Z"
   },
   {
    "duration": 61,
    "start_time": "2022-09-03T16:31:37.349Z"
   },
   {
    "duration": 45,
    "start_time": "2022-09-03T16:31:37.412Z"
   },
   {
    "duration": 84,
    "start_time": "2022-09-03T16:31:37.459Z"
   },
   {
    "duration": 72,
    "start_time": "2022-09-03T16:31:37.545Z"
   },
   {
    "duration": 18,
    "start_time": "2022-09-03T16:31:37.621Z"
   },
   {
    "duration": 129,
    "start_time": "2022-09-03T16:31:37.641Z"
   },
   {
    "duration": 237,
    "start_time": "2022-09-03T16:31:37.772Z"
   },
   {
    "duration": 52,
    "start_time": "2022-09-03T16:31:38.011Z"
   },
   {
    "duration": 261,
    "start_time": "2022-09-03T16:31:38.065Z"
   },
   {
    "duration": 63,
    "start_time": "2022-09-03T16:31:38.328Z"
   },
   {
    "duration": 352,
    "start_time": "2022-09-03T16:31:38.393Z"
   },
   {
    "duration": 53,
    "start_time": "2022-09-03T16:31:38.747Z"
   },
   {
    "duration": 32,
    "start_time": "2022-09-03T16:31:38.802Z"
   },
   {
    "duration": 766,
    "start_time": "2022-09-03T16:31:38.836Z"
   },
   {
    "duration": 143,
    "start_time": "2022-09-03T16:31:39.603Z"
   },
   {
    "duration": 11,
    "start_time": "2022-09-03T16:31:39.749Z"
   },
   {
    "duration": 80,
    "start_time": "2022-09-03T16:31:39.763Z"
   },
   {
    "duration": 16,
    "start_time": "2022-09-03T16:31:39.845Z"
   },
   {
    "duration": 4,
    "start_time": "2022-09-03T16:31:39.863Z"
   },
   {
    "duration": 17,
    "start_time": "2022-09-03T16:31:39.869Z"
   },
   {
    "duration": 62,
    "start_time": "2022-09-03T16:31:39.888Z"
   },
   {
    "duration": 2,
    "start_time": "2022-09-03T16:31:39.952Z"
   },
   {
    "duration": 36,
    "start_time": "2022-09-03T16:31:39.956Z"
   },
   {
    "duration": 104411,
    "start_time": "2022-09-03T16:31:39.994Z"
   },
   {
    "duration": 5,
    "start_time": "2022-09-03T16:33:24.408Z"
   },
   {
    "duration": 10217,
    "start_time": "2022-09-03T16:33:24.415Z"
   },
   {
    "duration": 55,
    "start_time": "2022-09-03T16:33:34.635Z"
   },
   {
    "duration": 3,
    "start_time": "2022-09-03T16:33:34.692Z"
   },
   {
    "duration": 15,
    "start_time": "2022-09-03T16:33:34.697Z"
   },
   {
    "duration": 6,
    "start_time": "2022-09-03T16:33:34.713Z"
   },
   {
    "duration": 116,
    "start_time": "2022-09-03T16:33:34.720Z"
   },
   {
    "duration": 3,
    "start_time": "2022-09-03T16:33:34.841Z"
   },
   {
    "duration": 193950,
    "start_time": "2022-09-03T16:33:34.845Z"
   },
   {
    "duration": 3,
    "start_time": "2022-09-03T16:36:48.797Z"
   },
   {
    "duration": 86,
    "start_time": "2022-09-03T16:36:48.802Z"
   },
   {
    "duration": 112,
    "start_time": "2022-09-03T16:36:48.890Z"
   },
   {
    "duration": 83,
    "start_time": "2022-09-03T16:36:49.003Z"
   },
   {
    "duration": 1012,
    "start_time": "2022-09-03T16:36:49.088Z"
   },
   {
    "duration": 45,
    "start_time": "2022-09-03T16:36:50.102Z"
   },
   {
    "duration": 2,
    "start_time": "2022-09-03T16:36:50.148Z"
   },
   {
    "duration": 18739,
    "start_time": "2022-09-03T16:36:50.152Z"
   },
   {
    "duration": 3,
    "start_time": "2022-09-03T16:37:08.893Z"
   },
   {
    "duration": 287,
    "start_time": "2022-09-03T16:37:08.898Z"
   },
   {
    "duration": 3,
    "start_time": "2022-09-03T16:37:09.187Z"
   },
   {
    "duration": 27,
    "start_time": "2022-09-03T16:37:09.192Z"
   },
   {
    "duration": 16,
    "start_time": "2022-09-03T16:37:09.220Z"
   },
   {
    "duration": 9,
    "start_time": "2022-09-03T16:37:09.237Z"
   },
   {
    "duration": 10274,
    "start_time": "2022-09-03T16:37:09.248Z"
   },
   {
    "duration": 55,
    "start_time": "2022-09-03T16:37:19.524Z"
   },
   {
    "duration": 4,
    "start_time": "2022-09-03T16:37:19.581Z"
   },
   {
    "duration": 9,
    "start_time": "2022-09-03T16:37:19.587Z"
   },
   {
    "duration": 1504,
    "start_time": "2022-09-03T16:40:49.565Z"
   },
   {
    "duration": 901,
    "start_time": "2022-09-03T16:40:51.071Z"
   },
   {
    "duration": 5,
    "start_time": "2022-09-03T16:40:51.974Z"
   },
   {
    "duration": 111,
    "start_time": "2022-09-03T16:40:51.985Z"
   },
   {
    "duration": 163,
    "start_time": "2022-09-03T16:40:52.098Z"
   },
   {
    "duration": 89,
    "start_time": "2022-09-03T16:40:52.263Z"
   },
   {
    "duration": 108,
    "start_time": "2022-09-03T16:40:52.353Z"
   },
   {
    "duration": 631,
    "start_time": "2022-09-03T16:40:52.463Z"
   },
   {
    "duration": 21,
    "start_time": "2022-09-03T16:40:53.095Z"
   },
   {
    "duration": 49,
    "start_time": "2022-09-03T16:40:53.118Z"
   },
   {
    "duration": 34,
    "start_time": "2022-09-03T16:40:53.185Z"
   },
   {
    "duration": 78,
    "start_time": "2022-09-03T16:40:53.220Z"
   },
   {
    "duration": 57,
    "start_time": "2022-09-03T16:40:53.300Z"
   },
   {
    "duration": 31,
    "start_time": "2022-09-03T16:40:53.359Z"
   },
   {
    "duration": 106,
    "start_time": "2022-09-03T16:40:53.392Z"
   },
   {
    "duration": 204,
    "start_time": "2022-09-03T16:40:53.500Z"
   },
   {
    "duration": 48,
    "start_time": "2022-09-03T16:40:53.705Z"
   },
   {
    "duration": 227,
    "start_time": "2022-09-03T16:40:53.754Z"
   },
   {
    "duration": 47,
    "start_time": "2022-09-03T16:40:53.984Z"
   },
   {
    "duration": 339,
    "start_time": "2022-09-03T16:40:54.033Z"
   },
   {
    "duration": 58,
    "start_time": "2022-09-03T16:40:54.374Z"
   },
   {
    "duration": 35,
    "start_time": "2022-09-03T16:40:54.434Z"
   },
   {
    "duration": 786,
    "start_time": "2022-09-03T16:40:54.484Z"
   },
   {
    "duration": 148,
    "start_time": "2022-09-03T16:40:55.272Z"
   },
   {
    "duration": 11,
    "start_time": "2022-09-03T16:40:55.422Z"
   },
   {
    "duration": 105,
    "start_time": "2022-09-03T16:40:55.435Z"
   },
   {
    "duration": 17,
    "start_time": "2022-09-03T16:40:55.543Z"
   },
   {
    "duration": 4,
    "start_time": "2022-09-03T16:40:55.565Z"
   },
   {
    "duration": 4,
    "start_time": "2022-09-03T16:40:55.585Z"
   },
   {
    "duration": 62,
    "start_time": "2022-09-03T16:40:55.591Z"
   },
   {
    "duration": 3,
    "start_time": "2022-09-03T16:40:55.656Z"
   },
   {
    "duration": 36,
    "start_time": "2022-09-03T16:40:55.661Z"
   },
   {
    "duration": 102752,
    "start_time": "2022-09-03T16:40:55.699Z"
   },
   {
    "duration": 4,
    "start_time": "2022-09-03T16:42:38.453Z"
   },
   {
    "duration": 10241,
    "start_time": "2022-09-03T16:42:38.460Z"
   },
   {
    "duration": 48,
    "start_time": "2022-09-03T16:42:48.703Z"
   },
   {
    "duration": 3,
    "start_time": "2022-09-03T16:42:48.753Z"
   },
   {
    "duration": 8,
    "start_time": "2022-09-03T16:42:48.757Z"
   },
   {
    "duration": 19,
    "start_time": "2022-09-03T16:42:48.767Z"
   },
   {
    "duration": 112,
    "start_time": "2022-09-03T16:42:48.787Z"
   },
   {
    "duration": 2,
    "start_time": "2022-09-03T16:42:48.901Z"
   },
   {
    "duration": 150691,
    "start_time": "2022-09-03T16:42:48.905Z"
   },
   {
    "duration": 3,
    "start_time": "2022-09-03T16:45:19.599Z"
   },
   {
    "duration": 92,
    "start_time": "2022-09-03T16:45:19.604Z"
   },
   {
    "duration": 190,
    "start_time": "2022-09-03T16:45:19.698Z"
   },
   {
    "duration": 3,
    "start_time": "2022-09-03T16:45:19.890Z"
   },
   {
    "duration": 991,
    "start_time": "2022-09-03T16:45:19.895Z"
   },
   {
    "duration": 40,
    "start_time": "2022-09-03T16:45:20.888Z"
   },
   {
    "duration": 3,
    "start_time": "2022-09-03T16:45:20.930Z"
   },
   {
    "duration": 18059,
    "start_time": "2022-09-03T16:45:20.935Z"
   },
   {
    "duration": 2,
    "start_time": "2022-09-03T16:45:38.996Z"
   },
   {
    "duration": 192,
    "start_time": "2022-09-03T16:45:38.999Z"
   },
   {
    "duration": 4,
    "start_time": "2022-09-03T16:45:39.194Z"
   },
   {
    "duration": 7,
    "start_time": "2022-09-03T16:45:39.286Z"
   },
   {
    "duration": 91,
    "start_time": "2022-09-03T16:45:39.295Z"
   },
   {
    "duration": 9,
    "start_time": "2022-09-03T16:45:39.388Z"
   },
   {
    "duration": 10322,
    "start_time": "2022-09-03T16:45:39.399Z"
   },
   {
    "duration": 57,
    "start_time": "2022-09-03T16:45:49.723Z"
   },
   {
    "duration": 7,
    "start_time": "2022-09-03T16:45:49.782Z"
   },
   {
    "duration": 18,
    "start_time": "2022-09-03T16:45:49.790Z"
   },
   {
    "duration": 46,
    "start_time": "2022-09-04T20:12:47.683Z"
   },
   {
    "duration": 1574,
    "start_time": "2022-09-04T20:14:23.185Z"
   },
   {
    "duration": 1267,
    "start_time": "2022-09-04T20:14:24.762Z"
   },
   {
    "duration": 4,
    "start_time": "2022-09-04T20:14:26.031Z"
   },
   {
    "duration": 123,
    "start_time": "2022-09-04T20:14:26.038Z"
   },
   {
    "duration": 178,
    "start_time": "2022-09-04T20:14:26.164Z"
   },
   {
    "duration": 115,
    "start_time": "2022-09-04T20:14:26.344Z"
   },
   {
    "duration": 234,
    "start_time": "2022-09-04T20:14:26.462Z"
   },
   {
    "duration": 678,
    "start_time": "2022-09-04T20:14:26.698Z"
   },
   {
    "duration": 28,
    "start_time": "2022-09-04T20:14:27.378Z"
   },
   {
    "duration": 50,
    "start_time": "2022-09-04T20:14:27.409Z"
   },
   {
    "duration": 47,
    "start_time": "2022-09-04T20:14:27.460Z"
   },
   {
    "duration": 108,
    "start_time": "2022-09-04T20:14:27.509Z"
   },
   {
    "duration": 68,
    "start_time": "2022-09-04T20:14:27.619Z"
   },
   {
    "duration": 13,
    "start_time": "2022-09-04T20:14:27.689Z"
   },
   {
    "duration": 90,
    "start_time": "2022-09-04T20:14:27.703Z"
   },
   {
    "duration": 195,
    "start_time": "2022-09-04T20:14:27.795Z"
   },
   {
    "duration": 47,
    "start_time": "2022-09-04T20:14:27.992Z"
   },
   {
    "duration": 267,
    "start_time": "2022-09-04T20:14:28.041Z"
   },
   {
    "duration": 41,
    "start_time": "2022-09-04T20:14:28.310Z"
   },
   {
    "duration": 289,
    "start_time": "2022-09-04T20:14:28.354Z"
   },
   {
    "duration": 51,
    "start_time": "2022-09-04T20:14:28.644Z"
   },
   {
    "duration": 30,
    "start_time": "2022-09-04T20:14:28.696Z"
   },
   {
    "duration": 656,
    "start_time": "2022-09-04T20:14:28.727Z"
   },
   {
    "duration": 148,
    "start_time": "2022-09-04T20:14:29.385Z"
   },
   {
    "duration": 9,
    "start_time": "2022-09-04T20:14:29.534Z"
   },
   {
    "duration": 64,
    "start_time": "2022-09-04T20:14:29.544Z"
   },
   {
    "duration": 15,
    "start_time": "2022-09-04T20:14:29.609Z"
   },
   {
    "duration": 4,
    "start_time": "2022-09-04T20:14:29.627Z"
   },
   {
    "duration": 6,
    "start_time": "2022-09-04T20:14:29.633Z"
   },
   {
    "duration": 83,
    "start_time": "2022-09-04T20:14:29.640Z"
   },
   {
    "duration": 2,
    "start_time": "2022-09-04T20:14:29.725Z"
   },
   {
    "duration": 12,
    "start_time": "2022-09-04T20:14:29.729Z"
   },
   {
    "duration": 95184,
    "start_time": "2022-09-04T20:14:29.743Z"
   },
   {
    "duration": 4,
    "start_time": "2022-09-04T20:16:04.929Z"
   },
   {
    "duration": 9644,
    "start_time": "2022-09-04T20:16:04.934Z"
   },
   {
    "duration": 44,
    "start_time": "2022-09-04T20:16:14.580Z"
   },
   {
    "duration": 2,
    "start_time": "2022-09-04T20:16:14.626Z"
   },
   {
    "duration": 6,
    "start_time": "2022-09-04T20:16:14.630Z"
   },
   {
    "duration": 6,
    "start_time": "2022-09-04T20:16:14.638Z"
   },
   {
    "duration": 111,
    "start_time": "2022-09-04T20:16:14.646Z"
   },
   {
    "duration": 3,
    "start_time": "2022-09-04T20:16:14.759Z"
   },
   {
    "duration": 2634,
    "start_time": "2022-09-04T20:16:14.763Z"
   },
   {
    "duration": 2,
    "start_time": "2022-09-04T20:16:17.399Z"
   },
   {
    "duration": 25,
    "start_time": "2022-09-04T20:16:17.486Z"
   },
   {
    "duration": 177,
    "start_time": "2022-09-04T20:16:17.513Z"
   },
   {
    "duration": 2,
    "start_time": "2022-09-04T20:16:17.692Z"
   },
   {
    "duration": 863,
    "start_time": "2022-09-04T20:16:17.696Z"
   },
   {
    "duration": 42,
    "start_time": "2022-09-04T20:16:18.561Z"
   },
   {
    "duration": 3,
    "start_time": "2022-09-04T20:16:18.604Z"
   },
   {
    "duration": 15598,
    "start_time": "2022-09-04T20:16:18.608Z"
   },
   {
    "duration": 4,
    "start_time": "2022-09-04T20:16:34.208Z"
   },
   {
    "duration": 90,
    "start_time": "2022-09-04T20:16:34.214Z"
   },
   {
    "duration": 3,
    "start_time": "2022-09-04T20:16:34.307Z"
   },
   {
    "duration": 111,
    "start_time": "2022-09-04T20:16:34.389Z"
   },
   {
    "duration": 27,
    "start_time": "2022-09-04T20:16:34.502Z"
   },
   {
    "duration": 5,
    "start_time": "2022-09-04T20:16:34.531Z"
   },
   {
    "duration": 9305,
    "start_time": "2022-09-04T20:16:34.538Z"
   },
   {
    "duration": 48,
    "start_time": "2022-09-04T20:16:43.844Z"
   },
   {
    "duration": 3,
    "start_time": "2022-09-04T20:16:43.894Z"
   },
   {
    "duration": 9,
    "start_time": "2022-09-04T20:16:43.899Z"
   },
   {
    "duration": 3,
    "start_time": "2022-09-04T20:19:49.490Z"
   },
   {
    "duration": 109,
    "start_time": "2022-09-04T20:19:50.272Z"
   },
   {
    "duration": 2,
    "start_time": "2022-09-04T20:20:13.319Z"
   },
   {
    "duration": 94,
    "start_time": "2022-09-04T20:20:13.823Z"
   },
   {
    "duration": 3,
    "start_time": "2022-09-04T20:20:14.740Z"
   },
   {
    "duration": 3,
    "start_time": "2022-09-04T20:22:15.643Z"
   },
   {
    "duration": 93,
    "start_time": "2022-09-04T20:22:16.047Z"
   },
   {
    "duration": 3,
    "start_time": "2022-09-04T20:22:16.522Z"
   },
   {
    "duration": 1951,
    "start_time": "2022-09-04T20:22:17.039Z"
   },
   {
    "duration": 21,
    "start_time": "2022-09-04T20:22:20.703Z"
   },
   {
    "duration": 33,
    "start_time": "2022-09-04T20:23:32.388Z"
   },
   {
    "duration": 121,
    "start_time": "2022-09-04T20:23:33.177Z"
   },
   {
    "duration": 4,
    "start_time": "2022-09-04T20:23:43.730Z"
   },
   {
    "duration": 4,
    "start_time": "2022-09-04T20:24:26.201Z"
   },
   {
    "duration": 91,
    "start_time": "2022-09-04T20:24:26.720Z"
   },
   {
    "duration": 3,
    "start_time": "2022-09-04T20:24:27.252Z"
   },
   {
    "duration": 1664,
    "start_time": "2022-09-04T20:25:01.730Z"
   },
   {
    "duration": 870,
    "start_time": "2022-09-04T20:25:03.396Z"
   },
   {
    "duration": 3,
    "start_time": "2022-09-04T20:25:04.268Z"
   },
   {
    "duration": 110,
    "start_time": "2022-09-04T20:25:04.273Z"
   },
   {
    "duration": 129,
    "start_time": "2022-09-04T20:25:04.384Z"
   },
   {
    "duration": 107,
    "start_time": "2022-09-04T20:25:04.515Z"
   },
   {
    "duration": 126,
    "start_time": "2022-09-04T20:25:04.624Z"
   },
   {
    "duration": 626,
    "start_time": "2022-09-04T20:25:04.752Z"
   },
   {
    "duration": 26,
    "start_time": "2022-09-04T20:25:05.379Z"
   },
   {
    "duration": 58,
    "start_time": "2022-09-04T20:25:05.407Z"
   },
   {
    "duration": 45,
    "start_time": "2022-09-04T20:25:05.467Z"
   },
   {
    "duration": 98,
    "start_time": "2022-09-04T20:25:05.513Z"
   },
   {
    "duration": 57,
    "start_time": "2022-09-04T20:25:05.612Z"
   },
   {
    "duration": 27,
    "start_time": "2022-09-04T20:25:05.671Z"
   },
   {
    "duration": 100,
    "start_time": "2022-09-04T20:25:05.700Z"
   },
   {
    "duration": 212,
    "start_time": "2022-09-04T20:25:05.801Z"
   },
   {
    "duration": 50,
    "start_time": "2022-09-04T20:25:06.015Z"
   },
   {
    "duration": 265,
    "start_time": "2022-09-04T20:25:06.067Z"
   },
   {
    "duration": 55,
    "start_time": "2022-09-04T20:25:06.334Z"
   },
   {
    "duration": 342,
    "start_time": "2022-09-04T20:25:06.391Z"
   },
   {
    "duration": 39,
    "start_time": "2022-09-04T20:25:06.735Z"
   },
   {
    "duration": 29,
    "start_time": "2022-09-04T20:25:06.786Z"
   },
   {
    "duration": 696,
    "start_time": "2022-09-04T20:25:06.817Z"
   },
   {
    "duration": 153,
    "start_time": "2022-09-04T20:25:07.515Z"
   },
   {
    "duration": 19,
    "start_time": "2022-09-04T20:25:07.670Z"
   },
   {
    "duration": 62,
    "start_time": "2022-09-04T20:25:07.691Z"
   },
   {
    "duration": 32,
    "start_time": "2022-09-04T20:25:07.755Z"
   },
   {
    "duration": 4,
    "start_time": "2022-09-04T20:25:07.790Z"
   },
   {
    "duration": 7,
    "start_time": "2022-09-04T20:25:07.796Z"
   },
   {
    "duration": 68,
    "start_time": "2022-09-04T20:25:07.804Z"
   },
   {
    "duration": 3,
    "start_time": "2022-09-04T20:25:07.874Z"
   },
   {
    "duration": 21,
    "start_time": "2022-09-04T20:25:07.887Z"
   },
   {
    "duration": 96939,
    "start_time": "2022-09-04T20:25:07.910Z"
   },
   {
    "duration": 4,
    "start_time": "2022-09-04T20:26:44.850Z"
   },
   {
    "duration": 10425,
    "start_time": "2022-09-04T20:26:44.856Z"
   },
   {
    "duration": 43,
    "start_time": "2022-09-04T20:26:55.282Z"
   },
   {
    "duration": 2,
    "start_time": "2022-09-04T20:26:55.327Z"
   },
   {
    "duration": 6,
    "start_time": "2022-09-04T20:26:55.331Z"
   },
   {
    "duration": 4,
    "start_time": "2022-09-04T20:26:55.339Z"
   },
   {
    "duration": 112,
    "start_time": "2022-09-04T20:26:55.345Z"
   },
   {
    "duration": 3,
    "start_time": "2022-09-04T20:26:55.459Z"
   },
   {
    "duration": 7326,
    "start_time": "2022-09-04T20:26:55.463Z"
   },
   {
    "duration": 3,
    "start_time": "2022-09-04T20:27:02.791Z"
   },
   {
    "duration": 27,
    "start_time": "2022-09-04T20:27:02.796Z"
   },
   {
    "duration": 166,
    "start_time": "2022-09-04T20:27:02.825Z"
   },
   {
    "duration": 3,
    "start_time": "2022-09-04T20:27:02.992Z"
   },
   {
    "duration": 865,
    "start_time": "2022-09-04T20:27:02.996Z"
   },
   {
    "duration": 40,
    "start_time": "2022-09-04T20:27:03.863Z"
   },
   {
    "duration": 3,
    "start_time": "2022-09-04T20:27:03.904Z"
   },
   {
    "duration": 15880,
    "start_time": "2022-09-04T20:27:03.909Z"
   },
   {
    "duration": 3,
    "start_time": "2022-09-04T20:27:19.791Z"
   },
   {
    "duration": 191,
    "start_time": "2022-09-04T20:27:19.795Z"
   },
   {
    "duration": 3,
    "start_time": "2022-09-04T20:27:19.989Z"
   },
   {
    "duration": 105,
    "start_time": "2022-09-04T20:27:19.994Z"
   },
   {
    "duration": 12,
    "start_time": "2022-09-04T20:27:20.101Z"
   },
   {
    "duration": 14,
    "start_time": "2022-09-04T20:27:20.114Z"
   },
   {
    "duration": 116,
    "start_time": "2022-09-04T20:27:20.129Z"
   },
   {
    "duration": 3,
    "start_time": "2022-09-04T20:27:20.247Z"
   },
   {
    "duration": 2141,
    "start_time": "2022-09-04T20:27:20.252Z"
   },
   {
    "duration": 22,
    "start_time": "2022-09-04T20:27:22.396Z"
   },
   {
    "duration": 180,
    "start_time": "2022-09-04T20:27:22.420Z"
   },
   {
    "duration": 4,
    "start_time": "2022-09-04T20:27:22.602Z"
   },
   {
    "duration": 9,
    "start_time": "2022-09-04T20:27:22.607Z"
   }
  ],
  "kernelspec": {
   "display_name": "Python 3 (ipykernel)",
   "language": "python",
   "name": "python3"
  },
  "language_info": {
   "codemirror_mode": {
    "name": "ipython",
    "version": 3
   },
   "file_extension": ".py",
   "mimetype": "text/x-python",
   "name": "python",
   "nbconvert_exporter": "python",
   "pygments_lexer": "ipython3",
   "version": "3.9.7"
  },
  "toc": {
   "base_numbering": 1,
   "nav_menu": {},
   "number_sections": true,
   "sideBar": true,
   "skip_h1_title": true,
   "title_cell": "Table of Contents",
   "title_sidebar": "Contents",
   "toc_cell": false,
   "toc_position": {},
   "toc_section_display": true,
   "toc_window_display": true
  }
 },
 "nbformat": 4,
 "nbformat_minor": 2
}
