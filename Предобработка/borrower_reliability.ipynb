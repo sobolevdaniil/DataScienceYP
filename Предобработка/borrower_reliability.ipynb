{
 "cells": [
  {
   "cell_type": "markdown",
   "metadata": {},
   "source": [
    "# Исследование надёжности заёмщиков\n",
    "\n",
    "Заказчик — кредитный отдел банка. Нужно разобраться, влияет ли семейное положение и количество детей клиента на факт погашения кредита в срок. Входные данные от банка — статистика о платёжеспособности клиентов.\n",
    "\n",
    "Результаты исследования будут учтены при построении модели **кредитного скоринга** — специальной системы, которая оценивает способность потенциального заёмщика вернуть кредит банку."
   ]
  },
  {
   "cell_type": "markdown",
   "metadata": {},
   "source": [
    "## Импорт необходимых библиотек"
   ]
  },
  {
   "cell_type": "code",
   "execution_count": 1,
   "metadata": {},
   "outputs": [],
   "source": [
    "import pandas as pd\n",
    "from pymystem3 import Mystem"
   ]
  },
  {
   "cell_type": "markdown",
   "metadata": {},
   "source": [
    "## Изучение датасета"
   ]
  },
  {
   "cell_type": "code",
   "execution_count": 2,
   "metadata": {
    "scrolled": true
   },
   "outputs": [
    {
     "data": {
      "text/html": [
       "<div>\n",
       "<style scoped>\n",
       "    .dataframe tbody tr th:only-of-type {\n",
       "        vertical-align: middle;\n",
       "    }\n",
       "\n",
       "    .dataframe tbody tr th {\n",
       "        vertical-align: top;\n",
       "    }\n",
       "\n",
       "    .dataframe thead th {\n",
       "        text-align: right;\n",
       "    }\n",
       "</style>\n",
       "<table border=\"1\" class=\"dataframe\">\n",
       "  <thead>\n",
       "    <tr style=\"text-align: right;\">\n",
       "      <th></th>\n",
       "      <th>children</th>\n",
       "      <th>days_employed</th>\n",
       "      <th>dob_years</th>\n",
       "      <th>education</th>\n",
       "      <th>education_id</th>\n",
       "      <th>family_status</th>\n",
       "      <th>family_status_id</th>\n",
       "      <th>gender</th>\n",
       "      <th>income_type</th>\n",
       "      <th>debt</th>\n",
       "      <th>total_income</th>\n",
       "      <th>purpose</th>\n",
       "    </tr>\n",
       "  </thead>\n",
       "  <tbody>\n",
       "    <tr>\n",
       "      <th>0</th>\n",
       "      <td>1</td>\n",
       "      <td>-8437.673028</td>\n",
       "      <td>42</td>\n",
       "      <td>высшее</td>\n",
       "      <td>0</td>\n",
       "      <td>женат / замужем</td>\n",
       "      <td>0</td>\n",
       "      <td>F</td>\n",
       "      <td>сотрудник</td>\n",
       "      <td>0</td>\n",
       "      <td>253875.639453</td>\n",
       "      <td>покупка жилья</td>\n",
       "    </tr>\n",
       "    <tr>\n",
       "      <th>1</th>\n",
       "      <td>1</td>\n",
       "      <td>-4024.803754</td>\n",
       "      <td>36</td>\n",
       "      <td>среднее</td>\n",
       "      <td>1</td>\n",
       "      <td>женат / замужем</td>\n",
       "      <td>0</td>\n",
       "      <td>F</td>\n",
       "      <td>сотрудник</td>\n",
       "      <td>0</td>\n",
       "      <td>112080.014102</td>\n",
       "      <td>приобретение автомобиля</td>\n",
       "    </tr>\n",
       "    <tr>\n",
       "      <th>2</th>\n",
       "      <td>0</td>\n",
       "      <td>-5623.422610</td>\n",
       "      <td>33</td>\n",
       "      <td>Среднее</td>\n",
       "      <td>1</td>\n",
       "      <td>женат / замужем</td>\n",
       "      <td>0</td>\n",
       "      <td>M</td>\n",
       "      <td>сотрудник</td>\n",
       "      <td>0</td>\n",
       "      <td>145885.952297</td>\n",
       "      <td>покупка жилья</td>\n",
       "    </tr>\n",
       "    <tr>\n",
       "      <th>3</th>\n",
       "      <td>3</td>\n",
       "      <td>-4124.747207</td>\n",
       "      <td>32</td>\n",
       "      <td>среднее</td>\n",
       "      <td>1</td>\n",
       "      <td>женат / замужем</td>\n",
       "      <td>0</td>\n",
       "      <td>M</td>\n",
       "      <td>сотрудник</td>\n",
       "      <td>0</td>\n",
       "      <td>267628.550329</td>\n",
       "      <td>дополнительное образование</td>\n",
       "    </tr>\n",
       "    <tr>\n",
       "      <th>4</th>\n",
       "      <td>0</td>\n",
       "      <td>340266.072047</td>\n",
       "      <td>53</td>\n",
       "      <td>среднее</td>\n",
       "      <td>1</td>\n",
       "      <td>гражданский брак</td>\n",
       "      <td>1</td>\n",
       "      <td>F</td>\n",
       "      <td>пенсионер</td>\n",
       "      <td>0</td>\n",
       "      <td>158616.077870</td>\n",
       "      <td>сыграть свадьбу</td>\n",
       "    </tr>\n",
       "  </tbody>\n",
       "</table>\n",
       "</div>"
      ],
      "text/plain": [
       "   children  days_employed  dob_years education  education_id  \\\n",
       "0         1   -8437.673028         42    высшее             0   \n",
       "1         1   -4024.803754         36   среднее             1   \n",
       "2         0   -5623.422610         33   Среднее             1   \n",
       "3         3   -4124.747207         32   среднее             1   \n",
       "4         0  340266.072047         53   среднее             1   \n",
       "\n",
       "      family_status  family_status_id gender income_type  debt   total_income  \\\n",
       "0   женат / замужем                 0      F   сотрудник     0  253875.639453   \n",
       "1   женат / замужем                 0      F   сотрудник     0  112080.014102   \n",
       "2   женат / замужем                 0      M   сотрудник     0  145885.952297   \n",
       "3   женат / замужем                 0      M   сотрудник     0  267628.550329   \n",
       "4  гражданский брак                 1      F   пенсионер     0  158616.077870   \n",
       "\n",
       "                      purpose  \n",
       "0               покупка жилья  \n",
       "1     приобретение автомобиля  \n",
       "2               покупка жилья  \n",
       "3  дополнительное образование  \n",
       "4             сыграть свадьбу  "
      ]
     },
     "metadata": {},
     "output_type": "display_data"
    }
   ],
   "source": [
    "df = pd.read_csv('/Users/daniilsobolev/Desktop/ml projects/Предобработка/preprocessing_data.csv')\n",
    "display(df.head())"
   ]
  },
  {
   "cell_type": "markdown",
   "metadata": {},
   "source": [
    "### Описание данных <br>\n",
    "\n",
    "**children** — количество детей в семье <br>\n",
    "**days_employed** — общий трудовой стаж в днях<br>\n",
    "**dob_years** — возраст клиента в годах<br>\n",
    "**education** — уровень образования клиента<br>\n",
    "**education_id** — идентификатор уровня образования<br>\n",
    "**family_status** — семейное положение<br>\n",
    "**family_status_id** — идентификатор семейного положения<br>\n",
    "**gender** — пол клиента<br>\n",
    "**income_type** — тип занятости<br>\n",
    "**debt** — имел ли задолженность по возврату кредитов<br>\n",
    "**total_income** — ежемесячный доход<br>\n",
    "**purpose** — цель получения кредита<br>"
   ]
  },
  {
   "cell_type": "code",
   "execution_count": 3,
   "metadata": {},
   "outputs": [
    {
     "name": "stdout",
     "output_type": "stream",
     "text": [
      "<class 'pandas.core.frame.DataFrame'>\n",
      "RangeIndex: 21525 entries, 0 to 21524\n",
      "Data columns (total 12 columns):\n",
      " #   Column            Non-Null Count  Dtype  \n",
      "---  ------            --------------  -----  \n",
      " 0   children          21525 non-null  int64  \n",
      " 1   days_employed     19351 non-null  float64\n",
      " 2   dob_years         21525 non-null  int64  \n",
      " 3   education         21525 non-null  object \n",
      " 4   education_id      21525 non-null  int64  \n",
      " 5   family_status     21525 non-null  object \n",
      " 6   family_status_id  21525 non-null  int64  \n",
      " 7   gender            21525 non-null  object \n",
      " 8   income_type       21525 non-null  object \n",
      " 9   debt              21525 non-null  int64  \n",
      " 10  total_income      19351 non-null  float64\n",
      " 11  purpose           21525 non-null  object \n",
      "dtypes: float64(2), int64(5), object(5)\n",
      "memory usage: 2.0+ MB\n"
     ]
    }
   ],
   "source": [
    "df.info()"
   ]
  },
  {
   "cell_type": "markdown",
   "metadata": {},
   "source": [
    "### Вывод:<br>\n",
    "\n",
    "Итак, в таблице двенадцать столбцов. <br>\n",
    "В каждой строке таблицы — данные о клиентах. \n",
    "\n",
    "__Каждый столбец описывает:__<br>\n",
    "1) Личные данные заёмщика: _общий трудовой стаж в днях, возраст в годах, уровень образования, пол, тип занятости, ежемесячный доход, была ли задолженность по возврату кредитов_; <br>\n",
    "2) Семейное положение: _количество детей в семье, семейный статус_;<br>\n",
    "3) Цель займа: _цель получения кредита_. <br>\n",
    "_Остальные столбцы являются идентификаторами других: идентификатор уровня образования, идентификатор семейного положения._<br> \n",
    "\n",
    "Предварительно можно утверждать, что, данных достаточно для проверки гипотез. Но встречаются пропуски в данных. Также необходимо проверить данные на наличие дубликатов. Названия столбцов записаны корректно.\n",
    "\n",
    "Первое, что сделаем, устраним проблемы в данных.<br> \n",
    "Далее проанализируем данные, чтобы разобраться, влияет ли семейное положение и количество детей клиента на факт погашения кредита в срок."
   ]
  },
  {
   "cell_type": "markdown",
   "metadata": {},
   "source": [
    "## Шаг 2. Предобработка данных"
   ]
  },
  {
   "cell_type": "markdown",
   "metadata": {},
   "source": [
    "### Подготовим таблицу к работе"
   ]
  },
  {
   "cell_type": "markdown",
   "metadata": {},
   "source": [
    "Первое, что сделаем - поменяем в столбцах типа string все буквы на строчные"
   ]
  },
  {
   "cell_type": "code",
   "execution_count": 4,
   "metadata": {},
   "outputs": [],
   "source": [
    "column_object = ['education', 'family_status', 'gender', 'income_type', 'purpose']\n",
    "\n",
    "for name in column_object:\n",
    "    df[name] = df[name].str.lower()"
   ]
  },
  {
   "cell_type": "markdown",
   "metadata": {},
   "source": [
    "Второе, что бросается в глаза - отрицательные значения в столбце days_employed. Исправим на абсолютные."
   ]
  },
  {
   "cell_type": "code",
   "execution_count": 5,
   "metadata": {},
   "outputs": [],
   "source": [
    "df['days_employed'] = df['days_employed'].abs()"
   ]
  },
  {
   "cell_type": "markdown",
   "metadata": {},
   "source": [
    "Третье, что бросается в глаза - очень большой стаж у пенсионера в 5 строке. Настолько большой, что превышает годы жизни.<br>\n",
    "Проверим, у всех ли пинсонеров встречается такое."
   ]
  },
  {
   "cell_type": "code",
   "execution_count": 6,
   "metadata": {},
   "outputs": [
    {
     "data": {
      "text/html": [
       "<div>\n",
       "<style scoped>\n",
       "    .dataframe tbody tr th:only-of-type {\n",
       "        vertical-align: middle;\n",
       "    }\n",
       "\n",
       "    .dataframe tbody tr th {\n",
       "        vertical-align: top;\n",
       "    }\n",
       "\n",
       "    .dataframe thead th {\n",
       "        text-align: right;\n",
       "    }\n",
       "</style>\n",
       "<table border=\"1\" class=\"dataframe\">\n",
       "  <thead>\n",
       "    <tr style=\"text-align: right;\">\n",
       "      <th></th>\n",
       "      <th>days_employed</th>\n",
       "    </tr>\n",
       "    <tr>\n",
       "      <th>dob_years</th>\n",
       "      <th></th>\n",
       "    </tr>\n",
       "  </thead>\n",
       "  <tbody>\n",
       "    <tr>\n",
       "      <th>56</th>\n",
       "      <td>6850.179463</td>\n",
       "    </tr>\n",
       "    <tr>\n",
       "      <th>57</th>\n",
       "      <td>333953.491811</td>\n",
       "    </tr>\n",
       "    <tr>\n",
       "      <th>58</th>\n",
       "      <td>331245.976666</td>\n",
       "    </tr>\n",
       "    <tr>\n",
       "      <th>59</th>\n",
       "      <td>344372.337365</td>\n",
       "    </tr>\n",
       "    <tr>\n",
       "      <th>60</th>\n",
       "      <td>349414.537285</td>\n",
       "    </tr>\n",
       "    <tr>\n",
       "      <th>61</th>\n",
       "      <td>343984.931910</td>\n",
       "    </tr>\n",
       "    <tr>\n",
       "      <th>62</th>\n",
       "      <td>354981.718187</td>\n",
       "    </tr>\n",
       "    <tr>\n",
       "      <th>63</th>\n",
       "      <td>358482.295938</td>\n",
       "    </tr>\n",
       "    <tr>\n",
       "      <th>64</th>\n",
       "      <td>355781.562599</td>\n",
       "    </tr>\n",
       "    <tr>\n",
       "      <th>65</th>\n",
       "      <td>357103.967291</td>\n",
       "    </tr>\n",
       "    <tr>\n",
       "      <th>66</th>\n",
       "      <td>363827.438951</td>\n",
       "    </tr>\n",
       "    <tr>\n",
       "      <th>67</th>\n",
       "      <td>357222.855215</td>\n",
       "    </tr>\n",
       "    <tr>\n",
       "      <th>68</th>\n",
       "      <td>365278.194581</td>\n",
       "    </tr>\n",
       "    <tr>\n",
       "      <th>69</th>\n",
       "      <td>362313.375280</td>\n",
       "    </tr>\n",
       "    <tr>\n",
       "      <th>70</th>\n",
       "      <td>362787.772498</td>\n",
       "    </tr>\n",
       "    <tr>\n",
       "      <th>71</th>\n",
       "      <td>359700.938607</td>\n",
       "    </tr>\n",
       "    <tr>\n",
       "      <th>72</th>\n",
       "      <td>367378.973169</td>\n",
       "    </tr>\n",
       "    <tr>\n",
       "      <th>73</th>\n",
       "      <td>364291.049263</td>\n",
       "    </tr>\n",
       "    <tr>\n",
       "      <th>74</th>\n",
       "      <td>343075.981127</td>\n",
       "    </tr>\n",
       "    <tr>\n",
       "      <th>75</th>\n",
       "      <td>1678.969771</td>\n",
       "    </tr>\n",
       "  </tbody>\n",
       "</table>\n",
       "</div>"
      ],
      "text/plain": [
       "           days_employed\n",
       "dob_years               \n",
       "56           6850.179463\n",
       "57         333953.491811\n",
       "58         331245.976666\n",
       "59         344372.337365\n",
       "60         349414.537285\n",
       "61         343984.931910\n",
       "62         354981.718187\n",
       "63         358482.295938\n",
       "64         355781.562599\n",
       "65         357103.967291\n",
       "66         363827.438951\n",
       "67         357222.855215\n",
       "68         365278.194581\n",
       "69         362313.375280\n",
       "70         362787.772498\n",
       "71         359700.938607\n",
       "72         367378.973169\n",
       "73         364291.049263\n",
       "74         343075.981127\n",
       "75           1678.969771"
      ]
     },
     "metadata": {},
     "output_type": "display_data"
    },
    {
     "data": {
      "text/html": [
       "<div>\n",
       "<style scoped>\n",
       "    .dataframe tbody tr th:only-of-type {\n",
       "        vertical-align: middle;\n",
       "    }\n",
       "\n",
       "    .dataframe tbody tr th {\n",
       "        vertical-align: top;\n",
       "    }\n",
       "\n",
       "    .dataframe thead th {\n",
       "        text-align: right;\n",
       "    }\n",
       "</style>\n",
       "<table border=\"1\" class=\"dataframe\">\n",
       "  <thead>\n",
       "    <tr style=\"text-align: right;\">\n",
       "      <th></th>\n",
       "      <th>children</th>\n",
       "      <th>days_employed</th>\n",
       "      <th>dob_years</th>\n",
       "      <th>education</th>\n",
       "      <th>education_id</th>\n",
       "      <th>family_status</th>\n",
       "      <th>family_status_id</th>\n",
       "      <th>gender</th>\n",
       "      <th>income_type</th>\n",
       "      <th>debt</th>\n",
       "      <th>total_income</th>\n",
       "      <th>purpose</th>\n",
       "    </tr>\n",
       "  </thead>\n",
       "  <tbody>\n",
       "    <tr>\n",
       "      <th>4</th>\n",
       "      <td>0</td>\n",
       "      <td>340266.072047</td>\n",
       "      <td>53</td>\n",
       "      <td>среднее</td>\n",
       "      <td>1</td>\n",
       "      <td>гражданский брак</td>\n",
       "      <td>1</td>\n",
       "      <td>f</td>\n",
       "      <td>пенсионер</td>\n",
       "      <td>0</td>\n",
       "      <td>158616.077870</td>\n",
       "      <td>сыграть свадьбу</td>\n",
       "    </tr>\n",
       "    <tr>\n",
       "      <th>12</th>\n",
       "      <td>0</td>\n",
       "      <td>NaN</td>\n",
       "      <td>65</td>\n",
       "      <td>среднее</td>\n",
       "      <td>1</td>\n",
       "      <td>гражданский брак</td>\n",
       "      <td>1</td>\n",
       "      <td>m</td>\n",
       "      <td>пенсионер</td>\n",
       "      <td>0</td>\n",
       "      <td>NaN</td>\n",
       "      <td>сыграть свадьбу</td>\n",
       "    </tr>\n",
       "    <tr>\n",
       "      <th>18</th>\n",
       "      <td>0</td>\n",
       "      <td>400281.136913</td>\n",
       "      <td>53</td>\n",
       "      <td>среднее</td>\n",
       "      <td>1</td>\n",
       "      <td>вдовец / вдова</td>\n",
       "      <td>2</td>\n",
       "      <td>f</td>\n",
       "      <td>пенсионер</td>\n",
       "      <td>0</td>\n",
       "      <td>56823.777243</td>\n",
       "      <td>на покупку подержанного автомобиля</td>\n",
       "    </tr>\n",
       "    <tr>\n",
       "      <th>24</th>\n",
       "      <td>1</td>\n",
       "      <td>338551.952911</td>\n",
       "      <td>57</td>\n",
       "      <td>среднее</td>\n",
       "      <td>1</td>\n",
       "      <td>не женат / не замужем</td>\n",
       "      <td>4</td>\n",
       "      <td>f</td>\n",
       "      <td>пенсионер</td>\n",
       "      <td>0</td>\n",
       "      <td>290547.235997</td>\n",
       "      <td>операции с коммерческой недвижимостью</td>\n",
       "    </tr>\n",
       "    <tr>\n",
       "      <th>25</th>\n",
       "      <td>0</td>\n",
       "      <td>363548.489348</td>\n",
       "      <td>67</td>\n",
       "      <td>среднее</td>\n",
       "      <td>1</td>\n",
       "      <td>женат / замужем</td>\n",
       "      <td>0</td>\n",
       "      <td>m</td>\n",
       "      <td>пенсионер</td>\n",
       "      <td>0</td>\n",
       "      <td>55112.757732</td>\n",
       "      <td>покупка недвижимости</td>\n",
       "    </tr>\n",
       "    <tr>\n",
       "      <th>...</th>\n",
       "      <td>...</td>\n",
       "      <td>...</td>\n",
       "      <td>...</td>\n",
       "      <td>...</td>\n",
       "      <td>...</td>\n",
       "      <td>...</td>\n",
       "      <td>...</td>\n",
       "      <td>...</td>\n",
       "      <td>...</td>\n",
       "      <td>...</td>\n",
       "      <td>...</td>\n",
       "      <td>...</td>\n",
       "    </tr>\n",
       "    <tr>\n",
       "      <th>21505</th>\n",
       "      <td>0</td>\n",
       "      <td>338904.866406</td>\n",
       "      <td>53</td>\n",
       "      <td>среднее</td>\n",
       "      <td>1</td>\n",
       "      <td>гражданский брак</td>\n",
       "      <td>1</td>\n",
       "      <td>m</td>\n",
       "      <td>пенсионер</td>\n",
       "      <td>0</td>\n",
       "      <td>75439.993167</td>\n",
       "      <td>сыграть свадьбу</td>\n",
       "    </tr>\n",
       "    <tr>\n",
       "      <th>21508</th>\n",
       "      <td>0</td>\n",
       "      <td>386497.714078</td>\n",
       "      <td>62</td>\n",
       "      <td>среднее</td>\n",
       "      <td>1</td>\n",
       "      <td>женат / замужем</td>\n",
       "      <td>0</td>\n",
       "      <td>m</td>\n",
       "      <td>пенсионер</td>\n",
       "      <td>0</td>\n",
       "      <td>72638.590915</td>\n",
       "      <td>недвижимость</td>\n",
       "    </tr>\n",
       "    <tr>\n",
       "      <th>21509</th>\n",
       "      <td>0</td>\n",
       "      <td>362161.054124</td>\n",
       "      <td>59</td>\n",
       "      <td>высшее</td>\n",
       "      <td>0</td>\n",
       "      <td>женат / замужем</td>\n",
       "      <td>0</td>\n",
       "      <td>m</td>\n",
       "      <td>пенсионер</td>\n",
       "      <td>0</td>\n",
       "      <td>73029.059379</td>\n",
       "      <td>операции с недвижимостью</td>\n",
       "    </tr>\n",
       "    <tr>\n",
       "      <th>21518</th>\n",
       "      <td>0</td>\n",
       "      <td>373995.710838</td>\n",
       "      <td>59</td>\n",
       "      <td>среднее</td>\n",
       "      <td>1</td>\n",
       "      <td>женат / замужем</td>\n",
       "      <td>0</td>\n",
       "      <td>f</td>\n",
       "      <td>пенсионер</td>\n",
       "      <td>0</td>\n",
       "      <td>153864.650328</td>\n",
       "      <td>сделка с автомобилем</td>\n",
       "    </tr>\n",
       "    <tr>\n",
       "      <th>21521</th>\n",
       "      <td>0</td>\n",
       "      <td>343937.404131</td>\n",
       "      <td>67</td>\n",
       "      <td>среднее</td>\n",
       "      <td>1</td>\n",
       "      <td>женат / замужем</td>\n",
       "      <td>0</td>\n",
       "      <td>f</td>\n",
       "      <td>пенсионер</td>\n",
       "      <td>0</td>\n",
       "      <td>155999.806512</td>\n",
       "      <td>сделка с автомобилем</td>\n",
       "    </tr>\n",
       "  </tbody>\n",
       "</table>\n",
       "<p>3856 rows × 12 columns</p>\n",
       "</div>"
      ],
      "text/plain": [
       "       children  days_employed  dob_years education  education_id  \\\n",
       "4             0  340266.072047         53   среднее             1   \n",
       "12            0            NaN         65   среднее             1   \n",
       "18            0  400281.136913         53   среднее             1   \n",
       "24            1  338551.952911         57   среднее             1   \n",
       "25            0  363548.489348         67   среднее             1   \n",
       "...         ...            ...        ...       ...           ...   \n",
       "21505         0  338904.866406         53   среднее             1   \n",
       "21508         0  386497.714078         62   среднее             1   \n",
       "21509         0  362161.054124         59    высшее             0   \n",
       "21518         0  373995.710838         59   среднее             1   \n",
       "21521         0  343937.404131         67   среднее             1   \n",
       "\n",
       "               family_status  family_status_id gender income_type  debt  \\\n",
       "4           гражданский брак                 1      f   пенсионер     0   \n",
       "12          гражданский брак                 1      m   пенсионер     0   \n",
       "18            вдовец / вдова                 2      f   пенсионер     0   \n",
       "24     не женат / не замужем                 4      f   пенсионер     0   \n",
       "25           женат / замужем                 0      m   пенсионер     0   \n",
       "...                      ...               ...    ...         ...   ...   \n",
       "21505       гражданский брак                 1      m   пенсионер     0   \n",
       "21508        женат / замужем                 0      m   пенсионер     0   \n",
       "21509        женат / замужем                 0      m   пенсионер     0   \n",
       "21518        женат / замужем                 0      f   пенсионер     0   \n",
       "21521        женат / замужем                 0      f   пенсионер     0   \n",
       "\n",
       "        total_income                                purpose  \n",
       "4      158616.077870                        сыграть свадьбу  \n",
       "12               NaN                        сыграть свадьбу  \n",
       "18      56823.777243     на покупку подержанного автомобиля  \n",
       "24     290547.235997  операции с коммерческой недвижимостью  \n",
       "25      55112.757732                   покупка недвижимости  \n",
       "...              ...                                    ...  \n",
       "21505   75439.993167                        сыграть свадьбу  \n",
       "21508   72638.590915                           недвижимость  \n",
       "21509   73029.059379               операции с недвижимостью  \n",
       "21518  153864.650328                   сделка с автомобилем  \n",
       "21521  155999.806512                   сделка с автомобилем  \n",
       "\n",
       "[3856 rows x 12 columns]"
      ]
     },
     "metadata": {},
     "output_type": "display_data"
    }
   ],
   "source": [
    "display(df.groupby('dob_years')['days_employed'].median().to_frame().tail(20))\n",
    "display(df[df['income_type'] == 'пенсионер'])"
   ]
  },
  {
   "cell_type": "markdown",
   "metadata": {},
   "source": [
    "Видно, что у всех клиентов-пенсионеров есть эта проблема в данных. Скорее всего стаж записали не в днях, а в часах. Исправим."
   ]
  },
  {
   "cell_type": "code",
   "execution_count": 7,
   "metadata": {},
   "outputs": [],
   "source": [
    "df.loc[df['income_type'] == 'пенсионер','days_employed'] = df[df['income_type'] == 'пенсионер']['days_employed'] / 24"
   ]
  },
  {
   "cell_type": "code",
   "execution_count": 8,
   "metadata": {
    "scrolled": true
   },
   "outputs": [
    {
     "data": {
      "text/html": [
       "<div>\n",
       "<style scoped>\n",
       "    .dataframe tbody tr th:only-of-type {\n",
       "        vertical-align: middle;\n",
       "    }\n",
       "\n",
       "    .dataframe tbody tr th {\n",
       "        vertical-align: top;\n",
       "    }\n",
       "\n",
       "    .dataframe thead th {\n",
       "        text-align: right;\n",
       "    }\n",
       "</style>\n",
       "<table border=\"1\" class=\"dataframe\">\n",
       "  <thead>\n",
       "    <tr style=\"text-align: right;\">\n",
       "      <th></th>\n",
       "      <th>days_employed</th>\n",
       "    </tr>\n",
       "    <tr>\n",
       "      <th>dob_years</th>\n",
       "      <th></th>\n",
       "    </tr>\n",
       "  </thead>\n",
       "  <tbody>\n",
       "    <tr>\n",
       "      <th>46</th>\n",
       "      <td>2100.473217</td>\n",
       "    </tr>\n",
       "    <tr>\n",
       "      <th>47</th>\n",
       "      <td>2203.078545</td>\n",
       "    </tr>\n",
       "    <tr>\n",
       "      <th>48</th>\n",
       "      <td>2429.674518</td>\n",
       "    </tr>\n",
       "    <tr>\n",
       "      <th>49</th>\n",
       "      <td>2560.317106</td>\n",
       "    </tr>\n",
       "    <tr>\n",
       "      <th>50</th>\n",
       "      <td>2626.986257</td>\n",
       "    </tr>\n",
       "    <tr>\n",
       "      <th>51</th>\n",
       "      <td>2846.080700</td>\n",
       "    </tr>\n",
       "    <tr>\n",
       "      <th>52</th>\n",
       "      <td>3395.639568</td>\n",
       "    </tr>\n",
       "    <tr>\n",
       "      <th>53</th>\n",
       "      <td>3650.007523</td>\n",
       "    </tr>\n",
       "    <tr>\n",
       "      <th>54</th>\n",
       "      <td>4026.541145</td>\n",
       "    </tr>\n",
       "    <tr>\n",
       "      <th>55</th>\n",
       "      <td>7043.471139</td>\n",
       "    </tr>\n",
       "    <tr>\n",
       "      <th>56</th>\n",
       "      <td>6850.179463</td>\n",
       "    </tr>\n",
       "    <tr>\n",
       "      <th>57</th>\n",
       "      <td>13926.326157</td>\n",
       "    </tr>\n",
       "    <tr>\n",
       "      <th>58</th>\n",
       "      <td>13817.626857</td>\n",
       "    </tr>\n",
       "    <tr>\n",
       "      <th>59</th>\n",
       "      <td>14417.103080</td>\n",
       "    </tr>\n",
       "    <tr>\n",
       "      <th>60</th>\n",
       "      <td>14574.440068</td>\n",
       "    </tr>\n",
       "    <tr>\n",
       "      <th>61</th>\n",
       "      <td>14371.636007</td>\n",
       "    </tr>\n",
       "    <tr>\n",
       "      <th>62</th>\n",
       "      <td>14790.904924</td>\n",
       "    </tr>\n",
       "    <tr>\n",
       "      <th>63</th>\n",
       "      <td>14936.762331</td>\n",
       "    </tr>\n",
       "    <tr>\n",
       "      <th>64</th>\n",
       "      <td>14840.866936</td>\n",
       "    </tr>\n",
       "    <tr>\n",
       "      <th>65</th>\n",
       "      <td>14902.851210</td>\n",
       "    </tr>\n",
       "    <tr>\n",
       "      <th>66</th>\n",
       "      <td>15159.476623</td>\n",
       "    </tr>\n",
       "    <tr>\n",
       "      <th>67</th>\n",
       "      <td>14884.285634</td>\n",
       "    </tr>\n",
       "    <tr>\n",
       "      <th>68</th>\n",
       "      <td>15219.924774</td>\n",
       "    </tr>\n",
       "    <tr>\n",
       "      <th>69</th>\n",
       "      <td>15096.390637</td>\n",
       "    </tr>\n",
       "    <tr>\n",
       "      <th>70</th>\n",
       "      <td>15116.157187</td>\n",
       "    </tr>\n",
       "    <tr>\n",
       "      <th>71</th>\n",
       "      <td>14987.539109</td>\n",
       "    </tr>\n",
       "    <tr>\n",
       "      <th>72</th>\n",
       "      <td>15307.457215</td>\n",
       "    </tr>\n",
       "    <tr>\n",
       "      <th>73</th>\n",
       "      <td>15178.793719</td>\n",
       "    </tr>\n",
       "    <tr>\n",
       "      <th>74</th>\n",
       "      <td>14294.832547</td>\n",
       "    </tr>\n",
       "    <tr>\n",
       "      <th>75</th>\n",
       "      <td>1678.969771</td>\n",
       "    </tr>\n",
       "  </tbody>\n",
       "</table>\n",
       "</div>"
      ],
      "text/plain": [
       "           days_employed\n",
       "dob_years               \n",
       "46           2100.473217\n",
       "47           2203.078545\n",
       "48           2429.674518\n",
       "49           2560.317106\n",
       "50           2626.986257\n",
       "51           2846.080700\n",
       "52           3395.639568\n",
       "53           3650.007523\n",
       "54           4026.541145\n",
       "55           7043.471139\n",
       "56           6850.179463\n",
       "57          13926.326157\n",
       "58          13817.626857\n",
       "59          14417.103080\n",
       "60          14574.440068\n",
       "61          14371.636007\n",
       "62          14790.904924\n",
       "63          14936.762331\n",
       "64          14840.866936\n",
       "65          14902.851210\n",
       "66          15159.476623\n",
       "67          14884.285634\n",
       "68          15219.924774\n",
       "69          15096.390637\n",
       "70          15116.157187\n",
       "71          14987.539109\n",
       "72          15307.457215\n",
       "73          15178.793719\n",
       "74          14294.832547\n",
       "75           1678.969771"
      ]
     },
     "metadata": {},
     "output_type": "display_data"
    }
   ],
   "source": [
    "display(df.groupby('dob_years')['days_employed'].median().to_frame().tail(30))"
   ]
  },
  {
   "cell_type": "markdown",
   "metadata": {},
   "source": [
    "Видно, что есть следующая специфика в данных:\n",
    "\n",
    "Например, у клиентов 51г и 57г большая разница в днях работы.\n",
    "\n",
    "Можно сообщить об этом заказчику и запросить детальную выгрузку данных."
   ]
  },
  {
   "cell_type": "markdown",
   "metadata": {},
   "source": [
    "Далее проверим, всё ли в порядке с колонкой children"
   ]
  },
  {
   "cell_type": "code",
   "execution_count": 9,
   "metadata": {},
   "outputs": [
    {
     "data": {
      "text/plain": [
       "array([ 1,  0,  3,  2, -1,  4, 20,  5])"
      ]
     },
     "execution_count": 9,
     "metadata": {},
     "output_type": "execute_result"
    }
   ],
   "source": [
    "df['children'].unique()"
   ]
  },
  {
   "cell_type": "markdown",
   "metadata": {},
   "source": [
    "Видно, что встречаются отрицательные значение. \n",
    "И значение 20 и при этом нигде не встрачется значение 2, что является самым распространенным значением.\n",
    "Можем сделать вывод, что в данных ошибка, поменяем значение 20 на значение 2."
   ]
  },
  {
   "cell_type": "code",
   "execution_count": 10,
   "metadata": {},
   "outputs": [
    {
     "data": {
      "text/plain": [
       "array([1, 0, 3, 2, 4, 5])"
      ]
     },
     "execution_count": 10,
     "metadata": {},
     "output_type": "execute_result"
    }
   ],
   "source": [
    "df.loc[df['children'] == 20,'children'] = 2\n",
    "df['children'] = df['children'].abs()\n",
    "\n",
    "df['children'].unique()"
   ]
  },
  {
   "cell_type": "markdown",
   "metadata": {},
   "source": [
    "Теперь проверим столбцы: __education_id, family_status_id, gender, debt__"
   ]
  },
  {
   "cell_type": "code",
   "execution_count": 11,
   "metadata": {},
   "outputs": [
    {
     "name": "stdout",
     "output_type": "stream",
     "text": [
      "['высшее' 'среднее' 'неоконченное высшее' 'начальное' 'ученая степень']\n",
      "[0 1 2 3 4]\n",
      "['женат / замужем' 'гражданский брак' 'вдовец / вдова' 'в разводе'\n",
      " 'не женат / не замужем']\n",
      "[0 1 2 3 4]\n",
      "['f' 'm' 'xna']\n",
      "[0 1]\n"
     ]
    }
   ],
   "source": [
    "columns = ['education', 'education_id', 'family_status', 'family_status_id', 'gender', 'debt']\n",
    "\n",
    "for name in columns:\n",
    "    print(df[name].unique())"
   ]
  },
  {
   "cell_type": "markdown",
   "metadata": {},
   "source": [
    "Видно, что с данными всё в порядке. <br>\n",
    "Также на вский случай, если вдруг в колонке total_income есть отрицательные значения, поменяем их на абсолютные.<br>"
   ]
  },
  {
   "cell_type": "code",
   "execution_count": 12,
   "metadata": {},
   "outputs": [],
   "source": [
    "df['total_income'] = df['total_income'].abs()"
   ]
  },
  {
   "cell_type": "code",
   "execution_count": 13,
   "metadata": {},
   "outputs": [
    {
     "data": {
      "text/html": [
       "<div>\n",
       "<style scoped>\n",
       "    .dataframe tbody tr th:only-of-type {\n",
       "        vertical-align: middle;\n",
       "    }\n",
       "\n",
       "    .dataframe tbody tr th {\n",
       "        vertical-align: top;\n",
       "    }\n",
       "\n",
       "    .dataframe thead th {\n",
       "        text-align: right;\n",
       "    }\n",
       "</style>\n",
       "<table border=\"1\" class=\"dataframe\">\n",
       "  <thead>\n",
       "    <tr style=\"text-align: right;\">\n",
       "      <th></th>\n",
       "      <th>children</th>\n",
       "      <th>days_employed</th>\n",
       "      <th>dob_years</th>\n",
       "      <th>education</th>\n",
       "      <th>education_id</th>\n",
       "      <th>family_status</th>\n",
       "      <th>family_status_id</th>\n",
       "      <th>gender</th>\n",
       "      <th>income_type</th>\n",
       "      <th>debt</th>\n",
       "      <th>total_income</th>\n",
       "      <th>purpose</th>\n",
       "    </tr>\n",
       "  </thead>\n",
       "  <tbody>\n",
       "    <tr>\n",
       "      <th>0</th>\n",
       "      <td>1</td>\n",
       "      <td>8437.673028</td>\n",
       "      <td>42</td>\n",
       "      <td>высшее</td>\n",
       "      <td>0</td>\n",
       "      <td>женат / замужем</td>\n",
       "      <td>0</td>\n",
       "      <td>f</td>\n",
       "      <td>сотрудник</td>\n",
       "      <td>0</td>\n",
       "      <td>253875.639453</td>\n",
       "      <td>покупка жилья</td>\n",
       "    </tr>\n",
       "    <tr>\n",
       "      <th>1</th>\n",
       "      <td>1</td>\n",
       "      <td>4024.803754</td>\n",
       "      <td>36</td>\n",
       "      <td>среднее</td>\n",
       "      <td>1</td>\n",
       "      <td>женат / замужем</td>\n",
       "      <td>0</td>\n",
       "      <td>f</td>\n",
       "      <td>сотрудник</td>\n",
       "      <td>0</td>\n",
       "      <td>112080.014102</td>\n",
       "      <td>приобретение автомобиля</td>\n",
       "    </tr>\n",
       "    <tr>\n",
       "      <th>2</th>\n",
       "      <td>0</td>\n",
       "      <td>5623.422610</td>\n",
       "      <td>33</td>\n",
       "      <td>среднее</td>\n",
       "      <td>1</td>\n",
       "      <td>женат / замужем</td>\n",
       "      <td>0</td>\n",
       "      <td>m</td>\n",
       "      <td>сотрудник</td>\n",
       "      <td>0</td>\n",
       "      <td>145885.952297</td>\n",
       "      <td>покупка жилья</td>\n",
       "    </tr>\n",
       "    <tr>\n",
       "      <th>3</th>\n",
       "      <td>3</td>\n",
       "      <td>4124.747207</td>\n",
       "      <td>32</td>\n",
       "      <td>среднее</td>\n",
       "      <td>1</td>\n",
       "      <td>женат / замужем</td>\n",
       "      <td>0</td>\n",
       "      <td>m</td>\n",
       "      <td>сотрудник</td>\n",
       "      <td>0</td>\n",
       "      <td>267628.550329</td>\n",
       "      <td>дополнительное образование</td>\n",
       "    </tr>\n",
       "    <tr>\n",
       "      <th>4</th>\n",
       "      <td>0</td>\n",
       "      <td>14177.753002</td>\n",
       "      <td>53</td>\n",
       "      <td>среднее</td>\n",
       "      <td>1</td>\n",
       "      <td>гражданский брак</td>\n",
       "      <td>1</td>\n",
       "      <td>f</td>\n",
       "      <td>пенсионер</td>\n",
       "      <td>0</td>\n",
       "      <td>158616.077870</td>\n",
       "      <td>сыграть свадьбу</td>\n",
       "    </tr>\n",
       "  </tbody>\n",
       "</table>\n",
       "</div>"
      ],
      "text/plain": [
       "   children  days_employed  dob_years education  education_id  \\\n",
       "0         1    8437.673028         42    высшее             0   \n",
       "1         1    4024.803754         36   среднее             1   \n",
       "2         0    5623.422610         33   среднее             1   \n",
       "3         3    4124.747207         32   среднее             1   \n",
       "4         0   14177.753002         53   среднее             1   \n",
       "\n",
       "      family_status  family_status_id gender income_type  debt   total_income  \\\n",
       "0   женат / замужем                 0      f   сотрудник     0  253875.639453   \n",
       "1   женат / замужем                 0      f   сотрудник     0  112080.014102   \n",
       "2   женат / замужем                 0      m   сотрудник     0  145885.952297   \n",
       "3   женат / замужем                 0      m   сотрудник     0  267628.550329   \n",
       "4  гражданский брак                 1      f   пенсионер     0  158616.077870   \n",
       "\n",
       "                      purpose  \n",
       "0               покупка жилья  \n",
       "1     приобретение автомобиля  \n",
       "2               покупка жилья  \n",
       "3  дополнительное образование  \n",
       "4             сыграть свадьбу  "
      ]
     },
     "metadata": {},
     "output_type": "display_data"
    }
   ],
   "source": [
    "#Ещё раз выведем таблицу\n",
    "display(df.head())"
   ]
  },
  {
   "cell_type": "markdown",
   "metadata": {},
   "source": [
    "### Обработка пропусков"
   ]
  },
  {
   "cell_type": "code",
   "execution_count": 14,
   "metadata": {},
   "outputs": [
    {
     "data": {
      "text/plain": [
       "children               0\n",
       "days_employed       2174\n",
       "dob_years              0\n",
       "education              0\n",
       "education_id           0\n",
       "family_status          0\n",
       "family_status_id       0\n",
       "gender                 0\n",
       "income_type            0\n",
       "debt                   0\n",
       "total_income        2174\n",
       "purpose                0\n",
       "dtype: int64"
      ]
     },
     "execution_count": 14,
     "metadata": {},
     "output_type": "execute_result"
    }
   ],
   "source": [
    "df.isna().sum()"
   ]
  },
  {
   "cell_type": "markdown",
   "metadata": {},
   "source": [
    "Видно, что выделяются столбцы: days_employed, total_income; в них есть нулевые значения. \n",
    "Причем и там и там одинаковое количество. Скорее всего пропуски связаны с одним и тем же обстоятельством.\n",
    "\n",
    "days_employed определяет общий трудовой стаж в днях <br>\n",
    "total_income определяет ежемесячный доход\n",
    "\n",
    "Обе переменные количественные. Количественные переменные обычно заменяются на среднеарифметическое или медианное значение.<br>\n",
    "Так как дни работы и зарплата могут сильно различаться, заменим значения на медианное."
   ]
  },
  {
   "cell_type": "code",
   "execution_count": 15,
   "metadata": {
    "scrolled": true
   },
   "outputs": [],
   "source": [
    "df['days_employed'] = df['days_employed'].fillna(value=df['days_employed'].median())\n",
    "\n",
    "df['total_income'] = df['total_income'].fillna(value=df['total_income'].median())"
   ]
  },
  {
   "cell_type": "code",
   "execution_count": 16,
   "metadata": {},
   "outputs": [
    {
     "name": "stdout",
     "output_type": "stream",
     "text": [
      "<class 'pandas.core.frame.DataFrame'>\n",
      "RangeIndex: 21525 entries, 0 to 21524\n",
      "Data columns (total 12 columns):\n",
      " #   Column            Non-Null Count  Dtype  \n",
      "---  ------            --------------  -----  \n",
      " 0   children          21525 non-null  int64  \n",
      " 1   days_employed     21525 non-null  float64\n",
      " 2   dob_years         21525 non-null  int64  \n",
      " 3   education         21525 non-null  object \n",
      " 4   education_id      21525 non-null  int64  \n",
      " 5   family_status     21525 non-null  object \n",
      " 6   family_status_id  21525 non-null  int64  \n",
      " 7   gender            21525 non-null  object \n",
      " 8   income_type       21525 non-null  object \n",
      " 9   debt              21525 non-null  int64  \n",
      " 10  total_income      21525 non-null  float64\n",
      " 11  purpose           21525 non-null  object \n",
      "dtypes: float64(2), int64(5), object(5)\n",
      "memory usage: 2.0+ MB\n"
     ]
    }
   ],
   "source": [
    "df.info()"
   ]
  },
  {
   "cell_type": "markdown",
   "metadata": {},
   "source": [
    "### Замена типа данных"
   ]
  },
  {
   "cell_type": "markdown",
   "metadata": {},
   "source": [
    "Есть два столбца типо float64, их следовалы бы заменить на столбцы со значением int64<br>\n",
    "Остальные столбцы можно оставить в прежнем виде<br>\n",
    "\n",
    "Замену в данном случае лучше производить с помощью метода astype()"
   ]
  },
  {
   "cell_type": "code",
   "execution_count": 17,
   "metadata": {
    "scrolled": false
   },
   "outputs": [],
   "source": [
    "df['days_employed'] = df['days_employed'].astype('int')\n",
    "df['total_income'] = df['total_income'].astype('int')"
   ]
  },
  {
   "cell_type": "code",
   "execution_count": 18,
   "metadata": {},
   "outputs": [
    {
     "name": "stdout",
     "output_type": "stream",
     "text": [
      "<class 'pandas.core.frame.DataFrame'>\n",
      "RangeIndex: 21525 entries, 0 to 21524\n",
      "Data columns (total 12 columns):\n",
      " #   Column            Non-Null Count  Dtype \n",
      "---  ------            --------------  ----- \n",
      " 0   children          21525 non-null  int64 \n",
      " 1   days_employed     21525 non-null  int64 \n",
      " 2   dob_years         21525 non-null  int64 \n",
      " 3   education         21525 non-null  object\n",
      " 4   education_id      21525 non-null  int64 \n",
      " 5   family_status     21525 non-null  object\n",
      " 6   family_status_id  21525 non-null  int64 \n",
      " 7   gender            21525 non-null  object\n",
      " 8   income_type       21525 non-null  object\n",
      " 9   debt              21525 non-null  int64 \n",
      " 10  total_income      21525 non-null  int64 \n",
      " 11  purpose           21525 non-null  object\n",
      "dtypes: int64(7), object(5)\n",
      "memory usage: 2.0+ MB\n"
     ]
    }
   ],
   "source": [
    "df.info()"
   ]
  },
  {
   "cell_type": "markdown",
   "metadata": {},
   "source": [
    "### Обработка дубликатов"
   ]
  },
  {
   "cell_type": "markdown",
   "metadata": {},
   "source": [
    "Удаляем дубли после полной обработки данных:"
   ]
  },
  {
   "cell_type": "code",
   "execution_count": 19,
   "metadata": {},
   "outputs": [
    {
     "data": {
      "text/plain": [
       "71"
      ]
     },
     "execution_count": 19,
     "metadata": {},
     "output_type": "execute_result"
    }
   ],
   "source": [
    "df.duplicated().sum()"
   ]
  },
  {
   "cell_type": "code",
   "execution_count": 20,
   "metadata": {
    "scrolled": false
   },
   "outputs": [
    {
     "name": "stdout",
     "output_type": "stream",
     "text": [
      "Осталось дубликатов: 0\n"
     ]
    }
   ],
   "source": [
    "df = df.drop_duplicates()\n",
    "df = df.dropna().reset_index(drop=True)\n",
    "print('Осталось дубликатов:', df.duplicated().sum())"
   ]
  },
  {
   "cell_type": "markdown",
   "metadata": {},
   "source": [
    "### Лемматизация"
   ]
  },
  {
   "cell_type": "markdown",
   "metadata": {},
   "source": [
    "Для того, чтобы проанализировать влияет ли цель кредита на факт погашения, надо проанализировать столбец '__purpose__'\n",
    "Лемматизируем этот столбец и сохраним результат с столбце 'lemma_purpose'"
   ]
  },
  {
   "cell_type": "code",
   "execution_count": 21,
   "metadata": {},
   "outputs": [
    {
     "name": "stderr",
     "output_type": "stream",
     "text": [
      "Installing mystem to /Users/daniilsobolev/.local/bin/mystem from http://download.cdn.yandex.net/mystem/mystem-3.1-macosx.tar.gz\n"
     ]
    }
   ],
   "source": [
    "m = Mystem()\n",
    "\n",
    "df['lemma_purpose'] = df['purpose'].apply(m.lemmatize)"
   ]
  },
  {
   "cell_type": "markdown",
   "metadata": {},
   "source": [
    "Посмотрим какие категории были выделены в ходе лемматизации:"
   ]
  },
  {
   "cell_type": "code",
   "execution_count": 22,
   "metadata": {},
   "outputs": [
    {
     "data": {
      "text/plain": [
       "array(['покупка жилья', 'приобретение автомобиля',\n",
       "       'дополнительное образование', 'сыграть свадьбу',\n",
       "       'операции с жильем', 'образование', 'на проведение свадьбы',\n",
       "       'покупка жилья для семьи', 'покупка недвижимости',\n",
       "       'покупка коммерческой недвижимости', 'покупка жилой недвижимости',\n",
       "       'строительство собственной недвижимости', 'недвижимость',\n",
       "       'строительство недвижимости', 'на покупку подержанного автомобиля',\n",
       "       'на покупку своего автомобиля',\n",
       "       'операции с коммерческой недвижимостью',\n",
       "       'строительство жилой недвижимости', 'жилье',\n",
       "       'операции со своей недвижимостью', 'автомобили',\n",
       "       'заняться образованием', 'сделка с подержанным автомобилем',\n",
       "       'получение образования', 'автомобиль', 'свадьба',\n",
       "       'получение дополнительного образования', 'покупка своего жилья',\n",
       "       'операции с недвижимостью', 'получение высшего образования',\n",
       "       'свой автомобиль', 'сделка с автомобилем',\n",
       "       'профильное образование', 'высшее образование',\n",
       "       'покупка жилья для сдачи', 'на покупку автомобиля', 'ремонт жилью',\n",
       "       'заняться высшим образованием'], dtype=object)"
      ]
     },
     "metadata": {},
     "output_type": "display_data"
    }
   ],
   "source": [
    "display(df['purpose'].unique())"
   ]
  },
  {
   "cell_type": "markdown",
   "metadata": {},
   "source": [
    "Видно, что цели можно разбить на несколько каьегорий: __жилье, недвижимость, автомобиль, образование, свадьба__<br>"
   ]
  },
  {
   "cell_type": "markdown",
   "metadata": {},
   "source": [
    "### Категоризация данных"
   ]
  },
  {
   "cell_type": "markdown",
   "metadata": {},
   "source": [
    "Для анализа, нам нужно категоризировать данные в столбце цель.<br>\n",
    "Выделим основные категории."
   ]
  },
  {
   "cell_type": "code",
   "execution_count": 23,
   "metadata": {},
   "outputs": [],
   "source": [
    "def lemma_purpose(purpose):\n",
    "    if 'жилье' in purpose:\n",
    "        return 'жилье'\n",
    "    if 'недвижимость' in purpose:\n",
    "        return 'недвижимость'\n",
    "    if 'автомобиль' in purpose:\n",
    "        return 'автомобиль'\n",
    "    if 'образование' in purpose:\n",
    "        return 'образование'\n",
    "    if 'свадьба' in purpose:\n",
    "        return 'свадьба'\n",
    "    return '0'\n",
    "\n",
    "df['lemma_purpose'] = df['lemma_purpose'].apply(lemma_purpose)"
   ]
  },
  {
   "cell_type": "code",
   "execution_count": 24,
   "metadata": {},
   "outputs": [
    {
     "data": {
      "text/html": [
       "<div>\n",
       "<style scoped>\n",
       "    .dataframe tbody tr th:only-of-type {\n",
       "        vertical-align: middle;\n",
       "    }\n",
       "\n",
       "    .dataframe tbody tr th {\n",
       "        vertical-align: top;\n",
       "    }\n",
       "\n",
       "    .dataframe thead th {\n",
       "        text-align: right;\n",
       "    }\n",
       "</style>\n",
       "<table border=\"1\" class=\"dataframe\">\n",
       "  <thead>\n",
       "    <tr style=\"text-align: right;\">\n",
       "      <th></th>\n",
       "      <th>children</th>\n",
       "      <th>days_employed</th>\n",
       "      <th>dob_years</th>\n",
       "      <th>education</th>\n",
       "      <th>education_id</th>\n",
       "      <th>family_status</th>\n",
       "      <th>family_status_id</th>\n",
       "      <th>gender</th>\n",
       "      <th>income_type</th>\n",
       "      <th>debt</th>\n",
       "      <th>total_income</th>\n",
       "      <th>purpose</th>\n",
       "      <th>lemma_purpose</th>\n",
       "    </tr>\n",
       "  </thead>\n",
       "  <tbody>\n",
       "    <tr>\n",
       "      <th>0</th>\n",
       "      <td>1</td>\n",
       "      <td>8437</td>\n",
       "      <td>42</td>\n",
       "      <td>высшее</td>\n",
       "      <td>0</td>\n",
       "      <td>женат / замужем</td>\n",
       "      <td>0</td>\n",
       "      <td>f</td>\n",
       "      <td>сотрудник</td>\n",
       "      <td>0</td>\n",
       "      <td>253875</td>\n",
       "      <td>покупка жилья</td>\n",
       "      <td>жилье</td>\n",
       "    </tr>\n",
       "    <tr>\n",
       "      <th>1</th>\n",
       "      <td>1</td>\n",
       "      <td>4024</td>\n",
       "      <td>36</td>\n",
       "      <td>среднее</td>\n",
       "      <td>1</td>\n",
       "      <td>женат / замужем</td>\n",
       "      <td>0</td>\n",
       "      <td>f</td>\n",
       "      <td>сотрудник</td>\n",
       "      <td>0</td>\n",
       "      <td>112080</td>\n",
       "      <td>приобретение автомобиля</td>\n",
       "      <td>автомобиль</td>\n",
       "    </tr>\n",
       "    <tr>\n",
       "      <th>2</th>\n",
       "      <td>0</td>\n",
       "      <td>5623</td>\n",
       "      <td>33</td>\n",
       "      <td>среднее</td>\n",
       "      <td>1</td>\n",
       "      <td>женат / замужем</td>\n",
       "      <td>0</td>\n",
       "      <td>m</td>\n",
       "      <td>сотрудник</td>\n",
       "      <td>0</td>\n",
       "      <td>145885</td>\n",
       "      <td>покупка жилья</td>\n",
       "      <td>жилье</td>\n",
       "    </tr>\n",
       "    <tr>\n",
       "      <th>3</th>\n",
       "      <td>3</td>\n",
       "      <td>4124</td>\n",
       "      <td>32</td>\n",
       "      <td>среднее</td>\n",
       "      <td>1</td>\n",
       "      <td>женат / замужем</td>\n",
       "      <td>0</td>\n",
       "      <td>m</td>\n",
       "      <td>сотрудник</td>\n",
       "      <td>0</td>\n",
       "      <td>267628</td>\n",
       "      <td>дополнительное образование</td>\n",
       "      <td>образование</td>\n",
       "    </tr>\n",
       "    <tr>\n",
       "      <th>4</th>\n",
       "      <td>0</td>\n",
       "      <td>14177</td>\n",
       "      <td>53</td>\n",
       "      <td>среднее</td>\n",
       "      <td>1</td>\n",
       "      <td>гражданский брак</td>\n",
       "      <td>1</td>\n",
       "      <td>f</td>\n",
       "      <td>пенсионер</td>\n",
       "      <td>0</td>\n",
       "      <td>158616</td>\n",
       "      <td>сыграть свадьбу</td>\n",
       "      <td>свадьба</td>\n",
       "    </tr>\n",
       "  </tbody>\n",
       "</table>\n",
       "</div>"
      ],
      "text/plain": [
       "   children  days_employed  dob_years education  education_id  \\\n",
       "0         1           8437         42    высшее             0   \n",
       "1         1           4024         36   среднее             1   \n",
       "2         0           5623         33   среднее             1   \n",
       "3         3           4124         32   среднее             1   \n",
       "4         0          14177         53   среднее             1   \n",
       "\n",
       "      family_status  family_status_id gender income_type  debt  total_income  \\\n",
       "0   женат / замужем                 0      f   сотрудник     0        253875   \n",
       "1   женат / замужем                 0      f   сотрудник     0        112080   \n",
       "2   женат / замужем                 0      m   сотрудник     0        145885   \n",
       "3   женат / замужем                 0      m   сотрудник     0        267628   \n",
       "4  гражданский брак                 1      f   пенсионер     0        158616   \n",
       "\n",
       "                      purpose lemma_purpose  \n",
       "0               покупка жилья         жилье  \n",
       "1     приобретение автомобиля    автомобиль  \n",
       "2               покупка жилья         жилье  \n",
       "3  дополнительное образование   образование  \n",
       "4             сыграть свадьбу       свадьба  "
      ]
     },
     "metadata": {},
     "output_type": "display_data"
    }
   ],
   "source": [
    "display(df.head())"
   ]
  },
  {
   "cell_type": "markdown",
   "metadata": {},
   "source": [
    "Также, чтобы ответить есть ли связь между уровнем дохода и возвратом кредита срок, нам нужно категоризировать данные по столбцу 'доходы'"
   ]
  },
  {
   "cell_type": "code",
   "execution_count": 25,
   "metadata": {},
   "outputs": [
    {
     "data": {
      "text/html": [
       "<div>\n",
       "<style scoped>\n",
       "    .dataframe tbody tr th:only-of-type {\n",
       "        vertical-align: middle;\n",
       "    }\n",
       "\n",
       "    .dataframe tbody tr th {\n",
       "        vertical-align: top;\n",
       "    }\n",
       "\n",
       "    .dataframe thead th {\n",
       "        text-align: right;\n",
       "    }\n",
       "</style>\n",
       "<table border=\"1\" class=\"dataframe\">\n",
       "  <thead>\n",
       "    <tr style=\"text-align: right;\">\n",
       "      <th></th>\n",
       "      <th>children</th>\n",
       "      <th>days_employed</th>\n",
       "      <th>dob_years</th>\n",
       "      <th>education</th>\n",
       "      <th>education_id</th>\n",
       "      <th>family_status</th>\n",
       "      <th>family_status_id</th>\n",
       "      <th>gender</th>\n",
       "      <th>income_type</th>\n",
       "      <th>debt</th>\n",
       "      <th>total_income</th>\n",
       "      <th>purpose</th>\n",
       "      <th>lemma_purpose</th>\n",
       "      <th>category_income</th>\n",
       "    </tr>\n",
       "  </thead>\n",
       "  <tbody>\n",
       "    <tr>\n",
       "      <th>0</th>\n",
       "      <td>1</td>\n",
       "      <td>8437</td>\n",
       "      <td>42</td>\n",
       "      <td>высшее</td>\n",
       "      <td>0</td>\n",
       "      <td>женат / замужем</td>\n",
       "      <td>0</td>\n",
       "      <td>f</td>\n",
       "      <td>сотрудник</td>\n",
       "      <td>0</td>\n",
       "      <td>253875</td>\n",
       "      <td>покупка жилья</td>\n",
       "      <td>жилье</td>\n",
       "      <td>средний уровень дохода</td>\n",
       "    </tr>\n",
       "    <tr>\n",
       "      <th>1</th>\n",
       "      <td>1</td>\n",
       "      <td>4024</td>\n",
       "      <td>36</td>\n",
       "      <td>среднее</td>\n",
       "      <td>1</td>\n",
       "      <td>женат / замужем</td>\n",
       "      <td>0</td>\n",
       "      <td>f</td>\n",
       "      <td>сотрудник</td>\n",
       "      <td>0</td>\n",
       "      <td>112080</td>\n",
       "      <td>приобретение автомобиля</td>\n",
       "      <td>автомобиль</td>\n",
       "      <td>средний уровень дохода</td>\n",
       "    </tr>\n",
       "    <tr>\n",
       "      <th>2</th>\n",
       "      <td>0</td>\n",
       "      <td>5623</td>\n",
       "      <td>33</td>\n",
       "      <td>среднее</td>\n",
       "      <td>1</td>\n",
       "      <td>женат / замужем</td>\n",
       "      <td>0</td>\n",
       "      <td>m</td>\n",
       "      <td>сотрудник</td>\n",
       "      <td>0</td>\n",
       "      <td>145885</td>\n",
       "      <td>покупка жилья</td>\n",
       "      <td>жилье</td>\n",
       "      <td>средний уровень дохода</td>\n",
       "    </tr>\n",
       "    <tr>\n",
       "      <th>3</th>\n",
       "      <td>3</td>\n",
       "      <td>4124</td>\n",
       "      <td>32</td>\n",
       "      <td>среднее</td>\n",
       "      <td>1</td>\n",
       "      <td>женат / замужем</td>\n",
       "      <td>0</td>\n",
       "      <td>m</td>\n",
       "      <td>сотрудник</td>\n",
       "      <td>0</td>\n",
       "      <td>267628</td>\n",
       "      <td>дополнительное образование</td>\n",
       "      <td>образование</td>\n",
       "      <td>средний уровень дохода</td>\n",
       "    </tr>\n",
       "    <tr>\n",
       "      <th>4</th>\n",
       "      <td>0</td>\n",
       "      <td>14177</td>\n",
       "      <td>53</td>\n",
       "      <td>среднее</td>\n",
       "      <td>1</td>\n",
       "      <td>гражданский брак</td>\n",
       "      <td>1</td>\n",
       "      <td>f</td>\n",
       "      <td>пенсионер</td>\n",
       "      <td>0</td>\n",
       "      <td>158616</td>\n",
       "      <td>сыграть свадьбу</td>\n",
       "      <td>свадьба</td>\n",
       "      <td>средний уровень дохода</td>\n",
       "    </tr>\n",
       "  </tbody>\n",
       "</table>\n",
       "</div>"
      ],
      "text/plain": [
       "   children  days_employed  dob_years education  education_id  \\\n",
       "0         1           8437         42    высшее             0   \n",
       "1         1           4024         36   среднее             1   \n",
       "2         0           5623         33   среднее             1   \n",
       "3         3           4124         32   среднее             1   \n",
       "4         0          14177         53   среднее             1   \n",
       "\n",
       "      family_status  family_status_id gender income_type  debt  total_income  \\\n",
       "0   женат / замужем                 0      f   сотрудник     0        253875   \n",
       "1   женат / замужем                 0      f   сотрудник     0        112080   \n",
       "2   женат / замужем                 0      m   сотрудник     0        145885   \n",
       "3   женат / замужем                 0      m   сотрудник     0        267628   \n",
       "4  гражданский брак                 1      f   пенсионер     0        158616   \n",
       "\n",
       "                      purpose lemma_purpose         category_income  \n",
       "0               покупка жилья         жилье  средний уровень дохода  \n",
       "1     приобретение автомобиля    автомобиль  средний уровень дохода  \n",
       "2               покупка жилья         жилье  средний уровень дохода  \n",
       "3  дополнительное образование   образование  средний уровень дохода  \n",
       "4             сыграть свадьбу       свадьба  средний уровень дохода  "
      ]
     },
     "metadata": {},
     "output_type": "display_data"
    }
   ],
   "source": [
    "def category_income(total_income):\n",
    "    if total_income <= 100000:\n",
    "        return 'низкий уровень длхлда'\n",
    "    if total_income <= 300000:\n",
    "        return 'средний уровень дохода'\n",
    "    return 'высокий уровень дохода'\n",
    "\n",
    "df['category_income'] = df['total_income'].apply(category_income)\n",
    "display(df.head())"
   ]
  },
  {
   "cell_type": "markdown",
   "metadata": {},
   "source": [
    "## Шаг 3. Ответы на вопросы"
   ]
  },
  {
   "cell_type": "markdown",
   "metadata": {},
   "source": [
    "- Есть ли зависимость между наличием детей и возвратом кредита в срок?"
   ]
  },
  {
   "cell_type": "code",
   "execution_count": 26,
   "metadata": {},
   "outputs": [
    {
     "data": {
      "text/html": [
       "<div>\n",
       "<style scoped>\n",
       "    .dataframe tbody tr th:only-of-type {\n",
       "        vertical-align: middle;\n",
       "    }\n",
       "\n",
       "    .dataframe tbody tr th {\n",
       "        vertical-align: top;\n",
       "    }\n",
       "\n",
       "    .dataframe thead tr th {\n",
       "        text-align: left;\n",
       "    }\n",
       "\n",
       "    .dataframe thead tr:last-of-type th {\n",
       "        text-align: right;\n",
       "    }\n",
       "</style>\n",
       "<table border=\"1\" class=\"dataframe\">\n",
       "  <thead>\n",
       "    <tr>\n",
       "      <th></th>\n",
       "      <th colspan=\"2\" halign=\"left\">debt</th>\n",
       "      <th>ratio</th>\n",
       "    </tr>\n",
       "    <tr>\n",
       "      <th></th>\n",
       "      <th>count</th>\n",
       "      <th>sum</th>\n",
       "      <th></th>\n",
       "    </tr>\n",
       "    <tr>\n",
       "      <th>children</th>\n",
       "      <th></th>\n",
       "      <th></th>\n",
       "      <th></th>\n",
       "    </tr>\n",
       "  </thead>\n",
       "  <tbody>\n",
       "    <tr>\n",
       "      <th>5</th>\n",
       "      <td>9</td>\n",
       "      <td>0</td>\n",
       "      <td>0.000000</td>\n",
       "    </tr>\n",
       "    <tr>\n",
       "      <th>0</th>\n",
       "      <td>14091</td>\n",
       "      <td>1063</td>\n",
       "      <td>0.075438</td>\n",
       "    </tr>\n",
       "    <tr>\n",
       "      <th>3</th>\n",
       "      <td>330</td>\n",
       "      <td>27</td>\n",
       "      <td>0.081818</td>\n",
       "    </tr>\n",
       "    <tr>\n",
       "      <th>1</th>\n",
       "      <td>4855</td>\n",
       "      <td>445</td>\n",
       "      <td>0.091658</td>\n",
       "    </tr>\n",
       "    <tr>\n",
       "      <th>2</th>\n",
       "      <td>2128</td>\n",
       "      <td>202</td>\n",
       "      <td>0.094925</td>\n",
       "    </tr>\n",
       "    <tr>\n",
       "      <th>4</th>\n",
       "      <td>41</td>\n",
       "      <td>4</td>\n",
       "      <td>0.097561</td>\n",
       "    </tr>\n",
       "  </tbody>\n",
       "</table>\n",
       "</div>"
      ],
      "text/plain": [
       "           debt           ratio\n",
       "          count   sum          \n",
       "children                       \n",
       "5             9     0  0.000000\n",
       "0         14091  1063  0.075438\n",
       "3           330    27  0.081818\n",
       "1          4855   445  0.091658\n",
       "2          2128   202  0.094925\n",
       "4            41     4  0.097561"
      ]
     },
     "metadata": {},
     "output_type": "display_data"
    }
   ],
   "source": [
    "df_grouped = df.groupby('children').agg({'debt': ['count', 'sum']})\n",
    "df_grouped['ratio'] = df_grouped['debt']['sum'] / df_grouped['debt']['count']\n",
    "df_grouped = df_grouped.sort_values(by='ratio')\n",
    "\n",
    "display(df_grouped)"
   ]
  },
  {
   "cell_type": "markdown",
   "metadata": {},
   "source": [
    "**Вывод**<br>\n",
    "Для семей с пятью и четыремя детьми в таблице мало данных, поэтому выводы по ним сделать не можем.<br>\n",
    "Для остальных семей видно следующее, что если в семье трое детей, то вероятность возврата в срок больше<br>\n",
    "И наоборот, для семей с двумя детьми вероятность возврата в срок самая низкая из всех."
   ]
  },
  {
   "cell_type": "markdown",
   "metadata": {},
   "source": [
    "- Есть ли зависимость между семейным положением и возвратом кредита в срок?"
   ]
  },
  {
   "cell_type": "code",
   "execution_count": 27,
   "metadata": {},
   "outputs": [
    {
     "data": {
      "text/html": [
       "<div>\n",
       "<style scoped>\n",
       "    .dataframe tbody tr th:only-of-type {\n",
       "        vertical-align: middle;\n",
       "    }\n",
       "\n",
       "    .dataframe tbody tr th {\n",
       "        vertical-align: top;\n",
       "    }\n",
       "\n",
       "    .dataframe thead tr th {\n",
       "        text-align: left;\n",
       "    }\n",
       "\n",
       "    .dataframe thead tr:last-of-type th {\n",
       "        text-align: right;\n",
       "    }\n",
       "</style>\n",
       "<table border=\"1\" class=\"dataframe\">\n",
       "  <thead>\n",
       "    <tr>\n",
       "      <th></th>\n",
       "      <th colspan=\"2\" halign=\"left\">debt</th>\n",
       "      <th>ratio</th>\n",
       "    </tr>\n",
       "    <tr>\n",
       "      <th></th>\n",
       "      <th>count</th>\n",
       "      <th>sum</th>\n",
       "      <th></th>\n",
       "    </tr>\n",
       "    <tr>\n",
       "      <th>family_status</th>\n",
       "      <th></th>\n",
       "      <th></th>\n",
       "      <th></th>\n",
       "    </tr>\n",
       "  </thead>\n",
       "  <tbody>\n",
       "    <tr>\n",
       "      <th>вдовец / вдова</th>\n",
       "      <td>959</td>\n",
       "      <td>63</td>\n",
       "      <td>0.065693</td>\n",
       "    </tr>\n",
       "    <tr>\n",
       "      <th>в разводе</th>\n",
       "      <td>1195</td>\n",
       "      <td>85</td>\n",
       "      <td>0.071130</td>\n",
       "    </tr>\n",
       "    <tr>\n",
       "      <th>женат / замужем</th>\n",
       "      <td>12339</td>\n",
       "      <td>931</td>\n",
       "      <td>0.075452</td>\n",
       "    </tr>\n",
       "    <tr>\n",
       "      <th>гражданский брак</th>\n",
       "      <td>4151</td>\n",
       "      <td>388</td>\n",
       "      <td>0.093471</td>\n",
       "    </tr>\n",
       "    <tr>\n",
       "      <th>не женат / не замужем</th>\n",
       "      <td>2810</td>\n",
       "      <td>274</td>\n",
       "      <td>0.097509</td>\n",
       "    </tr>\n",
       "  </tbody>\n",
       "</table>\n",
       "</div>"
      ],
      "text/plain": [
       "                        debt          ratio\n",
       "                       count  sum          \n",
       "family_status                              \n",
       "вдовец / вдова           959   63  0.065693\n",
       "в разводе               1195   85  0.071130\n",
       "женат / замужем        12339  931  0.075452\n",
       "гражданский брак        4151  388  0.093471\n",
       "не женат / не замужем   2810  274  0.097509"
      ]
     },
     "metadata": {},
     "output_type": "display_data"
    }
   ],
   "source": [
    "df_grouped = df.groupby('family_status').agg({'debt': ['count', 'sum']})\n",
    "df_grouped['ratio'] = df_grouped['debt']['sum'] / df_grouped['debt']['count']\n",
    "df_grouped = df_grouped.sort_values(by='ratio')\n",
    "\n",
    "display(df_grouped)"
   ]
  },
  {
   "cell_type": "markdown",
   "metadata": {},
   "source": [
    "**Вывод**<br>\n",
    "Видно, что если клиент вдовец/вдова, то вероятность возврата в срок наивысшая.<br>\n",
    "Что напротив, если клиент не женат/не замужем, то вероятность возврата самая низкая "
   ]
  },
  {
   "cell_type": "markdown",
   "metadata": {},
   "source": [
    "- Есть ли зависимость между уровнем дохода и возвратом кредита в срок?"
   ]
  },
  {
   "cell_type": "code",
   "execution_count": 28,
   "metadata": {},
   "outputs": [
    {
     "data": {
      "text/html": [
       "<div>\n",
       "<style scoped>\n",
       "    .dataframe tbody tr th:only-of-type {\n",
       "        vertical-align: middle;\n",
       "    }\n",
       "\n",
       "    .dataframe tbody tr th {\n",
       "        vertical-align: top;\n",
       "    }\n",
       "\n",
       "    .dataframe thead tr th {\n",
       "        text-align: left;\n",
       "    }\n",
       "\n",
       "    .dataframe thead tr:last-of-type th {\n",
       "        text-align: right;\n",
       "    }\n",
       "</style>\n",
       "<table border=\"1\" class=\"dataframe\">\n",
       "  <thead>\n",
       "    <tr>\n",
       "      <th></th>\n",
       "      <th colspan=\"2\" halign=\"left\">debt</th>\n",
       "      <th>ratio</th>\n",
       "    </tr>\n",
       "    <tr>\n",
       "      <th></th>\n",
       "      <th>count</th>\n",
       "      <th>sum</th>\n",
       "      <th></th>\n",
       "    </tr>\n",
       "    <tr>\n",
       "      <th>category_income</th>\n",
       "      <th></th>\n",
       "      <th></th>\n",
       "      <th></th>\n",
       "    </tr>\n",
       "  </thead>\n",
       "  <tbody>\n",
       "    <tr>\n",
       "      <th>высокий уровень дохода</th>\n",
       "      <td>1482</td>\n",
       "      <td>106</td>\n",
       "      <td>0.071525</td>\n",
       "    </tr>\n",
       "    <tr>\n",
       "      <th>низкий уровень длхлда</th>\n",
       "      <td>4463</td>\n",
       "      <td>354</td>\n",
       "      <td>0.079319</td>\n",
       "    </tr>\n",
       "    <tr>\n",
       "      <th>средний уровень дохода</th>\n",
       "      <td>15509</td>\n",
       "      <td>1281</td>\n",
       "      <td>0.082597</td>\n",
       "    </tr>\n",
       "  </tbody>\n",
       "</table>\n",
       "</div>"
      ],
      "text/plain": [
       "                         debt           ratio\n",
       "                        count   sum          \n",
       "category_income                              \n",
       "высокий уровень дохода   1482   106  0.071525\n",
       "низкий уровень длхлда    4463   354  0.079319\n",
       "средний уровень дохода  15509  1281  0.082597"
      ]
     },
     "metadata": {},
     "output_type": "display_data"
    }
   ],
   "source": [
    "df_grouped = df.groupby('category_income').agg({'debt': ['count', 'sum']})\n",
    "df_grouped['ratio'] = df_grouped['debt']['sum'] / df_grouped['debt']['count']\n",
    "df_grouped = df_grouped.sort_values(by='ratio')\n",
    "\n",
    "display(df_grouped)"
   ]
  },
  {
   "cell_type": "markdown",
   "metadata": {},
   "source": [
    "**Вывод**<br>\n",
    "Видно, что если уровень дохода выше, то вероятность возврата выше, <br>\n",
    "При этом! Вероятность воврата ниже у клиентов со средним уровнем дохода (100-300 т.р.)"
   ]
  },
  {
   "cell_type": "markdown",
   "metadata": {},
   "source": [
    "- Как разные цели кредита влияют на его возврат в срок?"
   ]
  },
  {
   "cell_type": "code",
   "execution_count": 29,
   "metadata": {
    "scrolled": true
   },
   "outputs": [
    {
     "data": {
      "text/html": [
       "<div>\n",
       "<style scoped>\n",
       "    .dataframe tbody tr th:only-of-type {\n",
       "        vertical-align: middle;\n",
       "    }\n",
       "\n",
       "    .dataframe tbody tr th {\n",
       "        vertical-align: top;\n",
       "    }\n",
       "\n",
       "    .dataframe thead tr th {\n",
       "        text-align: left;\n",
       "    }\n",
       "\n",
       "    .dataframe thead tr:last-of-type th {\n",
       "        text-align: right;\n",
       "    }\n",
       "</style>\n",
       "<table border=\"1\" class=\"dataframe\">\n",
       "  <thead>\n",
       "    <tr>\n",
       "      <th></th>\n",
       "      <th colspan=\"2\" halign=\"left\">debt</th>\n",
       "      <th>ratio</th>\n",
       "    </tr>\n",
       "    <tr>\n",
       "      <th></th>\n",
       "      <th>count</th>\n",
       "      <th>sum</th>\n",
       "      <th></th>\n",
       "    </tr>\n",
       "    <tr>\n",
       "      <th>lemma_purpose</th>\n",
       "      <th></th>\n",
       "      <th></th>\n",
       "      <th></th>\n",
       "    </tr>\n",
       "  </thead>\n",
       "  <tbody>\n",
       "    <tr>\n",
       "      <th>жилье</th>\n",
       "      <td>4460</td>\n",
       "      <td>308</td>\n",
       "      <td>0.069058</td>\n",
       "    </tr>\n",
       "    <tr>\n",
       "      <th>недвижимость</th>\n",
       "      <td>6351</td>\n",
       "      <td>474</td>\n",
       "      <td>0.074634</td>\n",
       "    </tr>\n",
       "    <tr>\n",
       "      <th>свадьба</th>\n",
       "      <td>2324</td>\n",
       "      <td>186</td>\n",
       "      <td>0.080034</td>\n",
       "    </tr>\n",
       "    <tr>\n",
       "      <th>образование</th>\n",
       "      <td>4013</td>\n",
       "      <td>370</td>\n",
       "      <td>0.092200</td>\n",
       "    </tr>\n",
       "    <tr>\n",
       "      <th>автомобиль</th>\n",
       "      <td>4306</td>\n",
       "      <td>403</td>\n",
       "      <td>0.093590</td>\n",
       "    </tr>\n",
       "  </tbody>\n",
       "</table>\n",
       "</div>"
      ],
      "text/plain": [
       "               debt          ratio\n",
       "              count  sum          \n",
       "lemma_purpose                     \n",
       "жилье          4460  308  0.069058\n",
       "недвижимость   6351  474  0.074634\n",
       "свадьба        2324  186  0.080034\n",
       "образование    4013  370  0.092200\n",
       "автомобиль     4306  403  0.093590"
      ]
     },
     "metadata": {},
     "output_type": "display_data"
    }
   ],
   "source": [
    "df_grouped = df.groupby('lemma_purpose').agg({'debt': ['count', 'sum']})\n",
    "df_grouped['ratio'] = df_grouped['debt']['sum'] / df_grouped['debt']['count']\n",
    "df_grouped = df_grouped.sort_values(by='ratio')\n",
    "\n",
    "display(df_grouped)"
   ]
  },
  {
   "cell_type": "markdown",
   "metadata": {},
   "source": [
    "**Вывод**\n",
    "Видно, что цель кредита влияет на возврат кредита в срок. \n",
    "К примеру, мы видим, что если цель - покупка жилья, тогда возврат кредита выше в отлчие от других рассмтриваемых слечаев \n",
    "А вероятность воврат кредита на автомобиль самая низкая из рассматриваемых. "
   ]
  },
  {
   "cell_type": "markdown",
   "metadata": {},
   "source": [
    "## Шаг 4. Общий вывод"
   ]
  },
  {
   "cell_type": "markdown",
   "metadata": {},
   "source": [
    "Из полученных таблиц видно, что семейное положение и количество детей влияет на факт погашения кредита в срок.<br>\n",
    "Например, самым благоприяьным клиентом для банка будет вдовец/вдова без детей. <br>\n",
    "А самым неблагоприятным - если клиент не женат/не замужем с двумя детьми."
   ]
  },
  {
   "attachments": {
    "%D0%A1%D0%BD%D0%B8%D0%BC%D0%BE%D0%BA%20%D1%8D%D0%BA%D1%80%D0%B0%D0%BD%D0%B0%202021-12-27%20%D0%B2%2018.51.54.png": {
     "image/png": "[encoded data removed]"
    }
   },
   "cell_type": "markdown",
   "metadata": {},
   "source": [
    "![%D0%A1%D0%BD%D0%B8%D0%BC%D0%BE%D0%BA%20%D1%8D%D0%BA%D1%80%D0%B0%D0%BD%D0%B0%202021-12-27%20%D0%B2%2018.51.54.png](attachment:%D0%A1%D0%BD%D0%B8%D0%BC%D0%BE%D0%BA%20%D1%8D%D0%BA%D1%80%D0%B0%D0%BD%D0%B0%202021-12-27%20%D0%B2%2018.51.54.png)"
   ]
  },
  {
   "attachments": {
    "%D0%A1%D0%BD%D0%B8%D0%BC%D0%BE%D0%BA%20%D1%8D%D0%BA%D1%80%D0%B0%D0%BD%D0%B0%202021-12-27%20%D0%B2%2018.52.02.png": {
     "image/png": "[encoded data removed]"
    }
   },
   "cell_type": "markdown",
   "metadata": {},
   "source": [
    "![%D0%A1%D0%BD%D0%B8%D0%BC%D0%BE%D0%BA%20%D1%8D%D0%BA%D1%80%D0%B0%D0%BD%D0%B0%202021-12-27%20%D0%B2%2018.52.02.png](attachment:%D0%A1%D0%BD%D0%B8%D0%BC%D0%BE%D0%BA%20%D1%8D%D0%BA%D1%80%D0%B0%D0%BD%D0%B0%202021-12-27%20%D0%B2%2018.52.02.png)"
   ]
  }
 ],
 "metadata": {
  "ExecuteTimeLog": [
   {
    "duration": 637,
    "start_time": "2021-12-25T13:19:48.605Z"
   },
   {
    "duration": 55,
    "start_time": "2021-12-25T13:20:01.724Z"
   },
   {
    "duration": 65,
    "start_time": "2021-12-25T13:20:20.682Z"
   },
   {
    "duration": 12,
    "start_time": "2021-12-25T13:25:03.879Z"
   },
   {
    "duration": 57,
    "start_time": "2021-12-25T13:25:47.019Z"
   },
   {
    "duration": 10,
    "start_time": "2021-12-25T13:50:03.677Z"
   },
   {
    "duration": 11,
    "start_time": "2021-12-25T13:56:48.253Z"
   },
   {
    "duration": 10,
    "start_time": "2021-12-25T14:04:03.828Z"
   },
   {
    "duration": 20,
    "start_time": "2021-12-25T14:06:31.627Z"
   },
   {
    "duration": 61,
    "start_time": "2021-12-25T14:15:33.221Z"
   },
   {
    "duration": 59,
    "start_time": "2021-12-25T14:16:17.887Z"
   },
   {
    "duration": 56,
    "start_time": "2021-12-25T14:17:56.483Z"
   },
   {
    "duration": 192,
    "start_time": "2021-12-25T14:18:40.841Z"
   },
   {
    "duration": 8,
    "start_time": "2021-12-25T14:19:42.091Z"
   },
   {
    "duration": 7,
    "start_time": "2021-12-25T14:19:53.619Z"
   },
   {
    "duration": 10,
    "start_time": "2021-12-25T14:20:50.477Z"
   },
   {
    "duration": 15,
    "start_time": "2021-12-25T14:20:56.682Z"
   },
   {
    "duration": 16,
    "start_time": "2021-12-25T14:21:06.619Z"
   },
   {
    "duration": 14,
    "start_time": "2021-12-25T14:21:47.771Z"
   },
   {
    "duration": 14,
    "start_time": "2021-12-25T14:23:57.828Z"
   },
   {
    "duration": 5,
    "start_time": "2021-12-25T14:25:39.775Z"
   },
   {
    "duration": 4,
    "start_time": "2021-12-25T14:26:11.717Z"
   },
   {
    "duration": 5,
    "start_time": "2021-12-25T14:26:22.686Z"
   },
   {
    "duration": 6,
    "start_time": "2021-12-25T14:27:33.041Z"
   },
   {
    "duration": 175,
    "start_time": "2021-12-25T14:27:46.510Z"
   },
   {
    "duration": 140,
    "start_time": "2021-12-25T14:27:49.169Z"
   },
   {
    "duration": 6,
    "start_time": "2021-12-25T14:28:01.232Z"
   },
   {
    "duration": 6,
    "start_time": "2021-12-25T14:29:03.967Z"
   },
   {
    "duration": 7,
    "start_time": "2021-12-25T14:29:22.102Z"
   },
   {
    "duration": 11,
    "start_time": "2021-12-25T14:30:01.609Z"
   },
   {
    "duration": 10,
    "start_time": "2021-12-25T14:30:07.185Z"
   },
   {
    "duration": 9,
    "start_time": "2021-12-25T14:30:11.560Z"
   },
   {
    "duration": 9,
    "start_time": "2021-12-25T14:30:14.107Z"
   },
   {
    "duration": 59,
    "start_time": "2021-12-25T14:31:33.851Z"
   },
   {
    "duration": 11,
    "start_time": "2021-12-25T14:35:29.683Z"
   },
   {
    "duration": 43,
    "start_time": "2021-12-25T14:35:42.452Z"
   },
   {
    "duration": 8,
    "start_time": "2021-12-25T14:35:45.043Z"
   },
   {
    "duration": 141,
    "start_time": "2021-12-25T14:43:36.918Z"
   },
   {
    "duration": 150,
    "start_time": "2021-12-25T14:44:02.744Z"
   },
   {
    "duration": 7,
    "start_time": "2021-12-25T14:45:18.568Z"
   },
   {
    "duration": 15,
    "start_time": "2021-12-25T14:46:04.454Z"
   },
   {
    "duration": 144,
    "start_time": "2021-12-25T14:46:09.681Z"
   },
   {
    "duration": 22,
    "start_time": "2021-12-25T14:46:13.456Z"
   },
   {
    "duration": 7,
    "start_time": "2021-12-25T14:47:15.551Z"
   },
   {
    "duration": 34,
    "start_time": "2021-12-25T14:48:07.167Z"
   },
   {
    "duration": 16,
    "start_time": "2021-12-25T14:49:35.339Z"
   },
   {
    "duration": 347,
    "start_time": "2021-12-25T14:50:04.293Z"
   },
   {
    "duration": 17,
    "start_time": "2021-12-25T14:50:12.621Z"
   },
   {
    "duration": 10,
    "start_time": "2021-12-25T14:53:36.057Z"
   },
   {
    "duration": 4,
    "start_time": "2021-12-25T14:54:40.836Z"
   },
   {
    "duration": 11,
    "start_time": "2021-12-25T14:54:48.420Z"
   },
   {
    "duration": 11,
    "start_time": "2021-12-25T14:55:04.913Z"
   },
   {
    "duration": 11,
    "start_time": "2021-12-25T14:55:12.742Z"
   },
   {
    "duration": 4,
    "start_time": "2021-12-25T14:59:31.842Z"
   },
   {
    "duration": 8,
    "start_time": "2021-12-25T14:59:42.003Z"
   },
   {
    "duration": 8,
    "start_time": "2021-12-25T15:00:12.391Z"
   },
   {
    "duration": 49,
    "start_time": "2021-12-25T15:01:32.982Z"
   },
   {
    "duration": 4,
    "start_time": "2021-12-25T15:02:44.871Z"
   },
   {
    "duration": 3,
    "start_time": "2021-12-25T15:02:57.145Z"
   },
   {
    "duration": 8,
    "start_time": "2021-12-25T15:03:06.047Z"
   },
   {
    "duration": 8,
    "start_time": "2021-12-25T15:03:15.789Z"
   },
   {
    "duration": 41,
    "start_time": "2021-12-25T15:03:24.142Z"
   },
   {
    "duration": 47,
    "start_time": "2021-12-25T15:03:30.237Z"
   },
   {
    "duration": 48,
    "start_time": "2021-12-25T15:03:54.839Z"
   },
   {
    "duration": 138,
    "start_time": "2021-12-25T15:03:57.861Z"
   },
   {
    "duration": 151,
    "start_time": "2021-12-25T15:04:05.796Z"
   },
   {
    "duration": 6,
    "start_time": "2021-12-25T15:06:59.831Z"
   },
   {
    "duration": 5,
    "start_time": "2021-12-25T15:07:53.401Z"
   },
   {
    "duration": 57,
    "start_time": "2021-12-25T15:08:39.879Z"
   },
   {
    "duration": 7,
    "start_time": "2021-12-25T15:09:10.547Z"
   },
   {
    "duration": 7,
    "start_time": "2021-12-25T15:11:55.808Z"
   },
   {
    "duration": 11,
    "start_time": "2021-12-25T15:12:10.310Z"
   },
   {
    "duration": 10,
    "start_time": "2021-12-25T15:12:18.324Z"
   },
   {
    "duration": 7,
    "start_time": "2021-12-25T15:12:19.945Z"
   },
   {
    "duration": 10,
    "start_time": "2021-12-25T15:12:21.015Z"
   },
   {
    "duration": 62,
    "start_time": "2021-12-25T15:12:34.240Z"
   },
   {
    "duration": 12,
    "start_time": "2021-12-25T15:12:35.052Z"
   },
   {
    "duration": 12,
    "start_time": "2021-12-25T15:12:36.464Z"
   },
   {
    "duration": 11,
    "start_time": "2021-12-25T15:12:36.834Z"
   },
   {
    "duration": 7,
    "start_time": "2021-12-25T15:12:37.799Z"
   },
   {
    "duration": 8,
    "start_time": "2021-12-25T15:12:38.991Z"
   },
   {
    "duration": 6,
    "start_time": "2021-12-25T15:12:40.415Z"
   },
   {
    "duration": 8,
    "start_time": "2021-12-25T15:12:41.593Z"
   },
   {
    "duration": 9,
    "start_time": "2021-12-25T15:13:32.953Z"
   },
   {
    "duration": 6,
    "start_time": "2021-12-25T15:17:54.777Z"
   },
   {
    "duration": 5,
    "start_time": "2021-12-25T15:19:11.019Z"
   },
   {
    "duration": 143,
    "start_time": "2021-12-25T15:19:30.666Z"
   },
   {
    "duration": 1792,
    "start_time": "2021-12-25T15:19:48.178Z"
   },
   {
    "duration": 62,
    "start_time": "2021-12-25T15:20:11.357Z"
   },
   {
    "duration": 12,
    "start_time": "2021-12-25T15:20:12.469Z"
   },
   {
    "duration": 13,
    "start_time": "2021-12-25T15:20:14.593Z"
   },
   {
    "duration": 11,
    "start_time": "2021-12-25T15:20:15.081Z"
   },
   {
    "duration": 7,
    "start_time": "2021-12-25T15:20:16.219Z"
   },
   {
    "duration": 8,
    "start_time": "2021-12-25T15:20:18.433Z"
   },
   {
    "duration": 6,
    "start_time": "2021-12-25T15:20:21.573Z"
   },
   {
    "duration": 8,
    "start_time": "2021-12-25T15:20:24.991Z"
   },
   {
    "duration": 6,
    "start_time": "2021-12-25T15:20:27.502Z"
   },
   {
    "duration": 135,
    "start_time": "2021-12-25T15:20:29.226Z"
   },
   {
    "duration": 2054,
    "start_time": "2021-12-25T15:20:32.235Z"
   },
   {
    "duration": 147,
    "start_time": "2021-12-25T15:20:37.166Z"
   },
   {
    "duration": 1683,
    "start_time": "2021-12-25T15:21:05.300Z"
   },
   {
    "duration": 60,
    "start_time": "2021-12-25T15:21:08.018Z"
   },
   {
    "duration": 11,
    "start_time": "2021-12-25T15:21:08.443Z"
   },
   {
    "duration": 10,
    "start_time": "2021-12-25T15:21:09.565Z"
   },
   {
    "duration": 11,
    "start_time": "2021-12-25T15:21:09.803Z"
   },
   {
    "duration": 8,
    "start_time": "2021-12-25T15:21:10.580Z"
   },
   {
    "duration": 9,
    "start_time": "2021-12-25T15:21:11.546Z"
   },
   {
    "duration": 6,
    "start_time": "2021-12-25T15:21:12.704Z"
   },
   {
    "duration": 9,
    "start_time": "2021-12-25T15:21:13.528Z"
   },
   {
    "duration": 7,
    "start_time": "2021-12-25T15:21:16.673Z"
   },
   {
    "duration": 7,
    "start_time": "2021-12-25T15:21:17.851Z"
   },
   {
    "duration": 65,
    "start_time": "2021-12-25T15:21:39.530Z"
   },
   {
    "duration": 11,
    "start_time": "2021-12-25T15:21:39.885Z"
   },
   {
    "duration": 10,
    "start_time": "2021-12-25T15:21:40.729Z"
   },
   {
    "duration": 9,
    "start_time": "2021-12-25T15:21:40.898Z"
   },
   {
    "duration": 7,
    "start_time": "2021-12-25T15:21:41.310Z"
   },
   {
    "duration": 8,
    "start_time": "2021-12-25T15:21:41.999Z"
   },
   {
    "duration": 5,
    "start_time": "2021-12-25T15:21:43.066Z"
   },
   {
    "duration": 7,
    "start_time": "2021-12-25T15:21:43.800Z"
   },
   {
    "duration": 7,
    "start_time": "2021-12-25T15:21:45.289Z"
   },
   {
    "duration": 7,
    "start_time": "2021-12-25T15:21:50.702Z"
   },
   {
    "duration": 45,
    "start_time": "2021-12-25T15:22:55.778Z"
   },
   {
    "duration": 8,
    "start_time": "2021-12-25T15:23:19.569Z"
   },
   {
    "duration": 59,
    "start_time": "2021-12-25T15:23:23.592Z"
   },
   {
    "duration": 12,
    "start_time": "2021-12-25T15:23:23.942Z"
   },
   {
    "duration": 11,
    "start_time": "2021-12-25T15:23:24.764Z"
   },
   {
    "duration": 11,
    "start_time": "2021-12-25T15:23:24.932Z"
   },
   {
    "duration": 9,
    "start_time": "2021-12-25T15:23:25.290Z"
   },
   {
    "duration": 8,
    "start_time": "2021-12-25T15:23:26.058Z"
   },
   {
    "duration": 5,
    "start_time": "2021-12-25T15:23:27.035Z"
   },
   {
    "duration": 8,
    "start_time": "2021-12-25T15:23:27.889Z"
   },
   {
    "duration": 7,
    "start_time": "2021-12-25T15:23:28.756Z"
   },
   {
    "duration": 8,
    "start_time": "2021-12-25T15:23:29.623Z"
   },
   {
    "duration": 8,
    "start_time": "2021-12-25T15:23:42.214Z"
   },
   {
    "duration": 8,
    "start_time": "2021-12-25T15:23:42.695Z"
   },
   {
    "duration": 57,
    "start_time": "2021-12-25T15:23:47.147Z"
   },
   {
    "duration": 11,
    "start_time": "2021-12-25T15:23:47.518Z"
   },
   {
    "duration": 11,
    "start_time": "2021-12-25T15:23:48.360Z"
   },
   {
    "duration": 11,
    "start_time": "2021-12-25T15:23:48.731Z"
   },
   {
    "duration": 8,
    "start_time": "2021-12-25T15:23:49.330Z"
   },
   {
    "duration": 9,
    "start_time": "2021-12-25T15:23:50.156Z"
   },
   {
    "duration": 6,
    "start_time": "2021-12-25T15:23:51.361Z"
   },
   {
    "duration": 7,
    "start_time": "2021-12-25T15:23:52.419Z"
   },
   {
    "duration": 8,
    "start_time": "2021-12-25T15:23:53.386Z"
   },
   {
    "duration": 9,
    "start_time": "2021-12-25T15:23:54.877Z"
   },
   {
    "duration": 6,
    "start_time": "2021-12-25T15:25:39.839Z"
   },
   {
    "duration": 9,
    "start_time": "2021-12-25T15:25:51.894Z"
   },
   {
    "duration": 8,
    "start_time": "2021-12-25T15:26:35.936Z"
   },
   {
    "duration": 13,
    "start_time": "2021-12-25T15:27:00.070Z"
   },
   {
    "duration": 8,
    "start_time": "2021-12-25T15:27:02.855Z"
   },
   {
    "duration": 8,
    "start_time": "2021-12-25T15:27:04.006Z"
   },
   {
    "duration": 57,
    "start_time": "2021-12-25T15:27:08.091Z"
   },
   {
    "duration": 12,
    "start_time": "2021-12-25T15:27:08.459Z"
   },
   {
    "duration": 10,
    "start_time": "2021-12-25T15:27:09.318Z"
   },
   {
    "duration": 11,
    "start_time": "2021-12-25T15:27:09.484Z"
   },
   {
    "duration": 7,
    "start_time": "2021-12-25T15:27:09.844Z"
   },
   {
    "duration": 8,
    "start_time": "2021-12-25T15:27:10.497Z"
   },
   {
    "duration": 6,
    "start_time": "2021-12-25T15:27:11.830Z"
   },
   {
    "duration": 11,
    "start_time": "2021-12-25T15:27:13.366Z"
   },
   {
    "duration": 8,
    "start_time": "2021-12-25T15:27:14.479Z"
   },
   {
    "duration": 9,
    "start_time": "2021-12-25T15:27:15.800Z"
   },
   {
    "duration": 147,
    "start_time": "2021-12-25T15:33:52.294Z"
   },
   {
    "duration": 13,
    "start_time": "2021-12-25T15:38:06.845Z"
   },
   {
    "duration": 22,
    "start_time": "2021-12-25T15:38:14.312Z"
   },
   {
    "duration": 60,
    "start_time": "2021-12-25T15:41:51.974Z"
   },
   {
    "duration": 12,
    "start_time": "2021-12-25T15:41:52.732Z"
   },
   {
    "duration": 11,
    "start_time": "2021-12-25T15:41:55.157Z"
   },
   {
    "duration": 10,
    "start_time": "2021-12-25T15:41:57.141Z"
   },
   {
    "duration": 7,
    "start_time": "2021-12-25T15:41:58.246Z"
   },
   {
    "duration": 154,
    "start_time": "2021-12-25T15:42:00.676Z"
   },
   {
    "duration": 9,
    "start_time": "2021-12-25T15:42:01.277Z"
   },
   {
    "duration": 60,
    "start_time": "2021-12-25T15:45:20.203Z"
   },
   {
    "duration": 11,
    "start_time": "2021-12-25T15:45:20.568Z"
   },
   {
    "duration": 11,
    "start_time": "2021-12-25T15:45:21.683Z"
   },
   {
    "duration": 10,
    "start_time": "2021-12-25T15:45:22.015Z"
   },
   {
    "duration": 7,
    "start_time": "2021-12-25T15:45:22.800Z"
   },
   {
    "duration": 7,
    "start_time": "2021-12-25T15:45:26.189Z"
   },
   {
    "duration": 136,
    "start_time": "2021-12-25T15:45:29.724Z"
   },
   {
    "duration": 11,
    "start_time": "2021-12-25T15:47:57.549Z"
   },
   {
    "duration": 9,
    "start_time": "2021-12-25T15:48:35.657Z"
   },
   {
    "duration": 6,
    "start_time": "2021-12-25T15:56:11.348Z"
   },
   {
    "duration": 7,
    "start_time": "2021-12-25T15:57:10.432Z"
   },
   {
    "duration": 11,
    "start_time": "2021-12-25T15:57:22.132Z"
   },
   {
    "duration": 5,
    "start_time": "2021-12-25T15:57:45.500Z"
   },
   {
    "duration": 4,
    "start_time": "2021-12-25T15:57:53.019Z"
   },
   {
    "duration": 57,
    "start_time": "2021-12-25T15:57:57.890Z"
   },
   {
    "duration": 10,
    "start_time": "2021-12-25T15:57:58.215Z"
   },
   {
    "duration": 10,
    "start_time": "2021-12-25T15:57:59.001Z"
   },
   {
    "duration": 9,
    "start_time": "2021-12-25T15:57:59.172Z"
   },
   {
    "duration": 8,
    "start_time": "2021-12-25T15:57:59.522Z"
   },
   {
    "duration": 9,
    "start_time": "2021-12-25T15:57:59.879Z"
   },
   {
    "duration": 7,
    "start_time": "2021-12-25T15:58:00.630Z"
   },
   {
    "duration": 12,
    "start_time": "2021-12-25T15:58:01.374Z"
   },
   {
    "duration": 8,
    "start_time": "2021-12-25T15:58:02.230Z"
   },
   {
    "duration": 7,
    "start_time": "2021-12-25T15:58:02.377Z"
   },
   {
    "duration": 8,
    "start_time": "2021-12-25T15:58:03.449Z"
   },
   {
    "duration": 12,
    "start_time": "2021-12-25T15:58:03.917Z"
   },
   {
    "duration": 144,
    "start_time": "2021-12-25T15:58:07.671Z"
   },
   {
    "duration": 8,
    "start_time": "2021-12-25T15:59:18.158Z"
   },
   {
    "duration": 14,
    "start_time": "2021-12-25T15:59:19.562Z"
   },
   {
    "duration": 8,
    "start_time": "2021-12-25T15:59:51.493Z"
   },
   {
    "duration": 8,
    "start_time": "2021-12-25T16:01:29.885Z"
   },
   {
    "duration": 58,
    "start_time": "2021-12-25T16:03:38.544Z"
   },
   {
    "duration": 11,
    "start_time": "2021-12-25T16:03:38.935Z"
   },
   {
    "duration": 11,
    "start_time": "2021-12-25T16:03:39.961Z"
   },
   {
    "duration": 10,
    "start_time": "2021-12-25T16:03:40.150Z"
   },
   {
    "duration": 8,
    "start_time": "2021-12-25T16:03:40.553Z"
   },
   {
    "duration": 8,
    "start_time": "2021-12-25T16:03:40.997Z"
   },
   {
    "duration": 6,
    "start_time": "2021-12-25T16:03:42.109Z"
   },
   {
    "duration": 12,
    "start_time": "2021-12-25T16:03:42.829Z"
   },
   {
    "duration": 7,
    "start_time": "2021-12-25T16:03:43.834Z"
   },
   {
    "duration": 8,
    "start_time": "2021-12-25T16:03:44.208Z"
   },
   {
    "duration": 7,
    "start_time": "2021-12-25T16:03:48.433Z"
   },
   {
    "duration": 13,
    "start_time": "2021-12-25T16:03:57.812Z"
   },
   {
    "duration": 62,
    "start_time": "2021-12-25T16:04:31.025Z"
   },
   {
    "duration": 19,
    "start_time": "2021-12-25T16:04:31.891Z"
   },
   {
    "duration": 12,
    "start_time": "2021-12-25T16:04:34.370Z"
   },
   {
    "duration": 10,
    "start_time": "2021-12-25T16:04:34.768Z"
   },
   {
    "duration": 9,
    "start_time": "2021-12-25T16:04:35.258Z"
   },
   {
    "duration": 10,
    "start_time": "2021-12-25T16:04:35.825Z"
   },
   {
    "duration": 8,
    "start_time": "2021-12-25T16:04:36.528Z"
   },
   {
    "duration": 13,
    "start_time": "2021-12-25T16:04:37.356Z"
   },
   {
    "duration": 8,
    "start_time": "2021-12-25T16:04:38.181Z"
   },
   {
    "duration": 8,
    "start_time": "2021-12-25T16:04:38.554Z"
   },
   {
    "duration": 9,
    "start_time": "2021-12-25T16:04:39.718Z"
   },
   {
    "duration": 13,
    "start_time": "2021-12-25T16:04:43.463Z"
   },
   {
    "duration": 8,
    "start_time": "2021-12-25T16:04:44.149Z"
   },
   {
    "duration": 5,
    "start_time": "2021-12-25T16:05:05.314Z"
   },
   {
    "duration": 8,
    "start_time": "2021-12-25T16:05:20.447Z"
   },
   {
    "duration": 8,
    "start_time": "2021-12-25T16:05:32.637Z"
   },
   {
    "duration": 11,
    "start_time": "2021-12-25T16:09:54.859Z"
   },
   {
    "duration": 16,
    "start_time": "2021-12-25T16:10:55.260Z"
   },
   {
    "duration": 13,
    "start_time": "2021-12-25T16:11:28.678Z"
   },
   {
    "duration": 16,
    "start_time": "2021-12-25T16:11:37.155Z"
   },
   {
    "duration": 15,
    "start_time": "2021-12-25T16:12:22.212Z"
   },
   {
    "duration": 43,
    "start_time": "2021-12-25T16:13:15.170Z"
   },
   {
    "duration": 15,
    "start_time": "2021-12-25T16:13:17.650Z"
   },
   {
    "duration": 150,
    "start_time": "2021-12-25T16:13:49.870Z"
   },
   {
    "duration": 29,
    "start_time": "2021-12-25T16:14:27.633Z"
   },
   {
    "duration": 42,
    "start_time": "2021-12-25T16:14:47.063Z"
   },
   {
    "duration": 17,
    "start_time": "2021-12-25T16:15:23.411Z"
   },
   {
    "duration": 36,
    "start_time": "2021-12-25T16:15:59.677Z"
   },
   {
    "duration": 15,
    "start_time": "2021-12-25T16:16:28.080Z"
   },
   {
    "duration": 36,
    "start_time": "2021-12-25T16:16:31.596Z"
   },
   {
    "duration": 14,
    "start_time": "2021-12-25T16:19:40.540Z"
   },
   {
    "duration": 34,
    "start_time": "2021-12-25T16:19:57.449Z"
   },
   {
    "duration": 16,
    "start_time": "2021-12-25T16:19:59.174Z"
   },
   {
    "duration": 32,
    "start_time": "2021-12-25T16:20:02.013Z"
   },
   {
    "duration": 17,
    "start_time": "2021-12-25T16:20:02.669Z"
   },
   {
    "duration": 1098,
    "start_time": "2021-12-26T09:35:30.614Z"
   },
   {
    "duration": 11,
    "start_time": "2021-12-26T09:35:31.714Z"
   },
   {
    "duration": 11,
    "start_time": "2021-12-26T09:35:31.988Z"
   },
   {
    "duration": 12,
    "start_time": "2021-12-26T09:35:32.088Z"
   },
   {
    "duration": 8,
    "start_time": "2021-12-26T09:35:32.617Z"
   },
   {
    "duration": 8,
    "start_time": "2021-12-26T09:35:32.969Z"
   },
   {
    "duration": 6,
    "start_time": "2021-12-26T09:35:33.432Z"
   },
   {
    "duration": 13,
    "start_time": "2021-12-26T09:35:34.072Z"
   },
   {
    "duration": 12,
    "start_time": "2021-12-26T09:35:34.791Z"
   },
   {
    "duration": 8,
    "start_time": "2021-12-26T09:35:35.324Z"
   },
   {
    "duration": 267,
    "start_time": "2021-12-26T09:35:36.283Z"
   },
   {
    "duration": 10,
    "start_time": "2021-12-26T09:35:36.668Z"
   },
   {
    "duration": 7,
    "start_time": "2021-12-26T09:35:37.195Z"
   },
   {
    "duration": 214,
    "start_time": "2021-12-26T09:35:40.131Z"
   },
   {
    "duration": 12,
    "start_time": "2021-12-26T09:35:40.636Z"
   },
   {
    "duration": 57,
    "start_time": "2021-12-26T09:36:08.854Z"
   },
   {
    "duration": 10,
    "start_time": "2021-12-26T09:36:13.009Z"
   },
   {
    "duration": 9,
    "start_time": "2021-12-26T09:36:23.967Z"
   },
   {
    "duration": 12,
    "start_time": "2021-12-26T09:36:25.360Z"
   },
   {
    "duration": 9,
    "start_time": "2021-12-26T09:36:32.154Z"
   },
   {
    "duration": 7,
    "start_time": "2021-12-26T09:36:40.028Z"
   },
   {
    "duration": 7,
    "start_time": "2021-12-26T09:36:45.626Z"
   },
   {
    "duration": 11,
    "start_time": "2021-12-26T09:36:48.574Z"
   },
   {
    "duration": 7,
    "start_time": "2021-12-26T09:37:01.903Z"
   },
   {
    "duration": 7,
    "start_time": "2021-12-26T09:37:04.100Z"
   },
   {
    "duration": 208,
    "start_time": "2021-12-26T09:37:12.285Z"
   },
   {
    "duration": 7,
    "start_time": "2021-12-26T09:37:31.345Z"
   },
   {
    "duration": 9,
    "start_time": "2021-12-26T09:37:35.115Z"
   },
   {
    "duration": 7,
    "start_time": "2021-12-26T09:37:44.147Z"
   },
   {
    "duration": 4,
    "start_time": "2021-12-26T09:37:49.286Z"
   },
   {
    "duration": 10,
    "start_time": "2021-12-26T09:37:52.669Z"
   },
   {
    "duration": 16,
    "start_time": "2021-12-26T09:37:59.196Z"
   },
   {
    "duration": 43,
    "start_time": "2021-12-26T09:38:04.197Z"
   },
   {
    "duration": 15,
    "start_time": "2021-12-26T09:38:06.188Z"
   },
   {
    "duration": 25,
    "start_time": "2021-12-26T09:38:08.463Z"
   },
   {
    "duration": 15,
    "start_time": "2021-12-26T09:38:10.284Z"
   },
   {
    "duration": 29,
    "start_time": "2021-12-26T09:39:23.623Z"
   },
   {
    "duration": 35,
    "start_time": "2021-12-26T09:39:59.835Z"
   },
   {
    "duration": 16,
    "start_time": "2021-12-26T09:40:01.476Z"
   },
   {
    "duration": 14,
    "start_time": "2021-12-26T09:40:27.188Z"
   },
   {
    "duration": 35,
    "start_time": "2021-12-26T09:40:28.315Z"
   },
   {
    "duration": 15,
    "start_time": "2021-12-26T09:40:29.361Z"
   },
   {
    "duration": 22,
    "start_time": "2021-12-26T09:41:47.192Z"
   },
   {
    "duration": 14,
    "start_time": "2021-12-26T09:41:49.878Z"
   },
   {
    "duration": 29,
    "start_time": "2021-12-26T09:42:00.465Z"
   },
   {
    "duration": 30,
    "start_time": "2021-12-26T09:42:21.575Z"
   },
   {
    "duration": 22,
    "start_time": "2021-12-26T09:42:37.016Z"
   },
   {
    "duration": 15,
    "start_time": "2021-12-26T09:42:38.646Z"
   },
   {
    "duration": 9,
    "start_time": "2021-12-26T09:42:51.474Z"
   },
   {
    "duration": 22,
    "start_time": "2021-12-26T09:43:26.874Z"
   },
   {
    "duration": 14,
    "start_time": "2021-12-26T09:43:27.221Z"
   },
   {
    "duration": 10,
    "start_time": "2021-12-26T09:43:27.639Z"
   },
   {
    "duration": 207,
    "start_time": "2021-12-26T09:58:12.025Z"
   },
   {
    "duration": 202,
    "start_time": "2021-12-26T09:58:17.748Z"
   },
   {
    "duration": 7680,
    "start_time": "2021-12-26T09:59:02.881Z"
   },
   {
    "duration": 221,
    "start_time": "2021-12-26T10:03:14.354Z"
   },
   {
    "duration": 3567,
    "start_time": "2021-12-26T10:03:34.584Z"
   },
   {
    "duration": 20,
    "start_time": "2021-12-26T10:03:44.769Z"
   },
   {
    "duration": 17,
    "start_time": "2021-12-26T10:06:15.253Z"
   },
   {
    "duration": 5,
    "start_time": "2021-12-26T10:16:18.980Z"
   },
   {
    "duration": 1434,
    "start_time": "2021-12-26T10:16:28.166Z"
   },
   {
    "duration": 75,
    "start_time": "2021-12-26T10:16:32.454Z"
   },
   {
    "duration": 1644,
    "start_time": "2021-12-26T10:16:36.050Z"
   },
   {
    "duration": 5,
    "start_time": "2021-12-26T10:16:50.530Z"
   },
   {
    "duration": 17,
    "start_time": "2021-12-26T10:18:27.248Z"
   },
   {
    "duration": 8,
    "start_time": "2021-12-26T10:18:46.097Z"
   },
   {
    "duration": 13,
    "start_time": "2021-12-26T10:18:53.510Z"
   },
   {
    "duration": 13,
    "start_time": "2021-12-26T10:19:22.188Z"
   },
   {
    "duration": 14,
    "start_time": "2021-12-26T10:19:22.789Z"
   },
   {
    "duration": 14,
    "start_time": "2021-12-26T10:21:38.093Z"
   },
   {
    "duration": 13,
    "start_time": "2021-12-26T10:22:33.365Z"
   },
   {
    "duration": 5,
    "start_time": "2021-12-26T10:37:47.381Z"
   },
   {
    "duration": 5,
    "start_time": "2021-12-26T10:38:59.032Z"
   },
   {
    "duration": 66,
    "start_time": "2021-12-26T10:41:18.946Z"
   },
   {
    "duration": 66,
    "start_time": "2021-12-26T10:41:39.073Z"
   },
   {
    "duration": 71,
    "start_time": "2021-12-26T10:41:43.210Z"
   },
   {
    "duration": 71,
    "start_time": "2021-12-26T10:41:54.311Z"
   },
   {
    "duration": 84,
    "start_time": "2021-12-26T10:42:00.204Z"
   },
   {
    "duration": 63,
    "start_time": "2021-12-26T10:42:59.311Z"
   },
   {
    "duration": 10,
    "start_time": "2021-12-26T10:43:02.751Z"
   },
   {
    "duration": 98,
    "start_time": "2021-12-26T10:43:30.062Z"
   },
   {
    "duration": 9,
    "start_time": "2021-12-26T10:43:35.528Z"
   },
   {
    "duration": 8,
    "start_time": "2021-12-26T10:44:05.255Z"
   },
   {
    "duration": 9,
    "start_time": "2021-12-26T10:44:07.770Z"
   },
   {
    "duration": 4,
    "start_time": "2021-12-26T10:44:09.075Z"
   },
   {
    "duration": 58,
    "start_time": "2021-12-26T10:44:24.893Z"
   },
   {
    "duration": 11,
    "start_time": "2021-12-26T10:44:25.570Z"
   },
   {
    "duration": 10,
    "start_time": "2021-12-26T10:44:27.193Z"
   },
   {
    "duration": 10,
    "start_time": "2021-12-26T10:44:27.528Z"
   },
   {
    "duration": 6,
    "start_time": "2021-12-26T10:44:28.140Z"
   },
   {
    "duration": 7,
    "start_time": "2021-12-26T10:44:28.571Z"
   },
   {
    "duration": 6,
    "start_time": "2021-12-26T10:44:28.986Z"
   },
   {
    "duration": 11,
    "start_time": "2021-12-26T10:44:29.390Z"
   },
   {
    "duration": 7,
    "start_time": "2021-12-26T10:44:29.919Z"
   },
   {
    "duration": 7,
    "start_time": "2021-12-26T10:44:30.297Z"
   },
   {
    "duration": 6,
    "start_time": "2021-12-26T10:44:31.119Z"
   },
   {
    "duration": 10,
    "start_time": "2021-12-26T10:44:31.491Z"
   },
   {
    "duration": 7,
    "start_time": "2021-12-26T10:44:31.888Z"
   },
   {
    "duration": 5,
    "start_time": "2021-12-26T10:44:33.825Z"
   },
   {
    "duration": 11,
    "start_time": "2021-12-26T10:44:34.263Z"
   },
   {
    "duration": 15,
    "start_time": "2021-12-26T10:44:35.927Z"
   },
   {
    "duration": 42,
    "start_time": "2021-12-26T10:44:36.371Z"
   },
   {
    "duration": 13,
    "start_time": "2021-12-26T10:44:36.863Z"
   },
   {
    "duration": 22,
    "start_time": "2021-12-26T10:44:37.350Z"
   },
   {
    "duration": 14,
    "start_time": "2021-12-26T10:44:37.751Z"
   },
   {
    "duration": 9,
    "start_time": "2021-12-26T10:44:38.243Z"
   },
   {
    "duration": 3121,
    "start_time": "2021-12-26T10:44:40.937Z"
   },
   {
    "duration": 7,
    "start_time": "2021-12-26T10:44:44.060Z"
   },
   {
    "duration": 13,
    "start_time": "2021-12-26T10:44:45.416Z"
   },
   {
    "duration": 12,
    "start_time": "2021-12-26T10:44:46.076Z"
   },
   {
    "duration": 14,
    "start_time": "2021-12-26T10:44:49.533Z"
   },
   {
    "duration": 4,
    "start_time": "2021-12-26T10:44:51.825Z"
   },
   {
    "duration": 10,
    "start_time": "2021-12-26T10:44:56.128Z"
   },
   {
    "duration": 7,
    "start_time": "2021-12-26T10:45:25.208Z"
   },
   {
    "duration": 63,
    "start_time": "2021-12-26T10:45:33.036Z"
   },
   {
    "duration": 10,
    "start_time": "2021-12-26T10:45:33.568Z"
   },
   {
    "duration": 10,
    "start_time": "2021-12-26T10:45:34.986Z"
   },
   {
    "duration": 9,
    "start_time": "2021-12-26T10:45:35.232Z"
   },
   {
    "duration": 8,
    "start_time": "2021-12-26T10:45:35.807Z"
   },
   {
    "duration": 7,
    "start_time": "2021-12-26T10:45:36.348Z"
   },
   {
    "duration": 6,
    "start_time": "2021-12-26T10:45:36.942Z"
   },
   {
    "duration": 12,
    "start_time": "2021-12-26T10:45:37.520Z"
   },
   {
    "duration": 8,
    "start_time": "2021-12-26T10:45:37.958Z"
   },
   {
    "duration": 7,
    "start_time": "2021-12-26T10:45:38.122Z"
   },
   {
    "duration": 5,
    "start_time": "2021-12-26T10:45:38.456Z"
   },
   {
    "duration": 10,
    "start_time": "2021-12-26T10:45:38.628Z"
   },
   {
    "duration": 6,
    "start_time": "2021-12-26T10:45:38.791Z"
   },
   {
    "duration": 4,
    "start_time": "2021-12-26T10:45:39.695Z"
   },
   {
    "duration": 11,
    "start_time": "2021-12-26T10:45:39.887Z"
   },
   {
    "duration": 14,
    "start_time": "2021-12-26T10:45:40.625Z"
   },
   {
    "duration": 39,
    "start_time": "2021-12-26T10:45:40.808Z"
   },
   {
    "duration": 13,
    "start_time": "2021-12-26T10:45:41.072Z"
   },
   {
    "duration": 21,
    "start_time": "2021-12-26T10:45:41.496Z"
   },
   {
    "duration": 13,
    "start_time": "2021-12-26T10:45:41.640Z"
   },
   {
    "duration": 9,
    "start_time": "2021-12-26T10:45:41.899Z"
   },
   {
    "duration": 3463,
    "start_time": "2021-12-26T10:45:43.400Z"
   },
   {
    "duration": 5,
    "start_time": "2021-12-26T10:45:46.865Z"
   },
   {
    "duration": 12,
    "start_time": "2021-12-26T10:45:47.833Z"
   },
   {
    "duration": 13,
    "start_time": "2021-12-26T10:45:48.541Z"
   },
   {
    "duration": 15,
    "start_time": "2021-12-26T10:45:50.762Z"
   },
   {
    "duration": 4,
    "start_time": "2021-12-26T10:45:53.215Z"
   },
   {
    "duration": 7,
    "start_time": "2021-12-26T10:45:55.989Z"
   },
   {
    "duration": 8,
    "start_time": "2021-12-26T10:46:00.654Z"
   },
   {
    "duration": 9,
    "start_time": "2021-12-26T10:46:07.071Z"
   },
   {
    "duration": 5,
    "start_time": "2021-12-26T10:47:36.646Z"
   },
   {
    "duration": 6,
    "start_time": "2021-12-26T10:47:45.407Z"
   },
   {
    "duration": 6,
    "start_time": "2021-12-26T10:48:42.925Z"
   },
   {
    "duration": 6,
    "start_time": "2021-12-26T10:49:15.263Z"
   },
   {
    "duration": 6,
    "start_time": "2021-12-26T10:49:45.073Z"
   },
   {
    "duration": 5,
    "start_time": "2021-12-26T10:50:22.232Z"
   },
   {
    "duration": 4,
    "start_time": "2021-12-26T10:50:29.569Z"
   },
   {
    "duration": 4,
    "start_time": "2021-12-26T10:50:53.987Z"
   },
   {
    "duration": 7,
    "start_time": "2021-12-26T10:50:58.517Z"
   },
   {
    "duration": 7,
    "start_time": "2021-12-26T10:51:37.554Z"
   },
   {
    "duration": 11,
    "start_time": "2021-12-26T10:53:27.138Z"
   },
   {
    "duration": 13,
    "start_time": "2021-12-26T10:53:35.168Z"
   },
   {
    "duration": 11,
    "start_time": "2021-12-26T10:53:46.463Z"
   },
   {
    "duration": 4973,
    "start_time": "2021-12-26T10:55:12.798Z"
   },
   {
    "duration": 10,
    "start_time": "2021-12-26T10:55:33.436Z"
   },
   {
    "duration": 14,
    "start_time": "2021-12-26T10:55:59.337Z"
   },
   {
    "duration": 13,
    "start_time": "2021-12-26T10:56:43.072Z"
   },
   {
    "duration": 14,
    "start_time": "2021-12-26T10:56:50.532Z"
   },
   {
    "duration": 9,
    "start_time": "2021-12-26T10:57:36.758Z"
   },
   {
    "duration": 11,
    "start_time": "2021-12-26T10:57:45.922Z"
   },
   {
    "duration": 15,
    "start_time": "2021-12-26T10:58:16.860Z"
   },
   {
    "duration": 14,
    "start_time": "2021-12-26T10:58:53.511Z"
   },
   {
    "duration": 5,
    "start_time": "2021-12-26T10:59:15.792Z"
   },
   {
    "duration": 5,
    "start_time": "2021-12-26T11:04:24.736Z"
   },
   {
    "duration": 7,
    "start_time": "2021-12-26T11:04:36.009Z"
   },
   {
    "duration": 18,
    "start_time": "2021-12-26T11:06:30.476Z"
   },
   {
    "duration": 12,
    "start_time": "2021-12-26T11:06:31.354Z"
   },
   {
    "duration": 14,
    "start_time": "2021-12-26T11:06:34.641Z"
   },
   {
    "duration": 4,
    "start_time": "2021-12-26T11:06:34.982Z"
   },
   {
    "duration": 8,
    "start_time": "2021-12-26T11:06:35.326Z"
   },
   {
    "duration": 15,
    "start_time": "2021-12-26T11:06:35.698Z"
   },
   {
    "duration": 14,
    "start_time": "2021-12-26T11:06:37.705Z"
   },
   {
    "duration": 6,
    "start_time": "2021-12-26T11:06:38.128Z"
   },
   {
    "duration": 9,
    "start_time": "2021-12-26T11:06:42.224Z"
   },
   {
    "duration": 11,
    "start_time": "2021-12-26T11:07:46.073Z"
   },
   {
    "duration": 12,
    "start_time": "2021-12-26T11:07:47.133Z"
   },
   {
    "duration": 12,
    "start_time": "2021-12-26T11:07:51.541Z"
   },
   {
    "duration": 4,
    "start_time": "2021-12-26T11:07:51.698Z"
   },
   {
    "duration": 8,
    "start_time": "2021-12-26T11:07:51.864Z"
   },
   {
    "duration": 13,
    "start_time": "2021-12-26T11:07:52.007Z"
   },
   {
    "duration": 14,
    "start_time": "2021-12-26T11:07:52.738Z"
   },
   {
    "duration": 5,
    "start_time": "2021-12-26T11:07:52.882Z"
   },
   {
    "duration": 6,
    "start_time": "2021-12-26T11:07:55.531Z"
   },
   {
    "duration": 14,
    "start_time": "2021-12-26T11:09:26.052Z"
   },
   {
    "duration": 11,
    "start_time": "2021-12-26T11:09:36.860Z"
   },
   {
    "duration": 11,
    "start_time": "2021-12-26T11:09:50.135Z"
   },
   {
    "duration": 22,
    "start_time": "2021-12-26T11:10:00.322Z"
   },
   {
    "duration": 5,
    "start_time": "2021-12-26T11:10:00.987Z"
   },
   {
    "duration": 14,
    "start_time": "2021-12-26T11:10:04.041Z"
   },
   {
    "duration": 12,
    "start_time": "2021-12-26T11:10:26.922Z"
   },
   {
    "duration": 14,
    "start_time": "2021-12-26T11:10:43.230Z"
   },
   {
    "duration": 938,
    "start_time": "2021-12-26T11:21:56.597Z"
   },
   {
    "duration": 954,
    "start_time": "2021-12-26T11:22:54.526Z"
   },
   {
    "duration": 10,
    "start_time": "2021-12-26T11:23:03.138Z"
   },
   {
    "duration": 210,
    "start_time": "2021-12-26T11:23:13.916Z"
   },
   {
    "duration": 10,
    "start_time": "2021-12-26T11:23:17.975Z"
   },
   {
    "duration": 13,
    "start_time": "2021-12-26T11:23:37.766Z"
   },
   {
    "duration": 24,
    "start_time": "2021-12-26T11:24:15.157Z"
   },
   {
    "duration": 20,
    "start_time": "2021-12-26T11:26:32.745Z"
   },
   {
    "duration": 5,
    "start_time": "2021-12-26T11:27:40.019Z"
   },
   {
    "duration": 631,
    "start_time": "2021-12-27T08:56:26.130Z"
   },
   {
    "duration": 10,
    "start_time": "2021-12-27T08:56:29.031Z"
   },
   {
    "duration": 4,
    "start_time": "2021-12-27T08:57:15.267Z"
   },
   {
    "duration": 12,
    "start_time": "2021-12-27T08:57:24.118Z"
   },
   {
    "duration": 4,
    "start_time": "2021-12-27T08:57:30.874Z"
   },
   {
    "duration": 7,
    "start_time": "2021-12-27T09:01:13.602Z"
   },
   {
    "duration": 8,
    "start_time": "2021-12-27T09:01:39.067Z"
   },
   {
    "duration": 6,
    "start_time": "2021-12-27T09:01:43.816Z"
   },
   {
    "duration": 6,
    "start_time": "2021-12-27T09:01:47.161Z"
   },
   {
    "duration": 7,
    "start_time": "2021-12-27T09:05:48.637Z"
   },
   {
    "duration": 12,
    "start_time": "2021-12-27T09:07:29.963Z"
   },
   {
    "duration": 20,
    "start_time": "2021-12-27T09:07:35.804Z"
   },
   {
    "duration": 6,
    "start_time": "2021-12-27T09:08:37.009Z"
   },
   {
    "duration": 14,
    "start_time": "2021-12-27T09:09:27.467Z"
   },
   {
    "duration": 6,
    "start_time": "2021-12-27T09:09:49.530Z"
   },
   {
    "duration": 6,
    "start_time": "2021-12-27T09:10:59.678Z"
   },
   {
    "duration": 9,
    "start_time": "2021-12-27T09:11:37.691Z"
   },
   {
    "duration": 8,
    "start_time": "2021-12-27T09:11:46.559Z"
   },
   {
    "duration": 55,
    "start_time": "2021-12-27T09:11:51.161Z"
   },
   {
    "duration": 10,
    "start_time": "2021-12-27T09:11:52.086Z"
   },
   {
    "duration": 4,
    "start_time": "2021-12-27T09:11:54.591Z"
   },
   {
    "duration": 8,
    "start_time": "2021-12-27T09:11:55.689Z"
   },
   {
    "duration": 11,
    "start_time": "2021-12-27T09:11:59.188Z"
   },
   {
    "duration": 8,
    "start_time": "2021-12-27T09:11:59.959Z"
   },
   {
    "duration": 5,
    "start_time": "2021-12-27T09:13:25.410Z"
   },
   {
    "duration": 102,
    "start_time": "2021-12-27T09:15:43.300Z"
   },
   {
    "duration": 8,
    "start_time": "2021-12-27T09:16:24.962Z"
   },
   {
    "duration": 6,
    "start_time": "2021-12-27T09:16:28.859Z"
   },
   {
    "duration": 46,
    "start_time": "2021-12-27T09:19:18.703Z"
   },
   {
    "duration": 58,
    "start_time": "2021-12-27T09:20:12.111Z"
   },
   {
    "duration": 7,
    "start_time": "2021-12-27T09:22:13.976Z"
   },
   {
    "duration": 6,
    "start_time": "2021-12-27T09:22:35.808Z"
   },
   {
    "duration": 6,
    "start_time": "2021-12-27T09:23:38.321Z"
   },
   {
    "duration": 17,
    "start_time": "2021-12-27T09:23:50.523Z"
   },
   {
    "duration": 10,
    "start_time": "2021-12-27T09:24:28.296Z"
   },
   {
    "duration": 9,
    "start_time": "2021-12-27T09:24:30.806Z"
   },
   {
    "duration": 112,
    "start_time": "2021-12-27T09:26:43.622Z"
   },
   {
    "duration": 4,
    "start_time": "2021-12-27T09:27:17.575Z"
   },
   {
    "duration": 11,
    "start_time": "2021-12-27T09:27:56.065Z"
   },
   {
    "duration": 10,
    "start_time": "2021-12-27T09:28:29.301Z"
   },
   {
    "duration": 9,
    "start_time": "2021-12-27T09:28:39.956Z"
   },
   {
    "duration": 63,
    "start_time": "2021-12-27T09:28:55.218Z"
   },
   {
    "duration": 9,
    "start_time": "2021-12-27T09:28:56.082Z"
   },
   {
    "duration": 4,
    "start_time": "2021-12-27T09:29:01.279Z"
   },
   {
    "duration": 8,
    "start_time": "2021-12-27T09:29:03.191Z"
   },
   {
    "duration": 21,
    "start_time": "2021-12-27T09:29:59.505Z"
   },
   {
    "duration": 27,
    "start_time": "2021-12-27T09:30:41.816Z"
   },
   {
    "duration": 12,
    "start_time": "2021-12-27T09:32:19.568Z"
   },
   {
    "duration": 15,
    "start_time": "2021-12-27T09:32:20.712Z"
   },
   {
    "duration": 9,
    "start_time": "2021-12-27T09:32:37.176Z"
   },
   {
    "duration": 9,
    "start_time": "2021-12-27T09:32:44.540Z"
   },
   {
    "duration": 8,
    "start_time": "2021-12-27T09:32:45.584Z"
   },
   {
    "duration": 55,
    "start_time": "2021-12-27T09:33:10.305Z"
   },
   {
    "duration": 11,
    "start_time": "2021-12-27T09:33:10.785Z"
   },
   {
    "duration": 4,
    "start_time": "2021-12-27T09:33:12.956Z"
   },
   {
    "duration": 25,
    "start_time": "2021-12-27T09:33:14.071Z"
   },
   {
    "duration": 5,
    "start_time": "2021-12-27T09:34:04.535Z"
   },
   {
    "duration": 46,
    "start_time": "2021-12-27T09:35:52.461Z"
   },
   {
    "duration": 4,
    "start_time": "2021-12-27T09:35:54.957Z"
   },
   {
    "duration": 113,
    "start_time": "2021-12-27T09:35:58.576Z"
   },
   {
    "duration": 11,
    "start_time": "2021-12-27T09:35:59.983Z"
   },
   {
    "duration": 49,
    "start_time": "2021-12-27T09:36:02.480Z"
   },
   {
    "duration": 3,
    "start_time": "2021-12-27T09:36:03.459Z"
   },
   {
    "duration": 27,
    "start_time": "2021-12-27T09:36:09.973Z"
   },
   {
    "duration": 10,
    "start_time": "2021-12-27T09:36:43.983Z"
   },
   {
    "duration": 9,
    "start_time": "2021-12-27T09:36:44.595Z"
   },
   {
    "duration": 9,
    "start_time": "2021-12-27T09:36:57.378Z"
   },
   {
    "duration": 9,
    "start_time": "2021-12-27T09:37:51.636Z"
   },
   {
    "duration": 4,
    "start_time": "2021-12-27T09:41:38.963Z"
   },
   {
    "duration": 6,
    "start_time": "2021-12-27T09:41:42.159Z"
   },
   {
    "duration": 6,
    "start_time": "2021-12-27T09:41:53.927Z"
   },
   {
    "duration": 13,
    "start_time": "2021-12-27T09:41:55.276Z"
   },
   {
    "duration": 4,
    "start_time": "2021-12-27T09:41:56.993Z"
   },
   {
    "duration": 10,
    "start_time": "2021-12-27T09:42:02.995Z"
   },
   {
    "duration": 12,
    "start_time": "2021-12-27T09:42:04.894Z"
   },
   {
    "duration": 3,
    "start_time": "2021-12-27T09:42:07.479Z"
   },
   {
    "duration": 11,
    "start_time": "2021-12-27T09:42:08.548Z"
   },
   {
    "duration": 7,
    "start_time": "2021-12-27T09:45:11.340Z"
   },
   {
    "duration": 848,
    "start_time": "2021-12-27T14:45:34.414Z"
   },
   {
    "duration": 17,
    "start_time": "2021-12-27T14:45:35.264Z"
   },
   {
    "duration": 75,
    "start_time": "2021-12-27T14:45:37.287Z"
   },
   {
    "duration": 5,
    "start_time": "2021-12-27T14:45:38.716Z"
   },
   {
    "duration": 52,
    "start_time": "2021-12-27T14:45:39.584Z"
   },
   {
    "duration": 18,
    "start_time": "2021-12-27T14:45:40.493Z"
   },
   {
    "duration": 13,
    "start_time": "2021-12-27T14:45:41.130Z"
   },
   {
    "duration": 6,
    "start_time": "2021-12-27T14:45:42.758Z"
   },
   {
    "duration": 11,
    "start_time": "2021-12-27T14:45:43.979Z"
   },
   {
    "duration": 17,
    "start_time": "2021-12-27T14:45:45.139Z"
   },
   {
    "duration": 5,
    "start_time": "2021-12-27T14:45:46.740Z"
   },
   {
    "duration": 17,
    "start_time": "2021-12-27T14:45:47.130Z"
   },
   {
    "duration": 13,
    "start_time": "2021-12-27T14:45:49.672Z"
   },
   {
    "duration": 8,
    "start_time": "2021-12-27T14:45:51.298Z"
   },
   {
    "duration": 15,
    "start_time": "2021-12-27T14:45:52.461Z"
   },
   {
    "duration": 6,
    "start_time": "2021-12-27T14:47:26.121Z"
   },
   {
    "duration": 24,
    "start_time": "2021-12-27T14:47:26.513Z"
   },
   {
    "duration": 5,
    "start_time": "2021-12-27T14:48:20.033Z"
   },
   {
    "duration": 16,
    "start_time": "2021-12-27T14:48:20.365Z"
   },
   {
    "duration": 28,
    "start_time": "2021-12-27T14:48:34.321Z"
   },
   {
    "duration": 23,
    "start_time": "2021-12-27T14:48:46.122Z"
   },
   {
    "duration": 40,
    "start_time": "2021-12-27T14:49:00.403Z"
   },
   {
    "duration": 24,
    "start_time": "2021-12-27T14:49:02.765Z"
   },
   {
    "duration": 67,
    "start_time": "2021-12-27T14:49:42.009Z"
   },
   {
    "duration": 15,
    "start_time": "2021-12-27T14:49:54.397Z"
   },
   {
    "duration": 4524,
    "start_time": "2021-12-27T14:55:10.064Z"
   },
   {
    "duration": 9,
    "start_time": "2021-12-27T14:55:16.294Z"
   },
   {
    "duration": 22,
    "start_time": "2021-12-27T14:55:18.245Z"
   },
   {
    "duration": 19,
    "start_time": "2021-12-27T14:55:20.662Z"
   },
   {
    "duration": 9,
    "start_time": "2021-12-27T14:58:26.106Z"
   },
   {
    "duration": 13,
    "start_time": "2021-12-27T14:58:29.048Z"
   },
   {
    "duration": 28,
    "start_time": "2021-12-27T14:58:29.599Z"
   },
   {
    "duration": 8,
    "start_time": "2021-12-27T14:59:09.454Z"
   },
   {
    "duration": 13,
    "start_time": "2021-12-27T14:59:10.198Z"
   },
   {
    "duration": 19,
    "start_time": "2021-12-27T14:59:11.977Z"
   },
   {
    "duration": 1561,
    "start_time": "2021-12-27T15:02:54.093Z"
   },
   {
    "duration": 36,
    "start_time": "2021-12-27T15:03:09.524Z"
   },
   {
    "duration": 34,
    "start_time": "2021-12-27T15:03:30.694Z"
   },
   {
    "duration": 37,
    "start_time": "2021-12-27T15:03:38.218Z"
   },
   {
    "duration": 35,
    "start_time": "2021-12-27T15:03:58.627Z"
   },
   {
    "duration": 37,
    "start_time": "2021-12-27T15:09:29.987Z"
   },
   {
    "duration": 30,
    "start_time": "2021-12-27T15:10:23.420Z"
   },
   {
    "duration": 30,
    "start_time": "2021-12-27T15:11:02.132Z"
   },
   {
    "duration": 22,
    "start_time": "2021-12-27T15:12:14.169Z"
   },
   {
    "duration": 27,
    "start_time": "2021-12-27T15:12:33.605Z"
   },
   {
    "duration": 301,
    "start_time": "2021-12-27T15:13:19.931Z"
   },
   {
    "duration": 305,
    "start_time": "2021-12-27T15:13:25.035Z"
   },
   {
    "duration": 23,
    "start_time": "2021-12-27T15:13:30.844Z"
   },
   {
    "duration": 14,
    "start_time": "2021-12-27T15:15:01.401Z"
   },
   {
    "duration": 407,
    "start_time": "2021-12-27T15:16:35.868Z"
   },
   {
    "duration": 22,
    "start_time": "2021-12-27T15:17:04.047Z"
   },
   {
    "duration": 25,
    "start_time": "2021-12-27T15:18:10.066Z"
   },
   {
    "duration": 25,
    "start_time": "2021-12-27T15:18:20.365Z"
   },
   {
    "duration": 24,
    "start_time": "2021-12-27T15:18:39.320Z"
   },
   {
    "duration": 27,
    "start_time": "2021-12-27T15:18:48.466Z"
   },
   {
    "duration": 26,
    "start_time": "2021-12-27T15:19:00.985Z"
   },
   {
    "duration": 26,
    "start_time": "2021-12-27T15:19:04.500Z"
   },
   {
    "duration": 30,
    "start_time": "2021-12-27T15:35:49.736Z"
   },
   {
    "duration": 26,
    "start_time": "2021-12-27T15:36:00.453Z"
   },
   {
    "duration": 30,
    "start_time": "2021-12-27T15:37:13.971Z"
   },
   {
    "duration": 26,
    "start_time": "2021-12-27T15:37:20.117Z"
   },
   {
    "duration": 30,
    "start_time": "2021-12-27T15:39:02.023Z"
   },
   {
    "duration": 27,
    "start_time": "2021-12-27T15:39:07.675Z"
   },
   {
    "duration": 28,
    "start_time": "2021-12-27T15:39:49.597Z"
   },
   {
    "duration": 26,
    "start_time": "2021-12-27T15:39:52.925Z"
   },
   {
    "duration": 24,
    "start_time": "2021-12-27T15:41:14.595Z"
   },
   {
    "duration": 24,
    "start_time": "2021-12-27T15:44:40.378Z"
   },
   {
    "duration": 28,
    "start_time": "2021-12-27T15:44:41.919Z"
   },
   {
    "duration": 7369,
    "start_time": "2021-12-27T15:46:56.798Z"
   },
   {
    "duration": 7508,
    "start_time": "2021-12-27T15:47:08.787Z"
   },
   {
    "duration": 81,
    "start_time": "2021-12-27T15:47:45.243Z"
   },
   {
    "duration": 28,
    "start_time": "2021-12-27T15:47:46.910Z"
   },
   {
    "duration": 27,
    "start_time": "2021-12-27T15:47:48.341Z"
   },
   {
    "duration": 25,
    "start_time": "2021-12-27T15:47:49.874Z"
   },
   {
    "duration": 7237,
    "start_time": "2021-12-27T15:47:52.247Z"
   },
   {
    "duration": 7457,
    "start_time": "2021-12-27T15:48:21.946Z"
   },
   {
    "duration": 24,
    "start_time": "2021-12-27T15:52:06.836Z"
   },
   {
    "duration": 27,
    "start_time": "2021-12-27T15:52:09.916Z"
   },
   {
    "duration": 78,
    "start_time": "2021-12-27T15:58:14.490Z"
   },
   {
    "duration": 16,
    "start_time": "2021-12-27T15:58:15.806Z"
   },
   {
    "duration": 62,
    "start_time": "2021-12-27T15:58:18.406Z"
   },
   {
    "duration": 5,
    "start_time": "2021-12-27T15:58:19.052Z"
   },
   {
    "duration": 45,
    "start_time": "2021-12-27T15:58:19.663Z"
   },
   {
    "duration": 15,
    "start_time": "2021-12-27T15:58:20.373Z"
   },
   {
    "duration": 15,
    "start_time": "2021-12-27T15:58:20.714Z"
   },
   {
    "duration": 6,
    "start_time": "2021-12-27T15:58:21.938Z"
   },
   {
    "duration": 13,
    "start_time": "2021-12-27T15:58:22.658Z"
   },
   {
    "duration": 21,
    "start_time": "2021-12-27T15:58:23.557Z"
   },
   {
    "duration": 5,
    "start_time": "2021-12-27T15:58:24.504Z"
   },
   {
    "duration": 18,
    "start_time": "2021-12-27T15:58:24.934Z"
   },
   {
    "duration": 16,
    "start_time": "2021-12-27T15:58:25.841Z"
   },
   {
    "duration": 9,
    "start_time": "2021-12-27T15:58:26.836Z"
   },
   {
    "duration": 19,
    "start_time": "2021-12-27T15:58:27.299Z"
   },
   {
    "duration": 7,
    "start_time": "2021-12-27T15:58:28.680Z"
   },
   {
    "duration": 16,
    "start_time": "2021-12-27T15:58:29.136Z"
   },
   {
    "duration": 29,
    "start_time": "2021-12-27T15:58:29.921Z"
   },
   {
    "duration": 63,
    "start_time": "2021-12-27T15:58:30.369Z"
   },
   {
    "duration": 4644,
    "start_time": "2021-12-27T15:58:31.799Z"
   },
   {
    "duration": 12,
    "start_time": "2021-12-27T15:58:36.447Z"
   },
   {
    "duration": 23,
    "start_time": "2021-12-27T15:58:36.463Z"
   },
   {
    "duration": 18,
    "start_time": "2021-12-27T15:58:37.267Z"
   },
   {
    "duration": 46,
    "start_time": "2021-12-27T15:58:38.361Z"
   },
   {
    "duration": 50,
    "start_time": "2021-12-27T15:58:40.378Z"
   },
   {
    "duration": 35,
    "start_time": "2021-12-27T15:58:41.885Z"
   },
   {
    "duration": 26,
    "start_time": "2021-12-27T15:58:43.439Z"
   },
   {
    "duration": 25,
    "start_time": "2021-12-27T15:58:44.903Z"
   },
   {
    "duration": 115,
    "start_time": "2021-12-28T14:19:20.226Z"
   },
   {
    "duration": 862,
    "start_time": "2021-12-28T14:27:54.834Z"
   },
   {
    "duration": 15,
    "start_time": "2021-12-28T14:27:57.188Z"
   },
   {
    "duration": 71,
    "start_time": "2021-12-28T14:28:01.089Z"
   },
   {
    "duration": 74,
    "start_time": "2021-12-28T14:28:12.953Z"
   },
   {
    "duration": 6,
    "start_time": "2021-12-28T14:28:14.334Z"
   },
   {
    "duration": 46,
    "start_time": "2021-12-28T14:28:15.362Z"
   },
   {
    "duration": 21,
    "start_time": "2021-12-28T14:28:16.839Z"
   },
   {
    "duration": 13,
    "start_time": "2021-12-28T14:28:17.921Z"
   },
   {
    "duration": 8,
    "start_time": "2021-12-28T14:28:23.743Z"
   },
   {
    "duration": 15,
    "start_time": "2021-12-28T14:28:24.676Z"
   },
   {
    "duration": 29,
    "start_time": "2021-12-28T14:28:26.459Z"
   },
   {
    "duration": 6,
    "start_time": "2021-12-28T14:28:30.639Z"
   },
   {
    "duration": 24,
    "start_time": "2021-12-28T14:28:31.014Z"
   },
   {
    "duration": 139,
    "start_time": "2021-12-28T14:32:30.861Z"
   },
   {
    "duration": 459,
    "start_time": "2021-12-28T14:37:15.902Z"
   },
   {
    "duration": 351,
    "start_time": "2021-12-28T14:37:40.968Z"
   },
   {
    "duration": 19,
    "start_time": "2021-12-28T14:38:26.265Z"
   },
   {
    "duration": 349,
    "start_time": "2021-12-28T14:38:38.836Z"
   },
   {
    "duration": 4,
    "start_time": "2021-12-28T14:39:32.440Z"
   },
   {
    "duration": 8716,
    "start_time": "2021-12-28T14:39:39.668Z"
   },
   {
    "duration": 363,
    "start_time": "2021-12-28T14:39:56.529Z"
   },
   {
    "duration": 347,
    "start_time": "2021-12-28T14:40:03.933Z"
   },
   {
    "duration": 350,
    "start_time": "2021-12-28T14:40:23.601Z"
   },
   {
    "duration": 12,
    "start_time": "2021-12-28T14:42:30.436Z"
   },
   {
    "duration": 29,
    "start_time": "2021-12-28T14:47:01.604Z"
   },
   {
    "duration": 32,
    "start_time": "2021-12-28T14:47:10.695Z"
   },
   {
    "duration": 535,
    "start_time": "2021-12-28T14:53:08.378Z"
   },
   {
    "duration": 16,
    "start_time": "2021-12-28T14:53:54.549Z"
   },
   {
    "duration": 5,
    "start_time": "2021-12-28T14:54:36.677Z"
   },
   {
    "duration": 605,
    "start_time": "2021-12-28T14:55:02.249Z"
   },
   {
    "duration": 13,
    "start_time": "2021-12-28T14:55:28.298Z"
   },
   {
    "duration": 6,
    "start_time": "2021-12-29T08:02:16.198Z"
   },
   {
    "duration": 259,
    "start_time": "2021-12-30T08:38:46.481Z"
   },
   {
    "duration": 729,
    "start_time": "2021-12-30T08:38:51.245Z"
   },
   {
    "duration": 12,
    "start_time": "2021-12-30T08:38:51.975Z"
   },
   {
    "duration": 52,
    "start_time": "2021-12-30T08:38:52.737Z"
   },
   {
    "duration": 4,
    "start_time": "2021-12-30T08:38:53.612Z"
   },
   {
    "duration": 33,
    "start_time": "2021-12-30T08:38:53.966Z"
   },
   {
    "duration": 15,
    "start_time": "2021-12-30T08:38:54.326Z"
   },
   {
    "duration": 11,
    "start_time": "2021-12-30T08:38:54.703Z"
   },
   {
    "duration": 5,
    "start_time": "2021-12-30T08:38:55.937Z"
   },
   {
    "duration": 10,
    "start_time": "2021-12-30T08:38:56.738Z"
   },
   {
    "duration": 14,
    "start_time": "2021-12-30T08:38:57.640Z"
   }
  ],
  "kernelspec": {
   "display_name": "Python 3 (ipykernel)",
   "language": "python",
   "name": "python3"
  },
  "language_info": {
   "codemirror_mode": {
    "name": "ipython",
    "version": 3
   },
   "file_extension": ".py",
   "mimetype": "text/x-python",
   "name": "python",
   "nbconvert_exporter": "python",
   "pygments_lexer": "ipython3",
   "version": "3.9.7"
  },
  "toc": {
   "base_numbering": 1,
   "nav_menu": {},
   "number_sections": true,
   "sideBar": true,
   "skip_h1_title": true,
   "title_cell": "Table of Contents",
   "title_sidebar": "Contents",
   "toc_cell": false,
   "toc_position": {
    "height": "calc(100% - 180px)",
    "left": "10px",
    "top": "150px",
    "width": "215.244px"
   },
   "toc_section_display": true,
   "toc_window_display": true
  }
 },
 "nbformat": 4,
 "nbformat_minor": 2
}
