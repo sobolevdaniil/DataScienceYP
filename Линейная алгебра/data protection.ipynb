{
 "cells": [
  {
   "cell_type": "markdown",
   "metadata": {
    "toc": true
   },
   "source": [
    "<h1>Содержание<span class=\"tocSkip\"></span></h1>\n",
    "<div class=\"toc\"><ul class=\"toc-item\"><li><span><a href=\"#Импорт-библиотек\" data-toc-modified-id=\"Импорт-библиотек-1\"><span class=\"toc-item-num\">1&nbsp;&nbsp;</span>Импорт библиотек</a></span></li><li><span><a href=\"#Загрузка-данных\" data-toc-modified-id=\"Загрузка-данных-2\"><span class=\"toc-item-num\">2&nbsp;&nbsp;</span>Загрузка данных</a></span></li><li><span><a href=\"#Умножение-матриц\" data-toc-modified-id=\"Умножение-матриц-3\"><span class=\"toc-item-num\">3&nbsp;&nbsp;</span>Умножение матриц</a></span></li><li><span><a href=\"#Проверка-алгоритма\" data-toc-modified-id=\"Проверка-алгоритма-4\"><span class=\"toc-item-num\">4&nbsp;&nbsp;</span>Проверка алгоритма</a></span></li><li><span><a href=\"#Вывод\" data-toc-modified-id=\"Вывод-5\"><span class=\"toc-item-num\">5&nbsp;&nbsp;</span>Вывод</a></span></li></ul></div>"
   ]
  },
  {
   "cell_type": "markdown",
   "metadata": {},
   "source": [
    "# Защита персональных данных клиентов"
   ]
  },
  {
   "cell_type": "markdown",
   "metadata": {},
   "source": [
    "Вам нужно защитить данные клиентов страховой компании «Хоть потоп». Разработайте такой метод преобразования данных, чтобы по ним было сложно восстановить персональную информацию. Обоснуйте корректность его работы.\n",
    "\n",
    "Нужно защитить данные, чтобы при преобразовании качество моделей машинного обучения не ухудшилось. Подбирать наилучшую модель не требуется."
   ]
  },
  {
   "cell_type": "markdown",
   "metadata": {},
   "source": [
    "## Импорт библиотек"
   ]
  },
  {
   "cell_type": "code",
   "execution_count": 1,
   "metadata": {},
   "outputs": [],
   "source": [
    "import pandas as pd\n",
    "import numpy as np\n",
    "import seaborn as sns\n",
    "\n",
    "import random\n",
    "\n",
    "from sklearn.linear_model import LinearRegression\n",
    "from sklearn.model_selection import train_test_split\n",
    "from sklearn.metrics import r2_score"
   ]
  },
  {
   "cell_type": "markdown",
   "metadata": {},
   "source": [
    "## Загрузка данных"
   ]
  },
  {
   "cell_type": "code",
   "execution_count": 2,
   "metadata": {},
   "outputs": [],
   "source": [
    "data = pd.read_csv('/Users/daniilsobolev/Desktop/ml projects/Линейная алгебра/insurance.csv')"
   ]
  },
  {
   "cell_type": "code",
   "execution_count": 3,
   "metadata": {
    "scrolled": true
   },
   "outputs": [
    {
     "data": {
      "text/html": [
       "<div>\n",
       "<style scoped>\n",
       "    .dataframe tbody tr th:only-of-type {\n",
       "        vertical-align: middle;\n",
       "    }\n",
       "\n",
       "    .dataframe tbody tr th {\n",
       "        vertical-align: top;\n",
       "    }\n",
       "\n",
       "    .dataframe thead th {\n",
       "        text-align: right;\n",
       "    }\n",
       "</style>\n",
       "<table border=\"1\" class=\"dataframe\">\n",
       "  <thead>\n",
       "    <tr style=\"text-align: right;\">\n",
       "      <th></th>\n",
       "      <th>Пол</th>\n",
       "      <th>Возраст</th>\n",
       "      <th>Зарплата</th>\n",
       "      <th>Члены семьи</th>\n",
       "      <th>Страховые выплаты</th>\n",
       "    </tr>\n",
       "  </thead>\n",
       "  <tbody>\n",
       "    <tr>\n",
       "      <th>0</th>\n",
       "      <td>1</td>\n",
       "      <td>41.0</td>\n",
       "      <td>49600.0</td>\n",
       "      <td>1</td>\n",
       "      <td>0</td>\n",
       "    </tr>\n",
       "    <tr>\n",
       "      <th>1</th>\n",
       "      <td>0</td>\n",
       "      <td>46.0</td>\n",
       "      <td>38000.0</td>\n",
       "      <td>1</td>\n",
       "      <td>1</td>\n",
       "    </tr>\n",
       "    <tr>\n",
       "      <th>2</th>\n",
       "      <td>0</td>\n",
       "      <td>29.0</td>\n",
       "      <td>21000.0</td>\n",
       "      <td>0</td>\n",
       "      <td>0</td>\n",
       "    </tr>\n",
       "    <tr>\n",
       "      <th>3</th>\n",
       "      <td>0</td>\n",
       "      <td>21.0</td>\n",
       "      <td>41700.0</td>\n",
       "      <td>2</td>\n",
       "      <td>0</td>\n",
       "    </tr>\n",
       "    <tr>\n",
       "      <th>4</th>\n",
       "      <td>1</td>\n",
       "      <td>28.0</td>\n",
       "      <td>26100.0</td>\n",
       "      <td>0</td>\n",
       "      <td>0</td>\n",
       "    </tr>\n",
       "  </tbody>\n",
       "</table>\n",
       "</div>"
      ],
      "text/plain": [
       "   Пол  Возраст  Зарплата  Члены семьи  Страховые выплаты\n",
       "0    1     41.0   49600.0            1                  0\n",
       "1    0     46.0   38000.0            1                  1\n",
       "2    0     29.0   21000.0            0                  0\n",
       "3    0     21.0   41700.0            2                  0\n",
       "4    1     28.0   26100.0            0                  0"
      ]
     },
     "execution_count": 3,
     "metadata": {},
     "output_type": "execute_result"
    }
   ],
   "source": [
    "data.head()"
   ]
  },
  {
   "cell_type": "code",
   "execution_count": 4,
   "metadata": {
    "scrolled": true
   },
   "outputs": [
    {
     "name": "stdout",
     "output_type": "stream",
     "text": [
      "<class 'pandas.core.frame.DataFrame'>\n",
      "RangeIndex: 5000 entries, 0 to 4999\n",
      "Data columns (total 5 columns):\n",
      " #   Column             Non-Null Count  Dtype  \n",
      "---  ------             --------------  -----  \n",
      " 0   Пол                5000 non-null   int64  \n",
      " 1   Возраст            5000 non-null   float64\n",
      " 2   Зарплата           5000 non-null   float64\n",
      " 3   Члены семьи        5000 non-null   int64  \n",
      " 4   Страховые выплаты  5000 non-null   int64  \n",
      "dtypes: float64(2), int64(3)\n",
      "memory usage: 195.4 KB\n"
     ]
    }
   ],
   "source": [
    "data.info()"
   ]
  },
  {
   "cell_type": "code",
   "execution_count": 5,
   "metadata": {
    "scrolled": false
   },
   "outputs": [
    {
     "data": {
      "text/html": [
       "<div>\n",
       "<style scoped>\n",
       "    .dataframe tbody tr th:only-of-type {\n",
       "        vertical-align: middle;\n",
       "    }\n",
       "\n",
       "    .dataframe tbody tr th {\n",
       "        vertical-align: top;\n",
       "    }\n",
       "\n",
       "    .dataframe thead th {\n",
       "        text-align: right;\n",
       "    }\n",
       "</style>\n",
       "<table border=\"1\" class=\"dataframe\">\n",
       "  <thead>\n",
       "    <tr style=\"text-align: right;\">\n",
       "      <th></th>\n",
       "      <th>count</th>\n",
       "      <th>mean</th>\n",
       "      <th>std</th>\n",
       "      <th>min</th>\n",
       "      <th>25%</th>\n",
       "      <th>50%</th>\n",
       "      <th>75%</th>\n",
       "      <th>max</th>\n",
       "    </tr>\n",
       "  </thead>\n",
       "  <tbody>\n",
       "    <tr>\n",
       "      <th>Пол</th>\n",
       "      <td>5000.0</td>\n",
       "      <td>0.4990</td>\n",
       "      <td>0.500049</td>\n",
       "      <td>0.0</td>\n",
       "      <td>0.0</td>\n",
       "      <td>0.0</td>\n",
       "      <td>1.0</td>\n",
       "      <td>1.0</td>\n",
       "    </tr>\n",
       "    <tr>\n",
       "      <th>Возраст</th>\n",
       "      <td>5000.0</td>\n",
       "      <td>30.9528</td>\n",
       "      <td>8.440807</td>\n",
       "      <td>18.0</td>\n",
       "      <td>24.0</td>\n",
       "      <td>30.0</td>\n",
       "      <td>37.0</td>\n",
       "      <td>65.0</td>\n",
       "    </tr>\n",
       "    <tr>\n",
       "      <th>Зарплата</th>\n",
       "      <td>5000.0</td>\n",
       "      <td>39916.3600</td>\n",
       "      <td>9900.083569</td>\n",
       "      <td>5300.0</td>\n",
       "      <td>33300.0</td>\n",
       "      <td>40200.0</td>\n",
       "      <td>46600.0</td>\n",
       "      <td>79000.0</td>\n",
       "    </tr>\n",
       "    <tr>\n",
       "      <th>Члены семьи</th>\n",
       "      <td>5000.0</td>\n",
       "      <td>1.1942</td>\n",
       "      <td>1.091387</td>\n",
       "      <td>0.0</td>\n",
       "      <td>0.0</td>\n",
       "      <td>1.0</td>\n",
       "      <td>2.0</td>\n",
       "      <td>6.0</td>\n",
       "    </tr>\n",
       "    <tr>\n",
       "      <th>Страховые выплаты</th>\n",
       "      <td>5000.0</td>\n",
       "      <td>0.1480</td>\n",
       "      <td>0.463183</td>\n",
       "      <td>0.0</td>\n",
       "      <td>0.0</td>\n",
       "      <td>0.0</td>\n",
       "      <td>0.0</td>\n",
       "      <td>5.0</td>\n",
       "    </tr>\n",
       "  </tbody>\n",
       "</table>\n",
       "</div>"
      ],
      "text/plain": [
       "                    count        mean          std     min      25%      50%  \\\n",
       "Пол                5000.0      0.4990     0.500049     0.0      0.0      0.0   \n",
       "Возраст            5000.0     30.9528     8.440807    18.0     24.0     30.0   \n",
       "Зарплата           5000.0  39916.3600  9900.083569  5300.0  33300.0  40200.0   \n",
       "Члены семьи        5000.0      1.1942     1.091387     0.0      0.0      1.0   \n",
       "Страховые выплаты  5000.0      0.1480     0.463183     0.0      0.0      0.0   \n",
       "\n",
       "                       75%      max  \n",
       "Пол                    1.0      1.0  \n",
       "Возраст               37.0     65.0  \n",
       "Зарплата           46600.0  79000.0  \n",
       "Члены семьи            2.0      6.0  \n",
       "Страховые выплаты      0.0      5.0  "
      ]
     },
     "execution_count": 5,
     "metadata": {},
     "output_type": "execute_result"
    }
   ],
   "source": [
    "data.describe().T"
   ]
  },
  {
   "cell_type": "code",
   "execution_count": 6,
   "metadata": {
    "scrolled": true
   },
   "outputs": [
    {
     "data": {
      "text/plain": [
       "153"
      ]
     },
     "execution_count": 6,
     "metadata": {},
     "output_type": "execute_result"
    }
   ],
   "source": [
    "data.duplicated().sum()"
   ]
  },
  {
   "cell_type": "code",
   "execution_count": 7,
   "metadata": {
    "scrolled": false
   },
   "outputs": [
    {
     "data": {
      "text/plain": [
       "<AxesSubplot:>"
      ]
     },
     "execution_count": 7,
     "metadata": {},
     "output_type": "execute_result"
    },
    {
     "data": {
      "image/png": "[encoded data removed]",
      "text/plain": [
       "<Figure size 432x288 with 2 Axes>"
      ]
     },
     "metadata": {
      "needs_background": "light"
     },
     "output_type": "display_data"
    }
   ],
   "source": [
    "sns.heatmap(data.corr(), annot=True, vmin=-1, vmax=1, center= 0)"
   ]
  },
  {
   "cell_type": "markdown",
   "metadata": {},
   "source": [
    "В данных присутствуют дубликаты, возможно, они появились из-за неправильного соединение данных из разных источников или ошибки пользователя при занесении информации, удалим их; также переведём названия колонок в змеиный регистр; также, ради простоты переведем признаки age и salary в тип int, так как дробная часть у них отсутствует. \n",
    "\n",
    "Также из матрицы корреляций мы видим, что признак age и целевой признак достаточно сильно коррелируют, особенно на фоне остальных."
   ]
  },
  {
   "cell_type": "code",
   "execution_count": 8,
   "metadata": {},
   "outputs": [],
   "source": [
    "data.drop_duplicates(inplace=True, ignore_index=True)"
   ]
  },
  {
   "cell_type": "code",
   "execution_count": 9,
   "metadata": {},
   "outputs": [],
   "source": [
    "data.columns = ['gender', 'age', 'salary', 'family_members', 'insurance_payments']"
   ]
  },
  {
   "cell_type": "code",
   "execution_count": 10,
   "metadata": {},
   "outputs": [],
   "source": [
    "data['age'] = data['age'].astype('int')\n",
    "data['salary'] = data['salary'].astype('int')"
   ]
  },
  {
   "cell_type": "markdown",
   "metadata": {},
   "source": [
    "## Умножение матриц"
   ]
  },
  {
   "cell_type": "markdown",
   "metadata": {},
   "source": [
    "Признаки умножают на обратимую матрицу. Изменится ли качество линейной регрессии? (Её можно обучить заново.)"
   ]
  },
  {
   "cell_type": "markdown",
   "metadata": {},
   "source": [
    "Обозначения:\n",
    "\n",
    "- $X$ — матрица признаков (нулевой столбец состоит из единиц)\n",
    "\n",
    "- $y$ — вектор целевого признака\n",
    "\n",
    "- $P$ — матрица, на которую умножаются признаки\n",
    "\n",
    "- $w$ — вектор весов линейной регрессии (нулевой элемент равен сдвигу)"
   ]
  },
  {
   "cell_type": "markdown",
   "metadata": {},
   "source": [
    "Предсказания:\n",
    "\n",
    "$$\n",
    "a = Xw\n",
    "$$\n",
    "\n",
    "Задача обучения:\n",
    "\n",
    "$$\n",
    "w = \\arg\\min_w MSE(Xw, y)\n",
    "$$\n",
    "\n",
    "Формула обучения:\n",
    "\n",
    "$$\n",
    "w = (X^T X)^{-1} X^T y\n",
    "$$"
   ]
  },
  {
   "cell_type": "markdown",
   "metadata": {},
   "source": [
    "**Ответ:** Нет, не изменится\n",
    "\n",
    "**Обоснование:** Каждый вектор матрицы $X$ при умножении на некую обратимую матрицу $B$ переносится в другое, одинаковое для всех, векторное пространство.\n",
    "\n",
    "Векторы исказятся, поэтому те же самые параметры w и w0 будут уже не подходящими.\n",
    "\n",
    "Тогда формула обучения будет равна:\n",
    "\n",
    "$$\n",
    "w' = ((XB)^T XB)^{-1} (XB)^T y\n",
    "$$"
   ]
  },
  {
   "cell_type": "markdown",
   "metadata": {},
   "source": [
    "Или, продолжив равенство, получим:\n",
    "\n",
    "$$\n",
    "((XB)^T XB)^{-1} (XB)^T y = (B^T X^T X B)^{-1} B^T X^T y = (X^T X B)^{-1} (B^T)^{-1} B^T X^T y = B^{-1}(X^T X)^{-1} (B^T)^{-1}B^T X^T y\n",
    "$$"
   ]
  },
  {
   "cell_type": "markdown",
   "metadata": {},
   "source": [
    "Далее получим:\n",
    "\n",
    "$$ \n",
    "B^{-1}(X^T X)^{-1}  X^T y = B^{-1} w, \n",
    "$$ \n",
    "\n",
    "что нам уже формульно доказывает, что качество не изменится, так как: \n",
    "\n",
    "$$ \n",
    "𝑎'=𝑋'𝑤' = XB B^{-1} w = Xw\n",
    "$$\n",
    "\n"
   ]
  },
  {
   "cell_type": "markdown",
   "metadata": {},
   "source": [
    "**Алгоритм шифрования**\n",
    "\n",
    "Линейные преобразование не будут изменять качество линейной регрессии, поэтому применим к признакам несколько линейных преобразований.\n",
    "\n",
    "Создадим рандомную матрицу 4х4 и умножим на неё"
   ]
  },
  {
   "cell_type": "markdown",
   "metadata": {},
   "source": [
    "## Проверка алгоритма"
   ]
  },
  {
   "cell_type": "code",
   "execution_count": 11,
   "metadata": {},
   "outputs": [],
   "source": [
    "features = data.drop('insurance_payments', axis=1)\n",
    "target = data['insurance_payments']\n",
    "\n",
    "features_train, features_test, target_train, target_test = train_test_split(\n",
    "    features, \n",
    "    target, \n",
    "    test_size=0.25, \n",
    "    random_state=12345)"
   ]
  },
  {
   "cell_type": "code",
   "execution_count": 12,
   "metadata": {
    "scrolled": true
   },
   "outputs": [
    {
     "name": "stdout",
     "output_type": "stream",
     "text": [
      "До преобразования 0.4230772761583642\n"
     ]
    }
   ],
   "source": [
    "model = LinearRegression().fit(features_train, target_train)\n",
    "predictions = model.predict(features_test)\n",
    "print('До преобразования', r2_score(target_test, predictions))"
   ]
  },
  {
   "cell_type": "markdown",
   "metadata": {},
   "source": [
    "Напишем функцию для создания обратимой матрицы со случайными элементами\n",
    "(матрица обратима, если определитель не равен нулю)."
   ]
  },
  {
   "cell_type": "code",
   "execution_count": 13,
   "metadata": {},
   "outputs": [],
   "source": [
    "def fill_matrix(rows, columns):\n",
    "    \n",
    "    while True:\n",
    "        list_of_vectors = []\n",
    "        \n",
    "        for i in range(rows):\n",
    "            list = [random.uniform(-10000, 10000) for j in range(columns)]\n",
    "            list_of_vectors.append(np.array(list))\n",
    "        \n",
    "        if np.linalg.det(np.array(list_of_vectors)) != 0:\n",
    "            break\n",
    "        \n",
    "    return np.array(list_of_vectors)"
   ]
  },
  {
   "cell_type": "code",
   "execution_count": 14,
   "metadata": {},
   "outputs": [],
   "source": [
    "new_features = pd.DataFrame(data = features.values @ fill_matrix(4,4), \n",
    "                            columns = features.columns, \n",
    "                            index = features.index)"
   ]
  },
  {
   "cell_type": "code",
   "execution_count": 15,
   "metadata": {
    "scrolled": true
   },
   "outputs": [
    {
     "data": {
      "text/html": [
       "<div>\n",
       "<style scoped>\n",
       "    .dataframe tbody tr th:only-of-type {\n",
       "        vertical-align: middle;\n",
       "    }\n",
       "\n",
       "    .dataframe tbody tr th {\n",
       "        vertical-align: top;\n",
       "    }\n",
       "\n",
       "    .dataframe thead th {\n",
       "        text-align: right;\n",
       "    }\n",
       "</style>\n",
       "<table border=\"1\" class=\"dataframe\">\n",
       "  <thead>\n",
       "    <tr style=\"text-align: right;\">\n",
       "      <th></th>\n",
       "      <th>gender</th>\n",
       "      <th>age</th>\n",
       "      <th>salary</th>\n",
       "      <th>family_members</th>\n",
       "    </tr>\n",
       "  </thead>\n",
       "  <tbody>\n",
       "    <tr>\n",
       "      <th>0</th>\n",
       "      <td>2.735171e+08</td>\n",
       "      <td>3.097397e+08</td>\n",
       "      <td>-4.580270e+08</td>\n",
       "      <td>-2.621526e+07</td>\n",
       "    </tr>\n",
       "    <tr>\n",
       "      <th>1</th>\n",
       "      <td>2.094885e+08</td>\n",
       "      <td>2.372691e+08</td>\n",
       "      <td>-3.510054e+08</td>\n",
       "      <td>-2.010060e+07</td>\n",
       "    </tr>\n",
       "    <tr>\n",
       "      <th>2</th>\n",
       "      <td>1.157579e+08</td>\n",
       "      <td>1.311175e+08</td>\n",
       "      <td>-1.940029e+08</td>\n",
       "      <td>-1.110508e+07</td>\n",
       "    </tr>\n",
       "    <tr>\n",
       "      <th>3</th>\n",
       "      <td>2.299992e+08</td>\n",
       "      <td>2.604337e+08</td>\n",
       "      <td>-3.849812e+08</td>\n",
       "      <td>-2.204974e+07</td>\n",
       "    </tr>\n",
       "    <tr>\n",
       "      <th>4</th>\n",
       "      <td>1.439054e+08</td>\n",
       "      <td>1.629744e+08</td>\n",
       "      <td>-2.410628e+08</td>\n",
       "      <td>-1.378968e+07</td>\n",
       "    </tr>\n",
       "    <tr>\n",
       "      <th>...</th>\n",
       "      <td>...</td>\n",
       "      <td>...</td>\n",
       "      <td>...</td>\n",
       "      <td>...</td>\n",
       "    </tr>\n",
       "    <tr>\n",
       "      <th>4842</th>\n",
       "      <td>1.968652e+08</td>\n",
       "      <td>2.229366e+08</td>\n",
       "      <td>-3.296542e+08</td>\n",
       "      <td>-1.888537e+07</td>\n",
       "    </tr>\n",
       "    <tr>\n",
       "      <th>4843</th>\n",
       "      <td>2.889913e+08</td>\n",
       "      <td>3.272511e+08</td>\n",
       "      <td>-4.838224e+08</td>\n",
       "      <td>-2.769776e+07</td>\n",
       "    </tr>\n",
       "    <tr>\n",
       "      <th>4844</th>\n",
       "      <td>1.869649e+08</td>\n",
       "      <td>2.117106e+08</td>\n",
       "      <td>-3.129884e+08</td>\n",
       "      <td>-1.793044e+07</td>\n",
       "    </tr>\n",
       "    <tr>\n",
       "      <th>4845</th>\n",
       "      <td>1.803352e+08</td>\n",
       "      <td>2.041997e+08</td>\n",
       "      <td>-3.019218e+08</td>\n",
       "      <td>-1.729932e+07</td>\n",
       "    </tr>\n",
       "    <tr>\n",
       "      <th>4846</th>\n",
       "      <td>2.239089e+08</td>\n",
       "      <td>2.535478e+08</td>\n",
       "      <td>-3.748790e+08</td>\n",
       "      <td>-2.145562e+07</td>\n",
       "    </tr>\n",
       "  </tbody>\n",
       "</table>\n",
       "<p>4847 rows × 4 columns</p>\n",
       "</div>"
      ],
      "text/plain": [
       "            gender           age        salary  family_members\n",
       "0     2.735171e+08  3.097397e+08 -4.580270e+08   -2.621526e+07\n",
       "1     2.094885e+08  2.372691e+08 -3.510054e+08   -2.010060e+07\n",
       "2     1.157579e+08  1.311175e+08 -1.940029e+08   -1.110508e+07\n",
       "3     2.299992e+08  2.604337e+08 -3.849812e+08   -2.204974e+07\n",
       "4     1.439054e+08  1.629744e+08 -2.410628e+08   -1.378968e+07\n",
       "...            ...           ...           ...             ...\n",
       "4842  1.968652e+08  2.229366e+08 -3.296542e+08   -1.888537e+07\n",
       "4843  2.889913e+08  3.272511e+08 -4.838224e+08   -2.769776e+07\n",
       "4844  1.869649e+08  2.117106e+08 -3.129884e+08   -1.793044e+07\n",
       "4845  1.803352e+08  2.041997e+08 -3.019218e+08   -1.729932e+07\n",
       "4846  2.239089e+08  2.535478e+08 -3.748790e+08   -2.145562e+07\n",
       "\n",
       "[4847 rows x 4 columns]"
      ]
     },
     "execution_count": 15,
     "metadata": {},
     "output_type": "execute_result"
    }
   ],
   "source": [
    "new_features"
   ]
  },
  {
   "cell_type": "code",
   "execution_count": 16,
   "metadata": {},
   "outputs": [],
   "source": [
    "new_features_train, new_features_test, new_target_train, new_target_test = train_test_split(\n",
    "    new_features, \n",
    "    target, \n",
    "    test_size=0.25, \n",
    "    random_state=12345)"
   ]
  },
  {
   "cell_type": "code",
   "execution_count": 17,
   "metadata": {},
   "outputs": [
    {
     "name": "stdout",
     "output_type": "stream",
     "text": [
      "После преобразования 0.4230772761583321\n"
     ]
    }
   ],
   "source": [
    "model = LinearRegression().fit(new_features_train, new_target_train)\n",
    "predictions = model.predict(new_features_test)\n",
    "print('После преобразования', r2_score(new_target_test, predictions))"
   ]
  },
  {
   "cell_type": "code",
   "execution_count": 18,
   "metadata": {
    "scrolled": true
   },
   "outputs": [
    {
     "data": {
      "text/plain": [
       "<AxesSubplot:>"
      ]
     },
     "execution_count": 18,
     "metadata": {},
     "output_type": "execute_result"
    },
    {
     "data": {
      "image/png": "[encoded data removed]",
      "text/plain": [
       "<Figure size 432x288 with 2 Axes>"
      ]
     },
     "metadata": {
      "needs_background": "light"
     },
     "output_type": "display_data"
    }
   ],
   "source": [
    "sns.heatmap(new_features.corr(), annot=True, vmin=-1, vmax=1, center= 0, cmap= 'coolwarm')"
   ]
  },
  {
   "cell_type": "markdown",
   "metadata": {},
   "source": [
    "То есть после шифрования получается так, что признаки начинают сильно коррелировать друг с другом, потому что при умножении на обратимую матрицу они становятся линейно зависимыми"
   ]
  },
  {
   "cell_type": "markdown",
   "metadata": {},
   "source": [
    "## Вывод"
   ]
  },
  {
   "cell_type": "markdown",
   "metadata": {},
   "source": [
    "В данном проекте было необходимо защитить данные клиентов страховой компании «Хоть потоп».\n",
    "\n",
    "Был проведен осмотр и предобработка данных.<br>\n",
    "Далее теоретически выявлено, что при умножении признаков на обратимую матрицу качество линейной регрессии не изменяется.<br>\n",
    "Воспользовавшись этим знанием, были зашифрованы данные, а далее проверено качество линейной регрессии до и после шифрование метрикой R2, качество оказалось одинаковым.<br>"
   ]
  }
 ],
 "metadata": {
  "ExecuteTimeLog": [
   {
    "duration": 407,
    "start_time": "2022-08-06T06:01:05.425Z"
   },
   {
    "duration": 192,
    "start_time": "2022-08-06T06:01:27.465Z"
   },
   {
    "duration": 21,
    "start_time": "2022-08-06T06:01:39.504Z"
   },
   {
    "duration": 61,
    "start_time": "2022-08-06T06:01:54.259Z"
   },
   {
    "duration": 12,
    "start_time": "2022-08-06T06:02:46.096Z"
   },
   {
    "duration": 6,
    "start_time": "2022-08-06T06:02:49.705Z"
   },
   {
    "duration": 105,
    "start_time": "2022-08-06T06:03:15.502Z"
   },
   {
    "duration": 5,
    "start_time": "2022-08-06T06:03:18.794Z"
   },
   {
    "duration": 11,
    "start_time": "2022-08-06T06:03:30.864Z"
   },
   {
    "duration": 5,
    "start_time": "2022-08-06T06:03:47.300Z"
   },
   {
    "duration": 5,
    "start_time": "2022-08-06T06:04:13.692Z"
   },
   {
    "duration": 6,
    "start_time": "2022-08-06T06:04:14.002Z"
   },
   {
    "duration": 7,
    "start_time": "2022-08-06T06:04:28.345Z"
   },
   {
    "duration": 10,
    "start_time": "2022-08-06T06:04:29.935Z"
   },
   {
    "duration": 6,
    "start_time": "2022-08-06T06:04:50.888Z"
   },
   {
    "duration": 6,
    "start_time": "2022-08-06T06:04:54.341Z"
   },
   {
    "duration": 9,
    "start_time": "2022-08-06T06:05:12.409Z"
   },
   {
    "duration": 41,
    "start_time": "2022-08-06T06:05:15.991Z"
   },
   {
    "duration": 1201,
    "start_time": "2022-08-06T06:20:56.598Z"
   },
   {
    "duration": 3,
    "start_time": "2022-08-06T06:21:48.935Z"
   },
   {
    "duration": 6,
    "start_time": "2022-08-06T06:22:42.268Z"
   },
   {
    "duration": 36,
    "start_time": "2022-08-06T06:22:59.102Z"
   },
   {
    "duration": 27,
    "start_time": "2022-08-06T06:23:17.039Z"
   },
   {
    "duration": 5,
    "start_time": "2022-08-06T06:23:51.522Z"
   },
   {
    "duration": 4,
    "start_time": "2022-08-06T06:24:18.726Z"
   },
   {
    "duration": 14,
    "start_time": "2022-08-06T06:24:30.316Z"
   },
   {
    "duration": 11,
    "start_time": "2022-08-06T06:24:37.730Z"
   },
   {
    "duration": 77,
    "start_time": "2022-08-06T06:25:07.552Z"
   },
   {
    "duration": 761,
    "start_time": "2022-08-06T06:25:27.029Z"
   },
   {
    "duration": 263,
    "start_time": "2022-08-06T06:25:33.218Z"
   },
   {
    "duration": 264,
    "start_time": "2022-08-06T06:25:52.062Z"
   },
   {
    "duration": 123,
    "start_time": "2022-08-06T06:26:08.020Z"
   },
   {
    "duration": 262,
    "start_time": "2022-08-06T06:26:11.091Z"
   },
   {
    "duration": 197,
    "start_time": "2022-08-06T06:26:13.050Z"
   },
   {
    "duration": 51,
    "start_time": "2022-08-06T06:28:37.246Z"
   },
   {
    "duration": 7,
    "start_time": "2022-08-06T06:28:38.992Z"
   },
   {
    "duration": 12,
    "start_time": "2022-08-06T06:28:39.358Z"
   },
   {
    "duration": 8,
    "start_time": "2022-08-06T06:30:11.515Z"
   },
   {
    "duration": 10,
    "start_time": "2022-08-06T06:31:33.208Z"
   },
   {
    "duration": 10,
    "start_time": "2022-08-06T06:31:51.014Z"
   },
   {
    "duration": 12,
    "start_time": "2022-08-06T06:31:51.642Z"
   },
   {
    "duration": 4,
    "start_time": "2022-08-06T09:28:13.825Z"
   },
   {
    "duration": 17,
    "start_time": "2022-08-06T09:28:14.421Z"
   },
   {
    "duration": 4,
    "start_time": "2022-08-06T09:29:08.148Z"
   },
   {
    "duration": 13,
    "start_time": "2022-08-06T09:29:10.457Z"
   },
   {
    "duration": 4,
    "start_time": "2022-08-06T09:29:23.373Z"
   },
   {
    "duration": 11,
    "start_time": "2022-08-06T09:29:24.945Z"
   },
   {
    "duration": 4,
    "start_time": "2022-08-06T09:29:29.924Z"
   },
   {
    "duration": 31,
    "start_time": "2022-08-06T09:29:57.423Z"
   },
   {
    "duration": 40,
    "start_time": "2022-08-06T09:30:01.568Z"
   },
   {
    "duration": 9,
    "start_time": "2022-08-06T09:31:54.267Z"
   },
   {
    "duration": 12,
    "start_time": "2022-08-06T09:31:58.253Z"
   },
   {
    "duration": 11,
    "start_time": "2022-08-06T09:32:00.882Z"
   },
   {
    "duration": 76,
    "start_time": "2022-08-06T09:32:03.513Z"
   },
   {
    "duration": 8,
    "start_time": "2022-08-06T09:32:06.658Z"
   },
   {
    "duration": 7,
    "start_time": "2022-08-06T09:33:13.741Z"
   },
   {
    "duration": 11,
    "start_time": "2022-08-06T09:33:27.473Z"
   },
   {
    "duration": 1657,
    "start_time": "2022-08-06T10:08:31.982Z"
   },
   {
    "duration": 31,
    "start_time": "2022-08-06T10:08:33.641Z"
   },
   {
    "duration": 14,
    "start_time": "2022-08-06T10:08:33.673Z"
   },
   {
    "duration": 3,
    "start_time": "2022-08-06T10:08:33.689Z"
   },
   {
    "duration": 13,
    "start_time": "2022-08-06T10:08:33.694Z"
   },
   {
    "duration": 5,
    "start_time": "2022-08-06T10:08:33.709Z"
   },
   {
    "duration": 62,
    "start_time": "2022-08-06T10:08:33.715Z"
   },
   {
    "duration": 6,
    "start_time": "2022-08-06T10:08:33.780Z"
   },
   {
    "duration": 6,
    "start_time": "2022-08-06T10:08:33.787Z"
   },
   {
    "duration": 136,
    "start_time": "2022-08-06T10:08:33.795Z"
   },
   {
    "duration": 0,
    "start_time": "2022-08-06T10:08:33.932Z"
   },
   {
    "duration": 8,
    "start_time": "2022-08-06T10:08:56.503Z"
   },
   {
    "duration": 9,
    "start_time": "2022-08-06T10:08:57.649Z"
   },
   {
    "duration": 3,
    "start_time": "2022-08-06T10:10:41.181Z"
   },
   {
    "duration": 9,
    "start_time": "2022-08-06T10:11:12.574Z"
   },
   {
    "duration": 5,
    "start_time": "2022-08-06T10:21:16.501Z"
   },
   {
    "duration": 3,
    "start_time": "2022-08-06T10:21:49.984Z"
   },
   {
    "duration": 12,
    "start_time": "2022-08-06T10:22:02.569Z"
   },
   {
    "duration": 4,
    "start_time": "2022-08-06T10:22:30.787Z"
   },
   {
    "duration": 16,
    "start_time": "2022-08-06T10:22:32.079Z"
   },
   {
    "duration": 3,
    "start_time": "2022-08-06T10:22:58.086Z"
   },
   {
    "duration": 5,
    "start_time": "2022-08-06T10:23:01.540Z"
   },
   {
    "duration": 17,
    "start_time": "2022-08-06T10:23:01.928Z"
   },
   {
    "duration": 5,
    "start_time": "2022-08-06T10:23:06.686Z"
   },
   {
    "duration": 15,
    "start_time": "2022-08-06T10:23:07.845Z"
   },
   {
    "duration": 3,
    "start_time": "2022-08-06T10:23:16.150Z"
   },
   {
    "duration": 4,
    "start_time": "2022-08-06T10:23:17.012Z"
   },
   {
    "duration": 9,
    "start_time": "2022-08-06T10:24:13.052Z"
   },
   {
    "duration": 10,
    "start_time": "2022-08-06T10:24:28.049Z"
   },
   {
    "duration": 4,
    "start_time": "2022-08-06T10:24:30.695Z"
   },
   {
    "duration": 3,
    "start_time": "2022-08-06T10:24:46.332Z"
   },
   {
    "duration": 3,
    "start_time": "2022-08-06T10:26:30.605Z"
   },
   {
    "duration": 14,
    "start_time": "2022-08-06T10:26:35.371Z"
   },
   {
    "duration": 15,
    "start_time": "2022-08-06T10:26:56.274Z"
   },
   {
    "duration": 16,
    "start_time": "2022-08-06T10:27:01.584Z"
   },
   {
    "duration": 13,
    "start_time": "2022-08-06T10:27:06.869Z"
   },
   {
    "duration": 10,
    "start_time": "2022-08-06T10:27:08.982Z"
   },
   {
    "duration": 6,
    "start_time": "2022-08-06T10:27:15.336Z"
   },
   {
    "duration": 13,
    "start_time": "2022-08-06T10:27:16.631Z"
   },
   {
    "duration": 4,
    "start_time": "2022-08-06T10:28:06.040Z"
   },
   {
    "duration": 3,
    "start_time": "2022-08-06T10:28:06.329Z"
   },
   {
    "duration": 3,
    "start_time": "2022-08-06T10:28:06.812Z"
   },
   {
    "duration": 4,
    "start_time": "2022-08-06T10:28:15.249Z"
   },
   {
    "duration": 4,
    "start_time": "2022-08-06T10:28:43.641Z"
   },
   {
    "duration": 3,
    "start_time": "2022-08-06T10:28:44.242Z"
   },
   {
    "duration": 4,
    "start_time": "2022-08-06T10:28:44.918Z"
   },
   {
    "duration": 4,
    "start_time": "2022-08-06T10:28:52.760Z"
   },
   {
    "duration": 3,
    "start_time": "2022-08-06T10:28:53.421Z"
   },
   {
    "duration": 3,
    "start_time": "2022-08-06T10:28:53.813Z"
   },
   {
    "duration": 4,
    "start_time": "2022-08-06T10:36:06.137Z"
   },
   {
    "duration": 15,
    "start_time": "2022-08-06T10:36:30.382Z"
   },
   {
    "duration": 15,
    "start_time": "2022-08-06T10:36:41.665Z"
   },
   {
    "duration": 8,
    "start_time": "2022-08-06T10:37:21.985Z"
   },
   {
    "duration": 10,
    "start_time": "2022-08-06T10:37:22.751Z"
   },
   {
    "duration": 4,
    "start_time": "2022-08-06T10:37:32.357Z"
   },
   {
    "duration": 4,
    "start_time": "2022-08-06T10:38:31.413Z"
   },
   {
    "duration": 4,
    "start_time": "2022-08-06T10:38:31.914Z"
   },
   {
    "duration": 7,
    "start_time": "2022-08-06T10:38:32.519Z"
   },
   {
    "duration": 11,
    "start_time": "2022-08-06T10:38:33.109Z"
   },
   {
    "duration": 7,
    "start_time": "2022-08-06T10:38:57.193Z"
   },
   {
    "duration": 10,
    "start_time": "2022-08-06T10:38:57.711Z"
   },
   {
    "duration": 3,
    "start_time": "2022-08-06T10:38:59.456Z"
   },
   {
    "duration": 7,
    "start_time": "2022-08-06T10:42:37.713Z"
   },
   {
    "duration": 16,
    "start_time": "2022-08-06T10:42:38.169Z"
   },
   {
    "duration": 4,
    "start_time": "2022-08-06T10:42:38.692Z"
   },
   {
    "duration": 4,
    "start_time": "2022-08-06T10:42:39.312Z"
   },
   {
    "duration": 6,
    "start_time": "2022-08-06T10:42:39.810Z"
   },
   {
    "duration": 15,
    "start_time": "2022-08-06T10:42:40.365Z"
   },
   {
    "duration": 1298,
    "start_time": "2022-08-07T08:20:58.281Z"
   },
   {
    "duration": 82,
    "start_time": "2022-08-07T08:20:59.580Z"
   },
   {
    "duration": 11,
    "start_time": "2022-08-07T08:20:59.664Z"
   },
   {
    "duration": 5,
    "start_time": "2022-08-07T08:20:59.676Z"
   },
   {
    "duration": 13,
    "start_time": "2022-08-07T08:20:59.682Z"
   },
   {
    "duration": 4,
    "start_time": "2022-08-07T08:20:59.697Z"
   },
   {
    "duration": 24,
    "start_time": "2022-08-07T08:20:59.702Z"
   },
   {
    "duration": 4,
    "start_time": "2022-08-07T08:20:59.728Z"
   },
   {
    "duration": 5,
    "start_time": "2022-08-07T08:20:59.734Z"
   },
   {
    "duration": 8,
    "start_time": "2022-08-07T08:21:03.443Z"
   },
   {
    "duration": 2,
    "start_time": "2022-08-07T08:21:11.060Z"
   },
   {
    "duration": 25,
    "start_time": "2022-08-07T08:21:11.212Z"
   },
   {
    "duration": 8,
    "start_time": "2022-08-07T08:21:11.298Z"
   },
   {
    "duration": 3,
    "start_time": "2022-08-07T08:21:11.462Z"
   },
   {
    "duration": 9,
    "start_time": "2022-08-07T08:21:11.548Z"
   },
   {
    "duration": 4,
    "start_time": "2022-08-07T08:21:11.633Z"
   },
   {
    "duration": 21,
    "start_time": "2022-08-07T08:21:11.713Z"
   },
   {
    "duration": 5,
    "start_time": "2022-08-07T08:21:11.793Z"
   },
   {
    "duration": 5,
    "start_time": "2022-08-07T08:21:11.880Z"
   },
   {
    "duration": 8,
    "start_time": "2022-08-07T08:21:11.962Z"
   },
   {
    "duration": 88,
    "start_time": "2022-08-07T08:30:08.805Z"
   },
   {
    "duration": 1194,
    "start_time": "2022-08-07T08:30:15.673Z"
   },
   {
    "duration": 27,
    "start_time": "2022-08-07T08:30:16.870Z"
   },
   {
    "duration": 11,
    "start_time": "2022-08-07T08:30:16.898Z"
   },
   {
    "duration": 9,
    "start_time": "2022-08-07T08:30:16.911Z"
   },
   {
    "duration": 22,
    "start_time": "2022-08-07T08:30:16.921Z"
   },
   {
    "duration": 11,
    "start_time": "2022-08-07T08:30:16.944Z"
   },
   {
    "duration": 3,
    "start_time": "2022-08-07T08:30:16.956Z"
   },
   {
    "duration": 3,
    "start_time": "2022-08-07T08:30:16.961Z"
   },
   {
    "duration": 9,
    "start_time": "2022-08-07T08:30:16.965Z"
   },
   {
    "duration": 7,
    "start_time": "2022-08-07T08:30:16.976Z"
   },
   {
    "duration": 32,
    "start_time": "2022-08-07T08:30:16.984Z"
   },
   {
    "duration": 6,
    "start_time": "2022-08-07T08:30:17.018Z"
   },
   {
    "duration": 7,
    "start_time": "2022-08-07T08:30:17.025Z"
   },
   {
    "duration": 12,
    "start_time": "2022-08-07T08:30:17.034Z"
   },
   {
    "duration": 6,
    "start_time": "2022-08-07T08:30:17.048Z"
   },
   {
    "duration": 8,
    "start_time": "2022-08-07T08:30:17.056Z"
   },
   {
    "duration": 8,
    "start_time": "2022-08-07T08:36:28.265Z"
   },
   {
    "duration": 9,
    "start_time": "2022-08-07T08:36:30.998Z"
   },
   {
    "duration": 3,
    "start_time": "2022-08-07T08:37:22.375Z"
   },
   {
    "duration": 956,
    "start_time": "2022-08-07T08:38:01.695Z"
   },
   {
    "duration": 26,
    "start_time": "2022-08-07T08:38:02.653Z"
   },
   {
    "duration": 13,
    "start_time": "2022-08-07T08:38:02.681Z"
   },
   {
    "duration": 9,
    "start_time": "2022-08-07T08:38:02.696Z"
   },
   {
    "duration": 30,
    "start_time": "2022-08-07T08:38:02.707Z"
   },
   {
    "duration": 5,
    "start_time": "2022-08-07T08:38:02.738Z"
   },
   {
    "duration": 8,
    "start_time": "2022-08-07T08:38:02.744Z"
   },
   {
    "duration": 3,
    "start_time": "2022-08-07T08:38:02.753Z"
   },
   {
    "duration": 6,
    "start_time": "2022-08-07T08:38:02.758Z"
   },
   {
    "duration": 9,
    "start_time": "2022-08-07T08:38:02.766Z"
   },
   {
    "duration": 10,
    "start_time": "2022-08-07T08:38:02.776Z"
   },
   {
    "duration": 4,
    "start_time": "2022-08-07T08:38:02.788Z"
   },
   {
    "duration": 5,
    "start_time": "2022-08-07T08:38:02.794Z"
   },
   {
    "duration": 10,
    "start_time": "2022-08-07T08:38:02.800Z"
   },
   {
    "duration": 7,
    "start_time": "2022-08-07T08:38:02.812Z"
   },
   {
    "duration": 7,
    "start_time": "2022-08-07T08:38:02.821Z"
   },
   {
    "duration": 982,
    "start_time": "2022-08-07T08:44:59.346Z"
   },
   {
    "duration": 27,
    "start_time": "2022-08-07T08:45:00.330Z"
   },
   {
    "duration": 14,
    "start_time": "2022-08-07T08:45:00.358Z"
   },
   {
    "duration": 13,
    "start_time": "2022-08-07T08:45:00.374Z"
   },
   {
    "duration": 28,
    "start_time": "2022-08-07T08:45:00.389Z"
   },
   {
    "duration": 7,
    "start_time": "2022-08-07T08:45:00.419Z"
   },
   {
    "duration": 21,
    "start_time": "2022-08-07T08:45:00.428Z"
   },
   {
    "duration": 15,
    "start_time": "2022-08-07T08:45:00.450Z"
   },
   {
    "duration": 20,
    "start_time": "2022-08-07T08:45:00.467Z"
   },
   {
    "duration": 15,
    "start_time": "2022-08-07T08:45:00.489Z"
   },
   {
    "duration": 21,
    "start_time": "2022-08-07T08:45:00.505Z"
   },
   {
    "duration": 80,
    "start_time": "2022-08-07T08:45:00.527Z"
   },
   {
    "duration": 0,
    "start_time": "2022-08-07T08:45:00.609Z"
   },
   {
    "duration": 0,
    "start_time": "2022-08-07T08:45:00.610Z"
   },
   {
    "duration": 0,
    "start_time": "2022-08-07T08:45:00.610Z"
   },
   {
    "duration": 0,
    "start_time": "2022-08-07T08:45:00.611Z"
   },
   {
    "duration": 98,
    "start_time": "2022-08-07T08:45:11.336Z"
   },
   {
    "duration": 84,
    "start_time": "2022-08-07T08:45:21.804Z"
   },
   {
    "duration": 4,
    "start_time": "2022-08-07T08:45:29.735Z"
   },
   {
    "duration": 3,
    "start_time": "2022-08-07T08:45:42.828Z"
   },
   {
    "duration": 12171,
    "start_time": "2022-08-07T08:45:43.751Z"
   },
   {
    "duration": 4,
    "start_time": "2022-08-07T08:45:59.756Z"
   },
   {
    "duration": 23331,
    "start_time": "2022-08-07T08:46:00.569Z"
   },
   {
    "duration": 4,
    "start_time": "2022-08-07T08:46:25.401Z"
   },
   {
    "duration": 3,
    "start_time": "2022-08-07T08:46:26.162Z"
   },
   {
    "duration": 9,
    "start_time": "2022-08-07T08:46:27.593Z"
   },
   {
    "duration": 4,
    "start_time": "2022-08-07T08:46:31.934Z"
   },
   {
    "duration": 8,
    "start_time": "2022-08-07T08:46:32.802Z"
   },
   {
    "duration": 918,
    "start_time": "2022-08-07T09:05:19.798Z"
   },
   {
    "duration": 26,
    "start_time": "2022-08-07T09:05:20.718Z"
   },
   {
    "duration": 14,
    "start_time": "2022-08-07T09:05:20.747Z"
   },
   {
    "duration": 10,
    "start_time": "2022-08-07T09:05:20.762Z"
   },
   {
    "duration": 24,
    "start_time": "2022-08-07T09:05:20.773Z"
   },
   {
    "duration": 5,
    "start_time": "2022-08-07T09:05:20.798Z"
   },
   {
    "duration": 6,
    "start_time": "2022-08-07T09:05:20.805Z"
   },
   {
    "duration": 3,
    "start_time": "2022-08-07T09:05:20.812Z"
   },
   {
    "duration": 6,
    "start_time": "2022-08-07T09:05:20.816Z"
   },
   {
    "duration": 32,
    "start_time": "2022-08-07T09:05:20.823Z"
   },
   {
    "duration": 8,
    "start_time": "2022-08-07T09:05:20.856Z"
   },
   {
    "duration": 5,
    "start_time": "2022-08-07T09:05:20.865Z"
   },
   {
    "duration": 4,
    "start_time": "2022-08-07T09:05:20.872Z"
   },
   {
    "duration": 9,
    "start_time": "2022-08-07T09:05:20.877Z"
   },
   {
    "duration": 5,
    "start_time": "2022-08-07T09:05:20.887Z"
   },
   {
    "duration": 11,
    "start_time": "2022-08-07T09:05:20.893Z"
   },
   {
    "duration": 1119,
    "start_time": "2022-08-07T11:15:40.185Z"
   },
   {
    "duration": 82,
    "start_time": "2022-08-07T11:15:41.306Z"
   },
   {
    "duration": 16,
    "start_time": "2022-08-07T11:15:41.390Z"
   },
   {
    "duration": 18,
    "start_time": "2022-08-07T11:15:41.503Z"
   },
   {
    "duration": 27,
    "start_time": "2022-08-07T11:15:41.823Z"
   },
   {
    "duration": 6,
    "start_time": "2022-08-07T11:15:42.101Z"
   },
   {
    "duration": 6,
    "start_time": "2022-08-07T11:15:42.717Z"
   },
   {
    "duration": 3,
    "start_time": "2022-08-07T11:15:42.985Z"
   },
   {
    "duration": 5,
    "start_time": "2022-08-07T11:15:43.226Z"
   },
   {
    "duration": 11,
    "start_time": "2022-08-07T11:15:43.557Z"
   },
   {
    "duration": 105,
    "start_time": "2022-08-07T11:16:03.494Z"
   },
   {
    "duration": 496,
    "start_time": "2022-08-07T11:16:15.003Z"
   },
   {
    "duration": 359,
    "start_time": "2022-08-07T11:16:17.685Z"
   },
   {
    "duration": 23,
    "start_time": "2022-08-07T11:20:45.561Z"
   },
   {
    "duration": 1426,
    "start_time": "2022-08-07T11:20:53.515Z"
   },
   {
    "duration": 29,
    "start_time": "2022-08-07T11:20:54.943Z"
   },
   {
    "duration": 13,
    "start_time": "2022-08-07T11:20:54.974Z"
   },
   {
    "duration": 11,
    "start_time": "2022-08-07T11:20:54.989Z"
   },
   {
    "duration": 29,
    "start_time": "2022-08-07T11:20:55.002Z"
   },
   {
    "duration": 37,
    "start_time": "2022-08-07T11:20:55.032Z"
   },
   {
    "duration": 324,
    "start_time": "2022-08-07T11:20:55.070Z"
   },
   {
    "duration": 6,
    "start_time": "2022-08-07T11:20:55.396Z"
   },
   {
    "duration": 6,
    "start_time": "2022-08-07T11:20:55.403Z"
   },
   {
    "duration": 9,
    "start_time": "2022-08-07T11:20:55.411Z"
   },
   {
    "duration": 12,
    "start_time": "2022-08-07T11:20:55.422Z"
   },
   {
    "duration": 10,
    "start_time": "2022-08-07T11:20:55.436Z"
   },
   {
    "duration": 4,
    "start_time": "2022-08-07T11:20:55.468Z"
   },
   {
    "duration": 9,
    "start_time": "2022-08-07T11:20:55.473Z"
   },
   {
    "duration": 14,
    "start_time": "2022-08-07T11:20:55.483Z"
   },
   {
    "duration": 11,
    "start_time": "2022-08-07T11:20:55.498Z"
   },
   {
    "duration": 7,
    "start_time": "2022-08-07T11:20:55.511Z"
   },
   {
    "duration": 15,
    "start_time": "2022-08-07T11:20:55.520Z"
   },
   {
    "duration": 74,
    "start_time": "2022-08-07T11:21:29.230Z"
   },
   {
    "duration": 129,
    "start_time": "2022-08-07T11:21:31.555Z"
   },
   {
    "duration": 313,
    "start_time": "2022-08-07T11:21:43.339Z"
   },
   {
    "duration": 1442,
    "start_time": "2022-08-07T11:24:22.095Z"
   },
   {
    "duration": 29,
    "start_time": "2022-08-07T11:24:23.539Z"
   },
   {
    "duration": 14,
    "start_time": "2022-08-07T11:24:23.570Z"
   },
   {
    "duration": 11,
    "start_time": "2022-08-07T11:24:23.587Z"
   },
   {
    "duration": 29,
    "start_time": "2022-08-07T11:24:23.600Z"
   },
   {
    "duration": 5,
    "start_time": "2022-08-07T11:24:23.631Z"
   },
   {
    "duration": 384,
    "start_time": "2022-08-07T11:24:23.638Z"
   },
   {
    "duration": 7,
    "start_time": "2022-08-07T11:24:24.024Z"
   },
   {
    "duration": 5,
    "start_time": "2022-08-07T11:24:24.033Z"
   },
   {
    "duration": 5,
    "start_time": "2022-08-07T11:24:24.042Z"
   },
   {
    "duration": 9,
    "start_time": "2022-08-07T11:24:24.068Z"
   },
   {
    "duration": 10,
    "start_time": "2022-08-07T11:24:24.079Z"
   },
   {
    "duration": 5,
    "start_time": "2022-08-07T11:24:24.091Z"
   },
   {
    "duration": 6,
    "start_time": "2022-08-07T11:24:24.097Z"
   },
   {
    "duration": 12,
    "start_time": "2022-08-07T11:24:24.105Z"
   },
   {
    "duration": 6,
    "start_time": "2022-08-07T11:24:24.119Z"
   },
   {
    "duration": 41,
    "start_time": "2022-08-07T11:24:24.127Z"
   },
   {
    "duration": 286,
    "start_time": "2022-08-07T11:24:24.170Z"
   },
   {
    "duration": 1439,
    "start_time": "2022-08-07T11:24:46.699Z"
   },
   {
    "duration": 30,
    "start_time": "2022-08-07T11:24:48.140Z"
   },
   {
    "duration": 14,
    "start_time": "2022-08-07T11:24:48.171Z"
   },
   {
    "duration": 11,
    "start_time": "2022-08-07T11:24:48.187Z"
   },
   {
    "duration": 27,
    "start_time": "2022-08-07T11:24:48.201Z"
   },
   {
    "duration": 38,
    "start_time": "2022-08-07T11:24:48.231Z"
   },
   {
    "duration": 332,
    "start_time": "2022-08-07T11:24:48.271Z"
   },
   {
    "duration": 6,
    "start_time": "2022-08-07T11:24:48.605Z"
   },
   {
    "duration": 4,
    "start_time": "2022-08-07T11:24:48.612Z"
   },
   {
    "duration": 7,
    "start_time": "2022-08-07T11:24:48.617Z"
   },
   {
    "duration": 7,
    "start_time": "2022-08-07T11:24:48.626Z"
   },
   {
    "duration": 32,
    "start_time": "2022-08-07T11:24:48.635Z"
   },
   {
    "duration": 4,
    "start_time": "2022-08-07T11:24:48.669Z"
   },
   {
    "duration": 6,
    "start_time": "2022-08-07T11:24:48.675Z"
   },
   {
    "duration": 13,
    "start_time": "2022-08-07T11:24:48.682Z"
   },
   {
    "duration": 13,
    "start_time": "2022-08-07T11:24:48.697Z"
   },
   {
    "duration": 9,
    "start_time": "2022-08-07T11:24:48.712Z"
   },
   {
    "duration": 329,
    "start_time": "2022-08-07T11:24:48.723Z"
   },
   {
    "duration": 4,
    "start_time": "2022-08-07T11:35:31.467Z"
   },
   {
    "duration": 115,
    "start_time": "2022-08-07T11:35:33.171Z"
   },
   {
    "duration": 4,
    "start_time": "2022-08-07T11:35:39.016Z"
   },
   {
    "duration": 17,
    "start_time": "2022-08-07T11:35:39.669Z"
   },
   {
    "duration": 4,
    "start_time": "2022-08-07T11:36:56.008Z"
   },
   {
    "duration": 20,
    "start_time": "2022-08-07T11:36:56.658Z"
   },
   {
    "duration": 5,
    "start_time": "2022-08-07T11:37:14.850Z"
   },
   {
    "duration": 4,
    "start_time": "2022-08-07T11:37:19.317Z"
   },
   {
    "duration": 3,
    "start_time": "2022-08-07T11:37:19.967Z"
   },
   {
    "duration": 14,
    "start_time": "2022-08-07T11:37:21.408Z"
   },
   {
    "duration": 5,
    "start_time": "2022-08-07T11:37:30.774Z"
   },
   {
    "duration": 4,
    "start_time": "2022-08-07T11:37:31.144Z"
   },
   {
    "duration": 20,
    "start_time": "2022-08-07T11:37:31.529Z"
   },
   {
    "duration": 3,
    "start_time": "2022-08-07T11:38:05.137Z"
   },
   {
    "duration": 338,
    "start_time": "2022-08-07T11:49:04.739Z"
   },
   {
    "duration": 384,
    "start_time": "2022-08-07T11:49:30.247Z"
   },
   {
    "duration": 400,
    "start_time": "2022-08-07T11:51:41.487Z"
   },
   {
    "duration": 435,
    "start_time": "2022-08-07T11:51:52.649Z"
   },
   {
    "duration": 347,
    "start_time": "2022-08-07T11:53:02.666Z"
   },
   {
    "duration": 341,
    "start_time": "2022-08-07T11:53:15.577Z"
   },
   {
    "duration": 363,
    "start_time": "2022-08-07T11:53:21.503Z"
   },
   {
    "duration": 454,
    "start_time": "2022-08-07T11:53:29.918Z"
   },
   {
    "duration": 438,
    "start_time": "2022-08-07T11:53:39.622Z"
   },
   {
    "duration": 1432,
    "start_time": "2022-08-07T18:26:34.889Z"
   },
   {
    "duration": 69,
    "start_time": "2022-08-07T18:26:36.324Z"
   },
   {
    "duration": 12,
    "start_time": "2022-08-07T18:26:36.395Z"
   },
   {
    "duration": 10,
    "start_time": "2022-08-07T18:26:36.409Z"
   },
   {
    "duration": 27,
    "start_time": "2022-08-07T18:26:36.421Z"
   },
   {
    "duration": 5,
    "start_time": "2022-08-07T18:26:36.449Z"
   },
   {
    "duration": 435,
    "start_time": "2022-08-07T18:26:36.455Z"
   },
   {
    "duration": 8,
    "start_time": "2022-08-07T18:26:36.892Z"
   },
   {
    "duration": 5,
    "start_time": "2022-08-07T18:26:36.901Z"
   },
   {
    "duration": 5,
    "start_time": "2022-08-07T18:26:36.908Z"
   },
   {
    "duration": 6,
    "start_time": "2022-08-07T18:26:36.915Z"
   },
   {
    "duration": 9,
    "start_time": "2022-08-07T18:26:36.923Z"
   },
   {
    "duration": 81,
    "start_time": "2022-08-07T18:26:36.933Z"
   },
   {
    "duration": 4,
    "start_time": "2022-08-07T18:26:37.100Z"
   },
   {
    "duration": 15,
    "start_time": "2022-08-07T18:26:37.105Z"
   },
   {
    "duration": 6,
    "start_time": "2022-08-07T18:26:37.121Z"
   },
   {
    "duration": 10,
    "start_time": "2022-08-07T18:26:37.128Z"
   },
   {
    "duration": 273,
    "start_time": "2022-08-07T18:26:37.139Z"
   },
   {
    "duration": 1279,
    "start_time": "2022-08-07T18:27:05.084Z"
   },
   {
    "duration": 28,
    "start_time": "2022-08-07T18:27:06.364Z"
   },
   {
    "duration": 11,
    "start_time": "2022-08-07T18:27:06.393Z"
   },
   {
    "duration": 13,
    "start_time": "2022-08-07T18:27:06.406Z"
   },
   {
    "duration": 22,
    "start_time": "2022-08-07T18:27:06.420Z"
   },
   {
    "duration": 5,
    "start_time": "2022-08-07T18:27:06.443Z"
   },
   {
    "duration": 402,
    "start_time": "2022-08-07T18:27:06.450Z"
   },
   {
    "duration": 5,
    "start_time": "2022-08-07T18:27:06.853Z"
   },
   {
    "duration": 6,
    "start_time": "2022-08-07T18:27:06.859Z"
   },
   {
    "duration": 10,
    "start_time": "2022-08-07T18:27:06.868Z"
   },
   {
    "duration": 7,
    "start_time": "2022-08-07T18:27:06.879Z"
   },
   {
    "duration": 19,
    "start_time": "2022-08-07T18:27:06.888Z"
   },
   {
    "duration": 4,
    "start_time": "2022-08-07T18:27:06.908Z"
   },
   {
    "duration": 6,
    "start_time": "2022-08-07T18:27:06.913Z"
   },
   {
    "duration": 16,
    "start_time": "2022-08-07T18:27:06.920Z"
   },
   {
    "duration": 15,
    "start_time": "2022-08-07T18:27:06.938Z"
   },
   {
    "duration": 22,
    "start_time": "2022-08-07T18:27:06.954Z"
   },
   {
    "duration": 327,
    "start_time": "2022-08-07T18:27:06.978Z"
   },
   {
    "duration": 1727,
    "start_time": "2022-08-08T15:36:25.868Z"
   },
   {
    "duration": 74,
    "start_time": "2022-08-08T15:36:27.596Z"
   },
   {
    "duration": 16,
    "start_time": "2022-08-08T15:36:27.672Z"
   },
   {
    "duration": 13,
    "start_time": "2022-08-08T15:36:27.690Z"
   },
   {
    "duration": 32,
    "start_time": "2022-08-08T15:36:27.706Z"
   },
   {
    "duration": 11,
    "start_time": "2022-08-08T15:36:27.740Z"
   },
   {
    "duration": 393,
    "start_time": "2022-08-08T15:36:27.753Z"
   },
   {
    "duration": 5,
    "start_time": "2022-08-08T15:36:28.149Z"
   },
   {
    "duration": 5,
    "start_time": "2022-08-08T15:36:28.156Z"
   },
   {
    "duration": 5,
    "start_time": "2022-08-08T15:36:28.163Z"
   },
   {
    "duration": 8,
    "start_time": "2022-08-08T15:36:28.169Z"
   },
   {
    "duration": 13,
    "start_time": "2022-08-08T15:36:28.178Z"
   },
   {
    "duration": 101,
    "start_time": "2022-08-08T15:36:28.239Z"
   },
   {
    "duration": 15,
    "start_time": "2022-08-08T15:36:28.342Z"
   },
   {
    "duration": 13,
    "start_time": "2022-08-08T15:36:28.358Z"
   },
   {
    "duration": 8,
    "start_time": "2022-08-08T15:36:28.373Z"
   },
   {
    "duration": 11,
    "start_time": "2022-08-08T15:36:28.383Z"
   },
   {
    "duration": 319,
    "start_time": "2022-08-08T15:36:28.396Z"
   },
   {
    "duration": 23,
    "start_time": "2022-08-08T15:38:20.008Z"
   },
   {
    "duration": 170,
    "start_time": "2022-08-08T15:39:17.733Z"
   },
   {
    "duration": 1162,
    "start_time": "2022-08-08T15:39:53.213Z"
   },
   {
    "duration": 1928,
    "start_time": "2022-08-08T15:43:53.951Z"
   },
   {
    "duration": 28,
    "start_time": "2022-08-08T15:43:55.881Z"
   },
   {
    "duration": 11,
    "start_time": "2022-08-08T15:43:55.911Z"
   },
   {
    "duration": 11,
    "start_time": "2022-08-08T15:43:55.923Z"
   },
   {
    "duration": 27,
    "start_time": "2022-08-08T15:43:55.937Z"
   },
   {
    "duration": 6,
    "start_time": "2022-08-08T15:43:55.965Z"
   },
   {
    "duration": 343,
    "start_time": "2022-08-08T15:43:55.973Z"
   },
   {
    "duration": 4,
    "start_time": "2022-08-08T15:43:56.318Z"
   },
   {
    "duration": 7,
    "start_time": "2022-08-08T15:43:56.323Z"
   },
   {
    "duration": 10,
    "start_time": "2022-08-08T15:43:56.331Z"
   },
   {
    "duration": 11,
    "start_time": "2022-08-08T15:43:56.342Z"
   },
   {
    "duration": 11,
    "start_time": "2022-08-08T15:43:56.354Z"
   },
   {
    "duration": 6,
    "start_time": "2022-08-08T15:43:56.366Z"
   },
   {
    "duration": 10,
    "start_time": "2022-08-08T15:43:56.374Z"
   },
   {
    "duration": 17,
    "start_time": "2022-08-08T15:43:56.385Z"
   },
   {
    "duration": 7,
    "start_time": "2022-08-08T15:43:56.403Z"
   },
   {
    "duration": 10,
    "start_time": "2022-08-08T15:43:56.411Z"
   },
   {
    "duration": 353,
    "start_time": "2022-08-08T15:43:56.423Z"
   },
   {
    "duration": 11,
    "start_time": "2022-08-08T15:52:12.359Z"
   },
   {
    "duration": 106,
    "start_time": "2022-08-08T15:52:30.719Z"
   },
   {
    "duration": 5,
    "start_time": "2022-08-08T15:52:52.372Z"
   },
   {
    "duration": 13,
    "start_time": "2022-08-08T15:52:56.233Z"
   },
   {
    "duration": 10,
    "start_time": "2022-08-08T15:53:29.153Z"
   },
   {
    "duration": 15,
    "start_time": "2022-08-08T15:53:42.339Z"
   }
  ],
  "kernelspec": {
   "display_name": "Python 3 (ipykernel)",
   "language": "python",
   "name": "python3"
  },
  "language_info": {
   "codemirror_mode": {
    "name": "ipython",
    "version": 3
   },
   "file_extension": ".py",
   "mimetype": "text/x-python",
   "name": "python",
   "nbconvert_exporter": "python",
   "pygments_lexer": "ipython3",
   "version": "3.9.7"
  },
  "toc": {
   "base_numbering": 1,
   "nav_menu": {},
   "number_sections": true,
   "sideBar": true,
   "skip_h1_title": true,
   "title_cell": "Содержание",
   "title_sidebar": "Contents",
   "toc_cell": true,
   "toc_position": {
    "height": "calc(100% - 180px)",
    "left": "10px",
    "top": "150px",
    "width": "165px"
   },
   "toc_section_display": true,
   "toc_window_display": true
  }
 },
 "nbformat": 4,
 "nbformat_minor": 2
}
