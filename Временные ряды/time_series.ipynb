{
 "cells": [
  {
   "cell_type": "markdown",
   "metadata": {},
   "source": [
    "# Прогноз количества заказов такси"
   ]
  },
  {
   "cell_type": "markdown",
   "metadata": {},
   "source": [
    "Компания «Чётенькое такси» собрала исторические данные о заказах такси в аэропортах. Чтобы привлекать больше водителей в период пиковой нагрузки, нужно спрогнозировать количество заказов такси на следующий час. Постройте модель для такого предсказания.\n",
    "\n",
    "Необходимо добиться значения метрики RMSE не больше 48."
   ]
  },
  {
   "cell_type": "markdown",
   "metadata": {},
   "source": [
    "## Импорт библиотек"
   ]
  },
  {
   "cell_type": "code",
   "execution_count": 1,
   "metadata": {},
   "outputs": [],
   "source": [
    "import pandas as pd\n",
    "import numpy as np\n",
    "import matplotlib.pyplot as plt\n",
    "\n",
    "from statsmodels.tsa.seasonal import seasonal_decompose\n",
    "\n",
    "from sklearn.model_selection import GridSearchCV\n",
    "from sklearn.model_selection import cross_val_score\n",
    "from sklearn.model_selection import train_test_split\n",
    "from sklearn.model_selection import TimeSeriesSplit\n",
    "\n",
    "from sklearn.metrics import make_scorer\n",
    "from sklearn.metrics import mean_squared_error\n",
    "\n",
    "from sklearn.linear_model import LinearRegression\n",
    "from sklearn.ensemble import RandomForestRegressor\n",
    "from catboost import CatBoostRegressor"
   ]
  },
  {
   "cell_type": "markdown",
   "metadata": {},
   "source": [
    "## Обзор и анализ данных"
   ]
  },
  {
   "cell_type": "code",
   "execution_count": 2,
   "metadata": {
    "scrolled": false
   },
   "outputs": [
    {
     "data": {
      "text/html": [
       "<div>\n",
       "<style scoped>\n",
       "    .dataframe tbody tr th:only-of-type {\n",
       "        vertical-align: middle;\n",
       "    }\n",
       "\n",
       "    .dataframe tbody tr th {\n",
       "        vertical-align: top;\n",
       "    }\n",
       "\n",
       "    .dataframe thead th {\n",
       "        text-align: right;\n",
       "    }\n",
       "</style>\n",
       "<table border=\"1\" class=\"dataframe\">\n",
       "  <thead>\n",
       "    <tr style=\"text-align: right;\">\n",
       "      <th></th>\n",
       "      <th>datetime</th>\n",
       "      <th>num_orders</th>\n",
       "    </tr>\n",
       "  </thead>\n",
       "  <tbody>\n",
       "    <tr>\n",
       "      <th>0</th>\n",
       "      <td>2018-03-01 00:00:00</td>\n",
       "      <td>9</td>\n",
       "    </tr>\n",
       "    <tr>\n",
       "      <th>1</th>\n",
       "      <td>2018-03-01 00:10:00</td>\n",
       "      <td>14</td>\n",
       "    </tr>\n",
       "    <tr>\n",
       "      <th>2</th>\n",
       "      <td>2018-03-01 00:20:00</td>\n",
       "      <td>28</td>\n",
       "    </tr>\n",
       "    <tr>\n",
       "      <th>3</th>\n",
       "      <td>2018-03-01 00:30:00</td>\n",
       "      <td>20</td>\n",
       "    </tr>\n",
       "    <tr>\n",
       "      <th>4</th>\n",
       "      <td>2018-03-01 00:40:00</td>\n",
       "      <td>32</td>\n",
       "    </tr>\n",
       "  </tbody>\n",
       "</table>\n",
       "</div>"
      ],
      "text/plain": [
       "              datetime  num_orders\n",
       "0  2018-03-01 00:00:00           9\n",
       "1  2018-03-01 00:10:00          14\n",
       "2  2018-03-01 00:20:00          28\n",
       "3  2018-03-01 00:30:00          20\n",
       "4  2018-03-01 00:40:00          32"
      ]
     },
     "execution_count": 2,
     "metadata": {},
     "output_type": "execute_result"
    }
   ],
   "source": [
    "data = pd.read_csv('/Users/daniilsobolev/Desktop/ml projects/Временные ряды/taxi.csv')\n",
    "data.head()"
   ]
  },
  {
   "cell_type": "code",
   "execution_count": 3,
   "metadata": {
    "scrolled": true
   },
   "outputs": [
    {
     "name": "stdout",
     "output_type": "stream",
     "text": [
      "<class 'pandas.core.frame.DataFrame'>\n",
      "RangeIndex: 26496 entries, 0 to 26495\n",
      "Data columns (total 2 columns):\n",
      " #   Column      Non-Null Count  Dtype \n",
      "---  ------      --------------  ----- \n",
      " 0   datetime    26496 non-null  object\n",
      " 1   num_orders  26496 non-null  int64 \n",
      "dtypes: int64(1), object(1)\n",
      "memory usage: 414.1+ KB\n"
     ]
    }
   ],
   "source": [
    "data.info()"
   ]
  },
  {
   "cell_type": "markdown",
   "metadata": {},
   "source": [
    "Переведем формат колонки **datetime** в datetime64 и сделаем её в качестве индекса"
   ]
  },
  {
   "cell_type": "code",
   "execution_count": 4,
   "metadata": {},
   "outputs": [],
   "source": [
    "data['datetime'] = data['datetime'].astype('datetime64')\n",
    "data = data.set_index('datetime')"
   ]
  },
  {
   "cell_type": "markdown",
   "metadata": {},
   "source": [
    "Проверим монотонно ли изменяется индекс"
   ]
  },
  {
   "cell_type": "code",
   "execution_count": 5,
   "metadata": {},
   "outputs": [
    {
     "data": {
      "text/plain": [
       "True"
      ]
     },
     "execution_count": 5,
     "metadata": {},
     "output_type": "execute_result"
    }
   ],
   "source": [
    "data.index.is_monotonic"
   ]
  },
  {
   "cell_type": "markdown",
   "metadata": {},
   "source": [
    "Так как нам надо предсказывать время за последующий час, проведем ресемплирование по одному часу"
   ]
  },
  {
   "cell_type": "code",
   "execution_count": 6,
   "metadata": {},
   "outputs": [],
   "source": [
    "data = data.resample('1h').sum()"
   ]
  },
  {
   "cell_type": "markdown",
   "metadata": {},
   "source": [
    "Посмотрим на график со скользящим средним и стандартным отклонением:"
   ]
  },
  {
   "cell_type": "code",
   "execution_count": 7,
   "metadata": {
    "scrolled": true
   },
   "outputs": [
    {
     "data": {
      "image/png": "[encoded data removed]",
      "text/plain": [
       "<Figure size 432x288 with 1 Axes>"
      ]
     },
     "metadata": {
      "needs_background": "light"
     },
     "output_type": "display_data"
    }
   ],
   "source": [
    "data['mean'] = data['num_orders'].rolling(200).mean() \n",
    "data['std'] = data['num_orders'].rolling(20).std()\n",
    "\n",
    "data.plot()\n",
    "del data['mean']\n",
    "del data['std']"
   ]
  },
  {
   "cell_type": "markdown",
   "metadata": {},
   "source": [
    "Также посмотрим на график разности и его скользящие значения"
   ]
  },
  {
   "cell_type": "code",
   "execution_count": 8,
   "metadata": {},
   "outputs": [
    {
     "data": {
      "text/plain": [
       "<AxesSubplot:xlabel='datetime'>"
      ]
     },
     "execution_count": 8,
     "metadata": {},
     "output_type": "execute_result"
    },
    {
     "data": {
      "image/png": "[encoded data removed]",
      "text/plain": [
       "<Figure size 432x288 with 1 Axes>"
      ]
     },
     "metadata": {
      "needs_background": "light"
     },
     "output_type": "display_data"
    }
   ],
   "source": [
    "data_sub = data - data.shift()\n",
    "data_sub['mean'] = data_sub['num_orders'].rolling(20).mean() \n",
    "data_sub['std'] = data_sub['num_orders'].rolling(20).std()\n",
    "\n",
    "data_sub.plot()"
   ]
  },
  {
   "cell_type": "markdown",
   "metadata": {},
   "source": [
    "Видно, что среднее постепенно увеличивается, что говорит о том, что ряд нестационарный и прогнозировать его будет сложнее.<br>\n",
    "\n",
    "Если посмотреть на график разности, то видно, что ряд стал более стационарным, его среднее почти не изменяется, стандартное отклонение немного увеличивается. Что говорит о возможности прогнозирования<br>\n",
    "\n",
    "Посмотрим на компоненты: тренд, сезонная и остаток:"
   ]
  },
  {
   "cell_type": "code",
   "execution_count": 9,
   "metadata": {},
   "outputs": [],
   "source": [
    "decomposed = seasonal_decompose(data) "
   ]
  },
  {
   "cell_type": "code",
   "execution_count": 10,
   "metadata": {},
   "outputs": [
    {
     "data": {
      "image/png": "[encoded data removed]",
      "text/plain": [
       "<Figure size 432x576 with 3 Axes>"
      ]
     },
     "metadata": {
      "needs_background": "light"
     },
     "output_type": "display_data"
    }
   ],
   "source": [
    "plt.figure(figsize=(6, 8))\n",
    "\n",
    "plt.subplot(311)\n",
    "decomposed.trend.plot(ax=plt.gca())\n",
    "plt.title('Trend')\n",
    "\n",
    "plt.subplot(312)\n",
    "decomposed.seasonal.plot(ax=plt.gca())\n",
    "plt.title('Seasonality')\n",
    "\n",
    "plt.subplot(313)\n",
    "decomposed.resid.plot(ax=plt.gca())\n",
    "plt.title('Residuals')\n",
    "\n",
    "plt.tight_layout()"
   ]
  },
  {
   "cell_type": "markdown",
   "metadata": {},
   "source": [
    "Трендовая компонента ведет себя как среднее - постепенно увеличивается, возможно, это связано с тем, что сервис стал более популярный или, например, из-за того, что в августе-сентябре многие люди любят летать на отдых, а в это время наибольшее количество отпусков и каникул.\n",
    "\n",
    "Сезонная компонента - не понтяна, надо рассмотреть её в меньшем диапозоне времени.\n",
    "\n",
    "Остатки необъяснимы."
   ]
  },
  {
   "cell_type": "code",
   "execution_count": 11,
   "metadata": {},
   "outputs": [
    {
     "data": {
      "text/plain": [
       "Text(0.5, 1.0, 'Seasonality')"
      ]
     },
     "execution_count": 11,
     "metadata": {},
     "output_type": "execute_result"
    },
    {
     "data": {
      "image/png": "[encoded data removed]",
      "text/plain": [
       "<Figure size 432x288 with 1 Axes>"
      ]
     },
     "metadata": {
      "needs_background": "light"
     },
     "output_type": "display_data"
    }
   ],
   "source": [
    "plt.subplot(311)\n",
    "decomposed.seasonal['2018-03-01':'2018-03-02'].plot(ax=plt.gca())\n",
    "plt.title('Seasonality')"
   ]
  },
  {
   "cell_type": "markdown",
   "metadata": {},
   "source": [
    "Из графиков видно, что пик загруженности примерно в начале суток, а минимум в 7 часов утра"
   ]
  },
  {
   "cell_type": "markdown",
   "metadata": {},
   "source": [
    "## Оценка модели"
   ]
  },
  {
   "cell_type": "markdown",
   "metadata": {},
   "source": [
    "Разобьем данные на обучающую и тестовую выборки:"
   ]
  },
  {
   "cell_type": "code",
   "execution_count": 12,
   "metadata": {},
   "outputs": [],
   "source": [
    "train, test = train_test_split(data, shuffle=False, test_size=0.1)"
   ]
  },
  {
   "cell_type": "markdown",
   "metadata": {},
   "source": [
    "Оценим модель средним значением:"
   ]
  },
  {
   "cell_type": "code",
   "execution_count": 13,
   "metadata": {},
   "outputs": [
    {
     "name": "stdout",
     "output_type": "stream",
     "text": [
      "RMSE: 38.66694570860161\n"
     ]
    }
   ],
   "source": [
    "pred_mean = np.ones(train.shape) * train['num_orders'].mean()\n",
    "\n",
    "print(\"RMSE:\", mean_squared_error(train, pred_mean) ** 0.5)"
   ]
  },
  {
   "cell_type": "markdown",
   "metadata": {},
   "source": [
    "Оценим модель медианой:"
   ]
  },
  {
   "cell_type": "code",
   "execution_count": 14,
   "metadata": {},
   "outputs": [
    {
     "name": "stdout",
     "output_type": "stream",
     "text": [
      "RMSE: 38.806713291350775\n"
     ]
    }
   ],
   "source": [
    "pred_median = np.ones(train.shape) * train['num_orders'].median()\n",
    "\n",
    "print(\"RMSE:\", mean_squared_error(train, pred_median) ** 0.5)"
   ]
  },
  {
   "cell_type": "markdown",
   "metadata": {},
   "source": [
    "Оценим модель предыдущим значением ряда:"
   ]
  },
  {
   "cell_type": "code",
   "execution_count": 15,
   "metadata": {},
   "outputs": [
    {
     "name": "stdout",
     "output_type": "stream",
     "text": [
      "RMSE: 36.14599513456145\n"
     ]
    }
   ],
   "source": [
    "pred_previous = train.shift()\n",
    "pred_previous.iloc[[0]] = train.iloc[[1]]\n",
    "\n",
    "print(\"RMSE:\", mean_squared_error(train, pred_previous) ** 0.5)"
   ]
  },
  {
   "cell_type": "markdown",
   "metadata": {},
   "source": [
    "Значение метрики чуть больше 36. Попробуем добиться лучшего результата."
   ]
  },
  {
   "cell_type": "markdown",
   "metadata": {},
   "source": [
    "## Обучение моделей"
   ]
  },
  {
   "cell_type": "markdown",
   "metadata": {},
   "source": [
    "Напишем функцию, которая будет создавать новые признаки:\n",
    "\n",
    "- Месяц\n",
    "- День\n",
    "- День недели\n",
    "- Предыдущие показатели целевого признака\n",
    "- Скользящее среднее (не включающие в себя значение целевого признака)"
   ]
  },
  {
   "cell_type": "code",
   "execution_count": 16,
   "metadata": {},
   "outputs": [],
   "source": [
    "def make_features(data, max_lag, rolling_mean_size):\n",
    "    new_data = data.copy()\n",
    "    new_data['month'] = new_data.index.month\n",
    "    new_data['day'] = new_data.index.day\n",
    "    new_data['dayofweek'] = new_data.index.dayofweek\n",
    "    \n",
    "    for lag in range(1, max_lag + 1):\n",
    "        new_data['lag_{}'.format(lag)] = new_data['num_orders'].shift(lag)\n",
    "\n",
    "    new_data['rolling_mean'] = new_data['lag_1'].rolling(rolling_mean_size).mean()\n",
    "    \n",
    "    return new_data"
   ]
  },
  {
   "cell_type": "code",
   "execution_count": 17,
   "metadata": {},
   "outputs": [],
   "source": [
    "data = make_features(data, 30, 20)"
   ]
  },
  {
   "cell_type": "code",
   "execution_count": 18,
   "metadata": {},
   "outputs": [
    {
     "data": {
      "text/html": [
       "<div>\n",
       "<style scoped>\n",
       "    .dataframe tbody tr th:only-of-type {\n",
       "        vertical-align: middle;\n",
       "    }\n",
       "\n",
       "    .dataframe tbody tr th {\n",
       "        vertical-align: top;\n",
       "    }\n",
       "\n",
       "    .dataframe thead th {\n",
       "        text-align: right;\n",
       "    }\n",
       "</style>\n",
       "<table border=\"1\" class=\"dataframe\">\n",
       "  <thead>\n",
       "    <tr style=\"text-align: right;\">\n",
       "      <th></th>\n",
       "      <th>num_orders</th>\n",
       "      <th>month</th>\n",
       "      <th>day</th>\n",
       "      <th>dayofweek</th>\n",
       "      <th>lag_1</th>\n",
       "      <th>lag_2</th>\n",
       "      <th>lag_3</th>\n",
       "      <th>lag_4</th>\n",
       "      <th>lag_5</th>\n",
       "      <th>lag_6</th>\n",
       "      <th>...</th>\n",
       "      <th>lag_22</th>\n",
       "      <th>lag_23</th>\n",
       "      <th>lag_24</th>\n",
       "      <th>lag_25</th>\n",
       "      <th>lag_26</th>\n",
       "      <th>lag_27</th>\n",
       "      <th>lag_28</th>\n",
       "      <th>lag_29</th>\n",
       "      <th>lag_30</th>\n",
       "      <th>rolling_mean</th>\n",
       "    </tr>\n",
       "    <tr>\n",
       "      <th>datetime</th>\n",
       "      <th></th>\n",
       "      <th></th>\n",
       "      <th></th>\n",
       "      <th></th>\n",
       "      <th></th>\n",
       "      <th></th>\n",
       "      <th></th>\n",
       "      <th></th>\n",
       "      <th></th>\n",
       "      <th></th>\n",
       "      <th></th>\n",
       "      <th></th>\n",
       "      <th></th>\n",
       "      <th></th>\n",
       "      <th></th>\n",
       "      <th></th>\n",
       "      <th></th>\n",
       "      <th></th>\n",
       "      <th></th>\n",
       "      <th></th>\n",
       "      <th></th>\n",
       "    </tr>\n",
       "  </thead>\n",
       "  <tbody>\n",
       "    <tr>\n",
       "      <th>2018-03-01 00:00:00</th>\n",
       "      <td>124</td>\n",
       "      <td>3</td>\n",
       "      <td>1</td>\n",
       "      <td>3</td>\n",
       "      <td>NaN</td>\n",
       "      <td>NaN</td>\n",
       "      <td>NaN</td>\n",
       "      <td>NaN</td>\n",
       "      <td>NaN</td>\n",
       "      <td>NaN</td>\n",
       "      <td>...</td>\n",
       "      <td>NaN</td>\n",
       "      <td>NaN</td>\n",
       "      <td>NaN</td>\n",
       "      <td>NaN</td>\n",
       "      <td>NaN</td>\n",
       "      <td>NaN</td>\n",
       "      <td>NaN</td>\n",
       "      <td>NaN</td>\n",
       "      <td>NaN</td>\n",
       "      <td>NaN</td>\n",
       "    </tr>\n",
       "    <tr>\n",
       "      <th>2018-03-01 01:00:00</th>\n",
       "      <td>85</td>\n",
       "      <td>3</td>\n",
       "      <td>1</td>\n",
       "      <td>3</td>\n",
       "      <td>124.0</td>\n",
       "      <td>NaN</td>\n",
       "      <td>NaN</td>\n",
       "      <td>NaN</td>\n",
       "      <td>NaN</td>\n",
       "      <td>NaN</td>\n",
       "      <td>...</td>\n",
       "      <td>NaN</td>\n",
       "      <td>NaN</td>\n",
       "      <td>NaN</td>\n",
       "      <td>NaN</td>\n",
       "      <td>NaN</td>\n",
       "      <td>NaN</td>\n",
       "      <td>NaN</td>\n",
       "      <td>NaN</td>\n",
       "      <td>NaN</td>\n",
       "      <td>NaN</td>\n",
       "    </tr>\n",
       "    <tr>\n",
       "      <th>2018-03-01 02:00:00</th>\n",
       "      <td>71</td>\n",
       "      <td>3</td>\n",
       "      <td>1</td>\n",
       "      <td>3</td>\n",
       "      <td>85.0</td>\n",
       "      <td>124.0</td>\n",
       "      <td>NaN</td>\n",
       "      <td>NaN</td>\n",
       "      <td>NaN</td>\n",
       "      <td>NaN</td>\n",
       "      <td>...</td>\n",
       "      <td>NaN</td>\n",
       "      <td>NaN</td>\n",
       "      <td>NaN</td>\n",
       "      <td>NaN</td>\n",
       "      <td>NaN</td>\n",
       "      <td>NaN</td>\n",
       "      <td>NaN</td>\n",
       "      <td>NaN</td>\n",
       "      <td>NaN</td>\n",
       "      <td>NaN</td>\n",
       "    </tr>\n",
       "    <tr>\n",
       "      <th>2018-03-01 03:00:00</th>\n",
       "      <td>66</td>\n",
       "      <td>3</td>\n",
       "      <td>1</td>\n",
       "      <td>3</td>\n",
       "      <td>71.0</td>\n",
       "      <td>85.0</td>\n",
       "      <td>124.0</td>\n",
       "      <td>NaN</td>\n",
       "      <td>NaN</td>\n",
       "      <td>NaN</td>\n",
       "      <td>...</td>\n",
       "      <td>NaN</td>\n",
       "      <td>NaN</td>\n",
       "      <td>NaN</td>\n",
       "      <td>NaN</td>\n",
       "      <td>NaN</td>\n",
       "      <td>NaN</td>\n",
       "      <td>NaN</td>\n",
       "      <td>NaN</td>\n",
       "      <td>NaN</td>\n",
       "      <td>NaN</td>\n",
       "    </tr>\n",
       "    <tr>\n",
       "      <th>2018-03-01 04:00:00</th>\n",
       "      <td>43</td>\n",
       "      <td>3</td>\n",
       "      <td>1</td>\n",
       "      <td>3</td>\n",
       "      <td>66.0</td>\n",
       "      <td>71.0</td>\n",
       "      <td>85.0</td>\n",
       "      <td>124.0</td>\n",
       "      <td>NaN</td>\n",
       "      <td>NaN</td>\n",
       "      <td>...</td>\n",
       "      <td>NaN</td>\n",
       "      <td>NaN</td>\n",
       "      <td>NaN</td>\n",
       "      <td>NaN</td>\n",
       "      <td>NaN</td>\n",
       "      <td>NaN</td>\n",
       "      <td>NaN</td>\n",
       "      <td>NaN</td>\n",
       "      <td>NaN</td>\n",
       "      <td>NaN</td>\n",
       "    </tr>\n",
       "  </tbody>\n",
       "</table>\n",
       "<p>5 rows × 35 columns</p>\n",
       "</div>"
      ],
      "text/plain": [
       "                     num_orders  month  day  dayofweek  lag_1  lag_2  lag_3  \\\n",
       "datetime                                                                      \n",
       "2018-03-01 00:00:00         124      3    1          3    NaN    NaN    NaN   \n",
       "2018-03-01 01:00:00          85      3    1          3  124.0    NaN    NaN   \n",
       "2018-03-01 02:00:00          71      3    1          3   85.0  124.0    NaN   \n",
       "2018-03-01 03:00:00          66      3    1          3   71.0   85.0  124.0   \n",
       "2018-03-01 04:00:00          43      3    1          3   66.0   71.0   85.0   \n",
       "\n",
       "                     lag_4  lag_5  lag_6  ...  lag_22  lag_23  lag_24  lag_25  \\\n",
       "datetime                                  ...                                   \n",
       "2018-03-01 00:00:00    NaN    NaN    NaN  ...     NaN     NaN     NaN     NaN   \n",
       "2018-03-01 01:00:00    NaN    NaN    NaN  ...     NaN     NaN     NaN     NaN   \n",
       "2018-03-01 02:00:00    NaN    NaN    NaN  ...     NaN     NaN     NaN     NaN   \n",
       "2018-03-01 03:00:00    NaN    NaN    NaN  ...     NaN     NaN     NaN     NaN   \n",
       "2018-03-01 04:00:00  124.0    NaN    NaN  ...     NaN     NaN     NaN     NaN   \n",
       "\n",
       "                     lag_26  lag_27  lag_28  lag_29  lag_30  rolling_mean  \n",
       "datetime                                                                   \n",
       "2018-03-01 00:00:00     NaN     NaN     NaN     NaN     NaN           NaN  \n",
       "2018-03-01 01:00:00     NaN     NaN     NaN     NaN     NaN           NaN  \n",
       "2018-03-01 02:00:00     NaN     NaN     NaN     NaN     NaN           NaN  \n",
       "2018-03-01 03:00:00     NaN     NaN     NaN     NaN     NaN           NaN  \n",
       "2018-03-01 04:00:00     NaN     NaN     NaN     NaN     NaN           NaN  \n",
       "\n",
       "[5 rows x 35 columns]"
      ]
     },
     "execution_count": 18,
     "metadata": {},
     "output_type": "execute_result"
    }
   ],
   "source": [
    "data.head()"
   ]
  },
  {
   "cell_type": "markdown",
   "metadata": {},
   "source": [
    "Удалим пропуски"
   ]
  },
  {
   "cell_type": "code",
   "execution_count": 19,
   "metadata": {},
   "outputs": [],
   "source": [
    "data = data.dropna()"
   ]
  },
  {
   "cell_type": "markdown",
   "metadata": {},
   "source": [
    "Измененный датасет разделим на выборки:"
   ]
  },
  {
   "cell_type": "code",
   "execution_count": 20,
   "metadata": {},
   "outputs": [],
   "source": [
    "train, test = train_test_split(data, shuffle=False, test_size=0.1)"
   ]
  },
  {
   "cell_type": "markdown",
   "metadata": {},
   "source": [
    "Выделим целевой признак:"
   ]
  },
  {
   "cell_type": "code",
   "execution_count": 21,
   "metadata": {},
   "outputs": [],
   "source": [
    "train_target = train['num_orders']\n",
    "train_features = train.drop(['num_orders'], axis=1)\n",
    "\n",
    "test_target = test['num_orders']\n",
    "test_features = test.drop(['num_orders'], axis=1)"
   ]
  },
  {
   "cell_type": "markdown",
   "metadata": {},
   "source": [
    "**Линейная регрессия**"
   ]
  },
  {
   "cell_type": "code",
   "execution_count": 22,
   "metadata": {
    "scrolled": true
   },
   "outputs": [
    {
     "name": "stdout",
     "output_type": "stream",
     "text": [
      "25.92006124419961\n"
     ]
    }
   ],
   "source": [
    "model = LinearRegression()\n",
    "\n",
    "scores = cross_val_score (\n",
    "    model, \n",
    "    train_features, \n",
    "    train_target, \n",
    "    cv=TimeSeriesSplit(n_splits=10).split(train_features),\n",
    "    scoring='neg_root_mean_squared_error'\n",
    ")\n",
    "\n",
    "final_score = - sum(scores) / len(scores)\n",
    "print(final_score)"
   ]
  },
  {
   "cell_type": "markdown",
   "metadata": {},
   "source": [
    "**Случайный лес**"
   ]
  },
  {
   "cell_type": "code",
   "execution_count": 23,
   "metadata": {},
   "outputs": [
    {
     "data": {
      "text/plain": [
       "GridSearchCV(cv=<generator object TimeSeriesSplit.split at 0x7fb454b82900>,\n",
       "             estimator=RandomForestRegressor(),\n",
       "             param_grid={'max_depth': range(1, 15, 2),\n",
       "                         'n_estimators': range(20, 150, 20)},\n",
       "             scoring='neg_root_mean_squared_error')"
      ]
     },
     "execution_count": 23,
     "metadata": {},
     "output_type": "execute_result"
    }
   ],
   "source": [
    "clf = RandomForestRegressor()\n",
    "\n",
    "parametrs = { 'n_estimators': range (20, 150, 20),\n",
    "              'max_depth': range (1,15, 2)\n",
    "            }\n",
    "\n",
    "grid = GridSearchCV(clf, parametrs, cv=TimeSeriesSplit(n_splits=2).split(train_features), scoring='neg_root_mean_squared_error')\n",
    "grid.fit(train_features, train_target)\n",
    "\n"
   ]
  },
  {
   "cell_type": "code",
   "execution_count": 24,
   "metadata": {},
   "outputs": [
    {
     "data": {
      "text/plain": [
       "{'max_depth': 13, 'n_estimators': 120}"
      ]
     },
     "execution_count": 24,
     "metadata": {},
     "output_type": "execute_result"
    }
   ],
   "source": [
    "grid.best_params_"
   ]
  },
  {
   "cell_type": "code",
   "execution_count": 25,
   "metadata": {},
   "outputs": [
    {
     "name": "stdout",
     "output_type": "stream",
     "text": [
      "24.7181470875098\n"
     ]
    }
   ],
   "source": [
    "model = RandomForestRegressor (\n",
    "    n_estimators = 120,\n",
    "    max_depth = 13,\n",
    "    random_state = 12345\n",
    ")\n",
    "\n",
    "scores = cross_val_score (\n",
    "    model, \n",
    "    train_features, \n",
    "    train_target, \n",
    "    cv=TimeSeriesSplit(n_splits=10),\n",
    "    scoring='neg_root_mean_squared_error'\n",
    ")\n",
    "\n",
    "final_score = - sum(scores) / len(scores)\n",
    "print(final_score)"
   ]
  },
  {
   "cell_type": "markdown",
   "metadata": {},
   "source": [
    "**CatBoost**"
   ]
  },
  {
   "cell_type": "code",
   "execution_count": 26,
   "metadata": {
    "scrolled": true
   },
   "outputs": [
    {
     "data": {
      "text/plain": [
       "GridSearchCV(cv=TimeSeriesSplit(gap=0, max_train_size=None, n_splits=2, test_size=None),\n",
       "             estimator=<catboost.core.CatBoostRegressor object at 0x7fb453a0c7f0>,\n",
       "             param_grid={'iterations': range(140, 151, 10),\n",
       "                         'learning_rate': array([0.5, 0.7, 0.9])},\n",
       "             scoring='neg_root_mean_squared_error')"
      ]
     },
     "execution_count": 26,
     "metadata": {},
     "output_type": "execute_result"
    }
   ],
   "source": [
    "clf = CatBoostRegressor(verbose=0)\n",
    "\n",
    "parametrs = { \n",
    "    'iterations' : range(140, 151, 10),\n",
    "    'learning_rate': np.arange (0.5,1, 0.2)\n",
    "}\n",
    "\n",
    "grid = GridSearchCV(clf, parametrs, cv=TimeSeriesSplit(n_splits=2), scoring='neg_root_mean_squared_error')\n",
    "grid.fit(train_features, train_target)"
   ]
  },
  {
   "cell_type": "code",
   "execution_count": 27,
   "metadata": {
    "scrolled": false
   },
   "outputs": [
    {
     "data": {
      "text/plain": [
       "{'iterations': 140, 'learning_rate': 0.5}"
      ]
     },
     "execution_count": 27,
     "metadata": {},
     "output_type": "execute_result"
    }
   ],
   "source": [
    "grid.best_params_"
   ]
  },
  {
   "cell_type": "code",
   "execution_count": 28,
   "metadata": {
    "scrolled": true
   },
   "outputs": [],
   "source": [
    "model = CatBoostRegressor (\n",
    "    iterations = 140,\n",
    "    learning_rate = 0.5,\n",
    "    verbose = 0,\n",
    "    random_seed = 12345,\n",
    ")\n",
    "\n",
    "scores = cross_val_score (\n",
    "    model, \n",
    "    train_features, \n",
    "    train_target, \n",
    "    cv=TimeSeriesSplit(n_splits=10),\n",
    "    scoring='neg_root_mean_squared_error'\n",
    ")"
   ]
  },
  {
   "cell_type": "code",
   "execution_count": 29,
   "metadata": {},
   "outputs": [
    {
     "name": "stdout",
     "output_type": "stream",
     "text": [
      "26.248167031186163\n"
     ]
    }
   ],
   "source": [
    "final_score = - sum(scores) / len(scores)\n",
    "print(final_score)"
   ]
  },
  {
   "cell_type": "markdown",
   "metadata": {},
   "source": [
    "**Вывод:** лучшая модель - RandomForestRegressor"
   ]
  },
  {
   "cell_type": "markdown",
   "metadata": {},
   "source": [
    "## Проверка модели"
   ]
  },
  {
   "cell_type": "markdown",
   "metadata": {},
   "source": [
    "Проверим лучшую модель на тестовой выборке"
   ]
  },
  {
   "cell_type": "code",
   "execution_count": 30,
   "metadata": {
    "scrolled": true
   },
   "outputs": [
    {
     "name": "stdout",
     "output_type": "stream",
     "text": [
      "43.56634265490669\n"
     ]
    }
   ],
   "source": [
    "model = RandomForestRegressor (\n",
    "    n_estimators = 140,\n",
    "    max_depth = 13,\n",
    "    random_state = 12345\n",
    ")\n",
    "\n",
    "model.fit(train_features, train_target)\n",
    "predictions = model.predict(test_features)\n",
    "\n",
    "rmse = mean_squared_error(predictions, test_target) ** 0.5\n",
    "print(rmse)"
   ]
  },
  {
   "cell_type": "markdown",
   "metadata": {},
   "source": [
    "Посмотрим на графики исходного и предсказанных рядов."
   ]
  },
  {
   "cell_type": "code",
   "execution_count": 31,
   "metadata": {
    "scrolled": true
   },
   "outputs": [
    {
     "data": {
      "image/png": "[encoded data removed]",
      "text/plain": [
       "<Figure size 1440x720 with 1 Axes>"
      ]
     },
     "metadata": {
      "needs_background": "light"
     },
     "output_type": "display_data"
    }
   ],
   "source": [
    "pred = pd.Series(predictions, index=test_target.index)\n",
    "\n",
    "plt.figure(figsize=(20,10))\n",
    "plt.plot(test_target, alpha=0.7)\n",
    "plt.plot(pred)\n",
    "plt.show()"
   ]
  },
  {
   "cell_type": "markdown",
   "metadata": {},
   "source": [
    "## Вывод"
   ]
  },
  {
   "cell_type": "markdown",
   "metadata": {},
   "source": [
    "В данном проекте было необходимо научиться прогнозировать количество заказов такси на следующий час. И построить модель для такого предсказания со значением метрики RMSE не больше 48.\n",
    "\n",
    "В первую очередь были проанализированы данные. Далее была оценена модель предсказания по нашей метрике, мы получили значение - 36 при прогнозировании предыдущим значением.\n",
    "\n",
    "Далее рассмтривались три модели: **LinearRegression, RandomForestRegressor, CatBoost.** <br>\n",
    "\n",
    "Лучшая модель по метрике **RMSE** оказалась: **RandomForestRegressor**. (rmse = 23.452797840380203) <br>\n",
    "Значение метрки на тестовой выборке: 43.56634265490669   <br> \n",
    "\n",
    "Итоговое значение метрики не больше 48."
   ]
  }
 ],
 "metadata": {
  "ExecuteTimeLog": [
   {
    "duration": 4,
    "start_time": "2022-09-05T17:55:12.393Z"
   },
   {
    "duration": 1608,
    "start_time": "2022-09-05T17:56:31.452Z"
   },
   {
    "duration": 116,
    "start_time": "2022-09-05T17:56:41.409Z"
   },
   {
    "duration": 155,
    "start_time": "2022-09-05T17:56:52.203Z"
   },
   {
    "duration": 186,
    "start_time": "2022-09-05T17:57:20.501Z"
   },
   {
    "duration": 12,
    "start_time": "2022-09-05T17:57:33.179Z"
   },
   {
    "duration": 11,
    "start_time": "2022-09-05T17:57:55.475Z"
   },
   {
    "duration": 5,
    "start_time": "2022-09-05T17:58:06.762Z"
   },
   {
    "duration": 14,
    "start_time": "2022-09-05T17:58:21.547Z"
   },
   {
    "duration": 72,
    "start_time": "2022-09-05T17:58:27.777Z"
   },
   {
    "duration": 260,
    "start_time": "2022-09-05T17:58:39.879Z"
   },
   {
    "duration": 314,
    "start_time": "2022-09-05T17:58:58.981Z"
   },
   {
    "duration": 8,
    "start_time": "2022-09-05T17:59:03.641Z"
   },
   {
    "duration": 310,
    "start_time": "2022-09-05T17:59:57.784Z"
   },
   {
    "duration": 54,
    "start_time": "2022-09-05T18:01:01.352Z"
   },
   {
    "duration": 797,
    "start_time": "2022-09-05T18:01:07.210Z"
   },
   {
    "duration": 5,
    "start_time": "2022-09-05T18:01:30.086Z"
   },
   {
    "duration": 122,
    "start_time": "2022-09-05T18:01:45.282Z"
   },
   {
    "duration": 74,
    "start_time": "2022-09-05T18:01:59.582Z"
   },
   {
    "duration": 4,
    "start_time": "2022-09-05T18:02:40.041Z"
   },
   {
    "duration": 9,
    "start_time": "2022-09-05T18:03:12.084Z"
   },
   {
    "duration": 10,
    "start_time": "2022-09-05T18:03:17.574Z"
   },
   {
    "duration": 10,
    "start_time": "2022-09-05T18:03:23.375Z"
   },
   {
    "duration": 15,
    "start_time": "2022-09-05T18:03:58.555Z"
   },
   {
    "duration": 6,
    "start_time": "2022-09-05T18:04:06.821Z"
   },
   {
    "duration": 9,
    "start_time": "2022-09-05T18:04:31.609Z"
   },
   {
    "duration": 7,
    "start_time": "2022-09-05T18:04:39.889Z"
   },
   {
    "duration": 17,
    "start_time": "2022-09-05T18:04:50.537Z"
   },
   {
    "duration": 6,
    "start_time": "2022-09-05T18:05:07.941Z"
   },
   {
    "duration": 3,
    "start_time": "2022-09-05T18:08:20.286Z"
   },
   {
    "duration": 24,
    "start_time": "2022-09-05T18:08:27.673Z"
   },
   {
    "duration": 116,
    "start_time": "2022-09-05T18:08:40.066Z"
   },
   {
    "duration": 9,
    "start_time": "2022-09-05T18:09:05.684Z"
   },
   {
    "duration": 5,
    "start_time": "2022-09-05T18:09:26.718Z"
   },
   {
    "duration": 5,
    "start_time": "2022-09-05T18:09:55.689Z"
   },
   {
    "duration": 215,
    "start_time": "2022-09-05T18:10:19.462Z"
   },
   {
    "duration": 4,
    "start_time": "2022-09-05T18:16:17.409Z"
   },
   {
    "duration": 4,
    "start_time": "2022-09-05T18:18:52.229Z"
   },
   {
    "duration": 1263,
    "start_time": "2022-09-05T18:19:02.801Z"
   },
   {
    "duration": 10,
    "start_time": "2022-09-05T18:19:13.800Z"
   },
   {
    "duration": 15,
    "start_time": "2022-09-05T18:19:33.935Z"
   },
   {
    "duration": 22,
    "start_time": "2022-09-05T18:20:47.947Z"
   },
   {
    "duration": 2151,
    "start_time": "2022-09-05T18:20:54.103Z"
   },
   {
    "duration": 13,
    "start_time": "2022-09-05T18:21:02.470Z"
   },
   {
    "duration": 13,
    "start_time": "2022-09-05T18:21:19.053Z"
   },
   {
    "duration": 9,
    "start_time": "2022-09-05T18:21:41.362Z"
   },
   {
    "duration": 2,
    "start_time": "2022-09-05T18:21:43.805Z"
   },
   {
    "duration": 4,
    "start_time": "2022-09-05T18:21:44.993Z"
   },
   {
    "duration": 2208,
    "start_time": "2022-09-05T18:22:30.051Z"
   },
   {
    "duration": 2188,
    "start_time": "2022-09-05T18:22:41.285Z"
   },
   {
    "duration": 1602,
    "start_time": "2022-09-05T18:22:52.876Z"
   },
   {
    "duration": 14,
    "start_time": "2022-09-05T18:27:24.131Z"
   },
   {
    "duration": 15,
    "start_time": "2022-09-05T18:27:28.478Z"
   },
   {
    "duration": 2423,
    "start_time": "2022-09-05T18:28:45.847Z"
   },
   {
    "duration": 2105,
    "start_time": "2022-09-05T18:28:54.662Z"
   },
   {
    "duration": 887,
    "start_time": "2022-09-05T18:29:03.984Z"
   },
   {
    "duration": 1979,
    "start_time": "2022-09-05T18:29:08.976Z"
   },
   {
    "duration": 823984,
    "start_time": "2022-09-05T18:34:15.205Z"
   },
   {
    "duration": 0,
    "start_time": "2022-09-05T18:47:59.191Z"
   },
   {
    "duration": 1366,
    "start_time": "2022-09-05T18:50:36.504Z"
   },
   {
    "duration": 48,
    "start_time": "2022-09-05T18:50:37.875Z"
   },
   {
    "duration": 13,
    "start_time": "2022-09-05T18:50:37.924Z"
   },
   {
    "duration": 10,
    "start_time": "2022-09-05T18:50:37.938Z"
   },
   {
    "duration": 18,
    "start_time": "2022-09-05T18:50:37.950Z"
   },
   {
    "duration": 12,
    "start_time": "2022-09-05T18:50:37.973Z"
   },
   {
    "duration": 246,
    "start_time": "2022-09-05T18:50:37.986Z"
   },
   {
    "duration": 341,
    "start_time": "2022-09-05T18:50:38.233Z"
   },
   {
    "duration": 6,
    "start_time": "2022-09-05T18:50:38.576Z"
   },
   {
    "duration": 639,
    "start_time": "2022-09-05T18:50:38.584Z"
   },
   {
    "duration": 5,
    "start_time": "2022-09-05T18:50:39.225Z"
   },
   {
    "duration": 131,
    "start_time": "2022-09-05T18:50:39.231Z"
   },
   {
    "duration": 5,
    "start_time": "2022-09-05T18:50:39.371Z"
   },
   {
    "duration": 8,
    "start_time": "2022-09-05T18:50:39.377Z"
   },
   {
    "duration": 8,
    "start_time": "2022-09-05T18:50:39.387Z"
   },
   {
    "duration": 7,
    "start_time": "2022-09-05T18:50:39.397Z"
   },
   {
    "duration": 5,
    "start_time": "2022-09-05T18:50:39.405Z"
   },
   {
    "duration": 24,
    "start_time": "2022-09-05T18:50:39.411Z"
   },
   {
    "duration": 35,
    "start_time": "2022-09-05T18:50:39.437Z"
   },
   {
    "duration": 10,
    "start_time": "2022-09-05T18:50:39.473Z"
   },
   {
    "duration": 4,
    "start_time": "2022-09-05T18:50:39.484Z"
   },
   {
    "duration": 9,
    "start_time": "2022-09-05T18:50:39.489Z"
   },
   {
    "duration": 1776,
    "start_time": "2022-09-05T18:50:39.499Z"
   },
   {
    "duration": 179,
    "start_time": "2022-09-05T18:50:41.277Z"
   },
   {
    "duration": 0,
    "start_time": "2022-09-05T18:50:41.459Z"
   },
   {
    "duration": 129,
    "start_time": "2022-09-05T18:51:02.575Z"
   },
   {
    "duration": 89345,
    "start_time": "2022-09-05T18:51:37.448Z"
   },
   {
    "duration": 4,
    "start_time": "2022-09-05T18:53:06.795Z"
   },
   {
    "duration": 439233,
    "start_time": "2022-09-05T18:54:49.249Z"
   },
   {
    "duration": 3,
    "start_time": "2022-09-05T19:02:08.484Z"
   },
   {
    "duration": 60071,
    "start_time": "2022-09-05T19:03:46.566Z"
   },
   {
    "duration": 49,
    "start_time": "2022-09-06T07:33:06.059Z"
   },
   {
    "duration": 1740,
    "start_time": "2022-09-06T07:33:17.320Z"
   },
   {
    "duration": 152,
    "start_time": "2022-09-06T07:33:19.062Z"
   },
   {
    "duration": 13,
    "start_time": "2022-09-06T07:33:19.216Z"
   },
   {
    "duration": 10,
    "start_time": "2022-09-06T07:33:19.347Z"
   },
   {
    "duration": 5,
    "start_time": "2022-09-06T07:33:19.863Z"
   },
   {
    "duration": 10,
    "start_time": "2022-09-06T07:33:20.287Z"
   },
   {
    "duration": 310,
    "start_time": "2022-09-06T07:33:20.637Z"
   },
   {
    "duration": 385,
    "start_time": "2022-09-06T07:33:20.998Z"
   },
   {
    "duration": 12,
    "start_time": "2022-09-06T07:33:21.385Z"
   },
   {
    "duration": 723,
    "start_time": "2022-09-06T07:33:21.525Z"
   },
   {
    "duration": 6,
    "start_time": "2022-09-06T07:33:22.249Z"
   },
   {
    "duration": 137,
    "start_time": "2022-09-06T07:33:22.256Z"
   },
   {
    "duration": 4,
    "start_time": "2022-09-06T07:33:23.325Z"
   },
   {
    "duration": 6,
    "start_time": "2022-09-06T07:33:24.783Z"
   },
   {
    "duration": 7,
    "start_time": "2022-09-06T07:33:25.407Z"
   },
   {
    "duration": 8,
    "start_time": "2022-09-06T07:33:26.152Z"
   },
   {
    "duration": 4,
    "start_time": "2022-09-06T07:33:28.405Z"
   },
   {
    "duration": 25,
    "start_time": "2022-09-06T07:33:28.792Z"
   },
   {
    "duration": 25,
    "start_time": "2022-09-06T07:33:29.224Z"
   },
   {
    "duration": 12,
    "start_time": "2022-09-06T07:33:30.922Z"
   },
   {
    "duration": 6,
    "start_time": "2022-09-06T07:33:31.703Z"
   },
   {
    "duration": 7,
    "start_time": "2022-09-06T07:33:33.187Z"
   },
   {
    "duration": 85,
    "start_time": "2022-09-06T07:33:37.807Z"
   },
   {
    "duration": 4,
    "start_time": "2022-09-06T07:33:51.583Z"
   },
   {
    "duration": 142686,
    "start_time": "2022-09-06T07:33:57.400Z"
   },
   {
    "duration": 0,
    "start_time": "2022-09-06T07:36:20.088Z"
   },
   {
    "duration": 13,
    "start_time": "2022-09-06T07:36:28.675Z"
   },
   {
    "duration": 40989,
    "start_time": "2022-09-06T07:36:47.572Z"
   },
   {
    "duration": 114,
    "start_time": "2022-09-06T07:37:53.676Z"
   },
   {
    "duration": 0,
    "start_time": "2022-09-06T07:38:34.535Z"
   },
   {
    "duration": 4035,
    "start_time": "2022-09-06T07:38:35.850Z"
   },
   {
    "duration": 0,
    "start_time": "2022-09-06T07:38:57.299Z"
   },
   {
    "duration": 377989,
    "start_time": "2022-09-06T07:38:58.661Z"
   },
   {
    "duration": 0,
    "start_time": "2022-09-06T07:45:16.652Z"
   },
   {
    "duration": 5,
    "start_time": "2022-09-06T07:46:00.648Z"
   },
   {
    "duration": 4,
    "start_time": "2022-09-06T07:46:04.748Z"
   },
   {
    "duration": 4,
    "start_time": "2022-09-06T07:46:20.480Z"
   },
   {
    "duration": 4,
    "start_time": "2022-09-06T07:46:28.245Z"
   },
   {
    "duration": 3,
    "start_time": "2022-09-06T07:46:41.269Z"
   },
   {
    "duration": 163770,
    "start_time": "2022-09-06T07:46:48.857Z"
   },
   {
    "duration": 4,
    "start_time": "2022-09-06T07:49:32.629Z"
   },
   {
    "duration": 12,
    "start_time": "2022-09-06T07:50:45.051Z"
   },
   {
    "duration": 4,
    "start_time": "2022-09-06T07:51:44.830Z"
   },
   {
    "duration": 18343,
    "start_time": "2022-09-06T07:51:48.480Z"
   },
   {
    "duration": 7907,
    "start_time": "2022-09-06T07:56:30.886Z"
   },
   {
    "duration": 46,
    "start_time": "2022-09-07T13:42:28.093Z"
   },
   {
    "duration": 6,
    "start_time": "2022-09-07T13:42:32.417Z"
   },
   {
    "duration": 6,
    "start_time": "2022-09-07T13:42:32.617Z"
   },
   {
    "duration": 6,
    "start_time": "2022-09-07T13:42:32.960Z"
   },
   {
    "duration": 1623,
    "start_time": "2022-09-07T13:42:35.546Z"
   },
   {
    "duration": 129,
    "start_time": "2022-09-07T13:42:37.878Z"
   },
   {
    "duration": 12,
    "start_time": "2022-09-07T13:42:38.053Z"
   },
   {
    "duration": 10,
    "start_time": "2022-09-07T13:42:38.740Z"
   },
   {
    "duration": 4,
    "start_time": "2022-09-07T13:42:39.387Z"
   },
   {
    "duration": 9,
    "start_time": "2022-09-07T13:42:39.978Z"
   },
   {
    "duration": 277,
    "start_time": "2022-09-07T13:42:40.580Z"
   },
   {
    "duration": 353,
    "start_time": "2022-09-07T13:42:41.918Z"
   },
   {
    "duration": 6,
    "start_time": "2022-09-07T13:42:43.687Z"
   },
   {
    "duration": 763,
    "start_time": "2022-09-07T13:42:44.988Z"
   },
   {
    "duration": 7,
    "start_time": "2022-09-07T13:42:46.174Z"
   },
   {
    "duration": 118,
    "start_time": "2022-09-07T13:42:47.781Z"
   },
   {
    "duration": 4,
    "start_time": "2022-09-07T13:42:48.574Z"
   },
   {
    "duration": 6,
    "start_time": "2022-09-07T13:43:11.737Z"
   },
   {
    "duration": 10,
    "start_time": "2022-09-07T13:43:16.988Z"
   },
   {
    "duration": 89,
    "start_time": "2022-09-07T13:44:16.579Z"
   },
   {
    "duration": 13,
    "start_time": "2022-09-07T13:44:18.554Z"
   },
   {
    "duration": 9,
    "start_time": "2022-09-07T13:44:19.513Z"
   },
   {
    "duration": 4,
    "start_time": "2022-09-07T13:44:20.283Z"
   },
   {
    "duration": 9,
    "start_time": "2022-09-07T13:44:21.133Z"
   },
   {
    "duration": 264,
    "start_time": "2022-09-07T13:44:22.042Z"
   },
   {
    "duration": 353,
    "start_time": "2022-09-07T13:44:24.577Z"
   },
   {
    "duration": 7,
    "start_time": "2022-09-07T13:44:27.117Z"
   },
   {
    "duration": 629,
    "start_time": "2022-09-07T13:44:31.210Z"
   },
   {
    "duration": 3,
    "start_time": "2022-09-07T13:44:34.584Z"
   },
   {
    "duration": 128,
    "start_time": "2022-09-07T13:44:35.464Z"
   },
   {
    "duration": 114,
    "start_time": "2022-09-07T13:45:31.328Z"
   },
   {
    "duration": 5,
    "start_time": "2022-09-07T13:46:35.263Z"
   },
   {
    "duration": 7,
    "start_time": "2022-09-07T13:46:36.413Z"
   },
   {
    "duration": 7,
    "start_time": "2022-09-07T13:46:38.095Z"
   },
   {
    "duration": 9,
    "start_time": "2022-09-07T13:46:40.044Z"
   },
   {
    "duration": 3,
    "start_time": "2022-09-07T13:46:42.585Z"
   },
   {
    "duration": 23,
    "start_time": "2022-09-07T13:46:43.949Z"
   },
   {
    "duration": 23,
    "start_time": "2022-09-07T13:46:45.019Z"
   },
   {
    "duration": 13,
    "start_time": "2022-09-07T13:46:47.532Z"
   },
   {
    "duration": 5,
    "start_time": "2022-09-07T13:47:24.505Z"
   },
   {
    "duration": 7,
    "start_time": "2022-09-07T13:47:25.960Z"
   },
   {
    "duration": 4,
    "start_time": "2022-09-07T13:53:43.476Z"
   },
   {
    "duration": 407,
    "start_time": "2022-09-07T13:55:27.774Z"
   },
   {
    "duration": 2150,
    "start_time": "2022-09-07T13:55:33.234Z"
   },
   {
    "duration": 516,
    "start_time": "2022-09-07T13:55:51.742Z"
   },
   {
    "duration": 2128,
    "start_time": "2022-09-07T13:56:57.631Z"
   },
   {
    "duration": 1138,
    "start_time": "2022-09-07T13:57:02.924Z"
   },
   {
    "duration": 125690,
    "start_time": "2022-09-07T13:57:08.666Z"
   },
   {
    "duration": 4,
    "start_time": "2022-09-07T13:59:14.358Z"
   },
   {
    "duration": 64181,
    "start_time": "2022-09-07T13:59:14.364Z"
   },
   {
    "duration": 55650,
    "start_time": "2022-09-07T14:00:27.530Z"
   },
   {
    "duration": 31060,
    "start_time": "2022-09-07T14:01:40.077Z"
   },
   {
    "duration": 21060,
    "start_time": "2022-09-07T14:04:33.861Z"
   },
   {
    "duration": 4,
    "start_time": "2022-09-07T14:04:57.830Z"
   },
   {
    "duration": 19768,
    "start_time": "2022-09-07T14:05:11.492Z"
   },
   {
    "duration": 17310,
    "start_time": "2022-09-07T14:05:44.537Z"
   },
   {
    "duration": 65,
    "start_time": "2022-09-07T14:09:25.746Z"
   },
   {
    "duration": 14746,
    "start_time": "2022-09-07T14:09:28.701Z"
   },
   {
    "duration": 3,
    "start_time": "2022-09-07T14:09:56.534Z"
   },
   {
    "duration": 191,
    "start_time": "2022-09-07T14:10:59.871Z"
   },
   {
    "duration": 73,
    "start_time": "2022-09-07T14:11:11.838Z"
   },
   {
    "duration": 7003,
    "start_time": "2022-09-07T14:11:15.839Z"
   },
   {
    "duration": 165,
    "start_time": "2022-09-07T14:11:24.968Z"
   },
   {
    "duration": 8,
    "start_time": "2022-09-07T14:11:25.917Z"
   },
   {
    "duration": 9,
    "start_time": "2022-09-07T14:12:15.852Z"
   },
   {
    "duration": 109,
    "start_time": "2022-09-07T14:12:20.194Z"
   },
   {
    "duration": 169,
    "start_time": "2022-09-07T14:12:59.575Z"
   },
   {
    "duration": 21,
    "start_time": "2022-09-07T14:15:54.463Z"
   },
   {
    "duration": 13,
    "start_time": "2022-09-07T14:16:09.666Z"
   },
   {
    "duration": 10,
    "start_time": "2022-09-07T14:16:18.999Z"
   },
   {
    "duration": 14,
    "start_time": "2022-09-07T14:16:20.506Z"
   },
   {
    "duration": 10,
    "start_time": "2022-09-07T14:16:46.689Z"
   },
   {
    "duration": 215,
    "start_time": "2022-09-07T14:17:16.831Z"
   },
   {
    "duration": 156,
    "start_time": "2022-09-07T14:19:08.250Z"
   },
   {
    "duration": 152,
    "start_time": "2022-09-07T14:19:18.692Z"
   },
   {
    "duration": 9,
    "start_time": "2022-09-07T14:21:21.410Z"
   },
   {
    "duration": 91,
    "start_time": "2022-09-07T14:21:23.697Z"
   },
   {
    "duration": 9,
    "start_time": "2022-09-07T14:21:27.859Z"
   },
   {
    "duration": 50,
    "start_time": "2022-09-07T14:21:35.888Z"
   },
   {
    "duration": 3,
    "start_time": "2022-09-07T14:21:37.753Z"
   },
   {
    "duration": 156,
    "start_time": "2022-09-07T14:21:40.056Z"
   },
   {
    "duration": 166,
    "start_time": "2022-09-07T14:21:44.206Z"
   },
   {
    "duration": 162,
    "start_time": "2022-09-07T14:21:56.120Z"
   }
  ],
  "kernelspec": {
   "display_name": "Python 3 (ipykernel)",
   "language": "python",
   "name": "python3"
  },
  "language_info": {
   "codemirror_mode": {
    "name": "ipython",
    "version": 3
   },
   "file_extension": ".py",
   "mimetype": "text/x-python",
   "name": "python",
   "nbconvert_exporter": "python",
   "pygments_lexer": "ipython3",
   "version": "3.9.7"
  },
  "toc": {
   "base_numbering": 1,
   "nav_menu": {},
   "number_sections": true,
   "sideBar": true,
   "skip_h1_title": true,
   "title_cell": "Содержание",
   "title_sidebar": "Contents",
   "toc_cell": true,
   "toc_position": {},
   "toc_section_display": true,
   "toc_window_display": false
  }
 },
 "nbformat": 4,
 "nbformat_minor": 2
}
