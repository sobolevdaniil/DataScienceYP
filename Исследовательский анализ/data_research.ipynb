{
 "cells": [
  {
   "cell_type": "markdown",
   "metadata": {
    "toc": true
   },
   "source": [
    "<h1>Содержание<span class=\"tocSkip\"></span></h1>\n",
    "<div class=\"toc\"><ul class=\"toc-item\"><li><span><a href=\"#Изучение-данных-из-файла\" data-toc-modified-id=\"Изучение-данных-из-файла-1\"><span class=\"toc-item-num\">1&nbsp;&nbsp;</span>Изучение данных из файла</a></span><ul class=\"toc-item\"><li><span><a href=\"#Вывод\" data-toc-modified-id=\"Вывод-1.1\"><span class=\"toc-item-num\">1.1&nbsp;&nbsp;</span>Вывод</a></span></li></ul></li><li><span><a href=\"#Предобработка-данных\" data-toc-modified-id=\"Предобработка-данных-2\"><span class=\"toc-item-num\">2&nbsp;&nbsp;</span>Предобработка данных</a></span><ul class=\"toc-item\"><li><span><a href=\"#Работа-с-пропусками\" data-toc-modified-id=\"Работа-с-пропусками-2.1\"><span class=\"toc-item-num\">2.1&nbsp;&nbsp;</span>Работа с пропусками</a></span></li><li><span><a href=\"#Преобразование-из-float-в-int\" data-toc-modified-id=\"Преобразование-из-float-в-int-2.2\"><span class=\"toc-item-num\">2.2&nbsp;&nbsp;</span>Преобразование из float в int</a></span></li><li><span><a href=\"#Выводы\" data-toc-modified-id=\"Выводы-2.3\"><span class=\"toc-item-num\">2.3&nbsp;&nbsp;</span>Выводы</a></span></li></ul></li><li><span><a href=\"#Расчёты-и-добавление-результатов-в-таблицу\" data-toc-modified-id=\"Расчёты-и-добавление-результатов-в-таблицу-3\"><span class=\"toc-item-num\">3&nbsp;&nbsp;</span>Расчёты и добавление результатов в таблицу</a></span></li><li><span><a href=\"#Исследовательский-анализ-данных.-Раздел-первый\" data-toc-modified-id=\"Исследовательский-анализ-данных.-Раздел-первый-4\"><span class=\"toc-item-num\">4&nbsp;&nbsp;</span>Исследовательский анализ данных. Раздел первый</a></span><ul class=\"toc-item\"><li><span><a href=\"#Количество-комнат\" data-toc-modified-id=\"Количество-комнат-4.1\"><span class=\"toc-item-num\">4.1&nbsp;&nbsp;</span>Количество комнат</a></span></li><li><span><a href=\"#Высота-потолков\" data-toc-modified-id=\"Высота-потолков-4.2\"><span class=\"toc-item-num\">4.2&nbsp;&nbsp;</span>Высота потолков</a></span></li><li><span><a href=\"#Цена\" data-toc-modified-id=\"Цена-4.3\"><span class=\"toc-item-num\">4.3&nbsp;&nbsp;</span>Цена</a></span></li><li><span><a href=\"#Площадь\" data-toc-modified-id=\"Площадь-4.4\"><span class=\"toc-item-num\">4.4&nbsp;&nbsp;</span>Площадь</a></span></li><li><span><a href=\"#Вывод\" data-toc-modified-id=\"Вывод-4.5\"><span class=\"toc-item-num\">4.5&nbsp;&nbsp;</span>Вывод</a></span></li></ul></li><li><span><a href=\"#Исследовательский-анализ-данных.-Раздел-второй\" data-toc-modified-id=\"Исследовательский-анализ-данных.-Раздел-второй-5\"><span class=\"toc-item-num\">5&nbsp;&nbsp;</span>Исследовательский анализ данных. Раздел второй</a></span><ul class=\"toc-item\"><li><span><a href=\"#Время-продажи-квартиры\" data-toc-modified-id=\"Время-продажи-квартиры-5.1\"><span class=\"toc-item-num\">5.1&nbsp;&nbsp;</span>Время продажи квартиры</a></span></li><li><span><a href=\"#Анализ-редких-и-выбивающихся-значений\" data-toc-modified-id=\"Анализ-редких-и-выбивающихся-значений-5.2\"><span class=\"toc-item-num\">5.2&nbsp;&nbsp;</span>Анализ редких и выбивающихся значений</a></span><ul class=\"toc-item\"><li><span><a href=\"#Время-публикации\" data-toc-modified-id=\"Время-публикации-5.2.1\"><span class=\"toc-item-num\">5.2.1&nbsp;&nbsp;</span>Время публикации</a></span></li><li><span><a href=\"#Количество-комнат\" data-toc-modified-id=\"Количество-комнат-5.2.2\"><span class=\"toc-item-num\">5.2.2&nbsp;&nbsp;</span>Количество комнат</a></span></li><li><span><a href=\"#Высота-потолков\" data-toc-modified-id=\"Высота-потолков-5.2.3\"><span class=\"toc-item-num\">5.2.3&nbsp;&nbsp;</span>Высота потолков</a></span></li><li><span><a href=\"#Площадь\" data-toc-modified-id=\"Площадь-5.2.4\"><span class=\"toc-item-num\">5.2.4&nbsp;&nbsp;</span>Площадь</a></span></li><li><span><a href=\"#Цена\" data-toc-modified-id=\"Цена-5.2.5\"><span class=\"toc-item-num\">5.2.5&nbsp;&nbsp;</span>Цена</a></span></li></ul></li><li><span><a href=\"#Исследуем-стоимость-квартиры\" data-toc-modified-id=\"Исследуем-стоимость-квартиры-5.3\"><span class=\"toc-item-num\">5.3&nbsp;&nbsp;</span>Исследуем стоимость квартиры</a></span><ul class=\"toc-item\"><li><span><a href=\"#Исследуем,-зависит-ли-цена-квартиры-от-количесвта-комнат\" data-toc-modified-id=\"Исследуем,-зависит-ли-цена-квартиры-от-количесвта-комнат-5.3.1\"><span class=\"toc-item-num\">5.3.1&nbsp;&nbsp;</span>Исследуем, зависит ли цена квартиры от количесвта комнат</a></span></li><li><span><a href=\"#Исследуем,-зависит-ли-цена-квартиры-от-площади-и-удаленности-от-центра\" data-toc-modified-id=\"Исследуем,-зависит-ли-цена-квартиры-от-площади-и-удаленности-от-центра-5.3.2\"><span class=\"toc-item-num\">5.3.2&nbsp;&nbsp;</span>Исследуем, зависит ли цена квартиры от площади и удаленности от центра</a></span></li><li><span><a href=\"#Исследуем-зависимость-цены-от-того,-на-каком-этаже-квартира\" data-toc-modified-id=\"Исследуем-зависимость-цены-от-того,-на-каком-этаже-квартира-5.3.3\"><span class=\"toc-item-num\">5.3.3&nbsp;&nbsp;</span>Исследуем зависимость цены от того, на каком этаже квартира</a></span></li><li><span><a href=\"#Исследуем,-зависит-ли-цена-квартиры-от-недели,-месяца-и-года-размещения-объявления\" data-toc-modified-id=\"Исследуем,-зависит-ли-цена-квартиры-от-недели,-месяца-и-года-размещения-объявления-5.3.4\"><span class=\"toc-item-num\">5.3.4&nbsp;&nbsp;</span>Исследуем, зависит ли цена квартиры от недели, месяца и года размещения объявления</a></span></li></ul></li><li><span><a href=\"#Вывод\" data-toc-modified-id=\"Вывод-5.4\"><span class=\"toc-item-num\">5.4&nbsp;&nbsp;</span>Вывод</a></span></li></ul></li><li><span><a href=\"#Исследовательский-анализ-данных.-Раздел-третий\" data-toc-modified-id=\"Исследовательский-анализ-данных.-Раздел-третий-6\"><span class=\"toc-item-num\">6&nbsp;&nbsp;</span>Исследовательский анализ данных. Раздел третий</a></span><ul class=\"toc-item\"><li><span><a href=\"#Исследуем--цену-квадратного-метра\" data-toc-modified-id=\"Исследуем--цену-квадратного-метра-6.1\"><span class=\"toc-item-num\">6.1&nbsp;&nbsp;</span>Исследуем  цену квадратного метра</a></span></li><li><span><a href=\"#Изучим-предложения-квартир\" data-toc-modified-id=\"Изучим-предложения-квартир-6.2\"><span class=\"toc-item-num\">6.2&nbsp;&nbsp;</span>Изучим предложения квартир</a></span></li><li><span><a href=\"#Исследуем-квартиры-в-центре\" data-toc-modified-id=\"Исследуем-квартиры-в-центре-6.3\"><span class=\"toc-item-num\">6.3&nbsp;&nbsp;</span>Исследуем квартиры в центре</a></span></li></ul></li><li><span><a href=\"#Общий-вывод\" data-toc-modified-id=\"Общий-вывод-7\"><span class=\"toc-item-num\">7&nbsp;&nbsp;</span>Общий вывод</a></span></li><li><span><a href=\"#Чек-лист-готовности-проекта\" data-toc-modified-id=\"Чек-лист-готовности-проекта-8\"><span class=\"toc-item-num\">8&nbsp;&nbsp;</span>Чек-лист готовности проекта</a></span></li></ul></div>"
   ]
  },
  {
   "cell_type": "markdown",
   "metadata": {},
   "source": [
    "# Исследование объявлений о продаже квартир\n",
    "\n",
    "В вашем распоряжении данные сервиса Яндекс.Недвижимость — архив объявлений о продаже квартир в Санкт-Петербурге и соседних населённых пунктах за несколько лет. Нужно научиться определять рыночную стоимость объектов недвижимости. Ваша задача — установить параметры. Это позволит построить автоматизированную систему: она отследит аномалии и мошенническую деятельность. \n",
    "\n",
    "По каждой квартире на продажу доступны два вида данных. Первые вписаны пользователем, вторые получены автоматически на основе картографических данных. Например, расстояние до центра, аэропорта, ближайшего парка и водоёма. "
   ]
  },
  {
   "cell_type": "markdown",
   "metadata": {},
   "source": [
    "## Изучение данных из файла"
   ]
  },
  {
   "cell_type": "code",
   "execution_count": 1,
   "metadata": {
    "scrolled": false
   },
   "outputs": [
    {
     "data": {
      "text/html": [
       "<div>\n",
       "<style scoped>\n",
       "    .dataframe tbody tr th:only-of-type {\n",
       "        vertical-align: middle;\n",
       "    }\n",
       "\n",
       "    .dataframe tbody tr th {\n",
       "        vertical-align: top;\n",
       "    }\n",
       "\n",
       "    .dataframe thead th {\n",
       "        text-align: right;\n",
       "    }\n",
       "</style>\n",
       "<table border=\"1\" class=\"dataframe\">\n",
       "  <thead>\n",
       "    <tr style=\"text-align: right;\">\n",
       "      <th></th>\n",
       "      <th>total_images</th>\n",
       "      <th>last_price</th>\n",
       "      <th>total_area</th>\n",
       "      <th>first_day_exposition</th>\n",
       "      <th>rooms</th>\n",
       "      <th>ceiling_height</th>\n",
       "      <th>floors_total</th>\n",
       "      <th>living_area</th>\n",
       "      <th>floor</th>\n",
       "      <th>is_apartment</th>\n",
       "      <th>...</th>\n",
       "      <th>kitchen_area</th>\n",
       "      <th>balcony</th>\n",
       "      <th>locality_name</th>\n",
       "      <th>airports_nearest</th>\n",
       "      <th>cityCenters_nearest</th>\n",
       "      <th>parks_around3000</th>\n",
       "      <th>parks_nearest</th>\n",
       "      <th>ponds_around3000</th>\n",
       "      <th>ponds_nearest</th>\n",
       "      <th>days_exposition</th>\n",
       "    </tr>\n",
       "  </thead>\n",
       "  <tbody>\n",
       "    <tr>\n",
       "      <th>0</th>\n",
       "      <td>20</td>\n",
       "      <td>13000000.0</td>\n",
       "      <td>108.0</td>\n",
       "      <td>2019-03-07T00:00:00</td>\n",
       "      <td>3</td>\n",
       "      <td>2.70</td>\n",
       "      <td>16.0</td>\n",
       "      <td>51.0</td>\n",
       "      <td>8</td>\n",
       "      <td>NaN</td>\n",
       "      <td>...</td>\n",
       "      <td>25.0</td>\n",
       "      <td>NaN</td>\n",
       "      <td>Санкт-Петербург</td>\n",
       "      <td>18863.0</td>\n",
       "      <td>16028.0</td>\n",
       "      <td>1.0</td>\n",
       "      <td>482.0</td>\n",
       "      <td>2.0</td>\n",
       "      <td>755.0</td>\n",
       "      <td>NaN</td>\n",
       "    </tr>\n",
       "    <tr>\n",
       "      <th>1</th>\n",
       "      <td>7</td>\n",
       "      <td>3350000.0</td>\n",
       "      <td>40.4</td>\n",
       "      <td>2018-12-04T00:00:00</td>\n",
       "      <td>1</td>\n",
       "      <td>NaN</td>\n",
       "      <td>11.0</td>\n",
       "      <td>18.6</td>\n",
       "      <td>1</td>\n",
       "      <td>NaN</td>\n",
       "      <td>...</td>\n",
       "      <td>11.0</td>\n",
       "      <td>2.0</td>\n",
       "      <td>посёлок Шушары</td>\n",
       "      <td>12817.0</td>\n",
       "      <td>18603.0</td>\n",
       "      <td>0.0</td>\n",
       "      <td>NaN</td>\n",
       "      <td>0.0</td>\n",
       "      <td>NaN</td>\n",
       "      <td>81.0</td>\n",
       "    </tr>\n",
       "    <tr>\n",
       "      <th>2</th>\n",
       "      <td>10</td>\n",
       "      <td>5196000.0</td>\n",
       "      <td>56.0</td>\n",
       "      <td>2015-08-20T00:00:00</td>\n",
       "      <td>2</td>\n",
       "      <td>NaN</td>\n",
       "      <td>5.0</td>\n",
       "      <td>34.3</td>\n",
       "      <td>4</td>\n",
       "      <td>NaN</td>\n",
       "      <td>...</td>\n",
       "      <td>8.3</td>\n",
       "      <td>0.0</td>\n",
       "      <td>Санкт-Петербург</td>\n",
       "      <td>21741.0</td>\n",
       "      <td>13933.0</td>\n",
       "      <td>1.0</td>\n",
       "      <td>90.0</td>\n",
       "      <td>2.0</td>\n",
       "      <td>574.0</td>\n",
       "      <td>558.0</td>\n",
       "    </tr>\n",
       "    <tr>\n",
       "      <th>3</th>\n",
       "      <td>0</td>\n",
       "      <td>64900000.0</td>\n",
       "      <td>159.0</td>\n",
       "      <td>2015-07-24T00:00:00</td>\n",
       "      <td>3</td>\n",
       "      <td>NaN</td>\n",
       "      <td>14.0</td>\n",
       "      <td>NaN</td>\n",
       "      <td>9</td>\n",
       "      <td>NaN</td>\n",
       "      <td>...</td>\n",
       "      <td>NaN</td>\n",
       "      <td>0.0</td>\n",
       "      <td>Санкт-Петербург</td>\n",
       "      <td>28098.0</td>\n",
       "      <td>6800.0</td>\n",
       "      <td>2.0</td>\n",
       "      <td>84.0</td>\n",
       "      <td>3.0</td>\n",
       "      <td>234.0</td>\n",
       "      <td>424.0</td>\n",
       "    </tr>\n",
       "    <tr>\n",
       "      <th>4</th>\n",
       "      <td>2</td>\n",
       "      <td>10000000.0</td>\n",
       "      <td>100.0</td>\n",
       "      <td>2018-06-19T00:00:00</td>\n",
       "      <td>2</td>\n",
       "      <td>3.03</td>\n",
       "      <td>14.0</td>\n",
       "      <td>32.0</td>\n",
       "      <td>13</td>\n",
       "      <td>NaN</td>\n",
       "      <td>...</td>\n",
       "      <td>41.0</td>\n",
       "      <td>NaN</td>\n",
       "      <td>Санкт-Петербург</td>\n",
       "      <td>31856.0</td>\n",
       "      <td>8098.0</td>\n",
       "      <td>2.0</td>\n",
       "      <td>112.0</td>\n",
       "      <td>1.0</td>\n",
       "      <td>48.0</td>\n",
       "      <td>121.0</td>\n",
       "    </tr>\n",
       "  </tbody>\n",
       "</table>\n",
       "<p>5 rows × 22 columns</p>\n",
       "</div>"
      ],
      "text/plain": [
       "   total_images  last_price  total_area first_day_exposition  rooms  \\\n",
       "0            20  13000000.0       108.0  2019-03-07T00:00:00      3   \n",
       "1             7   3350000.0        40.4  2018-12-04T00:00:00      1   \n",
       "2            10   5196000.0        56.0  2015-08-20T00:00:00      2   \n",
       "3             0  64900000.0       159.0  2015-07-24T00:00:00      3   \n",
       "4             2  10000000.0       100.0  2018-06-19T00:00:00      2   \n",
       "\n",
       "   ceiling_height  floors_total  living_area  floor is_apartment  ...  \\\n",
       "0            2.70          16.0         51.0      8          NaN  ...   \n",
       "1             NaN          11.0         18.6      1          NaN  ...   \n",
       "2             NaN           5.0         34.3      4          NaN  ...   \n",
       "3             NaN          14.0          NaN      9          NaN  ...   \n",
       "4            3.03          14.0         32.0     13          NaN  ...   \n",
       "\n",
       "   kitchen_area  balcony    locality_name  airports_nearest  \\\n",
       "0          25.0      NaN  Санкт-Петербург           18863.0   \n",
       "1          11.0      2.0   посёлок Шушары           12817.0   \n",
       "2           8.3      0.0  Санкт-Петербург           21741.0   \n",
       "3           NaN      0.0  Санкт-Петербург           28098.0   \n",
       "4          41.0      NaN  Санкт-Петербург           31856.0   \n",
       "\n",
       "  cityCenters_nearest  parks_around3000  parks_nearest  ponds_around3000  \\\n",
       "0             16028.0               1.0          482.0               2.0   \n",
       "1             18603.0               0.0            NaN               0.0   \n",
       "2             13933.0               1.0           90.0               2.0   \n",
       "3              6800.0               2.0           84.0               3.0   \n",
       "4              8098.0               2.0          112.0               1.0   \n",
       "\n",
       "   ponds_nearest  days_exposition  \n",
       "0          755.0              NaN  \n",
       "1            NaN             81.0  \n",
       "2          574.0            558.0  \n",
       "3          234.0            424.0  \n",
       "4           48.0            121.0  \n",
       "\n",
       "[5 rows x 22 columns]"
      ]
     },
     "metadata": {},
     "output_type": "display_data"
    }
   ],
   "source": [
    "import pandas as pd\n",
    "\n",
    "df = pd.read_csv('/Users/daniilsobolev/Desktop/ml projects/Исследовательский анализ/real_estate_data.csv', sep='\\t')\n",
    "display(df.head())"
   ]
  },
  {
   "cell_type": "code",
   "execution_count": 2,
   "metadata": {
    "scrolled": true
   },
   "outputs": [
    {
     "name": "stdout",
     "output_type": "stream",
     "text": [
      "<class 'pandas.core.frame.DataFrame'>\n",
      "RangeIndex: 23699 entries, 0 to 23698\n",
      "Data columns (total 22 columns):\n",
      " #   Column                Non-Null Count  Dtype  \n",
      "---  ------                --------------  -----  \n",
      " 0   total_images          23699 non-null  int64  \n",
      " 1   last_price            23699 non-null  float64\n",
      " 2   total_area            23699 non-null  float64\n",
      " 3   first_day_exposition  23699 non-null  object \n",
      " 4   rooms                 23699 non-null  int64  \n",
      " 5   ceiling_height        14504 non-null  float64\n",
      " 6   floors_total          23613 non-null  float64\n",
      " 7   living_area           21796 non-null  float64\n",
      " 8   floor                 23699 non-null  int64  \n",
      " 9   is_apartment          2775 non-null   object \n",
      " 10  studio                23699 non-null  bool   \n",
      " 11  open_plan             23699 non-null  bool   \n",
      " 12  kitchen_area          21421 non-null  float64\n",
      " 13  balcony               12180 non-null  float64\n",
      " 14  locality_name         23650 non-null  object \n",
      " 15  airports_nearest      18157 non-null  float64\n",
      " 16  cityCenters_nearest   18180 non-null  float64\n",
      " 17  parks_around3000      18181 non-null  float64\n",
      " 18  parks_nearest         8079 non-null   float64\n",
      " 19  ponds_around3000      18181 non-null  float64\n",
      " 20  ponds_nearest         9110 non-null   float64\n",
      " 21  days_exposition       20518 non-null  float64\n",
      "dtypes: bool(2), float64(14), int64(3), object(3)\n",
      "memory usage: 3.7+ MB\n"
     ]
    }
   ],
   "source": [
    "df.info()"
   ]
  },
  {
   "cell_type": "markdown",
   "metadata": {},
   "source": [
    "### Вывод"
   ]
  },
  {
   "cell_type": "markdown",
   "metadata": {},
   "source": [
    "Файл открыт успешно.\n",
    "Перед нами 22 категории данных по которым мы можем исследовать различные параметры квартир.\n",
    "\n",
    "Сразу видно, что в множестве категорий есть пропуски, а также некоторые категории следует переобразовать в другой тип данных. "
   ]
  },
  {
   "cell_type": "markdown",
   "metadata": {},
   "source": [
    "## Предобработка данных"
   ]
  },
  {
   "cell_type": "markdown",
   "metadata": {},
   "source": [
    "### Работа с пропусками"
   ]
  },
  {
   "cell_type": "markdown",
   "metadata": {},
   "source": [
    "1) В столбцах: **balcony, days_exposition, parks_around3000, ponds_around3000**  пропуски будет корректно заполнить нулями, так как пропуск означает нулевое значение <br>\n",
    "2) В столбце: **ceiling_height**  заполним пропуски медианным значением <br>\n",
    "3) В столбце: **is_apartment** пропуски заполним значением False, так как это и подразумевается <br>\n",
    "4) В столбцах: **floors_total, locality_name** избавимся от пропусков <br>\n",
    "5) В столбце: **rooms** удалим все те строки, где значение равно нулю <br>"
   ]
  },
  {
   "cell_type": "code",
   "execution_count": 3,
   "metadata": {},
   "outputs": [],
   "source": [
    "#1\n",
    "df['balcony'] = df['balcony'].fillna(0)\n",
    "df['days_exposition'] = df['days_exposition'].fillna(0)\n",
    "df['parks_around3000'] = df['parks_around3000'].fillna(0)\n",
    "df['ponds_around3000'] = df['ponds_around3000'].fillna(0)\n",
    "\n",
    "#2\n",
    "df['ceiling_height'] = df['ceiling_height'].fillna(df['ceiling_height'].median())\n",
    "\n",
    "#3\n",
    "df['is_apartment'] = df['is_apartment'].fillna(False)\n",
    "\n",
    "#4\n",
    "df.dropna(subset=['floors_total'], inplace=True)\n",
    "df.dropna(subset=['locality_name'], inplace=True)\n",
    "\n",
    "#5\n",
    "df = df[df['rooms'] != 0]"
   ]
  },
  {
   "cell_type": "markdown",
   "metadata": {},
   "source": [
    "6) Чтобы заполнить пропуски в столбцах: **living_area, kitchen_area** мы найдем, от какого столбца в большей степени зависят значения этих столбцов и заполним их исходя из этого"
   ]
  },
  {
   "cell_type": "code",
   "execution_count": 4,
   "metadata": {
    "scrolled": true
   },
   "outputs": [
    {
     "name": "stdout",
     "output_type": "stream",
     "text": [
      "0.9396943779696896\n",
      "0.8500692713542148\n"
     ]
    }
   ],
   "source": [
    "print(df['living_area'].corr(df['total_area']))\n",
    "print(df['living_area'].corr(df['rooms']))"
   ]
  },
  {
   "cell_type": "code",
   "execution_count": 5,
   "metadata": {
    "scrolled": true
   },
   "outputs": [
    {
     "name": "stdout",
     "output_type": "stream",
     "text": [
      "0.6092476784548316\n",
      "0.2703422862392512\n",
      "0.42890931447034436\n"
     ]
    }
   ],
   "source": [
    "print(df['kitchen_area'].corr(df['total_area']))\n",
    "print(df['kitchen_area'].corr(df['rooms']))\n",
    "print(df['kitchen_area'].corr(df['living_area']))"
   ]
  },
  {
   "cell_type": "code",
   "execution_count": 6,
   "metadata": {},
   "outputs": [],
   "source": [
    "df_new = df[['total_area', 'living_area', 'kitchen_area', 'rooms']]\n",
    "df_new = df_new.dropna()\n",
    "\n",
    "df_new['ratio_whole'] = df_new['living_area'] / df_new['total_area']\n",
    "multiplier_whole = df_new['ratio_whole'].median()\n",
    "\n",
    "df_new['ratio_kitchen'] = df_new['kitchen_area'] / df_new['total_area']\n",
    "multiplier_kitchen = df_new['ratio_kitchen'].median()\n",
    "\n",
    "\n",
    "df.loc[df['living_area'].isna(),'living_area'] = df['total_area'] * multiplier_whole\n",
    "df.loc[df['kitchen_area'].isna(),'kitchen_area'] = df['total_area'] * multiplier_kitchen"
   ]
  },
  {
   "cell_type": "markdown",
   "metadata": {},
   "source": [
    "### Преобразование из float в int"
   ]
  },
  {
   "cell_type": "markdown",
   "metadata": {},
   "source": [
    "В столбцах: **days_exposition, floors_total, parks_around3000, ponds_around3000, last_price, balcony** изменим тип данных с float на int, так как нам будем так удобнее, а также может пригодиться для корректных построений некоторых графиков."
   ]
  },
  {
   "cell_type": "code",
   "execution_count": 7,
   "metadata": {},
   "outputs": [],
   "source": [
    "df['days_exposition'] = df['days_exposition'].astype('int')\n",
    "df['floors_total'] = df['floors_total'].astype('int')\n",
    "df['parks_around3000'] = df['parks_around3000'].astype('int')\n",
    "df['ponds_around3000'] = df['ponds_around3000'].astype('int')\n",
    "df['last_price'] = df['last_price'].astype('int')\n",
    "df['balcony'] = df['balcony'].astype('int')"
   ]
  },
  {
   "cell_type": "markdown",
   "metadata": {},
   "source": [
    "### Выводы"
   ]
  },
  {
   "cell_type": "markdown",
   "metadata": {},
   "source": [
    "Проверим данные на дубликаты. И повторно посмотрим на информацию о датасете."
   ]
  },
  {
   "cell_type": "code",
   "execution_count": 8,
   "metadata": {},
   "outputs": [
    {
     "data": {
      "text/plain": [
       "0"
      ]
     },
     "execution_count": 8,
     "metadata": {},
     "output_type": "execute_result"
    }
   ],
   "source": [
    "df.duplicated().sum()"
   ]
  },
  {
   "cell_type": "code",
   "execution_count": 9,
   "metadata": {},
   "outputs": [
    {
     "name": "stdout",
     "output_type": "stream",
     "text": [
      "<class 'pandas.core.frame.DataFrame'>\n",
      "Int64Index: 23371 entries, 0 to 23698\n",
      "Data columns (total 22 columns):\n",
      " #   Column                Non-Null Count  Dtype  \n",
      "---  ------                --------------  -----  \n",
      " 0   total_images          23371 non-null  int64  \n",
      " 1   last_price            23371 non-null  int64  \n",
      " 2   total_area            23371 non-null  float64\n",
      " 3   first_day_exposition  23371 non-null  object \n",
      " 4   rooms                 23371 non-null  int64  \n",
      " 5   ceiling_height        23371 non-null  float64\n",
      " 6   floors_total          23371 non-null  int64  \n",
      " 7   living_area           23371 non-null  float64\n",
      " 8   floor                 23371 non-null  int64  \n",
      " 9   is_apartment          23371 non-null  bool   \n",
      " 10  studio                23371 non-null  bool   \n",
      " 11  open_plan             23371 non-null  bool   \n",
      " 12  kitchen_area          23371 non-null  float64\n",
      " 13  balcony               23371 non-null  int64  \n",
      " 14  locality_name         23371 non-null  object \n",
      " 15  airports_nearest      17924 non-null  float64\n",
      " 16  cityCenters_nearest   17947 non-null  float64\n",
      " 17  parks_around3000      23371 non-null  int64  \n",
      " 18  parks_nearest         8002 non-null   float64\n",
      " 19  ponds_around3000      23371 non-null  int64  \n",
      " 20  ponds_nearest         8968 non-null   float64\n",
      " 21  days_exposition       23371 non-null  int64  \n",
      "dtypes: bool(3), float64(8), int64(9), object(2)\n",
      "memory usage: 4.1+ MB\n"
     ]
    }
   ],
   "source": [
    "df.info()"
   ]
  },
  {
   "cell_type": "markdown",
   "metadata": {},
   "source": [
    "Видно, что мы восстановили не все данные. Потому что в столбцах: **airports_nearest, cityCenters_nearest, parks_nearest, ponds_nearest** данные восстановить невозможно, так как они получены автоматически на основе картографических данных."
   ]
  },
  {
   "cell_type": "markdown",
   "metadata": {},
   "source": [
    "## Расчёты и добавление результатов в таблицу"
   ]
  },
  {
   "cell_type": "markdown",
   "metadata": {},
   "source": [
    "Произведем рассчеты и добавим в таблицу следующие значения:\n",
    "- цену квадратного метра\n",
    "- день недели, месяц и год публикации объявления\n",
    "- этаж квартиры (первый, последний, другой)\n",
    "- соотношение жилой и общей площади, а также отношение площади кухни к общей"
   ]
  },
  {
   "cell_type": "code",
   "execution_count": 10,
   "metadata": {},
   "outputs": [],
   "source": [
    "df['price_per_square_meter'] = df['last_price'] / df['total_area']\n",
    "\n",
    "df['first_day_exposition'] = pd.to_datetime(df['first_day_exposition'], format='%Y-%m-%d')\n",
    "df['weekday'] = df['first_day_exposition'].dt.weekday\n",
    "df['month'] = df['first_day_exposition'].dt.month\n",
    "df['year'] = df['first_day_exposition'].dt.year\n",
    "\n",
    "df.loc[df['floor'] == 1,'flat_floor'] = 'первый'\n",
    "df.loc[df['floor'] == df['floors_total'],'flat_floor'] = 'последний'\n",
    "df.loc[df['flat_floor'].isna(),'flat_floor'] = 'другой'\n",
    "\n",
    "df['living/total'] = df['living_area'] / df['total_area']\n",
    "df['kitchen/total'] = df['kitchen_area'] / df['total_area']"
   ]
  },
  {
   "cell_type": "markdown",
   "metadata": {},
   "source": [
    "**Проверим:**"
   ]
  },
  {
   "cell_type": "code",
   "execution_count": 11,
   "metadata": {},
   "outputs": [
    {
     "data": {
      "text/html": [
       "<div>\n",
       "<style scoped>\n",
       "    .dataframe tbody tr th:only-of-type {\n",
       "        vertical-align: middle;\n",
       "    }\n",
       "\n",
       "    .dataframe tbody tr th {\n",
       "        vertical-align: top;\n",
       "    }\n",
       "\n",
       "    .dataframe thead th {\n",
       "        text-align: right;\n",
       "    }\n",
       "</style>\n",
       "<table border=\"1\" class=\"dataframe\">\n",
       "  <thead>\n",
       "    <tr style=\"text-align: right;\">\n",
       "      <th></th>\n",
       "      <th>total_images</th>\n",
       "      <th>last_price</th>\n",
       "      <th>total_area</th>\n",
       "      <th>first_day_exposition</th>\n",
       "      <th>rooms</th>\n",
       "      <th>ceiling_height</th>\n",
       "      <th>floors_total</th>\n",
       "      <th>living_area</th>\n",
       "      <th>floor</th>\n",
       "      <th>is_apartment</th>\n",
       "      <th>...</th>\n",
       "      <th>ponds_around3000</th>\n",
       "      <th>ponds_nearest</th>\n",
       "      <th>days_exposition</th>\n",
       "      <th>price_per_square_meter</th>\n",
       "      <th>weekday</th>\n",
       "      <th>month</th>\n",
       "      <th>year</th>\n",
       "      <th>flat_floor</th>\n",
       "      <th>living/total</th>\n",
       "      <th>kitchen/total</th>\n",
       "    </tr>\n",
       "  </thead>\n",
       "  <tbody>\n",
       "    <tr>\n",
       "      <th>0</th>\n",
       "      <td>20</td>\n",
       "      <td>13000000</td>\n",
       "      <td>108.0</td>\n",
       "      <td>2019-03-07</td>\n",
       "      <td>3</td>\n",
       "      <td>2.70</td>\n",
       "      <td>16</td>\n",
       "      <td>51.0</td>\n",
       "      <td>8</td>\n",
       "      <td>False</td>\n",
       "      <td>...</td>\n",
       "      <td>2</td>\n",
       "      <td>755.0</td>\n",
       "      <td>0</td>\n",
       "      <td>120370.370370</td>\n",
       "      <td>3</td>\n",
       "      <td>3</td>\n",
       "      <td>2019</td>\n",
       "      <td>другой</td>\n",
       "      <td>0.472222</td>\n",
       "      <td>0.231481</td>\n",
       "    </tr>\n",
       "    <tr>\n",
       "      <th>1</th>\n",
       "      <td>7</td>\n",
       "      <td>3350000</td>\n",
       "      <td>40.4</td>\n",
       "      <td>2018-12-04</td>\n",
       "      <td>1</td>\n",
       "      <td>2.65</td>\n",
       "      <td>11</td>\n",
       "      <td>18.6</td>\n",
       "      <td>1</td>\n",
       "      <td>False</td>\n",
       "      <td>...</td>\n",
       "      <td>0</td>\n",
       "      <td>NaN</td>\n",
       "      <td>81</td>\n",
       "      <td>82920.792079</td>\n",
       "      <td>1</td>\n",
       "      <td>12</td>\n",
       "      <td>2018</td>\n",
       "      <td>первый</td>\n",
       "      <td>0.460396</td>\n",
       "      <td>0.272277</td>\n",
       "    </tr>\n",
       "    <tr>\n",
       "      <th>2</th>\n",
       "      <td>10</td>\n",
       "      <td>5196000</td>\n",
       "      <td>56.0</td>\n",
       "      <td>2015-08-20</td>\n",
       "      <td>2</td>\n",
       "      <td>2.65</td>\n",
       "      <td>5</td>\n",
       "      <td>34.3</td>\n",
       "      <td>4</td>\n",
       "      <td>False</td>\n",
       "      <td>...</td>\n",
       "      <td>2</td>\n",
       "      <td>574.0</td>\n",
       "      <td>558</td>\n",
       "      <td>92785.714286</td>\n",
       "      <td>3</td>\n",
       "      <td>8</td>\n",
       "      <td>2015</td>\n",
       "      <td>другой</td>\n",
       "      <td>0.612500</td>\n",
       "      <td>0.148214</td>\n",
       "    </tr>\n",
       "    <tr>\n",
       "      <th>3</th>\n",
       "      <td>0</td>\n",
       "      <td>64900000</td>\n",
       "      <td>159.0</td>\n",
       "      <td>2015-07-24</td>\n",
       "      <td>3</td>\n",
       "      <td>2.65</td>\n",
       "      <td>14</td>\n",
       "      <td>90.1</td>\n",
       "      <td>9</td>\n",
       "      <td>False</td>\n",
       "      <td>...</td>\n",
       "      <td>3</td>\n",
       "      <td>234.0</td>\n",
       "      <td>424</td>\n",
       "      <td>408176.100629</td>\n",
       "      <td>4</td>\n",
       "      <td>7</td>\n",
       "      <td>2015</td>\n",
       "      <td>другой</td>\n",
       "      <td>0.566667</td>\n",
       "      <td>0.171875</td>\n",
       "    </tr>\n",
       "    <tr>\n",
       "      <th>4</th>\n",
       "      <td>2</td>\n",
       "      <td>10000000</td>\n",
       "      <td>100.0</td>\n",
       "      <td>2018-06-19</td>\n",
       "      <td>2</td>\n",
       "      <td>3.03</td>\n",
       "      <td>14</td>\n",
       "      <td>32.0</td>\n",
       "      <td>13</td>\n",
       "      <td>False</td>\n",
       "      <td>...</td>\n",
       "      <td>1</td>\n",
       "      <td>48.0</td>\n",
       "      <td>121</td>\n",
       "      <td>100000.000000</td>\n",
       "      <td>1</td>\n",
       "      <td>6</td>\n",
       "      <td>2018</td>\n",
       "      <td>другой</td>\n",
       "      <td>0.320000</td>\n",
       "      <td>0.410000</td>\n",
       "    </tr>\n",
       "  </tbody>\n",
       "</table>\n",
       "<p>5 rows × 29 columns</p>\n",
       "</div>"
      ],
      "text/plain": [
       "   total_images  last_price  total_area first_day_exposition  rooms  \\\n",
       "0            20    13000000       108.0           2019-03-07      3   \n",
       "1             7     3350000        40.4           2018-12-04      1   \n",
       "2            10     5196000        56.0           2015-08-20      2   \n",
       "3             0    64900000       159.0           2015-07-24      3   \n",
       "4             2    10000000       100.0           2018-06-19      2   \n",
       "\n",
       "   ceiling_height  floors_total  living_area  floor  is_apartment  ...  \\\n",
       "0            2.70            16         51.0      8         False  ...   \n",
       "1            2.65            11         18.6      1         False  ...   \n",
       "2            2.65             5         34.3      4         False  ...   \n",
       "3            2.65            14         90.1      9         False  ...   \n",
       "4            3.03            14         32.0     13         False  ...   \n",
       "\n",
       "   ponds_around3000  ponds_nearest  days_exposition  price_per_square_meter  \\\n",
       "0                 2          755.0                0           120370.370370   \n",
       "1                 0            NaN               81            82920.792079   \n",
       "2                 2          574.0              558            92785.714286   \n",
       "3                 3          234.0              424           408176.100629   \n",
       "4                 1           48.0              121           100000.000000   \n",
       "\n",
       "  weekday  month  year  flat_floor  living/total  kitchen/total  \n",
       "0       3      3  2019      другой      0.472222       0.231481  \n",
       "1       1     12  2018      первый      0.460396       0.272277  \n",
       "2       3      8  2015      другой      0.612500       0.148214  \n",
       "3       4      7  2015      другой      0.566667       0.171875  \n",
       "4       1      6  2018      другой      0.320000       0.410000  \n",
       "\n",
       "[5 rows x 29 columns]"
      ]
     },
     "metadata": {},
     "output_type": "display_data"
    }
   ],
   "source": [
    "display(df.head())"
   ]
  },
  {
   "cell_type": "markdown",
   "metadata": {},
   "source": [
    "## Исследовательский анализ данных. Раздел первый"
   ]
  },
  {
   "cell_type": "markdown",
   "metadata": {},
   "source": [
    "### Количество комнат"
   ]
  },
  {
   "cell_type": "code",
   "execution_count": 12,
   "metadata": {},
   "outputs": [
    {
     "data": {
      "image/png": "[encoded data removed]",
      "text/plain": [
       "<Figure size 432x288 with 1 Axes>"
      ]
     },
     "metadata": {
      "needs_background": "light"
     },
     "output_type": "display_data"
    }
   ],
   "source": [
    "import matplotlib.pyplot as plt\n",
    "\n",
    "\n",
    "df['rooms'].hist(bins=100, range=(1,10))\n",
    "plt.show()"
   ]
  },
  {
   "cell_type": "markdown",
   "metadata": {},
   "source": [
    "Видно, что большую часть квартир составляют 1 и 2 комнатные, причем их примерно поровну. Далее идут 3 комнатные, их чуть меньше. А далее остальные, причем их количество уже сильно меньше на фоне первых. "
   ]
  },
  {
   "cell_type": "markdown",
   "metadata": {},
   "source": [
    "### Высота потолков"
   ]
  },
  {
   "cell_type": "code",
   "execution_count": 13,
   "metadata": {},
   "outputs": [
    {
     "data": {
      "image/png": "[encoded data removed]",
      "text/plain": [
       "<Figure size 432x288 with 1 Axes>"
      ]
     },
     "metadata": {
      "needs_background": "light"
     },
     "output_type": "display_data"
    }
   ],
   "source": [
    "df['ceiling_height'].hist(bins=30, range=(2,4))\n",
    "plt.show()"
   ]
  },
  {
   "cell_type": "markdown",
   "metadata": {},
   "source": [
    "Средняя высота потолков примерно на уровне 2.65, связано это скорее всего с тем, что при доработке данных мы выбрали для пропусков медианное значение, а значение 2.65 как раз медианное. <br>\n",
    "Но в целом видно, что если не 2.65, то чаще всего бы встречались квартиры с высотой потолков 2.50. Что слабо отличается от 2.65 и что (наверное) может говорить о корректности заполнения пропусков."
   ]
  },
  {
   "cell_type": "markdown",
   "metadata": {},
   "source": [
    "### Цена"
   ]
  },
  {
   "cell_type": "code",
   "execution_count": 14,
   "metadata": {},
   "outputs": [
    {
     "data": {
      "image/png": "[encoded data removed]",
      "text/plain": [
       "<Figure size 432x288 with 1 Axes>"
      ]
     },
     "metadata": {
      "needs_background": "light"
     },
     "output_type": "display_data"
    }
   ],
   "source": [
    "df['last_price'].hist(bins=100, range=(400000,20000000))\n",
    "plt.show()"
   ]
  },
  {
   "cell_type": "markdown",
   "metadata": {},
   "source": [
    "Похож на распределение Пуассона (наверное)\n",
    "\n",
    "Квартир с маленькой стоимостью также мало, как и квартир с большой стоимостью.\n",
    "А средняя цена примерно 3-4 млн."
   ]
  },
  {
   "cell_type": "markdown",
   "metadata": {},
   "source": [
    "### Площадь"
   ]
  },
  {
   "cell_type": "code",
   "execution_count": 15,
   "metadata": {},
   "outputs": [
    {
     "data": {
      "image/png": "[encoded data removed]",
      "text/plain": [
       "<Figure size 432x288 with 1 Axes>"
      ]
     },
     "metadata": {
      "needs_background": "light"
     },
     "output_type": "display_data"
    }
   ],
   "source": [
    "df['total_area'].hist(bins=100, range=(0,250))\n",
    "plt.show()"
   ]
  },
  {
   "cell_type": "markdown",
   "metadata": {},
   "source": [
    "Этот ещё больше похож на распределение Пуассона (наверное)\n",
    "\n",
    "В целом, видно, что стандартная площать где-то от 40 до 60. Чаще всего встрчаются квартиры с площадью 40-45."
   ]
  },
  {
   "cell_type": "markdown",
   "metadata": {},
   "source": [
    "### Вывод "
   ]
  },
  {
   "cell_type": "markdown",
   "metadata": {},
   "source": [
    "Мы изучили такие параметры, как: площадь, цена, высота потолков, количество комнат квартиры.\n",
    "Построили гистограммы, изучили как распределны данные."
   ]
  },
  {
   "cell_type": "markdown",
   "metadata": {},
   "source": [
    "## Исследовательский анализ данных. Раздел второй"
   ]
  },
  {
   "cell_type": "markdown",
   "metadata": {},
   "source": [
    "### Время продажи квартиры"
   ]
  },
  {
   "cell_type": "code",
   "execution_count": 16,
   "metadata": {},
   "outputs": [
    {
     "data": {
      "image/png": "[encoded data removed]",
      "text/plain": [
       "<Figure size 432x288 with 1 Axes>"
      ]
     },
     "metadata": {
      "needs_background": "light"
     },
     "output_type": "display_data"
    }
   ],
   "source": [
    "df['days_exposition'].hist(bins=200, range=(0,1200))\n",
    "plt.show()"
   ]
  },
  {
   "cell_type": "code",
   "execution_count": 17,
   "metadata": {
    "scrolled": true
   },
   "outputs": [
    {
     "name": "stdout",
     "output_type": "stream",
     "text": [
      "74.0\n",
      "156.86885456334772\n"
     ]
    }
   ],
   "source": [
    "print(df['days_exposition'].median()) #медиана\n",
    "print(df['days_exposition'].mean()) #среднее значение"
   ]
  },
  {
   "cell_type": "markdown",
   "metadata": {},
   "source": [
    "Абсолютно естественный график, так как понятно, что большая часть квартир продается в первые недели, а дальше их число должно спадать.<br>\n",
    "По графикам можно увидеть, если квартиру купили в течении маленького промежутка времени, приближающегося к 1-2 дням, то квартиру купили очень быстро.<br>\n",
    "А если объвление висит больше 600 дней, то квартира продается необычно долго."
   ]
  },
  {
   "cell_type": "markdown",
   "metadata": {},
   "source": [
    "### Анализ редких и выбивающихся значений"
   ]
  },
  {
   "cell_type": "markdown",
   "metadata": {},
   "source": [
    "#### Время публикации"
   ]
  },
  {
   "cell_type": "markdown",
   "metadata": {},
   "source": [
    "Уберем выбивающиеся значения - это значения: 7, 30, 45, 60, 90\n",
    "Они появились потому, что скорее всего именно в эти дни заканчивался срок размещения объявления на сайте\n",
    "\n",
    "А также для более наглядного графика, уберем значение 0, так как мы при доработке обозначили все значения Nan нулями"
   ]
  },
  {
   "cell_type": "code",
   "execution_count": 18,
   "metadata": {
    "scrolled": false
   },
   "outputs": [
    {
     "data": {
      "image/png": "[encoded data removed]",
      "text/plain": [
       "<Figure size 432x288 with 1 Axes>"
      ]
     },
     "metadata": {
      "needs_background": "light"
     },
     "output_type": "display_data"
    }
   ],
   "source": [
    "sp = [0, 7, 30, 45, 60, 90]\n",
    "\n",
    "df_query = df.query('not days_exposition in @sp')\n",
    "df_query['days_exposition'].hist(bins=100, range=(0,1200))\n",
    "plt.show()"
   ]
  },
  {
   "cell_type": "markdown",
   "metadata": {},
   "source": [
    "#### Количество комнат"
   ]
  },
  {
   "cell_type": "markdown",
   "metadata": {},
   "source": [
    "Уберем квартиры у которых количество комнат больше 12"
   ]
  },
  {
   "cell_type": "code",
   "execution_count": 19,
   "metadata": {
    "scrolled": true
   },
   "outputs": [],
   "source": [
    "df['rooms'] = df[df['rooms'] < 13]"
   ]
  },
  {
   "cell_type": "markdown",
   "metadata": {},
   "source": [
    "#### Высота потолков"
   ]
  },
  {
   "cell_type": "markdown",
   "metadata": {},
   "source": [
    "Уберем квартиры, в которыз высота потолков свыше 7 метров"
   ]
  },
  {
   "cell_type": "code",
   "execution_count": 20,
   "metadata": {},
   "outputs": [],
   "source": [
    "df['ceiling_height'] = df[df['ceiling_height'] < 7]"
   ]
  },
  {
   "cell_type": "markdown",
   "metadata": {},
   "source": [
    "#### Площадь"
   ]
  },
  {
   "cell_type": "markdown",
   "metadata": {},
   "source": [
    "Уберем квартиры, площадь которыз более 500 квадтратных метров"
   ]
  },
  {
   "cell_type": "code",
   "execution_count": 21,
   "metadata": {},
   "outputs": [],
   "source": [
    "df['total_area'] = df[df['total_area'] < 500]"
   ]
  },
  {
   "cell_type": "markdown",
   "metadata": {},
   "source": [
    "#### Цена"
   ]
  },
  {
   "cell_type": "markdown",
   "metadata": {},
   "source": [
    "Уберем квартиры, цена которых свыще 400 млн рублей"
   ]
  },
  {
   "cell_type": "code",
   "execution_count": 22,
   "metadata": {},
   "outputs": [],
   "source": [
    "#df['last_price'] = df[df['last_price'] < 400000000]"
   ]
  },
  {
   "cell_type": "markdown",
   "metadata": {},
   "source": [
    "### Исследуем стоимость квартиры"
   ]
  },
  {
   "cell_type": "markdown",
   "metadata": {},
   "source": [
    "Посмотрим ещё раз на гистограмму распределения цен."
   ]
  },
  {
   "cell_type": "code",
   "execution_count": 23,
   "metadata": {
    "scrolled": true
   },
   "outputs": [
    {
     "data": {
      "image/png": "[encoded data removed]",
      "text/plain": [
       "<Figure size 432x288 with 1 Axes>"
      ]
     },
     "metadata": {
      "needs_background": "light"
     },
     "output_type": "display_data"
    }
   ],
   "source": [
    "df['last_price'].hist(bins=100, range=(400000,20000000))\n",
    "plt.show()"
   ]
  },
  {
   "cell_type": "markdown",
   "metadata": {},
   "source": [
    "#### Исследуем, зависит ли цена квартиры от количесвта комнат"
   ]
  },
  {
   "cell_type": "code",
   "execution_count": 24,
   "metadata": {},
   "outputs": [
    {
     "data": {
      "text/html": [
       "<div>\n",
       "<style scoped>\n",
       "    .dataframe tbody tr th:only-of-type {\n",
       "        vertical-align: middle;\n",
       "    }\n",
       "\n",
       "    .dataframe tbody tr th {\n",
       "        vertical-align: top;\n",
       "    }\n",
       "\n",
       "    .dataframe thead tr th {\n",
       "        text-align: left;\n",
       "    }\n",
       "\n",
       "    .dataframe thead tr:last-of-type th {\n",
       "        text-align: right;\n",
       "    }\n",
       "</style>\n",
       "<table border=\"1\" class=\"dataframe\">\n",
       "  <thead>\n",
       "    <tr>\n",
       "      <th></th>\n",
       "      <th>median</th>\n",
       "      <th>count</th>\n",
       "    </tr>\n",
       "    <tr>\n",
       "      <th></th>\n",
       "      <th>last_price</th>\n",
       "      <th>last_price</th>\n",
       "    </tr>\n",
       "    <tr>\n",
       "      <th>rooms</th>\n",
       "      <th></th>\n",
       "      <th></th>\n",
       "    </tr>\n",
       "  </thead>\n",
       "  <tbody>\n",
       "    <tr>\n",
       "      <th>0.0</th>\n",
       "      <td>4100000</td>\n",
       "      <td>1036</td>\n",
       "    </tr>\n",
       "    <tr>\n",
       "      <th>1.0</th>\n",
       "      <td>4400000</td>\n",
       "      <td>853</td>\n",
       "    </tr>\n",
       "    <tr>\n",
       "      <th>2.0</th>\n",
       "      <td>4648270</td>\n",
       "      <td>628</td>\n",
       "    </tr>\n",
       "    <tr>\n",
       "      <th>3.0</th>\n",
       "      <td>4360000</td>\n",
       "      <td>746</td>\n",
       "    </tr>\n",
       "    <tr>\n",
       "      <th>4.0</th>\n",
       "      <td>4158500</td>\n",
       "      <td>954</td>\n",
       "    </tr>\n",
       "    <tr>\n",
       "      <th>5.0</th>\n",
       "      <td>4165000</td>\n",
       "      <td>1260</td>\n",
       "    </tr>\n",
       "    <tr>\n",
       "      <th>6.0</th>\n",
       "      <td>4200000</td>\n",
       "      <td>1466</td>\n",
       "    </tr>\n",
       "    <tr>\n",
       "      <th>7.0</th>\n",
       "      <td>4250000</td>\n",
       "      <td>1492</td>\n",
       "    </tr>\n",
       "    <tr>\n",
       "      <th>8.0</th>\n",
       "      <td>4350000</td>\n",
       "      <td>1561</td>\n",
       "    </tr>\n",
       "    <tr>\n",
       "      <th>9.0</th>\n",
       "      <td>4350000</td>\n",
       "      <td>1713</td>\n",
       "    </tr>\n",
       "    <tr>\n",
       "      <th>10.0</th>\n",
       "      <td>4500000</td>\n",
       "      <td>1770</td>\n",
       "    </tr>\n",
       "    <tr>\n",
       "      <th>11.0</th>\n",
       "      <td>4570000</td>\n",
       "      <td>1353</td>\n",
       "    </tr>\n",
       "    <tr>\n",
       "      <th>12.0</th>\n",
       "      <td>4700000</td>\n",
       "      <td>1211</td>\n",
       "    </tr>\n",
       "    <tr>\n",
       "      <th>13.0</th>\n",
       "      <td>4848500</td>\n",
       "      <td>1004</td>\n",
       "    </tr>\n",
       "    <tr>\n",
       "      <th>14.0</th>\n",
       "      <td>4999000</td>\n",
       "      <td>977</td>\n",
       "    </tr>\n",
       "    <tr>\n",
       "      <th>15.0</th>\n",
       "      <td>5000000</td>\n",
       "      <td>943</td>\n",
       "    </tr>\n",
       "    <tr>\n",
       "      <th>16.0</th>\n",
       "      <td>5200000</td>\n",
       "      <td>757</td>\n",
       "    </tr>\n",
       "    <tr>\n",
       "      <th>17.0</th>\n",
       "      <td>5300000</td>\n",
       "      <td>646</td>\n",
       "    </tr>\n",
       "    <tr>\n",
       "      <th>18.0</th>\n",
       "      <td>5350000</td>\n",
       "      <td>637</td>\n",
       "    </tr>\n",
       "    <tr>\n",
       "      <th>19.0</th>\n",
       "      <td>5900000</td>\n",
       "      <td>600</td>\n",
       "    </tr>\n",
       "    <tr>\n",
       "      <th>20.0</th>\n",
       "      <td>6290000</td>\n",
       "      <td>1685</td>\n",
       "    </tr>\n",
       "    <tr>\n",
       "      <th>21.0</th>\n",
       "      <td>6750000</td>\n",
       "      <td>11</td>\n",
       "    </tr>\n",
       "    <tr>\n",
       "      <th>22.0</th>\n",
       "      <td>7687500</td>\n",
       "      <td>8</td>\n",
       "    </tr>\n",
       "    <tr>\n",
       "      <th>23.0</th>\n",
       "      <td>6585000</td>\n",
       "      <td>16</td>\n",
       "    </tr>\n",
       "    <tr>\n",
       "      <th>24.0</th>\n",
       "      <td>5275000</td>\n",
       "      <td>8</td>\n",
       "    </tr>\n",
       "    <tr>\n",
       "      <th>25.0</th>\n",
       "      <td>26000000</td>\n",
       "      <td>1</td>\n",
       "    </tr>\n",
       "    <tr>\n",
       "      <th>26.0</th>\n",
       "      <td>10000000</td>\n",
       "      <td>5</td>\n",
       "    </tr>\n",
       "    <tr>\n",
       "      <th>27.0</th>\n",
       "      <td>16000000</td>\n",
       "      <td>2</td>\n",
       "    </tr>\n",
       "    <tr>\n",
       "      <th>28.0</th>\n",
       "      <td>7740000</td>\n",
       "      <td>4</td>\n",
       "    </tr>\n",
       "    <tr>\n",
       "      <th>29.0</th>\n",
       "      <td>5100000</td>\n",
       "      <td>3</td>\n",
       "    </tr>\n",
       "    <tr>\n",
       "      <th>30.0</th>\n",
       "      <td>6185000</td>\n",
       "      <td>2</td>\n",
       "    </tr>\n",
       "    <tr>\n",
       "      <th>31.0</th>\n",
       "      <td>10495000</td>\n",
       "      <td>2</td>\n",
       "    </tr>\n",
       "    <tr>\n",
       "      <th>32.0</th>\n",
       "      <td>8950000</td>\n",
       "      <td>4</td>\n",
       "    </tr>\n",
       "    <tr>\n",
       "      <th>35.0</th>\n",
       "      <td>11350000</td>\n",
       "      <td>2</td>\n",
       "    </tr>\n",
       "    <tr>\n",
       "      <th>37.0</th>\n",
       "      <td>11500000</td>\n",
       "      <td>1</td>\n",
       "    </tr>\n",
       "    <tr>\n",
       "      <th>39.0</th>\n",
       "      <td>1900000</td>\n",
       "      <td>1</td>\n",
       "    </tr>\n",
       "    <tr>\n",
       "      <th>42.0</th>\n",
       "      <td>17998000</td>\n",
       "      <td>1</td>\n",
       "    </tr>\n",
       "    <tr>\n",
       "      <th>50.0</th>\n",
       "      <td>14500000</td>\n",
       "      <td>3</td>\n",
       "    </tr>\n",
       "  </tbody>\n",
       "</table>\n",
       "</div>"
      ],
      "text/plain": [
       "          median      count\n",
       "      last_price last_price\n",
       "rooms                      \n",
       "0.0      4100000       1036\n",
       "1.0      4400000        853\n",
       "2.0      4648270        628\n",
       "3.0      4360000        746\n",
       "4.0      4158500        954\n",
       "5.0      4165000       1260\n",
       "6.0      4200000       1466\n",
       "7.0      4250000       1492\n",
       "8.0      4350000       1561\n",
       "9.0      4350000       1713\n",
       "10.0     4500000       1770\n",
       "11.0     4570000       1353\n",
       "12.0     4700000       1211\n",
       "13.0     4848500       1004\n",
       "14.0     4999000        977\n",
       "15.0     5000000        943\n",
       "16.0     5200000        757\n",
       "17.0     5300000        646\n",
       "18.0     5350000        637\n",
       "19.0     5900000        600\n",
       "20.0     6290000       1685\n",
       "21.0     6750000         11\n",
       "22.0     7687500          8\n",
       "23.0     6585000         16\n",
       "24.0     5275000          8\n",
       "25.0    26000000          1\n",
       "26.0    10000000          5\n",
       "27.0    16000000          2\n",
       "28.0     7740000          4\n",
       "29.0     5100000          3\n",
       "30.0     6185000          2\n",
       "31.0    10495000          2\n",
       "32.0     8950000          4\n",
       "35.0    11350000          2\n",
       "37.0    11500000          1\n",
       "39.0     1900000          1\n",
       "42.0    17998000          1\n",
       "50.0    14500000          3"
      ]
     },
     "metadata": {},
     "output_type": "display_data"
    }
   ],
   "source": [
    "display(df.pivot_table(index='rooms', values='last_price', aggfunc= ['median', 'count']))"
   ]
  },
  {
   "cell_type": "markdown",
   "metadata": {},
   "source": [
    "Если отбросить квартиры больше 9 камнат (так как таких очень мало), то прослеживается зависимость цены от количество комнат. Но это не значит, что цена зависит от количества комнат. Она может зависить от этого. <br>"
   ]
  },
  {
   "cell_type": "markdown",
   "metadata": {},
   "source": [
    "#### Исследуем, зависит ли цена квартиры от площади и удаленности от центра"
   ]
  },
  {
   "cell_type": "markdown",
   "metadata": {},
   "source": [
    "Так как сложно будет разделять на категории и строить сводную таблицу для определния зависимости цены от площади и удалённости от центра, поэтому мы применим встроенную функцию corr, которая покажет нам корреляцию. А также проверим какое будет значение для прошлого пункта."
   ]
  },
  {
   "cell_type": "code",
   "execution_count": 25,
   "metadata": {},
   "outputs": [
    {
     "name": "stdout",
     "output_type": "stream",
     "text": [
      "0.10465009687511768\n",
      "0.10964005336370232\n",
      "-0.20654160036291186\n"
     ]
    }
   ],
   "source": [
    "print(df['rooms'].astype(float).corr(df['last_price']))\n",
    "print(df['total_area'].astype(float).corr(df['last_price']))\n",
    "print(df['cityCenters_nearest'].corr(df['last_price']))"
   ]
  },
  {
   "cell_type": "markdown",
   "metadata": {},
   "source": [
    "Больше всего цена зависит от расстояния до центра, но обратно.\n",
    "\n",
    "Также немного влияют количество комнат и общая площадь."
   ]
  },
  {
   "cell_type": "markdown",
   "metadata": {},
   "source": [
    "**Исследуем на нелинейную зависимость:**"
   ]
  },
  {
   "cell_type": "code",
   "execution_count": 26,
   "metadata": {},
   "outputs": [
    {
     "data": {
      "text/plain": [
       "<AxesSubplot:xlabel='total_area', ylabel='last_price'>"
      ]
     },
     "execution_count": 26,
     "metadata": {},
     "output_type": "execute_result"
    },
    {
     "data": {
      "image/png": "[encoded data removed]",
      "text/plain": [
       "<Figure size 432x288 with 1 Axes>"
      ]
     },
     "metadata": {
      "needs_background": "light"
     },
     "output_type": "display_data"
    },
    {
     "data": {
      "image/png": "[encoded data removed]",
      "text/plain": [
       "<Figure size 432x288 with 1 Axes>"
      ]
     },
     "metadata": {
      "needs_background": "light"
     },
     "output_type": "display_data"
    },
    {
     "data": {
      "image/png": "[encoded data removed]",
      "text/plain": [
       "<Figure size 432x288 with 1 Axes>"
      ]
     },
     "metadata": {
      "needs_background": "light"
     },
     "output_type": "display_data"
    }
   ],
   "source": [
    "df.plot(x='cityCenters_nearest', y='last_price', kind='scatter', alpha=0.3)\n",
    "plt.ylim([0, 200000000])\n",
    "\n",
    "df.plot(x='rooms', y='last_price', kind='scatter', alpha=0.7)\n",
    "df.plot(x='total_area', y='last_price', kind='scatter', alpha=0.7)"
   ]
  },
  {
   "cell_type": "markdown",
   "metadata": {},
   "source": [
    "Опираясь на графики можем сказать, что цена от удаленности от центра зависит нелинейно. Можно охарактеризовать так: примерно до 7 км от центра цена принимает наибольшие значения, затем резкий скачок вниз по цене и линейное убывание. Причем в диапозоне до 7 км больше выбросов, чем после.<br>\n",
    "\n",
    "Цена от количесво комнат зависит также нелинейно. График больше напоминает нормальное распределение со средним значением 4.<br>\n",
    "\n",
    "Зависимость цены от площади больше похожа на линейную, чем больше площадь, тем выше цена."
   ]
  },
  {
   "cell_type": "code",
   "execution_count": 27,
   "metadata": {},
   "outputs": [
    {
     "name": "stdout",
     "output_type": "stream",
     "text": [
      "<class 'pandas.core.frame.DataFrame'>\n",
      "Int64Index: 23371 entries, 0 to 23698\n",
      "Data columns (total 29 columns):\n",
      " #   Column                  Non-Null Count  Dtype         \n",
      "---  ------                  --------------  -----         \n",
      " 0   total_images            23371 non-null  int64         \n",
      " 1   last_price              23371 non-null  int64         \n",
      " 2   total_area              23362 non-null  object        \n",
      " 3   first_day_exposition    23371 non-null  datetime64[ns]\n",
      " 4   rooms                   23366 non-null  object        \n",
      " 5   ceiling_height          23343 non-null  object        \n",
      " 6   floors_total            23371 non-null  int64         \n",
      " 7   living_area             23371 non-null  float64       \n",
      " 8   floor                   23371 non-null  int64         \n",
      " 9   is_apartment            23371 non-null  bool          \n",
      " 10  studio                  23371 non-null  bool          \n",
      " 11  open_plan               23371 non-null  bool          \n",
      " 12  kitchen_area            23371 non-null  float64       \n",
      " 13  balcony                 23371 non-null  int64         \n",
      " 14  locality_name           23371 non-null  object        \n",
      " 15  airports_nearest        17924 non-null  float64       \n",
      " 16  cityCenters_nearest     17947 non-null  float64       \n",
      " 17  parks_around3000        23371 non-null  int64         \n",
      " 18  parks_nearest           8002 non-null   float64       \n",
      " 19  ponds_around3000        23371 non-null  int64         \n",
      " 20  ponds_nearest           8968 non-null   float64       \n",
      " 21  days_exposition         23371 non-null  int64         \n",
      " 22  price_per_square_meter  23371 non-null  float64       \n",
      " 23  weekday                 23371 non-null  int64         \n",
      " 24  month                   23371 non-null  int64         \n",
      " 25  year                    23371 non-null  int64         \n",
      " 26  flat_floor              23371 non-null  object        \n",
      " 27  living/total            23371 non-null  float64       \n",
      " 28  kitchen/total           23371 non-null  float64       \n",
      "dtypes: bool(3), datetime64[ns](1), float64(9), int64(11), object(5)\n",
      "memory usage: 5.4+ MB\n"
     ]
    }
   ],
   "source": [
    "df.info()"
   ]
  },
  {
   "cell_type": "markdown",
   "metadata": {},
   "source": [
    "#### Исследуем зависимость цены от того, на каком этаже квартира"
   ]
  },
  {
   "cell_type": "code",
   "execution_count": 28,
   "metadata": {},
   "outputs": [
    {
     "data": {
      "text/html": [
       "<div>\n",
       "<style scoped>\n",
       "    .dataframe tbody tr th:only-of-type {\n",
       "        vertical-align: middle;\n",
       "    }\n",
       "\n",
       "    .dataframe tbody tr th {\n",
       "        vertical-align: top;\n",
       "    }\n",
       "\n",
       "    .dataframe thead th {\n",
       "        text-align: right;\n",
       "    }\n",
       "</style>\n",
       "<table border=\"1\" class=\"dataframe\">\n",
       "  <thead>\n",
       "    <tr style=\"text-align: right;\">\n",
       "      <th></th>\n",
       "      <th>last_price</th>\n",
       "    </tr>\n",
       "    <tr>\n",
       "      <th>flat_floor</th>\n",
       "      <th></th>\n",
       "    </tr>\n",
       "  </thead>\n",
       "  <tbody>\n",
       "    <tr>\n",
       "      <th>другой</th>\n",
       "      <td>4860000</td>\n",
       "    </tr>\n",
       "    <tr>\n",
       "      <th>первый</th>\n",
       "      <td>3900000</td>\n",
       "    </tr>\n",
       "    <tr>\n",
       "      <th>последний</th>\n",
       "      <td>4300000</td>\n",
       "    </tr>\n",
       "  </tbody>\n",
       "</table>\n",
       "</div>"
      ],
      "text/plain": [
       "            last_price\n",
       "flat_floor            \n",
       "другой         4860000\n",
       "первый         3900000\n",
       "последний      4300000"
      ]
     },
     "metadata": {},
     "output_type": "display_data"
    }
   ],
   "source": [
    "display(df.pivot_table(index='flat_floor', values='last_price', aggfunc='median'))"
   ]
  },
  {
   "cell_type": "markdown",
   "metadata": {},
   "source": [
    "Видно, что на первом и последнем этажах стоимость квартиры ниже, чем на других."
   ]
  },
  {
   "cell_type": "markdown",
   "metadata": {},
   "source": [
    "#### Исследуем, зависит ли цена квартиры от недели, месяца и года размещения объявления"
   ]
  },
  {
   "cell_type": "code",
   "execution_count": 29,
   "metadata": {
    "scrolled": true
   },
   "outputs": [
    {
     "data": {
      "text/html": [
       "<div>\n",
       "<style scoped>\n",
       "    .dataframe tbody tr th:only-of-type {\n",
       "        vertical-align: middle;\n",
       "    }\n",
       "\n",
       "    .dataframe tbody tr th {\n",
       "        vertical-align: top;\n",
       "    }\n",
       "\n",
       "    .dataframe thead tr th {\n",
       "        text-align: left;\n",
       "    }\n",
       "\n",
       "    .dataframe thead tr:last-of-type th {\n",
       "        text-align: right;\n",
       "    }\n",
       "</style>\n",
       "<table border=\"1\" class=\"dataframe\">\n",
       "  <thead>\n",
       "    <tr>\n",
       "      <th></th>\n",
       "      <th>median</th>\n",
       "      <th>count</th>\n",
       "    </tr>\n",
       "    <tr>\n",
       "      <th></th>\n",
       "      <th>last_price</th>\n",
       "      <th>last_price</th>\n",
       "    </tr>\n",
       "    <tr>\n",
       "      <th>year</th>\n",
       "      <th></th>\n",
       "      <th></th>\n",
       "    </tr>\n",
       "  </thead>\n",
       "  <tbody>\n",
       "    <tr>\n",
       "      <th>2014</th>\n",
       "      <td>7640000</td>\n",
       "      <td>136</td>\n",
       "    </tr>\n",
       "    <tr>\n",
       "      <th>2015</th>\n",
       "      <td>5324000</td>\n",
       "      <td>1163</td>\n",
       "    </tr>\n",
       "    <tr>\n",
       "      <th>2016</th>\n",
       "      <td>4550000</td>\n",
       "      <td>2741</td>\n",
       "    </tr>\n",
       "    <tr>\n",
       "      <th>2017</th>\n",
       "      <td>4500000</td>\n",
       "      <td>8062</td>\n",
       "    </tr>\n",
       "    <tr>\n",
       "      <th>2018</th>\n",
       "      <td>4600000</td>\n",
       "      <td>8415</td>\n",
       "    </tr>\n",
       "    <tr>\n",
       "      <th>2019</th>\n",
       "      <td>5100000</td>\n",
       "      <td>2854</td>\n",
       "    </tr>\n",
       "  </tbody>\n",
       "</table>\n",
       "</div>"
      ],
      "text/plain": [
       "         median      count\n",
       "     last_price last_price\n",
       "year                      \n",
       "2014    7640000        136\n",
       "2015    5324000       1163\n",
       "2016    4550000       2741\n",
       "2017    4500000       8062\n",
       "2018    4600000       8415\n",
       "2019    5100000       2854"
      ]
     },
     "metadata": {},
     "output_type": "display_data"
    }
   ],
   "source": [
    "display(df.pivot_table(index='year', values='last_price', aggfunc=['median', 'count']))"
   ]
  },
  {
   "cell_type": "markdown",
   "metadata": {},
   "source": [
    "Видно, что цена квартир с 2014 года падала, а с 2018 начала немного подрастать"
   ]
  },
  {
   "cell_type": "code",
   "execution_count": 30,
   "metadata": {
    "scrolled": true
   },
   "outputs": [
    {
     "data": {
      "text/html": [
       "<div>\n",
       "<style scoped>\n",
       "    .dataframe tbody tr th:only-of-type {\n",
       "        vertical-align: middle;\n",
       "    }\n",
       "\n",
       "    .dataframe tbody tr th {\n",
       "        vertical-align: top;\n",
       "    }\n",
       "\n",
       "    .dataframe thead tr th {\n",
       "        text-align: left;\n",
       "    }\n",
       "\n",
       "    .dataframe thead tr:last-of-type th {\n",
       "        text-align: right;\n",
       "    }\n",
       "</style>\n",
       "<table border=\"1\" class=\"dataframe\">\n",
       "  <thead>\n",
       "    <tr>\n",
       "      <th></th>\n",
       "      <th>median</th>\n",
       "      <th>count</th>\n",
       "    </tr>\n",
       "    <tr>\n",
       "      <th></th>\n",
       "      <th>last_price</th>\n",
       "      <th>last_price</th>\n",
       "    </tr>\n",
       "    <tr>\n",
       "      <th>month</th>\n",
       "      <th></th>\n",
       "      <th></th>\n",
       "    </tr>\n",
       "  </thead>\n",
       "  <tbody>\n",
       "    <tr>\n",
       "      <th>1</th>\n",
       "      <td>4600000</td>\n",
       "      <td>1475</td>\n",
       "    </tr>\n",
       "    <tr>\n",
       "      <th>2</th>\n",
       "      <td>4650000</td>\n",
       "      <td>2618</td>\n",
       "    </tr>\n",
       "    <tr>\n",
       "      <th>3</th>\n",
       "      <td>4691000</td>\n",
       "      <td>2558</td>\n",
       "    </tr>\n",
       "    <tr>\n",
       "      <th>4</th>\n",
       "      <td>4800000</td>\n",
       "      <td>2342</td>\n",
       "    </tr>\n",
       "    <tr>\n",
       "      <th>5</th>\n",
       "      <td>4500000</td>\n",
       "      <td>1253</td>\n",
       "    </tr>\n",
       "    <tr>\n",
       "      <th>6</th>\n",
       "      <td>4400000</td>\n",
       "      <td>1743</td>\n",
       "    </tr>\n",
       "    <tr>\n",
       "      <th>7</th>\n",
       "      <td>4650000</td>\n",
       "      <td>1669</td>\n",
       "    </tr>\n",
       "    <tr>\n",
       "      <th>8</th>\n",
       "      <td>4600000</td>\n",
       "      <td>1718</td>\n",
       "    </tr>\n",
       "    <tr>\n",
       "      <th>9</th>\n",
       "      <td>4710000</td>\n",
       "      <td>1949</td>\n",
       "    </tr>\n",
       "    <tr>\n",
       "      <th>10</th>\n",
       "      <td>4600000</td>\n",
       "      <td>2093</td>\n",
       "    </tr>\n",
       "    <tr>\n",
       "      <th>11</th>\n",
       "      <td>4700000</td>\n",
       "      <td>2330</td>\n",
       "    </tr>\n",
       "    <tr>\n",
       "      <th>12</th>\n",
       "      <td>4700000</td>\n",
       "      <td>1623</td>\n",
       "    </tr>\n",
       "  </tbody>\n",
       "</table>\n",
       "</div>"
      ],
      "text/plain": [
       "          median      count\n",
       "      last_price last_price\n",
       "month                      \n",
       "1        4600000       1475\n",
       "2        4650000       2618\n",
       "3        4691000       2558\n",
       "4        4800000       2342\n",
       "5        4500000       1253\n",
       "6        4400000       1743\n",
       "7        4650000       1669\n",
       "8        4600000       1718\n",
       "9        4710000       1949\n",
       "10       4600000       2093\n",
       "11       4700000       2330\n",
       "12       4700000       1623"
      ]
     },
     "metadata": {},
     "output_type": "display_data"
    }
   ],
   "source": [
    "display(df.pivot_table(index='month', values='last_price', aggfunc=['median', 'count']))"
   ]
  },
  {
   "cell_type": "markdown",
   "metadata": {},
   "source": [
    "Самый благоприятный месяц для покупки квартиры - июнь <br>\n",
    "Самый благоприятный месяц для продажи квартиры - апрель <br>\n",
    "\n",
    "Ещё можно заметить, что в декабре, январе квартиры плохо продаются. А лучше всего продаются в феврале."
   ]
  },
  {
   "cell_type": "code",
   "execution_count": 31,
   "metadata": {},
   "outputs": [
    {
     "data": {
      "text/html": [
       "<div>\n",
       "<style scoped>\n",
       "    .dataframe tbody tr th:only-of-type {\n",
       "        vertical-align: middle;\n",
       "    }\n",
       "\n",
       "    .dataframe tbody tr th {\n",
       "        vertical-align: top;\n",
       "    }\n",
       "\n",
       "    .dataframe thead tr th {\n",
       "        text-align: left;\n",
       "    }\n",
       "\n",
       "    .dataframe thead tr:last-of-type th {\n",
       "        text-align: right;\n",
       "    }\n",
       "</style>\n",
       "<table border=\"1\" class=\"dataframe\">\n",
       "  <thead>\n",
       "    <tr>\n",
       "      <th></th>\n",
       "      <th>median</th>\n",
       "      <th>count</th>\n",
       "    </tr>\n",
       "    <tr>\n",
       "      <th></th>\n",
       "      <th>last_price</th>\n",
       "      <th>last_price</th>\n",
       "    </tr>\n",
       "    <tr>\n",
       "      <th>weekday</th>\n",
       "      <th></th>\n",
       "      <th></th>\n",
       "    </tr>\n",
       "  </thead>\n",
       "  <tbody>\n",
       "    <tr>\n",
       "      <th>0</th>\n",
       "      <td>4650000</td>\n",
       "      <td>3576</td>\n",
       "    </tr>\n",
       "    <tr>\n",
       "      <th>1</th>\n",
       "      <td>4750000</td>\n",
       "      <td>4128</td>\n",
       "    </tr>\n",
       "    <tr>\n",
       "      <th>2</th>\n",
       "      <td>4700000</td>\n",
       "      <td>3918</td>\n",
       "    </tr>\n",
       "    <tr>\n",
       "      <th>3</th>\n",
       "      <td>4654000</td>\n",
       "      <td>4238</td>\n",
       "    </tr>\n",
       "    <tr>\n",
       "      <th>4</th>\n",
       "      <td>4600000</td>\n",
       "      <td>3932</td>\n",
       "    </tr>\n",
       "    <tr>\n",
       "      <th>5</th>\n",
       "      <td>4600000</td>\n",
       "      <td>1907</td>\n",
       "    </tr>\n",
       "    <tr>\n",
       "      <th>6</th>\n",
       "      <td>4550000</td>\n",
       "      <td>1672</td>\n",
       "    </tr>\n",
       "  </tbody>\n",
       "</table>\n",
       "</div>"
      ],
      "text/plain": [
       "            median      count\n",
       "        last_price last_price\n",
       "weekday                      \n",
       "0          4650000       3576\n",
       "1          4750000       4128\n",
       "2          4700000       3918\n",
       "3          4654000       4238\n",
       "4          4600000       3932\n",
       "5          4600000       1907\n",
       "6          4550000       1672"
      ]
     },
     "metadata": {},
     "output_type": "display_data"
    }
   ],
   "source": [
    "display(df.pivot_table(index='weekday', values='last_price', aggfunc=['median', 'count']))"
   ]
  },
  {
   "cell_type": "markdown",
   "metadata": {},
   "source": [
    "От дня недели стоимость почти не зависит. Но по статистике во вторник продают квартиры за большую цену. А в воскресенье квартиры продаются за меньшею цену, чем в остальные дни."
   ]
  },
  {
   "cell_type": "markdown",
   "metadata": {},
   "source": [
    "### Вывод"
   ]
  },
  {
   "cell_type": "markdown",
   "metadata": {},
   "source": [
    "В этом разделе мы исследовали время продажи квартиры, а также зависимость цены квартиры от различных параметров.\n",
    "Мы выявили различные зависимости цены от таких парамтров, как количесво комнат, площади, удаленности от центра, даты размещения и этажа."
   ]
  },
  {
   "cell_type": "markdown",
   "metadata": {},
   "source": [
    "## Исследовательский анализ данных. Раздел третий"
   ]
  },
  {
   "cell_type": "markdown",
   "metadata": {},
   "source": [
    "### Исследуем  цену квадратного метра"
   ]
  },
  {
   "cell_type": "code",
   "execution_count": 32,
   "metadata": {
    "scrolled": true
   },
   "outputs": [
    {
     "data": {
      "text/html": [
       "<div>\n",
       "<style scoped>\n",
       "    .dataframe tbody tr th:only-of-type {\n",
       "        vertical-align: middle;\n",
       "    }\n",
       "\n",
       "    .dataframe tbody tr th {\n",
       "        vertical-align: top;\n",
       "    }\n",
       "\n",
       "    .dataframe thead th {\n",
       "        text-align: right;\n",
       "    }\n",
       "</style>\n",
       "<table border=\"1\" class=\"dataframe\">\n",
       "  <thead>\n",
       "    <tr style=\"text-align: right;\">\n",
       "      <th></th>\n",
       "      <th>locality_name</th>\n",
       "      <th>count</th>\n",
       "      <th>mean</th>\n",
       "    </tr>\n",
       "  </thead>\n",
       "  <tbody>\n",
       "    <tr>\n",
       "      <th>0</th>\n",
       "      <td>Санкт-Петербург</td>\n",
       "      <td>15542</td>\n",
       "      <td>114807</td>\n",
       "    </tr>\n",
       "    <tr>\n",
       "      <th>4</th>\n",
       "      <td>Пушкин</td>\n",
       "      <td>369</td>\n",
       "      <td>103125</td>\n",
       "    </tr>\n",
       "    <tr>\n",
       "      <th>8</th>\n",
       "      <td>деревня Кудрово</td>\n",
       "      <td>283</td>\n",
       "      <td>92297</td>\n",
       "    </tr>\n",
       "    <tr>\n",
       "      <th>6</th>\n",
       "      <td>посёлок Парголово</td>\n",
       "      <td>323</td>\n",
       "      <td>90289</td>\n",
       "    </tr>\n",
       "    <tr>\n",
       "      <th>1</th>\n",
       "      <td>посёлок Мурино</td>\n",
       "      <td>494</td>\n",
       "      <td>85036</td>\n",
       "    </tr>\n",
       "    <tr>\n",
       "      <th>2</th>\n",
       "      <td>посёлок Шушары</td>\n",
       "      <td>435</td>\n",
       "      <td>78277</td>\n",
       "    </tr>\n",
       "    <tr>\n",
       "      <th>5</th>\n",
       "      <td>Колпино</td>\n",
       "      <td>338</td>\n",
       "      <td>75424</td>\n",
       "    </tr>\n",
       "    <tr>\n",
       "      <th>7</th>\n",
       "      <td>Гатчина</td>\n",
       "      <td>307</td>\n",
       "      <td>68746</td>\n",
       "    </tr>\n",
       "    <tr>\n",
       "      <th>3</th>\n",
       "      <td>Всеволожск</td>\n",
       "      <td>392</td>\n",
       "      <td>68618</td>\n",
       "    </tr>\n",
       "    <tr>\n",
       "      <th>9</th>\n",
       "      <td>Выборг</td>\n",
       "      <td>237</td>\n",
       "      <td>58141</td>\n",
       "    </tr>\n",
       "  </tbody>\n",
       "</table>\n",
       "</div>"
      ],
      "text/plain": [
       "       locality_name  count    mean\n",
       "0    Санкт-Петербург  15542  114807\n",
       "4             Пушкин    369  103125\n",
       "8    деревня Кудрово    283   92297\n",
       "6  посёлок Парголово    323   90289\n",
       "1     посёлок Мурино    494   85036\n",
       "2     посёлок Шушары    435   78277\n",
       "5            Колпино    338   75424\n",
       "7            Гатчина    307   68746\n",
       "3         Всеволожск    392   68618\n",
       "9             Выборг    237   58141"
      ]
     },
     "metadata": {},
     "output_type": "display_data"
    }
   ],
   "source": [
    "df_grouped = df.groupby('locality_name').agg({'price_per_square_meter': ['count', 'mean']})\n",
    "df_grouped = df_grouped['price_per_square_meter'].sort_values(by='count', ascending=False)\n",
    "\n",
    "df_grouped = df_grouped.head(10)\n",
    "df_grouped = df_grouped.reset_index()\n",
    "df_grouped['mean'] = df_grouped['mean'].astype('int')\n",
    "df_grouped = df_grouped.sort_values(by='mean', ascending=False)\n",
    "\n",
    "display(df_grouped)"
   ]
  },
  {
   "cell_type": "markdown",
   "metadata": {},
   "source": [
    "Из таблицы видно, что наивысшая стоимость жилья в Санкт-Петербурге и в Пушкине, а наименьшая в Всеволжске и в Выборге."
   ]
  },
  {
   "cell_type": "markdown",
   "metadata": {},
   "source": [
    "### Изучим предложения квартир"
   ]
  },
  {
   "cell_type": "code",
   "execution_count": 33,
   "metadata": {
    "scrolled": true
   },
   "outputs": [
    {
     "data": {
      "text/html": [
       "<div>\n",
       "<style scoped>\n",
       "    .dataframe tbody tr th:only-of-type {\n",
       "        vertical-align: middle;\n",
       "    }\n",
       "\n",
       "    .dataframe tbody tr th {\n",
       "        vertical-align: top;\n",
       "    }\n",
       "\n",
       "    .dataframe thead th {\n",
       "        text-align: right;\n",
       "    }\n",
       "</style>\n",
       "<table border=\"1\" class=\"dataframe\">\n",
       "  <thead>\n",
       "    <tr style=\"text-align: right;\">\n",
       "      <th></th>\n",
       "      <th>cityCenters_nearest_km</th>\n",
       "      <th>price_per_square_meter</th>\n",
       "    </tr>\n",
       "  </thead>\n",
       "  <tbody>\n",
       "    <tr>\n",
       "      <th>0</th>\n",
       "      <td>1.0</td>\n",
       "      <td>187324.130319</td>\n",
       "    </tr>\n",
       "    <tr>\n",
       "      <th>1</th>\n",
       "      <td>2.0</td>\n",
       "      <td>166817.608241</td>\n",
       "    </tr>\n",
       "    <tr>\n",
       "      <th>2</th>\n",
       "      <td>3.0</td>\n",
       "      <td>146749.687924</td>\n",
       "    </tr>\n",
       "    <tr>\n",
       "      <th>3</th>\n",
       "      <td>4.0</td>\n",
       "      <td>129580.347301</td>\n",
       "    </tr>\n",
       "    <tr>\n",
       "      <th>4</th>\n",
       "      <td>5.0</td>\n",
       "      <td>137330.636232</td>\n",
       "    </tr>\n",
       "    <tr>\n",
       "      <th>5</th>\n",
       "      <td>6.0</td>\n",
       "      <td>147030.844939</td>\n",
       "    </tr>\n",
       "    <tr>\n",
       "      <th>6</th>\n",
       "      <td>7.0</td>\n",
       "      <td>152115.324250</td>\n",
       "    </tr>\n",
       "    <tr>\n",
       "      <th>7</th>\n",
       "      <td>8.0</td>\n",
       "      <td>141456.466602</td>\n",
       "    </tr>\n",
       "    <tr>\n",
       "      <th>8</th>\n",
       "      <td>9.0</td>\n",
       "      <td>120499.293548</td>\n",
       "    </tr>\n",
       "    <tr>\n",
       "      <th>9</th>\n",
       "      <td>10.0</td>\n",
       "      <td>110001.290801</td>\n",
       "    </tr>\n",
       "    <tr>\n",
       "      <th>10</th>\n",
       "      <td>11.0</td>\n",
       "      <td>111472.900298</td>\n",
       "    </tr>\n",
       "    <tr>\n",
       "      <th>11</th>\n",
       "      <td>12.0</td>\n",
       "      <td>106540.550056</td>\n",
       "    </tr>\n",
       "    <tr>\n",
       "      <th>12</th>\n",
       "      <td>13.0</td>\n",
       "      <td>108149.892095</td>\n",
       "    </tr>\n",
       "    <tr>\n",
       "      <th>13</th>\n",
       "      <td>14.0</td>\n",
       "      <td>106898.192719</td>\n",
       "    </tr>\n",
       "    <tr>\n",
       "      <th>14</th>\n",
       "      <td>15.0</td>\n",
       "      <td>104798.347943</td>\n",
       "    </tr>\n",
       "    <tr>\n",
       "      <th>15</th>\n",
       "      <td>16.0</td>\n",
       "      <td>101834.462841</td>\n",
       "    </tr>\n",
       "    <tr>\n",
       "      <th>16</th>\n",
       "      <td>17.0</td>\n",
       "      <td>99925.398749</td>\n",
       "    </tr>\n",
       "    <tr>\n",
       "      <th>17</th>\n",
       "      <td>18.0</td>\n",
       "      <td>94478.793686</td>\n",
       "    </tr>\n",
       "    <tr>\n",
       "      <th>18</th>\n",
       "      <td>19.0</td>\n",
       "      <td>94814.964317</td>\n",
       "    </tr>\n",
       "    <tr>\n",
       "      <th>19</th>\n",
       "      <td>20.0</td>\n",
       "      <td>95452.571876</td>\n",
       "    </tr>\n",
       "    <tr>\n",
       "      <th>20</th>\n",
       "      <td>21.0</td>\n",
       "      <td>106209.329813</td>\n",
       "    </tr>\n",
       "    <tr>\n",
       "      <th>21</th>\n",
       "      <td>22.0</td>\n",
       "      <td>91519.934498</td>\n",
       "    </tr>\n",
       "    <tr>\n",
       "      <th>22</th>\n",
       "      <td>23.0</td>\n",
       "      <td>88721.784309</td>\n",
       "    </tr>\n",
       "    <tr>\n",
       "      <th>23</th>\n",
       "      <td>24.0</td>\n",
       "      <td>92293.834762</td>\n",
       "    </tr>\n",
       "    <tr>\n",
       "      <th>24</th>\n",
       "      <td>25.0</td>\n",
       "      <td>82440.343912</td>\n",
       "    </tr>\n",
       "    <tr>\n",
       "      <th>25</th>\n",
       "      <td>26.0</td>\n",
       "      <td>90436.945589</td>\n",
       "    </tr>\n",
       "    <tr>\n",
       "      <th>26</th>\n",
       "      <td>27.0</td>\n",
       "      <td>75171.911041</td>\n",
       "    </tr>\n",
       "    <tr>\n",
       "      <th>27</th>\n",
       "      <td>28.0</td>\n",
       "      <td>132115.709459</td>\n",
       "    </tr>\n",
       "    <tr>\n",
       "      <th>28</th>\n",
       "      <td>29.0</td>\n",
       "      <td>81840.638722</td>\n",
       "    </tr>\n",
       "    <tr>\n",
       "      <th>29</th>\n",
       "      <td>30.0</td>\n",
       "      <td>62482.404228</td>\n",
       "    </tr>\n",
       "  </tbody>\n",
       "</table>\n",
       "</div>"
      ],
      "text/plain": [
       "    cityCenters_nearest_km  price_per_square_meter\n",
       "0                      1.0           187324.130319\n",
       "1                      2.0           166817.608241\n",
       "2                      3.0           146749.687924\n",
       "3                      4.0           129580.347301\n",
       "4                      5.0           137330.636232\n",
       "5                      6.0           147030.844939\n",
       "6                      7.0           152115.324250\n",
       "7                      8.0           141456.466602\n",
       "8                      9.0           120499.293548\n",
       "9                     10.0           110001.290801\n",
       "10                    11.0           111472.900298\n",
       "11                    12.0           106540.550056\n",
       "12                    13.0           108149.892095\n",
       "13                    14.0           106898.192719\n",
       "14                    15.0           104798.347943\n",
       "15                    16.0           101834.462841\n",
       "16                    17.0            99925.398749\n",
       "17                    18.0            94478.793686\n",
       "18                    19.0            94814.964317\n",
       "19                    20.0            95452.571876\n",
       "20                    21.0           106209.329813\n",
       "21                    22.0            91519.934498\n",
       "22                    23.0            88721.784309\n",
       "23                    24.0            92293.834762\n",
       "24                    25.0            82440.343912\n",
       "25                    26.0            90436.945589\n",
       "26                    27.0            75171.911041\n",
       "27                    28.0           132115.709459\n",
       "28                    29.0            81840.638722\n",
       "29                    30.0            62482.404228"
      ]
     },
     "metadata": {},
     "output_type": "display_data"
    }
   ],
   "source": [
    "import numpy as np\n",
    "\n",
    "data = df[['locality_name', 'cityCenters_nearest', 'price_per_square_meter']]\n",
    "data = data[data['locality_name'] == 'Санкт-Петербург']\n",
    "data = data.dropna()\n",
    "\n",
    "data['cityCenters_nearest_km'] = np.ceil(data['cityCenters_nearest'] / 1000)\n",
    "\n",
    "data_pivot = data.pivot_table(index='cityCenters_nearest_km', values='price_per_square_meter')\n",
    "\n",
    "data_pivot = data_pivot.reset_index()\n",
    "display(data_pivot)\n",
    "\n"
   ]
  },
  {
   "cell_type": "code",
   "execution_count": 34,
   "metadata": {
    "scrolled": true
   },
   "outputs": [
    {
     "data": {
      "image/png": "[encoded data removed]",
      "text/plain": [
       "<Figure size 432x288 with 1 Axes>"
      ]
     },
     "metadata": {
      "needs_background": "light"
     },
     "output_type": "display_data"
    }
   ],
   "source": [
    "data_pivot.plot(x='cityCenters_nearest_km', y='price_per_square_meter', style='o-', grid=True)\n",
    "plt.show()"
   ]
  },
  {
   "cell_type": "markdown",
   "metadata": {},
   "source": [
    "Центральная зона - зона до 4 км включительно."
   ]
  },
  {
   "cell_type": "markdown",
   "metadata": {},
   "source": [
    "### Исследуем квартиры в центре"
   ]
  },
  {
   "cell_type": "markdown",
   "metadata": {},
   "source": [
    "Выделим сегмент квартир в центре:"
   ]
  },
  {
   "cell_type": "code",
   "execution_count": 35,
   "metadata": {},
   "outputs": [],
   "source": [
    "dataset = df\n",
    "dataset = dataset.query('cityCenters_nearest < 4500')\n",
    "dataset = dataset.query('locality_name == \"Санкт-Петербург\"')"
   ]
  },
  {
   "cell_type": "code",
   "execution_count": 36,
   "metadata": {
    "scrolled": false
   },
   "outputs": [
    {
     "data": {
      "image/png": "[encoded data removed]",
      "text/plain": [
       "<Figure size 432x288 with 1 Axes>"
      ]
     },
     "metadata": {
      "needs_background": "light"
     },
     "output_type": "display_data"
    },
    {
     "data": {
      "image/png": "[encoded data removed]",
      "text/plain": [
       "<Figure size 432x288 with 1 Axes>"
      ]
     },
     "metadata": {
      "needs_background": "light"
     },
     "output_type": "display_data"
    }
   ],
   "source": [
    "dataset['rooms'].hist(bins=100, range=(1,10))\n",
    "plt.show()\n",
    "df['rooms'].hist(bins=100, range=(1,10))\n",
    "plt.show()"
   ]
  },
  {
   "cell_type": "markdown",
   "metadata": {},
   "source": [
    "Видно, что в центре меньше однокомнтаных и больше многокомнтаных квартир."
   ]
  },
  {
   "cell_type": "code",
   "execution_count": 37,
   "metadata": {},
   "outputs": [
    {
     "data": {
      "image/png": "[encoded data removed]",
      "text/plain": [
       "<Figure size 432x288 with 1 Axes>"
      ]
     },
     "metadata": {
      "needs_background": "light"
     },
     "output_type": "display_data"
    },
    {
     "data": {
      "image/png": "[encoded data removed]",
      "text/plain": [
       "<Figure size 432x288 with 1 Axes>"
      ]
     },
     "metadata": {
      "needs_background": "light"
     },
     "output_type": "display_data"
    }
   ],
   "source": [
    "dataset['ceiling_height'].hist(bins=30, range=(2,4))\n",
    "plt.show()\n",
    "df['ceiling_height'].hist(bins=30, range=(2,4))\n",
    "plt.show()"
   ]
  },
  {
   "cell_type": "markdown",
   "metadata": {},
   "source": [
    "Высота потолков также увеличивается с 2.65 до 3 метров."
   ]
  },
  {
   "cell_type": "code",
   "execution_count": 38,
   "metadata": {
    "scrolled": true
   },
   "outputs": [
    {
     "data": {
      "image/png": "[encoded data removed]",
      "text/plain": [
       "<Figure size 432x288 with 1 Axes>"
      ]
     },
     "metadata": {
      "needs_background": "light"
     },
     "output_type": "display_data"
    },
    {
     "data": {
      "image/png": "[encoded data removed]",
      "text/plain": [
       "<Figure size 432x288 with 1 Axes>"
      ]
     },
     "metadata": {
      "needs_background": "light"
     },
     "output_type": "display_data"
    }
   ],
   "source": [
    "dataset['last_price'].hist(bins=100, range=(400000,50000000))\n",
    "plt.show()\n",
    "df['last_price'].hist(bins=100, range=(400000,50000000))\n",
    "plt.show()"
   ]
  },
  {
   "cell_type": "markdown",
   "metadata": {},
   "source": [
    "Цена также увеличивается."
   ]
  },
  {
   "cell_type": "code",
   "execution_count": 39,
   "metadata": {},
   "outputs": [
    {
     "data": {
      "image/png": "[encoded data removed]",
      "text/plain": [
       "<Figure size 432x288 with 1 Axes>"
      ]
     },
     "metadata": {
      "needs_background": "light"
     },
     "output_type": "display_data"
    },
    {
     "data": {
      "image/png": "[encoded data removed]",
      "text/plain": [
       "<Figure size 432x288 with 1 Axes>"
      ]
     },
     "metadata": {
      "needs_background": "light"
     },
     "output_type": "display_data"
    }
   ],
   "source": [
    "dataset['total_area'].hist(bins=100, range=(0,350))\n",
    "plt.show()\n",
    "df['total_area'].hist(bins=100, range=(0,350))\n",
    "plt.show()"
   ]
  },
  {
   "cell_type": "markdown",
   "metadata": {},
   "source": [
    "Также увеличивается общая площадь квартиры"
   ]
  },
  {
   "cell_type": "code",
   "execution_count": 40,
   "metadata": {},
   "outputs": [
    {
     "data": {
      "image/png": "[encoded data removed]",
      "text/plain": [
       "<Figure size 432x288 with 1 Axes>"
      ]
     },
     "metadata": {
      "needs_background": "light"
     },
     "output_type": "display_data"
    },
    {
     "data": {
      "image/png": "[encoded data removed]",
      "text/plain": [
       "<Figure size 432x288 with 1 Axes>"
      ]
     },
     "metadata": {
      "needs_background": "light"
     },
     "output_type": "display_data"
    }
   ],
   "source": [
    "sp = [0, 7, 30, 45, 60, 90]\n",
    "dataset_query = dataset.query('not days_exposition in @sp')\n",
    "\n",
    "\n",
    "dataset_query['days_exposition'].hist(bins=20, range=(0,1200))\n",
    "plt.show()\n",
    "df_query['days_exposition'].hist(bins=50, range=(0,1200))\n",
    "plt.show()"
   ]
  },
  {
   "cell_type": "markdown",
   "metadata": {},
   "source": [
    "Время продажи также увеличивается. Но зависимость время/продажи квартир остается прежней"
   ]
  },
  {
   "cell_type": "code",
   "execution_count": 41,
   "metadata": {},
   "outputs": [
    {
     "data": {
      "text/html": [
       "<div>\n",
       "<style scoped>\n",
       "    .dataframe tbody tr th:only-of-type {\n",
       "        vertical-align: middle;\n",
       "    }\n",
       "\n",
       "    .dataframe tbody tr th {\n",
       "        vertical-align: top;\n",
       "    }\n",
       "\n",
       "    .dataframe thead th {\n",
       "        text-align: right;\n",
       "    }\n",
       "</style>\n",
       "<table border=\"1\" class=\"dataframe\">\n",
       "  <thead>\n",
       "    <tr style=\"text-align: right;\">\n",
       "      <th></th>\n",
       "      <th>last_price</th>\n",
       "    </tr>\n",
       "    <tr>\n",
       "      <th>flat_floor</th>\n",
       "      <th></th>\n",
       "    </tr>\n",
       "  </thead>\n",
       "  <tbody>\n",
       "    <tr>\n",
       "      <th>другой</th>\n",
       "      <td>9994000</td>\n",
       "    </tr>\n",
       "    <tr>\n",
       "      <th>первый</th>\n",
       "      <td>7150000</td>\n",
       "    </tr>\n",
       "    <tr>\n",
       "      <th>последний</th>\n",
       "      <td>9405000</td>\n",
       "    </tr>\n",
       "  </tbody>\n",
       "</table>\n",
       "</div>"
      ],
      "text/plain": [
       "            last_price\n",
       "flat_floor            \n",
       "другой         9994000\n",
       "первый         7150000\n",
       "последний      9405000"
      ]
     },
     "metadata": {},
     "output_type": "display_data"
    },
    {
     "data": {
      "text/html": [
       "<div>\n",
       "<style scoped>\n",
       "    .dataframe tbody tr th:only-of-type {\n",
       "        vertical-align: middle;\n",
       "    }\n",
       "\n",
       "    .dataframe tbody tr th {\n",
       "        vertical-align: top;\n",
       "    }\n",
       "\n",
       "    .dataframe thead th {\n",
       "        text-align: right;\n",
       "    }\n",
       "</style>\n",
       "<table border=\"1\" class=\"dataframe\">\n",
       "  <thead>\n",
       "    <tr style=\"text-align: right;\">\n",
       "      <th></th>\n",
       "      <th>last_price</th>\n",
       "    </tr>\n",
       "    <tr>\n",
       "      <th>flat_floor</th>\n",
       "      <th></th>\n",
       "    </tr>\n",
       "  </thead>\n",
       "  <tbody>\n",
       "    <tr>\n",
       "      <th>другой</th>\n",
       "      <td>4860000</td>\n",
       "    </tr>\n",
       "    <tr>\n",
       "      <th>первый</th>\n",
       "      <td>3900000</td>\n",
       "    </tr>\n",
       "    <tr>\n",
       "      <th>последний</th>\n",
       "      <td>4300000</td>\n",
       "    </tr>\n",
       "  </tbody>\n",
       "</table>\n",
       "</div>"
      ],
      "text/plain": [
       "            last_price\n",
       "flat_floor            \n",
       "другой         4860000\n",
       "первый         3900000\n",
       "последний      4300000"
      ]
     },
     "metadata": {},
     "output_type": "display_data"
    }
   ],
   "source": [
    "display(dataset.pivot_table(index='flat_floor', values='last_price', aggfunc='median'))\n",
    "display(df.pivot_table(index='flat_floor', values='last_price', aggfunc='median'))"
   ]
  },
  {
   "cell_type": "markdown",
   "metadata": {},
   "source": [
    "Зависимость от этажа также видна, причем подобная."
   ]
  },
  {
   "cell_type": "code",
   "execution_count": 42,
   "metadata": {},
   "outputs": [
    {
     "name": "stdout",
     "output_type": "stream",
     "text": [
      "0.1367277986452439\n",
      "0.13727574958061306\n",
      "-0.10990078167095894\n",
      "\n",
      "0.10465009687511768\n",
      "0.10964005336370232\n",
      "-0.20654160036291186\n"
     ]
    }
   ],
   "source": [
    "print(dataset['rooms'].astype(float).corr(dataset['last_price']))\n",
    "print(dataset['total_area'].astype(float).corr(dataset['last_price']))\n",
    "print(dataset['cityCenters_nearest'].corr(dataset['last_price']))\n",
    "\n",
    "print('')\n",
    "print(df['rooms'].astype(float).corr(df['last_price']))\n",
    "print(df['total_area'].astype(float).corr(df['last_price']))\n",
    "print(df['cityCenters_nearest'].corr(df['last_price']))"
   ]
  },
  {
   "cell_type": "markdown",
   "metadata": {},
   "source": [
    "**Исследуем на нелинейную зависимость:**"
   ]
  },
  {
   "cell_type": "code",
   "execution_count": 43,
   "metadata": {},
   "outputs": [
    {
     "data": {
      "text/plain": [
       "<AxesSubplot:xlabel='total_area', ylabel='last_price'>"
      ]
     },
     "execution_count": 43,
     "metadata": {},
     "output_type": "execute_result"
    },
    {
     "data": {
      "image/png": "[encoded data removed]",
      "text/plain": [
       "<Figure size 432x288 with 1 Axes>"
      ]
     },
     "metadata": {
      "needs_background": "light"
     },
     "output_type": "display_data"
    },
    {
     "data": {
      "image/png": "[encoded data removed]",
      "text/plain": [
       "<Figure size 432x288 with 1 Axes>"
      ]
     },
     "metadata": {
      "needs_background": "light"
     },
     "output_type": "display_data"
    },
    {
     "data": {
      "image/png": "[encoded data removed]",
      "text/plain": [
       "<Figure size 432x288 with 1 Axes>"
      ]
     },
     "metadata": {
      "needs_background": "light"
     },
     "output_type": "display_data"
    }
   ],
   "source": [
    "dataset.plot(x='cityCenters_nearest', y='last_price', kind='scatter', alpha=0.5)\n",
    "plt.ylim([0, 200000000])\n",
    "dataset.plot(x='rooms', y='last_price', kind='scatter', alpha=0.7)\n",
    "dataset.plot(x='total_area', y='last_price', kind='scatter', alpha=0.7)"
   ]
  },
  {
   "cell_type": "code",
   "execution_count": 44,
   "metadata": {},
   "outputs": [
    {
     "data": {
      "text/plain": [
       "<AxesSubplot:xlabel='total_area', ylabel='last_price'>"
      ]
     },
     "execution_count": 44,
     "metadata": {},
     "output_type": "execute_result"
    },
    {
     "data": {
      "image/png": "[encoded data removed]",
      "text/plain": [
       "<Figure size 432x288 with 1 Axes>"
      ]
     },
     "metadata": {
      "needs_background": "light"
     },
     "output_type": "display_data"
    },
    {
     "data": {
      "image/png": "[encoded data removed]",
      "text/plain": [
       "<Figure size 432x288 with 1 Axes>"
      ]
     },
     "metadata": {
      "needs_background": "light"
     },
     "output_type": "display_data"
    },
    {
     "data": {
      "image/png": "[encoded data removed]",
      "text/plain": [
       "<Figure size 432x288 with 1 Axes>"
      ]
     },
     "metadata": {
      "needs_background": "light"
     },
     "output_type": "display_data"
    }
   ],
   "source": [
    "df.plot(x='cityCenters_nearest', y='last_price', kind='scatter', alpha=0.3)\n",
    "plt.ylim([0, 200000000])\n",
    "\n",
    "df.plot(x='rooms', y='last_price', kind='scatter', alpha=0.7)\n",
    "df.plot(x='total_area', y='last_price', kind='scatter', alpha=0.7)"
   ]
  },
  {
   "cell_type": "markdown",
   "metadata": {},
   "source": [
    "Коэффициенты корреляции цены относительно количества комнат, общей площади и расстояния до центра немного уменьшились, но остались примерно те же.\n",
    "\n",
    "А опираясь на графики видно, что цена от площади зависит линейно, причем на графике стало много меньше выбросов и лучше просматривается линейная зависимость.\n",
    "\n",
    "Зависимость количества комнат от цены также похожа на график нормального распределения, со средним значением 4.5\n",
    "\n",
    "А зависимость цены от расстояния от центра выглядит как линейная, но с очень маленьким угловым коэффициентом."
   ]
  },
  {
   "cell_type": "code",
   "execution_count": 45,
   "metadata": {},
   "outputs": [
    {
     "data": {
      "text/html": [
       "<div>\n",
       "<style scoped>\n",
       "    .dataframe tbody tr th:only-of-type {\n",
       "        vertical-align: middle;\n",
       "    }\n",
       "\n",
       "    .dataframe tbody tr th {\n",
       "        vertical-align: top;\n",
       "    }\n",
       "\n",
       "    .dataframe thead tr th {\n",
       "        text-align: left;\n",
       "    }\n",
       "\n",
       "    .dataframe thead tr:last-of-type th {\n",
       "        text-align: right;\n",
       "    }\n",
       "</style>\n",
       "<table border=\"1\" class=\"dataframe\">\n",
       "  <thead>\n",
       "    <tr>\n",
       "      <th></th>\n",
       "      <th>median</th>\n",
       "      <th>count</th>\n",
       "    </tr>\n",
       "    <tr>\n",
       "      <th></th>\n",
       "      <th>last_price</th>\n",
       "      <th>last_price</th>\n",
       "    </tr>\n",
       "    <tr>\n",
       "      <th>year</th>\n",
       "      <th></th>\n",
       "      <th></th>\n",
       "    </tr>\n",
       "  </thead>\n",
       "  <tbody>\n",
       "    <tr>\n",
       "      <th>2014</th>\n",
       "      <td>24000000.0</td>\n",
       "      <td>11</td>\n",
       "    </tr>\n",
       "    <tr>\n",
       "      <th>2015</th>\n",
       "      <td>10800000.0</td>\n",
       "      <td>154</td>\n",
       "    </tr>\n",
       "    <tr>\n",
       "      <th>2016</th>\n",
       "      <td>9500000.0</td>\n",
       "      <td>200</td>\n",
       "    </tr>\n",
       "    <tr>\n",
       "      <th>2017</th>\n",
       "      <td>8990000.0</td>\n",
       "      <td>557</td>\n",
       "    </tr>\n",
       "    <tr>\n",
       "      <th>2018</th>\n",
       "      <td>9300000.0</td>\n",
       "      <td>472</td>\n",
       "    </tr>\n",
       "    <tr>\n",
       "      <th>2019</th>\n",
       "      <td>10649999.5</td>\n",
       "      <td>164</td>\n",
       "    </tr>\n",
       "  </tbody>\n",
       "</table>\n",
       "</div>"
      ],
      "text/plain": [
       "          median      count\n",
       "      last_price last_price\n",
       "year                       \n",
       "2014  24000000.0         11\n",
       "2015  10800000.0        154\n",
       "2016   9500000.0        200\n",
       "2017   8990000.0        557\n",
       "2018   9300000.0        472\n",
       "2019  10649999.5        164"
      ]
     },
     "metadata": {},
     "output_type": "display_data"
    },
    {
     "data": {
      "text/html": [
       "<div>\n",
       "<style scoped>\n",
       "    .dataframe tbody tr th:only-of-type {\n",
       "        vertical-align: middle;\n",
       "    }\n",
       "\n",
       "    .dataframe tbody tr th {\n",
       "        vertical-align: top;\n",
       "    }\n",
       "\n",
       "    .dataframe thead tr th {\n",
       "        text-align: left;\n",
       "    }\n",
       "\n",
       "    .dataframe thead tr:last-of-type th {\n",
       "        text-align: right;\n",
       "    }\n",
       "</style>\n",
       "<table border=\"1\" class=\"dataframe\">\n",
       "  <thead>\n",
       "    <tr>\n",
       "      <th></th>\n",
       "      <th>median</th>\n",
       "      <th>count</th>\n",
       "    </tr>\n",
       "    <tr>\n",
       "      <th></th>\n",
       "      <th>last_price</th>\n",
       "      <th>last_price</th>\n",
       "    </tr>\n",
       "    <tr>\n",
       "      <th>year</th>\n",
       "      <th></th>\n",
       "      <th></th>\n",
       "    </tr>\n",
       "  </thead>\n",
       "  <tbody>\n",
       "    <tr>\n",
       "      <th>2014</th>\n",
       "      <td>7640000</td>\n",
       "      <td>136</td>\n",
       "    </tr>\n",
       "    <tr>\n",
       "      <th>2015</th>\n",
       "      <td>5324000</td>\n",
       "      <td>1163</td>\n",
       "    </tr>\n",
       "    <tr>\n",
       "      <th>2016</th>\n",
       "      <td>4550000</td>\n",
       "      <td>2741</td>\n",
       "    </tr>\n",
       "    <tr>\n",
       "      <th>2017</th>\n",
       "      <td>4500000</td>\n",
       "      <td>8062</td>\n",
       "    </tr>\n",
       "    <tr>\n",
       "      <th>2018</th>\n",
       "      <td>4600000</td>\n",
       "      <td>8415</td>\n",
       "    </tr>\n",
       "    <tr>\n",
       "      <th>2019</th>\n",
       "      <td>5100000</td>\n",
       "      <td>2854</td>\n",
       "    </tr>\n",
       "  </tbody>\n",
       "</table>\n",
       "</div>"
      ],
      "text/plain": [
       "         median      count\n",
       "     last_price last_price\n",
       "year                      \n",
       "2014    7640000        136\n",
       "2015    5324000       1163\n",
       "2016    4550000       2741\n",
       "2017    4500000       8062\n",
       "2018    4600000       8415\n",
       "2019    5100000       2854"
      ]
     },
     "metadata": {},
     "output_type": "display_data"
    }
   ],
   "source": [
    "display(dataset.pivot_table(index='year', values='last_price', aggfunc=['median', 'count']))\n",
    "\n",
    "display(df.pivot_table(index='year', values='last_price', aggfunc=['median', 'count']))"
   ]
  },
  {
   "cell_type": "markdown",
   "metadata": {},
   "source": [
    "Скачки цен вниз и наверх относительно года такие же."
   ]
  },
  {
   "cell_type": "code",
   "execution_count": 46,
   "metadata": {},
   "outputs": [
    {
     "data": {
      "text/html": [
       "<div>\n",
       "<style scoped>\n",
       "    .dataframe tbody tr th:only-of-type {\n",
       "        vertical-align: middle;\n",
       "    }\n",
       "\n",
       "    .dataframe tbody tr th {\n",
       "        vertical-align: top;\n",
       "    }\n",
       "\n",
       "    .dataframe thead tr th {\n",
       "        text-align: left;\n",
       "    }\n",
       "\n",
       "    .dataframe thead tr:last-of-type th {\n",
       "        text-align: right;\n",
       "    }\n",
       "</style>\n",
       "<table border=\"1\" class=\"dataframe\">\n",
       "  <thead>\n",
       "    <tr>\n",
       "      <th></th>\n",
       "      <th>median</th>\n",
       "      <th>count</th>\n",
       "    </tr>\n",
       "    <tr>\n",
       "      <th></th>\n",
       "      <th>last_price</th>\n",
       "      <th>last_price</th>\n",
       "    </tr>\n",
       "    <tr>\n",
       "      <th>month</th>\n",
       "      <th></th>\n",
       "      <th></th>\n",
       "    </tr>\n",
       "  </thead>\n",
       "  <tbody>\n",
       "    <tr>\n",
       "      <th>1</th>\n",
       "      <td>10900000</td>\n",
       "      <td>108</td>\n",
       "    </tr>\n",
       "    <tr>\n",
       "      <th>2</th>\n",
       "      <td>10000000</td>\n",
       "      <td>173</td>\n",
       "    </tr>\n",
       "    <tr>\n",
       "      <th>3</th>\n",
       "      <td>9900000</td>\n",
       "      <td>159</td>\n",
       "    </tr>\n",
       "    <tr>\n",
       "      <th>4</th>\n",
       "      <td>9790000</td>\n",
       "      <td>153</td>\n",
       "    </tr>\n",
       "    <tr>\n",
       "      <th>5</th>\n",
       "      <td>9350000</td>\n",
       "      <td>83</td>\n",
       "    </tr>\n",
       "    <tr>\n",
       "      <th>6</th>\n",
       "      <td>9000000</td>\n",
       "      <td>107</td>\n",
       "    </tr>\n",
       "    <tr>\n",
       "      <th>7</th>\n",
       "      <td>9825000</td>\n",
       "      <td>130</td>\n",
       "    </tr>\n",
       "    <tr>\n",
       "      <th>8</th>\n",
       "      <td>8850000</td>\n",
       "      <td>110</td>\n",
       "    </tr>\n",
       "    <tr>\n",
       "      <th>9</th>\n",
       "      <td>9700000</td>\n",
       "      <td>135</td>\n",
       "    </tr>\n",
       "    <tr>\n",
       "      <th>10</th>\n",
       "      <td>9250000</td>\n",
       "      <td>122</td>\n",
       "    </tr>\n",
       "    <tr>\n",
       "      <th>11</th>\n",
       "      <td>8995000</td>\n",
       "      <td>168</td>\n",
       "    </tr>\n",
       "    <tr>\n",
       "      <th>12</th>\n",
       "      <td>9125000</td>\n",
       "      <td>110</td>\n",
       "    </tr>\n",
       "  </tbody>\n",
       "</table>\n",
       "</div>"
      ],
      "text/plain": [
       "          median      count\n",
       "      last_price last_price\n",
       "month                      \n",
       "1       10900000        108\n",
       "2       10000000        173\n",
       "3        9900000        159\n",
       "4        9790000        153\n",
       "5        9350000         83\n",
       "6        9000000        107\n",
       "7        9825000        130\n",
       "8        8850000        110\n",
       "9        9700000        135\n",
       "10       9250000        122\n",
       "11       8995000        168\n",
       "12       9125000        110"
      ]
     },
     "metadata": {},
     "output_type": "display_data"
    },
    {
     "data": {
      "text/html": [
       "<div>\n",
       "<style scoped>\n",
       "    .dataframe tbody tr th:only-of-type {\n",
       "        vertical-align: middle;\n",
       "    }\n",
       "\n",
       "    .dataframe tbody tr th {\n",
       "        vertical-align: top;\n",
       "    }\n",
       "\n",
       "    .dataframe thead tr th {\n",
       "        text-align: left;\n",
       "    }\n",
       "\n",
       "    .dataframe thead tr:last-of-type th {\n",
       "        text-align: right;\n",
       "    }\n",
       "</style>\n",
       "<table border=\"1\" class=\"dataframe\">\n",
       "  <thead>\n",
       "    <tr>\n",
       "      <th></th>\n",
       "      <th>median</th>\n",
       "      <th>count</th>\n",
       "    </tr>\n",
       "    <tr>\n",
       "      <th></th>\n",
       "      <th>last_price</th>\n",
       "      <th>last_price</th>\n",
       "    </tr>\n",
       "    <tr>\n",
       "      <th>month</th>\n",
       "      <th></th>\n",
       "      <th></th>\n",
       "    </tr>\n",
       "  </thead>\n",
       "  <tbody>\n",
       "    <tr>\n",
       "      <th>1</th>\n",
       "      <td>4600000</td>\n",
       "      <td>1475</td>\n",
       "    </tr>\n",
       "    <tr>\n",
       "      <th>2</th>\n",
       "      <td>4650000</td>\n",
       "      <td>2618</td>\n",
       "    </tr>\n",
       "    <tr>\n",
       "      <th>3</th>\n",
       "      <td>4691000</td>\n",
       "      <td>2558</td>\n",
       "    </tr>\n",
       "    <tr>\n",
       "      <th>4</th>\n",
       "      <td>4800000</td>\n",
       "      <td>2342</td>\n",
       "    </tr>\n",
       "    <tr>\n",
       "      <th>5</th>\n",
       "      <td>4500000</td>\n",
       "      <td>1253</td>\n",
       "    </tr>\n",
       "    <tr>\n",
       "      <th>6</th>\n",
       "      <td>4400000</td>\n",
       "      <td>1743</td>\n",
       "    </tr>\n",
       "    <tr>\n",
       "      <th>7</th>\n",
       "      <td>4650000</td>\n",
       "      <td>1669</td>\n",
       "    </tr>\n",
       "    <tr>\n",
       "      <th>8</th>\n",
       "      <td>4600000</td>\n",
       "      <td>1718</td>\n",
       "    </tr>\n",
       "    <tr>\n",
       "      <th>9</th>\n",
       "      <td>4710000</td>\n",
       "      <td>1949</td>\n",
       "    </tr>\n",
       "    <tr>\n",
       "      <th>10</th>\n",
       "      <td>4600000</td>\n",
       "      <td>2093</td>\n",
       "    </tr>\n",
       "    <tr>\n",
       "      <th>11</th>\n",
       "      <td>4700000</td>\n",
       "      <td>2330</td>\n",
       "    </tr>\n",
       "    <tr>\n",
       "      <th>12</th>\n",
       "      <td>4700000</td>\n",
       "      <td>1623</td>\n",
       "    </tr>\n",
       "  </tbody>\n",
       "</table>\n",
       "</div>"
      ],
      "text/plain": [
       "          median      count\n",
       "      last_price last_price\n",
       "month                      \n",
       "1        4600000       1475\n",
       "2        4650000       2618\n",
       "3        4691000       2558\n",
       "4        4800000       2342\n",
       "5        4500000       1253\n",
       "6        4400000       1743\n",
       "7        4650000       1669\n",
       "8        4600000       1718\n",
       "9        4710000       1949\n",
       "10       4600000       2093\n",
       "11       4700000       2330\n",
       "12       4700000       1623"
      ]
     },
     "metadata": {},
     "output_type": "display_data"
    }
   ],
   "source": [
    "display(dataset.pivot_table(index='month', values='last_price', aggfunc=['median', 'count']))\n",
    "\n",
    "display(df.pivot_table(index='month', values='last_price', aggfunc=['median', 'count']))"
   ]
  },
  {
   "cell_type": "markdown",
   "metadata": {},
   "source": [
    "Зависимость цены от месяца немного изменилась."
   ]
  },
  {
   "cell_type": "code",
   "execution_count": 47,
   "metadata": {},
   "outputs": [
    {
     "data": {
      "text/html": [
       "<div>\n",
       "<style scoped>\n",
       "    .dataframe tbody tr th:only-of-type {\n",
       "        vertical-align: middle;\n",
       "    }\n",
       "\n",
       "    .dataframe tbody tr th {\n",
       "        vertical-align: top;\n",
       "    }\n",
       "\n",
       "    .dataframe thead tr th {\n",
       "        text-align: left;\n",
       "    }\n",
       "\n",
       "    .dataframe thead tr:last-of-type th {\n",
       "        text-align: right;\n",
       "    }\n",
       "</style>\n",
       "<table border=\"1\" class=\"dataframe\">\n",
       "  <thead>\n",
       "    <tr>\n",
       "      <th></th>\n",
       "      <th>median</th>\n",
       "      <th>count</th>\n",
       "    </tr>\n",
       "    <tr>\n",
       "      <th></th>\n",
       "      <th>last_price</th>\n",
       "      <th>last_price</th>\n",
       "    </tr>\n",
       "    <tr>\n",
       "      <th>weekday</th>\n",
       "      <th></th>\n",
       "      <th></th>\n",
       "    </tr>\n",
       "  </thead>\n",
       "  <tbody>\n",
       "    <tr>\n",
       "      <th>0</th>\n",
       "      <td>9500000</td>\n",
       "      <td>247</td>\n",
       "    </tr>\n",
       "    <tr>\n",
       "      <th>1</th>\n",
       "      <td>9700000</td>\n",
       "      <td>258</td>\n",
       "    </tr>\n",
       "    <tr>\n",
       "      <th>2</th>\n",
       "      <td>10000000</td>\n",
       "      <td>265</td>\n",
       "    </tr>\n",
       "    <tr>\n",
       "      <th>3</th>\n",
       "      <td>9500000</td>\n",
       "      <td>340</td>\n",
       "    </tr>\n",
       "    <tr>\n",
       "      <th>4</th>\n",
       "      <td>9200000</td>\n",
       "      <td>266</td>\n",
       "    </tr>\n",
       "    <tr>\n",
       "      <th>5</th>\n",
       "      <td>8550000</td>\n",
       "      <td>97</td>\n",
       "    </tr>\n",
       "    <tr>\n",
       "      <th>6</th>\n",
       "      <td>9200000</td>\n",
       "      <td>85</td>\n",
       "    </tr>\n",
       "  </tbody>\n",
       "</table>\n",
       "</div>"
      ],
      "text/plain": [
       "            median      count\n",
       "        last_price last_price\n",
       "weekday                      \n",
       "0          9500000        247\n",
       "1          9700000        258\n",
       "2         10000000        265\n",
       "3          9500000        340\n",
       "4          9200000        266\n",
       "5          8550000         97\n",
       "6          9200000         85"
      ]
     },
     "metadata": {},
     "output_type": "display_data"
    },
    {
     "data": {
      "text/html": [
       "<div>\n",
       "<style scoped>\n",
       "    .dataframe tbody tr th:only-of-type {\n",
       "        vertical-align: middle;\n",
       "    }\n",
       "\n",
       "    .dataframe tbody tr th {\n",
       "        vertical-align: top;\n",
       "    }\n",
       "\n",
       "    .dataframe thead tr th {\n",
       "        text-align: left;\n",
       "    }\n",
       "\n",
       "    .dataframe thead tr:last-of-type th {\n",
       "        text-align: right;\n",
       "    }\n",
       "</style>\n",
       "<table border=\"1\" class=\"dataframe\">\n",
       "  <thead>\n",
       "    <tr>\n",
       "      <th></th>\n",
       "      <th>median</th>\n",
       "      <th>count</th>\n",
       "    </tr>\n",
       "    <tr>\n",
       "      <th></th>\n",
       "      <th>last_price</th>\n",
       "      <th>last_price</th>\n",
       "    </tr>\n",
       "    <tr>\n",
       "      <th>weekday</th>\n",
       "      <th></th>\n",
       "      <th></th>\n",
       "    </tr>\n",
       "  </thead>\n",
       "  <tbody>\n",
       "    <tr>\n",
       "      <th>0</th>\n",
       "      <td>4650000</td>\n",
       "      <td>3576</td>\n",
       "    </tr>\n",
       "    <tr>\n",
       "      <th>1</th>\n",
       "      <td>4750000</td>\n",
       "      <td>4128</td>\n",
       "    </tr>\n",
       "    <tr>\n",
       "      <th>2</th>\n",
       "      <td>4700000</td>\n",
       "      <td>3918</td>\n",
       "    </tr>\n",
       "    <tr>\n",
       "      <th>3</th>\n",
       "      <td>4654000</td>\n",
       "      <td>4238</td>\n",
       "    </tr>\n",
       "    <tr>\n",
       "      <th>4</th>\n",
       "      <td>4600000</td>\n",
       "      <td>3932</td>\n",
       "    </tr>\n",
       "    <tr>\n",
       "      <th>5</th>\n",
       "      <td>4600000</td>\n",
       "      <td>1907</td>\n",
       "    </tr>\n",
       "    <tr>\n",
       "      <th>6</th>\n",
       "      <td>4550000</td>\n",
       "      <td>1672</td>\n",
       "    </tr>\n",
       "  </tbody>\n",
       "</table>\n",
       "</div>"
      ],
      "text/plain": [
       "            median      count\n",
       "        last_price last_price\n",
       "weekday                      \n",
       "0          4650000       3576\n",
       "1          4750000       4128\n",
       "2          4700000       3918\n",
       "3          4654000       4238\n",
       "4          4600000       3932\n",
       "5          4600000       1907\n",
       "6          4550000       1672"
      ]
     },
     "metadata": {},
     "output_type": "display_data"
    }
   ],
   "source": [
    "display(dataset.pivot_table(index='weekday', values='last_price', aggfunc=['median', 'count']))\n",
    "\n",
    "display(df.pivot_table(index='weekday', values='last_price', aggfunc=['median', 'count']))"
   ]
  },
  {
   "cell_type": "markdown",
   "metadata": {},
   "source": [
    "Зависимость от дня недели также изменилась."
   ]
  },
  {
   "cell_type": "markdown",
   "metadata": {},
   "source": [
    "## Общий вывод"
   ]
  },
  {
   "cell_type": "markdown",
   "metadata": {},
   "source": [
    "В этом проекте мы изучали данные из архива объявлений о продаже квартир в Санкт-Петербурге и соседних населенных пунктов за несколько лет.\n",
    "Первое, это мы занимались предобработкой данных.<br>\n",
    "Второе, исследовали различные параметры квартир: число комант, площадь, цена и другие.\n",
    "\n",
    "Мы выявили какие факторы влияют на стоимость квартиры. Исследовали стоимость квадратного метра относительно населенного пункта. Изучили предложения квартир и выявили, где находится центр Санкт-Петербурга. А также исследовали квартиры в центре, исследование показало нам, что некоторые параметры зависят от того, находится квартира в центре или нет.\n",
    "\n",
    "Делая соответсвия с зависимостями, которые были получены, можно узнать будут ли параметри какой-либо квартиры выделяться на фоне остальных. Если да, то такие объявления могут означать мошенническую деятельность. То есть на основе исследования можно установить некоторые  параметры, которые могут указать на мошенническую деятельность разного рода. "
   ]
  }
 ],
 "metadata": {
  "ExecuteTimeLog": [
   {
    "duration": 788,
    "start_time": "2022-02-11T13:58:59.461Z"
   },
   {
    "duration": 102,
    "start_time": "2022-02-11T14:00:36.546Z"
   },
   {
    "duration": 76,
    "start_time": "2022-02-11T14:01:00.783Z"
   },
   {
    "duration": 121,
    "start_time": "2022-02-11T14:01:10.211Z"
   },
   {
    "duration": 16,
    "start_time": "2022-02-11T14:03:16.504Z"
   },
   {
    "duration": 7,
    "start_time": "2022-02-11T14:04:16.869Z"
   },
   {
    "duration": 384,
    "start_time": "2022-02-11T14:07:17.130Z"
   },
   {
    "duration": 12,
    "start_time": "2022-02-11T14:14:17.052Z"
   },
   {
    "duration": 5,
    "start_time": "2022-02-11T14:14:38.920Z"
   },
   {
    "duration": 7,
    "start_time": "2022-02-11T14:15:47.575Z"
   },
   {
    "duration": 11,
    "start_time": "2022-02-11T14:16:33.099Z"
   },
   {
    "duration": 5,
    "start_time": "2022-02-11T14:17:09.771Z"
   },
   {
    "duration": 6,
    "start_time": "2022-02-11T14:18:21.810Z"
   },
   {
    "duration": 5,
    "start_time": "2022-02-11T14:18:38.881Z"
   },
   {
    "duration": 7,
    "start_time": "2022-02-11T14:18:44.209Z"
   },
   {
    "duration": 121,
    "start_time": "2022-02-11T14:18:50.224Z"
   },
   {
    "duration": 120,
    "start_time": "2022-02-11T14:19:02.842Z"
   },
   {
    "duration": 8,
    "start_time": "2022-02-11T14:25:53.038Z"
   },
   {
    "duration": 38,
    "start_time": "2022-02-11T14:26:07.377Z"
   },
   {
    "duration": 6,
    "start_time": "2022-02-11T14:26:17.933Z"
   },
   {
    "duration": 115,
    "start_time": "2022-02-11T14:27:02.149Z"
   },
   {
    "duration": 20,
    "start_time": "2022-02-11T14:27:08.876Z"
   },
   {
    "duration": 6,
    "start_time": "2022-02-11T14:27:11.444Z"
   },
   {
    "duration": 8,
    "start_time": "2022-02-11T14:27:25.491Z"
   },
   {
    "duration": 6,
    "start_time": "2022-02-11T14:27:26.257Z"
   },
   {
    "duration": 9,
    "start_time": "2022-02-11T14:28:26.191Z"
   },
   {
    "duration": 110,
    "start_time": "2022-02-11T14:29:17.722Z"
   },
   {
    "duration": 17,
    "start_time": "2022-02-11T14:29:20.764Z"
   },
   {
    "duration": 7,
    "start_time": "2022-02-11T14:29:21.505Z"
   },
   {
    "duration": 296,
    "start_time": "2022-02-11T14:29:24.743Z"
   },
   {
    "duration": 327,
    "start_time": "2022-02-11T14:31:28.033Z"
   },
   {
    "duration": 38,
    "start_time": "2022-02-11T14:31:54.600Z"
   },
   {
    "duration": 17,
    "start_time": "2022-02-11T14:32:07.250Z"
   },
   {
    "duration": 431,
    "start_time": "2022-02-11T14:32:58.193Z"
   },
   {
    "duration": 23,
    "start_time": "2022-02-11T14:33:15.225Z"
   },
   {
    "duration": 13,
    "start_time": "2022-02-11T14:33:33.125Z"
   },
   {
    "duration": 6,
    "start_time": "2022-02-11T14:33:36.683Z"
   },
   {
    "duration": 6,
    "start_time": "2022-02-11T14:33:47.727Z"
   },
   {
    "duration": 6,
    "start_time": "2022-02-11T14:34:32.617Z"
   },
   {
    "duration": 7,
    "start_time": "2022-02-11T14:36:59.735Z"
   },
   {
    "duration": 8,
    "start_time": "2022-02-11T14:37:49.113Z"
   },
   {
    "duration": 15,
    "start_time": "2022-02-11T14:37:54.736Z"
   },
   {
    "duration": 11,
    "start_time": "2022-02-11T14:38:01.786Z"
   },
   {
    "duration": 104,
    "start_time": "2022-02-11T14:38:05.545Z"
   },
   {
    "duration": 16,
    "start_time": "2022-02-11T14:38:08.113Z"
   },
   {
    "duration": 9,
    "start_time": "2022-02-11T14:38:08.592Z"
   },
   {
    "duration": 13,
    "start_time": "2022-02-11T14:38:08.901Z"
   },
   {
    "duration": 6,
    "start_time": "2022-02-11T14:38:09.246Z"
   },
   {
    "duration": 12,
    "start_time": "2022-02-11T14:38:09.984Z"
   },
   {
    "duration": 5,
    "start_time": "2022-02-11T14:38:20.851Z"
   },
   {
    "duration": 16,
    "start_time": "2022-02-11T14:38:29.558Z"
   },
   {
    "duration": 4,
    "start_time": "2022-02-11T14:38:48.317Z"
   },
   {
    "duration": 8,
    "start_time": "2022-02-11T14:39:47.153Z"
   },
   {
    "duration": 5,
    "start_time": "2022-02-11T14:40:08.612Z"
   },
   {
    "duration": 6,
    "start_time": "2022-02-11T14:40:51.263Z"
   },
   {
    "duration": 9,
    "start_time": "2022-02-11T14:41:10.795Z"
   },
   {
    "duration": 6,
    "start_time": "2022-02-11T14:47:02.953Z"
   },
   {
    "duration": 116,
    "start_time": "2022-02-11T14:47:35.677Z"
   },
   {
    "duration": 109,
    "start_time": "2022-02-11T14:47:56.403Z"
   },
   {
    "duration": 15,
    "start_time": "2022-02-11T14:47:57.521Z"
   },
   {
    "duration": 9,
    "start_time": "2022-02-11T14:47:57.701Z"
   },
   {
    "duration": 13,
    "start_time": "2022-02-11T14:47:57.877Z"
   },
   {
    "duration": 6,
    "start_time": "2022-02-11T14:47:58.073Z"
   },
   {
    "duration": 8,
    "start_time": "2022-02-11T14:47:58.372Z"
   },
   {
    "duration": 9,
    "start_time": "2022-02-11T14:47:58.644Z"
   },
   {
    "duration": 6,
    "start_time": "2022-02-11T14:48:00.053Z"
   },
   {
    "duration": 69,
    "start_time": "2022-02-11T14:48:44.320Z"
   },
   {
    "duration": 45,
    "start_time": "2022-02-11T14:49:41.876Z"
   },
   {
    "duration": 6,
    "start_time": "2022-02-11T14:49:48.736Z"
   },
   {
    "duration": 6,
    "start_time": "2022-02-11T14:49:55.531Z"
   },
   {
    "duration": 46,
    "start_time": "2022-02-11T14:50:05.902Z"
   },
   {
    "duration": 18,
    "start_time": "2022-02-11T14:52:18.322Z"
   },
   {
    "duration": 12,
    "start_time": "2022-02-11T14:52:25.453Z"
   },
   {
    "duration": 7,
    "start_time": "2022-02-11T15:10:18.752Z"
   },
   {
    "duration": 14,
    "start_time": "2022-02-11T15:10:23.180Z"
   },
   {
    "duration": 10,
    "start_time": "2022-02-11T15:13:32.429Z"
   },
   {
    "duration": 0,
    "start_time": "2022-02-11T15:14:15.876Z"
   },
   {
    "duration": -2,
    "start_time": "2022-02-11T15:14:35.747Z"
   },
   {
    "duration": 9,
    "start_time": "2022-02-11T15:14:39.487Z"
   },
   {
    "duration": 6,
    "start_time": "2022-02-11T15:14:40.230Z"
   },
   {
    "duration": 51,
    "start_time": "2022-02-11T15:15:03.243Z"
   },
   {
    "duration": 8,
    "start_time": "2022-02-11T15:15:07.784Z"
   },
   {
    "duration": 8,
    "start_time": "2022-02-11T15:15:08.060Z"
   },
   {
    "duration": 7,
    "start_time": "2022-02-11T15:15:18.491Z"
   },
   {
    "duration": 6,
    "start_time": "2022-02-11T15:15:26.626Z"
   },
   {
    "duration": 1,
    "start_time": "2022-02-11T15:15:26.633Z"
   },
   {
    "duration": 7,
    "start_time": "2022-02-11T15:16:44.828Z"
   },
   {
    "duration": 11,
    "start_time": "2022-02-11T15:16:56.675Z"
   },
   {
    "duration": 18,
    "start_time": "2022-02-11T15:17:10.175Z"
   },
   {
    "duration": 23,
    "start_time": "2022-02-11T15:18:13.225Z"
   },
   {
    "duration": 24,
    "start_time": "2022-02-11T15:18:38.212Z"
   },
   {
    "duration": 19,
    "start_time": "2022-02-11T15:19:26.119Z"
   },
   {
    "duration": 13,
    "start_time": "2022-02-11T15:19:32.193Z"
   },
   {
    "duration": 21,
    "start_time": "2022-02-11T15:19:56.305Z"
   },
   {
    "duration": 19,
    "start_time": "2022-02-11T15:20:02.135Z"
   },
   {
    "duration": 302,
    "start_time": "2022-02-11T15:20:30.724Z"
   },
   {
    "duration": 345,
    "start_time": "2022-02-11T15:21:40.130Z"
   },
   {
    "duration": 363,
    "start_time": "2022-02-11T15:22:04.314Z"
   },
   {
    "duration": 320,
    "start_time": "2022-02-11T15:22:39.308Z"
   },
   {
    "duration": 16,
    "start_time": "2022-02-11T15:22:48.138Z"
   },
   {
    "duration": 10,
    "start_time": "2022-02-11T15:23:05.148Z"
   },
   {
    "duration": 21,
    "start_time": "2022-02-11T15:23:23.594Z"
   },
   {
    "duration": 15,
    "start_time": "2022-02-11T15:23:31.809Z"
   },
   {
    "duration": 12,
    "start_time": "2022-02-11T15:23:35.720Z"
   },
   {
    "duration": 12,
    "start_time": "2022-02-11T15:23:41.217Z"
   },
   {
    "duration": 325,
    "start_time": "2022-02-11T15:23:52.146Z"
   },
   {
    "duration": 11,
    "start_time": "2022-02-11T15:23:55.997Z"
   },
   {
    "duration": 18,
    "start_time": "2022-02-11T15:24:13.971Z"
   },
   {
    "duration": 16,
    "start_time": "2022-02-11T15:24:24.070Z"
   },
   {
    "duration": 12,
    "start_time": "2022-02-11T15:24:45.627Z"
   },
   {
    "duration": 12,
    "start_time": "2022-02-11T15:24:54.750Z"
   },
   {
    "duration": 14,
    "start_time": "2022-02-11T15:25:50.549Z"
   },
   {
    "duration": 303,
    "start_time": "2022-02-11T15:27:41.717Z"
   },
   {
    "duration": 308,
    "start_time": "2022-02-11T15:27:53.423Z"
   },
   {
    "duration": 15,
    "start_time": "2022-02-11T15:28:29.153Z"
   },
   {
    "duration": 20,
    "start_time": "2022-02-11T15:28:54.119Z"
   },
   {
    "duration": 17,
    "start_time": "2022-02-11T15:28:59.606Z"
   },
   {
    "duration": 16,
    "start_time": "2022-02-11T15:29:22.901Z"
   },
   {
    "duration": 280,
    "start_time": "2022-02-11T15:31:36.396Z"
   },
   {
    "duration": 16,
    "start_time": "2022-02-11T15:31:41.029Z"
   },
   {
    "duration": 11,
    "start_time": "2022-02-11T15:31:41.801Z"
   },
   {
    "duration": 14,
    "start_time": "2022-02-11T15:31:46.367Z"
   },
   {
    "duration": 8,
    "start_time": "2022-02-11T15:32:18.491Z"
   },
   {
    "duration": 13,
    "start_time": "2022-02-11T15:32:20.587Z"
   },
   {
    "duration": 9,
    "start_time": "2022-02-11T15:33:11.096Z"
   },
   {
    "duration": 15,
    "start_time": "2022-02-11T15:33:16.164Z"
   },
   {
    "duration": 120,
    "start_time": "2022-02-11T15:33:45.758Z"
   },
   {
    "duration": 15,
    "start_time": "2022-02-11T15:33:47.427Z"
   },
   {
    "duration": 9,
    "start_time": "2022-02-11T15:33:47.671Z"
   },
   {
    "duration": 16,
    "start_time": "2022-02-11T15:33:47.956Z"
   },
   {
    "duration": 7,
    "start_time": "2022-02-11T15:33:48.279Z"
   },
   {
    "duration": 10,
    "start_time": "2022-02-11T15:33:48.523Z"
   },
   {
    "duration": 11,
    "start_time": "2022-02-11T15:33:48.826Z"
   },
   {
    "duration": 10,
    "start_time": "2022-02-11T15:33:49.150Z"
   },
   {
    "duration": 24,
    "start_time": "2022-02-11T15:33:49.513Z"
   },
   {
    "duration": 11,
    "start_time": "2022-02-11T15:33:49.930Z"
   },
   {
    "duration": 15,
    "start_time": "2022-02-11T15:33:50.340Z"
   },
   {
    "duration": 8,
    "start_time": "2022-02-11T15:34:05.100Z"
   },
   {
    "duration": 122,
    "start_time": "2022-02-11T15:34:13.237Z"
   },
   {
    "duration": 19,
    "start_time": "2022-02-11T15:34:14.029Z"
   },
   {
    "duration": 9,
    "start_time": "2022-02-11T15:34:14.219Z"
   },
   {
    "duration": 14,
    "start_time": "2022-02-11T15:34:14.488Z"
   },
   {
    "duration": 6,
    "start_time": "2022-02-11T15:34:14.802Z"
   },
   {
    "duration": 8,
    "start_time": "2022-02-11T15:34:14.994Z"
   },
   {
    "duration": 9,
    "start_time": "2022-02-11T15:34:15.250Z"
   },
   {
    "duration": 9,
    "start_time": "2022-02-11T15:34:15.528Z"
   },
   {
    "duration": 14,
    "start_time": "2022-02-11T15:34:15.842Z"
   },
   {
    "duration": 17,
    "start_time": "2022-02-11T15:34:42.022Z"
   },
   {
    "duration": 12,
    "start_time": "2022-02-11T15:34:43.301Z"
   },
   {
    "duration": 22,
    "start_time": "2022-02-11T15:34:44.077Z"
   },
   {
    "duration": 23,
    "start_time": "2022-02-11T15:34:50.578Z"
   },
   {
    "duration": 154,
    "start_time": "2022-02-11T15:35:02.354Z"
   },
   {
    "duration": 24,
    "start_time": "2022-02-11T15:35:03.102Z"
   },
   {
    "duration": 11,
    "start_time": "2022-02-11T15:35:03.236Z"
   },
   {
    "duration": 15,
    "start_time": "2022-02-11T15:35:03.385Z"
   },
   {
    "duration": 6,
    "start_time": "2022-02-11T15:35:03.526Z"
   },
   {
    "duration": 7,
    "start_time": "2022-02-11T15:35:03.873Z"
   },
   {
    "duration": 13,
    "start_time": "2022-02-11T15:35:04.142Z"
   },
   {
    "duration": 8,
    "start_time": "2022-02-11T15:35:04.533Z"
   },
   {
    "duration": 14,
    "start_time": "2022-02-11T15:35:05.947Z"
   },
   {
    "duration": 16,
    "start_time": "2022-02-11T15:35:06.672Z"
   },
   {
    "duration": 15,
    "start_time": "2022-02-11T15:35:07.081Z"
   },
   {
    "duration": 14,
    "start_time": "2022-02-11T15:35:30.899Z"
   },
   {
    "duration": 15,
    "start_time": "2022-02-11T15:35:32.926Z"
   },
   {
    "duration": 8,
    "start_time": "2022-02-11T15:36:19.561Z"
   },
   {
    "duration": 7,
    "start_time": "2022-02-11T15:36:20.124Z"
   },
   {
    "duration": 13,
    "start_time": "2022-02-11T15:36:20.405Z"
   },
   {
    "duration": 15,
    "start_time": "2022-02-11T15:36:21.033Z"
   },
   {
    "duration": 9,
    "start_time": "2022-02-11T15:36:25.918Z"
   },
   {
    "duration": 14,
    "start_time": "2022-02-11T15:36:26.936Z"
   },
   {
    "duration": 13,
    "start_time": "2022-02-11T15:36:37.142Z"
   },
   {
    "duration": 9,
    "start_time": "2022-02-11T15:36:37.368Z"
   },
   {
    "duration": 14,
    "start_time": "2022-02-11T15:36:37.573Z"
   },
   {
    "duration": 9,
    "start_time": "2022-02-11T15:53:04.288Z"
   },
   {
    "duration": 8,
    "start_time": "2022-02-11T15:53:15.495Z"
   },
   {
    "duration": 19,
    "start_time": "2022-02-11T15:53:25.739Z"
   },
   {
    "duration": 18,
    "start_time": "2022-02-11T15:53:37.522Z"
   },
   {
    "duration": 21,
    "start_time": "2022-02-11T15:54:37.381Z"
   },
   {
    "duration": 20,
    "start_time": "2022-02-11T15:54:53.076Z"
   },
   {
    "duration": 892,
    "start_time": "2022-02-13T09:41:34.332Z"
   },
   {
    "duration": 16,
    "start_time": "2022-02-13T09:41:37.109Z"
   },
   {
    "duration": 7,
    "start_time": "2022-02-13T09:41:37.584Z"
   },
   {
    "duration": 16,
    "start_time": "2022-02-13T09:41:39.975Z"
   },
   {
    "duration": 6,
    "start_time": "2022-02-13T09:41:40.339Z"
   },
   {
    "duration": 8,
    "start_time": "2022-02-13T09:41:40.630Z"
   },
   {
    "duration": 9,
    "start_time": "2022-02-13T09:41:40.940Z"
   },
   {
    "duration": 15,
    "start_time": "2022-02-13T09:41:41.300Z"
   },
   {
    "duration": 8,
    "start_time": "2022-02-13T09:41:41.670Z"
   },
   {
    "duration": 391,
    "start_time": "2022-02-13T09:41:42.007Z"
   },
   {
    "duration": 65,
    "start_time": "2022-02-13T09:41:42.336Z"
   },
   {
    "duration": 16,
    "start_time": "2022-02-13T09:41:52.567Z"
   },
   {
    "duration": 11,
    "start_time": "2022-02-13T09:41:53.646Z"
   },
   {
    "duration": 15,
    "start_time": "2022-02-13T09:41:54.608Z"
   },
   {
    "duration": 153,
    "start_time": "2022-02-13T09:45:18.348Z"
   },
   {
    "duration": 23,
    "start_time": "2022-02-13T09:45:20.305Z"
   },
   {
    "duration": 8,
    "start_time": "2022-02-13T09:45:20.789Z"
   },
   {
    "duration": 13,
    "start_time": "2022-02-13T09:45:21.220Z"
   },
   {
    "duration": 6,
    "start_time": "2022-02-13T09:45:21.581Z"
   },
   {
    "duration": 8,
    "start_time": "2022-02-13T09:45:21.953Z"
   },
   {
    "duration": 10,
    "start_time": "2022-02-13T09:45:22.351Z"
   },
   {
    "duration": 17,
    "start_time": "2022-02-13T09:45:22.759Z"
   },
   {
    "duration": 8,
    "start_time": "2022-02-13T09:45:23.211Z"
   },
   {
    "duration": 17,
    "start_time": "2022-02-13T09:45:23.643Z"
   },
   {
    "duration": 18,
    "start_time": "2022-02-13T09:45:25.130Z"
   },
   {
    "duration": 20,
    "start_time": "2022-02-13T09:45:26.723Z"
   },
   {
    "duration": 8,
    "start_time": "2022-02-13T09:47:24.799Z"
   },
   {
    "duration": 10,
    "start_time": "2022-02-13T09:47:56.574Z"
   },
   {
    "duration": 62,
    "start_time": "2022-02-13T09:49:51.883Z"
   },
   {
    "duration": 311,
    "start_time": "2022-02-13T09:51:00.058Z"
   },
   {
    "duration": 295,
    "start_time": "2022-02-13T09:51:05.780Z"
   },
   {
    "duration": 15,
    "start_time": "2022-02-13T09:51:41.854Z"
   },
   {
    "duration": 62,
    "start_time": "2022-02-13T09:52:30.533Z"
   },
   {
    "duration": 13,
    "start_time": "2022-02-13T09:55:12.533Z"
   },
   {
    "duration": 113,
    "start_time": "2022-02-13T09:55:15.146Z"
   },
   {
    "duration": 17,
    "start_time": "2022-02-13T09:55:15.447Z"
   },
   {
    "duration": 36,
    "start_time": "2022-02-13T09:57:31.099Z"
   },
   {
    "duration": 5,
    "start_time": "2022-02-13T09:59:55.012Z"
   },
   {
    "duration": 35,
    "start_time": "2022-02-13T10:00:08.031Z"
   },
   {
    "duration": 51,
    "start_time": "2022-02-13T10:00:12.021Z"
   },
   {
    "duration": 304,
    "start_time": "2022-02-13T10:01:29.119Z"
   },
   {
    "duration": 35,
    "start_time": "2022-02-13T10:03:15.594Z"
   },
   {
    "duration": 109,
    "start_time": "2022-02-13T10:03:45.869Z"
   },
   {
    "duration": 14,
    "start_time": "2022-02-13T10:03:46.178Z"
   },
   {
    "duration": 8,
    "start_time": "2022-02-13T10:03:47.044Z"
   },
   {
    "duration": 12,
    "start_time": "2022-02-13T10:03:47.267Z"
   },
   {
    "duration": 6,
    "start_time": "2022-02-13T10:03:47.487Z"
   },
   {
    "duration": 8,
    "start_time": "2022-02-13T10:03:47.766Z"
   },
   {
    "duration": 9,
    "start_time": "2022-02-13T10:03:48.033Z"
   },
   {
    "duration": 15,
    "start_time": "2022-02-13T10:03:48.274Z"
   },
   {
    "duration": 7,
    "start_time": "2022-02-13T10:03:48.585Z"
   },
   {
    "duration": 16,
    "start_time": "2022-02-13T10:03:48.872Z"
   },
   {
    "duration": 13,
    "start_time": "2022-02-13T10:03:49.229Z"
   },
   {
    "duration": 37,
    "start_time": "2022-02-13T10:03:49.629Z"
   },
   {
    "duration": 13,
    "start_time": "2022-02-13T10:03:50.151Z"
   },
   {
    "duration": 38,
    "start_time": "2022-02-13T10:03:51.317Z"
   },
   {
    "duration": 275,
    "start_time": "2022-02-13T10:07:51.788Z"
   },
   {
    "duration": 49,
    "start_time": "2022-02-13T10:08:02.293Z"
   },
   {
    "duration": 40,
    "start_time": "2022-02-13T10:08:18.975Z"
   },
   {
    "duration": 41,
    "start_time": "2022-02-13T10:09:28.319Z"
   },
   {
    "duration": 305,
    "start_time": "2022-02-13T10:10:30.685Z"
   },
   {
    "duration": 314,
    "start_time": "2022-02-13T10:11:31.592Z"
   },
   {
    "duration": 37,
    "start_time": "2022-02-13T10:11:51.579Z"
   },
   {
    "duration": 98,
    "start_time": "2022-02-13T10:14:42.537Z"
   },
   {
    "duration": 55,
    "start_time": "2022-02-13T10:14:55.008Z"
   },
   {
    "duration": 70,
    "start_time": "2022-02-13T10:15:43.114Z"
   },
   {
    "duration": 55,
    "start_time": "2022-02-13T10:15:48.587Z"
   },
   {
    "duration": 50,
    "start_time": "2022-02-13T10:15:58.926Z"
   },
   {
    "duration": 56,
    "start_time": "2022-02-13T10:16:33.197Z"
   },
   {
    "duration": 18,
    "start_time": "2022-02-13T10:21:42.222Z"
   },
   {
    "duration": 140,
    "start_time": "2022-02-13T10:21:44.797Z"
   },
   {
    "duration": 15,
    "start_time": "2022-02-13T10:21:45.160Z"
   },
   {
    "duration": 7,
    "start_time": "2022-02-13T10:21:46.466Z"
   },
   {
    "duration": 13,
    "start_time": "2022-02-13T10:21:46.737Z"
   },
   {
    "duration": 6,
    "start_time": "2022-02-13T10:21:47.015Z"
   },
   {
    "duration": 11,
    "start_time": "2022-02-13T10:21:47.301Z"
   },
   {
    "duration": 14,
    "start_time": "2022-02-13T10:21:47.595Z"
   },
   {
    "duration": 22,
    "start_time": "2022-02-13T10:21:47.943Z"
   },
   {
    "duration": 10,
    "start_time": "2022-02-13T10:21:48.291Z"
   },
   {
    "duration": 14,
    "start_time": "2022-02-13T10:21:48.806Z"
   },
   {
    "duration": 13,
    "start_time": "2022-02-13T10:21:50.370Z"
   },
   {
    "duration": 35,
    "start_time": "2022-02-13T10:21:50.733Z"
   },
   {
    "duration": 15,
    "start_time": "2022-02-13T10:21:51.404Z"
   },
   {
    "duration": 2139,
    "start_time": "2022-02-13T10:21:55.318Z"
   },
   {
    "duration": 69,
    "start_time": "2022-02-13T10:22:14.009Z"
   },
   {
    "duration": 55,
    "start_time": "2022-02-13T10:23:21.062Z"
   },
   {
    "duration": 58,
    "start_time": "2022-02-13T10:23:32.262Z"
   },
   {
    "duration": 58,
    "start_time": "2022-02-13T10:23:38.048Z"
   },
   {
    "duration": 88,
    "start_time": "2022-02-13T10:23:52.993Z"
   },
   {
    "duration": 52,
    "start_time": "2022-02-13T10:24:03.298Z"
   },
   {
    "duration": 62,
    "start_time": "2022-02-13T10:24:56.975Z"
   },
   {
    "duration": 63,
    "start_time": "2022-02-13T10:25:23.772Z"
   },
   {
    "duration": 53,
    "start_time": "2022-02-13T10:25:34.265Z"
   },
   {
    "duration": 79,
    "start_time": "2022-02-13T10:25:46.221Z"
   },
   {
    "duration": 80,
    "start_time": "2022-02-13T10:25:51.115Z"
   },
   {
    "duration": 8,
    "start_time": "2022-02-13T10:26:12.924Z"
   },
   {
    "duration": 54,
    "start_time": "2022-02-13T10:26:16.973Z"
   },
   {
    "duration": 52,
    "start_time": "2022-02-13T10:26:41.918Z"
   },
   {
    "duration": 109,
    "start_time": "2022-02-13T10:26:49.722Z"
   },
   {
    "duration": 17,
    "start_time": "2022-02-13T10:26:49.889Z"
   },
   {
    "duration": 6,
    "start_time": "2022-02-13T10:26:50.485Z"
   },
   {
    "duration": 8,
    "start_time": "2022-02-13T10:26:50.662Z"
   },
   {
    "duration": 15,
    "start_time": "2022-02-13T10:26:50.855Z"
   },
   {
    "duration": 7,
    "start_time": "2022-02-13T10:26:51.030Z"
   },
   {
    "duration": 9,
    "start_time": "2022-02-13T10:26:51.206Z"
   },
   {
    "duration": 9,
    "start_time": "2022-02-13T10:26:51.406Z"
   },
   {
    "duration": 16,
    "start_time": "2022-02-13T10:26:51.605Z"
   },
   {
    "duration": 8,
    "start_time": "2022-02-13T10:26:51.814Z"
   },
   {
    "duration": 14,
    "start_time": "2022-02-13T10:26:52.054Z"
   },
   {
    "duration": 14,
    "start_time": "2022-02-13T10:26:52.396Z"
   },
   {
    "duration": 36,
    "start_time": "2022-02-13T10:26:52.820Z"
   },
   {
    "duration": 14,
    "start_time": "2022-02-13T10:26:53.419Z"
   },
   {
    "duration": 70,
    "start_time": "2022-02-13T10:26:54.616Z"
   },
   {
    "duration": 158,
    "start_time": "2022-02-13T10:28:52.867Z"
   },
   {
    "duration": 16,
    "start_time": "2022-02-13T10:28:53.412Z"
   },
   {
    "duration": 288,
    "start_time": "2022-02-13T10:28:54.474Z"
   },
   {
    "duration": 312,
    "start_time": "2022-02-13T10:30:19.755Z"
   },
   {
    "duration": 108,
    "start_time": "2022-02-13T10:30:23.737Z"
   },
   {
    "duration": 15,
    "start_time": "2022-02-13T10:30:23.848Z"
   },
   {
    "duration": 5,
    "start_time": "2022-02-13T10:30:24.063Z"
   },
   {
    "duration": 6,
    "start_time": "2022-02-13T10:30:24.653Z"
   },
   {
    "duration": 14,
    "start_time": "2022-02-13T10:30:24.995Z"
   },
   {
    "duration": 7,
    "start_time": "2022-02-13T10:30:25.350Z"
   },
   {
    "duration": 10,
    "start_time": "2022-02-13T10:30:25.683Z"
   },
   {
    "duration": 13,
    "start_time": "2022-02-13T10:30:26.012Z"
   },
   {
    "duration": 20,
    "start_time": "2022-02-13T10:30:26.391Z"
   },
   {
    "duration": 8,
    "start_time": "2022-02-13T10:30:26.748Z"
   },
   {
    "duration": 291,
    "start_time": "2022-02-13T10:30:27.391Z"
   },
   {
    "duration": 34,
    "start_time": "2022-02-13T10:30:53.565Z"
   },
   {
    "duration": 23,
    "start_time": "2022-02-13T10:31:05.714Z"
   },
   {
    "duration": 8,
    "start_time": "2022-02-13T10:31:30.271Z"
   },
   {
    "duration": 110,
    "start_time": "2022-02-13T10:31:33.007Z"
   },
   {
    "duration": 15,
    "start_time": "2022-02-13T10:31:33.224Z"
   },
   {
    "duration": 5,
    "start_time": "2022-02-13T10:31:34.122Z"
   },
   {
    "duration": 7,
    "start_time": "2022-02-13T10:31:34.337Z"
   },
   {
    "duration": 16,
    "start_time": "2022-02-13T10:31:34.534Z"
   },
   {
    "duration": 8,
    "start_time": "2022-02-13T10:31:34.785Z"
   },
   {
    "duration": 10,
    "start_time": "2022-02-13T10:31:35.086Z"
   },
   {
    "duration": 12,
    "start_time": "2022-02-13T10:31:35.421Z"
   },
   {
    "duration": 18,
    "start_time": "2022-02-13T10:31:35.855Z"
   },
   {
    "duration": 8,
    "start_time": "2022-02-13T10:31:38.807Z"
   },
   {
    "duration": 8,
    "start_time": "2022-02-13T10:31:39.173Z"
   },
   {
    "duration": 21,
    "start_time": "2022-02-13T10:31:42.354Z"
   },
   {
    "duration": 9,
    "start_time": "2022-02-13T10:32:13.238Z"
   },
   {
    "duration": 9,
    "start_time": "2022-02-13T10:32:26.174Z"
   },
   {
    "duration": 122,
    "start_time": "2022-02-13T10:33:00.573Z"
   },
   {
    "duration": 16,
    "start_time": "2022-02-13T10:33:00.804Z"
   },
   {
    "duration": 7,
    "start_time": "2022-02-13T10:33:01.981Z"
   },
   {
    "duration": 7,
    "start_time": "2022-02-13T10:33:02.293Z"
   },
   {
    "duration": 14,
    "start_time": "2022-02-13T10:33:02.572Z"
   },
   {
    "duration": 6,
    "start_time": "2022-02-13T10:33:02.843Z"
   },
   {
    "duration": 7,
    "start_time": "2022-02-13T10:33:03.168Z"
   },
   {
    "duration": 12,
    "start_time": "2022-02-13T10:33:03.507Z"
   },
   {
    "duration": 25,
    "start_time": "2022-02-13T10:33:03.836Z"
   },
   {
    "duration": 10,
    "start_time": "2022-02-13T10:33:04.070Z"
   },
   {
    "duration": 10,
    "start_time": "2022-02-13T10:33:04.372Z"
   },
   {
    "duration": 11,
    "start_time": "2022-02-13T10:33:04.849Z"
   },
   {
    "duration": 21,
    "start_time": "2022-02-13T10:33:05.355Z"
   },
   {
    "duration": 17,
    "start_time": "2022-02-13T10:33:06.030Z"
   },
   {
    "duration": 50,
    "start_time": "2022-02-13T10:33:06.676Z"
   },
   {
    "duration": 18,
    "start_time": "2022-02-13T10:33:08.023Z"
   },
   {
    "duration": 66,
    "start_time": "2022-02-13T10:33:15.121Z"
   },
   {
    "duration": 13,
    "start_time": "2022-02-13T10:53:27.776Z"
   },
   {
    "duration": 4,
    "start_time": "2022-02-13T10:53:54.416Z"
   },
   {
    "duration": 10,
    "start_time": "2022-02-13T10:54:08.205Z"
   },
   {
    "duration": 20,
    "start_time": "2022-02-13T10:55:36.501Z"
   },
   {
    "duration": 12,
    "start_time": "2022-02-13T10:55:41.021Z"
   },
   {
    "duration": 14,
    "start_time": "2022-02-13T10:58:34.589Z"
   },
   {
    "duration": 304,
    "start_time": "2022-02-13T10:58:48.162Z"
   },
   {
    "duration": 21,
    "start_time": "2022-02-13T10:58:52.457Z"
   },
   {
    "duration": 28,
    "start_time": "2022-02-13T10:59:03.937Z"
   },
   {
    "duration": 299,
    "start_time": "2022-02-13T10:59:20.700Z"
   },
   {
    "duration": 302,
    "start_time": "2022-02-13T10:59:25.695Z"
   },
   {
    "duration": 21,
    "start_time": "2022-02-13T10:59:35.102Z"
   },
   {
    "duration": 24,
    "start_time": "2022-02-13T10:59:56.496Z"
   },
   {
    "duration": 28,
    "start_time": "2022-02-13T11:00:27.980Z"
   },
   {
    "duration": 52,
    "start_time": "2022-02-13T11:01:06.662Z"
   },
   {
    "duration": 32,
    "start_time": "2022-02-13T11:01:28.174Z"
   },
   {
    "duration": 26,
    "start_time": "2022-02-13T11:02:15.987Z"
   },
   {
    "duration": 30,
    "start_time": "2022-02-13T11:02:22.270Z"
   },
   {
    "duration": 31,
    "start_time": "2022-02-13T11:02:44.299Z"
   },
   {
    "duration": 28,
    "start_time": "2022-02-13T11:03:27.336Z"
   },
   {
    "duration": 36,
    "start_time": "2022-02-13T11:03:42.330Z"
   },
   {
    "duration": 35,
    "start_time": "2022-02-13T11:04:19.848Z"
   },
   {
    "duration": -7,
    "start_time": "2022-02-13T11:04:38.587Z"
   },
   {
    "duration": 7065,
    "start_time": "2022-02-13T11:04:39.106Z"
   },
   {
    "duration": 17,
    "start_time": "2022-02-13T11:05:01.670Z"
   },
   {
    "duration": 22,
    "start_time": "2022-02-13T11:05:06.042Z"
   },
   {
    "duration": 17,
    "start_time": "2022-02-13T11:06:10.115Z"
   },
   {
    "duration": 13,
    "start_time": "2022-02-13T11:06:45.682Z"
   },
   {
    "duration": 8,
    "start_time": "2022-02-13T11:07:10.061Z"
   },
   {
    "duration": 14,
    "start_time": "2022-02-13T11:07:28.052Z"
   },
   {
    "duration": 32,
    "start_time": "2022-02-13T11:08:20.847Z"
   },
   {
    "duration": 70,
    "start_time": "2022-02-13T11:08:41.810Z"
   },
   {
    "duration": 11,
    "start_time": "2022-02-13T11:09:02.114Z"
   },
   {
    "duration": 72,
    "start_time": "2022-02-13T11:09:07.670Z"
   },
   {
    "duration": 12,
    "start_time": "2022-02-13T11:09:22.169Z"
   },
   {
    "duration": 11,
    "start_time": "2022-02-13T11:09:27.870Z"
   },
   {
    "duration": 11,
    "start_time": "2022-02-13T11:09:44.664Z"
   },
   {
    "duration": 55,
    "start_time": "2022-02-13T11:17:18.284Z"
   },
   {
    "duration": 293,
    "start_time": "2022-02-13T11:18:44.990Z"
   },
   {
    "duration": 301,
    "start_time": "2022-02-13T11:18:51.902Z"
   },
   {
    "duration": 59,
    "start_time": "2022-02-13T11:19:40.841Z"
   },
   {
    "duration": 60,
    "start_time": "2022-02-13T11:20:24.097Z"
   },
   {
    "duration": 109,
    "start_time": "2022-02-13T11:20:42.525Z"
   },
   {
    "duration": 16,
    "start_time": "2022-02-13T11:20:42.696Z"
   },
   {
    "duration": 5,
    "start_time": "2022-02-13T11:20:43.149Z"
   },
   {
    "duration": 8,
    "start_time": "2022-02-13T11:20:43.304Z"
   },
   {
    "duration": 14,
    "start_time": "2022-02-13T11:20:43.451Z"
   },
   {
    "duration": 7,
    "start_time": "2022-02-13T11:20:43.615Z"
   },
   {
    "duration": 8,
    "start_time": "2022-02-13T11:20:43.779Z"
   },
   {
    "duration": 9,
    "start_time": "2022-02-13T11:20:43.936Z"
   },
   {
    "duration": 18,
    "start_time": "2022-02-13T11:20:44.096Z"
   },
   {
    "duration": 7,
    "start_time": "2022-02-13T11:20:44.268Z"
   },
   {
    "duration": 8,
    "start_time": "2022-02-13T11:20:44.432Z"
   },
   {
    "duration": 9,
    "start_time": "2022-02-13T11:20:44.591Z"
   },
   {
    "duration": 15,
    "start_time": "2022-02-13T11:20:44.764Z"
   },
   {
    "duration": 13,
    "start_time": "2022-02-13T11:20:44.947Z"
   },
   {
    "duration": 38,
    "start_time": "2022-02-13T11:20:45.103Z"
   },
   {
    "duration": 13,
    "start_time": "2022-02-13T11:20:45.292Z"
   },
   {
    "duration": 321,
    "start_time": "2022-02-13T11:20:47.462Z"
   },
   {
    "duration": 2020,
    "start_time": "2022-02-13T11:20:57.027Z"
   },
   {
    "duration": 78,
    "start_time": "2022-02-13T11:21:06.375Z"
   },
   {
    "duration": 62,
    "start_time": "2022-02-13T11:21:30.949Z"
   },
   {
    "duration": 67,
    "start_time": "2022-02-13T11:21:50.112Z"
   },
   {
    "duration": 109,
    "start_time": "2022-02-13T11:22:38.744Z"
   },
   {
    "duration": 23,
    "start_time": "2022-02-13T11:22:38.884Z"
   },
   {
    "duration": 7,
    "start_time": "2022-02-13T11:22:39.368Z"
   },
   {
    "duration": 8,
    "start_time": "2022-02-13T11:22:39.540Z"
   },
   {
    "duration": 13,
    "start_time": "2022-02-13T11:22:39.712Z"
   },
   {
    "duration": 6,
    "start_time": "2022-02-13T11:22:39.898Z"
   },
   {
    "duration": 8,
    "start_time": "2022-02-13T11:22:40.060Z"
   },
   {
    "duration": 9,
    "start_time": "2022-02-13T11:22:40.256Z"
   },
   {
    "duration": 21,
    "start_time": "2022-02-13T11:22:40.436Z"
   },
   {
    "duration": 10,
    "start_time": "2022-02-13T11:22:40.632Z"
   },
   {
    "duration": 9,
    "start_time": "2022-02-13T11:22:40.824Z"
   },
   {
    "duration": 12,
    "start_time": "2022-02-13T11:22:41.025Z"
   },
   {
    "duration": 15,
    "start_time": "2022-02-13T11:22:41.232Z"
   },
   {
    "duration": 13,
    "start_time": "2022-02-13T11:22:41.472Z"
   },
   {
    "duration": 49,
    "start_time": "2022-02-13T11:22:41.720Z"
   },
   {
    "duration": 14,
    "start_time": "2022-02-13T11:22:41.899Z"
   },
   {
    "duration": 81,
    "start_time": "2022-02-13T11:22:42.558Z"
   },
   {
    "duration": 7,
    "start_time": "2022-02-13T11:24:01.717Z"
   },
   {
    "duration": 455,
    "start_time": "2022-02-13T11:24:36.362Z"
   },
   {
    "duration": 629,
    "start_time": "2022-02-13T11:24:53.181Z"
   },
   {
    "duration": 3157,
    "start_time": "2022-02-13T11:25:01.630Z"
   },
   {
    "duration": 488,
    "start_time": "2022-02-13T11:26:35.166Z"
   },
   {
    "duration": 1060,
    "start_time": "2022-02-13T11:26:49.798Z"
   },
   {
    "duration": 445,
    "start_time": "2022-02-13T11:26:54.776Z"
   },
   {
    "duration": 6825,
    "start_time": "2022-02-13T11:27:19.707Z"
   },
   {
    "duration": 856,
    "start_time": "2022-02-13T11:27:49.323Z"
   },
   {
    "duration": 569,
    "start_time": "2022-02-13T11:28:48.202Z"
   },
   {
    "duration": 787,
    "start_time": "2022-02-13T11:29:21.282Z"
   },
   {
    "duration": 307,
    "start_time": "2022-02-13T11:29:26.279Z"
   },
   {
    "duration": 362,
    "start_time": "2022-02-13T11:29:34.128Z"
   },
   {
    "duration": 618,
    "start_time": "2022-02-13T11:30:12.016Z"
   },
   {
    "duration": 480,
    "start_time": "2022-02-13T11:30:20.321Z"
   },
   {
    "duration": 362,
    "start_time": "2022-02-13T11:31:22.211Z"
   },
   {
    "duration": 437,
    "start_time": "2022-02-13T11:31:29.504Z"
   },
   {
    "duration": 375,
    "start_time": "2022-02-13T11:31:31.743Z"
   },
   {
    "duration": 715,
    "start_time": "2022-02-13T11:31:56.470Z"
   },
   {
    "duration": 718,
    "start_time": "2022-02-13T11:31:58.718Z"
   },
   {
    "duration": 1032,
    "start_time": "2022-02-13T11:32:04.198Z"
   },
   {
    "duration": 758,
    "start_time": "2022-02-13T11:32:26.339Z"
   },
   {
    "duration": 777,
    "start_time": "2022-02-13T11:32:32.958Z"
   },
   {
    "duration": 956,
    "start_time": "2022-02-13T11:33:05.988Z"
   },
   {
    "duration": 1407,
    "start_time": "2022-02-13T11:33:22.793Z"
   },
   {
    "duration": 768,
    "start_time": "2022-02-13T11:38:30.114Z"
   },
   {
    "duration": 1214,
    "start_time": "2022-02-13T11:38:37.538Z"
   },
   {
    "duration": 1238,
    "start_time": "2022-02-13T11:38:58.518Z"
   },
   {
    "duration": 1657,
    "start_time": "2022-02-13T11:39:03.416Z"
   },
   {
    "duration": 1209,
    "start_time": "2022-02-13T11:39:15.317Z"
   },
   {
    "duration": 1395,
    "start_time": "2022-02-13T11:39:18.571Z"
   },
   {
    "duration": 1656,
    "start_time": "2022-02-13T11:39:26.761Z"
   },
   {
    "duration": 1319,
    "start_time": "2022-02-13T11:39:36.440Z"
   },
   {
    "duration": 1560,
    "start_time": "2022-02-13T11:39:55.886Z"
   },
   {
    "duration": 1323,
    "start_time": "2022-02-13T11:40:03.566Z"
   },
   {
    "duration": 1505,
    "start_time": "2022-02-13T11:40:19.964Z"
   },
   {
    "duration": 1943,
    "start_time": "2022-02-13T11:40:48.621Z"
   },
   {
    "duration": 1900,
    "start_time": "2022-02-13T11:40:56.824Z"
   },
   {
    "duration": 1497,
    "start_time": "2022-02-13T11:41:07.962Z"
   },
   {
    "duration": 2025,
    "start_time": "2022-02-13T11:41:18.755Z"
   },
   {
    "duration": 2242,
    "start_time": "2022-02-13T11:41:25.030Z"
   },
   {
    "duration": 1510,
    "start_time": "2022-02-13T11:41:31.025Z"
   },
   {
    "duration": 1679,
    "start_time": "2022-02-13T11:41:36.669Z"
   },
   {
    "duration": 1544,
    "start_time": "2022-02-13T11:41:43.167Z"
   },
   {
    "duration": 1966,
    "start_time": "2022-02-13T11:42:08.916Z"
   },
   {
    "duration": 2093,
    "start_time": "2022-02-13T11:42:26.044Z"
   },
   {
    "duration": 2472,
    "start_time": "2022-02-13T11:42:36.308Z"
   },
   {
    "duration": 3624,
    "start_time": "2022-02-13T11:42:53.514Z"
   },
   {
    "duration": 2003,
    "start_time": "2022-02-13T11:43:09.070Z"
   },
   {
    "duration": 1736,
    "start_time": "2022-02-13T11:43:24.705Z"
   },
   {
    "duration": 1806,
    "start_time": "2022-02-13T11:43:28.165Z"
   },
   {
    "duration": 1988,
    "start_time": "2022-02-13T11:43:32.918Z"
   },
   {
    "duration": 2351,
    "start_time": "2022-02-13T11:43:37.910Z"
   },
   {
    "duration": 1995,
    "start_time": "2022-02-13T11:43:50.064Z"
   },
   {
    "duration": 6,
    "start_time": "2022-02-13T11:44:16.952Z"
   },
   {
    "duration": 2276,
    "start_time": "2022-02-13T11:44:31.220Z"
   },
   {
    "duration": 2008,
    "start_time": "2022-02-13T11:45:01.740Z"
   },
   {
    "duration": 2114,
    "start_time": "2022-02-13T11:45:08.221Z"
   },
   {
    "duration": 2116,
    "start_time": "2022-02-13T11:45:13.074Z"
   },
   {
    "duration": 1955,
    "start_time": "2022-02-13T11:45:17.927Z"
   },
   {
    "duration": 292,
    "start_time": "2022-02-16T16:10:03.263Z"
   },
   {
    "duration": 657,
    "start_time": "2022-02-16T16:10:08.887Z"
   },
   {
    "duration": 9,
    "start_time": "2022-02-16T16:10:09.546Z"
   },
   {
    "duration": 6,
    "start_time": "2022-02-16T16:10:10.355Z"
   },
   {
    "duration": 6,
    "start_time": "2022-02-16T16:10:10.581Z"
   },
   {
    "duration": 11,
    "start_time": "2022-02-16T16:10:10.960Z"
   },
   {
    "duration": 4,
    "start_time": "2022-02-16T16:10:11.209Z"
   },
   {
    "duration": 5,
    "start_time": "2022-02-16T16:10:11.412Z"
   },
   {
    "duration": 7,
    "start_time": "2022-02-16T16:10:11.641Z"
   },
   {
    "duration": 12,
    "start_time": "2022-02-16T16:10:11.845Z"
   },
   {
    "duration": 5,
    "start_time": "2022-02-16T16:10:12.081Z"
   },
   {
    "duration": 7,
    "start_time": "2022-02-16T16:10:12.296Z"
   },
   {
    "duration": 8,
    "start_time": "2022-02-16T16:10:12.537Z"
   },
   {
    "duration": 11,
    "start_time": "2022-02-16T16:10:12.770Z"
   },
   {
    "duration": 8,
    "start_time": "2022-02-16T16:10:13.022Z"
   },
   {
    "duration": 24,
    "start_time": "2022-02-16T16:10:13.270Z"
   },
   {
    "duration": 9,
    "start_time": "2022-02-16T16:10:13.493Z"
   },
   {
    "duration": 54,
    "start_time": "2022-02-16T16:10:14.073Z"
   },
   {
    "duration": 1306,
    "start_time": "2022-02-16T16:10:15.064Z"
   },
   {
    "duration": 302,
    "start_time": "2022-02-16T16:10:17.157Z"
   },
   {
    "duration": 339,
    "start_time": "2022-02-16T16:10:33.382Z"
   },
   {
    "duration": 539,
    "start_time": "2022-02-16T16:10:44.456Z"
   },
   {
    "duration": 567,
    "start_time": "2022-02-16T16:11:06.384Z"
   },
   {
    "duration": 5,
    "start_time": "2022-02-16T16:12:06.046Z"
   },
   {
    "duration": 6,
    "start_time": "2022-02-16T16:12:15.407Z"
   },
   {
    "duration": 6,
    "start_time": "2022-02-16T16:12:31.492Z"
   },
   {
    "duration": 491,
    "start_time": "2022-02-16T16:13:58.750Z"
   },
   {
    "duration": 517,
    "start_time": "2022-02-16T16:14:51.098Z"
   },
   {
    "duration": 583,
    "start_time": "2022-02-16T16:25:36.882Z"
   },
   {
    "duration": 546,
    "start_time": "2022-02-16T16:25:44.958Z"
   },
   {
    "duration": 5,
    "start_time": "2022-02-16T16:25:45.512Z"
   },
   {
    "duration": 512,
    "start_time": "2022-02-16T16:26:29.504Z"
   },
   {
    "duration": 527,
    "start_time": "2022-02-16T16:26:35.960Z"
   },
   {
    "duration": 590,
    "start_time": "2022-02-16T16:26:45.324Z"
   },
   {
    "duration": 573,
    "start_time": "2022-02-16T16:27:00.333Z"
   },
   {
    "duration": 11,
    "start_time": "2022-02-16T16:30:54.374Z"
   },
   {
    "duration": 516,
    "start_time": "2022-02-16T16:31:07.291Z"
   },
   {
    "duration": 88,
    "start_time": "2022-02-16T16:32:06.611Z"
   },
   {
    "duration": 11,
    "start_time": "2022-02-16T16:32:06.972Z"
   },
   {
    "duration": 4,
    "start_time": "2022-02-16T16:32:07.628Z"
   },
   {
    "duration": 5,
    "start_time": "2022-02-16T16:32:07.840Z"
   },
   {
    "duration": 12,
    "start_time": "2022-02-16T16:32:08.046Z"
   },
   {
    "duration": 5,
    "start_time": "2022-02-16T16:32:08.246Z"
   },
   {
    "duration": 6,
    "start_time": "2022-02-16T16:32:08.439Z"
   },
   {
    "duration": 7,
    "start_time": "2022-02-16T16:32:08.641Z"
   },
   {
    "duration": 12,
    "start_time": "2022-02-16T16:32:08.836Z"
   },
   {
    "duration": 5,
    "start_time": "2022-02-16T16:32:09.055Z"
   },
   {
    "duration": 6,
    "start_time": "2022-02-16T16:32:09.273Z"
   },
   {
    "duration": 7,
    "start_time": "2022-02-16T16:32:09.492Z"
   },
   {
    "duration": 11,
    "start_time": "2022-02-16T16:32:09.711Z"
   },
   {
    "duration": 10,
    "start_time": "2022-02-16T16:32:09.957Z"
   },
   {
    "duration": 24,
    "start_time": "2022-02-16T16:32:10.157Z"
   },
   {
    "duration": 11,
    "start_time": "2022-02-16T16:32:10.383Z"
   },
   {
    "duration": 56,
    "start_time": "2022-02-16T16:32:10.919Z"
   },
   {
    "duration": 1419,
    "start_time": "2022-02-16T16:32:11.750Z"
   },
   {
    "duration": 551,
    "start_time": "2022-02-16T16:32:13.171Z"
   },
   {
    "duration": 6,
    "start_time": "2022-02-16T16:32:32.110Z"
   },
   {
    "duration": 8,
    "start_time": "2022-02-16T16:32:47.765Z"
   },
   {
    "duration": 5,
    "start_time": "2022-02-16T16:32:54.542Z"
   },
   {
    "duration": 506,
    "start_time": "2022-02-16T16:32:55.857Z"
   },
   {
    "duration": 81,
    "start_time": "2022-02-16T16:33:03.241Z"
   },
   {
    "duration": 11,
    "start_time": "2022-02-16T16:33:03.429Z"
   },
   {
    "duration": 4,
    "start_time": "2022-02-16T16:33:04.031Z"
   },
   {
    "duration": 5,
    "start_time": "2022-02-16T16:33:04.234Z"
   },
   {
    "duration": 10,
    "start_time": "2022-02-16T16:33:04.429Z"
   },
   {
    "duration": 5,
    "start_time": "2022-02-16T16:33:04.622Z"
   },
   {
    "duration": 5,
    "start_time": "2022-02-16T16:33:04.818Z"
   },
   {
    "duration": 7,
    "start_time": "2022-02-16T16:33:05.020Z"
   },
   {
    "duration": 11,
    "start_time": "2022-02-16T16:33:05.224Z"
   },
   {
    "duration": 6,
    "start_time": "2022-02-16T16:33:05.420Z"
   },
   {
    "duration": 6,
    "start_time": "2022-02-16T16:33:05.629Z"
   },
   {
    "duration": 7,
    "start_time": "2022-02-16T16:33:05.838Z"
   },
   {
    "duration": 11,
    "start_time": "2022-02-16T16:33:06.041Z"
   },
   {
    "duration": 9,
    "start_time": "2022-02-16T16:33:06.244Z"
   },
   {
    "duration": 23,
    "start_time": "2022-02-16T16:33:06.462Z"
   },
   {
    "duration": 10,
    "start_time": "2022-02-16T16:33:06.672Z"
   },
   {
    "duration": 56,
    "start_time": "2022-02-16T16:33:07.120Z"
   },
   {
    "duration": 1329,
    "start_time": "2022-02-16T16:33:08.033Z"
   },
   {
    "duration": 521,
    "start_time": "2022-02-16T16:33:10.065Z"
   },
   {
    "duration": 5,
    "start_time": "2022-02-16T16:33:11.806Z"
   },
   {
    "duration": 7,
    "start_time": "2022-02-16T16:33:12.721Z"
   },
   {
    "duration": 592,
    "start_time": "2022-02-16T16:33:14.608Z"
   },
   {
    "duration": 509,
    "start_time": "2022-02-16T16:33:43.555Z"
   },
   {
    "duration": 519,
    "start_time": "2022-02-16T16:33:48.991Z"
   },
   {
    "duration": 6,
    "start_time": "2022-02-16T16:33:58.795Z"
   },
   {
    "duration": 516,
    "start_time": "2022-02-16T16:33:59.291Z"
   },
   {
    "duration": 92,
    "start_time": "2022-02-16T16:34:05.950Z"
   },
   {
    "duration": 13,
    "start_time": "2022-02-16T16:34:06.116Z"
   },
   {
    "duration": 5,
    "start_time": "2022-02-16T16:34:06.727Z"
   },
   {
    "duration": 6,
    "start_time": "2022-02-16T16:34:06.904Z"
   },
   {
    "duration": 11,
    "start_time": "2022-02-16T16:34:07.100Z"
   },
   {
    "duration": 6,
    "start_time": "2022-02-16T16:34:07.309Z"
   },
   {
    "duration": 10,
    "start_time": "2022-02-16T16:34:07.504Z"
   },
   {
    "duration": 7,
    "start_time": "2022-02-16T16:34:07.682Z"
   },
   {
    "duration": 12,
    "start_time": "2022-02-16T16:34:07.869Z"
   },
   {
    "duration": 7,
    "start_time": "2022-02-16T16:34:08.071Z"
   },
   {
    "duration": 7,
    "start_time": "2022-02-16T16:34:08.274Z"
   },
   {
    "duration": 8,
    "start_time": "2022-02-16T16:34:08.483Z"
   },
   {
    "duration": 12,
    "start_time": "2022-02-16T16:34:08.686Z"
   },
   {
    "duration": 12,
    "start_time": "2022-02-16T16:34:08.905Z"
   },
   {
    "duration": 32,
    "start_time": "2022-02-16T16:34:09.118Z"
   },
   {
    "duration": 14,
    "start_time": "2022-02-16T16:34:09.325Z"
   },
   {
    "duration": 60,
    "start_time": "2022-02-16T16:34:10.055Z"
   },
   {
    "duration": 1389,
    "start_time": "2022-02-16T16:34:11.180Z"
   },
   {
    "duration": 501,
    "start_time": "2022-02-16T16:34:13.228Z"
   },
   {
    "duration": 5,
    "start_time": "2022-02-16T16:34:15.415Z"
   },
   {
    "duration": 10,
    "start_time": "2022-02-16T16:34:16.396Z"
   },
   {
    "duration": 587,
    "start_time": "2022-02-16T16:34:17.085Z"
   },
   {
    "duration": 548,
    "start_time": "2022-02-16T16:34:25.236Z"
   },
   {
    "duration": 496,
    "start_time": "2022-02-16T16:34:48.848Z"
   },
   {
    "duration": 491,
    "start_time": "2022-02-16T16:35:01.847Z"
   },
   {
    "duration": 80,
    "start_time": "2022-02-16T16:35:10.756Z"
   },
   {
    "duration": 12,
    "start_time": "2022-02-16T16:35:10.940Z"
   },
   {
    "duration": 6,
    "start_time": "2022-02-16T16:35:11.609Z"
   },
   {
    "duration": 6,
    "start_time": "2022-02-16T16:35:11.778Z"
   },
   {
    "duration": 9,
    "start_time": "2022-02-16T16:35:11.979Z"
   },
   {
    "duration": 5,
    "start_time": "2022-02-16T16:35:12.174Z"
   },
   {
    "duration": 5,
    "start_time": "2022-02-16T16:35:12.368Z"
   },
   {
    "duration": 7,
    "start_time": "2022-02-16T16:35:12.552Z"
   },
   {
    "duration": 12,
    "start_time": "2022-02-16T16:35:12.737Z"
   },
   {
    "duration": 6,
    "start_time": "2022-02-16T16:35:12.920Z"
   },
   {
    "duration": 6,
    "start_time": "2022-02-16T16:35:13.106Z"
   },
   {
    "duration": 7,
    "start_time": "2022-02-16T16:35:13.291Z"
   },
   {
    "duration": 11,
    "start_time": "2022-02-16T16:35:13.488Z"
   },
   {
    "duration": 10,
    "start_time": "2022-02-16T16:35:13.680Z"
   },
   {
    "duration": 24,
    "start_time": "2022-02-16T16:35:13.900Z"
   },
   {
    "duration": 11,
    "start_time": "2022-02-16T16:35:14.131Z"
   },
   {
    "duration": 59,
    "start_time": "2022-02-16T16:35:14.624Z"
   },
   {
    "duration": 1338,
    "start_time": "2022-02-16T16:35:15.503Z"
   },
   {
    "duration": 496,
    "start_time": "2022-02-16T16:35:17.091Z"
   },
   {
    "duration": 10,
    "start_time": "2022-02-16T16:35:23.578Z"
   },
   {
    "duration": 665,
    "start_time": "2022-02-16T16:35:25.106Z"
   },
   {
    "duration": 570,
    "start_time": "2022-02-16T16:36:02.138Z"
   },
   {
    "duration": 83,
    "start_time": "2022-02-16T16:37:46.737Z"
   },
   {
    "duration": 82,
    "start_time": "2022-02-16T16:38:06.624Z"
   },
   {
    "duration": 11,
    "start_time": "2022-02-16T16:38:06.825Z"
   },
   {
    "duration": 6,
    "start_time": "2022-02-16T16:38:07.453Z"
   },
   {
    "duration": 6,
    "start_time": "2022-02-16T16:38:07.646Z"
   },
   {
    "duration": 10,
    "start_time": "2022-02-16T16:38:07.819Z"
   },
   {
    "duration": 6,
    "start_time": "2022-02-16T16:38:08.009Z"
   },
   {
    "duration": 5,
    "start_time": "2022-02-16T16:38:08.204Z"
   },
   {
    "duration": 7,
    "start_time": "2022-02-16T16:38:08.418Z"
   },
   {
    "duration": 12,
    "start_time": "2022-02-16T16:38:08.622Z"
   },
   {
    "duration": 5,
    "start_time": "2022-02-16T16:38:08.804Z"
   },
   {
    "duration": 5,
    "start_time": "2022-02-16T16:38:08.998Z"
   },
   {
    "duration": 8,
    "start_time": "2022-02-16T16:38:09.205Z"
   },
   {
    "duration": 10,
    "start_time": "2022-02-16T16:38:09.435Z"
   },
   {
    "duration": 8,
    "start_time": "2022-02-16T16:38:09.651Z"
   },
   {
    "duration": 23,
    "start_time": "2022-02-16T16:38:09.853Z"
   },
   {
    "duration": 12,
    "start_time": "2022-02-16T16:38:10.102Z"
   },
   {
    "duration": 55,
    "start_time": "2022-02-16T16:38:11.183Z"
   },
   {
    "duration": 1274,
    "start_time": "2022-02-16T16:38:12.126Z"
   },
   {
    "duration": 574,
    "start_time": "2022-02-16T16:38:15.922Z"
   },
   {
    "duration": 5,
    "start_time": "2022-02-16T16:38:18.809Z"
   },
   {
    "duration": 6,
    "start_time": "2022-02-16T16:38:22.280Z"
   },
   {
    "duration": 27,
    "start_time": "2022-02-16T16:38:36.831Z"
   },
   {
    "duration": 523,
    "start_time": "2022-02-16T16:38:59.662Z"
   },
   {
    "duration": 7,
    "start_time": "2022-02-16T16:39:43.846Z"
   },
   {
    "duration": 29,
    "start_time": "2022-02-16T16:39:44.575Z"
   },
   {
    "duration": 7,
    "start_time": "2022-02-16T16:40:17.768Z"
   },
   {
    "duration": 39,
    "start_time": "2022-02-16T16:40:18.658Z"
   },
   {
    "duration": 7,
    "start_time": "2022-02-16T16:41:16.061Z"
   },
   {
    "duration": 25,
    "start_time": "2022-02-16T16:41:16.666Z"
   },
   {
    "duration": 5800,
    "start_time": "2022-02-16T16:42:14.246Z"
   },
   {
    "duration": 9,
    "start_time": "2022-02-16T16:42:33.437Z"
   },
   {
    "duration": 8,
    "start_time": "2022-02-16T16:42:43.704Z"
   },
   {
    "duration": 9,
    "start_time": "2022-02-16T16:42:52.660Z"
   },
   {
    "duration": 920,
    "start_time": "2022-02-16T16:43:20.322Z"
   },
   {
    "duration": 10,
    "start_time": "2022-02-16T16:46:26.333Z"
   },
   {
    "duration": 19,
    "start_time": "2022-02-16T16:46:39.106Z"
   },
   {
    "duration": 83,
    "start_time": "2022-02-16T16:47:26.331Z"
   },
   {
    "duration": 10,
    "start_time": "2022-02-16T16:47:26.531Z"
   },
   {
    "duration": 4,
    "start_time": "2022-02-16T16:47:27.061Z"
   },
   {
    "duration": 5,
    "start_time": "2022-02-16T16:47:27.256Z"
   },
   {
    "duration": 9,
    "start_time": "2022-02-16T16:47:27.437Z"
   },
   {
    "duration": 5,
    "start_time": "2022-02-16T16:47:27.617Z"
   },
   {
    "duration": 6,
    "start_time": "2022-02-16T16:47:27.778Z"
   },
   {
    "duration": 7,
    "start_time": "2022-02-16T16:47:27.986Z"
   },
   {
    "duration": 11,
    "start_time": "2022-02-16T16:47:28.126Z"
   },
   {
    "duration": 5,
    "start_time": "2022-02-16T16:47:28.322Z"
   },
   {
    "duration": 6,
    "start_time": "2022-02-16T16:47:28.505Z"
   },
   {
    "duration": 7,
    "start_time": "2022-02-16T16:47:28.864Z"
   },
   {
    "duration": 11,
    "start_time": "2022-02-16T16:47:29.033Z"
   },
   {
    "duration": 9,
    "start_time": "2022-02-16T16:47:29.224Z"
   },
   {
    "duration": 22,
    "start_time": "2022-02-16T16:47:29.418Z"
   },
   {
    "duration": 9,
    "start_time": "2022-02-16T16:47:29.618Z"
   },
   {
    "duration": 54,
    "start_time": "2022-02-16T16:47:31.074Z"
   },
   {
    "duration": 1320,
    "start_time": "2022-02-16T16:47:31.897Z"
   },
   {
    "duration": 508,
    "start_time": "2022-02-16T16:47:33.219Z"
   },
   {
    "duration": 5,
    "start_time": "2022-02-16T16:47:35.083Z"
   },
   {
    "duration": 242,
    "start_time": "2022-02-16T16:49:37.648Z"
   },
   {
    "duration": 21,
    "start_time": "2022-02-16T16:49:46.286Z"
   },
   {
    "duration": 78,
    "start_time": "2022-02-16T16:50:19.700Z"
   },
   {
    "duration": 80,
    "start_time": "2022-02-16T16:52:02.030Z"
   },
   {
    "duration": 76,
    "start_time": "2022-02-16T16:52:27.991Z"
   },
   {
    "duration": 7,
    "start_time": "2022-02-16T16:52:36.002Z"
   },
   {
    "duration": 498,
    "start_time": "2022-02-16T16:52:50.097Z"
   },
   {
    "duration": 495,
    "start_time": "2022-02-16T16:52:57.006Z"
   },
   {
    "duration": 258,
    "start_time": "2022-02-16T16:53:10.538Z"
   },
   {
    "duration": 207,
    "start_time": "2022-02-16T16:53:31.437Z"
   },
   {
    "duration": 220,
    "start_time": "2022-02-16T16:53:35.225Z"
   },
   {
    "duration": 514,
    "start_time": "2022-02-16T16:53:40.931Z"
   },
   {
    "duration": 494,
    "start_time": "2022-02-16T16:53:57.533Z"
   },
   {
    "duration": 580,
    "start_time": "2022-02-16T16:54:05.057Z"
   },
   {
    "duration": 81,
    "start_time": "2022-02-16T16:54:26.305Z"
   },
   {
    "duration": 11,
    "start_time": "2022-02-16T16:54:26.478Z"
   },
   {
    "duration": 4,
    "start_time": "2022-02-16T16:54:27.007Z"
   },
   {
    "duration": 5,
    "start_time": "2022-02-16T16:54:27.171Z"
   },
   {
    "duration": 9,
    "start_time": "2022-02-16T16:54:27.347Z"
   },
   {
    "duration": 4,
    "start_time": "2022-02-16T16:54:27.509Z"
   },
   {
    "duration": 6,
    "start_time": "2022-02-16T16:54:27.696Z"
   },
   {
    "duration": 6,
    "start_time": "2022-02-16T16:54:27.889Z"
   },
   {
    "duration": 13,
    "start_time": "2022-02-16T16:54:28.072Z"
   },
   {
    "duration": 5,
    "start_time": "2022-02-16T16:54:28.257Z"
   },
   {
    "duration": 7,
    "start_time": "2022-02-16T16:54:28.458Z"
   },
   {
    "duration": 7,
    "start_time": "2022-02-16T16:54:28.637Z"
   },
   {
    "duration": 10,
    "start_time": "2022-02-16T16:54:28.831Z"
   },
   {
    "duration": 9,
    "start_time": "2022-02-16T16:54:29.021Z"
   },
   {
    "duration": 22,
    "start_time": "2022-02-16T16:54:29.284Z"
   },
   {
    "duration": 10,
    "start_time": "2022-02-16T16:54:29.519Z"
   },
   {
    "duration": 58,
    "start_time": "2022-02-16T16:54:30.033Z"
   },
   {
    "duration": 1242,
    "start_time": "2022-02-16T16:54:30.705Z"
   },
   {
    "duration": 522,
    "start_time": "2022-02-16T16:54:31.949Z"
   },
   {
    "duration": 5,
    "start_time": "2022-02-16T16:54:36.809Z"
   },
   {
    "duration": 300,
    "start_time": "2022-02-16T16:54:37.529Z"
   },
   {
    "duration": 217,
    "start_time": "2022-02-16T16:55:18.377Z"
   },
   {
    "duration": 194,
    "start_time": "2022-02-16T16:55:38.186Z"
   },
   {
    "duration": 203,
    "start_time": "2022-02-16T16:55:44.482Z"
   },
   {
    "duration": 198,
    "start_time": "2022-02-16T16:55:48.670Z"
   },
   {
    "duration": 217,
    "start_time": "2022-02-16T16:55:55.618Z"
   },
   {
    "duration": 260,
    "start_time": "2022-02-16T16:56:06.687Z"
   },
   {
    "duration": 245,
    "start_time": "2022-02-16T16:56:16.424Z"
   },
   {
    "duration": 460,
    "start_time": "2022-02-16T16:56:30.272Z"
   },
   {
    "duration": 248,
    "start_time": "2022-02-16T16:56:43.175Z"
   },
   {
    "duration": 269,
    "start_time": "2022-02-16T16:56:53.680Z"
   },
   {
    "duration": 492,
    "start_time": "2022-02-16T16:57:00.626Z"
   },
   {
    "duration": 256,
    "start_time": "2022-02-16T16:57:23.711Z"
   },
   {
    "duration": 515,
    "start_time": "2022-02-16T17:00:12.317Z"
   },
   {
    "duration": 5,
    "start_time": "2022-02-16T17:00:33.845Z"
   },
   {
    "duration": 253,
    "start_time": "2022-02-16T17:00:34.475Z"
   },
   {
    "duration": 78,
    "start_time": "2022-02-16T17:03:45.457Z"
   },
   {
    "duration": 11,
    "start_time": "2022-02-16T17:03:45.647Z"
   },
   {
    "duration": 4,
    "start_time": "2022-02-16T17:03:46.204Z"
   },
   {
    "duration": 5,
    "start_time": "2022-02-16T17:03:46.444Z"
   },
   {
    "duration": 5,
    "start_time": "2022-02-16T17:03:46.676Z"
   },
   {
    "duration": 9,
    "start_time": "2022-02-16T17:03:48.690Z"
   },
   {
    "duration": 4,
    "start_time": "2022-02-16T17:03:49.310Z"
   },
   {
    "duration": 5,
    "start_time": "2022-02-16T17:03:49.497Z"
   },
   {
    "duration": 6,
    "start_time": "2022-02-16T17:03:49.689Z"
   },
   {
    "duration": 11,
    "start_time": "2022-02-16T17:03:49.876Z"
   },
   {
    "duration": 5,
    "start_time": "2022-02-16T17:03:50.073Z"
   },
   {
    "duration": 6,
    "start_time": "2022-02-16T17:03:50.276Z"
   },
   {
    "duration": 7,
    "start_time": "2022-02-16T17:03:50.500Z"
   },
   {
    "duration": 11,
    "start_time": "2022-02-16T17:03:50.684Z"
   },
   {
    "duration": 8,
    "start_time": "2022-02-16T17:03:50.883Z"
   },
   {
    "duration": 24,
    "start_time": "2022-02-16T17:03:51.076Z"
   },
   {
    "duration": 10,
    "start_time": "2022-02-16T17:03:51.275Z"
   },
   {
    "duration": 55,
    "start_time": "2022-02-16T17:03:51.715Z"
   },
   {
    "duration": 1339,
    "start_time": "2022-02-16T17:03:52.680Z"
   },
   {
    "duration": 543,
    "start_time": "2022-02-16T17:03:57.393Z"
   },
   {
    "duration": 13,
    "start_time": "2022-02-16T17:04:52.485Z"
   },
   {
    "duration": 255,
    "start_time": "2022-02-16T17:05:19.659Z"
   },
   {
    "duration": 250,
    "start_time": "2022-02-16T17:06:20.722Z"
   },
   {
    "duration": 79,
    "start_time": "2022-02-16T17:06:23.825Z"
   },
   {
    "duration": 12,
    "start_time": "2022-02-16T17:06:23.991Z"
   },
   {
    "duration": 4,
    "start_time": "2022-02-16T17:06:24.491Z"
   },
   {
    "duration": 5,
    "start_time": "2022-02-16T17:06:24.645Z"
   },
   {
    "duration": 5,
    "start_time": "2022-02-16T17:06:24.808Z"
   },
   {
    "duration": 10,
    "start_time": "2022-02-16T17:06:24.975Z"
   },
   {
    "duration": 6,
    "start_time": "2022-02-16T17:06:25.141Z"
   },
   {
    "duration": 6,
    "start_time": "2022-02-16T17:06:25.320Z"
   },
   {
    "duration": 7,
    "start_time": "2022-02-16T17:06:25.476Z"
   },
   {
    "duration": 12,
    "start_time": "2022-02-16T17:06:25.637Z"
   },
   {
    "duration": 6,
    "start_time": "2022-02-16T17:06:25.807Z"
   },
   {
    "duration": 6,
    "start_time": "2022-02-16T17:06:25.980Z"
   },
   {
    "duration": 7,
    "start_time": "2022-02-16T17:06:26.299Z"
   },
   {
    "duration": 11,
    "start_time": "2022-02-16T17:06:26.467Z"
   },
   {
    "duration": 9,
    "start_time": "2022-02-16T17:06:26.652Z"
   },
   {
    "duration": 34,
    "start_time": "2022-02-16T17:06:26.816Z"
   },
   {
    "duration": 10,
    "start_time": "2022-02-16T17:06:26.991Z"
   },
   {
    "duration": 52,
    "start_time": "2022-02-16T17:06:27.364Z"
   },
   {
    "duration": 1307,
    "start_time": "2022-02-16T17:06:28.398Z"
   },
   {
    "duration": 511,
    "start_time": "2022-02-16T17:06:30.130Z"
   },
   {
    "duration": 5,
    "start_time": "2022-02-16T17:06:33.028Z"
   },
   {
    "duration": 245,
    "start_time": "2022-02-16T17:06:33.788Z"
   },
   {
    "duration": 5,
    "start_time": "2022-02-16T17:06:55.397Z"
   },
   {
    "duration": 450,
    "start_time": "2022-02-16T17:45:10.899Z"
   },
   {
    "duration": 220,
    "start_time": "2022-02-16T17:49:16.160Z"
   },
   {
    "duration": 222,
    "start_time": "2022-02-16T17:49:23.384Z"
   },
   {
    "duration": 11,
    "start_time": "2022-02-16T17:49:30.479Z"
   },
   {
    "duration": 12,
    "start_time": "2022-02-16T17:49:39.214Z"
   },
   {
    "duration": 18,
    "start_time": "2022-02-16T17:49:47.889Z"
   },
   {
    "duration": 13,
    "start_time": "2022-02-16T17:50:04.762Z"
   },
   {
    "duration": 238,
    "start_time": "2022-02-16T17:50:42.356Z"
   },
   {
    "duration": 223,
    "start_time": "2022-02-16T17:50:48.039Z"
   },
   {
    "duration": 8,
    "start_time": "2022-02-16T17:50:50.215Z"
   },
   {
    "duration": 7,
    "start_time": "2022-02-16T17:51:53.509Z"
   },
   {
    "duration": 8,
    "start_time": "2022-02-16T17:52:10.788Z"
   },
   {
    "duration": 14,
    "start_time": "2022-02-16T17:53:04.010Z"
   },
   {
    "duration": 12,
    "start_time": "2022-02-16T17:54:29.236Z"
   },
   {
    "duration": 13,
    "start_time": "2022-02-16T17:54:32.724Z"
   },
   {
    "duration": 13,
    "start_time": "2022-02-16T17:54:34.296Z"
   },
   {
    "duration": 14,
    "start_time": "2022-02-16T17:55:40.492Z"
   },
   {
    "duration": 17,
    "start_time": "2022-02-16T17:56:59.734Z"
   },
   {
    "duration": 28,
    "start_time": "2022-02-16T17:57:29.155Z"
   },
   {
    "duration": 27,
    "start_time": "2022-02-16T17:57:56.641Z"
   },
   {
    "duration": 27,
    "start_time": "2022-02-16T17:58:42.975Z"
   },
   {
    "duration": 15,
    "start_time": "2022-02-16T18:06:58.445Z"
   },
   {
    "duration": 66,
    "start_time": "2022-02-16T18:08:30.824Z"
   },
   {
    "duration": 11,
    "start_time": "2022-02-16T18:09:08.572Z"
   },
   {
    "duration": 15,
    "start_time": "2022-02-16T18:09:26.992Z"
   },
   {
    "duration": 15,
    "start_time": "2022-02-16T18:09:38.316Z"
   },
   {
    "duration": 14,
    "start_time": "2022-02-16T18:09:49.883Z"
   },
   {
    "duration": 14,
    "start_time": "2022-02-16T18:10:08.222Z"
   },
   {
    "duration": 13,
    "start_time": "2022-02-16T18:10:17.751Z"
   },
   {
    "duration": 15,
    "start_time": "2022-02-16T18:11:12.667Z"
   },
   {
    "duration": 10,
    "start_time": "2022-02-16T18:18:53.278Z"
   },
   {
    "duration": 247,
    "start_time": "2022-02-16T18:19:31.031Z"
   },
   {
    "duration": 26,
    "start_time": "2022-02-16T18:20:31.740Z"
   },
   {
    "duration": 22,
    "start_time": "2022-02-16T18:20:53.950Z"
   },
   {
    "duration": 27,
    "start_time": "2022-02-16T18:21:10.973Z"
   },
   {
    "duration": 32,
    "start_time": "2022-02-16T18:21:20.026Z"
   },
   {
    "duration": 248,
    "start_time": "2022-02-16T18:21:44.640Z"
   },
   {
    "duration": 243,
    "start_time": "2022-02-16T18:22:05.328Z"
   },
   {
    "duration": 245,
    "start_time": "2022-02-16T18:22:12.088Z"
   },
   {
    "duration": 239,
    "start_time": "2022-02-16T18:35:42.494Z"
   },
   {
    "duration": 240,
    "start_time": "2022-02-16T18:36:04.833Z"
   },
   {
    "duration": 355,
    "start_time": "2022-02-16T18:36:18.350Z"
   },
   {
    "duration": 277,
    "start_time": "2022-02-16T18:36:39.005Z"
   },
   {
    "duration": 238,
    "start_time": "2022-02-16T18:37:06.003Z"
   },
   {
    "duration": 29,
    "start_time": "2022-02-16T18:37:46.617Z"
   },
   {
    "duration": 29,
    "start_time": "2022-02-16T18:37:53.118Z"
   },
   {
    "duration": 30,
    "start_time": "2022-02-16T18:38:09.606Z"
   },
   {
    "duration": 34,
    "start_time": "2022-02-16T18:42:51.922Z"
   },
   {
    "duration": 9,
    "start_time": "2022-02-16T18:43:00.492Z"
   },
   {
    "duration": 14,
    "start_time": "2022-02-16T18:43:09.168Z"
   },
   {
    "duration": 14,
    "start_time": "2022-02-16T18:43:25.172Z"
   },
   {
    "duration": 17,
    "start_time": "2022-02-16T18:44:25.891Z"
   },
   {
    "duration": 17,
    "start_time": "2022-02-16T18:44:40.938Z"
   },
   {
    "duration": 250,
    "start_time": "2022-02-16T18:45:07.700Z"
   },
   {
    "duration": 15,
    "start_time": "2022-02-16T18:45:14.400Z"
   },
   {
    "duration": 15,
    "start_time": "2022-02-16T18:46:44.668Z"
   },
   {
    "duration": 26,
    "start_time": "2022-02-16T18:47:01.464Z"
   },
   {
    "duration": 25,
    "start_time": "2022-02-16T18:47:20.196Z"
   },
   {
    "duration": 26,
    "start_time": "2022-02-16T18:47:24.749Z"
   },
   {
    "duration": 29,
    "start_time": "2022-02-16T18:47:28.342Z"
   },
   {
    "duration": 28,
    "start_time": "2022-02-16T18:47:33.537Z"
   },
   {
    "duration": 25,
    "start_time": "2022-02-16T18:47:41.096Z"
   },
   {
    "duration": 19,
    "start_time": "2022-02-16T18:48:02.242Z"
   },
   {
    "duration": 40,
    "start_time": "2022-02-16T18:58:58.741Z"
   },
   {
    "duration": 7,
    "start_time": "2022-02-16T18:59:06.056Z"
   },
   {
    "duration": 37,
    "start_time": "2022-02-16T18:59:46.943Z"
   },
   {
    "duration": 1144,
    "start_time": "2022-02-16T19:01:25.549Z"
   },
   {
    "duration": 11,
    "start_time": "2022-02-16T19:01:34.287Z"
   },
   {
    "duration": 13,
    "start_time": "2022-02-16T19:02:05.372Z"
   },
   {
    "duration": 16,
    "start_time": "2022-02-16T19:02:40.193Z"
   },
   {
    "duration": 16,
    "start_time": "2022-02-16T19:02:56.219Z"
   },
   {
    "duration": 229,
    "start_time": "2022-02-16T19:03:24.082Z"
   },
   {
    "duration": 230,
    "start_time": "2022-02-16T19:03:40.769Z"
   },
   {
    "duration": 3125,
    "start_time": "2022-02-16T19:04:28.591Z"
   },
   {
    "duration": 239,
    "start_time": "2022-02-16T19:04:53.113Z"
   },
   {
    "duration": 17,
    "start_time": "2022-02-16T19:05:11.932Z"
   },
   {
    "duration": 248,
    "start_time": "2022-02-16T19:05:44.818Z"
   },
   {
    "duration": 278,
    "start_time": "2022-02-16T19:06:01.371Z"
   },
   {
    "duration": 19,
    "start_time": "2022-02-16T19:06:22.571Z"
   },
   {
    "duration": 17,
    "start_time": "2022-02-16T19:06:35.445Z"
   },
   {
    "duration": 238,
    "start_time": "2022-02-16T19:07:53.286Z"
   },
   {
    "duration": 222,
    "start_time": "2022-02-16T19:07:58.302Z"
   },
   {
    "duration": 231,
    "start_time": "2022-02-16T19:08:00.630Z"
   },
   {
    "duration": 275,
    "start_time": "2022-02-16T19:08:03.784Z"
   },
   {
    "duration": 13,
    "start_time": "2022-02-16T19:08:11.558Z"
   },
   {
    "duration": 17,
    "start_time": "2022-02-16T19:08:47.791Z"
   },
   {
    "duration": 70,
    "start_time": "2022-02-16T19:15:42.001Z"
   },
   {
    "duration": 22,
    "start_time": "2022-02-16T19:15:45.085Z"
   },
   {
    "duration": 22,
    "start_time": "2022-02-16T19:16:21.152Z"
   },
   {
    "duration": 237,
    "start_time": "2022-02-16T19:17:53.627Z"
   },
   {
    "duration": 5429,
    "start_time": "2022-02-16T19:18:07.810Z"
   },
   {
    "duration": 5422,
    "start_time": "2022-02-16T19:21:51.664Z"
   },
   {
    "duration": 5966,
    "start_time": "2022-02-16T19:22:15.308Z"
   },
   {
    "duration": 5526,
    "start_time": "2022-02-16T19:23:26.053Z"
   },
   {
    "duration": 22,
    "start_time": "2022-02-16T19:23:48.736Z"
   },
   {
    "duration": 5565,
    "start_time": "2022-02-16T19:24:03.011Z"
   },
   {
    "duration": 18,
    "start_time": "2022-02-16T19:25:03.454Z"
   },
   {
    "duration": 21,
    "start_time": "2022-02-16T19:25:19.361Z"
   },
   {
    "duration": 5398,
    "start_time": "2022-02-16T19:25:31.871Z"
   },
   {
    "duration": 5298,
    "start_time": "2022-02-16T19:33:22.583Z"
   },
   {
    "duration": 5368,
    "start_time": "2022-02-16T19:33:55.518Z"
   },
   {
    "duration": 241,
    "start_time": "2022-02-16T19:35:28.716Z"
   },
   {
    "duration": 5629,
    "start_time": "2022-02-16T19:36:00.826Z"
   },
   {
    "duration": 236,
    "start_time": "2022-02-16T19:36:10.770Z"
   },
   {
    "duration": 5471,
    "start_time": "2022-02-16T19:36:15.304Z"
   },
   {
    "duration": 5376,
    "start_time": "2022-02-16T19:36:52.409Z"
   },
   {
    "duration": 215,
    "start_time": "2022-02-16T19:38:30.020Z"
   },
   {
    "duration": 225,
    "start_time": "2022-02-16T19:39:11.013Z"
   },
   {
    "duration": 5429,
    "start_time": "2022-02-16T19:39:37.228Z"
   },
   {
    "duration": 222,
    "start_time": "2022-02-16T19:39:44.947Z"
   },
   {
    "duration": 223,
    "start_time": "2022-02-16T19:40:06.005Z"
   },
   {
    "duration": 216,
    "start_time": "2022-02-16T19:41:14.539Z"
   },
   {
    "duration": 115,
    "start_time": "2022-02-18T11:20:19.667Z"
   },
   {
    "duration": 15,
    "start_time": "2022-02-18T11:20:21.528Z"
   },
   {
    "duration": 107,
    "start_time": "2022-02-18T11:39:19.726Z"
   },
   {
    "duration": 15,
    "start_time": "2022-02-18T11:39:20.073Z"
   },
   {
    "duration": 34,
    "start_time": "2022-02-18T11:39:23.284Z"
   },
   {
    "duration": 8,
    "start_time": "2022-02-18T11:39:25.862Z"
   },
   {
    "duration": 9,
    "start_time": "2022-02-18T11:39:26.575Z"
   },
   {
    "duration": 26,
    "start_time": "2022-02-18T11:39:28.476Z"
   },
   {
    "duration": 9,
    "start_time": "2022-02-18T11:39:30.322Z"
   },
   {
    "duration": 7,
    "start_time": "2022-02-18T11:39:31.869Z"
   },
   {
    "duration": 25,
    "start_time": "2022-02-18T11:39:35.975Z"
   },
   {
    "duration": 12,
    "start_time": "2022-02-18T11:39:37.031Z"
   },
   {
    "duration": 37,
    "start_time": "2022-02-18T11:39:38.471Z"
   },
   {
    "duration": 18,
    "start_time": "2022-02-18T11:39:39.812Z"
   },
   {
    "duration": 54,
    "start_time": "2022-02-18T11:43:31.232Z"
   },
   {
    "duration": 36,
    "start_time": "2022-02-18T11:44:08.302Z"
   },
   {
    "duration": 539,
    "start_time": "2022-02-18T11:46:21.017Z"
   },
   {
    "duration": 343,
    "start_time": "2022-02-18T11:46:22.604Z"
   },
   {
    "duration": 565,
    "start_time": "2022-02-18T11:46:24.446Z"
   },
   {
    "duration": 568,
    "start_time": "2022-02-18T11:46:25.698Z"
   },
   {
    "duration": 831,
    "start_time": "2022-02-18T11:46:29.312Z"
   },
   {
    "duration": 7,
    "start_time": "2022-02-18T11:46:55.909Z"
   },
   {
    "duration": 492,
    "start_time": "2022-02-18T11:49:38.884Z"
   },
   {
    "duration": 387,
    "start_time": "2022-02-18T11:52:34.392Z"
   },
   {
    "duration": 354,
    "start_time": "2022-02-18T11:53:09.635Z"
   },
   {
    "duration": 119,
    "start_time": "2022-02-18T11:53:55.964Z"
   },
   {
    "duration": 15,
    "start_time": "2022-02-18T11:53:56.090Z"
   },
   {
    "duration": 8,
    "start_time": "2022-02-18T11:54:17.161Z"
   },
   {
    "duration": 105,
    "start_time": "2022-02-18T11:55:21.055Z"
   },
   {
    "duration": 15,
    "start_time": "2022-02-18T11:55:21.217Z"
   },
   {
    "duration": 33,
    "start_time": "2022-02-18T11:55:22.135Z"
   },
   {
    "duration": 8,
    "start_time": "2022-02-18T11:55:22.443Z"
   },
   {
    "duration": 9,
    "start_time": "2022-02-18T11:55:22.585Z"
   },
   {
    "duration": 23,
    "start_time": "2022-02-18T11:55:22.736Z"
   },
   {
    "duration": 12,
    "start_time": "2022-02-18T11:55:23.200Z"
   },
   {
    "duration": 34,
    "start_time": "2022-02-18T11:55:23.706Z"
   },
   {
    "duration": 19,
    "start_time": "2022-02-18T11:55:23.892Z"
   },
   {
    "duration": 52,
    "start_time": "2022-02-18T11:55:24.575Z"
   },
   {
    "duration": 38,
    "start_time": "2022-02-18T11:55:25.019Z"
   },
   {
    "duration": 550,
    "start_time": "2022-02-18T11:55:25.486Z"
   },
   {
    "duration": 356,
    "start_time": "2022-02-18T11:55:28.472Z"
   },
   {
    "duration": 123,
    "start_time": "2022-02-18T11:55:45.482Z"
   },
   {
    "duration": 16,
    "start_time": "2022-02-18T11:55:45.658Z"
   },
   {
    "duration": 32,
    "start_time": "2022-02-18T11:55:46.537Z"
   },
   {
    "duration": 8,
    "start_time": "2022-02-18T11:55:46.856Z"
   },
   {
    "duration": 10,
    "start_time": "2022-02-18T11:55:47.015Z"
   },
   {
    "duration": 24,
    "start_time": "2022-02-18T11:55:47.160Z"
   },
   {
    "duration": 14,
    "start_time": "2022-02-18T11:55:47.674Z"
   },
   {
    "duration": 36,
    "start_time": "2022-02-18T11:55:48.187Z"
   },
   {
    "duration": 18,
    "start_time": "2022-02-18T11:55:48.367Z"
   },
   {
    "duration": 57,
    "start_time": "2022-02-18T11:55:49.021Z"
   },
   {
    "duration": 37,
    "start_time": "2022-02-18T11:55:49.342Z"
   },
   {
    "duration": 543,
    "start_time": "2022-02-18T11:55:49.846Z"
   },
   {
    "duration": 380,
    "start_time": "2022-02-18T11:55:50.391Z"
   },
   {
    "duration": 606,
    "start_time": "2022-02-18T11:55:50.856Z"
   },
   {
    "duration": 683,
    "start_time": "2022-02-18T11:55:51.466Z"
   },
   {
    "duration": 580,
    "start_time": "2022-02-18T12:04:38.216Z"
   },
   {
    "duration": 23,
    "start_time": "2022-02-18T12:06:25.822Z"
   },
   {
    "duration": 36,
    "start_time": "2022-02-18T12:06:45.847Z"
   },
   {
    "duration": 38,
    "start_time": "2022-02-18T12:09:42.265Z"
   },
   {
    "duration": 425,
    "start_time": "2022-02-18T12:17:40.384Z"
   },
   {
    "duration": 279,
    "start_time": "2022-02-18T12:17:50.585Z"
   },
   {
    "duration": 293,
    "start_time": "2022-02-18T12:17:57.254Z"
   },
   {
    "duration": 12,
    "start_time": "2022-02-18T12:18:01.017Z"
   },
   {
    "duration": 12,
    "start_time": "2022-02-18T12:18:26.701Z"
   },
   {
    "duration": 95,
    "start_time": "2022-02-18T12:23:11.137Z"
   },
   {
    "duration": 42,
    "start_time": "2022-02-18T12:23:49.243Z"
   },
   {
    "duration": 40,
    "start_time": "2022-02-18T12:23:50.938Z"
   },
   {
    "duration": 32,
    "start_time": "2022-02-18T12:24:02.463Z"
   },
   {
    "duration": 29,
    "start_time": "2022-02-18T12:24:06.318Z"
   },
   {
    "duration": 32,
    "start_time": "2022-02-18T12:24:10.333Z"
   },
   {
    "duration": 12,
    "start_time": "2022-02-18T12:36:10.119Z"
   },
   {
    "duration": 23,
    "start_time": "2022-02-18T12:38:04.012Z"
   },
   {
    "duration": 23,
    "start_time": "2022-02-18T12:38:48.313Z"
   },
   {
    "duration": 415,
    "start_time": "2022-02-18T12:39:55.088Z"
   },
   {
    "duration": 325,
    "start_time": "2022-02-18T12:40:13.341Z"
   },
   {
    "duration": 28,
    "start_time": "2022-02-18T12:40:20.688Z"
   },
   {
    "duration": 25,
    "start_time": "2022-02-18T12:40:34.166Z"
   },
   {
    "duration": 815,
    "start_time": "2022-02-18T12:41:40.638Z"
   },
   {
    "duration": 21,
    "start_time": "2022-02-18T12:41:43.311Z"
   },
   {
    "duration": 26,
    "start_time": "2022-02-18T12:41:48.499Z"
   },
   {
    "duration": 337,
    "start_time": "2022-02-18T12:46:51.362Z"
   },
   {
    "duration": 43,
    "start_time": "2022-02-18T12:47:03.969Z"
   },
   {
    "duration": 301,
    "start_time": "2022-02-18T12:47:27.295Z"
   },
   {
    "duration": 365,
    "start_time": "2022-02-18T12:47:40.492Z"
   },
   {
    "duration": 344,
    "start_time": "2022-02-18T12:48:13.791Z"
   },
   {
    "duration": 310,
    "start_time": "2022-02-18T12:48:29.177Z"
   },
   {
    "duration": 35,
    "start_time": "2022-02-18T12:48:30.689Z"
   },
   {
    "duration": 55,
    "start_time": "2022-02-18T12:53:13.609Z"
   },
   {
    "duration": 316,
    "start_time": "2022-02-18T12:53:43.656Z"
   },
   {
    "duration": 291,
    "start_time": "2022-02-18T12:54:34.307Z"
   },
   {
    "duration": 17,
    "start_time": "2022-02-18T12:57:33.079Z"
   },
   {
    "duration": 37,
    "start_time": "2022-02-18T13:06:53.849Z"
   },
   {
    "duration": 319,
    "start_time": "2022-02-18T13:08:11.389Z"
   },
   {
    "duration": 302,
    "start_time": "2022-02-18T13:08:36.883Z"
   },
   {
    "duration": 291,
    "start_time": "2022-02-18T13:09:01.786Z"
   },
   {
    "duration": 11,
    "start_time": "2022-02-18T13:09:17.267Z"
   },
   {
    "duration": 22,
    "start_time": "2022-02-18T13:10:31.871Z"
   },
   {
    "duration": 12,
    "start_time": "2022-02-18T13:10:57.348Z"
   },
   {
    "duration": 454,
    "start_time": "2022-02-18T13:11:36.480Z"
   },
   {
    "duration": 120,
    "start_time": "2022-02-18T13:11:41.061Z"
   },
   {
    "duration": 22,
    "start_time": "2022-02-18T13:11:41.184Z"
   },
   {
    "duration": 107,
    "start_time": "2022-02-18T13:11:42.148Z"
   },
   {
    "duration": 7,
    "start_time": "2022-02-18T13:11:42.462Z"
   },
   {
    "duration": 11,
    "start_time": "2022-02-18T13:11:42.625Z"
   },
   {
    "duration": 27,
    "start_time": "2022-02-18T13:11:42.790Z"
   },
   {
    "duration": 14,
    "start_time": "2022-02-18T13:11:43.284Z"
   },
   {
    "duration": 38,
    "start_time": "2022-02-18T13:11:43.781Z"
   },
   {
    "duration": 16,
    "start_time": "2022-02-18T13:11:43.941Z"
   },
   {
    "duration": 76,
    "start_time": "2022-02-18T13:11:44.636Z"
   },
   {
    "duration": 58,
    "start_time": "2022-02-18T13:11:44.972Z"
   },
   {
    "duration": 952,
    "start_time": "2022-02-18T13:11:45.496Z"
   },
   {
    "duration": 386,
    "start_time": "2022-02-18T13:11:46.452Z"
   },
   {
    "duration": 599,
    "start_time": "2022-02-18T13:11:46.841Z"
   },
   {
    "duration": 580,
    "start_time": "2022-02-18T13:11:47.444Z"
   },
   {
    "duration": 873,
    "start_time": "2022-02-18T13:11:48.027Z"
   },
   {
    "duration": 7,
    "start_time": "2022-02-18T13:11:48.903Z"
   },
   {
    "duration": 438,
    "start_time": "2022-02-18T13:11:48.912Z"
   },
   {
    "duration": 683,
    "start_time": "2022-02-18T13:11:49.353Z"
   },
   {
    "duration": 58,
    "start_time": "2022-02-18T13:11:50.038Z"
   },
   {
    "duration": 9,
    "start_time": "2022-02-18T13:11:50.200Z"
   },
   {
    "duration": 12,
    "start_time": "2022-02-18T13:11:50.590Z"
   },
   {
    "duration": 21,
    "start_time": "2022-02-18T13:11:51.151Z"
   },
   {
    "duration": 33,
    "start_time": "2022-02-18T13:11:51.727Z"
   },
   {
    "duration": 45,
    "start_time": "2022-02-18T13:11:52.094Z"
   },
   {
    "duration": 34,
    "start_time": "2022-02-18T13:11:52.484Z"
   },
   {
    "duration": 27,
    "start_time": "2022-02-18T13:11:53.271Z"
   },
   {
    "duration": 37,
    "start_time": "2022-02-18T13:11:53.944Z"
   },
   {
    "duration": 309,
    "start_time": "2022-02-18T13:11:54.153Z"
   },
   {
    "duration": 23,
    "start_time": "2022-02-18T13:12:03.829Z"
   },
   {
    "duration": 112,
    "start_time": "2022-02-18T13:13:28.702Z"
   },
   {
    "duration": 17,
    "start_time": "2022-02-18T13:13:28.873Z"
   },
   {
    "duration": 36,
    "start_time": "2022-02-18T13:13:30.417Z"
   },
   {
    "duration": 9,
    "start_time": "2022-02-18T13:13:31.008Z"
   },
   {
    "duration": 10,
    "start_time": "2022-02-18T13:13:31.329Z"
   },
   {
    "duration": 24,
    "start_time": "2022-02-18T13:13:31.745Z"
   },
   {
    "duration": 14,
    "start_time": "2022-02-18T13:13:33.177Z"
   },
   {
    "duration": 36,
    "start_time": "2022-02-18T13:13:35.024Z"
   },
   {
    "duration": 25,
    "start_time": "2022-02-18T13:13:36.120Z"
   },
   {
    "duration": 50,
    "start_time": "2022-02-18T13:13:43.518Z"
   },
   {
    "duration": 41,
    "start_time": "2022-02-18T13:13:46.460Z"
   },
   {
    "duration": 19,
    "start_time": "2022-02-18T13:13:53.376Z"
   },
   {
    "duration": 553,
    "start_time": "2022-02-18T13:13:57.495Z"
   },
   {
    "duration": 492,
    "start_time": "2022-02-18T13:13:58.329Z"
   },
   {
    "duration": 684,
    "start_time": "2022-02-18T13:13:58.833Z"
   },
   {
    "duration": 597,
    "start_time": "2022-02-18T13:13:59.520Z"
   },
   {
    "duration": 936,
    "start_time": "2022-02-18T13:14:00.120Z"
   },
   {
    "duration": 7,
    "start_time": "2022-02-18T13:14:01.059Z"
   },
   {
    "duration": 523,
    "start_time": "2022-02-18T13:14:01.068Z"
   },
   {
    "duration": 555,
    "start_time": "2022-02-18T13:14:02.513Z"
   },
   {
    "duration": 44,
    "start_time": "2022-02-18T13:14:03.070Z"
   },
   {
    "duration": 9,
    "start_time": "2022-02-18T13:14:03.117Z"
   },
   {
    "duration": 15,
    "start_time": "2022-02-18T13:14:03.129Z"
   },
   {
    "duration": 28,
    "start_time": "2022-02-18T13:14:03.285Z"
   },
   {
    "duration": 48,
    "start_time": "2022-02-18T13:14:03.839Z"
   },
   {
    "duration": 43,
    "start_time": "2022-02-18T13:14:04.228Z"
   },
   {
    "duration": 33,
    "start_time": "2022-02-18T13:14:04.631Z"
   },
   {
    "duration": 26,
    "start_time": "2022-02-18T13:14:05.172Z"
   },
   {
    "duration": 36,
    "start_time": "2022-02-18T13:14:05.759Z"
   },
   {
    "duration": 315,
    "start_time": "2022-02-18T13:14:05.930Z"
   },
   {
    "duration": 23,
    "start_time": "2022-02-18T13:14:07.561Z"
   },
   {
    "duration": 114,
    "start_time": "2022-02-18T13:14:57.175Z"
   },
   {
    "duration": 17,
    "start_time": "2022-02-18T13:14:57.331Z"
   },
   {
    "duration": 32,
    "start_time": "2022-02-18T13:14:58.414Z"
   },
   {
    "duration": 9,
    "start_time": "2022-02-18T13:14:58.767Z"
   },
   {
    "duration": 10,
    "start_time": "2022-02-18T13:14:58.956Z"
   },
   {
    "duration": 38,
    "start_time": "2022-02-18T13:14:59.128Z"
   },
   {
    "duration": 13,
    "start_time": "2022-02-18T13:14:59.682Z"
   },
   {
    "duration": 37,
    "start_time": "2022-02-18T13:15:00.219Z"
   },
   {
    "duration": 17,
    "start_time": "2022-02-18T13:15:00.388Z"
   },
   {
    "duration": 53,
    "start_time": "2022-02-18T13:15:01.137Z"
   },
   {
    "duration": 37,
    "start_time": "2022-02-18T13:15:01.477Z"
   },
   {
    "duration": 554,
    "start_time": "2022-02-18T13:15:02.029Z"
   },
   {
    "duration": 357,
    "start_time": "2022-02-18T13:15:02.586Z"
   },
   {
    "duration": 539,
    "start_time": "2022-02-18T13:15:03.150Z"
   },
   {
    "duration": 973,
    "start_time": "2022-02-18T13:15:03.761Z"
   },
   {
    "duration": 1340,
    "start_time": "2022-02-18T13:15:04.738Z"
   },
   {
    "duration": 17,
    "start_time": "2022-02-18T13:15:06.082Z"
   },
   {
    "duration": 18,
    "start_time": "2022-02-18T13:15:06.101Z"
   },
   {
    "duration": 428,
    "start_time": "2022-02-18T13:15:06.122Z"
   },
   {
    "duration": 651,
    "start_time": "2022-02-18T13:15:06.552Z"
   },
   {
    "duration": 32,
    "start_time": "2022-02-18T13:15:08.854Z"
   },
   {
    "duration": 10,
    "start_time": "2022-02-18T13:15:09.633Z"
   },
   {
    "duration": 11,
    "start_time": "2022-02-18T13:15:09.999Z"
   },
   {
    "duration": 16,
    "start_time": "2022-02-18T13:15:10.368Z"
   },
   {
    "duration": 21,
    "start_time": "2022-02-18T13:15:10.708Z"
   },
   {
    "duration": 31,
    "start_time": "2022-02-18T13:15:11.268Z"
   },
   {
    "duration": 32,
    "start_time": "2022-02-18T13:15:30.656Z"
   },
   {
    "duration": 23,
    "start_time": "2022-02-18T13:15:43.012Z"
   },
   {
    "duration": 32,
    "start_time": "2022-02-18T13:15:46.785Z"
   },
   {
    "duration": 29,
    "start_time": "2022-02-18T13:15:47.159Z"
   },
   {
    "duration": 30,
    "start_time": "2022-02-18T13:15:47.520Z"
   },
   {
    "duration": 28,
    "start_time": "2022-02-18T13:15:48.117Z"
   },
   {
    "duration": 14,
    "start_time": "2022-02-18T13:15:48.652Z"
   },
   {
    "duration": 16,
    "start_time": "2022-02-18T13:16:02.494Z"
   },
   {
    "duration": 37,
    "start_time": "2022-02-18T13:16:02.803Z"
   },
   {
    "duration": 433,
    "start_time": "2022-02-18T13:16:03.172Z"
   },
   {
    "duration": 20,
    "start_time": "2022-02-18T13:16:05.961Z"
   },
   {
    "duration": 31,
    "start_time": "2022-02-18T13:16:08.172Z"
   },
   {
    "duration": 42,
    "start_time": "2022-02-18T13:16:43.101Z"
   },
   {
    "duration": 19,
    "start_time": "2022-02-18T13:16:48.971Z"
   },
   {
    "duration": 158,
    "start_time": "2022-02-18T13:16:52.251Z"
   },
   {
    "duration": 20,
    "start_time": "2022-02-18T13:16:52.413Z"
   },
   {
    "duration": 45,
    "start_time": "2022-02-18T13:16:53.675Z"
   },
   {
    "duration": 9,
    "start_time": "2022-02-18T13:16:53.996Z"
   },
   {
    "duration": 11,
    "start_time": "2022-02-18T13:16:54.159Z"
   },
   {
    "duration": 27,
    "start_time": "2022-02-18T13:16:54.331Z"
   },
   {
    "duration": 13,
    "start_time": "2022-02-18T13:16:54.838Z"
   },
   {
    "duration": 36,
    "start_time": "2022-02-18T13:16:55.619Z"
   },
   {
    "duration": 18,
    "start_time": "2022-02-18T13:16:55.658Z"
   },
   {
    "duration": 54,
    "start_time": "2022-02-18T13:16:56.119Z"
   },
   {
    "duration": 43,
    "start_time": "2022-02-18T13:16:56.462Z"
   },
   {
    "duration": 645,
    "start_time": "2022-02-18T13:16:56.951Z"
   },
   {
    "duration": 394,
    "start_time": "2022-02-18T13:16:57.599Z"
   },
   {
    "duration": 581,
    "start_time": "2022-02-18T13:16:57.997Z"
   },
   {
    "duration": 635,
    "start_time": "2022-02-18T13:16:58.581Z"
   },
   {
    "duration": 859,
    "start_time": "2022-02-18T13:16:59.220Z"
   },
   {
    "duration": 15,
    "start_time": "2022-02-18T13:17:00.082Z"
   },
   {
    "duration": 38,
    "start_time": "2022-02-18T13:17:00.099Z"
   },
   {
    "duration": 468,
    "start_time": "2022-02-18T13:17:00.140Z"
   },
   {
    "duration": 734,
    "start_time": "2022-02-18T13:17:00.612Z"
   },
   {
    "duration": 51,
    "start_time": "2022-02-18T13:17:01.349Z"
   },
   {
    "duration": 13,
    "start_time": "2022-02-18T13:17:01.534Z"
   },
   {
    "duration": 16,
    "start_time": "2022-02-18T13:17:01.897Z"
   },
   {
    "duration": 15,
    "start_time": "2022-02-18T13:17:02.233Z"
   },
   {
    "duration": 21,
    "start_time": "2022-02-18T13:17:02.585Z"
   },
   {
    "duration": 32,
    "start_time": "2022-02-18T13:17:03.120Z"
   },
   {
    "duration": 42,
    "start_time": "2022-02-18T13:17:03.485Z"
   },
   {
    "duration": 42,
    "start_time": "2022-02-18T13:17:03.849Z"
   },
   {
    "duration": 35,
    "start_time": "2022-02-18T13:17:04.378Z"
   },
   {
    "duration": 20,
    "start_time": "2022-02-18T13:17:04.745Z"
   },
   {
    "duration": 38,
    "start_time": "2022-02-18T13:17:05.097Z"
   },
   {
    "duration": 313,
    "start_time": "2022-02-18T13:17:05.270Z"
   },
   {
    "duration": 15,
    "start_time": "2022-02-18T13:17:05.633Z"
   },
   {
    "duration": 33,
    "start_time": "2022-02-18T13:17:06.193Z"
   },
   {
    "duration": 115,
    "start_time": "2022-02-18T13:17:29.518Z"
   },
   {
    "duration": 17,
    "start_time": "2022-02-18T13:17:29.636Z"
   },
   {
    "duration": 32,
    "start_time": "2022-02-18T13:17:30.104Z"
   },
   {
    "duration": 8,
    "start_time": "2022-02-18T13:17:30.271Z"
   },
   {
    "duration": 10,
    "start_time": "2022-02-18T13:17:30.364Z"
   },
   {
    "duration": 25,
    "start_time": "2022-02-18T13:17:30.448Z"
   },
   {
    "duration": 12,
    "start_time": "2022-02-18T13:17:30.690Z"
   },
   {
    "duration": 37,
    "start_time": "2022-02-18T13:17:30.939Z"
   },
   {
    "duration": 16,
    "start_time": "2022-02-18T13:17:31.027Z"
   },
   {
    "duration": 54,
    "start_time": "2022-02-18T13:17:31.367Z"
   },
   {
    "duration": 37,
    "start_time": "2022-02-18T13:17:31.529Z"
   },
   {
    "duration": 556,
    "start_time": "2022-02-18T13:17:31.778Z"
   },
   {
    "duration": 381,
    "start_time": "2022-02-18T13:17:32.338Z"
   },
   {
    "duration": 623,
    "start_time": "2022-02-18T13:17:32.722Z"
   },
   {
    "duration": 581,
    "start_time": "2022-02-18T13:17:33.348Z"
   },
   {
    "duration": 1005,
    "start_time": "2022-02-18T13:17:33.932Z"
   },
   {
    "duration": 8,
    "start_time": "2022-02-18T13:17:34.940Z"
   },
   {
    "duration": 43,
    "start_time": "2022-02-18T13:17:34.950Z"
   },
   {
    "duration": 457,
    "start_time": "2022-02-18T13:17:34.996Z"
   },
   {
    "duration": 675,
    "start_time": "2022-02-18T13:17:35.456Z"
   },
   {
    "duration": 32,
    "start_time": "2022-02-18T13:17:36.134Z"
   },
   {
    "duration": 31,
    "start_time": "2022-02-18T13:17:36.170Z"
   },
   {
    "duration": 14,
    "start_time": "2022-02-18T13:17:36.204Z"
   },
   {
    "duration": 25,
    "start_time": "2022-02-18T13:17:36.221Z"
   },
   {
    "duration": 53,
    "start_time": "2022-02-18T13:17:36.252Z"
   },
   {
    "duration": 30,
    "start_time": "2022-02-18T13:17:36.308Z"
   },
   {
    "duration": 72,
    "start_time": "2022-02-18T13:17:36.341Z"
   },
   {
    "duration": 41,
    "start_time": "2022-02-18T13:17:36.416Z"
   },
   {
    "duration": 60,
    "start_time": "2022-02-18T13:17:36.460Z"
   },
   {
    "duration": 21,
    "start_time": "2022-02-18T13:17:36.523Z"
   },
   {
    "duration": 68,
    "start_time": "2022-02-18T13:17:36.547Z"
   },
   {
    "duration": 446,
    "start_time": "2022-02-18T13:17:36.618Z"
   },
   {
    "duration": 26,
    "start_time": "2022-02-18T13:17:37.067Z"
   },
   {
    "duration": 23,
    "start_time": "2022-02-18T13:17:37.096Z"
   },
   {
    "duration": 25,
    "start_time": "2022-02-18T13:18:14.389Z"
   },
   {
    "duration": 28,
    "start_time": "2022-02-18T13:18:24.991Z"
   },
   {
    "duration": 119,
    "start_time": "2022-02-18T13:19:08.731Z"
   },
   {
    "duration": 17,
    "start_time": "2022-02-18T13:19:08.852Z"
   },
   {
    "duration": 33,
    "start_time": "2022-02-18T13:19:09.322Z"
   },
   {
    "duration": 9,
    "start_time": "2022-02-18T13:19:09.483Z"
   },
   {
    "duration": 9,
    "start_time": "2022-02-18T13:19:09.561Z"
   },
   {
    "duration": 27,
    "start_time": "2022-02-18T13:19:09.648Z"
   },
   {
    "duration": 13,
    "start_time": "2022-02-18T13:19:09.932Z"
   },
   {
    "duration": 35,
    "start_time": "2022-02-18T13:19:10.155Z"
   },
   {
    "duration": 18,
    "start_time": "2022-02-18T13:19:10.239Z"
   },
   {
    "duration": 55,
    "start_time": "2022-02-18T13:19:10.582Z"
   },
   {
    "duration": 42,
    "start_time": "2022-02-18T13:19:10.745Z"
   },
   {
    "duration": 593,
    "start_time": "2022-02-18T13:19:10.993Z"
   },
   {
    "duration": 405,
    "start_time": "2022-02-18T13:19:11.593Z"
   },
   {
    "duration": 634,
    "start_time": "2022-02-18T13:19:12.001Z"
   },
   {
    "duration": 740,
    "start_time": "2022-02-18T13:19:12.638Z"
   },
   {
    "duration": 943,
    "start_time": "2022-02-18T13:19:13.380Z"
   },
   {
    "duration": 11,
    "start_time": "2022-02-18T13:19:14.336Z"
   },
   {
    "duration": 31,
    "start_time": "2022-02-18T13:19:14.350Z"
   },
   {
    "duration": 464,
    "start_time": "2022-02-18T13:19:14.384Z"
   },
   {
    "duration": 789,
    "start_time": "2022-02-18T13:19:14.850Z"
   },
   {
    "duration": 35,
    "start_time": "2022-02-18T13:19:15.642Z"
   },
   {
    "duration": 23,
    "start_time": "2022-02-18T13:19:15.680Z"
   },
   {
    "duration": 16,
    "start_time": "2022-02-18T13:19:15.706Z"
   },
   {
    "duration": 22,
    "start_time": "2022-02-18T13:19:15.725Z"
   },
   {
    "duration": 55,
    "start_time": "2022-02-18T13:19:15.751Z"
   },
   {
    "duration": 33,
    "start_time": "2022-02-18T13:19:15.808Z"
   },
   {
    "duration": 66,
    "start_time": "2022-02-18T13:19:15.844Z"
   },
   {
    "duration": 34,
    "start_time": "2022-02-18T13:19:15.913Z"
   },
   {
    "duration": 54,
    "start_time": "2022-02-18T13:19:15.950Z"
   },
   {
    "duration": 17,
    "start_time": "2022-02-18T13:19:16.008Z"
   },
   {
    "duration": 76,
    "start_time": "2022-02-18T13:19:16.028Z"
   },
   {
    "duration": 352,
    "start_time": "2022-02-18T13:19:16.106Z"
   },
   {
    "duration": 15,
    "start_time": "2022-02-18T13:19:16.460Z"
   },
   {
    "duration": 45,
    "start_time": "2022-02-18T13:19:16.477Z"
   },
   {
    "duration": 126,
    "start_time": "2022-02-18T13:19:45.881Z"
   },
   {
    "duration": 16,
    "start_time": "2022-02-18T13:19:46.011Z"
   },
   {
    "duration": 33,
    "start_time": "2022-02-18T13:19:46.462Z"
   },
   {
    "duration": 8,
    "start_time": "2022-02-18T13:19:46.622Z"
   },
   {
    "duration": 13,
    "start_time": "2022-02-18T13:19:46.713Z"
   },
   {
    "duration": 29,
    "start_time": "2022-02-18T13:19:46.791Z"
   },
   {
    "duration": 13,
    "start_time": "2022-02-18T13:19:47.042Z"
   },
   {
    "duration": 37,
    "start_time": "2022-02-18T13:19:47.293Z"
   },
   {
    "duration": 15,
    "start_time": "2022-02-18T13:19:47.373Z"
   },
   {
    "duration": 54,
    "start_time": "2022-02-18T13:19:47.719Z"
   },
   {
    "duration": 41,
    "start_time": "2022-02-18T13:19:47.879Z"
   },
   {
    "duration": 603,
    "start_time": "2022-02-18T13:19:48.135Z"
   },
   {
    "duration": 491,
    "start_time": "2022-02-18T13:19:48.740Z"
   },
   {
    "duration": 631,
    "start_time": "2022-02-18T13:19:49.234Z"
   },
   {
    "duration": 660,
    "start_time": "2022-02-18T13:19:49.868Z"
   },
   {
    "duration": 1031,
    "start_time": "2022-02-18T13:19:50.531Z"
   },
   {
    "duration": 8,
    "start_time": "2022-02-18T13:19:51.566Z"
   },
   {
    "duration": 39,
    "start_time": "2022-02-18T13:19:51.577Z"
   },
   {
    "duration": 452,
    "start_time": "2022-02-18T13:19:51.620Z"
   },
   {
    "duration": 685,
    "start_time": "2022-02-18T13:19:52.075Z"
   },
   {
    "duration": 48,
    "start_time": "2022-02-18T13:19:52.763Z"
   },
   {
    "duration": 10,
    "start_time": "2022-02-18T13:19:52.814Z"
   },
   {
    "duration": 13,
    "start_time": "2022-02-18T13:19:52.827Z"
   },
   {
    "duration": 52,
    "start_time": "2022-02-18T13:19:52.842Z"
   },
   {
    "duration": 27,
    "start_time": "2022-02-18T13:19:52.897Z"
   },
   {
    "duration": 32,
    "start_time": "2022-02-18T13:19:52.926Z"
   },
   {
    "duration": 58,
    "start_time": "2022-02-18T13:19:52.961Z"
   },
   {
    "duration": 31,
    "start_time": "2022-02-18T13:19:53.022Z"
   },
   {
    "duration": 56,
    "start_time": "2022-02-18T13:19:53.057Z"
   },
   {
    "duration": 14,
    "start_time": "2022-02-18T13:19:53.117Z"
   },
   {
    "duration": 62,
    "start_time": "2022-02-18T13:19:53.134Z"
   },
   {
    "duration": 350,
    "start_time": "2022-02-18T13:19:53.199Z"
   },
   {
    "duration": 14,
    "start_time": "2022-02-18T13:19:53.552Z"
   },
   {
    "duration": 53,
    "start_time": "2022-02-18T13:19:53.568Z"
   },
   {
    "duration": 9,
    "start_time": "2022-02-18T13:21:46.625Z"
   },
   {
    "duration": 541,
    "start_time": "2022-02-18T13:22:08.452Z"
   },
   {
    "duration": 398,
    "start_time": "2022-02-18T13:22:20.646Z"
   },
   {
    "duration": 386,
    "start_time": "2022-02-18T13:22:31.187Z"
   },
   {
    "duration": 590,
    "start_time": "2022-02-18T13:22:54.360Z"
   },
   {
    "duration": 596,
    "start_time": "2022-02-18T13:22:59.609Z"
   },
   {
    "duration": 625,
    "start_time": "2022-02-18T13:23:07.141Z"
   },
   {
    "duration": 856,
    "start_time": "2022-02-18T13:23:33.165Z"
   },
   {
    "duration": 896,
    "start_time": "2022-02-18T13:23:41.066Z"
   },
   {
    "duration": 573,
    "start_time": "2022-02-18T13:24:15.451Z"
   },
   {
    "duration": 574,
    "start_time": "2022-02-18T13:24:21.294Z"
   },
   {
    "duration": 702,
    "start_time": "2022-02-18T13:24:26.533Z"
   },
   {
    "duration": 932,
    "start_time": "2022-02-18T13:24:41.155Z"
   },
   {
    "duration": 1246,
    "start_time": "2022-02-18T13:24:50.886Z"
   },
   {
    "duration": 777,
    "start_time": "2022-02-18T13:25:10.848Z"
   },
   {
    "duration": 1266,
    "start_time": "2022-02-18T13:25:13.069Z"
   },
   {
    "duration": 1150,
    "start_time": "2022-02-18T13:25:27.585Z"
   },
   {
    "duration": 1506,
    "start_time": "2022-02-18T13:26:18.000Z"
   },
   {
    "duration": 772,
    "start_time": "2022-02-18T13:26:30.098Z"
   },
   {
    "duration": 39,
    "start_time": "2022-02-18T13:27:23.017Z"
   },
   {
    "duration": 14,
    "start_time": "2022-02-18T13:28:21.343Z"
   },
   {
    "duration": 327,
    "start_time": "2022-02-18T13:28:45.037Z"
   },
   {
    "duration": 16,
    "start_time": "2022-02-18T13:28:55.176Z"
   },
   {
    "duration": 1234,
    "start_time": "2022-02-18T13:28:56.598Z"
   },
   {
    "duration": 14,
    "start_time": "2022-02-18T13:29:12.666Z"
   },
   {
    "duration": 1167,
    "start_time": "2022-02-18T13:29:13.635Z"
   },
   {
    "duration": 808,
    "start_time": "2022-02-18T13:29:15.965Z"
   },
   {
    "duration": 1133,
    "start_time": "2022-02-18T13:29:28.009Z"
   },
   {
    "duration": 1135,
    "start_time": "2022-02-18T13:29:44.852Z"
   },
   {
    "duration": 1220,
    "start_time": "2022-02-18T13:29:51.018Z"
   },
   {
    "duration": 847,
    "start_time": "2022-02-18T13:30:07.833Z"
   },
   {
    "duration": 35,
    "start_time": "2022-02-18T13:30:11.126Z"
   },
   {
    "duration": 14,
    "start_time": "2022-02-18T13:31:28.605Z"
   },
   {
    "duration": 15,
    "start_time": "2022-02-18T13:31:36.928Z"
   },
   {
    "duration": 85,
    "start_time": "2022-02-18T13:32:53.617Z"
   },
   {
    "duration": 57,
    "start_time": "2022-02-18T13:34:06.670Z"
   },
   {
    "duration": 74,
    "start_time": "2022-02-18T13:34:27.162Z"
   },
   {
    "duration": 14,
    "start_time": "2022-02-18T13:56:30.899Z"
   },
   {
    "duration": 13,
    "start_time": "2022-02-18T13:56:50.265Z"
   },
   {
    "duration": 675,
    "start_time": "2022-02-27T19:51:22.515Z"
   },
   {
    "duration": 682,
    "start_time": "2022-02-27T19:51:41.543Z"
   },
   {
    "duration": 11,
    "start_time": "2022-02-27T19:51:42.227Z"
   },
   {
    "duration": 37,
    "start_time": "2022-02-27T19:51:42.240Z"
   },
   {
    "duration": 6,
    "start_time": "2022-02-27T19:51:42.279Z"
   },
   {
    "duration": 8,
    "start_time": "2022-02-27T19:51:42.287Z"
   },
   {
    "duration": 18,
    "start_time": "2022-02-27T19:51:42.298Z"
   },
   {
    "duration": 9,
    "start_time": "2022-02-27T19:51:42.318Z"
   },
   {
    "duration": 59,
    "start_time": "2022-02-27T19:51:42.329Z"
   },
   {
    "duration": 13,
    "start_time": "2022-02-27T19:51:42.390Z"
   },
   {
    "duration": 41,
    "start_time": "2022-02-27T19:51:42.405Z"
   },
   {
    "duration": 42,
    "start_time": "2022-02-27T19:51:42.448Z"
   },
   {
    "duration": 463,
    "start_time": "2022-02-27T19:51:42.492Z"
   },
   {
    "duration": 268,
    "start_time": "2022-02-27T19:51:42.957Z"
   },
   {
    "duration": 462,
    "start_time": "2022-02-27T19:51:43.227Z"
   },
   {
    "duration": 402,
    "start_time": "2022-02-27T19:51:43.691Z"
   },
   {
    "duration": 597,
    "start_time": "2022-02-27T19:51:44.095Z"
   },
   {
    "duration": 5,
    "start_time": "2022-02-27T19:51:44.694Z"
   },
   {
    "duration": 315,
    "start_time": "2022-02-27T19:51:44.703Z"
   },
   {
    "duration": 418,
    "start_time": "2022-02-27T19:51:45.020Z"
   },
   {
    "duration": 22,
    "start_time": "2022-02-27T19:51:45.440Z"
   },
   {
    "duration": 7,
    "start_time": "2022-02-27T19:51:45.477Z"
   },
   {
    "duration": 7,
    "start_time": "2022-02-27T19:51:45.486Z"
   },
   {
    "duration": 12,
    "start_time": "2022-02-27T19:51:45.495Z"
   },
   {
    "duration": 14,
    "start_time": "2022-02-27T19:51:45.508Z"
   },
   {
    "duration": 58,
    "start_time": "2022-02-27T19:51:45.525Z"
   },
   {
    "duration": 22,
    "start_time": "2022-02-27T19:51:45.586Z"
   },
   {
    "duration": 21,
    "start_time": "2022-02-27T19:51:45.610Z"
   },
   {
    "duration": 58,
    "start_time": "2022-02-27T19:51:45.633Z"
   },
   {
    "duration": 39,
    "start_time": "2022-02-27T19:51:45.694Z"
   },
   {
    "duration": 294,
    "start_time": "2022-02-27T19:51:45.735Z"
   },
   {
    "duration": 11,
    "start_time": "2022-02-27T19:51:46.031Z"
   },
   {
    "duration": 962,
    "start_time": "2022-02-27T19:51:46.045Z"
   },
   {
    "duration": 548,
    "start_time": "2022-02-27T19:51:47.009Z"
   },
   {
    "duration": 737,
    "start_time": "2022-02-27T19:51:47.559Z"
   },
   {
    "duration": 866,
    "start_time": "2022-02-27T19:51:48.298Z"
   },
   {
    "duration": 514,
    "start_time": "2022-02-27T19:51:49.166Z"
   },
   {
    "duration": 26,
    "start_time": "2022-02-27T19:51:49.682Z"
   },
   {
    "duration": 11,
    "start_time": "2022-02-27T19:51:49.711Z"
   },
   {
    "duration": 75,
    "start_time": "2022-02-27T19:51:49.724Z"
   },
   {
    "duration": 37,
    "start_time": "2022-02-27T19:51:49.801Z"
   },
   {
    "duration": 63,
    "start_time": "2022-02-27T19:51:49.840Z"
   },
   {
    "duration": 282,
    "start_time": "2022-02-27T20:24:39.562Z"
   },
   {
    "duration": 284,
    "start_time": "2022-02-27T20:24:45.113Z"
   },
   {
    "duration": 266,
    "start_time": "2022-02-27T20:24:58.797Z"
   },
   {
    "duration": 280,
    "start_time": "2022-02-27T20:25:04.278Z"
   },
   {
    "duration": 295,
    "start_time": "2022-02-27T20:25:07.836Z"
   },
   {
    "duration": 293,
    "start_time": "2022-02-27T20:25:14.628Z"
   },
   {
    "duration": 509,
    "start_time": "2022-02-27T20:25:29.941Z"
   },
   {
    "duration": 380,
    "start_time": "2022-02-27T20:25:33.600Z"
   },
   {
    "duration": 369,
    "start_time": "2022-02-27T20:25:47.055Z"
   },
   {
    "duration": 378,
    "start_time": "2022-02-27T20:27:41.217Z"
   },
   {
    "duration": 391,
    "start_time": "2022-02-27T20:28:05.698Z"
   },
   {
    "duration": 1053,
    "start_time": "2022-02-27T20:28:32.452Z"
   },
   {
    "duration": 1184,
    "start_time": "2022-02-27T20:28:44.957Z"
   },
   {
    "duration": 1199,
    "start_time": "2022-02-27T20:28:47.226Z"
   },
   {
    "duration": 383,
    "start_time": "2022-02-27T20:29:11.199Z"
   },
   {
    "duration": 246,
    "start_time": "2022-03-02T20:58:02.167Z"
   },
   {
    "duration": 605,
    "start_time": "2022-03-02T20:58:13.240Z"
   },
   {
    "duration": 10,
    "start_time": "2022-03-02T20:58:13.846Z"
   },
   {
    "duration": 19,
    "start_time": "2022-03-02T20:58:13.858Z"
   },
   {
    "duration": 4,
    "start_time": "2022-03-02T20:58:13.879Z"
   },
   {
    "duration": 6,
    "start_time": "2022-03-02T20:58:13.901Z"
   },
   {
    "duration": 14,
    "start_time": "2022-03-02T20:58:13.908Z"
   },
   {
    "duration": 8,
    "start_time": "2022-03-02T20:58:13.924Z"
   },
   {
    "duration": 20,
    "start_time": "2022-03-02T20:58:13.935Z"
   },
   {
    "duration": 10,
    "start_time": "2022-03-02T20:58:13.956Z"
   },
   {
    "duration": 63,
    "start_time": "2022-03-02T20:58:13.968Z"
   },
   {
    "duration": 20,
    "start_time": "2022-03-02T20:58:14.032Z"
   },
   {
    "duration": 349,
    "start_time": "2022-03-02T20:58:14.054Z"
   },
   {
    "duration": 204,
    "start_time": "2022-03-02T20:58:14.404Z"
   },
   {
    "duration": 332,
    "start_time": "2022-03-02T20:58:14.610Z"
   },
   {
    "duration": 281,
    "start_time": "2022-03-02T20:58:14.943Z"
   },
   {
    "duration": 421,
    "start_time": "2022-03-02T20:58:15.225Z"
   },
   {
    "duration": 4,
    "start_time": "2022-03-02T20:58:15.648Z"
   },
   {
    "duration": 305,
    "start_time": "2022-03-02T20:58:15.653Z"
   },
   {
    "duration": 297,
    "start_time": "2022-03-02T20:58:15.960Z"
   },
   {
    "duration": 18,
    "start_time": "2022-03-02T20:58:16.259Z"
   },
   {
    "duration": 23,
    "start_time": "2022-03-02T20:58:16.278Z"
   },
   {
    "duration": 7,
    "start_time": "2022-03-02T20:58:16.303Z"
   },
   {
    "duration": 509,
    "start_time": "2022-03-02T20:58:16.313Z"
   },
   {
    "duration": 10,
    "start_time": "2022-03-02T20:58:16.824Z"
   },
   {
    "duration": 12,
    "start_time": "2022-03-02T20:58:16.836Z"
   },
   {
    "duration": 16,
    "start_time": "2022-03-02T20:58:16.850Z"
   },
   {
    "duration": 46,
    "start_time": "2022-03-02T20:58:16.867Z"
   },
   {
    "duration": 16,
    "start_time": "2022-03-02T20:58:16.915Z"
   },
   {
    "duration": 14,
    "start_time": "2022-03-02T20:58:16.933Z"
   },
   {
    "duration": 19,
    "start_time": "2022-03-02T20:58:16.948Z"
   },
   {
    "duration": 186,
    "start_time": "2022-03-02T20:58:16.969Z"
   },
   {
    "duration": 8,
    "start_time": "2022-03-02T20:58:17.156Z"
   },
   {
    "duration": 540,
    "start_time": "2022-03-02T20:58:17.166Z"
   },
   {
    "duration": 371,
    "start_time": "2022-03-02T20:58:17.708Z"
   },
   {
    "duration": 598,
    "start_time": "2022-03-02T20:58:18.081Z"
   },
   {
    "duration": 561,
    "start_time": "2022-03-02T20:58:18.681Z"
   },
   {
    "duration": 371,
    "start_time": "2022-03-02T20:58:19.243Z"
   },
   {
    "duration": 20,
    "start_time": "2022-03-02T20:58:19.616Z"
   },
   {
    "duration": 9,
    "start_time": "2022-03-02T20:58:19.637Z"
   },
   {
    "duration": 55,
    "start_time": "2022-03-02T20:58:19.647Z"
   },
   {
    "duration": 30,
    "start_time": "2022-03-02T20:58:19.704Z"
   },
   {
    "duration": 29,
    "start_time": "2022-03-02T20:58:19.736Z"
   },
   {
    "duration": 451,
    "start_time": "2022-03-02T21:01:11.987Z"
   },
   {
    "duration": 339,
    "start_time": "2022-03-02T21:01:35.294Z"
   },
   {
    "duration": 405,
    "start_time": "2022-03-02T21:01:39.480Z"
   },
   {
    "duration": 543,
    "start_time": "2022-03-02T21:02:11.678Z"
   },
   {
    "duration": 465,
    "start_time": "2022-03-02T21:02:17.249Z"
   },
   {
    "duration": 428,
    "start_time": "2022-03-02T21:02:35.405Z"
   },
   {
    "duration": 422,
    "start_time": "2022-03-02T21:02:58.797Z"
   },
   {
    "duration": 426,
    "start_time": "2022-03-02T21:03:06.009Z"
   },
   {
    "duration": 541,
    "start_time": "2022-03-02T21:03:39.845Z"
   },
   {
    "duration": 479,
    "start_time": "2022-03-02T21:03:47.021Z"
   },
   {
    "duration": 455,
    "start_time": "2022-03-02T21:03:53.974Z"
   },
   {
    "duration": 422,
    "start_time": "2022-03-02T21:04:02.572Z"
   },
   {
    "duration": 847,
    "start_time": "2022-03-02T21:04:33.007Z"
   },
   {
    "duration": 888,
    "start_time": "2022-03-02T21:04:41.759Z"
   },
   {
    "duration": 1782,
    "start_time": "2022-03-02T21:06:41.242Z"
   },
   {
    "duration": 1370,
    "start_time": "2022-03-02T21:09:45.778Z"
   },
   {
    "duration": 10,
    "start_time": "2022-03-02T21:15:01.030Z"
   },
   {
    "duration": 773,
    "start_time": "2022-03-02T21:24:25.695Z"
   },
   {
    "duration": 1478,
    "start_time": "2022-03-02T21:25:02.377Z"
   },
   {
    "duration": 927,
    "start_time": "2022-03-02T21:26:17.925Z"
   },
   {
    "duration": 933,
    "start_time": "2022-03-02T21:26:23.125Z"
   },
   {
    "duration": 848,
    "start_time": "2022-03-02T21:26:42.023Z"
   },
   {
    "duration": 716,
    "start_time": "2022-03-02T21:26:46.075Z"
   },
   {
    "duration": 701,
    "start_time": "2022-03-02T21:26:51.784Z"
   },
   {
    "duration": 662,
    "start_time": "2022-03-02T21:26:58.417Z"
   },
   {
    "duration": 639,
    "start_time": "2022-03-02T21:27:03.151Z"
   },
   {
    "duration": 711,
    "start_time": "2022-03-02T21:27:06.882Z"
   },
   {
    "duration": 934,
    "start_time": "2022-03-02T21:27:13.443Z"
   },
   {
    "duration": 664,
    "start_time": "2022-03-02T21:27:17.325Z"
   },
   {
    "duration": 689,
    "start_time": "2022-03-02T21:30:23.107Z"
   },
   {
    "duration": 706,
    "start_time": "2022-03-02T21:31:31.867Z"
   },
   {
    "duration": 688,
    "start_time": "2022-03-02T21:31:44.609Z"
   },
   {
    "duration": 1446,
    "start_time": "2022-03-02T21:32:22.797Z"
   },
   {
    "duration": 1466,
    "start_time": "2022-03-02T21:32:35.602Z"
   },
   {
    "duration": 711,
    "start_time": "2022-03-02T21:32:49.481Z"
   },
   {
    "duration": 285,
    "start_time": "2022-03-03T18:19:15.553Z"
   },
   {
    "duration": 654,
    "start_time": "2022-03-03T18:19:24.108Z"
   },
   {
    "duration": 10,
    "start_time": "2022-03-03T18:19:24.765Z"
   },
   {
    "duration": 28,
    "start_time": "2022-03-03T18:19:24.777Z"
   },
   {
    "duration": 5,
    "start_time": "2022-03-03T18:19:24.807Z"
   },
   {
    "duration": 14,
    "start_time": "2022-03-03T18:19:24.814Z"
   },
   {
    "duration": 34,
    "start_time": "2022-03-03T18:19:24.829Z"
   },
   {
    "duration": 9,
    "start_time": "2022-03-03T18:19:24.864Z"
   },
   {
    "duration": 21,
    "start_time": "2022-03-03T18:19:24.876Z"
   },
   {
    "duration": 12,
    "start_time": "2022-03-03T18:19:24.899Z"
   },
   {
    "duration": 33,
    "start_time": "2022-03-03T18:19:24.912Z"
   },
   {
    "duration": 18,
    "start_time": "2022-03-03T18:19:24.947Z"
   },
   {
    "duration": 444,
    "start_time": "2022-03-03T18:19:24.967Z"
   },
   {
    "duration": 236,
    "start_time": "2022-03-03T18:19:25.413Z"
   },
   {
    "duration": 344,
    "start_time": "2022-03-03T18:19:25.651Z"
   },
   {
    "duration": 280,
    "start_time": "2022-03-03T18:19:25.996Z"
   },
   {
    "duration": 414,
    "start_time": "2022-03-03T18:19:26.278Z"
   },
   {
    "duration": 4,
    "start_time": "2022-03-03T18:19:26.693Z"
   },
   {
    "duration": 293,
    "start_time": "2022-03-03T18:19:26.698Z"
   },
   {
    "duration": 299,
    "start_time": "2022-03-03T18:19:26.993Z"
   },
   {
    "duration": 343,
    "start_time": "2022-03-03T18:19:27.293Z"
   },
   {
    "duration": 17,
    "start_time": "2022-03-03T18:19:27.637Z"
   },
   {
    "duration": 5,
    "start_time": "2022-03-03T18:19:27.656Z"
   },
   {
    "duration": 1382,
    "start_time": "2022-03-03T18:19:27.664Z"
   },
   {
    "duration": 11,
    "start_time": "2022-03-03T18:19:29.048Z"
   },
   {
    "duration": 16,
    "start_time": "2022-03-03T18:19:29.061Z"
   },
   {
    "duration": 39,
    "start_time": "2022-03-03T18:19:29.079Z"
   },
   {
    "duration": 16,
    "start_time": "2022-03-03T18:19:29.120Z"
   },
   {
    "duration": 16,
    "start_time": "2022-03-03T18:19:29.138Z"
   },
   {
    "duration": 15,
    "start_time": "2022-03-03T18:19:29.156Z"
   },
   {
    "duration": 48,
    "start_time": "2022-03-03T18:19:29.172Z"
   },
   {
    "duration": 167,
    "start_time": "2022-03-03T18:19:29.221Z"
   },
   {
    "duration": 15,
    "start_time": "2022-03-03T18:19:29.390Z"
   },
   {
    "duration": 526,
    "start_time": "2022-03-03T18:19:29.406Z"
   },
   {
    "duration": 367,
    "start_time": "2022-03-03T18:19:29.933Z"
   },
   {
    "duration": 591,
    "start_time": "2022-03-03T18:19:30.305Z"
   },
   {
    "duration": 1005,
    "start_time": "2022-03-03T18:19:30.905Z"
   },
   {
    "duration": 564,
    "start_time": "2022-03-03T18:19:31.912Z"
   },
   {
    "duration": 31,
    "start_time": "2022-03-03T18:19:32.478Z"
   },
   {
    "duration": 7,
    "start_time": "2022-03-03T18:19:32.511Z"
   },
   {
    "duration": 724,
    "start_time": "2022-03-03T18:19:32.519Z"
   },
   {
    "duration": 1385,
    "start_time": "2022-03-03T18:19:33.244Z"
   },
   {
    "duration": 30,
    "start_time": "2022-03-03T18:19:34.631Z"
   },
   {
    "duration": 44,
    "start_time": "2022-03-03T18:19:34.663Z"
   },
   {
    "duration": 29,
    "start_time": "2022-03-03T18:19:34.709Z"
   },
   {
    "duration": 284,
    "start_time": "2022-03-03T18:19:38.643Z"
   },
   {
    "duration": 158,
    "start_time": "2022-03-03T18:20:19.602Z"
   },
   {
    "duration": 140,
    "start_time": "2022-03-03T18:20:24.839Z"
   },
   {
    "duration": 91,
    "start_time": "2022-03-03T18:20:55.192Z"
   },
   {
    "duration": 333,
    "start_time": "2022-03-03T18:25:06.517Z"
   },
   {
    "duration": 276,
    "start_time": "2022-03-03T18:25:14.836Z"
   },
   {
    "duration": 321,
    "start_time": "2022-03-03T18:27:05.927Z"
   },
   {
    "duration": 281,
    "start_time": "2022-03-03T18:27:08.926Z"
   },
   {
    "duration": 638,
    "start_time": "2022-03-03T18:27:34.908Z"
   },
   {
    "duration": 9,
    "start_time": "2022-03-03T18:27:35.548Z"
   },
   {
    "duration": 19,
    "start_time": "2022-03-03T18:27:35.559Z"
   },
   {
    "duration": 6,
    "start_time": "2022-03-03T18:27:35.580Z"
   },
   {
    "duration": 22,
    "start_time": "2022-03-03T18:27:35.587Z"
   },
   {
    "duration": 15,
    "start_time": "2022-03-03T18:27:35.610Z"
   },
   {
    "duration": 8,
    "start_time": "2022-03-03T18:27:35.626Z"
   },
   {
    "duration": 22,
    "start_time": "2022-03-03T18:27:35.636Z"
   },
   {
    "duration": 11,
    "start_time": "2022-03-03T18:27:35.659Z"
   },
   {
    "duration": 65,
    "start_time": "2022-03-03T18:27:35.672Z"
   },
   {
    "duration": 19,
    "start_time": "2022-03-03T18:27:35.738Z"
   },
   {
    "duration": 346,
    "start_time": "2022-03-03T18:27:35.759Z"
   },
   {
    "duration": 188,
    "start_time": "2022-03-03T18:27:36.107Z"
   },
   {
    "duration": 333,
    "start_time": "2022-03-03T18:27:36.297Z"
   },
   {
    "duration": 287,
    "start_time": "2022-03-03T18:27:36.632Z"
   },
   {
    "duration": 416,
    "start_time": "2022-03-03T18:27:36.920Z"
   },
   {
    "duration": 4,
    "start_time": "2022-03-03T18:27:37.337Z"
   },
   {
    "duration": 303,
    "start_time": "2022-03-03T18:27:37.342Z"
   },
   {
    "duration": 161,
    "start_time": "2022-03-03T18:27:37.647Z"
   },
   {
    "duration": 96,
    "start_time": "2022-03-03T18:27:37.809Z"
   },
   {
    "duration": 88,
    "start_time": "2022-03-03T18:27:37.907Z"
   },
   {
    "duration": 99,
    "start_time": "2022-03-03T18:27:37.997Z"
   },
   {
    "duration": 283,
    "start_time": "2022-03-03T18:27:38.099Z"
   },
   {
    "duration": 307,
    "start_time": "2022-03-03T18:27:38.384Z"
   },
   {
    "duration": -185,
    "start_time": "2022-03-03T18:27:38.878Z"
   },
   {
    "duration": -190,
    "start_time": "2022-03-03T18:27:38.884Z"
   },
   {
    "duration": -193,
    "start_time": "2022-03-03T18:27:38.888Z"
   },
   {
    "duration": -196,
    "start_time": "2022-03-03T18:27:38.892Z"
   },
   {
    "duration": -201,
    "start_time": "2022-03-03T18:27:38.897Z"
   },
   {
    "duration": -205,
    "start_time": "2022-03-03T18:27:38.902Z"
   },
   {
    "duration": -208,
    "start_time": "2022-03-03T18:27:38.906Z"
   },
   {
    "duration": -213,
    "start_time": "2022-03-03T18:27:38.912Z"
   },
   {
    "duration": -216,
    "start_time": "2022-03-03T18:27:38.916Z"
   },
   {
    "duration": -222,
    "start_time": "2022-03-03T18:27:38.922Z"
   },
   {
    "duration": -226,
    "start_time": "2022-03-03T18:27:38.927Z"
   },
   {
    "duration": -230,
    "start_time": "2022-03-03T18:27:38.932Z"
   },
   {
    "duration": -233,
    "start_time": "2022-03-03T18:27:38.936Z"
   },
   {
    "duration": -237,
    "start_time": "2022-03-03T18:27:38.941Z"
   },
   {
    "duration": -240,
    "start_time": "2022-03-03T18:27:38.945Z"
   },
   {
    "duration": -244,
    "start_time": "2022-03-03T18:27:38.949Z"
   },
   {
    "duration": -246,
    "start_time": "2022-03-03T18:27:38.952Z"
   },
   {
    "duration": -250,
    "start_time": "2022-03-03T18:27:38.957Z"
   },
   {
    "duration": -252,
    "start_time": "2022-03-03T18:27:38.960Z"
   },
   {
    "duration": -255,
    "start_time": "2022-03-03T18:27:38.964Z"
   },
   {
    "duration": -259,
    "start_time": "2022-03-03T18:27:38.968Z"
   },
   {
    "duration": -270,
    "start_time": "2022-03-03T18:27:38.980Z"
   },
   {
    "duration": -272,
    "start_time": "2022-03-03T18:27:38.983Z"
   },
   {
    "duration": 891,
    "start_time": "2022-03-04T13:37:02.845Z"
   },
   {
    "duration": 23,
    "start_time": "2022-03-04T13:37:03.739Z"
   },
   {
    "duration": 39,
    "start_time": "2022-03-04T13:37:03.765Z"
   },
   {
    "duration": 7,
    "start_time": "2022-03-04T13:37:03.807Z"
   },
   {
    "duration": 38,
    "start_time": "2022-03-04T13:37:03.817Z"
   },
   {
    "duration": 26,
    "start_time": "2022-03-04T13:37:03.858Z"
   },
   {
    "duration": 13,
    "start_time": "2022-03-04T13:37:03.886Z"
   },
   {
    "duration": 62,
    "start_time": "2022-03-04T13:37:03.903Z"
   },
   {
    "duration": 16,
    "start_time": "2022-03-04T13:37:03.968Z"
   },
   {
    "duration": 76,
    "start_time": "2022-03-04T13:37:03.986Z"
   },
   {
    "duration": 34,
    "start_time": "2022-03-04T13:37:04.064Z"
   },
   {
    "duration": 623,
    "start_time": "2022-03-04T13:37:04.101Z"
   },
   {
    "duration": 349,
    "start_time": "2022-03-04T13:37:04.726Z"
   },
   {
    "duration": 575,
    "start_time": "2022-03-04T13:37:05.077Z"
   },
   {
    "duration": 538,
    "start_time": "2022-03-04T13:37:05.654Z"
   },
   {
    "duration": 891,
    "start_time": "2022-03-04T13:37:06.194Z"
   },
   {
    "duration": 6,
    "start_time": "2022-03-04T13:37:07.087Z"
   },
   {
    "duration": 588,
    "start_time": "2022-03-04T13:37:07.095Z"
   },
   {
    "duration": 230,
    "start_time": "2022-03-04T13:37:07.686Z"
   },
   {
    "duration": 159,
    "start_time": "2022-03-04T13:37:07.919Z"
   },
   {
    "duration": 160,
    "start_time": "2022-03-04T13:37:08.081Z"
   },
   {
    "duration": 161,
    "start_time": "2022-03-04T13:37:08.244Z"
   },
   {
    "duration": 598,
    "start_time": "2022-03-04T13:37:08.412Z"
   },
   {
    "duration": 398,
    "start_time": "2022-03-04T13:37:09.014Z"
   },
   {
    "duration": -21,
    "start_time": "2022-03-04T13:37:09.435Z"
   },
   {
    "duration": -31,
    "start_time": "2022-03-04T13:37:09.447Z"
   },
   {
    "duration": -34,
    "start_time": "2022-03-04T13:37:09.452Z"
   },
   {
    "duration": -47,
    "start_time": "2022-03-04T13:37:09.466Z"
   },
   {
    "duration": -51,
    "start_time": "2022-03-04T13:37:09.472Z"
   },
   {
    "duration": -64,
    "start_time": "2022-03-04T13:37:09.486Z"
   },
   {
    "duration": -76,
    "start_time": "2022-03-04T13:37:09.500Z"
   },
   {
    "duration": -81,
    "start_time": "2022-03-04T13:37:09.506Z"
   },
   {
    "duration": -90,
    "start_time": "2022-03-04T13:37:09.517Z"
   },
   {
    "duration": -94,
    "start_time": "2022-03-04T13:37:09.522Z"
   },
   {
    "duration": -104,
    "start_time": "2022-03-04T13:37:09.534Z"
   },
   {
    "duration": -106,
    "start_time": "2022-03-04T13:37:09.538Z"
   },
   {
    "duration": -116,
    "start_time": "2022-03-04T13:37:09.549Z"
   },
   {
    "duration": -119,
    "start_time": "2022-03-04T13:37:09.554Z"
   },
   {
    "duration": -129,
    "start_time": "2022-03-04T13:37:09.565Z"
   },
   {
    "duration": -132,
    "start_time": "2022-03-04T13:37:09.570Z"
   },
   {
    "duration": -140,
    "start_time": "2022-03-04T13:37:09.580Z"
   },
   {
    "duration": -144,
    "start_time": "2022-03-04T13:37:09.585Z"
   },
   {
    "duration": -138,
    "start_time": "2022-03-04T13:37:09.589Z"
   },
   {
    "duration": -148,
    "start_time": "2022-03-04T13:37:09.600Z"
   },
   {
    "duration": -150,
    "start_time": "2022-03-04T13:37:09.604Z"
   },
   {
    "duration": -158,
    "start_time": "2022-03-04T13:37:09.614Z"
   },
   {
    "duration": -161,
    "start_time": "2022-03-04T13:37:09.618Z"
   },
   {
    "duration": 651,
    "start_time": "2022-03-04T13:38:04.150Z"
   },
   {
    "duration": 858,
    "start_time": "2022-03-04T13:39:02.045Z"
   },
   {
    "duration": 16,
    "start_time": "2022-03-04T13:39:02.905Z"
   },
   {
    "duration": 48,
    "start_time": "2022-03-04T13:39:02.924Z"
   },
   {
    "duration": 7,
    "start_time": "2022-03-04T13:39:02.975Z"
   },
   {
    "duration": 12,
    "start_time": "2022-03-04T13:39:02.984Z"
   },
   {
    "duration": 52,
    "start_time": "2022-03-04T13:39:02.999Z"
   },
   {
    "duration": 13,
    "start_time": "2022-03-04T13:39:03.053Z"
   },
   {
    "duration": 36,
    "start_time": "2022-03-04T13:39:03.069Z"
   },
   {
    "duration": 46,
    "start_time": "2022-03-04T13:39:03.109Z"
   },
   {
    "duration": 53,
    "start_time": "2022-03-04T13:39:03.158Z"
   },
   {
    "duration": 56,
    "start_time": "2022-03-04T13:39:03.213Z"
   },
   {
    "duration": 796,
    "start_time": "2022-03-04T13:39:03.273Z"
   },
   {
    "duration": 916,
    "start_time": "2022-03-04T13:39:04.072Z"
   },
   {
    "duration": 573,
    "start_time": "2022-03-04T13:39:04.990Z"
   },
   {
    "duration": 558,
    "start_time": "2022-03-04T13:39:05.566Z"
   },
   {
    "duration": 802,
    "start_time": "2022-03-04T13:39:06.127Z"
   },
   {
    "duration": 6,
    "start_time": "2022-03-04T13:39:06.932Z"
   },
   {
    "duration": 585,
    "start_time": "2022-03-04T13:39:06.952Z"
   },
   {
    "duration": 219,
    "start_time": "2022-03-04T13:39:07.539Z"
   },
   {
    "duration": 157,
    "start_time": "2022-03-04T13:39:07.760Z"
   },
   {
    "duration": 157,
    "start_time": "2022-03-04T13:39:07.920Z"
   },
   {
    "duration": 4,
    "start_time": "2022-03-04T13:39:08.080Z"
   },
   {
    "duration": 566,
    "start_time": "2022-03-04T13:39:08.092Z"
   },
   {
    "duration": 88,
    "start_time": "2022-03-04T13:39:08.663Z"
   },
   {
    "duration": 948,
    "start_time": "2022-03-04T13:39:08.753Z"
   },
   {
    "duration": -56,
    "start_time": "2022-03-04T13:39:09.761Z"
   },
   {
    "duration": -59,
    "start_time": "2022-03-04T13:39:09.766Z"
   },
   {
    "duration": -62,
    "start_time": "2022-03-04T13:39:09.771Z"
   },
   {
    "duration": -63,
    "start_time": "2022-03-04T13:39:09.775Z"
   },
   {
    "duration": -66,
    "start_time": "2022-03-04T13:39:09.780Z"
   },
   {
    "duration": -68,
    "start_time": "2022-03-04T13:39:09.784Z"
   },
   {
    "duration": -70,
    "start_time": "2022-03-04T13:39:09.788Z"
   },
   {
    "duration": -71,
    "start_time": "2022-03-04T13:39:09.792Z"
   },
   {
    "duration": -74,
    "start_time": "2022-03-04T13:39:09.797Z"
   },
   {
    "duration": -75,
    "start_time": "2022-03-04T13:39:09.801Z"
   },
   {
    "duration": -77,
    "start_time": "2022-03-04T13:39:09.805Z"
   },
   {
    "duration": -82,
    "start_time": "2022-03-04T13:39:09.812Z"
   },
   {
    "duration": -84,
    "start_time": "2022-03-04T13:39:09.816Z"
   },
   {
    "duration": -87,
    "start_time": "2022-03-04T13:39:09.820Z"
   },
   {
    "duration": -91,
    "start_time": "2022-03-04T13:39:09.825Z"
   },
   {
    "duration": -93,
    "start_time": "2022-03-04T13:39:09.829Z"
   },
   {
    "duration": -96,
    "start_time": "2022-03-04T13:39:09.833Z"
   },
   {
    "duration": -85,
    "start_time": "2022-03-04T13:39:09.836Z"
   },
   {
    "duration": -88,
    "start_time": "2022-03-04T13:39:09.840Z"
   },
   {
    "duration": -89,
    "start_time": "2022-03-04T13:39:09.843Z"
   },
   {
    "duration": -92,
    "start_time": "2022-03-04T13:39:09.847Z"
   },
   {
    "duration": -95,
    "start_time": "2022-03-04T13:39:09.851Z"
   }
  ],
  "kernelspec": {
   "display_name": "Python 3 (ipykernel)",
   "language": "python",
   "name": "python3"
  },
  "language_info": {
   "codemirror_mode": {
    "name": "ipython",
    "version": 3
   },
   "file_extension": ".py",
   "mimetype": "text/x-python",
   "name": "python",
   "nbconvert_exporter": "python",
   "pygments_lexer": "ipython3",
   "version": "3.9.7"
  },
  "toc": {
   "base_numbering": 1,
   "nav_menu": {},
   "number_sections": true,
   "sideBar": true,
   "skip_h1_title": true,
   "title_cell": "Содержание",
   "title_sidebar": "Contents",
   "toc_cell": true,
   "toc_position": {
    "height": "914.667px",
    "left": "56px",
    "top": "109.795px",
    "width": "294px"
   },
   "toc_section_display": true,
   "toc_window_display": true
  }
 },
 "nbformat": 4,
 "nbformat_minor": 2
}
