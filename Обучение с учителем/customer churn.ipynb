{
 "cells": [
  {
   "cell_type": "markdown",
   "metadata": {
    "toc": true
   },
   "source": [
    "<h1>Содержание<span class=\"tocSkip\"></span></h1>\n",
    "<div class=\"toc\"><ul class=\"toc-item\"><li><span><a href=\"#Импорт-библиотек\" data-toc-modified-id=\"Импорт-библиотек-1\"><span class=\"toc-item-num\">1&nbsp;&nbsp;</span>Импорт библиотек</a></span></li><li><span><a href=\"#Подготовка-данных\" data-toc-modified-id=\"Подготовка-данных-2\"><span class=\"toc-item-num\">2&nbsp;&nbsp;</span>Подготовка данных</a></span></li><li><span><a href=\"#Подготовка-данных-к-обучению\" data-toc-modified-id=\"Подготовка-данных-к-обучению-3\"><span class=\"toc-item-num\">3&nbsp;&nbsp;</span>Подготовка данных к обучению</a></span></li><li><span><a href=\"#Исследование-задачи\" data-toc-modified-id=\"Исследование-задачи-4\"><span class=\"toc-item-num\">4&nbsp;&nbsp;</span>Исследование задачи</a></span></li><li><span><a href=\"#Борьба-с-дисбалансом\" data-toc-modified-id=\"Борьба-с-дисбалансом-5\"><span class=\"toc-item-num\">5&nbsp;&nbsp;</span>Борьба с дисбалансом</a></span></li><li><span><a href=\"#Тестирование-модели\" data-toc-modified-id=\"Тестирование-модели-6\"><span class=\"toc-item-num\">6&nbsp;&nbsp;</span>Тестирование модели</a></span></li><li><span><a href=\"#Итоговый-вывод\" data-toc-modified-id=\"Итоговый-вывод-7\"><span class=\"toc-item-num\">7&nbsp;&nbsp;</span>Итоговый вывод</a></span></li><li><span><a href=\"#Чек-лист-готовности-проекта\" data-toc-modified-id=\"Чек-лист-готовности-проекта-8\"><span class=\"toc-item-num\">8&nbsp;&nbsp;</span>Чек-лист готовности проекта</a></span></li></ul></div>"
   ]
  },
  {
   "cell_type": "markdown",
   "metadata": {},
   "source": [
    "# Отток клиентов"
   ]
  },
  {
   "cell_type": "markdown",
   "metadata": {},
   "source": [
    "Из «Бета-Банка» стали уходить клиенты. Каждый месяц. Немного, но заметно. Банковские маркетологи посчитали: сохранять текущих клиентов дешевле, чем привлекать новых.\n",
    "\n",
    "Нужно спрогнозировать, уйдёт клиент из банка в ближайшее время или нет. Вам предоставлены исторические данные о поведении клиентов и расторжении договоров с банком. \n",
    "\n",
    "Постройте модель с предельно большим значением *F1*-меры. Чтобы сдать проект успешно, нужно довести метрику до 0.59. Проверьте *F1*-меру на тестовой выборке самостоятельно.\n",
    "\n",
    "Дополнительно измеряйте *AUC-ROC*, сравнивайте её значение с *F1*-мерой.\n",
    "\n",
    "Источник данных: [https://www.kaggle.com/barelydedicated/bank-customer-churn-modeling](https://www.kaggle.com/barelydedicated/bank-customer-churn-modeling)"
   ]
  },
  {
   "cell_type": "markdown",
   "metadata": {},
   "source": [
    "## Импорт библиотек"
   ]
  },
  {
   "cell_type": "code",
   "execution_count": 1,
   "metadata": {},
   "outputs": [],
   "source": [
    "import pandas as pd\n",
    "import numpy as np\n",
    "from sklearn.model_selection import train_test_split\n",
    "from sklearn.tree import DecisionTreeClassifier\n",
    "from sklearn.ensemble import RandomForestClassifier\n",
    "from sklearn.linear_model import LogisticRegression\n",
    "from sklearn.metrics import recall_score\n",
    "from sklearn.metrics import precision_score\n",
    "from sklearn.metrics import f1_score\n",
    "from sklearn.preprocessing import StandardScaler\n",
    "from sklearn.metrics import roc_auc_score\n",
    "from sklearn.utils import shuffle"
   ]
  },
  {
   "cell_type": "markdown",
   "metadata": {},
   "source": [
    "## Подготовка данных"
   ]
  },
  {
   "cell_type": "code",
   "execution_count": 2,
   "metadata": {
    "scrolled": true
   },
   "outputs": [
    {
     "data": {
      "text/html": [
       "<div>\n",
       "<style scoped>\n",
       "    .dataframe tbody tr th:only-of-type {\n",
       "        vertical-align: middle;\n",
       "    }\n",
       "\n",
       "    .dataframe tbody tr th {\n",
       "        vertical-align: top;\n",
       "    }\n",
       "\n",
       "    .dataframe thead th {\n",
       "        text-align: right;\n",
       "    }\n",
       "</style>\n",
       "<table border=\"1\" class=\"dataframe\">\n",
       "  <thead>\n",
       "    <tr style=\"text-align: right;\">\n",
       "      <th></th>\n",
       "      <th>RowNumber</th>\n",
       "      <th>CustomerId</th>\n",
       "      <th>Surname</th>\n",
       "      <th>CreditScore</th>\n",
       "      <th>Geography</th>\n",
       "      <th>Gender</th>\n",
       "      <th>Age</th>\n",
       "      <th>Tenure</th>\n",
       "      <th>Balance</th>\n",
       "      <th>NumOfProducts</th>\n",
       "      <th>HasCrCard</th>\n",
       "      <th>IsActiveMember</th>\n",
       "      <th>EstimatedSalary</th>\n",
       "      <th>Exited</th>\n",
       "    </tr>\n",
       "  </thead>\n",
       "  <tbody>\n",
       "    <tr>\n",
       "      <th>8446</th>\n",
       "      <td>8447</td>\n",
       "      <td>15630511</td>\n",
       "      <td>Picot</td>\n",
       "      <td>691</td>\n",
       "      <td>France</td>\n",
       "      <td>Female</td>\n",
       "      <td>33</td>\n",
       "      <td>6.0</td>\n",
       "      <td>0.00</td>\n",
       "      <td>2</td>\n",
       "      <td>1</td>\n",
       "      <td>0</td>\n",
       "      <td>164074.89</td>\n",
       "      <td>0</td>\n",
       "    </tr>\n",
       "    <tr>\n",
       "      <th>9871</th>\n",
       "      <td>9872</td>\n",
       "      <td>15736371</td>\n",
       "      <td>Kennedy</td>\n",
       "      <td>633</td>\n",
       "      <td>France</td>\n",
       "      <td>Female</td>\n",
       "      <td>34</td>\n",
       "      <td>3.0</td>\n",
       "      <td>123034.43</td>\n",
       "      <td>2</td>\n",
       "      <td>1</td>\n",
       "      <td>1</td>\n",
       "      <td>38315.04</td>\n",
       "      <td>0</td>\n",
       "    </tr>\n",
       "    <tr>\n",
       "      <th>2016</th>\n",
       "      <td>2017</td>\n",
       "      <td>15633612</td>\n",
       "      <td>Yuryeva</td>\n",
       "      <td>696</td>\n",
       "      <td>France</td>\n",
       "      <td>Male</td>\n",
       "      <td>28</td>\n",
       "      <td>4.0</td>\n",
       "      <td>172646.82</td>\n",
       "      <td>1</td>\n",
       "      <td>1</td>\n",
       "      <td>1</td>\n",
       "      <td>116471.43</td>\n",
       "      <td>0</td>\n",
       "    </tr>\n",
       "    <tr>\n",
       "      <th>1490</th>\n",
       "      <td>1491</td>\n",
       "      <td>15761976</td>\n",
       "      <td>Su</td>\n",
       "      <td>797</td>\n",
       "      <td>Spain</td>\n",
       "      <td>Female</td>\n",
       "      <td>31</td>\n",
       "      <td>8.0</td>\n",
       "      <td>0.00</td>\n",
       "      <td>2</td>\n",
       "      <td>1</td>\n",
       "      <td>0</td>\n",
       "      <td>117916.63</td>\n",
       "      <td>0</td>\n",
       "    </tr>\n",
       "    <tr>\n",
       "      <th>6705</th>\n",
       "      <td>6706</td>\n",
       "      <td>15782875</td>\n",
       "      <td>Cayley</td>\n",
       "      <td>663</td>\n",
       "      <td>France</td>\n",
       "      <td>Male</td>\n",
       "      <td>33</td>\n",
       "      <td>5.0</td>\n",
       "      <td>157274.36</td>\n",
       "      <td>2</td>\n",
       "      <td>1</td>\n",
       "      <td>1</td>\n",
       "      <td>28531.81</td>\n",
       "      <td>0</td>\n",
       "    </tr>\n",
       "  </tbody>\n",
       "</table>\n",
       "</div>"
      ],
      "text/plain": [
       "      RowNumber  CustomerId  Surname  CreditScore Geography  Gender  Age  \\\n",
       "8446       8447    15630511    Picot          691    France  Female   33   \n",
       "9871       9872    15736371  Kennedy          633    France  Female   34   \n",
       "2016       2017    15633612  Yuryeva          696    France    Male   28   \n",
       "1490       1491    15761976       Su          797     Spain  Female   31   \n",
       "6705       6706    15782875   Cayley          663    France    Male   33   \n",
       "\n",
       "      Tenure    Balance  NumOfProducts  HasCrCard  IsActiveMember  \\\n",
       "8446     6.0       0.00              2          1               0   \n",
       "9871     3.0  123034.43              2          1               1   \n",
       "2016     4.0  172646.82              1          1               1   \n",
       "1490     8.0       0.00              2          1               0   \n",
       "6705     5.0  157274.36              2          1               1   \n",
       "\n",
       "      EstimatedSalary  Exited  \n",
       "8446        164074.89       0  \n",
       "9871         38315.04       0  \n",
       "2016        116471.43       0  \n",
       "1490        117916.63       0  \n",
       "6705         28531.81       0  "
      ]
     },
     "execution_count": 2,
     "metadata": {},
     "output_type": "execute_result"
    }
   ],
   "source": [
    "data = pd.read_csv('/Users/daniilsobolev/Desktop/ml projects/Обучение с учителем/Churn.csv')\n",
    "data.sample(5)"
   ]
  },
  {
   "cell_type": "code",
   "execution_count": 3,
   "metadata": {
    "scrolled": true
   },
   "outputs": [
    {
     "name": "stdout",
     "output_type": "stream",
     "text": [
      "<class 'pandas.core.frame.DataFrame'>\n",
      "RangeIndex: 10000 entries, 0 to 9999\n",
      "Data columns (total 14 columns):\n",
      " #   Column           Non-Null Count  Dtype  \n",
      "---  ------           --------------  -----  \n",
      " 0   RowNumber        10000 non-null  int64  \n",
      " 1   CustomerId       10000 non-null  int64  \n",
      " 2   Surname          10000 non-null  object \n",
      " 3   CreditScore      10000 non-null  int64  \n",
      " 4   Geography        10000 non-null  object \n",
      " 5   Gender           10000 non-null  object \n",
      " 6   Age              10000 non-null  int64  \n",
      " 7   Tenure           9091 non-null   float64\n",
      " 8   Balance          10000 non-null  float64\n",
      " 9   NumOfProducts    10000 non-null  int64  \n",
      " 10  HasCrCard        10000 non-null  int64  \n",
      " 11  IsActiveMember   10000 non-null  int64  \n",
      " 12  EstimatedSalary  10000 non-null  float64\n",
      " 13  Exited           10000 non-null  int64  \n",
      "dtypes: float64(3), int64(8), object(3)\n",
      "memory usage: 1.1+ MB\n"
     ]
    }
   ],
   "source": [
    "data.info()"
   ]
  },
  {
   "cell_type": "markdown",
   "metadata": {},
   "source": [
    "В столбце **Tenure** есть пропуски, с чем они могли бы быть связаны - не понятно, заменим пропуски медианным значением."
   ]
  },
  {
   "cell_type": "code",
   "execution_count": 4,
   "metadata": {},
   "outputs": [],
   "source": [
    "data['Tenure'] = data['Tenure'].fillna(data['Tenure'].median())"
   ]
  },
  {
   "cell_type": "markdown",
   "metadata": {},
   "source": [
    "## Подготовка данных к обучению"
   ]
  },
  {
   "cell_type": "markdown",
   "metadata": {},
   "source": [
    "Для обучения столбцы **RowNumber**, **CustomerId**, **Surname** нам не понядобяться, удлим их, чтобы они не исказили результаты.\n",
    "\n",
    "**P.S.** Стоило ли так делать? Или же их всё-таки надо оставить? А модель при обучении будет опираться тогда и на них, что в этом случае делать?"
   ]
  },
  {
   "cell_type": "code",
   "execution_count": 5,
   "metadata": {},
   "outputs": [],
   "source": [
    "data = data.drop(['RowNumber', 'CustomerId', 'Surname'], axis=1)"
   ]
  },
  {
   "cell_type": "markdown",
   "metadata": {},
   "source": [
    "Далее нам необходимо преобразовать категориальные признаки: **Geography**, **Gender** в численные, воспользуемся техникой прямого кодирования OHE."
   ]
  },
  {
   "cell_type": "code",
   "execution_count": 6,
   "metadata": {},
   "outputs": [],
   "source": [
    "data = pd.get_dummies(data, drop_first=True)"
   ]
  },
  {
   "cell_type": "markdown",
   "metadata": {},
   "source": [
    "Выделим из данных признаки и целевой признак"
   ]
  },
  {
   "cell_type": "code",
   "execution_count": 7,
   "metadata": {},
   "outputs": [],
   "source": [
    "features = data.drop(['Exited'], axis=1)\n",
    "target = data['Exited']"
   ]
  },
  {
   "cell_type": "markdown",
   "metadata": {},
   "source": [
    "Разделим данные на обучающую, валидационную и тестовую выборки"
   ]
  },
  {
   "cell_type": "code",
   "execution_count": 8,
   "metadata": {
    "scrolled": true
   },
   "outputs": [],
   "source": [
    "features_train, features_valid, target_train, target_valid = train_test_split(features, target, \n",
    "                                                                              test_size=0.40, \n",
    "                                                                              random_state=12345)\n",
    "\n",
    "features_valid, features_test, target_valid, target_test = train_test_split(features_valid, target_valid, \n",
    "                                                                              test_size=0.50, \n",
    "                                                                              random_state=12345)"
   ]
  },
  {
   "cell_type": "code",
   "execution_count": 9,
   "metadata": {
    "scrolled": false
   },
   "outputs": [
    {
     "name": "stdout",
     "output_type": "stream",
     "text": [
      "(6000, 11)\n",
      "(2000, 11)\n",
      "(2000, 11)\n",
      "(6000,)\n",
      "(2000,)\n",
      "(2000,)\n"
     ]
    }
   ],
   "source": [
    "print(features_train.shape)\n",
    "print(features_valid.shape)\n",
    "print(features_test.shape)\n",
    "print(target_train.shape)\n",
    "print(target_valid.shape)\n",
    "print(target_test.shape)\n"
   ]
  },
  {
   "cell_type": "markdown",
   "metadata": {},
   "source": [
    "В данных присутствуют количественные признаки с разным разбросом значений. Поэтому следует масштабировать данные. Проведем стандартизацию данных."
   ]
  },
  {
   "cell_type": "code",
   "execution_count": 10,
   "metadata": {},
   "outputs": [
    {
     "name": "stderr",
     "output_type": "stream",
     "text": [
      "/Users/daniilsobolev/opt/anaconda3/lib/python3.9/site-packages/pandas/core/frame.py:3191: SettingWithCopyWarning: \n",
      "A value is trying to be set on a copy of a slice from a DataFrame.\n",
      "Try using .loc[row_indexer,col_indexer] = value instead\n",
      "\n",
      "See the caveats in the documentation: https://pandas.pydata.org/pandas-docs/stable/user_guide/indexing.html#returning-a-view-versus-a-copy\n",
      "  self[k1] = value[k2]\n"
     ]
    }
   ],
   "source": [
    "numeric = ['CreditScore', 'Age', 'Balance', 'EstimatedSalary', 'NumOfProducts', 'Tenure']\n",
    "\n",
    "scaler = StandardScaler()\n",
    "scaler.fit(features_train[numeric])\n",
    "\n",
    "features_train[numeric] = pd.DataFrame(scaler.transform(features_train[numeric]), \n",
    "                                       features_train[numeric].index, \n",
    "                                       features_train[numeric].columns)\n",
    "\n",
    "features_valid[numeric] = pd.DataFrame(scaler.transform(features_valid[numeric]), \n",
    "                                       features_valid[numeric].index, \n",
    "                                       features_valid[numeric].columns)\n",
    "\n",
    "features_test[numeric] = pd.DataFrame(scaler.transform(features_test[numeric]), \n",
    "                                       features_test[numeric].index, \n",
    "                                       features_test[numeric].columns)\n",
    "\n"
   ]
  },
  {
   "cell_type": "markdown",
   "metadata": {},
   "source": [
    "Посмотрим на баланс классов:"
   ]
  },
  {
   "cell_type": "code",
   "execution_count": 11,
   "metadata": {
    "scrolled": true
   },
   "outputs": [
    {
     "name": "stdout",
     "output_type": "stream",
     "text": [
      "2037\n",
      "10000\n"
     ]
    }
   ],
   "source": [
    "print(data['Exited'].sum())\n",
    "print(data['Exited'].count())"
   ]
  },
  {
   "cell_type": "markdown",
   "metadata": {},
   "source": [
    "То есть класс 0 встречается примерно в 4 раза чаще, чем класс 1. То есть классы не сбалансированны.\n",
    "\n",
    "Исследуем задачу в рамках несбалансированных классов, а после сбалансируем и проведем повторное исследование."
   ]
  },
  {
   "cell_type": "markdown",
   "metadata": {},
   "source": [
    "## Исследование задачи"
   ]
  },
  {
   "cell_type": "code",
   "execution_count": 12,
   "metadata": {
    "scrolled": true
   },
   "outputs": [
    {
     "name": "stdout",
     "output_type": "stream",
     "text": [
      "depth 6\n",
      "best_f1: 0.5696969696969697\n",
      "roc_auc: 0.8164631712023421\n"
     ]
    }
   ],
   "source": [
    "best_f1_score = 0\n",
    "best_depth = 0\n",
    "for depth in range(1, 10):\n",
    "    model = DecisionTreeClassifier(random_state=12345, max_depth=depth)\n",
    "    model.fit(features_train, target_train)\n",
    "    \n",
    "    predictions = model.predict(features_valid)\n",
    "    probabilities_one_valid = model.predict_proba(features_valid)[:, 1]\n",
    "    \n",
    "    if f1_score(target_valid, predictions) > best_f1_score:\n",
    "        best_f1_score = f1_score(target_valid, predictions)\n",
    "        roc_auc = roc_auc_score(target_valid, probabilities_one_valid)\n",
    "        best_depth = depth\n",
    "\n",
    "print('depth', best_depth)\n",
    "print('best_f1:', best_f1_score)\n",
    "print('roc_auc:', roc_auc)"
   ]
  },
  {
   "cell_type": "code",
   "execution_count": 13,
   "metadata": {},
   "outputs": [
    {
     "name": "stdout",
     "output_type": "stream",
     "text": [
      "threshold 0.26\n",
      "best_f1: 0.4989816700610997\n",
      "roc_auc: 0.7587512627102753\n"
     ]
    }
   ],
   "source": [
    "model = LogisticRegression(random_state=12345, solver='liblinear')\n",
    "model.fit(features_train, target_train)\n",
    "\n",
    "probabilities = model.predict_proba(features_valid)\n",
    "probabilities_one_valid = model.predict_proba(features_valid)[:, 1]\n",
    "\n",
    "best_f1_score = 0\n",
    "best_threshold = 0\n",
    "for threshold in np.arange(0, 1, 0.02):\n",
    "    predicted_valid = probabilities_one_valid > threshold \n",
    "    \n",
    "    if f1_score(target_valid, predicted_valid) > best_f1_score: \n",
    "        best_f1_score = f1_score(target_valid, predicted_valid)\n",
    "        roc_auc = roc_auc_score(target_valid, probabilities_one_valid)\n",
    "        best_threshold = threshold\n",
    "        \n",
    "print('threshold', best_threshold)\n",
    "print('best_f1:', best_f1_score)\n",
    "print('roc_auc:', roc_auc)"
   ]
  },
  {
   "cell_type": "code",
   "execution_count": 14,
   "metadata": {},
   "outputs": [
    {
     "name": "stdout",
     "output_type": "stream",
     "text": [
      "depth 7 trees 5\n",
      "best_f1: 0.5908419497784343\n",
      "roc_auc: 0.8381787634815114\n"
     ]
    }
   ],
   "source": [
    "best_f1_score = 0\n",
    "best_trees = 0\n",
    "best_depth = 0\n",
    "for trees in range(1,100):\n",
    "    for depth in range(1,10):\n",
    "        model = RandomForestClassifier(random_state=12345, \n",
    "                                       n_estimators=trees, \n",
    "                                       max_depth=depth)\n",
    "        model.fit(features_train, target_train)\n",
    "    \n",
    "        predictions = model.predict(features_valid)\n",
    "        probabilities_one_valid = model.predict_proba(features_valid)[:, 1]\n",
    "        \n",
    "        if f1_score(target_valid, predictions) > best_f1_score:\n",
    "            best_f1_score = f1_score(target_valid, predictions)\n",
    "            roc_auc = roc_auc_score(target_valid, probabilities_one_valid)\n",
    "            best_trees = trees\n",
    "            best_depth = depth\n",
    "        \n",
    "print('depth', best_depth, 'trees', best_trees)\n",
    "print('best_f1:', best_f1_score)\n",
    "print('roc_auc:', roc_auc)"
   ]
  },
  {
   "cell_type": "markdown",
   "metadata": {},
   "source": [
    "Лучшая модель - случайный лес с парметрами n_estimators=5, max_depth=7<br>\n",
    "Результаты:<br>\n",
    "\n",
    "best_f1 = 0.5908419497784343<br>\n",
    "roc_auc = 0.8381787634815114\n",
    "\n",
    "Это уже дотягивает до удовлетворительного результата, но всё же сбалансируем классы. И сделаем это тремя способами."
   ]
  },
  {
   "cell_type": "markdown",
   "metadata": {},
   "source": [
    "## Борьба с дисбалансом"
   ]
  },
  {
   "cell_type": "markdown",
   "metadata": {},
   "source": [
    "Исходя из прошлого пункта, слеудет, что лучшая модель - случайный лес, будем рассмтривать только её."
   ]
  },
  {
   "cell_type": "code",
   "execution_count": 15,
   "metadata": {},
   "outputs": [
    {
     "name": "stdout",
     "output_type": "stream",
     "text": [
      "depth 9 trees 88\n",
      "best_f1: 0.631578947368421\n",
      "roc_auc: 0.8550786660940364\n"
     ]
    }
   ],
   "source": [
    "best_f1_score = 0\n",
    "best_trees = 0\n",
    "best_depth = 0\n",
    "for trees in range(1,100):\n",
    "    for depth in range(1,10):\n",
    "        model = RandomForestClassifier(random_state=12345, \n",
    "                                       n_estimators=trees, \n",
    "                                       max_depth=depth, \n",
    "                                       class_weight='balanced')\n",
    "        model.fit(features_train, target_train)\n",
    "    \n",
    "        predictions = model.predict(features_valid)\n",
    "        probabilities_one_valid = model.predict_proba(features_valid)[:, 1]\n",
    "        \n",
    "        if f1_score(target_valid, predictions) > best_f1_score:\n",
    "            best_f1_score = f1_score(target_valid, predictions)\n",
    "            roc_auc = roc_auc_score(target_valid, probabilities_one_valid)\n",
    "            best_trees = trees\n",
    "            best_depth = depth\n",
    "        \n",
    "print('depth', best_depth, 'trees', best_trees)\n",
    "print('best_f1:', best_f1_score)\n",
    "print('roc_auc:', roc_auc)"
   ]
  },
  {
   "cell_type": "markdown",
   "metadata": {},
   "source": [
    "При добалансировке классов с помощью аргумента **class_weight** метрики увеличились.\n",
    "\n",
    "best_f1: 0.631578947368421 <br>\n",
    "roc_auc: 0.0.8550786660940364"
   ]
  },
  {
   "cell_type": "code",
   "execution_count": 16,
   "metadata": {},
   "outputs": [],
   "source": [
    "def upsample(features, target, repeat):\n",
    "    features_zeros = features[target==0]\n",
    "    features_ones = features[target==1]\n",
    "    target_zeros = target[target==0]\n",
    "    target_ones = target[target==1]\n",
    "    \n",
    "    features_upsampled = pd.concat([features_zeros] + [features_ones]*repeat)\n",
    "    target_upsampled = pd.concat([target_zeros] + [target_ones]*repeat)\n",
    "    \n",
    "    features_upsampled, target_upsampled = shuffle(features_upsampled, target_upsampled, random_state=12345)\n",
    "    \n",
    "    return features_upsampled, target_upsampled"
   ]
  },
  {
   "cell_type": "code",
   "execution_count": 17,
   "metadata": {},
   "outputs": [
    {
     "name": "stdout",
     "output_type": "stream",
     "text": [
      "depth 9 trees 67\n",
      "best_f1: 0.6312433581296492\n",
      "roc_auc: 0.8527619329901586\n"
     ]
    }
   ],
   "source": [
    "best_f1_score = 0\n",
    "best_trees = 0\n",
    "best_depth = 0\n",
    "features_upsample, target_upsample = upsample(features_train, target_train, 4)\n",
    "for trees in range(1,100):\n",
    "    for depth in range(1,10):\n",
    "        model = RandomForestClassifier(random_state=12345, \n",
    "                                        n_estimators=trees, \n",
    "                                        max_depth=depth)\n",
    "        model.fit(features_upsample, target_upsample)\n",
    "    \n",
    "        predictions = model.predict(features_valid)\n",
    "        probabilities_one_valid = model.predict_proba(features_valid)[:, 1]\n",
    "        \n",
    "        if f1_score(target_valid, predictions) > best_f1_score:\n",
    "            best_f1_score = f1_score(target_valid, predictions)\n",
    "            roc_auc = roc_auc_score(target_valid, probabilities_one_valid)\n",
    "            best_trees = trees\n",
    "            best_depth = depth\n",
    "        \n",
    "print('depth', best_depth, 'trees', best_trees)\n",
    "print('best_f1:', best_f1_score)\n",
    "print('roc_auc:', roc_auc)"
   ]
  },
  {
   "cell_type": "markdown",
   "metadata": {},
   "source": [
    "При балансировке методом upsample получили\n",
    "\n",
    "best_f1: 0.6312433581296492<br>\n",
    "roc_auc: 0.8527619329901586"
   ]
  },
  {
   "cell_type": "code",
   "execution_count": 18,
   "metadata": {},
   "outputs": [],
   "source": [
    "def downsample(features, target, fraction):\n",
    "    features_zeros = features[target==0]\n",
    "    features_ones = features[target==1]\n",
    "    target_zeros = target[target==0]\n",
    "    target_ones = target[target==1]\n",
    "    \n",
    "    features_downsampled = pd.concat(\n",
    "        [features_zeros.sample(frac=fraction, random_state=12345)] + [features_ones])\n",
    "    target_downsampled = pd.concat(\n",
    "        [target_zeros.sample(frac=fraction, random_state=12345)] + [target_ones])\n",
    " \n",
    "    features_downsampled, target_downsampled = shuffle(\n",
    "        features_downsampled, target_downsampled, random_state=12345)\n",
    " \n",
    "    return features_downsampled, target_downsampled"
   ]
  },
  {
   "cell_type": "code",
   "execution_count": 19,
   "metadata": {},
   "outputs": [
    {
     "name": "stdout",
     "output_type": "stream",
     "text": [
      "depth 4 trees 10\n",
      "best_f1: 0.6092184368737475\n",
      "roc_auc: 0.8354975834598564\n"
     ]
    }
   ],
   "source": [
    "best_f1_score = 0\n",
    "best_trees = 0\n",
    "best_depth = 0\n",
    "features_downsample, target_downsample = downsample(features_train, target_train, 0.25)\n",
    "for trees in range(1,100):\n",
    "    for depth in range(1,10):\n",
    "        model = RandomForestClassifier(random_state=12345, \n",
    "                                        n_estimators=trees, \n",
    "                                        max_depth=depth)\n",
    "        model.fit(features_downsample, target_downsample)\n",
    "    \n",
    "        predictions = model.predict(features_valid)\n",
    "        probabilities_one_valid = model.predict_proba(features_valid)[:, 1]\n",
    "        \n",
    "        if f1_score(target_valid, predictions) > best_f1_score:\n",
    "            best_f1_score = f1_score(target_valid, predictions)\n",
    "            roc_auc = roc_auc_score(target_valid, probabilities_one_valid)\n",
    "            best_trees = trees\n",
    "            best_depth = depth\n",
    "        \n",
    "print('depth', best_depth, 'trees', best_trees)\n",
    "print('best_f1:', best_f1_score)\n",
    "print('roc_auc:', roc_auc)"
   ]
  },
  {
   "cell_type": "markdown",
   "metadata": {},
   "source": [
    "При балансировке методом downsample получили \n",
    "\n",
    "best_f1: 0.6092184368737475 <br>\n",
    "roc_auc: 0.8354975834598564"
   ]
  },
  {
   "cell_type": "markdown",
   "metadata": {},
   "source": [
    "## Тестирование модели"
   ]
  },
  {
   "cell_type": "markdown",
   "metadata": {},
   "source": [
    "Из прошлых пунктов мы получили, что лучшая модель - это случайный лес (depth=9, trees=88) при добалансировки с помощью аргумента class_weight. Проверим данную модель на тестовой выборке."
   ]
  },
  {
   "cell_type": "code",
   "execution_count": 20,
   "metadata": {},
   "outputs": [
    {
     "name": "stdout",
     "output_type": "stream",
     "text": [
      "best_f1: 0.6126126126126127\n",
      "roc_auc: 0.8559583612538995\n"
     ]
    }
   ],
   "source": [
    "model = RandomForestClassifier(random_state=12345, \n",
    "                                n_estimators=88, \n",
    "                                max_depth=9, \n",
    "                                class_weight='balanced')\n",
    "model.fit(features_train, target_train)\n",
    "    \n",
    "predictions = model.predict(features_test)\n",
    "probabilities_one_valid = model.predict_proba(features_test)[:, 1]\n",
    "        \n",
    "print('best_f1:', f1_score(target_test, predictions))\n",
    "print('roc_auc:', roc_auc_score(target_test, probabilities_one_valid))"
   ]
  },
  {
   "cell_type": "markdown",
   "metadata": {},
   "source": [
    "Получили значения:\n",
    "\n",
    "best_f1: 0.6126126126126127<br>\n",
    "roc_auc: 0.8559583612538995"
   ]
  },
  {
   "cell_type": "markdown",
   "metadata": {},
   "source": [
    "Мы получили значение best_f1 свыше 0,59, что удовлетворяет нашему заданию."
   ]
  },
  {
   "cell_type": "markdown",
   "metadata": {},
   "source": [
    "## Итоговый вывод"
   ]
  },
  {
   "cell_type": "markdown",
   "metadata": {},
   "source": [
    "В ходе проекта была построена и обучена модель бинарной классификации, которая поможет предсказывать «Бета-Банку» уйдет ли клиент в ближайшее время из банка или нет.<br>\n",
    "\n",
    "В первую очередь были предобработаны данные(заполены пропуски), а затем данные были подготовлены к обучению: \n",
    "- были удалены лишние признаки, \n",
    "- категориальные рпизнаки преобразованы в количественные методом  OHE,\n",
    "- данные разделены на целевой и другие признаки, \n",
    "- данные разделены на обучающую, тестовую и валидациаонную выборки в соотношении 3:1:1,\n",
    "- масштабированы путем стандартизации данных\n",
    "\n",
    "Далее рассматривались три алгоритма: Дерево решений, Случайный лес, Логистическая регрессия<br>\n",
    "Каждый рассматривался для различного набора гипперпараметров, наилучшим алгоритмом в нашей задаче оказался: Случайный лес<br>\n",
    "\n",
    "Классы в нашей задаче были несбалансированы (0:1~4:1), поэтому в работе были рассмотрены три вида добалансировки: upsampling, downsampling и с помощью аргумента class_weight.<br>\n",
    "\n",
    "По показателю f1_score лучшей оказалась добалансировка с помощью аргумента class_weight.<br>\n",
    "При этом лучшая модель была случайный лес (depth=9, trees=88)<br>\n",
    "\n",
    "Было проведено тестирование данной модели, получены следующие результаты:\n",
    "- best_f1: 0.6126126126126127\n",
    "- roc_auc: 0.8559583612538995"
   ]
  }
 ],
 "metadata": {
  "ExecuteTimeLog": [
   {
    "duration": 45,
    "start_time": "2022-05-30T16:28:11.920Z"
   },
   {
    "duration": 11,
    "start_time": "2022-05-30T16:28:20.031Z"
   },
   {
    "duration": 2,
    "start_time": "2022-05-30T16:30:53.330Z"
   },
   {
    "duration": 44,
    "start_time": "2022-05-30T16:30:54.411Z"
   },
   {
    "duration": 10,
    "start_time": "2022-05-30T16:30:54.826Z"
   },
   {
    "duration": 24,
    "start_time": "2022-05-30T16:33:57.532Z"
   },
   {
    "duration": 525,
    "start_time": "2022-05-30T16:34:02.359Z"
   },
   {
    "duration": 7,
    "start_time": "2022-05-30T16:34:04.689Z"
   },
   {
    "duration": 2,
    "start_time": "2022-05-30T16:34:56.766Z"
   },
   {
    "duration": 4,
    "start_time": "2022-05-30T16:35:20.842Z"
   },
   {
    "duration": 6,
    "start_time": "2022-05-30T16:36:04.245Z"
   },
   {
    "duration": 3,
    "start_time": "2022-05-30T16:36:37.909Z"
   },
   {
    "duration": 4,
    "start_time": "2022-05-30T16:36:45.276Z"
   },
   {
    "duration": 4,
    "start_time": "2022-05-30T16:37:07.523Z"
   },
   {
    "duration": 37,
    "start_time": "2022-05-30T16:37:33.797Z"
   },
   {
    "duration": 6,
    "start_time": "2022-05-30T16:37:41.984Z"
   },
   {
    "duration": 4,
    "start_time": "2022-05-30T16:37:43.363Z"
   },
   {
    "duration": 7,
    "start_time": "2022-05-30T16:40:30.840Z"
   },
   {
    "duration": 72,
    "start_time": "2022-05-30T16:40:34.266Z"
   },
   {
    "duration": 2,
    "start_time": "2022-05-30T16:40:36.165Z"
   },
   {
    "duration": 2,
    "start_time": "2022-05-30T16:42:14.185Z"
   },
   {
    "duration": 23,
    "start_time": "2022-05-30T16:42:43.723Z"
   },
   {
    "duration": 9,
    "start_time": "2022-05-30T16:49:48.828Z"
   },
   {
    "duration": 13,
    "start_time": "2022-05-30T16:51:23.833Z"
   },
   {
    "duration": 3,
    "start_time": "2022-05-30T16:51:33.507Z"
   },
   {
    "duration": 49,
    "start_time": "2022-05-30T16:51:34.879Z"
   },
   {
    "duration": 10,
    "start_time": "2022-05-30T16:51:35.613Z"
   },
   {
    "duration": 13,
    "start_time": "2022-05-30T16:51:37.553Z"
   },
   {
    "duration": 380,
    "start_time": "2022-05-30T16:51:50.998Z"
   },
   {
    "duration": 12,
    "start_time": "2022-05-30T16:52:23.843Z"
   },
   {
    "duration": 11,
    "start_time": "2022-05-30T16:52:28.904Z"
   },
   {
    "duration": 2,
    "start_time": "2022-05-30T16:52:36.175Z"
   },
   {
    "duration": 45,
    "start_time": "2022-05-30T16:52:36.960Z"
   },
   {
    "duration": 10,
    "start_time": "2022-05-30T16:52:37.686Z"
   },
   {
    "duration": 8,
    "start_time": "2022-05-30T16:52:39.020Z"
   },
   {
    "duration": 9,
    "start_time": "2022-05-30T16:53:00.329Z"
   },
   {
    "duration": 3,
    "start_time": "2022-05-30T16:53:02.807Z"
   },
   {
    "duration": 17,
    "start_time": "2022-05-30T16:53:04.715Z"
   },
   {
    "duration": 8,
    "start_time": "2022-05-30T16:53:40.943Z"
   },
   {
    "duration": 3,
    "start_time": "2022-05-30T16:53:41.792Z"
   },
   {
    "duration": 16,
    "start_time": "2022-05-30T16:53:42.871Z"
   },
   {
    "duration": 373,
    "start_time": "2022-05-30T16:54:16.495Z"
   },
   {
    "duration": 3,
    "start_time": "2022-05-30T16:54:26.625Z"
   },
   {
    "duration": 44,
    "start_time": "2022-05-30T16:54:27.543Z"
   },
   {
    "duration": 11,
    "start_time": "2022-05-30T16:54:28.048Z"
   },
   {
    "duration": 5,
    "start_time": "2022-05-30T16:54:29.558Z"
   },
   {
    "duration": 348,
    "start_time": "2022-05-30T16:54:30.501Z"
   },
   {
    "duration": 13,
    "start_time": "2022-05-30T16:54:55.062Z"
   },
   {
    "duration": 14,
    "start_time": "2022-05-30T16:56:27.856Z"
   },
   {
    "duration": 370,
    "start_time": "2022-05-30T16:56:49.955Z"
   },
   {
    "duration": 2,
    "start_time": "2022-05-30T16:56:55.673Z"
   },
   {
    "duration": 46,
    "start_time": "2022-05-30T16:56:56.496Z"
   },
   {
    "duration": 10,
    "start_time": "2022-05-30T16:56:56.982Z"
   },
   {
    "duration": 4,
    "start_time": "2022-05-30T16:56:57.490Z"
   },
   {
    "duration": 4,
    "start_time": "2022-05-30T16:57:06.778Z"
   },
   {
    "duration": 14,
    "start_time": "2022-05-30T16:57:07.536Z"
   },
   {
    "duration": 3,
    "start_time": "2022-05-30T16:57:14.256Z"
   },
   {
    "duration": 15,
    "start_time": "2022-05-30T16:57:15.295Z"
   },
   {
    "duration": 889,
    "start_time": "2022-05-30T16:58:22.189Z"
   },
   {
    "duration": 54,
    "start_time": "2022-05-30T16:58:23.079Z"
   },
   {
    "duration": 13,
    "start_time": "2022-05-30T16:58:23.134Z"
   },
   {
    "duration": 3,
    "start_time": "2022-05-30T16:58:23.149Z"
   },
   {
    "duration": 10,
    "start_time": "2022-05-30T16:58:23.154Z"
   },
   {
    "duration": 5,
    "start_time": "2022-05-30T16:58:23.166Z"
   },
   {
    "duration": 6,
    "start_time": "2022-05-30T16:58:23.172Z"
   },
   {
    "duration": 13,
    "start_time": "2022-05-30T16:58:23.179Z"
   },
   {
    "duration": 111,
    "start_time": "2022-05-30T16:58:23.194Z"
   },
   {
    "duration": 2,
    "start_time": "2022-05-30T16:59:46.855Z"
   },
   {
    "duration": 46,
    "start_time": "2022-05-30T16:59:47.668Z"
   },
   {
    "duration": 10,
    "start_time": "2022-05-30T16:59:48.444Z"
   },
   {
    "duration": 5,
    "start_time": "2022-05-30T17:00:02.082Z"
   },
   {
    "duration": 49,
    "start_time": "2022-05-30T17:01:09.142Z"
   },
   {
    "duration": 44,
    "start_time": "2022-05-30T17:01:44.608Z"
   },
   {
    "duration": 3,
    "start_time": "2022-05-30T17:02:53.024Z"
   },
   {
    "duration": 5,
    "start_time": "2022-05-30T17:02:55.044Z"
   },
   {
    "duration": 10,
    "start_time": "2022-05-30T17:02:55.485Z"
   },
   {
    "duration": 4,
    "start_time": "2022-05-30T17:02:55.860Z"
   },
   {
    "duration": 6,
    "start_time": "2022-05-30T17:02:56.192Z"
   },
   {
    "duration": 3,
    "start_time": "2022-05-30T17:02:56.513Z"
   },
   {
    "duration": 40,
    "start_time": "2022-05-30T17:02:57.595Z"
   },
   {
    "duration": 4,
    "start_time": "2022-05-30T17:03:25.822Z"
   },
   {
    "duration": 5,
    "start_time": "2022-05-30T17:03:35.062Z"
   },
   {
    "duration": 5,
    "start_time": "2022-05-30T17:03:38.513Z"
   },
   {
    "duration": 5,
    "start_time": "2022-05-30T17:03:45.244Z"
   },
   {
    "duration": 4,
    "start_time": "2022-05-30T17:03:47.040Z"
   },
   {
    "duration": 15,
    "start_time": "2022-05-30T17:03:48.083Z"
   },
   {
    "duration": 9,
    "start_time": "2022-05-30T17:03:48.374Z"
   },
   {
    "duration": 882,
    "start_time": "2022-05-30T17:03:53.672Z"
   },
   {
    "duration": 51,
    "start_time": "2022-05-30T17:03:54.556Z"
   },
   {
    "duration": 11,
    "start_time": "2022-05-30T17:03:54.608Z"
   },
   {
    "duration": 3,
    "start_time": "2022-05-30T17:03:54.621Z"
   },
   {
    "duration": 6,
    "start_time": "2022-05-30T17:03:54.625Z"
   },
   {
    "duration": 11,
    "start_time": "2022-05-30T17:03:54.632Z"
   },
   {
    "duration": 4,
    "start_time": "2022-05-30T17:03:54.645Z"
   },
   {
    "duration": 9,
    "start_time": "2022-05-30T17:03:54.650Z"
   },
   {
    "duration": 6,
    "start_time": "2022-05-30T17:03:54.660Z"
   },
   {
    "duration": 57,
    "start_time": "2022-05-30T17:03:54.667Z"
   },
   {
    "duration": 2,
    "start_time": "2022-05-30T17:05:25.640Z"
   },
   {
    "duration": 40,
    "start_time": "2022-05-30T17:05:51.734Z"
   },
   {
    "duration": 41,
    "start_time": "2022-05-30T17:06:18.868Z"
   },
   {
    "duration": 2,
    "start_time": "2022-05-30T17:06:39.615Z"
   },
   {
    "duration": 41,
    "start_time": "2022-05-30T17:06:56.944Z"
   },
   {
    "duration": 42,
    "start_time": "2022-05-30T17:07:03.593Z"
   },
   {
    "duration": 41,
    "start_time": "2022-05-30T17:07:05.894Z"
   },
   {
    "duration": 40,
    "start_time": "2022-05-30T17:07:24.180Z"
   },
   {
    "duration": 42,
    "start_time": "2022-05-30T17:07:38.434Z"
   },
   {
    "duration": 44,
    "start_time": "2022-05-30T17:08:02.939Z"
   },
   {
    "duration": 43,
    "start_time": "2022-05-30T17:08:09.426Z"
   },
   {
    "duration": 216,
    "start_time": "2022-05-30T17:10:01.127Z"
   },
   {
    "duration": 184,
    "start_time": "2022-05-30T17:10:47.827Z"
   },
   {
    "duration": 105,
    "start_time": "2022-05-30T17:12:34.223Z"
   },
   {
    "duration": 17,
    "start_time": "2022-05-30T17:12:50.644Z"
   },
   {
    "duration": 16,
    "start_time": "2022-05-30T17:13:08.183Z"
   },
   {
    "duration": 15,
    "start_time": "2022-05-30T17:14:33.034Z"
   },
   {
    "duration": 15,
    "start_time": "2022-05-30T17:14:40.880Z"
   },
   {
    "duration": 16,
    "start_time": "2022-05-30T17:15:07.635Z"
   },
   {
    "duration": 887,
    "start_time": "2022-05-30T17:15:15.964Z"
   },
   {
    "duration": 56,
    "start_time": "2022-05-30T17:15:16.852Z"
   },
   {
    "duration": 11,
    "start_time": "2022-05-30T17:15:16.909Z"
   },
   {
    "duration": 4,
    "start_time": "2022-05-30T17:15:16.922Z"
   },
   {
    "duration": 5,
    "start_time": "2022-05-30T17:15:16.927Z"
   },
   {
    "duration": 11,
    "start_time": "2022-05-30T17:15:16.933Z"
   },
   {
    "duration": 5,
    "start_time": "2022-05-30T17:15:16.945Z"
   },
   {
    "duration": 7,
    "start_time": "2022-05-30T17:15:16.951Z"
   },
   {
    "duration": 10,
    "start_time": "2022-05-30T17:15:16.959Z"
   },
   {
    "duration": 172,
    "start_time": "2022-05-30T17:15:16.971Z"
   },
   {
    "duration": 149,
    "start_time": "2022-05-30T17:15:29.744Z"
   },
   {
    "duration": 24,
    "start_time": "2022-05-30T17:17:52.728Z"
   },
   {
    "duration": 152,
    "start_time": "2022-05-30T17:17:56.552Z"
   },
   {
    "duration": 53,
    "start_time": "2022-05-30T17:21:01.537Z"
   },
   {
    "duration": 45,
    "start_time": "2022-05-30T17:21:10.027Z"
   },
   {
    "duration": 96,
    "start_time": "2022-05-30T17:22:21.508Z"
   },
   {
    "duration": 2,
    "start_time": "2022-05-30T17:22:58.065Z"
   },
   {
    "duration": 835,
    "start_time": "2022-05-30T17:25:54.027Z"
   },
   {
    "duration": 54,
    "start_time": "2022-05-30T17:25:54.864Z"
   },
   {
    "duration": 10,
    "start_time": "2022-05-30T17:25:54.919Z"
   },
   {
    "duration": 3,
    "start_time": "2022-05-30T17:25:54.931Z"
   },
   {
    "duration": 5,
    "start_time": "2022-05-30T17:25:54.936Z"
   },
   {
    "duration": 11,
    "start_time": "2022-05-30T17:25:54.942Z"
   },
   {
    "duration": 9,
    "start_time": "2022-05-30T17:25:54.954Z"
   },
   {
    "duration": 111,
    "start_time": "2022-05-30T17:25:54.964Z"
   },
   {
    "duration": 0,
    "start_time": "2022-05-30T17:25:55.076Z"
   },
   {
    "duration": 0,
    "start_time": "2022-05-30T17:25:55.077Z"
   },
   {
    "duration": 0,
    "start_time": "2022-05-30T17:25:55.079Z"
   },
   {
    "duration": 9,
    "start_time": "2022-05-30T17:26:36.381Z"
   },
   {
    "duration": 4,
    "start_time": "2022-05-30T17:26:44.987Z"
   },
   {
    "duration": 9,
    "start_time": "2022-05-30T17:27:34.160Z"
   },
   {
    "duration": 15,
    "start_time": "2022-05-30T17:27:35.020Z"
   },
   {
    "duration": 16,
    "start_time": "2022-05-30T17:27:43.618Z"
   },
   {
    "duration": 14,
    "start_time": "2022-05-30T17:28:29.083Z"
   },
   {
    "duration": 3,
    "start_time": "2022-05-30T17:28:31.810Z"
   },
   {
    "duration": 45,
    "start_time": "2022-05-30T17:28:32.672Z"
   },
   {
    "duration": 10,
    "start_time": "2022-05-30T17:28:33.139Z"
   },
   {
    "duration": 3,
    "start_time": "2022-05-30T17:28:33.590Z"
   },
   {
    "duration": 4,
    "start_time": "2022-05-30T17:28:34.728Z"
   },
   {
    "duration": 9,
    "start_time": "2022-05-30T17:28:35.272Z"
   },
   {
    "duration": 12,
    "start_time": "2022-05-30T17:28:35.836Z"
   },
   {
    "duration": 11,
    "start_time": "2022-05-30T17:36:55.096Z"
   },
   {
    "duration": 27,
    "start_time": "2022-05-30T17:37:09.889Z"
   },
   {
    "duration": 880,
    "start_time": "2022-05-30T17:37:26.778Z"
   },
   {
    "duration": 50,
    "start_time": "2022-05-30T17:37:27.660Z"
   },
   {
    "duration": 14,
    "start_time": "2022-05-30T17:37:27.712Z"
   },
   {
    "duration": 4,
    "start_time": "2022-05-30T17:37:27.728Z"
   },
   {
    "duration": 6,
    "start_time": "2022-05-30T17:37:27.733Z"
   },
   {
    "duration": 10,
    "start_time": "2022-05-30T17:37:27.740Z"
   },
   {
    "duration": 117,
    "start_time": "2022-05-30T17:37:27.752Z"
   },
   {
    "duration": 0,
    "start_time": "2022-05-30T17:37:27.871Z"
   },
   {
    "duration": 0,
    "start_time": "2022-05-30T17:37:27.872Z"
   },
   {
    "duration": 0,
    "start_time": "2022-05-30T17:37:27.873Z"
   },
   {
    "duration": 0,
    "start_time": "2022-05-30T17:37:27.874Z"
   },
   {
    "duration": 0,
    "start_time": "2022-05-30T17:37:27.876Z"
   },
   {
    "duration": 8,
    "start_time": "2022-05-30T17:44:19.768Z"
   },
   {
    "duration": 3,
    "start_time": "2022-05-30T17:44:43.359Z"
   },
   {
    "duration": 47,
    "start_time": "2022-05-30T17:44:44.272Z"
   },
   {
    "duration": 11,
    "start_time": "2022-05-30T17:44:45.060Z"
   },
   {
    "duration": 4,
    "start_time": "2022-05-30T17:44:46.494Z"
   },
   {
    "duration": 3,
    "start_time": "2022-05-30T17:44:48.528Z"
   },
   {
    "duration": 12,
    "start_time": "2022-05-30T17:44:49.272Z"
   },
   {
    "duration": 8,
    "start_time": "2022-05-30T17:44:54.442Z"
   },
   {
    "duration": 8,
    "start_time": "2022-05-30T17:45:07.733Z"
   },
   {
    "duration": 8,
    "start_time": "2022-05-30T17:45:11.544Z"
   },
   {
    "duration": 6,
    "start_time": "2022-05-30T17:45:23.515Z"
   },
   {
    "duration": 9,
    "start_time": "2022-05-30T17:45:24.130Z"
   },
   {
    "duration": 3,
    "start_time": "2022-05-30T17:45:27.835Z"
   },
   {
    "duration": 48,
    "start_time": "2022-05-30T17:45:28.482Z"
   },
   {
    "duration": 14,
    "start_time": "2022-05-30T17:45:28.740Z"
   },
   {
    "duration": 4,
    "start_time": "2022-05-30T17:45:29.355Z"
   },
   {
    "duration": 4,
    "start_time": "2022-05-30T17:45:30.218Z"
   },
   {
    "duration": 14,
    "start_time": "2022-05-30T17:45:30.617Z"
   },
   {
    "duration": 9,
    "start_time": "2022-05-30T17:45:32.597Z"
   },
   {
    "duration": 10,
    "start_time": "2022-05-30T17:45:34.156Z"
   },
   {
    "duration": 10,
    "start_time": "2022-05-30T17:48:38.844Z"
   },
   {
    "duration": 7,
    "start_time": "2022-05-30T17:48:45.670Z"
   },
   {
    "duration": 13,
    "start_time": "2022-05-30T17:48:48.473Z"
   },
   {
    "duration": 8,
    "start_time": "2022-05-30T17:49:24.402Z"
   },
   {
    "duration": 14,
    "start_time": "2022-05-30T17:49:25.585Z"
   },
   {
    "duration": 3,
    "start_time": "2022-05-30T17:49:30.610Z"
   },
   {
    "duration": 45,
    "start_time": "2022-05-30T17:49:30.980Z"
   },
   {
    "duration": 15,
    "start_time": "2022-05-30T17:49:31.157Z"
   },
   {
    "duration": 4,
    "start_time": "2022-05-30T17:49:31.532Z"
   },
   {
    "duration": 4,
    "start_time": "2022-05-30T17:49:32.369Z"
   },
   {
    "duration": 10,
    "start_time": "2022-05-30T17:49:33.004Z"
   },
   {
    "duration": 10,
    "start_time": "2022-05-30T17:49:33.801Z"
   },
   {
    "duration": 14,
    "start_time": "2022-05-30T17:49:35.051Z"
   },
   {
    "duration": 7,
    "start_time": "2022-05-30T17:49:43.673Z"
   },
   {
    "duration": 4,
    "start_time": "2022-05-30T17:49:52.386Z"
   },
   {
    "duration": 6,
    "start_time": "2022-05-30T17:49:53.172Z"
   },
   {
    "duration": 4,
    "start_time": "2022-05-30T17:49:53.875Z"
   },
   {
    "duration": 14,
    "start_time": "2022-05-30T17:49:58.677Z"
   },
   {
    "duration": 2,
    "start_time": "2022-05-30T17:53:04.635Z"
   },
   {
    "duration": 47,
    "start_time": "2022-05-30T17:53:05.001Z"
   },
   {
    "duration": 12,
    "start_time": "2022-05-30T17:53:05.145Z"
   },
   {
    "duration": 5,
    "start_time": "2022-05-30T17:53:05.483Z"
   },
   {
    "duration": 4,
    "start_time": "2022-05-30T17:53:06.126Z"
   },
   {
    "duration": 8,
    "start_time": "2022-05-30T17:53:06.964Z"
   },
   {
    "duration": 10,
    "start_time": "2022-05-30T17:53:07.739Z"
   },
   {
    "duration": 10,
    "start_time": "2022-05-30T17:53:48.506Z"
   },
   {
    "duration": 3,
    "start_time": "2022-05-30T17:53:49.714Z"
   },
   {
    "duration": 5,
    "start_time": "2022-05-30T17:53:50.331Z"
   },
   {
    "duration": 4,
    "start_time": "2022-05-30T17:53:50.895Z"
   },
   {
    "duration": 16,
    "start_time": "2022-05-30T17:53:52.324Z"
   },
   {
    "duration": 5,
    "start_time": "2022-05-30T17:55:53.168Z"
   },
   {
    "duration": 874,
    "start_time": "2022-05-30T17:56:38.586Z"
   },
   {
    "duration": 51,
    "start_time": "2022-05-30T17:56:39.462Z"
   },
   {
    "duration": 11,
    "start_time": "2022-05-30T17:56:39.514Z"
   },
   {
    "duration": 4,
    "start_time": "2022-05-30T17:56:39.527Z"
   },
   {
    "duration": 6,
    "start_time": "2022-05-30T17:56:39.532Z"
   },
   {
    "duration": 10,
    "start_time": "2022-05-30T17:56:39.539Z"
   },
   {
    "duration": 9,
    "start_time": "2022-05-30T17:56:39.550Z"
   },
   {
    "duration": 117,
    "start_time": "2022-05-30T17:56:39.560Z"
   },
   {
    "duration": 0,
    "start_time": "2022-05-30T17:56:39.678Z"
   },
   {
    "duration": 0,
    "start_time": "2022-05-30T17:56:39.679Z"
   },
   {
    "duration": 0,
    "start_time": "2022-05-30T17:56:39.680Z"
   },
   {
    "duration": 0,
    "start_time": "2022-05-30T17:56:39.680Z"
   },
   {
    "duration": 8,
    "start_time": "2022-05-30T17:56:45.654Z"
   },
   {
    "duration": 22,
    "start_time": "2022-05-30T17:57:03.734Z"
   },
   {
    "duration": 17,
    "start_time": "2022-05-30T17:57:32.638Z"
   },
   {
    "duration": 18,
    "start_time": "2022-05-30T17:58:48.768Z"
   },
   {
    "duration": 12,
    "start_time": "2022-05-30T17:58:55.154Z"
   },
   {
    "duration": 4,
    "start_time": "2022-05-30T17:58:56.733Z"
   },
   {
    "duration": 5,
    "start_time": "2022-05-30T17:58:57.398Z"
   },
   {
    "duration": 3,
    "start_time": "2022-05-30T17:58:57.931Z"
   },
   {
    "duration": 153,
    "start_time": "2022-05-30T17:58:59.684Z"
   },
   {
    "duration": 18,
    "start_time": "2022-05-30T17:59:22.950Z"
   },
   {
    "duration": 11,
    "start_time": "2022-05-30T18:00:20.656Z"
   },
   {
    "duration": 5,
    "start_time": "2022-05-30T18:00:21.251Z"
   },
   {
    "duration": 6,
    "start_time": "2022-05-30T18:00:21.667Z"
   },
   {
    "duration": 4,
    "start_time": "2022-05-30T18:00:22.065Z"
   },
   {
    "duration": 14,
    "start_time": "2022-05-30T18:00:22.571Z"
   },
   {
    "duration": 152,
    "start_time": "2022-05-30T18:00:26.069Z"
   },
   {
    "duration": 5,
    "start_time": "2022-05-30T18:02:13.751Z"
   },
   {
    "duration": 3,
    "start_time": "2022-05-30T18:02:14.587Z"
   },
   {
    "duration": 6,
    "start_time": "2022-05-30T18:02:56.863Z"
   },
   {
    "duration": 5,
    "start_time": "2022-05-30T18:03:25.272Z"
   },
   {
    "duration": 132,
    "start_time": "2022-05-30T18:03:38.361Z"
   },
   {
    "duration": 812,
    "start_time": "2022-05-30T18:03:47.949Z"
   },
   {
    "duration": 51,
    "start_time": "2022-05-30T18:03:48.763Z"
   },
   {
    "duration": 10,
    "start_time": "2022-05-30T18:03:48.815Z"
   },
   {
    "duration": 4,
    "start_time": "2022-05-30T18:03:48.827Z"
   },
   {
    "duration": 9,
    "start_time": "2022-05-30T18:03:48.832Z"
   },
   {
    "duration": 12,
    "start_time": "2022-05-30T18:03:48.842Z"
   },
   {
    "duration": 13,
    "start_time": "2022-05-30T18:03:48.855Z"
   },
   {
    "duration": 4,
    "start_time": "2022-05-30T18:03:48.869Z"
   },
   {
    "duration": 9,
    "start_time": "2022-05-30T18:03:48.874Z"
   },
   {
    "duration": 10,
    "start_time": "2022-05-30T18:03:48.884Z"
   },
   {
    "duration": 138,
    "start_time": "2022-05-30T18:03:48.895Z"
   },
   {
    "duration": 3,
    "start_time": "2022-05-30T18:05:01.663Z"
   },
   {
    "duration": 114,
    "start_time": "2022-05-30T18:08:25.420Z"
   },
   {
    "duration": 34,
    "start_time": "2022-05-30T18:08:35.561Z"
   },
   {
    "duration": 35,
    "start_time": "2022-05-30T18:08:47.059Z"
   },
   {
    "duration": 42,
    "start_time": "2022-05-30T18:08:55.186Z"
   },
   {
    "duration": 159,
    "start_time": "2022-05-30T18:09:23.122Z"
   },
   {
    "duration": 159,
    "start_time": "2022-05-30T18:09:31.258Z"
   },
   {
    "duration": 62,
    "start_time": "2022-05-31T09:21:58.629Z"
   },
   {
    "duration": 996,
    "start_time": "2022-05-31T09:22:04.637Z"
   },
   {
    "duration": 94,
    "start_time": "2022-05-31T09:22:05.635Z"
   },
   {
    "duration": 11,
    "start_time": "2022-05-31T09:22:05.730Z"
   },
   {
    "duration": 8,
    "start_time": "2022-05-31T09:22:05.743Z"
   },
   {
    "duration": 6,
    "start_time": "2022-05-31T09:22:05.752Z"
   },
   {
    "duration": 16,
    "start_time": "2022-05-31T09:22:05.760Z"
   },
   {
    "duration": 12,
    "start_time": "2022-05-31T09:22:05.778Z"
   },
   {
    "duration": 4,
    "start_time": "2022-05-31T09:22:05.791Z"
   },
   {
    "duration": 29,
    "start_time": "2022-05-31T09:22:05.797Z"
   },
   {
    "duration": 4,
    "start_time": "2022-05-31T09:22:05.829Z"
   },
   {
    "duration": 22,
    "start_time": "2022-05-31T09:22:05.834Z"
   },
   {
    "duration": 169,
    "start_time": "2022-05-31T09:22:05.858Z"
   },
   {
    "duration": 5,
    "start_time": "2022-05-31T09:22:12.455Z"
   },
   {
    "duration": 5,
    "start_time": "2022-05-31T09:22:19.970Z"
   },
   {
    "duration": 124,
    "start_time": "2022-05-31T09:22:45.819Z"
   },
   {
    "duration": 5,
    "start_time": "2022-05-31T09:22:52.918Z"
   },
   {
    "duration": 11,
    "start_time": "2022-05-31T09:23:09.304Z"
   },
   {
    "duration": 5,
    "start_time": "2022-05-31T09:23:12.685Z"
   },
   {
    "duration": 3,
    "start_time": "2022-05-31T09:23:24.843Z"
   },
   {
    "duration": 13,
    "start_time": "2022-05-31T09:24:53.246Z"
   },
   {
    "duration": 4,
    "start_time": "2022-05-31T09:24:57.650Z"
   },
   {
    "duration": 4,
    "start_time": "2022-05-31T09:27:14.700Z"
   },
   {
    "duration": 171,
    "start_time": "2022-05-31T09:29:04.084Z"
   },
   {
    "duration": 336,
    "start_time": "2022-05-31T09:29:24.698Z"
   },
   {
    "duration": 142,
    "start_time": "2022-05-31T09:29:35.594Z"
   },
   {
    "duration": 128,
    "start_time": "2022-05-31T09:29:50.407Z"
   },
   {
    "duration": 199,
    "start_time": "2022-05-31T09:29:52.936Z"
   },
   {
    "duration": 915,
    "start_time": "2022-05-31T09:36:51.818Z"
   },
   {
    "duration": 4,
    "start_time": "2022-05-31T09:37:08.217Z"
   },
   {
    "duration": 715,
    "start_time": "2022-05-31T09:37:10.526Z"
   },
   {
    "duration": 341,
    "start_time": "2022-05-31T09:37:23.007Z"
   },
   {
    "duration": 38,
    "start_time": "2022-05-31T09:37:35.300Z"
   },
   {
    "duration": 301,
    "start_time": "2022-05-31T09:38:23.167Z"
   },
   {
    "duration": 140,
    "start_time": "2022-05-31T09:39:44.686Z"
   },
   {
    "duration": 197,
    "start_time": "2022-05-31T09:40:39.231Z"
   },
   {
    "duration": 100,
    "start_time": "2022-05-31T09:40:50.438Z"
   },
   {
    "duration": 20,
    "start_time": "2022-05-31T09:42:15.339Z"
   },
   {
    "duration": 1038,
    "start_time": "2022-05-31T09:42:23.518Z"
   },
   {
    "duration": 67,
    "start_time": "2022-05-31T09:42:24.560Z"
   },
   {
    "duration": 16,
    "start_time": "2022-05-31T09:42:24.629Z"
   },
   {
    "duration": 14,
    "start_time": "2022-05-31T09:42:24.648Z"
   },
   {
    "duration": 14,
    "start_time": "2022-05-31T09:42:24.665Z"
   },
   {
    "duration": 14,
    "start_time": "2022-05-31T09:42:24.681Z"
   },
   {
    "duration": 14,
    "start_time": "2022-05-31T09:42:24.696Z"
   },
   {
    "duration": 4,
    "start_time": "2022-05-31T09:42:24.712Z"
   },
   {
    "duration": 9,
    "start_time": "2022-05-31T09:42:24.726Z"
   },
   {
    "duration": 4,
    "start_time": "2022-05-31T09:42:24.738Z"
   },
   {
    "duration": 6,
    "start_time": "2022-05-31T09:42:24.743Z"
   },
   {
    "duration": 183,
    "start_time": "2022-05-31T09:42:24.751Z"
   },
   {
    "duration": 259,
    "start_time": "2022-05-31T09:42:24.936Z"
   },
   {
    "duration": 4,
    "start_time": "2022-05-31T09:42:25.197Z"
   },
   {
    "duration": 282,
    "start_time": "2022-05-31T09:43:06.056Z"
   },
   {
    "duration": 302,
    "start_time": "2022-05-31T09:43:30.612Z"
   },
   {
    "duration": 295,
    "start_time": "2022-05-31T09:43:54.017Z"
   },
   {
    "duration": 318,
    "start_time": "2022-05-31T09:43:58.516Z"
   },
   {
    "duration": 13,
    "start_time": "2022-05-31T09:44:42.161Z"
   },
   {
    "duration": 3143,
    "start_time": "2022-05-31T09:46:16.906Z"
   },
   {
    "duration": 166,
    "start_time": "2022-05-31T09:46:24.175Z"
   },
   {
    "duration": 35,
    "start_time": "2022-05-31T09:46:29.295Z"
   },
   {
    "duration": 71,
    "start_time": "2022-05-31T09:46:31.947Z"
   },
   {
    "duration": 168,
    "start_time": "2022-05-31T09:46:34.631Z"
   },
   {
    "duration": 33,
    "start_time": "2022-05-31T09:47:26.950Z"
   },
   {
    "duration": 17968,
    "start_time": "2022-05-31T09:47:41.243Z"
   },
   {
    "duration": 17481,
    "start_time": "2022-05-31T09:49:28.106Z"
   },
   {
    "duration": 159,
    "start_time": "2022-05-31T09:50:19.623Z"
   },
   {
    "duration": 336,
    "start_time": "2022-05-31T09:50:57.582Z"
   },
   {
    "duration": 1011,
    "start_time": "2022-05-31T09:51:18.637Z"
   },
   {
    "duration": 55,
    "start_time": "2022-05-31T09:51:19.651Z"
   },
   {
    "duration": 12,
    "start_time": "2022-05-31T09:51:19.707Z"
   },
   {
    "duration": 18,
    "start_time": "2022-05-31T09:51:19.722Z"
   },
   {
    "duration": 9,
    "start_time": "2022-05-31T09:51:19.741Z"
   },
   {
    "duration": 14,
    "start_time": "2022-05-31T09:51:19.751Z"
   },
   {
    "duration": 12,
    "start_time": "2022-05-31T09:51:19.766Z"
   },
   {
    "duration": 4,
    "start_time": "2022-05-31T09:51:19.780Z"
   },
   {
    "duration": 13,
    "start_time": "2022-05-31T09:51:19.785Z"
   },
   {
    "duration": 4,
    "start_time": "2022-05-31T09:51:19.800Z"
   },
   {
    "duration": 8,
    "start_time": "2022-05-31T09:51:19.805Z"
   },
   {
    "duration": 167,
    "start_time": "2022-05-31T09:51:19.814Z"
   },
   {
    "duration": 317,
    "start_time": "2022-05-31T09:51:19.982Z"
   },
   {
    "duration": 17194,
    "start_time": "2022-05-31T09:51:20.301Z"
   },
   {
    "duration": 187182,
    "start_time": "2022-05-31T09:52:53.516Z"
   },
   {
    "duration": 5,
    "start_time": "2022-05-31T09:59:15.566Z"
   },
   {
    "duration": 3,
    "start_time": "2022-05-31T10:00:00.038Z"
   },
   {
    "duration": 561,
    "start_time": "2022-05-31T10:00:41.930Z"
   },
   {
    "duration": 571,
    "start_time": "2022-05-31T10:02:54.845Z"
   },
   {
    "duration": 593,
    "start_time": "2022-05-31T10:03:00.476Z"
   },
   {
    "duration": 583,
    "start_time": "2022-05-31T10:03:09.263Z"
   },
   {
    "duration": 606,
    "start_time": "2022-05-31T10:03:35.727Z"
   },
   {
    "duration": 1017,
    "start_time": "2022-05-31T10:04:26.851Z"
   },
   {
    "duration": 56,
    "start_time": "2022-05-31T10:04:27.870Z"
   },
   {
    "duration": 14,
    "start_time": "2022-05-31T10:04:27.927Z"
   },
   {
    "duration": 5,
    "start_time": "2022-05-31T10:04:27.944Z"
   },
   {
    "duration": 14,
    "start_time": "2022-05-31T10:04:27.950Z"
   },
   {
    "duration": 20,
    "start_time": "2022-05-31T10:04:27.965Z"
   },
   {
    "duration": 21,
    "start_time": "2022-05-31T10:04:27.986Z"
   },
   {
    "duration": 13,
    "start_time": "2022-05-31T10:04:28.009Z"
   },
   {
    "duration": 16,
    "start_time": "2022-05-31T10:04:28.023Z"
   },
   {
    "duration": 25,
    "start_time": "2022-05-31T10:04:28.042Z"
   },
   {
    "duration": 22,
    "start_time": "2022-05-31T10:04:28.068Z"
   },
   {
    "duration": 186,
    "start_time": "2022-05-31T10:04:28.091Z"
   },
   {
    "duration": 317,
    "start_time": "2022-05-31T10:04:28.278Z"
   },
   {
    "duration": 124,
    "start_time": "2022-05-31T10:04:28.597Z"
   },
   {
    "duration": 64,
    "start_time": "2022-05-31T10:04:37.062Z"
   },
   {
    "duration": 969,
    "start_time": "2022-05-31T10:05:19.784Z"
   },
   {
    "duration": 58,
    "start_time": "2022-05-31T10:05:20.755Z"
   },
   {
    "duration": 12,
    "start_time": "2022-05-31T10:05:20.815Z"
   },
   {
    "duration": 9,
    "start_time": "2022-05-31T10:05:20.829Z"
   },
   {
    "duration": 16,
    "start_time": "2022-05-31T10:05:20.839Z"
   },
   {
    "duration": 25,
    "start_time": "2022-05-31T10:05:20.856Z"
   },
   {
    "duration": 15,
    "start_time": "2022-05-31T10:05:20.883Z"
   },
   {
    "duration": 11,
    "start_time": "2022-05-31T10:05:20.900Z"
   },
   {
    "duration": 17,
    "start_time": "2022-05-31T10:05:20.913Z"
   },
   {
    "duration": 15,
    "start_time": "2022-05-31T10:05:20.933Z"
   },
   {
    "duration": 15,
    "start_time": "2022-05-31T10:05:20.949Z"
   },
   {
    "duration": 198,
    "start_time": "2022-05-31T10:05:20.966Z"
   },
   {
    "duration": 297,
    "start_time": "2022-05-31T10:05:21.166Z"
   },
   {
    "duration": 198893,
    "start_time": "2022-05-31T10:05:21.464Z"
   },
   {
    "duration": 600,
    "start_time": "2022-05-31T10:08:40.359Z"
   },
   {
    "duration": 126,
    "start_time": "2022-05-31T10:13:09.421Z"
   },
   {
    "duration": 18,
    "start_time": "2022-05-31T10:13:32.809Z"
   },
   {
    "duration": 197329,
    "start_time": "2022-05-31T10:13:40.698Z"
   },
   {
    "duration": 4,
    "start_time": "2022-05-31T10:22:18.597Z"
   },
   {
    "duration": 210,
    "start_time": "2022-05-31T10:25:58.808Z"
   },
   {
    "duration": 5,
    "start_time": "2022-05-31T10:27:01.251Z"
   },
   {
    "duration": 1100,
    "start_time": "2022-05-31T11:17:07.384Z"
   },
   {
    "duration": 79,
    "start_time": "2022-05-31T11:17:08.487Z"
   },
   {
    "duration": 19,
    "start_time": "2022-05-31T11:17:08.569Z"
   },
   {
    "duration": 12,
    "start_time": "2022-05-31T11:17:08.590Z"
   },
   {
    "duration": 16,
    "start_time": "2022-05-31T11:17:08.603Z"
   },
   {
    "duration": 48,
    "start_time": "2022-05-31T11:17:08.621Z"
   },
   {
    "duration": 16,
    "start_time": "2022-05-31T11:17:08.670Z"
   },
   {
    "duration": 12,
    "start_time": "2022-05-31T11:17:08.687Z"
   },
   {
    "duration": 9,
    "start_time": "2022-05-31T11:17:08.701Z"
   },
   {
    "duration": 34,
    "start_time": "2022-05-31T11:17:08.712Z"
   },
   {
    "duration": 39,
    "start_time": "2022-05-31T11:17:08.748Z"
   },
   {
    "duration": 212,
    "start_time": "2022-05-31T11:17:08.789Z"
   },
   {
    "duration": 365,
    "start_time": "2022-05-31T11:17:09.003Z"
   },
   {
    "duration": 6,
    "start_time": "2022-05-31T11:17:09.370Z"
   },
   {
    "duration": 277696,
    "start_time": "2022-05-31T11:17:09.378Z"
   },
   {
    "duration": 4,
    "start_time": "2022-05-31T11:21:47.077Z"
   },
   {
    "duration": 179962,
    "start_time": "2022-05-31T11:21:47.083Z"
   },
   {
    "duration": 1056,
    "start_time": "2022-05-31T11:27:31.401Z"
   },
   {
    "duration": 56,
    "start_time": "2022-05-31T11:27:32.459Z"
   },
   {
    "duration": 13,
    "start_time": "2022-05-31T11:27:32.517Z"
   },
   {
    "duration": 5,
    "start_time": "2022-05-31T11:27:32.532Z"
   },
   {
    "duration": 9,
    "start_time": "2022-05-31T11:27:32.539Z"
   },
   {
    "duration": 21,
    "start_time": "2022-05-31T11:27:32.549Z"
   },
   {
    "duration": 14,
    "start_time": "2022-05-31T11:27:32.572Z"
   },
   {
    "duration": 15,
    "start_time": "2022-05-31T11:27:32.588Z"
   },
   {
    "duration": 33,
    "start_time": "2022-05-31T11:27:32.605Z"
   },
   {
    "duration": 15,
    "start_time": "2022-05-31T11:27:32.640Z"
   },
   {
    "duration": 20,
    "start_time": "2022-05-31T11:27:32.657Z"
   },
   {
    "duration": 183,
    "start_time": "2022-05-31T11:27:32.679Z"
   },
   {
    "duration": 450,
    "start_time": "2022-05-31T11:27:32.864Z"
   },
   {
    "duration": 201704,
    "start_time": "2022-05-31T11:27:33.316Z"
   },
   {
    "duration": 4,
    "start_time": "2022-05-31T11:30:55.026Z"
   },
   {
    "duration": 8,
    "start_time": "2022-05-31T11:30:55.032Z"
   },
   {
    "duration": 579,
    "start_time": "2022-05-31T11:35:20.531Z"
   },
   {
    "duration": 1147,
    "start_time": "2022-05-31T11:37:48.196Z"
   },
   {
    "duration": 58,
    "start_time": "2022-05-31T11:37:49.345Z"
   },
   {
    "duration": 12,
    "start_time": "2022-05-31T11:37:49.405Z"
   },
   {
    "duration": 5,
    "start_time": "2022-05-31T11:37:49.419Z"
   },
   {
    "duration": 6,
    "start_time": "2022-05-31T11:37:49.425Z"
   },
   {
    "duration": 21,
    "start_time": "2022-05-31T11:37:49.432Z"
   },
   {
    "duration": 23,
    "start_time": "2022-05-31T11:37:49.454Z"
   },
   {
    "duration": 4,
    "start_time": "2022-05-31T11:37:49.479Z"
   },
   {
    "duration": 9,
    "start_time": "2022-05-31T11:37:49.484Z"
   },
   {
    "duration": 6,
    "start_time": "2022-05-31T11:37:49.495Z"
   },
   {
    "duration": 5,
    "start_time": "2022-05-31T11:37:49.503Z"
   },
   {
    "duration": 187,
    "start_time": "2022-05-31T11:37:49.510Z"
   },
   {
    "duration": 308,
    "start_time": "2022-05-31T11:37:49.699Z"
   },
   {
    "duration": 189880,
    "start_time": "2022-05-31T11:37:50.009Z"
   },
   {
    "duration": 195339,
    "start_time": "2022-05-31T11:40:59.891Z"
   },
   {
    "duration": 3,
    "start_time": "2022-05-31T11:44:15.232Z"
   },
   {
    "duration": 259339,
    "start_time": "2022-05-31T11:44:15.237Z"
   },
   {
    "duration": 5,
    "start_time": "2022-05-31T11:48:34.578Z"
   },
   {
    "duration": 186187,
    "start_time": "2022-05-31T11:48:34.585Z"
   },
   {
    "duration": 539,
    "start_time": "2022-05-31T11:51:40.774Z"
   },
   {
    "duration": 76,
    "start_time": "2022-05-31T11:52:38.745Z"
   },
   {
    "duration": 517,
    "start_time": "2022-05-31T11:52:47.213Z"
   },
   {
    "duration": 735,
    "start_time": "2022-05-31T11:54:41.210Z"
   },
   {
    "duration": 1207,
    "start_time": "2022-05-31T11:55:04.675Z"
   },
   {
    "duration": 1023,
    "start_time": "2022-05-31T11:56:32.205Z"
   },
   {
    "duration": 56,
    "start_time": "2022-05-31T11:56:33.230Z"
   },
   {
    "duration": 15,
    "start_time": "2022-05-31T11:56:33.288Z"
   },
   {
    "duration": 6,
    "start_time": "2022-05-31T11:56:33.305Z"
   },
   {
    "duration": 23,
    "start_time": "2022-05-31T11:56:33.312Z"
   },
   {
    "duration": 20,
    "start_time": "2022-05-31T11:56:33.337Z"
   },
   {
    "duration": 15,
    "start_time": "2022-05-31T11:56:33.359Z"
   },
   {
    "duration": 4,
    "start_time": "2022-05-31T11:56:33.376Z"
   },
   {
    "duration": 13,
    "start_time": "2022-05-31T11:56:33.382Z"
   },
   {
    "duration": 13,
    "start_time": "2022-05-31T11:56:33.397Z"
   },
   {
    "duration": 9,
    "start_time": "2022-05-31T11:56:33.411Z"
   },
   {
    "duration": 170,
    "start_time": "2022-05-31T11:56:33.421Z"
   },
   {
    "duration": 313,
    "start_time": "2022-05-31T11:56:33.592Z"
   },
   {
    "duration": 195984,
    "start_time": "2022-05-31T11:56:33.908Z"
   },
   {
    "duration": 196926,
    "start_time": "2022-05-31T11:59:49.893Z"
   },
   {
    "duration": 6,
    "start_time": "2022-05-31T12:03:06.827Z"
   },
   {
    "duration": 258054,
    "start_time": "2022-05-31T12:03:06.835Z"
   },
   {
    "duration": 4,
    "start_time": "2022-05-31T12:07:24.890Z"
   },
   {
    "duration": 131465,
    "start_time": "2022-05-31T12:07:24.896Z"
   },
   {
    "duration": 541,
    "start_time": "2022-05-31T12:09:36.363Z"
   },
   {
    "duration": 414,
    "start_time": "2022-05-31T12:09:36.906Z"
   },
   {
    "duration": 1060,
    "start_time": "2022-05-31T12:44:30.764Z"
   },
   {
    "duration": 106,
    "start_time": "2022-05-31T12:44:31.826Z"
   },
   {
    "duration": 15,
    "start_time": "2022-05-31T12:44:31.935Z"
   },
   {
    "duration": 6,
    "start_time": "2022-05-31T12:44:31.952Z"
   },
   {
    "duration": 9,
    "start_time": "2022-05-31T12:44:31.960Z"
   },
   {
    "duration": 18,
    "start_time": "2022-05-31T12:44:31.971Z"
   },
   {
    "duration": 15,
    "start_time": "2022-05-31T12:44:31.991Z"
   },
   {
    "duration": 5,
    "start_time": "2022-05-31T12:44:32.008Z"
   },
   {
    "duration": 10,
    "start_time": "2022-05-31T12:44:32.015Z"
   },
   {
    "duration": 8,
    "start_time": "2022-05-31T12:44:32.027Z"
   },
   {
    "duration": 7,
    "start_time": "2022-05-31T12:44:32.037Z"
   },
   {
    "duration": 193,
    "start_time": "2022-05-31T12:44:32.065Z"
   },
   {
    "duration": 294,
    "start_time": "2022-05-31T12:44:32.260Z"
   },
   {
    "duration": 203464,
    "start_time": "2022-05-31T12:44:32.565Z"
   },
   {
    "duration": 206707,
    "start_time": "2022-05-31T12:47:56.031Z"
   },
   {
    "duration": 4,
    "start_time": "2022-05-31T12:51:22.740Z"
   },
   {
    "duration": 271959,
    "start_time": "2022-05-31T12:51:22.746Z"
   },
   {
    "duration": 6,
    "start_time": "2022-05-31T12:55:54.707Z"
   },
   {
    "duration": 136224,
    "start_time": "2022-05-31T12:55:54.715Z"
   },
   {
    "duration": 610,
    "start_time": "2022-05-31T12:58:10.941Z"
   },
   {
    "duration": 995,
    "start_time": "2022-05-31T17:05:39.696Z"
   },
   {
    "duration": 91,
    "start_time": "2022-05-31T17:05:41.540Z"
   },
   {
    "duration": 11,
    "start_time": "2022-05-31T17:05:41.969Z"
   },
   {
    "duration": 5,
    "start_time": "2022-05-31T17:05:42.968Z"
   },
   {
    "duration": 4,
    "start_time": "2022-05-31T17:05:44.073Z"
   },
   {
    "duration": 10,
    "start_time": "2022-05-31T17:05:45.067Z"
   },
   {
    "duration": 4,
    "start_time": "2022-05-31T17:05:46.208Z"
   },
   {
    "duration": 9,
    "start_time": "2022-05-31T17:05:47.063Z"
   },
   {
    "duration": 4,
    "start_time": "2022-05-31T17:05:47.575Z"
   },
   {
    "duration": 23,
    "start_time": "2022-05-31T17:05:48.454Z"
   },
   {
    "duration": 4,
    "start_time": "2022-05-31T17:05:57.930Z"
   },
   {
    "duration": 148,
    "start_time": "2022-05-31T17:05:59.734Z"
   },
   {
    "duration": 251,
    "start_time": "2022-05-31T17:06:00.400Z"
   },
   {
    "duration": 175195,
    "start_time": "2022-05-31T17:06:00.857Z"
   },
   {
    "duration": 174447,
    "start_time": "2022-05-31T17:08:56.054Z"
   },
   {
    "duration": 5,
    "start_time": "2022-05-31T17:11:50.502Z"
   },
   {
    "duration": 233265,
    "start_time": "2022-05-31T17:11:50.508Z"
   },
   {
    "duration": 9,
    "start_time": "2022-05-31T17:15:43.774Z"
   },
   {
    "duration": 116744,
    "start_time": "2022-05-31T17:15:43.784Z"
   },
   {
    "duration": 469,
    "start_time": "2022-05-31T17:17:40.529Z"
   },
   {
    "duration": 1149,
    "start_time": "2022-05-31T19:09:19.561Z"
   },
   {
    "duration": 55,
    "start_time": "2022-05-31T19:09:20.711Z"
   },
   {
    "duration": 13,
    "start_time": "2022-05-31T19:09:20.767Z"
   },
   {
    "duration": 5,
    "start_time": "2022-05-31T19:09:20.801Z"
   },
   {
    "duration": 4,
    "start_time": "2022-05-31T19:09:21.683Z"
   },
   {
    "duration": 13,
    "start_time": "2022-05-31T19:09:22.754Z"
   },
   {
    "duration": 5,
    "start_time": "2022-05-31T19:09:23.543Z"
   },
   {
    "duration": 12,
    "start_time": "2022-05-31T19:09:24.139Z"
   },
   {
    "duration": 6,
    "start_time": "2022-05-31T19:09:24.641Z"
   },
   {
    "duration": 33,
    "start_time": "2022-05-31T19:09:25.561Z"
   },
   {
    "duration": 6,
    "start_time": "2022-05-31T19:09:39.242Z"
   },
   {
    "duration": 16,
    "start_time": "2022-05-31T19:09:59.125Z"
   },
   {
    "duration": 11,
    "start_time": "2022-05-31T19:10:39.564Z"
   },
   {
    "duration": 4,
    "start_time": "2022-05-31T19:11:05.330Z"
   },
   {
    "duration": 50,
    "start_time": "2022-05-31T19:11:05.774Z"
   },
   {
    "duration": 12,
    "start_time": "2022-05-31T19:11:05.954Z"
   },
   {
    "duration": 5,
    "start_time": "2022-05-31T19:11:06.342Z"
   },
   {
    "duration": 6,
    "start_time": "2022-05-31T19:11:07.239Z"
   },
   {
    "duration": 11,
    "start_time": "2022-05-31T19:11:08.169Z"
   },
   {
    "duration": 5,
    "start_time": "2022-05-31T19:11:08.929Z"
   },
   {
    "duration": 8,
    "start_time": "2022-05-31T19:11:09.809Z"
   },
   {
    "duration": 5,
    "start_time": "2022-05-31T19:11:10.259Z"
   },
   {
    "duration": 11,
    "start_time": "2022-05-31T19:11:11.132Z"
   },
   {
    "duration": 578,
    "start_time": "2022-05-31T19:11:11.570Z"
   },
   {
    "duration": 23,
    "start_time": "2022-05-31T19:11:12.250Z"
   },
   {
    "duration": 17,
    "start_time": "2022-05-31T19:11:17.656Z"
   },
   {
    "duration": 151,
    "start_time": "2022-05-31T19:11:18.052Z"
   },
   {
    "duration": 12,
    "start_time": "2022-05-31T19:12:45.673Z"
   },
   {
    "duration": 145,
    "start_time": "2022-05-31T19:12:46.531Z"
   },
   {
    "duration": 50,
    "start_time": "2022-05-31T19:13:02.360Z"
   },
   {
    "duration": 12,
    "start_time": "2022-05-31T19:13:02.653Z"
   },
   {
    "duration": 5,
    "start_time": "2022-05-31T19:13:03.282Z"
   },
   {
    "duration": 4,
    "start_time": "2022-05-31T19:13:04.744Z"
   },
   {
    "duration": 14,
    "start_time": "2022-05-31T19:13:05.974Z"
   },
   {
    "duration": 6,
    "start_time": "2022-05-31T19:13:06.751Z"
   },
   {
    "duration": 8,
    "start_time": "2022-05-31T19:13:07.487Z"
   },
   {
    "duration": 5,
    "start_time": "2022-05-31T19:13:08.081Z"
   },
   {
    "duration": 11,
    "start_time": "2022-05-31T19:13:08.960Z"
   },
   {
    "duration": 123,
    "start_time": "2022-05-31T19:13:09.674Z"
   },
   {
    "duration": 21,
    "start_time": "2022-05-31T19:13:12.366Z"
   },
   {
    "duration": 12,
    "start_time": "2022-05-31T19:13:14.600Z"
   },
   {
    "duration": 128,
    "start_time": "2022-05-31T19:13:15.262Z"
   }
  ],
  "kernelspec": {
   "display_name": "Python 3 (ipykernel)",
   "language": "python",
   "name": "python3"
  },
  "language_info": {
   "codemirror_mode": {
    "name": "ipython",
    "version": 3
   },
   "file_extension": ".py",
   "mimetype": "text/x-python",
   "name": "python",
   "nbconvert_exporter": "python",
   "pygments_lexer": "ipython3",
   "version": "3.9.7"
  },
  "toc": {
   "base_numbering": 1,
   "nav_menu": {},
   "number_sections": true,
   "sideBar": true,
   "skip_h1_title": true,
   "title_cell": "Содержание",
   "title_sidebar": "Contents",
   "toc_cell": true,
   "toc_position": {
    "height": "calc(100% - 180px)",
    "left": "10px",
    "top": "150px",
    "width": "305.191px"
   },
   "toc_section_display": true,
   "toc_window_display": true
  }
 },
 "nbformat": 4,
 "nbformat_minor": 2
}
