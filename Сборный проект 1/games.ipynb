{
 "cells": [
  {
   "cell_type": "markdown",
   "metadata": {},
   "source": [
    "# Сборный проект"
   ]
  },
  {
   "cell_type": "markdown",
   "metadata": {},
   "source": [
    "Интернет-магазин «Стримчик» продаёт по всему миру компьютерные игры. Из открытых источников доступны исторические данные о продажах игр, оценки пользователей и экспертов, жанры и платформы (например, Xbox или PlayStation).\n",
    "\n",
    "Нужно выявить определяющие успешность игры закономерности. Это позволит сделать ставку на потенциально популярный продукт и спланировать рекламные кампании.\n",
    "В датасете данные до 2016 года, необходимо спланировать компанию на 2017-й. "
   ]
  },
  {
   "cell_type": "markdown",
   "metadata": {},
   "source": [
    "## Импорт библиотек"
   ]
  },
  {
   "cell_type": "code",
   "execution_count": 1,
   "metadata": {},
   "outputs": [],
   "source": [
    "import pandas as pd\n",
    "from scipy import stats as st\n",
    "import numpy as np\n",
    "\n",
    "import matplotlib.pyplot as plt\n",
    "import seaborn as sns"
   ]
  },
  {
   "cell_type": "markdown",
   "metadata": {},
   "source": [
    "## Изучение данных из файла"
   ]
  },
  {
   "cell_type": "code",
   "execution_count": 2,
   "metadata": {},
   "outputs": [],
   "source": [
    "data = pd.read_csv('/Users/daniilsobolev/Desktop/ml projects/Сборный проект/games.csv')"
   ]
  },
  {
   "cell_type": "code",
   "execution_count": 3,
   "metadata": {
    "scrolled": false
   },
   "outputs": [
    {
     "data": {
      "text/html": [
       "<div>\n",
       "<style scoped>\n",
       "    .dataframe tbody tr th:only-of-type {\n",
       "        vertical-align: middle;\n",
       "    }\n",
       "\n",
       "    .dataframe tbody tr th {\n",
       "        vertical-align: top;\n",
       "    }\n",
       "\n",
       "    .dataframe thead th {\n",
       "        text-align: right;\n",
       "    }\n",
       "</style>\n",
       "<table border=\"1\" class=\"dataframe\">\n",
       "  <thead>\n",
       "    <tr style=\"text-align: right;\">\n",
       "      <th></th>\n",
       "      <th>Name</th>\n",
       "      <th>Platform</th>\n",
       "      <th>Year_of_Release</th>\n",
       "      <th>Genre</th>\n",
       "      <th>NA_sales</th>\n",
       "      <th>EU_sales</th>\n",
       "      <th>JP_sales</th>\n",
       "      <th>Other_sales</th>\n",
       "      <th>Critic_Score</th>\n",
       "      <th>User_Score</th>\n",
       "      <th>Rating</th>\n",
       "    </tr>\n",
       "  </thead>\n",
       "  <tbody>\n",
       "    <tr>\n",
       "      <th>1768</th>\n",
       "      <td>Doraemon</td>\n",
       "      <td>NES</td>\n",
       "      <td>1986.0</td>\n",
       "      <td>Action</td>\n",
       "      <td>0.00</td>\n",
       "      <td>0.00</td>\n",
       "      <td>1.15</td>\n",
       "      <td>0.00</td>\n",
       "      <td>NaN</td>\n",
       "      <td>NaN</td>\n",
       "      <td>NaN</td>\n",
       "    </tr>\n",
       "    <tr>\n",
       "      <th>4747</th>\n",
       "      <td>Rocksmith 2014</td>\n",
       "      <td>XOne</td>\n",
       "      <td>2014.0</td>\n",
       "      <td>Misc</td>\n",
       "      <td>0.29</td>\n",
       "      <td>0.08</td>\n",
       "      <td>0.00</td>\n",
       "      <td>0.04</td>\n",
       "      <td>NaN</td>\n",
       "      <td>NaN</td>\n",
       "      <td>NaN</td>\n",
       "    </tr>\n",
       "    <tr>\n",
       "      <th>11583</th>\n",
       "      <td>Resident Evil 6</td>\n",
       "      <td>PS4</td>\n",
       "      <td>2016.0</td>\n",
       "      <td>Shooter</td>\n",
       "      <td>0.06</td>\n",
       "      <td>0.00</td>\n",
       "      <td>0.00</td>\n",
       "      <td>0.01</td>\n",
       "      <td>60.0</td>\n",
       "      <td>6.7</td>\n",
       "      <td>M</td>\n",
       "    </tr>\n",
       "    <tr>\n",
       "      <th>6663</th>\n",
       "      <td>Samurai Shodown II</td>\n",
       "      <td>NG</td>\n",
       "      <td>1994.0</td>\n",
       "      <td>Fighting</td>\n",
       "      <td>0.00</td>\n",
       "      <td>0.00</td>\n",
       "      <td>0.25</td>\n",
       "      <td>0.00</td>\n",
       "      <td>NaN</td>\n",
       "      <td>NaN</td>\n",
       "      <td>NaN</td>\n",
       "    </tr>\n",
       "    <tr>\n",
       "      <th>12369</th>\n",
       "      <td>The Pinball of the Dead</td>\n",
       "      <td>GBA</td>\n",
       "      <td>2002.0</td>\n",
       "      <td>Misc</td>\n",
       "      <td>0.05</td>\n",
       "      <td>0.02</td>\n",
       "      <td>0.00</td>\n",
       "      <td>0.00</td>\n",
       "      <td>79.0</td>\n",
       "      <td>tbd</td>\n",
       "      <td>T</td>\n",
       "    </tr>\n",
       "  </tbody>\n",
       "</table>\n",
       "</div>"
      ],
      "text/plain": [
       "                          Name Platform  Year_of_Release     Genre  NA_sales  \\\n",
       "1768                  Doraemon      NES           1986.0    Action      0.00   \n",
       "4747            Rocksmith 2014     XOne           2014.0      Misc      0.29   \n",
       "11583          Resident Evil 6      PS4           2016.0   Shooter      0.06   \n",
       "6663        Samurai Shodown II       NG           1994.0  Fighting      0.00   \n",
       "12369  The Pinball of the Dead      GBA           2002.0      Misc      0.05   \n",
       "\n",
       "       EU_sales  JP_sales  Other_sales  Critic_Score User_Score Rating  \n",
       "1768       0.00      1.15         0.00           NaN        NaN    NaN  \n",
       "4747       0.08      0.00         0.04           NaN        NaN    NaN  \n",
       "11583      0.00      0.00         0.01          60.0        6.7      M  \n",
       "6663       0.00      0.25         0.00           NaN        NaN    NaN  \n",
       "12369      0.02      0.00         0.00          79.0        tbd      T  "
      ]
     },
     "execution_count": 3,
     "metadata": {},
     "output_type": "execute_result"
    }
   ],
   "source": [
    "data.sample(5)"
   ]
  },
  {
   "cell_type": "markdown",
   "metadata": {},
   "source": [
    "### Описание"
   ]
  },
  {
   "cell_type": "markdown",
   "metadata": {},
   "source": [
    "**Name** — название игры <br>\n",
    "**Platform** — платформа <br>\n",
    "**Year_of_Release** — год выпуска <br>\n",
    "**Genre** — жанр игры <br>\n",
    "**NA_sales** — продажи в Северной Америке (миллионы проданных копий) <br>\n",
    "**EU_sales** — продажи в Европе (миллионы проданных копий) <br>\n",
    "**JP_sales** — продажи в Японии (миллионы проданных копий) <br>\n",
    "**Other_sales** — продажи в других странах (миллионы проданных копий) <br>\n",
    "**Critic_Score** — оценка критиков (максимум 100) <br>\n",
    "**User_Score** — оценка пользователей (максимум 10) <br>\n",
    "**Rating** — рейтинг от организации ESRB  <br>"
   ]
  },
  {
   "cell_type": "code",
   "execution_count": 4,
   "metadata": {
    "scrolled": true
   },
   "outputs": [
    {
     "name": "stdout",
     "output_type": "stream",
     "text": [
      "<class 'pandas.core.frame.DataFrame'>\n",
      "RangeIndex: 16715 entries, 0 to 16714\n",
      "Data columns (total 11 columns):\n",
      " #   Column           Non-Null Count  Dtype  \n",
      "---  ------           --------------  -----  \n",
      " 0   Name             16713 non-null  object \n",
      " 1   Platform         16715 non-null  object \n",
      " 2   Year_of_Release  16446 non-null  float64\n",
      " 3   Genre            16713 non-null  object \n",
      " 4   NA_sales         16715 non-null  float64\n",
      " 5   EU_sales         16715 non-null  float64\n",
      " 6   JP_sales         16715 non-null  float64\n",
      " 7   Other_sales      16715 non-null  float64\n",
      " 8   Critic_Score     8137 non-null   float64\n",
      " 9   User_Score       10014 non-null  object \n",
      " 10  Rating           9949 non-null   object \n",
      "dtypes: float64(6), object(5)\n",
      "memory usage: 1.4+ MB\n"
     ]
    }
   ],
   "source": [
    "data.info()"
   ]
  },
  {
   "cell_type": "code",
   "execution_count": 5,
   "metadata": {},
   "outputs": [
    {
     "data": {
      "text/plain": [
       "Platform            0.000000\n",
       "NA_sales            0.000000\n",
       "EU_sales            0.000000\n",
       "JP_sales            0.000000\n",
       "Other_sales         0.000000\n",
       "Name                0.011965\n",
       "Genre               0.011965\n",
       "Year_of_Release     1.609333\n",
       "User_Score         40.089740\n",
       "Rating             40.478612\n",
       "Critic_Score       51.319174\n",
       "dtype: float64"
      ]
     },
     "execution_count": 5,
     "metadata": {},
     "output_type": "execute_result"
    }
   ],
   "source": [
    "data.isna().mean().sort_values()*100"
   ]
  },
  {
   "cell_type": "markdown",
   "metadata": {},
   "source": [
    "### Вывод"
   ]
  },
  {
   "cell_type": "markdown",
   "metadata": {},
   "source": [
    "**Сразу видно, что необходима дработка таблицы:**  <br>\n",
    "\n",
    "1) Приведем названия столбцов в нижний регистр <br>\n",
    "2) В столбцах Year_of_Release и Critic_Score изменим тип данных на int <br>\n",
    "3) Изучим пропуски в столбцах Name, Year_of_Release, Genre, Critic_Score, User_Score, Rating <br>\n",
    "4) А также посчитаем суммарные продажи во всех регионах и запишем их в новый столбец <br>\n",
    "5) В столбце User_Score изменим тип данных на float\n",
    "\n",
    "Приступим к предобработке"
   ]
  },
  {
   "cell_type": "markdown",
   "metadata": {},
   "source": [
    "## Предобработка данных "
   ]
  },
  {
   "cell_type": "code",
   "execution_count": 6,
   "metadata": {},
   "outputs": [],
   "source": [
    "data.columns = data.columns.str.lower()"
   ]
  },
  {
   "cell_type": "markdown",
   "metadata": {},
   "source": [
    "Пропуски в столбцах **name, year_of_release, genre** составляют менее 2% данных, поэтому просто удалим их.<br>"
   ]
  },
  {
   "cell_type": "code",
   "execution_count": 7,
   "metadata": {},
   "outputs": [],
   "source": [
    "data.dropna(subset=['name', 'year_of_release', 'genre'], inplace=True)"
   ]
  },
  {
   "cell_type": "markdown",
   "metadata": {},
   "source": [
    "Пропуски в столбцах **critic_score, user_score, rating** заполним значением 101, в будущем имея в виду, что это пропуск."
   ]
  },
  {
   "cell_type": "code",
   "execution_count": 8,
   "metadata": {},
   "outputs": [],
   "source": [
    "data['critic_score'] = data['critic_score'].fillna(101)\n",
    "data['user_score'] = data['user_score'].fillna(101)\n",
    "data['rating'] = data['rating'].fillna(101)"
   ]
  },
  {
   "cell_type": "markdown",
   "metadata": {},
   "source": [
    "В столбце **user_score** встречается некорректное значение 'tbd', что скорее всего значит - оценка ещё не определена, будет определена позже. Примем это значение как пропуск, заполним значением 101."
   ]
  },
  {
   "cell_type": "code",
   "execution_count": 9,
   "metadata": {},
   "outputs": [],
   "source": [
    "data[data['user_score'] == 'tbd'] = 101"
   ]
  },
  {
   "cell_type": "markdown",
   "metadata": {},
   "source": [
    "Тип данных в столбцах **year_of_release** и **critic_score** заменим на int, так как там фигурируют целые значения. <br>\n",
    "Тип данных в столбце **user_score** заменим на float, так как там дробные значения."
   ]
  },
  {
   "cell_type": "code",
   "execution_count": 10,
   "metadata": {},
   "outputs": [],
   "source": [
    "data['year_of_release'] = data['year_of_release'].astype('int')\n",
    "data['critic_score'] = data['critic_score'].astype('int')\n",
    "data['user_score'] = data['user_score'].astype('float')"
   ]
  },
  {
   "cell_type": "code",
   "execution_count": 11,
   "metadata": {},
   "outputs": [],
   "source": [
    "data['sales'] = data['na_sales'] + data['eu_sales'] + data['jp_sales'] + data['other_sales']"
   ]
  },
  {
   "cell_type": "code",
   "execution_count": 12,
   "metadata": {},
   "outputs": [
    {
     "data": {
      "text/html": [
       "<div>\n",
       "<style scoped>\n",
       "    .dataframe tbody tr th:only-of-type {\n",
       "        vertical-align: middle;\n",
       "    }\n",
       "\n",
       "    .dataframe tbody tr th {\n",
       "        vertical-align: top;\n",
       "    }\n",
       "\n",
       "    .dataframe thead th {\n",
       "        text-align: right;\n",
       "    }\n",
       "</style>\n",
       "<table border=\"1\" class=\"dataframe\">\n",
       "  <thead>\n",
       "    <tr style=\"text-align: right;\">\n",
       "      <th></th>\n",
       "      <th>name</th>\n",
       "      <th>platform</th>\n",
       "      <th>year_of_release</th>\n",
       "      <th>genre</th>\n",
       "      <th>na_sales</th>\n",
       "      <th>eu_sales</th>\n",
       "      <th>jp_sales</th>\n",
       "      <th>other_sales</th>\n",
       "      <th>critic_score</th>\n",
       "      <th>user_score</th>\n",
       "      <th>rating</th>\n",
       "      <th>sales</th>\n",
       "    </tr>\n",
       "  </thead>\n",
       "  <tbody>\n",
       "    <tr>\n",
       "      <th>835</th>\n",
       "      <td>Need for Speed: ProStreet</td>\n",
       "      <td>PS3</td>\n",
       "      <td>2007</td>\n",
       "      <td>Racing</td>\n",
       "      <td>0.73</td>\n",
       "      <td>0.91</td>\n",
       "      <td>0.04</td>\n",
       "      <td>0.36</td>\n",
       "      <td>73</td>\n",
       "      <td>6.0</td>\n",
       "      <td>E10+</td>\n",
       "      <td>2.04</td>\n",
       "    </tr>\n",
       "    <tr>\n",
       "      <th>9191</th>\n",
       "      <td>Frank Thomas Big Hurt Baseball</td>\n",
       "      <td>PS</td>\n",
       "      <td>1996</td>\n",
       "      <td>Sports</td>\n",
       "      <td>0.08</td>\n",
       "      <td>0.05</td>\n",
       "      <td>0.00</td>\n",
       "      <td>0.01</td>\n",
       "      <td>101</td>\n",
       "      <td>101.0</td>\n",
       "      <td>101</td>\n",
       "      <td>0.14</td>\n",
       "    </tr>\n",
       "    <tr>\n",
       "      <th>7418</th>\n",
       "      <td>Prince of Persia: Revelations</td>\n",
       "      <td>PSP</td>\n",
       "      <td>2005</td>\n",
       "      <td>Adventure</td>\n",
       "      <td>0.18</td>\n",
       "      <td>0.01</td>\n",
       "      <td>0.00</td>\n",
       "      <td>0.02</td>\n",
       "      <td>101</td>\n",
       "      <td>101.0</td>\n",
       "      <td>101</td>\n",
       "      <td>0.21</td>\n",
       "    </tr>\n",
       "  </tbody>\n",
       "</table>\n",
       "</div>"
      ],
      "text/plain": [
       "                                name platform  year_of_release      genre  \\\n",
       "835        Need for Speed: ProStreet      PS3             2007     Racing   \n",
       "9191  Frank Thomas Big Hurt Baseball       PS             1996     Sports   \n",
       "7418   Prince of Persia: Revelations      PSP             2005  Adventure   \n",
       "\n",
       "      na_sales  eu_sales  jp_sales  other_sales  critic_score  user_score  \\\n",
       "835       0.73      0.91      0.04         0.36            73         6.0   \n",
       "9191      0.08      0.05      0.00         0.01           101       101.0   \n",
       "7418      0.18      0.01      0.00         0.02           101       101.0   \n",
       "\n",
       "     rating  sales  \n",
       "835    E10+   2.04  \n",
       "9191    101   0.14  \n",
       "7418    101   0.21  "
      ]
     },
     "execution_count": 12,
     "metadata": {},
     "output_type": "execute_result"
    }
   ],
   "source": [
    "data.sample(3)"
   ]
  },
  {
   "cell_type": "code",
   "execution_count": 13,
   "metadata": {},
   "outputs": [
    {
     "name": "stdout",
     "output_type": "stream",
     "text": [
      "<class 'pandas.core.frame.DataFrame'>\n",
      "Int64Index: 16444 entries, 0 to 16714\n",
      "Data columns (total 12 columns):\n",
      " #   Column           Non-Null Count  Dtype  \n",
      "---  ------           --------------  -----  \n",
      " 0   name             16444 non-null  object \n",
      " 1   platform         16444 non-null  object \n",
      " 2   year_of_release  16444 non-null  int64  \n",
      " 3   genre            16444 non-null  object \n",
      " 4   na_sales         16444 non-null  float64\n",
      " 5   eu_sales         16444 non-null  float64\n",
      " 6   jp_sales         16444 non-null  float64\n",
      " 7   other_sales      16444 non-null  float64\n",
      " 8   critic_score     16444 non-null  int64  \n",
      " 9   user_score       16444 non-null  float64\n",
      " 10  rating           16444 non-null  object \n",
      " 11  sales            16444 non-null  float64\n",
      "dtypes: float64(6), int64(2), object(4)\n",
      "memory usage: 1.6+ MB\n"
     ]
    }
   ],
   "source": [
    "data.info()"
   ]
  },
  {
   "cell_type": "markdown",
   "metadata": {},
   "source": [
    "### Вывод"
   ]
  },
  {
   "cell_type": "markdown",
   "metadata": {},
   "source": [
    "Мы встретили большое количество пропусков в столбцах **rating** и **critic_score**. <br>\n",
    "\n",
    "Пропуски в столбце **rating** могли быть связаны с тем, что игра вышла недавно, определение рейтинга - это не самый быстрый процесс, причем игра на старте может дорабатываться, то есть её рейтинг может меняться, а также компания может опсаривать решение комисии. Также, скорее всего, существуют игры без рейтинга. <br>\n",
    "\n",
    "Пропуски в столбце **critic_score** также связаны с тем, что игра вышла недавно, критики не успели сформировать свою точку зрения.\n",
    "\n",
    "Также эти пропуски могли быть связаны с непопулярностью игры или с тем временем, когда рейтинг и оценка кртиков не выставлялись."
   ]
  },
  {
   "cell_type": "markdown",
   "metadata": {},
   "source": [
    "Данные были доработаны, перейдем к анализу."
   ]
  },
  {
   "cell_type": "markdown",
   "metadata": {},
   "source": [
    "## Исследовательский анализ данных"
   ]
  },
  {
   "cell_type": "markdown",
   "metadata": {},
   "source": [
    "**Посмотрим и проанализируем следующее:**\n",
    "\n",
    "1) Сколько игр выпускалось в разные года <br>\n",
    "2) Изменение продаж по платформам <br>\n",
    "3) Определим актуальный период данных. То есть те данные, которые помогут построить прогноз на 2017 год <br>\n",
    "4) Посмотрим, какие платформы лидируют по продажам, растут, падают. Выберем несколько потенциально прибыльных платформ <br>\n",
    "5) Посмотрим на график «ящик с усами» по глобальным продажам игр в разбивке по платформам <br>\n",
    "6) Посмотрим, как влияют на продажи внутри одной популярной платформы отзывы пользователей и критиков. Соотнесём выводы с продажами игр на других платформах <br>\n",
    "7) Посмотрим на общее распределение игр по жанрам <br>"
   ]
  },
  {
   "cell_type": "markdown",
   "metadata": {},
   "source": [
    "### Анализ выпущенных игр по годам"
   ]
  },
  {
   "cell_type": "code",
   "execution_count": 14,
   "metadata": {},
   "outputs": [],
   "source": [
    "data_year = pd.pivot_table(data, \n",
    "                        index=['year_of_release'], \n",
    "                        values='name', \n",
    "                        aggfunc=['count'])\n",
    "data_year = data_year.reset_index()\n",
    "data_year = data_year[data_year['year_of_release'] != 0]"
   ]
  },
  {
   "cell_type": "code",
   "execution_count": 15,
   "metadata": {},
   "outputs": [
    {
     "data": {
      "image/png": "[encoded data removed]",
      "text/plain": [
       "<Figure size 432x288 with 1 Axes>"
      ]
     },
     "metadata": {
      "needs_background": "light"
     },
     "output_type": "display_data"
    }
   ],
   "source": [
    "ax = data_year.plot(x='year_of_release', y='count')\n",
    "ax.set_xlabel(\"Год\")\n",
    "ax.set_ylabel(\"Количество выпущенных игр\")\n",
    "ax.set_title('Количество игр выпущенных в год')\n",
    "plt.xlim([1985, 2017])\n",
    "plt.show()"
   ]
  },
  {
   "cell_type": "markdown",
   "metadata": {},
   "source": [
    "#### Вывод"
   ]
  },
  {
   "cell_type": "markdown",
   "metadata": {},
   "source": [
    "Из графика видно, что количество выпущенных игр возрастало до 2008-2009 годов, а далее их количество стало убывать.<br>\n",
    "\n",
    "Это может быть свзяано с кризисом 2008 года, многие компании ушли с рынка, тем самым повлияв на количество выпущенных игр. <br>\n",
    "А также в 2008 и далее годах технологии шагнули вперед и разработчики научились делать более сложные, более интересные, более долгие по прохождению игры."
   ]
  },
  {
   "cell_type": "markdown",
   "metadata": {},
   "source": [
    "### Анализ изменения продаж по платформам"
   ]
  },
  {
   "cell_type": "code",
   "execution_count": 16,
   "metadata": {
    "scrolled": true
   },
   "outputs": [],
   "source": [
    "data_platform = pd.pivot_table(data, \n",
    "                        index=['platform'], \n",
    "                        values='sales', \n",
    "                        aggfunc=['sum'])\n",
    "data_platform = data_platform.reset_index()\n",
    "data_platform = data_platform.sort_values(('sum', 'sales'), ignore_index=True)"
   ]
  },
  {
   "cell_type": "code",
   "execution_count": 17,
   "metadata": {
    "scrolled": true
   },
   "outputs": [
    {
     "data": {
      "text/html": [
       "<div>\n",
       "<style scoped>\n",
       "    .dataframe tbody tr th:only-of-type {\n",
       "        vertical-align: middle;\n",
       "    }\n",
       "\n",
       "    .dataframe tbody tr th {\n",
       "        vertical-align: top;\n",
       "    }\n",
       "\n",
       "    .dataframe thead tr th {\n",
       "        text-align: left;\n",
       "    }\n",
       "</style>\n",
       "<table border=\"1\" class=\"dataframe\">\n",
       "  <thead>\n",
       "    <tr>\n",
       "      <th></th>\n",
       "      <th>platform</th>\n",
       "      <th>sum</th>\n",
       "    </tr>\n",
       "    <tr>\n",
       "      <th></th>\n",
       "      <th></th>\n",
       "      <th>sales</th>\n",
       "    </tr>\n",
       "  </thead>\n",
       "  <tbody>\n",
       "    <tr>\n",
       "      <th>27</th>\n",
       "      <td>Wii</td>\n",
       "      <td>791.91</td>\n",
       "    </tr>\n",
       "    <tr>\n",
       "      <th>28</th>\n",
       "      <td>PS3</td>\n",
       "      <td>921.09</td>\n",
       "    </tr>\n",
       "    <tr>\n",
       "      <th>29</th>\n",
       "      <td>X360</td>\n",
       "      <td>948.74</td>\n",
       "    </tr>\n",
       "    <tr>\n",
       "      <th>30</th>\n",
       "      <td>PS2</td>\n",
       "      <td>1171.19</td>\n",
       "    </tr>\n",
       "    <tr>\n",
       "      <th>31</th>\n",
       "      <td>101</td>\n",
       "      <td>959904.00</td>\n",
       "    </tr>\n",
       "  </tbody>\n",
       "</table>\n",
       "</div>"
      ],
      "text/plain": [
       "   platform        sum\n",
       "                 sales\n",
       "27      Wii     791.91\n",
       "28      PS3     921.09\n",
       "29     X360     948.74\n",
       "30      PS2    1171.19\n",
       "31      101  959904.00"
      ]
     },
     "metadata": {},
     "output_type": "display_data"
    }
   ],
   "source": [
    "display(data_platform.tail())"
   ]
  },
  {
   "cell_type": "code",
   "execution_count": 18,
   "metadata": {},
   "outputs": [],
   "source": [
    "def plot(name):\n",
    "    data_x = data[data['platform'] == name]\n",
    "\n",
    "    data_platform_x = pd.pivot_table(data_x, \n",
    "                            index=['year_of_release'], \n",
    "                            values='sales', \n",
    "                            aggfunc=['sum'])\n",
    "    data_platform_x = data_platform_x.reset_index()\n",
    "\n",
    "    ax = data_platform_x.plot(x='year_of_release', y='sum')\n",
    "    ax.set_xlabel(\"Год\")\n",
    "    ax.set_ylabel(\"Суммарные продажи\")\n",
    "    ax.set_title(name)\n",
    "    plt.show()"
   ]
  },
  {
   "cell_type": "code",
   "execution_count": 19,
   "metadata": {
    "scrolled": true
   },
   "outputs": [
    {
     "data": {
      "image/png": "[encoded data removed]",
      "text/plain": [
       "<Figure size 432x288 with 1 Axes>"
      ]
     },
     "metadata": {
      "needs_background": "light"
     },
     "output_type": "display_data"
    },
    {
     "data": {
      "image/png": "[encoded data removed]",
      "text/plain": [
       "<Figure size 432x288 with 1 Axes>"
      ]
     },
     "metadata": {
      "needs_background": "light"
     },
     "output_type": "display_data"
    },
    {
     "data": {
      "image/png": "[encoded data removed]",
      "text/plain": [
       "<Figure size 432x288 with 1 Axes>"
      ]
     },
     "metadata": {
      "needs_background": "light"
     },
     "output_type": "display_data"
    }
   ],
   "source": [
    "plot('PS3')\n",
    "plot('X360')\n",
    "plot('PS2')"
   ]
  },
  {
   "cell_type": "markdown",
   "metadata": {},
   "source": [
    "#### Вывод"
   ]
  },
  {
   "cell_type": "markdown",
   "metadata": {},
   "source": [
    "Для начала мы выявили пять платформ с наибольшими суммарными продажами, - это PS3, X360, PS2.<br>\n",
    "\n",
    "Далее рассмотрели как были распределены суммарные продажи по годам. Из графиков видно, что период существования каждой из платформ в районе 10 лет.<br>"
   ]
  },
  {
   "cell_type": "markdown",
   "metadata": {},
   "source": [
    "Всего в данных 31 платформа, если мы предположим, что половина из них закрылась и учитывая, что период существования каждой в райне 10 лет, то характерный срок за который повяляются новые и исчезают старые будет примерно равен: 2016-1985 / (31+15) * 12 = 8 месяцев.\n",
    "То есть в течении 8 месяцев появляется новая или же исчезает старая платформа.<br>\n",
    "\n",
    "Также из графиков видно, что приближаясь к 5 годам (половине срока существования) со дня появления платформы, суммарные продажи начинали снижаться. Скорее всего это связано с появлением более новых и лучших платформ.\n",
    "\n",
    "Анализирая графики, можно заметить, что падение суммарных продаж самый больших платформ по продажам, приходится в среднем на 2008-2009 года, что коррелирует с пиком количества выпущенных игр за год. "
   ]
  },
  {
   "cell_type": "markdown",
   "metadata": {},
   "source": [
    "Нам необходимо выявить **актуальный период** для того, чтобы построить прогноз на 2017 год. \n",
    "Для этого все данные брать не нужно, возьмем данные за последние 3 года (2014-2016г)."
   ]
  },
  {
   "cell_type": "code",
   "execution_count": 20,
   "metadata": {
    "scrolled": true
   },
   "outputs": [],
   "source": [
    "data = data[data['year_of_release'] >= 2014]"
   ]
  },
  {
   "cell_type": "markdown",
   "metadata": {},
   "source": [
    "### Анализ потенциально прибыльных платформ"
   ]
  },
  {
   "cell_type": "code",
   "execution_count": 21,
   "metadata": {},
   "outputs": [],
   "source": [
    "data_platform = pd.pivot_table(data, \n",
    "                        index=['platform'], \n",
    "                        values='sales', \n",
    "                        aggfunc=['sum'])\n",
    "data_platform = data_platform.reset_index()\n",
    "data_platform = data_platform.sort_values(('sum', 'sales'), ignore_index=True)"
   ]
  },
  {
   "cell_type": "code",
   "execution_count": 22,
   "metadata": {},
   "outputs": [
    {
     "data": {
      "text/html": [
       "<div>\n",
       "<style scoped>\n",
       "    .dataframe tbody tr th:only-of-type {\n",
       "        vertical-align: middle;\n",
       "    }\n",
       "\n",
       "    .dataframe tbody tr th {\n",
       "        vertical-align: top;\n",
       "    }\n",
       "\n",
       "    .dataframe thead tr th {\n",
       "        text-align: left;\n",
       "    }\n",
       "</style>\n",
       "<table border=\"1\" class=\"dataframe\">\n",
       "  <thead>\n",
       "    <tr>\n",
       "      <th></th>\n",
       "      <th>platform</th>\n",
       "      <th>sum</th>\n",
       "    </tr>\n",
       "    <tr>\n",
       "      <th></th>\n",
       "      <th></th>\n",
       "      <th>sales</th>\n",
       "    </tr>\n",
       "  </thead>\n",
       "  <tbody>\n",
       "    <tr>\n",
       "      <th>5</th>\n",
       "      <td>X360</td>\n",
       "      <td>46.86</td>\n",
       "    </tr>\n",
       "    <tr>\n",
       "      <th>6</th>\n",
       "      <td>PS3</td>\n",
       "      <td>66.86</td>\n",
       "    </tr>\n",
       "    <tr>\n",
       "      <th>7</th>\n",
       "      <td>3DS</td>\n",
       "      <td>85.38</td>\n",
       "    </tr>\n",
       "    <tr>\n",
       "      <th>8</th>\n",
       "      <td>XOne</td>\n",
       "      <td>139.81</td>\n",
       "    </tr>\n",
       "    <tr>\n",
       "      <th>9</th>\n",
       "      <td>PS4</td>\n",
       "      <td>288.01</td>\n",
       "    </tr>\n",
       "  </tbody>\n",
       "</table>\n",
       "</div>"
      ],
      "text/plain": [
       "  platform     sum\n",
       "             sales\n",
       "5     X360   46.86\n",
       "6      PS3   66.86\n",
       "7      3DS   85.38\n",
       "8     XOne  139.81\n",
       "9      PS4  288.01"
      ]
     },
     "metadata": {},
     "output_type": "display_data"
    }
   ],
   "source": [
    "display(data_platform.tail())"
   ]
  },
  {
   "cell_type": "code",
   "execution_count": 23,
   "metadata": {},
   "outputs": [
    {
     "data": {
      "image/png": "[encoded data removed]",
      "text/plain": [
       "<Figure size 432x288 with 1 Axes>"
      ]
     },
     "metadata": {
      "needs_background": "light"
     },
     "output_type": "display_data"
    },
    {
     "data": {
      "image/png": "[encoded data removed]",
      "text/plain": [
       "<Figure size 432x288 with 1 Axes>"
      ]
     },
     "metadata": {
      "needs_background": "light"
     },
     "output_type": "display_data"
    },
    {
     "data": {
      "image/png": "[encoded data removed]",
      "text/plain": [
       "<Figure size 432x288 with 1 Axes>"
      ]
     },
     "metadata": {
      "needs_background": "light"
     },
     "output_type": "display_data"
    },
    {
     "data": {
      "image/png": "[encoded data removed]",
      "text/plain": [
       "<Figure size 432x288 with 1 Axes>"
      ]
     },
     "metadata": {
      "needs_background": "light"
     },
     "output_type": "display_data"
    },
    {
     "data": {
      "image/png": "[encoded data removed]",
      "text/plain": [
       "<Figure size 432x288 with 1 Axes>"
      ]
     },
     "metadata": {
      "needs_background": "light"
     },
     "output_type": "display_data"
    }
   ],
   "source": [
    "plot('X360')\n",
    "plot('3DS')\n",
    "plot('XOne')\n",
    "plot('PS3')\n",
    "plot('PS4')"
   ]
  },
  {
   "cell_type": "markdown",
   "metadata": {},
   "source": [
    "#### Вывод"
   ]
  },
  {
   "cell_type": "markdown",
   "metadata": {},
   "source": [
    "По продажам лидирует такие платформы, как: PS4, PS3, XOne, 3DS, X360.<br>\n",
    "При этом у всех платформ упали продажи за 2016 год относительно 2015.<br>\n",
    "Но у платформ PS4 и XOne наблюдается пик в 2015.<br>\n",
    "\n",
    "Потенциально прибыльные платформы будут одни из: PS4, PS3, XOne, 3DS, X360. Но из графиков можно сделать вывод, что такие платформы, как PS3 и X360 стали мало актуальны и их продажи будут ближе к нулю, чем другие.<br>\n",
    "Поэтому потенциально прибыльные платформы - это PS4, XOne, 3DS"
   ]
  },
  {
   "cell_type": "markdown",
   "metadata": {},
   "source": [
    "### Ящик с усами"
   ]
  },
  {
   "cell_type": "code",
   "execution_count": 24,
   "metadata": {
    "scrolled": true
   },
   "outputs": [
    {
     "data": {
      "text/plain": [
       "<AxesSubplot:xlabel='sales', ylabel='platform'>"
      ]
     },
     "execution_count": 24,
     "metadata": {},
     "output_type": "execute_result"
    },
    {
     "data": {
      "image/png": "[encoded data removed]",
      "text/plain": [
       "<Figure size 432x288 with 1 Axes>"
      ]
     },
     "metadata": {
      "needs_background": "light"
     },
     "output_type": "display_data"
    }
   ],
   "source": [
    "platform = data['platform']\n",
    "sales = data['sales']\n",
    "\n",
    "sns.boxplot(x=sales, y=platform)"
   ]
  },
  {
   "cell_type": "code",
   "execution_count": 25,
   "metadata": {},
   "outputs": [
    {
     "data": {
      "text/plain": [
       "(0.0, 1.0)"
      ]
     },
     "execution_count": 25,
     "metadata": {},
     "output_type": "execute_result"
    },
    {
     "data": {
      "image/png": "[encoded data removed]",
      "text/plain": [
       "<Figure size 432x288 with 1 Axes>"
      ]
     },
     "metadata": {
      "needs_background": "light"
     },
     "output_type": "display_data"
    }
   ],
   "source": [
    "sns.boxplot(x=sales, y=platform).set_xlim([0, 1])  "
   ]
  },
  {
   "cell_type": "markdown",
   "metadata": {},
   "source": [
    "#### Вывод"
   ]
  },
  {
   "cell_type": "markdown",
   "metadata": {},
   "source": [
    "Продажи распределены неравномерно, есть множество выбросов значений. \n",
    "\n",
    "Также видно, что данные не симметричны, смещены влево(верхний квартиль много дальше по отношению к медиане, чем нижний), то есть существует очень много продаж со значением близким к нулю.\n",
    "\n",
    "Также по диаграмме можно рассмотреть медиану, нижний и верхний квартили для каждой платформы. В нашем случае много выбросов, поэтому вывод из этого не сделаешь."
   ]
  },
  {
   "cell_type": "markdown",
   "metadata": {},
   "source": [
    "### Распределение игр по жанрам"
   ]
  },
  {
   "cell_type": "code",
   "execution_count": 26,
   "metadata": {},
   "outputs": [],
   "source": [
    "data_genre = pd.pivot_table(data, \n",
    "                        index=['genre'], \n",
    "                        values='sales', \n",
    "                        aggfunc=['median', 'mean'])\n",
    "data_genre = data_genre.reset_index()"
   ]
  },
  {
   "cell_type": "code",
   "execution_count": 27,
   "metadata": {},
   "outputs": [
    {
     "data": {
      "text/html": [
       "<div>\n",
       "<style scoped>\n",
       "    .dataframe tbody tr th:only-of-type {\n",
       "        vertical-align: middle;\n",
       "    }\n",
       "\n",
       "    .dataframe tbody tr th {\n",
       "        vertical-align: top;\n",
       "    }\n",
       "\n",
       "    .dataframe thead tr th {\n",
       "        text-align: left;\n",
       "    }\n",
       "</style>\n",
       "<table border=\"1\" class=\"dataframe\">\n",
       "  <thead>\n",
       "    <tr>\n",
       "      <th></th>\n",
       "      <th>genre</th>\n",
       "      <th>median</th>\n",
       "      <th>mean</th>\n",
       "    </tr>\n",
       "    <tr>\n",
       "      <th></th>\n",
       "      <th></th>\n",
       "      <th>sales</th>\n",
       "      <th>sales</th>\n",
       "    </tr>\n",
       "  </thead>\n",
       "  <tbody>\n",
       "    <tr>\n",
       "      <th>7</th>\n",
       "      <td>Role-Playing</td>\n",
       "      <td>0.110</td>\n",
       "      <td>0.459005</td>\n",
       "    </tr>\n",
       "    <tr>\n",
       "      <th>8</th>\n",
       "      <td>Fighting</td>\n",
       "      <td>0.130</td>\n",
       "      <td>0.485172</td>\n",
       "    </tr>\n",
       "    <tr>\n",
       "      <th>9</th>\n",
       "      <td>Platform</td>\n",
       "      <td>0.145</td>\n",
       "      <td>0.519412</td>\n",
       "    </tr>\n",
       "    <tr>\n",
       "      <th>10</th>\n",
       "      <td>Sports</td>\n",
       "      <td>0.240</td>\n",
       "      <td>0.722450</td>\n",
       "    </tr>\n",
       "    <tr>\n",
       "      <th>11</th>\n",
       "      <td>Shooter</td>\n",
       "      <td>0.560</td>\n",
       "      <td>1.387967</td>\n",
       "    </tr>\n",
       "  </tbody>\n",
       "</table>\n",
       "</div>"
      ],
      "text/plain": [
       "           genre median      mean\n",
       "                  sales     sales\n",
       "7   Role-Playing  0.110  0.459005\n",
       "8       Fighting  0.130  0.485172\n",
       "9       Platform  0.145  0.519412\n",
       "10        Sports  0.240  0.722450\n",
       "11       Shooter  0.560  1.387967"
      ]
     },
     "metadata": {},
     "output_type": "display_data"
    }
   ],
   "source": [
    "data_genre = data_genre.sort_values(('mean', 'sales'), ignore_index=True)\n",
    "display(data_genre.tail())"
   ]
  },
  {
   "cell_type": "markdown",
   "metadata": {},
   "source": [
    "#### Вывод"
   ]
  },
  {
   "cell_type": "markdown",
   "metadata": {},
   "source": [
    "Самые прибыльные жанры - это Shooter, Sports и Platform. Данные жанры наиболее сильно выделяются на фоне остальных по средним продажам. Причем, жанр Shooter прибыльней остальных в 2 и болле раз."
   ]
  },
  {
   "cell_type": "markdown",
   "metadata": {},
   "source": [
    "### Влияние отзывов пользователей и критиков"
   ]
  },
  {
   "cell_type": "markdown",
   "metadata": {},
   "source": [
    "#### Сперва посмотрим, как влияют отзывы критиков среди одной популярной платформы:"
   ]
  },
  {
   "cell_type": "code",
   "execution_count": 28,
   "metadata": {
    "scrolled": false
   },
   "outputs": [],
   "source": [
    "data_PS4 = data[data['platform'] == 'PS4']\n",
    "data_PS4 = data_PS4[data_PS4['critic_score'] != 101]\n",
    "data_PS4 = data_PS4[data_PS4['user_score'] != 101]"
   ]
  },
  {
   "cell_type": "code",
   "execution_count": 29,
   "metadata": {
    "scrolled": true
   },
   "outputs": [
    {
     "data": {
      "text/plain": [
       "0.40190287811475334"
      ]
     },
     "execution_count": 29,
     "metadata": {},
     "output_type": "execute_result"
    }
   ],
   "source": [
    "data_PS4['critic_score'].corr(data_PS4['sales'])"
   ]
  },
  {
   "cell_type": "code",
   "execution_count": 30,
   "metadata": {
    "scrolled": true
   },
   "outputs": [
    {
     "data": {
      "image/png": "[encoded data removed]",
      "text/plain": [
       "<Figure size 432x288 with 1 Axes>"
      ]
     },
     "metadata": {
      "needs_background": "light"
     },
     "output_type": "display_data"
    }
   ],
   "source": [
    "ax = data_PS4.plot.scatter(x='sales', y='critic_score', marker='o')\n",
    "ax.set_xlabel(\"Продажи\")\n",
    "ax.set_ylabel(\"Оценка критиков\")\n",
    "ax.set_title('Оценка критиков относительно продаж')\n",
    "plt.show()"
   ]
  },
  {
   "cell_type": "markdown",
   "metadata": {},
   "source": [
    "#### Посмотрим, как влияют отзывы пользователей, среди одной популярной платформы:"
   ]
  },
  {
   "cell_type": "code",
   "execution_count": 31,
   "metadata": {
    "scrolled": true
   },
   "outputs": [
    {
     "data": {
      "text/plain": [
       "-0.04318585997193634"
      ]
     },
     "execution_count": 31,
     "metadata": {},
     "output_type": "execute_result"
    }
   ],
   "source": [
    "data_PS4['user_score'].corr(data_PS4['sales'])"
   ]
  },
  {
   "cell_type": "code",
   "execution_count": 32,
   "metadata": {},
   "outputs": [
    {
     "data": {
      "image/png": "[encoded data removed]",
      "text/plain": [
       "<Figure size 432x288 with 1 Axes>"
      ]
     },
     "metadata": {
      "needs_background": "light"
     },
     "output_type": "display_data"
    }
   ],
   "source": [
    "ax = data_PS4.plot.scatter(x='sales', y='user_score')\n",
    "ax.set_xlabel(\"Продажи\")\n",
    "ax.set_ylabel(\"Оценка пользователей\")\n",
    "ax.set_title('Оценка пользователей относительно продаж')\n",
    "plt.show()"
   ]
  },
  {
   "cell_type": "markdown",
   "metadata": {},
   "source": [
    "#### Посмотрим на те же взаимосвязи в случае всех платформ"
   ]
  },
  {
   "cell_type": "code",
   "execution_count": 33,
   "metadata": {},
   "outputs": [
    {
     "data": {
      "text/plain": [
       "-0.009760253058558334"
      ]
     },
     "execution_count": 33,
     "metadata": {},
     "output_type": "execute_result"
    }
   ],
   "source": [
    "data_all = data[data['critic_score'] != 101]\n",
    "data_all = data_all[data_all['user_score'] != 101]\n",
    "\n",
    "data['critic_score'].corr(data['sales'])"
   ]
  },
  {
   "cell_type": "code",
   "execution_count": 34,
   "metadata": {
    "scrolled": false
   },
   "outputs": [
    {
     "data": {
      "image/png": "[encoded data removed]",
      "text/plain": [
       "<Figure size 432x288 with 1 Axes>"
      ]
     },
     "metadata": {
      "needs_background": "light"
     },
     "output_type": "display_data"
    }
   ],
   "source": [
    "ax = data_all.plot.scatter(x='sales', y='critic_score', marker='o')\n",
    "ax.set_xlabel(\"Продажи\")\n",
    "ax.set_ylabel(\"Оценка критиков\")\n",
    "ax.set_title('Оценка критиков относительно продаж')\n",
    "plt.show()"
   ]
  },
  {
   "cell_type": "code",
   "execution_count": 35,
   "metadata": {},
   "outputs": [
    {
     "data": {
      "text/plain": [
       "-0.14309047108111925"
      ]
     },
     "execution_count": 35,
     "metadata": {},
     "output_type": "execute_result"
    }
   ],
   "source": [
    "data['user_score'].corr(data['sales'])"
   ]
  },
  {
   "cell_type": "code",
   "execution_count": 36,
   "metadata": {},
   "outputs": [
    {
     "data": {
      "image/png": "[encoded data removed]",
      "text/plain": [
       "<Figure size 432x288 with 1 Axes>"
      ]
     },
     "metadata": {
      "needs_background": "light"
     },
     "output_type": "display_data"
    }
   ],
   "source": [
    "ax = data_all.plot.scatter(x='sales', y='user_score')\n",
    "ax.set_xlabel(\"Продажи\")\n",
    "ax.set_ylabel(\"Оценка пользователей\")\n",
    "ax.set_title('Оценка пользователей относительно продаж')\n",
    "plt.show()"
   ]
  },
  {
   "cell_type": "markdown",
   "metadata": {},
   "source": [
    "#### Вывод"
   ]
  },
  {
   "cell_type": "markdown",
   "metadata": {},
   "source": [
    "Из значения корреляции и графиков модем сделать вывод о том, что оценка пользователей и критиков не влияет на продажи.\n",
    "\n",
    "Но также видно, что не бывает такого, что оценка критиков маленькая, а продажи большие. "
   ]
  },
  {
   "cell_type": "markdown",
   "metadata": {},
   "source": [
    "## Портрет пользователя каждого региона"
   ]
  },
  {
   "cell_type": "markdown",
   "metadata": {},
   "source": [
    "### Самые популярные платформы"
   ]
  },
  {
   "cell_type": "code",
   "execution_count": 37,
   "metadata": {},
   "outputs": [],
   "source": [
    "data_grouped = data.groupby(['platform']).sum()"
   ]
  },
  {
   "cell_type": "code",
   "execution_count": 38,
   "metadata": {},
   "outputs": [
    {
     "data": {
      "image/png": "[encoded data removed]",
      "text/plain": [
       "<Figure size 432x288 with 1 Axes>"
      ]
     },
     "metadata": {},
     "output_type": "display_data"
    }
   ],
   "source": [
    "data_grouped = data_grouped.sort_values('na_sales', ignore_index=False)\n",
    "\n",
    "ax = data_grouped.tail().plot.pie(y='na_sales', x='platform', legend=False)\n",
    "ax.set_title('North America')\n",
    "plt.show()"
   ]
  },
  {
   "cell_type": "code",
   "execution_count": 39,
   "metadata": {},
   "outputs": [
    {
     "data": {
      "image/png": "[encoded data removed]",
      "text/plain": [
       "<Figure size 432x288 with 1 Axes>"
      ]
     },
     "metadata": {},
     "output_type": "display_data"
    }
   ],
   "source": [
    "data_grouped = data_grouped.sort_values('eu_sales', ignore_index=False)\n",
    "\n",
    "ax = data_grouped.tail().plot.pie(y='eu_sales', x='platform', legend=False)\n",
    "ax.set_title('Europe')\n",
    "plt.show()"
   ]
  },
  {
   "cell_type": "code",
   "execution_count": 40,
   "metadata": {},
   "outputs": [
    {
     "data": {
      "image/png": "[encoded data removed]",
      "text/plain": [
       "<Figure size 432x288 with 1 Axes>"
      ]
     },
     "metadata": {},
     "output_type": "display_data"
    }
   ],
   "source": [
    "data_grouped = data_grouped.sort_values('jp_sales', ignore_index=False)\n",
    "\n",
    "ax = data_grouped.tail().plot.pie(y='jp_sales', x='platform', legend=False)\n",
    "ax.set_title('Japan')\n",
    "plt.show()"
   ]
  },
  {
   "cell_type": "markdown",
   "metadata": {},
   "source": [
    "#### Вывод"
   ]
  },
  {
   "cell_type": "markdown",
   "metadata": {},
   "source": [
    "В Северной Америке самые популярные платформы: PS4, XOne, X360, PS4 и XOne составляют по одной трети от всех продаж популярных платформ.\n",
    "\n",
    "В Европе самые популярные платформы: PS4, XOne, PS3, PS4 составляет больше половины от всех продаж популярных платформ.\n",
    "\n",
    "В Японии самые популярные платформы: 3DS, PS4, PSv, 3DS составляет около половины от всех продаж популярных платформ."
   ]
  },
  {
   "cell_type": "markdown",
   "metadata": {},
   "source": [
    "### Самые популярные жанры"
   ]
  },
  {
   "cell_type": "code",
   "execution_count": 41,
   "metadata": {},
   "outputs": [],
   "source": [
    "data_grouped = data.groupby(['genre']).sum()"
   ]
  },
  {
   "cell_type": "code",
   "execution_count": 42,
   "metadata": {},
   "outputs": [
    {
     "data": {
      "image/png": "[encoded data removed]",
      "text/plain": [
       "<Figure size 432x288 with 1 Axes>"
      ]
     },
     "metadata": {},
     "output_type": "display_data"
    }
   ],
   "source": [
    "data_grouped = data_grouped.sort_values('na_sales', ignore_index=False)\n",
    "\n",
    "ax = data_grouped.tail().plot.pie(y='na_sales', x='genre', legend=False)\n",
    "ax.set_title('North America')\n",
    "plt.show()"
   ]
  },
  {
   "cell_type": "code",
   "execution_count": 43,
   "metadata": {},
   "outputs": [
    {
     "data": {
      "image/png": "[encoded data removed]",
      "text/plain": [
       "<Figure size 432x288 with 1 Axes>"
      ]
     },
     "metadata": {},
     "output_type": "display_data"
    }
   ],
   "source": [
    "data_grouped = data_grouped.sort_values('eu_sales', ignore_index=False)\n",
    "\n",
    "ax = data_grouped.tail().plot.pie(y='eu_sales', x='genre', legend=False)\n",
    "ax.set_title('Europe')\n",
    "plt.show()"
   ]
  },
  {
   "cell_type": "code",
   "execution_count": 44,
   "metadata": {},
   "outputs": [
    {
     "data": {
      "image/png": "[encoded data removed]",
      "text/plain": [
       "<Figure size 432x288 with 1 Axes>"
      ]
     },
     "metadata": {},
     "output_type": "display_data"
    }
   ],
   "source": [
    "data_grouped = data_grouped.sort_values('jp_sales', ignore_index=False)\n",
    "\n",
    "ax = data_grouped.tail().plot.pie(y='jp_sales', x='genre', legend=False)\n",
    "ax.set_title('Japan')\n",
    "plt.show()"
   ]
  },
  {
   "cell_type": "markdown",
   "metadata": {},
   "source": [
    "#### Вывод"
   ]
  },
  {
   "cell_type": "markdown",
   "metadata": {},
   "source": [
    "В Северной Америке лидируют: Shooter, Action, Sports\n",
    "\n",
    "В Европе также лидируют: Shooter, Action, Sports\n",
    "\n",
    "В Японии лидируют: Role-Playing, Action\n",
    "\n",
    "\n",
    "В Европе и Америке одинаковые лидирующие жанры и примерно одинаковое соотношение. В Японии немного другая ситуация, другой менталитет, иное государство, совсем не похожее на Северную Америку и Европу, поэтому и лидирующие жанры другие. Возмонжо, есть запрет на какие-либо жанры."
   ]
  },
  {
   "cell_type": "markdown",
   "metadata": {},
   "source": [
    "### Рейтинг ESRB"
   ]
  },
  {
   "cell_type": "code",
   "execution_count": 45,
   "metadata": {},
   "outputs": [],
   "source": [
    "#data_grouped = data[data['rating'] != 101]\n",
    "\n",
    "data_grouped = data.groupby(['rating']).sum()"
   ]
  },
  {
   "cell_type": "code",
   "execution_count": 46,
   "metadata": {},
   "outputs": [
    {
     "data": {
      "image/png": "[encoded data removed]",
      "text/plain": [
       "<Figure size 432x288 with 1 Axes>"
      ]
     },
     "metadata": {},
     "output_type": "display_data"
    }
   ],
   "source": [
    "data_grouped = data_grouped.sort_values('na_sales', ignore_index=False)\n",
    "\n",
    "ax = data_grouped.tail().plot.pie(y='na_sales', x='genre', legend=False)\n",
    "ax.set_title('North America')\n",
    "plt.show()"
   ]
  },
  {
   "cell_type": "code",
   "execution_count": 47,
   "metadata": {},
   "outputs": [
    {
     "data": {
      "image/png": "[encoded data removed]",
      "text/plain": [
       "<Figure size 432x288 with 1 Axes>"
      ]
     },
     "metadata": {},
     "output_type": "display_data"
    }
   ],
   "source": [
    "data_grouped = data_grouped.sort_values('eu_sales', ignore_index=False)\n",
    "\n",
    "ax = data_grouped.tail().plot.pie(y='eu_sales', x='genre', legend=False)\n",
    "ax.set_title('Europe')\n",
    "plt.show()"
   ]
  },
  {
   "cell_type": "code",
   "execution_count": 48,
   "metadata": {},
   "outputs": [
    {
     "data": {
      "image/png": "[encoded data removed]",
      "text/plain": [
       "<Figure size 432x288 with 1 Axes>"
      ]
     },
     "metadata": {},
     "output_type": "display_data"
    }
   ],
   "source": [
    "data_grouped = data_grouped.sort_values('jp_sales', ignore_index=False)\n",
    "\n",
    "ax = data_grouped.tail().plot.pie(y='jp_sales', x='genre', legend=False)\n",
    "ax.set_title('Japan')\n",
    "plt.show()"
   ]
  },
  {
   "cell_type": "markdown",
   "metadata": {},
   "source": [
    "#### Вывод"
   ]
  },
  {
   "cell_type": "markdown",
   "metadata": {},
   "source": [
    "В Северной Америки преобладают игры с рейтингом: M, E\n",
    "\n",
    "В Европе преобладают игры с рейтингом: M, E\n",
    "\n",
    "В Японии возможно преобладают игры с рейтингом: T, E\n",
    "\n",
    "В наших данных было достаточно много пропусков в столбце rating. Они составляют не больше четверти данных относительно Северной Америки, Европы, но пропусков в данном столбце относительно Японии больше половины, поэтому мы не можем делать какие-либо выводы по данному региону."
   ]
  },
  {
   "cell_type": "markdown",
   "metadata": {},
   "source": [
    "## Проверка гипотез"
   ]
  },
  {
   "cell_type": "markdown",
   "metadata": {},
   "source": [
    "### Гипотеза первая"
   ]
  },
  {
   "cell_type": "markdown",
   "metadata": {},
   "source": [
    "Проверим, правда ли, что средние пользовательские рейтинги платформ Xbox One и PC одинаковые.\n",
    "\n",
    "Нулевая гипотеза: средние пользовательские рейтинги платформ Xbox One и PC одинаковые.\n",
    "\n",
    "Альтернативная гипотеза: средние пользовательские рейтинги платформ Xbox One и PC различные.\n",
    "\n",
    "Так как сравниваем две независимые генеральные совокупности, будем использовать критерий st_ttest_ind"
   ]
  },
  {
   "cell_type": "code",
   "execution_count": 49,
   "metadata": {},
   "outputs": [],
   "source": [
    "data_pt = data[data['user_score'] != 101]\n",
    "\n",
    "data_XOne = data_pt[data_pt['platform'] == 'XOne']\n",
    "data_PC = data_pt[data_pt['platform'] == 'PC']"
   ]
  },
  {
   "cell_type": "code",
   "execution_count": 50,
   "metadata": {
    "scrolled": true
   },
   "outputs": [
    {
     "name": "stdout",
     "output_type": "stream",
     "text": [
      "0.11601398086668827\n",
      "Не получилось отвергнуть нулевую гипотезу\n"
     ]
    }
   ],
   "source": [
    "results = st.ttest_ind(\n",
    "    data_XOne['user_score'],\n",
    "    data_PC['user_score'],\n",
    "    equal_var = False\n",
    ") \n",
    "\n",
    "alpha = 0.05\n",
    "print(results.pvalue)\n",
    "\n",
    "if  results.pvalue < alpha:\n",
    "    print(\"Отвергаем нулевую гипотезу\")\n",
    "else:\n",
    "    print(\"Не получилось отвергнуть нулевую гипотезу\")"
   ]
  },
  {
   "cell_type": "markdown",
   "metadata": {},
   "source": [
    "#### Вывод"
   ]
  },
  {
   "cell_type": "markdown",
   "metadata": {},
   "source": [
    "На имеющихся данных, на уровне значимости 5% (уровне доверия 95%) нет оснований отвергнуть нулевую гипотезу в пользу альтернативы."
   ]
  },
  {
   "cell_type": "markdown",
   "metadata": {},
   "source": [
    "### Гипотеза вторая"
   ]
  },
  {
   "cell_type": "markdown",
   "metadata": {},
   "source": [
    "Проверим правда ли, что cредние пользовательские рейтинги жанров Action и Sports разные.\n",
    "\n",
    "Нулевая гипотеза: cредние пользовательские рейтинги жанров Action и Sports одинаковые.\n",
    "\n",
    "Альтернативная гипотеза: cредние пользовательские рейтинги жанров Action и Sports различные.\n",
    "\n",
    "Так как сравниваем две независимые генеральные совокупности, будем использовать критерий st_ttest_ind"
   ]
  },
  {
   "cell_type": "code",
   "execution_count": 51,
   "metadata": {},
   "outputs": [],
   "source": [
    "data_action = data_pt[data_pt['genre'] == 'Action']\n",
    "data_sports = data_pt[data_pt['genre'] == 'Sports']"
   ]
  },
  {
   "cell_type": "code",
   "execution_count": 52,
   "metadata": {},
   "outputs": [
    {
     "name": "stdout",
     "output_type": "stream",
     "text": [
      "1.1825550382644557e-14\n",
      "Отвергаем нулевую гипотезу\n"
     ]
    }
   ],
   "source": [
    "results = st.ttest_ind(\n",
    "    data_action['user_score'],\n",
    "    data_sports['user_score'],\n",
    "    equal_var = False\n",
    ") \n",
    "\n",
    "alpha = 0.05\n",
    "print(results.pvalue)\n",
    "\n",
    "if  results.pvalue < alpha:\n",
    "    print(\"Отвергаем нулевую гипотезу\")\n",
    "else:\n",
    "    print(\"Не получилось отвергнуть нулевую гипотезу\")"
   ]
  },
  {
   "cell_type": "markdown",
   "metadata": {},
   "source": [
    "#### Вывод"
   ]
  },
  {
   "cell_type": "markdown",
   "metadata": {},
   "source": [
    "На имеющихся данных, на уровне значимости 5% (уровне доверия 95%) есть основания отвергнуть нулевую гипотезу в пользу альтернативы.\n",
    "\n",
    "То есть cредние пользовательские рейтинги жанров Action и Sports различные."
   ]
  },
  {
   "cell_type": "markdown",
   "metadata": {},
   "source": [
    "## Общий вывод"
   ]
  },
  {
   "cell_type": "markdown",
   "metadata": {},
   "source": [
    "Выпуск компьютерных игр постпенно взрастал до 2008-2009 годов, затем начал снижаться.\n",
    "\n",
    "За все время существования наиболее популярные платформы к 2016 году по продажам: PS3 X360 PS2.\n",
    "\n",
    "Необходимо было составить прогноз на 2017 год, поэтому был взят актуальный период в три последних года с 2014 по 2016."
   ]
  },
  {
   "cell_type": "markdown",
   "metadata": {},
   "source": [
    "**Были проанализированы самые прибыльные жанры** - это Shooter, Sports и Platform. Причем, жанр Shooter прибыльней остальных в 2 и болле раз."
   ]
  },
  {
   "cell_type": "markdown",
   "metadata": {},
   "source": [
    "**Далее был проведен анализ влияния оценки кртиков и пользователей на продажи:** \n",
    "\n",
    "Оценка пользователей и критиков не влияет на продажи.\n",
    "Но большая оценка критиков может говорить о больших продажах, маленькая - не может."
   ]
  },
  {
   "cell_type": "markdown",
   "metadata": {},
   "source": [
    "**Были проанализированы самые популярные платформы по регионам:**\n",
    "\n",
    "В Северной Америке самые популярные платформы: PS4, XOne, X360, PS4 и XOne составляют по одной трети от всех продаж популярных платформ.\n",
    "\n",
    "В Европе самые популярные платформы: PS4, XOne, PS3, PS4 составляет больше половины от всех продаж популярных платформ.\n",
    "\n",
    "В Японии самые популярные платформы: 3DS, PS4, PSv, 3DS составляет около половины от всех продаж популярных платформ."
   ]
  },
  {
   "cell_type": "markdown",
   "metadata": {},
   "source": [
    "**Также проанализированы самые популярные жанры по регионам:**\n",
    "\n",
    "В Северной Америке лидируют: Shooter, Action, Sports\n",
    "\n",
    "В Европе также лидируют: Shooter, Action, Sports\n",
    "\n",
    "В Японии лидируют: Role-Playing, Action"
   ]
  },
  {
   "cell_type": "markdown",
   "metadata": {},
   "source": [
    "**Далее проанализировали рейтинг игр в каждом регионе:**\n",
    "\n",
    "В Северной Америки преобладают игры с рейтингом: M, E\n",
    "\n",
    "В Европе преобладают игры с рейтингом: M, E\n",
    "\n",
    "В Японии возможно преобладают игры с рейтингом: T, E\n"
   ]
  },
  {
   "cell_type": "markdown",
   "metadata": {},
   "source": [
    "**Проверили две гипотезы, в выводе получив, что:**\n",
    "1) Средние пользовательские рейтинги платформ Xbox One и PC могут быть как одинаковыми и различными.<br>\n",
    "2) Средние пользовательские рейтинги жанров Action и Sports различные."
   ]
  },
  {
   "cell_type": "markdown",
   "metadata": {},
   "source": [
    "### Совет заказчику"
   ]
  },
  {
   "cell_type": "markdown",
   "metadata": {},
   "source": [
    "Можно выделить три жанра игр, к которым интернет-магазину стоит присмотреться - это Shooter, Sports и Platform. Это самые прибыльные жанры.<br>\n",
    "При этом ставить в приоритет те игры, которые критики оценили более, чем в 60 баллов.\n",
    "\n",
    "При планировании рекламных компаний следует учесть, что предпочтения пользователей в разных регионах различны, например:<br>\n",
    "\n",
    "В Северной Америке более популярны такие платформы, как PS4 и XOne<br>\n",
    "В Европе более популярна PS4<br>\n",
    "И этих регионах популярные жанры: Shooter, Action, Sports.<br>\n",
    "\n",
    "А в Японии популярная плафторма - это 3DS<br>\n",
    "И поплурные жанры: Role-Playing и Action<br>"
   ]
  }
 ],
 "metadata": {
  "ExecuteTimeLog": [
   {
    "duration": 525,
    "start_time": "2022-04-03T05:29:48.542Z"
   },
   {
    "duration": 40,
    "start_time": "2022-04-03T05:30:04.407Z"
   },
   {
    "duration": 18,
    "start_time": "2022-04-03T05:30:05.685Z"
   },
   {
    "duration": 12,
    "start_time": "2022-04-03T05:31:41.578Z"
   },
   {
    "duration": 16,
    "start_time": "2022-04-03T05:34:44.621Z"
   },
   {
    "duration": 12,
    "start_time": "2022-04-03T05:35:02.762Z"
   },
   {
    "duration": 7,
    "start_time": "2022-04-03T05:35:48.929Z"
   },
   {
    "duration": 13,
    "start_time": "2022-04-03T05:35:55.886Z"
   },
   {
    "duration": 386,
    "start_time": "2022-04-03T05:45:37.998Z"
   },
   {
    "duration": 20,
    "start_time": "2022-04-03T05:45:38.386Z"
   },
   {
    "duration": 33,
    "start_time": "2022-04-03T05:45:38.407Z"
   },
   {
    "duration": 62,
    "start_time": "2022-04-03T05:50:29.628Z"
   },
   {
    "duration": 3,
    "start_time": "2022-04-03T05:51:08.818Z"
   },
   {
    "duration": 14,
    "start_time": "2022-04-03T05:51:26.664Z"
   },
   {
    "duration": 1640,
    "start_time": "2022-04-03T05:52:27.622Z"
   },
   {
    "duration": 3,
    "start_time": "2022-04-03T05:52:42.098Z"
   },
   {
    "duration": 7,
    "start_time": "2022-04-03T05:54:34.312Z"
   },
   {
    "duration": 14,
    "start_time": "2022-04-03T05:54:37.626Z"
   },
   {
    "duration": 6,
    "start_time": "2022-04-03T05:54:52.350Z"
   },
   {
    "duration": 14,
    "start_time": "2022-04-03T05:54:58.241Z"
   },
   {
    "duration": 4,
    "start_time": "2022-04-03T05:55:22.735Z"
   },
   {
    "duration": 15,
    "start_time": "2022-04-03T05:55:25.203Z"
   },
   {
    "duration": 7,
    "start_time": "2022-04-03T05:55:41.477Z"
   },
   {
    "duration": 4,
    "start_time": "2022-04-03T05:55:53.368Z"
   },
   {
    "duration": 5,
    "start_time": "2022-04-03T05:58:09.913Z"
   },
   {
    "duration": 3,
    "start_time": "2022-04-03T05:58:10.876Z"
   },
   {
    "duration": 13,
    "start_time": "2022-04-03T05:58:11.736Z"
   },
   {
    "duration": 8,
    "start_time": "2022-04-03T05:58:38.245Z"
   },
   {
    "duration": 7,
    "start_time": "2022-04-03T05:58:42.764Z"
   },
   {
    "duration": 7,
    "start_time": "2022-04-03T06:00:52.513Z"
   },
   {
    "duration": 4,
    "start_time": "2022-04-03T06:01:52.048Z"
   },
   {
    "duration": 3,
    "start_time": "2022-04-03T06:01:53.438Z"
   },
   {
    "duration": 13,
    "start_time": "2022-04-03T06:01:53.770Z"
   },
   {
    "duration": 386,
    "start_time": "2022-04-03T06:05:46.017Z"
   },
   {
    "duration": 19,
    "start_time": "2022-04-03T06:05:46.404Z"
   },
   {
    "duration": 13,
    "start_time": "2022-04-03T06:05:46.424Z"
   },
   {
    "duration": 4,
    "start_time": "2022-04-03T06:05:46.438Z"
   },
   {
    "duration": 27,
    "start_time": "2022-04-03T06:05:46.443Z"
   },
   {
    "duration": 9,
    "start_time": "2022-04-03T06:05:46.471Z"
   },
   {
    "duration": 2,
    "start_time": "2022-04-03T06:05:46.482Z"
   },
   {
    "duration": 15,
    "start_time": "2022-04-03T06:05:46.485Z"
   },
   {
    "duration": 66,
    "start_time": "2022-04-03T06:07:26.044Z"
   },
   {
    "duration": 10,
    "start_time": "2022-04-03T06:08:13.098Z"
   },
   {
    "duration": 5,
    "start_time": "2022-04-03T06:08:14.718Z"
   },
   {
    "duration": 13,
    "start_time": "2022-04-03T06:08:15.946Z"
   },
   {
    "duration": 13,
    "start_time": "2022-04-03T06:08:36.356Z"
   },
   {
    "duration": 5,
    "start_time": "2022-04-03T06:08:37.280Z"
   },
   {
    "duration": 13,
    "start_time": "2022-04-03T06:08:37.630Z"
   },
   {
    "duration": 13,
    "start_time": "2022-04-03T06:08:55.678Z"
   },
   {
    "duration": 15,
    "start_time": "2022-04-03T06:10:56.439Z"
   },
   {
    "duration": 19,
    "start_time": "2022-04-03T06:11:15.514Z"
   },
   {
    "duration": 18,
    "start_time": "2022-04-03T06:11:28.898Z"
   },
   {
    "duration": 5,
    "start_time": "2022-04-03T06:12:04.655Z"
   },
   {
    "duration": 12,
    "start_time": "2022-04-03T06:13:14.871Z"
   },
   {
    "duration": 1746,
    "start_time": "2022-04-03T06:17:12.508Z"
   },
   {
    "duration": 5,
    "start_time": "2022-04-03T06:17:19.843Z"
   },
   {
    "duration": 12,
    "start_time": "2022-04-03T06:17:29.533Z"
   },
   {
    "duration": 423,
    "start_time": "2022-04-03T06:17:43.474Z"
   },
   {
    "duration": 21,
    "start_time": "2022-04-03T06:17:43.899Z"
   },
   {
    "duration": 13,
    "start_time": "2022-04-03T06:17:43.921Z"
   },
   {
    "duration": 4,
    "start_time": "2022-04-03T06:17:43.935Z"
   },
   {
    "duration": 29,
    "start_time": "2022-04-03T06:17:43.942Z"
   },
   {
    "duration": 5,
    "start_time": "2022-04-03T06:17:43.973Z"
   },
   {
    "duration": 16,
    "start_time": "2022-04-03T06:17:43.980Z"
   },
   {
    "duration": 14,
    "start_time": "2022-04-03T06:34:24.800Z"
   },
   {
    "duration": 28,
    "start_time": "2022-04-03T06:37:04.750Z"
   },
   {
    "duration": 10,
    "start_time": "2022-04-03T06:37:12.574Z"
   },
   {
    "duration": 9,
    "start_time": "2022-04-03T06:37:20.870Z"
   },
   {
    "duration": 8,
    "start_time": "2022-04-03T06:37:22.794Z"
   },
   {
    "duration": 7,
    "start_time": "2022-04-03T06:38:55.975Z"
   },
   {
    "duration": 7,
    "start_time": "2022-04-03T06:39:02.708Z"
   },
   {
    "duration": 7,
    "start_time": "2022-04-03T06:39:44.738Z"
   },
   {
    "duration": 536,
    "start_time": "2022-04-03T06:40:41.898Z"
   },
   {
    "duration": 147,
    "start_time": "2022-04-03T06:41:40.030Z"
   },
   {
    "duration": 68,
    "start_time": "2022-04-03T06:42:53.885Z"
   },
   {
    "duration": 7,
    "start_time": "2022-04-03T06:43:07.110Z"
   },
   {
    "duration": 385,
    "start_time": "2022-04-03T06:43:13.015Z"
   },
   {
    "duration": 19,
    "start_time": "2022-04-03T06:43:13.402Z"
   },
   {
    "duration": 13,
    "start_time": "2022-04-03T06:43:13.422Z"
   },
   {
    "duration": 4,
    "start_time": "2022-04-03T06:43:13.436Z"
   },
   {
    "duration": 31,
    "start_time": "2022-04-03T06:43:13.442Z"
   },
   {
    "duration": 5,
    "start_time": "2022-04-03T06:43:13.475Z"
   },
   {
    "duration": 14,
    "start_time": "2022-04-03T06:43:13.481Z"
   },
   {
    "duration": 67,
    "start_time": "2022-04-03T06:43:13.496Z"
   },
   {
    "duration": 0,
    "start_time": "2022-04-03T06:43:13.565Z"
   },
   {
    "duration": 11,
    "start_time": "2022-04-03T06:43:19.528Z"
   },
   {
    "duration": 13,
    "start_time": "2022-04-03T06:43:37.978Z"
   },
   {
    "duration": 398,
    "start_time": "2022-04-03T06:43:46.930Z"
   },
   {
    "duration": 22,
    "start_time": "2022-04-03T06:44:53.403Z"
   },
   {
    "duration": 11,
    "start_time": "2022-04-03T06:44:55.947Z"
   },
   {
    "duration": 6,
    "start_time": "2022-04-03T06:45:15.864Z"
   },
   {
    "duration": 12,
    "start_time": "2022-04-03T06:46:15.573Z"
   },
   {
    "duration": 11,
    "start_time": "2022-04-03T06:46:18.778Z"
   },
   {
    "duration": 11,
    "start_time": "2022-04-03T06:46:32.422Z"
   },
   {
    "duration": 12,
    "start_time": "2022-04-03T06:46:45.287Z"
   },
   {
    "duration": 399,
    "start_time": "2022-04-03T06:47:53.795Z"
   },
   {
    "duration": 19,
    "start_time": "2022-04-03T06:47:54.196Z"
   },
   {
    "duration": 13,
    "start_time": "2022-04-03T06:47:54.216Z"
   },
   {
    "duration": 3,
    "start_time": "2022-04-03T06:47:54.231Z"
   },
   {
    "duration": 29,
    "start_time": "2022-04-03T06:47:54.236Z"
   },
   {
    "duration": 5,
    "start_time": "2022-04-03T06:47:54.267Z"
   },
   {
    "duration": 14,
    "start_time": "2022-04-03T06:47:54.273Z"
   },
   {
    "duration": 11,
    "start_time": "2022-04-03T06:47:54.289Z"
   },
   {
    "duration": 6,
    "start_time": "2022-04-03T06:47:54.301Z"
   },
   {
    "duration": 12,
    "start_time": "2022-04-03T06:47:54.309Z"
   },
   {
    "duration": 425,
    "start_time": "2022-04-03T06:48:27.933Z"
   },
   {
    "duration": 1727,
    "start_time": "2022-04-03T06:49:53.817Z"
   },
   {
    "duration": 390,
    "start_time": "2022-04-03T06:50:05.805Z"
   },
   {
    "duration": 19,
    "start_time": "2022-04-03T06:50:06.196Z"
   },
   {
    "duration": 14,
    "start_time": "2022-04-03T06:50:06.216Z"
   },
   {
    "duration": 3,
    "start_time": "2022-04-03T06:50:06.232Z"
   },
   {
    "duration": 28,
    "start_time": "2022-04-03T06:50:06.237Z"
   },
   {
    "duration": 5,
    "start_time": "2022-04-03T06:50:06.267Z"
   },
   {
    "duration": 16,
    "start_time": "2022-04-03T06:50:06.273Z"
   },
   {
    "duration": 15,
    "start_time": "2022-04-03T06:50:06.290Z"
   },
   {
    "duration": 1886,
    "start_time": "2022-04-03T06:50:06.306Z"
   },
   {
    "duration": 0,
    "start_time": "2022-04-03T06:50:08.195Z"
   },
   {
    "duration": 0,
    "start_time": "2022-04-03T06:50:08.196Z"
   },
   {
    "duration": 5,
    "start_time": "2022-04-03T06:50:11.896Z"
   },
   {
    "duration": 417,
    "start_time": "2022-04-03T06:50:28.120Z"
   },
   {
    "duration": 19,
    "start_time": "2022-04-03T06:50:28.539Z"
   },
   {
    "duration": 12,
    "start_time": "2022-04-03T06:50:28.559Z"
   },
   {
    "duration": 3,
    "start_time": "2022-04-03T06:50:28.573Z"
   },
   {
    "duration": 15,
    "start_time": "2022-04-03T06:50:28.578Z"
   },
   {
    "duration": 4,
    "start_time": "2022-04-03T06:50:28.595Z"
   },
   {
    "duration": 14,
    "start_time": "2022-04-03T06:50:28.600Z"
   },
   {
    "duration": 12,
    "start_time": "2022-04-03T06:50:28.615Z"
   },
   {
    "duration": 2025,
    "start_time": "2022-04-03T06:50:28.628Z"
   },
   {
    "duration": 0,
    "start_time": "2022-04-03T06:50:30.655Z"
   },
   {
    "duration": 0,
    "start_time": "2022-04-03T06:50:30.656Z"
   },
   {
    "duration": 4,
    "start_time": "2022-04-03T06:50:32.590Z"
   },
   {
    "duration": 12,
    "start_time": "2022-04-03T06:50:47.801Z"
   },
   {
    "duration": 1754,
    "start_time": "2022-04-03T06:50:49.425Z"
   },
   {
    "duration": 5,
    "start_time": "2022-04-03T06:50:54.694Z"
   },
   {
    "duration": 277,
    "start_time": "2022-04-03T06:51:12.687Z"
   },
   {
    "duration": 11,
    "start_time": "2022-04-03T06:52:36.924Z"
   },
   {
    "duration": 8,
    "start_time": "2022-04-03T06:52:45.266Z"
   },
   {
    "duration": 4,
    "start_time": "2022-04-03T06:53:31.913Z"
   },
   {
    "duration": 4,
    "start_time": "2022-04-03T06:53:38.067Z"
   },
   {
    "duration": 6,
    "start_time": "2022-04-03T06:54:57.825Z"
   },
   {
    "duration": 11,
    "start_time": "2022-04-03T06:55:03.444Z"
   },
   {
    "duration": 14,
    "start_time": "2022-04-03T06:55:40.061Z"
   },
   {
    "duration": 13,
    "start_time": "2022-04-03T06:55:57.274Z"
   },
   {
    "duration": 12,
    "start_time": "2022-04-03T06:56:57.378Z"
   },
   {
    "duration": 463,
    "start_time": "2022-04-03T06:57:22.746Z"
   },
   {
    "duration": 20,
    "start_time": "2022-04-03T06:57:23.211Z"
   },
   {
    "duration": 14,
    "start_time": "2022-04-03T06:57:23.232Z"
   },
   {
    "duration": 3,
    "start_time": "2022-04-03T06:57:23.249Z"
   },
   {
    "duration": 14,
    "start_time": "2022-04-03T06:57:23.263Z"
   },
   {
    "duration": 4,
    "start_time": "2022-04-03T06:57:23.279Z"
   },
   {
    "duration": 16,
    "start_time": "2022-04-03T06:57:23.285Z"
   },
   {
    "duration": 12,
    "start_time": "2022-04-03T06:57:23.303Z"
   },
   {
    "duration": 6,
    "start_time": "2022-04-03T06:57:23.317Z"
   },
   {
    "duration": 371,
    "start_time": "2022-04-03T06:57:34.661Z"
   },
   {
    "duration": 438,
    "start_time": "2022-04-03T06:58:12.621Z"
   },
   {
    "duration": 20,
    "start_time": "2022-04-03T06:58:13.061Z"
   },
   {
    "duration": 14,
    "start_time": "2022-04-03T06:58:13.083Z"
   },
   {
    "duration": 4,
    "start_time": "2022-04-03T06:58:13.099Z"
   },
   {
    "duration": 25,
    "start_time": "2022-04-03T06:58:13.104Z"
   },
   {
    "duration": 5,
    "start_time": "2022-04-03T06:58:13.130Z"
   },
   {
    "duration": 35,
    "start_time": "2022-04-03T06:58:13.136Z"
   },
   {
    "duration": 12,
    "start_time": "2022-04-03T06:58:13.173Z"
   },
   {
    "duration": 6,
    "start_time": "2022-04-03T06:58:13.187Z"
   },
   {
    "duration": 456,
    "start_time": "2022-04-03T06:58:13.196Z"
   },
   {
    "duration": 69,
    "start_time": "2022-04-03T07:00:14.917Z"
   },
   {
    "duration": 3,
    "start_time": "2022-04-03T07:00:26.395Z"
   },
   {
    "duration": 5,
    "start_time": "2022-04-03T07:02:05.803Z"
   },
   {
    "duration": 4,
    "start_time": "2022-04-03T07:02:13.459Z"
   },
   {
    "duration": 8,
    "start_time": "2022-04-03T07:02:56.604Z"
   },
   {
    "duration": 392,
    "start_time": "2022-04-03T07:03:15.113Z"
   },
   {
    "duration": 18,
    "start_time": "2022-04-03T07:03:15.508Z"
   },
   {
    "duration": 14,
    "start_time": "2022-04-03T07:03:15.527Z"
   },
   {
    "duration": 6,
    "start_time": "2022-04-03T07:03:15.543Z"
   },
   {
    "duration": 22,
    "start_time": "2022-04-03T07:03:15.551Z"
   },
   {
    "duration": 5,
    "start_time": "2022-04-03T07:03:15.575Z"
   },
   {
    "duration": 15,
    "start_time": "2022-04-03T07:03:15.581Z"
   },
   {
    "duration": 12,
    "start_time": "2022-04-03T07:03:15.597Z"
   },
   {
    "duration": 7,
    "start_time": "2022-04-03T07:03:15.611Z"
   },
   {
    "duration": 66,
    "start_time": "2022-04-03T07:08:29.032Z"
   },
   {
    "duration": 13,
    "start_time": "2022-04-03T07:08:44.626Z"
   },
   {
    "duration": 8,
    "start_time": "2022-04-03T07:08:55.843Z"
   },
   {
    "duration": 111,
    "start_time": "2022-04-03T07:09:04.109Z"
   },
   {
    "duration": 12,
    "start_time": "2022-04-03T07:09:06.359Z"
   },
   {
    "duration": 8,
    "start_time": "2022-04-03T07:09:40.392Z"
   },
   {
    "duration": 15,
    "start_time": "2022-04-03T07:10:13.778Z"
   },
   {
    "duration": 9,
    "start_time": "2022-04-03T07:10:14.591Z"
   },
   {
    "duration": 9,
    "start_time": "2022-04-03T07:10:37.216Z"
   },
   {
    "duration": 14,
    "start_time": "2022-04-03T07:10:55.580Z"
   },
   {
    "duration": 9,
    "start_time": "2022-04-03T07:10:58.147Z"
   },
   {
    "duration": 12,
    "start_time": "2022-04-03T07:12:00.673Z"
   },
   {
    "duration": 11,
    "start_time": "2022-04-03T07:12:01.396Z"
   },
   {
    "duration": 10,
    "start_time": "2022-04-03T07:12:38.113Z"
   },
   {
    "duration": 396,
    "start_time": "2022-04-03T09:15:57.317Z"
   },
   {
    "duration": 20,
    "start_time": "2022-04-03T09:15:57.715Z"
   },
   {
    "duration": 16,
    "start_time": "2022-04-03T09:15:57.736Z"
   },
   {
    "duration": 11,
    "start_time": "2022-04-03T09:15:57.754Z"
   },
   {
    "duration": 20,
    "start_time": "2022-04-03T09:15:57.767Z"
   },
   {
    "duration": 5,
    "start_time": "2022-04-03T09:15:57.788Z"
   },
   {
    "duration": 19,
    "start_time": "2022-04-03T09:15:57.795Z"
   },
   {
    "duration": 14,
    "start_time": "2022-04-03T09:15:57.815Z"
   },
   {
    "duration": 7,
    "start_time": "2022-04-03T09:15:57.830Z"
   },
   {
    "duration": 27,
    "start_time": "2022-04-03T09:15:57.838Z"
   },
   {
    "duration": 9,
    "start_time": "2022-04-03T09:15:57.867Z"
   },
   {
    "duration": 5,
    "start_time": "2022-04-03T09:16:48.940Z"
   },
   {
    "duration": 8,
    "start_time": "2022-04-03T09:17:02.352Z"
   },
   {
    "duration": 95,
    "start_time": "2022-04-03T09:18:08.333Z"
   },
   {
    "duration": 23,
    "start_time": "2022-04-03T09:18:13.955Z"
   },
   {
    "duration": 16,
    "start_time": "2022-04-03T09:18:24.469Z"
   },
   {
    "duration": 5,
    "start_time": "2022-04-03T09:18:59.105Z"
   },
   {
    "duration": 9,
    "start_time": "2022-04-03T09:19:25.099Z"
   },
   {
    "duration": 7,
    "start_time": "2022-04-03T09:19:58.050Z"
   },
   {
    "duration": 10,
    "start_time": "2022-04-03T09:19:58.960Z"
   },
   {
    "duration": 60,
    "start_time": "2022-04-03T09:19:59.937Z"
   },
   {
    "duration": 8,
    "start_time": "2022-04-03T09:20:00.210Z"
   },
   {
    "duration": 4,
    "start_time": "2022-04-03T09:20:35.588Z"
   },
   {
    "duration": 8,
    "start_time": "2022-04-03T09:20:37.214Z"
   },
   {
    "duration": 13,
    "start_time": "2022-04-03T09:21:01.918Z"
   },
   {
    "duration": 6,
    "start_time": "2022-04-03T09:21:16.842Z"
   },
   {
    "duration": 7,
    "start_time": "2022-04-03T09:21:18.334Z"
   },
   {
    "duration": 4,
    "start_time": "2022-04-03T09:21:37.812Z"
   },
   {
    "duration": 5,
    "start_time": "2022-04-03T09:22:11.300Z"
   },
   {
    "duration": 7,
    "start_time": "2022-04-03T09:22:15.212Z"
   },
   {
    "duration": 4,
    "start_time": "2022-04-03T09:22:21.406Z"
   },
   {
    "duration": 5,
    "start_time": "2022-04-03T09:22:25.593Z"
   },
   {
    "duration": 4,
    "start_time": "2022-04-03T09:22:28.080Z"
   },
   {
    "duration": 4,
    "start_time": "2022-04-03T09:22:38.098Z"
   },
   {
    "duration": 8,
    "start_time": "2022-04-03T09:22:39.228Z"
   },
   {
    "duration": 4,
    "start_time": "2022-04-03T09:22:57.509Z"
   },
   {
    "duration": 4,
    "start_time": "2022-04-03T09:23:00.240Z"
   },
   {
    "duration": 4,
    "start_time": "2022-04-03T09:23:01.084Z"
   },
   {
    "duration": 4,
    "start_time": "2022-04-03T09:23:02.766Z"
   },
   {
    "duration": 5,
    "start_time": "2022-04-03T09:23:08.223Z"
   },
   {
    "duration": 5,
    "start_time": "2022-04-03T09:23:19.044Z"
   },
   {
    "duration": 7,
    "start_time": "2022-04-03T09:23:19.971Z"
   },
   {
    "duration": 5,
    "start_time": "2022-04-03T09:23:32.975Z"
   },
   {
    "duration": 7,
    "start_time": "2022-04-03T09:23:34.979Z"
   },
   {
    "duration": 9,
    "start_time": "2022-04-03T09:23:48.450Z"
   },
   {
    "duration": 6,
    "start_time": "2022-04-03T09:23:57.335Z"
   },
   {
    "duration": 8,
    "start_time": "2022-04-03T09:23:57.943Z"
   },
   {
    "duration": 6,
    "start_time": "2022-04-03T09:24:16.284Z"
   },
   {
    "duration": 6,
    "start_time": "2022-04-03T09:24:16.865Z"
   },
   {
    "duration": 402,
    "start_time": "2022-04-03T09:24:28.616Z"
   },
   {
    "duration": 19,
    "start_time": "2022-04-03T09:24:29.020Z"
   },
   {
    "duration": 14,
    "start_time": "2022-04-03T09:24:29.040Z"
   },
   {
    "duration": 8,
    "start_time": "2022-04-03T09:24:29.056Z"
   },
   {
    "duration": 22,
    "start_time": "2022-04-03T09:24:29.066Z"
   },
   {
    "duration": 4,
    "start_time": "2022-04-03T09:24:29.090Z"
   },
   {
    "duration": 16,
    "start_time": "2022-04-03T09:24:29.096Z"
   },
   {
    "duration": 12,
    "start_time": "2022-04-03T09:24:29.114Z"
   },
   {
    "duration": 6,
    "start_time": "2022-04-03T09:24:29.128Z"
   },
   {
    "duration": 28,
    "start_time": "2022-04-03T09:24:29.136Z"
   },
   {
    "duration": 7,
    "start_time": "2022-04-03T09:24:29.166Z"
   },
   {
    "duration": 12,
    "start_time": "2022-04-03T09:24:29.174Z"
   },
   {
    "duration": 13,
    "start_time": "2022-04-03T09:24:29.188Z"
   },
   {
    "duration": 73,
    "start_time": "2022-04-03T09:24:29.204Z"
   },
   {
    "duration": 1,
    "start_time": "2022-04-03T09:24:29.278Z"
   },
   {
    "duration": 0,
    "start_time": "2022-04-03T09:24:29.280Z"
   },
   {
    "duration": 7,
    "start_time": "2022-04-03T09:24:36.086Z"
   },
   {
    "duration": 402,
    "start_time": "2022-04-03T09:24:45.000Z"
   },
   {
    "duration": 21,
    "start_time": "2022-04-03T09:24:45.406Z"
   },
   {
    "duration": 16,
    "start_time": "2022-04-03T09:24:45.428Z"
   },
   {
    "duration": 3,
    "start_time": "2022-04-03T09:24:45.447Z"
   },
   {
    "duration": 16,
    "start_time": "2022-04-03T09:24:45.463Z"
   },
   {
    "duration": 5,
    "start_time": "2022-04-03T09:24:45.480Z"
   },
   {
    "duration": 14,
    "start_time": "2022-04-03T09:24:45.487Z"
   },
   {
    "duration": 14,
    "start_time": "2022-04-03T09:24:45.503Z"
   },
   {
    "duration": 7,
    "start_time": "2022-04-03T09:24:45.519Z"
   },
   {
    "duration": 5,
    "start_time": "2022-04-03T09:24:45.528Z"
   },
   {
    "duration": 7,
    "start_time": "2022-04-03T09:24:45.562Z"
   },
   {
    "duration": 11,
    "start_time": "2022-04-03T09:24:45.571Z"
   },
   {
    "duration": 7,
    "start_time": "2022-04-03T09:24:45.583Z"
   },
   {
    "duration": 11,
    "start_time": "2022-04-03T09:24:45.592Z"
   },
   {
    "duration": 12,
    "start_time": "2022-04-03T09:24:45.604Z"
   },
   {
    "duration": 12,
    "start_time": "2022-04-03T09:24:45.617Z"
   },
   {
    "duration": 459,
    "start_time": "2022-04-03T09:26:02.828Z"
   },
   {
    "duration": 20,
    "start_time": "2022-04-03T09:26:03.289Z"
   },
   {
    "duration": 15,
    "start_time": "2022-04-03T09:26:03.310Z"
   },
   {
    "duration": 5,
    "start_time": "2022-04-03T09:26:03.327Z"
   },
   {
    "duration": 33,
    "start_time": "2022-04-03T09:26:03.333Z"
   },
   {
    "duration": 5,
    "start_time": "2022-04-03T09:26:03.368Z"
   },
   {
    "duration": 13,
    "start_time": "2022-04-03T09:26:03.375Z"
   },
   {
    "duration": 12,
    "start_time": "2022-04-03T09:26:03.390Z"
   },
   {
    "duration": 6,
    "start_time": "2022-04-03T09:26:03.403Z"
   },
   {
    "duration": 2,
    "start_time": "2022-04-03T09:26:03.412Z"
   },
   {
    "duration": 11,
    "start_time": "2022-04-03T09:26:03.416Z"
   },
   {
    "duration": 42,
    "start_time": "2022-04-03T09:26:03.429Z"
   },
   {
    "duration": 7,
    "start_time": "2022-04-03T09:26:24.258Z"
   },
   {
    "duration": 4,
    "start_time": "2022-04-03T09:26:44.577Z"
   },
   {
    "duration": 6,
    "start_time": "2022-04-03T09:26:51.835Z"
   },
   {
    "duration": 10,
    "start_time": "2022-04-03T09:27:07.016Z"
   },
   {
    "duration": 4,
    "start_time": "2022-04-03T09:27:20.238Z"
   },
   {
    "duration": 7,
    "start_time": "2022-04-03T09:27:22.161Z"
   },
   {
    "duration": 4,
    "start_time": "2022-04-03T09:27:27.595Z"
   },
   {
    "duration": 11,
    "start_time": "2022-04-03T09:27:36.291Z"
   },
   {
    "duration": 5,
    "start_time": "2022-04-03T09:27:42.668Z"
   },
   {
    "duration": 7,
    "start_time": "2022-04-03T09:27:43.791Z"
   },
   {
    "duration": 5,
    "start_time": "2022-04-03T09:27:58.248Z"
   },
   {
    "duration": 7,
    "start_time": "2022-04-03T09:27:59.959Z"
   },
   {
    "duration": 64,
    "start_time": "2022-04-03T09:28:17.114Z"
   },
   {
    "duration": 110,
    "start_time": "2022-04-03T09:28:25.864Z"
   },
   {
    "duration": 4,
    "start_time": "2022-04-03T09:28:28.521Z"
   },
   {
    "duration": 8,
    "start_time": "2022-04-03T09:28:30.473Z"
   },
   {
    "duration": 5,
    "start_time": "2022-04-03T09:28:38.844Z"
   },
   {
    "duration": 8,
    "start_time": "2022-04-03T09:28:39.788Z"
   },
   {
    "duration": 11,
    "start_time": "2022-04-03T09:31:21.382Z"
   },
   {
    "duration": 7,
    "start_time": "2022-04-03T09:31:21.945Z"
   },
   {
    "duration": 18,
    "start_time": "2022-04-03T09:31:32.976Z"
   },
   {
    "duration": 11,
    "start_time": "2022-04-03T09:31:47.487Z"
   },
   {
    "duration": 8,
    "start_time": "2022-04-03T09:31:48.854Z"
   },
   {
    "duration": 7,
    "start_time": "2022-04-03T09:31:54.801Z"
   },
   {
    "duration": 15,
    "start_time": "2022-04-03T09:33:11.356Z"
   },
   {
    "duration": 10,
    "start_time": "2022-04-03T09:33:12.152Z"
   },
   {
    "duration": 11,
    "start_time": "2022-04-03T09:33:22.476Z"
   },
   {
    "duration": 7,
    "start_time": "2022-04-03T09:33:22.862Z"
   },
   {
    "duration": 382,
    "start_time": "2022-04-03T09:34:40.456Z"
   },
   {
    "duration": 15,
    "start_time": "2022-04-03T09:35:07.684Z"
   },
   {
    "duration": 4,
    "start_time": "2022-04-03T09:35:23.048Z"
   },
   {
    "duration": 133,
    "start_time": "2022-04-03T09:35:32.735Z"
   },
   {
    "duration": 126,
    "start_time": "2022-04-03T09:35:50.343Z"
   },
   {
    "duration": 2021,
    "start_time": "2022-04-03T09:35:58.287Z"
   },
   {
    "duration": 129,
    "start_time": "2022-04-03T09:36:05.705Z"
   },
   {
    "duration": 438,
    "start_time": "2022-04-03T09:36:22.461Z"
   },
   {
    "duration": 19,
    "start_time": "2022-04-03T09:36:22.901Z"
   },
   {
    "duration": 14,
    "start_time": "2022-04-03T09:36:22.921Z"
   },
   {
    "duration": 4,
    "start_time": "2022-04-03T09:36:22.936Z"
   },
   {
    "duration": 31,
    "start_time": "2022-04-03T09:36:22.942Z"
   },
   {
    "duration": 5,
    "start_time": "2022-04-03T09:36:22.975Z"
   },
   {
    "duration": 15,
    "start_time": "2022-04-03T09:36:22.981Z"
   },
   {
    "duration": 13,
    "start_time": "2022-04-03T09:36:22.997Z"
   },
   {
    "duration": 398,
    "start_time": "2022-04-03T09:36:23.012Z"
   },
   {
    "duration": 13,
    "start_time": "2022-04-03T09:36:23.411Z"
   },
   {
    "duration": 11,
    "start_time": "2022-04-03T09:36:23.426Z"
   },
   {
    "duration": 143,
    "start_time": "2022-04-03T09:37:08.800Z"
   },
   {
    "duration": 142,
    "start_time": "2022-04-03T09:38:05.847Z"
   },
   {
    "duration": 203,
    "start_time": "2022-04-03T09:39:21.274Z"
   },
   {
    "duration": 155,
    "start_time": "2022-04-03T09:39:31.450Z"
   },
   {
    "duration": 198,
    "start_time": "2022-04-03T09:39:48.620Z"
   },
   {
    "duration": 14,
    "start_time": "2022-04-03T09:41:26.973Z"
   },
   {
    "duration": 13,
    "start_time": "2022-04-03T09:41:28.606Z"
   },
   {
    "duration": 9,
    "start_time": "2022-04-03T09:41:33.407Z"
   },
   {
    "duration": 8,
    "start_time": "2022-04-03T09:41:41.542Z"
   },
   {
    "duration": 13,
    "start_time": "2022-04-03T09:42:24.691Z"
   },
   {
    "duration": 8,
    "start_time": "2022-04-03T09:42:25.557Z"
   },
   {
    "duration": 9,
    "start_time": "2022-04-03T09:42:35.398Z"
   },
   {
    "duration": 13,
    "start_time": "2022-04-03T09:43:46.163Z"
   },
   {
    "duration": 10,
    "start_time": "2022-04-03T09:43:46.899Z"
   },
   {
    "duration": 10,
    "start_time": "2022-04-03T09:44:12.294Z"
   },
   {
    "duration": 11,
    "start_time": "2022-04-03T09:45:14.001Z"
   },
   {
    "duration": 10,
    "start_time": "2022-04-03T09:45:16.145Z"
   },
   {
    "duration": 21,
    "start_time": "2022-04-03T09:45:51.828Z"
   },
   {
    "duration": 19,
    "start_time": "2022-04-03T09:46:28.937Z"
   },
   {
    "duration": 19,
    "start_time": "2022-04-03T09:46:33.977Z"
   },
   {
    "duration": 4,
    "start_time": "2022-04-03T09:46:48.913Z"
   },
   {
    "duration": 14,
    "start_time": "2022-04-03T09:46:58.429Z"
   },
   {
    "duration": 4,
    "start_time": "2022-04-03T09:46:59.504Z"
   },
   {
    "duration": 11,
    "start_time": "2022-04-03T09:47:00.011Z"
   },
   {
    "duration": 10,
    "start_time": "2022-04-03T09:47:12.173Z"
   },
   {
    "duration": 14,
    "start_time": "2022-04-03T09:47:18.771Z"
   },
   {
    "duration": 8,
    "start_time": "2022-04-03T09:47:25.054Z"
   },
   {
    "duration": 12,
    "start_time": "2022-04-03T09:47:42.039Z"
   },
   {
    "duration": 8,
    "start_time": "2022-04-03T09:47:42.570Z"
   },
   {
    "duration": 13,
    "start_time": "2022-04-03T09:48:04.651Z"
   },
   {
    "duration": 9,
    "start_time": "2022-04-03T09:48:05.265Z"
   },
   {
    "duration": 9,
    "start_time": "2022-04-03T09:48:25.651Z"
   },
   {
    "duration": 8,
    "start_time": "2022-04-03T09:51:14.403Z"
   },
   {
    "duration": 9,
    "start_time": "2022-04-03T09:58:22.134Z"
   },
   {
    "duration": 6,
    "start_time": "2022-04-03T09:58:28.365Z"
   },
   {
    "duration": 11,
    "start_time": "2022-04-03T09:58:52.877Z"
   },
   {
    "duration": 10,
    "start_time": "2022-04-03T09:59:09.497Z"
   },
   {
    "duration": 8,
    "start_time": "2022-04-03T09:59:10.897Z"
   },
   {
    "duration": 11,
    "start_time": "2022-04-03T09:59:35.550Z"
   },
   {
    "duration": 8,
    "start_time": "2022-04-03T09:59:36.772Z"
   },
   {
    "duration": 143,
    "start_time": "2022-04-03T10:00:22.136Z"
   },
   {
    "duration": 142,
    "start_time": "2022-04-03T10:00:52.991Z"
   },
   {
    "duration": 142,
    "start_time": "2022-04-03T10:00:59.124Z"
   },
   {
    "duration": 136,
    "start_time": "2022-04-03T10:01:11.131Z"
   },
   {
    "duration": 136,
    "start_time": "2022-04-03T10:02:41.535Z"
   },
   {
    "duration": 131,
    "start_time": "2022-04-03T10:05:00.087Z"
   },
   {
    "duration": 132,
    "start_time": "2022-04-03T10:05:14.247Z"
   },
   {
    "duration": 4,
    "start_time": "2022-04-03T10:07:09.344Z"
   },
   {
    "duration": 7,
    "start_time": "2022-04-03T10:07:21.205Z"
   },
   {
    "duration": 136,
    "start_time": "2022-04-03T10:07:28.888Z"
   },
   {
    "duration": 271,
    "start_time": "2022-04-03T10:07:42.193Z"
   },
   {
    "duration": 319,
    "start_time": "2022-04-03T10:08:03.332Z"
   },
   {
    "duration": 392,
    "start_time": "2022-04-03T10:08:10.303Z"
   },
   {
    "duration": 4,
    "start_time": "2022-04-03T10:08:37.538Z"
   },
   {
    "duration": 24,
    "start_time": "2022-04-03T10:08:38.544Z"
   },
   {
    "duration": 24,
    "start_time": "2022-04-03T10:09:02.140Z"
   },
   {
    "duration": 4,
    "start_time": "2022-04-03T10:09:21.962Z"
   },
   {
    "duration": 142,
    "start_time": "2022-04-03T10:09:24.113Z"
   },
   {
    "duration": 667,
    "start_time": "2022-04-03T10:09:56.704Z"
   },
   {
    "duration": 4,
    "start_time": "2022-04-03T10:10:35.115Z"
   },
   {
    "duration": 230,
    "start_time": "2022-04-03T10:10:40.540Z"
   },
   {
    "duration": 3,
    "start_time": "2022-04-03T10:10:54.119Z"
   },
   {
    "duration": 638,
    "start_time": "2022-04-03T10:10:55.941Z"
   },
   {
    "duration": 4,
    "start_time": "2022-04-03T10:11:00.455Z"
   },
   {
    "duration": 101,
    "start_time": "2022-04-03T10:11:15.160Z"
   },
   {
    "duration": 648,
    "start_time": "2022-04-03T10:11:16.824Z"
   },
   {
    "duration": 4,
    "start_time": "2022-04-03T10:11:26.711Z"
   },
   {
    "duration": 216,
    "start_time": "2022-04-03T10:11:27.660Z"
   },
   {
    "duration": 4,
    "start_time": "2022-04-03T10:14:02.920Z"
   },
   {
    "duration": 632,
    "start_time": "2022-04-03T10:14:03.586Z"
   },
   {
    "duration": 4,
    "start_time": "2022-04-03T10:16:46.680Z"
   },
   {
    "duration": 625,
    "start_time": "2022-04-03T10:16:48.093Z"
   },
   {
    "duration": 4,
    "start_time": "2022-04-03T10:17:07.933Z"
   },
   {
    "duration": 217,
    "start_time": "2022-04-03T10:17:09.011Z"
   },
   {
    "duration": 4,
    "start_time": "2022-04-03T10:17:24.017Z"
   },
   {
    "duration": 142,
    "start_time": "2022-04-03T10:17:25.513Z"
   },
   {
    "duration": 4,
    "start_time": "2022-04-03T10:17:53.212Z"
   },
   {
    "duration": 679,
    "start_time": "2022-04-03T10:17:54.052Z"
   },
   {
    "duration": 5,
    "start_time": "2022-04-03T10:18:06.007Z"
   },
   {
    "duration": 698,
    "start_time": "2022-04-03T10:18:07.357Z"
   },
   {
    "duration": 203,
    "start_time": "2022-04-03T10:33:46.010Z"
   },
   {
    "duration": 424,
    "start_time": "2022-04-03T10:37:15.592Z"
   },
   {
    "duration": 200,
    "start_time": "2022-04-03T10:37:34.879Z"
   },
   {
    "duration": 83,
    "start_time": "2022-04-03T10:38:50.228Z"
   },
   {
    "duration": 12,
    "start_time": "2022-04-03T10:59:40.301Z"
   },
   {
    "duration": 8,
    "start_time": "2022-04-03T10:59:57.549Z"
   },
   {
    "duration": 16,
    "start_time": "2022-04-03T11:00:40.091Z"
   },
   {
    "duration": 9,
    "start_time": "2022-04-03T11:00:40.779Z"
   },
   {
    "duration": 16,
    "start_time": "2022-04-03T11:01:15.192Z"
   },
   {
    "duration": 8,
    "start_time": "2022-04-03T11:01:16.563Z"
   },
   {
    "duration": 10,
    "start_time": "2022-04-03T11:03:25.571Z"
   },
   {
    "duration": 10,
    "start_time": "2022-04-03T11:03:38.569Z"
   },
   {
    "duration": 556,
    "start_time": "2022-04-03T13:52:13.046Z"
   },
   {
    "duration": 22,
    "start_time": "2022-04-03T13:52:13.604Z"
   },
   {
    "duration": 13,
    "start_time": "2022-04-03T13:52:13.627Z"
   },
   {
    "duration": 3,
    "start_time": "2022-04-03T13:52:13.642Z"
   },
   {
    "duration": 15,
    "start_time": "2022-04-03T13:52:13.646Z"
   },
   {
    "duration": 4,
    "start_time": "2022-04-03T13:52:13.681Z"
   },
   {
    "duration": 13,
    "start_time": "2022-04-03T13:52:13.686Z"
   },
   {
    "duration": 12,
    "start_time": "2022-04-03T13:52:13.701Z"
   },
   {
    "duration": 543,
    "start_time": "2022-04-03T13:52:13.715Z"
   },
   {
    "duration": 20,
    "start_time": "2022-04-03T13:52:14.262Z"
   },
   {
    "duration": 8,
    "start_time": "2022-04-03T13:52:14.283Z"
   },
   {
    "duration": 7,
    "start_time": "2022-04-03T13:52:14.292Z"
   },
   {
    "duration": 661,
    "start_time": "2022-04-03T13:52:14.301Z"
   },
   {
    "duration": 84,
    "start_time": "2022-04-03T13:52:14.964Z"
   },
   {
    "duration": 14,
    "start_time": "2022-04-03T13:52:15.050Z"
   },
   {
    "duration": 23,
    "start_time": "2022-04-03T13:52:15.065Z"
   },
   {
    "duration": 10,
    "start_time": "2022-04-03T13:52:15.089Z"
   },
   {
    "duration": 18,
    "start_time": "2022-04-03T13:54:40.528Z"
   },
   {
    "duration": 13,
    "start_time": "2022-04-03T13:54:47.278Z"
   },
   {
    "duration": 11,
    "start_time": "2022-04-03T13:54:50.607Z"
   },
   {
    "duration": 16,
    "start_time": "2022-04-03T13:54:52.929Z"
   },
   {
    "duration": 6,
    "start_time": "2022-04-03T14:01:45.381Z"
   },
   {
    "duration": 68,
    "start_time": "2022-04-03T14:01:50.905Z"
   },
   {
    "duration": 6,
    "start_time": "2022-04-03T14:02:01.089Z"
   },
   {
    "duration": 6,
    "start_time": "2022-04-03T14:02:12.714Z"
   },
   {
    "duration": 4,
    "start_time": "2022-04-03T14:34:54.968Z"
   },
   {
    "duration": 76,
    "start_time": "2022-04-03T14:34:58.993Z"
   },
   {
    "duration": 14,
    "start_time": "2022-04-03T14:35:08.553Z"
   },
   {
    "duration": 10,
    "start_time": "2022-04-03T14:35:09.070Z"
   },
   {
    "duration": 9,
    "start_time": "2022-04-03T14:35:10.299Z"
   },
   {
    "duration": 86,
    "start_time": "2022-04-03T14:35:57.279Z"
   },
   {
    "duration": 11,
    "start_time": "2022-04-03T14:37:50.629Z"
   },
   {
    "duration": 8,
    "start_time": "2022-04-03T14:38:07.294Z"
   },
   {
    "duration": 74,
    "start_time": "2022-04-03T14:38:28.425Z"
   },
   {
    "duration": 8,
    "start_time": "2022-04-03T14:39:49.380Z"
   },
   {
    "duration": 118,
    "start_time": "2022-04-03T14:40:04.949Z"
   },
   {
    "duration": 695,
    "start_time": "2022-04-03T14:40:30.552Z"
   },
   {
    "duration": 7,
    "start_time": "2022-04-03T14:40:48.329Z"
   },
   {
    "duration": 2416,
    "start_time": "2022-04-03T14:41:49.593Z"
   },
   {
    "duration": 105,
    "start_time": "2022-04-03T14:49:50.182Z"
   },
   {
    "duration": 15,
    "start_time": "2022-04-03T15:02:12.514Z"
   },
   {
    "duration": 9,
    "start_time": "2022-04-03T15:02:12.957Z"
   },
   {
    "duration": 9,
    "start_time": "2022-04-03T15:02:14.278Z"
   },
   {
    "duration": 18,
    "start_time": "2022-04-03T15:12:57.043Z"
   },
   {
    "duration": 16,
    "start_time": "2022-04-03T15:13:06.252Z"
   },
   {
    "duration": 162,
    "start_time": "2022-04-03T15:13:50.749Z"
   },
   {
    "duration": 153,
    "start_time": "2022-04-03T15:14:03.687Z"
   },
   {
    "duration": 18,
    "start_time": "2022-04-03T15:14:07.150Z"
   },
   {
    "duration": 10,
    "start_time": "2022-04-03T15:14:29.082Z"
   },
   {
    "duration": 11,
    "start_time": "2022-04-03T15:14:30.246Z"
   },
   {
    "duration": 11,
    "start_time": "2022-04-03T15:14:44.667Z"
   },
   {
    "duration": 11,
    "start_time": "2022-04-03T15:14:46.007Z"
   },
   {
    "duration": 51,
    "start_time": "2022-04-04T09:29:05.406Z"
   },
   {
    "duration": 456,
    "start_time": "2022-04-04T09:29:16.593Z"
   },
   {
    "duration": 22,
    "start_time": "2022-04-04T09:29:17.051Z"
   },
   {
    "duration": 15,
    "start_time": "2022-04-04T09:29:17.075Z"
   },
   {
    "duration": 4,
    "start_time": "2022-04-04T09:29:17.092Z"
   },
   {
    "duration": 35,
    "start_time": "2022-04-04T09:29:17.098Z"
   },
   {
    "duration": 5,
    "start_time": "2022-04-04T09:29:17.135Z"
   },
   {
    "duration": 17,
    "start_time": "2022-04-04T09:29:17.142Z"
   },
   {
    "duration": 17,
    "start_time": "2022-04-04T09:29:17.161Z"
   },
   {
    "duration": 861,
    "start_time": "2022-04-04T09:29:17.180Z"
   },
   {
    "duration": 14,
    "start_time": "2022-04-04T09:29:18.044Z"
   },
   {
    "duration": 74,
    "start_time": "2022-04-04T09:29:18.060Z"
   },
   {
    "duration": 11,
    "start_time": "2022-04-04T09:29:18.136Z"
   },
   {
    "duration": 7,
    "start_time": "2022-04-04T09:29:18.149Z"
   },
   {
    "duration": 1600,
    "start_time": "2022-04-04T09:29:18.157Z"
   },
   {
    "duration": 5,
    "start_time": "2022-04-04T09:29:19.759Z"
   },
   {
    "duration": 69,
    "start_time": "2022-04-04T09:29:19.766Z"
   },
   {
    "duration": 10,
    "start_time": "2022-04-04T09:29:19.837Z"
   },
   {
    "duration": 2467,
    "start_time": "2022-04-04T09:29:19.848Z"
   },
   {
    "duration": 96,
    "start_time": "2022-04-04T09:29:22.317Z"
   },
   {
    "duration": 24,
    "start_time": "2022-04-04T09:29:22.415Z"
   },
   {
    "duration": 10,
    "start_time": "2022-04-04T09:29:22.441Z"
   },
   {
    "duration": 20,
    "start_time": "2022-04-04T09:29:22.453Z"
   },
   {
    "duration": 11,
    "start_time": "2022-04-04T09:29:22.475Z"
   },
   {
    "duration": 13,
    "start_time": "2022-04-04T09:29:22.487Z"
   },
   {
    "duration": 39,
    "start_time": "2022-04-04T09:29:22.501Z"
   },
   {
    "duration": 12,
    "start_time": "2022-04-04T09:29:22.542Z"
   },
   {
    "duration": 23,
    "start_time": "2022-04-04T09:30:03.475Z"
   },
   {
    "duration": 20,
    "start_time": "2022-04-04T09:30:13.540Z"
   },
   {
    "duration": 20,
    "start_time": "2022-04-04T09:31:04.417Z"
   },
   {
    "duration": 17,
    "start_time": "2022-04-04T09:31:19.609Z"
   },
   {
    "duration": 23,
    "start_time": "2022-04-04T09:31:26.284Z"
   },
   {
    "duration": 2294,
    "start_time": "2022-04-04T09:32:25.191Z"
   },
   {
    "duration": 5,
    "start_time": "2022-04-04T09:32:42.127Z"
   },
   {
    "duration": 152,
    "start_time": "2022-04-04T09:32:57.843Z"
   },
   {
    "duration": 2481,
    "start_time": "2022-04-04T09:33:04.145Z"
   },
   {
    "duration": 8,
    "start_time": "2022-04-04T09:33:23.961Z"
   },
   {
    "duration": 6,
    "start_time": "2022-04-04T09:34:08.127Z"
   },
   {
    "duration": 7,
    "start_time": "2022-04-04T09:34:09.437Z"
   },
   {
    "duration": 2314,
    "start_time": "2022-04-04T09:34:19.845Z"
   },
   {
    "duration": 8,
    "start_time": "2022-04-04T09:34:30.097Z"
   },
   {
    "duration": 27,
    "start_time": "2022-04-04T09:34:43.154Z"
   },
   {
    "duration": 28,
    "start_time": "2022-04-04T09:34:57.573Z"
   },
   {
    "duration": 0,
    "start_time": "2022-04-04T09:35:30.294Z"
   },
   {
    "duration": 723,
    "start_time": "2022-04-04T09:35:33.395Z"
   },
   {
    "duration": 4,
    "start_time": "2022-04-04T09:36:15.443Z"
   },
   {
    "duration": 8,
    "start_time": "2022-04-04T09:36:25.044Z"
   },
   {
    "duration": 154,
    "start_time": "2022-04-04T09:37:58.490Z"
   },
   {
    "duration": 12,
    "start_time": "2022-04-04T09:38:07.517Z"
   },
   {
    "duration": 151,
    "start_time": "2022-04-04T09:38:20.884Z"
   },
   {
    "duration": 149,
    "start_time": "2022-04-04T09:39:37.873Z"
   },
   {
    "duration": 18,
    "start_time": "2022-04-04T09:41:24.875Z"
   },
   {
    "duration": 27,
    "start_time": "2022-04-04T09:41:43.415Z"
   },
   {
    "duration": 27,
    "start_time": "2022-04-04T09:41:51.459Z"
   },
   {
    "duration": 2277,
    "start_time": "2022-04-04T09:41:57.962Z"
   },
   {
    "duration": 13,
    "start_time": "2022-04-04T09:42:07.141Z"
   },
   {
    "duration": 27,
    "start_time": "2022-04-04T09:42:30.349Z"
   },
   {
    "duration": 26,
    "start_time": "2022-04-04T09:43:04.114Z"
   },
   {
    "duration": 2352,
    "start_time": "2022-04-04T09:43:31.621Z"
   },
   {
    "duration": 0,
    "start_time": "2022-04-04T09:43:33.975Z"
   },
   {
    "duration": 2287,
    "start_time": "2022-04-04T09:43:34.126Z"
   },
   {
    "duration": 2151,
    "start_time": "2022-04-04T09:43:40.502Z"
   },
   {
    "duration": 25,
    "start_time": "2022-04-04T09:43:54.025Z"
   },
   {
    "duration": 443,
    "start_time": "2022-04-04T09:43:56.215Z"
   },
   {
    "duration": 446,
    "start_time": "2022-04-04T09:44:23.043Z"
   },
   {
    "duration": 22,
    "start_time": "2022-04-04T09:44:23.491Z"
   },
   {
    "duration": 17,
    "start_time": "2022-04-04T09:44:23.515Z"
   },
   {
    "duration": 3,
    "start_time": "2022-04-04T09:44:23.535Z"
   },
   {
    "duration": 22,
    "start_time": "2022-04-04T09:44:23.540Z"
   },
   {
    "duration": 4,
    "start_time": "2022-04-04T09:44:23.564Z"
   },
   {
    "duration": 17,
    "start_time": "2022-04-04T09:44:23.570Z"
   },
   {
    "duration": 16,
    "start_time": "2022-04-04T09:44:23.588Z"
   },
   {
    "duration": 475,
    "start_time": "2022-04-04T09:44:23.606Z"
   },
   {
    "duration": 13,
    "start_time": "2022-04-04T09:44:24.083Z"
   },
   {
    "duration": 8,
    "start_time": "2022-04-04T09:44:24.097Z"
   },
   {
    "duration": 8,
    "start_time": "2022-04-04T09:44:24.107Z"
   },
   {
    "duration": 19,
    "start_time": "2022-04-04T09:44:24.117Z"
   },
   {
    "duration": 821,
    "start_time": "2022-04-04T09:44:24.138Z"
   },
   {
    "duration": 5,
    "start_time": "2022-04-04T09:44:24.961Z"
   },
   {
    "duration": 14,
    "start_time": "2022-04-04T09:44:24.968Z"
   },
   {
    "duration": 17,
    "start_time": "2022-04-04T09:44:24.984Z"
   },
   {
    "duration": 1839,
    "start_time": "2022-04-04T09:44:25.003Z"
   },
   {
    "duration": 107,
    "start_time": "2022-04-04T09:44:26.844Z"
   },
   {
    "duration": 16,
    "start_time": "2022-04-04T09:44:26.953Z"
   },
   {
    "duration": 11,
    "start_time": "2022-04-04T09:44:26.971Z"
   },
   {
    "duration": 48,
    "start_time": "2022-04-04T09:44:26.984Z"
   },
   {
    "duration": 7,
    "start_time": "2022-04-04T09:44:27.034Z"
   },
   {
    "duration": 160,
    "start_time": "2022-04-04T09:44:27.043Z"
   },
   {
    "duration": 38,
    "start_time": "2022-04-04T09:44:27.204Z"
   },
   {
    "duration": 516,
    "start_time": "2022-04-04T09:44:27.244Z"
   },
   {
    "duration": 0,
    "start_time": "2022-04-04T09:44:27.762Z"
   },
   {
    "duration": 0,
    "start_time": "2022-04-04T09:44:27.763Z"
   },
   {
    "duration": 0,
    "start_time": "2022-04-04T09:44:27.765Z"
   },
   {
    "duration": 0,
    "start_time": "2022-04-04T09:44:27.766Z"
   },
   {
    "duration": 22,
    "start_time": "2022-04-04T09:46:33.807Z"
   },
   {
    "duration": 19,
    "start_time": "2022-04-04T09:47:56.569Z"
   },
   {
    "duration": 25,
    "start_time": "2022-04-04T09:48:41.708Z"
   },
   {
    "duration": 697,
    "start_time": "2022-04-04T09:49:12.041Z"
   },
   {
    "duration": 19,
    "start_time": "2022-04-04T09:49:28.127Z"
   },
   {
    "duration": 11,
    "start_time": "2022-04-04T09:51:08.974Z"
   },
   {
    "duration": 11,
    "start_time": "2022-04-04T09:51:13.367Z"
   },
   {
    "duration": 16,
    "start_time": "2022-04-04T09:52:53.896Z"
   },
   {
    "duration": 11,
    "start_time": "2022-04-04T09:53:27.136Z"
   },
   {
    "duration": 14,
    "start_time": "2022-04-04T09:53:42.598Z"
   },
   {
    "duration": 480,
    "start_time": "2022-04-04T09:53:52.812Z"
   },
   {
    "duration": 32,
    "start_time": "2022-04-04T09:53:53.294Z"
   },
   {
    "duration": 15,
    "start_time": "2022-04-04T09:53:53.327Z"
   },
   {
    "duration": 4,
    "start_time": "2022-04-04T09:53:53.345Z"
   },
   {
    "duration": 24,
    "start_time": "2022-04-04T09:53:53.350Z"
   },
   {
    "duration": 14,
    "start_time": "2022-04-04T09:53:53.376Z"
   },
   {
    "duration": 91,
    "start_time": "2022-04-04T09:53:53.391Z"
   },
   {
    "duration": 0,
    "start_time": "2022-04-04T09:53:53.485Z"
   },
   {
    "duration": 0,
    "start_time": "2022-04-04T09:53:53.486Z"
   },
   {
    "duration": 0,
    "start_time": "2022-04-04T09:53:53.488Z"
   },
   {
    "duration": 0,
    "start_time": "2022-04-04T09:53:53.489Z"
   },
   {
    "duration": 0,
    "start_time": "2022-04-04T09:53:53.490Z"
   },
   {
    "duration": 0,
    "start_time": "2022-04-04T09:53:53.491Z"
   },
   {
    "duration": 0,
    "start_time": "2022-04-04T09:53:53.492Z"
   },
   {
    "duration": 0,
    "start_time": "2022-04-04T09:53:53.493Z"
   },
   {
    "duration": 0,
    "start_time": "2022-04-04T09:53:53.494Z"
   },
   {
    "duration": 0,
    "start_time": "2022-04-04T09:53:53.495Z"
   },
   {
    "duration": 0,
    "start_time": "2022-04-04T09:53:53.496Z"
   },
   {
    "duration": 0,
    "start_time": "2022-04-04T09:53:53.497Z"
   },
   {
    "duration": 0,
    "start_time": "2022-04-04T09:53:53.498Z"
   },
   {
    "duration": 0,
    "start_time": "2022-04-04T09:53:53.499Z"
   },
   {
    "duration": 0,
    "start_time": "2022-04-04T09:53:53.501Z"
   },
   {
    "duration": 0,
    "start_time": "2022-04-04T09:53:53.501Z"
   },
   {
    "duration": 0,
    "start_time": "2022-04-04T09:53:53.502Z"
   },
   {
    "duration": 0,
    "start_time": "2022-04-04T09:53:53.532Z"
   },
   {
    "duration": 0,
    "start_time": "2022-04-04T09:53:53.533Z"
   },
   {
    "duration": 0,
    "start_time": "2022-04-04T09:53:53.535Z"
   },
   {
    "duration": 0,
    "start_time": "2022-04-04T09:53:53.536Z"
   },
   {
    "duration": 0,
    "start_time": "2022-04-04T09:53:53.537Z"
   },
   {
    "duration": 0,
    "start_time": "2022-04-04T09:53:53.538Z"
   },
   {
    "duration": 0,
    "start_time": "2022-04-04T09:53:53.539Z"
   },
   {
    "duration": 0,
    "start_time": "2022-04-04T09:53:53.540Z"
   },
   {
    "duration": 667,
    "start_time": "2022-04-04T09:54:21.071Z"
   },
   {
    "duration": 35,
    "start_time": "2022-04-04T09:54:21.740Z"
   },
   {
    "duration": 16,
    "start_time": "2022-04-04T09:54:21.831Z"
   },
   {
    "duration": 4,
    "start_time": "2022-04-04T09:54:21.850Z"
   },
   {
    "duration": 19,
    "start_time": "2022-04-04T09:54:21.856Z"
   },
   {
    "duration": 15,
    "start_time": "2022-04-04T09:54:21.931Z"
   },
   {
    "duration": 121,
    "start_time": "2022-04-04T09:54:21.948Z"
   },
   {
    "duration": 0,
    "start_time": "2022-04-04T09:54:22.073Z"
   },
   {
    "duration": 0,
    "start_time": "2022-04-04T09:54:22.074Z"
   },
   {
    "duration": 0,
    "start_time": "2022-04-04T09:54:22.075Z"
   },
   {
    "duration": 1,
    "start_time": "2022-04-04T09:54:22.076Z"
   },
   {
    "duration": 0,
    "start_time": "2022-04-04T09:54:22.132Z"
   },
   {
    "duration": 0,
    "start_time": "2022-04-04T09:54:22.133Z"
   },
   {
    "duration": 0,
    "start_time": "2022-04-04T09:54:22.134Z"
   },
   {
    "duration": 0,
    "start_time": "2022-04-04T09:54:22.136Z"
   },
   {
    "duration": 0,
    "start_time": "2022-04-04T09:54:22.137Z"
   },
   {
    "duration": 0,
    "start_time": "2022-04-04T09:54:22.137Z"
   },
   {
    "duration": 0,
    "start_time": "2022-04-04T09:54:22.139Z"
   },
   {
    "duration": 0,
    "start_time": "2022-04-04T09:54:22.140Z"
   },
   {
    "duration": 0,
    "start_time": "2022-04-04T09:54:22.141Z"
   },
   {
    "duration": 0,
    "start_time": "2022-04-04T09:54:22.142Z"
   },
   {
    "duration": 0,
    "start_time": "2022-04-04T09:54:22.143Z"
   },
   {
    "duration": 0,
    "start_time": "2022-04-04T09:54:22.144Z"
   },
   {
    "duration": 0,
    "start_time": "2022-04-04T09:54:22.145Z"
   },
   {
    "duration": 0,
    "start_time": "2022-04-04T09:54:22.146Z"
   },
   {
    "duration": 0,
    "start_time": "2022-04-04T09:54:22.147Z"
   },
   {
    "duration": 0,
    "start_time": "2022-04-04T09:54:22.148Z"
   },
   {
    "duration": 0,
    "start_time": "2022-04-04T09:54:22.149Z"
   },
   {
    "duration": 0,
    "start_time": "2022-04-04T09:54:22.150Z"
   },
   {
    "duration": 0,
    "start_time": "2022-04-04T09:54:22.150Z"
   },
   {
    "duration": 0,
    "start_time": "2022-04-04T09:54:22.151Z"
   },
   {
    "duration": 0,
    "start_time": "2022-04-04T09:54:22.152Z"
   },
   {
    "duration": 2221,
    "start_time": "2022-04-04T09:57:05.519Z"
   },
   {
    "duration": 3,
    "start_time": "2022-04-04T09:57:37.055Z"
   },
   {
    "duration": 3,
    "start_time": "2022-04-04T09:57:39.883Z"
   },
   {
    "duration": 3,
    "start_time": "2022-04-04T09:57:42.096Z"
   },
   {
    "duration": 7661,
    "start_time": "2022-04-04T09:57:57.049Z"
   },
   {
    "duration": 477,
    "start_time": "2022-04-04T09:59:39.539Z"
   },
   {
    "duration": 33,
    "start_time": "2022-04-04T09:59:40.018Z"
   },
   {
    "duration": 16,
    "start_time": "2022-04-04T09:59:40.053Z"
   },
   {
    "duration": 23,
    "start_time": "2022-04-04T09:59:40.072Z"
   },
   {
    "duration": 21,
    "start_time": "2022-04-04T09:59:40.097Z"
   },
   {
    "duration": 18,
    "start_time": "2022-04-04T09:59:40.119Z"
   },
   {
    "duration": 4,
    "start_time": "2022-04-04T09:59:40.139Z"
   },
   {
    "duration": 5813,
    "start_time": "2022-04-04T09:59:40.144Z"
   },
   {
    "duration": 4,
    "start_time": "2022-04-04T09:59:45.959Z"
   },
   {
    "duration": 22,
    "start_time": "2022-04-04T09:59:45.966Z"
   },
   {
    "duration": 17,
    "start_time": "2022-04-04T09:59:45.990Z"
   },
   {
    "duration": 477,
    "start_time": "2022-04-04T09:59:46.009Z"
   },
   {
    "duration": 13,
    "start_time": "2022-04-04T09:59:46.488Z"
   },
   {
    "duration": 9,
    "start_time": "2022-04-04T09:59:46.503Z"
   },
   {
    "duration": 20,
    "start_time": "2022-04-04T09:59:46.514Z"
   },
   {
    "duration": 8,
    "start_time": "2022-04-04T09:59:46.535Z"
   },
   {
    "duration": 828,
    "start_time": "2022-04-04T09:59:46.545Z"
   },
   {
    "duration": 5,
    "start_time": "2022-04-04T09:59:47.375Z"
   },
   {
    "duration": 17,
    "start_time": "2022-04-04T09:59:47.381Z"
   },
   {
    "duration": 9,
    "start_time": "2022-04-04T09:59:47.399Z"
   },
   {
    "duration": 2636,
    "start_time": "2022-04-04T09:59:47.410Z"
   },
   {
    "duration": 98,
    "start_time": "2022-04-04T09:59:50.048Z"
   },
   {
    "duration": 15,
    "start_time": "2022-04-04T09:59:50.148Z"
   },
   {
    "duration": 21,
    "start_time": "2022-04-04T09:59:50.165Z"
   },
   {
    "duration": 35,
    "start_time": "2022-04-04T09:59:50.188Z"
   },
   {
    "duration": 7,
    "start_time": "2022-04-04T09:59:50.231Z"
   },
   {
    "duration": 158,
    "start_time": "2022-04-04T09:59:50.240Z"
   },
   {
    "duration": 38,
    "start_time": "2022-04-04T09:59:50.401Z"
   },
   {
    "duration": 499,
    "start_time": "2022-04-04T09:59:50.441Z"
   },
   {
    "duration": 0,
    "start_time": "2022-04-04T09:59:50.941Z"
   },
   {
    "duration": 0,
    "start_time": "2022-04-04T09:59:50.943Z"
   },
   {
    "duration": 0,
    "start_time": "2022-04-04T09:59:50.944Z"
   },
   {
    "duration": 0,
    "start_time": "2022-04-04T09:59:50.945Z"
   },
   {
    "duration": 406,
    "start_time": "2022-04-04T10:00:53.888Z"
   },
   {
    "duration": 34,
    "start_time": "2022-04-04T10:00:54.296Z"
   },
   {
    "duration": 16,
    "start_time": "2022-04-04T10:00:54.332Z"
   },
   {
    "duration": 4,
    "start_time": "2022-04-04T10:00:54.350Z"
   },
   {
    "duration": 32,
    "start_time": "2022-04-04T10:00:54.356Z"
   },
   {
    "duration": 15,
    "start_time": "2022-04-04T10:00:54.390Z"
   },
   {
    "duration": 5,
    "start_time": "2022-04-04T10:00:54.407Z"
   },
   {
    "duration": 4886,
    "start_time": "2022-04-04T10:00:54.414Z"
   },
   {
    "duration": 0,
    "start_time": "2022-04-04T10:00:59.302Z"
   },
   {
    "duration": 0,
    "start_time": "2022-04-04T10:00:59.304Z"
   },
   {
    "duration": 0,
    "start_time": "2022-04-04T10:00:59.305Z"
   },
   {
    "duration": 0,
    "start_time": "2022-04-04T10:00:59.306Z"
   },
   {
    "duration": 0,
    "start_time": "2022-04-04T10:00:59.308Z"
   },
   {
    "duration": 0,
    "start_time": "2022-04-04T10:00:59.309Z"
   },
   {
    "duration": 0,
    "start_time": "2022-04-04T10:00:59.310Z"
   },
   {
    "duration": 0,
    "start_time": "2022-04-04T10:00:59.311Z"
   },
   {
    "duration": 0,
    "start_time": "2022-04-04T10:00:59.312Z"
   },
   {
    "duration": 0,
    "start_time": "2022-04-04T10:00:59.313Z"
   },
   {
    "duration": 0,
    "start_time": "2022-04-04T10:00:59.314Z"
   },
   {
    "duration": 0,
    "start_time": "2022-04-04T10:00:59.315Z"
   },
   {
    "duration": 0,
    "start_time": "2022-04-04T10:00:59.317Z"
   },
   {
    "duration": 0,
    "start_time": "2022-04-04T10:00:59.318Z"
   },
   {
    "duration": 0,
    "start_time": "2022-04-04T10:00:59.319Z"
   },
   {
    "duration": 0,
    "start_time": "2022-04-04T10:00:59.320Z"
   },
   {
    "duration": 0,
    "start_time": "2022-04-04T10:00:59.321Z"
   },
   {
    "duration": 0,
    "start_time": "2022-04-04T10:00:59.322Z"
   },
   {
    "duration": 0,
    "start_time": "2022-04-04T10:00:59.323Z"
   },
   {
    "duration": 0,
    "start_time": "2022-04-04T10:00:59.324Z"
   },
   {
    "duration": 0,
    "start_time": "2022-04-04T10:00:59.326Z"
   },
   {
    "duration": 0,
    "start_time": "2022-04-04T10:00:59.326Z"
   },
   {
    "duration": 0,
    "start_time": "2022-04-04T10:00:59.328Z"
   },
   {
    "duration": 0,
    "start_time": "2022-04-04T10:00:59.329Z"
   },
   {
    "duration": 0,
    "start_time": "2022-04-04T10:00:59.330Z"
   },
   {
    "duration": 478,
    "start_time": "2022-04-04T10:02:20.617Z"
   },
   {
    "duration": 32,
    "start_time": "2022-04-04T10:02:21.097Z"
   },
   {
    "duration": 15,
    "start_time": "2022-04-04T10:02:21.131Z"
   },
   {
    "duration": 7,
    "start_time": "2022-04-04T10:02:21.149Z"
   },
   {
    "duration": 22,
    "start_time": "2022-04-04T10:02:21.157Z"
   },
   {
    "duration": 15,
    "start_time": "2022-04-04T10:02:21.180Z"
   },
   {
    "duration": 9,
    "start_time": "2022-04-04T10:02:21.197Z"
   },
   {
    "duration": 7449,
    "start_time": "2022-04-04T10:02:21.207Z"
   },
   {
    "duration": 5,
    "start_time": "2022-04-04T10:02:28.658Z"
   },
   {
    "duration": 20,
    "start_time": "2022-04-04T10:02:28.665Z"
   },
   {
    "duration": 14,
    "start_time": "2022-04-04T10:02:28.687Z"
   },
   {
    "duration": 470,
    "start_time": "2022-04-04T10:02:28.702Z"
   },
   {
    "duration": 14,
    "start_time": "2022-04-04T10:02:29.173Z"
   },
   {
    "duration": 8,
    "start_time": "2022-04-04T10:02:29.189Z"
   },
   {
    "duration": 11,
    "start_time": "2022-04-04T10:02:29.198Z"
   },
   {
    "duration": 23,
    "start_time": "2022-04-04T10:02:29.210Z"
   },
   {
    "duration": 830,
    "start_time": "2022-04-04T10:02:29.235Z"
   },
   {
    "duration": 5,
    "start_time": "2022-04-04T10:02:30.067Z"
   },
   {
    "duration": 22,
    "start_time": "2022-04-04T10:02:30.074Z"
   },
   {
    "duration": 34,
    "start_time": "2022-04-04T10:02:30.098Z"
   },
   {
    "duration": 1829,
    "start_time": "2022-04-04T10:02:30.134Z"
   },
   {
    "duration": 106,
    "start_time": "2022-04-04T10:02:31.965Z"
   },
   {
    "duration": 16,
    "start_time": "2022-04-04T10:02:32.072Z"
   },
   {
    "duration": 29,
    "start_time": "2022-04-04T10:02:32.090Z"
   },
   {
    "duration": 45,
    "start_time": "2022-04-04T10:02:32.121Z"
   },
   {
    "duration": 6,
    "start_time": "2022-04-04T10:02:32.168Z"
   },
   {
    "duration": 157,
    "start_time": "2022-04-04T10:02:32.175Z"
   },
   {
    "duration": 26,
    "start_time": "2022-04-04T10:02:32.336Z"
   },
   {
    "duration": 499,
    "start_time": "2022-04-04T10:02:32.364Z"
   },
   {
    "duration": 0,
    "start_time": "2022-04-04T10:02:32.865Z"
   },
   {
    "duration": 0,
    "start_time": "2022-04-04T10:02:32.866Z"
   },
   {
    "duration": 0,
    "start_time": "2022-04-04T10:02:32.867Z"
   },
   {
    "duration": 0,
    "start_time": "2022-04-04T10:02:32.868Z"
   },
   {
    "duration": 440,
    "start_time": "2022-04-04T10:03:26.321Z"
   },
   {
    "duration": 13,
    "start_time": "2022-04-04T10:04:31.919Z"
   },
   {
    "duration": 442,
    "start_time": "2022-04-04T10:04:42.245Z"
   },
   {
    "duration": 33,
    "start_time": "2022-04-04T10:04:42.689Z"
   },
   {
    "duration": 16,
    "start_time": "2022-04-04T10:04:42.724Z"
   },
   {
    "duration": 14,
    "start_time": "2022-04-04T10:04:42.742Z"
   },
   {
    "duration": 20,
    "start_time": "2022-04-04T10:04:42.758Z"
   },
   {
    "duration": 7425,
    "start_time": "2022-04-04T10:04:42.780Z"
   },
   {
    "duration": 14,
    "start_time": "2022-04-04T10:04:50.207Z"
   },
   {
    "duration": 11,
    "start_time": "2022-04-04T10:04:50.231Z"
   },
   {
    "duration": 23,
    "start_time": "2022-04-04T10:04:50.244Z"
   },
   {
    "duration": 24,
    "start_time": "2022-04-04T10:04:50.269Z"
   },
   {
    "duration": 448,
    "start_time": "2022-04-04T10:04:50.295Z"
   },
   {
    "duration": 13,
    "start_time": "2022-04-04T10:04:50.745Z"
   },
   {
    "duration": 16,
    "start_time": "2022-04-04T10:04:50.760Z"
   },
   {
    "duration": 16,
    "start_time": "2022-04-04T10:04:50.777Z"
   },
   {
    "duration": 27,
    "start_time": "2022-04-04T10:04:50.794Z"
   },
   {
    "duration": 822,
    "start_time": "2022-04-04T10:04:50.823Z"
   },
   {
    "duration": 6,
    "start_time": "2022-04-04T10:04:51.647Z"
   },
   {
    "duration": 46,
    "start_time": "2022-04-04T10:04:51.654Z"
   },
   {
    "duration": 31,
    "start_time": "2022-04-04T10:04:51.702Z"
   },
   {
    "duration": 1839,
    "start_time": "2022-04-04T10:04:51.735Z"
   },
   {
    "duration": 101,
    "start_time": "2022-04-04T10:04:53.576Z"
   },
   {
    "duration": 15,
    "start_time": "2022-04-04T10:04:53.679Z"
   },
   {
    "duration": 21,
    "start_time": "2022-04-04T10:04:53.696Z"
   },
   {
    "duration": 42,
    "start_time": "2022-04-04T10:04:53.719Z"
   },
   {
    "duration": 7,
    "start_time": "2022-04-04T10:04:53.763Z"
   },
   {
    "duration": 162,
    "start_time": "2022-04-04T10:04:53.772Z"
   },
   {
    "duration": 27,
    "start_time": "2022-04-04T10:04:53.936Z"
   },
   {
    "duration": 607,
    "start_time": "2022-04-04T10:04:53.967Z"
   },
   {
    "duration": 0,
    "start_time": "2022-04-04T10:04:54.576Z"
   },
   {
    "duration": 0,
    "start_time": "2022-04-04T10:04:54.577Z"
   },
   {
    "duration": 0,
    "start_time": "2022-04-04T10:04:54.578Z"
   },
   {
    "duration": 0,
    "start_time": "2022-04-04T10:04:54.579Z"
   },
   {
    "duration": 1117,
    "start_time": "2022-04-04T10:09:49.018Z"
   },
   {
    "duration": 2205,
    "start_time": "2022-04-04T10:10:43.917Z"
   },
   {
    "duration": 2340,
    "start_time": "2022-04-04T10:10:47.154Z"
   },
   {
    "duration": 1745,
    "start_time": "2022-04-04T10:11:01.210Z"
   },
   {
    "duration": 2184,
    "start_time": "2022-04-04T10:11:04.869Z"
   },
   {
    "duration": 7,
    "start_time": "2022-04-04T10:11:19.092Z"
   },
   {
    "duration": 5,
    "start_time": "2022-04-04T10:11:24.106Z"
   },
   {
    "duration": 9,
    "start_time": "2022-04-04T10:11:40.571Z"
   },
   {
    "duration": 2287,
    "start_time": "2022-04-04T10:13:38.402Z"
   },
   {
    "duration": 438,
    "start_time": "2022-04-04T10:13:53.669Z"
   },
   {
    "duration": 33,
    "start_time": "2022-04-04T10:13:54.109Z"
   },
   {
    "duration": 15,
    "start_time": "2022-04-04T10:13:54.144Z"
   },
   {
    "duration": 8,
    "start_time": "2022-04-04T10:13:54.162Z"
   },
   {
    "duration": 27,
    "start_time": "2022-04-04T10:13:54.172Z"
   },
   {
    "duration": 3961,
    "start_time": "2022-04-04T10:13:54.201Z"
   },
   {
    "duration": 0,
    "start_time": "2022-04-04T10:13:58.166Z"
   },
   {
    "duration": 0,
    "start_time": "2022-04-04T10:13:58.167Z"
   },
   {
    "duration": 0,
    "start_time": "2022-04-04T10:13:58.169Z"
   },
   {
    "duration": 0,
    "start_time": "2022-04-04T10:13:58.170Z"
   },
   {
    "duration": 0,
    "start_time": "2022-04-04T10:13:58.171Z"
   },
   {
    "duration": 0,
    "start_time": "2022-04-04T10:13:58.172Z"
   },
   {
    "duration": 0,
    "start_time": "2022-04-04T10:13:58.173Z"
   },
   {
    "duration": 0,
    "start_time": "2022-04-04T10:13:58.175Z"
   },
   {
    "duration": 0,
    "start_time": "2022-04-04T10:13:58.175Z"
   },
   {
    "duration": 0,
    "start_time": "2022-04-04T10:13:58.176Z"
   },
   {
    "duration": 0,
    "start_time": "2022-04-04T10:13:58.177Z"
   },
   {
    "duration": 0,
    "start_time": "2022-04-04T10:13:58.179Z"
   },
   {
    "duration": 0,
    "start_time": "2022-04-04T10:13:58.180Z"
   },
   {
    "duration": 0,
    "start_time": "2022-04-04T10:13:58.181Z"
   },
   {
    "duration": 0,
    "start_time": "2022-04-04T10:13:58.182Z"
   },
   {
    "duration": 0,
    "start_time": "2022-04-04T10:13:58.183Z"
   },
   {
    "duration": 0,
    "start_time": "2022-04-04T10:13:58.184Z"
   },
   {
    "duration": 0,
    "start_time": "2022-04-04T10:13:58.186Z"
   },
   {
    "duration": 0,
    "start_time": "2022-04-04T10:13:58.187Z"
   },
   {
    "duration": 0,
    "start_time": "2022-04-04T10:13:58.188Z"
   },
   {
    "duration": 0,
    "start_time": "2022-04-04T10:13:58.189Z"
   },
   {
    "duration": 0,
    "start_time": "2022-04-04T10:13:58.190Z"
   },
   {
    "duration": 0,
    "start_time": "2022-04-04T10:13:58.191Z"
   },
   {
    "duration": 0,
    "start_time": "2022-04-04T10:13:58.193Z"
   },
   {
    "duration": 0,
    "start_time": "2022-04-04T10:13:58.194Z"
   },
   {
    "duration": 0,
    "start_time": "2022-04-04T10:13:58.195Z"
   },
   {
    "duration": 148,
    "start_time": "2022-04-04T10:15:59.038Z"
   },
   {
    "duration": 2202,
    "start_time": "2022-04-04T10:16:17.115Z"
   },
   {
    "duration": 4,
    "start_time": "2022-04-04T10:17:14.806Z"
   },
   {
    "duration": 4,
    "start_time": "2022-04-04T10:17:24.973Z"
   },
   {
    "duration": 6,
    "start_time": "2022-04-04T10:18:58.995Z"
   },
   {
    "duration": 2192,
    "start_time": "2022-04-04T10:19:38.078Z"
   },
   {
    "duration": 3,
    "start_time": "2022-04-04T10:19:58.856Z"
   },
   {
    "duration": 3,
    "start_time": "2022-04-04T10:20:04.430Z"
   },
   {
    "duration": 3,
    "start_time": "2022-04-04T10:20:16.768Z"
   },
   {
    "duration": 6,
    "start_time": "2022-04-04T10:20:22.267Z"
   },
   {
    "duration": 2922,
    "start_time": "2022-04-04T10:20:29.732Z"
   },
   {
    "duration": 3,
    "start_time": "2022-04-04T10:20:34.810Z"
   },
   {
    "duration": 3,
    "start_time": "2022-04-04T10:20:42.417Z"
   },
   {
    "duration": 3,
    "start_time": "2022-04-04T10:20:47.134Z"
   },
   {
    "duration": 13,
    "start_time": "2022-04-04T10:21:08.171Z"
   },
   {
    "duration": 5,
    "start_time": "2022-04-04T10:21:08.737Z"
   },
   {
    "duration": 4,
    "start_time": "2022-04-04T10:21:10.336Z"
   },
   {
    "duration": 4,
    "start_time": "2022-04-04T10:21:14.138Z"
   },
   {
    "duration": 3,
    "start_time": "2022-04-04T10:21:26.362Z"
   },
   {
    "duration": 4,
    "start_time": "2022-04-04T10:21:34.542Z"
   },
   {
    "duration": 4,
    "start_time": "2022-04-04T10:21:37.644Z"
   },
   {
    "duration": 4,
    "start_time": "2022-04-04T10:21:42.790Z"
   },
   {
    "duration": 4,
    "start_time": "2022-04-04T10:21:45.987Z"
   },
   {
    "duration": 8,
    "start_time": "2022-04-04T10:22:05.021Z"
   },
   {
    "duration": 7,
    "start_time": "2022-04-04T10:22:37.157Z"
   },
   {
    "duration": 11,
    "start_time": "2022-04-04T10:22:41.488Z"
   },
   {
    "duration": 2224,
    "start_time": "2022-04-04T10:23:02.756Z"
   },
   {
    "duration": 4,
    "start_time": "2022-04-04T10:23:08.107Z"
   },
   {
    "duration": 4,
    "start_time": "2022-04-04T10:23:10.546Z"
   },
   {
    "duration": 2230,
    "start_time": "2022-04-04T10:23:15.886Z"
   },
   {
    "duration": 476,
    "start_time": "2022-04-04T10:23:39.621Z"
   },
   {
    "duration": 33,
    "start_time": "2022-04-04T10:23:40.099Z"
   },
   {
    "duration": 16,
    "start_time": "2022-04-04T10:23:40.134Z"
   },
   {
    "duration": 3,
    "start_time": "2022-04-04T10:23:40.153Z"
   },
   {
    "duration": 21,
    "start_time": "2022-04-04T10:23:40.158Z"
   },
   {
    "duration": 4,
    "start_time": "2022-04-04T10:23:40.181Z"
   },
   {
    "duration": 6,
    "start_time": "2022-04-04T10:23:40.187Z"
   },
   {
    "duration": 2609,
    "start_time": "2022-04-04T10:23:40.194Z"
   },
   {
    "duration": 0,
    "start_time": "2022-04-04T10:23:42.806Z"
   },
   {
    "duration": 0,
    "start_time": "2022-04-04T10:23:42.807Z"
   },
   {
    "duration": 0,
    "start_time": "2022-04-04T10:23:42.808Z"
   },
   {
    "duration": 0,
    "start_time": "2022-04-04T10:23:42.809Z"
   },
   {
    "duration": 0,
    "start_time": "2022-04-04T10:23:42.810Z"
   },
   {
    "duration": 0,
    "start_time": "2022-04-04T10:23:42.812Z"
   },
   {
    "duration": 0,
    "start_time": "2022-04-04T10:23:42.813Z"
   },
   {
    "duration": 0,
    "start_time": "2022-04-04T10:23:42.814Z"
   },
   {
    "duration": 0,
    "start_time": "2022-04-04T10:23:42.815Z"
   },
   {
    "duration": 0,
    "start_time": "2022-04-04T10:23:42.816Z"
   },
   {
    "duration": 0,
    "start_time": "2022-04-04T10:23:42.817Z"
   },
   {
    "duration": 0,
    "start_time": "2022-04-04T10:23:42.818Z"
   },
   {
    "duration": 0,
    "start_time": "2022-04-04T10:23:42.819Z"
   },
   {
    "duration": 0,
    "start_time": "2022-04-04T10:23:42.821Z"
   },
   {
    "duration": 0,
    "start_time": "2022-04-04T10:23:42.822Z"
   },
   {
    "duration": 0,
    "start_time": "2022-04-04T10:23:42.822Z"
   },
   {
    "duration": 0,
    "start_time": "2022-04-04T10:23:42.824Z"
   },
   {
    "duration": 0,
    "start_time": "2022-04-04T10:23:42.825Z"
   },
   {
    "duration": 0,
    "start_time": "2022-04-04T10:23:42.826Z"
   },
   {
    "duration": 0,
    "start_time": "2022-04-04T10:23:42.827Z"
   },
   {
    "duration": 0,
    "start_time": "2022-04-04T10:23:42.828Z"
   },
   {
    "duration": 0,
    "start_time": "2022-04-04T10:23:42.829Z"
   },
   {
    "duration": 0,
    "start_time": "2022-04-04T10:23:42.830Z"
   },
   {
    "duration": 0,
    "start_time": "2022-04-04T10:23:42.831Z"
   },
   {
    "duration": 0,
    "start_time": "2022-04-04T10:23:42.832Z"
   },
   {
    "duration": 0,
    "start_time": "2022-04-04T10:23:42.833Z"
   },
   {
    "duration": 8,
    "start_time": "2022-04-04T10:23:56.324Z"
   },
   {
    "duration": 472,
    "start_time": "2022-04-04T10:24:43.717Z"
   },
   {
    "duration": 31,
    "start_time": "2022-04-04T10:24:44.191Z"
   },
   {
    "duration": 14,
    "start_time": "2022-04-04T10:24:44.224Z"
   },
   {
    "duration": 3,
    "start_time": "2022-04-04T10:24:44.240Z"
   },
   {
    "duration": 19,
    "start_time": "2022-04-04T10:24:44.245Z"
   },
   {
    "duration": 5,
    "start_time": "2022-04-04T10:24:44.266Z"
   },
   {
    "duration": 18,
    "start_time": "2022-04-04T10:24:44.272Z"
   },
   {
    "duration": 16,
    "start_time": "2022-04-04T10:24:44.292Z"
   },
   {
    "duration": 449,
    "start_time": "2022-04-04T10:24:44.310Z"
   },
   {
    "duration": 13,
    "start_time": "2022-04-04T10:24:44.762Z"
   },
   {
    "duration": 8,
    "start_time": "2022-04-04T10:24:44.777Z"
   },
   {
    "duration": 9,
    "start_time": "2022-04-04T10:24:44.787Z"
   },
   {
    "duration": 7,
    "start_time": "2022-04-04T10:24:44.798Z"
   },
   {
    "duration": 818,
    "start_time": "2022-04-04T10:24:44.807Z"
   },
   {
    "duration": 5,
    "start_time": "2022-04-04T10:24:45.631Z"
   },
   {
    "duration": 16,
    "start_time": "2022-04-04T10:24:45.637Z"
   },
   {
    "duration": 18,
    "start_time": "2022-04-04T10:24:45.655Z"
   },
   {
    "duration": 1810,
    "start_time": "2022-04-04T10:24:45.674Z"
   },
   {
    "duration": 100,
    "start_time": "2022-04-04T10:24:47.486Z"
   },
   {
    "duration": 16,
    "start_time": "2022-04-04T10:24:47.588Z"
   },
   {
    "duration": 27,
    "start_time": "2022-04-04T10:24:47.606Z"
   },
   {
    "duration": 24,
    "start_time": "2022-04-04T10:24:47.634Z"
   },
   {
    "duration": 6,
    "start_time": "2022-04-04T10:24:47.660Z"
   },
   {
    "duration": 174,
    "start_time": "2022-04-04T10:24:47.668Z"
   },
   {
    "duration": 28,
    "start_time": "2022-04-04T10:24:47.844Z"
   },
   {
    "duration": 535,
    "start_time": "2022-04-04T10:24:47.874Z"
   },
   {
    "duration": 0,
    "start_time": "2022-04-04T10:24:48.411Z"
   },
   {
    "duration": 0,
    "start_time": "2022-04-04T10:24:48.413Z"
   },
   {
    "duration": 0,
    "start_time": "2022-04-04T10:24:48.414Z"
   },
   {
    "duration": 0,
    "start_time": "2022-04-04T10:24:48.415Z"
   },
   {
    "duration": 448,
    "start_time": "2022-04-04T10:25:28.171Z"
   },
   {
    "duration": 11,
    "start_time": "2022-04-04T10:26:01.501Z"
   },
   {
    "duration": 28,
    "start_time": "2022-04-04T10:26:31.654Z"
   },
   {
    "duration": 6,
    "start_time": "2022-04-04T10:34:54.412Z"
   },
   {
    "duration": 7,
    "start_time": "2022-04-04T10:35:01.378Z"
   },
   {
    "duration": 441,
    "start_time": "2022-04-04T10:35:12.768Z"
   },
   {
    "duration": 33,
    "start_time": "2022-04-04T10:35:13.211Z"
   },
   {
    "duration": 15,
    "start_time": "2022-04-04T10:35:13.246Z"
   },
   {
    "duration": 4,
    "start_time": "2022-04-04T10:35:13.264Z"
   },
   {
    "duration": 20,
    "start_time": "2022-04-04T10:35:13.270Z"
   },
   {
    "duration": 9,
    "start_time": "2022-04-04T10:35:13.292Z"
   },
   {
    "duration": 9,
    "start_time": "2022-04-04T10:35:13.303Z"
   },
   {
    "duration": 15,
    "start_time": "2022-04-04T10:35:13.332Z"
   },
   {
    "duration": 20,
    "start_time": "2022-04-04T10:35:13.349Z"
   },
   {
    "duration": 699,
    "start_time": "2022-04-04T10:35:13.372Z"
   },
   {
    "duration": 15,
    "start_time": "2022-04-04T10:35:14.073Z"
   },
   {
    "duration": 9,
    "start_time": "2022-04-04T10:35:14.090Z"
   },
   {
    "duration": 21,
    "start_time": "2022-04-04T10:35:14.101Z"
   },
   {
    "duration": 13,
    "start_time": "2022-04-04T10:35:14.131Z"
   },
   {
    "duration": 841,
    "start_time": "2022-04-04T10:35:14.145Z"
   },
   {
    "duration": 5,
    "start_time": "2022-04-04T10:35:14.988Z"
   },
   {
    "duration": 30,
    "start_time": "2022-04-04T10:35:14.995Z"
   },
   {
    "duration": 20,
    "start_time": "2022-04-04T10:35:15.028Z"
   },
   {
    "duration": 2649,
    "start_time": "2022-04-04T10:35:15.050Z"
   },
   {
    "duration": 103,
    "start_time": "2022-04-04T10:35:17.701Z"
   },
   {
    "duration": 15,
    "start_time": "2022-04-04T10:35:17.806Z"
   },
   {
    "duration": 16,
    "start_time": "2022-04-04T10:35:17.823Z"
   },
   {
    "duration": 39,
    "start_time": "2022-04-04T10:35:17.841Z"
   },
   {
    "duration": 7,
    "start_time": "2022-04-04T10:35:17.881Z"
   },
   {
    "duration": 188,
    "start_time": "2022-04-04T10:35:17.889Z"
   },
   {
    "duration": 29,
    "start_time": "2022-04-04T10:35:18.079Z"
   },
   {
    "duration": 22,
    "start_time": "2022-04-04T10:35:18.110Z"
   },
   {
    "duration": 11,
    "start_time": "2022-04-04T10:35:18.136Z"
   },
   {
    "duration": 13,
    "start_time": "2022-04-04T10:35:18.149Z"
   },
   {
    "duration": 21,
    "start_time": "2022-04-04T10:35:18.164Z"
   },
   {
    "duration": 16,
    "start_time": "2022-04-04T10:35:18.187Z"
   },
   {
    "duration": 457,
    "start_time": "2022-04-04T10:36:17.391Z"
   },
   {
    "duration": 32,
    "start_time": "2022-04-04T10:36:17.851Z"
   },
   {
    "duration": 15,
    "start_time": "2022-04-04T10:36:17.885Z"
   },
   {
    "duration": 22,
    "start_time": "2022-04-04T10:36:17.903Z"
   },
   {
    "duration": 31,
    "start_time": "2022-04-04T10:36:17.927Z"
   },
   {
    "duration": 8,
    "start_time": "2022-04-04T10:36:17.960Z"
   },
   {
    "duration": 17,
    "start_time": "2022-04-04T10:36:17.969Z"
   },
   {
    "duration": 17,
    "start_time": "2022-04-04T10:36:17.988Z"
   },
   {
    "duration": 23,
    "start_time": "2022-04-04T10:36:18.007Z"
   },
   {
    "duration": 2258,
    "start_time": "2022-04-04T10:36:18.033Z"
   },
   {
    "duration": 15,
    "start_time": "2022-04-04T10:36:20.292Z"
   },
   {
    "duration": 26,
    "start_time": "2022-04-04T10:36:20.309Z"
   },
   {
    "duration": 21,
    "start_time": "2022-04-04T10:36:20.337Z"
   },
   {
    "duration": 27,
    "start_time": "2022-04-04T10:36:20.360Z"
   },
   {
    "duration": 867,
    "start_time": "2022-04-04T10:36:20.389Z"
   },
   {
    "duration": 5,
    "start_time": "2022-04-04T10:36:21.258Z"
   },
   {
    "duration": 40,
    "start_time": "2022-04-04T10:36:21.265Z"
   },
   {
    "duration": 15,
    "start_time": "2022-04-04T10:36:21.307Z"
   },
   {
    "duration": 1852,
    "start_time": "2022-04-04T10:36:21.324Z"
   },
   {
    "duration": 104,
    "start_time": "2022-04-04T10:36:23.178Z"
   },
   {
    "duration": 15,
    "start_time": "2022-04-04T10:36:23.284Z"
   },
   {
    "duration": 22,
    "start_time": "2022-04-04T10:36:23.301Z"
   },
   {
    "duration": 36,
    "start_time": "2022-04-04T10:36:23.332Z"
   },
   {
    "duration": 12,
    "start_time": "2022-04-04T10:36:23.369Z"
   },
   {
    "duration": 171,
    "start_time": "2022-04-04T10:36:23.383Z"
   },
   {
    "duration": 28,
    "start_time": "2022-04-04T10:36:23.555Z"
   },
   {
    "duration": 716,
    "start_time": "2022-04-04T10:36:23.585Z"
   },
   {
    "duration": 0,
    "start_time": "2022-04-04T10:36:24.303Z"
   },
   {
    "duration": 0,
    "start_time": "2022-04-04T10:36:24.304Z"
   },
   {
    "duration": 0,
    "start_time": "2022-04-04T10:36:24.305Z"
   },
   {
    "duration": 1,
    "start_time": "2022-04-04T10:36:24.306Z"
   },
   {
    "duration": 499,
    "start_time": "2022-04-04T10:37:01.007Z"
   },
   {
    "duration": 33,
    "start_time": "2022-04-04T10:37:01.508Z"
   },
   {
    "duration": 15,
    "start_time": "2022-04-04T10:37:01.543Z"
   },
   {
    "duration": 4,
    "start_time": "2022-04-04T10:37:01.561Z"
   },
   {
    "duration": 39,
    "start_time": "2022-04-04T10:37:01.567Z"
   },
   {
    "duration": 5,
    "start_time": "2022-04-04T10:37:01.608Z"
   },
   {
    "duration": 32,
    "start_time": "2022-04-04T10:37:01.615Z"
   },
   {
    "duration": 24,
    "start_time": "2022-04-04T10:37:01.649Z"
   },
   {
    "duration": 464,
    "start_time": "2022-04-04T10:37:01.676Z"
   },
   {
    "duration": 14,
    "start_time": "2022-04-04T10:37:02.143Z"
   },
   {
    "duration": 19,
    "start_time": "2022-04-04T10:37:02.159Z"
   },
   {
    "duration": 17,
    "start_time": "2022-04-04T10:37:02.179Z"
   },
   {
    "duration": 15,
    "start_time": "2022-04-04T10:37:02.198Z"
   },
   {
    "duration": 851,
    "start_time": "2022-04-04T10:37:02.215Z"
   },
   {
    "duration": 5,
    "start_time": "2022-04-04T10:37:03.068Z"
   },
   {
    "duration": 23,
    "start_time": "2022-04-04T10:37:03.074Z"
   },
   {
    "duration": 35,
    "start_time": "2022-04-04T10:37:03.099Z"
   },
   {
    "duration": 1866,
    "start_time": "2022-04-04T10:37:03.135Z"
   },
   {
    "duration": 106,
    "start_time": "2022-04-04T10:37:05.003Z"
   },
   {
    "duration": 27,
    "start_time": "2022-04-04T10:37:05.110Z"
   },
   {
    "duration": 18,
    "start_time": "2022-04-04T10:37:05.139Z"
   },
   {
    "duration": 37,
    "start_time": "2022-04-04T10:37:05.159Z"
   },
   {
    "duration": 7,
    "start_time": "2022-04-04T10:37:05.197Z"
   },
   {
    "duration": 182,
    "start_time": "2022-04-04T10:37:05.206Z"
   },
   {
    "duration": 41,
    "start_time": "2022-04-04T10:37:05.390Z"
   },
   {
    "duration": 6,
    "start_time": "2022-04-04T10:37:05.433Z"
   },
   {
    "duration": 22,
    "start_time": "2022-04-04T10:37:05.441Z"
   },
   {
    "duration": 14,
    "start_time": "2022-04-04T10:37:05.467Z"
   },
   {
    "duration": 23,
    "start_time": "2022-04-04T10:37:05.483Z"
   },
   {
    "duration": 31,
    "start_time": "2022-04-04T10:37:05.509Z"
   },
   {
    "duration": 169,
    "start_time": "2022-04-04T10:37:49.937Z"
   },
   {
    "duration": 2387,
    "start_time": "2022-04-04T11:44:59.067Z"
   },
   {
    "duration": 426,
    "start_time": "2022-04-04T11:45:07.390Z"
   },
   {
    "duration": 33,
    "start_time": "2022-04-04T11:45:07.818Z"
   },
   {
    "duration": 13,
    "start_time": "2022-04-04T11:45:07.853Z"
   },
   {
    "duration": 3,
    "start_time": "2022-04-04T11:45:07.869Z"
   },
   {
    "duration": 26,
    "start_time": "2022-04-04T11:45:07.873Z"
   },
   {
    "duration": 5,
    "start_time": "2022-04-04T11:45:07.900Z"
   },
   {
    "duration": 35,
    "start_time": "2022-04-04T11:45:07.907Z"
   },
   {
    "duration": 17,
    "start_time": "2022-04-04T11:45:07.943Z"
   },
   {
    "duration": 491,
    "start_time": "2022-04-04T11:45:07.962Z"
   },
   {
    "duration": 14,
    "start_time": "2022-04-04T11:45:08.456Z"
   },
   {
    "duration": 18,
    "start_time": "2022-04-04T11:45:08.471Z"
   },
   {
    "duration": 10,
    "start_time": "2022-04-04T11:45:08.491Z"
   },
   {
    "duration": 12,
    "start_time": "2022-04-04T11:45:08.503Z"
   },
   {
    "duration": 848,
    "start_time": "2022-04-04T11:45:08.516Z"
   },
   {
    "duration": 5,
    "start_time": "2022-04-04T11:45:09.366Z"
   },
   {
    "duration": 23,
    "start_time": "2022-04-04T11:45:09.373Z"
   },
   {
    "duration": 17,
    "start_time": "2022-04-04T11:45:09.398Z"
   },
   {
    "duration": 1826,
    "start_time": "2022-04-04T11:45:09.416Z"
   },
   {
    "duration": 102,
    "start_time": "2022-04-04T11:45:11.244Z"
   },
   {
    "duration": 17,
    "start_time": "2022-04-04T11:45:11.348Z"
   },
   {
    "duration": 12,
    "start_time": "2022-04-04T11:45:11.366Z"
   },
   {
    "duration": 29,
    "start_time": "2022-04-04T11:45:11.380Z"
   },
   {
    "duration": 8,
    "start_time": "2022-04-04T11:45:11.432Z"
   },
   {
    "duration": 169,
    "start_time": "2022-04-04T11:45:11.441Z"
   },
   {
    "duration": 39,
    "start_time": "2022-04-04T11:45:11.612Z"
   },
   {
    "duration": 15,
    "start_time": "2022-04-04T11:45:11.653Z"
   },
   {
    "duration": 182,
    "start_time": "2022-04-04T11:45:11.669Z"
   },
   {
    "duration": 13,
    "start_time": "2022-04-04T11:45:11.855Z"
   },
   {
    "duration": 2410,
    "start_time": "2022-04-04T11:45:11.870Z"
   },
   {
    "duration": 0,
    "start_time": "2022-04-04T11:45:14.282Z"
   },
   {
    "duration": 0,
    "start_time": "2022-04-04T11:45:14.284Z"
   },
   {
    "duration": 14,
    "start_time": "2022-04-04T11:45:28.673Z"
   },
   {
    "duration": 13,
    "start_time": "2022-04-04T11:45:31.593Z"
   },
   {
    "duration": 13,
    "start_time": "2022-04-04T11:45:31.921Z"
   },
   {
    "duration": 147,
    "start_time": "2022-04-04T11:47:11.986Z"
   },
   {
    "duration": 4,
    "start_time": "2022-04-04T11:50:19.169Z"
   },
   {
    "duration": 15,
    "start_time": "2022-04-04T11:50:39.681Z"
   },
   {
    "duration": 2171,
    "start_time": "2022-04-04T11:51:37.102Z"
   },
   {
    "duration": 19,
    "start_time": "2022-04-04T11:52:07.389Z"
   },
   {
    "duration": 21,
    "start_time": "2022-04-04T11:52:18.113Z"
   },
   {
    "duration": 2291,
    "start_time": "2022-04-04T11:52:37.090Z"
   },
   {
    "duration": 20,
    "start_time": "2022-04-04T11:52:52.897Z"
   },
   {
    "duration": 22,
    "start_time": "2022-04-04T11:53:18.885Z"
   },
   {
    "duration": 19,
    "start_time": "2022-04-04T11:53:26.557Z"
   },
   {
    "duration": 19,
    "start_time": "2022-04-04T11:53:53.039Z"
   },
   {
    "duration": 16,
    "start_time": "2022-04-04T11:54:50.287Z"
   },
   {
    "duration": 16,
    "start_time": "2022-04-04T11:55:17.831Z"
   },
   {
    "duration": 13,
    "start_time": "2022-04-04T11:55:20.199Z"
   },
   {
    "duration": 22,
    "start_time": "2022-04-04T11:55:56.585Z"
   },
   {
    "duration": 23,
    "start_time": "2022-04-04T11:56:07.419Z"
   },
   {
    "duration": 14,
    "start_time": "2022-04-04T11:56:58.361Z"
   },
   {
    "duration": 14,
    "start_time": "2022-04-04T11:57:02.777Z"
   },
   {
    "duration": 17,
    "start_time": "2022-04-04T11:57:03.517Z"
   },
   {
    "duration": 16,
    "start_time": "2022-04-04T11:57:27.267Z"
   },
   {
    "duration": 12,
    "start_time": "2022-04-04T11:57:29.161Z"
   },
   {
    "duration": 12,
    "start_time": "2022-04-04T11:58:23.210Z"
   },
   {
    "duration": 16,
    "start_time": "2022-04-04T11:58:24.885Z"
   },
   {
    "duration": 12,
    "start_time": "2022-04-04T11:58:27.684Z"
   },
   {
    "duration": 13,
    "start_time": "2022-04-04T11:58:41.239Z"
   },
   {
    "duration": 16,
    "start_time": "2022-04-04T11:58:43.631Z"
   },
   {
    "duration": 12,
    "start_time": "2022-04-04T12:01:47.947Z"
   },
   {
    "duration": 15,
    "start_time": "2022-04-04T12:01:48.844Z"
   },
   {
    "duration": 8,
    "start_time": "2022-04-04T12:03:51.207Z"
   },
   {
    "duration": 16,
    "start_time": "2022-04-04T12:03:57.020Z"
   },
   {
    "duration": 16,
    "start_time": "2022-04-04T12:09:36.959Z"
   },
   {
    "duration": 28,
    "start_time": "2022-04-04T12:11:44.717Z"
   },
   {
    "duration": 20,
    "start_time": "2022-04-04T12:12:13.889Z"
   },
   {
    "duration": 20,
    "start_time": "2022-04-04T12:12:19.125Z"
   },
   {
    "duration": 20,
    "start_time": "2022-04-04T12:12:46.759Z"
   },
   {
    "duration": 19,
    "start_time": "2022-04-04T12:12:53.361Z"
   },
   {
    "duration": 18,
    "start_time": "2022-04-04T12:13:57.894Z"
   },
   {
    "duration": 23,
    "start_time": "2022-04-04T12:14:02.438Z"
   },
   {
    "duration": 23,
    "start_time": "2022-04-04T12:14:12.733Z"
   },
   {
    "duration": 13,
    "start_time": "2022-04-04T12:14:39.957Z"
   },
   {
    "duration": 13,
    "start_time": "2022-04-04T12:14:40.468Z"
   },
   {
    "duration": 12,
    "start_time": "2022-04-04T12:14:40.926Z"
   },
   {
    "duration": 12,
    "start_time": "2022-04-04T12:14:44.305Z"
   },
   {
    "duration": 18,
    "start_time": "2022-04-04T12:15:42.674Z"
   },
   {
    "duration": 18,
    "start_time": "2022-04-04T12:15:45.513Z"
   },
   {
    "duration": 13,
    "start_time": "2022-04-04T12:16:19.145Z"
   },
   {
    "duration": 167,
    "start_time": "2022-04-04T12:23:36.634Z"
   },
   {
    "duration": 169,
    "start_time": "2022-04-04T12:23:44.978Z"
   },
   {
    "duration": 162,
    "start_time": "2022-04-04T12:24:29.818Z"
   },
   {
    "duration": 436,
    "start_time": "2022-04-04T12:24:39.678Z"
   },
   {
    "duration": 32,
    "start_time": "2022-04-04T12:24:40.116Z"
   },
   {
    "duration": 30,
    "start_time": "2022-04-04T12:24:40.150Z"
   },
   {
    "duration": 22,
    "start_time": "2022-04-04T12:24:40.182Z"
   },
   {
    "duration": 45,
    "start_time": "2022-04-04T12:24:40.206Z"
   },
   {
    "duration": 22,
    "start_time": "2022-04-04T12:24:40.253Z"
   },
   {
    "duration": 38,
    "start_time": "2022-04-04T12:24:40.277Z"
   },
   {
    "duration": 45,
    "start_time": "2022-04-04T12:24:40.317Z"
   },
   {
    "duration": 462,
    "start_time": "2022-04-04T12:24:40.364Z"
   },
   {
    "duration": 13,
    "start_time": "2022-04-04T12:24:40.831Z"
   },
   {
    "duration": 29,
    "start_time": "2022-04-04T12:24:40.846Z"
   },
   {
    "duration": 36,
    "start_time": "2022-04-04T12:24:40.876Z"
   },
   {
    "duration": 27,
    "start_time": "2022-04-04T12:24:40.913Z"
   },
   {
    "duration": 836,
    "start_time": "2022-04-04T12:24:40.942Z"
   },
   {
    "duration": 5,
    "start_time": "2022-04-04T12:24:41.779Z"
   },
   {
    "duration": 32,
    "start_time": "2022-04-04T12:24:41.786Z"
   },
   {
    "duration": 22,
    "start_time": "2022-04-04T12:24:41.820Z"
   },
   {
    "duration": 2653,
    "start_time": "2022-04-04T12:24:41.844Z"
   },
   {
    "duration": 105,
    "start_time": "2022-04-04T12:24:44.498Z"
   },
   {
    "duration": 27,
    "start_time": "2022-04-04T12:24:44.605Z"
   },
   {
    "duration": 14,
    "start_time": "2022-04-04T12:24:44.634Z"
   },
   {
    "duration": 32,
    "start_time": "2022-04-04T12:24:44.649Z"
   },
   {
    "duration": 7,
    "start_time": "2022-04-04T12:24:44.683Z"
   },
   {
    "duration": 165,
    "start_time": "2022-04-04T12:24:44.691Z"
   },
   {
    "duration": 27,
    "start_time": "2022-04-04T12:24:44.858Z"
   },
   {
    "duration": 6,
    "start_time": "2022-04-04T12:24:44.887Z"
   },
   {
    "duration": 194,
    "start_time": "2022-04-04T12:24:44.895Z"
   },
   {
    "duration": 14,
    "start_time": "2022-04-04T12:24:45.094Z"
   },
   {
    "duration": 32,
    "start_time": "2022-04-04T12:24:45.110Z"
   },
   {
    "duration": 12,
    "start_time": "2022-04-04T12:24:45.144Z"
   },
   {
    "duration": 27,
    "start_time": "2022-04-04T12:24:45.158Z"
   },
   {
    "duration": 14,
    "start_time": "2022-04-04T12:24:45.187Z"
   },
   {
    "duration": 41,
    "start_time": "2022-04-04T12:24:45.203Z"
   },
   {
    "duration": 14,
    "start_time": "2022-04-04T12:24:45.247Z"
   },
   {
    "duration": 19,
    "start_time": "2022-04-04T12:24:45.263Z"
   },
   {
    "duration": 12,
    "start_time": "2022-04-04T12:24:45.284Z"
   },
   {
    "duration": 49,
    "start_time": "2022-04-04T12:24:45.297Z"
   },
   {
    "duration": 15,
    "start_time": "2022-04-04T12:24:45.347Z"
   },
   {
    "duration": 17,
    "start_time": "2022-04-04T12:24:45.364Z"
   },
   {
    "duration": 10,
    "start_time": "2022-04-04T12:25:40.211Z"
   },
   {
    "duration": 14,
    "start_time": "2022-04-04T12:26:52.292Z"
   },
   {
    "duration": 8,
    "start_time": "2022-04-04T12:26:54.123Z"
   },
   {
    "duration": 158,
    "start_time": "2022-04-04T12:26:56.518Z"
   },
   {
    "duration": 427,
    "start_time": "2022-04-04T12:27:04.475Z"
   },
   {
    "duration": 34,
    "start_time": "2022-04-04T12:27:04.904Z"
   },
   {
    "duration": 18,
    "start_time": "2022-04-04T12:27:04.940Z"
   },
   {
    "duration": 26,
    "start_time": "2022-04-04T12:27:04.961Z"
   },
   {
    "duration": 75,
    "start_time": "2022-04-04T12:27:04.989Z"
   },
   {
    "duration": 11,
    "start_time": "2022-04-04T12:27:05.067Z"
   },
   {
    "duration": 44,
    "start_time": "2022-04-04T12:27:05.080Z"
   },
   {
    "duration": 30,
    "start_time": "2022-04-04T12:27:05.126Z"
   },
   {
    "duration": 26,
    "start_time": "2022-04-04T12:27:05.158Z"
   },
   {
    "duration": 492,
    "start_time": "2022-04-04T12:27:05.187Z"
   },
   {
    "duration": 15,
    "start_time": "2022-04-04T12:27:05.682Z"
   },
   {
    "duration": 43,
    "start_time": "2022-04-04T12:27:05.699Z"
   },
   {
    "duration": 22,
    "start_time": "2022-04-04T12:27:05.744Z"
   },
   {
    "duration": 18,
    "start_time": "2022-04-04T12:27:05.768Z"
   },
   {
    "duration": 863,
    "start_time": "2022-04-04T12:27:05.788Z"
   },
   {
    "duration": 6,
    "start_time": "2022-04-04T12:27:06.652Z"
   },
   {
    "duration": 45,
    "start_time": "2022-04-04T12:27:06.659Z"
   },
   {
    "duration": 30,
    "start_time": "2022-04-04T12:27:06.706Z"
   },
   {
    "duration": 1997,
    "start_time": "2022-04-04T12:27:06.737Z"
   },
   {
    "duration": 207,
    "start_time": "2022-04-04T12:27:08.736Z"
   },
   {
    "duration": 16,
    "start_time": "2022-04-04T12:27:08.944Z"
   },
   {
    "duration": 71,
    "start_time": "2022-04-04T12:27:08.962Z"
   },
   {
    "duration": 26,
    "start_time": "2022-04-04T12:27:09.035Z"
   },
   {
    "duration": 7,
    "start_time": "2022-04-04T12:27:09.063Z"
   },
   {
    "duration": 362,
    "start_time": "2022-04-04T12:27:09.072Z"
   },
   {
    "duration": 26,
    "start_time": "2022-04-04T12:27:09.436Z"
   },
   {
    "duration": 5,
    "start_time": "2022-04-04T12:27:09.464Z"
   },
   {
    "duration": 369,
    "start_time": "2022-04-04T12:27:09.472Z"
   },
   {
    "duration": 12,
    "start_time": "2022-04-04T12:27:09.843Z"
   },
   {
    "duration": 14,
    "start_time": "2022-04-04T12:27:09.857Z"
   },
   {
    "duration": 64,
    "start_time": "2022-04-04T12:27:09.873Z"
   },
   {
    "duration": 17,
    "start_time": "2022-04-04T12:27:09.938Z"
   },
   {
    "duration": 14,
    "start_time": "2022-04-04T12:27:09.957Z"
   },
   {
    "duration": 75,
    "start_time": "2022-04-04T12:27:09.972Z"
   },
   {
    "duration": 19,
    "start_time": "2022-04-04T12:27:10.049Z"
   },
   {
    "duration": 70,
    "start_time": "2022-04-04T12:27:10.070Z"
   },
   {
    "duration": 16,
    "start_time": "2022-04-04T12:27:10.142Z"
   },
   {
    "duration": 18,
    "start_time": "2022-04-04T12:27:10.159Z"
   },
   {
    "duration": 26,
    "start_time": "2022-04-04T12:27:10.178Z"
   },
   {
    "duration": 16,
    "start_time": "2022-04-04T12:27:10.206Z"
   },
   {
    "duration": 150,
    "start_time": "2022-04-04T12:27:29.173Z"
   },
   {
    "duration": 4,
    "start_time": "2022-04-04T12:29:15.651Z"
   },
   {
    "duration": 21,
    "start_time": "2022-04-04T12:29:56.624Z"
   },
   {
    "duration": 3,
    "start_time": "2022-04-04T12:39:55.135Z"
   },
   {
    "duration": 565,
    "start_time": "2022-04-04T12:40:47.076Z"
   },
   {
    "duration": 5,
    "start_time": "2022-04-04T12:40:53.019Z"
   },
   {
    "duration": 5,
    "start_time": "2022-04-04T12:40:53.614Z"
   },
   {
    "duration": 5,
    "start_time": "2022-04-04T12:40:57.963Z"
   },
   {
    "duration": 5,
    "start_time": "2022-04-04T12:40:59.908Z"
   },
   {
    "duration": 6,
    "start_time": "2022-04-04T12:43:06.526Z"
   },
   {
    "duration": 10,
    "start_time": "2022-04-04T12:43:45.068Z"
   },
   {
    "duration": 5,
    "start_time": "2022-04-04T12:43:47.743Z"
   },
   {
    "duration": 5,
    "start_time": "2022-04-04T12:43:48.208Z"
   },
   {
    "duration": 5,
    "start_time": "2022-04-04T12:45:27.723Z"
   },
   {
    "duration": 6,
    "start_time": "2022-04-04T12:46:41.899Z"
   },
   {
    "duration": 5,
    "start_time": "2022-04-04T12:46:45.742Z"
   },
   {
    "duration": 5,
    "start_time": "2022-04-04T12:46:48.850Z"
   },
   {
    "duration": 152,
    "start_time": "2022-04-04T12:47:29.457Z"
   },
   {
    "duration": 15,
    "start_time": "2022-04-04T12:47:56.039Z"
   },
   {
    "duration": 564,
    "start_time": "2022-04-05T07:59:04.145Z"
   },
   {
    "duration": 29,
    "start_time": "2022-04-05T07:59:04.712Z"
   },
   {
    "duration": 20,
    "start_time": "2022-04-05T07:59:04.743Z"
   },
   {
    "duration": 5,
    "start_time": "2022-04-05T07:59:04.783Z"
   },
   {
    "duration": 31,
    "start_time": "2022-04-05T07:59:04.790Z"
   },
   {
    "duration": 5,
    "start_time": "2022-04-05T07:59:04.823Z"
   },
   {
    "duration": 51,
    "start_time": "2022-04-05T07:59:04.831Z"
   },
   {
    "duration": 22,
    "start_time": "2022-04-05T07:59:04.884Z"
   },
   {
    "duration": 777,
    "start_time": "2022-04-05T07:59:04.908Z"
   },
   {
    "duration": 20,
    "start_time": "2022-04-05T07:59:05.689Z"
   },
   {
    "duration": 13,
    "start_time": "2022-04-05T07:59:05.711Z"
   },
   {
    "duration": 8,
    "start_time": "2022-04-05T07:59:05.726Z"
   },
   {
    "duration": 703,
    "start_time": "2022-04-05T07:59:05.736Z"
   },
   {
    "duration": 6,
    "start_time": "2022-04-05T07:59:06.441Z"
   },
   {
    "duration": 33,
    "start_time": "2022-04-05T07:59:06.449Z"
   },
   {
    "duration": 12,
    "start_time": "2022-04-05T07:59:06.484Z"
   },
   {
    "duration": 3487,
    "start_time": "2022-04-05T07:59:06.498Z"
   },
   {
    "duration": 295,
    "start_time": "2022-04-05T07:59:09.987Z"
   },
   {
    "duration": 22,
    "start_time": "2022-04-05T07:59:10.285Z"
   },
   {
    "duration": 74,
    "start_time": "2022-04-05T07:59:10.310Z"
   },
   {
    "duration": 102,
    "start_time": "2022-04-05T07:59:10.386Z"
   },
   {
    "duration": 9,
    "start_time": "2022-04-05T07:59:10.490Z"
   },
   {
    "duration": 347,
    "start_time": "2022-04-05T07:59:10.500Z"
   },
   {
    "duration": 43,
    "start_time": "2022-04-05T07:59:10.849Z"
   },
   {
    "duration": 7,
    "start_time": "2022-04-05T07:59:10.895Z"
   },
   {
    "duration": 247,
    "start_time": "2022-04-05T07:59:10.904Z"
   },
   {
    "duration": 34,
    "start_time": "2022-04-05T07:59:11.153Z"
   },
   {
    "duration": 30,
    "start_time": "2022-04-05T07:59:11.192Z"
   },
   {
    "duration": 26,
    "start_time": "2022-04-05T07:59:11.224Z"
   },
   {
    "duration": 35,
    "start_time": "2022-04-05T07:59:11.252Z"
   },
   {
    "duration": 57,
    "start_time": "2022-04-05T07:59:11.290Z"
   },
   {
    "duration": 51,
    "start_time": "2022-04-05T07:59:11.349Z"
   },
   {
    "duration": 30,
    "start_time": "2022-04-05T07:59:11.402Z"
   },
   {
    "duration": 48,
    "start_time": "2022-04-05T07:59:11.434Z"
   },
   {
    "duration": 41,
    "start_time": "2022-04-05T07:59:11.484Z"
   },
   {
    "duration": 29,
    "start_time": "2022-04-05T07:59:11.527Z"
   },
   {
    "duration": 51,
    "start_time": "2022-04-05T07:59:11.558Z"
   },
   {
    "duration": 19,
    "start_time": "2022-04-05T07:59:11.612Z"
   },
   {
    "duration": 40,
    "start_time": "2022-04-05T07:59:11.633Z"
   },
   {
    "duration": 6,
    "start_time": "2022-04-05T07:59:11.676Z"
   },
   {
    "duration": 478,
    "start_time": "2022-04-05T07:59:11.684Z"
   },
   {
    "duration": 7,
    "start_time": "2022-04-05T07:59:12.164Z"
   },
   {
    "duration": 15,
    "start_time": "2022-04-05T07:59:12.173Z"
   },
   {
    "duration": 1668,
    "start_time": "2022-04-05T08:01:53.344Z"
   },
   {
    "duration": 16,
    "start_time": "2022-04-05T08:03:21.742Z"
   },
   {
    "duration": 15,
    "start_time": "2022-04-05T08:03:22.239Z"
   },
   {
    "duration": 535,
    "start_time": "2022-04-05T08:15:14.598Z"
   },
   {
    "duration": 33,
    "start_time": "2022-04-05T08:15:15.136Z"
   },
   {
    "duration": 28,
    "start_time": "2022-04-05T08:15:15.172Z"
   },
   {
    "duration": 4,
    "start_time": "2022-04-05T08:15:15.203Z"
   },
   {
    "duration": 38,
    "start_time": "2022-04-05T08:15:15.210Z"
   },
   {
    "duration": 6,
    "start_time": "2022-04-05T08:15:15.250Z"
   },
   {
    "duration": 21,
    "start_time": "2022-04-05T08:15:15.284Z"
   },
   {
    "duration": 18,
    "start_time": "2022-04-05T08:15:15.307Z"
   },
   {
    "duration": 592,
    "start_time": "2022-04-05T08:15:15.327Z"
   },
   {
    "duration": 18,
    "start_time": "2022-04-05T08:15:15.921Z"
   },
   {
    "duration": 13,
    "start_time": "2022-04-05T08:15:15.941Z"
   },
   {
    "duration": 28,
    "start_time": "2022-04-05T08:15:15.956Z"
   },
   {
    "duration": 641,
    "start_time": "2022-04-05T08:15:15.986Z"
   },
   {
    "duration": 6,
    "start_time": "2022-04-05T08:15:16.632Z"
   },
   {
    "duration": 17,
    "start_time": "2022-04-05T08:15:16.641Z"
   },
   {
    "duration": 29,
    "start_time": "2022-04-05T08:15:16.660Z"
   },
   {
    "duration": 1087,
    "start_time": "2022-04-05T08:15:16.692Z"
   },
   {
    "duration": 155,
    "start_time": "2022-04-05T08:15:17.783Z"
   },
   {
    "duration": 16,
    "start_time": "2022-04-05T08:15:17.940Z"
   },
   {
    "duration": 30,
    "start_time": "2022-04-05T08:15:17.958Z"
   },
   {
    "duration": 34,
    "start_time": "2022-04-05T08:15:17.990Z"
   },
   {
    "duration": 9,
    "start_time": "2022-04-05T08:15:18.026Z"
   },
   {
    "duration": 228,
    "start_time": "2022-04-05T08:15:18.037Z"
   },
   {
    "duration": 42,
    "start_time": "2022-04-05T08:15:18.267Z"
   },
   {
    "duration": 7,
    "start_time": "2022-04-05T08:15:18.311Z"
   },
   {
    "duration": 243,
    "start_time": "2022-04-05T08:15:18.320Z"
   },
   {
    "duration": 27,
    "start_time": "2022-04-05T08:15:18.565Z"
   },
   {
    "duration": 18,
    "start_time": "2022-04-05T08:15:18.594Z"
   },
   {
    "duration": 9,
    "start_time": "2022-04-05T08:15:18.614Z"
   },
   {
    "duration": 57,
    "start_time": "2022-04-05T08:15:18.625Z"
   },
   {
    "duration": 20,
    "start_time": "2022-04-05T08:15:18.684Z"
   },
   {
    "duration": 23,
    "start_time": "2022-04-05T08:15:18.706Z"
   },
   {
    "duration": 20,
    "start_time": "2022-04-05T08:15:18.731Z"
   },
   {
    "duration": 22,
    "start_time": "2022-04-05T08:15:18.782Z"
   },
   {
    "duration": 15,
    "start_time": "2022-04-05T08:15:18.806Z"
   },
   {
    "duration": 28,
    "start_time": "2022-04-05T08:15:18.823Z"
   },
   {
    "duration": 38,
    "start_time": "2022-04-05T08:15:18.853Z"
   },
   {
    "duration": 24,
    "start_time": "2022-04-05T08:15:18.894Z"
   },
   {
    "duration": 28,
    "start_time": "2022-04-05T08:15:18.920Z"
   },
   {
    "duration": 32,
    "start_time": "2022-04-05T08:15:18.950Z"
   },
   {
    "duration": 533,
    "start_time": "2022-04-05T08:15:18.988Z"
   },
   {
    "duration": 7,
    "start_time": "2022-04-05T08:15:19.524Z"
   },
   {
    "duration": 20,
    "start_time": "2022-04-05T08:15:19.533Z"
   },
   {
    "duration": 62,
    "start_time": "2022-04-15T09:10:28.243Z"
   },
   {
    "duration": 1109,
    "start_time": "2022-04-15T09:10:38.957Z"
   },
   {
    "duration": 25,
    "start_time": "2022-04-15T09:10:40.069Z"
   },
   {
    "duration": 17,
    "start_time": "2022-04-15T09:10:40.097Z"
   },
   {
    "duration": 5,
    "start_time": "2022-04-15T09:10:40.133Z"
   },
   {
    "duration": 28,
    "start_time": "2022-04-15T09:10:40.140Z"
   },
   {
    "duration": 6,
    "start_time": "2022-04-15T09:10:40.170Z"
   },
   {
    "duration": 19,
    "start_time": "2022-04-15T09:10:40.178Z"
   },
   {
    "duration": 50,
    "start_time": "2022-04-15T09:10:40.199Z"
   },
   {
    "duration": 17,
    "start_time": "2022-04-15T09:10:40.251Z"
   },
   {
    "duration": 668,
    "start_time": "2022-04-15T09:10:40.271Z"
   },
   {
    "duration": 16,
    "start_time": "2022-04-15T09:10:40.942Z"
   },
   {
    "duration": 10,
    "start_time": "2022-04-15T09:10:40.960Z"
   },
   {
    "duration": 9,
    "start_time": "2022-04-15T09:10:40.972Z"
   },
   {
    "duration": 558,
    "start_time": "2022-04-15T09:10:40.983Z"
   },
   {
    "duration": 6,
    "start_time": "2022-04-15T09:10:41.542Z"
   },
   {
    "duration": 22,
    "start_time": "2022-04-15T09:10:41.549Z"
   },
   {
    "duration": 13,
    "start_time": "2022-04-15T09:10:41.573Z"
   },
   {
    "duration": 795,
    "start_time": "2022-04-15T09:10:41.588Z"
   },
   {
    "duration": 110,
    "start_time": "2022-04-15T09:10:42.385Z"
   },
   {
    "duration": 13,
    "start_time": "2022-04-15T09:10:42.497Z"
   },
   {
    "duration": 34,
    "start_time": "2022-04-15T09:10:42.512Z"
   },
   {
    "duration": 32,
    "start_time": "2022-04-15T09:10:42.548Z"
   },
   {
    "duration": 7,
    "start_time": "2022-04-15T09:10:42.582Z"
   },
   {
    "duration": 164,
    "start_time": "2022-04-15T09:10:42.591Z"
   },
   {
    "duration": 27,
    "start_time": "2022-04-15T09:10:42.757Z"
   },
   {
    "duration": 6,
    "start_time": "2022-04-15T09:10:42.786Z"
   },
   {
    "duration": 192,
    "start_time": "2022-04-15T09:10:42.794Z"
   },
   {
    "duration": 13,
    "start_time": "2022-04-15T09:10:42.990Z"
   },
   {
    "duration": 15,
    "start_time": "2022-04-15T09:10:43.005Z"
   },
   {
    "duration": 7,
    "start_time": "2022-04-15T09:10:43.035Z"
   },
   {
    "duration": 23,
    "start_time": "2022-04-15T09:10:43.044Z"
   },
   {
    "duration": 20,
    "start_time": "2022-04-15T09:10:43.068Z"
   },
   {
    "duration": 22,
    "start_time": "2022-04-15T09:10:43.089Z"
   },
   {
    "duration": 36,
    "start_time": "2022-04-15T09:10:43.112Z"
   },
   {
    "duration": 20,
    "start_time": "2022-04-15T09:10:43.150Z"
   },
   {
    "duration": 14,
    "start_time": "2022-04-15T09:10:43.172Z"
   },
   {
    "duration": 13,
    "start_time": "2022-04-15T09:10:43.188Z"
   },
   {
    "duration": 46,
    "start_time": "2022-04-15T09:10:43.203Z"
   },
   {
    "duration": 17,
    "start_time": "2022-04-15T09:10:43.251Z"
   },
   {
    "duration": 23,
    "start_time": "2022-04-15T09:10:43.270Z"
   },
   {
    "duration": 7,
    "start_time": "2022-04-15T09:10:43.295Z"
   },
   {
    "duration": 515,
    "start_time": "2022-04-15T09:10:43.304Z"
   },
   {
    "duration": 5,
    "start_time": "2022-04-15T09:10:43.821Z"
   },
   {
    "duration": 6,
    "start_time": "2022-04-15T09:10:43.834Z"
   },
   {
    "duration": 111,
    "start_time": "2022-04-15T11:04:47.946Z"
   },
   {
    "duration": 185,
    "start_time": "2022-04-15T11:05:02.361Z"
   },
   {
    "duration": 14,
    "start_time": "2022-04-15T11:07:03.098Z"
   },
   {
    "duration": 474,
    "start_time": "2022-04-15T11:58:47.655Z"
   },
   {
    "duration": 23,
    "start_time": "2022-04-15T11:58:48.131Z"
   },
   {
    "duration": 18,
    "start_time": "2022-04-15T11:58:48.155Z"
   },
   {
    "duration": 4,
    "start_time": "2022-04-15T11:58:48.175Z"
   },
   {
    "duration": 30,
    "start_time": "2022-04-15T11:58:48.181Z"
   },
   {
    "duration": 20,
    "start_time": "2022-04-15T11:58:48.213Z"
   },
   {
    "duration": 16,
    "start_time": "2022-04-15T11:58:48.235Z"
   },
   {
    "duration": 19,
    "start_time": "2022-04-15T11:58:48.253Z"
   },
   {
    "duration": 19,
    "start_time": "2022-04-15T11:58:48.274Z"
   },
   {
    "duration": 491,
    "start_time": "2022-04-15T11:58:48.296Z"
   },
   {
    "duration": 13,
    "start_time": "2022-04-15T11:58:48.790Z"
   },
   {
    "duration": 9,
    "start_time": "2022-04-15T11:58:48.805Z"
   },
   {
    "duration": 23,
    "start_time": "2022-04-15T11:58:48.816Z"
   },
   {
    "duration": 483,
    "start_time": "2022-04-15T11:58:48.841Z"
   },
   {
    "duration": 12,
    "start_time": "2022-04-15T11:58:49.325Z"
   },
   {
    "duration": 14,
    "start_time": "2022-04-15T11:58:49.339Z"
   },
   {
    "duration": 11,
    "start_time": "2022-04-15T11:58:49.355Z"
   },
   {
    "duration": 867,
    "start_time": "2022-04-15T11:58:49.368Z"
   },
   {
    "duration": 112,
    "start_time": "2022-04-15T11:58:50.237Z"
   },
   {
    "duration": 13,
    "start_time": "2022-04-15T11:58:50.351Z"
   },
   {
    "duration": 14,
    "start_time": "2022-04-15T11:58:50.366Z"
   },
   {
    "duration": 26,
    "start_time": "2022-04-15T11:58:50.383Z"
   },
   {
    "duration": 9,
    "start_time": "2022-04-15T11:58:50.433Z"
   },
   {
    "duration": 181,
    "start_time": "2022-04-15T11:58:50.444Z"
   },
   {
    "duration": 30,
    "start_time": "2022-04-15T11:58:50.627Z"
   },
   {
    "duration": 7,
    "start_time": "2022-04-15T11:58:50.659Z"
   },
   {
    "duration": 197,
    "start_time": "2022-04-15T11:58:50.667Z"
   },
   {
    "duration": 14,
    "start_time": "2022-04-15T11:58:50.868Z"
   },
   {
    "duration": 15,
    "start_time": "2022-04-15T11:58:50.884Z"
   },
   {
    "duration": 34,
    "start_time": "2022-04-15T11:58:50.901Z"
   },
   {
    "duration": 18,
    "start_time": "2022-04-15T11:58:50.937Z"
   },
   {
    "duration": 18,
    "start_time": "2022-04-15T11:58:50.957Z"
   },
   {
    "duration": 29,
    "start_time": "2022-04-15T11:58:50.977Z"
   },
   {
    "duration": 37,
    "start_time": "2022-04-15T11:58:51.008Z"
   },
   {
    "duration": 21,
    "start_time": "2022-04-15T11:58:51.047Z"
   },
   {
    "duration": 22,
    "start_time": "2022-04-15T11:58:51.070Z"
   },
   {
    "duration": 16,
    "start_time": "2022-04-15T11:58:51.094Z"
   },
   {
    "duration": 32,
    "start_time": "2022-04-15T11:58:51.112Z"
   },
   {
    "duration": 18,
    "start_time": "2022-04-15T11:58:51.146Z"
   },
   {
    "duration": 28,
    "start_time": "2022-04-15T11:58:51.165Z"
   },
   {
    "duration": 5,
    "start_time": "2022-04-15T11:58:51.196Z"
   },
   {
    "duration": 520,
    "start_time": "2022-04-15T11:58:51.203Z"
   },
   {
    "duration": 10,
    "start_time": "2022-04-15T11:58:51.724Z"
   },
   {
    "duration": 5,
    "start_time": "2022-04-15T11:58:51.736Z"
   },
   {
    "duration": 264,
    "start_time": "2022-04-15T12:05:21.437Z"
   },
   {
    "duration": 26,
    "start_time": "2022-04-15T12:05:34.997Z"
   },
   {
    "duration": 24,
    "start_time": "2022-04-15T12:10:42.394Z"
   },
   {
    "duration": 16,
    "start_time": "2022-04-15T13:06:24.110Z"
   },
   {
    "duration": 6,
    "start_time": "2022-04-15T13:07:14.070Z"
   },
   {
    "duration": 498,
    "start_time": "2022-04-15T13:43:44.017Z"
   },
   {
    "duration": 22,
    "start_time": "2022-04-15T13:43:44.517Z"
   },
   {
    "duration": 15,
    "start_time": "2022-04-15T13:43:44.540Z"
   },
   {
    "duration": 6,
    "start_time": "2022-04-15T13:43:44.558Z"
   },
   {
    "duration": 30,
    "start_time": "2022-04-15T13:43:44.566Z"
   },
   {
    "duration": 5,
    "start_time": "2022-04-15T13:43:44.598Z"
   },
   {
    "duration": 41,
    "start_time": "2022-04-15T13:43:44.605Z"
   },
   {
    "duration": 19,
    "start_time": "2022-04-15T13:43:44.648Z"
   },
   {
    "duration": 16,
    "start_time": "2022-04-15T13:43:44.669Z"
   },
   {
    "duration": 501,
    "start_time": "2022-04-15T13:43:44.688Z"
   },
   {
    "duration": 13,
    "start_time": "2022-04-15T13:43:45.191Z"
   },
   {
    "duration": 9,
    "start_time": "2022-04-15T13:43:45.206Z"
   },
   {
    "duration": 4,
    "start_time": "2022-04-15T13:43:45.234Z"
   },
   {
    "duration": 490,
    "start_time": "2022-04-15T13:43:45.240Z"
   },
   {
    "duration": 14,
    "start_time": "2022-04-15T13:43:45.734Z"
   },
   {
    "duration": 15,
    "start_time": "2022-04-15T13:43:45.750Z"
   },
   {
    "duration": 12,
    "start_time": "2022-04-15T13:43:45.767Z"
   },
   {
    "duration": 880,
    "start_time": "2022-04-15T13:43:45.781Z"
   },
   {
    "duration": 118,
    "start_time": "2022-04-15T13:43:46.663Z"
   },
   {
    "duration": 13,
    "start_time": "2022-04-15T13:43:46.783Z"
   },
   {
    "duration": 13,
    "start_time": "2022-04-15T13:43:46.797Z"
   },
   {
    "duration": 47,
    "start_time": "2022-04-15T13:43:46.811Z"
   },
   {
    "duration": 6,
    "start_time": "2022-04-15T13:43:46.860Z"
   },
   {
    "duration": 183,
    "start_time": "2022-04-15T13:43:46.868Z"
   },
   {
    "duration": 27,
    "start_time": "2022-04-15T13:43:47.053Z"
   },
   {
    "duration": 6,
    "start_time": "2022-04-15T13:43:47.082Z"
   },
   {
    "duration": 193,
    "start_time": "2022-04-15T13:43:47.089Z"
   },
   {
    "duration": 12,
    "start_time": "2022-04-15T13:43:47.286Z"
   },
   {
    "duration": 15,
    "start_time": "2022-04-15T13:43:47.299Z"
   },
   {
    "duration": 8,
    "start_time": "2022-04-15T13:43:47.333Z"
   },
   {
    "duration": 18,
    "start_time": "2022-04-15T13:43:47.342Z"
   },
   {
    "duration": 16,
    "start_time": "2022-04-15T13:43:47.362Z"
   },
   {
    "duration": 19,
    "start_time": "2022-04-15T13:43:47.380Z"
   },
   {
    "duration": 44,
    "start_time": "2022-04-15T13:43:47.401Z"
   },
   {
    "duration": 16,
    "start_time": "2022-04-15T13:43:47.447Z"
   },
   {
    "duration": 17,
    "start_time": "2022-04-15T13:43:47.464Z"
   },
   {
    "duration": 16,
    "start_time": "2022-04-15T13:43:47.483Z"
   },
   {
    "duration": 38,
    "start_time": "2022-04-15T13:43:47.501Z"
   },
   {
    "duration": 16,
    "start_time": "2022-04-15T13:43:47.541Z"
   },
   {
    "duration": 23,
    "start_time": "2022-04-15T13:43:47.558Z"
   },
   {
    "duration": 5,
    "start_time": "2022-04-15T13:43:47.582Z"
   },
   {
    "duration": 522,
    "start_time": "2022-04-15T13:43:47.589Z"
   },
   {
    "duration": 5,
    "start_time": "2022-04-15T13:43:48.113Z"
   },
   {
    "duration": 14,
    "start_time": "2022-04-15T13:43:48.119Z"
   },
   {
    "duration": 438,
    "start_time": "2022-04-15T13:44:46.989Z"
   },
   {
    "duration": 23,
    "start_time": "2022-04-15T13:44:47.430Z"
   },
   {
    "duration": 17,
    "start_time": "2022-04-15T13:44:47.455Z"
   },
   {
    "duration": 4,
    "start_time": "2022-04-15T13:44:47.475Z"
   },
   {
    "duration": 28,
    "start_time": "2022-04-15T13:44:47.481Z"
   },
   {
    "duration": 25,
    "start_time": "2022-04-15T13:44:47.511Z"
   },
   {
    "duration": 20,
    "start_time": "2022-04-15T13:44:47.538Z"
   },
   {
    "duration": 25,
    "start_time": "2022-04-15T13:44:47.560Z"
   },
   {
    "duration": 15,
    "start_time": "2022-04-15T13:44:47.587Z"
   },
   {
    "duration": 495,
    "start_time": "2022-04-15T13:44:47.605Z"
   },
   {
    "duration": 15,
    "start_time": "2022-04-15T13:44:48.102Z"
   },
   {
    "duration": 19,
    "start_time": "2022-04-15T13:44:48.119Z"
   },
   {
    "duration": 8,
    "start_time": "2022-04-15T13:44:48.140Z"
   },
   {
    "duration": 523,
    "start_time": "2022-04-15T13:44:48.150Z"
   },
   {
    "duration": 17,
    "start_time": "2022-04-15T13:44:48.675Z"
   },
   {
    "duration": 15,
    "start_time": "2022-04-15T13:44:48.693Z"
   },
   {
    "duration": 35,
    "start_time": "2022-04-15T13:44:48.710Z"
   },
   {
    "duration": 14,
    "start_time": "2022-04-15T13:44:48.748Z"
   },
   {
    "duration": 886,
    "start_time": "2022-04-15T13:44:48.764Z"
   },
   {
    "duration": 114,
    "start_time": "2022-04-15T13:44:49.652Z"
   },
   {
    "duration": 13,
    "start_time": "2022-04-15T13:44:49.769Z"
   },
   {
    "duration": 12,
    "start_time": "2022-04-15T13:44:49.784Z"
   },
   {
    "duration": 56,
    "start_time": "2022-04-15T13:44:49.799Z"
   },
   {
    "duration": 8,
    "start_time": "2022-04-15T13:44:49.857Z"
   },
   {
    "duration": 182,
    "start_time": "2022-04-15T13:44:49.867Z"
   },
   {
    "duration": 28,
    "start_time": "2022-04-15T13:44:50.052Z"
   },
   {
    "duration": 6,
    "start_time": "2022-04-15T13:44:50.082Z"
   },
   {
    "duration": 194,
    "start_time": "2022-04-15T13:44:50.093Z"
   },
   {
    "duration": 14,
    "start_time": "2022-04-15T13:44:50.289Z"
   },
   {
    "duration": 31,
    "start_time": "2022-04-15T13:44:50.304Z"
   },
   {
    "duration": 12,
    "start_time": "2022-04-15T13:44:50.337Z"
   },
   {
    "duration": 18,
    "start_time": "2022-04-15T13:44:50.351Z"
   },
   {
    "duration": 19,
    "start_time": "2022-04-15T13:44:50.371Z"
   },
   {
    "duration": 43,
    "start_time": "2022-04-15T13:44:50.392Z"
   },
   {
    "duration": 15,
    "start_time": "2022-04-15T13:44:50.437Z"
   },
   {
    "duration": 22,
    "start_time": "2022-04-15T13:44:50.453Z"
   },
   {
    "duration": 11,
    "start_time": "2022-04-15T13:44:50.477Z"
   },
   {
    "duration": 13,
    "start_time": "2022-04-15T13:44:50.490Z"
   },
   {
    "duration": 39,
    "start_time": "2022-04-15T13:44:50.505Z"
   },
   {
    "duration": 15,
    "start_time": "2022-04-15T13:44:50.546Z"
   },
   {
    "duration": 27,
    "start_time": "2022-04-15T13:44:50.562Z"
   },
   {
    "duration": 5,
    "start_time": "2022-04-15T13:44:50.590Z"
   },
   {
    "duration": 528,
    "start_time": "2022-04-15T13:44:50.597Z"
   },
   {
    "duration": 7,
    "start_time": "2022-04-15T13:44:51.127Z"
   },
   {
    "duration": 12,
    "start_time": "2022-04-15T13:44:51.137Z"
   },
   {
    "duration": 5,
    "start_time": "2022-04-15T13:47:24.218Z"
   },
   {
    "duration": 15,
    "start_time": "2022-04-15T13:48:53.657Z"
   },
   {
    "duration": 5,
    "start_time": "2022-04-15T13:49:06.875Z"
   },
   {
    "duration": 355,
    "start_time": "2022-04-15T14:07:57.574Z"
   },
   {
    "duration": 229,
    "start_time": "2022-04-15T14:09:02.852Z"
   },
   {
    "duration": 199,
    "start_time": "2022-04-15T14:20:42.303Z"
   },
   {
    "duration": 433,
    "start_time": "2022-04-15T14:55:11.484Z"
   },
   {
    "duration": 21,
    "start_time": "2022-04-15T14:55:11.919Z"
   },
   {
    "duration": 15,
    "start_time": "2022-04-15T14:55:11.942Z"
   },
   {
    "duration": 3,
    "start_time": "2022-04-15T14:55:11.959Z"
   },
   {
    "duration": 29,
    "start_time": "2022-04-15T14:55:11.964Z"
   },
   {
    "duration": 5,
    "start_time": "2022-04-15T14:55:11.994Z"
   },
   {
    "duration": 35,
    "start_time": "2022-04-15T14:55:12.001Z"
   },
   {
    "duration": 22,
    "start_time": "2022-04-15T14:55:12.038Z"
   },
   {
    "duration": 14,
    "start_time": "2022-04-15T14:55:12.061Z"
   },
   {
    "duration": 456,
    "start_time": "2022-04-15T14:55:12.078Z"
   },
   {
    "duration": 14,
    "start_time": "2022-04-15T14:55:12.536Z"
   },
   {
    "duration": 17,
    "start_time": "2022-04-15T14:55:12.551Z"
   },
   {
    "duration": 8,
    "start_time": "2022-04-15T14:55:12.569Z"
   },
   {
    "duration": 476,
    "start_time": "2022-04-15T14:55:12.579Z"
   },
   {
    "duration": 6,
    "start_time": "2022-04-15T14:55:13.056Z"
   },
   {
    "duration": 24,
    "start_time": "2022-04-15T14:55:13.063Z"
   },
   {
    "duration": 13,
    "start_time": "2022-04-15T14:55:13.089Z"
   },
   {
    "duration": 826,
    "start_time": "2022-04-15T14:55:13.104Z"
   },
   {
    "duration": 101,
    "start_time": "2022-04-15T14:55:13.932Z"
   },
   {
    "duration": 12,
    "start_time": "2022-04-15T14:55:14.035Z"
   },
   {
    "duration": 14,
    "start_time": "2022-04-15T14:55:14.048Z"
   },
   {
    "duration": 27,
    "start_time": "2022-04-15T14:55:14.064Z"
   },
   {
    "duration": 7,
    "start_time": "2022-04-15T14:55:14.093Z"
   },
   {
    "duration": 179,
    "start_time": "2022-04-15T14:55:14.103Z"
   },
   {
    "duration": 26,
    "start_time": "2022-04-15T14:55:14.284Z"
   },
   {
    "duration": 25,
    "start_time": "2022-04-15T14:55:14.311Z"
   },
   {
    "duration": 169,
    "start_time": "2022-04-15T14:55:14.338Z"
   },
   {
    "duration": 25,
    "start_time": "2022-04-15T14:55:14.511Z"
   },
   {
    "duration": 19,
    "start_time": "2022-04-15T14:55:14.538Z"
   },
   {
    "duration": 11,
    "start_time": "2022-04-15T14:55:14.559Z"
   },
   {
    "duration": 20,
    "start_time": "2022-04-15T14:55:14.572Z"
   },
   {
    "duration": 14,
    "start_time": "2022-04-15T14:55:14.594Z"
   },
   {
    "duration": 20,
    "start_time": "2022-04-15T14:55:14.634Z"
   },
   {
    "duration": 15,
    "start_time": "2022-04-15T14:55:14.655Z"
   },
   {
    "duration": 19,
    "start_time": "2022-04-15T14:55:14.671Z"
   },
   {
    "duration": 13,
    "start_time": "2022-04-15T14:55:14.692Z"
   },
   {
    "duration": 15,
    "start_time": "2022-04-15T14:55:14.734Z"
   },
   {
    "duration": 14,
    "start_time": "2022-04-15T14:55:14.751Z"
   },
   {
    "duration": 20,
    "start_time": "2022-04-15T14:55:14.766Z"
   },
   {
    "duration": 23,
    "start_time": "2022-04-15T14:55:14.788Z"
   },
   {
    "duration": 5,
    "start_time": "2022-04-15T14:55:14.834Z"
   },
   {
    "duration": 474,
    "start_time": "2022-04-15T14:55:14.841Z"
   },
   {
    "duration": 5,
    "start_time": "2022-04-15T14:55:15.317Z"
   },
   {
    "duration": 20,
    "start_time": "2022-04-15T14:55:15.324Z"
   },
   {
    "duration": 534,
    "start_time": "2022-04-23T12:12:31.502Z"
   },
   {
    "duration": 29,
    "start_time": "2022-04-23T12:12:32.763Z"
   },
   {
    "duration": 19,
    "start_time": "2022-04-23T12:17:29.243Z"
   },
   {
    "duration": 92,
    "start_time": "2022-04-23T12:19:34.053Z"
   },
   {
    "duration": 8,
    "start_time": "2022-04-23T12:20:00.297Z"
   },
   {
    "duration": 4,
    "start_time": "2022-04-23T12:20:06.697Z"
   },
   {
    "duration": 19,
    "start_time": "2022-04-23T12:20:19.735Z"
   },
   {
    "duration": 7,
    "start_time": "2022-04-23T12:22:23.985Z"
   },
   {
    "duration": 7,
    "start_time": "2022-04-23T12:22:46.162Z"
   },
   {
    "duration": 7,
    "start_time": "2022-04-23T12:22:52.463Z"
   },
   {
    "duration": 7,
    "start_time": "2022-04-23T12:24:56.972Z"
   },
   {
    "duration": 8,
    "start_time": "2022-04-23T12:25:08.291Z"
   },
   {
    "duration": 9,
    "start_time": "2022-04-23T12:25:19.142Z"
   },
   {
    "duration": 7,
    "start_time": "2022-04-23T12:25:46.387Z"
   },
   {
    "duration": 49,
    "start_time": "2022-04-23T12:26:24.400Z"
   },
   {
    "duration": 52,
    "start_time": "2022-04-23T15:06:02.808Z"
   },
   {
    "duration": 419,
    "start_time": "2022-04-23T15:06:05.725Z"
   },
   {
    "duration": 19,
    "start_time": "2022-04-23T15:06:06.977Z"
   },
   {
    "duration": 12,
    "start_time": "2022-04-23T15:06:13.683Z"
   },
   {
    "duration": 15,
    "start_time": "2022-04-23T15:06:18.960Z"
   },
   {
    "duration": 3,
    "start_time": "2022-04-23T15:07:50.646Z"
   },
   {
    "duration": 13,
    "start_time": "2022-04-23T15:10:12.698Z"
   },
   {
    "duration": 9,
    "start_time": "2022-04-23T15:10:51.768Z"
   },
   {
    "duration": 7,
    "start_time": "2022-04-23T15:12:01.431Z"
   },
   {
    "duration": 8,
    "start_time": "2022-04-23T15:14:51.658Z"
   },
   {
    "duration": 11,
    "start_time": "2022-04-23T15:17:15.192Z"
   },
   {
    "duration": 1947,
    "start_time": "2022-04-23T15:17:42.443Z"
   },
   {
    "duration": 40,
    "start_time": "2022-04-23T15:17:55.375Z"
   },
   {
    "duration": 14,
    "start_time": "2022-04-23T15:17:56.028Z"
   },
   {
    "duration": 14,
    "start_time": "2022-04-23T15:17:59.109Z"
   },
   {
    "duration": 3,
    "start_time": "2022-04-23T15:18:02.773Z"
   },
   {
    "duration": 9,
    "start_time": "2022-04-23T15:18:05.137Z"
   },
   {
    "duration": 6,
    "start_time": "2022-04-23T15:18:06.452Z"
   },
   {
    "duration": 8,
    "start_time": "2022-04-23T15:18:09.191Z"
   },
   {
    "duration": 7,
    "start_time": "2022-04-23T15:18:10.622Z"
   },
   {
    "duration": 5,
    "start_time": "2022-04-23T15:18:43.266Z"
   },
   {
    "duration": 15,
    "start_time": "2022-04-23T15:18:45.064Z"
   },
   {
    "duration": 13,
    "start_time": "2022-04-23T15:18:50.597Z"
   },
   {
    "duration": 13,
    "start_time": "2022-04-23T15:19:14.551Z"
   },
   {
    "duration": 13,
    "start_time": "2022-04-23T15:19:18.736Z"
   },
   {
    "duration": 7,
    "start_time": "2022-04-23T15:42:54.590Z"
   },
   {
    "duration": 5,
    "start_time": "2022-04-23T15:43:40.952Z"
   },
   {
    "duration": 10,
    "start_time": "2022-04-23T15:44:10.882Z"
   },
   {
    "duration": 12,
    "start_time": "2022-04-23T15:44:16.467Z"
   },
   {
    "duration": 9,
    "start_time": "2022-04-23T15:44:17.005Z"
   },
   {
    "duration": 7,
    "start_time": "2022-04-23T15:44:17.611Z"
   },
   {
    "duration": 4,
    "start_time": "2022-04-23T15:44:27.868Z"
   },
   {
    "duration": 911,
    "start_time": "2022-04-23T15:44:28.445Z"
   },
   {
    "duration": 12,
    "start_time": "2022-04-23T15:44:37.274Z"
   },
   {
    "duration": 53,
    "start_time": "2022-04-23T15:44:45.216Z"
   },
   {
    "duration": 21,
    "start_time": "2022-04-23T15:44:45.489Z"
   },
   {
    "duration": 16,
    "start_time": "2022-04-23T15:44:46.145Z"
   },
   {
    "duration": 4,
    "start_time": "2022-04-23T15:44:47.390Z"
   },
   {
    "duration": 10,
    "start_time": "2022-04-23T15:44:48.230Z"
   },
   {
    "duration": 7,
    "start_time": "2022-04-23T15:44:48.643Z"
   },
   {
    "duration": 8,
    "start_time": "2022-04-23T15:44:49.470Z"
   },
   {
    "duration": 7,
    "start_time": "2022-04-23T15:44:49.885Z"
   },
   {
    "duration": 5,
    "start_time": "2022-04-23T15:44:50.740Z"
   },
   {
    "duration": 14,
    "start_time": "2022-04-23T15:44:50.965Z"
   },
   {
    "duration": 15,
    "start_time": "2022-04-23T15:44:51.204Z"
   },
   {
    "duration": 14,
    "start_time": "2022-04-23T15:44:53.273Z"
   },
   {
    "duration": 140,
    "start_time": "2022-04-23T15:44:53.481Z"
   },
   {
    "duration": 15,
    "start_time": "2022-04-23T15:44:54.946Z"
   },
   {
    "duration": 10,
    "start_time": "2022-04-23T15:44:55.542Z"
   },
   {
    "duration": 6,
    "start_time": "2022-04-23T15:44:55.967Z"
   },
   {
    "duration": 874,
    "start_time": "2022-04-23T15:44:56.272Z"
   },
   {
    "duration": 11,
    "start_time": "2022-04-23T15:44:58.465Z"
   },
   {
    "duration": 19,
    "start_time": "2022-04-23T15:44:59.554Z"
   },
   {
    "duration": 13,
    "start_time": "2022-04-23T15:45:00.183Z"
   },
   {
    "duration": 727,
    "start_time": "2022-04-23T15:45:00.643Z"
   },
   {
    "duration": 88,
    "start_time": "2022-04-23T15:45:06.680Z"
   },
   {
    "duration": 76,
    "start_time": "2022-04-24T05:15:18.322Z"
   },
   {
    "duration": 549,
    "start_time": "2022-04-24T05:15:26.323Z"
   },
   {
    "duration": 31,
    "start_time": "2022-04-24T05:15:26.874Z"
   },
   {
    "duration": 20,
    "start_time": "2022-04-24T05:15:28.086Z"
   },
   {
    "duration": 4,
    "start_time": "2022-04-24T05:15:29.709Z"
   },
   {
    "duration": 20,
    "start_time": "2022-04-24T05:15:30.870Z"
   },
   {
    "duration": 9,
    "start_time": "2022-04-24T05:15:31.488Z"
   },
   {
    "duration": 12,
    "start_time": "2022-04-24T05:15:32.678Z"
   },
   {
    "duration": 10,
    "start_time": "2022-04-24T05:15:33.304Z"
   },
   {
    "duration": 6,
    "start_time": "2022-04-24T05:15:34.639Z"
   },
   {
    "duration": 21,
    "start_time": "2022-04-24T05:15:34.919Z"
   },
   {
    "duration": 19,
    "start_time": "2022-04-24T05:15:35.211Z"
   },
   {
    "duration": 20,
    "start_time": "2022-04-24T05:15:38.430Z"
   },
   {
    "duration": 862,
    "start_time": "2022-04-24T05:15:38.907Z"
   },
   {
    "duration": 18,
    "start_time": "2022-04-24T05:15:42.329Z"
   },
   {
    "duration": 12,
    "start_time": "2022-04-24T05:15:42.732Z"
   },
   {
    "duration": 6,
    "start_time": "2022-04-24T05:15:43.369Z"
   },
   {
    "duration": 756,
    "start_time": "2022-04-24T05:15:44.741Z"
   },
   {
    "duration": 8,
    "start_time": "2022-04-24T05:15:49.245Z"
   },
   {
    "duration": 22,
    "start_time": "2022-04-24T05:15:50.688Z"
   },
   {
    "duration": 15,
    "start_time": "2022-04-24T05:15:51.073Z"
   },
   {
    "duration": 1331,
    "start_time": "2022-04-24T05:15:53.701Z"
   },
   {
    "duration": 6,
    "start_time": "2022-04-24T05:17:12.786Z"
   },
   {
    "duration": 19,
    "start_time": "2022-04-24T05:17:14.337Z"
   },
   {
    "duration": 13,
    "start_time": "2022-04-24T05:17:14.786Z"
   },
   {
    "duration": 1188,
    "start_time": "2022-04-24T05:17:15.284Z"
   },
   {
    "duration": 49,
    "start_time": "2022-04-24T05:17:20.103Z"
   },
   {
    "duration": 21,
    "start_time": "2022-04-24T05:17:20.477Z"
   },
   {
    "duration": 22,
    "start_time": "2022-04-24T05:17:21.313Z"
   },
   {
    "duration": 4,
    "start_time": "2022-04-24T05:17:22.433Z"
   },
   {
    "duration": 13,
    "start_time": "2022-04-24T05:17:23.118Z"
   },
   {
    "duration": 11,
    "start_time": "2022-04-24T05:17:23.458Z"
   },
   {
    "duration": 12,
    "start_time": "2022-04-24T05:17:24.136Z"
   },
   {
    "duration": 13,
    "start_time": "2022-04-24T05:17:24.471Z"
   },
   {
    "duration": 7,
    "start_time": "2022-04-24T05:17:25.181Z"
   },
   {
    "duration": 27,
    "start_time": "2022-04-24T05:17:25.347Z"
   },
   {
    "duration": 21,
    "start_time": "2022-04-24T05:17:25.527Z"
   },
   {
    "duration": 19,
    "start_time": "2022-04-24T05:17:27.212Z"
   },
   {
    "duration": 283,
    "start_time": "2022-04-24T05:17:27.386Z"
   },
   {
    "duration": 19,
    "start_time": "2022-04-24T05:17:28.792Z"
   },
   {
    "duration": 12,
    "start_time": "2022-04-24T05:17:29.438Z"
   },
   {
    "duration": 7,
    "start_time": "2022-04-24T05:17:30.167Z"
   },
   {
    "duration": 710,
    "start_time": "2022-04-24T05:17:31.273Z"
   },
   {
    "duration": 7,
    "start_time": "2022-04-24T05:17:33.967Z"
   },
   {
    "duration": 19,
    "start_time": "2022-04-24T05:17:35.329Z"
   },
   {
    "duration": 12,
    "start_time": "2022-04-24T05:17:35.812Z"
   },
   {
    "duration": 1263,
    "start_time": "2022-04-24T05:17:36.496Z"
   },
   {
    "duration": 148,
    "start_time": "2022-04-24T05:25:34.351Z"
   },
   {
    "duration": 26,
    "start_time": "2022-04-24T05:27:35.453Z"
   },
   {
    "duration": 14,
    "start_time": "2022-04-24T05:27:35.879Z"
   },
   {
    "duration": 1394,
    "start_time": "2022-04-24T05:27:38.035Z"
   },
   {
    "duration": 72,
    "start_time": "2022-04-24T05:28:50.661Z"
   },
   {
    "duration": 17,
    "start_time": "2022-04-24T05:29:03.091Z"
   },
   {
    "duration": 2132,
    "start_time": "2022-04-24T05:29:12.221Z"
   },
   {
    "duration": 150,
    "start_time": "2022-04-24T05:29:18.326Z"
   },
   {
    "duration": 13,
    "start_time": "2022-04-24T05:33:22.146Z"
   },
   {
    "duration": 16,
    "start_time": "2022-04-24T05:33:24.093Z"
   },
   {
    "duration": 12,
    "start_time": "2022-04-24T05:33:24.610Z"
   },
   {
    "duration": 29,
    "start_time": "2022-04-24T05:34:18.366Z"
   },
   {
    "duration": 17,
    "start_time": "2022-04-24T05:34:19.099Z"
   },
   {
    "duration": 15,
    "start_time": "2022-04-24T05:34:53.031Z"
   },
   {
    "duration": 23,
    "start_time": "2022-04-24T05:35:27.565Z"
   },
   {
    "duration": 21,
    "start_time": "2022-04-24T05:35:28.648Z"
   },
   {
    "duration": 21,
    "start_time": "2022-04-24T05:35:42.150Z"
   },
   {
    "duration": 11,
    "start_time": "2022-04-24T05:36:01.566Z"
   },
   {
    "duration": 15,
    "start_time": "2022-04-24T05:36:05.673Z"
   },
   {
    "duration": 36,
    "start_time": "2022-04-24T05:37:57.996Z"
   },
   {
    "duration": 38,
    "start_time": "2022-04-24T05:39:06.432Z"
   },
   {
    "duration": 10,
    "start_time": "2022-04-24T05:39:12.973Z"
   },
   {
    "duration": 13,
    "start_time": "2022-04-24T05:41:32.491Z"
   },
   {
    "duration": 12,
    "start_time": "2022-04-24T05:41:57.737Z"
   },
   {
    "duration": 19,
    "start_time": "2022-04-24T05:43:50.050Z"
   },
   {
    "duration": 28,
    "start_time": "2022-04-24T05:44:07.349Z"
   },
   {
    "duration": 14,
    "start_time": "2022-04-24T05:44:15.391Z"
   },
   {
    "duration": 11,
    "start_time": "2022-04-24T05:45:04.491Z"
   },
   {
    "duration": 36,
    "start_time": "2022-04-24T05:45:42.373Z"
   },
   {
    "duration": 20,
    "start_time": "2022-04-24T05:45:58.796Z"
   },
   {
    "duration": 40,
    "start_time": "2022-04-24T05:46:01.348Z"
   },
   {
    "duration": 7,
    "start_time": "2022-04-24T05:46:03.533Z"
   },
   {
    "duration": 15,
    "start_time": "2022-04-24T05:46:06.044Z"
   },
   {
    "duration": 32,
    "start_time": "2022-04-24T05:46:23.199Z"
   },
   {
    "duration": 9,
    "start_time": "2022-04-24T05:46:29.470Z"
   },
   {
    "duration": 13,
    "start_time": "2022-04-24T05:47:12.055Z"
   },
   {
    "duration": 120,
    "start_time": "2022-04-24T05:47:23.231Z"
   },
   {
    "duration": 12,
    "start_time": "2022-04-24T05:47:31.220Z"
   },
   {
    "duration": 17,
    "start_time": "2022-04-24T05:47:43.747Z"
   },
   {
    "duration": 236,
    "start_time": "2022-04-24T05:48:54.953Z"
   },
   {
    "duration": 257,
    "start_time": "2022-04-24T05:49:01.008Z"
   },
   {
    "duration": 7,
    "start_time": "2022-04-24T05:55:38.406Z"
   },
   {
    "duration": 28,
    "start_time": "2022-04-24T05:55:42.373Z"
   },
   {
    "duration": 37,
    "start_time": "2022-04-24T05:55:46.281Z"
   },
   {
    "duration": 3579,
    "start_time": "2022-04-24T06:00:31.090Z"
   },
   {
    "duration": 42,
    "start_time": "2022-04-24T06:01:10.236Z"
   },
   {
    "duration": 10,
    "start_time": "2022-04-24T06:01:21.993Z"
   },
   {
    "duration": 246,
    "start_time": "2022-04-24T06:01:26.480Z"
   },
   {
    "duration": 251,
    "start_time": "2022-04-24T06:02:23.077Z"
   },
   {
    "duration": 14,
    "start_time": "2022-04-24T06:06:28.740Z"
   },
   {
    "duration": 16,
    "start_time": "2022-04-24T06:06:44.409Z"
   },
   {
    "duration": 3136,
    "start_time": "2022-04-24T06:07:51.438Z"
   },
   {
    "duration": 14,
    "start_time": "2022-04-24T06:08:00.107Z"
   },
   {
    "duration": 13,
    "start_time": "2022-04-24T06:09:03.045Z"
   },
   {
    "duration": 12,
    "start_time": "2022-04-24T06:09:07.964Z"
   },
   {
    "duration": 10,
    "start_time": "2022-04-24T06:10:01.906Z"
   },
   {
    "duration": 11,
    "start_time": "2022-04-24T06:10:09.868Z"
   },
   {
    "duration": 10,
    "start_time": "2022-04-24T06:10:15.688Z"
   },
   {
    "duration": 21,
    "start_time": "2022-04-24T06:10:19.854Z"
   },
   {
    "duration": 6,
    "start_time": "2022-04-24T06:11:34.149Z"
   },
   {
    "duration": 12,
    "start_time": "2022-04-24T06:11:38.613Z"
   },
   {
    "duration": 11,
    "start_time": "2022-04-24T06:11:53.193Z"
   },
   {
    "duration": 549,
    "start_time": "2022-04-24T06:12:48.382Z"
   },
   {
    "duration": 305,
    "start_time": "2022-04-24T06:13:21.304Z"
   },
   {
    "duration": 657,
    "start_time": "2022-04-24T06:13:48.991Z"
   },
   {
    "duration": 558,
    "start_time": "2022-04-24T06:14:27.735Z"
   },
   {
    "duration": 15,
    "start_time": "2022-04-24T06:14:40.093Z"
   },
   {
    "duration": 50,
    "start_time": "2022-04-24T06:14:52.666Z"
   },
   {
    "duration": 19,
    "start_time": "2022-04-24T06:14:53.112Z"
   },
   {
    "duration": 29,
    "start_time": "2022-04-24T06:14:53.750Z"
   },
   {
    "duration": 4,
    "start_time": "2022-04-24T06:14:54.744Z"
   },
   {
    "duration": 14,
    "start_time": "2022-04-24T06:14:55.394Z"
   },
   {
    "duration": 10,
    "start_time": "2022-04-24T06:14:55.722Z"
   },
   {
    "duration": 14,
    "start_time": "2022-04-24T06:14:56.406Z"
   },
   {
    "duration": 13,
    "start_time": "2022-04-24T06:14:56.766Z"
   },
   {
    "duration": 8,
    "start_time": "2022-04-24T06:14:57.482Z"
   },
   {
    "duration": 27,
    "start_time": "2022-04-24T06:14:57.636Z"
   },
   {
    "duration": 26,
    "start_time": "2022-04-24T06:14:57.813Z"
   },
   {
    "duration": 27,
    "start_time": "2022-04-24T06:14:59.406Z"
   },
   {
    "duration": 309,
    "start_time": "2022-04-24T06:14:59.543Z"
   },
   {
    "duration": 23,
    "start_time": "2022-04-24T06:15:00.606Z"
   },
   {
    "duration": 16,
    "start_time": "2022-04-24T06:15:00.809Z"
   },
   {
    "duration": 7,
    "start_time": "2022-04-24T06:15:00.976Z"
   },
   {
    "duration": 714,
    "start_time": "2022-04-24T06:15:01.166Z"
   },
   {
    "duration": 7,
    "start_time": "2022-04-24T06:15:02.392Z"
   },
   {
    "duration": 19,
    "start_time": "2022-04-24T06:15:02.898Z"
   },
   {
    "duration": 13,
    "start_time": "2022-04-24T06:15:03.072Z"
   },
   {
    "duration": 1370,
    "start_time": "2022-04-24T06:15:03.252Z"
   },
   {
    "duration": 27,
    "start_time": "2022-04-24T06:15:04.625Z"
   },
   {
    "duration": 171,
    "start_time": "2022-04-24T06:15:04.655Z"
   },
   {
    "duration": 24,
    "start_time": "2022-04-24T06:15:05.674Z"
   },
   {
    "duration": 15,
    "start_time": "2022-04-24T06:15:05.865Z"
   },
   {
    "duration": 39,
    "start_time": "2022-04-24T06:15:07.143Z"
   },
   {
    "duration": 8,
    "start_time": "2022-04-24T06:15:07.322Z"
   },
   {
    "duration": 328,
    "start_time": "2022-04-24T06:15:07.513Z"
   },
   {
    "duration": 35,
    "start_time": "2022-04-24T06:15:08.109Z"
   },
   {
    "duration": 9,
    "start_time": "2022-04-24T06:15:08.296Z"
   },
   {
    "duration": 226,
    "start_time": "2022-04-24T06:15:12.865Z"
   },
   {
    "duration": 17,
    "start_time": "2022-04-24T06:15:15.206Z"
   },
   {
    "duration": 16,
    "start_time": "2022-04-24T06:15:16.626Z"
   },
   {
    "duration": 613,
    "start_time": "2022-04-24T06:15:20.365Z"
   },
   {
    "duration": 21,
    "start_time": "2022-04-24T06:15:59.669Z"
   },
   {
    "duration": 18,
    "start_time": "2022-04-24T06:16:01.629Z"
   },
   {
    "duration": 18,
    "start_time": "2022-04-24T06:16:16.110Z"
   },
   {
    "duration": 18,
    "start_time": "2022-04-24T06:16:18.323Z"
   },
   {
    "duration": 36,
    "start_time": "2022-04-24T06:17:11.868Z"
   },
   {
    "duration": 3087,
    "start_time": "2022-04-24T06:17:15.131Z"
   },
   {
    "duration": 12,
    "start_time": "2022-04-24T06:17:18.971Z"
   },
   {
    "duration": 260,
    "start_time": "2022-04-24T06:17:22.890Z"
   },
   {
    "duration": 36,
    "start_time": "2022-04-24T06:17:57.066Z"
   },
   {
    "duration": 9,
    "start_time": "2022-04-24T06:17:58.093Z"
   },
   {
    "duration": 225,
    "start_time": "2022-04-24T06:17:58.765Z"
   },
   {
    "duration": 2303,
    "start_time": "2022-04-24T06:19:12.478Z"
   },
   {
    "duration": 52,
    "start_time": "2022-04-24T06:19:19.245Z"
   },
   {
    "duration": 12,
    "start_time": "2022-04-24T06:19:19.721Z"
   },
   {
    "duration": 259,
    "start_time": "2022-04-24T06:19:20.203Z"
   },
   {
    "duration": 36,
    "start_time": "2022-04-24T06:19:21.989Z"
   },
   {
    "duration": 12,
    "start_time": "2022-04-24T06:19:22.452Z"
   },
   {
    "duration": 235,
    "start_time": "2022-04-24T06:19:23.001Z"
   },
   {
    "duration": 39,
    "start_time": "2022-04-24T06:21:02.671Z"
   },
   {
    "duration": 9,
    "start_time": "2022-04-24T06:21:08.084Z"
   },
   {
    "duration": 247,
    "start_time": "2022-04-24T06:21:09.269Z"
   },
   {
    "duration": 38,
    "start_time": "2022-04-24T06:21:24.771Z"
   },
   {
    "duration": 8,
    "start_time": "2022-04-24T06:21:27.172Z"
   },
   {
    "duration": 245,
    "start_time": "2022-04-24T06:21:28.925Z"
   },
   {
    "duration": 27,
    "start_time": "2022-04-24T06:22:59.615Z"
   },
   {
    "duration": 27,
    "start_time": "2022-04-24T06:23:04.511Z"
   },
   {
    "duration": 244,
    "start_time": "2022-04-24T06:23:16.743Z"
   },
   {
    "duration": 44,
    "start_time": "2022-04-24T06:23:27.244Z"
   },
   {
    "duration": 25,
    "start_time": "2022-04-24T06:23:39.388Z"
   },
   {
    "duration": 23,
    "start_time": "2022-04-24T06:23:49.580Z"
   },
   {
    "duration": 285,
    "start_time": "2022-04-24T06:24:02.520Z"
   },
   {
    "duration": 31,
    "start_time": "2022-04-24T06:25:21.145Z"
   },
   {
    "duration": 323,
    "start_time": "2022-04-24T06:25:22.077Z"
   },
   {
    "duration": 29,
    "start_time": "2022-04-24T06:25:23.814Z"
   },
   {
    "duration": 259,
    "start_time": "2022-04-24T06:25:25.602Z"
   },
   {
    "duration": 21,
    "start_time": "2022-04-24T06:33:02.502Z"
   },
   {
    "duration": 23,
    "start_time": "2022-04-24T06:33:03.047Z"
   },
   {
    "duration": 536,
    "start_time": "2022-04-24T06:33:05.452Z"
   },
   {
    "duration": 23,
    "start_time": "2022-04-24T06:33:18.168Z"
   },
   {
    "duration": 18,
    "start_time": "2022-04-24T06:33:38.874Z"
   },
   {
    "duration": 23,
    "start_time": "2022-04-24T06:33:39.440Z"
   },
   {
    "duration": 3492,
    "start_time": "2022-04-24T06:33:40.247Z"
   },
   {
    "duration": 2620,
    "start_time": "2022-04-24T06:33:46.101Z"
   },
   {
    "duration": 230,
    "start_time": "2022-04-24T06:33:50.829Z"
   },
   {
    "duration": 557,
    "start_time": "2022-04-24T06:34:01.691Z"
   },
   {
    "duration": 439,
    "start_time": "2022-04-24T06:34:27.699Z"
   },
   {
    "duration": 10,
    "start_time": "2022-04-24T06:34:52.101Z"
   },
   {
    "duration": 283,
    "start_time": "2022-04-24T06:34:55.323Z"
   },
   {
    "duration": 263,
    "start_time": "2022-04-24T06:35:28.679Z"
   },
   {
    "duration": 404,
    "start_time": "2022-04-24T06:35:57.293Z"
   },
   {
    "duration": 187,
    "start_time": "2022-04-24T06:37:17.579Z"
   },
   {
    "duration": 192,
    "start_time": "2022-04-24T06:37:31.622Z"
   },
   {
    "duration": 15,
    "start_time": "2022-04-24T06:37:50.843Z"
   },
   {
    "duration": 269,
    "start_time": "2022-04-24T06:37:55.062Z"
   },
   {
    "duration": 412,
    "start_time": "2022-04-24T06:37:57.367Z"
   },
   {
    "duration": 5,
    "start_time": "2022-04-24T06:39:56.139Z"
   },
   {
    "duration": 423,
    "start_time": "2022-04-24T06:40:01.169Z"
   },
   {
    "duration": 0,
    "start_time": "2022-04-24T06:40:15.218Z"
   },
   {
    "duration": 22,
    "start_time": "2022-04-24T06:40:23.965Z"
   },
   {
    "duration": 22,
    "start_time": "2022-04-24T06:40:24.489Z"
   },
   {
    "duration": 8,
    "start_time": "2022-04-24T06:40:25.044Z"
   },
   {
    "duration": 254,
    "start_time": "2022-04-24T06:40:25.504Z"
   },
   {
    "duration": 133,
    "start_time": "2022-04-24T06:40:42.601Z"
   },
   {
    "duration": 15,
    "start_time": "2022-04-24T06:40:56.572Z"
   },
   {
    "duration": 278,
    "start_time": "2022-04-24T06:41:10.550Z"
   },
   {
    "duration": 12,
    "start_time": "2022-04-24T06:41:52.243Z"
   },
   {
    "duration": 18,
    "start_time": "2022-04-24T06:42:01.667Z"
   },
   {
    "duration": 17,
    "start_time": "2022-04-24T06:42:02.099Z"
   },
   {
    "duration": 354,
    "start_time": "2022-04-24T06:42:02.670Z"
   },
   {
    "duration": 912,
    "start_time": "2022-04-24T06:43:44.212Z"
   },
   {
    "duration": 17,
    "start_time": "2022-04-24T06:44:01.835Z"
   },
   {
    "duration": 30,
    "start_time": "2022-04-24T06:44:02.247Z"
   },
   {
    "duration": 1247,
    "start_time": "2022-04-24T06:44:02.785Z"
   },
   {
    "duration": 45,
    "start_time": "2022-04-24T08:40:18.139Z"
   },
   {
    "duration": 18,
    "start_time": "2022-04-24T08:40:18.992Z"
   },
   {
    "duration": 22,
    "start_time": "2022-04-24T08:40:26.576Z"
   },
   {
    "duration": 27,
    "start_time": "2022-04-24T08:40:28.047Z"
   },
   {
    "duration": 6,
    "start_time": "2022-04-24T08:40:29.543Z"
   },
   {
    "duration": 12,
    "start_time": "2022-04-24T08:40:30.240Z"
   },
   {
    "duration": 10,
    "start_time": "2022-04-24T08:40:30.547Z"
   },
   {
    "duration": 12,
    "start_time": "2022-04-24T08:40:31.173Z"
   },
   {
    "duration": 10,
    "start_time": "2022-04-24T08:40:31.504Z"
   },
   {
    "duration": 7,
    "start_time": "2022-04-24T08:40:32.083Z"
   },
   {
    "duration": 31,
    "start_time": "2022-04-24T08:40:32.225Z"
   },
   {
    "duration": 20,
    "start_time": "2022-04-24T08:40:32.370Z"
   },
   {
    "duration": 19,
    "start_time": "2022-04-24T08:40:33.720Z"
   },
   {
    "duration": 223,
    "start_time": "2022-04-24T08:40:33.874Z"
   },
   {
    "duration": 20,
    "start_time": "2022-04-24T08:40:34.818Z"
   },
   {
    "duration": 14,
    "start_time": "2022-04-24T08:40:34.976Z"
   },
   {
    "duration": 6,
    "start_time": "2022-04-24T08:40:35.133Z"
   },
   {
    "duration": 698,
    "start_time": "2022-04-24T08:40:35.298Z"
   },
   {
    "duration": 8,
    "start_time": "2022-04-24T08:40:36.447Z"
   },
   {
    "duration": 19,
    "start_time": "2022-04-24T08:40:36.955Z"
   },
   {
    "duration": 12,
    "start_time": "2022-04-24T08:40:37.110Z"
   },
   {
    "duration": 1718,
    "start_time": "2022-04-24T08:40:37.267Z"
   },
   {
    "duration": 21,
    "start_time": "2022-04-24T08:40:38.988Z"
   },
   {
    "duration": 221,
    "start_time": "2022-04-24T08:40:39.012Z"
   },
   {
    "duration": 29,
    "start_time": "2022-04-24T08:40:39.469Z"
   },
   {
    "duration": 19,
    "start_time": "2022-04-24T08:40:39.637Z"
   },
   {
    "duration": 47,
    "start_time": "2022-04-24T08:40:40.820Z"
   },
   {
    "duration": 12,
    "start_time": "2022-04-24T08:40:41.001Z"
   },
   {
    "duration": 332,
    "start_time": "2022-04-24T08:40:41.641Z"
   },
   {
    "duration": 47,
    "start_time": "2022-04-24T08:40:42.316Z"
   },
   {
    "duration": 10,
    "start_time": "2022-04-24T08:40:42.481Z"
   },
   {
    "duration": 221,
    "start_time": "2022-04-24T08:40:42.665Z"
   },
   {
    "duration": 26,
    "start_time": "2022-04-24T08:40:43.021Z"
   },
   {
    "duration": 220,
    "start_time": "2022-04-24T08:40:43.185Z"
   },
   {
    "duration": 24,
    "start_time": "2022-04-24T08:40:43.407Z"
   },
   {
    "duration": 223,
    "start_time": "2022-04-24T08:40:43.550Z"
   },
   {
    "duration": 61599,
    "start_time": "2022-04-24T08:40:44.823Z"
   },
   {
    "duration": 41,
    "start_time": "2022-04-24T08:41:46.426Z"
   },
   {
    "duration": 23,
    "start_time": "2022-04-24T08:41:46.471Z"
   },
   {
    "duration": 21,
    "start_time": "2022-04-24T08:42:33.012Z"
   },
   {
    "duration": 60583,
    "start_time": "2022-04-24T08:43:19.195Z"
   },
   {
    "duration": 17,
    "start_time": "2022-04-24T08:46:47.586Z"
   },
   {
    "duration": 19,
    "start_time": "2022-04-24T08:47:01.228Z"
   },
   {
    "duration": 16,
    "start_time": "2022-04-24T08:47:11.358Z"
   },
   {
    "duration": 25,
    "start_time": "2022-04-24T08:47:17.219Z"
   },
   {
    "duration": 9,
    "start_time": "2022-04-24T08:47:39.186Z"
   },
   {
    "duration": 377,
    "start_time": "2022-04-24T08:47:52.287Z"
   },
   {
    "duration": 359,
    "start_time": "2022-04-24T08:48:51.658Z"
   },
   {
    "duration": 366,
    "start_time": "2022-04-24T08:48:53.319Z"
   },
   {
    "duration": 362,
    "start_time": "2022-04-24T08:54:20.244Z"
   },
   {
    "duration": 8,
    "start_time": "2022-04-24T08:54:39.660Z"
   },
   {
    "duration": 377,
    "start_time": "2022-04-24T08:54:40.165Z"
   },
   {
    "duration": 252,
    "start_time": "2022-04-24T08:54:54.833Z"
   },
   {
    "duration": 243,
    "start_time": "2022-04-24T08:55:44.508Z"
   },
   {
    "duration": 230,
    "start_time": "2022-04-24T08:55:46.008Z"
   },
   {
    "duration": 232,
    "start_time": "2022-04-24T08:55:52.895Z"
   },
   {
    "duration": 10,
    "start_time": "2022-04-24T08:56:24.336Z"
   },
   {
    "duration": 245,
    "start_time": "2022-04-24T08:56:25.073Z"
   },
   {
    "duration": 235,
    "start_time": "2022-04-24T08:56:26.591Z"
   },
   {
    "duration": 241,
    "start_time": "2022-04-24T08:56:54.210Z"
   },
   {
    "duration": 932,
    "start_time": "2022-04-24T08:57:00.157Z"
   },
   {
    "duration": 232,
    "start_time": "2022-04-24T08:57:07.501Z"
   },
   {
    "duration": 243,
    "start_time": "2022-04-24T08:58:55.196Z"
   },
   {
    "duration": 256,
    "start_time": "2022-04-24T08:59:04.029Z"
   },
   {
    "duration": 238,
    "start_time": "2022-04-24T08:59:18.374Z"
   },
   {
    "duration": 11,
    "start_time": "2022-04-24T09:06:19.984Z"
   },
   {
    "duration": 9,
    "start_time": "2022-04-24T09:06:45.688Z"
   },
   {
    "duration": 9,
    "start_time": "2022-04-24T09:06:55.361Z"
   },
   {
    "duration": 17,
    "start_time": "2022-04-24T09:07:03.314Z"
   },
   {
    "duration": 250,
    "start_time": "2022-04-24T09:08:09.699Z"
   },
   {
    "duration": 255,
    "start_time": "2022-04-24T09:08:58.930Z"
   },
   {
    "duration": 265,
    "start_time": "2022-04-24T09:08:59.953Z"
   },
   {
    "duration": 4,
    "start_time": "2022-04-24T09:16:47.114Z"
   },
   {
    "duration": 34,
    "start_time": "2022-04-24T09:16:55.436Z"
   },
   {
    "duration": 9,
    "start_time": "2022-04-24T09:17:08.017Z"
   },
   {
    "duration": 16,
    "start_time": "2022-04-24T09:17:09.064Z"
   },
   {
    "duration": 1969,
    "start_time": "2022-04-24T09:19:23.902Z"
   },
   {
    "duration": 2131,
    "start_time": "2022-04-24T09:19:29.575Z"
   },
   {
    "duration": 11,
    "start_time": "2022-04-24T09:20:02.298Z"
   },
   {
    "duration": 17,
    "start_time": "2022-04-24T09:20:07.076Z"
   },
   {
    "duration": 14,
    "start_time": "2022-04-24T09:20:14.061Z"
   },
   {
    "duration": 26,
    "start_time": "2022-04-24T09:20:16.387Z"
   },
   {
    "duration": 10,
    "start_time": "2022-04-24T09:20:31.468Z"
   },
   {
    "duration": 17,
    "start_time": "2022-04-24T09:20:32.130Z"
   },
   {
    "duration": 213,
    "start_time": "2022-04-24T09:21:15.889Z"
   },
   {
    "duration": 218,
    "start_time": "2022-04-24T09:21:17.258Z"
   },
   {
    "duration": 221,
    "start_time": "2022-04-24T09:21:18.356Z"
   },
   {
    "duration": 303,
    "start_time": "2022-04-24T09:22:00.608Z"
   },
   {
    "duration": 205,
    "start_time": "2022-04-24T09:22:02.525Z"
   },
   {
    "duration": 225,
    "start_time": "2022-04-24T09:22:04.473Z"
   },
   {
    "duration": 7,
    "start_time": "2022-04-24T09:27:22.941Z"
   },
   {
    "duration": 211,
    "start_time": "2022-04-24T09:27:23.530Z"
   },
   {
    "duration": 222,
    "start_time": "2022-04-24T09:27:26.868Z"
   },
   {
    "duration": 269,
    "start_time": "2022-04-24T09:27:27.855Z"
   },
   {
    "duration": 611,
    "start_time": "2022-04-24T09:27:45.323Z"
   },
   {
    "duration": 37,
    "start_time": "2022-04-24T09:27:45.938Z"
   },
   {
    "duration": 20,
    "start_time": "2022-04-24T09:27:45.977Z"
   },
   {
    "duration": 4,
    "start_time": "2022-04-24T09:27:46.000Z"
   },
   {
    "duration": 51,
    "start_time": "2022-04-24T09:27:46.007Z"
   },
   {
    "duration": 11,
    "start_time": "2022-04-24T09:27:46.061Z"
   },
   {
    "duration": 18,
    "start_time": "2022-04-24T09:27:46.074Z"
   },
   {
    "duration": 11,
    "start_time": "2022-04-24T09:27:46.094Z"
   },
   {
    "duration": 8,
    "start_time": "2022-04-24T09:27:46.108Z"
   },
   {
    "duration": 21,
    "start_time": "2022-04-24T09:27:46.151Z"
   },
   {
    "duration": 20,
    "start_time": "2022-04-24T09:27:46.175Z"
   },
   {
    "duration": 20,
    "start_time": "2022-04-24T09:27:46.197Z"
   },
   {
    "duration": 622,
    "start_time": "2022-04-24T09:27:46.219Z"
   },
   {
    "duration": 22,
    "start_time": "2022-04-24T09:27:46.843Z"
   },
   {
    "duration": 43,
    "start_time": "2022-04-24T09:27:46.868Z"
   },
   {
    "duration": 5,
    "start_time": "2022-04-24T09:27:46.913Z"
   },
   {
    "duration": 690,
    "start_time": "2022-04-24T09:27:46.921Z"
   },
   {
    "duration": 6,
    "start_time": "2022-04-24T09:27:47.613Z"
   },
   {
    "duration": 38,
    "start_time": "2022-04-24T09:27:47.622Z"
   },
   {
    "duration": 12,
    "start_time": "2022-04-24T09:27:47.662Z"
   },
   {
    "duration": 1368,
    "start_time": "2022-04-24T09:27:47.675Z"
   },
   {
    "duration": 23,
    "start_time": "2022-04-24T09:27:49.045Z"
   },
   {
    "duration": 170,
    "start_time": "2022-04-24T09:27:49.071Z"
   },
   {
    "duration": 28,
    "start_time": "2022-04-24T09:27:49.243Z"
   },
   {
    "duration": 15,
    "start_time": "2022-04-24T09:27:49.274Z"
   },
   {
    "duration": 71,
    "start_time": "2022-04-24T09:27:49.291Z"
   },
   {
    "duration": 11,
    "start_time": "2022-04-24T09:27:49.365Z"
   },
   {
    "duration": 364,
    "start_time": "2022-04-24T09:27:49.385Z"
   },
   {
    "duration": 43,
    "start_time": "2022-04-24T09:27:49.752Z"
   },
   {
    "duration": 14,
    "start_time": "2022-04-24T09:27:49.798Z"
   },
   {
    "duration": 383,
    "start_time": "2022-04-24T09:27:49.815Z"
   },
   {
    "duration": 36,
    "start_time": "2022-04-24T09:27:50.201Z"
   },
   {
    "duration": 364,
    "start_time": "2022-04-24T09:27:50.253Z"
   },
   {
    "duration": 42,
    "start_time": "2022-04-24T09:27:50.620Z"
   },
   {
    "duration": 309,
    "start_time": "2022-04-24T09:27:50.665Z"
   },
   {
    "duration": 10,
    "start_time": "2022-04-24T09:27:50.977Z"
   },
   {
    "duration": 353,
    "start_time": "2022-04-24T09:27:50.989Z"
   },
   {
    "duration": 339,
    "start_time": "2022-04-24T09:27:51.352Z"
   },
   {
    "duration": 250,
    "start_time": "2022-04-24T09:27:51.694Z"
   },
   {
    "duration": 9,
    "start_time": "2022-04-24T09:27:51.947Z"
   },
   {
    "duration": 275,
    "start_time": "2022-04-24T09:27:51.958Z"
   },
   {
    "duration": 278,
    "start_time": "2022-04-24T09:27:52.236Z"
   },
   {
    "duration": 269,
    "start_time": "2022-04-24T09:27:52.516Z"
   },
   {
    "duration": 124,
    "start_time": "2022-04-24T09:27:52.787Z"
   },
   {
    "duration": 1,
    "start_time": "2022-04-24T09:27:52.913Z"
   },
   {
    "duration": 0,
    "start_time": "2022-04-24T09:27:52.915Z"
   },
   {
    "duration": 0,
    "start_time": "2022-04-24T09:27:52.916Z"
   },
   {
    "duration": 0,
    "start_time": "2022-04-24T09:27:52.918Z"
   },
   {
    "duration": 0,
    "start_time": "2022-04-24T09:27:52.919Z"
   },
   {
    "duration": 0,
    "start_time": "2022-04-24T09:27:52.921Z"
   },
   {
    "duration": 0,
    "start_time": "2022-04-24T09:27:52.922Z"
   },
   {
    "duration": 9,
    "start_time": "2022-04-24T09:28:08.352Z"
   },
   {
    "duration": 242,
    "start_time": "2022-04-24T09:28:09.321Z"
   },
   {
    "duration": 245,
    "start_time": "2022-04-24T09:28:10.430Z"
   },
   {
    "duration": 374,
    "start_time": "2022-04-24T09:28:11.480Z"
   },
   {
    "duration": 12,
    "start_time": "2022-04-24T09:28:44.475Z"
   },
   {
    "duration": 359,
    "start_time": "2022-04-24T09:28:45.031Z"
   },
   {
    "duration": 10,
    "start_time": "2022-04-24T09:28:49.803Z"
   },
   {
    "duration": 228,
    "start_time": "2022-04-24T09:28:50.469Z"
   },
   {
    "duration": 225,
    "start_time": "2022-04-24T09:28:51.369Z"
   },
   {
    "duration": 279,
    "start_time": "2022-04-24T09:28:52.227Z"
   },
   {
    "duration": 12,
    "start_time": "2022-04-24T09:46:33.428Z"
   },
   {
    "duration": 541,
    "start_time": "2022-04-24T09:47:01.647Z"
   },
   {
    "duration": 10,
    "start_time": "2022-04-24T09:47:04.631Z"
   },
   {
    "duration": 10,
    "start_time": "2022-04-24T09:47:05.597Z"
   },
   {
    "duration": 7,
    "start_time": "2022-04-24T09:47:46.585Z"
   },
   {
    "duration": 8,
    "start_time": "2022-04-24T09:47:47.363Z"
   },
   {
    "duration": 6,
    "start_time": "2022-04-24T09:49:17.650Z"
   },
   {
    "duration": 458,
    "start_time": "2022-04-24T11:13:39.156Z"
   },
   {
    "duration": 22,
    "start_time": "2022-04-24T11:13:39.616Z"
   },
   {
    "duration": 15,
    "start_time": "2022-04-24T11:13:39.640Z"
   },
   {
    "duration": 23,
    "start_time": "2022-04-24T11:13:39.657Z"
   },
   {
    "duration": 14,
    "start_time": "2022-04-24T11:13:39.682Z"
   },
   {
    "duration": 6,
    "start_time": "2022-04-24T11:13:39.698Z"
   },
   {
    "duration": 6,
    "start_time": "2022-04-24T11:13:43.667Z"
   },
   {
    "duration": 45,
    "start_time": "2022-04-24T16:32:45.785Z"
   },
   {
    "duration": 426,
    "start_time": "2022-04-24T16:32:51.042Z"
   },
   {
    "duration": 21,
    "start_time": "2022-04-24T16:32:51.470Z"
   },
   {
    "duration": 14,
    "start_time": "2022-04-24T16:32:52.916Z"
   },
   {
    "duration": 16,
    "start_time": "2022-04-24T16:32:53.986Z"
   },
   {
    "duration": 438,
    "start_time": "2022-05-01T07:01:06.361Z"
   },
   {
    "duration": 19,
    "start_time": "2022-05-01T07:01:06.801Z"
   },
   {
    "duration": 13,
    "start_time": "2022-05-01T07:01:06.822Z"
   },
   {
    "duration": 17,
    "start_time": "2022-05-01T07:01:06.837Z"
   },
   {
    "duration": 6,
    "start_time": "2022-05-01T07:01:06.857Z"
   },
   {
    "duration": 10,
    "start_time": "2022-05-01T07:01:06.864Z"
   },
   {
    "duration": 7,
    "start_time": "2022-05-01T07:01:06.876Z"
   },
   {
    "duration": 9,
    "start_time": "2022-05-01T07:01:06.884Z"
   },
   {
    "duration": 8,
    "start_time": "2022-05-01T07:01:06.895Z"
   },
   {
    "duration": 5,
    "start_time": "2022-05-01T07:01:06.905Z"
   },
   {
    "duration": 45,
    "start_time": "2022-05-01T07:01:06.912Z"
   },
   {
    "duration": 18,
    "start_time": "2022-05-01T07:01:06.959Z"
   },
   {
    "duration": 13,
    "start_time": "2022-05-01T07:01:06.978Z"
   },
   {
    "duration": 557,
    "start_time": "2022-05-01T07:01:06.994Z"
   },
   {
    "duration": 14,
    "start_time": "2022-05-01T07:01:07.553Z"
   },
   {
    "duration": 8,
    "start_time": "2022-05-01T07:01:07.569Z"
   },
   {
    "duration": 8,
    "start_time": "2022-05-01T07:01:07.579Z"
   },
   {
    "duration": 465,
    "start_time": "2022-05-01T07:01:07.589Z"
   },
   {
    "duration": 5,
    "start_time": "2022-05-01T07:01:08.055Z"
   },
   {
    "duration": 15,
    "start_time": "2022-05-01T07:01:08.062Z"
   },
   {
    "duration": 10,
    "start_time": "2022-05-01T07:01:08.078Z"
   },
   {
    "duration": 725,
    "start_time": "2022-05-01T07:01:08.090Z"
   },
   {
    "duration": 11,
    "start_time": "2022-05-01T07:01:08.816Z"
   },
   {
    "duration": 96,
    "start_time": "2022-05-01T07:01:08.828Z"
   },
   {
    "duration": 13,
    "start_time": "2022-05-01T07:01:08.926Z"
   },
   {
    "duration": 11,
    "start_time": "2022-05-01T07:01:08.952Z"
   },
   {
    "duration": 88,
    "start_time": "2022-05-01T07:01:08.965Z"
   },
   {
    "duration": 0,
    "start_time": "2022-05-01T07:01:09.055Z"
   },
   {
    "duration": 0,
    "start_time": "2022-05-01T07:01:09.058Z"
   },
   {
    "duration": 0,
    "start_time": "2022-05-01T07:01:09.060Z"
   },
   {
    "duration": 0,
    "start_time": "2022-05-01T07:01:09.061Z"
   },
   {
    "duration": 0,
    "start_time": "2022-05-01T07:01:09.061Z"
   },
   {
    "duration": 0,
    "start_time": "2022-05-01T07:01:09.063Z"
   },
   {
    "duration": 0,
    "start_time": "2022-05-01T07:01:09.064Z"
   },
   {
    "duration": 0,
    "start_time": "2022-05-01T07:01:09.065Z"
   },
   {
    "duration": 0,
    "start_time": "2022-05-01T07:01:09.067Z"
   },
   {
    "duration": 0,
    "start_time": "2022-05-01T07:01:09.068Z"
   },
   {
    "duration": 1,
    "start_time": "2022-05-01T07:01:09.068Z"
   },
   {
    "duration": 0,
    "start_time": "2022-05-01T07:01:09.069Z"
   },
   {
    "duration": 0,
    "start_time": "2022-05-01T07:01:09.070Z"
   },
   {
    "duration": 0,
    "start_time": "2022-05-01T07:01:09.071Z"
   },
   {
    "duration": 0,
    "start_time": "2022-05-01T07:01:09.072Z"
   },
   {
    "duration": 0,
    "start_time": "2022-05-01T07:01:09.073Z"
   },
   {
    "duration": 0,
    "start_time": "2022-05-01T07:01:09.074Z"
   },
   {
    "duration": 0,
    "start_time": "2022-05-01T07:01:09.075Z"
   },
   {
    "duration": 0,
    "start_time": "2022-05-01T07:01:09.076Z"
   },
   {
    "duration": 0,
    "start_time": "2022-05-01T07:01:09.077Z"
   },
   {
    "duration": 0,
    "start_time": "2022-05-01T07:01:09.078Z"
   },
   {
    "duration": 0,
    "start_time": "2022-05-01T07:01:09.079Z"
   },
   {
    "duration": 0,
    "start_time": "2022-05-01T07:01:09.080Z"
   },
   {
    "duration": 1,
    "start_time": "2022-05-01T07:01:09.080Z"
   },
   {
    "duration": 0,
    "start_time": "2022-05-01T07:01:09.081Z"
   },
   {
    "duration": 20,
    "start_time": "2022-05-01T07:01:19.694Z"
   },
   {
    "duration": 6,
    "start_time": "2022-05-01T07:01:22.639Z"
   },
   {
    "duration": 135,
    "start_time": "2022-05-01T07:01:23.863Z"
   },
   {
    "duration": 131,
    "start_time": "2022-05-01T07:01:44.311Z"
   },
   {
    "duration": 1535,
    "start_time": "2022-05-01T07:02:26.171Z"
   },
   {
    "duration": 0,
    "start_time": "2022-05-01T07:02:27.708Z"
   },
   {
    "duration": 1313,
    "start_time": "2022-05-01T07:02:27.819Z"
   },
   {
    "duration": 0,
    "start_time": "2022-05-01T07:02:29.134Z"
   },
   {
    "duration": 25,
    "start_time": "2022-05-01T07:02:35.740Z"
   },
   {
    "duration": 7,
    "start_time": "2022-05-01T07:02:36.833Z"
   },
   {
    "duration": 152,
    "start_time": "2022-05-01T07:02:38.332Z"
   },
   {
    "duration": 17,
    "start_time": "2022-05-01T07:03:01.227Z"
   },
   {
    "duration": 203,
    "start_time": "2022-05-01T07:03:02.370Z"
   },
   {
    "duration": 16,
    "start_time": "2022-05-01T07:03:05.808Z"
   },
   {
    "duration": 134,
    "start_time": "2022-05-01T07:03:07.495Z"
   },
   {
    "duration": 6,
    "start_time": "2022-05-01T07:07:28.861Z"
   },
   {
    "duration": 147,
    "start_time": "2022-05-01T07:07:29.181Z"
   },
   {
    "duration": 144,
    "start_time": "2022-05-01T07:07:29.709Z"
   },
   {
    "duration": 144,
    "start_time": "2022-05-01T07:07:31.478Z"
   },
   {
    "duration": 76,
    "start_time": "2022-05-01T07:08:16.231Z"
   },
   {
    "duration": 72,
    "start_time": "2022-05-01T07:08:26.236Z"
   },
   {
    "duration": 74,
    "start_time": "2022-05-01T07:08:27.578Z"
   },
   {
    "duration": 98,
    "start_time": "2022-05-01T07:09:06.241Z"
   },
   {
    "duration": 77,
    "start_time": "2022-05-01T07:09:06.898Z"
   },
   {
    "duration": 6,
    "start_time": "2022-05-01T07:09:13.644Z"
   },
   {
    "duration": 150,
    "start_time": "2022-05-01T07:09:13.973Z"
   },
   {
    "duration": 230,
    "start_time": "2022-05-01T07:09:14.367Z"
   },
   {
    "duration": 167,
    "start_time": "2022-05-01T07:09:15.106Z"
   },
   {
    "duration": 78,
    "start_time": "2022-05-01T07:09:25.683Z"
   },
   {
    "duration": 80,
    "start_time": "2022-05-01T07:09:26.206Z"
   },
   {
    "duration": 72,
    "start_time": "2022-05-01T07:09:26.764Z"
   },
   {
    "duration": 8,
    "start_time": "2022-05-01T07:09:36.208Z"
   },
   {
    "duration": 411,
    "start_time": "2022-05-01T07:09:56.781Z"
   },
   {
    "duration": 19,
    "start_time": "2022-05-01T07:09:57.194Z"
   },
   {
    "duration": 14,
    "start_time": "2022-05-01T07:09:57.214Z"
   },
   {
    "duration": 22,
    "start_time": "2022-05-01T07:09:57.230Z"
   },
   {
    "duration": 3,
    "start_time": "2022-05-01T07:09:57.254Z"
   },
   {
    "duration": 12,
    "start_time": "2022-05-01T07:09:57.259Z"
   },
   {
    "duration": 6,
    "start_time": "2022-05-01T07:09:57.273Z"
   },
   {
    "duration": 7,
    "start_time": "2022-05-01T07:09:57.281Z"
   },
   {
    "duration": 8,
    "start_time": "2022-05-01T07:09:57.289Z"
   },
   {
    "duration": 5,
    "start_time": "2022-05-01T07:09:57.299Z"
   },
   {
    "duration": 13,
    "start_time": "2022-05-01T07:09:57.306Z"
   },
   {
    "duration": 39,
    "start_time": "2022-05-01T07:09:57.320Z"
   },
   {
    "duration": 12,
    "start_time": "2022-05-01T07:09:57.361Z"
   },
   {
    "duration": 362,
    "start_time": "2022-05-01T07:09:57.375Z"
   },
   {
    "duration": 24,
    "start_time": "2022-05-01T07:09:57.739Z"
   },
   {
    "duration": 11,
    "start_time": "2022-05-01T07:09:57.765Z"
   },
   {
    "duration": 7,
    "start_time": "2022-05-01T07:09:57.778Z"
   },
   {
    "duration": 400,
    "start_time": "2022-05-01T07:09:57.786Z"
   },
   {
    "duration": 5,
    "start_time": "2022-05-01T07:09:58.188Z"
   },
   {
    "duration": 12,
    "start_time": "2022-05-01T07:09:58.194Z"
   },
   {
    "duration": 8,
    "start_time": "2022-05-01T07:09:58.208Z"
   },
   {
    "duration": 755,
    "start_time": "2022-05-01T07:09:58.217Z"
   },
   {
    "duration": 11,
    "start_time": "2022-05-01T07:09:58.973Z"
   },
   {
    "duration": 99,
    "start_time": "2022-05-01T07:09:58.986Z"
   },
   {
    "duration": 15,
    "start_time": "2022-05-01T07:09:59.086Z"
   },
   {
    "duration": 10,
    "start_time": "2022-05-01T07:09:59.102Z"
   },
   {
    "duration": 47,
    "start_time": "2022-05-01T07:09:59.113Z"
   },
   {
    "duration": 6,
    "start_time": "2022-05-01T07:09:59.165Z"
   },
   {
    "duration": 139,
    "start_time": "2022-05-01T07:09:59.172Z"
   },
   {
    "duration": 37,
    "start_time": "2022-05-01T07:09:59.312Z"
   },
   {
    "duration": 8,
    "start_time": "2022-05-01T07:09:59.350Z"
   },
   {
    "duration": 141,
    "start_time": "2022-05-01T07:09:59.360Z"
   },
   {
    "duration": 14,
    "start_time": "2022-05-01T07:09:59.502Z"
   },
   {
    "duration": 147,
    "start_time": "2022-05-01T07:09:59.518Z"
   },
   {
    "duration": 18,
    "start_time": "2022-05-01T07:09:59.667Z"
   },
   {
    "duration": 145,
    "start_time": "2022-05-01T07:09:59.687Z"
   },
   {
    "duration": 21,
    "start_time": "2022-05-01T07:09:59.834Z"
   },
   {
    "duration": 73,
    "start_time": "2022-05-01T07:09:59.857Z"
   },
   {
    "duration": 157,
    "start_time": "2022-05-01T07:09:59.932Z"
   },
   {
    "duration": 89,
    "start_time": "2022-05-01T07:10:00.091Z"
   },
   {
    "duration": 7,
    "start_time": "2022-05-01T07:10:00.182Z"
   },
   {
    "duration": 92,
    "start_time": "2022-05-01T07:10:00.191Z"
   },
   {
    "duration": 92,
    "start_time": "2022-05-01T07:10:00.285Z"
   },
   {
    "duration": 91,
    "start_time": "2022-05-01T07:10:00.379Z"
   },
   {
    "duration": 79,
    "start_time": "2022-05-01T07:10:00.472Z"
   },
   {
    "duration": 0,
    "start_time": "2022-05-01T07:10:00.553Z"
   },
   {
    "duration": 0,
    "start_time": "2022-05-01T07:10:00.554Z"
   },
   {
    "duration": 1,
    "start_time": "2022-05-01T07:10:00.554Z"
   },
   {
    "duration": 0,
    "start_time": "2022-05-01T07:10:00.555Z"
   },
   {
    "duration": 0,
    "start_time": "2022-05-01T07:10:00.556Z"
   },
   {
    "duration": 0,
    "start_time": "2022-05-01T07:10:00.556Z"
   },
   {
    "duration": 0,
    "start_time": "2022-05-01T07:10:00.557Z"
   },
   {
    "duration": 6,
    "start_time": "2022-05-01T07:10:16.649Z"
   },
   {
    "duration": 440,
    "start_time": "2022-05-01T07:10:38.261Z"
   },
   {
    "duration": 20,
    "start_time": "2022-05-01T07:10:38.703Z"
   },
   {
    "duration": 29,
    "start_time": "2022-05-01T07:10:38.725Z"
   },
   {
    "duration": 12,
    "start_time": "2022-05-01T07:10:38.756Z"
   },
   {
    "duration": 3,
    "start_time": "2022-05-01T07:10:38.770Z"
   },
   {
    "duration": 9,
    "start_time": "2022-05-01T07:10:38.775Z"
   },
   {
    "duration": 6,
    "start_time": "2022-05-01T07:10:38.786Z"
   },
   {
    "duration": 8,
    "start_time": "2022-05-01T07:10:38.793Z"
   },
   {
    "duration": 7,
    "start_time": "2022-05-01T07:10:38.802Z"
   },
   {
    "duration": 6,
    "start_time": "2022-05-01T07:10:38.811Z"
   },
   {
    "duration": 44,
    "start_time": "2022-05-01T07:10:38.818Z"
   },
   {
    "duration": 13,
    "start_time": "2022-05-01T07:10:38.863Z"
   },
   {
    "duration": 12,
    "start_time": "2022-05-01T07:10:38.878Z"
   },
   {
    "duration": 418,
    "start_time": "2022-05-01T07:10:38.893Z"
   },
   {
    "duration": 12,
    "start_time": "2022-05-01T07:10:39.313Z"
   },
   {
    "duration": 23,
    "start_time": "2022-05-01T07:10:39.327Z"
   },
   {
    "duration": 13,
    "start_time": "2022-05-01T07:10:39.352Z"
   },
   {
    "duration": 410,
    "start_time": "2022-05-01T07:10:39.367Z"
   },
   {
    "duration": 6,
    "start_time": "2022-05-01T07:10:39.779Z"
   },
   {
    "duration": 13,
    "start_time": "2022-05-01T07:10:39.786Z"
   },
   {
    "duration": 9,
    "start_time": "2022-05-01T07:10:39.801Z"
   },
   {
    "duration": 1765,
    "start_time": "2022-05-01T07:10:39.812Z"
   },
   {
    "duration": 11,
    "start_time": "2022-05-01T07:10:41.579Z"
   },
   {
    "duration": 137,
    "start_time": "2022-05-01T07:10:41.656Z"
   },
   {
    "duration": 15,
    "start_time": "2022-05-01T07:10:41.794Z"
   },
   {
    "duration": 42,
    "start_time": "2022-05-01T07:10:41.811Z"
   },
   {
    "duration": 33,
    "start_time": "2022-05-01T07:10:41.854Z"
   },
   {
    "duration": 6,
    "start_time": "2022-05-01T07:10:41.889Z"
   },
   {
    "duration": 149,
    "start_time": "2022-05-01T07:10:41.896Z"
   },
   {
    "duration": 26,
    "start_time": "2022-05-01T07:10:42.046Z"
   },
   {
    "duration": 5,
    "start_time": "2022-05-01T07:10:42.074Z"
   },
   {
    "duration": 143,
    "start_time": "2022-05-01T07:10:42.081Z"
   },
   {
    "duration": 27,
    "start_time": "2022-05-01T07:10:42.225Z"
   },
   {
    "duration": 145,
    "start_time": "2022-05-01T07:10:42.254Z"
   },
   {
    "duration": 17,
    "start_time": "2022-05-01T07:10:42.401Z"
   },
   {
    "duration": 150,
    "start_time": "2022-05-01T07:10:42.420Z"
   },
   {
    "duration": 7,
    "start_time": "2022-05-01T07:10:42.572Z"
   },
   {
    "duration": 92,
    "start_time": "2022-05-01T07:10:42.581Z"
   },
   {
    "duration": 148,
    "start_time": "2022-05-01T07:10:42.675Z"
   },
   {
    "duration": 88,
    "start_time": "2022-05-01T07:10:42.826Z"
   },
   {
    "duration": 7,
    "start_time": "2022-05-01T07:10:42.917Z"
   },
   {
    "duration": 85,
    "start_time": "2022-05-01T07:10:42.925Z"
   },
   {
    "duration": 91,
    "start_time": "2022-05-01T07:10:43.012Z"
   },
   {
    "duration": 88,
    "start_time": "2022-05-01T07:10:43.104Z"
   },
   {
    "duration": 6,
    "start_time": "2022-05-01T07:10:43.194Z"
   },
   {
    "duration": 161,
    "start_time": "2022-05-01T07:10:43.201Z"
   },
   {
    "duration": 147,
    "start_time": "2022-05-01T07:10:43.363Z"
   },
   {
    "duration": 153,
    "start_time": "2022-05-01T07:10:43.511Z"
   },
   {
    "duration": 5,
    "start_time": "2022-05-01T07:10:43.666Z"
   },
   {
    "duration": 424,
    "start_time": "2022-05-01T07:10:43.673Z"
   },
   {
    "duration": 4,
    "start_time": "2022-05-01T07:10:44.099Z"
   },
   {
    "duration": 7,
    "start_time": "2022-05-01T07:10:44.105Z"
   },
   {
    "duration": 74,
    "start_time": "2022-05-01T07:10:57.018Z"
   },
   {
    "duration": 73,
    "start_time": "2022-05-01T07:10:57.442Z"
   },
   {
    "duration": 76,
    "start_time": "2022-05-01T07:10:57.890Z"
   },
   {
    "duration": 6,
    "start_time": "2022-05-01T07:12:48.847Z"
   },
   {
    "duration": 5,
    "start_time": "2022-05-01T07:12:53.499Z"
   },
   {
    "duration": 4,
    "start_time": "2022-05-01T07:12:53.843Z"
   },
   {
    "duration": 442,
    "start_time": "2022-05-01T07:39:55.163Z"
   },
   {
    "duration": 20,
    "start_time": "2022-05-01T07:39:55.607Z"
   },
   {
    "duration": 23,
    "start_time": "2022-05-01T07:39:55.629Z"
   },
   {
    "duration": 13,
    "start_time": "2022-05-01T07:39:55.655Z"
   },
   {
    "duration": 3,
    "start_time": "2022-05-01T07:39:55.669Z"
   },
   {
    "duration": 10,
    "start_time": "2022-05-01T07:39:55.673Z"
   },
   {
    "duration": 6,
    "start_time": "2022-05-01T07:39:55.684Z"
   },
   {
    "duration": 7,
    "start_time": "2022-05-01T07:39:55.692Z"
   },
   {
    "duration": 7,
    "start_time": "2022-05-01T07:39:55.700Z"
   },
   {
    "duration": 5,
    "start_time": "2022-05-01T07:39:55.709Z"
   },
   {
    "duration": 18,
    "start_time": "2022-05-01T07:39:55.747Z"
   },
   {
    "duration": 13,
    "start_time": "2022-05-01T07:39:55.767Z"
   },
   {
    "duration": 12,
    "start_time": "2022-05-01T07:39:55.782Z"
   },
   {
    "duration": 374,
    "start_time": "2022-05-01T07:39:55.795Z"
   },
   {
    "duration": 12,
    "start_time": "2022-05-01T07:39:56.170Z"
   },
   {
    "duration": 11,
    "start_time": "2022-05-01T07:39:56.183Z"
   },
   {
    "duration": 6,
    "start_time": "2022-05-01T07:39:56.196Z"
   },
   {
    "duration": 419,
    "start_time": "2022-05-01T07:39:56.204Z"
   },
   {
    "duration": 5,
    "start_time": "2022-05-01T07:39:56.624Z"
   },
   {
    "duration": 25,
    "start_time": "2022-05-01T07:39:56.630Z"
   },
   {
    "duration": 16,
    "start_time": "2022-05-01T07:39:56.657Z"
   },
   {
    "duration": 740,
    "start_time": "2022-05-01T07:39:56.675Z"
   },
   {
    "duration": 10,
    "start_time": "2022-05-01T07:39:57.417Z"
   },
   {
    "duration": 98,
    "start_time": "2022-05-01T07:39:57.429Z"
   },
   {
    "duration": 18,
    "start_time": "2022-05-01T07:39:57.529Z"
   },
   {
    "duration": 12,
    "start_time": "2022-05-01T07:39:57.552Z"
   },
   {
    "duration": 20,
    "start_time": "2022-05-01T07:39:57.565Z"
   },
   {
    "duration": 5,
    "start_time": "2022-05-01T07:39:57.588Z"
   },
   {
    "duration": 158,
    "start_time": "2022-05-01T07:39:57.595Z"
   },
   {
    "duration": 23,
    "start_time": "2022-05-01T07:39:57.755Z"
   },
   {
    "duration": 6,
    "start_time": "2022-05-01T07:39:57.780Z"
   },
   {
    "duration": 149,
    "start_time": "2022-05-01T07:39:57.788Z"
   },
   {
    "duration": 20,
    "start_time": "2022-05-01T07:39:57.939Z"
   },
   {
    "duration": 140,
    "start_time": "2022-05-01T07:39:57.961Z"
   },
   {
    "duration": 17,
    "start_time": "2022-05-01T07:39:58.103Z"
   },
   {
    "duration": 149,
    "start_time": "2022-05-01T07:39:58.122Z"
   },
   {
    "duration": 7,
    "start_time": "2022-05-01T07:39:58.273Z"
   },
   {
    "duration": 93,
    "start_time": "2022-05-01T07:39:58.281Z"
   },
   {
    "duration": 140,
    "start_time": "2022-05-01T07:39:58.376Z"
   },
   {
    "duration": 87,
    "start_time": "2022-05-01T07:39:58.518Z"
   },
   {
    "duration": 6,
    "start_time": "2022-05-01T07:39:58.606Z"
   },
   {
    "duration": 87,
    "start_time": "2022-05-01T07:39:58.613Z"
   },
   {
    "duration": 83,
    "start_time": "2022-05-01T07:39:58.702Z"
   },
   {
    "duration": 84,
    "start_time": "2022-05-01T07:39:58.787Z"
   },
   {
    "duration": 6,
    "start_time": "2022-05-01T07:39:58.872Z"
   },
   {
    "duration": 84,
    "start_time": "2022-05-01T07:39:58.879Z"
   },
   {
    "duration": 67,
    "start_time": "2022-05-01T07:39:58.965Z"
   },
   {
    "duration": 72,
    "start_time": "2022-05-01T07:39:59.049Z"
   },
   {
    "duration": 5,
    "start_time": "2022-05-01T07:39:59.123Z"
   },
   {
    "duration": 461,
    "start_time": "2022-05-01T07:39:59.130Z"
   },
   {
    "duration": 4,
    "start_time": "2022-05-01T07:39:59.594Z"
   },
   {
    "duration": 6,
    "start_time": "2022-05-01T07:39:59.600Z"
   },
   {
    "duration": 46,
    "start_time": "2022-05-02T04:57:29.598Z"
   },
   {
    "duration": 431,
    "start_time": "2022-05-02T04:57:35.083Z"
   },
   {
    "duration": 20,
    "start_time": "2022-05-02T04:57:35.516Z"
   },
   {
    "duration": 14,
    "start_time": "2022-05-02T04:57:35.752Z"
   },
   {
    "duration": 11,
    "start_time": "2022-05-02T04:57:35.922Z"
   },
   {
    "duration": 3,
    "start_time": "2022-05-02T04:57:37.177Z"
   },
   {
    "duration": 10,
    "start_time": "2022-05-02T04:57:37.855Z"
   },
   {
    "duration": 8,
    "start_time": "2022-05-02T04:57:38.195Z"
   },
   {
    "duration": 10,
    "start_time": "2022-05-02T04:57:39.056Z"
   },
   {
    "duration": 7,
    "start_time": "2022-05-02T04:57:39.419Z"
   },
   {
    "duration": 5,
    "start_time": "2022-05-02T04:57:39.960Z"
   },
   {
    "duration": 14,
    "start_time": "2022-05-02T04:57:40.146Z"
   },
   {
    "duration": 15,
    "start_time": "2022-05-02T04:57:40.319Z"
   },
   {
    "duration": 15,
    "start_time": "2022-05-02T04:57:41.987Z"
   },
   {
    "duration": 595,
    "start_time": "2022-05-02T04:57:42.161Z"
   },
   {
    "duration": 13,
    "start_time": "2022-05-02T04:57:43.479Z"
   },
   {
    "duration": 9,
    "start_time": "2022-05-02T04:57:43.643Z"
   },
   {
    "duration": 4,
    "start_time": "2022-05-02T04:57:43.841Z"
   },
   {
    "duration": 451,
    "start_time": "2022-05-02T04:57:44.038Z"
   },
   {
    "duration": 4,
    "start_time": "2022-05-02T04:57:46.339Z"
   },
   {
    "duration": 12,
    "start_time": "2022-05-02T04:57:46.978Z"
   },
   {
    "duration": 9,
    "start_time": "2022-05-02T04:57:47.188Z"
   },
   {
    "duration": 758,
    "start_time": "2022-05-02T04:57:47.371Z"
   },
   {
    "duration": 13,
    "start_time": "2022-05-02T04:57:48.876Z"
   },
   {
    "duration": 88,
    "start_time": "2022-05-02T04:57:49.106Z"
   },
   {
    "duration": 16,
    "start_time": "2022-05-02T04:57:51.259Z"
   },
   {
    "duration": 11,
    "start_time": "2022-05-02T04:57:54.532Z"
   },
   {
    "duration": 4,
    "start_time": "2022-05-02T04:57:58.010Z"
   },
   {
    "duration": 2720,
    "start_time": "2022-05-02T04:58:21.252Z"
   },
   {
    "duration": 2549,
    "start_time": "2022-05-02T04:58:40.526Z"
   },
   {
    "duration": 22,
    "start_time": "2022-05-02T04:58:53.762Z"
   },
   {
    "duration": 5,
    "start_time": "2022-05-02T04:59:04.859Z"
   },
   {
    "duration": 127,
    "start_time": "2022-05-02T04:59:27.318Z"
   },
   {
    "duration": 4,
    "start_time": "2022-05-02T04:59:40.454Z"
   },
   {
    "duration": 5,
    "start_time": "2022-05-02T04:59:41.014Z"
   },
   {
    "duration": 129,
    "start_time": "2022-05-02T04:59:41.603Z"
   },
   {
    "duration": 6,
    "start_time": "2022-05-02T05:00:07.757Z"
   },
   {
    "duration": 144,
    "start_time": "2022-05-02T05:00:16.049Z"
   },
   {
    "duration": 131,
    "start_time": "2022-05-02T05:00:39.059Z"
   },
   {
    "duration": 4,
    "start_time": "2022-05-02T05:01:33.894Z"
   },
   {
    "duration": 5,
    "start_time": "2022-05-02T05:01:34.568Z"
   },
   {
    "duration": 184,
    "start_time": "2022-05-02T05:01:35.330Z"
   },
   {
    "duration": 6,
    "start_time": "2022-05-02T05:01:46.029Z"
   },
   {
    "duration": 5,
    "start_time": "2022-05-02T05:01:46.716Z"
   },
   {
    "duration": 132,
    "start_time": "2022-05-02T05:01:47.410Z"
   },
   {
    "duration": 5,
    "start_time": "2022-05-02T05:01:52.724Z"
   },
   {
    "duration": 128,
    "start_time": "2022-05-02T05:01:54.159Z"
   },
   {
    "duration": 5,
    "start_time": "2022-05-02T05:02:27.418Z"
   },
   {
    "duration": 8,
    "start_time": "2022-05-02T05:03:20.437Z"
   },
   {
    "duration": 2766,
    "start_time": "2022-05-02T05:03:21.955Z"
   },
   {
    "duration": 145,
    "start_time": "2022-05-02T05:03:29.088Z"
   },
   {
    "duration": 147,
    "start_time": "2022-05-02T05:03:42.125Z"
   },
   {
    "duration": 6,
    "start_time": "2022-05-02T05:04:06.321Z"
   },
   {
    "duration": 134,
    "start_time": "2022-05-02T05:05:45.601Z"
   },
   {
    "duration": 138,
    "start_time": "2022-05-02T05:05:46.811Z"
   },
   {
    "duration": 135,
    "start_time": "2022-05-02T05:05:49.611Z"
   },
   {
    "duration": 18,
    "start_time": "2022-05-02T05:09:52.369Z"
   },
   {
    "duration": 80,
    "start_time": "2022-05-02T05:15:05.151Z"
   },
   {
    "duration": 15,
    "start_time": "2022-05-02T05:15:58.731Z"
   },
   {
    "duration": 13,
    "start_time": "2022-05-02T05:16:03.834Z"
   },
   {
    "duration": 24,
    "start_time": "2022-05-02T05:16:21.232Z"
   },
   {
    "duration": 107,
    "start_time": "2022-05-02T05:16:38.650Z"
   },
   {
    "duration": 19,
    "start_time": "2022-05-02T05:18:20.235Z"
   },
   {
    "duration": 152,
    "start_time": "2022-05-02T05:18:26.544Z"
   },
   {
    "duration": 1848,
    "start_time": "2022-05-02T08:07:57.551Z"
   },
   {
    "duration": 528,
    "start_time": "2022-05-02T08:08:05.769Z"
   },
   {
    "duration": 31,
    "start_time": "2022-05-02T08:08:06.300Z"
   },
   {
    "duration": 30,
    "start_time": "2022-05-02T08:08:06.333Z"
   },
   {
    "duration": 15,
    "start_time": "2022-05-02T08:08:06.366Z"
   },
   {
    "duration": 3,
    "start_time": "2022-05-02T08:08:06.383Z"
   },
   {
    "duration": 27,
    "start_time": "2022-05-02T08:08:06.388Z"
   },
   {
    "duration": 11,
    "start_time": "2022-05-02T08:08:06.417Z"
   },
   {
    "duration": 12,
    "start_time": "2022-05-02T08:08:06.451Z"
   },
   {
    "duration": 8,
    "start_time": "2022-05-02T08:08:06.466Z"
   },
   {
    "duration": 8,
    "start_time": "2022-05-02T08:08:06.478Z"
   },
   {
    "duration": 30,
    "start_time": "2022-05-02T08:08:06.488Z"
   },
   {
    "duration": 43,
    "start_time": "2022-05-02T08:08:06.520Z"
   },
   {
    "duration": 19,
    "start_time": "2022-05-02T08:08:06.565Z"
   },
   {
    "duration": 703,
    "start_time": "2022-05-02T08:08:06.586Z"
   },
   {
    "duration": 70,
    "start_time": "2022-05-02T08:08:07.292Z"
   },
   {
    "duration": 21,
    "start_time": "2022-05-02T08:08:07.365Z"
   },
   {
    "duration": 65,
    "start_time": "2022-05-02T08:08:07.387Z"
   },
   {
    "duration": 1335,
    "start_time": "2022-05-02T08:08:07.454Z"
   },
   {
    "duration": 61,
    "start_time": "2022-05-02T08:08:08.791Z"
   },
   {
    "duration": 23,
    "start_time": "2022-05-02T08:08:08.854Z"
   },
   {
    "duration": 12,
    "start_time": "2022-05-02T08:08:08.879Z"
   },
   {
    "duration": 1784,
    "start_time": "2022-05-02T08:08:08.893Z"
   },
   {
    "duration": 27,
    "start_time": "2022-05-02T08:08:10.679Z"
   },
   {
    "duration": 167,
    "start_time": "2022-05-02T08:08:10.709Z"
   },
   {
    "duration": 179,
    "start_time": "2022-05-02T08:08:10.878Z"
   },
   {
    "duration": 755,
    "start_time": "2022-05-02T08:08:11.059Z"
   },
   {
    "duration": 23,
    "start_time": "2022-05-02T08:08:11.816Z"
   },
   {
    "duration": 15,
    "start_time": "2022-05-02T08:08:11.852Z"
   },
   {
    "duration": 7,
    "start_time": "2022-05-02T08:08:11.869Z"
   },
   {
    "duration": 13,
    "start_time": "2022-05-02T08:08:11.878Z"
   },
   {
    "duration": 264,
    "start_time": "2022-05-02T08:08:11.893Z"
   },
   {
    "duration": 8,
    "start_time": "2022-05-02T08:08:12.159Z"
   },
   {
    "duration": 289,
    "start_time": "2022-05-02T08:08:12.169Z"
   },
   {
    "duration": 11,
    "start_time": "2022-05-02T08:08:12.460Z"
   },
   {
    "duration": 249,
    "start_time": "2022-05-02T08:08:12.473Z"
   },
   {
    "duration": 6,
    "start_time": "2022-05-02T08:08:12.725Z"
   },
   {
    "duration": 230,
    "start_time": "2022-05-02T08:08:12.733Z"
   },
   {
    "duration": 9,
    "start_time": "2022-05-02T08:08:12.965Z"
   },
   {
    "duration": 197,
    "start_time": "2022-05-02T08:08:12.976Z"
   },
   {
    "duration": 248,
    "start_time": "2022-05-02T08:08:13.176Z"
   },
   {
    "duration": 269,
    "start_time": "2022-05-02T08:08:13.427Z"
   },
   {
    "duration": 53,
    "start_time": "2022-05-02T08:08:13.699Z"
   },
   {
    "duration": 258,
    "start_time": "2022-05-02T08:08:13.754Z"
   },
   {
    "duration": 147,
    "start_time": "2022-05-02T08:08:14.014Z"
   },
   {
    "duration": 150,
    "start_time": "2022-05-02T08:08:14.163Z"
   },
   {
    "duration": 9,
    "start_time": "2022-05-02T08:08:14.316Z"
   },
   {
    "duration": 211,
    "start_time": "2022-05-02T08:08:14.328Z"
   },
   {
    "duration": 196,
    "start_time": "2022-05-02T08:08:14.551Z"
   },
   {
    "duration": 149,
    "start_time": "2022-05-02T08:08:14.750Z"
   },
   {
    "duration": 7,
    "start_time": "2022-05-02T08:08:14.901Z"
   },
   {
    "duration": 10,
    "start_time": "2022-05-02T08:08:14.910Z"
   },
   {
    "duration": 29,
    "start_time": "2022-05-02T08:08:14.923Z"
   },
   {
    "duration": 12,
    "start_time": "2022-05-02T08:08:14.955Z"
   },
   {
    "duration": 172,
    "start_time": "2022-05-02T08:08:59.946Z"
   },
   {
    "duration": 156,
    "start_time": "2022-05-02T08:11:07.040Z"
   },
   {
    "duration": 17,
    "start_time": "2022-05-02T08:11:21.664Z"
   },
   {
    "duration": 12,
    "start_time": "2022-05-02T08:11:25.731Z"
   },
   {
    "duration": 341,
    "start_time": "2022-05-02T08:11:51.125Z"
   },
   {
    "duration": 413,
    "start_time": "2022-05-03T04:59:12.254Z"
   },
   {
    "duration": 21,
    "start_time": "2022-05-03T04:59:12.669Z"
   },
   {
    "duration": 13,
    "start_time": "2022-05-03T04:59:12.692Z"
   },
   {
    "duration": 18,
    "start_time": "2022-05-03T04:59:12.707Z"
   },
   {
    "duration": 3,
    "start_time": "2022-05-03T04:59:12.727Z"
   },
   {
    "duration": 10,
    "start_time": "2022-05-03T04:59:12.732Z"
   },
   {
    "duration": 6,
    "start_time": "2022-05-03T04:59:12.743Z"
   },
   {
    "duration": 7,
    "start_time": "2022-05-03T04:59:12.751Z"
   },
   {
    "duration": 7,
    "start_time": "2022-05-03T04:59:12.759Z"
   },
   {
    "duration": 5,
    "start_time": "2022-05-03T04:59:12.768Z"
   },
   {
    "duration": 17,
    "start_time": "2022-05-03T04:59:12.775Z"
   },
   {
    "duration": 42,
    "start_time": "2022-05-03T04:59:12.794Z"
   },
   {
    "duration": 12,
    "start_time": "2022-05-03T04:59:12.838Z"
   },
   {
    "duration": 528,
    "start_time": "2022-05-03T04:59:12.851Z"
   },
   {
    "duration": 14,
    "start_time": "2022-05-03T04:59:13.381Z"
   },
   {
    "duration": 12,
    "start_time": "2022-05-03T04:59:13.397Z"
   },
   {
    "duration": 15,
    "start_time": "2022-05-03T04:59:13.410Z"
   },
   {
    "duration": 452,
    "start_time": "2022-05-03T04:59:13.426Z"
   },
   {
    "duration": 4,
    "start_time": "2022-05-03T04:59:13.880Z"
   },
   {
    "duration": 14,
    "start_time": "2022-05-03T04:59:13.885Z"
   },
   {
    "duration": 8,
    "start_time": "2022-05-03T04:59:13.901Z"
   },
   {
    "duration": 733,
    "start_time": "2022-05-03T04:59:13.910Z"
   },
   {
    "duration": 680,
    "start_time": "2022-05-03T04:59:14.645Z"
   },
   {
    "duration": 302,
    "start_time": "2022-05-03T04:59:15.327Z"
   },
   {
    "duration": 15,
    "start_time": "2022-05-03T04:59:15.631Z"
   },
   {
    "duration": 10,
    "start_time": "2022-05-03T04:59:15.647Z"
   },
   {
    "duration": 5,
    "start_time": "2022-05-03T04:59:15.658Z"
   },
   {
    "duration": 5,
    "start_time": "2022-05-03T04:59:15.724Z"
   },
   {
    "duration": 235,
    "start_time": "2022-05-03T04:59:15.731Z"
   },
   {
    "duration": 59,
    "start_time": "2022-05-03T04:59:15.968Z"
   },
   {
    "duration": 232,
    "start_time": "2022-05-03T04:59:16.029Z"
   },
   {
    "duration": 62,
    "start_time": "2022-05-03T04:59:16.263Z"
   },
   {
    "duration": 235,
    "start_time": "2022-05-03T04:59:16.327Z"
   },
   {
    "duration": 5,
    "start_time": "2022-05-03T04:59:16.564Z"
   },
   {
    "duration": 290,
    "start_time": "2022-05-03T04:59:16.570Z"
   },
   {
    "duration": 62,
    "start_time": "2022-05-03T04:59:16.862Z"
   },
   {
    "duration": 127,
    "start_time": "2022-05-03T04:59:16.925Z"
   },
   {
    "duration": 170,
    "start_time": "2022-05-03T04:59:17.053Z"
   },
   {
    "duration": 142,
    "start_time": "2022-05-03T04:59:17.226Z"
   },
   {
    "duration": 7,
    "start_time": "2022-05-03T04:59:17.370Z"
   },
   {
    "duration": 92,
    "start_time": "2022-05-03T04:59:17.378Z"
   },
   {
    "duration": 84,
    "start_time": "2022-05-03T04:59:17.472Z"
   },
   {
    "duration": 89,
    "start_time": "2022-05-03T04:59:17.558Z"
   },
   {
    "duration": 6,
    "start_time": "2022-05-03T04:59:17.649Z"
   },
   {
    "duration": 80,
    "start_time": "2022-05-03T04:59:17.657Z"
   },
   {
    "duration": 85,
    "start_time": "2022-05-03T04:59:17.739Z"
   },
   {
    "duration": 74,
    "start_time": "2022-05-03T04:59:17.826Z"
   },
   {
    "duration": 21,
    "start_time": "2022-05-03T04:59:17.902Z"
   },
   {
    "duration": 6,
    "start_time": "2022-05-03T04:59:17.925Z"
   },
   {
    "duration": 5,
    "start_time": "2022-05-03T04:59:17.933Z"
   },
   {
    "duration": 6,
    "start_time": "2022-05-03T04:59:17.940Z"
   },
   {
    "duration": 193,
    "start_time": "2022-05-03T04:59:30.033Z"
   },
   {
    "duration": 209,
    "start_time": "2022-05-03T05:00:28.994Z"
   },
   {
    "duration": 193,
    "start_time": "2022-05-03T05:00:45.197Z"
   },
   {
    "duration": 279,
    "start_time": "2022-05-03T05:00:55.998Z"
   },
   {
    "duration": 195,
    "start_time": "2022-05-03T05:01:07.299Z"
   },
   {
    "duration": 219,
    "start_time": "2022-05-03T05:01:16.619Z"
   },
   {
    "duration": 208,
    "start_time": "2022-05-03T05:01:25.271Z"
   },
   {
    "duration": 191,
    "start_time": "2022-05-03T05:01:32.566Z"
   },
   {
    "duration": 204,
    "start_time": "2022-05-03T05:01:36.726Z"
   },
   {
    "duration": 288,
    "start_time": "2022-05-03T05:02:18.019Z"
   },
   {
    "duration": 235,
    "start_time": "2022-05-03T05:03:37.721Z"
   },
   {
    "duration": 518,
    "start_time": "2022-05-04T17:08:59.865Z"
   },
   {
    "duration": 19,
    "start_time": "2022-05-04T17:09:00.385Z"
   },
   {
    "duration": 12,
    "start_time": "2022-05-04T17:09:00.406Z"
   },
   {
    "duration": 14,
    "start_time": "2022-05-04T17:09:00.421Z"
   },
   {
    "duration": 29,
    "start_time": "2022-05-04T17:09:00.436Z"
   },
   {
    "duration": 20,
    "start_time": "2022-05-04T17:09:00.466Z"
   },
   {
    "duration": 16,
    "start_time": "2022-05-04T17:09:00.487Z"
   },
   {
    "duration": 7,
    "start_time": "2022-05-04T17:09:00.505Z"
   },
   {
    "duration": 8,
    "start_time": "2022-05-04T17:09:00.514Z"
   },
   {
    "duration": 6,
    "start_time": "2022-05-04T17:09:00.524Z"
   },
   {
    "duration": 23,
    "start_time": "2022-05-04T17:09:00.531Z"
   },
   {
    "duration": 16,
    "start_time": "2022-05-04T17:09:00.555Z"
   },
   {
    "duration": 12,
    "start_time": "2022-05-04T17:09:00.572Z"
   },
   {
    "duration": 395,
    "start_time": "2022-05-04T17:09:00.586Z"
   },
   {
    "duration": 12,
    "start_time": "2022-05-04T17:09:00.983Z"
   },
   {
    "duration": 8,
    "start_time": "2022-05-04T17:09:00.997Z"
   },
   {
    "duration": 12,
    "start_time": "2022-05-04T17:09:01.006Z"
   },
   {
    "duration": 432,
    "start_time": "2022-05-04T17:09:01.020Z"
   },
   {
    "duration": 5,
    "start_time": "2022-05-04T17:09:01.454Z"
   },
   {
    "duration": 39,
    "start_time": "2022-05-04T17:09:01.461Z"
   },
   {
    "duration": 12,
    "start_time": "2022-05-04T17:09:01.502Z"
   },
   {
    "duration": 917,
    "start_time": "2022-05-04T17:09:01.516Z"
   },
   {
    "duration": 913,
    "start_time": "2022-05-04T17:09:30.267Z"
   },
   {
    "duration": 332,
    "start_time": "2022-05-04T17:09:34.615Z"
   },
   {
    "duration": 22,
    "start_time": "2022-05-04T17:09:49.307Z"
   },
   {
    "duration": 25,
    "start_time": "2022-05-04T17:10:06.978Z"
   },
   {
    "duration": 98,
    "start_time": "2022-05-04T17:11:16.537Z"
   },
   {
    "duration": 175,
    "start_time": "2022-05-04T17:11:36.530Z"
   },
   {
    "duration": 201,
    "start_time": "2022-05-04T17:11:53.630Z"
   },
   {
    "duration": 227,
    "start_time": "2022-05-04T17:12:06.703Z"
   }
  ],
  "kernelspec": {
   "display_name": "Python 3 (ipykernel)",
   "language": "python",
   "name": "python3"
  },
  "language_info": {
   "codemirror_mode": {
    "name": "ipython",
    "version": 3
   },
   "file_extension": ".py",
   "mimetype": "text/x-python",
   "name": "python",
   "nbconvert_exporter": "python",
   "pygments_lexer": "ipython3",
   "version": "3.9.7"
  },
  "toc": {
   "base_numbering": 1,
   "nav_menu": {
    "height": "151px",
    "width": "282px"
   },
   "number_sections": true,
   "sideBar": true,
   "skip_h1_title": true,
   "title_cell": "Table of Contents",
   "title_sidebar": "Contents",
   "toc_cell": false,
   "toc_position": {
    "height": "calc(100% - 180px)",
    "left": "10px",
    "top": "150px",
    "width": "366.396px"
   },
   "toc_section_display": true,
   "toc_window_display": true
  }
 },
 "nbformat": 4,
 "nbformat_minor": 2
}
