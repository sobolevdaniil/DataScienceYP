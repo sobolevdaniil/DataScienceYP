{
 "cells": [
  {
   "cell_type": "markdown",
   "metadata": {
    "toc": true
   },
   "source": [
    "<h1>Содержание<span class=\"tocSkip\"></span></h1>\n",
    "<div class=\"toc\"><ul class=\"toc-item\"><li><ul class=\"toc-item\"><li><span><a href=\"#Импорт-библиотек\" data-toc-modified-id=\"Импорт-библиотек-0.1\"><span class=\"toc-item-num\">0.1&nbsp;&nbsp;</span>Импорт библиотек</a></span></li></ul></li><li><span><a href=\"#Общая-информация-о-данных\" data-toc-modified-id=\"Общая-информация-о-данных-1\"><span class=\"toc-item-num\">1&nbsp;&nbsp;</span>Общая информация о данных</a></span><ul class=\"toc-item\"><li><span><a href=\"#Изучение-датасетов\" data-toc-modified-id=\"Изучение-датасетов-1.1\"><span class=\"toc-item-num\">1.1&nbsp;&nbsp;</span>Изучение датасетов</a></span><ul class=\"toc-item\"><li><span><a href=\"#Исходные-данные\" data-toc-modified-id=\"Исходные-данные-1.1.1\"><span class=\"toc-item-num\">1.1.1&nbsp;&nbsp;</span>Исходные данные</a></span></li><li><span><a href=\"#Обучающая-выборка\" data-toc-modified-id=\"Обучающая-выборка-1.1.2\"><span class=\"toc-item-num\">1.1.2&nbsp;&nbsp;</span>Обучающая выборка</a></span></li><li><span><a href=\"#Тестовая-выборка\" data-toc-modified-id=\"Тестовая-выборка-1.1.3\"><span class=\"toc-item-num\">1.1.3&nbsp;&nbsp;</span>Тестовая выборка</a></span></li></ul></li><li><span><a href=\"#Процент-пропусков\" data-toc-modified-id=\"Процент-пропусков-1.2\"><span class=\"toc-item-num\">1.2&nbsp;&nbsp;</span>Процент пропусков</a></span></li><li><span><a href=\"#Проверка-на-дубликаты\" data-toc-modified-id=\"Проверка-на-дубликаты-1.3\"><span class=\"toc-item-num\">1.3&nbsp;&nbsp;</span>Проверка на дубликаты</a></span></li><li><span><a href=\"#Общая-статистика\" data-toc-modified-id=\"Общая-статистика-1.4\"><span class=\"toc-item-num\">1.4&nbsp;&nbsp;</span>Общая статистика</a></span></li></ul></li><li><span><a href=\"#Предобработка-данных\" data-toc-modified-id=\"Предобработка-данных-2\"><span class=\"toc-item-num\">2&nbsp;&nbsp;</span>Предобработка данных</a></span><ul class=\"toc-item\"><li><span><a href=\"#Проверка-расчета-эффективности-обогащения\" data-toc-modified-id=\"Проверка-расчета-эффективности-обогащения-2.1\"><span class=\"toc-item-num\">2.1&nbsp;&nbsp;</span>Проверка расчета эффективности обогащения</a></span></li><li><span><a href=\"#Проанализируем-признаки-недоступные-в-тестовой-выборке\" data-toc-modified-id=\"Проанализируем-признаки-недоступные-в-тестовой-выборке-2.2\"><span class=\"toc-item-num\">2.2&nbsp;&nbsp;</span>Проанализируем признаки недоступные в тестовой выборке</a></span></li><li><span><a href=\"#Заполнение-пропусков\" data-toc-modified-id=\"Заполнение-пропусков-2.3\"><span class=\"toc-item-num\">2.3&nbsp;&nbsp;</span>Заполнение пропусков</a></span></li><li><span><a href=\"#Разделение-датаестов-на-выборки\" data-toc-modified-id=\"Разделение-датаестов-на-выборки-2.4\"><span class=\"toc-item-num\">2.4&nbsp;&nbsp;</span>Разделение датаестов на выборки</a></span></li></ul></li><li><span><a href=\"#Анализ-данных\" data-toc-modified-id=\"Анализ-данных-3\"><span class=\"toc-item-num\">3&nbsp;&nbsp;</span>Анализ данных</a></span><ul class=\"toc-item\"><li><span><a href=\"#Концентрация-металлов-(Au,-Ag,-Pb)\" data-toc-modified-id=\"Концентрация-металлов-(Au,-Ag,-Pb)-3.1\"><span class=\"toc-item-num\">3.1&nbsp;&nbsp;</span>Концентрация металлов (Au, Ag, Pb)</a></span></li><li><span><a href=\"#Размер-гранул\" data-toc-modified-id=\"Размер-гранул-3.2\"><span class=\"toc-item-num\">3.2&nbsp;&nbsp;</span>Размер гранул</a></span></li><li><span><a href=\"#Суммарная-концентрация-всех-веществ-на-разных-стадиях\" data-toc-modified-id=\"Суммарная-концентрация-всех-веществ-на-разных-стадиях-3.3\"><span class=\"toc-item-num\">3.3&nbsp;&nbsp;</span>Суммарная концентрация всех веществ на разных стадиях</a></span></li></ul></li><li><span><a href=\"#Модель\" data-toc-modified-id=\"Модель-4\"><span class=\"toc-item-num\">4&nbsp;&nbsp;</span>Модель</a></span><ul class=\"toc-item\"><li><span><a href=\"#Функция-sMAPE\" data-toc-modified-id=\"Функция-sMAPE-4.1\"><span class=\"toc-item-num\">4.1&nbsp;&nbsp;</span>Функция sMAPE</a></span></li><li><span><a href=\"#Поиск-наилучшей-модели\" data-toc-modified-id=\"Поиск-наилучшей-модели-4.2\"><span class=\"toc-item-num\">4.2&nbsp;&nbsp;</span>Поиск наилучшей модели</a></span></li><li><span><a href=\"#Проверка-модели-на-тестовой-выборке\" data-toc-modified-id=\"Проверка-модели-на-тестовой-выборке-4.3\"><span class=\"toc-item-num\">4.3&nbsp;&nbsp;</span>Проверка модели на тестовой выборке</a></span></li></ul></li><li><span><a href=\"#Вывод\" data-toc-modified-id=\"Вывод-5\"><span class=\"toc-item-num\">5&nbsp;&nbsp;</span>Вывод</a></span></li><li><span><a href=\"#Чек-лист-готовности-проекта\" data-toc-modified-id=\"Чек-лист-готовности-проекта-6\"><span class=\"toc-item-num\">6&nbsp;&nbsp;</span>Чек-лист готовности проекта</a></span></li></ul></div>"
   ]
  },
  {
   "cell_type": "markdown",
   "metadata": {},
   "source": [
    "# Восстановление золота из руды"
   ]
  },
  {
   "cell_type": "markdown",
   "metadata": {},
   "source": [
    "Подготовьте прототип модели машинного обучения для «Цифры». Компания разрабатывает решения для эффективной работы промышленных предприятий.\n",
    "\n",
    "Модель должна предсказать коэффициент восстановления золота из золотосодержащей руды.\n",
    "\n",
    "Модель поможет оптимизировать производство, чтобы не запускать предприятие с убыточными характеристиками."
   ]
  },
  {
   "cell_type": "markdown",
   "metadata": {},
   "source": [
    "### Импорт библиотек"
   ]
  },
  {
   "cell_type": "code",
   "execution_count": 1,
   "metadata": {},
   "outputs": [],
   "source": [
    "import pandas as pd\n",
    "import numpy as np\n",
    "import matplotlib.pyplot as plt\n",
    "import seaborn as sns\n",
    "\n",
    "from sklearn.linear_model import LinearRegression\n",
    "from sklearn.ensemble import RandomForestRegressor\n",
    "from sklearn.tree import DecisionTreeRegressor\n",
    "from sklearn.model_selection import cross_val_score\n",
    "from sklearn.metrics import make_scorer\n",
    "from sklearn.metrics import mean_absolute_error\n",
    "\n",
    "pd.options.mode.chained_assignment = None # убираем предупреждение \"A value is trying to be set on a copy...\""
   ]
  },
  {
   "cell_type": "markdown",
   "metadata": {},
   "source": [
    "## Общая информация о данных"
   ]
  },
  {
   "cell_type": "markdown",
   "metadata": {},
   "source": [
    "### Изучение датасетов"
   ]
  },
  {
   "cell_type": "markdown",
   "metadata": {},
   "source": [
    "#### Исходные данные"
   ]
  },
  {
   "cell_type": "code",
   "execution_count": 2,
   "metadata": {
    "scrolled": true
   },
   "outputs": [
    {
     "data": {
      "text/html": [
       "<div>\n",
       "<style scoped>\n",
       "    .dataframe tbody tr th:only-of-type {\n",
       "        vertical-align: middle;\n",
       "    }\n",
       "\n",
       "    .dataframe tbody tr th {\n",
       "        vertical-align: top;\n",
       "    }\n",
       "\n",
       "    .dataframe thead th {\n",
       "        text-align: right;\n",
       "    }\n",
       "</style>\n",
       "<table border=\"1\" class=\"dataframe\">\n",
       "  <thead>\n",
       "    <tr style=\"text-align: right;\">\n",
       "      <th></th>\n",
       "      <th>date</th>\n",
       "      <th>final.output.concentrate_ag</th>\n",
       "      <th>final.output.concentrate_pb</th>\n",
       "      <th>final.output.concentrate_sol</th>\n",
       "      <th>final.output.concentrate_au</th>\n",
       "      <th>final.output.recovery</th>\n",
       "      <th>final.output.tail_ag</th>\n",
       "      <th>final.output.tail_pb</th>\n",
       "      <th>final.output.tail_sol</th>\n",
       "      <th>final.output.tail_au</th>\n",
       "      <th>...</th>\n",
       "      <th>secondary_cleaner.state.floatbank4_a_air</th>\n",
       "      <th>secondary_cleaner.state.floatbank4_a_level</th>\n",
       "      <th>secondary_cleaner.state.floatbank4_b_air</th>\n",
       "      <th>secondary_cleaner.state.floatbank4_b_level</th>\n",
       "      <th>secondary_cleaner.state.floatbank5_a_air</th>\n",
       "      <th>secondary_cleaner.state.floatbank5_a_level</th>\n",
       "      <th>secondary_cleaner.state.floatbank5_b_air</th>\n",
       "      <th>secondary_cleaner.state.floatbank5_b_level</th>\n",
       "      <th>secondary_cleaner.state.floatbank6_a_air</th>\n",
       "      <th>secondary_cleaner.state.floatbank6_a_level</th>\n",
       "    </tr>\n",
       "  </thead>\n",
       "  <tbody>\n",
       "    <tr>\n",
       "      <th>2116</th>\n",
       "      <td>2016-05-06 00:59:59</td>\n",
       "      <td>4.732086</td>\n",
       "      <td>10.842818</td>\n",
       "      <td>9.383498</td>\n",
       "      <td>45.755954</td>\n",
       "      <td>61.327035</td>\n",
       "      <td>8.130024</td>\n",
       "      <td>2.472814</td>\n",
       "      <td>13.077343</td>\n",
       "      <td>3.715142</td>\n",
       "      <td>...</td>\n",
       "      <td>14.014532</td>\n",
       "      <td>-498.340339</td>\n",
       "      <td>11.974530</td>\n",
       "      <td>-499.721541</td>\n",
       "      <td>10.968059</td>\n",
       "      <td>-497.918421</td>\n",
       "      <td>9.954820</td>\n",
       "      <td>-499.563485</td>\n",
       "      <td>20.004790</td>\n",
       "      <td>-493.677101</td>\n",
       "    </tr>\n",
       "    <tr>\n",
       "      <th>599</th>\n",
       "      <td>2016-02-11 11:00:00</td>\n",
       "      <td>7.379458</td>\n",
       "      <td>10.584115</td>\n",
       "      <td>5.774739</td>\n",
       "      <td>39.130422</td>\n",
       "      <td>66.170867</td>\n",
       "      <td>10.999178</td>\n",
       "      <td>1.632835</td>\n",
       "      <td>15.588729</td>\n",
       "      <td>2.777402</td>\n",
       "      <td>...</td>\n",
       "      <td>24.994698</td>\n",
       "      <td>-398.936523</td>\n",
       "      <td>21.013566</td>\n",
       "      <td>-404.418832</td>\n",
       "      <td>22.963402</td>\n",
       "      <td>-399.711974</td>\n",
       "      <td>20.945222</td>\n",
       "      <td>-399.745351</td>\n",
       "      <td>29.977235</td>\n",
       "      <td>-399.479824</td>\n",
       "    </tr>\n",
       "    <tr>\n",
       "      <th>4278</th>\n",
       "      <td>2016-08-14 11:59:59</td>\n",
       "      <td>5.667418</td>\n",
       "      <td>8.375000</td>\n",
       "      <td>10.948117</td>\n",
       "      <td>45.830912</td>\n",
       "      <td>64.102776</td>\n",
       "      <td>10.680824</td>\n",
       "      <td>3.080385</td>\n",
       "      <td>10.906378</td>\n",
       "      <td>4.051116</td>\n",
       "      <td>...</td>\n",
       "      <td>19.929429</td>\n",
       "      <td>-399.389156</td>\n",
       "      <td>12.070938</td>\n",
       "      <td>-399.471852</td>\n",
       "      <td>15.008979</td>\n",
       "      <td>-402.364484</td>\n",
       "      <td>5.079769</td>\n",
       "      <td>-399.696256</td>\n",
       "      <td>22.969879</td>\n",
       "      <td>-503.082421</td>\n",
       "    </tr>\n",
       "  </tbody>\n",
       "</table>\n",
       "<p>3 rows × 87 columns</p>\n",
       "</div>"
      ],
      "text/plain": [
       "                     date  final.output.concentrate_ag  \\\n",
       "2116  2016-05-06 00:59:59                     4.732086   \n",
       "599   2016-02-11 11:00:00                     7.379458   \n",
       "4278  2016-08-14 11:59:59                     5.667418   \n",
       "\n",
       "      final.output.concentrate_pb  final.output.concentrate_sol  \\\n",
       "2116                    10.842818                      9.383498   \n",
       "599                     10.584115                      5.774739   \n",
       "4278                     8.375000                     10.948117   \n",
       "\n",
       "      final.output.concentrate_au  final.output.recovery  \\\n",
       "2116                    45.755954              61.327035   \n",
       "599                     39.130422              66.170867   \n",
       "4278                    45.830912              64.102776   \n",
       "\n",
       "      final.output.tail_ag  final.output.tail_pb  final.output.tail_sol  \\\n",
       "2116              8.130024              2.472814              13.077343   \n",
       "599              10.999178              1.632835              15.588729   \n",
       "4278             10.680824              3.080385              10.906378   \n",
       "\n",
       "      final.output.tail_au  ...  secondary_cleaner.state.floatbank4_a_air  \\\n",
       "2116              3.715142  ...                                 14.014532   \n",
       "599               2.777402  ...                                 24.994698   \n",
       "4278              4.051116  ...                                 19.929429   \n",
       "\n",
       "      secondary_cleaner.state.floatbank4_a_level  \\\n",
       "2116                                 -498.340339   \n",
       "599                                  -398.936523   \n",
       "4278                                 -399.389156   \n",
       "\n",
       "      secondary_cleaner.state.floatbank4_b_air  \\\n",
       "2116                                 11.974530   \n",
       "599                                  21.013566   \n",
       "4278                                 12.070938   \n",
       "\n",
       "      secondary_cleaner.state.floatbank4_b_level  \\\n",
       "2116                                 -499.721541   \n",
       "599                                  -404.418832   \n",
       "4278                                 -399.471852   \n",
       "\n",
       "      secondary_cleaner.state.floatbank5_a_air  \\\n",
       "2116                                 10.968059   \n",
       "599                                  22.963402   \n",
       "4278                                 15.008979   \n",
       "\n",
       "      secondary_cleaner.state.floatbank5_a_level  \\\n",
       "2116                                 -497.918421   \n",
       "599                                  -399.711974   \n",
       "4278                                 -402.364484   \n",
       "\n",
       "      secondary_cleaner.state.floatbank5_b_air  \\\n",
       "2116                                  9.954820   \n",
       "599                                  20.945222   \n",
       "4278                                  5.079769   \n",
       "\n",
       "      secondary_cleaner.state.floatbank5_b_level  \\\n",
       "2116                                 -499.563485   \n",
       "599                                  -399.745351   \n",
       "4278                                 -399.696256   \n",
       "\n",
       "      secondary_cleaner.state.floatbank6_a_air  \\\n",
       "2116                                 20.004790   \n",
       "599                                  29.977235   \n",
       "4278                                 22.969879   \n",
       "\n",
       "      secondary_cleaner.state.floatbank6_a_level  \n",
       "2116                                 -493.677101  \n",
       "599                                  -399.479824  \n",
       "4278                                 -503.082421  \n",
       "\n",
       "[3 rows x 87 columns]"
      ]
     },
     "metadata": {},
     "output_type": "display_data"
    }
   ],
   "source": [
    "data = pd.read_csv('/Users/daniilsobolev/Desktop/ml projects/Сборный проект 2/gold_recovery_full_new.csv')\n",
    "display(data.sample(3))"
   ]
  },
  {
   "cell_type": "markdown",
   "metadata": {},
   "source": [
    "#### Обучающая выборка"
   ]
  },
  {
   "cell_type": "code",
   "execution_count": 3,
   "metadata": {},
   "outputs": [
    {
     "data": {
      "text/html": [
       "<div>\n",
       "<style scoped>\n",
       "    .dataframe tbody tr th:only-of-type {\n",
       "        vertical-align: middle;\n",
       "    }\n",
       "\n",
       "    .dataframe tbody tr th {\n",
       "        vertical-align: top;\n",
       "    }\n",
       "\n",
       "    .dataframe thead th {\n",
       "        text-align: right;\n",
       "    }\n",
       "</style>\n",
       "<table border=\"1\" class=\"dataframe\">\n",
       "  <thead>\n",
       "    <tr style=\"text-align: right;\">\n",
       "      <th></th>\n",
       "      <th>date</th>\n",
       "      <th>final.output.concentrate_ag</th>\n",
       "      <th>final.output.concentrate_pb</th>\n",
       "      <th>final.output.concentrate_sol</th>\n",
       "      <th>final.output.concentrate_au</th>\n",
       "      <th>final.output.recovery</th>\n",
       "      <th>final.output.tail_ag</th>\n",
       "      <th>final.output.tail_pb</th>\n",
       "      <th>final.output.tail_sol</th>\n",
       "      <th>final.output.tail_au</th>\n",
       "      <th>...</th>\n",
       "      <th>secondary_cleaner.state.floatbank4_a_air</th>\n",
       "      <th>secondary_cleaner.state.floatbank4_a_level</th>\n",
       "      <th>secondary_cleaner.state.floatbank4_b_air</th>\n",
       "      <th>secondary_cleaner.state.floatbank4_b_level</th>\n",
       "      <th>secondary_cleaner.state.floatbank5_a_air</th>\n",
       "      <th>secondary_cleaner.state.floatbank5_a_level</th>\n",
       "      <th>secondary_cleaner.state.floatbank5_b_air</th>\n",
       "      <th>secondary_cleaner.state.floatbank5_b_level</th>\n",
       "      <th>secondary_cleaner.state.floatbank6_a_air</th>\n",
       "      <th>secondary_cleaner.state.floatbank6_a_level</th>\n",
       "    </tr>\n",
       "  </thead>\n",
       "  <tbody>\n",
       "    <tr>\n",
       "      <th>498</th>\n",
       "      <td>2016-02-07 05:00:00</td>\n",
       "      <td>5.148323</td>\n",
       "      <td>9.666883</td>\n",
       "      <td>1.703834</td>\n",
       "      <td>45.108180</td>\n",
       "      <td>65.748264</td>\n",
       "      <td>10.780446</td>\n",
       "      <td>1.585460</td>\n",
       "      <td>17.060250</td>\n",
       "      <td>2.317255</td>\n",
       "      <td>...</td>\n",
       "      <td>16.993548</td>\n",
       "      <td>-500.659477</td>\n",
       "      <td>16.046437</td>\n",
       "      <td>-501.864273</td>\n",
       "      <td>18.055774</td>\n",
       "      <td>-499.681648</td>\n",
       "      <td>15.972082</td>\n",
       "      <td>-499.883694</td>\n",
       "      <td>17.985337</td>\n",
       "      <td>-500.245673</td>\n",
       "    </tr>\n",
       "    <tr>\n",
       "      <th>9292</th>\n",
       "      <td>2017-08-10 22:59:59</td>\n",
       "      <td>4.180757</td>\n",
       "      <td>8.913897</td>\n",
       "      <td>6.787620</td>\n",
       "      <td>49.947666</td>\n",
       "      <td>43.911764</td>\n",
       "      <td>8.199143</td>\n",
       "      <td>3.587982</td>\n",
       "      <td>7.663525</td>\n",
       "      <td>3.495319</td>\n",
       "      <td>...</td>\n",
       "      <td>12.996629</td>\n",
       "      <td>-499.697093</td>\n",
       "      <td>9.929780</td>\n",
       "      <td>-399.932173</td>\n",
       "      <td>12.032451</td>\n",
       "      <td>-501.178064</td>\n",
       "      <td>9.996092</td>\n",
       "      <td>-500.148684</td>\n",
       "      <td>14.998539</td>\n",
       "      <td>-500.200932</td>\n",
       "    </tr>\n",
       "    <tr>\n",
       "      <th>3959</th>\n",
       "      <td>2016-07-30 14:59:59</td>\n",
       "      <td>6.042552</td>\n",
       "      <td>10.090952</td>\n",
       "      <td>9.537929</td>\n",
       "      <td>41.654751</td>\n",
       "      <td>67.459294</td>\n",
       "      <td>9.089375</td>\n",
       "      <td>2.046101</td>\n",
       "      <td>11.542739</td>\n",
       "      <td>2.834621</td>\n",
       "      <td>...</td>\n",
       "      <td>20.043626</td>\n",
       "      <td>-399.076315</td>\n",
       "      <td>9.968787</td>\n",
       "      <td>-398.451505</td>\n",
       "      <td>10.069812</td>\n",
       "      <td>-399.215525</td>\n",
       "      <td>4.918678</td>\n",
       "      <td>-399.695295</td>\n",
       "      <td>23.018796</td>\n",
       "      <td>-499.003972</td>\n",
       "    </tr>\n",
       "  </tbody>\n",
       "</table>\n",
       "<p>3 rows × 87 columns</p>\n",
       "</div>"
      ],
      "text/plain": [
       "                     date  final.output.concentrate_ag  \\\n",
       "498   2016-02-07 05:00:00                     5.148323   \n",
       "9292  2017-08-10 22:59:59                     4.180757   \n",
       "3959  2016-07-30 14:59:59                     6.042552   \n",
       "\n",
       "      final.output.concentrate_pb  final.output.concentrate_sol  \\\n",
       "498                      9.666883                      1.703834   \n",
       "9292                     8.913897                      6.787620   \n",
       "3959                    10.090952                      9.537929   \n",
       "\n",
       "      final.output.concentrate_au  final.output.recovery  \\\n",
       "498                     45.108180              65.748264   \n",
       "9292                    49.947666              43.911764   \n",
       "3959                    41.654751              67.459294   \n",
       "\n",
       "      final.output.tail_ag  final.output.tail_pb  final.output.tail_sol  \\\n",
       "498              10.780446              1.585460              17.060250   \n",
       "9292              8.199143              3.587982               7.663525   \n",
       "3959              9.089375              2.046101              11.542739   \n",
       "\n",
       "      final.output.tail_au  ...  secondary_cleaner.state.floatbank4_a_air  \\\n",
       "498               2.317255  ...                                 16.993548   \n",
       "9292              3.495319  ...                                 12.996629   \n",
       "3959              2.834621  ...                                 20.043626   \n",
       "\n",
       "      secondary_cleaner.state.floatbank4_a_level  \\\n",
       "498                                  -500.659477   \n",
       "9292                                 -499.697093   \n",
       "3959                                 -399.076315   \n",
       "\n",
       "      secondary_cleaner.state.floatbank4_b_air  \\\n",
       "498                                  16.046437   \n",
       "9292                                  9.929780   \n",
       "3959                                  9.968787   \n",
       "\n",
       "      secondary_cleaner.state.floatbank4_b_level  \\\n",
       "498                                  -501.864273   \n",
       "9292                                 -399.932173   \n",
       "3959                                 -398.451505   \n",
       "\n",
       "      secondary_cleaner.state.floatbank5_a_air  \\\n",
       "498                                  18.055774   \n",
       "9292                                 12.032451   \n",
       "3959                                 10.069812   \n",
       "\n",
       "      secondary_cleaner.state.floatbank5_a_level  \\\n",
       "498                                  -499.681648   \n",
       "9292                                 -501.178064   \n",
       "3959                                 -399.215525   \n",
       "\n",
       "      secondary_cleaner.state.floatbank5_b_air  \\\n",
       "498                                  15.972082   \n",
       "9292                                  9.996092   \n",
       "3959                                  4.918678   \n",
       "\n",
       "      secondary_cleaner.state.floatbank5_b_level  \\\n",
       "498                                  -499.883694   \n",
       "9292                                 -500.148684   \n",
       "3959                                 -399.695295   \n",
       "\n",
       "      secondary_cleaner.state.floatbank6_a_air  \\\n",
       "498                                  17.985337   \n",
       "9292                                 14.998539   \n",
       "3959                                 23.018796   \n",
       "\n",
       "      secondary_cleaner.state.floatbank6_a_level  \n",
       "498                                  -500.245673  \n",
       "9292                                 -500.200932  \n",
       "3959                                 -499.003972  \n",
       "\n",
       "[3 rows x 87 columns]"
      ]
     },
     "metadata": {},
     "output_type": "display_data"
    }
   ],
   "source": [
    "data_train = pd.read_csv('/Users/daniilsobolev/Desktop/ml projects/Сборный проект 2/gold_recovery_train_new.csv')\n",
    "display(data_train.sample(3))"
   ]
  },
  {
   "cell_type": "markdown",
   "metadata": {},
   "source": [
    "#### Тестовая выборка"
   ]
  },
  {
   "cell_type": "code",
   "execution_count": 4,
   "metadata": {
    "scrolled": true
   },
   "outputs": [
    {
     "data": {
      "text/html": [
       "<div>\n",
       "<style scoped>\n",
       "    .dataframe tbody tr th:only-of-type {\n",
       "        vertical-align: middle;\n",
       "    }\n",
       "\n",
       "    .dataframe tbody tr th {\n",
       "        vertical-align: top;\n",
       "    }\n",
       "\n",
       "    .dataframe thead th {\n",
       "        text-align: right;\n",
       "    }\n",
       "</style>\n",
       "<table border=\"1\" class=\"dataframe\">\n",
       "  <thead>\n",
       "    <tr style=\"text-align: right;\">\n",
       "      <th></th>\n",
       "      <th>date</th>\n",
       "      <th>primary_cleaner.input.sulfate</th>\n",
       "      <th>primary_cleaner.input.depressant</th>\n",
       "      <th>primary_cleaner.input.feed_size</th>\n",
       "      <th>primary_cleaner.input.xanthate</th>\n",
       "      <th>primary_cleaner.state.floatbank8_a_air</th>\n",
       "      <th>primary_cleaner.state.floatbank8_a_level</th>\n",
       "      <th>primary_cleaner.state.floatbank8_b_air</th>\n",
       "      <th>primary_cleaner.state.floatbank8_b_level</th>\n",
       "      <th>primary_cleaner.state.floatbank8_c_air</th>\n",
       "      <th>...</th>\n",
       "      <th>secondary_cleaner.state.floatbank4_a_air</th>\n",
       "      <th>secondary_cleaner.state.floatbank4_a_level</th>\n",
       "      <th>secondary_cleaner.state.floatbank4_b_air</th>\n",
       "      <th>secondary_cleaner.state.floatbank4_b_level</th>\n",
       "      <th>secondary_cleaner.state.floatbank5_a_air</th>\n",
       "      <th>secondary_cleaner.state.floatbank5_a_level</th>\n",
       "      <th>secondary_cleaner.state.floatbank5_b_air</th>\n",
       "      <th>secondary_cleaner.state.floatbank5_b_level</th>\n",
       "      <th>secondary_cleaner.state.floatbank6_a_air</th>\n",
       "      <th>secondary_cleaner.state.floatbank6_a_level</th>\n",
       "    </tr>\n",
       "  </thead>\n",
       "  <tbody>\n",
       "    <tr>\n",
       "      <th>3270</th>\n",
       "      <td>2017-10-02 16:59:59</td>\n",
       "      <td>151.487854</td>\n",
       "      <td>6.500045</td>\n",
       "      <td>7.25</td>\n",
       "      <td>2.204091</td>\n",
       "      <td>1552.120623</td>\n",
       "      <td>-500.814429</td>\n",
       "      <td>1600.180131</td>\n",
       "      <td>-497.342768</td>\n",
       "      <td>1600.413022</td>\n",
       "      <td>...</td>\n",
       "      <td>16.984283</td>\n",
       "      <td>-501.320006</td>\n",
       "      <td>14.955851</td>\n",
       "      <td>-400.678397</td>\n",
       "      <td>13.013527</td>\n",
       "      <td>-501.112753</td>\n",
       "      <td>10.980179</td>\n",
       "      <td>-500.153569</td>\n",
       "      <td>15.011738</td>\n",
       "      <td>-501.094786</td>\n",
       "    </tr>\n",
       "    <tr>\n",
       "      <th>2104</th>\n",
       "      <td>2016-12-09 11:59:59</td>\n",
       "      <td>170.315153</td>\n",
       "      <td>11.953684</td>\n",
       "      <td>7.50</td>\n",
       "      <td>1.104901</td>\n",
       "      <td>1502.101718</td>\n",
       "      <td>-500.144565</td>\n",
       "      <td>1500.210810</td>\n",
       "      <td>-499.121859</td>\n",
       "      <td>1505.236830</td>\n",
       "      <td>...</td>\n",
       "      <td>16.995862</td>\n",
       "      <td>-500.514627</td>\n",
       "      <td>14.925349</td>\n",
       "      <td>-500.882944</td>\n",
       "      <td>15.449488</td>\n",
       "      <td>-500.184214</td>\n",
       "      <td>11.998607</td>\n",
       "      <td>-500.215170</td>\n",
       "      <td>20.988925</td>\n",
       "      <td>-500.114635</td>\n",
       "    </tr>\n",
       "    <tr>\n",
       "      <th>2263</th>\n",
       "      <td>2016-12-16 08:59:59</td>\n",
       "      <td>180.957301</td>\n",
       "      <td>12.498321</td>\n",
       "      <td>6.90</td>\n",
       "      <td>1.290576</td>\n",
       "      <td>1499.516242</td>\n",
       "      <td>-500.459111</td>\n",
       "      <td>1499.968540</td>\n",
       "      <td>-500.734918</td>\n",
       "      <td>1502.654407</td>\n",
       "      <td>...</td>\n",
       "      <td>17.024691</td>\n",
       "      <td>-500.638182</td>\n",
       "      <td>15.010484</td>\n",
       "      <td>-498.265307</td>\n",
       "      <td>17.430076</td>\n",
       "      <td>-499.784617</td>\n",
       "      <td>11.990664</td>\n",
       "      <td>-499.858105</td>\n",
       "      <td>21.027682</td>\n",
       "      <td>-501.208338</td>\n",
       "    </tr>\n",
       "  </tbody>\n",
       "</table>\n",
       "<p>3 rows × 53 columns</p>\n",
       "</div>"
      ],
      "text/plain": [
       "                     date  primary_cleaner.input.sulfate  \\\n",
       "3270  2017-10-02 16:59:59                     151.487854   \n",
       "2104  2016-12-09 11:59:59                     170.315153   \n",
       "2263  2016-12-16 08:59:59                     180.957301   \n",
       "\n",
       "      primary_cleaner.input.depressant  primary_cleaner.input.feed_size  \\\n",
       "3270                          6.500045                             7.25   \n",
       "2104                         11.953684                             7.50   \n",
       "2263                         12.498321                             6.90   \n",
       "\n",
       "      primary_cleaner.input.xanthate  primary_cleaner.state.floatbank8_a_air  \\\n",
       "3270                        2.204091                             1552.120623   \n",
       "2104                        1.104901                             1502.101718   \n",
       "2263                        1.290576                             1499.516242   \n",
       "\n",
       "      primary_cleaner.state.floatbank8_a_level  \\\n",
       "3270                               -500.814429   \n",
       "2104                               -500.144565   \n",
       "2263                               -500.459111   \n",
       "\n",
       "      primary_cleaner.state.floatbank8_b_air  \\\n",
       "3270                             1600.180131   \n",
       "2104                             1500.210810   \n",
       "2263                             1499.968540   \n",
       "\n",
       "      primary_cleaner.state.floatbank8_b_level  \\\n",
       "3270                               -497.342768   \n",
       "2104                               -499.121859   \n",
       "2263                               -500.734918   \n",
       "\n",
       "      primary_cleaner.state.floatbank8_c_air  ...  \\\n",
       "3270                             1600.413022  ...   \n",
       "2104                             1505.236830  ...   \n",
       "2263                             1502.654407  ...   \n",
       "\n",
       "      secondary_cleaner.state.floatbank4_a_air  \\\n",
       "3270                                 16.984283   \n",
       "2104                                 16.995862   \n",
       "2263                                 17.024691   \n",
       "\n",
       "      secondary_cleaner.state.floatbank4_a_level  \\\n",
       "3270                                 -501.320006   \n",
       "2104                                 -500.514627   \n",
       "2263                                 -500.638182   \n",
       "\n",
       "      secondary_cleaner.state.floatbank4_b_air  \\\n",
       "3270                                 14.955851   \n",
       "2104                                 14.925349   \n",
       "2263                                 15.010484   \n",
       "\n",
       "      secondary_cleaner.state.floatbank4_b_level  \\\n",
       "3270                                 -400.678397   \n",
       "2104                                 -500.882944   \n",
       "2263                                 -498.265307   \n",
       "\n",
       "      secondary_cleaner.state.floatbank5_a_air  \\\n",
       "3270                                 13.013527   \n",
       "2104                                 15.449488   \n",
       "2263                                 17.430076   \n",
       "\n",
       "      secondary_cleaner.state.floatbank5_a_level  \\\n",
       "3270                                 -501.112753   \n",
       "2104                                 -500.184214   \n",
       "2263                                 -499.784617   \n",
       "\n",
       "      secondary_cleaner.state.floatbank5_b_air  \\\n",
       "3270                                 10.980179   \n",
       "2104                                 11.998607   \n",
       "2263                                 11.990664   \n",
       "\n",
       "      secondary_cleaner.state.floatbank5_b_level  \\\n",
       "3270                                 -500.153569   \n",
       "2104                                 -500.215170   \n",
       "2263                                 -499.858105   \n",
       "\n",
       "      secondary_cleaner.state.floatbank6_a_air  \\\n",
       "3270                                 15.011738   \n",
       "2104                                 20.988925   \n",
       "2263                                 21.027682   \n",
       "\n",
       "      secondary_cleaner.state.floatbank6_a_level  \n",
       "3270                                 -501.094786  \n",
       "2104                                 -500.114635  \n",
       "2263                                 -501.208338  \n",
       "\n",
       "[3 rows x 53 columns]"
      ]
     },
     "metadata": {},
     "output_type": "display_data"
    }
   ],
   "source": [
    "data_test = pd.read_csv('/Users/daniilsobolev/Desktop/ml projects/Сборный проект 2/gold_recovery_test_new.csv')\n",
    "display(data_test.sample(3))"
   ]
  },
  {
   "cell_type": "markdown",
   "metadata": {},
   "source": [
    "### Процент пропусков"
   ]
  },
  {
   "cell_type": "code",
   "execution_count": 5,
   "metadata": {
    "scrolled": true
   },
   "outputs": [
    {
     "data": {
      "text/plain": [
       "secondary_cleaner.state.floatbank2_a_air    1.131745\n",
       "primary_cleaner.output.concentrate_sol      1.903390\n",
       "rougher.state.floatbank10_e_air             2.242914\n",
       "rougher.input.floatbank11_xanthate          2.330367\n",
       "secondary_cleaner.output.tail_sol           8.992232\n",
       "dtype: float64"
      ]
     },
     "execution_count": 5,
     "metadata": {},
     "output_type": "execute_result"
    }
   ],
   "source": [
    "data.isna().mean().sort_values().tail()*100"
   ]
  },
  {
   "cell_type": "code",
   "execution_count": 6,
   "metadata": {
    "scrolled": false
   },
   "outputs": [
    {
     "data": {
      "text/plain": [
       "secondary_cleaner.state.floatbank2_a_air     1.533677\n",
       "primary_cleaner.output.concentrate_sol       2.021344\n",
       "rougher.input.floatbank11_xanthate           3.024949\n",
       "rougher.state.floatbank10_e_air              3.081490\n",
       "secondary_cleaner.output.tail_sol           11.343558\n",
       "dtype: float64"
      ]
     },
     "execution_count": 6,
     "metadata": {},
     "output_type": "execute_result"
    }
   ],
   "source": [
    "data_train.isna().mean().sort_values().tail()*100"
   ]
  },
  {
   "cell_type": "code",
   "execution_count": 7,
   "metadata": {
    "scrolled": false
   },
   "outputs": [
    {
     "data": {
      "text/plain": [
       "primary_cleaner.input.depressant            0.094518\n",
       "rougher.input.floatbank11_sulfate           0.151229\n",
       "secondary_cleaner.state.floatbank3_a_air    0.170132\n",
       "rougher.input.feed_sol                      0.396975\n",
       "rougher.input.floatbank11_xanthate          0.472590\n",
       "dtype: float64"
      ]
     },
     "execution_count": 7,
     "metadata": {},
     "output_type": "execute_result"
    }
   ],
   "source": [
    "data_test.isna().mean().sort_values().tail()*100"
   ]
  },
  {
   "cell_type": "markdown",
   "metadata": {},
   "source": [
    "### Проверка на дубликаты"
   ]
  },
  {
   "cell_type": "code",
   "execution_count": 8,
   "metadata": {
    "scrolled": true
   },
   "outputs": [
    {
     "data": {
      "text/plain": [
       "0"
      ]
     },
     "execution_count": 8,
     "metadata": {},
     "output_type": "execute_result"
    }
   ],
   "source": [
    "data.duplicated().sum()"
   ]
  },
  {
   "cell_type": "code",
   "execution_count": 9,
   "metadata": {},
   "outputs": [
    {
     "data": {
      "text/plain": [
       "0"
      ]
     },
     "execution_count": 9,
     "metadata": {},
     "output_type": "execute_result"
    }
   ],
   "source": [
    "data_train.duplicated().sum()"
   ]
  },
  {
   "cell_type": "code",
   "execution_count": 10,
   "metadata": {
    "scrolled": false
   },
   "outputs": [
    {
     "data": {
      "text/plain": [
       "0"
      ]
     },
     "execution_count": 10,
     "metadata": {},
     "output_type": "execute_result"
    }
   ],
   "source": [
    "data_test.duplicated().sum()"
   ]
  },
  {
   "cell_type": "markdown",
   "metadata": {},
   "source": [
    "### Общая статистика"
   ]
  },
  {
   "cell_type": "code",
   "execution_count": 11,
   "metadata": {
    "scrolled": true
   },
   "outputs": [
    {
     "data": {
      "text/html": [
       "<div>\n",
       "<style scoped>\n",
       "    .dataframe tbody tr th:only-of-type {\n",
       "        vertical-align: middle;\n",
       "    }\n",
       "\n",
       "    .dataframe tbody tr th {\n",
       "        vertical-align: top;\n",
       "    }\n",
       "\n",
       "    .dataframe thead th {\n",
       "        text-align: right;\n",
       "    }\n",
       "</style>\n",
       "<table border=\"1\" class=\"dataframe\">\n",
       "  <thead>\n",
       "    <tr style=\"text-align: right;\">\n",
       "      <th></th>\n",
       "      <th>final.output.concentrate_ag</th>\n",
       "      <th>final.output.concentrate_pb</th>\n",
       "      <th>final.output.concentrate_sol</th>\n",
       "      <th>final.output.concentrate_au</th>\n",
       "      <th>final.output.recovery</th>\n",
       "      <th>final.output.tail_ag</th>\n",
       "      <th>final.output.tail_pb</th>\n",
       "      <th>final.output.tail_sol</th>\n",
       "      <th>final.output.tail_au</th>\n",
       "      <th>primary_cleaner.input.sulfate</th>\n",
       "      <th>...</th>\n",
       "      <th>secondary_cleaner.state.floatbank4_a_air</th>\n",
       "      <th>secondary_cleaner.state.floatbank4_a_level</th>\n",
       "      <th>secondary_cleaner.state.floatbank4_b_air</th>\n",
       "      <th>secondary_cleaner.state.floatbank4_b_level</th>\n",
       "      <th>secondary_cleaner.state.floatbank5_a_air</th>\n",
       "      <th>secondary_cleaner.state.floatbank5_a_level</th>\n",
       "      <th>secondary_cleaner.state.floatbank5_b_air</th>\n",
       "      <th>secondary_cleaner.state.floatbank5_b_level</th>\n",
       "      <th>secondary_cleaner.state.floatbank6_a_air</th>\n",
       "      <th>secondary_cleaner.state.floatbank6_a_level</th>\n",
       "    </tr>\n",
       "  </thead>\n",
       "  <tbody>\n",
       "    <tr>\n",
       "      <th>count</th>\n",
       "      <td>19438.000000</td>\n",
       "      <td>19438.000000</td>\n",
       "      <td>19228.000000</td>\n",
       "      <td>19439.000000</td>\n",
       "      <td>19439.000000</td>\n",
       "      <td>19438.000000</td>\n",
       "      <td>19338.000000</td>\n",
       "      <td>19433.000000</td>\n",
       "      <td>19439.000000</td>\n",
       "      <td>19415.000000</td>\n",
       "      <td>...</td>\n",
       "      <td>19433.000000</td>\n",
       "      <td>19438.000000</td>\n",
       "      <td>19438.000000</td>\n",
       "      <td>19438.000000</td>\n",
       "      <td>19438.000000</td>\n",
       "      <td>19438.000000</td>\n",
       "      <td>19438.000000</td>\n",
       "      <td>19438.000000</td>\n",
       "      <td>19437.000000</td>\n",
       "      <td>19438.000000</td>\n",
       "    </tr>\n",
       "    <tr>\n",
       "      <th>mean</th>\n",
       "      <td>5.168470</td>\n",
       "      <td>9.978895</td>\n",
       "      <td>9.501224</td>\n",
       "      <td>44.076513</td>\n",
       "      <td>67.050208</td>\n",
       "      <td>9.688589</td>\n",
       "      <td>2.705795</td>\n",
       "      <td>10.583728</td>\n",
       "      <td>3.042467</td>\n",
       "      <td>144.624774</td>\n",
       "      <td>...</td>\n",
       "      <td>18.987674</td>\n",
       "      <td>-485.894516</td>\n",
       "      <td>15.010366</td>\n",
       "      <td>-461.078636</td>\n",
       "      <td>15.694452</td>\n",
       "      <td>-488.684065</td>\n",
       "      <td>12.198224</td>\n",
       "      <td>-487.149827</td>\n",
       "      <td>18.959024</td>\n",
       "      <td>-505.436305</td>\n",
       "    </tr>\n",
       "    <tr>\n",
       "      <th>std</th>\n",
       "      <td>1.372348</td>\n",
       "      <td>1.669240</td>\n",
       "      <td>2.787537</td>\n",
       "      <td>5.129784</td>\n",
       "      <td>10.125840</td>\n",
       "      <td>2.328642</td>\n",
       "      <td>0.949077</td>\n",
       "      <td>2.868782</td>\n",
       "      <td>0.922808</td>\n",
       "      <td>44.464071</td>\n",
       "      <td>...</td>\n",
       "      <td>5.411058</td>\n",
       "      <td>47.758570</td>\n",
       "      <td>4.890228</td>\n",
       "      <td>67.405524</td>\n",
       "      <td>5.510974</td>\n",
       "      <td>34.533396</td>\n",
       "      <td>5.333024</td>\n",
       "      <td>38.347312</td>\n",
       "      <td>5.550498</td>\n",
       "      <td>37.689057</td>\n",
       "    </tr>\n",
       "    <tr>\n",
       "      <th>min</th>\n",
       "      <td>0.000000</td>\n",
       "      <td>0.000000</td>\n",
       "      <td>0.000000</td>\n",
       "      <td>0.000000</td>\n",
       "      <td>0.000000</td>\n",
       "      <td>0.000000</td>\n",
       "      <td>0.000000</td>\n",
       "      <td>0.000000</td>\n",
       "      <td>0.000000</td>\n",
       "      <td>0.003112</td>\n",
       "      <td>...</td>\n",
       "      <td>0.000000</td>\n",
       "      <td>-799.798523</td>\n",
       "      <td>0.000000</td>\n",
       "      <td>-800.836914</td>\n",
       "      <td>-0.372054</td>\n",
       "      <td>-797.323986</td>\n",
       "      <td>0.528083</td>\n",
       "      <td>-800.220337</td>\n",
       "      <td>-0.079426</td>\n",
       "      <td>-809.741464</td>\n",
       "    </tr>\n",
       "    <tr>\n",
       "      <th>25%</th>\n",
       "      <td>4.251240</td>\n",
       "      <td>9.137262</td>\n",
       "      <td>7.722820</td>\n",
       "      <td>43.402215</td>\n",
       "      <td>63.299712</td>\n",
       "      <td>8.062878</td>\n",
       "      <td>2.040119</td>\n",
       "      <td>8.938947</td>\n",
       "      <td>2.461138</td>\n",
       "      <td>114.107029</td>\n",
       "      <td>...</td>\n",
       "      <td>14.975734</td>\n",
       "      <td>-500.704892</td>\n",
       "      <td>11.940294</td>\n",
       "      <td>-500.187742</td>\n",
       "      <td>10.988606</td>\n",
       "      <td>-500.458467</td>\n",
       "      <td>8.971105</td>\n",
       "      <td>-500.129462</td>\n",
       "      <td>14.983037</td>\n",
       "      <td>-500.728067</td>\n",
       "    </tr>\n",
       "    <tr>\n",
       "      <th>50%</th>\n",
       "      <td>5.066094</td>\n",
       "      <td>10.102433</td>\n",
       "      <td>9.218961</td>\n",
       "      <td>45.011244</td>\n",
       "      <td>68.172738</td>\n",
       "      <td>9.743623</td>\n",
       "      <td>2.748730</td>\n",
       "      <td>10.622456</td>\n",
       "      <td>2.984909</td>\n",
       "      <td>143.232103</td>\n",
       "      <td>...</td>\n",
       "      <td>18.017481</td>\n",
       "      <td>-499.837793</td>\n",
       "      <td>14.971014</td>\n",
       "      <td>-499.459786</td>\n",
       "      <td>15.000036</td>\n",
       "      <td>-499.802605</td>\n",
       "      <td>11.019433</td>\n",
       "      <td>-499.935317</td>\n",
       "      <td>19.960541</td>\n",
       "      <td>-500.048400</td>\n",
       "    </tr>\n",
       "    <tr>\n",
       "      <th>75%</th>\n",
       "      <td>5.895527</td>\n",
       "      <td>11.035769</td>\n",
       "      <td>10.947813</td>\n",
       "      <td>46.275313</td>\n",
       "      <td>72.686642</td>\n",
       "      <td>11.134294</td>\n",
       "      <td>3.333216</td>\n",
       "      <td>12.104271</td>\n",
       "      <td>3.571351</td>\n",
       "      <td>175.075656</td>\n",
       "      <td>...</td>\n",
       "      <td>23.012470</td>\n",
       "      <td>-498.249730</td>\n",
       "      <td>19.034162</td>\n",
       "      <td>-400.118106</td>\n",
       "      <td>18.026190</td>\n",
       "      <td>-498.384187</td>\n",
       "      <td>14.019088</td>\n",
       "      <td>-499.436708</td>\n",
       "      <td>24.003170</td>\n",
       "      <td>-499.495378</td>\n",
       "    </tr>\n",
       "    <tr>\n",
       "      <th>max</th>\n",
       "      <td>16.001945</td>\n",
       "      <td>17.031899</td>\n",
       "      <td>19.615720</td>\n",
       "      <td>52.756638</td>\n",
       "      <td>100.000000</td>\n",
       "      <td>19.552149</td>\n",
       "      <td>5.804178</td>\n",
       "      <td>22.317730</td>\n",
       "      <td>8.245022</td>\n",
       "      <td>265.983123</td>\n",
       "      <td>...</td>\n",
       "      <td>30.115735</td>\n",
       "      <td>-245.239184</td>\n",
       "      <td>31.269706</td>\n",
       "      <td>-6.506986</td>\n",
       "      <td>43.709931</td>\n",
       "      <td>-244.483566</td>\n",
       "      <td>27.926001</td>\n",
       "      <td>-137.740004</td>\n",
       "      <td>32.188906</td>\n",
       "      <td>-104.427459</td>\n",
       "    </tr>\n",
       "  </tbody>\n",
       "</table>\n",
       "<p>8 rows × 86 columns</p>\n",
       "</div>"
      ],
      "text/plain": [
       "       final.output.concentrate_ag  final.output.concentrate_pb  \\\n",
       "count                 19438.000000                 19438.000000   \n",
       "mean                      5.168470                     9.978895   \n",
       "std                       1.372348                     1.669240   \n",
       "min                       0.000000                     0.000000   \n",
       "25%                       4.251240                     9.137262   \n",
       "50%                       5.066094                    10.102433   \n",
       "75%                       5.895527                    11.035769   \n",
       "max                      16.001945                    17.031899   \n",
       "\n",
       "       final.output.concentrate_sol  final.output.concentrate_au  \\\n",
       "count                  19228.000000                 19439.000000   \n",
       "mean                       9.501224                    44.076513   \n",
       "std                        2.787537                     5.129784   \n",
       "min                        0.000000                     0.000000   \n",
       "25%                        7.722820                    43.402215   \n",
       "50%                        9.218961                    45.011244   \n",
       "75%                       10.947813                    46.275313   \n",
       "max                       19.615720                    52.756638   \n",
       "\n",
       "       final.output.recovery  final.output.tail_ag  final.output.tail_pb  \\\n",
       "count           19439.000000          19438.000000          19338.000000   \n",
       "mean               67.050208              9.688589              2.705795   \n",
       "std                10.125840              2.328642              0.949077   \n",
       "min                 0.000000              0.000000              0.000000   \n",
       "25%                63.299712              8.062878              2.040119   \n",
       "50%                68.172738              9.743623              2.748730   \n",
       "75%                72.686642             11.134294              3.333216   \n",
       "max               100.000000             19.552149              5.804178   \n",
       "\n",
       "       final.output.tail_sol  final.output.tail_au  \\\n",
       "count           19433.000000          19439.000000   \n",
       "mean               10.583728              3.042467   \n",
       "std                 2.868782              0.922808   \n",
       "min                 0.000000              0.000000   \n",
       "25%                 8.938947              2.461138   \n",
       "50%                10.622456              2.984909   \n",
       "75%                12.104271              3.571351   \n",
       "max                22.317730              8.245022   \n",
       "\n",
       "       primary_cleaner.input.sulfate  ...  \\\n",
       "count                   19415.000000  ...   \n",
       "mean                      144.624774  ...   \n",
       "std                        44.464071  ...   \n",
       "min                         0.003112  ...   \n",
       "25%                       114.107029  ...   \n",
       "50%                       143.232103  ...   \n",
       "75%                       175.075656  ...   \n",
       "max                       265.983123  ...   \n",
       "\n",
       "       secondary_cleaner.state.floatbank4_a_air  \\\n",
       "count                              19433.000000   \n",
       "mean                                  18.987674   \n",
       "std                                    5.411058   \n",
       "min                                    0.000000   \n",
       "25%                                   14.975734   \n",
       "50%                                   18.017481   \n",
       "75%                                   23.012470   \n",
       "max                                   30.115735   \n",
       "\n",
       "       secondary_cleaner.state.floatbank4_a_level  \\\n",
       "count                                19438.000000   \n",
       "mean                                  -485.894516   \n",
       "std                                     47.758570   \n",
       "min                                   -799.798523   \n",
       "25%                                   -500.704892   \n",
       "50%                                   -499.837793   \n",
       "75%                                   -498.249730   \n",
       "max                                   -245.239184   \n",
       "\n",
       "       secondary_cleaner.state.floatbank4_b_air  \\\n",
       "count                              19438.000000   \n",
       "mean                                  15.010366   \n",
       "std                                    4.890228   \n",
       "min                                    0.000000   \n",
       "25%                                   11.940294   \n",
       "50%                                   14.971014   \n",
       "75%                                   19.034162   \n",
       "max                                   31.269706   \n",
       "\n",
       "       secondary_cleaner.state.floatbank4_b_level  \\\n",
       "count                                19438.000000   \n",
       "mean                                  -461.078636   \n",
       "std                                     67.405524   \n",
       "min                                   -800.836914   \n",
       "25%                                   -500.187742   \n",
       "50%                                   -499.459786   \n",
       "75%                                   -400.118106   \n",
       "max                                     -6.506986   \n",
       "\n",
       "       secondary_cleaner.state.floatbank5_a_air  \\\n",
       "count                              19438.000000   \n",
       "mean                                  15.694452   \n",
       "std                                    5.510974   \n",
       "min                                   -0.372054   \n",
       "25%                                   10.988606   \n",
       "50%                                   15.000036   \n",
       "75%                                   18.026190   \n",
       "max                                   43.709931   \n",
       "\n",
       "       secondary_cleaner.state.floatbank5_a_level  \\\n",
       "count                                19438.000000   \n",
       "mean                                  -488.684065   \n",
       "std                                     34.533396   \n",
       "min                                   -797.323986   \n",
       "25%                                   -500.458467   \n",
       "50%                                   -499.802605   \n",
       "75%                                   -498.384187   \n",
       "max                                   -244.483566   \n",
       "\n",
       "       secondary_cleaner.state.floatbank5_b_air  \\\n",
       "count                              19438.000000   \n",
       "mean                                  12.198224   \n",
       "std                                    5.333024   \n",
       "min                                    0.528083   \n",
       "25%                                    8.971105   \n",
       "50%                                   11.019433   \n",
       "75%                                   14.019088   \n",
       "max                                   27.926001   \n",
       "\n",
       "       secondary_cleaner.state.floatbank5_b_level  \\\n",
       "count                                19438.000000   \n",
       "mean                                  -487.149827   \n",
       "std                                     38.347312   \n",
       "min                                   -800.220337   \n",
       "25%                                   -500.129462   \n",
       "50%                                   -499.935317   \n",
       "75%                                   -499.436708   \n",
       "max                                   -137.740004   \n",
       "\n",
       "       secondary_cleaner.state.floatbank6_a_air  \\\n",
       "count                              19437.000000   \n",
       "mean                                  18.959024   \n",
       "std                                    5.550498   \n",
       "min                                   -0.079426   \n",
       "25%                                   14.983037   \n",
       "50%                                   19.960541   \n",
       "75%                                   24.003170   \n",
       "max                                   32.188906   \n",
       "\n",
       "       secondary_cleaner.state.floatbank6_a_level  \n",
       "count                                19438.000000  \n",
       "mean                                  -505.436305  \n",
       "std                                     37.689057  \n",
       "min                                   -809.741464  \n",
       "25%                                   -500.728067  \n",
       "50%                                   -500.048400  \n",
       "75%                                   -499.495378  \n",
       "max                                   -104.427459  \n",
       "\n",
       "[8 rows x 86 columns]"
      ]
     },
     "execution_count": 11,
     "metadata": {},
     "output_type": "execute_result"
    }
   ],
   "source": [
    "data.describe()"
   ]
  },
  {
   "cell_type": "code",
   "execution_count": 12,
   "metadata": {},
   "outputs": [
    {
     "data": {
      "text/html": [
       "<div>\n",
       "<style scoped>\n",
       "    .dataframe tbody tr th:only-of-type {\n",
       "        vertical-align: middle;\n",
       "    }\n",
       "\n",
       "    .dataframe tbody tr th {\n",
       "        vertical-align: top;\n",
       "    }\n",
       "\n",
       "    .dataframe thead th {\n",
       "        text-align: right;\n",
       "    }\n",
       "</style>\n",
       "<table border=\"1\" class=\"dataframe\">\n",
       "  <thead>\n",
       "    <tr style=\"text-align: right;\">\n",
       "      <th></th>\n",
       "      <th>final.output.concentrate_ag</th>\n",
       "      <th>final.output.concentrate_pb</th>\n",
       "      <th>final.output.concentrate_sol</th>\n",
       "      <th>final.output.concentrate_au</th>\n",
       "      <th>final.output.recovery</th>\n",
       "      <th>final.output.tail_ag</th>\n",
       "      <th>final.output.tail_pb</th>\n",
       "      <th>final.output.tail_sol</th>\n",
       "      <th>final.output.tail_au</th>\n",
       "      <th>primary_cleaner.input.sulfate</th>\n",
       "      <th>...</th>\n",
       "      <th>secondary_cleaner.state.floatbank4_a_air</th>\n",
       "      <th>secondary_cleaner.state.floatbank4_a_level</th>\n",
       "      <th>secondary_cleaner.state.floatbank4_b_air</th>\n",
       "      <th>secondary_cleaner.state.floatbank4_b_level</th>\n",
       "      <th>secondary_cleaner.state.floatbank5_a_air</th>\n",
       "      <th>secondary_cleaner.state.floatbank5_a_level</th>\n",
       "      <th>secondary_cleaner.state.floatbank5_b_air</th>\n",
       "      <th>secondary_cleaner.state.floatbank5_b_level</th>\n",
       "      <th>secondary_cleaner.state.floatbank6_a_air</th>\n",
       "      <th>secondary_cleaner.state.floatbank6_a_level</th>\n",
       "    </tr>\n",
       "  </thead>\n",
       "  <tbody>\n",
       "    <tr>\n",
       "      <th>count</th>\n",
       "      <td>14148.000000</td>\n",
       "      <td>14148.000000</td>\n",
       "      <td>13938.000000</td>\n",
       "      <td>14149.000000</td>\n",
       "      <td>14149.000000</td>\n",
       "      <td>14149.000000</td>\n",
       "      <td>14049.000000</td>\n",
       "      <td>14144.000000</td>\n",
       "      <td>14149.000000</td>\n",
       "      <td>14129.000000</td>\n",
       "      <td>...</td>\n",
       "      <td>14143.000000</td>\n",
       "      <td>14148.000000</td>\n",
       "      <td>14148.000000</td>\n",
       "      <td>14148.000000</td>\n",
       "      <td>14148.000000</td>\n",
       "      <td>14148.000000</td>\n",
       "      <td>14148.000000</td>\n",
       "      <td>14148.000000</td>\n",
       "      <td>14147.000000</td>\n",
       "      <td>14148.000000</td>\n",
       "    </tr>\n",
       "    <tr>\n",
       "      <th>mean</th>\n",
       "      <td>5.142034</td>\n",
       "      <td>10.132960</td>\n",
       "      <td>9.202849</td>\n",
       "      <td>44.003792</td>\n",
       "      <td>66.518832</td>\n",
       "      <td>9.607035</td>\n",
       "      <td>2.597298</td>\n",
       "      <td>10.512122</td>\n",
       "      <td>2.918421</td>\n",
       "      <td>133.320659</td>\n",
       "      <td>...</td>\n",
       "      <td>19.985454</td>\n",
       "      <td>-478.696836</td>\n",
       "      <td>15.487065</td>\n",
       "      <td>-460.229416</td>\n",
       "      <td>16.775136</td>\n",
       "      <td>-483.956022</td>\n",
       "      <td>13.064590</td>\n",
       "      <td>-483.966564</td>\n",
       "      <td>19.577539</td>\n",
       "      <td>-506.798480</td>\n",
       "    </tr>\n",
       "    <tr>\n",
       "      <th>std</th>\n",
       "      <td>1.369586</td>\n",
       "      <td>1.654930</td>\n",
       "      <td>2.790516</td>\n",
       "      <td>4.905261</td>\n",
       "      <td>10.295402</td>\n",
       "      <td>2.319069</td>\n",
       "      <td>0.971843</td>\n",
       "      <td>3.003617</td>\n",
       "      <td>0.903712</td>\n",
       "      <td>39.431659</td>\n",
       "      <td>...</td>\n",
       "      <td>5.657723</td>\n",
       "      <td>50.736021</td>\n",
       "      <td>5.255655</td>\n",
       "      <td>58.843586</td>\n",
       "      <td>5.831906</td>\n",
       "      <td>37.892788</td>\n",
       "      <td>5.765617</td>\n",
       "      <td>39.207913</td>\n",
       "      <td>5.764417</td>\n",
       "      <td>37.079249</td>\n",
       "    </tr>\n",
       "    <tr>\n",
       "      <th>min</th>\n",
       "      <td>0.000000</td>\n",
       "      <td>0.000000</td>\n",
       "      <td>0.000000</td>\n",
       "      <td>0.000000</td>\n",
       "      <td>0.000000</td>\n",
       "      <td>0.000000</td>\n",
       "      <td>0.000000</td>\n",
       "      <td>0.000000</td>\n",
       "      <td>0.000000</td>\n",
       "      <td>0.003112</td>\n",
       "      <td>...</td>\n",
       "      <td>0.000000</td>\n",
       "      <td>-799.709069</td>\n",
       "      <td>0.000000</td>\n",
       "      <td>-799.889113</td>\n",
       "      <td>-0.372054</td>\n",
       "      <td>-797.142475</td>\n",
       "      <td>0.646208</td>\n",
       "      <td>-800.006180</td>\n",
       "      <td>0.195324</td>\n",
       "      <td>-809.398668</td>\n",
       "    </tr>\n",
       "    <tr>\n",
       "      <th>25%</th>\n",
       "      <td>4.211620</td>\n",
       "      <td>9.297355</td>\n",
       "      <td>7.484645</td>\n",
       "      <td>43.276111</td>\n",
       "      <td>62.545817</td>\n",
       "      <td>7.997429</td>\n",
       "      <td>1.905973</td>\n",
       "      <td>8.811324</td>\n",
       "      <td>2.368607</td>\n",
       "      <td>107.006651</td>\n",
       "      <td>...</td>\n",
       "      <td>14.990775</td>\n",
       "      <td>-500.628656</td>\n",
       "      <td>11.894558</td>\n",
       "      <td>-500.149000</td>\n",
       "      <td>11.083980</td>\n",
       "      <td>-500.363177</td>\n",
       "      <td>8.994405</td>\n",
       "      <td>-500.105994</td>\n",
       "      <td>14.989304</td>\n",
       "      <td>-500.745104</td>\n",
       "    </tr>\n",
       "    <tr>\n",
       "      <th>50%</th>\n",
       "      <td>4.994652</td>\n",
       "      <td>10.297144</td>\n",
       "      <td>8.845462</td>\n",
       "      <td>44.872436</td>\n",
       "      <td>67.432775</td>\n",
       "      <td>9.480270</td>\n",
       "      <td>2.592022</td>\n",
       "      <td>10.514621</td>\n",
       "      <td>2.851025</td>\n",
       "      <td>133.018328</td>\n",
       "      <td>...</td>\n",
       "      <td>20.001789</td>\n",
       "      <td>-499.681450</td>\n",
       "      <td>14.975536</td>\n",
       "      <td>-499.388738</td>\n",
       "      <td>17.932223</td>\n",
       "      <td>-499.702452</td>\n",
       "      <td>11.997547</td>\n",
       "      <td>-499.914556</td>\n",
       "      <td>19.984175</td>\n",
       "      <td>-500.061431</td>\n",
       "    </tr>\n",
       "    <tr>\n",
       "      <th>75%</th>\n",
       "      <td>5.859540</td>\n",
       "      <td>11.170603</td>\n",
       "      <td>10.487508</td>\n",
       "      <td>46.166425</td>\n",
       "      <td>72.346428</td>\n",
       "      <td>11.003707</td>\n",
       "      <td>3.241723</td>\n",
       "      <td>11.933009</td>\n",
       "      <td>3.434764</td>\n",
       "      <td>159.825396</td>\n",
       "      <td>...</td>\n",
       "      <td>24.990826</td>\n",
       "      <td>-477.472413</td>\n",
       "      <td>20.059375</td>\n",
       "      <td>-400.039008</td>\n",
       "      <td>21.346550</td>\n",
       "      <td>-487.712108</td>\n",
       "      <td>17.982903</td>\n",
       "      <td>-453.186936</td>\n",
       "      <td>24.991623</td>\n",
       "      <td>-499.536466</td>\n",
       "    </tr>\n",
       "    <tr>\n",
       "      <th>max</th>\n",
       "      <td>16.001945</td>\n",
       "      <td>17.031899</td>\n",
       "      <td>18.124851</td>\n",
       "      <td>52.756638</td>\n",
       "      <td>100.000000</td>\n",
       "      <td>19.552149</td>\n",
       "      <td>5.639565</td>\n",
       "      <td>22.317730</td>\n",
       "      <td>8.197408</td>\n",
       "      <td>250.127834</td>\n",
       "      <td>...</td>\n",
       "      <td>30.115735</td>\n",
       "      <td>-245.239184</td>\n",
       "      <td>24.007913</td>\n",
       "      <td>-145.071088</td>\n",
       "      <td>43.709931</td>\n",
       "      <td>-275.073125</td>\n",
       "      <td>27.926001</td>\n",
       "      <td>-157.396071</td>\n",
       "      <td>32.188906</td>\n",
       "      <td>-104.427459</td>\n",
       "    </tr>\n",
       "  </tbody>\n",
       "</table>\n",
       "<p>8 rows × 86 columns</p>\n",
       "</div>"
      ],
      "text/plain": [
       "       final.output.concentrate_ag  final.output.concentrate_pb  \\\n",
       "count                 14148.000000                 14148.000000   \n",
       "mean                      5.142034                    10.132960   \n",
       "std                       1.369586                     1.654930   \n",
       "min                       0.000000                     0.000000   \n",
       "25%                       4.211620                     9.297355   \n",
       "50%                       4.994652                    10.297144   \n",
       "75%                       5.859540                    11.170603   \n",
       "max                      16.001945                    17.031899   \n",
       "\n",
       "       final.output.concentrate_sol  final.output.concentrate_au  \\\n",
       "count                  13938.000000                 14149.000000   \n",
       "mean                       9.202849                    44.003792   \n",
       "std                        2.790516                     4.905261   \n",
       "min                        0.000000                     0.000000   \n",
       "25%                        7.484645                    43.276111   \n",
       "50%                        8.845462                    44.872436   \n",
       "75%                       10.487508                    46.166425   \n",
       "max                       18.124851                    52.756638   \n",
       "\n",
       "       final.output.recovery  final.output.tail_ag  final.output.tail_pb  \\\n",
       "count           14149.000000          14149.000000          14049.000000   \n",
       "mean               66.518832              9.607035              2.597298   \n",
       "std                10.295402              2.319069              0.971843   \n",
       "min                 0.000000              0.000000              0.000000   \n",
       "25%                62.545817              7.997429              1.905973   \n",
       "50%                67.432775              9.480270              2.592022   \n",
       "75%                72.346428             11.003707              3.241723   \n",
       "max               100.000000             19.552149              5.639565   \n",
       "\n",
       "       final.output.tail_sol  final.output.tail_au  \\\n",
       "count           14144.000000          14149.000000   \n",
       "mean               10.512122              2.918421   \n",
       "std                 3.003617              0.903712   \n",
       "min                 0.000000              0.000000   \n",
       "25%                 8.811324              2.368607   \n",
       "50%                10.514621              2.851025   \n",
       "75%                11.933009              3.434764   \n",
       "max                22.317730              8.197408   \n",
       "\n",
       "       primary_cleaner.input.sulfate  ...  \\\n",
       "count                   14129.000000  ...   \n",
       "mean                      133.320659  ...   \n",
       "std                        39.431659  ...   \n",
       "min                         0.003112  ...   \n",
       "25%                       107.006651  ...   \n",
       "50%                       133.018328  ...   \n",
       "75%                       159.825396  ...   \n",
       "max                       250.127834  ...   \n",
       "\n",
       "       secondary_cleaner.state.floatbank4_a_air  \\\n",
       "count                              14143.000000   \n",
       "mean                                  19.985454   \n",
       "std                                    5.657723   \n",
       "min                                    0.000000   \n",
       "25%                                   14.990775   \n",
       "50%                                   20.001789   \n",
       "75%                                   24.990826   \n",
       "max                                   30.115735   \n",
       "\n",
       "       secondary_cleaner.state.floatbank4_a_level  \\\n",
       "count                                14148.000000   \n",
       "mean                                  -478.696836   \n",
       "std                                     50.736021   \n",
       "min                                   -799.709069   \n",
       "25%                                   -500.628656   \n",
       "50%                                   -499.681450   \n",
       "75%                                   -477.472413   \n",
       "max                                   -245.239184   \n",
       "\n",
       "       secondary_cleaner.state.floatbank4_b_air  \\\n",
       "count                              14148.000000   \n",
       "mean                                  15.487065   \n",
       "std                                    5.255655   \n",
       "min                                    0.000000   \n",
       "25%                                   11.894558   \n",
       "50%                                   14.975536   \n",
       "75%                                   20.059375   \n",
       "max                                   24.007913   \n",
       "\n",
       "       secondary_cleaner.state.floatbank4_b_level  \\\n",
       "count                                14148.000000   \n",
       "mean                                  -460.229416   \n",
       "std                                     58.843586   \n",
       "min                                   -799.889113   \n",
       "25%                                   -500.149000   \n",
       "50%                                   -499.388738   \n",
       "75%                                   -400.039008   \n",
       "max                                   -145.071088   \n",
       "\n",
       "       secondary_cleaner.state.floatbank5_a_air  \\\n",
       "count                              14148.000000   \n",
       "mean                                  16.775136   \n",
       "std                                    5.831906   \n",
       "min                                   -0.372054   \n",
       "25%                                   11.083980   \n",
       "50%                                   17.932223   \n",
       "75%                                   21.346550   \n",
       "max                                   43.709931   \n",
       "\n",
       "       secondary_cleaner.state.floatbank5_a_level  \\\n",
       "count                                14148.000000   \n",
       "mean                                  -483.956022   \n",
       "std                                     37.892788   \n",
       "min                                   -797.142475   \n",
       "25%                                   -500.363177   \n",
       "50%                                   -499.702452   \n",
       "75%                                   -487.712108   \n",
       "max                                   -275.073125   \n",
       "\n",
       "       secondary_cleaner.state.floatbank5_b_air  \\\n",
       "count                              14148.000000   \n",
       "mean                                  13.064590   \n",
       "std                                    5.765617   \n",
       "min                                    0.646208   \n",
       "25%                                    8.994405   \n",
       "50%                                   11.997547   \n",
       "75%                                   17.982903   \n",
       "max                                   27.926001   \n",
       "\n",
       "       secondary_cleaner.state.floatbank5_b_level  \\\n",
       "count                                14148.000000   \n",
       "mean                                  -483.966564   \n",
       "std                                     39.207913   \n",
       "min                                   -800.006180   \n",
       "25%                                   -500.105994   \n",
       "50%                                   -499.914556   \n",
       "75%                                   -453.186936   \n",
       "max                                   -157.396071   \n",
       "\n",
       "       secondary_cleaner.state.floatbank6_a_air  \\\n",
       "count                              14147.000000   \n",
       "mean                                  19.577539   \n",
       "std                                    5.764417   \n",
       "min                                    0.195324   \n",
       "25%                                   14.989304   \n",
       "50%                                   19.984175   \n",
       "75%                                   24.991623   \n",
       "max                                   32.188906   \n",
       "\n",
       "       secondary_cleaner.state.floatbank6_a_level  \n",
       "count                                14148.000000  \n",
       "mean                                  -506.798480  \n",
       "std                                     37.079249  \n",
       "min                                   -809.398668  \n",
       "25%                                   -500.745104  \n",
       "50%                                   -500.061431  \n",
       "75%                                   -499.536466  \n",
       "max                                   -104.427459  \n",
       "\n",
       "[8 rows x 86 columns]"
      ]
     },
     "execution_count": 12,
     "metadata": {},
     "output_type": "execute_result"
    }
   ],
   "source": [
    "data_train.describe()"
   ]
  },
  {
   "cell_type": "code",
   "execution_count": 13,
   "metadata": {
    "scrolled": true
   },
   "outputs": [
    {
     "data": {
      "text/html": [
       "<div>\n",
       "<style scoped>\n",
       "    .dataframe tbody tr th:only-of-type {\n",
       "        vertical-align: middle;\n",
       "    }\n",
       "\n",
       "    .dataframe tbody tr th {\n",
       "        vertical-align: top;\n",
       "    }\n",
       "\n",
       "    .dataframe thead th {\n",
       "        text-align: right;\n",
       "    }\n",
       "</style>\n",
       "<table border=\"1\" class=\"dataframe\">\n",
       "  <thead>\n",
       "    <tr style=\"text-align: right;\">\n",
       "      <th></th>\n",
       "      <th>primary_cleaner.input.sulfate</th>\n",
       "      <th>primary_cleaner.input.depressant</th>\n",
       "      <th>primary_cleaner.input.feed_size</th>\n",
       "      <th>primary_cleaner.input.xanthate</th>\n",
       "      <th>primary_cleaner.state.floatbank8_a_air</th>\n",
       "      <th>primary_cleaner.state.floatbank8_a_level</th>\n",
       "      <th>primary_cleaner.state.floatbank8_b_air</th>\n",
       "      <th>primary_cleaner.state.floatbank8_b_level</th>\n",
       "      <th>primary_cleaner.state.floatbank8_c_air</th>\n",
       "      <th>primary_cleaner.state.floatbank8_c_level</th>\n",
       "      <th>...</th>\n",
       "      <th>secondary_cleaner.state.floatbank4_a_air</th>\n",
       "      <th>secondary_cleaner.state.floatbank4_a_level</th>\n",
       "      <th>secondary_cleaner.state.floatbank4_b_air</th>\n",
       "      <th>secondary_cleaner.state.floatbank4_b_level</th>\n",
       "      <th>secondary_cleaner.state.floatbank5_a_air</th>\n",
       "      <th>secondary_cleaner.state.floatbank5_a_level</th>\n",
       "      <th>secondary_cleaner.state.floatbank5_b_air</th>\n",
       "      <th>secondary_cleaner.state.floatbank5_b_level</th>\n",
       "      <th>secondary_cleaner.state.floatbank6_a_air</th>\n",
       "      <th>secondary_cleaner.state.floatbank6_a_level</th>\n",
       "    </tr>\n",
       "  </thead>\n",
       "  <tbody>\n",
       "    <tr>\n",
       "      <th>count</th>\n",
       "      <td>5286.000000</td>\n",
       "      <td>5285.000000</td>\n",
       "      <td>5290.000000</td>\n",
       "      <td>5286.000000</td>\n",
       "      <td>5.290000e+03</td>\n",
       "      <td>5290.000000</td>\n",
       "      <td>5.290000e+03</td>\n",
       "      <td>5290.000000</td>\n",
       "      <td>5.290000e+03</td>\n",
       "      <td>5290.000000</td>\n",
       "      <td>...</td>\n",
       "      <td>5.290000e+03</td>\n",
       "      <td>5290.000000</td>\n",
       "      <td>5.290000e+03</td>\n",
       "      <td>5290.000000</td>\n",
       "      <td>5290.000000</td>\n",
       "      <td>5290.000000</td>\n",
       "      <td>5290.000000</td>\n",
       "      <td>5290.000000</td>\n",
       "      <td>5290.000000</td>\n",
       "      <td>5290.000000</td>\n",
       "    </tr>\n",
       "    <tr>\n",
       "      <th>mean</th>\n",
       "      <td>174.839652</td>\n",
       "      <td>8.683596</td>\n",
       "      <td>7.266339</td>\n",
       "      <td>1.383803</td>\n",
       "      <td>1.539494e+03</td>\n",
       "      <td>-497.665883</td>\n",
       "      <td>1.545174e+03</td>\n",
       "      <td>-500.273098</td>\n",
       "      <td>1.527272e+03</td>\n",
       "      <td>-498.330680</td>\n",
       "      <td>...</td>\n",
       "      <td>1.632007e+01</td>\n",
       "      <td>-505.144570</td>\n",
       "      <td>1.373544e+01</td>\n",
       "      <td>-463.349858</td>\n",
       "      <td>12.804186</td>\n",
       "      <td>-501.329122</td>\n",
       "      <td>9.881145</td>\n",
       "      <td>-495.663398</td>\n",
       "      <td>17.304935</td>\n",
       "      <td>-501.793193</td>\n",
       "    </tr>\n",
       "    <tr>\n",
       "      <th>std</th>\n",
       "      <td>43.027080</td>\n",
       "      <td>3.072050</td>\n",
       "      <td>0.610219</td>\n",
       "      <td>0.643474</td>\n",
       "      <td>1.167979e+02</td>\n",
       "      <td>19.952431</td>\n",
       "      <td>1.222246e+02</td>\n",
       "      <td>32.968307</td>\n",
       "      <td>1.225380e+02</td>\n",
       "      <td>21.964876</td>\n",
       "      <td>...</td>\n",
       "      <td>3.493583e+00</td>\n",
       "      <td>31.427337</td>\n",
       "      <td>3.430484e+00</td>\n",
       "      <td>86.189107</td>\n",
       "      <td>3.026591</td>\n",
       "      <td>17.951495</td>\n",
       "      <td>2.868205</td>\n",
       "      <td>34.535007</td>\n",
       "      <td>4.536544</td>\n",
       "      <td>39.044215</td>\n",
       "    </tr>\n",
       "    <tr>\n",
       "      <th>min</th>\n",
       "      <td>2.566156</td>\n",
       "      <td>0.003839</td>\n",
       "      <td>5.650000</td>\n",
       "      <td>0.004984</td>\n",
       "      <td>5.445860e-32</td>\n",
       "      <td>-795.316337</td>\n",
       "      <td>6.647490e-32</td>\n",
       "      <td>-799.997015</td>\n",
       "      <td>4.033736e-32</td>\n",
       "      <td>-799.960571</td>\n",
       "      <td>...</td>\n",
       "      <td>1.079872e-16</td>\n",
       "      <td>-799.798523</td>\n",
       "      <td>2.489718e-17</td>\n",
       "      <td>-800.836914</td>\n",
       "      <td>0.069227</td>\n",
       "      <td>-797.323986</td>\n",
       "      <td>0.528083</td>\n",
       "      <td>-800.220337</td>\n",
       "      <td>-0.079426</td>\n",
       "      <td>-809.741464</td>\n",
       "    </tr>\n",
       "    <tr>\n",
       "      <th>25%</th>\n",
       "      <td>147.121401</td>\n",
       "      <td>6.489555</td>\n",
       "      <td>6.890000</td>\n",
       "      <td>0.907623</td>\n",
       "      <td>1.498936e+03</td>\n",
       "      <td>-500.357298</td>\n",
       "      <td>1.498971e+03</td>\n",
       "      <td>-500.703002</td>\n",
       "      <td>1.473230e+03</td>\n",
       "      <td>-501.018117</td>\n",
       "      <td>...</td>\n",
       "      <td>1.403618e+01</td>\n",
       "      <td>-500.868258</td>\n",
       "      <td>1.202862e+01</td>\n",
       "      <td>-500.323028</td>\n",
       "      <td>10.914838</td>\n",
       "      <td>-500.726841</td>\n",
       "      <td>8.036719</td>\n",
       "      <td>-500.194668</td>\n",
       "      <td>13.997317</td>\n",
       "      <td>-500.690984</td>\n",
       "    </tr>\n",
       "    <tr>\n",
       "      <th>50%</th>\n",
       "      <td>177.828489</td>\n",
       "      <td>8.052207</td>\n",
       "      <td>7.250000</td>\n",
       "      <td>1.197610</td>\n",
       "      <td>1.585129e+03</td>\n",
       "      <td>-499.969164</td>\n",
       "      <td>1.595622e+03</td>\n",
       "      <td>-500.028514</td>\n",
       "      <td>1.549595e+03</td>\n",
       "      <td>-500.017711</td>\n",
       "      <td>...</td>\n",
       "      <td>1.700847e+01</td>\n",
       "      <td>-500.115727</td>\n",
       "      <td>1.496486e+01</td>\n",
       "      <td>-499.576513</td>\n",
       "      <td>12.954182</td>\n",
       "      <td>-499.990332</td>\n",
       "      <td>10.004301</td>\n",
       "      <td>-499.990535</td>\n",
       "      <td>16.014935</td>\n",
       "      <td>-500.007126</td>\n",
       "    </tr>\n",
       "    <tr>\n",
       "      <th>75%</th>\n",
       "      <td>208.125438</td>\n",
       "      <td>10.027764</td>\n",
       "      <td>7.600000</td>\n",
       "      <td>1.797819</td>\n",
       "      <td>1.602077e+03</td>\n",
       "      <td>-499.568951</td>\n",
       "      <td>1.602324e+03</td>\n",
       "      <td>-499.293257</td>\n",
       "      <td>1.601144e+03</td>\n",
       "      <td>-498.994130</td>\n",
       "      <td>...</td>\n",
       "      <td>1.803862e+01</td>\n",
       "      <td>-499.404224</td>\n",
       "      <td>1.596213e+01</td>\n",
       "      <td>-400.933805</td>\n",
       "      <td>15.097528</td>\n",
       "      <td>-499.283191</td>\n",
       "      <td>11.997467</td>\n",
       "      <td>-499.719913</td>\n",
       "      <td>21.020013</td>\n",
       "      <td>-499.373018</td>\n",
       "    </tr>\n",
       "    <tr>\n",
       "      <th>max</th>\n",
       "      <td>265.983123</td>\n",
       "      <td>40.000000</td>\n",
       "      <td>15.500000</td>\n",
       "      <td>4.102454</td>\n",
       "      <td>2.103104e+03</td>\n",
       "      <td>-57.195404</td>\n",
       "      <td>1.813084e+03</td>\n",
       "      <td>-142.527229</td>\n",
       "      <td>1.715054e+03</td>\n",
       "      <td>-150.937035</td>\n",
       "      <td>...</td>\n",
       "      <td>3.005180e+01</td>\n",
       "      <td>-401.565212</td>\n",
       "      <td>3.126971e+01</td>\n",
       "      <td>-6.506986</td>\n",
       "      <td>25.258848</td>\n",
       "      <td>-244.483566</td>\n",
       "      <td>14.086866</td>\n",
       "      <td>-137.740004</td>\n",
       "      <td>26.705889</td>\n",
       "      <td>-123.307487</td>\n",
       "    </tr>\n",
       "  </tbody>\n",
       "</table>\n",
       "<p>8 rows × 52 columns</p>\n",
       "</div>"
      ],
      "text/plain": [
       "       primary_cleaner.input.sulfate  primary_cleaner.input.depressant  \\\n",
       "count                    5286.000000                       5285.000000   \n",
       "mean                      174.839652                          8.683596   \n",
       "std                        43.027080                          3.072050   \n",
       "min                         2.566156                          0.003839   \n",
       "25%                       147.121401                          6.489555   \n",
       "50%                       177.828489                          8.052207   \n",
       "75%                       208.125438                         10.027764   \n",
       "max                       265.983123                         40.000000   \n",
       "\n",
       "       primary_cleaner.input.feed_size  primary_cleaner.input.xanthate  \\\n",
       "count                      5290.000000                     5286.000000   \n",
       "mean                          7.266339                        1.383803   \n",
       "std                           0.610219                        0.643474   \n",
       "min                           5.650000                        0.004984   \n",
       "25%                           6.890000                        0.907623   \n",
       "50%                           7.250000                        1.197610   \n",
       "75%                           7.600000                        1.797819   \n",
       "max                          15.500000                        4.102454   \n",
       "\n",
       "       primary_cleaner.state.floatbank8_a_air  \\\n",
       "count                            5.290000e+03   \n",
       "mean                             1.539494e+03   \n",
       "std                              1.167979e+02   \n",
       "min                              5.445860e-32   \n",
       "25%                              1.498936e+03   \n",
       "50%                              1.585129e+03   \n",
       "75%                              1.602077e+03   \n",
       "max                              2.103104e+03   \n",
       "\n",
       "       primary_cleaner.state.floatbank8_a_level  \\\n",
       "count                               5290.000000   \n",
       "mean                                -497.665883   \n",
       "std                                   19.952431   \n",
       "min                                 -795.316337   \n",
       "25%                                 -500.357298   \n",
       "50%                                 -499.969164   \n",
       "75%                                 -499.568951   \n",
       "max                                  -57.195404   \n",
       "\n",
       "       primary_cleaner.state.floatbank8_b_air  \\\n",
       "count                            5.290000e+03   \n",
       "mean                             1.545174e+03   \n",
       "std                              1.222246e+02   \n",
       "min                              6.647490e-32   \n",
       "25%                              1.498971e+03   \n",
       "50%                              1.595622e+03   \n",
       "75%                              1.602324e+03   \n",
       "max                              1.813084e+03   \n",
       "\n",
       "       primary_cleaner.state.floatbank8_b_level  \\\n",
       "count                               5290.000000   \n",
       "mean                                -500.273098   \n",
       "std                                   32.968307   \n",
       "min                                 -799.997015   \n",
       "25%                                 -500.703002   \n",
       "50%                                 -500.028514   \n",
       "75%                                 -499.293257   \n",
       "max                                 -142.527229   \n",
       "\n",
       "       primary_cleaner.state.floatbank8_c_air  \\\n",
       "count                            5.290000e+03   \n",
       "mean                             1.527272e+03   \n",
       "std                              1.225380e+02   \n",
       "min                              4.033736e-32   \n",
       "25%                              1.473230e+03   \n",
       "50%                              1.549595e+03   \n",
       "75%                              1.601144e+03   \n",
       "max                              1.715054e+03   \n",
       "\n",
       "       primary_cleaner.state.floatbank8_c_level  ...  \\\n",
       "count                               5290.000000  ...   \n",
       "mean                                -498.330680  ...   \n",
       "std                                   21.964876  ...   \n",
       "min                                 -799.960571  ...   \n",
       "25%                                 -501.018117  ...   \n",
       "50%                                 -500.017711  ...   \n",
       "75%                                 -498.994130  ...   \n",
       "max                                 -150.937035  ...   \n",
       "\n",
       "       secondary_cleaner.state.floatbank4_a_air  \\\n",
       "count                              5.290000e+03   \n",
       "mean                               1.632007e+01   \n",
       "std                                3.493583e+00   \n",
       "min                                1.079872e-16   \n",
       "25%                                1.403618e+01   \n",
       "50%                                1.700847e+01   \n",
       "75%                                1.803862e+01   \n",
       "max                                3.005180e+01   \n",
       "\n",
       "       secondary_cleaner.state.floatbank4_a_level  \\\n",
       "count                                 5290.000000   \n",
       "mean                                  -505.144570   \n",
       "std                                     31.427337   \n",
       "min                                   -799.798523   \n",
       "25%                                   -500.868258   \n",
       "50%                                   -500.115727   \n",
       "75%                                   -499.404224   \n",
       "max                                   -401.565212   \n",
       "\n",
       "       secondary_cleaner.state.floatbank4_b_air  \\\n",
       "count                              5.290000e+03   \n",
       "mean                               1.373544e+01   \n",
       "std                                3.430484e+00   \n",
       "min                                2.489718e-17   \n",
       "25%                                1.202862e+01   \n",
       "50%                                1.496486e+01   \n",
       "75%                                1.596213e+01   \n",
       "max                                3.126971e+01   \n",
       "\n",
       "       secondary_cleaner.state.floatbank4_b_level  \\\n",
       "count                                 5290.000000   \n",
       "mean                                  -463.349858   \n",
       "std                                     86.189107   \n",
       "min                                   -800.836914   \n",
       "25%                                   -500.323028   \n",
       "50%                                   -499.576513   \n",
       "75%                                   -400.933805   \n",
       "max                                     -6.506986   \n",
       "\n",
       "       secondary_cleaner.state.floatbank5_a_air  \\\n",
       "count                               5290.000000   \n",
       "mean                                  12.804186   \n",
       "std                                    3.026591   \n",
       "min                                    0.069227   \n",
       "25%                                   10.914838   \n",
       "50%                                   12.954182   \n",
       "75%                                   15.097528   \n",
       "max                                   25.258848   \n",
       "\n",
       "       secondary_cleaner.state.floatbank5_a_level  \\\n",
       "count                                 5290.000000   \n",
       "mean                                  -501.329122   \n",
       "std                                     17.951495   \n",
       "min                                   -797.323986   \n",
       "25%                                   -500.726841   \n",
       "50%                                   -499.990332   \n",
       "75%                                   -499.283191   \n",
       "max                                   -244.483566   \n",
       "\n",
       "       secondary_cleaner.state.floatbank5_b_air  \\\n",
       "count                               5290.000000   \n",
       "mean                                   9.881145   \n",
       "std                                    2.868205   \n",
       "min                                    0.528083   \n",
       "25%                                    8.036719   \n",
       "50%                                   10.004301   \n",
       "75%                                   11.997467   \n",
       "max                                   14.086866   \n",
       "\n",
       "       secondary_cleaner.state.floatbank5_b_level  \\\n",
       "count                                 5290.000000   \n",
       "mean                                  -495.663398   \n",
       "std                                     34.535007   \n",
       "min                                   -800.220337   \n",
       "25%                                   -500.194668   \n",
       "50%                                   -499.990535   \n",
       "75%                                   -499.719913   \n",
       "max                                   -137.740004   \n",
       "\n",
       "       secondary_cleaner.state.floatbank6_a_air  \\\n",
       "count                               5290.000000   \n",
       "mean                                  17.304935   \n",
       "std                                    4.536544   \n",
       "min                                   -0.079426   \n",
       "25%                                   13.997317   \n",
       "50%                                   16.014935   \n",
       "75%                                   21.020013   \n",
       "max                                   26.705889   \n",
       "\n",
       "       secondary_cleaner.state.floatbank6_a_level  \n",
       "count                                 5290.000000  \n",
       "mean                                  -501.793193  \n",
       "std                                     39.044215  \n",
       "min                                   -809.741464  \n",
       "25%                                   -500.690984  \n",
       "50%                                   -500.007126  \n",
       "75%                                   -499.373018  \n",
       "max                                   -123.307487  \n",
       "\n",
       "[8 rows x 52 columns]"
      ]
     },
     "execution_count": 13,
     "metadata": {},
     "output_type": "execute_result"
    }
   ],
   "source": [
    "data_test.describe()"
   ]
  },
  {
   "cell_type": "markdown",
   "metadata": {},
   "source": [
    "Из-за большого количества данных и разнообразии признаков общая статистика малоинформативна.\n",
    "\n",
    "Посмотрим за какой период нам доступны данные:"
   ]
  },
  {
   "cell_type": "code",
   "execution_count": 14,
   "metadata": {
    "scrolled": false
   },
   "outputs": [
    {
     "name": "stdout",
     "output_type": "stream",
     "text": [
      "Данные доступны за период от 2016-01-15 00:00:00 до 2018-08-18 10:59:59\n"
     ]
    }
   ],
   "source": [
    "print('Данные доступны за период от', pd.to_datetime(data['date'].min()), 'до', pd.to_datetime(data['date'].max()))"
   ]
  },
  {
   "cell_type": "markdown",
   "metadata": {},
   "source": [
    "**Описание данных:**\n",
    "<br>\n",
    "<br>\n",
    "\n",
    "**Технологический процесс**\n",
    "- Rougher feed — исходное сырье\n",
    "- Rougher additions (или reagent additions) — флотационные реагенты: Xanthate, Sulphate, Depressant\n",
    "- Xanthate **— ксантогенат (промотер, или активатор флотации);\n",
    "- Sulphate — сульфат (на данном производстве сульфид натрия);\n",
    "- Depressant — депрессант (силикат натрия).\n",
    "- Rougher process (англ. «грубый процесс») — флотация\n",
    "- Rougher tails — отвальные хвосты\n",
    "- Float banks — флотационная установка\n",
    "- Cleaner process — очистка\n",
    "- Rougher Au — черновой концентрат золота\n",
    "- Final Au — финальный концентрат золота\n",
    "\n",
    "**Параметры этапов**\n",
    "- air amount — объём воздуха\n",
    "- fluid levels — уровень жидкости\n",
    "- feed size — размер гранул сырья\n",
    "- feed rate — скорость подачи\n",
    "\n",
    "**Возможные значения для блока [этап]:**\n",
    "- rougher — флотация\n",
    "- primary_cleaner — первичная очистка\n",
    "- secondary_cleaner — вторичная очистка\n",
    "- final — финальные характеристики\n",
    "\n",
    "**Возможные значения для блока [тип_параметра]:**\n",
    "- input — параметры сырья\n",
    "- output — параметры продукта\n",
    "- state — параметры, характеризующие текущее состояние этапа\n",
    "- calculation — расчётные характеристики"
   ]
  },
  {
   "cell_type": "markdown",
   "metadata": {},
   "source": [
    "<div class=\"alert alert-info\" role=\"alert\">\n",
    "\n",
    "</div>\n",
    "\n",
    "**Вывод:**\n",
    "\n",
    "В данных большое количество признаков - 86 (В тестовой выборке - 52). \n",
    "\n",
    "Встречаются пропуски, в районе 0-11% от общего числа. Самое большое количества у признака - secondary_cleaner.output.tail_sol.\n",
    "\n",
    "Дубликатов в датасетах нет.\n",
    "\n",
    "**Целевые признаки:**<br>\n",
    "эффективность обогащения чернового концентрата **rougher.output.recovery**;<br>\n",
    "эффективность обогащения финального концентрата **final.output.recovery**.\n",
    "\n",
    "<div class=\"alert alert-info\" role=\"alert\">\n",
    "\n",
    "</div>"
   ]
  },
  {
   "cell_type": "markdown",
   "metadata": {},
   "source": [
    "## Предобработка данных"
   ]
  },
  {
   "cell_type": "markdown",
   "metadata": {},
   "source": [
    "### Проверка расчета эффективности обогащения"
   ]
  },
  {
   "cell_type": "code",
   "execution_count": 15,
   "metadata": {},
   "outputs": [],
   "source": [
    "def recovery(data):\n",
    "    C = data['rougher.output.concentrate_au']\n",
    "    F = data['rougher.input.feed_au']\n",
    "    T = data['rougher.output.tail_au']\n",
    "    \n",
    "    recovery = ((C * (F-T))) / (F * (C-T))\n",
    "    return recovery *100"
   ]
  },
  {
   "cell_type": "code",
   "execution_count": 16,
   "metadata": {
    "scrolled": false
   },
   "outputs": [
    {
     "data": {
      "text/html": [
       "<div>\n",
       "<style scoped>\n",
       "    .dataframe tbody tr th:only-of-type {\n",
       "        vertical-align: middle;\n",
       "    }\n",
       "\n",
       "    .dataframe tbody tr th {\n",
       "        vertical-align: top;\n",
       "    }\n",
       "\n",
       "    .dataframe thead th {\n",
       "        text-align: right;\n",
       "    }\n",
       "</style>\n",
       "<table border=\"1\" class=\"dataframe\">\n",
       "  <thead>\n",
       "    <tr style=\"text-align: right;\">\n",
       "      <th></th>\n",
       "      <th>rougher.output.concentrate_au</th>\n",
       "      <th>rougher.input.feed_au</th>\n",
       "      <th>rougher.output.tail_au</th>\n",
       "      <th>rougher.output.recovery</th>\n",
       "      <th>exam_recovery</th>\n",
       "    </tr>\n",
       "  </thead>\n",
       "  <tbody>\n",
       "    <tr>\n",
       "      <th>11336</th>\n",
       "      <td>20.159213</td>\n",
       "      <td>5.645549</td>\n",
       "      <td>0.986457</td>\n",
       "      <td>86.772908</td>\n",
       "      <td>86.772908</td>\n",
       "    </tr>\n",
       "    <tr>\n",
       "      <th>1561</th>\n",
       "      <td>19.052894</td>\n",
       "      <td>7.501702</td>\n",
       "      <td>2.874891</td>\n",
       "      <td>72.637019</td>\n",
       "      <td>72.637019</td>\n",
       "    </tr>\n",
       "    <tr>\n",
       "      <th>7039</th>\n",
       "      <td>18.856371</td>\n",
       "      <td>7.365446</td>\n",
       "      <td>1.559898</td>\n",
       "      <td>85.929986</td>\n",
       "      <td>85.929986</td>\n",
       "    </tr>\n",
       "  </tbody>\n",
       "</table>\n",
       "</div>"
      ],
      "text/plain": [
       "       rougher.output.concentrate_au  rougher.input.feed_au  \\\n",
       "11336                      20.159213               5.645549   \n",
       "1561                       19.052894               7.501702   \n",
       "7039                       18.856371               7.365446   \n",
       "\n",
       "       rougher.output.tail_au  rougher.output.recovery  exam_recovery  \n",
       "11336                0.986457                86.772908      86.772908  \n",
       "1561                 2.874891                72.637019      72.637019  \n",
       "7039                 1.559898                85.929986      85.929986  "
      ]
     },
     "metadata": {},
     "output_type": "display_data"
    }
   ],
   "source": [
    "train_chek =  data_train[['rougher.output.concentrate_au', \n",
    "                    'rougher.input.feed_au', \n",
    "                    'rougher.output.tail_au',\n",
    "                    'rougher.output.recovery']]\n",
    "train_chek['exam_recovery'] = recovery(train_chek)\n",
    "display(train_chek.sample(3))"
   ]
  },
  {
   "cell_type": "code",
   "execution_count": 17,
   "metadata": {
    "scrolled": false
   },
   "outputs": [
    {
     "name": "stdout",
     "output_type": "stream",
     "text": [
      "Средняя абсолютная ошибка: 9.73512347450521e-15\n"
     ]
    }
   ],
   "source": [
    "MAE = mean_absolute_error(train_chek['rougher.output.recovery'], train_chek['exam_recovery'])\n",
    "print('Средняя абсолютная ошибка:', MAE)"
   ]
  },
  {
   "cell_type": "markdown",
   "metadata": {},
   "source": [
    "**Вывод:**\n",
    "Отклонение есть, но оно очень мало."
   ]
  },
  {
   "cell_type": "markdown",
   "metadata": {},
   "source": [
    "### Проанализируем признаки недоступные в тестовой выборке"
   ]
  },
  {
   "cell_type": "markdown",
   "metadata": {},
   "source": [
    "Из прошлых выводов можно убедиться, что в тестовой выборке меньше признаков. Разберемся, с чем это могло быть связано:"
   ]
  },
  {
   "cell_type": "code",
   "execution_count": 18,
   "metadata": {},
   "outputs": [
    {
     "name": "stdout",
     "output_type": "stream",
     "text": [
      "Количество признаков, отсутствующих в тестовой выборке: 34\n"
     ]
    },
    {
     "data": {
      "text/plain": [
       "{'final.output.concentrate_ag',\n",
       " 'final.output.concentrate_au',\n",
       " 'final.output.concentrate_pb',\n",
       " 'final.output.concentrate_sol',\n",
       " 'final.output.recovery',\n",
       " 'final.output.tail_ag',\n",
       " 'final.output.tail_au',\n",
       " 'final.output.tail_pb',\n",
       " 'final.output.tail_sol',\n",
       " 'primary_cleaner.output.concentrate_ag',\n",
       " 'primary_cleaner.output.concentrate_au',\n",
       " 'primary_cleaner.output.concentrate_pb',\n",
       " 'primary_cleaner.output.concentrate_sol',\n",
       " 'primary_cleaner.output.tail_ag',\n",
       " 'primary_cleaner.output.tail_au',\n",
       " 'primary_cleaner.output.tail_pb',\n",
       " 'primary_cleaner.output.tail_sol',\n",
       " 'rougher.calculation.au_pb_ratio',\n",
       " 'rougher.calculation.floatbank10_sulfate_to_au_feed',\n",
       " 'rougher.calculation.floatbank11_sulfate_to_au_feed',\n",
       " 'rougher.calculation.sulfate_to_au_concentrate',\n",
       " 'rougher.output.concentrate_ag',\n",
       " 'rougher.output.concentrate_au',\n",
       " 'rougher.output.concentrate_pb',\n",
       " 'rougher.output.concentrate_sol',\n",
       " 'rougher.output.recovery',\n",
       " 'rougher.output.tail_ag',\n",
       " 'rougher.output.tail_au',\n",
       " 'rougher.output.tail_pb',\n",
       " 'rougher.output.tail_sol',\n",
       " 'secondary_cleaner.output.tail_ag',\n",
       " 'secondary_cleaner.output.tail_au',\n",
       " 'secondary_cleaner.output.tail_pb',\n",
       " 'secondary_cleaner.output.tail_sol'}"
      ]
     },
     "execution_count": 18,
     "metadata": {},
     "output_type": "execute_result"
    }
   ],
   "source": [
    "print('Количество признаков, отсутствующих в тестовой выборке:' , len(set(data_train) - set(data_test)))\n",
    "set(data_train.columns) - set(data_test.columns)"
   ]
  },
  {
   "cell_type": "markdown",
   "metadata": {},
   "source": [
    "В первую очередь видно, что отсутствуют блоки с **output** — параметры продукта. \n",
    "Возможно, они рассчитываются после всего процесса, поэтому не были занесены в таблицу. \n",
    "\n",
    "Также отсутсвуют блоки с **calculation** — расчётные характеристики. Скорее всего, отсутсвуют по той же причине."
   ]
  },
  {
   "cell_type": "markdown",
   "metadata": {},
   "source": [
    "### Заполнение пропусков"
   ]
  },
  {
   "cell_type": "markdown",
   "metadata": {},
   "source": [
    "**Обучающая выборка**"
   ]
  },
  {
   "cell_type": "markdown",
   "metadata": {},
   "source": [
    "Посмотрим пропуски по целевым признакам:"
   ]
  },
  {
   "cell_type": "code",
   "execution_count": 19,
   "metadata": {
    "scrolled": true
   },
   "outputs": [
    {
     "data": {
      "text/plain": [
       "rougher.output.recovery    0.0\n",
       "final.output.recovery      0.0\n",
       "dtype: float64"
      ]
     },
     "execution_count": 19,
     "metadata": {},
     "output_type": "execute_result"
    }
   ],
   "source": [
    "data_train[['rougher.output.recovery', 'final.output.recovery']].isna().mean().sort_values()"
   ]
  },
  {
   "cell_type": "markdown",
   "metadata": {},
   "source": [
    "Пропусков нет, что хорошо."
   ]
  },
  {
   "cell_type": "markdown",
   "metadata": {},
   "source": [
    "У нас есть информация о том, что соседние по времени параметры часто похожи.\n",
    "\n",
    "Поэтому заменим пропуски с помощью функции fiilna и метода ffill."
   ]
  },
  {
   "cell_type": "code",
   "execution_count": 20,
   "metadata": {},
   "outputs": [],
   "source": [
    "data_train = data_train.fillna(method='ffill')"
   ]
  },
  {
   "cell_type": "markdown",
   "metadata": {},
   "source": [
    "**Тестовая выборка**"
   ]
  },
  {
   "cell_type": "markdown",
   "metadata": {},
   "source": [
    "Заполним пропуски тем же способом:"
   ]
  },
  {
   "cell_type": "code",
   "execution_count": 21,
   "metadata": {},
   "outputs": [],
   "source": [
    "data_test = data_test.fillna(method='ffill')"
   ]
  },
  {
   "cell_type": "markdown",
   "metadata": {},
   "source": [
    "### Разделение датаестов на выборки"
   ]
  },
  {
   "cell_type": "markdown",
   "metadata": {},
   "source": [
    "Из общего датасета добавим в тестовый целевые признаки"
   ]
  },
  {
   "cell_type": "code",
   "execution_count": 22,
   "metadata": {},
   "outputs": [],
   "source": [
    "join_df = data[['date', 'rougher.output.recovery', 'final.output.recovery']]\n",
    "data_test = data_test.merge(join_df, on='date')"
   ]
  },
  {
   "cell_type": "markdown",
   "metadata": {},
   "source": [
    "**Процесс rougher**"
   ]
  },
  {
   "cell_type": "markdown",
   "metadata": {},
   "source": [
    "В тестовом датасете признаков меньше, поэтому будем использовать только признаки из тестового датасета."
   ]
  },
  {
   "cell_type": "code",
   "execution_count": 23,
   "metadata": {},
   "outputs": [],
   "source": [
    "train = data_train[data_test.columns]\n",
    "\n",
    "rougher_columns = train.columns.str.contains('rougher')\n",
    "final_columns = train.columns.str.contains('cleaner')"
   ]
  },
  {
   "cell_type": "code",
   "execution_count": 24,
   "metadata": {},
   "outputs": [],
   "source": [
    "data_train_rougher_features = train.loc[:, rougher_columns]\n",
    "data_train_rougher_features = data_train_rougher_features.drop('rougher.output.recovery', axis=1)\n",
    "data_train_rougher_target = data_train.loc[data_train_rougher_features.index, 'rougher.output.recovery']\n",
    "\n",
    "\n",
    "data_test_rougher_features = data_test.loc[:, rougher_columns]\n",
    "data_test_rougher_features = data_test_rougher_features.drop('rougher.output.recovery', axis=1)\n",
    "data_test_rougher_target = data_test.loc[data_test_rougher_features.index, 'rougher.output.recovery']"
   ]
  },
  {
   "cell_type": "markdown",
   "metadata": {},
   "source": [
    "**Процесс final**"
   ]
  },
  {
   "cell_type": "code",
   "execution_count": 25,
   "metadata": {},
   "outputs": [],
   "source": [
    "data_train_final_features = train.loc[:, final_columns]\n",
    "data_train_final_target = data_train.loc[data_train_final_features.index, 'final.output.recovery']\n",
    "\n",
    "\n",
    "data_test_final_features = data_test.loc[:, final_columns]\n",
    "data_test_final_target = data_test.loc[data_test_final_features.index, 'final.output.recovery']"
   ]
  },
  {
   "cell_type": "markdown",
   "metadata": {},
   "source": [
    "<div class=\"alert alert-info\" role=\"alert\">\n",
    "\n",
    "</div>\n",
    "\n",
    "**Вывод:**\n",
    "\n",
    "Эффективность обогащения рассчитана с очень малыми погрешностями, \n",
    "поэтому можно считать расчеты правильными.\n",
    "\n",
    "Были заполнены пропуски в датасетах с помошью **ffill**. \n",
    "\n",
    "Датасеты разделены на 4 выборки. Для каждого целевого признака: **rougher.output.recovery** и **final.output.recovery** выделены features и target признаки.\n",
    "\n",
    "<div class=\"alert alert-info\" role=\"alert\">\n",
    "\n",
    "</div>"
   ]
  },
  {
   "cell_type": "markdown",
   "metadata": {},
   "source": [
    "## Анализ данных"
   ]
  },
  {
   "cell_type": "markdown",
   "metadata": {},
   "source": [
    "### Концентрация металлов (Au, Ag, Pb)"
   ]
  },
  {
   "cell_type": "code",
   "execution_count": 26,
   "metadata": {},
   "outputs": [],
   "source": [
    "elements = {'золото': 'au', 'серебро': 'ag', 'свинец': 'pb', 'соли': 'sol'}"
   ]
  },
  {
   "cell_type": "code",
   "execution_count": 27,
   "metadata": {},
   "outputs": [],
   "source": [
    "def boxplot(elem):\n",
    "\n",
    "    cols = ['rougher.input.feed_'+elem, 'rougher.output.concentrate_'+elem, \n",
    "            'primary_cleaner.output.concentrate_'+elem, 'final.output.concentrate_'+elem]\n",
    "    plt.figure(figsize=(14,10))\n",
    "    sns.boxplot(data=data[cols], linewidth=0.5)\n",
    "    plt.title('Концентрация металла ' + str(elem) + ' на различных этапах очистки', fontsize=15)"
   ]
  },
  {
   "cell_type": "code",
   "execution_count": 28,
   "metadata": {
    "scrolled": true
   },
   "outputs": [
    {
     "data": {
      "image/png": "[encoded data removed]",
      "text/plain": [
       "<Figure size 1008x720 with 1 Axes>"
      ]
     },
     "metadata": {
      "needs_background": "light"
     },
     "output_type": "display_data"
    }
   ],
   "source": [
    "boxplot(elements['золото'])"
   ]
  },
  {
   "cell_type": "code",
   "execution_count": 29,
   "metadata": {
    "scrolled": true
   },
   "outputs": [
    {
     "data": {
      "image/png": "[encoded data removed]",
      "text/plain": [
       "<Figure size 1008x720 with 1 Axes>"
      ]
     },
     "metadata": {
      "needs_background": "light"
     },
     "output_type": "display_data"
    }
   ],
   "source": [
    "boxplot(elements['серебро'])"
   ]
  },
  {
   "cell_type": "code",
   "execution_count": 30,
   "metadata": {
    "scrolled": false
   },
   "outputs": [
    {
     "data": {
      "image/png": "[encoded data removed]",
      "text/plain": [
       "<Figure size 1008x720 with 1 Axes>"
      ]
     },
     "metadata": {
      "needs_background": "light"
     },
     "output_type": "display_data"
    }
   ],
   "source": [
    "boxplot(elements['свинец'])"
   ]
  },
  {
   "cell_type": "markdown",
   "metadata": {},
   "source": [
    "### Размер гранул"
   ]
  },
  {
   "cell_type": "markdown",
   "metadata": {},
   "source": [
    "В таблице имеем столбцы: primary_cleaner.input.feed_size,  rougher.input.feed_size. Они отвечают за размеры гранул. Первый за размеры гранул перед флотацией, второе - размер гранул перел первичной очисткой."
   ]
  },
  {
   "cell_type": "code",
   "execution_count": 31,
   "metadata": {
    "scrolled": false
   },
   "outputs": [
    {
     "data": {
      "image/png": "[encoded data removed]",
      "text/plain": [
       "<Figure size 1080x720 with 1 Axes>"
      ]
     },
     "metadata": {
      "needs_background": "light"
     },
     "output_type": "display_data"
    }
   ],
   "source": [
    "plt.figure(figsize=(15,10))\n",
    "sns.kdeplot(data_train['rougher.input.feed_size'].dropna(), label='train', shade=True, alpha=0.5)\n",
    "sns.kdeplot(data_test['rougher.input.feed_size'].dropna(), label='test', shade=True, alpha=0.5)\n",
    "plt.title('Распределения размеров зерен в тестовой выборке и обучающей')\n",
    "plt.legend()\n",
    "plt.show()"
   ]
  },
  {
   "cell_type": "code",
   "execution_count": 32,
   "metadata": {
    "scrolled": true
   },
   "outputs": [
    {
     "data": {
      "image/png": "[encoded data removed]",
      "text/plain": [
       "<Figure size 1080x720 with 1 Axes>"
      ]
     },
     "metadata": {
      "needs_background": "light"
     },
     "output_type": "display_data"
    }
   ],
   "source": [
    "plt.figure(figsize=(15,10))\n",
    "sns.kdeplot(data_train['primary_cleaner.input.feed_size'].dropna(), label='train', shade=True, alpha=0.5)\n",
    "sns.kdeplot(data_test['primary_cleaner.input.feed_size'].dropna(), label='test', shade=True, alpha=0.5)\n",
    "plt.title('Распределения размеров зерен в тестовой выборке и обучающей')\n",
    "plt.legend()\n",
    "plt.show()"
   ]
  },
  {
   "cell_type": "markdown",
   "metadata": {},
   "source": [
    "Из графиков видно, что размер гранул почти полностью совпадает."
   ]
  },
  {
   "cell_type": "markdown",
   "metadata": {},
   "source": [
    "###  Суммарная концентрация всех веществ на разных стадиях"
   ]
  },
  {
   "cell_type": "markdown",
   "metadata": {},
   "source": [
    "Всего 4 стадии, если смотреть по признакоам, то это: rougher.input.feed_, rougher.output.concentrate_, primary_cleaner.output.concentrate_, final.output.concentrate_."
   ]
  },
  {
   "cell_type": "code",
   "execution_count": 33,
   "metadata": {},
   "outputs": [],
   "source": [
    "first = 'rougher.input.feed_'\n",
    "second = 'rougher.output.concentrate_'\n",
    "third = 'primary_cleaner.output.concentrate_'\n",
    "fourth = 'final.output.concentrate_'\n",
    "\n",
    "data[['до_флотации', 'до_первой_очистки', 'до_второй_очистки', 'финал']] = 0\n",
    "\n",
    "for elem in elements.values():\n",
    "    data['до_флотации'] = data['до_флотации'] + data[[first+elem]].sum(axis=1)\n",
    "    data['до_первой_очистки'] = data['до_первой_очистки'] + data[[second+elem]].sum(axis=1)\n",
    "    data['до_второй_очистки'] = data['до_второй_очистки'] + data[[third+elem]].sum(axis=1)\n",
    "    data['финал'] = data['финал'] + data[[fourth+elem]].sum(axis=1)"
   ]
  },
  {
   "cell_type": "code",
   "execution_count": 34,
   "metadata": {
    "scrolled": true
   },
   "outputs": [
    {
     "data": {
      "image/png": "[encoded data removed]",
      "text/plain": [
       "<Figure size 1080x720 with 1 Axes>"
      ]
     },
     "metadata": {
      "needs_background": "light"
     },
     "output_type": "display_data"
    }
   ],
   "source": [
    "col_name = ['до_флотации', 'до_первой_очистки', 'до_второй_очистки', 'финал']\n",
    "\n",
    "plt.figure(figsize=(15,10))\n",
    "sns.boxplot(data=data[col_name], linewidth=0.5)\n",
    "plt.title('Суммарная концентрация всех веществ', fontsize=15)\n",
    "plt.show()"
   ]
  },
  {
   "cell_type": "markdown",
   "metadata": {},
   "source": [
    "На графиках видны около нулевые значения, скорее всего аномалии, удалим их из датасета"
   ]
  },
  {
   "cell_type": "code",
   "execution_count": 35,
   "metadata": {},
   "outputs": [],
   "source": [
    "data = data[data['до_флотации'] > 2]\n",
    "data = data[data['до_первой_очистки'] > 2]\n",
    "data = data[data['до_второй_очистки'] > 2]\n",
    "data = data[data['финал'] > 2]"
   ]
  },
  {
   "cell_type": "code",
   "execution_count": 36,
   "metadata": {
    "scrolled": false
   },
   "outputs": [
    {
     "data": {
      "image/png": "[encoded data removed]",
      "text/plain": [
       "<Figure size 1080x720 with 1 Axes>"
      ]
     },
     "metadata": {
      "needs_background": "light"
     },
     "output_type": "display_data"
    }
   ],
   "source": [
    "col_name = ['до_флотации', 'до_первой_очистки', 'до_второй_очистки', 'финал']\n",
    "\n",
    "plt.figure(figsize=(15,10))\n",
    "sns.boxplot(data=data[col_name], linewidth=0.5)\n",
    "plt.title('Суммарная концентрация всех веществ', fontsize=15)\n",
    "plt.show()"
   ]
  },
  {
   "cell_type": "markdown",
   "metadata": {},
   "source": [
    "<div class=\"alert alert-info\" role=\"alert\">\n",
    "\n",
    "</div>\n",
    "\n",
    "**Вывод:**\n",
    "\n",
    "После каждого этапа очистки концентрация золота равномерно увеличивается.\n",
    "\n",
    "Концентрация серебра достигает пика после процесса флотации, затем спадает.\n",
    "\n",
    "Концентрация свинца с каждым этапом увеличивается, но после второго этапа очистки почти не изменяется.\n",
    "<br><br>\n",
    "\n",
    "Распределения размеров зерен практически совпадают.\n",
    "<br><br>\n",
    "\n",
    "При просмотре суммарной концентрации были замечены около нулевые значения. Скорее всего это связано со сбоем измерительного оборудования. Так как модель планируется использовать для подбора параметров оборудования, данные значения были удалены из данных.\n",
    "\n",
    "<div class=\"alert alert-info\" role=\"alert\">\n",
    "\n",
    "</div>"
   ]
  },
  {
   "cell_type": "markdown",
   "metadata": {},
   "source": [
    "## Модель"
   ]
  },
  {
   "cell_type": "markdown",
   "metadata": {},
   "source": [
    "### Функция sMAPE"
   ]
  },
  {
   "cell_type": "code",
   "execution_count": 37,
   "metadata": {},
   "outputs": [],
   "source": [
    "def sMAPE(y_true, y_pred):\n",
    "    y_true = np.array(y_true)\n",
    "    y_pred = np.array(y_pred)\n",
    "    \n",
    "    smape = np.sum(abs(y_true - y_pred) / ((abs(y_true) + abs(y_pred))/2)) / len(y_true) * 100\n",
    "    return abs(smape)\n",
    "\n",
    "def sMAPE_final(sMAPE_rougher, sMAPE_final):\n",
    "    sMAPE_final = (0.25 * sMAPE_rougher + 0.75 * sMAPE_final)\n",
    "    return sMAPE_final"
   ]
  },
  {
   "cell_type": "markdown",
   "metadata": {},
   "source": [
    "### Поиск наилучшей модели"
   ]
  },
  {
   "cell_type": "code",
   "execution_count": 38,
   "metadata": {},
   "outputs": [],
   "source": [
    "models = [DecisionTreeRegressor(random_state=12345), RandomForestRegressor(random_state=12345), LinearRegression()]"
   ]
  },
  {
   "cell_type": "code",
   "execution_count": 39,
   "metadata": {
    "scrolled": false
   },
   "outputs": [
    {
     "name": "stdout",
     "output_type": "stream",
     "text": [
      "[22.860518209906566, 13.836132672050928, 10.767418986300552]\n"
     ]
    }
   ],
   "source": [
    "result = []\n",
    "for model in models: \n",
    "            \n",
    "    scores = cross_val_score(model, \n",
    "                             data_train_final_features, \n",
    "                             data_train_final_target, \n",
    "                             cv=5, \n",
    "                             scoring=make_scorer(sMAPE, greater_is_better=True))\n",
    "    \n",
    "    result.append(sum(scores) / len(scores))\n",
    "              \n",
    "print(result)"
   ]
  },
  {
   "cell_type": "markdown",
   "metadata": {},
   "source": [
    "Дерево решений показывает наихудший результат. Подбирая гиперпараметры, мы можем его улучшить, но он скорее всего не дойдёт до показателей Случайного леса и Линейной регрессии."
   ]
  },
  {
   "cell_type": "markdown",
   "metadata": {},
   "source": [
    "Попробуем перебрать гиперпараметры для Случайного леса и для Линейной регрессии."
   ]
  },
  {
   "cell_type": "markdown",
   "metadata": {},
   "source": [
    "**Случайный лес**"
   ]
  },
  {
   "cell_type": "markdown",
   "metadata": {},
   "source": [
    "```best_model = None\n",
    "best_depth = 0\n",
    "best_est = 0\n",
    "best_score = 100\n",
    "for est in range(1,100):\n",
    "    for depth in range(1, 10):\n",
    "        model = RandomForestRegressor(random_state=12345, n_estimators=est, max_depth=depth)\n",
    "        scores = cross_val_score(model, \n",
    "                             data_train_final_features, \n",
    "                             data_train_final_target, \n",
    "                             cv=5, \n",
    "                             scoring=make_scorer(sMAPE, greater_is_better=True))\n",
    "        if (sum(scores) / len(scores)) < best_score:\n",
    "            best_model = model\n",
    "            best_depth = depth\n",
    "            best_est = est```"
   ]
  },
  {
   "cell_type": "markdown",
   "metadata": {},
   "source": [
    "Код очень долго выполняется. Лучшие результат: "
   ]
  },
  {
   "cell_type": "markdown",
   "metadata": {},
   "source": [
    "10.82786387498756, depth = 1, est = 73"
   ]
  },
  {
   "cell_type": "markdown",
   "metadata": {},
   "source": [
    "**Линейная регрессия**"
   ]
  },
  {
   "cell_type": "markdown",
   "metadata": {},
   "source": [
    "Перебирая параметры: fit_intercept, normalize, copy_X, positive, получим улучшения только при изменении праметра positive"
   ]
  },
  {
   "cell_type": "code",
   "execution_count": 40,
   "metadata": {},
   "outputs": [
    {
     "name": "stdout",
     "output_type": "stream",
     "text": [
      "[10.644111526906894]\n"
     ]
    }
   ],
   "source": [
    "result = []\n",
    "\n",
    "model = LinearRegression(positive=True)\n",
    "\n",
    "\n",
    "scores = cross_val_score(model, \n",
    "                             data_train_final_features, \n",
    "                             data_train_final_target, \n",
    "                             cv=5, \n",
    "                             scoring=make_scorer(sMAPE, greater_is_better=True))\n",
    "    \n",
    "result.append(sum(scores) / len(scores))\n",
    "              \n",
    "print(result)"
   ]
  },
  {
   "cell_type": "markdown",
   "metadata": {},
   "source": [
    "Немного лучше результат получили при изменении парметра positive"
   ]
  },
  {
   "cell_type": "markdown",
   "metadata": {},
   "source": [
    "Проверим ещё раз:"
   ]
  },
  {
   "cell_type": "code",
   "execution_count": 41,
   "metadata": {},
   "outputs": [],
   "source": [
    "models = [RandomForestRegressor(random_state=12345, max_depth=1, n_estimators=73), LinearRegression(positive=True)]"
   ]
  },
  {
   "cell_type": "code",
   "execution_count": 42,
   "metadata": {},
   "outputs": [
    {
     "name": "stdout",
     "output_type": "stream",
     "text": [
      "[10.829726557794636, 10.644111526906894]\n"
     ]
    }
   ],
   "source": [
    "result = []\n",
    "for model in models: \n",
    "            \n",
    "    scores = cross_val_score(model, \n",
    "                             data_train_final_features, \n",
    "                             data_train_final_target, \n",
    "                             cv=5, \n",
    "                             scoring=make_scorer(sMAPE, greater_is_better=True))\n",
    "    \n",
    "    result.append(sum(scores) / len(scores))\n",
    "              \n",
    "print(result)"
   ]
  },
  {
   "cell_type": "markdown",
   "metadata": {},
   "source": [
    "Лучашя модель LinearRegression(positive=True)"
   ]
  },
  {
   "cell_type": "code",
   "execution_count": 43,
   "metadata": {
    "scrolled": true
   },
   "outputs": [
    {
     "name": "stdout",
     "output_type": "stream",
     "text": [
      "[12.372533064175743, 12.211571330686038]\n"
     ]
    }
   ],
   "source": [
    "result = []\n",
    "for model in models: \n",
    "            \n",
    "    scores = cross_val_score(model, \n",
    "                             data_train_rougher_features, \n",
    "                             data_train_rougher_target, \n",
    "                             cv=5,\n",
    "                             scoring=make_scorer(sMAPE, greater_is_better=True))\n",
    "    \n",
    "    result.append(sum(scores) / len(scores))\n",
    "              \n",
    "print(result)"
   ]
  },
  {
   "cell_type": "markdown",
   "metadata": {},
   "source": [
    "Лучашя модель LinearRegression(positive=True)"
   ]
  },
  {
   "cell_type": "markdown",
   "metadata": {},
   "source": [
    "**Вывод:** наилучшая модель для нашей задачи - Линейная регрессия с параметром positive=True"
   ]
  },
  {
   "cell_type": "markdown",
   "metadata": {},
   "source": [
    "### Проверка модели на тестовой выборке"
   ]
  },
  {
   "cell_type": "code",
   "execution_count": 44,
   "metadata": {
    "scrolled": false
   },
   "outputs": [
    {
     "name": "stdout",
     "output_type": "stream",
     "text": [
      "8.5720579150859\n"
     ]
    }
   ],
   "source": [
    "best_model_rougher = LinearRegression(positive=True)\n",
    "\n",
    "best_model_rougher.fit(data_train_rougher_features, data_train_rougher_target)\n",
    "predictions = best_model_rougher.predict(data_test_rougher_features)\n",
    "\n",
    "rougher = sMAPE(predictions, data_test_rougher_target)\n",
    "print(rougher)"
   ]
  },
  {
   "cell_type": "code",
   "execution_count": 45,
   "metadata": {},
   "outputs": [
    {
     "name": "stdout",
     "output_type": "stream",
     "text": [
      "9.637214964913863\n"
     ]
    }
   ],
   "source": [
    "best_model_final = LinearRegression(positive=True)\n",
    "\n",
    "best_model_final.fit(data_train_final_features, data_train_final_target)\n",
    "predictions = best_model_final.predict(data_test_final_features)\n",
    "\n",
    "final = sMAPE(predictions, data_test_final_target)\n",
    "print(final)"
   ]
  },
  {
   "cell_type": "code",
   "execution_count": 46,
   "metadata": {
    "scrolled": false
   },
   "outputs": [
    {
     "name": "stdout",
     "output_type": "stream",
     "text": [
      "9.370925702456873\n"
     ]
    }
   ],
   "source": [
    "print(sMAPE_final(rougher, final))"
   ]
  },
  {
   "cell_type": "markdown",
   "metadata": {},
   "source": [
    "**Проверим константную модель**"
   ]
  },
  {
   "cell_type": "code",
   "execution_count": 47,
   "metadata": {
    "scrolled": false
   },
   "outputs": [
    {
     "name": "stdout",
     "output_type": "stream",
     "text": [
      "8.782646809148368\n"
     ]
    }
   ],
   "source": [
    "answers_const = pd.Series(data_test_rougher_target.mean(), index = data_test_rougher_target.index)\n",
    "answers_const_rougher = sMAPE(answers_const, data_test_rougher_target)\n",
    "print(answers_const_rougher)"
   ]
  },
  {
   "cell_type": "code",
   "execution_count": 48,
   "metadata": {},
   "outputs": [
    {
     "name": "stdout",
     "output_type": "stream",
     "text": [
      "9.370995594347825\n"
     ]
    }
   ],
   "source": [
    "answers_const = pd.Series(data_test_final_target.mean(), index = data_test_final_target.index)\n",
    "\n",
    "answers_const_final = sMAPE(answers_const, data_test_final_target)\n",
    "print(answers_const_final)"
   ]
  },
  {
   "cell_type": "code",
   "execution_count": 49,
   "metadata": {
    "scrolled": true
   },
   "outputs": [
    {
     "name": "stdout",
     "output_type": "stream",
     "text": [
      "9.22390839804796\n"
     ]
    }
   ],
   "source": [
    "print(sMAPE_final(answers_const_rougher, answers_const_final))"
   ]
  },
  {
   "cell_type": "markdown",
   "metadata": {},
   "source": [
    "**Вывод:**<br>\n",
    "Получили, что наша модель немного хуже константной. Скорее всего это связано с тем, что процесс восстановления золота сложнее, чем представлялось. Разобравшись лучше в процессе, можно было бы лучше подготовить данные к обучению."
   ]
  },
  {
   "cell_type": "markdown",
   "metadata": {},
   "source": [
    "## Вывод"
   ]
  },
  {
   "cell_type": "markdown",
   "metadata": {},
   "source": [
    "Необходимо было подготовить прототип модели машинного обучения для «Цифры». Модель должна предсказать коэффициент восстановления золота из золотосодержащей руды.\n",
    "\n",
    "В ходе работы был проведен первичный осмотр данных, обнаружено, что тестовый датасет отличается от других по содержанию, поэтому обучение проходило по тем признакам, которые были включены в него. Также были обнаружены пропуски, которые были заполнены с помощью метода ffill.\n",
    "\n",
    "В процессе анализа данных была обнаружена аномалия - около нулевые значения суммарной концентрации веществ, что вероятнее похоже на ошибку, так как следы тех или иных металлов должны присутствовать в руде.\n",
    "\n",
    "Для того, чтобы определить наиболее подходящую модель для обучения, качество моделей было оценено кросс-валидацией. Наилучшей оказалась модель Линейной регрессии.\n",
    "\n",
    "Данная модель чуть хуже константной. Что говорит нам о том, что скорее всего процесс восстановления золота из руды сложнее, чем предполагалось. Изучив процесс аккуратнее, мы бы смогли лучше подготовить данные и подобрать лучшую модель для обучения."
   ]
  }
 ],
 "metadata": {
  "ExecuteTimeLog": [
   {
    "duration": 405,
    "start_time": "2022-06-13T08:24:02.778Z"
   },
   {
    "duration": 60,
    "start_time": "2022-06-13T08:24:40.555Z"
   },
   {
    "duration": 531,
    "start_time": "2022-06-13T08:26:00.895Z"
   },
   {
    "duration": 357,
    "start_time": "2022-06-13T08:26:12.975Z"
   },
   {
    "duration": 25,
    "start_time": "2022-06-13T08:26:58.968Z"
   },
   {
    "duration": 26,
    "start_time": "2022-06-13T08:27:57.614Z"
   },
   {
    "duration": 49,
    "start_time": "2022-06-13T08:34:38.618Z"
   },
   {
    "duration": 1153,
    "start_time": "2022-06-13T08:34:40.699Z"
   },
   {
    "duration": 15,
    "start_time": "2022-06-13T08:34:53.230Z"
   },
   {
    "duration": 72,
    "start_time": "2022-06-13T08:35:31.059Z"
   },
   {
    "duration": 9,
    "start_time": "2022-06-13T08:36:05.554Z"
   },
   {
    "duration": 153,
    "start_time": "2022-06-13T08:36:58.777Z"
   },
   {
    "duration": 92,
    "start_time": "2022-06-13T08:37:03.072Z"
   },
   {
    "duration": 242,
    "start_time": "2022-06-13T08:37:11.031Z"
   },
   {
    "duration": 12,
    "start_time": "2022-06-13T08:37:29.937Z"
   },
   {
    "duration": 7,
    "start_time": "2022-06-13T08:37:56.310Z"
   },
   {
    "duration": 7,
    "start_time": "2022-06-13T08:41:48.250Z"
   },
   {
    "duration": 10,
    "start_time": "2022-06-13T08:41:49.601Z"
   },
   {
    "duration": 9,
    "start_time": "2022-06-13T08:41:49.835Z"
   },
   {
    "duration": 7,
    "start_time": "2022-06-13T08:41:50.101Z"
   },
   {
    "duration": 84,
    "start_time": "2022-06-13T08:56:09.376Z"
   },
   {
    "duration": 76,
    "start_time": "2022-06-13T08:56:16.872Z"
   },
   {
    "duration": 114,
    "start_time": "2022-06-13T08:56:35.143Z"
   },
   {
    "duration": 22,
    "start_time": "2022-06-13T08:56:35.602Z"
   },
   {
    "duration": 227,
    "start_time": "2022-06-13T08:58:24.499Z"
   },
   {
    "duration": 216,
    "start_time": "2022-06-13T08:59:27.206Z"
   },
   {
    "duration": 106,
    "start_time": "2022-06-13T08:59:27.790Z"
   },
   {
    "duration": 47,
    "start_time": "2022-07-16T11:55:30.385Z"
   },
   {
    "duration": 5,
    "start_time": "2022-07-16T11:55:51.220Z"
   },
   {
    "duration": 387,
    "start_time": "2022-07-16T11:55:56.982Z"
   },
   {
    "duration": 1883,
    "start_time": "2022-07-16T11:55:57.371Z"
   },
   {
    "duration": 806,
    "start_time": "2022-07-16T11:55:59.255Z"
   },
   {
    "duration": 384,
    "start_time": "2022-07-16T11:56:00.063Z"
   },
   {
    "duration": 11,
    "start_time": "2022-07-16T11:56:00.449Z"
   },
   {
    "duration": 22,
    "start_time": "2022-07-16T11:56:00.462Z"
   },
   {
    "duration": 17,
    "start_time": "2022-07-16T11:56:00.486Z"
   },
   {
    "duration": 103,
    "start_time": "2022-07-16T11:56:00.505Z"
   },
   {
    "duration": 129,
    "start_time": "2022-07-16T11:56:00.609Z"
   },
   {
    "duration": 29,
    "start_time": "2022-07-16T11:56:00.740Z"
   },
   {
    "duration": 237,
    "start_time": "2022-07-16T11:56:00.771Z"
   },
   {
    "duration": 248,
    "start_time": "2022-07-16T11:56:01.010Z"
   },
   {
    "duration": 119,
    "start_time": "2022-07-16T11:56:01.260Z"
   },
   {
    "duration": 64,
    "start_time": "2022-07-16T11:56:01.380Z"
   },
   {
    "duration": 352,
    "start_time": "2022-07-16T11:56:40.703Z"
   },
   {
    "duration": 355,
    "start_time": "2022-07-16T11:56:41.056Z"
   },
   {
    "duration": 259,
    "start_time": "2022-07-16T11:56:41.413Z"
   },
   {
    "duration": 96,
    "start_time": "2022-07-16T11:56:41.674Z"
   },
   {
    "duration": 12,
    "start_time": "2022-07-16T11:56:41.771Z"
   },
   {
    "duration": 10,
    "start_time": "2022-07-16T11:56:41.785Z"
   },
   {
    "duration": 9,
    "start_time": "2022-07-16T11:56:41.797Z"
   },
   {
    "duration": 120,
    "start_time": "2022-07-16T11:56:41.807Z"
   },
   {
    "duration": 115,
    "start_time": "2022-07-16T11:56:41.929Z"
   },
   {
    "duration": 30,
    "start_time": "2022-07-16T11:56:42.046Z"
   },
   {
    "duration": 236,
    "start_time": "2022-07-16T11:56:42.078Z"
   },
   {
    "duration": 236,
    "start_time": "2022-07-16T11:56:42.315Z"
   },
   {
    "duration": 128,
    "start_time": "2022-07-16T11:56:42.553Z"
   },
   {
    "duration": 8,
    "start_time": "2022-07-16T11:56:42.682Z"
   },
   {
    "duration": 3,
    "start_time": "2022-07-16T11:59:31.154Z"
   },
   {
    "duration": 61,
    "start_time": "2022-07-16T12:00:54.557Z"
   },
   {
    "duration": 4,
    "start_time": "2022-07-16T12:01:00.732Z"
   },
   {
    "duration": 154,
    "start_time": "2022-07-16T12:01:52.855Z"
   },
   {
    "duration": 7,
    "start_time": "2022-07-16T12:02:15.385Z"
   },
   {
    "duration": 31,
    "start_time": "2022-07-16T12:02:25.424Z"
   },
   {
    "duration": 15,
    "start_time": "2022-07-16T12:02:35.911Z"
   },
   {
    "duration": 50,
    "start_time": "2022-07-16T12:02:49.578Z"
   },
   {
    "duration": 14,
    "start_time": "2022-07-16T12:02:51.833Z"
   },
   {
    "duration": 14,
    "start_time": "2022-07-16T12:02:55.744Z"
   },
   {
    "duration": 8,
    "start_time": "2022-07-16T12:03:14.767Z"
   },
   {
    "duration": 7,
    "start_time": "2022-07-16T12:03:24.661Z"
   },
   {
    "duration": 1055,
    "start_time": "2022-07-16T12:03:54.368Z"
   },
   {
    "duration": 377,
    "start_time": "2022-07-16T12:03:55.425Z"
   },
   {
    "duration": 289,
    "start_time": "2022-07-16T12:03:55.803Z"
   },
   {
    "duration": 111,
    "start_time": "2022-07-16T12:03:56.095Z"
   },
   {
    "duration": 14,
    "start_time": "2022-07-16T12:03:56.208Z"
   },
   {
    "duration": 13,
    "start_time": "2022-07-16T12:03:56.224Z"
   },
   {
    "duration": 25,
    "start_time": "2022-07-16T12:03:56.239Z"
   },
   {
    "duration": 137,
    "start_time": "2022-07-16T12:03:56.266Z"
   },
   {
    "duration": 140,
    "start_time": "2022-07-16T12:03:56.405Z"
   },
   {
    "duration": 30,
    "start_time": "2022-07-16T12:03:56.547Z"
   },
   {
    "duration": 244,
    "start_time": "2022-07-16T12:03:56.579Z"
   },
   {
    "duration": 209,
    "start_time": "2022-07-16T12:03:56.825Z"
   },
   {
    "duration": 120,
    "start_time": "2022-07-16T12:03:57.035Z"
   },
   {
    "duration": 7,
    "start_time": "2022-07-16T12:03:57.157Z"
   },
   {
    "duration": 8,
    "start_time": "2022-07-16T12:03:57.166Z"
   },
   {
    "duration": 15,
    "start_time": "2022-07-16T12:03:57.175Z"
   },
   {
    "duration": 876,
    "start_time": "2022-07-16T12:03:57.192Z"
   },
   {
    "duration": 5,
    "start_time": "2022-07-16T12:04:10.083Z"
   },
   {
    "duration": 5,
    "start_time": "2022-07-16T12:04:16.845Z"
   },
   {
    "duration": 4,
    "start_time": "2022-07-16T12:04:27.769Z"
   },
   {
    "duration": 8,
    "start_time": "2022-07-16T12:08:15.643Z"
   },
   {
    "duration": 6,
    "start_time": "2022-07-16T12:08:31.167Z"
   },
   {
    "duration": 47,
    "start_time": "2022-07-16T12:29:00.254Z"
   },
   {
    "duration": 8,
    "start_time": "2022-07-16T12:29:36.765Z"
   },
   {
    "duration": 10,
    "start_time": "2022-07-16T12:29:40.618Z"
   },
   {
    "duration": 986,
    "start_time": "2022-07-16T12:30:42.281Z"
   },
   {
    "duration": 390,
    "start_time": "2022-07-16T12:30:43.268Z"
   },
   {
    "duration": 272,
    "start_time": "2022-07-16T12:30:43.661Z"
   },
   {
    "duration": 91,
    "start_time": "2022-07-16T12:30:43.935Z"
   },
   {
    "duration": 13,
    "start_time": "2022-07-16T12:30:44.027Z"
   },
   {
    "duration": 19,
    "start_time": "2022-07-16T12:30:44.042Z"
   },
   {
    "duration": 9,
    "start_time": "2022-07-16T12:30:44.063Z"
   },
   {
    "duration": 115,
    "start_time": "2022-07-16T12:30:44.073Z"
   },
   {
    "duration": 125,
    "start_time": "2022-07-16T12:30:44.190Z"
   },
   {
    "duration": 22,
    "start_time": "2022-07-16T12:30:44.318Z"
   },
   {
    "duration": 235,
    "start_time": "2022-07-16T12:30:44.341Z"
   },
   {
    "duration": 225,
    "start_time": "2022-07-16T12:30:44.578Z"
   },
   {
    "duration": 121,
    "start_time": "2022-07-16T12:30:44.806Z"
   },
   {
    "duration": 7,
    "start_time": "2022-07-16T12:30:44.929Z"
   },
   {
    "duration": 5,
    "start_time": "2022-07-16T12:30:44.938Z"
   },
   {
    "duration": 26,
    "start_time": "2022-07-16T12:30:44.944Z"
   },
   {
    "duration": 4,
    "start_time": "2022-07-16T12:30:44.972Z"
   },
   {
    "duration": 7,
    "start_time": "2022-07-16T12:30:44.978Z"
   },
   {
    "duration": 18,
    "start_time": "2022-07-16T12:30:44.986Z"
   },
   {
    "duration": 7,
    "start_time": "2022-07-16T12:32:22.150Z"
   },
   {
    "duration": 388,
    "start_time": "2022-07-16T12:35:34.737Z"
   },
   {
    "duration": 380,
    "start_time": "2022-07-16T12:35:47.956Z"
   },
   {
    "duration": 3,
    "start_time": "2022-07-16T12:38:18.770Z"
   },
   {
    "duration": 3,
    "start_time": "2022-07-16T12:38:30.392Z"
   },
   {
    "duration": 32,
    "start_time": "2022-07-16T12:39:14.181Z"
   },
   {
    "duration": 12,
    "start_time": "2022-07-16T12:39:22.203Z"
   },
   {
    "duration": 9,
    "start_time": "2022-07-16T12:39:26.808Z"
   },
   {
    "duration": 10,
    "start_time": "2022-07-16T12:43:51.097Z"
   },
   {
    "duration": 3,
    "start_time": "2022-07-16T13:38:59.298Z"
   },
   {
    "duration": 5,
    "start_time": "2022-07-16T13:40:26.504Z"
   },
   {
    "duration": 102,
    "start_time": "2022-07-16T13:40:35.156Z"
   },
   {
    "duration": 1437,
    "start_time": "2022-07-16T13:40:59.088Z"
   },
   {
    "duration": 392,
    "start_time": "2022-07-16T13:41:00.527Z"
   },
   {
    "duration": 285,
    "start_time": "2022-07-16T13:41:00.921Z"
   },
   {
    "duration": 93,
    "start_time": "2022-07-16T13:41:01.207Z"
   },
   {
    "duration": 12,
    "start_time": "2022-07-16T13:41:01.303Z"
   },
   {
    "duration": 15,
    "start_time": "2022-07-16T13:41:01.316Z"
   },
   {
    "duration": 17,
    "start_time": "2022-07-16T13:41:01.332Z"
   },
   {
    "duration": 122,
    "start_time": "2022-07-16T13:41:01.351Z"
   },
   {
    "duration": 131,
    "start_time": "2022-07-16T13:41:01.475Z"
   },
   {
    "duration": 25,
    "start_time": "2022-07-16T13:41:01.607Z"
   },
   {
    "duration": 269,
    "start_time": "2022-07-16T13:41:01.634Z"
   },
   {
    "duration": 246,
    "start_time": "2022-07-16T13:41:01.904Z"
   },
   {
    "duration": 140,
    "start_time": "2022-07-16T13:41:02.151Z"
   },
   {
    "duration": 7,
    "start_time": "2022-07-16T13:41:02.295Z"
   },
   {
    "duration": 17,
    "start_time": "2022-07-16T13:41:02.303Z"
   },
   {
    "duration": 64,
    "start_time": "2022-07-16T13:41:02.321Z"
   },
   {
    "duration": 23,
    "start_time": "2022-07-16T13:41:02.387Z"
   },
   {
    "duration": 16,
    "start_time": "2022-07-16T13:41:02.412Z"
   },
   {
    "duration": 33,
    "start_time": "2022-07-16T13:41:02.429Z"
   },
   {
    "duration": 18,
    "start_time": "2022-07-16T13:41:02.464Z"
   },
   {
    "duration": 26,
    "start_time": "2022-07-16T13:41:02.484Z"
   },
   {
    "duration": 20,
    "start_time": "2022-07-16T13:41:02.512Z"
   },
   {
    "duration": 18,
    "start_time": "2022-07-16T13:41:02.534Z"
   },
   {
    "duration": 18,
    "start_time": "2022-07-16T13:41:02.554Z"
   },
   {
    "duration": 1314,
    "start_time": "2022-07-16T13:41:02.574Z"
   },
   {
    "duration": 193,
    "start_time": "2022-07-16T13:41:19.557Z"
   },
   {
    "duration": 195,
    "start_time": "2022-07-16T13:43:15.358Z"
   },
   {
    "duration": 257,
    "start_time": "2022-07-16T13:43:29.029Z"
   },
   {
    "duration": 173,
    "start_time": "2022-07-16T13:44:24.286Z"
   },
   {
    "duration": 172,
    "start_time": "2022-07-16T13:44:29.629Z"
   },
   {
    "duration": 188,
    "start_time": "2022-07-16T13:44:33.240Z"
   },
   {
    "duration": 5,
    "start_time": "2022-07-16T13:45:03.596Z"
   },
   {
    "duration": 165,
    "start_time": "2022-07-16T13:45:04.123Z"
   },
   {
    "duration": 5,
    "start_time": "2022-07-16T13:45:09.156Z"
   },
   {
    "duration": 154,
    "start_time": "2022-07-16T13:45:09.595Z"
   },
   {
    "duration": 4,
    "start_time": "2022-07-16T13:45:14.391Z"
   },
   {
    "duration": 189,
    "start_time": "2022-07-16T13:45:14.776Z"
   },
   {
    "duration": 5,
    "start_time": "2022-07-16T13:45:22.193Z"
   },
   {
    "duration": 194,
    "start_time": "2022-07-16T13:45:22.630Z"
   },
   {
    "duration": 166,
    "start_time": "2022-07-16T13:45:25.655Z"
   },
   {
    "duration": 230,
    "start_time": "2022-07-16T13:45:26.229Z"
   },
   {
    "duration": 4,
    "start_time": "2022-07-16T13:45:39.266Z"
   },
   {
    "duration": 191,
    "start_time": "2022-07-16T13:45:39.694Z"
   },
   {
    "duration": 290,
    "start_time": "2022-07-16T13:45:40.573Z"
   },
   {
    "duration": 166,
    "start_time": "2022-07-16T13:45:41.192Z"
   },
   {
    "duration": 3,
    "start_time": "2022-07-16T13:45:50.200Z"
   },
   {
    "duration": 166,
    "start_time": "2022-07-16T13:45:50.951Z"
   },
   {
    "duration": 177,
    "start_time": "2022-07-16T13:45:54.006Z"
   },
   {
    "duration": 173,
    "start_time": "2022-07-16T13:45:54.880Z"
   },
   {
    "duration": 4,
    "start_time": "2022-07-16T13:46:29.975Z"
   },
   {
    "duration": 172,
    "start_time": "2022-07-16T13:46:30.583Z"
   },
   {
    "duration": 166,
    "start_time": "2022-07-16T13:46:33.908Z"
   },
   {
    "duration": 173,
    "start_time": "2022-07-16T13:46:34.366Z"
   },
   {
    "duration": 4,
    "start_time": "2022-07-16T13:46:40.809Z"
   },
   {
    "duration": 198,
    "start_time": "2022-07-16T13:46:41.285Z"
   },
   {
    "duration": 185,
    "start_time": "2022-07-16T13:46:42.160Z"
   },
   {
    "duration": 216,
    "start_time": "2022-07-16T13:46:42.818Z"
   },
   {
    "duration": 4,
    "start_time": "2022-07-16T13:46:50.558Z"
   },
   {
    "duration": 282,
    "start_time": "2022-07-16T13:46:50.978Z"
   },
   {
    "duration": 172,
    "start_time": "2022-07-16T13:46:52.089Z"
   },
   {
    "duration": 186,
    "start_time": "2022-07-16T13:46:53.022Z"
   },
   {
    "duration": 16,
    "start_time": "2022-07-16T13:51:02.350Z"
   },
   {
    "duration": 108,
    "start_time": "2022-07-16T13:53:50.668Z"
   },
   {
    "duration": 580,
    "start_time": "2022-07-16T13:54:00.383Z"
   },
   {
    "duration": 606,
    "start_time": "2022-07-16T13:54:27.257Z"
   },
   {
    "duration": 572,
    "start_time": "2022-07-16T13:54:30.991Z"
   },
   {
    "duration": 586,
    "start_time": "2022-07-16T13:54:34.877Z"
   },
   {
    "duration": 590,
    "start_time": "2022-07-16T13:54:42.075Z"
   },
   {
    "duration": 625,
    "start_time": "2022-07-16T13:54:51.046Z"
   },
   {
    "duration": 627,
    "start_time": "2022-07-16T13:55:02.144Z"
   },
   {
    "duration": 13,
    "start_time": "2022-07-16T13:55:07.481Z"
   },
   {
    "duration": 15,
    "start_time": "2022-07-16T13:55:17.353Z"
   },
   {
    "duration": 14,
    "start_time": "2022-07-16T13:55:21.822Z"
   },
   {
    "duration": 243,
    "start_time": "2022-07-16T13:55:43.383Z"
   },
   {
    "duration": 148,
    "start_time": "2022-07-16T13:55:47.055Z"
   },
   {
    "duration": 221,
    "start_time": "2022-07-16T13:55:56.046Z"
   },
   {
    "duration": 208,
    "start_time": "2022-07-16T13:55:59.948Z"
   },
   {
    "duration": 660,
    "start_time": "2022-07-16T13:56:15.137Z"
   },
   {
    "duration": 599,
    "start_time": "2022-07-16T13:56:20.638Z"
   },
   {
    "duration": 605,
    "start_time": "2022-07-16T13:56:26.446Z"
   },
   {
    "duration": 605,
    "start_time": "2022-07-16T13:56:53.972Z"
   },
   {
    "duration": 628,
    "start_time": "2022-07-16T13:56:59.248Z"
   },
   {
    "duration": 592,
    "start_time": "2022-07-16T13:57:03.083Z"
   },
   {
    "duration": 691,
    "start_time": "2022-07-16T13:57:07.811Z"
   },
   {
    "duration": 1315,
    "start_time": "2022-07-16T14:01:58.290Z"
   },
   {
    "duration": 376,
    "start_time": "2022-07-16T14:01:59.607Z"
   },
   {
    "duration": 285,
    "start_time": "2022-07-16T14:01:59.984Z"
   },
   {
    "duration": 91,
    "start_time": "2022-07-16T14:02:00.271Z"
   },
   {
    "duration": 11,
    "start_time": "2022-07-16T14:02:00.365Z"
   },
   {
    "duration": 17,
    "start_time": "2022-07-16T14:02:00.377Z"
   },
   {
    "duration": 7,
    "start_time": "2022-07-16T14:02:00.395Z"
   },
   {
    "duration": 117,
    "start_time": "2022-07-16T14:02:00.403Z"
   },
   {
    "duration": 121,
    "start_time": "2022-07-16T14:02:00.522Z"
   },
   {
    "duration": 31,
    "start_time": "2022-07-16T14:02:00.645Z"
   },
   {
    "duration": 265,
    "start_time": "2022-07-16T14:02:00.678Z"
   },
   {
    "duration": 221,
    "start_time": "2022-07-16T14:02:00.946Z"
   },
   {
    "duration": 128,
    "start_time": "2022-07-16T14:02:01.169Z"
   },
   {
    "duration": 6,
    "start_time": "2022-07-16T14:02:01.300Z"
   },
   {
    "duration": 23,
    "start_time": "2022-07-16T14:02:01.308Z"
   },
   {
    "duration": 27,
    "start_time": "2022-07-16T14:02:01.333Z"
   },
   {
    "duration": 7,
    "start_time": "2022-07-16T14:02:01.361Z"
   },
   {
    "duration": 18,
    "start_time": "2022-07-16T14:02:01.370Z"
   },
   {
    "duration": 37,
    "start_time": "2022-07-16T14:02:01.390Z"
   },
   {
    "duration": 9,
    "start_time": "2022-07-16T14:02:01.429Z"
   },
   {
    "duration": 20,
    "start_time": "2022-07-16T14:02:01.440Z"
   },
   {
    "duration": 11,
    "start_time": "2022-07-16T14:02:01.462Z"
   },
   {
    "duration": 23,
    "start_time": "2022-07-16T14:02:01.474Z"
   },
   {
    "duration": 52,
    "start_time": "2022-07-16T14:02:01.499Z"
   },
   {
    "duration": 222,
    "start_time": "2022-07-16T14:02:01.553Z"
   },
   {
    "duration": 183,
    "start_time": "2022-07-16T14:02:01.777Z"
   },
   {
    "duration": 194,
    "start_time": "2022-07-16T14:02:01.962Z"
   },
   {
    "duration": 421,
    "start_time": "2022-07-16T14:02:02.161Z"
   },
   {
    "duration": 519,
    "start_time": "2022-07-16T14:02:02.583Z"
   },
   {
    "duration": 437,
    "start_time": "2022-07-16T14:06:14.103Z"
   },
   {
    "duration": 444,
    "start_time": "2022-07-16T14:06:17.883Z"
   },
   {
    "duration": 466,
    "start_time": "2022-07-16T14:06:27.467Z"
   },
   {
    "duration": 3,
    "start_time": "2022-07-16T14:09:31.750Z"
   },
   {
    "duration": 3,
    "start_time": "2022-07-16T14:13:14.150Z"
   },
   {
    "duration": 4,
    "start_time": "2022-07-16T14:13:39.385Z"
   },
   {
    "duration": 5,
    "start_time": "2022-07-16T14:13:46.695Z"
   },
   {
    "duration": 3,
    "start_time": "2022-07-16T14:13:55.492Z"
   },
   {
    "duration": 855,
    "start_time": "2022-07-16T14:15:50.860Z"
   },
   {
    "duration": 762,
    "start_time": "2022-07-16T14:15:54.775Z"
   },
   {
    "duration": 770,
    "start_time": "2022-07-16T14:16:28.008Z"
   },
   {
    "duration": 767,
    "start_time": "2022-07-16T14:16:51.310Z"
   },
   {
    "duration": 795,
    "start_time": "2022-07-16T14:17:35.693Z"
   },
   {
    "duration": 868,
    "start_time": "2022-07-16T14:17:46.319Z"
   },
   {
    "duration": 779,
    "start_time": "2022-07-16T14:18:20.849Z"
   },
   {
    "duration": 804,
    "start_time": "2022-07-16T14:18:32.305Z"
   },
   {
    "duration": 20,
    "start_time": "2022-07-16T14:18:50.416Z"
   },
   {
    "duration": 949,
    "start_time": "2022-07-16T14:19:02.869Z"
   },
   {
    "duration": 70,
    "start_time": "2022-07-16T14:19:22.992Z"
   },
   {
    "duration": 9,
    "start_time": "2022-07-16T14:19:41.505Z"
   },
   {
    "duration": 11,
    "start_time": "2022-07-16T14:19:45.185Z"
   },
   {
    "duration": 22,
    "start_time": "2022-07-16T14:21:09.933Z"
   },
   {
    "duration": 11,
    "start_time": "2022-07-16T14:21:11.069Z"
   },
   {
    "duration": 32,
    "start_time": "2022-07-16T14:21:36.461Z"
   },
   {
    "duration": 9,
    "start_time": "2022-07-16T14:21:36.953Z"
   },
   {
    "duration": 15,
    "start_time": "2022-07-16T14:22:02.841Z"
   },
   {
    "duration": 195,
    "start_time": "2022-07-16T14:22:09.840Z"
   },
   {
    "duration": 867,
    "start_time": "2022-07-16T14:26:42.406Z"
   },
   {
    "duration": 0,
    "start_time": "2022-07-16T14:26:43.275Z"
   },
   {
    "duration": 891,
    "start_time": "2022-07-16T14:27:44.346Z"
   },
   {
    "duration": 19,
    "start_time": "2022-07-16T14:27:45.439Z"
   },
   {
    "duration": 810,
    "start_time": "2022-07-16T14:27:53.137Z"
   },
   {
    "duration": 735,
    "start_time": "2022-07-16T14:28:12.095Z"
   },
   {
    "duration": 1332,
    "start_time": "2022-07-16T14:28:19.870Z"
   },
   {
    "duration": 351,
    "start_time": "2022-07-16T14:28:21.204Z"
   },
   {
    "duration": 333,
    "start_time": "2022-07-16T14:28:21.557Z"
   },
   {
    "duration": 101,
    "start_time": "2022-07-16T14:28:21.892Z"
   },
   {
    "duration": 12,
    "start_time": "2022-07-16T14:28:21.995Z"
   },
   {
    "duration": 18,
    "start_time": "2022-07-16T14:28:22.009Z"
   },
   {
    "duration": 9,
    "start_time": "2022-07-16T14:28:22.029Z"
   },
   {
    "duration": 132,
    "start_time": "2022-07-16T14:28:22.039Z"
   },
   {
    "duration": 149,
    "start_time": "2022-07-16T14:28:22.172Z"
   },
   {
    "duration": 21,
    "start_time": "2022-07-16T14:28:22.323Z"
   },
   {
    "duration": 262,
    "start_time": "2022-07-16T14:28:22.346Z"
   },
   {
    "duration": 237,
    "start_time": "2022-07-16T14:28:22.610Z"
   },
   {
    "duration": 151,
    "start_time": "2022-07-16T14:28:22.849Z"
   },
   {
    "duration": 7,
    "start_time": "2022-07-16T14:28:23.002Z"
   },
   {
    "duration": 9,
    "start_time": "2022-07-16T14:28:23.011Z"
   },
   {
    "duration": 16,
    "start_time": "2022-07-16T14:28:23.021Z"
   },
   {
    "duration": 4,
    "start_time": "2022-07-16T14:28:23.039Z"
   },
   {
    "duration": 8,
    "start_time": "2022-07-16T14:28:23.062Z"
   },
   {
    "duration": 23,
    "start_time": "2022-07-16T14:28:23.073Z"
   },
   {
    "duration": 8,
    "start_time": "2022-07-16T14:28:23.098Z"
   },
   {
    "duration": 9,
    "start_time": "2022-07-16T14:28:23.108Z"
   },
   {
    "duration": 5,
    "start_time": "2022-07-16T14:28:23.119Z"
   },
   {
    "duration": 5,
    "start_time": "2022-07-16T14:28:23.125Z"
   },
   {
    "duration": 31,
    "start_time": "2022-07-16T14:28:23.132Z"
   },
   {
    "duration": 199,
    "start_time": "2022-07-16T14:28:23.165Z"
   },
   {
    "duration": 186,
    "start_time": "2022-07-16T14:28:23.366Z"
   },
   {
    "duration": 204,
    "start_time": "2022-07-16T14:28:23.553Z"
   },
   {
    "duration": 451,
    "start_time": "2022-07-16T14:28:23.758Z"
   },
   {
    "duration": 525,
    "start_time": "2022-07-16T14:28:24.211Z"
   },
   {
    "duration": 897,
    "start_time": "2022-07-16T14:28:24.738Z"
   },
   {
    "duration": 0,
    "start_time": "2022-07-16T14:28:25.636Z"
   },
   {
    "duration": 764,
    "start_time": "2022-07-16T14:28:56.641Z"
   },
   {
    "duration": 82,
    "start_time": "2022-07-16T14:29:29.201Z"
   },
   {
    "duration": 208,
    "start_time": "2022-07-16T14:29:30.491Z"
   },
   {
    "duration": 25,
    "start_time": "2022-07-16T14:30:33.894Z"
   },
   {
    "duration": 211,
    "start_time": "2022-07-16T14:30:35.265Z"
   },
   {
    "duration": 1361,
    "start_time": "2022-07-16T14:30:41.095Z"
   },
   {
    "duration": 458,
    "start_time": "2022-07-16T14:30:42.458Z"
   },
   {
    "duration": 295,
    "start_time": "2022-07-16T14:30:42.918Z"
   },
   {
    "duration": 102,
    "start_time": "2022-07-16T14:30:43.216Z"
   },
   {
    "duration": 13,
    "start_time": "2022-07-16T14:30:43.319Z"
   },
   {
    "duration": 10,
    "start_time": "2022-07-16T14:30:43.333Z"
   },
   {
    "duration": 13,
    "start_time": "2022-07-16T14:30:43.367Z"
   },
   {
    "duration": 114,
    "start_time": "2022-07-16T14:30:43.383Z"
   },
   {
    "duration": 138,
    "start_time": "2022-07-16T14:30:43.499Z"
   },
   {
    "duration": 37,
    "start_time": "2022-07-16T14:30:43.639Z"
   },
   {
    "duration": 277,
    "start_time": "2022-07-16T14:30:43.677Z"
   },
   {
    "duration": 255,
    "start_time": "2022-07-16T14:30:43.956Z"
   },
   {
    "duration": 139,
    "start_time": "2022-07-16T14:30:44.213Z"
   },
   {
    "duration": 11,
    "start_time": "2022-07-16T14:30:44.353Z"
   },
   {
    "duration": 22,
    "start_time": "2022-07-16T14:30:44.366Z"
   },
   {
    "duration": 16,
    "start_time": "2022-07-16T14:30:44.390Z"
   },
   {
    "duration": 4,
    "start_time": "2022-07-16T14:30:44.408Z"
   },
   {
    "duration": 7,
    "start_time": "2022-07-16T14:30:44.414Z"
   },
   {
    "duration": 15,
    "start_time": "2022-07-16T14:30:44.423Z"
   },
   {
    "duration": 29,
    "start_time": "2022-07-16T14:30:44.440Z"
   },
   {
    "duration": 11,
    "start_time": "2022-07-16T14:30:44.472Z"
   },
   {
    "duration": 5,
    "start_time": "2022-07-16T14:30:44.486Z"
   },
   {
    "duration": 5,
    "start_time": "2022-07-16T14:30:44.492Z"
   },
   {
    "duration": 7,
    "start_time": "2022-07-16T14:30:44.499Z"
   },
   {
    "duration": 262,
    "start_time": "2022-07-16T14:30:44.507Z"
   },
   {
    "duration": 221,
    "start_time": "2022-07-16T14:30:44.771Z"
   },
   {
    "duration": 215,
    "start_time": "2022-07-16T14:30:44.997Z"
   },
   {
    "duration": 500,
    "start_time": "2022-07-16T14:30:45.215Z"
   },
   {
    "duration": 546,
    "start_time": "2022-07-16T14:30:45.717Z"
   },
   {
    "duration": 1235,
    "start_time": "2022-07-16T14:30:46.267Z"
   },
   {
    "duration": 0,
    "start_time": "2022-07-16T14:30:47.504Z"
   },
   {
    "duration": 55,
    "start_time": "2022-07-16T14:31:01.638Z"
   },
   {
    "duration": 89,
    "start_time": "2022-07-16T14:31:04.706Z"
   },
   {
    "duration": 190,
    "start_time": "2022-07-16T14:31:05.808Z"
   },
   {
    "duration": 205,
    "start_time": "2022-07-16T14:31:14.098Z"
   },
   {
    "duration": 208,
    "start_time": "2022-07-16T14:31:19.049Z"
   },
   {
    "duration": 209,
    "start_time": "2022-07-16T14:31:33.088Z"
   },
   {
    "duration": 9,
    "start_time": "2022-07-16T15:16:12.169Z"
   },
   {
    "duration": 50,
    "start_time": "2022-07-16T15:17:01.560Z"
   },
   {
    "duration": 1364,
    "start_time": "2022-07-16T15:17:06.365Z"
   },
   {
    "duration": 388,
    "start_time": "2022-07-16T15:17:07.731Z"
   },
   {
    "duration": 256,
    "start_time": "2022-07-16T15:17:08.121Z"
   },
   {
    "duration": 87,
    "start_time": "2022-07-16T15:17:08.379Z"
   },
   {
    "duration": 11,
    "start_time": "2022-07-16T15:17:08.468Z"
   },
   {
    "duration": 9,
    "start_time": "2022-07-16T15:17:08.480Z"
   },
   {
    "duration": 9,
    "start_time": "2022-07-16T15:17:08.490Z"
   },
   {
    "duration": 124,
    "start_time": "2022-07-16T15:17:08.501Z"
   },
   {
    "duration": 141,
    "start_time": "2022-07-16T15:17:08.626Z"
   },
   {
    "duration": 26,
    "start_time": "2022-07-16T15:17:08.770Z"
   },
   {
    "duration": 263,
    "start_time": "2022-07-16T15:17:08.798Z"
   },
   {
    "duration": 218,
    "start_time": "2022-07-16T15:17:09.063Z"
   },
   {
    "duration": 134,
    "start_time": "2022-07-16T15:17:09.282Z"
   },
   {
    "duration": 7,
    "start_time": "2022-07-16T15:17:09.417Z"
   },
   {
    "duration": 6,
    "start_time": "2022-07-16T15:17:09.426Z"
   },
   {
    "duration": 29,
    "start_time": "2022-07-16T15:17:09.434Z"
   },
   {
    "duration": 4,
    "start_time": "2022-07-16T15:17:09.465Z"
   },
   {
    "duration": 10,
    "start_time": "2022-07-16T15:17:09.470Z"
   },
   {
    "duration": 11,
    "start_time": "2022-07-16T15:17:09.481Z"
   },
   {
    "duration": 7,
    "start_time": "2022-07-16T15:17:09.493Z"
   },
   {
    "duration": 9,
    "start_time": "2022-07-16T15:17:09.501Z"
   },
   {
    "duration": 5,
    "start_time": "2022-07-16T15:17:09.511Z"
   },
   {
    "duration": 4,
    "start_time": "2022-07-16T15:17:09.517Z"
   },
   {
    "duration": 39,
    "start_time": "2022-07-16T15:17:09.523Z"
   },
   {
    "duration": 197,
    "start_time": "2022-07-16T15:17:09.564Z"
   },
   {
    "duration": 188,
    "start_time": "2022-07-16T15:17:09.762Z"
   },
   {
    "duration": 201,
    "start_time": "2022-07-16T15:17:09.951Z"
   },
   {
    "duration": 527,
    "start_time": "2022-07-16T15:17:10.161Z"
   },
   {
    "duration": 425,
    "start_time": "2022-07-16T15:17:10.690Z"
   },
   {
    "duration": 84,
    "start_time": "2022-07-16T15:17:11.117Z"
   },
   {
    "duration": 200,
    "start_time": "2022-07-16T15:17:11.203Z"
   },
   {
    "duration": 3,
    "start_time": "2022-07-16T15:17:11.405Z"
   },
   {
    "duration": 113,
    "start_time": "2022-07-16T15:17:11.410Z"
   },
   {
    "duration": 9,
    "start_time": "2022-07-16T15:17:58.186Z"
   },
   {
    "duration": 2,
    "start_time": "2022-07-16T15:18:13.464Z"
   },
   {
    "duration": 10,
    "start_time": "2022-07-16T15:18:48.815Z"
   },
   {
    "duration": 1339,
    "start_time": "2022-07-16T15:20:17.298Z"
   },
   {
    "duration": 364,
    "start_time": "2022-07-16T15:20:18.639Z"
   },
   {
    "duration": 247,
    "start_time": "2022-07-16T15:20:19.005Z"
   },
   {
    "duration": 88,
    "start_time": "2022-07-16T15:20:19.254Z"
   },
   {
    "duration": 15,
    "start_time": "2022-07-16T15:20:19.345Z"
   },
   {
    "duration": 9,
    "start_time": "2022-07-16T15:20:19.362Z"
   },
   {
    "duration": 9,
    "start_time": "2022-07-16T15:20:19.372Z"
   },
   {
    "duration": 119,
    "start_time": "2022-07-16T15:20:19.383Z"
   },
   {
    "duration": 126,
    "start_time": "2022-07-16T15:20:19.503Z"
   },
   {
    "duration": 30,
    "start_time": "2022-07-16T15:20:19.631Z"
   },
   {
    "duration": 257,
    "start_time": "2022-07-16T15:20:19.663Z"
   },
   {
    "duration": 229,
    "start_time": "2022-07-16T15:20:19.921Z"
   },
   {
    "duration": 128,
    "start_time": "2022-07-16T15:20:20.152Z"
   },
   {
    "duration": 7,
    "start_time": "2022-07-16T15:20:20.284Z"
   },
   {
    "duration": 3,
    "start_time": "2022-07-16T15:20:20.293Z"
   },
   {
    "duration": 17,
    "start_time": "2022-07-16T15:20:20.299Z"
   },
   {
    "duration": 5,
    "start_time": "2022-07-16T15:20:20.318Z"
   },
   {
    "duration": 36,
    "start_time": "2022-07-16T15:20:20.325Z"
   },
   {
    "duration": 9,
    "start_time": "2022-07-16T15:20:20.363Z"
   },
   {
    "duration": 7,
    "start_time": "2022-07-16T15:20:20.373Z"
   },
   {
    "duration": 15,
    "start_time": "2022-07-16T15:20:20.382Z"
   },
   {
    "duration": 5,
    "start_time": "2022-07-16T15:20:20.399Z"
   },
   {
    "duration": 3,
    "start_time": "2022-07-16T15:20:20.406Z"
   },
   {
    "duration": 10,
    "start_time": "2022-07-16T15:20:20.410Z"
   },
   {
    "duration": 221,
    "start_time": "2022-07-16T15:20:20.421Z"
   },
   {
    "duration": 191,
    "start_time": "2022-07-16T15:20:20.644Z"
   },
   {
    "duration": 193,
    "start_time": "2022-07-16T15:20:20.837Z"
   },
   {
    "duration": 566,
    "start_time": "2022-07-16T15:20:21.032Z"
   },
   {
    "duration": 503,
    "start_time": "2022-07-16T15:20:21.601Z"
   },
   {
    "duration": 83,
    "start_time": "2022-07-16T15:20:22.106Z"
   },
   {
    "duration": 195,
    "start_time": "2022-07-16T15:20:22.191Z"
   },
   {
    "duration": 4,
    "start_time": "2022-07-16T15:20:22.388Z"
   },
   {
    "duration": 9,
    "start_time": "2022-07-16T15:20:22.393Z"
   },
   {
    "duration": 119,
    "start_time": "2022-07-16T15:20:22.404Z"
   },
   {
    "duration": 20,
    "start_time": "2022-07-16T15:30:34.458Z"
   },
   {
    "duration": 1398,
    "start_time": "2022-07-16T15:31:51.654Z"
   },
   {
    "duration": 367,
    "start_time": "2022-07-16T15:31:53.060Z"
   },
   {
    "duration": 268,
    "start_time": "2022-07-16T15:31:53.429Z"
   },
   {
    "duration": 93,
    "start_time": "2022-07-16T15:31:53.698Z"
   },
   {
    "duration": 12,
    "start_time": "2022-07-16T15:31:53.793Z"
   },
   {
    "duration": 13,
    "start_time": "2022-07-16T15:31:53.807Z"
   },
   {
    "duration": 9,
    "start_time": "2022-07-16T15:31:53.822Z"
   },
   {
    "duration": 155,
    "start_time": "2022-07-16T15:31:53.833Z"
   },
   {
    "duration": 143,
    "start_time": "2022-07-16T15:31:53.990Z"
   },
   {
    "duration": 34,
    "start_time": "2022-07-16T15:31:54.135Z"
   },
   {
    "duration": 255,
    "start_time": "2022-07-16T15:31:54.171Z"
   },
   {
    "duration": 237,
    "start_time": "2022-07-16T15:31:54.427Z"
   },
   {
    "duration": 143,
    "start_time": "2022-07-16T15:31:54.665Z"
   },
   {
    "duration": 7,
    "start_time": "2022-07-16T15:31:54.811Z"
   },
   {
    "duration": 5,
    "start_time": "2022-07-16T15:31:54.820Z"
   },
   {
    "duration": 16,
    "start_time": "2022-07-16T15:31:54.826Z"
   },
   {
    "duration": 19,
    "start_time": "2022-07-16T15:31:54.844Z"
   },
   {
    "duration": 10,
    "start_time": "2022-07-16T15:31:54.864Z"
   },
   {
    "duration": 17,
    "start_time": "2022-07-16T15:31:54.876Z"
   },
   {
    "duration": 9,
    "start_time": "2022-07-16T15:31:54.895Z"
   },
   {
    "duration": 12,
    "start_time": "2022-07-16T15:31:54.906Z"
   },
   {
    "duration": 13,
    "start_time": "2022-07-16T15:31:54.920Z"
   },
   {
    "duration": 36,
    "start_time": "2022-07-16T15:31:54.935Z"
   },
   {
    "duration": 3,
    "start_time": "2022-07-16T15:31:54.973Z"
   },
   {
    "duration": 6,
    "start_time": "2022-07-16T15:31:54.978Z"
   },
   {
    "duration": 247,
    "start_time": "2022-07-16T15:31:54.986Z"
   },
   {
    "duration": 209,
    "start_time": "2022-07-16T15:31:55.235Z"
   },
   {
    "duration": 201,
    "start_time": "2022-07-16T15:31:55.446Z"
   },
   {
    "duration": 710,
    "start_time": "2022-07-16T15:31:55.648Z"
   },
   {
    "duration": 493,
    "start_time": "2022-07-16T15:31:56.361Z"
   },
   {
    "duration": 107,
    "start_time": "2022-07-16T15:31:56.856Z"
   },
   {
    "duration": 0,
    "start_time": "2022-07-16T15:31:56.965Z"
   },
   {
    "duration": 0,
    "start_time": "2022-07-16T15:31:56.967Z"
   },
   {
    "duration": 0,
    "start_time": "2022-07-16T15:31:56.968Z"
   },
   {
    "duration": 0,
    "start_time": "2022-07-16T15:31:56.969Z"
   },
   {
    "duration": 1367,
    "start_time": "2022-07-16T15:32:58.807Z"
   },
   {
    "duration": 401,
    "start_time": "2022-07-16T15:33:00.177Z"
   },
   {
    "duration": 269,
    "start_time": "2022-07-16T15:33:00.580Z"
   },
   {
    "duration": 104,
    "start_time": "2022-07-16T15:33:00.852Z"
   },
   {
    "duration": 14,
    "start_time": "2022-07-16T15:33:00.957Z"
   },
   {
    "duration": 23,
    "start_time": "2022-07-16T15:33:00.973Z"
   },
   {
    "duration": 8,
    "start_time": "2022-07-16T15:33:00.998Z"
   },
   {
    "duration": 115,
    "start_time": "2022-07-16T15:33:01.008Z"
   },
   {
    "duration": 130,
    "start_time": "2022-07-16T15:33:01.125Z"
   },
   {
    "duration": 25,
    "start_time": "2022-07-16T15:33:01.260Z"
   },
   {
    "duration": 284,
    "start_time": "2022-07-16T15:33:01.287Z"
   },
   {
    "duration": 239,
    "start_time": "2022-07-16T15:33:01.573Z"
   },
   {
    "duration": 159,
    "start_time": "2022-07-16T15:33:01.814Z"
   },
   {
    "duration": 8,
    "start_time": "2022-07-16T15:33:01.975Z"
   },
   {
    "duration": 21,
    "start_time": "2022-07-16T15:33:01.985Z"
   },
   {
    "duration": 26,
    "start_time": "2022-07-16T15:33:02.008Z"
   },
   {
    "duration": 5,
    "start_time": "2022-07-16T15:33:02.035Z"
   },
   {
    "duration": 12,
    "start_time": "2022-07-16T15:33:02.041Z"
   },
   {
    "duration": 21,
    "start_time": "2022-07-16T15:33:02.054Z"
   },
   {
    "duration": 7,
    "start_time": "2022-07-16T15:33:02.077Z"
   },
   {
    "duration": 19,
    "start_time": "2022-07-16T15:33:02.085Z"
   },
   {
    "duration": 5,
    "start_time": "2022-07-16T15:33:02.106Z"
   },
   {
    "duration": 26,
    "start_time": "2022-07-16T15:33:02.112Z"
   },
   {
    "duration": 8,
    "start_time": "2022-07-16T15:33:02.140Z"
   },
   {
    "duration": 8,
    "start_time": "2022-07-16T15:33:02.149Z"
   },
   {
    "duration": 215,
    "start_time": "2022-07-16T15:33:02.158Z"
   },
   {
    "duration": 204,
    "start_time": "2022-07-16T15:33:02.376Z"
   },
   {
    "duration": 215,
    "start_time": "2022-07-16T15:33:02.584Z"
   },
   {
    "duration": 557,
    "start_time": "2022-07-16T15:33:02.801Z"
   },
   {
    "duration": 576,
    "start_time": "2022-07-16T15:33:03.360Z"
   },
   {
    "duration": 144,
    "start_time": "2022-07-16T15:33:03.939Z"
   },
   {
    "duration": 0,
    "start_time": "2022-07-16T15:33:04.085Z"
   },
   {
    "duration": 0,
    "start_time": "2022-07-16T15:33:04.086Z"
   },
   {
    "duration": 0,
    "start_time": "2022-07-16T15:33:04.087Z"
   },
   {
    "duration": 0,
    "start_time": "2022-07-16T15:33:04.089Z"
   },
   {
    "duration": 75,
    "start_time": "2022-07-16T15:33:10.155Z"
   },
   {
    "duration": 226,
    "start_time": "2022-07-16T15:33:11.325Z"
   },
   {
    "duration": 5,
    "start_time": "2022-07-16T15:33:12.601Z"
   },
   {
    "duration": 3,
    "start_time": "2022-07-16T15:33:12.811Z"
   },
   {
    "duration": 11,
    "start_time": "2022-07-16T15:33:12.981Z"
   },
   {
    "duration": 12,
    "start_time": "2022-07-16T15:34:29.578Z"
   },
   {
    "duration": 6,
    "start_time": "2022-07-16T15:34:34.506Z"
   },
   {
    "duration": 9,
    "start_time": "2022-07-16T15:34:38.951Z"
   },
   {
    "duration": 3,
    "start_time": "2022-07-16T15:34:42.161Z"
   },
   {
    "duration": 4,
    "start_time": "2022-07-16T15:34:50.697Z"
   },
   {
    "duration": 15,
    "start_time": "2022-07-16T15:38:16.689Z"
   },
   {
    "duration": 11,
    "start_time": "2022-07-16T15:40:33.764Z"
   },
   {
    "duration": 12,
    "start_time": "2022-07-16T15:40:45.838Z"
   },
   {
    "duration": 20,
    "start_time": "2022-07-16T15:42:04.075Z"
   },
   {
    "duration": 30,
    "start_time": "2022-07-16T15:42:09.912Z"
   },
   {
    "duration": 28,
    "start_time": "2022-07-16T15:42:21.610Z"
   },
   {
    "duration": 16,
    "start_time": "2022-07-16T15:43:07.725Z"
   },
   {
    "duration": 5,
    "start_time": "2022-07-16T15:43:10.992Z"
   },
   {
    "duration": 14,
    "start_time": "2022-07-16T15:43:22.356Z"
   },
   {
    "duration": 1457,
    "start_time": "2022-07-16T15:43:36.620Z"
   },
   {
    "duration": 802,
    "start_time": "2022-07-16T15:43:38.079Z"
   },
   {
    "duration": 581,
    "start_time": "2022-07-16T15:43:38.883Z"
   },
   {
    "duration": 104,
    "start_time": "2022-07-16T15:43:39.467Z"
   },
   {
    "duration": 12,
    "start_time": "2022-07-16T15:43:39.572Z"
   },
   {
    "duration": 9,
    "start_time": "2022-07-16T15:43:39.585Z"
   },
   {
    "duration": 7,
    "start_time": "2022-07-16T15:43:39.596Z"
   },
   {
    "duration": 130,
    "start_time": "2022-07-16T15:43:39.605Z"
   },
   {
    "duration": 129,
    "start_time": "2022-07-16T15:43:39.737Z"
   },
   {
    "duration": 23,
    "start_time": "2022-07-16T15:43:39.868Z"
   },
   {
    "duration": 265,
    "start_time": "2022-07-16T15:43:39.893Z"
   },
   {
    "duration": 228,
    "start_time": "2022-07-16T15:43:40.161Z"
   },
   {
    "duration": 133,
    "start_time": "2022-07-16T15:43:40.391Z"
   },
   {
    "duration": 7,
    "start_time": "2022-07-16T15:43:40.525Z"
   },
   {
    "duration": 5,
    "start_time": "2022-07-16T15:43:40.534Z"
   },
   {
    "duration": 29,
    "start_time": "2022-07-16T15:43:40.540Z"
   },
   {
    "duration": 4,
    "start_time": "2022-07-16T15:43:40.570Z"
   },
   {
    "duration": 11,
    "start_time": "2022-07-16T15:43:40.576Z"
   },
   {
    "duration": 16,
    "start_time": "2022-07-16T15:43:40.589Z"
   },
   {
    "duration": 7,
    "start_time": "2022-07-16T15:43:40.606Z"
   },
   {
    "duration": 11,
    "start_time": "2022-07-16T15:43:40.614Z"
   },
   {
    "duration": 34,
    "start_time": "2022-07-16T15:43:40.627Z"
   },
   {
    "duration": 115,
    "start_time": "2022-07-16T15:43:40.663Z"
   },
   {
    "duration": 0,
    "start_time": "2022-07-16T15:43:40.780Z"
   },
   {
    "duration": 0,
    "start_time": "2022-07-16T15:43:40.781Z"
   },
   {
    "duration": 0,
    "start_time": "2022-07-16T15:43:40.782Z"
   },
   {
    "duration": 0,
    "start_time": "2022-07-16T15:43:40.784Z"
   },
   {
    "duration": 0,
    "start_time": "2022-07-16T15:43:40.785Z"
   },
   {
    "duration": 0,
    "start_time": "2022-07-16T15:43:40.786Z"
   },
   {
    "duration": 0,
    "start_time": "2022-07-16T15:43:40.787Z"
   },
   {
    "duration": 0,
    "start_time": "2022-07-16T15:43:40.788Z"
   },
   {
    "duration": 0,
    "start_time": "2022-07-16T15:43:40.789Z"
   },
   {
    "duration": 0,
    "start_time": "2022-07-16T15:43:40.790Z"
   },
   {
    "duration": 0,
    "start_time": "2022-07-16T15:43:40.791Z"
   },
   {
    "duration": 0,
    "start_time": "2022-07-16T15:43:40.793Z"
   },
   {
    "duration": 0,
    "start_time": "2022-07-16T15:43:40.794Z"
   },
   {
    "duration": 0,
    "start_time": "2022-07-16T15:43:40.795Z"
   },
   {
    "duration": 0,
    "start_time": "2022-07-16T15:43:40.796Z"
   },
   {
    "duration": 0,
    "start_time": "2022-07-16T15:43:40.797Z"
   },
   {
    "duration": 6,
    "start_time": "2022-07-16T15:43:54.309Z"
   },
   {
    "duration": 9,
    "start_time": "2022-07-16T15:44:55.656Z"
   },
   {
    "duration": 10,
    "start_time": "2022-07-16T15:50:56.177Z"
   },
   {
    "duration": 16,
    "start_time": "2022-07-16T15:51:58.153Z"
   },
   {
    "duration": 16,
    "start_time": "2022-07-16T15:52:18.972Z"
   },
   {
    "duration": 9,
    "start_time": "2022-07-16T15:52:22.461Z"
   },
   {
    "duration": 9,
    "start_time": "2022-07-16T15:52:29.891Z"
   },
   {
    "duration": 5,
    "start_time": "2022-07-16T15:52:32.472Z"
   },
   {
    "duration": 4,
    "start_time": "2022-07-16T15:52:43.079Z"
   },
   {
    "duration": 4,
    "start_time": "2022-07-16T15:52:50.325Z"
   },
   {
    "duration": 16,
    "start_time": "2022-07-16T15:55:15.978Z"
   },
   {
    "duration": 5,
    "start_time": "2022-07-16T15:55:16.488Z"
   },
   {
    "duration": 4,
    "start_time": "2022-07-16T15:55:17.003Z"
   },
   {
    "duration": 5,
    "start_time": "2022-07-16T15:55:17.716Z"
   },
   {
    "duration": 4,
    "start_time": "2022-07-16T15:55:17.978Z"
   },
   {
    "duration": 13,
    "start_time": "2022-07-16T15:55:40.768Z"
   },
   {
    "duration": 7,
    "start_time": "2022-07-16T15:55:41.559Z"
   },
   {
    "duration": 4,
    "start_time": "2022-07-16T15:55:41.980Z"
   },
   {
    "duration": 5,
    "start_time": "2022-07-16T15:55:42.388Z"
   },
   {
    "duration": 5,
    "start_time": "2022-07-16T15:55:42.825Z"
   },
   {
    "duration": 1534,
    "start_time": "2022-07-22T13:06:49.860Z"
   },
   {
    "duration": 1945,
    "start_time": "2022-07-22T13:06:51.396Z"
   },
   {
    "duration": 868,
    "start_time": "2022-07-22T13:06:53.343Z"
   },
   {
    "duration": 390,
    "start_time": "2022-07-22T13:06:54.213Z"
   },
   {
    "duration": 12,
    "start_time": "2022-07-22T13:06:54.604Z"
   },
   {
    "duration": 10,
    "start_time": "2022-07-22T13:06:54.618Z"
   },
   {
    "duration": 10,
    "start_time": "2022-07-22T13:06:54.629Z"
   },
   {
    "duration": 111,
    "start_time": "2022-07-22T13:06:54.641Z"
   },
   {
    "duration": 128,
    "start_time": "2022-07-22T13:06:54.753Z"
   },
   {
    "duration": 26,
    "start_time": "2022-07-22T13:06:54.883Z"
   },
   {
    "duration": 284,
    "start_time": "2022-07-22T13:06:54.910Z"
   },
   {
    "duration": 241,
    "start_time": "2022-07-22T13:06:55.195Z"
   },
   {
    "duration": 141,
    "start_time": "2022-07-22T13:06:55.438Z"
   },
   {
    "duration": 8,
    "start_time": "2022-07-22T13:06:55.580Z"
   },
   {
    "duration": 12,
    "start_time": "2022-07-22T13:06:55.590Z"
   },
   {
    "duration": 33,
    "start_time": "2022-07-22T13:06:55.604Z"
   },
   {
    "duration": 6,
    "start_time": "2022-07-22T13:06:55.639Z"
   },
   {
    "duration": 8,
    "start_time": "2022-07-22T13:06:55.646Z"
   },
   {
    "duration": 10,
    "start_time": "2022-07-22T13:06:55.655Z"
   },
   {
    "duration": 7,
    "start_time": "2022-07-22T13:06:55.667Z"
   },
   {
    "duration": 48,
    "start_time": "2022-07-22T13:06:55.676Z"
   },
   {
    "duration": 5,
    "start_time": "2022-07-22T13:06:55.725Z"
   },
   {
    "duration": 14,
    "start_time": "2022-07-22T13:06:55.731Z"
   },
   {
    "duration": 8,
    "start_time": "2022-07-22T13:06:55.746Z"
   },
   {
    "duration": 9,
    "start_time": "2022-07-22T13:06:55.756Z"
   },
   {
    "duration": 9,
    "start_time": "2022-07-22T13:06:55.767Z"
   },
   {
    "duration": 9,
    "start_time": "2022-07-22T13:06:55.778Z"
   },
   {
    "duration": 5,
    "start_time": "2022-07-22T13:06:55.791Z"
   },
   {
    "duration": 4,
    "start_time": "2022-07-22T13:06:55.825Z"
   },
   {
    "duration": 234,
    "start_time": "2022-07-22T13:06:55.831Z"
   },
   {
    "duration": 197,
    "start_time": "2022-07-22T13:06:56.067Z"
   },
   {
    "duration": 276,
    "start_time": "2022-07-22T13:06:56.266Z"
   },
   {
    "duration": 512,
    "start_time": "2022-07-22T13:06:56.545Z"
   },
   {
    "duration": 520,
    "start_time": "2022-07-22T13:06:57.059Z"
   },
   {
    "duration": 84,
    "start_time": "2022-07-22T13:06:57.581Z"
   },
   {
    "duration": 200,
    "start_time": "2022-07-22T13:06:57.667Z"
   },
   {
    "duration": 5,
    "start_time": "2022-07-22T13:06:57.869Z"
   },
   {
    "duration": 6,
    "start_time": "2022-07-22T13:06:57.876Z"
   },
   {
    "duration": 141,
    "start_time": "2022-07-22T13:06:57.884Z"
   },
   {
    "duration": 3,
    "start_time": "2022-07-22T13:08:10.652Z"
   },
   {
    "duration": 16,
    "start_time": "2022-07-22T13:10:11.709Z"
   },
   {
    "duration": 47,
    "start_time": "2022-07-22T13:11:11.414Z"
   },
   {
    "duration": 1490,
    "start_time": "2022-07-22T13:12:41.276Z"
   },
   {
    "duration": 5,
    "start_time": "2022-07-22T13:13:09.154Z"
   },
   {
    "duration": 11,
    "start_time": "2022-07-22T13:16:02.715Z"
   },
   {
    "duration": 11,
    "start_time": "2022-07-22T13:16:06.573Z"
   },
   {
    "duration": 2287,
    "start_time": "2022-07-22T13:16:07.297Z"
   },
   {
    "duration": 2128,
    "start_time": "2022-07-22T13:16:19.536Z"
   },
   {
    "duration": 0,
    "start_time": "2022-07-22T13:19:05.127Z"
   },
   {
    "duration": 1505,
    "start_time": "2022-07-22T13:20:11.154Z"
   },
   {
    "duration": 371,
    "start_time": "2022-07-22T13:20:12.661Z"
   },
   {
    "duration": 254,
    "start_time": "2022-07-22T13:20:13.033Z"
   },
   {
    "duration": 89,
    "start_time": "2022-07-22T13:20:13.290Z"
   },
   {
    "duration": 13,
    "start_time": "2022-07-22T13:20:13.381Z"
   },
   {
    "duration": 27,
    "start_time": "2022-07-22T13:20:13.396Z"
   },
   {
    "duration": 10,
    "start_time": "2022-07-22T13:20:13.425Z"
   },
   {
    "duration": 120,
    "start_time": "2022-07-22T13:20:13.437Z"
   },
   {
    "duration": 135,
    "start_time": "2022-07-22T13:20:13.559Z"
   },
   {
    "duration": 37,
    "start_time": "2022-07-22T13:20:13.695Z"
   },
   {
    "duration": 368,
    "start_time": "2022-07-22T13:20:13.733Z"
   },
   {
    "duration": 356,
    "start_time": "2022-07-22T13:20:14.103Z"
   },
   {
    "duration": 216,
    "start_time": "2022-07-22T13:20:14.461Z"
   },
   {
    "duration": 8,
    "start_time": "2022-07-22T13:20:14.680Z"
   },
   {
    "duration": 10,
    "start_time": "2022-07-22T13:20:14.689Z"
   },
   {
    "duration": 21,
    "start_time": "2022-07-22T13:20:14.701Z"
   },
   {
    "duration": 7,
    "start_time": "2022-07-22T13:20:14.724Z"
   },
   {
    "duration": 15,
    "start_time": "2022-07-22T13:20:14.733Z"
   },
   {
    "duration": 14,
    "start_time": "2022-07-22T13:20:14.750Z"
   },
   {
    "duration": 11,
    "start_time": "2022-07-22T13:20:14.766Z"
   },
   {
    "duration": 9,
    "start_time": "2022-07-22T13:20:14.779Z"
   },
   {
    "duration": 4,
    "start_time": "2022-07-22T13:20:14.790Z"
   },
   {
    "duration": 32,
    "start_time": "2022-07-22T13:20:14.797Z"
   },
   {
    "duration": 10,
    "start_time": "2022-07-22T13:20:14.831Z"
   },
   {
    "duration": 10,
    "start_time": "2022-07-22T13:20:14.843Z"
   },
   {
    "duration": 5,
    "start_time": "2022-07-22T13:20:14.855Z"
   },
   {
    "duration": 6,
    "start_time": "2022-07-22T13:20:14.861Z"
   },
   {
    "duration": 55,
    "start_time": "2022-07-22T13:20:14.869Z"
   },
   {
    "duration": 14,
    "start_time": "2022-07-22T13:20:14.930Z"
   },
   {
    "duration": 338,
    "start_time": "2022-07-22T13:20:14.947Z"
   },
   {
    "duration": 283,
    "start_time": "2022-07-22T13:20:15.286Z"
   },
   {
    "duration": 294,
    "start_time": "2022-07-22T13:20:15.572Z"
   },
   {
    "duration": 517,
    "start_time": "2022-07-22T13:20:15.868Z"
   },
   {
    "duration": 583,
    "start_time": "2022-07-22T13:20:16.387Z"
   },
   {
    "duration": 100,
    "start_time": "2022-07-22T13:20:16.972Z"
   },
   {
    "duration": 290,
    "start_time": "2022-07-22T13:20:17.074Z"
   },
   {
    "duration": 5,
    "start_time": "2022-07-22T13:20:17.367Z"
   },
   {
    "duration": 7,
    "start_time": "2022-07-22T13:20:17.374Z"
   },
   {
    "duration": 14,
    "start_time": "2022-07-22T13:20:17.383Z"
   },
   {
    "duration": 2200,
    "start_time": "2022-07-22T13:20:17.399Z"
   },
   {
    "duration": 3,
    "start_time": "2022-07-22T13:21:01.865Z"
   },
   {
    "duration": 8,
    "start_time": "2022-07-22T13:21:02.680Z"
   },
   {
    "duration": 16229,
    "start_time": "2022-07-22T13:21:03.312Z"
   },
   {
    "duration": 0,
    "start_time": "2022-07-22T13:21:19.544Z"
   },
   {
    "duration": 4,
    "start_time": "2022-07-22T13:21:22.190Z"
   },
   {
    "duration": 14,
    "start_time": "2022-07-22T13:21:22.688Z"
   },
   {
    "duration": 3206,
    "start_time": "2022-07-22T13:21:23.118Z"
   },
   {
    "duration": 124636,
    "start_time": "2022-07-22T13:22:11.496Z"
   },
   {
    "duration": 3,
    "start_time": "2022-07-22T13:25:10.015Z"
   },
   {
    "duration": 4,
    "start_time": "2022-07-22T13:25:17.525Z"
   },
   {
    "duration": 4,
    "start_time": "2022-07-22T13:34:42.997Z"
   },
   {
    "duration": 33320,
    "start_time": "2022-07-22T13:39:46.054Z"
   },
   {
    "duration": 5,
    "start_time": "2022-07-22T13:47:19.386Z"
   },
   {
    "duration": 19,
    "start_time": "2022-07-22T13:47:26.313Z"
   },
   {
    "duration": 107,
    "start_time": "2022-07-22T14:10:22.597Z"
   },
   {
    "duration": 11,
    "start_time": "2022-07-22T14:10:36.107Z"
   },
   {
    "duration": 13,
    "start_time": "2022-07-22T14:10:40.861Z"
   },
   {
    "duration": 10,
    "start_time": "2022-07-22T14:10:43.389Z"
   },
   {
    "duration": 74,
    "start_time": "2022-07-22T14:10:48.179Z"
   },
   {
    "duration": 12,
    "start_time": "2022-07-22T14:10:50.654Z"
   },
   {
    "duration": 10,
    "start_time": "2022-07-22T14:11:10.182Z"
   },
   {
    "duration": 15,
    "start_time": "2022-07-22T14:11:15.754Z"
   },
   {
    "duration": 10,
    "start_time": "2022-07-22T14:11:25.154Z"
   },
   {
    "duration": 11,
    "start_time": "2022-07-22T14:11:33.055Z"
   },
   {
    "duration": 10,
    "start_time": "2022-07-22T14:11:43.451Z"
   },
   {
    "duration": 4,
    "start_time": "2022-07-22T14:11:47.155Z"
   },
   {
    "duration": 402,
    "start_time": "2022-07-22T14:11:47.779Z"
   },
   {
    "duration": 300,
    "start_time": "2022-07-22T14:11:48.688Z"
   },
   {
    "duration": 121,
    "start_time": "2022-07-22T14:11:49.321Z"
   },
   {
    "duration": 11,
    "start_time": "2022-07-22T14:11:50.055Z"
   },
   {
    "duration": 11,
    "start_time": "2022-07-22T14:11:50.355Z"
   },
   {
    "duration": 9,
    "start_time": "2022-07-22T14:11:50.991Z"
   },
   {
    "duration": 4,
    "start_time": "2022-07-22T14:12:34.951Z"
   },
   {
    "duration": 381,
    "start_time": "2022-07-22T14:12:37.355Z"
   },
   {
    "duration": 288,
    "start_time": "2022-07-22T14:12:38.074Z"
   },
   {
    "duration": 130,
    "start_time": "2022-07-22T14:12:38.754Z"
   },
   {
    "duration": 11,
    "start_time": "2022-07-22T14:12:39.660Z"
   },
   {
    "duration": 9,
    "start_time": "2022-07-22T14:12:40.113Z"
   },
   {
    "duration": 9,
    "start_time": "2022-07-22T14:12:40.457Z"
   },
   {
    "duration": 8,
    "start_time": "2022-07-22T14:17:10.082Z"
   },
   {
    "duration": 3,
    "start_time": "2022-07-22T14:23:48.276Z"
   },
   {
    "duration": 3,
    "start_time": "2022-07-22T14:24:31.260Z"
   },
   {
    "duration": 4,
    "start_time": "2022-07-22T14:24:33.656Z"
   },
   {
    "duration": 3,
    "start_time": "2022-07-22T14:24:35.595Z"
   },
   {
    "duration": 4,
    "start_time": "2022-07-22T14:24:46.380Z"
   },
   {
    "duration": 4,
    "start_time": "2022-07-22T14:24:49.159Z"
   },
   {
    "duration": 332,
    "start_time": "2022-07-22T14:24:51.441Z"
   },
   {
    "duration": 248,
    "start_time": "2022-07-22T14:24:51.954Z"
   },
   {
    "duration": 92,
    "start_time": "2022-07-22T14:24:52.452Z"
   },
   {
    "duration": 11,
    "start_time": "2022-07-22T14:24:52.937Z"
   },
   {
    "duration": 10,
    "start_time": "2022-07-22T14:24:53.236Z"
   },
   {
    "duration": 8,
    "start_time": "2022-07-22T14:24:53.468Z"
   },
   {
    "duration": 98,
    "start_time": "2022-07-22T14:24:54.003Z"
   },
   {
    "duration": 121,
    "start_time": "2022-07-22T14:24:54.282Z"
   },
   {
    "duration": 25,
    "start_time": "2022-07-22T14:24:54.549Z"
   },
   {
    "duration": 252,
    "start_time": "2022-07-22T14:24:55.072Z"
   },
   {
    "duration": 233,
    "start_time": "2022-07-22T14:24:55.359Z"
   },
   {
    "duration": 147,
    "start_time": "2022-07-22T14:24:55.665Z"
   },
   {
    "duration": 7,
    "start_time": "2022-07-22T14:24:56.255Z"
   },
   {
    "duration": 3,
    "start_time": "2022-07-22T14:24:57.919Z"
   },
   {
    "duration": 15,
    "start_time": "2022-07-22T14:24:58.320Z"
   },
   {
    "duration": 5,
    "start_time": "2022-07-22T14:25:03.091Z"
   },
   {
    "duration": 4,
    "start_time": "2022-07-22T14:26:25.356Z"
   },
   {
    "duration": 13,
    "start_time": "2022-07-22T14:26:27.089Z"
   },
   {
    "duration": 15,
    "start_time": "2022-07-22T14:26:30.464Z"
   },
   {
    "duration": 15,
    "start_time": "2022-07-22T14:26:31.858Z"
   },
   {
    "duration": 15,
    "start_time": "2022-07-22T14:26:32.898Z"
   },
   {
    "duration": 20,
    "start_time": "2022-07-22T14:26:33.820Z"
   },
   {
    "duration": 14,
    "start_time": "2022-07-22T14:26:34.702Z"
   },
   {
    "duration": 17,
    "start_time": "2022-07-22T14:26:35.616Z"
   },
   {
    "duration": 14,
    "start_time": "2022-07-22T14:26:36.591Z"
   },
   {
    "duration": 11,
    "start_time": "2022-07-22T14:30:33.333Z"
   },
   {
    "duration": 5,
    "start_time": "2022-07-22T14:30:44.765Z"
   },
   {
    "duration": 7,
    "start_time": "2022-07-22T14:34:34.572Z"
   },
   {
    "duration": 8,
    "start_time": "2022-07-22T14:34:43.173Z"
   },
   {
    "duration": 5,
    "start_time": "2022-07-22T14:41:37.292Z"
   },
   {
    "duration": 358,
    "start_time": "2022-07-22T14:42:13.555Z"
   },
   {
    "duration": 104,
    "start_time": "2022-07-22T14:42:19.960Z"
   },
   {
    "duration": 99,
    "start_time": "2022-07-22T14:42:35.009Z"
   },
   {
    "duration": 344,
    "start_time": "2022-07-22T14:42:37.384Z"
   },
   {
    "duration": 25,
    "start_time": "2022-07-22T14:43:09.898Z"
   },
   {
    "duration": 25,
    "start_time": "2022-07-22T14:43:16.371Z"
   },
   {
    "duration": 6,
    "start_time": "2022-07-22T14:52:36.215Z"
   },
   {
    "duration": 7,
    "start_time": "2022-07-22T14:52:39.083Z"
   },
   {
    "duration": 6,
    "start_time": "2022-07-22T14:53:44.013Z"
   },
   {
    "duration": 366,
    "start_time": "2022-07-22T16:07:17.855Z"
   },
   {
    "duration": 280,
    "start_time": "2022-07-22T16:07:18.224Z"
   },
   {
    "duration": 91,
    "start_time": "2022-07-22T16:07:18.509Z"
   },
   {
    "duration": 25,
    "start_time": "2022-07-22T16:07:18.602Z"
   },
   {
    "duration": 10,
    "start_time": "2022-07-22T16:07:18.747Z"
   },
   {
    "duration": 9,
    "start_time": "2022-07-22T16:07:18.960Z"
   },
   {
    "duration": 104,
    "start_time": "2022-07-22T16:07:19.399Z"
   },
   {
    "duration": 134,
    "start_time": "2022-07-22T16:07:19.622Z"
   },
   {
    "duration": 28,
    "start_time": "2022-07-22T16:07:19.758Z"
   },
   {
    "duration": 266,
    "start_time": "2022-07-22T16:07:20.144Z"
   },
   {
    "duration": 245,
    "start_time": "2022-07-22T16:07:20.411Z"
   },
   {
    "duration": 160,
    "start_time": "2022-07-22T16:07:20.659Z"
   },
   {
    "duration": 9,
    "start_time": "2022-07-22T16:07:20.944Z"
   },
   {
    "duration": 3,
    "start_time": "2022-07-22T16:07:22.412Z"
   },
   {
    "duration": 16,
    "start_time": "2022-07-22T16:07:22.602Z"
   },
   {
    "duration": 6,
    "start_time": "2022-07-22T16:07:23.182Z"
   },
   {
    "duration": 6,
    "start_time": "2022-07-22T16:07:24.669Z"
   },
   {
    "duration": 8,
    "start_time": "2022-07-22T16:07:28.278Z"
   },
   {
    "duration": 16,
    "start_time": "2022-07-22T16:07:30.023Z"
   },
   {
    "duration": 5,
    "start_time": "2022-07-22T16:07:31.469Z"
   },
   {
    "duration": 6,
    "start_time": "2022-07-22T16:07:34.905Z"
   },
   {
    "duration": 7,
    "start_time": "2022-07-22T16:07:35.410Z"
   },
   {
    "duration": 5,
    "start_time": "2022-07-22T16:07:43.365Z"
   },
   {
    "duration": 30,
    "start_time": "2022-07-22T16:07:53.059Z"
   },
   {
    "duration": 6,
    "start_time": "2022-07-22T16:08:10.045Z"
   },
   {
    "duration": 40,
    "start_time": "2022-07-22T16:08:10.720Z"
   },
   {
    "duration": 5,
    "start_time": "2022-07-22T16:08:21.421Z"
   },
   {
    "duration": 6,
    "start_time": "2022-07-22T16:08:30.578Z"
   },
   {
    "duration": 7,
    "start_time": "2022-07-22T16:08:31.141Z"
   },
   {
    "duration": 5,
    "start_time": "2022-07-22T16:08:31.718Z"
   },
   {
    "duration": 29,
    "start_time": "2022-07-22T16:08:48.364Z"
   },
   {
    "duration": 5,
    "start_time": "2022-07-22T16:09:03.595Z"
   },
   {
    "duration": 352,
    "start_time": "2022-07-22T16:09:04.324Z"
   },
   {
    "duration": 237,
    "start_time": "2022-07-22T16:09:04.678Z"
   },
   {
    "duration": 85,
    "start_time": "2022-07-22T16:09:04.991Z"
   },
   {
    "duration": 12,
    "start_time": "2022-07-22T16:09:05.347Z"
   },
   {
    "duration": 9,
    "start_time": "2022-07-22T16:09:05.530Z"
   },
   {
    "duration": 10,
    "start_time": "2022-07-22T16:09:05.713Z"
   },
   {
    "duration": 92,
    "start_time": "2022-07-22T16:09:06.083Z"
   },
   {
    "duration": 145,
    "start_time": "2022-07-22T16:09:06.264Z"
   },
   {
    "duration": 24,
    "start_time": "2022-07-22T16:09:06.446Z"
   },
   {
    "duration": 239,
    "start_time": "2022-07-22T16:09:06.835Z"
   },
   {
    "duration": 264,
    "start_time": "2022-07-22T16:09:07.076Z"
   },
   {
    "duration": 164,
    "start_time": "2022-07-22T16:09:07.343Z"
   },
   {
    "duration": 9,
    "start_time": "2022-07-22T16:09:07.603Z"
   },
   {
    "duration": 4,
    "start_time": "2022-07-22T16:09:08.589Z"
   },
   {
    "duration": 17,
    "start_time": "2022-07-22T16:09:08.771Z"
   },
   {
    "duration": 6,
    "start_time": "2022-07-22T16:09:08.950Z"
   },
   {
    "duration": 7,
    "start_time": "2022-07-22T16:09:09.750Z"
   },
   {
    "duration": 8,
    "start_time": "2022-07-22T16:09:11.937Z"
   },
   {
    "duration": 9,
    "start_time": "2022-07-22T16:09:12.709Z"
   },
   {
    "duration": 5,
    "start_time": "2022-07-22T16:09:13.585Z"
   },
   {
    "duration": 6,
    "start_time": "2022-07-22T16:09:15.624Z"
   },
   {
    "duration": 6,
    "start_time": "2022-07-22T16:09:16.078Z"
   },
   {
    "duration": 5,
    "start_time": "2022-07-22T16:09:16.553Z"
   },
   {
    "duration": 34,
    "start_time": "2022-07-22T16:09:20.882Z"
   },
   {
    "duration": 6,
    "start_time": "2022-07-22T16:10:11.196Z"
   },
   {
    "duration": 27,
    "start_time": "2022-07-22T16:10:12.319Z"
   },
   {
    "duration": 7,
    "start_time": "2022-07-22T16:10:20.721Z"
   },
   {
    "duration": 33,
    "start_time": "2022-07-22T16:10:22.246Z"
   },
   {
    "duration": 7,
    "start_time": "2022-07-22T16:13:42.508Z"
   },
   {
    "duration": 5,
    "start_time": "2022-07-22T16:13:53.059Z"
   },
   {
    "duration": 3,
    "start_time": "2022-07-22T16:14:00.062Z"
   },
   {
    "duration": 5,
    "start_time": "2022-07-22T16:14:08.255Z"
   },
   {
    "duration": 5,
    "start_time": "2022-07-22T16:19:25.156Z"
   },
   {
    "duration": 38,
    "start_time": "2022-07-22T16:19:27.990Z"
   },
   {
    "duration": 10,
    "start_time": "2022-07-22T16:20:45.820Z"
   },
   {
    "duration": 6,
    "start_time": "2022-07-22T16:20:59.212Z"
   },
   {
    "duration": 3,
    "start_time": "2022-07-22T16:21:30.494Z"
   },
   {
    "duration": 6,
    "start_time": "2022-07-22T16:21:44.509Z"
   },
   {
    "duration": 8,
    "start_time": "2022-07-22T16:21:45.318Z"
   },
   {
    "duration": 5,
    "start_time": "2022-07-22T16:22:29.948Z"
   },
   {
    "duration": 8,
    "start_time": "2022-07-22T16:22:31.236Z"
   },
   {
    "duration": 5,
    "start_time": "2022-07-22T16:22:34.323Z"
   },
   {
    "duration": 3,
    "start_time": "2022-07-22T16:22:34.720Z"
   },
   {
    "duration": 7,
    "start_time": "2022-07-22T16:22:35.144Z"
   },
   {
    "duration": 8,
    "start_time": "2022-07-22T16:22:35.528Z"
   },
   {
    "duration": 5,
    "start_time": "2022-07-22T16:22:42.961Z"
   },
   {
    "duration": 5,
    "start_time": "2022-07-22T16:22:51.422Z"
   },
   {
    "duration": 5,
    "start_time": "2022-07-22T16:22:53.585Z"
   },
   {
    "duration": 8,
    "start_time": "2022-07-22T16:22:54.139Z"
   },
   {
    "duration": 7,
    "start_time": "2022-07-22T16:23:07.054Z"
   },
   {
    "duration": 27,
    "start_time": "2022-07-22T16:23:07.573Z"
   },
   {
    "duration": 9,
    "start_time": "2022-07-22T16:24:46.160Z"
   },
   {
    "duration": 9,
    "start_time": "2022-07-22T16:24:58.220Z"
   },
   {
    "duration": 10,
    "start_time": "2022-07-22T16:25:00.501Z"
   },
   {
    "duration": 9,
    "start_time": "2022-07-22T16:25:22.197Z"
   },
   {
    "duration": 3,
    "start_time": "2022-07-22T16:25:28.811Z"
   },
   {
    "duration": 4,
    "start_time": "2022-07-22T16:27:36.284Z"
   },
   {
    "duration": 3,
    "start_time": "2022-07-22T16:27:50.521Z"
   },
   {
    "duration": 4,
    "start_time": "2022-07-22T16:27:55.892Z"
   },
   {
    "duration": 6,
    "start_time": "2022-07-22T16:28:05.552Z"
   },
   {
    "duration": 4,
    "start_time": "2022-07-22T16:28:06.466Z"
   },
   {
    "duration": 2,
    "start_time": "2022-07-22T16:28:07.585Z"
   },
   {
    "duration": 4,
    "start_time": "2022-07-22T16:28:08.419Z"
   },
   {
    "duration": 6,
    "start_time": "2022-07-22T16:28:41.820Z"
   },
   {
    "duration": 4,
    "start_time": "2022-07-22T16:28:43.965Z"
   },
   {
    "duration": 6,
    "start_time": "2022-07-22T16:29:03.708Z"
   },
   {
    "duration": 7,
    "start_time": "2022-07-22T16:29:19.490Z"
   },
   {
    "duration": 6,
    "start_time": "2022-07-22T16:29:40.128Z"
   },
   {
    "duration": 30,
    "start_time": "2022-07-22T16:29:45.173Z"
   },
   {
    "duration": 4,
    "start_time": "2022-07-22T16:32:33.560Z"
   },
   {
    "duration": 5,
    "start_time": "2022-07-22T16:32:44.060Z"
   },
   {
    "duration": 9,
    "start_time": "2022-07-22T16:33:31.284Z"
   },
   {
    "duration": 4,
    "start_time": "2022-07-22T16:33:34.232Z"
   },
   {
    "duration": 6,
    "start_time": "2022-07-22T16:33:34.704Z"
   },
   {
    "duration": 9,
    "start_time": "2022-07-22T16:36:56.902Z"
   },
   {
    "duration": 6,
    "start_time": "2022-07-22T16:37:10.500Z"
   },
   {
    "duration": 7,
    "start_time": "2022-07-22T16:41:13.001Z"
   },
   {
    "duration": 23,
    "start_time": "2022-07-22T16:45:56.114Z"
   },
   {
    "duration": 7,
    "start_time": "2022-07-22T16:46:28.306Z"
   },
   {
    "duration": 7,
    "start_time": "2022-07-22T16:46:37.851Z"
   },
   {
    "duration": 47,
    "start_time": "2022-07-22T16:47:31.578Z"
   },
   {
    "duration": 10,
    "start_time": "2022-07-22T16:49:40.646Z"
   },
   {
    "duration": 10,
    "start_time": "2022-07-22T16:49:46.093Z"
   },
   {
    "duration": 6,
    "start_time": "2022-07-22T16:49:53.566Z"
   },
   {
    "duration": 6,
    "start_time": "2022-07-22T16:49:54.080Z"
   },
   {
    "duration": 5,
    "start_time": "2022-07-22T16:49:54.392Z"
   },
   {
    "duration": 7,
    "start_time": "2022-07-22T16:49:54.736Z"
   },
   {
    "duration": 6,
    "start_time": "2022-07-22T16:50:53.348Z"
   },
   {
    "duration": 25,
    "start_time": "2022-07-22T16:51:00.375Z"
   },
   {
    "duration": 7,
    "start_time": "2022-07-22T16:51:26.456Z"
   },
   {
    "duration": 6,
    "start_time": "2022-07-22T16:51:27.618Z"
   },
   {
    "duration": 16,
    "start_time": "2022-07-22T16:51:55.546Z"
   },
   {
    "duration": 34,
    "start_time": "2022-07-22T16:52:00.522Z"
   },
   {
    "duration": 11,
    "start_time": "2022-07-22T16:52:29.589Z"
   },
   {
    "duration": 6,
    "start_time": "2022-07-22T16:52:41.837Z"
   },
   {
    "duration": 6,
    "start_time": "2022-07-22T16:52:58.886Z"
   },
   {
    "duration": 3,
    "start_time": "2022-07-22T16:55:25.575Z"
   },
   {
    "duration": 6,
    "start_time": "2022-07-22T16:55:31.326Z"
   },
   {
    "duration": 7,
    "start_time": "2022-07-22T16:59:38.431Z"
   },
   {
    "duration": 7,
    "start_time": "2022-07-22T16:59:41.934Z"
   },
   {
    "duration": 7,
    "start_time": "2022-07-22T16:59:42.302Z"
   },
   {
    "duration": 5,
    "start_time": "2022-07-22T17:00:14.974Z"
   },
   {
    "duration": 6,
    "start_time": "2022-07-22T17:00:38.077Z"
   },
   {
    "duration": 6,
    "start_time": "2022-07-22T17:00:45.424Z"
   },
   {
    "duration": 7,
    "start_time": "2022-07-22T17:02:48.890Z"
   },
   {
    "duration": 10,
    "start_time": "2022-07-22T17:02:49.294Z"
   },
   {
    "duration": 6,
    "start_time": "2022-07-22T17:02:50.023Z"
   },
   {
    "duration": 6,
    "start_time": "2022-07-22T17:02:52.623Z"
   },
   {
    "duration": 5,
    "start_time": "2022-07-22T17:02:59.256Z"
   },
   {
    "duration": 6,
    "start_time": "2022-07-22T17:03:07.051Z"
   },
   {
    "duration": 6,
    "start_time": "2022-07-22T17:10:47.172Z"
   },
   {
    "duration": 6,
    "start_time": "2022-07-22T17:10:59.756Z"
   },
   {
    "duration": 6,
    "start_time": "2022-07-22T17:11:04.624Z"
   },
   {
    "duration": 11,
    "start_time": "2022-07-22T17:15:47.889Z"
   },
   {
    "duration": 10,
    "start_time": "2022-07-22T17:53:54.134Z"
   },
   {
    "duration": 3,
    "start_time": "2022-07-22T17:54:13.214Z"
   },
   {
    "duration": 3,
    "start_time": "2022-07-22T17:54:15.764Z"
   },
   {
    "duration": 12,
    "start_time": "2022-07-22T18:20:47.103Z"
   },
   {
    "duration": 112069,
    "start_time": "2022-07-22T18:20:52.063Z"
   },
   {
    "duration": 3,
    "start_time": "2022-07-22T18:31:22.484Z"
   },
   {
    "duration": 12,
    "start_time": "2022-07-22T18:31:56.727Z"
   },
   {
    "duration": 10,
    "start_time": "2022-07-22T18:32:31.216Z"
   },
   {
    "duration": 63,
    "start_time": "2022-07-22T18:33:08.066Z"
   },
   {
    "duration": 8,
    "start_time": "2022-07-22T18:35:32.446Z"
   },
   {
    "duration": 6,
    "start_time": "2022-07-22T18:36:19.453Z"
   },
   {
    "duration": 44,
    "start_time": "2022-07-22T18:36:42.031Z"
   },
   {
    "duration": 57,
    "start_time": "2022-07-22T18:37:04.995Z"
   },
   {
    "duration": 1594,
    "start_time": "2022-07-22T18:37:18.066Z"
   },
   {
    "duration": 503,
    "start_time": "2022-07-22T18:37:19.662Z"
   },
   {
    "duration": 381,
    "start_time": "2022-07-22T18:37:20.167Z"
   },
   {
    "duration": 126,
    "start_time": "2022-07-22T18:37:20.550Z"
   },
   {
    "duration": 15,
    "start_time": "2022-07-22T18:37:20.679Z"
   },
   {
    "duration": 37,
    "start_time": "2022-07-22T18:37:20.696Z"
   },
   {
    "duration": 15,
    "start_time": "2022-07-22T18:37:20.736Z"
   },
   {
    "duration": 146,
    "start_time": "2022-07-22T18:37:20.755Z"
   },
   {
    "duration": 179,
    "start_time": "2022-07-22T18:37:20.903Z"
   },
   {
    "duration": 47,
    "start_time": "2022-07-22T18:37:21.084Z"
   },
   {
    "duration": 343,
    "start_time": "2022-07-22T18:37:21.134Z"
   },
   {
    "duration": 283,
    "start_time": "2022-07-22T18:37:21.479Z"
   },
   {
    "duration": 170,
    "start_time": "2022-07-22T18:37:21.764Z"
   },
   {
    "duration": 10,
    "start_time": "2022-07-22T18:37:21.945Z"
   },
   {
    "duration": 12,
    "start_time": "2022-07-22T18:37:21.957Z"
   },
   {
    "duration": 21,
    "start_time": "2022-07-22T18:37:21.971Z"
   },
   {
    "duration": 5,
    "start_time": "2022-07-22T18:37:21.994Z"
   },
   {
    "duration": 33,
    "start_time": "2022-07-22T18:37:22.001Z"
   },
   {
    "duration": 28,
    "start_time": "2022-07-22T18:37:22.037Z"
   },
   {
    "duration": 20,
    "start_time": "2022-07-22T18:37:22.067Z"
   },
   {
    "duration": 5,
    "start_time": "2022-07-22T18:37:22.090Z"
   },
   {
    "duration": 20,
    "start_time": "2022-07-22T18:37:22.097Z"
   },
   {
    "duration": 16,
    "start_time": "2022-07-22T18:37:22.119Z"
   },
   {
    "duration": 25,
    "start_time": "2022-07-22T18:37:22.137Z"
   },
   {
    "duration": 7,
    "start_time": "2022-07-22T18:37:22.164Z"
   },
   {
    "duration": 13,
    "start_time": "2022-07-22T18:37:22.173Z"
   },
   {
    "duration": 276,
    "start_time": "2022-07-22T18:37:22.187Z"
   },
   {
    "duration": 277,
    "start_time": "2022-07-22T18:37:22.465Z"
   },
   {
    "duration": 294,
    "start_time": "2022-07-22T18:37:22.744Z"
   },
   {
    "duration": 568,
    "start_time": "2022-07-22T18:37:23.040Z"
   },
   {
    "duration": 507,
    "start_time": "2022-07-22T18:37:23.609Z"
   },
   {
    "duration": 97,
    "start_time": "2022-07-22T18:37:24.118Z"
   },
   {
    "duration": 247,
    "start_time": "2022-07-22T18:37:24.217Z"
   },
   {
    "duration": 4,
    "start_time": "2022-07-22T18:37:24.466Z"
   },
   {
    "duration": 14,
    "start_time": "2022-07-22T18:37:24.472Z"
   },
   {
    "duration": 127380,
    "start_time": "2022-07-22T18:37:24.488Z"
   },
   {
    "duration": 247,
    "start_time": "2022-07-22T18:39:31.875Z"
   },
   {
    "duration": 94,
    "start_time": "2022-07-22T18:39:51.937Z"
   },
   {
    "duration": 577,
    "start_time": "2022-07-22T18:40:15.469Z"
   },
   {
    "duration": 31535,
    "start_time": "2022-07-22T18:40:32.567Z"
   },
   {
    "duration": 17,
    "start_time": "2022-07-22T18:45:32.725Z"
   },
   {
    "duration": 13,
    "start_time": "2022-07-22T18:45:38.692Z"
   },
   {
    "duration": 8,
    "start_time": "2022-07-22T18:47:06.992Z"
   },
   {
    "duration": 4,
    "start_time": "2022-07-22T18:47:19.915Z"
   },
   {
    "duration": 5,
    "start_time": "2022-07-22T18:47:30.760Z"
   },
   {
    "duration": 5,
    "start_time": "2022-07-22T18:47:36.715Z"
   },
   {
    "duration": 5,
    "start_time": "2022-07-22T18:47:38.176Z"
   },
   {
    "duration": 7,
    "start_time": "2022-07-22T18:47:49.164Z"
   },
   {
    "duration": 1707,
    "start_time": "2022-07-23T09:58:39.741Z"
   },
   {
    "duration": 763,
    "start_time": "2022-07-23T09:58:41.450Z"
   },
   {
    "duration": 1148,
    "start_time": "2022-07-23T09:58:42.215Z"
   },
   {
    "duration": 176,
    "start_time": "2022-07-23T09:58:43.366Z"
   },
   {
    "duration": 12,
    "start_time": "2022-07-23T09:58:43.543Z"
   },
   {
    "duration": 9,
    "start_time": "2022-07-23T09:58:43.556Z"
   },
   {
    "duration": 7,
    "start_time": "2022-07-23T09:58:43.567Z"
   },
   {
    "duration": 140,
    "start_time": "2022-07-23T09:58:43.576Z"
   },
   {
    "duration": 147,
    "start_time": "2022-07-23T09:58:43.722Z"
   },
   {
    "duration": 51,
    "start_time": "2022-07-23T09:58:43.871Z"
   },
   {
    "duration": 288,
    "start_time": "2022-07-23T09:58:44.106Z"
   },
   {
    "duration": 331,
    "start_time": "2022-07-23T09:58:44.403Z"
   },
   {
    "duration": 217,
    "start_time": "2022-07-23T09:58:44.736Z"
   },
   {
    "duration": 7,
    "start_time": "2022-07-23T09:58:45.160Z"
   },
   {
    "duration": 4,
    "start_time": "2022-07-23T09:58:46.741Z"
   },
   {
    "duration": 17,
    "start_time": "2022-07-23T09:58:47.047Z"
   },
   {
    "duration": 5,
    "start_time": "2022-07-23T09:58:47.349Z"
   },
   {
    "duration": 8,
    "start_time": "2022-07-23T09:58:48.714Z"
   },
   {
    "duration": 10,
    "start_time": "2022-07-23T09:58:50.737Z"
   },
   {
    "duration": 9,
    "start_time": "2022-07-23T09:58:51.648Z"
   },
   {
    "duration": 6,
    "start_time": "2022-07-23T09:58:55.180Z"
   },
   {
    "duration": 5,
    "start_time": "2022-07-23T09:58:56.067Z"
   },
   {
    "duration": 11,
    "start_time": "2022-07-23T09:59:02.743Z"
   },
   {
    "duration": 8,
    "start_time": "2022-07-23T10:00:44.474Z"
   },
   {
    "duration": 10,
    "start_time": "2022-07-23T10:00:51.259Z"
   },
   {
    "duration": 142,
    "start_time": "2022-07-23T10:01:06.163Z"
   },
   {
    "duration": 15,
    "start_time": "2022-07-23T10:01:49.428Z"
   },
   {
    "duration": 21,
    "start_time": "2022-07-23T10:01:55.773Z"
   },
   {
    "duration": 15,
    "start_time": "2022-07-23T10:10:20.763Z"
   },
   {
    "duration": 16,
    "start_time": "2022-07-23T10:11:20.040Z"
   },
   {
    "duration": 16,
    "start_time": "2022-07-23T10:13:08.061Z"
   },
   {
    "duration": 19,
    "start_time": "2022-07-23T10:13:22.678Z"
   },
   {
    "duration": 10,
    "start_time": "2022-07-23T10:14:50.490Z"
   },
   {
    "duration": 17,
    "start_time": "2022-07-23T10:14:58.726Z"
   },
   {
    "duration": 9,
    "start_time": "2022-07-23T10:15:14.484Z"
   },
   {
    "duration": 21,
    "start_time": "2022-07-23T10:15:20.052Z"
   },
   {
    "duration": 22,
    "start_time": "2022-07-23T10:15:38.871Z"
   },
   {
    "duration": 15,
    "start_time": "2022-07-23T10:15:58.029Z"
   },
   {
    "duration": 8,
    "start_time": "2022-07-23T10:16:00.687Z"
   },
   {
    "duration": 5,
    "start_time": "2022-07-23T10:16:25.369Z"
   },
   {
    "duration": 7,
    "start_time": "2022-07-23T10:16:34.729Z"
   },
   {
    "duration": 5,
    "start_time": "2022-07-23T10:16:39.264Z"
   },
   {
    "duration": 15,
    "start_time": "2022-07-23T10:16:44.599Z"
   },
   {
    "duration": 5,
    "start_time": "2022-07-23T10:16:55.533Z"
   },
   {
    "duration": 5,
    "start_time": "2022-07-23T10:17:07.948Z"
   },
   {
    "duration": 6,
    "start_time": "2022-07-23T10:17:15.958Z"
   },
   {
    "duration": 5,
    "start_time": "2022-07-23T10:17:24.580Z"
   },
   {
    "duration": 5,
    "start_time": "2022-07-23T10:17:29.865Z"
   },
   {
    "duration": 6,
    "start_time": "2022-07-23T10:17:34.350Z"
   },
   {
    "duration": 6,
    "start_time": "2022-07-23T10:17:41.232Z"
   },
   {
    "duration": 9,
    "start_time": "2022-07-23T10:17:45.226Z"
   },
   {
    "duration": 12,
    "start_time": "2022-07-23T10:17:51.100Z"
   },
   {
    "duration": 6,
    "start_time": "2022-07-23T10:17:55.058Z"
   },
   {
    "duration": 7,
    "start_time": "2022-07-23T10:17:58.966Z"
   },
   {
    "duration": 7,
    "start_time": "2022-07-23T10:18:09.498Z"
   },
   {
    "duration": 48,
    "start_time": "2022-07-23T10:22:41.194Z"
   },
   {
    "duration": 16,
    "start_time": "2022-07-23T10:22:56.838Z"
   },
   {
    "duration": 20,
    "start_time": "2022-07-23T10:23:01.891Z"
   },
   {
    "duration": 16,
    "start_time": "2022-07-23T10:23:29.148Z"
   },
   {
    "duration": 5,
    "start_time": "2022-07-23T10:23:39.970Z"
   },
   {
    "duration": 1992,
    "start_time": "2022-07-23T10:35:02.443Z"
   },
   {
    "duration": 502,
    "start_time": "2022-07-23T10:35:04.437Z"
   },
   {
    "duration": 342,
    "start_time": "2022-07-23T10:35:04.941Z"
   },
   {
    "duration": 149,
    "start_time": "2022-07-23T10:35:05.285Z"
   },
   {
    "duration": 20,
    "start_time": "2022-07-23T10:35:05.438Z"
   },
   {
    "duration": 22,
    "start_time": "2022-07-23T10:35:05.461Z"
   },
   {
    "duration": 34,
    "start_time": "2022-07-23T10:35:05.486Z"
   },
   {
    "duration": 154,
    "start_time": "2022-07-23T10:35:05.522Z"
   },
   {
    "duration": 206,
    "start_time": "2022-07-23T10:35:05.679Z"
   },
   {
    "duration": 66,
    "start_time": "2022-07-23T10:35:05.887Z"
   },
   {
    "duration": 404,
    "start_time": "2022-07-23T10:35:05.956Z"
   },
   {
    "duration": 338,
    "start_time": "2022-07-23T10:35:06.362Z"
   },
   {
    "duration": 207,
    "start_time": "2022-07-23T10:35:06.707Z"
   },
   {
    "duration": 20,
    "start_time": "2022-07-23T10:35:06.923Z"
   },
   {
    "duration": 65,
    "start_time": "2022-07-23T10:35:06.951Z"
   },
   {
    "duration": 117,
    "start_time": "2022-07-23T10:35:07.018Z"
   },
   {
    "duration": 51,
    "start_time": "2022-07-23T10:35:07.140Z"
   },
   {
    "duration": 69,
    "start_time": "2022-07-23T10:35:07.194Z"
   },
   {
    "duration": 51,
    "start_time": "2022-07-23T10:35:07.265Z"
   },
   {
    "duration": 56,
    "start_time": "2022-07-23T10:35:07.320Z"
   },
   {
    "duration": 9,
    "start_time": "2022-07-23T10:35:07.379Z"
   },
   {
    "duration": 67,
    "start_time": "2022-07-23T10:35:07.391Z"
   },
   {
    "duration": 27,
    "start_time": "2022-07-23T10:35:07.461Z"
   },
   {
    "duration": 37,
    "start_time": "2022-07-23T10:35:07.491Z"
   },
   {
    "duration": 43,
    "start_time": "2022-07-23T10:35:07.530Z"
   },
   {
    "duration": 22,
    "start_time": "2022-07-23T10:35:07.575Z"
   },
   {
    "duration": 84,
    "start_time": "2022-07-23T10:35:07.600Z"
   },
   {
    "duration": 312,
    "start_time": "2022-07-23T10:35:07.686Z"
   },
   {
    "duration": 321,
    "start_time": "2022-07-23T10:35:08.001Z"
   },
   {
    "duration": 263,
    "start_time": "2022-07-23T10:35:08.323Z"
   },
   {
    "duration": 650,
    "start_time": "2022-07-23T10:35:08.588Z"
   },
   {
    "duration": 488,
    "start_time": "2022-07-23T10:35:09.250Z"
   },
   {
    "duration": 94,
    "start_time": "2022-07-23T10:35:09.742Z"
   },
   {
    "duration": 253,
    "start_time": "2022-07-23T10:35:09.838Z"
   },
   {
    "duration": 20,
    "start_time": "2022-07-23T10:35:10.093Z"
   },
   {
    "duration": 81,
    "start_time": "2022-07-23T10:35:10.140Z"
   },
   {
    "duration": 103995,
    "start_time": "2022-07-23T10:35:10.228Z"
   },
   {
    "duration": 284,
    "start_time": "2022-07-23T10:36:54.238Z"
   },
   {
    "duration": 80,
    "start_time": "2022-07-23T10:36:54.535Z"
   },
   {
    "duration": 25790,
    "start_time": "2022-07-23T10:37:48.454Z"
   },
   {
    "duration": 1977,
    "start_time": "2022-07-23T10:38:40.538Z"
   },
   {
    "duration": 486,
    "start_time": "2022-07-23T10:38:42.517Z"
   },
   {
    "duration": 373,
    "start_time": "2022-07-23T10:38:43.018Z"
   },
   {
    "duration": 134,
    "start_time": "2022-07-23T10:38:43.394Z"
   },
   {
    "duration": 18,
    "start_time": "2022-07-23T10:38:43.541Z"
   },
   {
    "duration": 21,
    "start_time": "2022-07-23T10:38:43.560Z"
   },
   {
    "duration": 9,
    "start_time": "2022-07-23T10:38:43.583Z"
   },
   {
    "duration": 176,
    "start_time": "2022-07-23T10:38:43.594Z"
   },
   {
    "duration": 195,
    "start_time": "2022-07-23T10:38:43.773Z"
   },
   {
    "duration": 54,
    "start_time": "2022-07-23T10:38:43.974Z"
   },
   {
    "duration": 385,
    "start_time": "2022-07-23T10:38:44.035Z"
   },
   {
    "duration": 349,
    "start_time": "2022-07-23T10:38:44.426Z"
   },
   {
    "duration": 204,
    "start_time": "2022-07-23T10:38:44.777Z"
   },
   {
    "duration": 22,
    "start_time": "2022-07-23T10:38:44.986Z"
   },
   {
    "duration": 125,
    "start_time": "2022-07-23T10:38:45.010Z"
   },
   {
    "duration": 160,
    "start_time": "2022-07-23T10:38:45.138Z"
   },
   {
    "duration": 79,
    "start_time": "2022-07-23T10:38:45.301Z"
   },
   {
    "duration": 28,
    "start_time": "2022-07-23T10:38:45.383Z"
   },
   {
    "duration": 72,
    "start_time": "2022-07-23T10:38:45.413Z"
   },
   {
    "duration": 13,
    "start_time": "2022-07-23T10:38:45.488Z"
   },
   {
    "duration": 10,
    "start_time": "2022-07-23T10:38:45.504Z"
   },
   {
    "duration": 58,
    "start_time": "2022-07-23T10:38:45.527Z"
   },
   {
    "duration": 12,
    "start_time": "2022-07-23T10:38:45.588Z"
   },
   {
    "duration": 56,
    "start_time": "2022-07-23T10:38:45.603Z"
   },
   {
    "duration": 9,
    "start_time": "2022-07-23T10:38:45.662Z"
   },
   {
    "duration": 7,
    "start_time": "2022-07-23T10:38:45.673Z"
   },
   {
    "duration": 19,
    "start_time": "2022-07-23T10:38:45.681Z"
   },
   {
    "duration": 370,
    "start_time": "2022-07-23T10:38:45.703Z"
   },
   {
    "duration": 275,
    "start_time": "2022-07-23T10:38:46.076Z"
   },
   {
    "duration": 282,
    "start_time": "2022-07-23T10:38:46.353Z"
   },
   {
    "duration": 789,
    "start_time": "2022-07-23T10:38:46.637Z"
   },
   {
    "duration": 704,
    "start_time": "2022-07-23T10:38:47.438Z"
   },
   {
    "duration": 98,
    "start_time": "2022-07-23T10:38:48.149Z"
   },
   {
    "duration": 370,
    "start_time": "2022-07-23T10:38:48.249Z"
   },
   {
    "duration": 16,
    "start_time": "2022-07-23T10:38:48.626Z"
   },
   {
    "duration": 42,
    "start_time": "2022-07-23T10:38:48.647Z"
   },
   {
    "duration": 105518,
    "start_time": "2022-07-23T10:38:48.691Z"
   },
   {
    "duration": 24896,
    "start_time": "2022-07-23T10:40:34.217Z"
   },
   {
    "duration": 5,
    "start_time": "2022-07-23T10:40:59.115Z"
   },
   {
    "duration": 21,
    "start_time": "2022-07-23T10:45:03.728Z"
   },
   {
    "duration": 5,
    "start_time": "2022-07-23T10:47:13.176Z"
   },
   {
    "duration": 8,
    "start_time": "2022-07-23T10:47:52.940Z"
   },
   {
    "duration": 5,
    "start_time": "2022-07-23T10:48:04.094Z"
   },
   {
    "duration": 9,
    "start_time": "2022-07-23T10:48:12.580Z"
   },
   {
    "duration": 11,
    "start_time": "2022-07-23T10:48:13.302Z"
   },
   {
    "duration": 135,
    "start_time": "2022-07-23T10:48:29.082Z"
   },
   {
    "duration": 7,
    "start_time": "2022-07-23T10:48:32.487Z"
   },
   {
    "duration": 12,
    "start_time": "2022-07-23T10:48:58.781Z"
   },
   {
    "duration": 1743,
    "start_time": "2022-07-23T10:49:06.289Z"
   },
   {
    "duration": 452,
    "start_time": "2022-07-23T10:49:08.035Z"
   },
   {
    "duration": 340,
    "start_time": "2022-07-23T10:49:08.489Z"
   },
   {
    "duration": 122,
    "start_time": "2022-07-23T10:49:08.833Z"
   },
   {
    "duration": 13,
    "start_time": "2022-07-23T10:49:08.957Z"
   },
   {
    "duration": 35,
    "start_time": "2022-07-23T10:49:08.972Z"
   },
   {
    "duration": 21,
    "start_time": "2022-07-23T10:49:09.012Z"
   },
   {
    "duration": 120,
    "start_time": "2022-07-23T10:49:09.036Z"
   },
   {
    "duration": 139,
    "start_time": "2022-07-23T10:49:09.158Z"
   },
   {
    "duration": 32,
    "start_time": "2022-07-23T10:49:09.303Z"
   },
   {
    "duration": 307,
    "start_time": "2022-07-23T10:49:09.336Z"
   },
   {
    "duration": 278,
    "start_time": "2022-07-23T10:49:09.647Z"
   },
   {
    "duration": 151,
    "start_time": "2022-07-23T10:49:09.927Z"
   },
   {
    "duration": 7,
    "start_time": "2022-07-23T10:49:10.080Z"
   },
   {
    "duration": 7,
    "start_time": "2022-07-23T10:49:10.104Z"
   },
   {
    "duration": 63,
    "start_time": "2022-07-23T10:49:10.113Z"
   },
   {
    "duration": 7,
    "start_time": "2022-07-23T10:49:10.177Z"
   },
   {
    "duration": 7,
    "start_time": "2022-07-23T10:49:10.186Z"
   },
   {
    "duration": 30,
    "start_time": "2022-07-23T10:49:10.195Z"
   },
   {
    "duration": 29,
    "start_time": "2022-07-23T10:49:10.226Z"
   },
   {
    "duration": 5,
    "start_time": "2022-07-23T10:49:10.258Z"
   },
   {
    "duration": 18,
    "start_time": "2022-07-23T10:49:10.265Z"
   },
   {
    "duration": 8,
    "start_time": "2022-07-23T10:49:10.285Z"
   },
   {
    "duration": 24,
    "start_time": "2022-07-23T10:49:10.295Z"
   },
   {
    "duration": 17,
    "start_time": "2022-07-23T10:49:10.327Z"
   },
   {
    "duration": 3,
    "start_time": "2022-07-23T10:49:10.346Z"
   },
   {
    "duration": 7,
    "start_time": "2022-07-23T10:49:10.350Z"
   },
   {
    "duration": 237,
    "start_time": "2022-07-23T10:49:10.361Z"
   },
   {
    "duration": 252,
    "start_time": "2022-07-23T10:49:10.600Z"
   },
   {
    "duration": 255,
    "start_time": "2022-07-23T10:49:10.854Z"
   },
   {
    "duration": 673,
    "start_time": "2022-07-23T10:49:11.113Z"
   },
   {
    "duration": 533,
    "start_time": "2022-07-23T10:49:11.788Z"
   },
   {
    "duration": 99,
    "start_time": "2022-07-23T10:49:12.323Z"
   },
   {
    "duration": 230,
    "start_time": "2022-07-23T10:49:12.424Z"
   },
   {
    "duration": 7,
    "start_time": "2022-07-23T10:49:12.656Z"
   },
   {
    "duration": 8,
    "start_time": "2022-07-23T10:49:12.665Z"
   },
   {
    "duration": 134366,
    "start_time": "2022-07-23T10:49:12.675Z"
   },
   {
    "duration": 201,
    "start_time": "2022-07-23T10:51:27.106Z"
   },
   {
    "duration": 40,
    "start_time": "2022-07-23T10:51:27.310Z"
   },
   {
    "duration": 75,
    "start_time": "2022-07-23T10:51:27.353Z"
   },
   {
    "duration": 568,
    "start_time": "2022-07-23T10:51:58.602Z"
   },
   {
    "duration": 37622,
    "start_time": "2022-07-23T10:52:06.969Z"
   },
   {
    "duration": 64,
    "start_time": "2022-07-23T10:52:56.458Z"
   },
   {
    "duration": 383,
    "start_time": "2022-07-23T10:53:28.477Z"
   },
   {
    "duration": 4,
    "start_time": "2022-07-23T10:53:43.793Z"
   },
   {
    "duration": 161,
    "start_time": "2022-07-23T10:53:48.473Z"
   },
   {
    "duration": 17,
    "start_time": "2022-07-23T10:53:49.878Z"
   },
   {
    "duration": 51,
    "start_time": "2022-07-23T10:56:01.929Z"
   },
   {
    "duration": 55,
    "start_time": "2022-07-23T10:56:28.109Z"
   },
   {
    "duration": 1672,
    "start_time": "2022-07-23T10:57:15.232Z"
   },
   {
    "duration": 462,
    "start_time": "2022-07-23T10:57:16.917Z"
   },
   {
    "duration": 350,
    "start_time": "2022-07-23T10:57:17.381Z"
   },
   {
    "duration": 107,
    "start_time": "2022-07-23T10:57:17.732Z"
   },
   {
    "duration": 14,
    "start_time": "2022-07-23T10:57:17.841Z"
   },
   {
    "duration": 10,
    "start_time": "2022-07-23T10:57:17.857Z"
   },
   {
    "duration": 36,
    "start_time": "2022-07-23T10:57:17.869Z"
   },
   {
    "duration": 130,
    "start_time": "2022-07-23T10:57:17.908Z"
   },
   {
    "duration": 160,
    "start_time": "2022-07-23T10:57:18.040Z"
   },
   {
    "duration": 45,
    "start_time": "2022-07-23T10:57:18.203Z"
   },
   {
    "duration": 331,
    "start_time": "2022-07-23T10:57:18.251Z"
   },
   {
    "duration": 296,
    "start_time": "2022-07-23T10:57:18.584Z"
   },
   {
    "duration": 167,
    "start_time": "2022-07-23T10:57:18.882Z"
   },
   {
    "duration": 7,
    "start_time": "2022-07-23T10:57:19.052Z"
   },
   {
    "duration": 11,
    "start_time": "2022-07-23T10:57:19.060Z"
   },
   {
    "duration": 16,
    "start_time": "2022-07-23T10:57:19.073Z"
   },
   {
    "duration": 21,
    "start_time": "2022-07-23T10:57:19.090Z"
   },
   {
    "duration": 30,
    "start_time": "2022-07-23T10:57:19.114Z"
   },
   {
    "duration": 9,
    "start_time": "2022-07-23T10:57:19.146Z"
   },
   {
    "duration": 11,
    "start_time": "2022-07-23T10:57:19.156Z"
   },
   {
    "duration": 6,
    "start_time": "2022-07-23T10:57:19.169Z"
   },
   {
    "duration": 17,
    "start_time": "2022-07-23T10:57:19.177Z"
   },
   {
    "duration": 23,
    "start_time": "2022-07-23T10:57:19.196Z"
   },
   {
    "duration": 23,
    "start_time": "2022-07-23T10:57:19.226Z"
   },
   {
    "duration": 8,
    "start_time": "2022-07-23T10:57:19.251Z"
   },
   {
    "duration": 4,
    "start_time": "2022-07-23T10:57:19.260Z"
   },
   {
    "duration": 10,
    "start_time": "2022-07-23T10:57:19.266Z"
   },
   {
    "duration": 284,
    "start_time": "2022-07-23T10:57:19.278Z"
   },
   {
    "duration": 242,
    "start_time": "2022-07-23T10:57:19.563Z"
   },
   {
    "duration": 249,
    "start_time": "2022-07-23T10:57:19.808Z"
   },
   {
    "duration": 1177,
    "start_time": "2022-07-23T10:57:20.059Z"
   },
   {
    "duration": 1005,
    "start_time": "2022-07-23T10:57:21.238Z"
   },
   {
    "duration": 199,
    "start_time": "2022-07-23T10:57:22.245Z"
   },
   {
    "duration": 584,
    "start_time": "2022-07-23T10:57:22.446Z"
   },
   {
    "duration": 7,
    "start_time": "2022-07-23T10:57:23.033Z"
   },
   {
    "duration": 17,
    "start_time": "2022-07-23T10:57:23.043Z"
   },
   {
    "duration": 107,
    "start_time": "2022-07-23T10:57:23.105Z"
   },
   {
    "duration": 15486,
    "start_time": "2022-07-23T10:57:23.215Z"
   },
   {
    "duration": 0,
    "start_time": "2022-07-23T10:57:38.703Z"
   },
   {
    "duration": 0,
    "start_time": "2022-07-23T10:57:38.705Z"
   },
   {
    "duration": 0,
    "start_time": "2022-07-23T10:57:38.707Z"
   },
   {
    "duration": 8,
    "start_time": "2022-07-23T10:57:40.932Z"
   },
   {
    "duration": 10,
    "start_time": "2022-07-23T10:57:49.300Z"
   },
   {
    "duration": 50,
    "start_time": "2022-07-23T10:58:17.090Z"
   },
   {
    "duration": 7,
    "start_time": "2022-07-23T10:58:40.958Z"
   },
   {
    "duration": 9,
    "start_time": "2022-07-23T10:58:51.350Z"
   },
   {
    "duration": 13,
    "start_time": "2022-07-23T10:58:51.862Z"
   },
   {
    "duration": 30,
    "start_time": "2022-07-23T10:58:53.879Z"
   },
   {
    "duration": 3,
    "start_time": "2022-07-23T10:58:58.486Z"
   },
   {
    "duration": 501,
    "start_time": "2022-07-23T10:58:59.361Z"
   },
   {
    "duration": 371,
    "start_time": "2022-07-23T10:58:59.864Z"
   },
   {
    "duration": 108,
    "start_time": "2022-07-23T10:59:00.239Z"
   },
   {
    "duration": 16,
    "start_time": "2022-07-23T10:59:00.376Z"
   },
   {
    "duration": 14,
    "start_time": "2022-07-23T10:59:00.563Z"
   },
   {
    "duration": 10,
    "start_time": "2022-07-23T10:59:00.734Z"
   },
   {
    "duration": 127,
    "start_time": "2022-07-23T10:59:01.087Z"
   },
   {
    "duration": 138,
    "start_time": "2022-07-23T10:59:01.263Z"
   },
   {
    "duration": 30,
    "start_time": "2022-07-23T10:59:01.465Z"
   },
   {
    "duration": 310,
    "start_time": "2022-07-23T10:59:01.824Z"
   },
   {
    "duration": 293,
    "start_time": "2022-07-23T10:59:02.141Z"
   },
   {
    "duration": 149,
    "start_time": "2022-07-23T10:59:02.438Z"
   },
   {
    "duration": 21,
    "start_time": "2022-07-23T10:59:02.589Z"
   },
   {
    "duration": 4,
    "start_time": "2022-07-23T10:59:03.488Z"
   },
   {
    "duration": 20,
    "start_time": "2022-07-23T10:59:03.675Z"
   },
   {
    "duration": 5,
    "start_time": "2022-07-23T10:59:03.866Z"
   },
   {
    "duration": 5,
    "start_time": "2022-07-23T10:59:04.684Z"
   },
   {
    "duration": 15,
    "start_time": "2022-07-23T10:59:06.801Z"
   },
   {
    "duration": 16,
    "start_time": "2022-07-23T10:59:07.329Z"
   },
   {
    "duration": 5,
    "start_time": "2022-07-23T10:59:07.891Z"
   },
   {
    "duration": 15,
    "start_time": "2022-07-23T10:59:09.960Z"
   },
   {
    "duration": 7,
    "start_time": "2022-07-23T10:59:11.179Z"
   },
   {
    "duration": 25,
    "start_time": "2022-07-23T10:59:13.305Z"
   },
   {
    "duration": 20,
    "start_time": "2022-07-23T10:59:14.772Z"
   },
   {
    "duration": 10,
    "start_time": "2022-07-23T10:59:40.164Z"
   },
   {
    "duration": 29,
    "start_time": "2022-07-23T10:59:45.855Z"
   },
   {
    "duration": 12,
    "start_time": "2022-07-23T10:59:55.603Z"
   },
   {
    "duration": 1897,
    "start_time": "2022-07-23T11:00:06.113Z"
   },
   {
    "duration": 829,
    "start_time": "2022-07-23T11:00:08.012Z"
   },
   {
    "duration": 865,
    "start_time": "2022-07-23T11:00:08.843Z"
   },
   {
    "duration": 211,
    "start_time": "2022-07-23T11:00:09.712Z"
   },
   {
    "duration": 15,
    "start_time": "2022-07-23T11:00:09.925Z"
   },
   {
    "duration": 66,
    "start_time": "2022-07-23T11:00:09.942Z"
   },
   {
    "duration": 27,
    "start_time": "2022-07-23T11:00:10.009Z"
   },
   {
    "duration": 279,
    "start_time": "2022-07-23T11:00:10.038Z"
   },
   {
    "duration": 411,
    "start_time": "2022-07-23T11:00:10.325Z"
   },
   {
    "duration": 98,
    "start_time": "2022-07-23T11:00:10.740Z"
   },
   {
    "duration": 673,
    "start_time": "2022-07-23T11:00:10.840Z"
   },
   {
    "duration": 598,
    "start_time": "2022-07-23T11:00:11.516Z"
   },
   {
    "duration": 317,
    "start_time": "2022-07-23T11:00:12.115Z"
   },
   {
    "duration": 9,
    "start_time": "2022-07-23T11:00:12.434Z"
   },
   {
    "duration": 62,
    "start_time": "2022-07-23T11:00:12.445Z"
   },
   {
    "duration": 42,
    "start_time": "2022-07-23T11:00:12.514Z"
   },
   {
    "duration": 46,
    "start_time": "2022-07-23T11:00:12.559Z"
   },
   {
    "duration": 19,
    "start_time": "2022-07-23T11:00:12.613Z"
   },
   {
    "duration": 29,
    "start_time": "2022-07-23T11:00:12.634Z"
   },
   {
    "duration": 61,
    "start_time": "2022-07-23T11:00:12.665Z"
   },
   {
    "duration": 14,
    "start_time": "2022-07-23T11:00:12.729Z"
   },
   {
    "duration": 67,
    "start_time": "2022-07-23T11:00:12.746Z"
   },
   {
    "duration": 11,
    "start_time": "2022-07-23T11:00:12.815Z"
   },
   {
    "duration": 20,
    "start_time": "2022-07-23T11:00:12.829Z"
   },
   {
    "duration": 57,
    "start_time": "2022-07-23T11:00:12.851Z"
   },
   {
    "duration": 37,
    "start_time": "2022-07-23T11:00:12.909Z"
   },
   {
    "duration": 20,
    "start_time": "2022-07-23T11:00:12.948Z"
   },
   {
    "duration": 694,
    "start_time": "2022-07-23T11:00:12.972Z"
   },
   {
    "duration": 246,
    "start_time": "2022-07-23T11:00:13.668Z"
   },
   {
    "duration": 240,
    "start_time": "2022-07-23T11:00:13.918Z"
   },
   {
    "duration": 597,
    "start_time": "2022-07-23T11:00:14.160Z"
   },
   {
    "duration": 568,
    "start_time": "2022-07-23T11:00:14.759Z"
   },
   {
    "duration": 99,
    "start_time": "2022-07-23T11:00:15.329Z"
   },
   {
    "duration": 247,
    "start_time": "2022-07-23T11:00:15.431Z"
   },
   {
    "duration": 6,
    "start_time": "2022-07-23T11:00:15.680Z"
   },
   {
    "duration": 42,
    "start_time": "2022-07-23T11:00:15.688Z"
   },
   {
    "duration": 160187,
    "start_time": "2022-07-23T11:00:15.733Z"
   },
   {
    "duration": 123788,
    "start_time": "2022-07-23T11:02:55.923Z"
   },
   {
    "duration": 300,
    "start_time": "2022-07-23T11:04:59.803Z"
   },
   {
    "duration": 31,
    "start_time": "2022-07-23T11:05:00.105Z"
   },
   {
    "duration": 164,
    "start_time": "2022-07-23T11:07:18.956Z"
   },
   {
    "duration": 14,
    "start_time": "2022-07-23T11:07:20.331Z"
   },
   {
    "duration": 206,
    "start_time": "2022-07-23T11:07:39.002Z"
   },
   {
    "duration": 314,
    "start_time": "2022-07-23T11:08:16.721Z"
   },
   {
    "duration": 12,
    "start_time": "2022-07-23T11:08:46.354Z"
   },
   {
    "duration": 32378,
    "start_time": "2022-07-23T11:12:43.680Z"
   },
   {
    "duration": 12,
    "start_time": "2022-07-23T11:13:16.060Z"
   },
   {
    "duration": 43476,
    "start_time": "2022-07-23T11:13:16.075Z"
   },
   {
    "duration": 13,
    "start_time": "2022-07-23T11:13:59.553Z"
   },
   {
    "duration": 237,
    "start_time": "2022-07-23T11:13:59.568Z"
   },
   {
    "duration": 17,
    "start_time": "2022-07-23T11:13:59.807Z"
   },
   {
    "duration": 222,
    "start_time": "2022-07-23T11:14:04.288Z"
   },
   {
    "duration": 23,
    "start_time": "2022-07-23T11:14:04.607Z"
   },
   {
    "duration": 83,
    "start_time": "2022-07-23T11:17:00.462Z"
   },
   {
    "duration": 4606,
    "start_time": "2022-07-23T15:40:21.912Z"
   },
   {
    "duration": 571,
    "start_time": "2022-07-23T15:40:26.524Z"
   },
   {
    "duration": 1962,
    "start_time": "2022-07-23T15:40:27.099Z"
   },
   {
    "duration": 311,
    "start_time": "2022-07-23T15:40:29.063Z"
   },
   {
    "duration": 16,
    "start_time": "2022-07-23T15:40:29.377Z"
   },
   {
    "duration": 13,
    "start_time": "2022-07-23T15:40:29.395Z"
   },
   {
    "duration": 10,
    "start_time": "2022-07-23T15:40:29.410Z"
   },
   {
    "duration": 180,
    "start_time": "2022-07-23T15:40:29.424Z"
   },
   {
    "duration": 198,
    "start_time": "2022-07-23T15:40:29.608Z"
   },
   {
    "duration": 45,
    "start_time": "2022-07-23T15:40:29.808Z"
   },
   {
    "duration": 373,
    "start_time": "2022-07-23T15:40:29.856Z"
   },
   {
    "duration": 336,
    "start_time": "2022-07-23T15:40:30.231Z"
   },
   {
    "duration": 203,
    "start_time": "2022-07-23T15:40:30.569Z"
   },
   {
    "duration": 9,
    "start_time": "2022-07-23T15:40:30.776Z"
   },
   {
    "duration": 63,
    "start_time": "2022-07-23T15:40:30.788Z"
   },
   {
    "duration": 40,
    "start_time": "2022-07-23T15:40:30.854Z"
   },
   {
    "duration": 8,
    "start_time": "2022-07-23T15:40:30.896Z"
   },
   {
    "duration": 55,
    "start_time": "2022-07-23T15:40:30.906Z"
   },
   {
    "duration": 27,
    "start_time": "2022-07-23T15:40:30.963Z"
   },
   {
    "duration": 82,
    "start_time": "2022-07-23T15:40:30.992Z"
   },
   {
    "duration": 31,
    "start_time": "2022-07-23T15:40:31.076Z"
   },
   {
    "duration": 68,
    "start_time": "2022-07-23T15:40:31.109Z"
   },
   {
    "duration": 13,
    "start_time": "2022-07-23T15:40:31.179Z"
   },
   {
    "duration": 35,
    "start_time": "2022-07-23T15:40:31.194Z"
   },
   {
    "duration": 48,
    "start_time": "2022-07-23T15:40:31.231Z"
   },
   {
    "duration": 11,
    "start_time": "2022-07-23T15:40:31.282Z"
   },
   {
    "duration": 57,
    "start_time": "2022-07-23T15:40:31.296Z"
   },
   {
    "duration": 318,
    "start_time": "2022-07-23T15:40:31.358Z"
   },
   {
    "duration": 304,
    "start_time": "2022-07-23T15:40:31.679Z"
   },
   {
    "duration": 365,
    "start_time": "2022-07-23T15:40:31.986Z"
   },
   {
    "duration": 727,
    "start_time": "2022-07-23T15:40:32.354Z"
   },
   {
    "duration": 638,
    "start_time": "2022-07-23T15:40:33.083Z"
   },
   {
    "duration": 108,
    "start_time": "2022-07-23T15:40:33.723Z"
   },
   {
    "duration": 298,
    "start_time": "2022-07-23T15:40:33.834Z"
   },
   {
    "duration": 7,
    "start_time": "2022-07-23T15:40:34.134Z"
   },
   {
    "duration": 44,
    "start_time": "2022-07-23T15:40:34.143Z"
   },
   {
    "duration": 15,
    "start_time": "2022-07-23T15:41:02.584Z"
   },
   {
    "duration": 4,
    "start_time": "2022-07-23T15:42:27.171Z"
   },
   {
    "duration": 212,
    "start_time": "2022-07-23T15:42:54.359Z"
   },
   {
    "duration": 9,
    "start_time": "2022-07-24T10:35:21.372Z"
   },
   {
    "duration": 1672,
    "start_time": "2022-07-24T10:35:26.756Z"
   },
   {
    "duration": 1731,
    "start_time": "2022-07-24T10:35:28.430Z"
   },
   {
    "duration": 831,
    "start_time": "2022-07-24T10:35:30.162Z"
   },
   {
    "duration": 361,
    "start_time": "2022-07-24T10:35:30.995Z"
   },
   {
    "duration": 12,
    "start_time": "2022-07-24T10:35:31.358Z"
   },
   {
    "duration": 15,
    "start_time": "2022-07-24T10:35:31.371Z"
   },
   {
    "duration": 21,
    "start_time": "2022-07-24T10:35:31.388Z"
   },
   {
    "duration": 113,
    "start_time": "2022-07-24T10:35:31.411Z"
   },
   {
    "duration": 137,
    "start_time": "2022-07-24T10:35:31.526Z"
   },
   {
    "duration": 23,
    "start_time": "2022-07-24T10:35:31.666Z"
   },
   {
    "duration": 263,
    "start_time": "2022-07-24T10:35:31.691Z"
   },
   {
    "duration": 240,
    "start_time": "2022-07-24T10:35:31.955Z"
   },
   {
    "duration": 129,
    "start_time": "2022-07-24T10:35:32.196Z"
   },
   {
    "duration": 8,
    "start_time": "2022-07-24T10:35:32.326Z"
   },
   {
    "duration": 8,
    "start_time": "2022-07-24T10:35:32.346Z"
   },
   {
    "duration": 20,
    "start_time": "2022-07-24T10:35:32.356Z"
   },
   {
    "duration": 10,
    "start_time": "2022-07-24T10:35:32.378Z"
   },
   {
    "duration": 11,
    "start_time": "2022-07-24T10:35:32.390Z"
   },
   {
    "duration": 38,
    "start_time": "2022-07-24T10:35:32.403Z"
   },
   {
    "duration": 21,
    "start_time": "2022-07-24T10:35:32.443Z"
   },
   {
    "duration": 20,
    "start_time": "2022-07-24T10:35:32.466Z"
   },
   {
    "duration": 31,
    "start_time": "2022-07-24T10:35:32.488Z"
   },
   {
    "duration": 11,
    "start_time": "2022-07-24T10:35:32.521Z"
   },
   {
    "duration": 19,
    "start_time": "2022-07-24T10:35:32.534Z"
   },
   {
    "duration": 12,
    "start_time": "2022-07-24T10:35:32.555Z"
   },
   {
    "duration": 16,
    "start_time": "2022-07-24T10:35:32.569Z"
   },
   {
    "duration": 15,
    "start_time": "2022-07-24T10:35:32.586Z"
   },
   {
    "duration": 199,
    "start_time": "2022-07-24T10:35:32.604Z"
   },
   {
    "duration": 185,
    "start_time": "2022-07-24T10:35:32.804Z"
   },
   {
    "duration": 279,
    "start_time": "2022-07-24T10:35:32.991Z"
   },
   {
    "duration": 482,
    "start_time": "2022-07-24T10:35:33.271Z"
   },
   {
    "duration": 443,
    "start_time": "2022-07-24T10:35:33.755Z"
   },
   {
    "duration": 92,
    "start_time": "2022-07-24T10:35:34.200Z"
   },
   {
    "duration": 187,
    "start_time": "2022-07-24T10:35:34.293Z"
   },
   {
    "duration": 5,
    "start_time": "2022-07-24T10:35:34.482Z"
   },
   {
    "duration": 21,
    "start_time": "2022-07-24T10:35:34.488Z"
   },
   {
    "duration": 147442,
    "start_time": "2022-07-24T10:35:34.510Z"
   },
   {
    "duration": 109409,
    "start_time": "2022-07-24T10:38:02.045Z"
   },
   {
    "duration": 298,
    "start_time": "2022-07-24T10:39:51.549Z"
   },
   {
    "duration": 13,
    "start_time": "2022-07-24T10:39:51.849Z"
   },
   {
    "duration": 289,
    "start_time": "2022-07-24T10:39:51.864Z"
   },
   {
    "duration": 11,
    "start_time": "2022-07-24T10:39:52.155Z"
   },
   {
    "duration": 72,
    "start_time": "2022-07-24T10:44:55.056Z"
   },
   {
    "duration": 167,
    "start_time": "2022-07-24T10:44:55.595Z"
   },
   {
    "duration": 8,
    "start_time": "2022-07-24T10:45:18.329Z"
   },
   {
    "duration": 186,
    "start_time": "2022-07-24T10:45:26.037Z"
   },
   {
    "duration": 21,
    "start_time": "2022-07-24T10:46:10.134Z"
   },
   {
    "duration": 169,
    "start_time": "2022-07-24T10:46:15.613Z"
   },
   {
    "duration": 5,
    "start_time": "2022-07-24T10:53:02.977Z"
   },
   {
    "duration": 114,
    "start_time": "2022-07-24T10:53:12.213Z"
   },
   {
    "duration": 4,
    "start_time": "2022-07-24T10:53:41.074Z"
   },
   {
    "duration": 5,
    "start_time": "2022-07-24T10:53:46.220Z"
   },
   {
    "duration": 6,
    "start_time": "2022-07-24T10:53:49.373Z"
   },
   {
    "duration": 192,
    "start_time": "2022-07-24T10:59:26.155Z"
   },
   {
    "duration": 5,
    "start_time": "2022-07-24T11:01:38.013Z"
   },
   {
    "duration": 149039,
    "start_time": "2022-07-24T11:01:43.115Z"
   },
   {
    "duration": 148186,
    "start_time": "2022-07-24T11:06:57.969Z"
   },
   {
    "duration": 109701,
    "start_time": "2022-07-24T11:09:48.753Z"
   },
   {
    "duration": 205,
    "start_time": "2022-07-24T11:11:38.547Z"
   },
   {
    "duration": 9,
    "start_time": "2022-07-24T11:11:38.845Z"
   },
   {
    "duration": 193,
    "start_time": "2022-07-24T11:11:38.856Z"
   },
   {
    "duration": 6,
    "start_time": "2022-07-24T11:11:39.051Z"
   },
   {
    "duration": 63702,
    "start_time": "2022-07-24T11:48:57.022Z"
   },
   {
    "duration": 3,
    "start_time": "2022-07-24T11:50:12.759Z"
   },
   {
    "duration": 9,
    "start_time": "2022-07-24T11:50:19.596Z"
   },
   {
    "duration": 4,
    "start_time": "2022-07-24T11:50:39.790Z"
   },
   {
    "duration": 64714,
    "start_time": "2022-07-24T11:51:09.670Z"
   },
   {
    "duration": 2,
    "start_time": "2022-07-24T11:52:14.387Z"
   },
   {
    "duration": 3,
    "start_time": "2022-07-24T11:52:33.620Z"
   },
   {
    "duration": 652023,
    "start_time": "2022-07-24T11:55:10.756Z"
   },
   {
    "duration": 3,
    "start_time": "2022-07-24T12:06:02.781Z"
   },
   {
    "duration": 10,
    "start_time": "2022-07-24T12:06:02.786Z"
   },
   {
    "duration": 4,
    "start_time": "2022-07-24T12:06:39.170Z"
   },
   {
    "duration": 607738,
    "start_time": "2022-07-24T12:06:54.445Z"
   },
   {
    "duration": 4,
    "start_time": "2022-07-24T12:17:02.185Z"
   },
   {
    "duration": 49,
    "start_time": "2022-07-24T12:17:02.191Z"
   },
   {
    "duration": 18,
    "start_time": "2022-07-24T12:17:02.241Z"
   },
   {
    "duration": 528873,
    "start_time": "2022-07-24T12:17:47.858Z"
   },
   {
    "duration": 3,
    "start_time": "2022-07-24T12:26:36.733Z"
   },
   {
    "duration": 8,
    "start_time": "2022-07-24T12:26:36.738Z"
   },
   {
    "duration": 7,
    "start_time": "2022-07-24T12:26:36.749Z"
   },
   {
    "duration": 4,
    "start_time": "2022-07-24T12:27:02.668Z"
   },
   {
    "duration": 311315,
    "start_time": "2022-07-24T12:32:05.906Z"
   },
   {
    "duration": 4,
    "start_time": "2022-07-24T12:37:17.222Z"
   },
   {
    "duration": 8,
    "start_time": "2022-07-24T12:37:17.227Z"
   },
   {
    "duration": 142843,
    "start_time": "2022-07-24T12:38:52.331Z"
   },
   {
    "duration": 3,
    "start_time": "2022-07-24T12:41:15.176Z"
   },
   {
    "duration": 7,
    "start_time": "2022-07-24T12:41:15.180Z"
   },
   {
    "duration": 4,
    "start_time": "2022-07-24T12:44:11.142Z"
   },
   {
    "duration": 3642,
    "start_time": "2022-07-24T12:44:29.185Z"
   },
   {
    "duration": 303274,
    "start_time": "2022-07-24T12:44:37.042Z"
   },
   {
    "duration": 3,
    "start_time": "2022-07-24T12:49:51.561Z"
   },
   {
    "duration": 4,
    "start_time": "2022-07-24T12:49:54.244Z"
   },
   {
    "duration": 227322,
    "start_time": "2022-07-24T12:52:30.515Z"
   },
   {
    "duration": 4,
    "start_time": "2022-07-24T12:58:05.050Z"
   },
   {
    "duration": 3,
    "start_time": "2022-07-24T12:58:21.038Z"
   },
   {
    "duration": 3866,
    "start_time": "2022-07-24T12:59:57.249Z"
   },
   {
    "duration": 974,
    "start_time": "2022-07-24T13:08:42.971Z"
   },
   {
    "duration": 867,
    "start_time": "2022-07-24T13:08:59.781Z"
   },
   {
    "duration": 983,
    "start_time": "2022-07-24T13:09:15.763Z"
   },
   {
    "duration": 699,
    "start_time": "2022-07-24T13:09:24.956Z"
   },
   {
    "duration": 656,
    "start_time": "2022-07-24T13:09:35.992Z"
   },
   {
    "duration": 944,
    "start_time": "2022-07-24T13:09:40.204Z"
   },
   {
    "duration": 630,
    "start_time": "2022-07-24T13:10:03.319Z"
   },
   {
    "duration": 5625,
    "start_time": "2022-07-24T13:12:45.908Z"
   },
   {
    "duration": 0,
    "start_time": "2022-07-24T13:12:51.535Z"
   },
   {
    "duration": 10,
    "start_time": "2022-07-24T13:12:52.846Z"
   },
   {
    "duration": 5703,
    "start_time": "2022-07-24T13:12:53.690Z"
   },
   {
    "duration": 12,
    "start_time": "2022-07-24T13:13:07.115Z"
   },
   {
    "duration": 3,
    "start_time": "2022-07-24T13:13:18.014Z"
   },
   {
    "duration": 8511,
    "start_time": "2022-07-24T13:13:19.336Z"
   },
   {
    "duration": 6484,
    "start_time": "2022-07-24T13:19:41.965Z"
   },
   {
    "duration": 6469,
    "start_time": "2022-07-24T13:20:16.783Z"
   },
   {
    "duration": 21,
    "start_time": "2022-07-24T13:21:59.904Z"
   },
   {
    "duration": 5,
    "start_time": "2022-07-24T13:22:00.748Z"
   },
   {
    "duration": 25,
    "start_time": "2022-07-24T13:22:03.150Z"
   },
   {
    "duration": 5,
    "start_time": "2022-07-24T13:22:03.911Z"
   },
   {
    "duration": 24,
    "start_time": "2022-07-24T13:23:28.364Z"
   },
   {
    "duration": 29,
    "start_time": "2022-07-24T13:23:56.166Z"
   },
   {
    "duration": 24,
    "start_time": "2022-07-24T13:24:57.011Z"
   },
   {
    "duration": 28,
    "start_time": "2022-07-24T13:25:00.044Z"
   },
   {
    "duration": 9,
    "start_time": "2022-07-24T13:25:30.323Z"
   },
   {
    "duration": 35,
    "start_time": "2022-07-24T13:25:33.865Z"
   },
   {
    "duration": 8,
    "start_time": "2022-07-24T13:25:34.437Z"
   },
   {
    "duration": 4,
    "start_time": "2022-07-24T13:26:36.315Z"
   },
   {
    "duration": 4,
    "start_time": "2022-07-24T13:26:41.472Z"
   },
   {
    "duration": 5,
    "start_time": "2022-07-24T13:27:14.792Z"
   },
   {
    "duration": 5,
    "start_time": "2022-07-24T13:27:33.975Z"
   },
   {
    "duration": 5,
    "start_time": "2022-07-24T13:27:44.564Z"
   },
   {
    "duration": 6,
    "start_time": "2022-07-24T13:27:45.632Z"
   },
   {
    "duration": 4,
    "start_time": "2022-07-24T13:28:51.671Z"
   },
   {
    "duration": 4,
    "start_time": "2022-07-24T13:29:14.635Z"
   },
   {
    "duration": 4,
    "start_time": "2022-07-24T13:30:00.734Z"
   },
   {
    "duration": 3,
    "start_time": "2022-07-24T13:30:04.697Z"
   },
   {
    "duration": 1319,
    "start_time": "2022-07-24T13:30:37.398Z"
   },
   {
    "duration": 447,
    "start_time": "2022-07-24T13:30:38.719Z"
   },
   {
    "duration": 268,
    "start_time": "2022-07-24T13:30:39.168Z"
   },
   {
    "duration": 96,
    "start_time": "2022-07-24T13:30:39.439Z"
   },
   {
    "duration": 20,
    "start_time": "2022-07-24T13:30:39.537Z"
   },
   {
    "duration": 10,
    "start_time": "2022-07-24T13:30:39.559Z"
   },
   {
    "duration": 21,
    "start_time": "2022-07-24T13:30:39.571Z"
   },
   {
    "duration": 113,
    "start_time": "2022-07-24T13:30:39.594Z"
   },
   {
    "duration": 136,
    "start_time": "2022-07-24T13:30:39.709Z"
   },
   {
    "duration": 24,
    "start_time": "2022-07-24T13:30:39.849Z"
   },
   {
    "duration": 255,
    "start_time": "2022-07-24T13:30:39.875Z"
   },
   {
    "duration": 215,
    "start_time": "2022-07-24T13:30:40.132Z"
   },
   {
    "duration": 123,
    "start_time": "2022-07-24T13:30:40.348Z"
   },
   {
    "duration": 7,
    "start_time": "2022-07-24T13:30:40.473Z"
   },
   {
    "duration": 12,
    "start_time": "2022-07-24T13:30:40.482Z"
   },
   {
    "duration": 19,
    "start_time": "2022-07-24T13:30:40.495Z"
   },
   {
    "duration": 4,
    "start_time": "2022-07-24T13:30:40.516Z"
   },
   {
    "duration": 8,
    "start_time": "2022-07-24T13:30:40.521Z"
   },
   {
    "duration": 7,
    "start_time": "2022-07-24T13:30:40.545Z"
   },
   {
    "duration": 10,
    "start_time": "2022-07-24T13:30:40.553Z"
   },
   {
    "duration": 4,
    "start_time": "2022-07-24T13:30:40.565Z"
   },
   {
    "duration": 19,
    "start_time": "2022-07-24T13:30:40.570Z"
   },
   {
    "duration": 8,
    "start_time": "2022-07-24T13:30:40.590Z"
   },
   {
    "duration": 16,
    "start_time": "2022-07-24T13:30:40.600Z"
   },
   {
    "duration": 31,
    "start_time": "2022-07-24T13:30:40.617Z"
   },
   {
    "duration": 8,
    "start_time": "2022-07-24T13:30:40.650Z"
   },
   {
    "duration": 9,
    "start_time": "2022-07-24T13:30:40.659Z"
   },
   {
    "duration": 197,
    "start_time": "2022-07-24T13:30:40.672Z"
   },
   {
    "duration": 179,
    "start_time": "2022-07-24T13:30:40.871Z"
   },
   {
    "duration": 196,
    "start_time": "2022-07-24T13:30:41.052Z"
   },
   {
    "duration": 520,
    "start_time": "2022-07-24T13:30:41.250Z"
   },
   {
    "duration": 440,
    "start_time": "2022-07-24T13:30:41.771Z"
   },
   {
    "duration": 98,
    "start_time": "2022-07-24T13:30:42.214Z"
   },
   {
    "duration": 191,
    "start_time": "2022-07-24T13:30:42.313Z"
   },
   {
    "duration": 27,
    "start_time": "2022-07-24T13:30:42.506Z"
   },
   {
    "duration": 197,
    "start_time": "2022-07-24T13:30:42.535Z"
   },
   {
    "duration": 4,
    "start_time": "2022-07-24T13:30:42.733Z"
   },
   {
    "duration": 3,
    "start_time": "2022-07-24T13:30:42.746Z"
   },
   {
    "duration": 145397,
    "start_time": "2022-07-24T13:30:42.750Z"
   },
   {
    "duration": 800,
    "start_time": "2022-07-24T13:33:08.149Z"
   },
   {
    "duration": 4,
    "start_time": "2022-07-24T13:33:08.951Z"
   },
   {
    "duration": 8297,
    "start_time": "2022-07-24T13:33:09.048Z"
   },
   {
    "duration": 6398,
    "start_time": "2022-07-24T13:33:17.349Z"
   },
   {
    "duration": 108,
    "start_time": "2022-07-24T13:33:23.750Z"
   },
   {
    "duration": 190,
    "start_time": "2022-07-24T13:33:23.864Z"
   },
   {
    "duration": 93,
    "start_time": "2022-07-24T13:33:24.056Z"
   },
   {
    "duration": 97,
    "start_time": "2022-07-24T13:33:24.151Z"
   },
   {
    "duration": 8,
    "start_time": "2022-07-24T13:33:24.250Z"
   },
   {
    "duration": 8,
    "start_time": "2022-07-24T13:33:24.259Z"
   }
  ],
  "kernelspec": {
   "display_name": "Python 3 (ipykernel)",
   "language": "python",
   "name": "python3"
  },
  "language_info": {
   "codemirror_mode": {
    "name": "ipython",
    "version": 3
   },
   "file_extension": ".py",
   "mimetype": "text/x-python",
   "name": "python",
   "nbconvert_exporter": "python",
   "pygments_lexer": "ipython3",
   "version": "3.9.7"
  },
  "toc": {
   "base_numbering": 1,
   "nav_menu": {},
   "number_sections": true,
   "sideBar": true,
   "skip_h1_title": true,
   "title_cell": "Содержание",
   "title_sidebar": "Contents",
   "toc_cell": true,
   "toc_position": {
    "height": "calc(100% - 180px)",
    "left": "10px",
    "top": "150px",
    "width": "230px"
   },
   "toc_section_display": true,
   "toc_window_display": true
  }
 },
 "nbformat": 4,
 "nbformat_minor": 2
}
