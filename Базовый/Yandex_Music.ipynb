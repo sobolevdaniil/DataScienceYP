{
 "cells": [
  {
   "cell_type": "markdown",
   "metadata": {
    "id": "E0vqbgi9ay0H"
   },
   "source": [
    "# Яндекс.Музыка"
   ]
  },
  {
   "cell_type": "markdown",
   "metadata": {
    "id": "VUC88oWjTJw2"
   },
   "source": [
    "# Сравнение Москвы и Петербурга окружено мифами. Например:\n",
    " * Москва — мегаполис, подчинённый жёсткому ритму рабочей недели;\n",
    " * Петербург — культурная столица, со своими вкусами.\n",
    "\n",
    "На данных Яндекс.Музыки мы сравниваем поведение пользователей двух столиц.\n",
    "\n",
    "**Цель исследования** — проверить три гипотезы:\n",
    "1. Активность пользователей зависит от дня недели. Причём в Москве и Петербурге это проявляется по-разному.\n",
    "2. В понедельник утром в Москве преобладают одни жанры, а в Петербурге — другие. Так же и вечером пятницы преобладают разные жанры — в зависимости от города. \n",
    "3. Москва и Петербург предпочитают разные жанры музыки. В Москве чаще слушают поп-музыку, в Петербурге — русский рэп.\n",
    "\n",
    "**Ход исследования**\n",
    "\n",
    "Данные о поведении пользователей в файе `yandex_music_project.csv`. О качестве данных ничего не известно. Поэтому перед проверкой гипотез понадобится обзор данных. \n",
    "\n",
    "Проверим данные на ошибки и оценим их влияние на исследование. Затем, на этапе предобработки поищем возможность исправить самые критичные ошибки данных.\n",
    " \n",
    "Таким образом, исследование пройдёт в три этапа:\n",
    " 1. Обзор данных.\n",
    " 2. Предобработка данных.\n",
    " 3. Проверка гипотез."
   ]
  },
  {
   "cell_type": "markdown",
   "metadata": {},
   "source": [
    "## Импорт необходимых библиотек"
   ]
  },
  {
   "cell_type": "code",
   "execution_count": 1,
   "metadata": {},
   "outputs": [],
   "source": [
    "import pandas as pd"
   ]
  },
  {
   "cell_type": "markdown",
   "metadata": {
    "id": "Ml1hmfXC_Zcs"
   },
   "source": [
    "## Обзор данных"
   ]
  },
  {
   "cell_type": "code",
   "execution_count": 2,
   "metadata": {
    "id": "fFVu7vqh_Zct",
    "scrolled": true
   },
   "outputs": [],
   "source": [
    "df = pd.read_csv('/Users/daniilsobolev/Desktop/ml projects/Предобработка данных/yandex_music_project.csv')"
   ]
  },
  {
   "cell_type": "code",
   "execution_count": 3,
   "metadata": {
    "id": "oWTVX3gW_Zct"
   },
   "outputs": [
    {
     "data": {
      "text/html": [
       "<div>\n",
       "<style scoped>\n",
       "    .dataframe tbody tr th:only-of-type {\n",
       "        vertical-align: middle;\n",
       "    }\n",
       "\n",
       "    .dataframe tbody tr th {\n",
       "        vertical-align: top;\n",
       "    }\n",
       "\n",
       "    .dataframe thead th {\n",
       "        text-align: right;\n",
       "    }\n",
       "</style>\n",
       "<table border=\"1\" class=\"dataframe\">\n",
       "  <thead>\n",
       "    <tr style=\"text-align: right;\">\n",
       "      <th></th>\n",
       "      <th>userID</th>\n",
       "      <th>Track</th>\n",
       "      <th>artist</th>\n",
       "      <th>genre</th>\n",
       "      <th>City</th>\n",
       "      <th>time</th>\n",
       "      <th>Day</th>\n",
       "    </tr>\n",
       "  </thead>\n",
       "  <tbody>\n",
       "    <tr>\n",
       "      <th>0</th>\n",
       "      <td>FFB692EC</td>\n",
       "      <td>Kamigata To Boots</td>\n",
       "      <td>The Mass Missile</td>\n",
       "      <td>rock</td>\n",
       "      <td>Saint-Petersburg</td>\n",
       "      <td>20:28:33</td>\n",
       "      <td>Wednesday</td>\n",
       "    </tr>\n",
       "    <tr>\n",
       "      <th>1</th>\n",
       "      <td>55204538</td>\n",
       "      <td>Delayed Because of Accident</td>\n",
       "      <td>Andreas Rönnberg</td>\n",
       "      <td>rock</td>\n",
       "      <td>Moscow</td>\n",
       "      <td>14:07:09</td>\n",
       "      <td>Friday</td>\n",
       "    </tr>\n",
       "    <tr>\n",
       "      <th>2</th>\n",
       "      <td>20EC38</td>\n",
       "      <td>Funiculì funiculà</td>\n",
       "      <td>Mario Lanza</td>\n",
       "      <td>pop</td>\n",
       "      <td>Saint-Petersburg</td>\n",
       "      <td>20:58:07</td>\n",
       "      <td>Wednesday</td>\n",
       "    </tr>\n",
       "    <tr>\n",
       "      <th>3</th>\n",
       "      <td>A3DD03C9</td>\n",
       "      <td>Dragons in the Sunset</td>\n",
       "      <td>Fire + Ice</td>\n",
       "      <td>folk</td>\n",
       "      <td>Saint-Petersburg</td>\n",
       "      <td>08:37:09</td>\n",
       "      <td>Monday</td>\n",
       "    </tr>\n",
       "    <tr>\n",
       "      <th>4</th>\n",
       "      <td>E2DC1FAE</td>\n",
       "      <td>Soul People</td>\n",
       "      <td>Space Echo</td>\n",
       "      <td>dance</td>\n",
       "      <td>Moscow</td>\n",
       "      <td>08:34:34</td>\n",
       "      <td>Monday</td>\n",
       "    </tr>\n",
       "    <tr>\n",
       "      <th>5</th>\n",
       "      <td>842029A1</td>\n",
       "      <td>Преданная</td>\n",
       "      <td>IMPERVTOR</td>\n",
       "      <td>rusrap</td>\n",
       "      <td>Saint-Petersburg</td>\n",
       "      <td>13:09:41</td>\n",
       "      <td>Friday</td>\n",
       "    </tr>\n",
       "    <tr>\n",
       "      <th>6</th>\n",
       "      <td>4CB90AA5</td>\n",
       "      <td>True</td>\n",
       "      <td>Roman Messer</td>\n",
       "      <td>dance</td>\n",
       "      <td>Moscow</td>\n",
       "      <td>13:00:07</td>\n",
       "      <td>Wednesday</td>\n",
       "    </tr>\n",
       "    <tr>\n",
       "      <th>7</th>\n",
       "      <td>F03E1C1F</td>\n",
       "      <td>Feeling This Way</td>\n",
       "      <td>Polina Griffith</td>\n",
       "      <td>dance</td>\n",
       "      <td>Moscow</td>\n",
       "      <td>20:47:49</td>\n",
       "      <td>Wednesday</td>\n",
       "    </tr>\n",
       "    <tr>\n",
       "      <th>8</th>\n",
       "      <td>8FA1D3BE</td>\n",
       "      <td>И вновь продолжается бой</td>\n",
       "      <td>NaN</td>\n",
       "      <td>ruspop</td>\n",
       "      <td>Moscow</td>\n",
       "      <td>09:17:40</td>\n",
       "      <td>Friday</td>\n",
       "    </tr>\n",
       "    <tr>\n",
       "      <th>9</th>\n",
       "      <td>E772D5C0</td>\n",
       "      <td>Pessimist</td>\n",
       "      <td>NaN</td>\n",
       "      <td>dance</td>\n",
       "      <td>Saint-Petersburg</td>\n",
       "      <td>21:20:49</td>\n",
       "      <td>Wednesday</td>\n",
       "    </tr>\n",
       "  </tbody>\n",
       "</table>\n",
       "</div>"
      ],
      "text/plain": [
       "     userID                        Track            artist   genre  \\\n",
       "0  FFB692EC            Kamigata To Boots  The Mass Missile    rock   \n",
       "1  55204538  Delayed Because of Accident  Andreas Rönnberg    rock   \n",
       "2    20EC38            Funiculì funiculà       Mario Lanza     pop   \n",
       "3  A3DD03C9        Dragons in the Sunset        Fire + Ice    folk   \n",
       "4  E2DC1FAE                  Soul People        Space Echo   dance   \n",
       "5  842029A1                    Преданная         IMPERVTOR  rusrap   \n",
       "6  4CB90AA5                         True      Roman Messer   dance   \n",
       "7  F03E1C1F             Feeling This Way   Polina Griffith   dance   \n",
       "8  8FA1D3BE     И вновь продолжается бой               NaN  ruspop   \n",
       "9  E772D5C0                    Pessimist               NaN   dance   \n",
       "\n",
       "             City        time        Day  \n",
       "0  Saint-Petersburg  20:28:33  Wednesday  \n",
       "1            Moscow  14:07:09     Friday  \n",
       "2  Saint-Petersburg  20:58:07  Wednesday  \n",
       "3  Saint-Petersburg  08:37:09     Monday  \n",
       "4            Moscow  08:34:34     Monday  \n",
       "5  Saint-Petersburg  13:09:41     Friday  \n",
       "6            Moscow  13:00:07  Wednesday  \n",
       "7            Moscow  20:47:49  Wednesday  \n",
       "8            Moscow  09:17:40     Friday  \n",
       "9  Saint-Petersburg  21:20:49  Wednesday  "
      ]
     },
     "execution_count": 3,
     "metadata": {},
     "output_type": "execute_result"
    }
   ],
   "source": [
    "df.head(10)"
   ]
  },
  {
   "cell_type": "code",
   "execution_count": 4,
   "metadata": {
    "id": "DSf2kIb-_Zct"
   },
   "outputs": [
    {
     "name": "stdout",
     "output_type": "stream",
     "text": [
      "<class 'pandas.core.frame.DataFrame'>\n",
      "RangeIndex: 65079 entries, 0 to 65078\n",
      "Data columns (total 7 columns):\n",
      " #   Column    Non-Null Count  Dtype \n",
      "---  ------    --------------  ----- \n",
      " 0     userID  65079 non-null  object\n",
      " 1   Track     63848 non-null  object\n",
      " 2   artist    57876 non-null  object\n",
      " 3   genre     63881 non-null  object\n",
      " 4     City    65079 non-null  object\n",
      " 5   time      65079 non-null  object\n",
      " 6   Day       65079 non-null  object\n",
      "dtypes: object(7)\n",
      "memory usage: 3.5+ MB\n"
     ]
    }
   ],
   "source": [
    "df.info()"
   ]
  },
  {
   "cell_type": "markdown",
   "metadata": {
    "id": "TaQ2Iwbr_Zct"
   },
   "source": [
    "Итак, в таблице семь столбцов. Тип данных во всех столбцах — `object`.\n",
    "\n",
    "Согласно документации к данным:\n",
    "* `userID` — идентификатор пользователя;\n",
    "* `Track` — название трека;  \n",
    "* `artist` — имя исполнителя;\n",
    "* `genre` — название жанра;\n",
    "* `City` — город пользователя;\n",
    "* `time` — время начала прослушивания;\n",
    "* `Day` — день недели.\n",
    "\n",
    "В названиях колонок видны три нарушения стиля:\n",
    "1. Строчные буквы сочетаются с прописными.\n",
    "2. Встречаются пробелы.\n",
    "3. Не понятно, что имеется в виду в колонке 'time'. Какое это время?\n",
    "4. Не все названия написаны в змеином регистре.\n",
    "\n",
    "\n",
    "\n",
    "Количество значений в столбцах различается. Значит, в данных есть пропущенные значения.\n"
   ]
  },
  {
   "cell_type": "markdown",
   "metadata": {
    "id": "MCB6-dXG_Zct"
   },
   "source": [
    "**Выводы**\n",
    "\n",
    "В каждой строке таблицы — данные о прослушанном треке. Часть колонок описывает саму композицию: название, исполнителя и жанр. Остальные данные рассказывают о пользователе: из какого он города, когда он слушал музыку. \n",
    "\n",
    "Предварительно можно утверждать, что, данных достаточно для проверки гипотез. Но встречаются пропуски в данных, а в названиях колонок — расхождения с хорошим стилем.\n",
    "\n",
    "Чтобы двигаться дальше, нужно устранить проблемы в данных."
   ]
  },
  {
   "cell_type": "markdown",
   "metadata": {
    "id": "SjYF6Ub9_Zct"
   },
   "source": [
    "## Предобработка данных"
   ]
  },
  {
   "cell_type": "markdown",
   "metadata": {
    "id": "dIaKXr29_Zct"
   },
   "source": [
    "### Стиль заголовков"
   ]
  },
  {
   "cell_type": "code",
   "execution_count": 5,
   "metadata": {
    "id": "oKOTdF_Q_Zct"
   },
   "outputs": [
    {
     "name": "stdout",
     "output_type": "stream",
     "text": [
      "Index(['  userID', 'Track', 'artist', 'genre', '  City  ', 'time', 'Day'], dtype='object')\n"
     ]
    }
   ],
   "source": [
    "print(df.columns)"
   ]
  },
  {
   "cell_type": "code",
   "execution_count": 6,
   "metadata": {
    "id": "ISlFqs5y_Zct"
   },
   "outputs": [],
   "source": [
    "df = df.rename(columns={'  userID': 'user_id', 'Track': 'track', '  City  ': 'city', 'time': 'start_time', 'Day': 'day'})"
   ]
  },
  {
   "cell_type": "code",
   "execution_count": 7,
   "metadata": {
    "id": "d4NOAmTW_Zct"
   },
   "outputs": [
    {
     "name": "stdout",
     "output_type": "stream",
     "text": [
      "Index(['user_id', 'track', 'artist', 'genre', 'city', 'start_time', 'day'], dtype='object')\n"
     ]
    }
   ],
   "source": [
    "print(df.columns)"
   ]
  },
  {
   "cell_type": "markdown",
   "metadata": {
    "id": "5ISfbcfY_Zct"
   },
   "source": [
    "### Пропуски значений"
   ]
  },
  {
   "cell_type": "code",
   "execution_count": 8,
   "metadata": {
    "id": "RskX29qr_Zct"
   },
   "outputs": [
    {
     "data": {
      "text/plain": [
       "user_id          0\n",
       "track         1231\n",
       "artist        7203\n",
       "genre         1198\n",
       "city             0\n",
       "start_time       0\n",
       "day              0\n",
       "dtype: int64"
      ]
     },
     "execution_count": 8,
     "metadata": {},
     "output_type": "execute_result"
    }
   ],
   "source": [
    "df.isna().sum()"
   ]
  },
  {
   "cell_type": "markdown",
   "metadata": {
    "id": "qubhgnlO_Zct"
   },
   "source": [
    "Не все пропущенные значения влияют на исследование. Так в `track` и `artist` пропуски не важны для нашей работы. Достаточно заменить их явными обозначениями.\n",
    "\n",
    "Но пропуски в `genre` могут помешать сравнению музыкальных вкусов в Москве и Санкт-Петербурге. На практике было бы правильно установить причину пропусков и восстановить данные. Такой возможности нет в учебном проекте. Придётся:\n",
    "* заполнить и эти пропуски явными обозначениями,\n",
    "* оценить, насколько они повредят расчётам. "
   ]
  },
  {
   "cell_type": "code",
   "execution_count": 9,
   "metadata": {
    "id": "KplB5qWs_Zct"
   },
   "outputs": [],
   "source": [
    "# перебор названий столбцов в цикле и замена пропущенных значений на 'unknown'\n",
    "columns_to_replace = ['track', 'artist', 'genre']\n",
    "\n",
    "df[columns_to_replace] = df[columns_to_replace].fillna('unknown')"
   ]
  },
  {
   "cell_type": "code",
   "execution_count": 10,
   "metadata": {
    "id": "Tq4nYRX4_Zct"
   },
   "outputs": [
    {
     "data": {
      "text/plain": [
       "user_id       0\n",
       "track         0\n",
       "artist        0\n",
       "genre         0\n",
       "city          0\n",
       "start_time    0\n",
       "day           0\n",
       "dtype: int64"
      ]
     },
     "execution_count": 10,
     "metadata": {},
     "output_type": "execute_result"
    }
   ],
   "source": [
    "df.isna().sum()"
   ]
  },
  {
   "cell_type": "markdown",
   "metadata": {
    "id": "BWKRtBJ3_Zct"
   },
   "source": [
    "### Дубликаты"
   ]
  },
  {
   "cell_type": "code",
   "execution_count": 11,
   "metadata": {
    "id": "36eES_S0_Zct"
   },
   "outputs": [
    {
     "data": {
      "text/plain": [
       "3826"
      ]
     },
     "execution_count": 11,
     "metadata": {},
     "output_type": "execute_result"
    }
   ],
   "source": [
    "df.duplicated().sum()"
   ]
  },
  {
   "cell_type": "code",
   "execution_count": 12,
   "metadata": {
    "id": "exFHq6tt_Zct",
    "scrolled": true
   },
   "outputs": [],
   "source": [
    "df = df.drop_duplicates().reset_index(drop=True)"
   ]
  },
  {
   "cell_type": "code",
   "execution_count": 13,
   "metadata": {
    "id": "-8PuNWQ0_Zct"
   },
   "outputs": [
    {
     "data": {
      "text/plain": [
       "0"
      ]
     },
     "execution_count": 13,
     "metadata": {},
     "output_type": "execute_result"
    }
   ],
   "source": [
    "df.duplicated().sum()"
   ]
  },
  {
   "cell_type": "markdown",
   "metadata": {
    "id": "QlFBsxAr_Zct"
   },
   "source": [
    "Теперь избавимся от неявных дубликатов в колонке `genre`. Например, название одного и того же жанра может быть записано немного по-разному. Такие ошибки тоже повлияют на результат исследования."
   ]
  },
  {
   "cell_type": "code",
   "execution_count": 14,
   "metadata": {
    "id": "JIUcqzZN_Zct",
    "scrolled": true
   },
   "outputs": [
    {
     "data": {
      "text/plain": [
       "['acid',\n",
       " 'acoustic',\n",
       " 'action',\n",
       " 'adult',\n",
       " 'africa',\n",
       " 'afrikaans',\n",
       " 'alternative',\n",
       " 'alternativepunk',\n",
       " 'ambient',\n",
       " 'americana',\n",
       " 'animated',\n",
       " 'anime',\n",
       " 'arabesk',\n",
       " 'arabic',\n",
       " 'arena',\n",
       " 'argentinetango',\n",
       " 'art',\n",
       " 'audiobook',\n",
       " 'author',\n",
       " 'avantgarde',\n",
       " 'axé',\n",
       " 'baile',\n",
       " 'balkan',\n",
       " 'beats',\n",
       " 'bigroom',\n",
       " 'black',\n",
       " 'bluegrass',\n",
       " 'blues',\n",
       " 'bollywood',\n",
       " 'bossa',\n",
       " 'brazilian',\n",
       " 'breakbeat',\n",
       " 'breaks',\n",
       " 'broadway',\n",
       " 'cantautori',\n",
       " 'cantopop',\n",
       " 'canzone',\n",
       " 'caribbean',\n",
       " 'caucasian',\n",
       " 'celtic',\n",
       " 'chamber',\n",
       " 'chanson',\n",
       " 'children',\n",
       " 'chill',\n",
       " 'chinese',\n",
       " 'choral',\n",
       " 'christian',\n",
       " 'christmas',\n",
       " 'classical',\n",
       " 'classicmetal',\n",
       " 'club',\n",
       " 'colombian',\n",
       " 'comedy',\n",
       " 'conjazz',\n",
       " 'contemporary',\n",
       " 'country',\n",
       " 'cuban',\n",
       " 'dance',\n",
       " 'dancehall',\n",
       " 'dancepop',\n",
       " 'dark',\n",
       " 'death',\n",
       " 'deep',\n",
       " 'deutschrock',\n",
       " 'deutschspr',\n",
       " 'dirty',\n",
       " 'disco',\n",
       " 'dnb',\n",
       " 'documentary',\n",
       " 'downbeat',\n",
       " 'downtempo',\n",
       " 'drum',\n",
       " 'dub',\n",
       " 'dubstep',\n",
       " 'eastern',\n",
       " 'easy',\n",
       " 'electronic',\n",
       " 'electropop',\n",
       " 'emo',\n",
       " 'entehno',\n",
       " 'epicmetal',\n",
       " 'estrada',\n",
       " 'ethnic',\n",
       " 'eurofolk',\n",
       " 'european',\n",
       " 'experimental',\n",
       " 'extrememetal',\n",
       " 'fado',\n",
       " 'fairytail',\n",
       " 'film',\n",
       " 'fitness',\n",
       " 'flamenco',\n",
       " 'folk',\n",
       " 'folklore',\n",
       " 'folkmetal',\n",
       " 'folkrock',\n",
       " 'folktronica',\n",
       " 'forró',\n",
       " 'frankreich',\n",
       " 'französisch',\n",
       " 'french',\n",
       " 'funk',\n",
       " 'future',\n",
       " 'gangsta',\n",
       " 'garage',\n",
       " 'german',\n",
       " 'ghazal',\n",
       " 'gitarre',\n",
       " 'glitch',\n",
       " 'gospel',\n",
       " 'gothic',\n",
       " 'grime',\n",
       " 'grunge',\n",
       " 'gypsy',\n",
       " 'handsup',\n",
       " \"hard'n'heavy\",\n",
       " 'hardcore',\n",
       " 'hardstyle',\n",
       " 'hardtechno',\n",
       " 'hip',\n",
       " 'hip-hop',\n",
       " 'hiphop',\n",
       " 'historisch',\n",
       " 'holiday',\n",
       " 'hop',\n",
       " 'horror',\n",
       " 'house',\n",
       " 'hymn',\n",
       " 'idm',\n",
       " 'independent',\n",
       " 'indian',\n",
       " 'indie',\n",
       " 'indipop',\n",
       " 'industrial',\n",
       " 'inspirational',\n",
       " 'instrumental',\n",
       " 'international',\n",
       " 'irish',\n",
       " 'jam',\n",
       " 'japanese',\n",
       " 'jazz',\n",
       " 'jewish',\n",
       " 'jpop',\n",
       " 'jungle',\n",
       " 'k-pop',\n",
       " 'karadeniz',\n",
       " 'karaoke',\n",
       " 'kayokyoku',\n",
       " 'korean',\n",
       " 'laiko',\n",
       " 'latin',\n",
       " 'latino',\n",
       " 'leftfield',\n",
       " 'local',\n",
       " 'lounge',\n",
       " 'loungeelectronic',\n",
       " 'lovers',\n",
       " 'malaysian',\n",
       " 'mandopop',\n",
       " 'marschmusik',\n",
       " 'meditative',\n",
       " 'mediterranean',\n",
       " 'melodic',\n",
       " 'metal',\n",
       " 'metalcore',\n",
       " 'mexican',\n",
       " 'middle',\n",
       " 'minimal',\n",
       " 'miscellaneous',\n",
       " 'modern',\n",
       " 'mood',\n",
       " 'mpb',\n",
       " 'muslim',\n",
       " 'native',\n",
       " 'neoklassik',\n",
       " 'neue',\n",
       " 'new',\n",
       " 'newage',\n",
       " 'newwave',\n",
       " 'nu',\n",
       " 'nujazz',\n",
       " 'numetal',\n",
       " 'oceania',\n",
       " 'old',\n",
       " 'opera',\n",
       " 'orchestral',\n",
       " 'other',\n",
       " 'piano',\n",
       " 'podcasts',\n",
       " 'pop',\n",
       " 'popdance',\n",
       " 'popelectronic',\n",
       " 'popeurodance',\n",
       " 'poprussian',\n",
       " 'post',\n",
       " 'posthardcore',\n",
       " 'postrock',\n",
       " 'power',\n",
       " 'progmetal',\n",
       " 'progressive',\n",
       " 'psychedelic',\n",
       " 'punjabi',\n",
       " 'punk',\n",
       " 'quebecois',\n",
       " 'ragga',\n",
       " 'ram',\n",
       " 'rancheras',\n",
       " 'rap',\n",
       " 'rave',\n",
       " 'reggae',\n",
       " 'reggaeton',\n",
       " 'regional',\n",
       " 'relax',\n",
       " 'religious',\n",
       " 'retro',\n",
       " 'rhythm',\n",
       " 'rnb',\n",
       " 'rnr',\n",
       " 'rock',\n",
       " 'rockabilly',\n",
       " 'rockalternative',\n",
       " 'rockindie',\n",
       " 'rockother',\n",
       " 'romance',\n",
       " 'roots',\n",
       " 'ruspop',\n",
       " 'rusrap',\n",
       " 'rusrock',\n",
       " 'russian',\n",
       " 'salsa',\n",
       " 'samba',\n",
       " 'scenic',\n",
       " 'schlager',\n",
       " 'self',\n",
       " 'sertanejo',\n",
       " 'shanson',\n",
       " 'shoegazing',\n",
       " 'showtunes',\n",
       " 'singer',\n",
       " 'ska',\n",
       " 'skarock',\n",
       " 'slow',\n",
       " 'smooth',\n",
       " 'soft',\n",
       " 'soul',\n",
       " 'soulful',\n",
       " 'sound',\n",
       " 'soundtrack',\n",
       " 'southern',\n",
       " 'specialty',\n",
       " 'speech',\n",
       " 'spiritual',\n",
       " 'sport',\n",
       " 'stonerrock',\n",
       " 'surf',\n",
       " 'swing',\n",
       " 'synthpop',\n",
       " 'synthrock',\n",
       " 'sängerportrait',\n",
       " 'tango',\n",
       " 'tanzorchester',\n",
       " 'taraftar',\n",
       " 'tatar',\n",
       " 'tech',\n",
       " 'techno',\n",
       " 'teen',\n",
       " 'thrash',\n",
       " 'top',\n",
       " 'traditional',\n",
       " 'tradjazz',\n",
       " 'trance',\n",
       " 'tribal',\n",
       " 'trip',\n",
       " 'triphop',\n",
       " 'tropical',\n",
       " 'türk',\n",
       " 'türkçe',\n",
       " 'ukrrock',\n",
       " 'unknown',\n",
       " 'urban',\n",
       " 'uzbek',\n",
       " 'variété',\n",
       " 'vi',\n",
       " 'videogame',\n",
       " 'vocal',\n",
       " 'western',\n",
       " 'world',\n",
       " 'worldbeat',\n",
       " 'ïîï',\n",
       " 'электроника']"
      ]
     },
     "execution_count": 14,
     "metadata": {},
     "output_type": "execute_result"
    }
   ],
   "source": [
    "# Просмотр уникальных названий жанров\n",
    "sorted(df['genre'].unique())"
   ]
  },
  {
   "cell_type": "markdown",
   "metadata": {
    "id": "qej-Qmuo_Zct"
   },
   "source": [
    "Просмотрим список и найдём неявные дубликаты названия `hiphop`. Это могут быть названия с ошибками или альтернативные названия того же жанра.\n",
    "\n",
    "Мы увидим следующие неявные дубликаты:\n",
    "* *hip*,\n",
    "* *hop*,\n",
    "* *hip-hop*."
   ]
  },
  {
   "cell_type": "code",
   "execution_count": 15,
   "metadata": {},
   "outputs": [],
   "source": [
    "df['genre'] = df['genre'].replace(['hip', 'hop', 'hip-hop'], 'hiphop')"
   ]
  },
  {
   "cell_type": "code",
   "execution_count": 16,
   "metadata": {
    "id": "wvixALnFG15m"
   },
   "outputs": [
    {
     "data": {
      "text/plain": [
       "['acid',\n",
       " 'acoustic',\n",
       " 'action',\n",
       " 'adult',\n",
       " 'africa',\n",
       " 'afrikaans',\n",
       " 'alternative',\n",
       " 'alternativepunk',\n",
       " 'ambient',\n",
       " 'americana',\n",
       " 'animated',\n",
       " 'anime',\n",
       " 'arabesk',\n",
       " 'arabic',\n",
       " 'arena',\n",
       " 'argentinetango',\n",
       " 'art',\n",
       " 'audiobook',\n",
       " 'author',\n",
       " 'avantgarde',\n",
       " 'axé',\n",
       " 'baile',\n",
       " 'balkan',\n",
       " 'beats',\n",
       " 'bigroom',\n",
       " 'black',\n",
       " 'bluegrass',\n",
       " 'blues',\n",
       " 'bollywood',\n",
       " 'bossa',\n",
       " 'brazilian',\n",
       " 'breakbeat',\n",
       " 'breaks',\n",
       " 'broadway',\n",
       " 'cantautori',\n",
       " 'cantopop',\n",
       " 'canzone',\n",
       " 'caribbean',\n",
       " 'caucasian',\n",
       " 'celtic',\n",
       " 'chamber',\n",
       " 'chanson',\n",
       " 'children',\n",
       " 'chill',\n",
       " 'chinese',\n",
       " 'choral',\n",
       " 'christian',\n",
       " 'christmas',\n",
       " 'classical',\n",
       " 'classicmetal',\n",
       " 'club',\n",
       " 'colombian',\n",
       " 'comedy',\n",
       " 'conjazz',\n",
       " 'contemporary',\n",
       " 'country',\n",
       " 'cuban',\n",
       " 'dance',\n",
       " 'dancehall',\n",
       " 'dancepop',\n",
       " 'dark',\n",
       " 'death',\n",
       " 'deep',\n",
       " 'deutschrock',\n",
       " 'deutschspr',\n",
       " 'dirty',\n",
       " 'disco',\n",
       " 'dnb',\n",
       " 'documentary',\n",
       " 'downbeat',\n",
       " 'downtempo',\n",
       " 'drum',\n",
       " 'dub',\n",
       " 'dubstep',\n",
       " 'eastern',\n",
       " 'easy',\n",
       " 'electronic',\n",
       " 'electropop',\n",
       " 'emo',\n",
       " 'entehno',\n",
       " 'epicmetal',\n",
       " 'estrada',\n",
       " 'ethnic',\n",
       " 'eurofolk',\n",
       " 'european',\n",
       " 'experimental',\n",
       " 'extrememetal',\n",
       " 'fado',\n",
       " 'fairytail',\n",
       " 'film',\n",
       " 'fitness',\n",
       " 'flamenco',\n",
       " 'folk',\n",
       " 'folklore',\n",
       " 'folkmetal',\n",
       " 'folkrock',\n",
       " 'folktronica',\n",
       " 'forró',\n",
       " 'frankreich',\n",
       " 'französisch',\n",
       " 'french',\n",
       " 'funk',\n",
       " 'future',\n",
       " 'gangsta',\n",
       " 'garage',\n",
       " 'german',\n",
       " 'ghazal',\n",
       " 'gitarre',\n",
       " 'glitch',\n",
       " 'gospel',\n",
       " 'gothic',\n",
       " 'grime',\n",
       " 'grunge',\n",
       " 'gypsy',\n",
       " 'handsup',\n",
       " \"hard'n'heavy\",\n",
       " 'hardcore',\n",
       " 'hardstyle',\n",
       " 'hardtechno',\n",
       " 'hiphop',\n",
       " 'historisch',\n",
       " 'holiday',\n",
       " 'horror',\n",
       " 'house',\n",
       " 'hymn',\n",
       " 'idm',\n",
       " 'independent',\n",
       " 'indian',\n",
       " 'indie',\n",
       " 'indipop',\n",
       " 'industrial',\n",
       " 'inspirational',\n",
       " 'instrumental',\n",
       " 'international',\n",
       " 'irish',\n",
       " 'jam',\n",
       " 'japanese',\n",
       " 'jazz',\n",
       " 'jewish',\n",
       " 'jpop',\n",
       " 'jungle',\n",
       " 'k-pop',\n",
       " 'karadeniz',\n",
       " 'karaoke',\n",
       " 'kayokyoku',\n",
       " 'korean',\n",
       " 'laiko',\n",
       " 'latin',\n",
       " 'latino',\n",
       " 'leftfield',\n",
       " 'local',\n",
       " 'lounge',\n",
       " 'loungeelectronic',\n",
       " 'lovers',\n",
       " 'malaysian',\n",
       " 'mandopop',\n",
       " 'marschmusik',\n",
       " 'meditative',\n",
       " 'mediterranean',\n",
       " 'melodic',\n",
       " 'metal',\n",
       " 'metalcore',\n",
       " 'mexican',\n",
       " 'middle',\n",
       " 'minimal',\n",
       " 'miscellaneous',\n",
       " 'modern',\n",
       " 'mood',\n",
       " 'mpb',\n",
       " 'muslim',\n",
       " 'native',\n",
       " 'neoklassik',\n",
       " 'neue',\n",
       " 'new',\n",
       " 'newage',\n",
       " 'newwave',\n",
       " 'nu',\n",
       " 'nujazz',\n",
       " 'numetal',\n",
       " 'oceania',\n",
       " 'old',\n",
       " 'opera',\n",
       " 'orchestral',\n",
       " 'other',\n",
       " 'piano',\n",
       " 'podcasts',\n",
       " 'pop',\n",
       " 'popdance',\n",
       " 'popelectronic',\n",
       " 'popeurodance',\n",
       " 'poprussian',\n",
       " 'post',\n",
       " 'posthardcore',\n",
       " 'postrock',\n",
       " 'power',\n",
       " 'progmetal',\n",
       " 'progressive',\n",
       " 'psychedelic',\n",
       " 'punjabi',\n",
       " 'punk',\n",
       " 'quebecois',\n",
       " 'ragga',\n",
       " 'ram',\n",
       " 'rancheras',\n",
       " 'rap',\n",
       " 'rave',\n",
       " 'reggae',\n",
       " 'reggaeton',\n",
       " 'regional',\n",
       " 'relax',\n",
       " 'religious',\n",
       " 'retro',\n",
       " 'rhythm',\n",
       " 'rnb',\n",
       " 'rnr',\n",
       " 'rock',\n",
       " 'rockabilly',\n",
       " 'rockalternative',\n",
       " 'rockindie',\n",
       " 'rockother',\n",
       " 'romance',\n",
       " 'roots',\n",
       " 'ruspop',\n",
       " 'rusrap',\n",
       " 'rusrock',\n",
       " 'russian',\n",
       " 'salsa',\n",
       " 'samba',\n",
       " 'scenic',\n",
       " 'schlager',\n",
       " 'self',\n",
       " 'sertanejo',\n",
       " 'shanson',\n",
       " 'shoegazing',\n",
       " 'showtunes',\n",
       " 'singer',\n",
       " 'ska',\n",
       " 'skarock',\n",
       " 'slow',\n",
       " 'smooth',\n",
       " 'soft',\n",
       " 'soul',\n",
       " 'soulful',\n",
       " 'sound',\n",
       " 'soundtrack',\n",
       " 'southern',\n",
       " 'specialty',\n",
       " 'speech',\n",
       " 'spiritual',\n",
       " 'sport',\n",
       " 'stonerrock',\n",
       " 'surf',\n",
       " 'swing',\n",
       " 'synthpop',\n",
       " 'synthrock',\n",
       " 'sängerportrait',\n",
       " 'tango',\n",
       " 'tanzorchester',\n",
       " 'taraftar',\n",
       " 'tatar',\n",
       " 'tech',\n",
       " 'techno',\n",
       " 'teen',\n",
       " 'thrash',\n",
       " 'top',\n",
       " 'traditional',\n",
       " 'tradjazz',\n",
       " 'trance',\n",
       " 'tribal',\n",
       " 'trip',\n",
       " 'triphop',\n",
       " 'tropical',\n",
       " 'türk',\n",
       " 'türkçe',\n",
       " 'ukrrock',\n",
       " 'unknown',\n",
       " 'urban',\n",
       " 'uzbek',\n",
       " 'variété',\n",
       " 'vi',\n",
       " 'videogame',\n",
       " 'vocal',\n",
       " 'western',\n",
       " 'world',\n",
       " 'worldbeat',\n",
       " 'ïîï',\n",
       " 'электроника']"
      ]
     },
     "execution_count": 16,
     "metadata": {},
     "output_type": "execute_result"
    }
   ],
   "source": [
    "# Проверка на неявные дубликаты\n",
    "sorted(df['genre'].unique())"
   ]
  },
  {
   "cell_type": "markdown",
   "metadata": {
    "id": "jz6a9-7HQUDd"
   },
   "source": [
    "**Выводы**\n",
    "\n",
    "Предобработка обнаружила три проблемы в данных:\n",
    "\n",
    "- нарушения в стиле заголовков,\n",
    "- пропущенные значения,\n",
    "- дубликаты — явные и неявные.\n",
    "\n",
    "Вы исправили заголовки, чтобы упростить работу с таблицей. Без дубликатов исследование станет более точным.\n",
    "\n",
    "Пропущенные значения мы заменили на `'unknown'`. Ещё предстоит увидеть, не повредят ли исследованию пропуски в колонке `genre`.\n",
    "\n",
    "Теперь можно перейти к проверке гипотез. "
   ]
  },
  {
   "cell_type": "markdown",
   "metadata": {
    "id": "WttZHXH0SqKk"
   },
   "source": [
    "## Проверка гипотез"
   ]
  },
  {
   "cell_type": "markdown",
   "metadata": {
    "id": "Im936VVi_Zcu"
   },
   "source": [
    "### Сравнение поведения пользователей двух столиц"
   ]
  },
  {
   "cell_type": "markdown",
   "metadata": {
    "id": "nwt_MuaL_Zcu"
   },
   "source": [
    "Первая гипотеза утверждает, что пользователи по-разному слушают музыку в Москве и Санкт-Петербурге. Проверим это предположение по данным о трёх днях недели — понедельнике, среде и пятнице. Для этого:\n",
    "\n",
    "* Разделим пользователей Москвы и Санкт-Петербурга\n",
    "* Сравним, сколько треков послушала каждая группа пользователей в понедельник, среду и пятницу."
   ]
  },
  {
   "cell_type": "code",
   "execution_count": 17,
   "metadata": {
    "id": "0_Qs96oh_Zcu"
   },
   "outputs": [
    {
     "name": "stdout",
     "output_type": "stream",
     "text": [
      "city\n",
      "Moscow              42741\n",
      "Saint-Petersburg    18512\n",
      "Name: user_id, dtype: int64\n"
     ]
    }
   ],
   "source": [
    "# Подсчёт прослушиваний в каждом городе\n",
    "print(df.groupby('city')['user_id'].count())"
   ]
  },
  {
   "cell_type": "markdown",
   "metadata": {
    "id": "dzli3w8o_Zcu"
   },
   "source": [
    "В Москве прослушиваний больше, чем в Петербурге. Из этого не следует, что московские пользователи чаще слушают музыку. Просто самих пользователей в Москве больше.\n",
    "\n",
    "Теперь сгруппируем данные по дню недели и подсчитаем прослушивания в понедельник, среду и пятницу. Учтем, что в данных есть информация только о прослушиваниях только за эти дни."
   ]
  },
  {
   "cell_type": "code",
   "execution_count": 18,
   "metadata": {
    "id": "uZMKjiJz_Zcu"
   },
   "outputs": [
    {
     "name": "stdout",
     "output_type": "stream",
     "text": [
      "day\n",
      "Friday       21840\n",
      "Monday       21354\n",
      "Wednesday    18059\n",
      "Name: user_id, dtype: int64\n"
     ]
    }
   ],
   "source": [
    "# Подсчёт прослушиваний в каждый из трёх дней\n",
    "print(df.groupby('day')['user_id'].count())"
   ]
  },
  {
   "cell_type": "markdown",
   "metadata": {
    "id": "cC2tNrlL_Zcu"
   },
   "source": [
    "В среднем пользователи из двух городов менее активны по средам. Но картина может измениться, если рассмотреть каждый город в отдельности."
   ]
  },
  {
   "cell_type": "code",
   "execution_count": 19,
   "metadata": {
    "id": "Nz3GdQB1_Zcu"
   },
   "outputs": [],
   "source": [
    "def number_tracks(day, city):\n",
    "    track_list = df[df['day'] == day]\n",
    "    track_list = track_list[track_list['city'] == city]\n",
    "    track_list_count = track_list['user_id'].count()\n",
    "    return track_list_count"
   ]
  },
  {
   "cell_type": "code",
   "execution_count": 20,
   "metadata": {
    "id": "rJcRATNQ_Zcu"
   },
   "outputs": [
    {
     "data": {
      "text/plain": [
       "15740"
      ]
     },
     "execution_count": 20,
     "metadata": {},
     "output_type": "execute_result"
    }
   ],
   "source": [
    "# количество прослушиваний в Москве по понедельникам\n",
    "number_tracks('Monday', 'Moscow')"
   ]
  },
  {
   "cell_type": "code",
   "execution_count": 21,
   "metadata": {
    "id": "hq_ncZ5T_Zcu"
   },
   "outputs": [
    {
     "data": {
      "text/plain": [
       "5614"
      ]
     },
     "execution_count": 21,
     "metadata": {},
     "output_type": "execute_result"
    }
   ],
   "source": [
    "# количество прослушиваний в Санкт-Петербурге по понедельникам\n",
    "number_tracks('Monday', 'Saint-Petersburg')"
   ]
  },
  {
   "cell_type": "code",
   "execution_count": 22,
   "metadata": {
    "id": "_NTy2VPU_Zcu"
   },
   "outputs": [
    {
     "data": {
      "text/plain": [
       "11056"
      ]
     },
     "execution_count": 22,
     "metadata": {},
     "output_type": "execute_result"
    }
   ],
   "source": [
    "# количество прослушиваний в Москве по средам\n",
    "number_tracks('Wednesday', 'Moscow')"
   ]
  },
  {
   "cell_type": "code",
   "execution_count": 23,
   "metadata": {
    "id": "j2y3TAwo_Zcu"
   },
   "outputs": [
    {
     "data": {
      "text/plain": [
       "7003"
      ]
     },
     "execution_count": 23,
     "metadata": {},
     "output_type": "execute_result"
    }
   ],
   "source": [
    "# количество прослушиваний в Санкт-Петербурге по средам\n",
    "number_tracks('Wednesday', 'Saint-Petersburg')"
   ]
  },
  {
   "cell_type": "code",
   "execution_count": 24,
   "metadata": {
    "id": "vYDw5u_K_Zcu"
   },
   "outputs": [
    {
     "data": {
      "text/plain": [
       "15945"
      ]
     },
     "execution_count": 24,
     "metadata": {},
     "output_type": "execute_result"
    }
   ],
   "source": [
    "# количество прослушиваний в Москве по пятницам\n",
    "number_tracks('Friday', 'Moscow')"
   ]
  },
  {
   "cell_type": "code",
   "execution_count": 25,
   "metadata": {
    "id": "8_yzFtW3_Zcu"
   },
   "outputs": [
    {
     "data": {
      "text/plain": [
       "5895"
      ]
     },
     "execution_count": 25,
     "metadata": {},
     "output_type": "execute_result"
    }
   ],
   "source": [
    "# количество прослушиваний в Санкт-Петербурге по пятницам\n",
    "number_tracks('Friday', 'Saint-Petersburg')"
   ]
  },
  {
   "cell_type": "code",
   "execution_count": 26,
   "metadata": {
    "id": "APAcLpOr_Zcu"
   },
   "outputs": [
    {
     "data": {
      "text/html": [
       "<div>\n",
       "<style scoped>\n",
       "    .dataframe tbody tr th:only-of-type {\n",
       "        vertical-align: middle;\n",
       "    }\n",
       "\n",
       "    .dataframe tbody tr th {\n",
       "        vertical-align: top;\n",
       "    }\n",
       "\n",
       "    .dataframe thead th {\n",
       "        text-align: right;\n",
       "    }\n",
       "</style>\n",
       "<table border=\"1\" class=\"dataframe\">\n",
       "  <thead>\n",
       "    <tr style=\"text-align: right;\">\n",
       "      <th></th>\n",
       "      <th>city</th>\n",
       "      <th>monday</th>\n",
       "      <th>wednesday</th>\n",
       "      <th>friday</th>\n",
       "    </tr>\n",
       "  </thead>\n",
       "  <tbody>\n",
       "    <tr>\n",
       "      <th>0</th>\n",
       "      <td>Moscow</td>\n",
       "      <td>15740</td>\n",
       "      <td>11056</td>\n",
       "      <td>15945</td>\n",
       "    </tr>\n",
       "    <tr>\n",
       "      <th>1</th>\n",
       "      <td>Saint-Petersburg</td>\n",
       "      <td>5614</td>\n",
       "      <td>7003</td>\n",
       "      <td>5895</td>\n",
       "    </tr>\n",
       "  </tbody>\n",
       "</table>\n",
       "</div>"
      ],
      "text/plain": [
       "               city monday wednesday friday\n",
       "0            Moscow  15740     11056  15945\n",
       "1  Saint-Petersburg   5614      7003   5895"
      ]
     },
     "execution_count": 26,
     "metadata": {},
     "output_type": "execute_result"
    }
   ],
   "source": [
    "# Таблица с результатами\n",
    "columns = ['city', 'monday', 'wednesday', 'friday']\n",
    "data = [['Moscow', '15740', '11056', '15945'], ['Saint-Petersburg', '5614', '7003', '5895']]\n",
    "pd.DataFrame(data = data , columns = columns)"
   ]
  },
  {
   "cell_type": "markdown",
   "metadata": {
    "id": "-EgPIHYu_Zcu"
   },
   "source": [
    "**Выводы**\n",
    "\n",
    "Данные показывают разницу поведения пользователей:\n",
    "\n",
    "- В Москве пик прослушиваний приходится на понедельник и пятницу, а в среду заметен спад.\n",
    "- В Петербурге, наоборот, больше слушают музыку по средам. Активность в понедельник и пятницу здесь почти в равной мере уступает среде.\n",
    "\n",
    "Значит, данные говорят в пользу первой гипотезы."
   ]
  },
  {
   "cell_type": "markdown",
   "metadata": {
    "id": "atZAxtq4_Zcu"
   },
   "source": [
    "### Музыка в начале и в конце недели"
   ]
  },
  {
   "cell_type": "markdown",
   "metadata": {
    "id": "eXrQqXFH_Zcu"
   },
   "source": [
    "Согласно второй гипотезе, утром в понедельник в Москве преобладают одни жанры, а в Петербурге — другие. Так же и вечером пятницы преобладают разные жанры — в зависимости от города."
   ]
  },
  {
   "cell_type": "code",
   "execution_count": 27,
   "metadata": {
    "id": "qeaFfM_P_Zcu"
   },
   "outputs": [],
   "source": [
    "moscow_general = df[df['city']=='Moscow']"
   ]
  },
  {
   "cell_type": "code",
   "execution_count": 28,
   "metadata": {
    "id": "ORaVRKto_Zcu"
   },
   "outputs": [],
   "source": [
    "spb_general = df[df['city']=='Saint-Petersburg']"
   ]
  },
  {
   "cell_type": "code",
   "execution_count": 29,
   "metadata": {
    "id": "laJT9BYl_Zcu"
   },
   "outputs": [],
   "source": [
    "def genre_weekday(table, day, time1, time2):\n",
    "    genre_df = table[table['day'] == day]\n",
    "    genre_df = genre_df[genre_df['start_time'] > time1]\n",
    "    genre_df = genre_df[genre_df['start_time'] < time2]\n",
    "    \n",
    "    genre_df_count = genre_df.groupby('genre')['user_id'].count()\n",
    "    genre_df_sorted = genre_df_count.sort_values(ascending=False)\n",
    "    \n",
    "    return genre_df_sorted.head(10)"
   ]
  },
  {
   "cell_type": "code",
   "execution_count": 30,
   "metadata": {
    "id": "yz7itPUQ_Zcu"
   },
   "outputs": [
    {
     "data": {
      "text/plain": [
       "genre\n",
       "pop            781\n",
       "dance          549\n",
       "electronic     480\n",
       "rock           474\n",
       "hiphop         286\n",
       "ruspop         186\n",
       "world          181\n",
       "rusrap         175\n",
       "alternative    164\n",
       "unknown        161\n",
       "Name: user_id, dtype: int64"
      ]
     },
     "execution_count": 30,
     "metadata": {},
     "output_type": "execute_result"
    }
   ],
   "source": [
    "genre_weekday(moscow_general, 'Monday', '07:00', '11:00')"
   ]
  },
  {
   "cell_type": "code",
   "execution_count": 31,
   "metadata": {
    "id": "kwUcHPdy_Zcu"
   },
   "outputs": [
    {
     "data": {
      "text/plain": [
       "genre\n",
       "pop            218\n",
       "dance          182\n",
       "rock           162\n",
       "electronic     147\n",
       "hiphop          80\n",
       "ruspop          64\n",
       "alternative     58\n",
       "rusrap          55\n",
       "jazz            44\n",
       "classical       40\n",
       "Name: user_id, dtype: int64"
      ]
     },
     "execution_count": 31,
     "metadata": {},
     "output_type": "execute_result"
    }
   ],
   "source": [
    "genre_weekday(spb_general, 'Monday', '07:00', '11:00')"
   ]
  },
  {
   "cell_type": "code",
   "execution_count": 32,
   "metadata": {
    "id": "EzXVRE1o_Zcu"
   },
   "outputs": [
    {
     "data": {
      "text/plain": [
       "genre\n",
       "pop            713\n",
       "rock           517\n",
       "dance          495\n",
       "electronic     482\n",
       "hiphop         273\n",
       "world          208\n",
       "ruspop         170\n",
       "alternative    163\n",
       "classical      163\n",
       "rusrap         142\n",
       "Name: user_id, dtype: int64"
      ]
     },
     "execution_count": 32,
     "metadata": {},
     "output_type": "execute_result"
    }
   ],
   "source": [
    "genre_weekday(moscow_general, 'Friday', '17:00', '23:00')"
   ]
  },
  {
   "cell_type": "code",
   "execution_count": 33,
   "metadata": {
    "id": "JZaEKu5v_Zcu"
   },
   "outputs": [
    {
     "data": {
      "text/plain": [
       "genre\n",
       "pop            256\n",
       "electronic     216\n",
       "rock           216\n",
       "dance          210\n",
       "hiphop          97\n",
       "alternative     63\n",
       "jazz            61\n",
       "classical       60\n",
       "rusrap          59\n",
       "world           54\n",
       "Name: user_id, dtype: int64"
      ]
     },
     "execution_count": 33,
     "metadata": {},
     "output_type": "execute_result"
    }
   ],
   "source": [
    "genre_weekday(spb_general, 'Friday', '17:00', '23:00')"
   ]
  },
  {
   "cell_type": "markdown",
   "metadata": {
    "id": "wrCe4MNX_Zcu"
   },
   "source": [
    "**Выводы**\n",
    "\n",
    "Если сравнить топ-10 жанров в понедельник утром, можно сделать такие выводы:\n",
    "\n",
    "1. В Москве и Петербурге слушают похожую музыку. Единственное отличие — в московский рейтинг вошёл жанр “world”, а в петербургский — джаз и классика.\n",
    "\n",
    "2. В Москве пропущенных значений оказалось так много, что значение `'unknown'` заняло десятое место среди самых популярных жанров. Значит, пропущенные значения занимают существенную долю в данных и угрожают достоверности исследования.\n",
    "\n",
    "Вечер пятницы не меняет эту картину. Некоторые жанры поднимаются немного выше, другие спускаются, но в целом топ-10 остаётся тем же самым.\n",
    "\n",
    "Таким образом, вторая гипотеза подтвердилась лишь частично:\n",
    "* Пользователи слушают похожую музыку в начале недели и в конце.\n",
    "* Разница между Москвой и Петербургом не слишком выражена. В Москве чаще слушают русскую популярную музыку, в Петербурге — джаз.\n",
    "\n",
    "Однако пропуски в данных ставят под сомнение этот результат. В Москве их так много, что рейтинг топ-10 мог бы выглядеть иначе, если бы не утерянные  данные о жанрах."
   ]
  },
  {
   "cell_type": "markdown",
   "metadata": {
    "id": "JolODAqr_Zcu"
   },
   "source": [
    "### Жанровые предпочтения в Москве и Петербурге\n",
    "\n",
    "Гипотеза: Петербург — столица рэпа, музыку этого жанра там слушают чаще, чем в Москве.  А Москва — город контрастов, в котором, тем не менее, преобладает поп-музыка."
   ]
  },
  {
   "cell_type": "code",
   "execution_count": 34,
   "metadata": {
    "id": "r19lIPke_Zcu"
   },
   "outputs": [],
   "source": [
    "moscow_genres = moscow_general.groupby('genre')['user_id'].count().sort_values(ascending=False)"
   ]
  },
  {
   "cell_type": "code",
   "execution_count": 35,
   "metadata": {
    "id": "WhCSooF8_Zcv"
   },
   "outputs": [
    {
     "data": {
      "text/html": [
       "<div>\n",
       "<style scoped>\n",
       "    .dataframe tbody tr th:only-of-type {\n",
       "        vertical-align: middle;\n",
       "    }\n",
       "\n",
       "    .dataframe tbody tr th {\n",
       "        vertical-align: top;\n",
       "    }\n",
       "\n",
       "    .dataframe thead th {\n",
       "        text-align: right;\n",
       "    }\n",
       "</style>\n",
       "<table border=\"1\" class=\"dataframe\">\n",
       "  <thead>\n",
       "    <tr style=\"text-align: right;\">\n",
       "      <th></th>\n",
       "      <th>user_id</th>\n",
       "    </tr>\n",
       "    <tr>\n",
       "      <th>genre</th>\n",
       "      <th></th>\n",
       "    </tr>\n",
       "  </thead>\n",
       "  <tbody>\n",
       "    <tr>\n",
       "      <th>pop</th>\n",
       "      <td>5892</td>\n",
       "    </tr>\n",
       "    <tr>\n",
       "      <th>dance</th>\n",
       "      <td>4435</td>\n",
       "    </tr>\n",
       "    <tr>\n",
       "      <th>rock</th>\n",
       "      <td>3965</td>\n",
       "    </tr>\n",
       "    <tr>\n",
       "      <th>electronic</th>\n",
       "      <td>3786</td>\n",
       "    </tr>\n",
       "    <tr>\n",
       "      <th>hiphop</th>\n",
       "      <td>2096</td>\n",
       "    </tr>\n",
       "    <tr>\n",
       "      <th>classical</th>\n",
       "      <td>1616</td>\n",
       "    </tr>\n",
       "    <tr>\n",
       "      <th>world</th>\n",
       "      <td>1432</td>\n",
       "    </tr>\n",
       "    <tr>\n",
       "      <th>alternative</th>\n",
       "      <td>1379</td>\n",
       "    </tr>\n",
       "    <tr>\n",
       "      <th>ruspop</th>\n",
       "      <td>1372</td>\n",
       "    </tr>\n",
       "    <tr>\n",
       "      <th>rusrap</th>\n",
       "      <td>1161</td>\n",
       "    </tr>\n",
       "  </tbody>\n",
       "</table>\n",
       "</div>"
      ],
      "text/plain": [
       "             user_id\n",
       "genre               \n",
       "pop             5892\n",
       "dance           4435\n",
       "rock            3965\n",
       "electronic      3786\n",
       "hiphop          2096\n",
       "classical       1616\n",
       "world           1432\n",
       "alternative     1379\n",
       "ruspop          1372\n",
       "rusrap          1161"
      ]
     },
     "execution_count": 35,
     "metadata": {},
     "output_type": "execute_result"
    }
   ],
   "source": [
    "moscow_genres.to_frame().head(10)"
   ]
  },
  {
   "cell_type": "code",
   "execution_count": 36,
   "metadata": {
    "id": "gluLIpE7_Zcv"
   },
   "outputs": [],
   "source": [
    "spb_genres = spb_general.groupby('genre')['user_id'].count().sort_values(ascending=False)"
   ]
  },
  {
   "cell_type": "code",
   "execution_count": 37,
   "metadata": {
    "id": "uaGJHjVU_Zcv"
   },
   "outputs": [
    {
     "data": {
      "text/html": [
       "<div>\n",
       "<style scoped>\n",
       "    .dataframe tbody tr th:only-of-type {\n",
       "        vertical-align: middle;\n",
       "    }\n",
       "\n",
       "    .dataframe tbody tr th {\n",
       "        vertical-align: top;\n",
       "    }\n",
       "\n",
       "    .dataframe thead th {\n",
       "        text-align: right;\n",
       "    }\n",
       "</style>\n",
       "<table border=\"1\" class=\"dataframe\">\n",
       "  <thead>\n",
       "    <tr style=\"text-align: right;\">\n",
       "      <th></th>\n",
       "      <th>user_id</th>\n",
       "    </tr>\n",
       "    <tr>\n",
       "      <th>genre</th>\n",
       "      <th></th>\n",
       "    </tr>\n",
       "  </thead>\n",
       "  <tbody>\n",
       "    <tr>\n",
       "      <th>pop</th>\n",
       "      <td>2431</td>\n",
       "    </tr>\n",
       "    <tr>\n",
       "      <th>dance</th>\n",
       "      <td>1932</td>\n",
       "    </tr>\n",
       "    <tr>\n",
       "      <th>rock</th>\n",
       "      <td>1879</td>\n",
       "    </tr>\n",
       "    <tr>\n",
       "      <th>electronic</th>\n",
       "      <td>1736</td>\n",
       "    </tr>\n",
       "    <tr>\n",
       "      <th>hiphop</th>\n",
       "      <td>960</td>\n",
       "    </tr>\n",
       "    <tr>\n",
       "      <th>alternative</th>\n",
       "      <td>649</td>\n",
       "    </tr>\n",
       "    <tr>\n",
       "      <th>classical</th>\n",
       "      <td>646</td>\n",
       "    </tr>\n",
       "    <tr>\n",
       "      <th>rusrap</th>\n",
       "      <td>564</td>\n",
       "    </tr>\n",
       "    <tr>\n",
       "      <th>ruspop</th>\n",
       "      <td>538</td>\n",
       "    </tr>\n",
       "    <tr>\n",
       "      <th>world</th>\n",
       "      <td>515</td>\n",
       "    </tr>\n",
       "  </tbody>\n",
       "</table>\n",
       "</div>"
      ],
      "text/plain": [
       "             user_id\n",
       "genre               \n",
       "pop             2431\n",
       "dance           1932\n",
       "rock            1879\n",
       "electronic      1736\n",
       "hiphop           960\n",
       "alternative      649\n",
       "classical        646\n",
       "rusrap           564\n",
       "ruspop           538\n",
       "world            515"
      ]
     },
     "execution_count": 37,
     "metadata": {},
     "output_type": "execute_result"
    }
   ],
   "source": [
    "spb_genres.to_frame().head(10)"
   ]
  },
  {
   "cell_type": "markdown",
   "metadata": {
    "id": "RY51YJYu_Zcv"
   },
   "source": [
    "**Выводы**"
   ]
  },
  {
   "cell_type": "markdown",
   "metadata": {
    "id": "nVhnJEm__Zcv"
   },
   "source": [
    "Гипотеза частично подтвердилась:\n",
    "* Поп-музыка — самый популярный жанр в Москве, как и предполагала гипотеза. Более того, в топ-10 жанров встречается близкий жанр — русская популярная музыка.\n",
    "* Вопреки ожиданиям, рэп одинаково популярен в Москве и Петербурге. \n"
   ]
  },
  {
   "cell_type": "markdown",
   "metadata": {
    "id": "ykKQ0N65_Zcv"
   },
   "source": [
    "## Итоги исследования"
   ]
  },
  {
   "cell_type": "markdown",
   "metadata": {
    "id": "tjUwbHb3_Zcv"
   },
   "source": [
    "Мы проверили три гипотезы и установили:\n",
    "\n",
    "1. День недели по-разному влияет на активность пользователей в Москве и Петербурге. \n",
    "\n",
    "Первая гипотеза полностью подтвердилась.\n",
    "\n",
    "2. Музыкальные предпочтения не сильно меняются в течение недели — будь то Москва или Петербург. Небольшие различия заметны в начале недели, по понедельникам:\n",
    "* в Москве слушают музыку жанра “world”,\n",
    "* в Петербурге — джаз и классику.\n",
    "\n",
    "Таким образом, вторая гипотеза подтвердилась лишь отчасти. Этот результат мог оказаться иным, если бы не пропуски в данных.\n",
    "\n",
    "3. Во вкусах пользователей Москвы и Петербурга больше общего чем различий. Вопреки ожиданиям, предпочтения жанров в Петербурге напоминают московские.\n",
    "\n",
    "Третья гипотеза не подтвердилась. Если различия в предпочтениях и существуют, на основной массе пользователей они незаметны."
   ]
  }
 ],
 "metadata": {
  "ExecuteTimeLog": [
   {
    "duration": 257,
    "start_time": "2021-12-21T15:27:28.139Z"
   },
   {
    "duration": 190,
    "start_time": "2021-12-21T15:27:48.916Z"
   },
   {
    "duration": 759,
    "start_time": "2021-12-21T15:28:11.924Z"
   },
   {
    "duration": 3072,
    "start_time": "2021-12-21T15:28:14.095Z"
   },
   {
    "duration": -43,
    "start_time": "2021-12-21T15:28:17.212Z"
   },
   {
    "duration": 3,
    "start_time": "2021-12-21T15:29:22.722Z"
   },
   {
    "duration": 3006,
    "start_time": "2021-12-21T15:29:24.337Z"
   },
   {
    "duration": 2,
    "start_time": "2021-12-21T15:29:35.251Z"
   },
   {
    "duration": 1929,
    "start_time": "2021-12-21T15:29:37.688Z"
   },
   {
    "duration": 1516,
    "start_time": "2021-12-21T15:30:21.643Z"
   },
   {
    "duration": 2,
    "start_time": "2021-12-21T15:30:47.162Z"
   },
   {
    "duration": 1498,
    "start_time": "2021-12-21T15:30:48.902Z"
   },
   {
    "duration": 193,
    "start_time": "2021-12-21T15:31:08.185Z"
   },
   {
    "duration": 1466,
    "start_time": "2021-12-21T15:38:50.010Z"
   },
   {
    "duration": 3,
    "start_time": "2021-12-21T15:39:15.853Z"
   },
   {
    "duration": 1448,
    "start_time": "2021-12-21T15:39:18.808Z"
   },
   {
    "duration": 139,
    "start_time": "2021-12-21T15:41:54.527Z"
   },
   {
    "duration": 19,
    "start_time": "2021-12-21T15:41:59.763Z"
   },
   {
    "duration": 51,
    "start_time": "2021-12-21T15:42:25.707Z"
   },
   {
    "duration": 4,
    "start_time": "2021-12-21T15:53:47.795Z"
   },
   {
    "duration": 20,
    "start_time": "2021-12-21T15:57:23.959Z"
   },
   {
    "duration": 4,
    "start_time": "2021-12-21T15:57:27.174Z"
   },
   {
    "duration": 62,
    "start_time": "2021-12-21T15:58:31.456Z"
   },
   {
    "duration": 21,
    "start_time": "2021-12-21T15:58:50.224Z"
   },
   {
    "duration": 4,
    "start_time": "2021-12-21T15:58:53.408Z"
   },
   {
    "duration": 25,
    "start_time": "2021-12-21T16:04:00.825Z"
   },
   {
    "duration": 50,
    "start_time": "2021-12-21T16:13:52.610Z"
   },
   {
    "duration": 60,
    "start_time": "2021-12-21T16:14:05.117Z"
   },
   {
    "duration": 60,
    "start_time": "2021-12-21T16:15:40.492Z"
   },
   {
    "duration": 3,
    "start_time": "2021-12-21T16:16:29.706Z"
   },
   {
    "duration": 195,
    "start_time": "2021-12-21T16:18:30.897Z"
   },
   {
    "duration": 4,
    "start_time": "2021-12-21T16:19:25.937Z"
   },
   {
    "duration": 16,
    "start_time": "2021-12-21T16:20:27.335Z"
   },
   {
    "duration": 25,
    "start_time": "2021-12-21T16:20:49.418Z"
   },
   {
    "duration": 15,
    "start_time": "2021-12-21T16:20:53.454Z"
   },
   {
    "duration": 23,
    "start_time": "2021-12-21T16:20:54.706Z"
   },
   {
    "duration": 15,
    "start_time": "2021-12-21T16:21:18.874Z"
   },
   {
    "duration": 24,
    "start_time": "2021-12-21T16:21:20.836Z"
   },
   {
    "duration": 222,
    "start_time": "2021-12-21T16:23:00.505Z"
   },
   {
    "duration": 11,
    "start_time": "2021-12-21T16:23:13.606Z"
   },
   {
    "duration": 24,
    "start_time": "2021-12-21T16:23:16.312Z"
   },
   {
    "duration": 4,
    "start_time": "2021-12-21T16:23:47.885Z"
   },
   {
    "duration": 4,
    "start_time": "2021-12-21T16:24:02.651Z"
   },
   {
    "duration": 4873,
    "start_time": "2021-12-21T16:25:59.742Z"
   },
   {
    "duration": -36,
    "start_time": "2021-12-21T16:26:04.653Z"
   },
   {
    "duration": 16,
    "start_time": "2021-12-21T16:26:13.247Z"
   },
   {
    "duration": 22,
    "start_time": "2021-12-21T16:26:15.657Z"
   },
   {
    "duration": 18,
    "start_time": "2021-12-21T16:28:44.222Z"
   },
   {
    "duration": 27,
    "start_time": "2021-12-21T16:28:47.501Z"
   },
   {
    "duration": 17,
    "start_time": "2021-12-21T16:29:07.654Z"
   },
   {
    "duration": 25,
    "start_time": "2021-12-21T16:29:10.253Z"
   },
   {
    "duration": 58,
    "start_time": "2021-12-21T16:33:47.075Z"
   },
   {
    "duration": 65,
    "start_time": "2021-12-21T16:34:47.962Z"
   },
   {
    "duration": 57,
    "start_time": "2021-12-21T16:35:04.363Z"
   },
   {
    "duration": 64,
    "start_time": "2021-12-21T16:35:35.753Z"
   },
   {
    "duration": 55,
    "start_time": "2021-12-21T16:35:38.545Z"
   },
   {
    "duration": 62,
    "start_time": "2021-12-21T16:35:50.492Z"
   },
   {
    "duration": 55,
    "start_time": "2021-12-21T16:35:53.464Z"
   },
   {
    "duration": 69,
    "start_time": "2021-12-21T16:35:57.729Z"
   },
   {
    "duration": 5,
    "start_time": "2021-12-21T16:40:10.156Z"
   },
   {
    "duration": 278,
    "start_time": "2021-12-21T16:42:27.963Z"
   },
   {
    "duration": 6,
    "start_time": "2021-12-21T16:49:17.287Z"
   },
   {
    "duration": 226,
    "start_time": "2021-12-21T16:51:00.190Z"
   },
   {
    "duration": 196,
    "start_time": "2021-12-21T16:51:47.891Z"
   },
   {
    "duration": 203,
    "start_time": "2021-12-21T16:52:34.074Z"
   },
   {
    "duration": 196,
    "start_time": "2021-12-21T16:53:44.436Z"
   },
   {
    "duration": 279,
    "start_time": "2021-12-21T16:55:31.163Z"
   },
   {
    "duration": 252,
    "start_time": "2021-12-21T16:57:30.316Z"
   },
   {
    "duration": 195,
    "start_time": "2021-12-21T16:58:43.500Z"
   },
   {
    "duration": 703,
    "start_time": "2021-12-21T17:05:44.380Z"
   },
   {
    "duration": 979,
    "start_time": "2021-12-21T17:06:55.804Z"
   },
   {
    "duration": 5,
    "start_time": "2021-12-21T17:08:09.453Z"
   },
   {
    "duration": 4,
    "start_time": "2021-12-21T17:08:46.654Z"
   },
   {
    "duration": 4,
    "start_time": "2021-12-21T17:11:21.231Z"
   },
   {
    "duration": 6,
    "start_time": "2021-12-21T17:15:57.655Z"
   },
   {
    "duration": 3,
    "start_time": "2021-12-21T17:18:06.934Z"
   },
   {
    "duration": 4,
    "start_time": "2021-12-21T17:18:13.942Z"
   },
   {
    "duration": 361,
    "start_time": "2021-12-21T17:19:30.796Z"
   },
   {
    "duration": 454,
    "start_time": "2021-12-21T17:19:44.674Z"
   },
   {
    "duration": 3,
    "start_time": "2021-12-21T17:21:03.790Z"
   },
   {
    "duration": 4,
    "start_time": "2021-12-21T17:21:12.638Z"
   },
   {
    "duration": 3,
    "start_time": "2021-12-21T17:24:05.931Z"
   },
   {
    "duration": 439,
    "start_time": "2021-12-21T17:24:24.955Z"
   },
   {
    "duration": 71,
    "start_time": "2021-12-21T17:24:34.127Z"
   },
   {
    "duration": 484,
    "start_time": "2021-12-21T17:24:49.686Z"
   },
   {
    "duration": 66,
    "start_time": "2021-12-21T17:24:54.748Z"
   },
   {
    "duration": 44,
    "start_time": "2021-12-21T17:25:40.356Z"
   },
   {
    "duration": 53,
    "start_time": "2021-12-21T17:25:41.579Z"
   },
   {
    "duration": 201,
    "start_time": "2021-12-21T17:25:45.104Z"
   },
   {
    "duration": 6913,
    "start_time": "2021-12-21T17:26:05.155Z"
   },
   {
    "duration": 403,
    "start_time": "2021-12-21T17:26:40.703Z"
   },
   {
    "duration": 371,
    "start_time": "2021-12-21T17:26:48.714Z"
   },
   {
    "duration": 436,
    "start_time": "2021-12-21T17:27:08.121Z"
   },
   {
    "duration": 313,
    "start_time": "2021-12-21T17:27:16.098Z"
   },
   {
    "duration": 3,
    "start_time": "2021-12-21T17:31:03.293Z"
   },
   {
    "duration": 6,
    "start_time": "2021-12-21T17:33:27.704Z"
   },
   {
    "duration": 223,
    "start_time": "2021-12-21T17:38:52.275Z"
   },
   {
    "duration": 4,
    "start_time": "2021-12-21T17:39:10.459Z"
   },
   {
    "duration": 308,
    "start_time": "2021-12-21T17:41:02.163Z"
   },
   {
    "duration": 5,
    "start_time": "2021-12-21T17:42:26.512Z"
   },
   {
    "duration": 237,
    "start_time": "2021-12-21T17:43:45.139Z"
   },
   {
    "duration": 782,
    "start_time": "2021-12-21T17:46:25.499Z"
   },
   {
    "duration": 3,
    "start_time": "2021-12-21T17:46:45.217Z"
   },
   {
    "duration": 17,
    "start_time": "2021-12-21T17:46:48.354Z"
   },
   {
    "duration": 242,
    "start_time": "2021-12-21T17:48:23.905Z"
   },
   {
    "duration": 205,
    "start_time": "2021-12-21T17:48:53.390Z"
   },
   {
    "duration": 5,
    "start_time": "2021-12-21T17:48:57.498Z"
   },
   {
    "duration": 201,
    "start_time": "2021-12-21T17:49:07.356Z"
   },
   {
    "duration": 6,
    "start_time": "2021-12-21T17:53:44.751Z"
   },
   {
    "duration": 6,
    "start_time": "2021-12-21T17:55:04.415Z"
   },
   {
    "duration": 195,
    "start_time": "2021-12-21T17:56:56.850Z"
   },
   {
    "duration": 8354,
    "start_time": "2021-12-21T18:01:49.862Z"
   },
   {
    "duration": 28,
    "start_time": "2021-12-21T18:03:15.668Z"
   },
   {
    "duration": 40,
    "start_time": "2021-12-21T18:04:07.238Z"
   },
   {
    "duration": 379,
    "start_time": "2021-12-21T18:04:57.687Z"
   },
   {
    "duration": 545,
    "start_time": "2021-12-21T18:05:11.616Z"
   },
   {
    "duration": 384,
    "start_time": "2021-12-21T18:05:19.113Z"
   },
   {
    "duration": 7,
    "start_time": "2021-12-21T18:06:24.116Z"
   },
   {
    "duration": 33,
    "start_time": "2021-12-21T18:09:03.656Z"
   },
   {
    "duration": 26,
    "start_time": "2021-12-21T18:09:11.385Z"
   },
   {
    "duration": 35,
    "start_time": "2021-12-21T18:10:33.557Z"
   },
   {
    "duration": 32,
    "start_time": "2021-12-21T18:11:48.315Z"
   },
   {
    "duration": 33,
    "start_time": "2021-12-21T18:12:07.228Z"
   },
   {
    "duration": 5,
    "start_time": "2021-12-22T11:38:33.331Z"
   },
   {
    "duration": 125,
    "start_time": "2021-12-22T11:38:40.520Z"
   },
   {
    "duration": 390,
    "start_time": "2021-12-22T11:38:47.890Z"
   },
   {
    "duration": 784,
    "start_time": "2021-12-22T11:39:07.635Z"
   },
   {
    "duration": 187,
    "start_time": "2021-12-22T11:39:08.652Z"
   },
   {
    "duration": 39,
    "start_time": "2021-12-22T11:39:18.785Z"
   },
   {
    "duration": 5,
    "start_time": "2021-12-22T11:39:21.264Z"
   },
   {
    "duration": 28,
    "start_time": "2021-12-22T11:39:22.079Z"
   },
   {
    "duration": 5,
    "start_time": "2021-12-22T11:39:23.048Z"
   },
   {
    "duration": 38,
    "start_time": "2021-12-22T11:39:24.086Z"
   },
   {
    "duration": 24,
    "start_time": "2021-12-22T11:39:25.715Z"
   },
   {
    "duration": 30,
    "start_time": "2021-12-22T11:39:26.714Z"
   },
   {
    "duration": 93,
    "start_time": "2021-12-22T11:39:27.813Z"
   },
   {
    "duration": 109,
    "start_time": "2021-12-22T11:39:28.765Z"
   },
   {
    "duration": 98,
    "start_time": "2021-12-22T11:39:29.692Z"
   },
   {
    "duration": 28,
    "start_time": "2021-12-22T11:39:31.203Z"
   },
   {
    "duration": 6,
    "start_time": "2021-12-22T11:39:32.422Z"
   },
   {
    "duration": 23,
    "start_time": "2021-12-22T11:39:33.327Z"
   },
   {
    "duration": 15,
    "start_time": "2021-12-22T11:39:34.473Z"
   },
   {
    "duration": 32,
    "start_time": "2021-12-22T11:39:38.262Z"
   },
   {
    "duration": 40,
    "start_time": "2021-12-22T11:39:39.540Z"
   },
   {
    "duration": 11262,
    "start_time": "2021-12-22T11:39:42.215Z"
   },
   {
    "duration": 580,
    "start_time": "2021-12-22T11:41:24.431Z"
   },
   {
    "duration": 657,
    "start_time": "2021-12-22T11:41:48.799Z"
   },
   {
    "duration": 379,
    "start_time": "2021-12-22T11:42:34.238Z"
   },
   {
    "duration": 418,
    "start_time": "2021-12-22T11:43:18.562Z"
   },
   {
    "duration": 433,
    "start_time": "2021-12-22T11:44:13.078Z"
   },
   {
    "duration": 37,
    "start_time": "2021-12-22T11:44:37.595Z"
   },
   {
    "duration": 446,
    "start_time": "2021-12-22T11:44:52.401Z"
   },
   {
    "duration": 9,
    "start_time": "2021-12-22T11:45:14.327Z"
   },
   {
    "duration": 116,
    "start_time": "2021-12-22T11:45:39.632Z"
   },
   {
    "duration": 5435,
    "start_time": "2021-12-22T11:45:48.988Z"
   },
   {
    "duration": 5506,
    "start_time": "2021-12-22T11:46:10.020Z"
   },
   {
    "duration": 13271,
    "start_time": "2021-12-22T11:47:23.410Z"
   },
   {
    "duration": 59,
    "start_time": "2021-12-22T11:48:15.023Z"
   },
   {
    "duration": 338,
    "start_time": "2021-12-22T11:48:25.541Z"
   },
   {
    "duration": 8906,
    "start_time": "2021-12-22T11:48:48.646Z"
   },
   {
    "duration": 106,
    "start_time": "2021-12-22T11:49:04.009Z"
   },
   {
    "duration": 13434,
    "start_time": "2021-12-22T11:49:09.242Z"
   },
   {
    "duration": 6333,
    "start_time": "2021-12-22T11:51:33.533Z"
   },
   {
    "duration": 11000,
    "start_time": "2021-12-22T11:51:53.166Z"
   },
   {
    "duration": 9492,
    "start_time": "2021-12-22T11:52:59.655Z"
   },
   {
    "duration": 473,
    "start_time": "2021-12-22T11:54:18.806Z"
   },
   {
    "duration": 14,
    "start_time": "2021-12-22T11:54:25.141Z"
   },
   {
    "duration": 5,
    "start_time": "2021-12-22T12:03:28.100Z"
   },
   {
    "duration": 641,
    "start_time": "2021-12-22T12:03:57.492Z"
   },
   {
    "duration": 5,
    "start_time": "2021-12-22T12:04:55.400Z"
   },
   {
    "duration": 20,
    "start_time": "2021-12-22T12:04:56.338Z"
   },
   {
    "duration": 19,
    "start_time": "2021-12-22T12:06:04.210Z"
   },
   {
    "duration": 19,
    "start_time": "2021-12-22T12:06:05.969Z"
   },
   {
    "duration": 20,
    "start_time": "2021-12-22T12:06:06.948Z"
   },
   {
    "duration": 21,
    "start_time": "2021-12-22T12:06:07.594Z"
   },
   {
    "duration": 20,
    "start_time": "2021-12-22T12:06:08.125Z"
   },
   {
    "duration": 344,
    "start_time": "2021-12-22T12:09:23.535Z"
   },
   {
    "duration": 385,
    "start_time": "2021-12-22T12:10:48.887Z"
   },
   {
    "duration": 332,
    "start_time": "2021-12-22T12:10:57.522Z"
   },
   {
    "duration": 348,
    "start_time": "2021-12-22T12:13:06.088Z"
   },
   {
    "duration": 16,
    "start_time": "2021-12-22T12:13:23.337Z"
   },
   {
    "duration": 14,
    "start_time": "2021-12-22T12:14:10.870Z"
   },
   {
    "duration": 16,
    "start_time": "2021-12-22T12:24:26.073Z"
   },
   {
    "duration": 12,
    "start_time": "2021-12-22T12:24:26.745Z"
   },
   {
    "duration": 348,
    "start_time": "2021-12-22T12:34:49.855Z"
   },
   {
    "duration": 6,
    "start_time": "2021-12-22T12:35:00.810Z"
   },
   {
    "duration": 16777,
    "start_time": "2021-12-22T12:35:04.659Z"
   },
   {
    "duration": 6,
    "start_time": "2021-12-22T12:37:51.034Z"
   },
   {
    "duration": 10449,
    "start_time": "2021-12-22T12:37:54.439Z"
   },
   {
    "duration": 24,
    "start_time": "2021-12-22T12:38:49.482Z"
   },
   {
    "duration": 6,
    "start_time": "2021-12-22T12:39:39.912Z"
   },
   {
    "duration": 922,
    "start_time": "2021-12-22T12:39:43.560Z"
   },
   {
    "duration": 6,
    "start_time": "2021-12-22T12:41:45.340Z"
   },
   {
    "duration": 55,
    "start_time": "2021-12-22T12:41:47.547Z"
   },
   {
    "duration": 10,
    "start_time": "2021-12-22T12:42:34.612Z"
   },
   {
    "duration": 46,
    "start_time": "2021-12-22T12:42:36.638Z"
   },
   {
    "duration": 8,
    "start_time": "2021-12-22T12:43:24.137Z"
   },
   {
    "duration": 666,
    "start_time": "2021-12-22T12:43:27.156Z"
   },
   {
    "duration": 6,
    "start_time": "2021-12-22T12:43:34.588Z"
   },
   {
    "duration": 35,
    "start_time": "2021-12-22T12:43:35.140Z"
   },
   {
    "duration": 28,
    "start_time": "2021-12-22T12:43:59.174Z"
   },
   {
    "duration": 28,
    "start_time": "2021-12-22T12:45:03.539Z"
   },
   {
    "duration": 25,
    "start_time": "2021-12-22T12:45:10.073Z"
   },
   {
    "duration": 34,
    "start_time": "2021-12-22T12:56:06.850Z"
   },
   {
    "duration": 14,
    "start_time": "2021-12-22T12:56:22.737Z"
   },
   {
    "duration": 17,
    "start_time": "2021-12-22T13:00:33.327Z"
   },
   {
    "duration": 17,
    "start_time": "2021-12-22T13:00:48.172Z"
   },
   {
    "duration": 12,
    "start_time": "2021-12-22T13:01:18.020Z"
   },
   {
    "duration": 8,
    "start_time": "2021-12-22T13:06:14.675Z"
   },
   {
    "duration": 762,
    "start_time": "2021-12-22T13:06:16.803Z"
   },
   {
    "duration": 6,
    "start_time": "2021-12-22T13:06:31.814Z"
   },
   {
    "duration": 51,
    "start_time": "2021-12-22T13:06:32.846Z"
   },
   {
    "duration": 26,
    "start_time": "2021-12-22T13:06:33.794Z"
   },
   {
    "duration": 30,
    "start_time": "2021-12-22T13:06:37.012Z"
   },
   {
    "duration": 23,
    "start_time": "2021-12-22T13:06:37.592Z"
   },
   {
    "duration": 6,
    "start_time": "2021-12-22T13:08:32.291Z"
   },
   {
    "duration": 700,
    "start_time": "2021-12-22T13:08:33.312Z"
   },
   {
    "duration": 6,
    "start_time": "2021-12-22T13:09:12.909Z"
   },
   {
    "duration": 27,
    "start_time": "2021-12-22T13:09:15.523Z"
   },
   {
    "duration": 17,
    "start_time": "2021-12-22T13:09:22.717Z"
   },
   {
    "duration": 26,
    "start_time": "2021-12-22T13:09:26.617Z"
   },
   {
    "duration": 17,
    "start_time": "2021-12-22T13:09:28.984Z"
   },
   {
    "duration": 59,
    "start_time": "2021-12-22T13:09:39.345Z"
   },
   {
    "duration": 18,
    "start_time": "2021-12-22T13:09:45.085Z"
   },
   {
    "duration": 12,
    "start_time": "2021-12-22T13:09:47.407Z"
   },
   {
    "duration": 19,
    "start_time": "2021-12-22T13:10:22.864Z"
   },
   {
    "duration": 6,
    "start_time": "2021-12-22T13:10:23.881Z"
   },
   {
    "duration": 10,
    "start_time": "2021-12-22T13:10:43.266Z"
   },
   {
    "duration": 9,
    "start_time": "2021-12-22T13:10:44.145Z"
   },
   {
    "duration": 6,
    "start_time": "2021-12-22T13:12:45.666Z"
   },
   {
    "duration": 6,
    "start_time": "2021-12-22T13:12:51.548Z"
   },
   {
    "duration": 6,
    "start_time": "2021-12-22T13:13:42.341Z"
   },
   {
    "duration": 7,
    "start_time": "2021-12-22T13:13:50.055Z"
   },
   {
    "duration": 821,
    "start_time": "2021-12-23T10:09:40.224Z"
   },
   {
    "duration": 193,
    "start_time": "2021-12-23T10:09:41.047Z"
   },
   {
    "duration": 26,
    "start_time": "2021-12-23T10:09:41.243Z"
   },
   {
    "duration": 54,
    "start_time": "2021-12-23T10:09:41.272Z"
   },
   {
    "duration": 4,
    "start_time": "2021-12-23T10:09:41.329Z"
   },
   {
    "duration": 28,
    "start_time": "2021-12-23T10:09:41.336Z"
   },
   {
    "duration": 6,
    "start_time": "2021-12-23T10:09:41.366Z"
   },
   {
    "duration": 60,
    "start_time": "2021-12-23T10:09:41.374Z"
   },
   {
    "duration": 23,
    "start_time": "2021-12-23T10:09:41.438Z"
   },
   {
    "duration": 30,
    "start_time": "2021-12-23T10:09:41.465Z"
   },
   {
    "duration": 119,
    "start_time": "2021-12-23T10:09:41.497Z"
   },
   {
    "duration": 140,
    "start_time": "2021-12-23T10:09:41.619Z"
   },
   {
    "duration": 86,
    "start_time": "2021-12-23T10:09:41.762Z"
   },
   {
    "duration": 19,
    "start_time": "2021-12-23T10:09:41.850Z"
   },
   {
    "duration": 5,
    "start_time": "2021-12-23T10:09:41.871Z"
   },
   {
    "duration": 50,
    "start_time": "2021-12-23T10:09:41.879Z"
   },
   {
    "duration": 10,
    "start_time": "2021-12-23T10:09:41.932Z"
   },
   {
    "duration": 33,
    "start_time": "2021-12-23T10:09:41.945Z"
   },
   {
    "duration": 75,
    "start_time": "2021-12-23T10:09:41.980Z"
   },
   {
    "duration": 5,
    "start_time": "2021-12-23T10:09:42.057Z"
   },
   {
    "duration": 28,
    "start_time": "2021-12-23T10:09:42.064Z"
   },
   {
    "duration": 41,
    "start_time": "2021-12-23T10:09:42.094Z"
   },
   {
    "duration": 21,
    "start_time": "2021-12-23T10:09:42.138Z"
   },
   {
    "duration": 19,
    "start_time": "2021-12-23T10:09:42.161Z"
   },
   {
    "duration": 53,
    "start_time": "2021-12-23T10:09:42.182Z"
   },
   {
    "duration": 18,
    "start_time": "2021-12-23T10:09:42.237Z"
   },
   {
    "duration": 12,
    "start_time": "2021-12-23T10:09:42.260Z"
   },
   {
    "duration": 43,
    "start_time": "2021-12-23T10:09:42.275Z"
   },
   {
    "duration": 11,
    "start_time": "2021-12-23T10:09:42.321Z"
   },
   {
    "duration": 6,
    "start_time": "2021-12-23T10:09:42.334Z"
   },
   {
    "duration": 29,
    "start_time": "2021-12-23T10:09:42.342Z"
   },
   {
    "duration": 49,
    "start_time": "2021-12-23T10:09:42.373Z"
   },
   {
    "duration": 19,
    "start_time": "2021-12-23T10:09:42.424Z"
   },
   {
    "duration": 14,
    "start_time": "2021-12-23T10:09:42.446Z"
   },
   {
    "duration": 14,
    "start_time": "2021-12-23T10:09:42.463Z"
   },
   {
    "duration": 44,
    "start_time": "2021-12-23T10:09:42.479Z"
   },
   {
    "duration": 9,
    "start_time": "2021-12-23T10:09:42.525Z"
   },
   {
    "duration": 7,
    "start_time": "2021-12-23T10:09:42.537Z"
   },
   {
    "duration": 11,
    "start_time": "2021-12-23T10:12:58.341Z"
   },
   {
    "duration": 723,
    "start_time": "2021-12-23T11:22:14.913Z"
   },
   {
    "duration": 194,
    "start_time": "2021-12-23T11:22:15.739Z"
   },
   {
    "duration": 27,
    "start_time": "2021-12-23T11:22:17.231Z"
   },
   {
    "duration": 74,
    "start_time": "2021-12-23T11:22:17.880Z"
   },
   {
    "duration": 5,
    "start_time": "2021-12-23T11:22:21.302Z"
   },
   {
    "duration": 34,
    "start_time": "2021-12-23T11:22:22.683Z"
   },
   {
    "duration": 6,
    "start_time": "2021-12-23T11:22:23.854Z"
   },
   {
    "duration": 32,
    "start_time": "2021-12-23T11:22:24.719Z"
   },
   {
    "duration": 400,
    "start_time": "2021-12-23T11:22:26.730Z"
   },
   {
    "duration": 37,
    "start_time": "2021-12-23T11:24:30.747Z"
   },
   {
    "duration": 32,
    "start_time": "2021-12-23T11:24:35.977Z"
   },
   {
    "duration": 30,
    "start_time": "2021-12-23T11:24:43.134Z"
   },
   {
    "duration": 113,
    "start_time": "2021-12-23T11:25:20.056Z"
   },
   {
    "duration": 30,
    "start_time": "2021-12-23T11:26:30.692Z"
   },
   {
    "duration": 33,
    "start_time": "2021-12-23T11:26:32.736Z"
   },
   {
    "duration": 89,
    "start_time": "2021-12-23T11:26:34.114Z"
   },
   {
    "duration": 104,
    "start_time": "2021-12-23T11:26:35.291Z"
   },
   {
    "duration": 80,
    "start_time": "2021-12-23T11:26:36.377Z"
   },
   {
    "duration": 15,
    "start_time": "2021-12-23T11:26:38.263Z"
   },
   {
    "duration": 4,
    "start_time": "2021-12-23T11:26:41.552Z"
   },
   {
    "duration": 9,
    "start_time": "2021-12-23T11:26:47.676Z"
   },
   {
    "duration": 10,
    "start_time": "2021-12-23T11:26:50.836Z"
   },
   {
    "duration": 95,
    "start_time": "2021-12-23T11:28:00.290Z"
   },
   {
    "duration": 14,
    "start_time": "2021-12-23T11:28:26.932Z"
   },
   {
    "duration": 325,
    "start_time": "2021-12-23T11:30:26.955Z"
   },
   {
    "duration": 24,
    "start_time": "2021-12-23T11:30:32.865Z"
   },
   {
    "duration": 49,
    "start_time": "2021-12-23T11:30:36.485Z"
   },
   {
    "duration": 66,
    "start_time": "2021-12-23T11:30:37.719Z"
   },
   {
    "duration": 6,
    "start_time": "2021-12-23T11:30:38.861Z"
   },
   {
    "duration": 34,
    "start_time": "2021-12-23T11:30:39.914Z"
   },
   {
    "duration": 30,
    "start_time": "2021-12-23T11:30:40.357Z"
   },
   {
    "duration": 30,
    "start_time": "2021-12-23T11:30:40.804Z"
   },
   {
    "duration": 31,
    "start_time": "2021-12-23T11:30:41.615Z"
   },
   {
    "duration": 23,
    "start_time": "2021-12-23T11:30:42.309Z"
   },
   {
    "duration": 21,
    "start_time": "2021-12-23T11:30:42.756Z"
   },
   {
    "duration": 14,
    "start_time": "2021-12-23T11:30:43.660Z"
   },
   {
    "duration": 16,
    "start_time": "2021-12-23T11:30:46.212Z"
   },
   {
    "duration": 16,
    "start_time": "2021-12-23T11:30:46.720Z"
   },
   {
    "duration": 6,
    "start_time": "2021-12-23T11:30:47.688Z"
   },
   {
    "duration": 26,
    "start_time": "2021-12-23T11:30:48.760Z"
   },
   {
    "duration": 19,
    "start_time": "2021-12-23T11:30:50.341Z"
   },
   {
    "duration": 23,
    "start_time": "2021-12-23T11:30:51.174Z"
   },
   {
    "duration": 24,
    "start_time": "2021-12-23T11:31:03.809Z"
   },
   {
    "duration": 98,
    "start_time": "2021-12-23T11:31:05.231Z"
   },
   {
    "duration": 18,
    "start_time": "2021-12-23T11:31:05.580Z"
   },
   {
    "duration": 17,
    "start_time": "2021-12-23T11:33:06.128Z"
   },
   {
    "duration": 12,
    "start_time": "2021-12-23T11:33:08.132Z"
   },
   {
    "duration": 7,
    "start_time": "2021-12-23T11:33:10.927Z"
   },
   {
    "duration": 4,
    "start_time": "2021-12-23T11:33:21.984Z"
   },
   {
    "duration": 4,
    "start_time": "2021-12-23T11:33:25.457Z"
   },
   {
    "duration": 10,
    "start_time": "2021-12-23T11:33:51.876Z"
   },
   {
    "duration": 10,
    "start_time": "2021-12-23T11:35:50.394Z"
   },
   {
    "duration": 368,
    "start_time": "2021-12-23T11:37:34.759Z"
   },
   {
    "duration": 341,
    "start_time": "2021-12-23T11:38:54.830Z"
   },
   {
    "duration": 25,
    "start_time": "2021-12-23T11:39:25.704Z"
   },
   {
    "duration": 14,
    "start_time": "2021-12-23T11:39:34.125Z"
   },
   {
    "duration": 12,
    "start_time": "2021-12-23T11:39:49.139Z"
   },
   {
    "duration": 606,
    "start_time": "2021-12-23T17:28:20.165Z"
   },
   {
    "duration": 132,
    "start_time": "2021-12-23T17:28:21.080Z"
   },
   {
    "duration": 16,
    "start_time": "2021-12-23T17:28:21.803Z"
   },
   {
    "duration": 25,
    "start_time": "2021-12-23T17:28:22.167Z"
   },
   {
    "duration": 3,
    "start_time": "2021-12-23T17:28:23.508Z"
   },
   {
    "duration": 19,
    "start_time": "2021-12-23T17:28:23.850Z"
   },
   {
    "duration": 3,
    "start_time": "2021-12-23T17:28:24.219Z"
   },
   {
    "duration": 38,
    "start_time": "2021-12-23T17:28:24.597Z"
   },
   {
    "duration": 27,
    "start_time": "2021-12-23T17:28:25.202Z"
   },
   {
    "duration": 24,
    "start_time": "2021-12-23T17:28:26.027Z"
   },
   {
    "duration": 54,
    "start_time": "2021-12-23T17:28:26.424Z"
   },
   {
    "duration": 66,
    "start_time": "2021-12-23T17:28:26.862Z"
   },
   {
    "duration": 54,
    "start_time": "2021-12-23T17:28:27.266Z"
   },
   {
    "duration": 10,
    "start_time": "2021-12-23T17:28:27.882Z"
   },
   {
    "duration": 3,
    "start_time": "2021-12-23T17:28:28.324Z"
   },
   {
    "duration": 11,
    "start_time": "2021-12-23T17:28:29.232Z"
   },
   {
    "duration": 14,
    "start_time": "2021-12-23T17:28:29.663Z"
   },
   {
    "duration": 11,
    "start_time": "2021-12-23T17:28:31.455Z"
   },
   {
    "duration": 11,
    "start_time": "2021-12-23T17:28:32.806Z"
   },
   {
    "duration": 4,
    "start_time": "2021-12-23T17:28:33.844Z"
   },
   {
    "duration": 16,
    "start_time": "2021-12-23T17:28:34.480Z"
   },
   {
    "duration": 21,
    "start_time": "2021-12-23T17:28:35.074Z"
   },
   {
    "duration": 16,
    "start_time": "2021-12-23T17:28:35.286Z"
   },
   {
    "duration": 13,
    "start_time": "2021-12-23T17:28:35.891Z"
   },
   {
    "duration": 16,
    "start_time": "2021-12-23T17:28:36.080Z"
   },
   {
    "duration": 15,
    "start_time": "2021-12-23T17:28:36.298Z"
   },
   {
    "duration": 11,
    "start_time": "2021-12-23T17:28:36.901Z"
   },
   {
    "duration": 12,
    "start_time": "2021-12-23T17:28:39.156Z"
   },
   {
    "duration": 14,
    "start_time": "2021-12-23T17:28:39.590Z"
   },
   {
    "duration": 6,
    "start_time": "2021-12-23T17:28:40.419Z"
   },
   {
    "duration": 22,
    "start_time": "2021-12-23T17:28:41.454Z"
   },
   {
    "duration": 16,
    "start_time": "2021-12-23T17:28:41.940Z"
   },
   {
    "duration": 18,
    "start_time": "2021-12-23T17:28:43.987Z"
   },
   {
    "duration": 14,
    "start_time": "2021-12-23T17:28:53.374Z"
   },
   {
    "duration": 21,
    "start_time": "2021-12-23T17:29:12.773Z"
   }
  ],
  "colab": {
   "collapsed_sections": [
    "E0vqbgi9ay0H",
    "VUC88oWjTJw2"
   ],
   "name": "yandex_music_project_2021.2.ipynb",
   "provenance": []
  },
  "kernelspec": {
   "display_name": "Python 3 (ipykernel)",
   "language": "python",
   "name": "python3"
  },
  "language_info": {
   "codemirror_mode": {
    "name": "ipython",
    "version": 3
   },
   "file_extension": ".py",
   "mimetype": "text/x-python",
   "name": "python",
   "nbconvert_exporter": "python",
   "pygments_lexer": "ipython3",
   "version": "3.9.7"
  },
  "toc": {
   "base_numbering": 1,
   "nav_menu": {},
   "number_sections": true,
   "sideBar": true,
   "skip_h1_title": true,
   "title_cell": "Table of Contents",
   "title_sidebar": "Contents",
   "toc_cell": false,
   "toc_position": {
    "height": "calc(100% - 180px)",
    "left": "10px",
    "top": "150px",
    "width": "366.396px"
   },
   "toc_section_display": true,
   "toc_window_display": true
  }
 },
 "nbformat": 4,
 "nbformat_minor": 1
}
