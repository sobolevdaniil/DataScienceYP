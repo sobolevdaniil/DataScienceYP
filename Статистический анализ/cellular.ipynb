{
 "cells": [
  {
   "cell_type": "markdown",
   "metadata": {},
   "source": [
    "# Определение перспективного тарифа для телеком-компании"
   ]
  },
  {
   "cell_type": "markdown",
   "metadata": {},
   "source": [
    "Компания «Мегалайн» — федеральный оператор сотовой связи. Клиентам предлагают два тарифных плана: «Смарт» и «Ультра». Чтобы скорректировать рекламный бюджет, коммерческий департамент хочет понять, какой тариф приносит больше денег.<br> <br>\n",
    "Предстоит сделать предварительный анализ тарифов на небольшой выборке клиентов. В нашем распоряжении данные 500 пользователей «Мегалайна»: кто они, откуда, каким тарифом пользуются, сколько звонков и сообщений каждый отправил за 2018 год. Нужно проанализировать поведение клиентов и сделать вывод — какой тариф лучше."
   ]
  },
  {
   "cell_type": "markdown",
   "metadata": {},
   "source": [
    "## Импорт необходимых библиотек"
   ]
  },
  {
   "cell_type": "code",
   "execution_count": 1,
   "metadata": {},
   "outputs": [],
   "source": [
    "import pandas as pd\n",
    "\n",
    "import seaborn as sns\n",
    "import matplotlib.pyplot as plt\n",
    "\n",
    "import warnings\n",
    "warnings.filterwarnings(\"ignore\")"
   ]
  },
  {
   "cell_type": "markdown",
   "metadata": {},
   "source": [
    "## Изучение данных из файлов"
   ]
  },
  {
   "cell_type": "code",
   "execution_count": 2,
   "metadata": {},
   "outputs": [],
   "source": [
    "data_call = pd.read_csv('/Users/daniilsobolev/Desktop/ml projects/Статистический анализ/calls.csv')\n",
    "data_internet = pd.read_csv('/Users/daniilsobolev/Desktop/ml projects/Статистический анализ/internet.csv')\n",
    "data_message = pd.read_csv('/Users/daniilsobolev/Desktop/ml projects/Статистический анализ/messages.csv')\n",
    "data_tariff = pd.read_csv('//Users/daniilsobolev/Desktop/ml projects/Статистический анализ/tariffs.csv')\n",
    "data_user = pd.read_csv('/Users/daniilsobolev/Desktop/ml projects/Статистический анализ/users.csv')"
   ]
  },
  {
   "cell_type": "markdown",
   "metadata": {},
   "source": [
    "### Информация о звонках"
   ]
  },
  {
   "cell_type": "code",
   "execution_count": 3,
   "metadata": {},
   "outputs": [
    {
     "data": {
      "text/html": [
       "<div>\n",
       "<style scoped>\n",
       "    .dataframe tbody tr th:only-of-type {\n",
       "        vertical-align: middle;\n",
       "    }\n",
       "\n",
       "    .dataframe tbody tr th {\n",
       "        vertical-align: top;\n",
       "    }\n",
       "\n",
       "    .dataframe thead th {\n",
       "        text-align: right;\n",
       "    }\n",
       "</style>\n",
       "<table border=\"1\" class=\"dataframe\">\n",
       "  <thead>\n",
       "    <tr style=\"text-align: right;\">\n",
       "      <th></th>\n",
       "      <th>id</th>\n",
       "      <th>call_date</th>\n",
       "      <th>duration</th>\n",
       "      <th>user_id</th>\n",
       "    </tr>\n",
       "  </thead>\n",
       "  <tbody>\n",
       "    <tr>\n",
       "      <th>0</th>\n",
       "      <td>1000_0</td>\n",
       "      <td>2018-07-25</td>\n",
       "      <td>0.00</td>\n",
       "      <td>1000</td>\n",
       "    </tr>\n",
       "    <tr>\n",
       "      <th>1</th>\n",
       "      <td>1000_1</td>\n",
       "      <td>2018-08-17</td>\n",
       "      <td>0.00</td>\n",
       "      <td>1000</td>\n",
       "    </tr>\n",
       "    <tr>\n",
       "      <th>2</th>\n",
       "      <td>1000_2</td>\n",
       "      <td>2018-06-11</td>\n",
       "      <td>2.85</td>\n",
       "      <td>1000</td>\n",
       "    </tr>\n",
       "    <tr>\n",
       "      <th>3</th>\n",
       "      <td>1000_3</td>\n",
       "      <td>2018-09-21</td>\n",
       "      <td>13.80</td>\n",
       "      <td>1000</td>\n",
       "    </tr>\n",
       "    <tr>\n",
       "      <th>4</th>\n",
       "      <td>1000_4</td>\n",
       "      <td>2018-12-15</td>\n",
       "      <td>5.18</td>\n",
       "      <td>1000</td>\n",
       "    </tr>\n",
       "  </tbody>\n",
       "</table>\n",
       "</div>"
      ],
      "text/plain": [
       "       id   call_date  duration  user_id\n",
       "0  1000_0  2018-07-25      0.00     1000\n",
       "1  1000_1  2018-08-17      0.00     1000\n",
       "2  1000_2  2018-06-11      2.85     1000\n",
       "3  1000_3  2018-09-21     13.80     1000\n",
       "4  1000_4  2018-12-15      5.18     1000"
      ]
     },
     "metadata": {},
     "output_type": "display_data"
    }
   ],
   "source": [
    "display(data_call.head())"
   ]
  },
  {
   "cell_type": "markdown",
   "metadata": {},
   "source": [
    "**id** — уникальный номер звонка<br>\n",
    "**call_date** — дата звонка<br>\n",
    "**duration** — длительность звонка в минутах<br>\n",
    "**user_id** — идентификатор пользователя, сделавшего звонок<br>\n",
    "\n",
    "**Необходмо доработать:**<br>\n",
    "**1) Длительность звонка округлить до целых в большую сторону<br>**\n",
    "**2) Дату звонка записать в отдельном столбце month**"
   ]
  },
  {
   "cell_type": "markdown",
   "metadata": {},
   "source": [
    "### Информация об интернет-сессиях"
   ]
  },
  {
   "cell_type": "code",
   "execution_count": 4,
   "metadata": {},
   "outputs": [
    {
     "data": {
      "text/html": [
       "<div>\n",
       "<style scoped>\n",
       "    .dataframe tbody tr th:only-of-type {\n",
       "        vertical-align: middle;\n",
       "    }\n",
       "\n",
       "    .dataframe tbody tr th {\n",
       "        vertical-align: top;\n",
       "    }\n",
       "\n",
       "    .dataframe thead th {\n",
       "        text-align: right;\n",
       "    }\n",
       "</style>\n",
       "<table border=\"1\" class=\"dataframe\">\n",
       "  <thead>\n",
       "    <tr style=\"text-align: right;\">\n",
       "      <th></th>\n",
       "      <th>Unnamed: 0</th>\n",
       "      <th>id</th>\n",
       "      <th>mb_used</th>\n",
       "      <th>session_date</th>\n",
       "      <th>user_id</th>\n",
       "    </tr>\n",
       "  </thead>\n",
       "  <tbody>\n",
       "    <tr>\n",
       "      <th>0</th>\n",
       "      <td>0</td>\n",
       "      <td>1000_0</td>\n",
       "      <td>112.95</td>\n",
       "      <td>2018-11-25</td>\n",
       "      <td>1000</td>\n",
       "    </tr>\n",
       "    <tr>\n",
       "      <th>1</th>\n",
       "      <td>1</td>\n",
       "      <td>1000_1</td>\n",
       "      <td>1052.81</td>\n",
       "      <td>2018-09-07</td>\n",
       "      <td>1000</td>\n",
       "    </tr>\n",
       "    <tr>\n",
       "      <th>2</th>\n",
       "      <td>2</td>\n",
       "      <td>1000_2</td>\n",
       "      <td>1197.26</td>\n",
       "      <td>2018-06-25</td>\n",
       "      <td>1000</td>\n",
       "    </tr>\n",
       "    <tr>\n",
       "      <th>3</th>\n",
       "      <td>3</td>\n",
       "      <td>1000_3</td>\n",
       "      <td>550.27</td>\n",
       "      <td>2018-08-22</td>\n",
       "      <td>1000</td>\n",
       "    </tr>\n",
       "    <tr>\n",
       "      <th>4</th>\n",
       "      <td>4</td>\n",
       "      <td>1000_4</td>\n",
       "      <td>302.56</td>\n",
       "      <td>2018-09-24</td>\n",
       "      <td>1000</td>\n",
       "    </tr>\n",
       "  </tbody>\n",
       "</table>\n",
       "</div>"
      ],
      "text/plain": [
       "   Unnamed: 0      id  mb_used session_date  user_id\n",
       "0           0  1000_0   112.95   2018-11-25     1000\n",
       "1           1  1000_1  1052.81   2018-09-07     1000\n",
       "2           2  1000_2  1197.26   2018-06-25     1000\n",
       "3           3  1000_3   550.27   2018-08-22     1000\n",
       "4           4  1000_4   302.56   2018-09-24     1000"
      ]
     },
     "execution_count": 4,
     "metadata": {},
     "output_type": "execute_result"
    }
   ],
   "source": [
    "data_internet.head()"
   ]
  },
  {
   "cell_type": "markdown",
   "metadata": {},
   "source": [
    "**id** — уникальный номер сессии<br>\n",
    "**mb_used** — объём потраченного за сессию интернет-трафика (в мегабайтах)<br>\n",
    "**session_date** — дата интернет-сессии<br>\n",
    "**user_id** — идентификатор пользователя<br>\n",
    "\n",
    "\n",
    "**Необходмо доработать:**<br>\n",
    "**1) Удалить столбец \"Unnamed:0\"**<br>\n",
    "**2) Дату интернет-сессии записать в отдельном столбце month**"
   ]
  },
  {
   "cell_type": "markdown",
   "metadata": {},
   "source": [
    "### Информация о сообщениях"
   ]
  },
  {
   "cell_type": "code",
   "execution_count": 5,
   "metadata": {},
   "outputs": [
    {
     "data": {
      "text/html": [
       "<div>\n",
       "<style scoped>\n",
       "    .dataframe tbody tr th:only-of-type {\n",
       "        vertical-align: middle;\n",
       "    }\n",
       "\n",
       "    .dataframe tbody tr th {\n",
       "        vertical-align: top;\n",
       "    }\n",
       "\n",
       "    .dataframe thead th {\n",
       "        text-align: right;\n",
       "    }\n",
       "</style>\n",
       "<table border=\"1\" class=\"dataframe\">\n",
       "  <thead>\n",
       "    <tr style=\"text-align: right;\">\n",
       "      <th></th>\n",
       "      <th>id</th>\n",
       "      <th>message_date</th>\n",
       "      <th>user_id</th>\n",
       "    </tr>\n",
       "  </thead>\n",
       "  <tbody>\n",
       "    <tr>\n",
       "      <th>0</th>\n",
       "      <td>1000_0</td>\n",
       "      <td>2018-06-27</td>\n",
       "      <td>1000</td>\n",
       "    </tr>\n",
       "    <tr>\n",
       "      <th>1</th>\n",
       "      <td>1000_1</td>\n",
       "      <td>2018-10-08</td>\n",
       "      <td>1000</td>\n",
       "    </tr>\n",
       "    <tr>\n",
       "      <th>2</th>\n",
       "      <td>1000_2</td>\n",
       "      <td>2018-08-04</td>\n",
       "      <td>1000</td>\n",
       "    </tr>\n",
       "    <tr>\n",
       "      <th>3</th>\n",
       "      <td>1000_3</td>\n",
       "      <td>2018-06-16</td>\n",
       "      <td>1000</td>\n",
       "    </tr>\n",
       "    <tr>\n",
       "      <th>4</th>\n",
       "      <td>1000_4</td>\n",
       "      <td>2018-12-05</td>\n",
       "      <td>1000</td>\n",
       "    </tr>\n",
       "  </tbody>\n",
       "</table>\n",
       "</div>"
      ],
      "text/plain": [
       "       id message_date  user_id\n",
       "0  1000_0   2018-06-27     1000\n",
       "1  1000_1   2018-10-08     1000\n",
       "2  1000_2   2018-08-04     1000\n",
       "3  1000_3   2018-06-16     1000\n",
       "4  1000_4   2018-12-05     1000"
      ]
     },
     "execution_count": 5,
     "metadata": {},
     "output_type": "execute_result"
    }
   ],
   "source": [
    "data_message.head()"
   ]
  },
  {
   "cell_type": "markdown",
   "metadata": {},
   "source": [
    "**id** — уникальный номер сообщения<br>\n",
    "**message_date** — дата сообщения<br>\n",
    "**user_id** — идентификатор пользователя, отправившего сообщение<br>\n",
    "\n",
    "**Необходмо доработать:**<br>\n",
    "**1) Дату сообщения записать в отдельном столбце month**<br>"
   ]
  },
  {
   "cell_type": "markdown",
   "metadata": {},
   "source": [
    "### Информация о тарифах"
   ]
  },
  {
   "cell_type": "code",
   "execution_count": 6,
   "metadata": {},
   "outputs": [
    {
     "data": {
      "text/html": [
       "<div>\n",
       "<style scoped>\n",
       "    .dataframe tbody tr th:only-of-type {\n",
       "        vertical-align: middle;\n",
       "    }\n",
       "\n",
       "    .dataframe tbody tr th {\n",
       "        vertical-align: top;\n",
       "    }\n",
       "\n",
       "    .dataframe thead th {\n",
       "        text-align: right;\n",
       "    }\n",
       "</style>\n",
       "<table border=\"1\" class=\"dataframe\">\n",
       "  <thead>\n",
       "    <tr style=\"text-align: right;\">\n",
       "      <th></th>\n",
       "      <th>messages_included</th>\n",
       "      <th>mb_per_month_included</th>\n",
       "      <th>minutes_included</th>\n",
       "      <th>rub_monthly_fee</th>\n",
       "      <th>rub_per_gb</th>\n",
       "      <th>rub_per_message</th>\n",
       "      <th>rub_per_minute</th>\n",
       "      <th>tariff_name</th>\n",
       "    </tr>\n",
       "  </thead>\n",
       "  <tbody>\n",
       "    <tr>\n",
       "      <th>0</th>\n",
       "      <td>50</td>\n",
       "      <td>15360</td>\n",
       "      <td>500</td>\n",
       "      <td>550</td>\n",
       "      <td>200</td>\n",
       "      <td>3</td>\n",
       "      <td>3</td>\n",
       "      <td>smart</td>\n",
       "    </tr>\n",
       "    <tr>\n",
       "      <th>1</th>\n",
       "      <td>1000</td>\n",
       "      <td>30720</td>\n",
       "      <td>3000</td>\n",
       "      <td>1950</td>\n",
       "      <td>150</td>\n",
       "      <td>1</td>\n",
       "      <td>1</td>\n",
       "      <td>ultra</td>\n",
       "    </tr>\n",
       "  </tbody>\n",
       "</table>\n",
       "</div>"
      ],
      "text/plain": [
       "   messages_included  mb_per_month_included  minutes_included  \\\n",
       "0                 50                  15360               500   \n",
       "1               1000                  30720              3000   \n",
       "\n",
       "   rub_monthly_fee  rub_per_gb  rub_per_message  rub_per_minute tariff_name  \n",
       "0              550         200                3               3       smart  \n",
       "1             1950         150                1               1       ultra  "
      ]
     },
     "metadata": {},
     "output_type": "display_data"
    }
   ],
   "source": [
    "display(data_tariff)"
   ]
  },
  {
   "cell_type": "markdown",
   "metadata": {},
   "source": [
    "**tariff_name** — название тарифа<br>\n",
    "**rub_monthly_fee** — ежемесячная абонентская плата в рублях<br>\n",
    "**minutes_included** — количество минут разговора в месяц, включённых в абонентскую плату<br>\n",
    "**messages_included** — количество сообщений в месяц, включённых в абонентскую плату<br>\n",
    "**mb_per_month_included** — объём интернет-трафика, включённого в абонентскую плату (в мегабайтах)<br>\n",
    "**rub_per_minute** — стоимость минуты разговора сверх тарифного пакета (например, если в тарифе 100 минут разговора в месяц, то со 101 минуты будет взиматься плата)<br>\n",
    "**rub_per_message** — стоимость отправки сообщения сверх тарифного пакета<br>\n",
    "**rub_per_gb** — стоимость дополнительного гигабайта интернет-трафика сверх тарифного пакета (1 гигабайт = 1024 мегабайта)<br>\n",
    "\n",
    "Всего в наличие два тарифа **smart** и **ultra**.\n",
    "\n",
    "**Необходмо доработать:**<br>\n",
    "**1) Перевести из mb в gb**<br>"
   ]
  },
  {
   "cell_type": "markdown",
   "metadata": {},
   "source": [
    "### Информация о пользователях"
   ]
  },
  {
   "cell_type": "code",
   "execution_count": 7,
   "metadata": {},
   "outputs": [
    {
     "data": {
      "text/html": [
       "<div>\n",
       "<style scoped>\n",
       "    .dataframe tbody tr th:only-of-type {\n",
       "        vertical-align: middle;\n",
       "    }\n",
       "\n",
       "    .dataframe tbody tr th {\n",
       "        vertical-align: top;\n",
       "    }\n",
       "\n",
       "    .dataframe thead th {\n",
       "        text-align: right;\n",
       "    }\n",
       "</style>\n",
       "<table border=\"1\" class=\"dataframe\">\n",
       "  <thead>\n",
       "    <tr style=\"text-align: right;\">\n",
       "      <th></th>\n",
       "      <th>user_id</th>\n",
       "      <th>age</th>\n",
       "      <th>churn_date</th>\n",
       "      <th>city</th>\n",
       "      <th>first_name</th>\n",
       "      <th>last_name</th>\n",
       "      <th>reg_date</th>\n",
       "      <th>tariff</th>\n",
       "    </tr>\n",
       "  </thead>\n",
       "  <tbody>\n",
       "    <tr>\n",
       "      <th>0</th>\n",
       "      <td>1000</td>\n",
       "      <td>52</td>\n",
       "      <td>NaN</td>\n",
       "      <td>Краснодар</td>\n",
       "      <td>Рафаил</td>\n",
       "      <td>Верещагин</td>\n",
       "      <td>2018-05-25</td>\n",
       "      <td>ultra</td>\n",
       "    </tr>\n",
       "    <tr>\n",
       "      <th>1</th>\n",
       "      <td>1001</td>\n",
       "      <td>41</td>\n",
       "      <td>NaN</td>\n",
       "      <td>Москва</td>\n",
       "      <td>Иван</td>\n",
       "      <td>Ежов</td>\n",
       "      <td>2018-11-01</td>\n",
       "      <td>smart</td>\n",
       "    </tr>\n",
       "    <tr>\n",
       "      <th>2</th>\n",
       "      <td>1002</td>\n",
       "      <td>59</td>\n",
       "      <td>NaN</td>\n",
       "      <td>Стерлитамак</td>\n",
       "      <td>Евгений</td>\n",
       "      <td>Абрамович</td>\n",
       "      <td>2018-06-17</td>\n",
       "      <td>smart</td>\n",
       "    </tr>\n",
       "    <tr>\n",
       "      <th>3</th>\n",
       "      <td>1003</td>\n",
       "      <td>23</td>\n",
       "      <td>NaN</td>\n",
       "      <td>Москва</td>\n",
       "      <td>Белла</td>\n",
       "      <td>Белякова</td>\n",
       "      <td>2018-08-17</td>\n",
       "      <td>ultra</td>\n",
       "    </tr>\n",
       "    <tr>\n",
       "      <th>4</th>\n",
       "      <td>1004</td>\n",
       "      <td>68</td>\n",
       "      <td>NaN</td>\n",
       "      <td>Новокузнецк</td>\n",
       "      <td>Татьяна</td>\n",
       "      <td>Авдеенко</td>\n",
       "      <td>2018-05-14</td>\n",
       "      <td>ultra</td>\n",
       "    </tr>\n",
       "  </tbody>\n",
       "</table>\n",
       "</div>"
      ],
      "text/plain": [
       "   user_id  age churn_date         city first_name  last_name    reg_date  \\\n",
       "0     1000   52        NaN    Краснодар     Рафаил  Верещагин  2018-05-25   \n",
       "1     1001   41        NaN       Москва       Иван       Ежов  2018-11-01   \n",
       "2     1002   59        NaN  Стерлитамак    Евгений  Абрамович  2018-06-17   \n",
       "3     1003   23        NaN       Москва      Белла   Белякова  2018-08-17   \n",
       "4     1004   68        NaN  Новокузнецк    Татьяна   Авдеенко  2018-05-14   \n",
       "\n",
       "  tariff  \n",
       "0  ultra  \n",
       "1  smart  \n",
       "2  smart  \n",
       "3  ultra  \n",
       "4  ultra  "
      ]
     },
     "metadata": {},
     "output_type": "display_data"
    }
   ],
   "source": [
    "display(data_user.head())"
   ]
  },
  {
   "cell_type": "markdown",
   "metadata": {},
   "source": [
    "**user_id** — уникальный идентификатор пользователя<br>\n",
    "**first_name** — имя пользователя<br>\n",
    "**last_name** — фамилия пользователя<br>\n",
    "**age** — возраст пользователя (годы)<br>\n",
    "**reg_date** — дата подключения тарифа (день, месяц, год)<br>\n",
    "**churn_date** — дата прекращения пользования тарифом (если значение пропущено, то тариф ещё действовал на момент выгрузки данных)<br>\n",
    "**city** — город проживания пользователя<br>\n",
    "**tarif** — название тарифного плана<br>\n",
    "\n",
    "**Необходмо доработать:**<br>\n",
    "**1) Дату подключения тарифа записать в отдельном столбце month**<br>"
   ]
  },
  {
   "cell_type": "markdown",
   "metadata": {},
   "source": [
    "### Вывод"
   ]
  },
  {
   "cell_type": "markdown",
   "metadata": {},
   "source": [
    "Все файлы успешно открыты. Изучена информация о данных, с которыми будет работать.<br>\n",
    "На следующем этапе займемся предобработкой данных."
   ]
  },
  {
   "cell_type": "markdown",
   "metadata": {},
   "source": [
    "## Предобработка данных"
   ]
  },
  {
   "cell_type": "markdown",
   "metadata": {},
   "source": [
    "### DATA CALL"
   ]
  },
  {
   "cell_type": "code",
   "execution_count": 8,
   "metadata": {},
   "outputs": [],
   "source": [
    "import numpy as np\n",
    "    \n",
    "data_call['duration'] = np.ceil(data_call['duration'])\n",
    "data_call['duration'] = data_call['duration'].astype('int')"
   ]
  },
  {
   "cell_type": "code",
   "execution_count": 9,
   "metadata": {},
   "outputs": [],
   "source": [
    "data_call['call_date'] = pd.to_datetime(data_call['call_date'], format='%Y-%m-%d')\n",
    "data_call['month'] = data_call['call_date'].dt.month\n",
    "data_call = data_call.drop(columns=['call_date'], axis=1)"
   ]
  },
  {
   "cell_type": "code",
   "execution_count": 10,
   "metadata": {},
   "outputs": [
    {
     "data": {
      "text/html": [
       "<div>\n",
       "<style scoped>\n",
       "    .dataframe tbody tr th:only-of-type {\n",
       "        vertical-align: middle;\n",
       "    }\n",
       "\n",
       "    .dataframe tbody tr th {\n",
       "        vertical-align: top;\n",
       "    }\n",
       "\n",
       "    .dataframe thead th {\n",
       "        text-align: right;\n",
       "    }\n",
       "</style>\n",
       "<table border=\"1\" class=\"dataframe\">\n",
       "  <thead>\n",
       "    <tr style=\"text-align: right;\">\n",
       "      <th></th>\n",
       "      <th>id</th>\n",
       "      <th>duration</th>\n",
       "      <th>user_id</th>\n",
       "      <th>month</th>\n",
       "    </tr>\n",
       "  </thead>\n",
       "  <tbody>\n",
       "    <tr>\n",
       "      <th>0</th>\n",
       "      <td>1000_0</td>\n",
       "      <td>0</td>\n",
       "      <td>1000</td>\n",
       "      <td>7</td>\n",
       "    </tr>\n",
       "    <tr>\n",
       "      <th>1</th>\n",
       "      <td>1000_1</td>\n",
       "      <td>0</td>\n",
       "      <td>1000</td>\n",
       "      <td>8</td>\n",
       "    </tr>\n",
       "    <tr>\n",
       "      <th>2</th>\n",
       "      <td>1000_2</td>\n",
       "      <td>3</td>\n",
       "      <td>1000</td>\n",
       "      <td>6</td>\n",
       "    </tr>\n",
       "    <tr>\n",
       "      <th>3</th>\n",
       "      <td>1000_3</td>\n",
       "      <td>14</td>\n",
       "      <td>1000</td>\n",
       "      <td>9</td>\n",
       "    </tr>\n",
       "    <tr>\n",
       "      <th>4</th>\n",
       "      <td>1000_4</td>\n",
       "      <td>6</td>\n",
       "      <td>1000</td>\n",
       "      <td>12</td>\n",
       "    </tr>\n",
       "  </tbody>\n",
       "</table>\n",
       "</div>"
      ],
      "text/plain": [
       "       id  duration  user_id  month\n",
       "0  1000_0         0     1000      7\n",
       "1  1000_1         0     1000      8\n",
       "2  1000_2         3     1000      6\n",
       "3  1000_3        14     1000      9\n",
       "4  1000_4         6     1000     12"
      ]
     },
     "metadata": {},
     "output_type": "display_data"
    }
   ],
   "source": [
    "display(data_call.head())"
   ]
  },
  {
   "cell_type": "code",
   "execution_count": 11,
   "metadata": {
    "scrolled": true
   },
   "outputs": [
    {
     "name": "stdout",
     "output_type": "stream",
     "text": [
      "<class 'pandas.core.frame.DataFrame'>\n",
      "RangeIndex: 202607 entries, 0 to 202606\n",
      "Data columns (total 4 columns):\n",
      " #   Column    Non-Null Count   Dtype \n",
      "---  ------    --------------   ----- \n",
      " 0   id        202607 non-null  object\n",
      " 1   duration  202607 non-null  int64 \n",
      " 2   user_id   202607 non-null  int64 \n",
      " 3   month     202607 non-null  int64 \n",
      "dtypes: int64(3), object(1)\n",
      "memory usage: 6.2+ MB\n"
     ]
    }
   ],
   "source": [
    "data_call.info()"
   ]
  },
  {
   "cell_type": "markdown",
   "metadata": {},
   "source": [
    "### DATA INTERNET"
   ]
  },
  {
   "cell_type": "code",
   "execution_count": 12,
   "metadata": {},
   "outputs": [],
   "source": [
    "data_internet['session_date'] = pd.to_datetime(data_internet['session_date'], format='%Y-%m-%d')\n",
    "data_internet['month'] = data_internet['session_date'].dt.month\n",
    "data_internet = data_internet.drop(columns=['Unnamed: 0', 'session_date'], axis=1)"
   ]
  },
  {
   "cell_type": "code",
   "execution_count": 13,
   "metadata": {},
   "outputs": [
    {
     "data": {
      "text/html": [
       "<div>\n",
       "<style scoped>\n",
       "    .dataframe tbody tr th:only-of-type {\n",
       "        vertical-align: middle;\n",
       "    }\n",
       "\n",
       "    .dataframe tbody tr th {\n",
       "        vertical-align: top;\n",
       "    }\n",
       "\n",
       "    .dataframe thead th {\n",
       "        text-align: right;\n",
       "    }\n",
       "</style>\n",
       "<table border=\"1\" class=\"dataframe\">\n",
       "  <thead>\n",
       "    <tr style=\"text-align: right;\">\n",
       "      <th></th>\n",
       "      <th>id</th>\n",
       "      <th>mb_used</th>\n",
       "      <th>user_id</th>\n",
       "      <th>month</th>\n",
       "    </tr>\n",
       "  </thead>\n",
       "  <tbody>\n",
       "    <tr>\n",
       "      <th>0</th>\n",
       "      <td>1000_0</td>\n",
       "      <td>112.95</td>\n",
       "      <td>1000</td>\n",
       "      <td>11</td>\n",
       "    </tr>\n",
       "    <tr>\n",
       "      <th>1</th>\n",
       "      <td>1000_1</td>\n",
       "      <td>1052.81</td>\n",
       "      <td>1000</td>\n",
       "      <td>9</td>\n",
       "    </tr>\n",
       "    <tr>\n",
       "      <th>2</th>\n",
       "      <td>1000_2</td>\n",
       "      <td>1197.26</td>\n",
       "      <td>1000</td>\n",
       "      <td>6</td>\n",
       "    </tr>\n",
       "    <tr>\n",
       "      <th>3</th>\n",
       "      <td>1000_3</td>\n",
       "      <td>550.27</td>\n",
       "      <td>1000</td>\n",
       "      <td>8</td>\n",
       "    </tr>\n",
       "    <tr>\n",
       "      <th>4</th>\n",
       "      <td>1000_4</td>\n",
       "      <td>302.56</td>\n",
       "      <td>1000</td>\n",
       "      <td>9</td>\n",
       "    </tr>\n",
       "  </tbody>\n",
       "</table>\n",
       "</div>"
      ],
      "text/plain": [
       "       id  mb_used  user_id  month\n",
       "0  1000_0   112.95     1000     11\n",
       "1  1000_1  1052.81     1000      9\n",
       "2  1000_2  1197.26     1000      6\n",
       "3  1000_3   550.27     1000      8\n",
       "4  1000_4   302.56     1000      9"
      ]
     },
     "metadata": {},
     "output_type": "display_data"
    }
   ],
   "source": [
    "display(data_internet.head())"
   ]
  },
  {
   "cell_type": "code",
   "execution_count": 14,
   "metadata": {
    "scrolled": true
   },
   "outputs": [
    {
     "name": "stdout",
     "output_type": "stream",
     "text": [
      "<class 'pandas.core.frame.DataFrame'>\n",
      "RangeIndex: 149396 entries, 0 to 149395\n",
      "Data columns (total 4 columns):\n",
      " #   Column   Non-Null Count   Dtype  \n",
      "---  ------   --------------   -----  \n",
      " 0   id       149396 non-null  object \n",
      " 1   mb_used  149396 non-null  float64\n",
      " 2   user_id  149396 non-null  int64  \n",
      " 3   month    149396 non-null  int64  \n",
      "dtypes: float64(1), int64(2), object(1)\n",
      "memory usage: 4.6+ MB\n"
     ]
    }
   ],
   "source": [
    "data_internet.info()"
   ]
  },
  {
   "cell_type": "markdown",
   "metadata": {},
   "source": [
    "### DATA MESSAGE"
   ]
  },
  {
   "cell_type": "code",
   "execution_count": 15,
   "metadata": {},
   "outputs": [],
   "source": [
    "data_message['message_date'] = pd.to_datetime(data_message['message_date'], format='%Y-%m-%d')\n",
    "data_message['month'] = data_message['message_date'].dt.month\n",
    "data_message = data_message.drop(columns=['message_date'], axis=1)"
   ]
  },
  {
   "cell_type": "code",
   "execution_count": 16,
   "metadata": {
    "scrolled": true
   },
   "outputs": [
    {
     "data": {
      "text/html": [
       "<div>\n",
       "<style scoped>\n",
       "    .dataframe tbody tr th:only-of-type {\n",
       "        vertical-align: middle;\n",
       "    }\n",
       "\n",
       "    .dataframe tbody tr th {\n",
       "        vertical-align: top;\n",
       "    }\n",
       "\n",
       "    .dataframe thead th {\n",
       "        text-align: right;\n",
       "    }\n",
       "</style>\n",
       "<table border=\"1\" class=\"dataframe\">\n",
       "  <thead>\n",
       "    <tr style=\"text-align: right;\">\n",
       "      <th></th>\n",
       "      <th>id</th>\n",
       "      <th>user_id</th>\n",
       "      <th>month</th>\n",
       "    </tr>\n",
       "  </thead>\n",
       "  <tbody>\n",
       "    <tr>\n",
       "      <th>0</th>\n",
       "      <td>1000_0</td>\n",
       "      <td>1000</td>\n",
       "      <td>6</td>\n",
       "    </tr>\n",
       "    <tr>\n",
       "      <th>1</th>\n",
       "      <td>1000_1</td>\n",
       "      <td>1000</td>\n",
       "      <td>10</td>\n",
       "    </tr>\n",
       "    <tr>\n",
       "      <th>2</th>\n",
       "      <td>1000_2</td>\n",
       "      <td>1000</td>\n",
       "      <td>8</td>\n",
       "    </tr>\n",
       "    <tr>\n",
       "      <th>3</th>\n",
       "      <td>1000_3</td>\n",
       "      <td>1000</td>\n",
       "      <td>6</td>\n",
       "    </tr>\n",
       "    <tr>\n",
       "      <th>4</th>\n",
       "      <td>1000_4</td>\n",
       "      <td>1000</td>\n",
       "      <td>12</td>\n",
       "    </tr>\n",
       "  </tbody>\n",
       "</table>\n",
       "</div>"
      ],
      "text/plain": [
       "       id  user_id  month\n",
       "0  1000_0     1000      6\n",
       "1  1000_1     1000     10\n",
       "2  1000_2     1000      8\n",
       "3  1000_3     1000      6\n",
       "4  1000_4     1000     12"
      ]
     },
     "metadata": {},
     "output_type": "display_data"
    }
   ],
   "source": [
    "display(data_message.head())"
   ]
  },
  {
   "cell_type": "code",
   "execution_count": 17,
   "metadata": {},
   "outputs": [
    {
     "name": "stdout",
     "output_type": "stream",
     "text": [
      "<class 'pandas.core.frame.DataFrame'>\n",
      "RangeIndex: 123036 entries, 0 to 123035\n",
      "Data columns (total 3 columns):\n",
      " #   Column   Non-Null Count   Dtype \n",
      "---  ------   --------------   ----- \n",
      " 0   id       123036 non-null  object\n",
      " 1   user_id  123036 non-null  int64 \n",
      " 2   month    123036 non-null  int64 \n",
      "dtypes: int64(2), object(1)\n",
      "memory usage: 2.8+ MB\n"
     ]
    }
   ],
   "source": [
    "data_message.info()"
   ]
  },
  {
   "cell_type": "markdown",
   "metadata": {},
   "source": [
    "### DATA USER"
   ]
  },
  {
   "cell_type": "code",
   "execution_count": 18,
   "metadata": {},
   "outputs": [],
   "source": [
    "data_user['reg_date'] = pd.to_datetime(data_user['reg_date'], format='%Y-%m-%d')\n",
    "data_user['month'] = data_user['reg_date'].dt.month\n",
    "data_user = data_user.drop(columns=['reg_date'], axis=1)"
   ]
  },
  {
   "cell_type": "code",
   "execution_count": 19,
   "metadata": {},
   "outputs": [
    {
     "data": {
      "text/html": [
       "<div>\n",
       "<style scoped>\n",
       "    .dataframe tbody tr th:only-of-type {\n",
       "        vertical-align: middle;\n",
       "    }\n",
       "\n",
       "    .dataframe tbody tr th {\n",
       "        vertical-align: top;\n",
       "    }\n",
       "\n",
       "    .dataframe thead th {\n",
       "        text-align: right;\n",
       "    }\n",
       "</style>\n",
       "<table border=\"1\" class=\"dataframe\">\n",
       "  <thead>\n",
       "    <tr style=\"text-align: right;\">\n",
       "      <th></th>\n",
       "      <th>user_id</th>\n",
       "      <th>age</th>\n",
       "      <th>churn_date</th>\n",
       "      <th>city</th>\n",
       "      <th>first_name</th>\n",
       "      <th>last_name</th>\n",
       "      <th>tariff</th>\n",
       "      <th>month</th>\n",
       "    </tr>\n",
       "  </thead>\n",
       "  <tbody>\n",
       "    <tr>\n",
       "      <th>0</th>\n",
       "      <td>1000</td>\n",
       "      <td>52</td>\n",
       "      <td>NaN</td>\n",
       "      <td>Краснодар</td>\n",
       "      <td>Рафаил</td>\n",
       "      <td>Верещагин</td>\n",
       "      <td>ultra</td>\n",
       "      <td>5</td>\n",
       "    </tr>\n",
       "    <tr>\n",
       "      <th>1</th>\n",
       "      <td>1001</td>\n",
       "      <td>41</td>\n",
       "      <td>NaN</td>\n",
       "      <td>Москва</td>\n",
       "      <td>Иван</td>\n",
       "      <td>Ежов</td>\n",
       "      <td>smart</td>\n",
       "      <td>11</td>\n",
       "    </tr>\n",
       "    <tr>\n",
       "      <th>2</th>\n",
       "      <td>1002</td>\n",
       "      <td>59</td>\n",
       "      <td>NaN</td>\n",
       "      <td>Стерлитамак</td>\n",
       "      <td>Евгений</td>\n",
       "      <td>Абрамович</td>\n",
       "      <td>smart</td>\n",
       "      <td>6</td>\n",
       "    </tr>\n",
       "    <tr>\n",
       "      <th>3</th>\n",
       "      <td>1003</td>\n",
       "      <td>23</td>\n",
       "      <td>NaN</td>\n",
       "      <td>Москва</td>\n",
       "      <td>Белла</td>\n",
       "      <td>Белякова</td>\n",
       "      <td>ultra</td>\n",
       "      <td>8</td>\n",
       "    </tr>\n",
       "    <tr>\n",
       "      <th>4</th>\n",
       "      <td>1004</td>\n",
       "      <td>68</td>\n",
       "      <td>NaN</td>\n",
       "      <td>Новокузнецк</td>\n",
       "      <td>Татьяна</td>\n",
       "      <td>Авдеенко</td>\n",
       "      <td>ultra</td>\n",
       "      <td>5</td>\n",
       "    </tr>\n",
       "  </tbody>\n",
       "</table>\n",
       "</div>"
      ],
      "text/plain": [
       "   user_id  age churn_date         city first_name  last_name tariff  month\n",
       "0     1000   52        NaN    Краснодар     Рафаил  Верещагин  ultra      5\n",
       "1     1001   41        NaN       Москва       Иван       Ежов  smart     11\n",
       "2     1002   59        NaN  Стерлитамак    Евгений  Абрамович  smart      6\n",
       "3     1003   23        NaN       Москва      Белла   Белякова  ultra      8\n",
       "4     1004   68        NaN  Новокузнецк    Татьяна   Авдеенко  ultra      5"
      ]
     },
     "metadata": {},
     "output_type": "display_data"
    }
   ],
   "source": [
    "display(data_user.head())"
   ]
  },
  {
   "cell_type": "code",
   "execution_count": 20,
   "metadata": {},
   "outputs": [
    {
     "name": "stdout",
     "output_type": "stream",
     "text": [
      "<class 'pandas.core.frame.DataFrame'>\n",
      "RangeIndex: 500 entries, 0 to 499\n",
      "Data columns (total 8 columns):\n",
      " #   Column      Non-Null Count  Dtype \n",
      "---  ------      --------------  ----- \n",
      " 0   user_id     500 non-null    int64 \n",
      " 1   age         500 non-null    int64 \n",
      " 2   churn_date  38 non-null     object\n",
      " 3   city        500 non-null    object\n",
      " 4   first_name  500 non-null    object\n",
      " 5   last_name   500 non-null    object\n",
      " 6   tariff      500 non-null    object\n",
      " 7   month       500 non-null    int64 \n",
      "dtypes: int64(3), object(5)\n",
      "memory usage: 31.4+ KB\n"
     ]
    }
   ],
   "source": [
    "data_user.info()"
   ]
  },
  {
   "cell_type": "markdown",
   "metadata": {},
   "source": [
    "### DATA TARIFF"
   ]
  },
  {
   "cell_type": "code",
   "execution_count": 21,
   "metadata": {},
   "outputs": [],
   "source": [
    "data_tariff['mb_per_month_included'] = (data_tariff['mb_per_month_included'] / 1024)\n",
    "data_tariff['mb_per_month_included'] = data_tariff['mb_per_month_included'].fillna('0').astype('int')\n",
    "\n",
    "data_tariff = data_tariff.rename(columns={'mb_per_month_included': \"gb_per_month_included\"})"
   ]
  },
  {
   "cell_type": "code",
   "execution_count": 22,
   "metadata": {},
   "outputs": [
    {
     "data": {
      "text/html": [
       "<div>\n",
       "<style scoped>\n",
       "    .dataframe tbody tr th:only-of-type {\n",
       "        vertical-align: middle;\n",
       "    }\n",
       "\n",
       "    .dataframe tbody tr th {\n",
       "        vertical-align: top;\n",
       "    }\n",
       "\n",
       "    .dataframe thead th {\n",
       "        text-align: right;\n",
       "    }\n",
       "</style>\n",
       "<table border=\"1\" class=\"dataframe\">\n",
       "  <thead>\n",
       "    <tr style=\"text-align: right;\">\n",
       "      <th></th>\n",
       "      <th>messages_included</th>\n",
       "      <th>gb_per_month_included</th>\n",
       "      <th>minutes_included</th>\n",
       "      <th>rub_monthly_fee</th>\n",
       "      <th>rub_per_gb</th>\n",
       "      <th>rub_per_message</th>\n",
       "      <th>rub_per_minute</th>\n",
       "      <th>tariff_name</th>\n",
       "    </tr>\n",
       "  </thead>\n",
       "  <tbody>\n",
       "    <tr>\n",
       "      <th>0</th>\n",
       "      <td>50</td>\n",
       "      <td>15</td>\n",
       "      <td>500</td>\n",
       "      <td>550</td>\n",
       "      <td>200</td>\n",
       "      <td>3</td>\n",
       "      <td>3</td>\n",
       "      <td>smart</td>\n",
       "    </tr>\n",
       "    <tr>\n",
       "      <th>1</th>\n",
       "      <td>1000</td>\n",
       "      <td>30</td>\n",
       "      <td>3000</td>\n",
       "      <td>1950</td>\n",
       "      <td>150</td>\n",
       "      <td>1</td>\n",
       "      <td>1</td>\n",
       "      <td>ultra</td>\n",
       "    </tr>\n",
       "  </tbody>\n",
       "</table>\n",
       "</div>"
      ],
      "text/plain": [
       "   messages_included  gb_per_month_included  minutes_included  \\\n",
       "0                 50                     15               500   \n",
       "1               1000                     30              3000   \n",
       "\n",
       "   rub_monthly_fee  rub_per_gb  rub_per_message  rub_per_minute tariff_name  \n",
       "0              550         200                3               3       smart  \n",
       "1             1950         150                1               1       ultra  "
      ]
     },
     "metadata": {},
     "output_type": "display_data"
    }
   ],
   "source": [
    "display(data_tariff.head())"
   ]
  },
  {
   "cell_type": "markdown",
   "metadata": {},
   "source": [
    "### Вывод"
   ]
  },
  {
   "cell_type": "markdown",
   "metadata": {},
   "source": [
    "Данные предобработаны. Приведены к нужным типам. Пропусков нет. <br>\n",
    "Подготовим данные к анализу."
   ]
  },
  {
   "cell_type": "markdown",
   "metadata": {},
   "source": [
    "## Подготовка к анализу "
   ]
  },
  {
   "cell_type": "markdown",
   "metadata": {},
   "source": [
    "**Посчитаем для каждого пользователя следующие значения:**\n",
    "1) Количество сделанных звонков и израсходованных минут разговора по месяцам;<br>\n",
    "2) Количество отправленных сообщений по месяцам;<br>\n",
    "3) Объем израсходованного интернет-трафика по месяцам;<br>\n",
    "4) Помесячную выручку с каждого пользователя."
   ]
  },
  {
   "cell_type": "code",
   "execution_count": 23,
   "metadata": {
    "scrolled": false
   },
   "outputs": [],
   "source": [
    "data_1 = pd.pivot_table(data_call, \n",
    "                        index=['user_id', 'month'], \n",
    "                        values='duration', \n",
    "                        aggfunc=['sum', 'count'])\n",
    "\n",
    "data_2 = pd.pivot_table(data_internet, \n",
    "                        index=['user_id', 'month'], \n",
    "                        values='mb_used', \n",
    "                        aggfunc=['sum'])\n",
    "\n",
    "data_3 = pd.pivot_table(data_message, \n",
    "                        index=['user_id', 'month'], \n",
    "                        values='id', \n",
    "                        aggfunc=['count'])\n",
    "\n",
    "data = data_1.join(data_2)\n",
    "data = data.join(data_3)\n",
    "\n",
    "data = data.reset_index()\n",
    "data = data.merge(data_user, on='user_id')"
   ]
  },
  {
   "cell_type": "code",
   "execution_count": 24,
   "metadata": {},
   "outputs": [],
   "source": [
    "data = data.drop(columns=['first_name', \n",
    "                          'last_name', \n",
    "                          'month',\n",
    "                          'age',\n",
    "                          'churn_date',\n",
    "                          ('user_id', '')], \n",
    "                 axis=1)\n",
    "\n",
    "data = data.rename(columns={(\"month\", \"\"): \"month\", \n",
    "                            ('count', 'duration'): \"number_of_calls\", \n",
    "                            ('sum', 'duration'): \"total_duration\", \n",
    "                            ('sum', 'mb_used'): \"gb_used\",\n",
    "                            ('count', 'id'): \"total_messages\"})"
   ]
  },
  {
   "cell_type": "code",
   "execution_count": 25,
   "metadata": {},
   "outputs": [],
   "source": [
    "data['gb_used'] = data['gb_used'] / 1024\n",
    "data['gb_used'] = np.ceil(data['gb_used']).fillna('0').astype('int')\n",
    "data['total_messages'] = data['total_messages'].fillna('0').astype('int')\n",
    "data['revenue'] = 0"
   ]
  },
  {
   "cell_type": "code",
   "execution_count": 26,
   "metadata": {},
   "outputs": [],
   "source": [
    "for i in range(len(data)):\n",
    "    if data['tariff'][i] == 'ultra':\n",
    "        tariff = 1\n",
    "    else: tariff = 0\n",
    "        \n",
    "    data['revenue'][i] = data_tariff['rub_monthly_fee'][tariff]\n",
    "    \n",
    "    difference_1 = data['total_duration'][i] - data_tariff['minutes_included'][tariff]\n",
    "    difference_2 = data['gb_used'][i] - data_tariff['gb_per_month_included'][tariff]\n",
    "    difference_3 = data['total_messages'][i] - data_tariff['messages_included'][tariff]\n",
    "    \n",
    "    if difference_1 > 0:\n",
    "        data['revenue'][i] = data['revenue'][i] + difference_1 * data_tariff['rub_per_minute'][tariff]\n",
    "    if difference_2 > 0:\n",
    "        data['revenue'][i] = data['revenue'][i] + difference_2 * data_tariff['rub_per_gb'][tariff]\n",
    "    if difference_3 > 0:\n",
    "        data['revenue'][i] = data['revenue'][i] + difference_3 * data_tariff['rub_per_message'][tariff]"
   ]
  },
  {
   "cell_type": "code",
   "execution_count": 27,
   "metadata": {
    "scrolled": true
   },
   "outputs": [
    {
     "data": {
      "text/html": [
       "<div>\n",
       "<style scoped>\n",
       "    .dataframe tbody tr th:only-of-type {\n",
       "        vertical-align: middle;\n",
       "    }\n",
       "\n",
       "    .dataframe tbody tr th {\n",
       "        vertical-align: top;\n",
       "    }\n",
       "\n",
       "    .dataframe thead th {\n",
       "        text-align: right;\n",
       "    }\n",
       "</style>\n",
       "<table border=\"1\" class=\"dataframe\">\n",
       "  <thead>\n",
       "    <tr style=\"text-align: right;\">\n",
       "      <th></th>\n",
       "      <th>user_id</th>\n",
       "      <th>month</th>\n",
       "      <th>total_duration</th>\n",
       "      <th>number_of_calls</th>\n",
       "      <th>gb_used</th>\n",
       "      <th>total_messages</th>\n",
       "      <th>city</th>\n",
       "      <th>tariff</th>\n",
       "      <th>revenue</th>\n",
       "    </tr>\n",
       "  </thead>\n",
       "  <tbody>\n",
       "    <tr>\n",
       "      <th>0</th>\n",
       "      <td>1000</td>\n",
       "      <td>5</td>\n",
       "      <td>159</td>\n",
       "      <td>22</td>\n",
       "      <td>3</td>\n",
       "      <td>22</td>\n",
       "      <td>Краснодар</td>\n",
       "      <td>ultra</td>\n",
       "      <td>1950</td>\n",
       "    </tr>\n",
       "    <tr>\n",
       "      <th>1</th>\n",
       "      <td>1000</td>\n",
       "      <td>6</td>\n",
       "      <td>172</td>\n",
       "      <td>43</td>\n",
       "      <td>23</td>\n",
       "      <td>60</td>\n",
       "      <td>Краснодар</td>\n",
       "      <td>ultra</td>\n",
       "      <td>1950</td>\n",
       "    </tr>\n",
       "    <tr>\n",
       "      <th>2</th>\n",
       "      <td>1000</td>\n",
       "      <td>7</td>\n",
       "      <td>340</td>\n",
       "      <td>47</td>\n",
       "      <td>14</td>\n",
       "      <td>75</td>\n",
       "      <td>Краснодар</td>\n",
       "      <td>ultra</td>\n",
       "      <td>1950</td>\n",
       "    </tr>\n",
       "    <tr>\n",
       "      <th>3</th>\n",
       "      <td>1000</td>\n",
       "      <td>8</td>\n",
       "      <td>408</td>\n",
       "      <td>52</td>\n",
       "      <td>14</td>\n",
       "      <td>81</td>\n",
       "      <td>Краснодар</td>\n",
       "      <td>ultra</td>\n",
       "      <td>1950</td>\n",
       "    </tr>\n",
       "    <tr>\n",
       "      <th>4</th>\n",
       "      <td>1000</td>\n",
       "      <td>9</td>\n",
       "      <td>466</td>\n",
       "      <td>58</td>\n",
       "      <td>15</td>\n",
       "      <td>57</td>\n",
       "      <td>Краснодар</td>\n",
       "      <td>ultra</td>\n",
       "      <td>1950</td>\n",
       "    </tr>\n",
       "  </tbody>\n",
       "</table>\n",
       "</div>"
      ],
      "text/plain": [
       "   user_id  month  total_duration  number_of_calls  gb_used  total_messages  \\\n",
       "0     1000      5             159               22        3              22   \n",
       "1     1000      6             172               43       23              60   \n",
       "2     1000      7             340               47       14              75   \n",
       "3     1000      8             408               52       14              81   \n",
       "4     1000      9             466               58       15              57   \n",
       "\n",
       "        city tariff  revenue  \n",
       "0  Краснодар  ultra     1950  \n",
       "1  Краснодар  ultra     1950  \n",
       "2  Краснодар  ultra     1950  \n",
       "3  Краснодар  ultra     1950  \n",
       "4  Краснодар  ultra     1950  "
      ]
     },
     "execution_count": 27,
     "metadata": {},
     "output_type": "execute_result"
    }
   ],
   "source": [
    "data.head()"
   ]
  },
  {
   "cell_type": "markdown",
   "metadata": {},
   "source": [
    "### Вывод"
   ]
  },
  {
   "cell_type": "markdown",
   "metadata": {},
   "source": [
    "Были успешно составлены сводные таблицы по столбцам месяца и идентификатора пользователя, затем соединены в одну большую таблицу.<br>\n",
    "Была подсчитана выручка с каждого пользователя для каждого месяца."
   ]
  },
  {
   "cell_type": "markdown",
   "metadata": {},
   "source": [
    "## Анализ данных"
   ]
  },
  {
   "cell_type": "markdown",
   "metadata": {},
   "source": [
    "**Проанализируем данные:**<br>\n",
    "**Посмотрим сколько минут разговора, сколько сообщений и какой объём интернет-трафика требуется пользователям каждого тарифа в месяц:**<br>\n",
    "1) Посчитаем среднее количество, дисперсию и стандартное отклонение. <br>\n",
    "2) Построим гистограммы."
   ]
  },
  {
   "cell_type": "code",
   "execution_count": 28,
   "metadata": {},
   "outputs": [],
   "source": [
    "data_smart = data[data['tariff'] == 'smart']\n",
    "data_ultra = data[data['tariff'] == 'ultra']"
   ]
  },
  {
   "cell_type": "markdown",
   "metadata": {},
   "source": [
    "### Тариф smart"
   ]
  },
  {
   "cell_type": "code",
   "execution_count": 29,
   "metadata": {},
   "outputs": [
    {
     "name": "stdout",
     "output_type": "stream",
     "text": [
      "Среднее значение длительности разговора для тарифа смарт: 419.0629779577148\n",
      "Среднее значение используемого интернет трафика для тарифа смарт: 16.32973459289249\n",
      "Среднее значение количества сообщений пользователя для тарифа смарт: 33.396311291048136\n"
     ]
    }
   ],
   "source": [
    "print('Среднее значение длительности разговора для тарифа смарт:', data_smart['total_duration'].mean())\n",
    "print('Среднее значение используемого интернет трафика для тарифа смарт:', data_smart['gb_used'].mean())\n",
    "print('Среднее значение количества сообщений пользователя для тарифа смарт:', data_smart['total_messages'].mean())"
   ]
  },
  {
   "cell_type": "code",
   "execution_count": 30,
   "metadata": {},
   "outputs": [
    {
     "name": "stdout",
     "output_type": "stream",
     "text": [
      "Стандартное отклонение для длительности разговора тарифа смарт равно: 189.2830296395594\n",
      "Стандартное отклонение для используемого трафика тарифа смарт равно: 5.751305061989304\n",
      "Стандартное отклонение для количества сообщений пользователя тарифа смарт равно: 28.253080355888724\n"
     ]
    }
   ],
   "source": [
    "import statistics\n",
    "\n",
    "print('Стандартное отклонение для длительности разговора тарифа смарт равно:', statistics.pstdev(data_smart['total_duration']))\n",
    "print('Стандартное отклонение для используемого трафика тарифа смарт равно:', statistics.pstdev(data_smart['gb_used']))\n",
    "print('Стандартное отклонение для количества сообщений пользователя тарифа смарт равно:', statistics.pstdev(data_smart['total_messages']))"
   ]
  },
  {
   "cell_type": "code",
   "execution_count": 31,
   "metadata": {},
   "outputs": [
    {
     "name": "stdout",
     "output_type": "stream",
     "text": [
      "Дисперсия для длительности разговора тарифа смарт равно: 35828.06530953032\n",
      "Дисперсия для используемого трафика тарифа смарт равно: 33.07750991606379\n",
      "Дисперсия для количества сообщений пользователя тарифа смарт равно: 798.2365495963053\n"
     ]
    }
   ],
   "source": [
    "print('Дисперсия для длительности разговора тарифа смарт равно:', statistics.pstdev(data_smart['total_duration']) ** 2)\n",
    "print('Дисперсия для используемого трафика тарифа смарт равно:', statistics.pstdev(data_smart['gb_used']) ** 2)\n",
    "print('Дисперсия для количества сообщений пользователя тарифа смарт равно:', statistics.pstdev(data_smart['total_messages']) ** 2)"
   ]
  },
  {
   "cell_type": "code",
   "execution_count": 32,
   "metadata": {},
   "outputs": [
    {
     "data": {
      "image/png": "[encoded data removed]",
      "text/plain": [
       "<Figure size 432x288 with 1 Axes>"
      ]
     },
     "metadata": {
      "needs_background": "light"
     },
     "output_type": "display_data"
    },
    {
     "data": {
      "image/png": "[encoded data removed]",
      "text/plain": [
       "<Figure size 432x288 with 1 Axes>"
      ]
     },
     "metadata": {
      "needs_background": "light"
     },
     "output_type": "display_data"
    }
   ],
   "source": [
    "sns.distplot(data_smart['total_duration'])\n",
    "plt.show()\n",
    "\n",
    "ax = data_smart['total_duration'].hist(bins=50)\n",
    "ax.set_xlabel(\"Общая длительность звонков за месяц\")\n",
    "ax.set_ylabel(\"Количество пользователей\")\n",
    "ax.set_title('Распределение общей длительности звонков')\n",
    "\n",
    "plt.show()"
   ]
  },
  {
   "cell_type": "code",
   "execution_count": 33,
   "metadata": {},
   "outputs": [
    {
     "data": {
      "image/png": "[encoded data removed]",
      "text/plain": [
       "<Figure size 432x288 with 1 Axes>"
      ]
     },
     "metadata": {
      "needs_background": "light"
     },
     "output_type": "display_data"
    },
    {
     "data": {
      "image/png": "[encoded data removed]",
      "text/plain": [
       "<Figure size 432x288 with 1 Axes>"
      ]
     },
     "metadata": {
      "needs_background": "light"
     },
     "output_type": "display_data"
    }
   ],
   "source": [
    "sns.distplot(data_smart['gb_used'])\n",
    "plt.show()\n",
    "\n",
    "ax = data_smart['gb_used'].hist(bins=30)\n",
    "ax.set_xlabel(\"Общий интернет трафик за месяц\")\n",
    "ax.set_ylabel(\"Количество пользователей\")\n",
    "ax.set_title('Распределение общего интернет трафика')\n",
    "\n",
    "plt.show()"
   ]
  },
  {
   "cell_type": "code",
   "execution_count": 34,
   "metadata": {},
   "outputs": [
    {
     "data": {
      "image/png": "[encoded data removed]",
      "text/plain": [
       "<Figure size 432x288 with 1 Axes>"
      ]
     },
     "metadata": {
      "needs_background": "light"
     },
     "output_type": "display_data"
    },
    {
     "data": {
      "image/png": "[encoded data removed]",
      "text/plain": [
       "<Figure size 432x288 with 1 Axes>"
      ]
     },
     "metadata": {
      "needs_background": "light"
     },
     "output_type": "display_data"
    }
   ],
   "source": [
    "sns.distplot(data_smart['total_messages'])\n",
    "plt.show()\n",
    "\n",
    "ax = data_smart['total_messages'].hist(bins=50)\n",
    "ax.set_xlabel(\"Общее количество сообщений за месяц\")\n",
    "ax.set_ylabel(\"Количество пользователей\")\n",
    "ax.set_title('Распределение общего количества сообщений')\n",
    "\n",
    "plt.show()"
   ]
  },
  {
   "cell_type": "markdown",
   "metadata": {},
   "source": [
    "### Вывод по тарифу smart"
   ]
  },
  {
   "cell_type": "markdown",
   "metadata": {},
   "source": [
    "Все графики подтверждают наши значения среднего, также стандартного отклонения, можно заметить, что среднее +- (3 стандартных) охватит почти все значения. (про дисперсию я недопонял, даже не понимаю, что она показывает и что можно по её значению сказать)\n",
    "\n",
    "Также можно заметить, что в данным тарифе ограничение по числу гигабайт - 15, поэтому есть некий выбрас перед значением 15. Также есть выброс на значение 20, он скорее всего связан, что у данного оператора есть опция докупки трафика +5 гб.\n",
    "\n",
    "Выброс на значении ноль на распределении количества смс сообщений весьма естественен, так как мало кто ими сейчас пользуется. \n",
    "\n",
    "Также можно земетить, что больше половины пользователей превышают лимит интернет трафика. При этом видно, что хоть сообщениями пользуются мало, но всё же какая-то часть превышает допустимый лимит. А вот с общей длительностью звонков примерно такая ситуация: две трети укладываются в лимит, а остальные превосходят его. "
   ]
  },
  {
   "cell_type": "markdown",
   "metadata": {},
   "source": [
    "### Тариф ultra"
   ]
  },
  {
   "cell_type": "code",
   "execution_count": 35,
   "metadata": {},
   "outputs": [
    {
     "name": "stdout",
     "output_type": "stream",
     "text": [
      "Среднее значение длительности разговора для тарифа ультра: 545.4511041009464\n",
      "Среднее значение используемого интернет трафика для тарифа ультра: 19.487907465825447\n",
      "Среднее значение количества сообщений пользователя для тарифа ультра: 49.03364879074658\n"
     ]
    }
   ],
   "source": [
    "print('Среднее значение длительности разговора для тарифа ультра:', data_ultra['total_duration'].mean())\n",
    "print('Среднее значение используемого интернет трафика для тарифа ультра:', data_ultra['gb_used'].mean())\n",
    "print('Среднее значение количества сообщений пользователя для тарифа ультра:', data_ultra['total_messages'].mean())"
   ]
  },
  {
   "cell_type": "code",
   "execution_count": 36,
   "metadata": {},
   "outputs": [
    {
     "name": "stdout",
     "output_type": "stream",
     "text": [
      "Стандартное отклонение для длительности разговора тарифа ультра равно: 306.76434143143143\n",
      "Стандартное отклонение для используемого трафика тарифа ультра равно: 9.885230511573157\n",
      "Стандартное отклонение для количества сообщений пользователя тарифа ультра равно: 46.865995995952495\n"
     ]
    }
   ],
   "source": [
    "print('Стандартное отклонение для длительности разговора тарифа ультра равно:', statistics.pstdev(data_ultra['total_duration']))\n",
    "print('Стандартное отклонение для используемого трафика тарифа ультра равно:', statistics.pstdev(data_ultra['gb_used']))\n",
    "print('Стандартное отклонение для количества сообщений пользователя тарифа ультра равно:', statistics.pstdev(data_ultra['total_messages']))"
   ]
  },
  {
   "cell_type": "code",
   "execution_count": 37,
   "metadata": {},
   "outputs": [
    {
     "name": "stdout",
     "output_type": "stream",
     "text": [
      "Дисперсия для длительности разговора тарифа ультра равно: 94104.36117385984\n",
      "Дисперсия для используемого трафика тарифа ультра равно: 97.71778226693691\n",
      "Дисперсия для количества сообщений пользователя тарифа ультра равно: 2196.4215806926354\n"
     ]
    }
   ],
   "source": [
    "print('Дисперсия для длительности разговора тарифа ультра равно:', statistics.pstdev(data_ultra['total_duration']) ** 2)\n",
    "print('Дисперсия для используемого трафика тарифа ультра равно:', statistics.pstdev(data_ultra['gb_used']) ** 2)\n",
    "print('Дисперсия для количества сообщений пользователя тарифа ультра равно:', statistics.pstdev(data_ultra['total_messages']) ** 2)"
   ]
  },
  {
   "cell_type": "code",
   "execution_count": 38,
   "metadata": {},
   "outputs": [
    {
     "data": {
      "image/png": "[encoded data removed]",
      "text/plain": [
       "<Figure size 432x288 with 1 Axes>"
      ]
     },
     "metadata": {
      "needs_background": "light"
     },
     "output_type": "display_data"
    },
    {
     "data": {
      "image/png": "[encoded data removed]",
      "text/plain": [
       "<Figure size 432x288 with 1 Axes>"
      ]
     },
     "metadata": {
      "needs_background": "light"
     },
     "output_type": "display_data"
    }
   ],
   "source": [
    "sns.distplot(data_ultra['total_duration'])\n",
    "plt.show()\n",
    "\n",
    "ax = data_ultra['total_duration'].hist(bins=50)\n",
    "ax.set_xlabel(\"Общая длительность звонков за месяц\")\n",
    "ax.set_ylabel(\"Количество пользователей\")\n",
    "ax.set_title('Распределение общей длительности звонков')\n",
    "\n",
    "plt.show()"
   ]
  },
  {
   "cell_type": "code",
   "execution_count": 39,
   "metadata": {},
   "outputs": [
    {
     "data": {
      "image/png": "[encoded data removed]",
      "text/plain": [
       "<Figure size 432x288 with 1 Axes>"
      ]
     },
     "metadata": {
      "needs_background": "light"
     },
     "output_type": "display_data"
    },
    {
     "data": {
      "image/png": "[encoded data removed]",
      "text/plain": [
       "<Figure size 432x288 with 1 Axes>"
      ]
     },
     "metadata": {
      "needs_background": "light"
     },
     "output_type": "display_data"
    }
   ],
   "source": [
    "sns.distplot(data_ultra['gb_used'])\n",
    "plt.show()\n",
    "\n",
    "ax = data_ultra['gb_used'].hist(bins=18)\n",
    "ax.set_xlabel(\"Общий интернет трафик за месяц\")\n",
    "ax.set_ylabel(\"Количество пользователей\")\n",
    "ax.set_title('Распределение общего интернет трафика')\n",
    "\n",
    "plt.show()"
   ]
  },
  {
   "cell_type": "code",
   "execution_count": 40,
   "metadata": {},
   "outputs": [
    {
     "data": {
      "image/png": "[encoded data removed]",
      "text/plain": [
       "<Figure size 432x288 with 1 Axes>"
      ]
     },
     "metadata": {
      "needs_background": "light"
     },
     "output_type": "display_data"
    },
    {
     "data": {
      "image/png": "[encoded data removed]",
      "text/plain": [
       "<Figure size 432x288 with 1 Axes>"
      ]
     },
     "metadata": {
      "needs_background": "light"
     },
     "output_type": "display_data"
    }
   ],
   "source": [
    "sns.distplot(data_ultra['total_messages'])\n",
    "plt.show()\n",
    "\n",
    "ax = data_ultra['total_messages'].hist(bins=50)\n",
    "ax.set_xlabel(\"Общее количество сообщений за месяц\")\n",
    "ax.set_ylabel(\"Количество пользователей\")\n",
    "ax.set_title('Распределение общего количества сообщений')\n",
    "\n",
    "plt.show()"
   ]
  },
  {
   "cell_type": "markdown",
   "metadata": {},
   "source": [
    "### Вывод по тарифу ultra"
   ]
  },
  {
   "cell_type": "markdown",
   "metadata": {},
   "source": [
    "По тарифу ultra можно сказать тоже самое, что и по тарифу smart.\n",
    "Единственное, нет каких-то выделяющихся значений на фоне остальных на распределении используемого трафика."
   ]
  },
  {
   "cell_type": "markdown",
   "metadata": {},
   "source": [
    "### Общий вывод"
   ]
  },
  {
   "cell_type": "markdown",
   "metadata": {},
   "source": [
    "Можно сказать, что те, кто берут тариф ultra в действительности в среднем больше испольщуют минут, трафика и сообщений. \n",
    "\n",
    "Но можно заметить, что в тарифе ultra допустимые значения минут в 6 раз больше, допустимого трафика в 2 раза больше, сообщений в 20 раз. А на самом деле мы видим, что средние значения совсем не увеличиваются в кратное количество раз.\n",
    "\n",
    "Можно даже предложить гипотезу, что тариф ultra берут только ради большего количества трафика."
   ]
  },
  {
   "cell_type": "markdown",
   "metadata": {},
   "source": [
    "## Проверка Гипотез"
   ]
  },
  {
   "cell_type": "markdown",
   "metadata": {},
   "source": [
    "**Проверим две гипотезы:** <br>\n",
    "1) средняя выручка пользователей тарифов «Ультра» и «Смарт» различаются;<br>\n",
    "2) средняя выручка пользователей из Москвы отличается от выручки пользователей из других регионов"
   ]
  },
  {
   "cell_type": "markdown",
   "metadata": {},
   "source": [
    "### Первая гипотеза"
   ]
  },
  {
   "cell_type": "markdown",
   "metadata": {},
   "source": [
    "Средняя выручка пользователей тарифов «Ультра» и «Смарт» различаются.\n",
    "\n",
    "Возьмем за нулевую гипотезу: средняя выручка пользователей тарифов «Ультра» и «Смарт» равны.<br>\n",
    "Выборки независимы."
   ]
  },
  {
   "cell_type": "code",
   "execution_count": 41,
   "metadata": {},
   "outputs": [
    {
     "name": "stdout",
     "output_type": "stream",
     "text": [
      "Отвергаем нулевую гипотезу\n"
     ]
    }
   ],
   "source": [
    "from scipy import stats as st\n",
    "import numpy as np\n",
    "\n",
    "results = st.ttest_ind(\n",
    "    data_smart['revenue'],\n",
    "    data_ultra['revenue'],\n",
    "    equal_var = False\n",
    ") \n",
    "\n",
    "alpha = 0.01\n",
    "\n",
    "if  results.pvalue < alpha:\n",
    "    print(\"Отвергаем нулевую гипотезу\")\n",
    "else:\n",
    "    print(\"Не получилось отвергнуть нулевую гипотезу\")"
   ]
  },
  {
   "cell_type": "code",
   "execution_count": 42,
   "metadata": {},
   "outputs": [
    {
     "name": "stdout",
     "output_type": "stream",
     "text": [
      "1290.8911381016644\n",
      "2070.9779179810726\n",
      "\n",
      "2223\n",
      "951\n",
      "\n",
      "3.155173205867294e-245\n"
     ]
    }
   ],
   "source": [
    "print(data_smart['revenue'].mean())\n",
    "print(data_ultra['revenue'].mean())\n",
    "print()\n",
    "print(data_smart['revenue'].count())\n",
    "print(data_ultra['revenue'].count())\n",
    "print()\n",
    "print(results.pvalue)"
   ]
  },
  {
   "cell_type": "markdown",
   "metadata": {},
   "source": [
    "### Вторая гипотеза"
   ]
  },
  {
   "cell_type": "markdown",
   "metadata": {},
   "source": [
    "Средняя выручка пользователей из Москвы отличается от выручки пользователей из других регионов.\n",
    "\n",
    "Возьмем за нулевую гипотезу: средняя выручка пользоавтелей из Москвы равна средней выручке пользователей из других регионов.<br>\n",
    "Выборки также будут независымими."
   ]
  },
  {
   "cell_type": "code",
   "execution_count": 43,
   "metadata": {},
   "outputs": [],
   "source": [
    "data_Moscow = data[data['city'] == 'Москва']\n",
    "data_region = data[data['city'] != 'Москва']"
   ]
  },
  {
   "cell_type": "code",
   "execution_count": 44,
   "metadata": {},
   "outputs": [
    {
     "name": "stdout",
     "output_type": "stream",
     "text": [
      "Не получилось отвергнуть нулевую гипотезу\n"
     ]
    }
   ],
   "source": [
    "results = st.ttest_ind(\n",
    "    data_Moscow['revenue'],\n",
    "    data_region['revenue'],\n",
    "    equal_var = False\n",
    ") \n",
    "\n",
    "alpha = 0.01\n",
    "\n",
    "if  results.pvalue < alpha:\n",
    "    print(\"Отвергаем нулевую гипотезу\")\n",
    "else:\n",
    "    print(\"Не получилось отвергнуть нулевую гипотезу\")"
   ]
  },
  {
   "cell_type": "markdown",
   "metadata": {},
   "source": [
    "### Вывод"
   ]
  },
  {
   "cell_type": "markdown",
   "metadata": {},
   "source": [
    "Получилось, что гипотеза о различии средней выручки от тарифов ultra и smart верна и может быть дальше исследована.\n",
    "\n",
    "А вот гипотеза о различии средней выручки пользователей из Москвы и других регионов не верна и далее её не стоит рассмтривать.\n",
    "\n",
    "Также мы посмотрели на средние выручки тарифа smart и тарифа ultra, выручка второго оказалась боольше. Но количество пользователей тарифа smart больше, чем пользователей тарифа ultra."
   ]
  },
  {
   "cell_type": "markdown",
   "metadata": {},
   "source": [
    "## Общий вывод"
   ]
  },
  {
   "cell_type": "markdown",
   "metadata": {},
   "source": [
    "В данном проекте мы работали с компанией \"Мегалайн\" - оператором сотовой связи. Оператор предлагает польщователям два тарифных плана \"Смарт\" и \"Ультра\". Нам предоставили небольшую выборку клиентов - 500 пользователей, дали нам о них всю необходимю информацию.\n",
    "\n",
    "Был проведен анализ тарифов по данной выборке клиентов. А также проверны некоторые гипотезы. Которые нам дали основания полагать, что средняя выручка пользователей из Москвы и других регионов возможно отличается. А также мы узнали, что средняя выручка пользователей тарифа smart и ultra отличаюся, при этом средняя выручка тарифа ultra выше, поэтому Мегалайну стоит обратить на этот тариф больше внимания. \n",
    "\n",
    "Но также можно добавить, что из данной выборки следует, что пользователей тарифа smart болльше, чем в два раза, а средняя выручке меньше меннее, чем в два раза. Поэтому можно выдвинуть гипотезу о том, что в данный момент компании больший доход приносит именно тариф smart. И это также не нужно упускать из виду."
   ]
  }
 ],
 "metadata": {
  "ExecuteTimeLog": [
   {
    "duration": 101,
    "start_time": "2022-03-05T10:27:13.501Z"
   },
   {
    "duration": 3374,
    "start_time": "2022-03-05T10:33:02.420Z"
   },
   {
    "duration": 16,
    "start_time": "2022-03-05T10:33:27.846Z"
   },
   {
    "duration": 9,
    "start_time": "2022-03-05T10:33:35.014Z"
   },
   {
    "duration": 7,
    "start_time": "2022-03-05T10:34:36.324Z"
   },
   {
    "duration": 8,
    "start_time": "2022-03-05T10:40:30.362Z"
   },
   {
    "duration": 9,
    "start_time": "2022-03-05T10:41:08.078Z"
   },
   {
    "duration": 7,
    "start_time": "2022-03-05T10:41:12.861Z"
   },
   {
    "duration": 7,
    "start_time": "2022-03-05T10:43:57.075Z"
   },
   {
    "duration": 8,
    "start_time": "2022-03-05T10:45:11.728Z"
   },
   {
    "duration": 13,
    "start_time": "2022-03-05T10:45:16.404Z"
   },
   {
    "duration": 6,
    "start_time": "2022-03-05T10:46:31.830Z"
   },
   {
    "duration": 7,
    "start_time": "2022-03-05T10:46:34.951Z"
   },
   {
    "duration": 7,
    "start_time": "2022-03-05T10:48:40.984Z"
   },
   {
    "duration": 8,
    "start_time": "2022-03-05T10:48:43.675Z"
   },
   {
    "duration": 7,
    "start_time": "2022-03-05T10:50:18.334Z"
   },
   {
    "duration": 10,
    "start_time": "2022-03-05T10:50:33.493Z"
   },
   {
    "duration": 432,
    "start_time": "2022-03-05T11:00:29.978Z"
   },
   {
    "duration": 89,
    "start_time": "2022-03-05T11:21:21.674Z"
   },
   {
    "duration": 83,
    "start_time": "2022-03-05T11:21:59.033Z"
   },
   {
    "duration": 121,
    "start_time": "2022-03-05T11:22:17.697Z"
   },
   {
    "duration": 86,
    "start_time": "2022-03-05T11:22:28.973Z"
   },
   {
    "duration": 896,
    "start_time": "2022-03-05T11:22:51.957Z"
   },
   {
    "duration": 13,
    "start_time": "2022-03-05T11:22:52.855Z"
   },
   {
    "duration": 17,
    "start_time": "2022-03-05T11:22:52.870Z"
   },
   {
    "duration": 11,
    "start_time": "2022-03-05T11:22:52.889Z"
   },
   {
    "duration": 17,
    "start_time": "2022-03-05T11:22:52.901Z"
   },
   {
    "duration": 11,
    "start_time": "2022-03-05T11:22:52.919Z"
   },
   {
    "duration": 1358,
    "start_time": "2022-03-09T21:05:48.681Z"
   },
   {
    "duration": 25,
    "start_time": "2022-03-09T21:05:50.043Z"
   },
   {
    "duration": 375,
    "start_time": "2022-03-09T21:05:50.071Z"
   },
   {
    "duration": 493,
    "start_time": "2022-03-09T21:05:50.449Z"
   },
   {
    "duration": 273,
    "start_time": "2022-03-09T21:05:50.944Z"
   },
   {
    "duration": 292,
    "start_time": "2022-03-09T21:05:51.220Z"
   },
   {
    "duration": 12,
    "start_time": "2022-03-09T21:05:57.401Z"
   },
   {
    "duration": 13,
    "start_time": "2022-03-09T21:06:03.652Z"
   },
   {
    "duration": 11,
    "start_time": "2022-03-09T21:07:31.635Z"
   },
   {
    "duration": 12,
    "start_time": "2022-03-09T21:07:32.878Z"
   },
   {
    "duration": 6,
    "start_time": "2022-03-09T21:08:26.330Z"
   },
   {
    "duration": 1069,
    "start_time": "2022-03-09T21:08:27.911Z"
   },
   {
    "duration": 1354,
    "start_time": "2022-03-09T21:08:57.754Z"
   },
   {
    "duration": 22,
    "start_time": "2022-03-09T21:08:59.111Z"
   },
   {
    "duration": 875,
    "start_time": "2022-03-09T21:08:59.136Z"
   },
   {
    "duration": 816,
    "start_time": "2022-03-09T21:09:00.014Z"
   },
   {
    "duration": 628,
    "start_time": "2022-03-09T21:09:00.834Z"
   },
   {
    "duration": 631,
    "start_time": "2022-03-09T21:09:01.464Z"
   },
   {
    "duration": 647,
    "start_time": "2022-03-09T21:09:02.098Z"
   },
   {
    "duration": 440,
    "start_time": "2022-03-09T21:09:02.748Z"
   },
   {
    "duration": 32,
    "start_time": "2022-03-09T21:09:22.888Z"
   },
   {
    "duration": 396,
    "start_time": "2022-03-09T21:11:47.038Z"
   },
   {
    "duration": 8139,
    "start_time": "2022-03-09T21:11:54.028Z"
   },
   {
    "duration": 49,
    "start_time": "2022-03-09T21:12:02.122Z"
   },
   {
    "duration": 0,
    "start_time": "2022-03-09T21:12:02.175Z"
   },
   {
    "duration": 7985,
    "start_time": "2022-03-09T21:12:11.660Z"
   },
   {
    "duration": -18,
    "start_time": "2022-03-09T21:12:19.666Z"
   },
   {
    "duration": -18,
    "start_time": "2022-03-09T21:12:19.668Z"
   },
   {
    "duration": 11,
    "start_time": "2022-03-09T21:12:27.318Z"
   },
   {
    "duration": 45,
    "start_time": "2022-03-09T21:12:34.824Z"
   },
   {
    "duration": 20,
    "start_time": "2022-03-09T21:12:36.329Z"
   },
   {
    "duration": 11,
    "start_time": "2022-03-09T21:12:36.889Z"
   },
   {
    "duration": 10,
    "start_time": "2022-03-09T21:12:44.007Z"
   },
   {
    "duration": 21,
    "start_time": "2022-03-09T21:12:44.475Z"
   },
   {
    "duration": 14,
    "start_time": "2022-03-09T21:12:45.071Z"
   },
   {
    "duration": 335,
    "start_time": "2022-03-09T21:14:08.614Z"
   },
   {
    "duration": 356,
    "start_time": "2022-03-09T21:15:00.410Z"
   },
   {
    "duration": 41,
    "start_time": "2022-03-09T21:15:19.059Z"
   },
   {
    "duration": 27,
    "start_time": "2022-03-09T21:15:20.247Z"
   },
   {
    "duration": 111,
    "start_time": "2022-03-09T21:15:20.476Z"
   },
   {
    "duration": 45,
    "start_time": "2022-03-09T21:15:32.031Z"
   },
   {
    "duration": 68,
    "start_time": "2022-03-09T21:15:52.352Z"
   },
   {
    "duration": 68,
    "start_time": "2022-03-09T21:15:56.424Z"
   },
   {
    "duration": 33,
    "start_time": "2022-03-09T21:15:56.878Z"
   },
   {
    "duration": 13,
    "start_time": "2022-03-09T21:15:57.398Z"
   },
   {
    "duration": 70,
    "start_time": "2022-03-09T21:16:09.298Z"
   },
   {
    "duration": 68,
    "start_time": "2022-03-09T21:16:26.255Z"
   },
   {
    "duration": 66,
    "start_time": "2022-03-09T21:16:28.670Z"
   },
   {
    "duration": 566,
    "start_time": "2022-03-09T21:16:28.943Z"
   },
   {
    "duration": 467,
    "start_time": "2022-03-09T21:16:29.511Z"
   },
   {
    "duration": 71,
    "start_time": "2022-03-09T21:16:43.559Z"
   },
   {
    "duration": 75,
    "start_time": "2022-03-09T21:16:48.510Z"
   },
   {
    "duration": 67,
    "start_time": "2022-03-09T21:17:12.799Z"
   },
   {
    "duration": 23,
    "start_time": "2022-03-09T21:17:14.295Z"
   },
   {
    "duration": 14,
    "start_time": "2022-03-09T21:17:15.118Z"
   },
   {
    "duration": 1293,
    "start_time": "2022-03-09T21:17:20.712Z"
   },
   {
    "duration": 22,
    "start_time": "2022-03-09T21:17:22.008Z"
   },
   {
    "duration": 230,
    "start_time": "2022-03-09T21:17:22.033Z"
   },
   {
    "duration": 302,
    "start_time": "2022-03-09T21:17:22.265Z"
   },
   {
    "duration": 219,
    "start_time": "2022-03-09T21:17:22.571Z"
   },
   {
    "duration": 333,
    "start_time": "2022-03-09T21:17:22.793Z"
   },
   {
    "duration": 297,
    "start_time": "2022-03-09T21:17:23.129Z"
   },
   {
    "duration": 437,
    "start_time": "2022-03-09T21:17:23.429Z"
   },
   {
    "duration": 507,
    "start_time": "2022-03-09T21:17:23.870Z"
   },
   {
    "duration": 298,
    "start_time": "2022-03-09T21:17:24.380Z"
   },
   {
    "duration": 87,
    "start_time": "2022-03-09T21:18:49.318Z"
   },
   {
    "duration": 102,
    "start_time": "2022-03-09T21:19:42.876Z"
   },
   {
    "duration": 1352,
    "start_time": "2022-03-09T21:20:28.015Z"
   },
   {
    "duration": 30,
    "start_time": "2022-03-09T21:20:29.371Z"
   },
   {
    "duration": 201,
    "start_time": "2022-03-09T21:20:29.405Z"
   },
   {
    "duration": 242,
    "start_time": "2022-03-09T21:20:29.609Z"
   },
   {
    "duration": 239,
    "start_time": "2022-03-09T21:20:29.854Z"
   },
   {
    "duration": 227,
    "start_time": "2022-03-09T21:20:30.095Z"
   },
   {
    "duration": 293,
    "start_time": "2022-03-09T21:20:30.325Z"
   },
   {
    "duration": 461,
    "start_time": "2022-03-09T21:20:30.622Z"
   },
   {
    "duration": 136,
    "start_time": "2022-03-09T21:20:31.086Z"
   },
   {
    "duration": 208,
    "start_time": "2022-03-09T21:20:31.226Z"
   },
   {
    "duration": 100,
    "start_time": "2022-03-09T21:20:57.997Z"
   },
   {
    "duration": 32,
    "start_time": "2022-03-09T21:20:59.975Z"
   },
   {
    "duration": 220,
    "start_time": "2022-03-09T21:21:00.598Z"
   },
   {
    "duration": 12,
    "start_time": "2022-03-09T21:21:29.232Z"
   },
   {
    "duration": 8,
    "start_time": "2022-03-09T21:22:23.055Z"
   },
   {
    "duration": 7727,
    "start_time": "2022-03-09T21:22:23.383Z"
   },
   {
    "duration": 1306,
    "start_time": "2022-03-09T21:22:57.459Z"
   },
   {
    "duration": 23,
    "start_time": "2022-03-09T21:22:58.767Z"
   },
   {
    "duration": 238,
    "start_time": "2022-03-09T21:22:58.794Z"
   },
   {
    "duration": 264,
    "start_time": "2022-03-09T21:22:59.035Z"
   },
   {
    "duration": 281,
    "start_time": "2022-03-09T21:22:59.301Z"
   },
   {
    "duration": 215,
    "start_time": "2022-03-09T21:22:59.584Z"
   },
   {
    "duration": 287,
    "start_time": "2022-03-09T21:22:59.801Z"
   },
   {
    "duration": 359,
    "start_time": "2022-03-09T21:23:00.090Z"
   },
   {
    "duration": 14,
    "start_time": "2022-03-09T21:23:16.461Z"
   },
   {
    "duration": 12,
    "start_time": "2022-03-09T21:23:27.433Z"
   },
   {
    "duration": 12,
    "start_time": "2022-03-09T21:24:12.599Z"
   },
   {
    "duration": 12,
    "start_time": "2022-03-09T21:24:13.323Z"
   },
   {
    "duration": 410,
    "start_time": "2022-03-09T21:24:47.599Z"
   },
   {
    "duration": 20,
    "start_time": "2022-03-09T21:24:48.171Z"
   },
   {
    "duration": 1342,
    "start_time": "2022-03-09T21:25:05.112Z"
   },
   {
    "duration": 23,
    "start_time": "2022-03-09T21:25:06.456Z"
   },
   {
    "duration": 245,
    "start_time": "2022-03-09T21:25:06.483Z"
   },
   {
    "duration": 319,
    "start_time": "2022-03-09T21:25:06.730Z"
   },
   {
    "duration": 309,
    "start_time": "2022-03-09T21:25:07.052Z"
   },
   {
    "duration": 502,
    "start_time": "2022-03-09T21:25:07.364Z"
   },
   {
    "duration": 299,
    "start_time": "2022-03-09T21:25:07.869Z"
   },
   {
    "duration": 441,
    "start_time": "2022-03-09T21:25:08.172Z"
   },
   {
    "duration": 8408,
    "start_time": "2022-03-09T21:25:08.617Z"
   },
   {
    "duration": -71,
    "start_time": "2022-03-09T21:25:17.099Z"
   },
   {
    "duration": 12,
    "start_time": "2022-03-09T21:26:29.209Z"
   },
   {
    "duration": 323,
    "start_time": "2022-03-09T21:27:06.381Z"
   },
   {
    "duration": 1306,
    "start_time": "2022-03-09T21:27:24.793Z"
   },
   {
    "duration": 21,
    "start_time": "2022-03-09T21:27:26.102Z"
   },
   {
    "duration": 867,
    "start_time": "2022-03-09T21:27:26.126Z"
   },
   {
    "duration": 469,
    "start_time": "2022-03-09T21:27:26.995Z"
   },
   {
    "duration": 428,
    "start_time": "2022-03-09T21:27:27.466Z"
   },
   {
    "duration": 298,
    "start_time": "2022-03-09T21:27:27.896Z"
   },
   {
    "duration": 299,
    "start_time": "2022-03-09T21:27:28.196Z"
   },
   {
    "duration": 403,
    "start_time": "2022-03-09T21:27:28.498Z"
   },
   {
    "duration": 247,
    "start_time": "2022-03-09T21:27:28.904Z"
   },
   {
    "duration": 221,
    "start_time": "2022-03-09T21:27:29.153Z"
   },
   {
    "duration": 1321,
    "start_time": "2022-03-09T21:28:00.318Z"
   },
   {
    "duration": 23,
    "start_time": "2022-03-09T21:28:01.641Z"
   },
   {
    "duration": 252,
    "start_time": "2022-03-09T21:28:01.666Z"
   },
   {
    "duration": 414,
    "start_time": "2022-03-09T21:28:01.921Z"
   },
   {
    "duration": 327,
    "start_time": "2022-03-09T21:28:02.337Z"
   },
   {
    "duration": 250,
    "start_time": "2022-03-09T21:28:02.667Z"
   },
   {
    "duration": 206,
    "start_time": "2022-03-09T21:28:02.920Z"
   },
   {
    "duration": 359,
    "start_time": "2022-03-09T21:28:03.130Z"
   },
   {
    "duration": 208,
    "start_time": "2022-03-09T21:28:03.492Z"
   },
   {
    "duration": 201,
    "start_time": "2022-03-09T21:28:03.703Z"
   },
   {
    "duration": 15,
    "start_time": "2022-03-09T21:28:26.866Z"
   },
   {
    "duration": 12,
    "start_time": "2022-03-09T21:28:39.928Z"
   },
   {
    "duration": 19,
    "start_time": "2022-03-09T21:29:12.398Z"
   },
   {
    "duration": 653,
    "start_time": "2022-03-09T21:31:11.939Z"
   },
   {
    "duration": 74,
    "start_time": "2022-03-09T21:31:48.259Z"
   },
   {
    "duration": 12,
    "start_time": "2022-03-09T21:31:52.497Z"
   },
   {
    "duration": 1364,
    "start_time": "2022-03-09T21:32:12.535Z"
   },
   {
    "duration": 23,
    "start_time": "2022-03-09T21:32:13.902Z"
   },
   {
    "duration": 237,
    "start_time": "2022-03-09T21:32:13.928Z"
   },
   {
    "duration": 255,
    "start_time": "2022-03-09T21:32:14.167Z"
   },
   {
    "duration": 264,
    "start_time": "2022-03-09T21:32:14.424Z"
   },
   {
    "duration": 270,
    "start_time": "2022-03-09T21:32:14.690Z"
   },
   {
    "duration": 341,
    "start_time": "2022-03-09T21:32:14.962Z"
   },
   {
    "duration": 353,
    "start_time": "2022-03-09T21:32:15.306Z"
   },
   {
    "duration": 495,
    "start_time": "2022-03-09T21:32:15.662Z"
   },
   {
    "duration": 374,
    "start_time": "2022-03-09T21:32:16.160Z"
   },
   {
    "duration": 136,
    "start_time": "2022-03-09T21:32:16.536Z"
   },
   {
    "duration": 11,
    "start_time": "2022-03-09T21:38:14.916Z"
   },
   {
    "duration": 1312,
    "start_time": "2022-03-09T21:38:21.885Z"
   },
   {
    "duration": 22,
    "start_time": "2022-03-09T21:38:23.199Z"
   },
   {
    "duration": 243,
    "start_time": "2022-03-09T21:38:23.224Z"
   },
   {
    "duration": 205,
    "start_time": "2022-03-09T21:38:23.471Z"
   },
   {
    "duration": 230,
    "start_time": "2022-03-09T21:38:23.679Z"
   },
   {
    "duration": 212,
    "start_time": "2022-03-09T21:38:23.911Z"
   },
   {
    "duration": 673,
    "start_time": "2022-03-09T21:38:24.126Z"
   },
   {
    "duration": 123,
    "start_time": "2022-03-09T21:38:24.679Z"
   },
   {
    "duration": 121,
    "start_time": "2022-03-09T21:38:24.682Z"
   },
   {
    "duration": 119,
    "start_time": "2022-03-09T21:38:24.685Z"
   },
   {
    "duration": 116,
    "start_time": "2022-03-09T21:38:24.690Z"
   },
   {
    "duration": 311,
    "start_time": "2022-03-09T21:38:47.622Z"
   },
   {
    "duration": 299,
    "start_time": "2022-03-09T21:38:55.585Z"
   },
   {
    "duration": 118,
    "start_time": "2022-03-09T21:38:55.768Z"
   },
   {
    "duration": 326,
    "start_time": "2022-03-09T21:47:48.630Z"
   },
   {
    "duration": 359,
    "start_time": "2022-03-09T21:48:29.442Z"
   },
   {
    "duration": 13,
    "start_time": "2022-03-09T21:48:35.727Z"
   },
   {
    "duration": 7930,
    "start_time": "2022-03-09T21:55:22.020Z"
   },
   {
    "duration": -3,
    "start_time": "2022-03-09T21:55:29.957Z"
   },
   {
    "duration": 383,
    "start_time": "2022-03-09T21:56:24.472Z"
   },
   {
    "duration": 8042,
    "start_time": "2022-03-09T21:57:11.888Z"
   },
   {
    "duration": 4,
    "start_time": "2022-03-09T21:57:19.929Z"
   },
   {
    "duration": 7568,
    "start_time": "2022-03-09T21:57:51.487Z"
   },
   {
    "duration": 1428,
    "start_time": "2022-03-09T21:59:02.899Z"
   },
   {
    "duration": 23,
    "start_time": "2022-03-09T21:59:04.330Z"
   },
   {
    "duration": 239,
    "start_time": "2022-03-09T21:59:04.357Z"
   },
   {
    "duration": 300,
    "start_time": "2022-03-09T21:59:04.599Z"
   },
   {
    "duration": 892,
    "start_time": "2022-03-09T21:59:04.902Z"
   },
   {
    "duration": 1094,
    "start_time": "2022-03-09T21:59:05.796Z"
   },
   {
    "duration": 29630,
    "start_time": "2022-03-09T21:59:06.892Z"
   },
   {
    "duration": 404,
    "start_time": "2022-03-09T21:59:36.541Z"
   },
   {
    "duration": 380,
    "start_time": "2022-03-09T21:59:36.948Z"
   },
   {
    "duration": 265,
    "start_time": "2022-03-09T21:59:37.331Z"
   },
   {
    "duration": 229,
    "start_time": "2022-03-09T21:59:37.599Z"
   },
   {
    "duration": 1343,
    "start_time": "2022-03-09T22:00:19.295Z"
   },
   {
    "duration": 23,
    "start_time": "2022-03-09T22:00:20.641Z"
   },
   {
    "duration": 1337,
    "start_time": "2022-03-09T22:00:20.667Z"
   },
   {
    "duration": 1353,
    "start_time": "2022-03-09T22:00:22.007Z"
   },
   {
    "duration": 1206,
    "start_time": "2022-03-09T22:00:23.362Z"
   },
   {
    "duration": 1305,
    "start_time": "2022-03-09T22:00:24.571Z"
   },
   {
    "duration": 57767,
    "start_time": "2022-03-09T22:00:25.879Z"
   },
   {
    "duration": 24,
    "start_time": "2022-03-09T22:01:23.651Z"
   },
   {
    "duration": 1142,
    "start_time": "2022-03-09T22:01:23.678Z"
   },
   {
    "duration": 779,
    "start_time": "2022-03-09T22:01:24.823Z"
   },
   {
    "duration": 928,
    "start_time": "2022-03-09T22:01:25.605Z"
   },
   {
    "duration": 16,
    "start_time": "2022-03-09T22:04:55.564Z"
   },
   {
    "duration": 17,
    "start_time": "2022-03-09T22:05:29.281Z"
   },
   {
    "duration": 22,
    "start_time": "2022-03-09T22:05:31.106Z"
   },
   {
    "duration": 6,
    "start_time": "2022-03-09T22:06:01.573Z"
   },
   {
    "duration": 11,
    "start_time": "2022-03-09T22:06:36.102Z"
   },
   {
    "duration": 15,
    "start_time": "2022-03-09T22:06:41.326Z"
   },
   {
    "duration": 22,
    "start_time": "2022-03-09T22:06:48.849Z"
   },
   {
    "duration": 1435,
    "start_time": "2022-03-09T22:07:38.388Z"
   },
   {
    "duration": 22,
    "start_time": "2022-03-09T22:07:39.826Z"
   },
   {
    "duration": 278,
    "start_time": "2022-03-09T22:07:39.851Z"
   },
   {
    "duration": 260,
    "start_time": "2022-03-09T22:07:40.132Z"
   },
   {
    "duration": 279,
    "start_time": "2022-03-09T22:07:40.394Z"
   },
   {
    "duration": 285,
    "start_time": "2022-03-09T22:07:40.676Z"
   },
   {
    "duration": 244,
    "start_time": "2022-03-09T22:07:40.963Z"
   },
   {
    "duration": 429,
    "start_time": "2022-03-09T22:07:41.212Z"
   },
   {
    "duration": 235,
    "start_time": "2022-03-09T22:07:41.644Z"
   },
   {
    "duration": 316,
    "start_time": "2022-03-09T22:07:41.882Z"
   },
   {
    "duration": 224,
    "start_time": "2022-03-09T22:07:42.200Z"
   },
   {
    "duration": 276,
    "start_time": "2022-03-09T22:07:42.426Z"
   },
   {
    "duration": 1392,
    "start_time": "2022-03-09T22:08:10.334Z"
   },
   {
    "duration": 23,
    "start_time": "2022-03-09T22:08:11.729Z"
   },
   {
    "duration": 265,
    "start_time": "2022-03-09T22:08:11.756Z"
   },
   {
    "duration": 462,
    "start_time": "2022-03-09T22:08:12.025Z"
   },
   {
    "duration": 442,
    "start_time": "2022-03-09T22:08:12.490Z"
   },
   {
    "duration": 253,
    "start_time": "2022-03-09T22:08:12.935Z"
   },
   {
    "duration": 247,
    "start_time": "2022-03-09T22:08:13.190Z"
   },
   {
    "duration": 1044,
    "start_time": "2022-03-09T22:08:13.441Z"
   },
   {
    "duration": 839,
    "start_time": "2022-03-09T22:08:14.487Z"
   },
   {
    "duration": 583,
    "start_time": "2022-03-09T22:08:15.329Z"
   },
   {
    "duration": 750,
    "start_time": "2022-03-09T22:08:15.915Z"
   },
   {
    "duration": 797,
    "start_time": "2022-03-09T22:08:16.667Z"
   },
   {
    "duration": 22,
    "start_time": "2022-03-09T22:09:32.703Z"
   },
   {
    "duration": 7755,
    "start_time": "2022-03-09T22:09:55.401Z"
   },
   {
    "duration": 1715,
    "start_time": "2022-03-09T22:10:13.732Z"
   },
   {
    "duration": 24,
    "start_time": "2022-03-09T22:10:15.450Z"
   },
   {
    "duration": 381,
    "start_time": "2022-03-09T22:10:15.478Z"
   },
   {
    "duration": 271,
    "start_time": "2022-03-09T22:10:15.863Z"
   },
   {
    "duration": 420,
    "start_time": "2022-03-09T22:10:16.137Z"
   },
   {
    "duration": 467,
    "start_time": "2022-03-09T22:10:16.560Z"
   },
   {
    "duration": 389,
    "start_time": "2022-03-09T22:10:17.030Z"
   },
   {
    "duration": 359,
    "start_time": "2022-03-09T22:10:17.424Z"
   },
   {
    "duration": 257,
    "start_time": "2022-03-09T22:10:17.785Z"
   },
   {
    "duration": 440,
    "start_time": "2022-03-09T22:10:18.044Z"
   },
   {
    "duration": 1054,
    "start_time": "2022-03-09T22:10:18.487Z"
   },
   {
    "duration": 39,
    "start_time": "2022-03-09T22:10:19.505Z"
   },
   {
    "duration": 1223,
    "start_time": "2022-03-13T08:31:37.826Z"
   },
   {
    "duration": 21,
    "start_time": "2022-03-13T08:31:40.571Z"
   },
   {
    "duration": 12,
    "start_time": "2022-03-13T08:32:28.763Z"
   },
   {
    "duration": 11,
    "start_time": "2022-03-13T08:32:49.140Z"
   },
   {
    "duration": 16,
    "start_time": "2022-03-13T08:32:58.072Z"
   },
   {
    "duration": 16,
    "start_time": "2022-03-13T08:33:09.827Z"
   },
   {
    "duration": 6,
    "start_time": "2022-03-13T08:35:00.995Z"
   },
   {
    "duration": 125,
    "start_time": "2022-03-13T08:35:06.299Z"
   },
   {
    "duration": 12,
    "start_time": "2022-03-13T08:35:31.605Z"
   },
   {
    "duration": 21,
    "start_time": "2022-03-13T08:36:11.187Z"
   },
   {
    "duration": 12,
    "start_time": "2022-03-13T08:36:52.845Z"
   },
   {
    "duration": 23,
    "start_time": "2022-03-13T08:37:05.236Z"
   },
   {
    "duration": 11,
    "start_time": "2022-03-13T08:37:39.459Z"
   },
   {
    "duration": 20,
    "start_time": "2022-03-13T08:37:50.345Z"
   },
   {
    "duration": 88,
    "start_time": "2022-03-13T08:38:53.370Z"
   },
   {
    "duration": 11,
    "start_time": "2022-03-13T08:38:54.192Z"
   },
   {
    "duration": 18,
    "start_time": "2022-03-13T08:38:56.049Z"
   },
   {
    "duration": 70,
    "start_time": "2022-03-13T08:39:00.069Z"
   },
   {
    "duration": 11,
    "start_time": "2022-03-13T08:39:00.675Z"
   },
   {
    "duration": 16,
    "start_time": "2022-03-13T08:39:01.552Z"
   },
   {
    "duration": 13,
    "start_time": "2022-03-13T08:39:39.260Z"
   },
   {
    "duration": 14,
    "start_time": "2022-03-13T08:40:01.524Z"
   },
   {
    "duration": 17,
    "start_time": "2022-03-13T08:41:00.303Z"
   },
   {
    "duration": 16,
    "start_time": "2022-03-13T08:41:07.160Z"
   },
   {
    "duration": 21,
    "start_time": "2022-03-13T08:41:11.930Z"
   },
   {
    "duration": 411,
    "start_time": "2022-03-13T08:41:47.570Z"
   },
   {
    "duration": 6882,
    "start_time": "2022-03-13T08:45:43.230Z"
   },
   {
    "duration": -3,
    "start_time": "2022-03-13T08:45:50.118Z"
   },
   {
    "duration": 1234,
    "start_time": "2022-03-13T08:46:09.804Z"
   },
   {
    "duration": 22,
    "start_time": "2022-03-13T08:46:11.041Z"
   },
   {
    "duration": 26,
    "start_time": "2022-03-13T08:46:11.066Z"
   },
   {
    "duration": 10,
    "start_time": "2022-03-13T08:46:11.095Z"
   },
   {
    "duration": 19,
    "start_time": "2022-03-13T08:46:11.107Z"
   },
   {
    "duration": 20,
    "start_time": "2022-03-13T08:46:11.128Z"
   },
   {
    "duration": 44,
    "start_time": "2022-03-13T08:46:11.151Z"
   },
   {
    "duration": 137,
    "start_time": "2022-03-13T08:46:11.198Z"
   },
   {
    "duration": 11,
    "start_time": "2022-03-13T08:46:11.338Z"
   },
   {
    "duration": 49,
    "start_time": "2022-03-13T08:46:11.352Z"
   },
   {
    "duration": 105,
    "start_time": "2022-03-13T08:46:11.405Z"
   },
   {
    "duration": 11,
    "start_time": "2022-03-13T08:46:11.512Z"
   },
   {
    "duration": 22,
    "start_time": "2022-03-13T08:46:11.525Z"
   },
   {
    "duration": 103,
    "start_time": "2022-03-13T08:46:11.549Z"
   },
   {
    "duration": 10,
    "start_time": "2022-03-13T08:46:11.654Z"
   },
   {
    "duration": 37,
    "start_time": "2022-03-13T08:46:11.667Z"
   },
   {
    "duration": 14,
    "start_time": "2022-03-13T08:46:11.707Z"
   },
   {
    "duration": 11,
    "start_time": "2022-03-13T08:46:11.724Z"
   },
   {
    "duration": 59,
    "start_time": "2022-03-13T08:46:11.737Z"
   },
   {
    "duration": 29,
    "start_time": "2022-03-13T08:46:11.798Z"
   },
   {
    "duration": 10,
    "start_time": "2022-03-13T08:46:42.610Z"
   },
   {
    "duration": 15,
    "start_time": "2022-03-13T08:48:57.698Z"
   },
   {
    "duration": 1303,
    "start_time": "2022-03-13T08:49:24.972Z"
   },
   {
    "duration": 28,
    "start_time": "2022-03-13T08:49:26.278Z"
   },
   {
    "duration": 16,
    "start_time": "2022-03-13T08:49:26.314Z"
   },
   {
    "duration": 57,
    "start_time": "2022-03-13T08:49:26.333Z"
   },
   {
    "duration": 13,
    "start_time": "2022-03-13T08:49:26.394Z"
   },
   {
    "duration": 18,
    "start_time": "2022-03-13T08:49:26.410Z"
   },
   {
    "duration": 7,
    "start_time": "2022-03-13T08:49:26.434Z"
   },
   {
    "duration": 144,
    "start_time": "2022-03-13T08:49:26.490Z"
   },
   {
    "duration": 13,
    "start_time": "2022-03-13T08:49:26.637Z"
   },
   {
    "duration": 51,
    "start_time": "2022-03-13T08:49:26.653Z"
   },
   {
    "duration": 112,
    "start_time": "2022-03-13T08:49:26.707Z"
   },
   {
    "duration": 12,
    "start_time": "2022-03-13T08:49:26.821Z"
   },
   {
    "duration": 27,
    "start_time": "2022-03-13T08:49:26.836Z"
   },
   {
    "duration": 88,
    "start_time": "2022-03-13T08:49:26.865Z"
   },
   {
    "duration": 32,
    "start_time": "2022-03-13T08:49:26.955Z"
   },
   {
    "duration": 15,
    "start_time": "2022-03-13T08:49:26.989Z"
   },
   {
    "duration": 16,
    "start_time": "2022-03-13T08:49:27.007Z"
   },
   {
    "duration": 12,
    "start_time": "2022-03-13T08:49:27.025Z"
   },
   {
    "duration": 63,
    "start_time": "2022-03-13T08:49:27.040Z"
   },
   {
    "duration": 25,
    "start_time": "2022-03-13T08:49:27.106Z"
   },
   {
    "duration": 54,
    "start_time": "2022-03-13T08:49:27.133Z"
   },
   {
    "duration": 16,
    "start_time": "2022-03-13T09:01:26.136Z"
   },
   {
    "duration": 13,
    "start_time": "2022-03-13T09:02:29.729Z"
   },
   {
    "duration": 1696,
    "start_time": "2022-03-13T09:04:21.763Z"
   },
   {
    "duration": 2226,
    "start_time": "2022-03-13T09:05:00.585Z"
   },
   {
    "duration": 1587,
    "start_time": "2022-03-13T09:05:07.193Z"
   },
   {
    "duration": 6,
    "start_time": "2022-03-13T09:05:14.187Z"
   },
   {
    "duration": 1615,
    "start_time": "2022-03-13T09:05:25.475Z"
   },
   {
    "duration": 6,
    "start_time": "2022-03-13T09:05:47.911Z"
   },
   {
    "duration": 6,
    "start_time": "2022-03-13T09:05:52.156Z"
   },
   {
    "duration": 7,
    "start_time": "2022-03-13T09:06:04.253Z"
   },
   {
    "duration": 16,
    "start_time": "2022-03-13T09:06:24.064Z"
   },
   {
    "duration": 6,
    "start_time": "2022-03-13T09:07:01.348Z"
   },
   {
    "duration": 5,
    "start_time": "2022-03-13T09:07:04.976Z"
   },
   {
    "duration": 6,
    "start_time": "2022-03-13T09:07:11.445Z"
   },
   {
    "duration": 14,
    "start_time": "2022-03-13T09:07:45.348Z"
   },
   {
    "duration": 6,
    "start_time": "2022-03-13T09:08:05.658Z"
   },
   {
    "duration": 8,
    "start_time": "2022-03-13T09:08:10.126Z"
   },
   {
    "duration": 15,
    "start_time": "2022-03-13T09:09:34.786Z"
   },
   {
    "duration": 6,
    "start_time": "2022-03-13T09:09:51.331Z"
   },
   {
    "duration": 7,
    "start_time": "2022-03-13T09:09:55.303Z"
   },
   {
    "duration": 6,
    "start_time": "2022-03-13T09:10:00.581Z"
   },
   {
    "duration": 6,
    "start_time": "2022-03-13T09:10:06.795Z"
   },
   {
    "duration": 6,
    "start_time": "2022-03-13T09:10:33.246Z"
   },
   {
    "duration": 6,
    "start_time": "2022-03-13T09:10:49.521Z"
   },
   {
    "duration": 6,
    "start_time": "2022-03-13T09:10:53.766Z"
   },
   {
    "duration": 6,
    "start_time": "2022-03-13T09:11:06.926Z"
   },
   {
    "duration": 4,
    "start_time": "2022-03-13T09:19:20.402Z"
   },
   {
    "duration": 7,
    "start_time": "2022-03-13T09:19:33.609Z"
   },
   {
    "duration": 279,
    "start_time": "2022-03-13T09:21:33.910Z"
   },
   {
    "duration": 42,
    "start_time": "2022-03-13T09:21:53.437Z"
   },
   {
    "duration": 41,
    "start_time": "2022-03-13T09:22:10.196Z"
   },
   {
    "duration": 86,
    "start_time": "2022-03-13T09:24:13.531Z"
   },
   {
    "duration": 94,
    "start_time": "2022-03-13T09:24:34.347Z"
   },
   {
    "duration": 35,
    "start_time": "2022-03-13T09:24:46.273Z"
   },
   {
    "duration": 372,
    "start_time": "2022-03-13T09:30:56.540Z"
   },
   {
    "duration": 304,
    "start_time": "2022-03-13T09:31:17.133Z"
   },
   {
    "duration": 37,
    "start_time": "2022-03-13T09:31:32.266Z"
   },
   {
    "duration": 40,
    "start_time": "2022-03-13T09:31:40.172Z"
   },
   {
    "duration": 29,
    "start_time": "2022-03-13T09:33:07.165Z"
   },
   {
    "duration": 21,
    "start_time": "2022-03-13T09:36:28.637Z"
   },
   {
    "duration": 22,
    "start_time": "2022-03-13T09:37:23.639Z"
   },
   {
    "duration": 9,
    "start_time": "2022-03-13T09:37:31.752Z"
   },
   {
    "duration": 27,
    "start_time": "2022-03-13T09:37:35.734Z"
   },
   {
    "duration": 11,
    "start_time": "2022-03-13T09:38:04.799Z"
   },
   {
    "duration": 22,
    "start_time": "2022-03-13T09:38:18.606Z"
   },
   {
    "duration": 91,
    "start_time": "2022-03-13T09:39:11.183Z"
   },
   {
    "duration": 276,
    "start_time": "2022-03-13T09:42:28.195Z"
   },
   {
    "duration": 10,
    "start_time": "2022-03-13T09:42:40.620Z"
   },
   {
    "duration": 12,
    "start_time": "2022-03-13T09:42:47.696Z"
   },
   {
    "duration": 1247,
    "start_time": "2022-03-13T09:42:55.253Z"
   },
   {
    "duration": 21,
    "start_time": "2022-03-13T09:42:56.504Z"
   },
   {
    "duration": 15,
    "start_time": "2022-03-13T09:42:56.528Z"
   },
   {
    "duration": 16,
    "start_time": "2022-03-13T09:42:56.546Z"
   },
   {
    "duration": 33,
    "start_time": "2022-03-13T09:42:56.565Z"
   },
   {
    "duration": 15,
    "start_time": "2022-03-13T09:42:56.602Z"
   },
   {
    "duration": 8,
    "start_time": "2022-03-13T09:42:56.620Z"
   },
   {
    "duration": 173,
    "start_time": "2022-03-13T09:42:56.633Z"
   },
   {
    "duration": 11,
    "start_time": "2022-03-13T09:42:56.809Z"
   },
   {
    "duration": 23,
    "start_time": "2022-03-13T09:42:56.822Z"
   },
   {
    "duration": 113,
    "start_time": "2022-03-13T09:42:56.847Z"
   },
   {
    "duration": 28,
    "start_time": "2022-03-13T09:42:56.962Z"
   },
   {
    "duration": 25,
    "start_time": "2022-03-13T09:42:56.993Z"
   },
   {
    "duration": 88,
    "start_time": "2022-03-13T09:42:57.020Z"
   },
   {
    "duration": 9,
    "start_time": "2022-03-13T09:42:57.111Z"
   },
   {
    "duration": 15,
    "start_time": "2022-03-13T09:42:57.123Z"
   },
   {
    "duration": 49,
    "start_time": "2022-03-13T09:42:57.140Z"
   },
   {
    "duration": 14,
    "start_time": "2022-03-13T09:42:57.191Z"
   },
   {
    "duration": 18,
    "start_time": "2022-03-13T09:42:57.207Z"
   },
   {
    "duration": 15,
    "start_time": "2022-03-13T09:42:57.228Z"
   },
   {
    "duration": 44,
    "start_time": "2022-03-13T09:42:57.245Z"
   },
   {
    "duration": 114,
    "start_time": "2022-03-13T09:42:57.291Z"
   },
   {
    "duration": 100,
    "start_time": "2022-03-13T09:55:19.478Z"
   },
   {
    "duration": 24,
    "start_time": "2022-03-13T09:57:21.173Z"
   },
   {
    "duration": 371,
    "start_time": "2022-03-13T09:57:43.830Z"
   },
   {
    "duration": 19,
    "start_time": "2022-03-13T09:57:46.622Z"
   },
   {
    "duration": 22,
    "start_time": "2022-03-13T09:57:51.187Z"
   },
   {
    "duration": 17,
    "start_time": "2022-03-13T09:57:56.831Z"
   },
   {
    "duration": 16,
    "start_time": "2022-03-13T09:58:11.567Z"
   },
   {
    "duration": 23,
    "start_time": "2022-03-13T09:58:29.497Z"
   },
   {
    "duration": 86,
    "start_time": "2022-03-13T09:58:37.921Z"
   },
   {
    "duration": 23,
    "start_time": "2022-03-13T09:58:40.195Z"
   },
   {
    "duration": 90,
    "start_time": "2022-03-13T09:58:51.185Z"
   },
   {
    "duration": 19,
    "start_time": "2022-03-13T09:58:52.849Z"
   },
   {
    "duration": 6,
    "start_time": "2022-03-13T09:59:41.130Z"
   },
   {
    "duration": 6,
    "start_time": "2022-03-13T09:59:50.106Z"
   },
   {
    "duration": 21,
    "start_time": "2022-03-13T10:00:04.679Z"
   },
   {
    "duration": 24,
    "start_time": "2022-03-13T10:00:13.619Z"
   },
   {
    "duration": 88,
    "start_time": "2022-03-13T10:00:18.909Z"
   },
   {
    "duration": 22,
    "start_time": "2022-03-13T10:00:20.047Z"
   },
   {
    "duration": 17,
    "start_time": "2022-03-13T10:00:20.743Z"
   },
   {
    "duration": 18,
    "start_time": "2022-03-13T10:00:32.989Z"
   },
   {
    "duration": 17,
    "start_time": "2022-03-13T10:00:34.495Z"
   },
   {
    "duration": 133,
    "start_time": "2022-03-13T10:00:37.929Z"
   },
   {
    "duration": 20,
    "start_time": "2022-03-13T10:00:39.278Z"
   },
   {
    "duration": 16,
    "start_time": "2022-03-13T10:00:40.840Z"
   },
   {
    "duration": 4,
    "start_time": "2022-03-13T10:00:49.865Z"
   },
   {
    "duration": 17,
    "start_time": "2022-03-13T10:00:50.569Z"
   },
   {
    "duration": 7659,
    "start_time": "2022-03-13T10:03:41.897Z"
   },
   {
    "duration": -81,
    "start_time": "2022-03-13T10:03:49.641Z"
   },
   {
    "duration": 17,
    "start_time": "2022-03-13T10:03:56.303Z"
   },
   {
    "duration": 14,
    "start_time": "2022-03-13T10:04:09.657Z"
   },
   {
    "duration": 19,
    "start_time": "2022-03-13T10:04:12.451Z"
   },
   {
    "duration": 10,
    "start_time": "2022-03-13T10:04:48.573Z"
   },
   {
    "duration": 16,
    "start_time": "2022-03-13T10:05:09.821Z"
   },
   {
    "duration": 20,
    "start_time": "2022-03-13T10:05:11.176Z"
   },
   {
    "duration": 95,
    "start_time": "2022-03-13T10:05:17.310Z"
   },
   {
    "duration": 17,
    "start_time": "2022-03-13T10:05:18.422Z"
   },
   {
    "duration": 18,
    "start_time": "2022-03-13T10:05:18.946Z"
   },
   {
    "duration": 295,
    "start_time": "2022-03-13T10:05:41.269Z"
   },
   {
    "duration": 16,
    "start_time": "2022-03-13T10:06:05.268Z"
   },
   {
    "duration": 21,
    "start_time": "2022-03-13T10:06:08.170Z"
   },
   {
    "duration": 22,
    "start_time": "2022-03-13T10:07:41.472Z"
   },
   {
    "duration": 23,
    "start_time": "2022-03-13T10:07:42.436Z"
   },
   {
    "duration": 27,
    "start_time": "2022-03-13T10:08:10.131Z"
   },
   {
    "duration": 23,
    "start_time": "2022-03-13T10:08:10.677Z"
   },
   {
    "duration": 7182,
    "start_time": "2022-03-13T10:08:56.318Z"
   },
   {
    "duration": -102,
    "start_time": "2022-03-13T10:09:03.605Z"
   },
   {
    "duration": 21,
    "start_time": "2022-03-13T10:09:07.507Z"
   },
   {
    "duration": 7003,
    "start_time": "2022-03-13T10:09:27.295Z"
   },
   {
    "duration": 31,
    "start_time": "2022-03-13T10:09:57.960Z"
   },
   {
    "duration": 28,
    "start_time": "2022-03-13T10:09:59.352Z"
   },
   {
    "duration": 39,
    "start_time": "2022-03-13T10:10:46.092Z"
   },
   {
    "duration": 24,
    "start_time": "2022-03-13T10:10:47.274Z"
   },
   {
    "duration": 308,
    "start_time": "2022-03-13T10:10:58.825Z"
   },
   {
    "duration": 278,
    "start_time": "2022-03-13T10:11:13.150Z"
   },
   {
    "duration": 137,
    "start_time": "2022-03-13T10:11:26.773Z"
   },
   {
    "duration": 47,
    "start_time": "2022-03-13T10:11:29.944Z"
   },
   {
    "duration": 24,
    "start_time": "2022-03-13T10:11:31.596Z"
   },
   {
    "duration": 318,
    "start_time": "2022-03-13T10:16:22.237Z"
   },
   {
    "duration": 325,
    "start_time": "2022-03-13T10:16:26.673Z"
   },
   {
    "duration": 395,
    "start_time": "2022-03-13T10:16:29.731Z"
   },
   {
    "duration": 96,
    "start_time": "2022-03-13T10:18:13.751Z"
   },
   {
    "duration": 36,
    "start_time": "2022-03-13T10:18:16.988Z"
   },
   {
    "duration": 17,
    "start_time": "2022-03-13T10:18:18.161Z"
   },
   {
    "duration": 84,
    "start_time": "2022-03-13T10:19:10.988Z"
   },
   {
    "duration": 95,
    "start_time": "2022-03-13T10:19:15.393Z"
   },
   {
    "duration": 105,
    "start_time": "2022-03-13T10:21:16.151Z"
   },
   {
    "duration": 89,
    "start_time": "2022-03-13T10:21:58.395Z"
   },
   {
    "duration": 301,
    "start_time": "2022-03-13T10:22:02.443Z"
   },
   {
    "duration": 298,
    "start_time": "2022-03-13T10:23:06.876Z"
   },
   {
    "duration": 92,
    "start_time": "2022-03-13T10:23:14.600Z"
   },
   {
    "duration": 6873,
    "start_time": "2022-03-13T10:23:16.008Z"
   },
   {
    "duration": 114,
    "start_time": "2022-03-13T10:23:36.277Z"
   },
   {
    "duration": 278,
    "start_time": "2022-03-13T10:23:54.831Z"
   },
   {
    "duration": 89,
    "start_time": "2022-03-13T10:24:05.263Z"
   },
   {
    "duration": 414,
    "start_time": "2022-03-13T10:24:08.115Z"
   },
   {
    "duration": 17,
    "start_time": "2022-03-13T10:24:17.068Z"
   },
   {
    "duration": 89,
    "start_time": "2022-03-13T10:25:00.036Z"
   },
   {
    "duration": 92,
    "start_time": "2022-03-13T10:25:24.429Z"
   },
   {
    "duration": 1253,
    "start_time": "2022-03-13T10:25:39.420Z"
   },
   {
    "duration": 25,
    "start_time": "2022-03-13T10:25:40.676Z"
   },
   {
    "duration": 16,
    "start_time": "2022-03-13T10:25:40.705Z"
   },
   {
    "duration": 16,
    "start_time": "2022-03-13T10:25:40.724Z"
   },
   {
    "duration": 53,
    "start_time": "2022-03-13T10:25:40.743Z"
   },
   {
    "duration": 17,
    "start_time": "2022-03-13T10:25:40.800Z"
   },
   {
    "duration": 13,
    "start_time": "2022-03-13T10:25:40.820Z"
   },
   {
    "duration": 174,
    "start_time": "2022-03-13T10:25:40.836Z"
   },
   {
    "duration": 11,
    "start_time": "2022-03-13T10:25:41.013Z"
   },
   {
    "duration": 25,
    "start_time": "2022-03-13T10:25:41.027Z"
   },
   {
    "duration": 140,
    "start_time": "2022-03-13T10:25:41.055Z"
   },
   {
    "duration": 13,
    "start_time": "2022-03-13T10:25:41.198Z"
   },
   {
    "duration": 23,
    "start_time": "2022-03-13T10:25:41.214Z"
   },
   {
    "duration": 113,
    "start_time": "2022-03-13T10:25:41.240Z"
   },
   {
    "duration": 11,
    "start_time": "2022-03-13T10:25:41.356Z"
   },
   {
    "duration": 15,
    "start_time": "2022-03-13T10:25:41.387Z"
   },
   {
    "duration": 15,
    "start_time": "2022-03-13T10:25:41.404Z"
   },
   {
    "duration": 15,
    "start_time": "2022-03-13T10:25:41.421Z"
   },
   {
    "duration": 55,
    "start_time": "2022-03-13T10:25:41.439Z"
   },
   {
    "duration": 18,
    "start_time": "2022-03-13T10:25:41.497Z"
   },
   {
    "duration": 13,
    "start_time": "2022-03-13T10:25:41.517Z"
   },
   {
    "duration": 530,
    "start_time": "2022-03-13T10:25:41.532Z"
   },
   {
    "duration": 60,
    "start_time": "2022-03-13T10:25:42.005Z"
   },
   {
    "duration": 46,
    "start_time": "2022-03-13T10:25:42.020Z"
   },
   {
    "duration": 87,
    "start_time": "2022-03-13T10:25:52.825Z"
   },
   {
    "duration": 293,
    "start_time": "2022-03-13T10:26:00.645Z"
   },
   {
    "duration": 37,
    "start_time": "2022-03-13T10:26:07.382Z"
   },
   {
    "duration": 16,
    "start_time": "2022-03-13T10:26:08.955Z"
   },
   {
    "duration": 88,
    "start_time": "2022-03-13T10:26:51.356Z"
   },
   {
    "duration": 109,
    "start_time": "2022-03-13T10:26:56.530Z"
   },
   {
    "duration": 92,
    "start_time": "2022-03-13T10:27:13.464Z"
   },
   {
    "duration": 32,
    "start_time": "2022-03-13T10:27:22.225Z"
   },
   {
    "duration": 18,
    "start_time": "2022-03-13T10:27:23.819Z"
   },
   {
    "duration": 7343,
    "start_time": "2022-03-13T10:27:54.938Z"
   },
   {
    "duration": 306,
    "start_time": "2022-03-13T10:28:04.574Z"
   },
   {
    "duration": 107,
    "start_time": "2022-03-13T10:28:23.101Z"
   },
   {
    "duration": 98,
    "start_time": "2022-03-13T10:28:40.890Z"
   },
   {
    "duration": 81,
    "start_time": "2022-03-13T10:29:03.745Z"
   },
   {
    "duration": 105,
    "start_time": "2022-03-13T10:29:14.484Z"
   },
   {
    "duration": 86,
    "start_time": "2022-03-13T10:29:25.982Z"
   },
   {
    "duration": 90,
    "start_time": "2022-03-13T10:29:31.794Z"
   },
   {
    "duration": 115,
    "start_time": "2022-03-13T10:30:45.203Z"
   },
   {
    "duration": 115,
    "start_time": "2022-03-13T10:31:39.169Z"
   },
   {
    "duration": 97,
    "start_time": "2022-03-13T10:32:12.361Z"
   },
   {
    "duration": 35,
    "start_time": "2022-03-13T10:32:31.558Z"
   },
   {
    "duration": 17,
    "start_time": "2022-03-13T10:32:33.459Z"
   },
   {
    "duration": 297,
    "start_time": "2022-03-13T10:32:42.791Z"
   },
   {
    "duration": 17,
    "start_time": "2022-03-13T10:32:43.412Z"
   },
   {
    "duration": 318,
    "start_time": "2022-03-13T10:32:57.147Z"
   },
   {
    "duration": 100,
    "start_time": "2022-03-13T10:33:00.425Z"
   },
   {
    "duration": 34,
    "start_time": "2022-03-13T10:33:04.362Z"
   },
   {
    "duration": 23,
    "start_time": "2022-03-13T10:33:06.046Z"
   },
   {
    "duration": 10,
    "start_time": "2022-03-13T10:33:14.331Z"
   },
   {
    "duration": 51,
    "start_time": "2022-03-13T10:33:18.301Z"
   },
   {
    "duration": 79,
    "start_time": "2022-03-13T10:33:43.397Z"
   },
   {
    "duration": 95,
    "start_time": "2022-03-13T10:33:46.736Z"
   },
   {
    "duration": 381,
    "start_time": "2022-03-13T10:34:02.097Z"
   },
   {
    "duration": 97,
    "start_time": "2022-03-13T10:34:49.664Z"
   },
   {
    "duration": 480,
    "start_time": "2022-03-13T10:37:45.210Z"
   },
   {
    "duration": 58,
    "start_time": "2022-03-13T10:40:38.229Z"
   },
   {
    "duration": 39,
    "start_time": "2022-03-13T10:40:45.780Z"
   },
   {
    "duration": 2461,
    "start_time": "2022-03-13T10:43:13.269Z"
   },
   {
    "duration": 25,
    "start_time": "2022-03-13T10:43:15.733Z"
   },
   {
    "duration": 13,
    "start_time": "2022-03-13T10:43:15.761Z"
   },
   {
    "duration": 17,
    "start_time": "2022-03-13T10:43:15.776Z"
   },
   {
    "duration": 38,
    "start_time": "2022-03-13T10:43:15.795Z"
   },
   {
    "duration": 17,
    "start_time": "2022-03-13T10:43:15.835Z"
   },
   {
    "duration": 8,
    "start_time": "2022-03-13T10:43:15.854Z"
   },
   {
    "duration": 142,
    "start_time": "2022-03-13T10:43:15.889Z"
   },
   {
    "duration": 10,
    "start_time": "2022-03-13T10:43:16.034Z"
   },
   {
    "duration": 44,
    "start_time": "2022-03-13T10:43:16.046Z"
   },
   {
    "duration": 109,
    "start_time": "2022-03-13T10:43:16.092Z"
   },
   {
    "duration": 12,
    "start_time": "2022-03-13T10:43:16.204Z"
   },
   {
    "duration": 20,
    "start_time": "2022-03-13T10:43:16.218Z"
   },
   {
    "duration": 117,
    "start_time": "2022-03-13T10:43:16.240Z"
   },
   {
    "duration": 11,
    "start_time": "2022-03-13T10:43:16.360Z"
   },
   {
    "duration": 26,
    "start_time": "2022-03-13T10:43:16.374Z"
   },
   {
    "duration": 16,
    "start_time": "2022-03-13T10:43:16.403Z"
   },
   {
    "duration": 18,
    "start_time": "2022-03-13T10:43:16.422Z"
   },
   {
    "duration": 52,
    "start_time": "2022-03-13T10:43:16.442Z"
   },
   {
    "duration": 19,
    "start_time": "2022-03-13T10:43:16.497Z"
   },
   {
    "duration": 10,
    "start_time": "2022-03-13T10:43:16.519Z"
   },
   {
    "duration": 348,
    "start_time": "2022-03-13T10:43:53.412Z"
   },
   {
    "duration": 408,
    "start_time": "2022-03-13T10:44:21.874Z"
   },
   {
    "duration": 1524,
    "start_time": "2022-03-13T10:44:29.696Z"
   },
   {
    "duration": 31,
    "start_time": "2022-03-13T10:44:31.223Z"
   },
   {
    "duration": 27,
    "start_time": "2022-03-13T10:44:31.258Z"
   },
   {
    "duration": 29,
    "start_time": "2022-03-13T10:44:31.288Z"
   },
   {
    "duration": 24,
    "start_time": "2022-03-13T10:44:31.320Z"
   },
   {
    "duration": 21,
    "start_time": "2022-03-13T10:44:31.346Z"
   },
   {
    "duration": 25,
    "start_time": "2022-03-13T10:44:31.370Z"
   },
   {
    "duration": 138,
    "start_time": "2022-03-13T10:44:31.400Z"
   },
   {
    "duration": 12,
    "start_time": "2022-03-13T10:44:31.541Z"
   },
   {
    "duration": 53,
    "start_time": "2022-03-13T10:44:31.556Z"
   },
   {
    "duration": 105,
    "start_time": "2022-03-13T10:44:31.614Z"
   },
   {
    "duration": 11,
    "start_time": "2022-03-13T10:44:31.721Z"
   },
   {
    "duration": 52,
    "start_time": "2022-03-13T10:44:31.735Z"
   },
   {
    "duration": 72,
    "start_time": "2022-03-13T10:44:31.791Z"
   },
   {
    "duration": 33,
    "start_time": "2022-03-13T10:44:31.865Z"
   },
   {
    "duration": 23,
    "start_time": "2022-03-13T10:44:31.901Z"
   },
   {
    "duration": 22,
    "start_time": "2022-03-13T10:44:31.927Z"
   },
   {
    "duration": 46,
    "start_time": "2022-03-13T10:44:31.951Z"
   },
   {
    "duration": 17,
    "start_time": "2022-03-13T10:44:32.000Z"
   },
   {
    "duration": 19,
    "start_time": "2022-03-13T10:44:32.019Z"
   },
   {
    "duration": 48,
    "start_time": "2022-03-13T10:44:32.040Z"
   },
   {
    "duration": 1375,
    "start_time": "2022-03-13T11:10:17.254Z"
   },
   {
    "duration": 23,
    "start_time": "2022-03-13T11:10:18.632Z"
   },
   {
    "duration": 16,
    "start_time": "2022-03-13T11:10:18.658Z"
   },
   {
    "duration": 20,
    "start_time": "2022-03-13T11:10:18.677Z"
   },
   {
    "duration": 15,
    "start_time": "2022-03-13T11:10:18.699Z"
   },
   {
    "duration": 17,
    "start_time": "2022-03-13T11:10:18.716Z"
   },
   {
    "duration": 9,
    "start_time": "2022-03-13T11:10:18.736Z"
   },
   {
    "duration": 153,
    "start_time": "2022-03-13T11:10:18.751Z"
   },
   {
    "duration": 12,
    "start_time": "2022-03-13T11:10:18.908Z"
   },
   {
    "duration": 24,
    "start_time": "2022-03-13T11:10:18.923Z"
   },
   {
    "duration": 118,
    "start_time": "2022-03-13T11:10:18.950Z"
   },
   {
    "duration": 20,
    "start_time": "2022-03-13T11:10:19.071Z"
   },
   {
    "duration": 24,
    "start_time": "2022-03-13T11:10:19.093Z"
   },
   {
    "duration": 85,
    "start_time": "2022-03-13T11:10:19.119Z"
   },
   {
    "duration": 12,
    "start_time": "2022-03-13T11:10:19.206Z"
   },
   {
    "duration": 21,
    "start_time": "2022-03-13T11:10:19.221Z"
   },
   {
    "duration": 43,
    "start_time": "2022-03-13T11:10:19.244Z"
   },
   {
    "duration": 16,
    "start_time": "2022-03-13T11:10:19.290Z"
   },
   {
    "duration": 17,
    "start_time": "2022-03-13T11:10:19.309Z"
   },
   {
    "duration": 10,
    "start_time": "2022-03-13T11:10:19.328Z"
   },
   {
    "duration": 404,
    "start_time": "2022-03-13T11:11:38.373Z"
   },
   {
    "duration": 284,
    "start_time": "2022-03-13T11:11:49.028Z"
   },
   {
    "duration": 274,
    "start_time": "2022-03-13T11:12:47.305Z"
   },
   {
    "duration": 277,
    "start_time": "2022-03-13T11:12:52.955Z"
   },
   {
    "duration": 27,
    "start_time": "2022-03-13T11:12:57.193Z"
   },
   {
    "duration": 28,
    "start_time": "2022-03-13T11:13:09.112Z"
   },
   {
    "duration": 39,
    "start_time": "2022-03-13T11:13:51.704Z"
   },
   {
    "duration": 44,
    "start_time": "2022-03-13T11:13:59.555Z"
   },
   {
    "duration": 65,
    "start_time": "2022-03-13T11:14:37.304Z"
   },
   {
    "duration": 55,
    "start_time": "2022-03-13T11:17:44.409Z"
   },
   {
    "duration": 49,
    "start_time": "2022-03-13T11:18:37.525Z"
   },
   {
    "duration": 48,
    "start_time": "2022-03-13T11:19:03.548Z"
   },
   {
    "duration": 81,
    "start_time": "2022-03-13T11:19:12.403Z"
   },
   {
    "duration": 48,
    "start_time": "2022-03-13T11:19:47.202Z"
   },
   {
    "duration": 62,
    "start_time": "2022-03-13T11:35:42.016Z"
   },
   {
    "duration": 32,
    "start_time": "2022-03-13T11:35:46.602Z"
   },
   {
    "duration": 268,
    "start_time": "2022-03-13T11:36:00.712Z"
   },
   {
    "duration": 13,
    "start_time": "2022-03-13T11:36:08.402Z"
   },
   {
    "duration": 25,
    "start_time": "2022-03-13T11:36:15.696Z"
   },
   {
    "duration": 82,
    "start_time": "2022-03-13T11:36:34.235Z"
   },
   {
    "duration": 46,
    "start_time": "2022-03-13T11:36:43.067Z"
   },
   {
    "duration": 50,
    "start_time": "2022-03-13T11:37:48.040Z"
   },
   {
    "duration": 287,
    "start_time": "2022-03-13T11:38:01.826Z"
   },
   {
    "duration": 306,
    "start_time": "2022-03-13T11:38:07.765Z"
   },
   {
    "duration": 27,
    "start_time": "2022-03-13T11:38:28.991Z"
   },
   {
    "duration": 33,
    "start_time": "2022-03-13T11:38:39.893Z"
   },
   {
    "duration": 17,
    "start_time": "2022-03-13T11:38:40.967Z"
   },
   {
    "duration": 26,
    "start_time": "2022-03-13T11:38:41.986Z"
   },
   {
    "duration": 80,
    "start_time": "2022-03-13T11:39:07.821Z"
   },
   {
    "duration": 31,
    "start_time": "2022-03-13T11:39:08.435Z"
   },
   {
    "duration": 32,
    "start_time": "2022-03-13T11:39:08.912Z"
   },
   {
    "duration": 19,
    "start_time": "2022-03-13T11:39:09.325Z"
   },
   {
    "duration": 29,
    "start_time": "2022-03-13T11:39:10.412Z"
   },
   {
    "duration": 9,
    "start_time": "2022-03-13T11:41:16.792Z"
   },
   {
    "duration": 21,
    "start_time": "2022-03-13T11:41:17.616Z"
   },
   {
    "duration": 308,
    "start_time": "2022-03-13T11:42:19.648Z"
   },
   {
    "duration": 271,
    "start_time": "2022-03-13T11:42:47.794Z"
   },
   {
    "duration": 6,
    "start_time": "2022-03-13T11:44:03.195Z"
   },
   {
    "duration": 6,
    "start_time": "2022-03-13T11:44:04.791Z"
   },
   {
    "duration": 269,
    "start_time": "2022-03-13T11:44:13.538Z"
   },
   {
    "duration": 5,
    "start_time": "2022-03-13T11:44:15.670Z"
   },
   {
    "duration": 97,
    "start_time": "2022-03-13T11:44:30.090Z"
   },
   {
    "duration": 45,
    "start_time": "2022-03-13T11:44:30.315Z"
   },
   {
    "duration": 45,
    "start_time": "2022-03-13T11:44:30.550Z"
   },
   {
    "duration": 19,
    "start_time": "2022-03-13T11:44:30.766Z"
   },
   {
    "duration": 37,
    "start_time": "2022-03-13T11:44:30.978Z"
   },
   {
    "duration": 6,
    "start_time": "2022-03-13T11:44:31.202Z"
   },
   {
    "duration": 21,
    "start_time": "2022-03-13T11:44:31.458Z"
   },
   {
    "duration": 280,
    "start_time": "2022-03-13T11:44:31.694Z"
   },
   {
    "duration": 282,
    "start_time": "2022-03-13T11:44:41.097Z"
   },
   {
    "duration": 292,
    "start_time": "2022-03-13T11:44:49.436Z"
   },
   {
    "duration": 271,
    "start_time": "2022-03-13T11:45:37.854Z"
   },
   {
    "duration": 79,
    "start_time": "2022-03-13T11:45:54.168Z"
   },
   {
    "duration": 30,
    "start_time": "2022-03-13T11:45:54.328Z"
   },
   {
    "duration": 31,
    "start_time": "2022-03-13T11:45:54.494Z"
   },
   {
    "duration": 19,
    "start_time": "2022-03-13T11:45:54.674Z"
   },
   {
    "duration": 26,
    "start_time": "2022-03-13T11:45:54.847Z"
   },
   {
    "duration": 3,
    "start_time": "2022-03-13T11:45:55.030Z"
   },
   {
    "duration": 26,
    "start_time": "2022-03-13T11:45:55.384Z"
   },
   {
    "duration": 37,
    "start_time": "2022-03-13T11:45:55.417Z"
   },
   {
    "duration": 13,
    "start_time": "2022-03-13T11:47:09.992Z"
   },
   {
    "duration": 32,
    "start_time": "2022-03-13T11:47:15.124Z"
   },
   {
    "duration": 22,
    "start_time": "2022-03-13T11:47:21.991Z"
   },
   {
    "duration": 14,
    "start_time": "2022-03-13T11:47:33.937Z"
   },
   {
    "duration": 31,
    "start_time": "2022-03-13T11:47:34.666Z"
   },
   {
    "duration": 30,
    "start_time": "2022-03-13T11:47:56.201Z"
   },
   {
    "duration": 26,
    "start_time": "2022-03-13T11:48:54.857Z"
   },
   {
    "duration": 31,
    "start_time": "2022-03-13T11:48:56.286Z"
   },
   {
    "duration": 18,
    "start_time": "2022-03-13T11:49:00.372Z"
   },
   {
    "duration": 37,
    "start_time": "2022-03-13T11:49:01.084Z"
   },
   {
    "duration": 15,
    "start_time": "2022-03-13T11:49:08.225Z"
   },
   {
    "duration": 28,
    "start_time": "2022-03-13T11:49:08.710Z"
   },
   {
    "duration": 15,
    "start_time": "2022-03-13T11:49:15.914Z"
   },
   {
    "duration": 33,
    "start_time": "2022-03-13T11:49:16.347Z"
   },
   {
    "duration": 85,
    "start_time": "2022-03-13T11:49:26.441Z"
   },
   {
    "duration": 33,
    "start_time": "2022-03-13T11:49:26.606Z"
   },
   {
    "duration": 33,
    "start_time": "2022-03-13T11:49:26.806Z"
   },
   {
    "duration": 19,
    "start_time": "2022-03-13T11:49:27.004Z"
   },
   {
    "duration": 27,
    "start_time": "2022-03-13T11:49:27.207Z"
   },
   {
    "duration": 284,
    "start_time": "2022-03-13T11:49:27.405Z"
   },
   {
    "duration": 134,
    "start_time": "2022-03-13T11:49:27.558Z"
   },
   {
    "duration": 346,
    "start_time": "2022-03-13T11:49:36.496Z"
   },
   {
    "duration": 308,
    "start_time": "2022-03-13T11:49:42.875Z"
   },
   {
    "duration": 302,
    "start_time": "2022-03-13T11:49:48.069Z"
   },
   {
    "duration": 11,
    "start_time": "2022-03-13T11:50:08.453Z"
   },
   {
    "duration": 27,
    "start_time": "2022-03-13T11:50:09.368Z"
   },
   {
    "duration": 81,
    "start_time": "2022-03-13T11:50:24.182Z"
   },
   {
    "duration": 34,
    "start_time": "2022-03-13T11:50:24.424Z"
   },
   {
    "duration": 31,
    "start_time": "2022-03-13T11:50:24.664Z"
   },
   {
    "duration": 19,
    "start_time": "2022-03-13T11:50:24.894Z"
   },
   {
    "duration": 26,
    "start_time": "2022-03-13T11:50:25.225Z"
   },
   {
    "duration": 12,
    "start_time": "2022-03-13T11:50:25.495Z"
   },
   {
    "duration": 28,
    "start_time": "2022-03-13T11:50:26.886Z"
   },
   {
    "duration": 78,
    "start_time": "2022-03-13T11:50:33.956Z"
   },
   {
    "duration": 32,
    "start_time": "2022-03-13T11:50:34.214Z"
   },
   {
    "duration": 31,
    "start_time": "2022-03-13T11:50:34.476Z"
   },
   {
    "duration": 71,
    "start_time": "2022-03-13T11:50:34.702Z"
   },
   {
    "duration": 27,
    "start_time": "2022-03-13T11:50:34.929Z"
   },
   {
    "duration": 11,
    "start_time": "2022-03-13T11:50:35.203Z"
   },
   {
    "duration": 26,
    "start_time": "2022-03-13T11:50:35.520Z"
   },
   {
    "duration": 82,
    "start_time": "2022-03-13T11:50:45.370Z"
   },
   {
    "duration": 31,
    "start_time": "2022-03-13T11:50:45.632Z"
   },
   {
    "duration": 33,
    "start_time": "2022-03-13T11:50:45.884Z"
   },
   {
    "duration": 19,
    "start_time": "2022-03-13T11:50:46.128Z"
   },
   {
    "duration": 28,
    "start_time": "2022-03-13T11:50:46.380Z"
   },
   {
    "duration": 15,
    "start_time": "2022-03-13T11:50:46.643Z"
   },
   {
    "duration": 30,
    "start_time": "2022-03-13T11:50:47.153Z"
   },
   {
    "duration": 128,
    "start_time": "2022-03-13T11:50:56.191Z"
   },
   {
    "duration": 38,
    "start_time": "2022-03-13T11:50:56.428Z"
   },
   {
    "duration": 35,
    "start_time": "2022-03-13T11:50:56.707Z"
   },
   {
    "duration": 21,
    "start_time": "2022-03-13T11:50:56.955Z"
   },
   {
    "duration": 31,
    "start_time": "2022-03-13T11:50:57.342Z"
   },
   {
    "duration": 12,
    "start_time": "2022-03-13T11:50:57.585Z"
   },
   {
    "duration": 28,
    "start_time": "2022-03-13T11:50:57.903Z"
   },
   {
    "duration": 1229,
    "start_time": "2022-03-13T11:51:41.200Z"
   },
   {
    "duration": 21,
    "start_time": "2022-03-13T11:51:42.431Z"
   },
   {
    "duration": 11,
    "start_time": "2022-03-13T11:51:42.455Z"
   },
   {
    "duration": 22,
    "start_time": "2022-03-13T11:51:42.469Z"
   },
   {
    "duration": 14,
    "start_time": "2022-03-13T11:51:42.494Z"
   },
   {
    "duration": 17,
    "start_time": "2022-03-13T11:51:42.511Z"
   },
   {
    "duration": 10,
    "start_time": "2022-03-13T11:51:42.530Z"
   },
   {
    "duration": 160,
    "start_time": "2022-03-13T11:51:42.544Z"
   },
   {
    "duration": 11,
    "start_time": "2022-03-13T11:51:42.707Z"
   },
   {
    "duration": 23,
    "start_time": "2022-03-13T11:51:42.720Z"
   },
   {
    "duration": 112,
    "start_time": "2022-03-13T11:51:42.746Z"
   },
   {
    "duration": 12,
    "start_time": "2022-03-13T11:51:42.860Z"
   },
   {
    "duration": 21,
    "start_time": "2022-03-13T11:51:42.888Z"
   },
   {
    "duration": 110,
    "start_time": "2022-03-13T11:51:42.912Z"
   },
   {
    "duration": 13,
    "start_time": "2022-03-13T11:51:43.025Z"
   },
   {
    "duration": 49,
    "start_time": "2022-03-13T11:51:43.040Z"
   },
   {
    "duration": 15,
    "start_time": "2022-03-13T11:51:43.093Z"
   },
   {
    "duration": 7662,
    "start_time": "2022-03-13T11:51:43.110Z"
   },
   {
    "duration": 76,
    "start_time": "2022-03-13T11:51:50.700Z"
   },
   {
    "duration": 76,
    "start_time": "2022-03-13T11:51:50.703Z"
   },
   {
    "duration": 75,
    "start_time": "2022-03-13T11:51:50.706Z"
   },
   {
    "duration": 75,
    "start_time": "2022-03-13T11:51:50.708Z"
   },
   {
    "duration": 76,
    "start_time": "2022-03-13T11:51:50.710Z"
   },
   {
    "duration": 76,
    "start_time": "2022-03-13T11:51:50.712Z"
   },
   {
    "duration": 76,
    "start_time": "2022-03-13T11:51:50.714Z"
   },
   {
    "duration": 76,
    "start_time": "2022-03-13T11:51:50.716Z"
   },
   {
    "duration": 76,
    "start_time": "2022-03-13T11:51:50.718Z"
   },
   {
    "duration": 1527,
    "start_time": "2022-03-13T11:52:16.553Z"
   },
   {
    "duration": 25,
    "start_time": "2022-03-13T11:52:18.084Z"
   },
   {
    "duration": 12,
    "start_time": "2022-03-13T11:52:18.117Z"
   },
   {
    "duration": 59,
    "start_time": "2022-03-13T11:52:18.131Z"
   },
   {
    "duration": 13,
    "start_time": "2022-03-13T11:52:18.193Z"
   },
   {
    "duration": 22,
    "start_time": "2022-03-13T11:52:18.209Z"
   },
   {
    "duration": 9,
    "start_time": "2022-03-13T11:52:18.235Z"
   },
   {
    "duration": 184,
    "start_time": "2022-03-13T11:52:18.247Z"
   },
   {
    "duration": 12,
    "start_time": "2022-03-13T11:52:18.434Z"
   },
   {
    "duration": 54,
    "start_time": "2022-03-13T11:52:18.449Z"
   },
   {
    "duration": 110,
    "start_time": "2022-03-13T11:52:18.506Z"
   },
   {
    "duration": 13,
    "start_time": "2022-03-13T11:52:18.619Z"
   },
   {
    "duration": 25,
    "start_time": "2022-03-13T11:52:18.635Z"
   },
   {
    "duration": 68,
    "start_time": "2022-03-13T11:52:18.688Z"
   },
   {
    "duration": 31,
    "start_time": "2022-03-13T11:52:18.759Z"
   },
   {
    "duration": 15,
    "start_time": "2022-03-13T11:52:18.793Z"
   },
   {
    "duration": 15,
    "start_time": "2022-03-13T11:52:18.811Z"
   },
   {
    "duration": 68,
    "start_time": "2022-03-13T11:52:18.829Z"
   },
   {
    "duration": 20,
    "start_time": "2022-03-13T11:52:18.901Z"
   },
   {
    "duration": 11,
    "start_time": "2022-03-13T11:52:18.924Z"
   },
   {
    "duration": 128,
    "start_time": "2022-03-13T11:52:18.938Z"
   },
   {
    "duration": 31,
    "start_time": "2022-03-13T11:52:19.090Z"
   },
   {
    "duration": 32,
    "start_time": "2022-03-13T11:52:19.124Z"
   },
   {
    "duration": 20,
    "start_time": "2022-03-13T11:52:19.187Z"
   },
   {
    "duration": 27,
    "start_time": "2022-03-13T11:52:19.209Z"
   },
   {
    "duration": 51,
    "start_time": "2022-03-13T11:52:19.239Z"
   },
   {
    "duration": 40,
    "start_time": "2022-03-13T11:52:19.292Z"
   },
   {
    "duration": 25,
    "start_time": "2022-03-13T11:52:42.955Z"
   },
   {
    "duration": 32,
    "start_time": "2022-03-13T11:52:50.080Z"
   },
   {
    "duration": 82,
    "start_time": "2022-03-13T11:53:38.322Z"
   },
   {
    "duration": 30,
    "start_time": "2022-03-13T11:53:38.750Z"
   },
   {
    "duration": 32,
    "start_time": "2022-03-13T11:53:39.147Z"
   },
   {
    "duration": 376,
    "start_time": "2022-03-13T11:53:39.467Z"
   },
   {
    "duration": 34,
    "start_time": "2022-03-13T11:53:40.021Z"
   },
   {
    "duration": 349,
    "start_time": "2022-03-13T11:53:53.211Z"
   },
   {
    "duration": 21,
    "start_time": "2022-03-13T11:54:15.535Z"
   },
   {
    "duration": 32,
    "start_time": "2022-03-13T11:54:17.013Z"
   },
   {
    "duration": 22,
    "start_time": "2022-03-13T11:54:59.926Z"
   },
   {
    "duration": 7,
    "start_time": "2022-03-13T11:55:07.347Z"
   },
   {
    "duration": 14,
    "start_time": "2022-03-13T11:55:09.101Z"
   },
   {
    "duration": 33,
    "start_time": "2022-03-13T11:55:10.427Z"
   },
   {
    "duration": 75,
    "start_time": "2022-03-13T11:55:29.382Z"
   },
   {
    "duration": 32,
    "start_time": "2022-03-13T11:55:29.654Z"
   },
   {
    "duration": 36,
    "start_time": "2022-03-13T11:55:29.926Z"
   },
   {
    "duration": 21,
    "start_time": "2022-03-13T11:55:30.187Z"
   },
   {
    "duration": 28,
    "start_time": "2022-03-13T11:55:30.425Z"
   },
   {
    "duration": 7,
    "start_time": "2022-03-13T11:55:30.734Z"
   },
   {
    "duration": 15,
    "start_time": "2022-03-13T11:55:31.161Z"
   },
   {
    "duration": 31,
    "start_time": "2022-03-13T11:55:31.521Z"
   },
   {
    "duration": 1249,
    "start_time": "2022-03-13T11:55:49.768Z"
   },
   {
    "duration": 21,
    "start_time": "2022-03-13T11:55:51.019Z"
   },
   {
    "duration": 13,
    "start_time": "2022-03-13T11:55:51.043Z"
   },
   {
    "duration": 30,
    "start_time": "2022-03-13T11:55:51.059Z"
   },
   {
    "duration": 12,
    "start_time": "2022-03-13T11:55:51.091Z"
   },
   {
    "duration": 15,
    "start_time": "2022-03-13T11:55:51.106Z"
   },
   {
    "duration": 13,
    "start_time": "2022-03-13T11:55:51.123Z"
   },
   {
    "duration": 179,
    "start_time": "2022-03-13T11:55:51.140Z"
   },
   {
    "duration": 10,
    "start_time": "2022-03-13T11:55:51.323Z"
   },
   {
    "duration": 24,
    "start_time": "2022-03-13T11:55:51.336Z"
   },
   {
    "duration": 108,
    "start_time": "2022-03-13T11:55:51.362Z"
   },
   {
    "duration": 13,
    "start_time": "2022-03-13T11:55:51.487Z"
   },
   {
    "duration": 18,
    "start_time": "2022-03-13T11:55:51.503Z"
   },
   {
    "duration": 100,
    "start_time": "2022-03-13T11:55:51.523Z"
   },
   {
    "duration": 11,
    "start_time": "2022-03-13T11:55:51.625Z"
   },
   {
    "duration": 17,
    "start_time": "2022-03-13T11:55:51.638Z"
   },
   {
    "duration": 38,
    "start_time": "2022-03-13T11:55:51.657Z"
   },
   {
    "duration": 16,
    "start_time": "2022-03-13T11:55:51.698Z"
   },
   {
    "duration": 19,
    "start_time": "2022-03-13T11:55:51.717Z"
   },
   {
    "duration": 54,
    "start_time": "2022-03-13T11:55:51.738Z"
   },
   {
    "duration": 98,
    "start_time": "2022-03-13T11:55:51.795Z"
   },
   {
    "duration": 24,
    "start_time": "2022-03-13T11:55:51.896Z"
   },
   {
    "duration": 34,
    "start_time": "2022-03-13T11:55:51.924Z"
   },
   {
    "duration": 20,
    "start_time": "2022-03-13T11:55:51.987Z"
   },
   {
    "duration": 25,
    "start_time": "2022-03-13T11:55:52.010Z"
   },
   {
    "duration": 49,
    "start_time": "2022-03-13T11:55:52.038Z"
   },
   {
    "duration": 16,
    "start_time": "2022-03-13T11:55:52.089Z"
   },
   {
    "duration": 32,
    "start_time": "2022-03-13T11:55:52.108Z"
   },
   {
    "duration": 31,
    "start_time": "2022-03-13T11:56:09.962Z"
   },
   {
    "duration": 51,
    "start_time": "2022-03-13T11:56:50.708Z"
   },
   {
    "duration": 22,
    "start_time": "2022-03-13T12:14:42.326Z"
   },
   {
    "duration": 5,
    "start_time": "2022-03-13T12:16:52.681Z"
   },
   {
    "duration": 22,
    "start_time": "2022-03-13T12:16:56.913Z"
   },
   {
    "duration": 7,
    "start_time": "2022-03-13T12:17:11.249Z"
   },
   {
    "duration": 18,
    "start_time": "2022-03-13T12:17:12.534Z"
   },
   {
    "duration": 434,
    "start_time": "2022-03-13T12:17:28.003Z"
   },
   {
    "duration": 143,
    "start_time": "2022-03-13T12:17:32.784Z"
   },
   {
    "duration": 18,
    "start_time": "2022-03-13T12:17:33.356Z"
   },
   {
    "duration": 282,
    "start_time": "2022-03-13T12:17:33.936Z"
   },
   {
    "duration": 1709,
    "start_time": "2022-03-13T12:17:40.201Z"
   },
   {
    "duration": 24,
    "start_time": "2022-03-13T12:17:41.913Z"
   },
   {
    "duration": 12,
    "start_time": "2022-03-13T12:17:41.940Z"
   },
   {
    "duration": 32,
    "start_time": "2022-03-13T12:17:41.955Z"
   },
   {
    "duration": 15,
    "start_time": "2022-03-13T12:17:41.991Z"
   },
   {
    "duration": 20,
    "start_time": "2022-03-13T12:17:42.009Z"
   },
   {
    "duration": 12,
    "start_time": "2022-03-13T12:17:42.032Z"
   },
   {
    "duration": 143,
    "start_time": "2022-03-13T12:17:42.090Z"
   },
   {
    "duration": 12,
    "start_time": "2022-03-13T12:17:42.237Z"
   },
   {
    "duration": 46,
    "start_time": "2022-03-13T12:17:42.252Z"
   },
   {
    "duration": 137,
    "start_time": "2022-03-13T12:17:42.302Z"
   },
   {
    "duration": 16,
    "start_time": "2022-03-13T12:17:42.442Z"
   },
   {
    "duration": 39,
    "start_time": "2022-03-13T12:17:42.460Z"
   },
   {
    "duration": 93,
    "start_time": "2022-03-13T12:17:42.501Z"
   },
   {
    "duration": 12,
    "start_time": "2022-03-13T12:17:42.597Z"
   },
   {
    "duration": 17,
    "start_time": "2022-03-13T12:17:42.611Z"
   },
   {
    "duration": 54,
    "start_time": "2022-03-13T12:17:42.633Z"
   },
   {
    "duration": 25,
    "start_time": "2022-03-13T12:17:42.690Z"
   },
   {
    "duration": 17,
    "start_time": "2022-03-13T12:17:42.718Z"
   },
   {
    "duration": 52,
    "start_time": "2022-03-13T12:17:42.739Z"
   },
   {
    "duration": 157,
    "start_time": "2022-03-13T12:17:42.794Z"
   },
   {
    "duration": 45,
    "start_time": "2022-03-13T12:17:42.954Z"
   },
   {
    "duration": 431,
    "start_time": "2022-03-13T12:17:43.005Z"
   },
   {
    "duration": 7,
    "start_time": "2022-03-13T12:17:43.431Z"
   },
   {
    "duration": 315,
    "start_time": "2022-03-13T12:18:07.652Z"
   },
   {
    "duration": 309,
    "start_time": "2022-03-13T12:18:27.760Z"
   },
   {
    "duration": 285,
    "start_time": "2022-03-13T12:18:31.945Z"
   },
   {
    "duration": 7,
    "start_time": "2022-03-13T12:18:33.852Z"
   },
   {
    "duration": 17,
    "start_time": "2022-03-13T12:18:35.313Z"
   },
   {
    "duration": 286,
    "start_time": "2022-03-13T12:18:56.611Z"
   },
   {
    "duration": 1298,
    "start_time": "2022-03-13T12:19:16.453Z"
   },
   {
    "duration": 21,
    "start_time": "2022-03-13T12:19:17.754Z"
   },
   {
    "duration": 13,
    "start_time": "2022-03-13T12:19:17.778Z"
   },
   {
    "duration": 22,
    "start_time": "2022-03-13T12:19:17.794Z"
   },
   {
    "duration": 12,
    "start_time": "2022-03-13T12:19:17.818Z"
   },
   {
    "duration": 15,
    "start_time": "2022-03-13T12:19:17.833Z"
   },
   {
    "duration": 10,
    "start_time": "2022-03-13T12:19:17.886Z"
   },
   {
    "duration": 145,
    "start_time": "2022-03-13T12:19:17.899Z"
   },
   {
    "duration": 10,
    "start_time": "2022-03-13T12:19:18.047Z"
   },
   {
    "duration": 43,
    "start_time": "2022-03-13T12:19:18.060Z"
   },
   {
    "duration": 106,
    "start_time": "2022-03-13T12:19:18.107Z"
   },
   {
    "duration": 12,
    "start_time": "2022-03-13T12:19:18.216Z"
   },
   {
    "duration": 23,
    "start_time": "2022-03-13T12:19:18.231Z"
   },
   {
    "duration": 75,
    "start_time": "2022-03-13T12:19:18.289Z"
   },
   {
    "duration": 33,
    "start_time": "2022-03-13T12:19:18.367Z"
   },
   {
    "duration": 20,
    "start_time": "2022-03-13T12:19:18.404Z"
   },
   {
    "duration": 11,
    "start_time": "2022-03-13T12:19:18.427Z"
   },
   {
    "duration": 57,
    "start_time": "2022-03-13T12:19:18.442Z"
   },
   {
    "duration": 32,
    "start_time": "2022-03-13T12:19:18.503Z"
   },
   {
    "duration": 19,
    "start_time": "2022-03-13T12:19:18.537Z"
   },
   {
    "duration": 171,
    "start_time": "2022-03-13T12:19:18.559Z"
   },
   {
    "duration": 23,
    "start_time": "2022-03-13T12:19:18.733Z"
   },
   {
    "duration": 32,
    "start_time": "2022-03-13T12:19:18.758Z"
   },
   {
    "duration": 21,
    "start_time": "2022-03-13T12:19:18.792Z"
   },
   {
    "duration": 13,
    "start_time": "2022-03-13T12:20:13.449Z"
   },
   {
    "duration": 392,
    "start_time": "2022-03-13T12:20:25.774Z"
   },
   {
    "duration": 1380,
    "start_time": "2022-03-13T12:20:36.944Z"
   },
   {
    "duration": 26,
    "start_time": "2022-03-13T12:20:38.327Z"
   },
   {
    "duration": 17,
    "start_time": "2022-03-13T12:20:38.356Z"
   },
   {
    "duration": 22,
    "start_time": "2022-03-13T12:20:38.388Z"
   },
   {
    "duration": 30,
    "start_time": "2022-03-13T12:20:38.413Z"
   },
   {
    "duration": 42,
    "start_time": "2022-03-13T12:20:38.447Z"
   },
   {
    "duration": 18,
    "start_time": "2022-03-13T12:20:38.493Z"
   },
   {
    "duration": 145,
    "start_time": "2022-03-13T12:20:38.516Z"
   },
   {
    "duration": 23,
    "start_time": "2022-03-13T12:20:38.664Z"
   },
   {
    "duration": 23,
    "start_time": "2022-03-13T12:20:38.690Z"
   },
   {
    "duration": 119,
    "start_time": "2022-03-13T12:20:38.716Z"
   },
   {
    "duration": 11,
    "start_time": "2022-03-13T12:20:38.837Z"
   },
   {
    "duration": 41,
    "start_time": "2022-03-13T12:20:38.851Z"
   },
   {
    "duration": 97,
    "start_time": "2022-03-13T12:20:38.894Z"
   },
   {
    "duration": 12,
    "start_time": "2022-03-13T12:20:38.994Z"
   },
   {
    "duration": 33,
    "start_time": "2022-03-13T12:20:39.009Z"
   },
   {
    "duration": 12,
    "start_time": "2022-03-13T12:20:39.045Z"
   },
   {
    "duration": 44,
    "start_time": "2022-03-13T12:20:39.059Z"
   },
   {
    "duration": 23,
    "start_time": "2022-03-13T12:20:39.107Z"
   },
   {
    "duration": 14,
    "start_time": "2022-03-13T12:20:39.133Z"
   },
   {
    "duration": 211,
    "start_time": "2022-03-13T12:20:39.150Z"
   },
   {
    "duration": 40,
    "start_time": "2022-03-13T12:20:39.364Z"
   },
   {
    "duration": 397,
    "start_time": "2022-03-13T12:20:39.409Z"
   },
   {
    "duration": 28,
    "start_time": "2022-03-13T12:20:39.780Z"
   },
   {
    "duration": 26,
    "start_time": "2022-03-13T12:20:39.783Z"
   },
   {
    "duration": 14,
    "start_time": "2022-03-13T12:20:52.656Z"
   },
   {
    "duration": 5,
    "start_time": "2022-03-13T12:21:10.332Z"
   },
   {
    "duration": 18,
    "start_time": "2022-03-13T12:21:11.641Z"
   },
   {
    "duration": 18,
    "start_time": "2022-03-13T12:21:12.723Z"
   },
   {
    "duration": 7490,
    "start_time": "2022-03-13T12:21:27.079Z"
   },
   {
    "duration": -105,
    "start_time": "2022-03-13T12:21:47.269Z"
   },
   {
    "duration": 7851,
    "start_time": "2022-03-13T12:22:59.844Z"
   },
   {
    "duration": 7,
    "start_time": "2022-03-13T12:23:09.329Z"
   },
   {
    "duration": 8301,
    "start_time": "2022-03-13T12:23:18.855Z"
   },
   {
    "duration": 7489,
    "start_time": "2022-03-13T12:23:27.671Z"
   },
   {
    "duration": 6968,
    "start_time": "2022-03-13T12:23:39.945Z"
   },
   {
    "duration": 303,
    "start_time": "2022-03-13T12:26:12.014Z"
   },
   {
    "duration": 7,
    "start_time": "2022-03-13T12:26:14.524Z"
   },
   {
    "duration": 1241,
    "start_time": "2022-03-13T12:26:32.778Z"
   },
   {
    "duration": 23,
    "start_time": "2022-03-13T12:26:34.021Z"
   },
   {
    "duration": 12,
    "start_time": "2022-03-13T12:26:34.047Z"
   },
   {
    "duration": 25,
    "start_time": "2022-03-13T12:26:34.062Z"
   },
   {
    "duration": 11,
    "start_time": "2022-03-13T12:26:34.090Z"
   },
   {
    "duration": 35,
    "start_time": "2022-03-13T12:26:34.103Z"
   },
   {
    "duration": 9,
    "start_time": "2022-03-13T12:26:34.141Z"
   },
   {
    "duration": 151,
    "start_time": "2022-03-13T12:26:34.152Z"
   },
   {
    "duration": 11,
    "start_time": "2022-03-13T12:26:34.307Z"
   },
   {
    "duration": 21,
    "start_time": "2022-03-13T12:26:34.321Z"
   },
   {
    "duration": 116,
    "start_time": "2022-03-13T12:26:34.344Z"
   },
   {
    "duration": 10,
    "start_time": "2022-03-13T12:26:34.463Z"
   },
   {
    "duration": 17,
    "start_time": "2022-03-13T12:26:34.486Z"
   },
   {
    "duration": 99,
    "start_time": "2022-03-13T12:26:34.505Z"
   },
   {
    "duration": 9,
    "start_time": "2022-03-13T12:26:34.607Z"
   },
   {
    "duration": 31,
    "start_time": "2022-03-13T12:26:34.618Z"
   },
   {
    "duration": 35,
    "start_time": "2022-03-13T12:26:34.652Z"
   },
   {
    "duration": 17,
    "start_time": "2022-03-13T12:26:34.689Z"
   },
   {
    "duration": 20,
    "start_time": "2022-03-13T12:26:34.709Z"
   },
   {
    "duration": 21,
    "start_time": "2022-03-13T12:26:34.731Z"
   },
   {
    "duration": 192,
    "start_time": "2022-03-13T12:26:34.755Z"
   },
   {
    "duration": 22,
    "start_time": "2022-03-13T12:26:34.950Z"
   },
   {
    "duration": 17,
    "start_time": "2022-03-13T12:26:34.987Z"
   },
   {
    "duration": 32,
    "start_time": "2022-03-13T12:26:35.006Z"
   },
   {
    "duration": 34,
    "start_time": "2022-03-13T12:26:35.041Z"
   },
   {
    "duration": 16,
    "start_time": "2022-03-13T12:26:35.077Z"
   },
   {
    "duration": 358,
    "start_time": "2022-03-13T12:28:44.307Z"
   },
   {
    "duration": 6,
    "start_time": "2022-03-13T12:28:51.500Z"
   },
   {
    "duration": 17,
    "start_time": "2022-03-13T12:28:58.122Z"
   },
   {
    "duration": 6,
    "start_time": "2022-03-13T12:29:10.100Z"
   },
   {
    "duration": 17,
    "start_time": "2022-03-13T12:29:11.184Z"
   },
   {
    "duration": 6,
    "start_time": "2022-03-13T12:30:12.807Z"
   },
   {
    "duration": 308,
    "start_time": "2022-03-13T12:30:14.001Z"
   },
   {
    "duration": 1262,
    "start_time": "2022-03-13T12:30:29.542Z"
   },
   {
    "duration": 21,
    "start_time": "2022-03-13T12:30:30.807Z"
   },
   {
    "duration": 40,
    "start_time": "2022-03-13T12:30:30.831Z"
   },
   {
    "duration": 29,
    "start_time": "2022-03-13T12:30:30.874Z"
   },
   {
    "duration": 23,
    "start_time": "2022-03-13T12:30:30.906Z"
   },
   {
    "duration": 34,
    "start_time": "2022-03-13T12:30:30.931Z"
   },
   {
    "duration": 52,
    "start_time": "2022-03-13T12:30:30.967Z"
   },
   {
    "duration": 206,
    "start_time": "2022-03-13T12:30:31.021Z"
   },
   {
    "duration": 16,
    "start_time": "2022-03-13T12:30:31.233Z"
   },
   {
    "duration": 46,
    "start_time": "2022-03-13T12:30:31.254Z"
   },
   {
    "duration": 112,
    "start_time": "2022-03-13T12:30:31.303Z"
   },
   {
    "duration": 12,
    "start_time": "2022-03-13T12:30:31.418Z"
   },
   {
    "duration": 23,
    "start_time": "2022-03-13T12:30:31.432Z"
   },
   {
    "duration": 96,
    "start_time": "2022-03-13T12:30:31.458Z"
   },
   {
    "duration": 10,
    "start_time": "2022-03-13T12:30:31.557Z"
   },
   {
    "duration": 18,
    "start_time": "2022-03-13T12:30:31.587Z"
   },
   {
    "duration": 12,
    "start_time": "2022-03-13T12:30:31.608Z"
   },
   {
    "duration": 17,
    "start_time": "2022-03-13T12:30:31.623Z"
   },
   {
    "duration": 56,
    "start_time": "2022-03-13T12:30:31.643Z"
   },
   {
    "duration": 15,
    "start_time": "2022-03-13T12:30:31.702Z"
   },
   {
    "duration": 184,
    "start_time": "2022-03-13T12:30:31.720Z"
   },
   {
    "duration": 26,
    "start_time": "2022-03-13T12:30:31.906Z"
   },
   {
    "duration": 14,
    "start_time": "2022-03-13T12:30:31.935Z"
   },
   {
    "duration": 50,
    "start_time": "2022-03-13T12:30:31.952Z"
   },
   {
    "duration": 12,
    "start_time": "2022-03-13T12:30:32.004Z"
   },
   {
    "duration": 7,
    "start_time": "2022-03-13T12:30:32.019Z"
   },
   {
    "duration": 14,
    "start_time": "2022-03-13T12:30:32.030Z"
   },
   {
    "duration": 59,
    "start_time": "2022-03-13T12:30:32.047Z"
   },
   {
    "duration": 5,
    "start_time": "2022-03-13T12:31:26.877Z"
   },
   {
    "duration": 20,
    "start_time": "2022-03-13T12:31:28.089Z"
   },
   {
    "duration": 110,
    "start_time": "2022-03-13T12:31:36.866Z"
   },
   {
    "duration": 118,
    "start_time": "2022-03-13T12:31:49.366Z"
   },
   {
    "duration": 97,
    "start_time": "2022-03-13T12:32:03.110Z"
   },
   {
    "duration": 6,
    "start_time": "2022-03-13T12:32:11.337Z"
   },
   {
    "duration": 18,
    "start_time": "2022-03-13T12:32:12.871Z"
   },
   {
    "duration": 6,
    "start_time": "2022-03-13T12:32:35.815Z"
   },
   {
    "duration": 9,
    "start_time": "2022-03-13T12:32:43.964Z"
   },
   {
    "duration": 6,
    "start_time": "2022-03-13T12:33:09.678Z"
   },
   {
    "duration": 9,
    "start_time": "2022-03-13T12:33:46.201Z"
   },
   {
    "duration": 16,
    "start_time": "2022-03-13T12:33:46.879Z"
   },
   {
    "duration": 6,
    "start_time": "2022-03-13T12:35:30.344Z"
   },
   {
    "duration": 8,
    "start_time": "2022-03-13T12:35:51.081Z"
   },
   {
    "duration": 17,
    "start_time": "2022-03-13T12:35:54.715Z"
   },
   {
    "duration": 9,
    "start_time": "2022-03-13T12:37:05.354Z"
   },
   {
    "duration": 15,
    "start_time": "2022-03-13T12:37:06.078Z"
   },
   {
    "duration": 380,
    "start_time": "2022-03-13T12:37:59.715Z"
   },
   {
    "duration": 280,
    "start_time": "2022-03-13T12:38:05.607Z"
   },
   {
    "duration": 1294,
    "start_time": "2022-03-13T12:38:24.573Z"
   },
   {
    "duration": 23,
    "start_time": "2022-03-13T12:38:25.869Z"
   },
   {
    "duration": 12,
    "start_time": "2022-03-13T12:38:25.895Z"
   },
   {
    "duration": 12,
    "start_time": "2022-03-13T12:38:25.910Z"
   },
   {
    "duration": 12,
    "start_time": "2022-03-13T12:38:25.924Z"
   },
   {
    "duration": 64,
    "start_time": "2022-03-13T12:38:25.939Z"
   },
   {
    "duration": 13,
    "start_time": "2022-03-13T12:38:26.006Z"
   },
   {
    "duration": 153,
    "start_time": "2022-03-13T12:38:26.023Z"
   },
   {
    "duration": 17,
    "start_time": "2022-03-13T12:38:26.179Z"
   },
   {
    "duration": 24,
    "start_time": "2022-03-13T12:38:26.199Z"
   },
   {
    "duration": 130,
    "start_time": "2022-03-13T12:38:26.227Z"
   },
   {
    "duration": 12,
    "start_time": "2022-03-13T12:38:26.359Z"
   },
   {
    "duration": 17,
    "start_time": "2022-03-13T12:38:26.388Z"
   },
   {
    "duration": 96,
    "start_time": "2022-03-13T12:38:26.407Z"
   },
   {
    "duration": 10,
    "start_time": "2022-03-13T12:38:26.505Z"
   },
   {
    "duration": 23,
    "start_time": "2022-03-13T12:38:26.517Z"
   },
   {
    "duration": 12,
    "start_time": "2022-03-13T12:38:26.543Z"
   },
   {
    "duration": 41,
    "start_time": "2022-03-13T12:38:26.558Z"
   },
   {
    "duration": 21,
    "start_time": "2022-03-13T12:38:26.601Z"
   },
   {
    "duration": 11,
    "start_time": "2022-03-13T12:38:26.624Z"
   },
   {
    "duration": 196,
    "start_time": "2022-03-13T12:38:26.637Z"
   },
   {
    "duration": 12,
    "start_time": "2022-03-13T12:38:26.835Z"
   },
   {
    "duration": 38,
    "start_time": "2022-03-13T12:38:26.851Z"
   },
   {
    "duration": 383,
    "start_time": "2022-03-13T12:38:26.892Z"
   },
   {
    "duration": 19,
    "start_time": "2022-03-13T12:39:20.266Z"
   },
   {
    "duration": 18,
    "start_time": "2022-03-13T12:39:47.179Z"
   },
   {
    "duration": 10,
    "start_time": "2022-03-13T12:40:51.199Z"
   },
   {
    "duration": 14,
    "start_time": "2022-03-13T12:40:52.153Z"
   },
   {
    "duration": 336,
    "start_time": "2022-03-13T12:41:31.742Z"
   },
   {
    "duration": 9,
    "start_time": "2022-03-13T12:41:40.380Z"
   },
   {
    "duration": 22,
    "start_time": "2022-03-13T12:41:41.788Z"
   },
   {
    "duration": 1210,
    "start_time": "2022-03-13T12:42:02.799Z"
   },
   {
    "duration": 21,
    "start_time": "2022-03-13T12:42:04.012Z"
   },
   {
    "duration": 15,
    "start_time": "2022-03-13T12:42:04.036Z"
   },
   {
    "duration": 28,
    "start_time": "2022-03-13T12:42:04.053Z"
   },
   {
    "duration": 19,
    "start_time": "2022-03-13T12:42:04.086Z"
   },
   {
    "duration": 36,
    "start_time": "2022-03-13T12:42:04.108Z"
   },
   {
    "duration": 19,
    "start_time": "2022-03-13T12:42:04.146Z"
   },
   {
    "duration": 132,
    "start_time": "2022-03-13T12:42:04.169Z"
   },
   {
    "duration": 10,
    "start_time": "2022-03-13T12:42:04.305Z"
   },
   {
    "duration": 35,
    "start_time": "2022-03-13T12:42:04.317Z"
   },
   {
    "duration": 102,
    "start_time": "2022-03-13T12:42:04.355Z"
   },
   {
    "duration": 13,
    "start_time": "2022-03-13T12:42:04.459Z"
   },
   {
    "duration": 38,
    "start_time": "2022-03-13T12:42:04.474Z"
   },
   {
    "duration": 89,
    "start_time": "2022-03-13T12:42:04.515Z"
   },
   {
    "duration": 12,
    "start_time": "2022-03-13T12:42:04.606Z"
   },
   {
    "duration": 22,
    "start_time": "2022-03-13T12:42:04.621Z"
   },
   {
    "duration": 49,
    "start_time": "2022-03-13T12:42:04.646Z"
   },
   {
    "duration": 17,
    "start_time": "2022-03-13T12:42:04.698Z"
   },
   {
    "duration": 30,
    "start_time": "2022-03-13T12:42:04.718Z"
   },
   {
    "duration": 40,
    "start_time": "2022-03-13T12:42:04.751Z"
   },
   {
    "duration": 167,
    "start_time": "2022-03-13T12:42:04.793Z"
   },
   {
    "duration": 25,
    "start_time": "2022-03-13T12:42:04.962Z"
   },
   {
    "duration": 16,
    "start_time": "2022-03-13T12:42:04.991Z"
   },
   {
    "duration": 13,
    "start_time": "2022-03-13T12:42:05.010Z"
   },
   {
    "duration": 12,
    "start_time": "2022-03-13T12:43:45.323Z"
   },
   {
    "duration": 4,
    "start_time": "2022-03-13T12:46:23.931Z"
   },
   {
    "duration": 12,
    "start_time": "2022-03-13T12:46:24.770Z"
   },
   {
    "duration": 6,
    "start_time": "2022-03-13T12:46:44.991Z"
   },
   {
    "duration": 11,
    "start_time": "2022-03-13T12:46:46.974Z"
   },
   {
    "duration": 8,
    "start_time": "2022-03-13T12:47:10.640Z"
   },
   {
    "duration": 11,
    "start_time": "2022-03-13T12:47:12.326Z"
   },
   {
    "duration": 1234,
    "start_time": "2022-03-13T12:47:28.329Z"
   },
   {
    "duration": 22,
    "start_time": "2022-03-13T12:47:29.566Z"
   },
   {
    "duration": 12,
    "start_time": "2022-03-13T12:47:29.592Z"
   },
   {
    "duration": 13,
    "start_time": "2022-03-13T12:47:29.608Z"
   },
   {
    "duration": 16,
    "start_time": "2022-03-13T12:47:29.624Z"
   },
   {
    "duration": 58,
    "start_time": "2022-03-13T12:47:29.643Z"
   },
   {
    "duration": 8,
    "start_time": "2022-03-13T12:47:29.703Z"
   },
   {
    "duration": 165,
    "start_time": "2022-03-13T12:47:29.715Z"
   },
   {
    "duration": 11,
    "start_time": "2022-03-13T12:47:29.883Z"
   },
   {
    "duration": 23,
    "start_time": "2022-03-13T12:47:29.896Z"
   },
   {
    "duration": 122,
    "start_time": "2022-03-13T12:47:29.922Z"
   },
   {
    "duration": 11,
    "start_time": "2022-03-13T12:47:30.047Z"
   },
   {
    "duration": 39,
    "start_time": "2022-03-13T12:47:30.060Z"
   },
   {
    "duration": 90,
    "start_time": "2022-03-13T12:47:30.101Z"
   },
   {
    "duration": 10,
    "start_time": "2022-03-13T12:47:30.194Z"
   },
   {
    "duration": 23,
    "start_time": "2022-03-13T12:47:30.207Z"
   },
   {
    "duration": 12,
    "start_time": "2022-03-13T12:47:30.233Z"
   },
   {
    "duration": 48,
    "start_time": "2022-03-13T12:47:30.248Z"
   },
   {
    "duration": 28,
    "start_time": "2022-03-13T12:47:30.298Z"
   },
   {
    "duration": 15,
    "start_time": "2022-03-13T12:47:30.330Z"
   },
   {
    "duration": 199,
    "start_time": "2022-03-13T12:47:30.348Z"
   },
   {
    "duration": 12,
    "start_time": "2022-03-13T12:47:30.550Z"
   },
   {
    "duration": 32,
    "start_time": "2022-03-13T12:47:30.566Z"
   },
   {
    "duration": 114,
    "start_time": "2022-03-13T12:47:30.602Z"
   },
   {
    "duration": 72,
    "start_time": "2022-03-13T12:47:30.648Z"
   },
   {
    "duration": 71,
    "start_time": "2022-03-13T12:47:30.651Z"
   },
   {
    "duration": 72,
    "start_time": "2022-03-13T12:47:30.652Z"
   },
   {
    "duration": 6,
    "start_time": "2022-03-13T12:47:41.666Z"
   },
   {
    "duration": 12,
    "start_time": "2022-03-13T12:47:42.341Z"
   },
   {
    "duration": 13,
    "start_time": "2022-03-13T12:47:43.403Z"
   },
   {
    "duration": 7100,
    "start_time": "2022-03-13T12:59:11.381Z"
   },
   {
    "duration": 5,
    "start_time": "2022-03-13T13:00:41.598Z"
   },
   {
    "duration": 15,
    "start_time": "2022-03-13T13:00:50.627Z"
   },
   {
    "duration": 294,
    "start_time": "2022-03-13T13:00:56.440Z"
   },
   {
    "duration": 2107,
    "start_time": "2022-03-13T13:01:50.117Z"
   },
   {
    "duration": 7,
    "start_time": "2022-03-13T13:01:56.181Z"
   },
   {
    "duration": 14,
    "start_time": "2022-03-13T13:01:57.082Z"
   },
   {
    "duration": 13,
    "start_time": "2022-03-13T13:01:58.543Z"
   },
   {
    "duration": 17,
    "start_time": "2022-03-13T13:02:08.533Z"
   },
   {
    "duration": 1258,
    "start_time": "2022-03-13T13:02:27.943Z"
   },
   {
    "duration": 22,
    "start_time": "2022-03-13T13:02:29.207Z"
   },
   {
    "duration": 15,
    "start_time": "2022-03-13T13:02:29.237Z"
   },
   {
    "duration": 44,
    "start_time": "2022-03-13T13:02:29.255Z"
   },
   {
    "duration": 12,
    "start_time": "2022-03-13T13:02:29.302Z"
   },
   {
    "duration": 17,
    "start_time": "2022-03-13T13:02:29.316Z"
   },
   {
    "duration": 58,
    "start_time": "2022-03-13T13:02:29.336Z"
   },
   {
    "duration": 141,
    "start_time": "2022-03-13T13:02:29.398Z"
   },
   {
    "duration": 10,
    "start_time": "2022-03-13T13:02:29.542Z"
   },
   {
    "duration": 43,
    "start_time": "2022-03-13T13:02:29.554Z"
   },
   {
    "duration": 116,
    "start_time": "2022-03-13T13:02:29.600Z"
   },
   {
    "duration": 11,
    "start_time": "2022-03-13T13:02:29.718Z"
   },
   {
    "duration": 22,
    "start_time": "2022-03-13T13:02:29.732Z"
   },
   {
    "duration": 74,
    "start_time": "2022-03-13T13:02:29.786Z"
   },
   {
    "duration": 32,
    "start_time": "2022-03-13T13:02:29.863Z"
   },
   {
    "duration": 21,
    "start_time": "2022-03-13T13:02:29.898Z"
   },
   {
    "duration": 12,
    "start_time": "2022-03-13T13:02:29.921Z"
   },
   {
    "duration": 54,
    "start_time": "2022-03-13T13:02:29.935Z"
   },
   {
    "duration": 34,
    "start_time": "2022-03-13T13:02:29.992Z"
   },
   {
    "duration": 12,
    "start_time": "2022-03-13T13:02:30.028Z"
   },
   {
    "duration": 194,
    "start_time": "2022-03-13T13:02:30.043Z"
   },
   {
    "duration": 13,
    "start_time": "2022-03-13T13:02:30.240Z"
   },
   {
    "duration": 45,
    "start_time": "2022-03-13T13:02:30.256Z"
   },
   {
    "duration": 11,
    "start_time": "2022-03-13T13:02:30.304Z"
   },
   {
    "duration": 1197,
    "start_time": "2022-03-13T13:02:30.319Z"
   },
   {
    "duration": 6,
    "start_time": "2022-03-13T13:02:31.519Z"
   },
   {
    "duration": 22,
    "start_time": "2022-03-13T13:02:31.527Z"
   },
   {
    "duration": 39,
    "start_time": "2022-03-13T13:02:31.552Z"
   },
   {
    "duration": 34,
    "start_time": "2022-03-13T13:02:43.074Z"
   },
   {
    "duration": 33,
    "start_time": "2022-03-13T13:03:27.382Z"
   },
   {
    "duration": 6,
    "start_time": "2022-03-13T13:05:29.813Z"
   },
   {
    "duration": 12,
    "start_time": "2022-03-13T13:05:43.550Z"
   },
   {
    "duration": 1260,
    "start_time": "2022-03-13T13:05:51.830Z"
   },
   {
    "duration": 26,
    "start_time": "2022-03-13T13:05:53.094Z"
   },
   {
    "duration": 12,
    "start_time": "2022-03-13T13:05:53.123Z"
   },
   {
    "duration": 11,
    "start_time": "2022-03-13T13:05:53.137Z"
   },
   {
    "duration": 14,
    "start_time": "2022-03-13T13:05:53.187Z"
   },
   {
    "duration": 26,
    "start_time": "2022-03-13T13:05:53.204Z"
   },
   {
    "duration": 12,
    "start_time": "2022-03-13T13:05:53.232Z"
   },
   {
    "duration": 177,
    "start_time": "2022-03-13T13:05:53.248Z"
   },
   {
    "duration": 10,
    "start_time": "2022-03-13T13:05:53.428Z"
   },
   {
    "duration": 28,
    "start_time": "2022-03-13T13:05:53.441Z"
   },
   {
    "duration": 111,
    "start_time": "2022-03-13T13:05:53.488Z"
   },
   {
    "duration": 12,
    "start_time": "2022-03-13T13:05:53.601Z"
   },
   {
    "duration": 30,
    "start_time": "2022-03-13T13:05:53.616Z"
   },
   {
    "duration": 92,
    "start_time": "2022-03-13T13:05:53.648Z"
   },
   {
    "duration": 10,
    "start_time": "2022-03-13T13:05:53.742Z"
   },
   {
    "duration": 41,
    "start_time": "2022-03-13T13:05:53.755Z"
   },
   {
    "duration": 13,
    "start_time": "2022-03-13T13:05:53.799Z"
   },
   {
    "duration": 31,
    "start_time": "2022-03-13T13:05:53.815Z"
   },
   {
    "duration": 39,
    "start_time": "2022-03-13T13:05:53.848Z"
   },
   {
    "duration": 14,
    "start_time": "2022-03-13T13:05:53.890Z"
   },
   {
    "duration": 28,
    "start_time": "2022-03-13T13:05:53.907Z"
   },
   {
    "duration": 13,
    "start_time": "2022-03-13T13:05:53.937Z"
   },
   {
    "duration": 172,
    "start_time": "2022-03-13T13:05:53.988Z"
   },
   {
    "duration": 10,
    "start_time": "2022-03-13T13:05:54.163Z"
   },
   {
    "duration": 15,
    "start_time": "2022-03-13T13:05:54.188Z"
   },
   {
    "duration": 1760,
    "start_time": "2022-03-13T13:05:54.206Z"
   },
   {
    "duration": 24,
    "start_time": "2022-03-13T13:05:55.968Z"
   },
   {
    "duration": 1250,
    "start_time": "2022-03-13T13:06:58.621Z"
   },
   {
    "duration": 23,
    "start_time": "2022-03-13T13:06:59.874Z"
   },
   {
    "duration": 13,
    "start_time": "2022-03-13T13:06:59.904Z"
   },
   {
    "duration": 10,
    "start_time": "2022-03-13T13:06:59.919Z"
   },
   {
    "duration": 57,
    "start_time": "2022-03-13T13:06:59.932Z"
   },
   {
    "duration": 28,
    "start_time": "2022-03-13T13:06:59.992Z"
   },
   {
    "duration": 23,
    "start_time": "2022-03-13T13:07:00.024Z"
   },
   {
    "duration": 141,
    "start_time": "2022-03-13T13:07:00.050Z"
   },
   {
    "duration": 12,
    "start_time": "2022-03-13T13:07:00.195Z"
   },
   {
    "duration": 50,
    "start_time": "2022-03-13T13:07:00.210Z"
   },
   {
    "duration": 119,
    "start_time": "2022-03-13T13:07:00.262Z"
   },
   {
    "duration": 15,
    "start_time": "2022-03-13T13:07:00.384Z"
   },
   {
    "duration": 31,
    "start_time": "2022-03-13T13:07:00.402Z"
   },
   {
    "duration": 94,
    "start_time": "2022-03-13T13:07:00.436Z"
   },
   {
    "duration": 11,
    "start_time": "2022-03-13T13:07:00.532Z"
   },
   {
    "duration": 33,
    "start_time": "2022-03-13T13:07:00.546Z"
   },
   {
    "duration": 31,
    "start_time": "2022-03-13T13:07:00.588Z"
   },
   {
    "duration": 32,
    "start_time": "2022-03-13T13:07:00.621Z"
   },
   {
    "duration": 41,
    "start_time": "2022-03-13T13:07:00.655Z"
   },
   {
    "duration": 34,
    "start_time": "2022-03-13T13:07:00.699Z"
   },
   {
    "duration": 25,
    "start_time": "2022-03-13T13:07:00.736Z"
   },
   {
    "duration": 27,
    "start_time": "2022-03-13T13:07:00.765Z"
   },
   {
    "duration": 177,
    "start_time": "2022-03-13T13:07:00.796Z"
   },
   {
    "duration": 20,
    "start_time": "2022-03-13T13:07:00.977Z"
   },
   {
    "duration": 49,
    "start_time": "2022-03-13T13:07:00.999Z"
   },
   {
    "duration": 7979,
    "start_time": "2022-03-13T13:07:01.050Z"
   },
   {
    "duration": -1,
    "start_time": "2022-03-13T13:07:09.032Z"
   },
   {
    "duration": 1517,
    "start_time": "2022-03-13T13:07:13.622Z"
   },
   {
    "duration": 14,
    "start_time": "2022-03-13T13:07:16.628Z"
   },
   {
    "duration": 1236,
    "start_time": "2022-03-13T13:14:19.623Z"
   },
   {
    "duration": 21,
    "start_time": "2022-03-13T13:14:20.862Z"
   },
   {
    "duration": 11,
    "start_time": "2022-03-13T13:14:20.886Z"
   },
   {
    "duration": 13,
    "start_time": "2022-03-13T13:14:20.900Z"
   },
   {
    "duration": 23,
    "start_time": "2022-03-13T13:14:20.915Z"
   },
   {
    "duration": 16,
    "start_time": "2022-03-13T13:14:20.940Z"
   },
   {
    "duration": 32,
    "start_time": "2022-03-13T13:14:20.959Z"
   },
   {
    "duration": 110,
    "start_time": "2022-03-13T13:14:20.995Z"
   },
   {
    "duration": 10,
    "start_time": "2022-03-13T13:14:21.108Z"
   },
   {
    "duration": 22,
    "start_time": "2022-03-13T13:14:21.121Z"
   },
   {
    "duration": 91,
    "start_time": "2022-03-13T13:14:21.145Z"
   },
   {
    "duration": 10,
    "start_time": "2022-03-13T13:14:21.239Z"
   },
   {
    "duration": 35,
    "start_time": "2022-03-13T13:14:21.252Z"
   },
   {
    "duration": 50,
    "start_time": "2022-03-13T13:14:21.290Z"
   },
   {
    "duration": 9,
    "start_time": "2022-03-13T13:14:21.343Z"
   },
   {
    "duration": 40,
    "start_time": "2022-03-13T13:14:21.355Z"
   },
   {
    "duration": 10,
    "start_time": "2022-03-13T13:14:21.397Z"
   },
   {
    "duration": 18,
    "start_time": "2022-03-13T13:14:21.409Z"
   },
   {
    "duration": 9,
    "start_time": "2022-03-13T13:14:21.429Z"
   },
   {
    "duration": 51,
    "start_time": "2022-03-13T13:14:21.441Z"
   },
   {
    "duration": 15,
    "start_time": "2022-03-13T13:14:21.494Z"
   },
   {
    "duration": 168,
    "start_time": "2022-03-13T13:14:21.511Z"
   },
   {
    "duration": 371,
    "start_time": "2022-03-13T13:14:21.688Z"
   },
   {
    "duration": 12,
    "start_time": "2022-03-13T13:14:22.049Z"
   },
   {
    "duration": 9,
    "start_time": "2022-03-13T13:14:22.054Z"
   },
   {
    "duration": 8,
    "start_time": "2022-03-13T13:14:22.056Z"
   },
   {
    "duration": 1285,
    "start_time": "2022-03-13T13:15:00.686Z"
   },
   {
    "duration": 22,
    "start_time": "2022-03-13T13:15:01.973Z"
   },
   {
    "duration": 16,
    "start_time": "2022-03-13T13:15:01.998Z"
   },
   {
    "duration": 14,
    "start_time": "2022-03-13T13:15:02.017Z"
   },
   {
    "duration": 16,
    "start_time": "2022-03-13T13:15:02.034Z"
   },
   {
    "duration": 42,
    "start_time": "2022-03-13T13:15:02.052Z"
   },
   {
    "duration": 29,
    "start_time": "2022-03-13T13:15:02.097Z"
   },
   {
    "duration": 105,
    "start_time": "2022-03-13T13:15:02.131Z"
   },
   {
    "duration": 12,
    "start_time": "2022-03-13T13:15:02.239Z"
   },
   {
    "duration": 41,
    "start_time": "2022-03-13T13:15:02.254Z"
   },
   {
    "duration": 66,
    "start_time": "2022-03-13T13:15:02.298Z"
   },
   {
    "duration": 29,
    "start_time": "2022-03-13T13:15:02.367Z"
   },
   {
    "duration": 24,
    "start_time": "2022-03-13T13:15:02.398Z"
   },
   {
    "duration": 76,
    "start_time": "2022-03-13T13:15:02.424Z"
   },
   {
    "duration": 10,
    "start_time": "2022-03-13T13:15:02.503Z"
   },
   {
    "duration": 20,
    "start_time": "2022-03-13T13:15:02.515Z"
   },
   {
    "duration": 10,
    "start_time": "2022-03-13T13:15:02.538Z"
   },
   {
    "duration": 44,
    "start_time": "2022-03-13T13:15:02.551Z"
   },
   {
    "duration": 13,
    "start_time": "2022-03-13T13:15:02.598Z"
   },
   {
    "duration": 21,
    "start_time": "2022-03-13T13:15:02.613Z"
   },
   {
    "duration": 11,
    "start_time": "2022-03-13T13:15:02.636Z"
   },
   {
    "duration": 181,
    "start_time": "2022-03-13T13:15:02.649Z"
   },
   {
    "duration": 11,
    "start_time": "2022-03-13T13:15:02.834Z"
   },
   {
    "duration": 11,
    "start_time": "2022-03-13T13:15:02.848Z"
   },
   {
    "duration": 1369,
    "start_time": "2022-03-13T13:15:02.886Z"
   },
   {
    "duration": 15,
    "start_time": "2022-03-13T13:15:04.257Z"
   },
   {
    "duration": 1207,
    "start_time": "2022-03-13T13:15:32.140Z"
   },
   {
    "duration": 20,
    "start_time": "2022-03-13T13:15:33.350Z"
   },
   {
    "duration": 21,
    "start_time": "2022-03-13T13:15:33.373Z"
   },
   {
    "duration": 29,
    "start_time": "2022-03-13T13:15:33.397Z"
   },
   {
    "duration": 23,
    "start_time": "2022-03-13T13:15:33.428Z"
   },
   {
    "duration": 29,
    "start_time": "2022-03-13T13:15:33.454Z"
   },
   {
    "duration": 30,
    "start_time": "2022-03-13T13:15:33.486Z"
   },
   {
    "duration": 93,
    "start_time": "2022-03-13T13:15:33.520Z"
   },
   {
    "duration": 10,
    "start_time": "2022-03-13T13:15:33.616Z"
   },
   {
    "duration": 33,
    "start_time": "2022-03-13T13:15:33.629Z"
   },
   {
    "duration": 79,
    "start_time": "2022-03-13T13:15:33.664Z"
   },
   {
    "duration": 11,
    "start_time": "2022-03-13T13:15:33.746Z"
   },
   {
    "duration": 38,
    "start_time": "2022-03-13T13:15:33.760Z"
   },
   {
    "duration": 56,
    "start_time": "2022-03-13T13:15:33.802Z"
   },
   {
    "duration": 11,
    "start_time": "2022-03-13T13:15:33.861Z"
   },
   {
    "duration": 16,
    "start_time": "2022-03-13T13:15:33.888Z"
   },
   {
    "duration": 10,
    "start_time": "2022-03-13T13:15:33.907Z"
   },
   {
    "duration": 30,
    "start_time": "2022-03-13T13:15:33.919Z"
   },
   {
    "duration": 37,
    "start_time": "2022-03-13T13:15:33.951Z"
   },
   {
    "duration": 31,
    "start_time": "2022-03-13T13:15:33.990Z"
   },
   {
    "duration": 29,
    "start_time": "2022-03-13T13:15:34.023Z"
   },
   {
    "duration": 157,
    "start_time": "2022-03-13T13:15:34.054Z"
   },
   {
    "duration": 12,
    "start_time": "2022-03-13T13:15:34.218Z"
   },
   {
    "duration": 15,
    "start_time": "2022-03-13T13:15:34.233Z"
   },
   {
    "duration": 1493,
    "start_time": "2022-03-13T13:15:34.250Z"
   },
   {
    "duration": 14,
    "start_time": "2022-03-13T13:15:35.745Z"
   },
   {
    "duration": 295,
    "start_time": "2022-03-13T15:24:52.842Z"
   },
   {
    "duration": 1174,
    "start_time": "2022-03-13T15:25:00.288Z"
   },
   {
    "duration": 21,
    "start_time": "2022-03-13T15:25:01.464Z"
   },
   {
    "duration": 29,
    "start_time": "2022-03-13T15:25:01.488Z"
   },
   {
    "duration": 29,
    "start_time": "2022-03-13T15:25:01.520Z"
   },
   {
    "duration": 31,
    "start_time": "2022-03-13T15:25:01.551Z"
   },
   {
    "duration": 39,
    "start_time": "2022-03-13T15:25:01.585Z"
   },
   {
    "duration": 24,
    "start_time": "2022-03-13T15:25:01.626Z"
   },
   {
    "duration": 107,
    "start_time": "2022-03-13T15:25:01.654Z"
   },
   {
    "duration": 10,
    "start_time": "2022-03-13T15:25:01.764Z"
   },
   {
    "duration": 38,
    "start_time": "2022-03-13T15:25:01.782Z"
   },
   {
    "duration": 71,
    "start_time": "2022-03-13T15:25:01.823Z"
   },
   {
    "duration": 11,
    "start_time": "2022-03-13T15:25:01.896Z"
   },
   {
    "duration": 38,
    "start_time": "2022-03-13T15:25:01.909Z"
   },
   {
    "duration": 66,
    "start_time": "2022-03-13T15:25:01.949Z"
   },
   {
    "duration": 10,
    "start_time": "2022-03-13T15:25:02.018Z"
   },
   {
    "duration": 30,
    "start_time": "2022-03-13T15:25:02.030Z"
   },
   {
    "duration": 31,
    "start_time": "2022-03-13T15:25:02.063Z"
   },
   {
    "duration": 34,
    "start_time": "2022-03-13T15:25:02.096Z"
   },
   {
    "duration": 32,
    "start_time": "2022-03-13T15:25:02.132Z"
   },
   {
    "duration": 38,
    "start_time": "2022-03-13T15:25:02.167Z"
   },
   {
    "duration": 33,
    "start_time": "2022-03-13T15:25:02.208Z"
   },
   {
    "duration": 180,
    "start_time": "2022-03-13T15:25:02.244Z"
   },
   {
    "duration": 24,
    "start_time": "2022-03-13T15:25:02.429Z"
   },
   {
    "duration": 31,
    "start_time": "2022-03-13T15:25:02.456Z"
   },
   {
    "duration": 1398,
    "start_time": "2022-03-13T15:25:02.490Z"
   },
   {
    "duration": 13,
    "start_time": "2022-03-13T15:25:03.891Z"
   },
   {
    "duration": 319,
    "start_time": "2022-03-13T15:25:03.906Z"
   },
   {
    "duration": 7,
    "start_time": "2022-03-13T15:25:11.823Z"
   },
   {
    "duration": 21,
    "start_time": "2022-03-13T15:25:24.418Z"
   },
   {
    "duration": 8,
    "start_time": "2022-03-13T15:25:43.611Z"
   },
   {
    "duration": 6,
    "start_time": "2022-03-13T15:26:19.262Z"
   },
   {
    "duration": 7,
    "start_time": "2022-03-13T15:27:56.774Z"
   },
   {
    "duration": 8,
    "start_time": "2022-03-13T15:28:19.372Z"
   },
   {
    "duration": 6,
    "start_time": "2022-03-13T15:29:16.154Z"
   },
   {
    "duration": 7,
    "start_time": "2022-03-13T15:29:24.300Z"
   },
   {
    "duration": 7,
    "start_time": "2022-03-13T15:29:29.160Z"
   },
   {
    "duration": 6,
    "start_time": "2022-03-13T15:30:49.401Z"
   },
   {
    "duration": 3599,
    "start_time": "2022-03-13T15:36:53.180Z"
   },
   {
    "duration": 375,
    "start_time": "2022-03-13T15:37:42.889Z"
   },
   {
    "duration": 3693,
    "start_time": "2022-03-13T15:37:49.583Z"
   },
   {
    "duration": 19,
    "start_time": "2022-03-13T15:43:40.463Z"
   },
   {
    "duration": 80,
    "start_time": "2022-03-13T15:45:54.497Z"
   },
   {
    "duration": 34,
    "start_time": "2022-03-13T15:46:01.237Z"
   },
   {
    "duration": 32,
    "start_time": "2022-03-13T15:48:15.873Z"
   },
   {
    "duration": 31,
    "start_time": "2022-03-13T15:48:43.923Z"
   },
   {
    "duration": 413,
    "start_time": "2022-03-13T15:52:31.304Z"
   },
   {
    "duration": 274,
    "start_time": "2022-03-13T15:52:42.118Z"
   },
   {
    "duration": 336,
    "start_time": "2022-03-13T15:53:06.670Z"
   },
   {
    "duration": 601,
    "start_time": "2022-03-13T15:55:00.017Z"
   },
   {
    "duration": 444,
    "start_time": "2022-03-13T15:55:06.203Z"
   },
   {
    "duration": 406,
    "start_time": "2022-03-13T15:55:21.443Z"
   },
   {
    "duration": 372,
    "start_time": "2022-03-13T15:55:24.930Z"
   },
   {
    "duration": 338,
    "start_time": "2022-03-13T15:55:31.608Z"
   },
   {
    "duration": 401,
    "start_time": "2022-03-13T15:55:43.099Z"
   },
   {
    "duration": 7,
    "start_time": "2022-03-13T15:56:43.559Z"
   },
   {
    "duration": 18,
    "start_time": "2022-03-13T15:58:03.579Z"
   },
   {
    "duration": 17,
    "start_time": "2022-03-13T15:59:23.388Z"
   },
   {
    "duration": 989,
    "start_time": "2022-03-13T16:04:27.857Z"
   },
   {
    "duration": 385,
    "start_time": "2022-03-13T16:04:31.908Z"
   },
   {
    "duration": 383,
    "start_time": "2022-03-13T16:04:35.316Z"
   },
   {
    "duration": 5035,
    "start_time": "2022-03-13T16:05:21.638Z"
   },
   {
    "duration": 347,
    "start_time": "2022-03-13T16:05:51.266Z"
   },
   {
    "duration": 423,
    "start_time": "2022-03-13T16:05:57.949Z"
   },
   {
    "duration": 358,
    "start_time": "2022-03-13T16:06:04.399Z"
   },
   {
    "duration": 424,
    "start_time": "2022-03-13T16:06:11.678Z"
   },
   {
    "duration": 516,
    "start_time": "2022-03-13T16:06:35.874Z"
   },
   {
    "duration": 352,
    "start_time": "2022-03-13T16:06:43.316Z"
   },
   {
    "duration": 365,
    "start_time": "2022-03-13T16:06:58.890Z"
   },
   {
    "duration": 741,
    "start_time": "2022-03-13T16:08:36.656Z"
   },
   {
    "duration": 716,
    "start_time": "2022-03-13T16:08:46.031Z"
   },
   {
    "duration": 842,
    "start_time": "2022-03-13T16:09:19.408Z"
   },
   {
    "duration": 877,
    "start_time": "2022-03-13T16:10:46.784Z"
   },
   {
    "duration": 659,
    "start_time": "2022-03-13T16:10:52.698Z"
   },
   {
    "duration": 673,
    "start_time": "2022-03-13T16:11:08.146Z"
   },
   {
    "duration": 713,
    "start_time": "2022-03-13T16:11:11.265Z"
   },
   {
    "duration": 1209,
    "start_time": "2022-03-13T16:11:52.340Z"
   },
   {
    "duration": 24,
    "start_time": "2022-03-13T16:11:53.552Z"
   },
   {
    "duration": 13,
    "start_time": "2022-03-13T16:11:53.579Z"
   },
   {
    "duration": 10,
    "start_time": "2022-03-13T16:11:53.594Z"
   },
   {
    "duration": 14,
    "start_time": "2022-03-13T16:11:53.606Z"
   },
   {
    "duration": 59,
    "start_time": "2022-03-13T16:11:53.623Z"
   },
   {
    "duration": 7,
    "start_time": "2022-03-13T16:11:53.684Z"
   },
   {
    "duration": 105,
    "start_time": "2022-03-13T16:11:53.695Z"
   },
   {
    "duration": 11,
    "start_time": "2022-03-13T16:11:53.803Z"
   },
   {
    "duration": 23,
    "start_time": "2022-03-13T16:11:53.816Z"
   },
   {
    "duration": 90,
    "start_time": "2022-03-13T16:11:53.842Z"
   },
   {
    "duration": 11,
    "start_time": "2022-03-13T16:11:53.935Z"
   },
   {
    "duration": 43,
    "start_time": "2022-03-13T16:11:53.948Z"
   },
   {
    "duration": 46,
    "start_time": "2022-03-13T16:11:53.994Z"
   },
   {
    "duration": 9,
    "start_time": "2022-03-13T16:11:54.043Z"
   },
   {
    "duration": 14,
    "start_time": "2022-03-13T16:11:54.082Z"
   },
   {
    "duration": 9,
    "start_time": "2022-03-13T16:11:54.098Z"
   },
   {
    "duration": 14,
    "start_time": "2022-03-13T16:11:54.110Z"
   },
   {
    "duration": 9,
    "start_time": "2022-03-13T16:11:54.126Z"
   },
   {
    "duration": 14,
    "start_time": "2022-03-13T16:11:54.183Z"
   },
   {
    "duration": 12,
    "start_time": "2022-03-13T16:11:54.199Z"
   },
   {
    "duration": 169,
    "start_time": "2022-03-13T16:11:54.213Z"
   },
   {
    "duration": 13,
    "start_time": "2022-03-13T16:11:54.387Z"
   },
   {
    "duration": 12,
    "start_time": "2022-03-13T16:11:54.403Z"
   },
   {
    "duration": 1392,
    "start_time": "2022-03-13T16:11:54.418Z"
   },
   {
    "duration": 15,
    "start_time": "2022-03-13T16:11:55.813Z"
   },
   {
    "duration": 13,
    "start_time": "2022-03-13T16:11:55.831Z"
   },
   {
    "duration": 42,
    "start_time": "2022-03-13T16:11:55.846Z"
   },
   {
    "duration": 57,
    "start_time": "2022-03-13T16:11:55.891Z"
   },
   {
    "duration": 35,
    "start_time": "2022-03-13T16:11:55.950Z"
   },
   {
    "duration": 1374,
    "start_time": "2022-03-13T16:11:55.988Z"
   },
   {
    "duration": 705,
    "start_time": "2022-03-13T16:11:57.365Z"
   },
   {
    "duration": 882,
    "start_time": "2022-03-13T16:11:58.073Z"
   },
   {
    "duration": 24,
    "start_time": "2022-03-13T16:11:58.958Z"
   },
   {
    "duration": 22,
    "start_time": "2022-03-13T16:11:58.985Z"
   },
   {
    "duration": 73,
    "start_time": "2022-03-13T16:11:59.009Z"
   },
   {
    "duration": 815,
    "start_time": "2022-03-13T16:11:59.085Z"
   },
   {
    "duration": 682,
    "start_time": "2022-03-13T16:11:59.903Z"
   },
   {
    "duration": 682,
    "start_time": "2022-03-13T16:12:00.588Z"
   },
   {
    "duration": 836,
    "start_time": "2022-03-13T16:22:07.997Z"
   },
   {
    "duration": 655,
    "start_time": "2022-03-13T16:22:20.653Z"
   },
   {
    "duration": 743,
    "start_time": "2022-03-13T16:23:29.543Z"
   },
   {
    "duration": 581,
    "start_time": "2022-03-13T16:23:35.255Z"
   },
   {
    "duration": 604,
    "start_time": "2022-03-13T16:23:40.524Z"
   },
   {
    "duration": 792,
    "start_time": "2022-03-13T16:23:47.085Z"
   },
   {
    "duration": 591,
    "start_time": "2022-03-13T16:23:54.109Z"
   },
   {
    "duration": 389,
    "start_time": "2022-03-13T17:00:14.689Z"
   },
   {
    "duration": 238,
    "start_time": "2022-03-13T17:00:23.605Z"
   },
   {
    "duration": 6,
    "start_time": "2022-03-13T17:00:29.651Z"
   },
   {
    "duration": 7,
    "start_time": "2022-03-13T17:00:57.052Z"
   },
   {
    "duration": 217,
    "start_time": "2022-03-13T17:01:27.814Z"
   },
   {
    "duration": 6,
    "start_time": "2022-03-13T17:01:52.895Z"
   },
   {
    "duration": 8,
    "start_time": "2022-03-13T17:02:30.833Z"
   },
   {
    "duration": 7,
    "start_time": "2022-03-13T17:02:35.848Z"
   },
   {
    "duration": 8,
    "start_time": "2022-03-13T17:02:38.512Z"
   },
   {
    "duration": 7,
    "start_time": "2022-03-13T17:02:41.345Z"
   },
   {
    "duration": 8,
    "start_time": "2022-03-13T17:02:54.347Z"
   },
   {
    "duration": 8,
    "start_time": "2022-03-13T17:03:05.997Z"
   },
   {
    "duration": 6,
    "start_time": "2022-03-13T17:03:13.353Z"
   },
   {
    "duration": 7,
    "start_time": "2022-03-13T17:05:51.675Z"
   },
   {
    "duration": 7,
    "start_time": "2022-03-13T17:06:12.853Z"
   },
   {
    "duration": 7,
    "start_time": "2022-03-13T17:06:19.129Z"
   },
   {
    "duration": 7,
    "start_time": "2022-03-13T17:06:21.032Z"
   },
   {
    "duration": 6,
    "start_time": "2022-03-13T17:06:23.306Z"
   },
   {
    "duration": 9,
    "start_time": "2022-03-13T17:13:03.857Z"
   },
   {
    "duration": 7,
    "start_time": "2022-03-13T17:13:13.272Z"
   },
   {
    "duration": 8,
    "start_time": "2022-03-13T17:13:20.576Z"
   },
   {
    "duration": 8,
    "start_time": "2022-03-13T17:13:23.874Z"
   },
   {
    "duration": 8,
    "start_time": "2022-03-13T17:13:28.737Z"
   },
   {
    "duration": 8,
    "start_time": "2022-03-13T17:13:33.807Z"
   },
   {
    "duration": 8,
    "start_time": "2022-03-13T17:13:42.422Z"
   },
   {
    "duration": 292,
    "start_time": "2022-03-13T17:13:50.615Z"
   },
   {
    "duration": 8,
    "start_time": "2022-03-13T17:14:13.387Z"
   },
   {
    "duration": 8,
    "start_time": "2022-03-13T17:14:18.851Z"
   },
   {
    "duration": 8,
    "start_time": "2022-03-13T17:14:43.889Z"
   },
   {
    "duration": 6,
    "start_time": "2022-03-13T17:15:30.926Z"
   },
   {
    "duration": 6,
    "start_time": "2022-03-13T17:15:48.255Z"
   },
   {
    "duration": 8,
    "start_time": "2022-03-13T17:16:44.743Z"
   },
   {
    "duration": 5,
    "start_time": "2022-03-13T17:16:59.254Z"
   },
   {
    "duration": 7,
    "start_time": "2022-03-13T17:24:39.665Z"
   },
   {
    "duration": 7,
    "start_time": "2022-03-13T17:24:45.449Z"
   },
   {
    "duration": 7,
    "start_time": "2022-03-13T17:37:16.669Z"
   },
   {
    "duration": 7,
    "start_time": "2022-03-13T17:37:24.735Z"
   },
   {
    "duration": 1246,
    "start_time": "2022-03-13T17:39:10.272Z"
   },
   {
    "duration": 20,
    "start_time": "2022-03-13T17:39:11.521Z"
   },
   {
    "duration": 13,
    "start_time": "2022-03-13T17:39:11.545Z"
   },
   {
    "duration": 11,
    "start_time": "2022-03-13T17:39:11.561Z"
   },
   {
    "duration": 13,
    "start_time": "2022-03-13T17:39:11.582Z"
   },
   {
    "duration": 16,
    "start_time": "2022-03-13T17:39:11.597Z"
   },
   {
    "duration": 10,
    "start_time": "2022-03-13T17:39:11.616Z"
   },
   {
    "duration": 122,
    "start_time": "2022-03-13T17:39:11.629Z"
   },
   {
    "duration": 11,
    "start_time": "2022-03-13T17:39:11.754Z"
   },
   {
    "duration": 35,
    "start_time": "2022-03-13T17:39:11.768Z"
   },
   {
    "duration": 81,
    "start_time": "2022-03-13T17:39:11.806Z"
   },
   {
    "duration": 12,
    "start_time": "2022-03-13T17:39:11.889Z"
   },
   {
    "duration": 22,
    "start_time": "2022-03-13T17:39:11.903Z"
   },
   {
    "duration": 78,
    "start_time": "2022-03-13T17:39:11.928Z"
   },
   {
    "duration": 10,
    "start_time": "2022-03-13T17:39:12.009Z"
   },
   {
    "duration": 16,
    "start_time": "2022-03-13T17:39:12.021Z"
   },
   {
    "duration": 44,
    "start_time": "2022-03-13T17:39:12.039Z"
   },
   {
    "duration": 16,
    "start_time": "2022-03-13T17:39:12.085Z"
   },
   {
    "duration": 13,
    "start_time": "2022-03-13T17:39:12.104Z"
   },
   {
    "duration": 15,
    "start_time": "2022-03-13T17:39:12.120Z"
   },
   {
    "duration": 47,
    "start_time": "2022-03-13T17:39:12.138Z"
   },
   {
    "duration": 162,
    "start_time": "2022-03-13T17:39:12.188Z"
   },
   {
    "duration": 27,
    "start_time": "2022-03-13T17:39:12.355Z"
   },
   {
    "duration": 39,
    "start_time": "2022-03-13T17:39:12.387Z"
   },
   {
    "duration": 1529,
    "start_time": "2022-03-13T17:39:12.430Z"
   },
   {
    "duration": 21,
    "start_time": "2022-03-13T17:39:13.961Z"
   },
   {
    "duration": 7,
    "start_time": "2022-03-13T17:39:13.984Z"
   },
   {
    "duration": 10,
    "start_time": "2022-03-13T17:39:13.993Z"
   },
   {
    "duration": 39,
    "start_time": "2022-03-13T17:39:14.005Z"
   },
   {
    "duration": 62,
    "start_time": "2022-03-13T17:39:14.047Z"
   },
   {
    "duration": 1514,
    "start_time": "2022-03-13T17:39:14.112Z"
   },
   {
    "duration": 714,
    "start_time": "2022-03-13T17:39:15.629Z"
   },
   {
    "duration": 837,
    "start_time": "2022-03-13T17:39:16.345Z"
   },
   {
    "duration": 7,
    "start_time": "2022-03-13T17:39:17.185Z"
   },
   {
    "duration": 19,
    "start_time": "2022-03-13T17:39:17.195Z"
   },
   {
    "duration": 20,
    "start_time": "2022-03-13T17:39:17.216Z"
   },
   {
    "duration": 807,
    "start_time": "2022-03-13T17:39:17.238Z"
   },
   {
    "duration": 673,
    "start_time": "2022-03-13T17:39:18.048Z"
   },
   {
    "duration": 804,
    "start_time": "2022-03-13T17:39:18.723Z"
   },
   {
    "duration": 7,
    "start_time": "2022-03-13T17:39:19.530Z"
   },
   {
    "duration": 10,
    "start_time": "2022-03-13T17:39:19.540Z"
   },
   {
    "duration": 32,
    "start_time": "2022-03-13T17:39:19.553Z"
   },
   {
    "duration": 12,
    "start_time": "2022-03-13T17:39:19.588Z"
   },
   {
    "duration": 76,
    "start_time": "2022-03-13T17:40:40.085Z"
   },
   {
    "duration": 1129,
    "start_time": "2022-03-13T17:40:57.332Z"
   },
   {
    "duration": 23,
    "start_time": "2022-03-13T17:40:58.464Z"
   },
   {
    "duration": 13,
    "start_time": "2022-03-13T17:40:58.491Z"
   },
   {
    "duration": 16,
    "start_time": "2022-03-13T17:40:58.508Z"
   },
   {
    "duration": 12,
    "start_time": "2022-03-13T17:40:58.527Z"
   },
   {
    "duration": 14,
    "start_time": "2022-03-13T17:40:58.583Z"
   },
   {
    "duration": 9,
    "start_time": "2022-03-13T17:40:58.599Z"
   },
   {
    "duration": 124,
    "start_time": "2022-03-13T17:40:58.612Z"
   },
   {
    "duration": 10,
    "start_time": "2022-03-13T17:40:58.739Z"
   },
   {
    "duration": 35,
    "start_time": "2022-03-13T17:40:58.751Z"
   },
   {
    "duration": 60,
    "start_time": "2022-03-13T17:40:58.789Z"
   },
   {
    "duration": 30,
    "start_time": "2022-03-13T17:40:58.852Z"
   },
   {
    "duration": 16,
    "start_time": "2022-03-13T17:40:58.884Z"
   },
   {
    "duration": 49,
    "start_time": "2022-03-13T17:40:58.902Z"
   },
   {
    "duration": 35,
    "start_time": "2022-03-13T17:40:58.953Z"
   },
   {
    "duration": 19,
    "start_time": "2022-03-13T17:40:58.990Z"
   },
   {
    "duration": 10,
    "start_time": "2022-03-13T17:40:59.011Z"
   },
   {
    "duration": 17,
    "start_time": "2022-03-13T17:40:59.023Z"
   },
   {
    "duration": 44,
    "start_time": "2022-03-13T17:40:59.044Z"
   },
   {
    "duration": 14,
    "start_time": "2022-03-13T17:40:59.090Z"
   },
   {
    "duration": 11,
    "start_time": "2022-03-13T17:40:59.107Z"
   },
   {
    "duration": 178,
    "start_time": "2022-03-13T17:40:59.121Z"
   },
   {
    "duration": 11,
    "start_time": "2022-03-13T17:40:59.304Z"
   },
   {
    "duration": 11,
    "start_time": "2022-03-13T17:40:59.318Z"
   },
   {
    "duration": 1513,
    "start_time": "2022-03-13T17:40:59.331Z"
   },
   {
    "duration": 13,
    "start_time": "2022-03-13T17:41:00.847Z"
   },
   {
    "duration": 22,
    "start_time": "2022-03-13T17:41:00.863Z"
   },
   {
    "duration": 33,
    "start_time": "2022-03-13T17:41:00.887Z"
   },
   {
    "duration": 73,
    "start_time": "2022-03-13T17:41:00.923Z"
   },
   {
    "duration": 30,
    "start_time": "2022-03-13T17:41:00.998Z"
   },
   {
    "duration": 1475,
    "start_time": "2022-03-13T17:41:01.031Z"
   },
   {
    "duration": 715,
    "start_time": "2022-03-13T17:41:02.509Z"
   },
   {
    "duration": 927,
    "start_time": "2022-03-13T17:41:03.227Z"
   },
   {
    "duration": 8,
    "start_time": "2022-03-13T17:41:04.157Z"
   },
   {
    "duration": 17,
    "start_time": "2022-03-13T17:41:04.183Z"
   },
   {
    "duration": 24,
    "start_time": "2022-03-13T17:41:04.203Z"
   },
   {
    "duration": 763,
    "start_time": "2022-03-13T17:41:04.230Z"
   },
   {
    "duration": 651,
    "start_time": "2022-03-13T17:41:04.997Z"
   },
   {
    "duration": 677,
    "start_time": "2022-03-13T17:41:05.651Z"
   },
   {
    "duration": 8,
    "start_time": "2022-03-13T17:41:06.331Z"
   },
   {
    "duration": 13,
    "start_time": "2022-03-13T17:41:06.341Z"
   },
   {
    "duration": 33,
    "start_time": "2022-03-13T17:41:06.356Z"
   },
   {
    "duration": 33,
    "start_time": "2022-03-13T17:41:06.391Z"
   },
   {
    "duration": 756,
    "start_time": "2022-03-23T07:01:10.388Z"
   },
   {
    "duration": 14,
    "start_time": "2022-03-23T07:01:11.146Z"
   },
   {
    "duration": 12,
    "start_time": "2022-03-23T07:01:11.162Z"
   },
   {
    "duration": 10,
    "start_time": "2022-03-23T07:01:11.176Z"
   },
   {
    "duration": 10,
    "start_time": "2022-03-23T07:01:11.187Z"
   },
   {
    "duration": 14,
    "start_time": "2022-03-23T07:01:11.198Z"
   },
   {
    "duration": 9,
    "start_time": "2022-03-23T07:01:11.214Z"
   },
   {
    "duration": 61,
    "start_time": "2022-03-23T07:01:11.238Z"
   },
   {
    "duration": 7,
    "start_time": "2022-03-23T07:01:11.300Z"
   },
   {
    "duration": 32,
    "start_time": "2022-03-23T07:01:11.310Z"
   },
   {
    "duration": 47,
    "start_time": "2022-03-23T07:01:11.344Z"
   },
   {
    "duration": 7,
    "start_time": "2022-03-23T07:01:11.393Z"
   },
   {
    "duration": 39,
    "start_time": "2022-03-23T07:01:11.402Z"
   },
   {
    "duration": 34,
    "start_time": "2022-03-23T07:01:11.443Z"
   },
   {
    "duration": 7,
    "start_time": "2022-03-23T07:01:11.479Z"
   },
   {
    "duration": 16,
    "start_time": "2022-03-23T07:01:11.487Z"
   },
   {
    "duration": 7,
    "start_time": "2022-03-23T07:01:11.505Z"
   },
   {
    "duration": 33,
    "start_time": "2022-03-23T07:01:11.513Z"
   },
   {
    "duration": 13,
    "start_time": "2022-03-23T07:01:11.548Z"
   },
   {
    "duration": 9,
    "start_time": "2022-03-23T07:01:11.563Z"
   },
   {
    "duration": 8,
    "start_time": "2022-03-23T07:01:11.573Z"
   },
   {
    "duration": 158,
    "start_time": "2022-03-23T07:01:11.582Z"
   },
   {
    "duration": 7,
    "start_time": "2022-03-23T07:01:11.741Z"
   },
   {
    "duration": 9,
    "start_time": "2022-03-23T07:01:11.749Z"
   },
   {
    "duration": 2026,
    "start_time": "2022-03-23T07:01:11.759Z"
   },
   {
    "duration": 8,
    "start_time": "2022-03-23T07:01:13.787Z"
   },
   {
    "duration": 7,
    "start_time": "2022-03-23T07:01:13.797Z"
   },
   {
    "duration": 7,
    "start_time": "2022-03-23T07:01:13.807Z"
   },
   {
    "duration": 35,
    "start_time": "2022-03-23T07:01:13.815Z"
   },
   {
    "duration": 16,
    "start_time": "2022-03-23T07:01:13.851Z"
   },
   {
    "duration": 1036,
    "start_time": "2022-03-23T07:01:13.868Z"
   },
   {
    "duration": 331,
    "start_time": "2022-03-23T07:01:14.906Z"
   },
   {
    "duration": 371,
    "start_time": "2022-03-23T07:01:15.239Z"
   },
   {
    "duration": 6,
    "start_time": "2022-03-23T07:01:15.612Z"
   },
   {
    "duration": 23,
    "start_time": "2022-03-23T07:01:15.619Z"
   },
   {
    "duration": 22,
    "start_time": "2022-03-23T07:01:15.643Z"
   },
   {
    "duration": 406,
    "start_time": "2022-03-23T07:01:15.667Z"
   },
   {
    "duration": 304,
    "start_time": "2022-03-23T07:01:16.074Z"
   },
   {
    "duration": 312,
    "start_time": "2022-03-23T07:01:16.380Z"
   },
   {
    "duration": 6,
    "start_time": "2022-03-23T07:01:16.694Z"
   },
   {
    "duration": 14,
    "start_time": "2022-03-23T07:01:16.702Z"
   },
   {
    "duration": 23,
    "start_time": "2022-03-23T07:01:16.718Z"
   },
   {
    "duration": 12,
    "start_time": "2022-03-23T07:01:16.743Z"
   },
   {
    "duration": 75,
    "start_time": "2022-03-23T12:00:06.741Z"
   },
   {
    "duration": 997,
    "start_time": "2022-03-23T12:00:14.686Z"
   },
   {
    "duration": 23,
    "start_time": "2022-03-23T12:00:15.686Z"
   },
   {
    "duration": 12,
    "start_time": "2022-03-23T12:00:15.711Z"
   },
   {
    "duration": 11,
    "start_time": "2022-03-23T12:00:15.726Z"
   },
   {
    "duration": 15,
    "start_time": "2022-03-23T12:00:15.739Z"
   },
   {
    "duration": 17,
    "start_time": "2022-03-23T12:00:15.757Z"
   },
   {
    "duration": 10,
    "start_time": "2022-03-23T12:00:15.776Z"
   },
   {
    "duration": 121,
    "start_time": "2022-03-23T12:00:15.789Z"
   },
   {
    "duration": 10,
    "start_time": "2022-03-23T12:00:15.913Z"
   },
   {
    "duration": 41,
    "start_time": "2022-03-23T12:00:15.927Z"
   },
   {
    "duration": 89,
    "start_time": "2022-03-23T12:00:15.970Z"
   },
   {
    "duration": 12,
    "start_time": "2022-03-23T12:00:16.061Z"
   },
   {
    "duration": 24,
    "start_time": "2022-03-23T12:00:16.076Z"
   },
   {
    "duration": 77,
    "start_time": "2022-03-23T12:00:16.102Z"
   },
   {
    "duration": 10,
    "start_time": "2022-03-23T12:00:16.181Z"
   },
   {
    "duration": 23,
    "start_time": "2022-03-23T12:00:16.193Z"
   },
   {
    "duration": 10,
    "start_time": "2022-03-23T12:00:16.244Z"
   },
   {
    "duration": 19,
    "start_time": "2022-03-23T12:00:16.257Z"
   },
   {
    "duration": 17,
    "start_time": "2022-03-23T12:00:16.279Z"
   },
   {
    "duration": 46,
    "start_time": "2022-03-23T12:00:16.300Z"
   },
   {
    "duration": 13,
    "start_time": "2022-03-23T12:00:16.348Z"
   },
   {
    "duration": 198,
    "start_time": "2022-03-23T12:00:16.363Z"
   },
   {
    "duration": 10,
    "start_time": "2022-03-23T12:00:16.563Z"
   },
   {
    "duration": 10,
    "start_time": "2022-03-23T12:00:16.575Z"
   },
   {
    "duration": 3914,
    "start_time": "2022-03-23T12:00:16.588Z"
   },
   {
    "duration": 13,
    "start_time": "2022-03-23T12:00:20.504Z"
   },
   {
    "duration": 24,
    "start_time": "2022-03-23T12:00:20.519Z"
   },
   {
    "duration": 6,
    "start_time": "2022-03-23T12:00:20.548Z"
   },
   {
    "duration": 37,
    "start_time": "2022-03-23T12:00:20.556Z"
   },
   {
    "duration": 50,
    "start_time": "2022-03-23T12:00:20.595Z"
   },
   {
    "duration": 1852,
    "start_time": "2022-03-23T12:00:20.647Z"
   },
   {
    "duration": 542,
    "start_time": "2022-03-23T12:00:22.501Z"
   },
   {
    "duration": 746,
    "start_time": "2022-03-23T12:00:23.045Z"
   },
   {
    "duration": 8,
    "start_time": "2022-03-23T12:00:23.793Z"
   },
   {
    "duration": 18,
    "start_time": "2022-03-23T12:00:23.802Z"
   },
   {
    "duration": 16,
    "start_time": "2022-03-23T12:00:23.844Z"
   },
   {
    "duration": 562,
    "start_time": "2022-03-23T12:00:23.863Z"
   },
   {
    "duration": 478,
    "start_time": "2022-03-23T12:00:24.429Z"
   },
   {
    "duration": 534,
    "start_time": "2022-03-23T12:00:24.909Z"
   },
   {
    "duration": 7,
    "start_time": "2022-03-23T12:00:25.445Z"
   },
   {
    "duration": 8,
    "start_time": "2022-03-23T12:00:25.454Z"
   },
   {
    "duration": 7,
    "start_time": "2022-03-23T12:00:25.464Z"
   },
   {
    "duration": 13,
    "start_time": "2022-03-23T12:00:25.473Z"
   },
   {
    "duration": 1054,
    "start_time": "2022-03-23T13:34:34.172Z"
   },
   {
    "duration": 24,
    "start_time": "2022-03-23T13:34:35.228Z"
   },
   {
    "duration": 16,
    "start_time": "2022-03-23T13:34:35.254Z"
   },
   {
    "duration": 17,
    "start_time": "2022-03-23T13:34:35.273Z"
   },
   {
    "duration": 16,
    "start_time": "2022-03-23T13:34:35.292Z"
   },
   {
    "duration": 33,
    "start_time": "2022-03-23T13:34:35.311Z"
   },
   {
    "duration": 13,
    "start_time": "2022-03-23T13:34:35.346Z"
   },
   {
    "duration": 112,
    "start_time": "2022-03-23T13:34:35.361Z"
   },
   {
    "duration": 11,
    "start_time": "2022-03-23T13:34:35.475Z"
   },
   {
    "duration": 28,
    "start_time": "2022-03-23T13:34:35.490Z"
   },
   {
    "duration": 95,
    "start_time": "2022-03-23T13:34:35.520Z"
   },
   {
    "duration": 28,
    "start_time": "2022-03-23T13:34:35.617Z"
   },
   {
    "duration": 31,
    "start_time": "2022-03-23T13:34:35.647Z"
   },
   {
    "duration": 76,
    "start_time": "2022-03-23T13:34:35.680Z"
   },
   {
    "duration": 10,
    "start_time": "2022-03-23T13:34:35.759Z"
   },
   {
    "duration": 24,
    "start_time": "2022-03-23T13:34:35.771Z"
   },
   {
    "duration": 8,
    "start_time": "2022-03-23T13:34:35.798Z"
   },
   {
    "duration": 43,
    "start_time": "2022-03-23T13:34:35.809Z"
   },
   {
    "duration": 19,
    "start_time": "2022-03-23T13:34:35.855Z"
   },
   {
    "duration": 16,
    "start_time": "2022-03-23T13:34:35.877Z"
   },
   {
    "duration": 13,
    "start_time": "2022-03-23T13:34:35.895Z"
   },
   {
    "duration": 209,
    "start_time": "2022-03-23T13:34:35.910Z"
   },
   {
    "duration": 24,
    "start_time": "2022-03-23T13:34:36.122Z"
   },
   {
    "duration": 12,
    "start_time": "2022-03-23T13:34:36.148Z"
   },
   {
    "duration": 4031,
    "start_time": "2022-03-23T13:34:36.163Z"
   },
   {
    "duration": 13,
    "start_time": "2022-03-23T13:34:40.197Z"
   },
   {
    "duration": 8,
    "start_time": "2022-03-23T13:34:40.212Z"
   },
   {
    "duration": 25,
    "start_time": "2022-03-23T13:34:40.225Z"
   },
   {
    "duration": 96,
    "start_time": "2022-03-23T13:34:40.252Z"
   },
   {
    "duration": 32,
    "start_time": "2022-03-23T13:34:40.351Z"
   },
   {
    "duration": 1612,
    "start_time": "2022-03-23T13:34:40.386Z"
   },
   {
    "duration": 550,
    "start_time": "2022-03-23T13:34:42.001Z"
   },
   {
    "duration": 630,
    "start_time": "2022-03-23T13:34:42.554Z"
   },
   {
    "duration": 7,
    "start_time": "2022-03-23T13:34:43.186Z"
   },
   {
    "duration": 17,
    "start_time": "2022-03-23T13:34:43.196Z"
   },
   {
    "duration": 39,
    "start_time": "2022-03-23T13:34:43.215Z"
   },
   {
    "duration": 615,
    "start_time": "2022-03-23T13:34:43.256Z"
   },
   {
    "duration": 486,
    "start_time": "2022-03-23T13:34:43.874Z"
   },
   {
    "duration": 547,
    "start_time": "2022-03-23T13:34:44.363Z"
   },
   {
    "duration": 10,
    "start_time": "2022-03-23T13:34:44.913Z"
   },
   {
    "duration": 22,
    "start_time": "2022-03-23T13:34:44.925Z"
   },
   {
    "duration": 11,
    "start_time": "2022-03-23T13:34:44.949Z"
   },
   {
    "duration": 17,
    "start_time": "2022-03-23T13:34:44.962Z"
   },
   {
    "duration": 1075,
    "start_time": "2022-03-23T13:37:18.416Z"
   },
   {
    "duration": 24,
    "start_time": "2022-03-23T13:37:19.493Z"
   },
   {
    "duration": 19,
    "start_time": "2022-03-23T13:37:19.519Z"
   },
   {
    "duration": 32,
    "start_time": "2022-03-23T13:37:19.541Z"
   },
   {
    "duration": 22,
    "start_time": "2022-03-23T13:37:19.575Z"
   },
   {
    "duration": 28,
    "start_time": "2022-03-23T13:37:19.599Z"
   },
   {
    "duration": 36,
    "start_time": "2022-03-23T13:37:19.630Z"
   },
   {
    "duration": 151,
    "start_time": "2022-03-23T13:37:19.669Z"
   },
   {
    "duration": 20,
    "start_time": "2022-03-23T13:37:19.823Z"
   },
   {
    "duration": 61,
    "start_time": "2022-03-23T13:37:19.849Z"
   },
   {
    "duration": 112,
    "start_time": "2022-03-23T13:37:19.912Z"
   },
   {
    "duration": 23,
    "start_time": "2022-03-23T13:37:20.027Z"
   },
   {
    "duration": 36,
    "start_time": "2022-03-23T13:37:20.053Z"
   },
   {
    "duration": 78,
    "start_time": "2022-03-23T13:37:20.092Z"
   },
   {
    "duration": 12,
    "start_time": "2022-03-23T13:37:20.172Z"
   },
   {
    "duration": 41,
    "start_time": "2022-03-23T13:37:20.188Z"
   },
   {
    "duration": 15,
    "start_time": "2022-03-23T13:37:20.232Z"
   },
   {
    "duration": 57,
    "start_time": "2022-03-23T13:37:20.249Z"
   },
   {
    "duration": 29,
    "start_time": "2022-03-23T13:37:20.309Z"
   },
   {
    "duration": 39,
    "start_time": "2022-03-23T13:37:20.341Z"
   },
   {
    "duration": 50,
    "start_time": "2022-03-23T13:37:20.382Z"
   },
   {
    "duration": 195,
    "start_time": "2022-03-23T13:37:20.435Z"
   },
   {
    "duration": 20,
    "start_time": "2022-03-23T13:37:20.632Z"
   },
   {
    "duration": 23,
    "start_time": "2022-03-23T13:37:20.654Z"
   },
   {
    "duration": 5297,
    "start_time": "2022-03-23T13:37:20.679Z"
   },
   {
    "duration": 16,
    "start_time": "2022-03-23T13:37:25.980Z"
   },
   {
    "duration": 8,
    "start_time": "2022-03-23T13:37:25.998Z"
   },
   {
    "duration": 33,
    "start_time": "2022-03-23T13:37:26.011Z"
   },
   {
    "duration": 37,
    "start_time": "2022-03-23T13:37:26.046Z"
   },
   {
    "duration": 32,
    "start_time": "2022-03-23T13:37:26.086Z"
   },
   {
    "duration": 2306,
    "start_time": "2022-03-23T13:37:26.145Z"
   },
   {
    "duration": 849,
    "start_time": "2022-03-23T13:37:28.454Z"
   },
   {
    "duration": 586,
    "start_time": "2022-03-23T13:37:29.306Z"
   },
   {
    "duration": 8,
    "start_time": "2022-03-23T13:37:29.894Z"
   },
   {
    "duration": 43,
    "start_time": "2022-03-23T13:37:29.904Z"
   },
   {
    "duration": 24,
    "start_time": "2022-03-23T13:37:29.949Z"
   },
   {
    "duration": 641,
    "start_time": "2022-03-23T13:37:29.976Z"
   },
   {
    "duration": 496,
    "start_time": "2022-03-23T13:37:30.619Z"
   },
   {
    "duration": 596,
    "start_time": "2022-03-23T13:37:31.117Z"
   },
   {
    "duration": 8,
    "start_time": "2022-03-23T13:37:31.715Z"
   },
   {
    "duration": 7,
    "start_time": "2022-03-23T13:37:31.725Z"
   },
   {
    "duration": 8,
    "start_time": "2022-03-23T13:37:31.743Z"
   },
   {
    "duration": 12,
    "start_time": "2022-03-23T13:37:31.753Z"
   },
   {
    "duration": 749,
    "start_time": "2022-03-23T13:49:19.103Z"
   },
   {
    "duration": 578,
    "start_time": "2022-03-23T13:50:00.277Z"
   },
   {
    "duration": 701,
    "start_time": "2022-03-23T13:50:12.147Z"
   },
   {
    "duration": 579,
    "start_time": "2022-03-23T13:50:27.318Z"
   },
   {
    "duration": 586,
    "start_time": "2022-03-23T13:51:09.576Z"
   },
   {
    "duration": 787,
    "start_time": "2022-03-23T13:51:16.230Z"
   },
   {
    "duration": 582,
    "start_time": "2022-03-23T13:51:29.933Z"
   },
   {
    "duration": 581,
    "start_time": "2022-03-23T13:53:30.177Z"
   },
   {
    "duration": 687,
    "start_time": "2022-03-23T13:57:12.259Z"
   },
   {
    "duration": 452,
    "start_time": "2022-03-23T13:59:15.632Z"
   },
   {
    "duration": 438,
    "start_time": "2022-03-23T13:59:27.600Z"
   },
   {
    "duration": 440,
    "start_time": "2022-03-23T13:59:35.986Z"
   },
   {
    "duration": 651,
    "start_time": "2022-03-23T13:59:49.473Z"
   },
   {
    "duration": 213,
    "start_time": "2022-03-23T14:03:14.660Z"
   },
   {
    "duration": 669,
    "start_time": "2022-03-23T14:03:18.509Z"
   },
   {
    "duration": 592,
    "start_time": "2022-03-23T14:03:52.237Z"
   },
   {
    "duration": 545,
    "start_time": "2022-03-23T14:04:10.198Z"
   },
   {
    "duration": 514,
    "start_time": "2022-03-23T14:04:28.318Z"
   },
   {
    "duration": 455,
    "start_time": "2022-03-23T14:04:40.012Z"
   },
   {
    "duration": 569,
    "start_time": "2022-03-23T14:05:00.216Z"
   },
   {
    "duration": 693,
    "start_time": "2022-03-23T14:05:13.155Z"
   },
   {
    "duration": 531,
    "start_time": "2022-03-23T14:16:29.664Z"
   },
   {
    "duration": 520,
    "start_time": "2022-03-23T14:16:49.582Z"
   },
   {
    "duration": 533,
    "start_time": "2022-03-23T14:17:13.064Z"
   },
   {
    "duration": 538,
    "start_time": "2022-03-23T14:18:41.925Z"
   },
   {
    "duration": 684,
    "start_time": "2022-03-23T14:18:59.969Z"
   },
   {
    "duration": 685,
    "start_time": "2022-03-23T14:19:08.699Z"
   },
   {
    "duration": 574,
    "start_time": "2022-03-23T14:19:21.760Z"
   },
   {
    "duration": 540,
    "start_time": "2022-03-23T14:19:35.376Z"
   },
   {
    "duration": 540,
    "start_time": "2022-03-23T14:19:44.741Z"
   },
   {
    "duration": 632,
    "start_time": "2022-03-23T14:20:33.737Z"
   },
   {
    "duration": 697,
    "start_time": "2022-03-23T14:20:56.472Z"
   },
   {
    "duration": 594,
    "start_time": "2022-03-23T14:21:11.352Z"
   },
   {
    "duration": 549,
    "start_time": "2022-03-23T14:21:20.884Z"
   },
   {
    "duration": 733,
    "start_time": "2022-03-23T14:21:41.998Z"
   },
   {
    "duration": 515,
    "start_time": "2022-03-23T14:22:08.984Z"
   },
   {
    "duration": 1036,
    "start_time": "2022-03-23T14:23:00.111Z"
   },
   {
    "duration": 515,
    "start_time": "2022-03-23T14:23:48.586Z"
   },
   {
    "duration": 1048,
    "start_time": "2022-03-23T14:24:02.995Z"
   },
   {
    "duration": 24,
    "start_time": "2022-03-23T14:24:04.045Z"
   },
   {
    "duration": 13,
    "start_time": "2022-03-23T14:24:04.072Z"
   },
   {
    "duration": 20,
    "start_time": "2022-03-23T14:24:04.088Z"
   },
   {
    "duration": 36,
    "start_time": "2022-03-23T14:24:04.110Z"
   },
   {
    "duration": 15,
    "start_time": "2022-03-23T14:24:04.148Z"
   },
   {
    "duration": 20,
    "start_time": "2022-03-23T14:24:04.166Z"
   },
   {
    "duration": 108,
    "start_time": "2022-03-23T14:24:04.188Z"
   },
   {
    "duration": 11,
    "start_time": "2022-03-23T14:24:04.298Z"
   },
   {
    "duration": 43,
    "start_time": "2022-03-23T14:24:04.313Z"
   },
   {
    "duration": 68,
    "start_time": "2022-03-23T14:24:04.359Z"
   },
   {
    "duration": 12,
    "start_time": "2022-03-23T14:24:04.444Z"
   },
   {
    "duration": 24,
    "start_time": "2022-03-23T14:24:04.458Z"
   },
   {
    "duration": 81,
    "start_time": "2022-03-23T14:24:04.485Z"
   },
   {
    "duration": 11,
    "start_time": "2022-03-23T14:24:04.568Z"
   },
   {
    "duration": 23,
    "start_time": "2022-03-23T14:24:04.581Z"
   },
   {
    "duration": 9,
    "start_time": "2022-03-23T14:24:04.607Z"
   },
   {
    "duration": 15,
    "start_time": "2022-03-23T14:24:04.643Z"
   },
   {
    "duration": 17,
    "start_time": "2022-03-23T14:24:04.660Z"
   },
   {
    "duration": 13,
    "start_time": "2022-03-23T14:24:04.679Z"
   },
   {
    "duration": 12,
    "start_time": "2022-03-23T14:24:04.694Z"
   },
   {
    "duration": 208,
    "start_time": "2022-03-23T14:24:04.708Z"
   },
   {
    "duration": 10,
    "start_time": "2022-03-23T14:24:04.918Z"
   },
   {
    "duration": 21,
    "start_time": "2022-03-23T14:24:04.930Z"
   },
   {
    "duration": 3718,
    "start_time": "2022-03-23T14:24:04.954Z"
   },
   {
    "duration": 13,
    "start_time": "2022-03-23T14:24:08.675Z"
   },
   {
    "duration": 8,
    "start_time": "2022-03-23T14:24:08.690Z"
   },
   {
    "duration": 7,
    "start_time": "2022-03-23T14:24:08.703Z"
   },
   {
    "duration": 62,
    "start_time": "2022-03-23T14:24:08.712Z"
   },
   {
    "duration": 26,
    "start_time": "2022-03-23T14:24:08.776Z"
   },
   {
    "duration": 1529,
    "start_time": "2022-03-23T14:24:08.804Z"
   },
   {
    "duration": 571,
    "start_time": "2022-03-23T14:24:10.342Z"
   },
   {
    "duration": 618,
    "start_time": "2022-03-23T14:24:10.915Z"
   },
   {
    "duration": 8,
    "start_time": "2022-03-23T14:24:11.542Z"
   },
   {
    "duration": 16,
    "start_time": "2022-03-23T14:24:11.552Z"
   },
   {
    "duration": 17,
    "start_time": "2022-03-23T14:24:11.571Z"
   },
   {
    "duration": 641,
    "start_time": "2022-03-23T14:24:11.591Z"
   },
   {
    "duration": 503,
    "start_time": "2022-03-23T14:24:12.235Z"
   },
   {
    "duration": 549,
    "start_time": "2022-03-23T14:24:12.740Z"
   },
   {
    "duration": 7,
    "start_time": "2022-03-23T14:24:13.292Z"
   },
   {
    "duration": 9,
    "start_time": "2022-03-23T14:24:13.301Z"
   },
   {
    "duration": 33,
    "start_time": "2022-03-23T14:24:13.312Z"
   },
   {
    "duration": 9,
    "start_time": "2022-03-23T14:24:13.348Z"
   },
   {
    "duration": 734,
    "start_time": "2022-04-03T06:59:09.157Z"
   },
   {
    "duration": 15,
    "start_time": "2022-04-03T06:59:09.893Z"
   },
   {
    "duration": 8,
    "start_time": "2022-04-03T06:59:09.909Z"
   },
   {
    "duration": 9,
    "start_time": "2022-04-03T06:59:09.920Z"
   },
   {
    "duration": 9,
    "start_time": "2022-04-03T06:59:09.930Z"
   },
   {
    "duration": 12,
    "start_time": "2022-04-03T06:59:09.940Z"
   },
   {
    "duration": 14,
    "start_time": "2022-04-03T06:59:09.953Z"
   },
   {
    "duration": 63,
    "start_time": "2022-04-03T06:59:09.968Z"
   },
   {
    "duration": 7,
    "start_time": "2022-04-03T06:59:10.033Z"
   },
   {
    "duration": 35,
    "start_time": "2022-04-03T06:59:10.043Z"
   },
   {
    "duration": 49,
    "start_time": "2022-04-03T06:59:10.080Z"
   },
   {
    "duration": 8,
    "start_time": "2022-04-03T06:59:10.130Z"
   },
   {
    "duration": 29,
    "start_time": "2022-04-03T06:59:10.139Z"
   },
   {
    "duration": 34,
    "start_time": "2022-04-03T06:59:10.170Z"
   },
   {
    "duration": 7,
    "start_time": "2022-04-03T06:59:10.205Z"
   },
   {
    "duration": 16,
    "start_time": "2022-04-03T06:59:10.213Z"
   },
   {
    "duration": 7,
    "start_time": "2022-04-03T06:59:10.230Z"
   },
   {
    "duration": 9,
    "start_time": "2022-04-03T06:59:10.263Z"
   },
   {
    "duration": 11,
    "start_time": "2022-04-03T06:59:10.274Z"
   },
   {
    "duration": 7,
    "start_time": "2022-04-03T06:59:10.287Z"
   },
   {
    "duration": 7,
    "start_time": "2022-04-03T06:59:10.296Z"
   },
   {
    "duration": 148,
    "start_time": "2022-04-03T06:59:10.305Z"
   },
   {
    "duration": 9,
    "start_time": "2022-04-03T06:59:10.455Z"
   },
   {
    "duration": 7,
    "start_time": "2022-04-03T06:59:10.466Z"
   },
   {
    "duration": 8,
    "start_time": "2022-04-03T06:59:10.474Z"
   },
   {
    "duration": 2120,
    "start_time": "2022-04-03T06:59:10.484Z"
   },
   {
    "duration": 8,
    "start_time": "2022-04-03T06:59:12.606Z"
   },
   {
    "duration": 5,
    "start_time": "2022-04-03T06:59:12.617Z"
   },
   {
    "duration": 6,
    "start_time": "2022-04-03T06:59:12.623Z"
   },
   {
    "duration": 36,
    "start_time": "2022-04-03T06:59:12.631Z"
   },
   {
    "duration": 17,
    "start_time": "2022-04-03T06:59:12.668Z"
   },
   {
    "duration": 1294,
    "start_time": "2022-04-03T06:59:12.687Z"
   },
   {
    "duration": 297,
    "start_time": "2022-04-03T06:59:13.982Z"
   },
   {
    "duration": 323,
    "start_time": "2022-04-03T06:59:14.281Z"
   },
   {
    "duration": 5,
    "start_time": "2022-04-03T06:59:14.606Z"
   },
   {
    "duration": 13,
    "start_time": "2022-04-03T06:59:14.612Z"
   },
   {
    "duration": 13,
    "start_time": "2022-04-03T06:59:14.627Z"
   },
   {
    "duration": 386,
    "start_time": "2022-04-03T06:59:14.641Z"
   },
   {
    "duration": 281,
    "start_time": "2022-04-03T06:59:15.029Z"
   },
   {
    "duration": 292,
    "start_time": "2022-04-03T06:59:15.311Z"
   },
   {
    "duration": 5,
    "start_time": "2022-04-03T06:59:15.604Z"
   },
   {
    "duration": 7,
    "start_time": "2022-04-03T06:59:15.611Z"
   },
   {
    "duration": 8,
    "start_time": "2022-04-03T06:59:15.620Z"
   },
   {
    "duration": 7,
    "start_time": "2022-04-03T06:59:15.629Z"
   },
   {
    "duration": 761,
    "start_time": "2022-04-03T09:29:26.923Z"
   },
   {
    "duration": 15,
    "start_time": "2022-04-03T09:29:27.686Z"
   },
   {
    "duration": 7,
    "start_time": "2022-04-03T09:29:27.703Z"
   },
   {
    "duration": 9,
    "start_time": "2022-04-03T09:29:27.712Z"
   },
   {
    "duration": 7,
    "start_time": "2022-04-03T09:29:27.723Z"
   },
   {
    "duration": 10,
    "start_time": "2022-04-03T09:29:27.732Z"
   },
   {
    "duration": 8,
    "start_time": "2022-04-03T09:29:27.743Z"
   },
   {
    "duration": 69,
    "start_time": "2022-04-03T09:29:27.752Z"
   },
   {
    "duration": 7,
    "start_time": "2022-04-03T09:29:27.823Z"
   },
   {
    "duration": 32,
    "start_time": "2022-04-03T09:29:27.832Z"
   },
   {
    "duration": 45,
    "start_time": "2022-04-03T09:29:27.865Z"
   },
   {
    "duration": 7,
    "start_time": "2022-04-03T09:29:27.912Z"
   },
   {
    "duration": 16,
    "start_time": "2022-04-03T09:29:27.921Z"
   },
   {
    "duration": 51,
    "start_time": "2022-04-03T09:29:27.938Z"
   },
   {
    "duration": 7,
    "start_time": "2022-04-03T09:29:27.990Z"
   },
   {
    "duration": 16,
    "start_time": "2022-04-03T09:29:27.999Z"
   },
   {
    "duration": 6,
    "start_time": "2022-04-03T09:29:28.017Z"
   },
   {
    "duration": 11,
    "start_time": "2022-04-03T09:29:28.024Z"
   },
   {
    "duration": 33,
    "start_time": "2022-04-03T09:29:28.036Z"
   },
   {
    "duration": 9,
    "start_time": "2022-04-03T09:29:28.070Z"
   },
   {
    "duration": 8,
    "start_time": "2022-04-03T09:29:28.080Z"
   },
   {
    "duration": 144,
    "start_time": "2022-04-03T09:29:28.089Z"
   },
   {
    "duration": 4,
    "start_time": "2022-04-03T09:29:28.235Z"
   },
   {
    "duration": 23,
    "start_time": "2022-04-03T09:29:28.241Z"
   },
   {
    "duration": 7,
    "start_time": "2022-04-03T09:29:28.265Z"
   },
   {
    "duration": 7,
    "start_time": "2022-04-03T09:29:28.273Z"
   },
   {
    "duration": 2791,
    "start_time": "2022-04-03T09:29:28.281Z"
   },
   {
    "duration": 9,
    "start_time": "2022-04-03T09:29:31.075Z"
   },
   {
    "duration": 11,
    "start_time": "2022-04-03T09:29:31.085Z"
   },
   {
    "duration": 15,
    "start_time": "2022-04-03T09:29:31.097Z"
   },
   {
    "duration": 24,
    "start_time": "2022-04-03T09:29:31.113Z"
   },
   {
    "duration": 26,
    "start_time": "2022-04-03T09:29:31.139Z"
   },
   {
    "duration": 1043,
    "start_time": "2022-04-03T09:29:31.167Z"
   },
   {
    "duration": 307,
    "start_time": "2022-04-03T09:29:32.212Z"
   },
   {
    "duration": 344,
    "start_time": "2022-04-03T09:29:32.521Z"
   },
   {
    "duration": 5,
    "start_time": "2022-04-03T09:29:32.867Z"
   },
   {
    "duration": 18,
    "start_time": "2022-04-03T09:29:32.873Z"
   },
   {
    "duration": 18,
    "start_time": "2022-04-03T09:29:32.893Z"
   },
   {
    "duration": 362,
    "start_time": "2022-04-03T09:29:32.912Z"
   },
   {
    "duration": 268,
    "start_time": "2022-04-03T09:29:33.276Z"
   },
   {
    "duration": 285,
    "start_time": "2022-04-03T09:29:33.546Z"
   },
   {
    "duration": 4,
    "start_time": "2022-04-03T09:29:33.834Z"
   },
   {
    "duration": 16,
    "start_time": "2022-04-03T09:29:33.840Z"
   },
   {
    "duration": 13,
    "start_time": "2022-04-03T09:29:33.863Z"
   },
   {
    "duration": 20,
    "start_time": "2022-04-03T09:29:33.878Z"
   }
  ],
  "kernelspec": {
   "display_name": "Python 3 (ipykernel)",
   "language": "python",
   "name": "python3"
  },
  "language_info": {
   "codemirror_mode": {
    "name": "ipython",
    "version": 3
   },
   "file_extension": ".py",
   "mimetype": "text/x-python",
   "name": "python",
   "nbconvert_exporter": "python",
   "pygments_lexer": "ipython3",
   "version": "3.9.7"
  },
  "toc": {
   "base_numbering": 1,
   "nav_menu": {},
   "number_sections": true,
   "sideBar": true,
   "skip_h1_title": true,
   "title_cell": "Table of Contents",
   "title_sidebar": "Содержание",
   "toc_cell": false,
   "toc_position": {
    "height": "calc(100% - 180px)",
    "left": "10px",
    "top": "150px",
    "width": "366.396px"
   },
   "toc_section_display": true,
   "toc_window_display": true
  }
 },
 "nbformat": 4,
 "nbformat_minor": 2
}
